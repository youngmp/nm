{
 "cells": [
  {
   "cell_type": "markdown",
   "id": "ff90a39b-e0db-4e1f-9695-8a7833adcc09",
   "metadata": {},
   "source": [
    "# thal1 Fourier Coefficients"
   ]
  },
  {
   "cell_type": "markdown",
   "id": "179a8549-acee-46cd-9a35-d22c7bd82b10",
   "metadata": {},
   "source": [
    "Get Fourier coefficients for $\\mathcal{H}$-functions. To be used to generate two-parameter bifurcation diagrams."
   ]
  },
  {
   "cell_type": "markdown",
   "id": "fdccec32-d0e4-4232-8417-40e5796cbcf8",
   "metadata": {},
   "source": [
    "# Inits"
   ]
  },
  {
   "cell_type": "code",
   "execution_count": 1,
   "id": "77a223ba-9eaa-4986-abd1-d82273741aaa",
   "metadata": {},
   "outputs": [],
   "source": [
    "import sys; sys.path.insert(0, '..') # add parent folder path where lib folder is\n",
    "# user-defined\n",
    "import nmCoupling as nm\n",
    "# import nmCoupling_old as nm\n",
    "import response as rp\n",
    "\n",
    "import thal1 as t1\n",
    "from lib.functions import g1,p\n",
    "\n",
    "#from lib.util import (get_phase, _get_sol,load_bif1d_f,load_phis_force, get_init_point_force, )\n",
    "\n",
    "from generate_figures import _full_thal1\n",
    "\n",
    "from lib.rhs import _redu_c, _full, rhs_avg_1df\n",
    "from lib.plot_util import add_diagram_1d\n",
    "\n",
    "import numpy as np\n",
    "import scipy as sp\n",
    "import matplotlib.pyplot as plt\n",
    "from scipy.integrate import solve_ivp\n",
    "import sympy as sym\n",
    "\n",
    "from scipy.optimize import root,bisect\n",
    "from copy import deepcopy\n",
    "import os\n",
    "\n",
    "plt.rcParams.update({\n",
    "    \"text.usetex\": True,\n",
    "    \"font.family\": \"Helvetica\"\n",
    "})\n",
    "\n",
    "nmc = nm.nmCoupling\n",
    "rsp = rp.Response"
   ]
  },
  {
   "cell_type": "markdown",
   "id": "b47f2268-a388-49b0-9e44-c40fdbebd797",
   "metadata": {},
   "source": [
    "## Dicts"
   ]
  },
  {
   "cell_type": "code",
   "execution_count": 2,
   "id": "c9ab9f3c-3c28-4915-aaa6-d6d34729f5f4",
   "metadata": {},
   "outputs": [],
   "source": [
    "kw_sim = {'rtol':1e-6,'atol':1e-6,'method':'LSODA'}"
   ]
  },
  {
   "cell_type": "code",
   "execution_count": 3,
   "id": "8a99b9b4-362a-48cc-83ec-a30b61ff40dd",
   "metadata": {},
   "outputs": [],
   "source": [
    "pd1 = {'gL':0.05,'gna':3,'gk':5,\n",
    "       'gt':5,'eL':-70,'ena':50,\n",
    "       'ek':-90,'et':0,'esyn':-1,\n",
    "       'c':1,'alpha':3,'beta':2,\n",
    "       'sigmat':0.8,'vt':-20,\n",
    "       'ib':8.5,'del':0,'om':1,'om_fix':1}"
   ]
  },
  {
   "cell_type": "code",
   "execution_count": 4,
   "id": "0c6bb0a6-32dd-4e94-ba75-304548cb45d1",
   "metadata": {},
   "outputs": [],
   "source": [
    "# default period must be 2*np.pi\n",
    "kws1 = {'var_names':['v','h','r'],\n",
    "        'pardict':pd1,\n",
    "        'rhs':t1.rhs,\n",
    "        #'forcing_fn':[lambda x: -np.cos(x),lambda x:20*np.cos(x+1)],\n",
    "        'forcing_fn':[g1,lambda x:-20*g1(x+1)],\n",
    "        'init':np.array([-.64,0.71,0,10.6]),\n",
    "        'TN':20000,\n",
    "        'trunc_order':1,\n",
    "        'z_forward':False,\n",
    "        'i_forward':False,\n",
    "        'i_bad_dx':[False,True,False,False],\n",
    "        'max_iter':20,\n",
    "        'rtol':1e-12,\n",
    "        'atol':1e-12,\n",
    "        'rel_tol':1e-9,\n",
    "        'save_fig':False,\n",
    "        'lc_prominence':.05,\n",
    "        'factor':1,\n",
    "        'save_fig':True}"
   ]
  },
  {
   "cell_type": "markdown",
   "id": "6bb877bf-ec4b-408f-97f5-396af96862c5",
   "metadata": {},
   "source": [
    "## Defs"
   ]
  },
  {
   "cell_type": "code",
   "execution_count": 5,
   "id": "42a656f8-90b9-42ee-9cf3-7c4d8db63378",
   "metadata": {},
   "outputs": [],
   "source": [
    "kw_bif = {'method':'LSODA','dense_output':True,'rtol':1e-9,'atol':1e-9}"
   ]
  },
  {
   "cell_type": "code",
   "execution_count": 6,
   "id": "b2187a9d-b86b-4750-8470-1b9db3a9ab60",
   "metadata": {},
   "outputs": [],
   "source": [
    "eps_list11r = np.linspace(0.001,.1,50)\n",
    "etup11 = (.001,.1,50)"
   ]
  },
  {
   "cell_type": "code",
   "execution_count": 7,
   "id": "49334e78-8339-4c08-8e62-f7a9cad9c3b7",
   "metadata": {
    "editable": true,
    "slideshow": {
     "slide_type": ""
    },
    "tags": []
   },
   "outputs": [],
   "source": [
    "x_temp = np.linspace(-np.pi,3*np.pi,500)"
   ]
  },
  {
   "cell_type": "code",
   "execution_count": 8,
   "id": "e4d21bac-385e-48df-bdba-2a25e7dac273",
   "metadata": {},
   "outputs": [],
   "source": [
    "def get_coeffs(a,k):\n",
    "    coeffs = np.fft.fft(a.system1.h['dat'][k])\n",
    "    \n",
    "    # get coeffs above threshold\n",
    "    threshold = 0.1\n",
    "    coeffs_re_all = np.real(coeffs)\n",
    "    coeffs_im_all = np.imag(coeffs)\n",
    "    nn = np.arange(len(coeffs),dtype='int')\n",
    "    \n",
    "    coeffs_re_bool = (np.abs(coeffs_re_all) > threshold)*(nn<a.NH/2)\n",
    "    coeffs_im_bool = (np.abs(coeffs_im_all) > threshold)*(nn<a.NH/2)\n",
    "    \n",
    "    print(coeffs_re_bool.sum(),np.where(coeffs_re_bool>0))\n",
    "    print(coeffs_im_bool.sum(),np.where(coeffs_im_bool>0))\n",
    "    \n",
    "    print('re',coeffs_re_all[coeffs_re_bool])\n",
    "    print('im',coeffs_im_all[coeffs_im_bool])\n",
    "    \n",
    "    freqs = np.fft.fftfreq(len(coeffs),d=(1/a.NH))\n",
    "    \n",
    "    coeffs_re = coeffs_re_all[coeffs_re_bool]\n",
    "    coeffs_im = coeffs_im_all[coeffs_im_bool]\n",
    "    \n",
    "    freqs[coeffs_re_bool]\n",
    "\n",
    "    return coeffs_re, coeffs_im, freqs[coeffs_re_bool], freqs[coeffs_im_bool]\n",
    "\n",
    "def call_fourier_series(a,coeffs_re,coeffs_im,fr,fi):\n",
    "    tot = 0\n",
    "    for i,c in enumerate(coeffs_re):\n",
    "        if fr[i] == 0:\n",
    "            tot += c/a11.NH\n",
    "        else:\n",
    "            tot += 2*c*np.cos(a.x*fr[i])/a.NH\n",
    "    \n",
    "    for i,c in enumerate(coeffs_im):\n",
    "        tot += -2*c*np.sin(a.x*fi[i])/a.NH\n",
    "\n",
    "    return tot\n",
    "\n",
    "def print_fourier_series(a,coeffs_re,coeffs_im,fr,fi):\n",
    "    # display copy/paste-able equation\n",
    "    eq = ''\n",
    "    for i,c in enumerate(coeffs_re):\n",
    "        if fr[i] == 0:\n",
    "            eq += '{:.4f}'.format(c/a11.NH)\n",
    "        else:\n",
    "            eq += '+2*cos(x*{})*({:.4f})'.format(fr[i],c/a.NH)\n",
    "    \n",
    "    for i,c in enumerate(coeffs_im):\n",
    "        eq += '-2*sin(x*{})*({:.4f})'.format(fi[i],c/a.NH)\n",
    "        #tot += -2*c*np.sin(x*freqs[coeffs_re_bool][i])/a11.NH\n",
    "    return eq\n"
   ]
  },
  {
   "cell_type": "markdown",
   "id": "14505b64-ae3d-4f74-aaac-13de7c6a63e8",
   "metadata": {},
   "source": [
    "## Initialize Response Functions"
   ]
  },
  {
   "cell_type": "code",
   "execution_count": 9,
   "id": "c26af2d2-6124-4421-b0be-b28a9d2ed6e1",
   "metadata": {
    "editable": true,
    "slideshow": {
     "slide_type": ""
    },
    "tags": []
   },
   "outputs": [
    {
     "name": "stdout",
     "output_type": "stream",
     "text": [
      "mkdir ./data/thalf0/\n",
      "* Loading LC data...\n",
      "self.T 6.283185307179586 omfix 0.9901981420040301\n",
      "LC0 ini[-0.10742889  0.22848616  0.09385013]\n",
      "LC0 fin[-0.10742888  0.22848617  0.09385012]\n",
      "* Loading monodromy...\n",
      "* Floquet Exponent kappa =-0.024354476053972264\n",
      "* Loading g symbolic...\n",
      "* Computing g...\n",
      "g0 ini[0. 0. 0.]\n",
      "g0 fin[0. 0. 0.]\n",
      "g1 ini[-0.00392138  0.93590097  0.35224138]\n",
      "g1 fin[-0.00392138  0.93590097  0.35224138]\n",
      "* Loading heterogeneous terms...\n",
      "* Computing z...\n",
      "z0 ini[-0.86890695 -1.20965439  3.20436344]\n",
      "z0 fin[-0.86890694 -1.20965437  3.20436339]\n",
      "z1 ini[ 2.63290751  1.04789014 -0.20900062]\n",
      "z1 fin[ 2.63290751  1.04789014 -0.20900062]\n",
      "* Computing i...\n",
      "i0 ini[ 0.14832161 -0.01130593  2.87065321]\n",
      "i0 fin[ 0.14832161 -0.01130593  2.87065321]\n",
      "i1 ini[-0.08308497  0.69291962 -0.06360566]\n",
      "i1 fin[-0.08308503  0.69291955 -0.06360565]\n"
     ]
    }
   ],
   "source": [
    "system1 = rsp(idx=0,model_name='thalf0',**kws1)"
   ]
  },
  {
   "cell_type": "markdown",
   "id": "9aa03dbf-c31d-4127-8b48-2837b7062ca4",
   "metadata": {},
   "source": [
    "# 1:1"
   ]
  },
  {
   "cell_type": "code",
   "execution_count": 10,
   "id": "4fcb9ee7-431d-4c98-b628-9042a78b2e19",
   "metadata": {},
   "outputs": [],
   "source": [
    "#recompute_list = ['h_data_cglf0','h_data_cglf0','p_data_cglf0','p_data_cglf0']\n",
    "recompute_list = []\n",
    "kw_nm11 = {'system1':system1,'system2':None,'_n':('om0',1),'_m':('om1',1),\n",
    "         'NH':1024,'save_fig':False,'recompute_list':recompute_list}"
   ]
  },
  {
   "cell_type": "code",
   "execution_count": 11,
   "id": "0dd24f55-bb32-4d98-8d90-c83d9423a102",
   "metadata": {},
   "outputs": [
    {
     "name": "stdout",
     "output_type": "stream",
     "text": [
      "u expr eps**2*f2 + eps*f1\n",
      "tmp eps**3*f2*i_thalf0_v0[1]*p_thalf0[1] + eps**2*(f1*i_thalf0_v0[1]*p_thalf0[1] + f2*i_thalf0_v0[0]) + eps*f1*i_thalf0_v0[0]\n",
      "p sym k 0\n",
      "p sym k f_imp1(th1)*iv0_0(th0)\n",
      "h sym 0 f_imp1(th1)*zv0_0(th0)\n",
      "h sym 1 f_imp1(th1)*zv0_1(th0)*p_thalf0[1] + f_imp2(th1)*zv0_0(th0)\n",
      "* Loading p...\n",
      "* Loading H thalf0, order=0...\n",
      "* Loading H thalf0, order=1...\n"
     ]
    }
   ],
   "source": [
    "del11_p01 = 0.01\n",
    "a11 = nm.nmCoupling(**kw_nm11, del1=del11_p01)"
   ]
  },
  {
   "cell_type": "markdown",
   "id": "9326083b-f3a7-44e5-9f93-d6d854432051",
   "metadata": {},
   "source": [
    "Might need to stick with Fourier coefficients. At least for CGL. Much simpler this way."
   ]
  },
  {
   "cell_type": "markdown",
   "id": "21faf86c-fe44-482d-bb64-4a51cd311fae",
   "metadata": {},
   "source": [
    "Recall: Given the fourier coefficients $c_n$ for $n \\in\\mathbb{Z}$ and supposing that $c_n = a_n + i b_n$, the real Fourier series is given by,\n",
    "$$\\sum_{n =1}^\\infty 2 a_n \\cos(n \\omega t) - 2 b_n \\sin(n \\omega t).$$\n",
    "So I really only need to save the coefficients for positive frequencies and double them. "
   ]
  },
  {
   "cell_type": "markdown",
   "id": "28f468ee-f9f8-4147-a122-e634736e58ee",
   "metadata": {},
   "source": [
    "Goal: given a function, display a list of coefficients (maybe implement text output to copy/past into XPP)"
   ]
  },
  {
   "cell_type": "markdown",
   "id": "90f97b86-5a33-4cfc-a101-065fb841449b",
   "metadata": {},
   "source": [
    "## eps coeffs"
   ]
  },
  {
   "cell_type": "code",
   "execution_count": 12,
   "id": "88fe5639-c008-4c93-875d-36cc10702c78",
   "metadata": {},
   "outputs": [
    {
     "name": "stdout",
     "output_type": "stream",
     "text": [
      "4 (array([1, 2, 3, 4]),)\n",
      "4 (array([1, 2, 3, 4]),)\n",
      "re [5.91663184e+02 6.08190558e+01 7.16041352e+00 4.95952205e-01]\n",
      "im [-656.12918255  -38.17516767    7.12827312    0.97103573]\n"
     ]
    }
   ],
   "source": [
    "coeffs_re, coeffs_im, fr, fi = get_coeffs(a11,0)"
   ]
  },
  {
   "cell_type": "code",
   "execution_count": 13,
   "id": "b7cf4f81-4e58-4bd0-8bcb-bf8b1119c312",
   "metadata": {},
   "outputs": [
    {
     "name": "stdout",
     "output_type": "stream",
     "text": [
      "+2*cos(x*1.0)*(0.5778)+2*cos(x*2.0)*(0.0594)+2*cos(x*3.0)*(0.0070)+2*cos(x*4.0)*(0.0005)-2*sin(x*1.0)*(-0.6408)-2*sin(x*2.0)*(-0.0373)-2*sin(x*3.0)*(0.0070)-2*sin(x*4.0)*(0.0009)\n"
     ]
    }
   ],
   "source": [
    "tot = call_fourier_series(a11,coeffs_re,coeffs_im,fr,fi)\n",
    "print(print_fourier_series(a11,coeffs_re,coeffs_im,fr,fi))"
   ]
  },
  {
   "cell_type": "code",
   "execution_count": 14,
   "id": "de8eb29e-e322-4873-a00d-44a46e953e30",
   "metadata": {},
   "outputs": [
    {
     "data": {
      "text/plain": [
       "[<matplotlib.lines.Line2D at 0x138e8ace0>]"
      ]
     },
     "execution_count": 14,
     "metadata": {},
     "output_type": "execute_result"
    },
    {
     "data": {
      "image/png": "[encoded data removed]",
      "text/plain": [
       "<Figure size 400x200 with 1 Axes>"
      ]
     },
     "metadata": {},
     "output_type": "display_data"
    }
   ],
   "source": [
    "fig,axs = plt.subplots(figsize=(4,2))\n",
    "axs.plot(a11.x,tot)\n",
    "axs.plot(a11.x,a11.system1.h['dat'][0])"
   ]
  },
  {
   "cell_type": "markdown",
   "id": "5dd16685-02df-44d3-8582-38cedb8ad919",
   "metadata": {},
   "source": [
    "## eps^2 coeffs"
   ]
  },
  {
   "cell_type": "code",
   "execution_count": 15,
   "id": "278bb5d5-76fd-4ffc-9bc7-7ff8340a7c7c",
   "metadata": {},
   "outputs": [
    {
     "name": "stdout",
     "output_type": "stream",
     "text": [
      "7 (array([0, 1, 2, 3, 4, 5, 6]),)\n",
      "7 (array([1, 2, 3, 4, 5, 6, 7]),)\n",
      "re [ 2.34386311e+03  4.94670324e+03  9.41119832e+02  2.38562375e+02  3.10999141e+01 -2.31010159e+00 -2.16862610e-01]\n",
      "im [1.68322243e+04 2.01861543e+03 4.23684427e+02 1.46508090e+00 1.27827257e+00 1.16680318e+00 1.75557251e-01]\n"
     ]
    }
   ],
   "source": [
    "coeffs_re, coeffs_im, fr, fi = get_coeffs(a11,1)"
   ]
  },
  {
   "cell_type": "code",
   "execution_count": 16,
   "id": "945d5e82-cded-4ae7-9433-a3c1bbcaf0e6",
   "metadata": {},
   "outputs": [
    {
     "name": "stdout",
     "output_type": "stream",
     "text": [
      "2.2889+2*cos(x*1.0)*(4.8308)+2*cos(x*2.0)*(0.9191)+2*cos(x*3.0)*(0.2330)+2*cos(x*4.0)*(0.0304)+2*cos(x*5.0)*(-0.0023)+2*cos(x*6.0)*(-0.0002)-2*sin(x*1.0)*(16.4377)-2*sin(x*2.0)*(1.9713)-2*sin(x*3.0)*(0.4138)-2*sin(x*4.0)*(0.0014)-2*sin(x*5.0)*(0.0012)-2*sin(x*6.0)*(0.0011)-2*sin(x*7.0)*(0.0002)\n"
     ]
    }
   ],
   "source": [
    "tot = call_fourier_series(a11,coeffs_re,coeffs_im,fr,fi)\n",
    "print(print_fourier_series(a11,coeffs_re,coeffs_im,fr,fi))"
   ]
  },
  {
   "cell_type": "code",
   "execution_count": 17,
   "id": "8e149d92-3317-4877-a906-157f232aaf0e",
   "metadata": {},
   "outputs": [
    {
     "data": {
      "text/plain": [
       "[<matplotlib.lines.Line2D at 0x138de8b50>]"
      ]
     },
     "execution_count": 17,
     "metadata": {},
     "output_type": "execute_result"
    },
    {
     "data": {
      "image/png": "[encoded data removed]",
      "text/plain": [
       "<Figure size 400x200 with 1 Axes>"
      ]
     },
     "metadata": {},
     "output_type": "display_data"
    }
   ],
   "source": [
    "fig,axs = plt.subplots(figsize=(4,2))\n",
    "axs.plot(a11.x,tot)\n",
    "axs.plot(a11.x,a11.system1.h['dat'][1])"
   ]
  },
  {
   "cell_type": "markdown",
   "id": "aba012b6-0e80-4073-9709-64e091dc2fcc",
   "metadata": {},
   "source": [
    "## eps^3 coeffs"
   ]
  },
  {
   "cell_type": "code",
   "execution_count": 18,
   "id": "cd1c5553-d45d-4a97-802c-a172958a603f",
   "metadata": {},
   "outputs": [],
   "source": [
    "# coeffs_re, coeffs_im, fr, fi = get_coeffs(a11,2)"
   ]
  },
  {
   "cell_type": "code",
   "execution_count": 19,
   "id": "9eee3680-2136-4a47-ae39-456f0e1f8c17",
   "metadata": {},
   "outputs": [],
   "source": [
    "# tot = call_fourier_series(a11,coeffs_re,coeffs_im,fr,fi)\n",
    "# print(print_fourier_series(a11,coeffs_re,coeffs_im,fr,fi))"
   ]
  },
  {
   "cell_type": "code",
   "execution_count": 20,
   "id": "7be2ef13-f03d-494a-9724-ad02332cb68b",
   "metadata": {},
   "outputs": [],
   "source": [
    "# fig,axs = plt.subplots(figsize=(4,2))\n",
    "# axs.plot(a11.x,tot)\n",
    "# axs.plot(a11.x,a11.system1.h['dat'][2])"
   ]
  },
  {
   "cell_type": "markdown",
   "id": "e5aad16b-8728-4c90-aaa9-aed46a8d7451",
   "metadata": {},
   "source": [
    "## Save data"
   ]
  },
  {
   "cell_type": "code",
   "execution_count": 21,
   "id": "0d74c929-3954-42e9-bdf1-9087e04db873",
   "metadata": {},
   "outputs": [],
   "source": [
    "# xlo = a11.x[0]\n",
    "# xhi = a11.x[-1]\n",
    "# npts = len(a11.x)\n",
    "# fname = 'xtab{}{}o{}.dat'\n",
    "\n",
    "# if not(os.path.isdir(data_dir)):\n",
    "#     os.mkdir(data_dir)\n",
    "\n",
    "# for k in range(a11.system1.miter):\n",
    "#     d = a11.system1.h['dat'][k]\n",
    "#     d = np.insert(d,0,xhi)\n",
    "#     d = np.insert(d,0,xlo)\n",
    "#     d = np.insert(d,0,npts)\n",
    "#     np.savetxt((data_dir+fname).format(a11._n[1],a11._m[1],k),d,\n",
    "#               fmt='%.18f')"
   ]
  },
  {
   "cell_type": "markdown",
   "id": "5f558466-070e-4501-9d7a-2bd5bdc44d44",
   "metadata": {},
   "source": [
    "# 2:1"
   ]
  },
  {
   "cell_type": "code",
   "execution_count": 22,
   "id": "12491e06-0608-4ee2-ae4f-e79fa652eff6",
   "metadata": {},
   "outputs": [],
   "source": [
    "#recompute_list = ['h_data_cglf0','h_data_cglf0','p_data_cglf0','p_data_cglf0']\n",
    "recompute_list = []\n",
    "kw_nm21 = {'system1':system1,'system2':None,'_n':('om0',2),'_m':('om1',1),\n",
    "         'NH':1024,'save_fig':False,'recompute_list':recompute_list}"
   ]
  },
  {
   "cell_type": "code",
   "execution_count": 23,
   "id": "1241499e-6300-4b15-a027-1598b5d43531",
   "metadata": {
    "editable": true,
    "slideshow": {
     "slide_type": ""
    },
    "tags": []
   },
   "outputs": [
    {
     "name": "stdout",
     "output_type": "stream",
     "text": [
      "u expr eps**2*f2 + eps*f1\n",
      "tmp eps**3*f2*i_thalf0_v0[1]*p_thalf0[1] + eps**2*(f1*i_thalf0_v0[1]*p_thalf0[1] + f2*i_thalf0_v0[0]) + eps*f1*i_thalf0_v0[0]\n",
      "p sym k 0\n",
      "p sym k f_imp1(th1)*iv0_0(th0)\n",
      "h sym 0 f_imp1(th1)*zv0_0(th0)\n",
      "h sym 1 f_imp1(th1)*zv0_1(th0)*p_thalf0[1] + f_imp2(th1)*zv0_0(th0)\n",
      "* Loading p...\n",
      "p order=0\n",
      "* Computing H thalf0, order=0...\n",
      "p order=1\n",
      "system1 p f_imp1(th1)*iv0_0(th0) k= 1\n",
      "* Computing H thalf0, order=1...\n"
     ]
    }
   ],
   "source": [
    "del21_p01 = 0.01\n",
    "a21 = nm.nmCoupling(**kw_nm21, del1=del21_p01)"
   ]
  },
  {
   "cell_type": "markdown",
   "id": "17889113-f3cb-4f26-8638-099d68e61dc0",
   "metadata": {},
   "source": [
    "## eps coeffs"
   ]
  },
  {
   "cell_type": "code",
   "execution_count": 24,
   "id": "2e252fa0-6185-4c49-999a-4f8665e0b752",
   "metadata": {},
   "outputs": [
    {
     "name": "stdout",
     "output_type": "stream",
     "text": [
      "2 (array([2, 4]),)\n",
      "2 (array([2, 4]),)\n",
      "re [279.48189871   3.02800249]\n",
      "im [-309.93348011   -1.90062968]\n"
     ]
    }
   ],
   "source": [
    "coeffs_re, coeffs_im, fr, fi = get_coeffs(a21,0)"
   ]
  },
  {
   "cell_type": "code",
   "execution_count": 25,
   "id": "d87a221c-af86-4a41-bdf7-f8388c991005",
   "metadata": {},
   "outputs": [
    {
     "name": "stdout",
     "output_type": "stream",
     "text": [
      "+2*cos(x*2.0)*(0.2729)+2*cos(x*4.0)*(0.0030)-2*sin(x*2.0)*(-0.3027)-2*sin(x*4.0)*(-0.0019)\n"
     ]
    }
   ],
   "source": [
    "tot = call_fourier_series(a21,coeffs_re,coeffs_im,fr,fi)\n",
    "print(print_fourier_series(a21,coeffs_re,coeffs_im,fr,fi))"
   ]
  },
  {
   "cell_type": "code",
   "execution_count": 26,
   "id": "3f2dfaf2-7acc-45de-8c96-5500fcfd81cc",
   "metadata": {},
   "outputs": [
    {
     "data": {
      "text/plain": [
       "[<matplotlib.lines.Line2D at 0x13baa7a30>]"
      ]
     },
     "execution_count": 26,
     "metadata": {},
     "output_type": "execute_result"
    },
    {
     "data": {
      "image/png": "[encoded data removed]",
      "text/plain": [
       "<Figure size 400x200 with 1 Axes>"
      ]
     },
     "metadata": {},
     "output_type": "display_data"
    }
   ],
   "source": [
    "fig,axs = plt.subplots(figsize=(4,2))\n",
    "axs.plot(a21.x,tot)\n",
    "axs.plot(a21.x,a21.system1.h['dat'][0])"
   ]
  },
  {
   "cell_type": "markdown",
   "id": "7deb2d0e-e33a-4958-a827-46dced8deca0",
   "metadata": {},
   "source": [
    "## eps^2 coeffs"
   ]
  },
  {
   "cell_type": "code",
   "execution_count": 27,
   "id": "a803165f-d1c9-410c-9230-213b809d3718",
   "metadata": {},
   "outputs": [
    {
     "name": "stdout",
     "output_type": "stream",
     "text": [
      "4 (array([0, 2, 4, 6]),)\n",
      "3 (array([2, 4, 6]),)\n",
      "re [ 5.45765718e+02  7.97923485e+03 -4.68890286e+01  2.59208613e+00]\n",
      "im [2481.04123855  199.4115724     5.67961552]\n"
     ]
    }
   ],
   "source": [
    "coeffs_re, coeffs_im, fr, fi = get_coeffs(a21,1)"
   ]
  },
  {
   "cell_type": "code",
   "execution_count": 28,
   "id": "9bd4d918-7499-4376-aa55-08059cc50daa",
   "metadata": {},
   "outputs": [
    {
     "name": "stdout",
     "output_type": "stream",
     "text": [
      "0.5330+2*cos(x*2.0)*(7.7922)+2*cos(x*4.0)*(-0.0458)+2*cos(x*6.0)*(0.0025)-2*sin(x*2.0)*(2.4229)-2*sin(x*4.0)*(0.1947)-2*sin(x*6.0)*(0.0055)\n"
     ]
    }
   ],
   "source": [
    "tot = call_fourier_series(a21,coeffs_re,coeffs_im,fr,fi)\n",
    "print(print_fourier_series(a21,coeffs_re,coeffs_im,fr,fi))"
   ]
  },
  {
   "cell_type": "code",
   "execution_count": 29,
   "id": "4ad986fd-566a-4f21-ac1b-5bc73f75597f",
   "metadata": {},
   "outputs": [
    {
     "data": {
      "text/plain": [
       "[<matplotlib.lines.Line2D at 0x13ba6a140>]"
      ]
     },
     "execution_count": 29,
     "metadata": {},
     "output_type": "execute_result"
    },
    {
     "data": {
      "image/png": "[encoded data removed]",
      "text/plain": [
       "<Figure size 400x200 with 1 Axes>"
      ]
     },
     "metadata": {},
     "output_type": "display_data"
    }
   ],
   "source": [
    "fig,axs = plt.subplots(figsize=(4,2))\n",
    "axs.plot(a21.x,tot)\n",
    "axs.plot(a21.x,a21.system1.h['dat'][1])"
   ]
  },
  {
   "cell_type": "markdown",
   "id": "f676d0b6-8726-46ab-b2fc-b43e29cae393",
   "metadata": {},
   "source": [
    "## eps^3 coeffs"
   ]
  },
  {
   "cell_type": "code",
   "execution_count": 30,
   "id": "5b960ef3-5b0b-42eb-9e9f-38315bd29aa2",
   "metadata": {},
   "outputs": [],
   "source": [
    "# coeffs_re, coeffs_im, fr, fi = get_coeffs(a21,2)"
   ]
  },
  {
   "cell_type": "code",
   "execution_count": 31,
   "id": "9d5182ec-8ae5-4c21-836c-6234c316fe5a",
   "metadata": {},
   "outputs": [],
   "source": [
    "# tot = call_fourier_series(a21,coeffs_re,coeffs_im,fr,fi)\n",
    "# print(print_fourier_series(a21,coeffs_re,coeffs_im,fr,fi))"
   ]
  },
  {
   "cell_type": "code",
   "execution_count": 32,
   "id": "33a1e374-28e6-4749-bc3a-ec20c5042173",
   "metadata": {},
   "outputs": [],
   "source": [
    "# fig,axs = plt.subplots(figsize=(4,2))\n",
    "# axs.plot(a21.x,tot)\n",
    "# axs.plot(a21.x,a21.system1.h['dat'][2])"
   ]
  },
  {
   "cell_type": "markdown",
   "id": "14fb4e51-c43a-401a-bcbd-4e1a52662447",
   "metadata": {},
   "source": [
    "## Save data"
   ]
  },
  {
   "cell_type": "code",
   "execution_count": 33,
   "id": "8f7ee30e-efff-4336-ab06-dfc27508a84c",
   "metadata": {},
   "outputs": [],
   "source": [
    "# xlo = a21.x[0]\n",
    "# xhi = a21.x[-1]\n",
    "# npts = len(a21.x)\n",
    "# fname = 'xtab{}{}o{}.dat'\n",
    "\n",
    "# if not(os.path.isdir(data_dir)):\n",
    "#     os.mkdir(data_dir)\n",
    "\n",
    "# for k in range(a21.system1.miter):\n",
    "#     d = a21.system1.h['dat'][k]\n",
    "#     d = np.insert(d,0,xhi)\n",
    "#     d = np.insert(d,0,xlo)\n",
    "#     d = np.insert(d,0,npts)\n",
    "#     np.savetxt((data_dir+fname).format(a21._n[1],a21._m[1],k),d,\n",
    "#               fmt='%.18f')"
   ]
  },
  {
   "cell_type": "markdown",
   "id": "fa37b435-1325-4555-8ae9-71cb9d85cf8c",
   "metadata": {},
   "source": [
    "# 1:2"
   ]
  },
  {
   "cell_type": "code",
   "execution_count": 34,
   "id": "9a6d3f0d-a6e0-4b83-8959-8ad3768b267f",
   "metadata": {},
   "outputs": [],
   "source": [
    "#recompute_list = ['h_data_cglf0','h_data_cglf0','p_data_cglf0','p_data_cglf0']\n",
    "recompute_list = []\n",
    "kw_nm12 = {'system1':system1,'system2':None,'_n':('om0',1),'_m':('om1',2),\n",
    "         'NH':1024,'save_fig':False,'recompute_list':recompute_list}"
   ]
  },
  {
   "cell_type": "code",
   "execution_count": 35,
   "id": "47897784-c471-4a78-be62-560f4ffcbad5",
   "metadata": {
    "editable": true,
    "scrolled": true,
    "slideshow": {
     "slide_type": ""
    },
    "tags": []
   },
   "outputs": [
    {
     "name": "stdout",
     "output_type": "stream",
     "text": [
      "u expr eps**2*f2 + eps*f1\n",
      "tmp eps**3*f2*i_thalf0_v0[1]*p_thalf0[1] + eps**2*(f1*i_thalf0_v0[1]*p_thalf0[1] + f2*i_thalf0_v0[0]) + eps*f1*i_thalf0_v0[0]\n",
      "p sym k 0\n",
      "p sym k f_imp1(th1)*iv0_0(th0)\n",
      "h sym 0 f_imp1(th1)*zv0_0(th0)\n",
      "h sym 1 f_imp1(th1)*zv0_1(th0)*p_thalf0[1] + f_imp2(th1)*zv0_0(th0)\n",
      "* Loading p...\n",
      "* Loading H thalf0, order=0...\n",
      "* Loading H thalf0, order=1...\n"
     ]
    }
   ],
   "source": [
    "del12_p001 = 0.001\n",
    "a12 = nm.nmCoupling(**kw_nm12, del1=del12_p001)"
   ]
  },
  {
   "cell_type": "markdown",
   "id": "4ec2254a-08a3-4909-9a33-f8a64d2928c0",
   "metadata": {},
   "source": [
    "## eps coeffs"
   ]
  },
  {
   "cell_type": "code",
   "execution_count": 36,
   "id": "b39a3bb8-9c64-4120-9ca2-ed57d20d1a82",
   "metadata": {},
   "outputs": [
    {
     "name": "stdout",
     "output_type": "stream",
     "text": [
      "4 (array([2, 4, 6, 8]),)\n",
      "3 (array([2, 4, 6]),)\n",
      "re [128.75394208   9.96146632  -0.6536843   -0.13738892]\n",
      "im [-80.81683059  19.50377398   1.23301055]\n"
     ]
    }
   ],
   "source": [
    "coeffs_re, coeffs_im, fr, fi = get_coeffs(a12,0)"
   ]
  },
  {
   "cell_type": "code",
   "execution_count": 37,
   "id": "be33377a-51a4-4f2a-9eaa-815f2fe14fe7",
   "metadata": {},
   "outputs": [
    {
     "name": "stdout",
     "output_type": "stream",
     "text": [
      "+2*cos(x*2.0)*(0.1257)+2*cos(x*4.0)*(0.0097)+2*cos(x*6.0)*(-0.0006)+2*cos(x*8.0)*(-0.0001)-2*sin(x*2.0)*(-0.0789)-2*sin(x*4.0)*(0.0190)-2*sin(x*6.0)*(0.0012)\n"
     ]
    }
   ],
   "source": [
    "tot = call_fourier_series(a12,coeffs_re,coeffs_im,fr,fi)\n",
    "print(print_fourier_series(a12,coeffs_re,coeffs_im,fr,fi))"
   ]
  },
  {
   "cell_type": "code",
   "execution_count": 38,
   "id": "bb000a14-9c8c-44c3-bc43-b1e86d68d4dc",
   "metadata": {},
   "outputs": [
    {
     "data": {
      "text/plain": [
       "[<matplotlib.lines.Line2D at 0x13b8fc220>]"
      ]
     },
     "execution_count": 38,
     "metadata": {},
     "output_type": "execute_result"
    },
    {
     "data": {
      "image/png": "[encoded data removed]",
      "text/plain": [
       "<Figure size 400x200 with 1 Axes>"
      ]
     },
     "metadata": {},
     "output_type": "display_data"
    }
   ],
   "source": [
    "fig,axs = plt.subplots(figsize=(4,2))\n",
    "axs.plot(a12.x,tot)\n",
    "axs.plot(a12.x,a12.system1.h['dat'][0])"
   ]
  },
  {
   "cell_type": "markdown",
   "id": "07d5721c-0791-4d6c-9f72-16d234ed5c42",
   "metadata": {},
   "source": [
    "## eps^2 coeffs"
   ]
  },
  {
   "cell_type": "code",
   "execution_count": 39,
   "id": "83b3559e-fa96-4d21-b0cd-053798587164",
   "metadata": {},
   "outputs": [
    {
     "name": "stdout",
     "output_type": "stream",
     "text": [
      "6 (array([ 0,  2,  4,  6,  8, 10]),)\n",
      "5 (array([ 2,  4,  6,  8, 10]),)\n",
      "re [  47.92076809  -77.16313574 -135.01188252  -37.26282693   -3.18232803   -0.5261593 ]\n",
      "im [3.03619624e+03 4.19056876e+02 5.25397094e+01 5.08364980e+00 3.43137026e-01]\n"
     ]
    }
   ],
   "source": [
    "coeffs_re, coeffs_im, fr, fi = get_coeffs(a12,1)"
   ]
  },
  {
   "cell_type": "code",
   "execution_count": 40,
   "id": "9177a3f5-b94b-4c85-8650-ff4bcc03e7a7",
   "metadata": {},
   "outputs": [
    {
     "name": "stdout",
     "output_type": "stream",
     "text": [
      "0.0468+2*cos(x*2.0)*(-0.0754)+2*cos(x*4.0)*(-0.1318)+2*cos(x*6.0)*(-0.0364)+2*cos(x*8.0)*(-0.0031)+2*cos(x*10.0)*(-0.0005)-2*sin(x*2.0)*(2.9650)-2*sin(x*4.0)*(0.4092)-2*sin(x*6.0)*(0.0513)-2*sin(x*8.0)*(0.0050)-2*sin(x*10.0)*(0.0003)\n"
     ]
    }
   ],
   "source": [
    "tot = call_fourier_series(a12,coeffs_re,coeffs_im,fr,fi)\n",
    "print(print_fourier_series(a12,coeffs_re,coeffs_im,fr,fi))"
   ]
  },
  {
   "cell_type": "code",
   "execution_count": 41,
   "id": "5b1f3159-3e27-4665-87aa-91092ddc0b1f",
   "metadata": {},
   "outputs": [
    {
     "data": {
      "text/plain": [
       "[<matplotlib.lines.Line2D at 0x13ab20b50>]"
      ]
     },
     "execution_count": 41,
     "metadata": {},
     "output_type": "execute_result"
    },
    {
     "data": {
      "image/png": "[encoded data removed]",
      "text/plain": [
       "<Figure size 400x200 with 1 Axes>"
      ]
     },
     "metadata": {},
     "output_type": "display_data"
    }
   ],
   "source": [
    "fig,axs = plt.subplots(figsize=(4,2))\n",
    "axs.plot(a12.x,tot)\n",
    "axs.plot(a12.x,a12.system1.h['dat'][1])"
   ]
  },
  {
   "cell_type": "markdown",
   "id": "b03af704-eceb-410e-a948-e464eb4a313a",
   "metadata": {},
   "source": [
    "## eps^3 coeffs"
   ]
  },
  {
   "cell_type": "code",
   "execution_count": 42,
   "id": "13f7f2fa-6a5f-4014-9d58-64287329727c",
   "metadata": {},
   "outputs": [],
   "source": [
    "# coeffs_re, coeffs_im, fr, fi = get_coeffs(a12,2)"
   ]
  },
  {
   "cell_type": "code",
   "execution_count": 43,
   "id": "5945f13c-2d2b-4cf6-a83b-703e63eb3156",
   "metadata": {},
   "outputs": [],
   "source": [
    "# tot = call_fourier_series(a12,coeffs_re,coeffs_im,fr,fi)\n",
    "# print(print_fourier_series(a12,coeffs_re,coeffs_im,fr,fi))"
   ]
  },
  {
   "cell_type": "code",
   "execution_count": 44,
   "id": "3b67bd6e-476c-4e52-9d18-e226119e6b41",
   "metadata": {},
   "outputs": [],
   "source": [
    "# fig,axs = plt.subplots(figsize=(4,2))\n",
    "# axs.plot(a12.x,tot)\n",
    "# axs.plot(a12.x,a12.system1.h['dat'][2])"
   ]
  },
  {
   "cell_type": "markdown",
   "id": "4047f187-7db1-403f-b8c4-0c79c9982acd",
   "metadata": {},
   "source": [
    "## Save data"
   ]
  },
  {
   "cell_type": "code",
   "execution_count": 45,
   "id": "4a59da39-b397-41eb-87da-f51d6f505cd8",
   "metadata": {},
   "outputs": [],
   "source": [
    "# xlo = a12.x[0]\n",
    "# xhi = a12.x[-1]\n",
    "# npts = len(a12.x)\n",
    "# fname = 'xtab{}{}o{}.dat'\n",
    "\n",
    "# if not(os.path.isdir(data_dir)):\n",
    "#     os.mkdir(data_dir)\n",
    "\n",
    "# for k in range(a12.system1.miter):\n",
    "#     d = a12.system1.h['dat'][k]\n",
    "#     d = np.insert(d,0,xhi)\n",
    "#     d = np.insert(d,0,xlo)\n",
    "#     d = np.insert(d,0,npts)\n",
    "#     np.savetxt((data_dir+fname).format(a12._n[1],a12._m[1],k),d,\n",
    "#               fmt='%.18f')"
   ]
  },
  {
   "cell_type": "markdown",
   "id": "7da8638b-249a-4f74-bdf6-d9c52b2340ed",
   "metadata": {},
   "source": [
    "# 2:3"
   ]
  },
  {
   "cell_type": "code",
   "execution_count": 46,
   "id": "cbd01b87-fc7c-4975-894d-1af5371a29b1",
   "metadata": {},
   "outputs": [],
   "source": [
    "#recompute_list = ['h_data_cglf0','h_data_cglf0','p_data_cglf0','p_data_cglf0']\n",
    "recompute_list = []\n",
    "kw_nm23 = {'system1':system1,'system2':None,'_n':('om0',2),'_m':('om1',3),\n",
    "         'NH':1024,'save_fig':False,'recompute_list':recompute_list}"
   ]
  },
  {
   "cell_type": "code",
   "execution_count": 47,
   "id": "95b0813f-f53c-44e6-b63d-ce88b42bdfbf",
   "metadata": {
    "editable": true,
    "slideshow": {
     "slide_type": ""
    },
    "tags": []
   },
   "outputs": [
    {
     "name": "stdout",
     "output_type": "stream",
     "text": [
      "u expr eps**2*f2 + eps*f1\n",
      "tmp eps**3*f2*i_thalf0_v0[1]*p_thalf0[1] + eps**2*(f1*i_thalf0_v0[1]*p_thalf0[1] + f2*i_thalf0_v0[0]) + eps*f1*i_thalf0_v0[0]\n",
      "p sym k 0\n",
      "p sym k f_imp1(th1)*iv0_0(th0)\n",
      "h sym 0 f_imp1(th1)*zv0_0(th0)\n",
      "h sym 1 f_imp1(th1)*zv0_1(th0)*p_thalf0[1] + f_imp2(th1)*zv0_0(th0)\n",
      "* Loading p...\n",
      "* Loading H thalf0, order=0...\n",
      "* Loading H thalf0, order=1...\n"
     ]
    }
   ],
   "source": [
    "del23_p002 = 0.0001\n",
    "a23 = nm.nmCoupling(**kw_nm23, del1=del23_p002)"
   ]
  },
  {
   "cell_type": "markdown",
   "id": "1341e9a9-9d46-458c-b45a-e822694773d0",
   "metadata": {},
   "source": [
    "## eps coeffs"
   ]
  },
  {
   "cell_type": "code",
   "execution_count": 48,
   "id": "0e4927fa-ffd1-4159-bc26-d6a2e525fbcd",
   "metadata": {},
   "outputs": [
    {
     "name": "stdout",
     "output_type": "stream",
     "text": [
      "2 (array([ 6, 12]),)\n",
      "2 (array([ 6, 12]),)\n",
      "re [24.9922989 -0.1135933]\n",
      "im [24.88011787  0.21426511]\n"
     ]
    }
   ],
   "source": [
    "coeffs_re, coeffs_im, fr, fi = get_coeffs(a23,0)"
   ]
  },
  {
   "cell_type": "code",
   "execution_count": 49,
   "id": "676c2c44-9aa5-447e-b350-16e8c385dd32",
   "metadata": {},
   "outputs": [
    {
     "name": "stdout",
     "output_type": "stream",
     "text": [
      "+2*cos(x*6.0)*(0.0244)+2*cos(x*12.0)*(-0.0001)-2*sin(x*6.0)*(0.0243)-2*sin(x*12.0)*(0.0002)\n"
     ]
    }
   ],
   "source": [
    "tot = call_fourier_series(a23,coeffs_re,coeffs_im,fr,fi)\n",
    "print(print_fourier_series(a23,coeffs_re,coeffs_im,fr,fi))"
   ]
  },
  {
   "cell_type": "code",
   "execution_count": 50,
   "id": "53358617-735a-4fd4-8b7c-53ca7653798a",
   "metadata": {},
   "outputs": [
    {
     "data": {
      "text/plain": [
       "[<matplotlib.lines.Line2D at 0x13acc15a0>]"
      ]
     },
     "execution_count": 50,
     "metadata": {},
     "output_type": "execute_result"
    },
    {
     "data": {
      "image/png": "[encoded data removed]",
      "text/plain": [
       "<Figure size 400x200 with 1 Axes>"
      ]
     },
     "metadata": {},
     "output_type": "display_data"
    }
   ],
   "source": [
    "fig,axs = plt.subplots(figsize=(4,2))\n",
    "axs.plot(a23.x,tot)\n",
    "axs.plot(a23.x,a23.system1.h['dat'][0])"
   ]
  },
  {
   "cell_type": "markdown",
   "id": "c62d6d2b-7240-4596-936f-f2b9ee85999a",
   "metadata": {},
   "source": [
    "## eps^2 coeffs"
   ]
  },
  {
   "cell_type": "code",
   "execution_count": 51,
   "id": "71c4a77a-b05e-435f-9ba3-4efc7c97142e",
   "metadata": {},
   "outputs": [
    {
     "name": "stdout",
     "output_type": "stream",
     "text": [
      "3 (array([ 0,  6, 12]),)\n",
      "3 (array([ 6, 12, 18]),)\n",
      "re [ -78.45034457 -255.93801701    7.91283027]\n",
      "im [6.20660544e+02 1.14239285e+01 2.31104868e-01]\n"
     ]
    }
   ],
   "source": [
    "coeffs_re, coeffs_im, fr, fi = get_coeffs(a23,1)"
   ]
  },
  {
   "cell_type": "code",
   "execution_count": 52,
   "id": "06b2c4f6-fbde-4313-a5d1-5e2485d5e74c",
   "metadata": {},
   "outputs": [
    {
     "name": "stdout",
     "output_type": "stream",
     "text": [
      "-0.0766+2*cos(x*6.0)*(-0.2499)+2*cos(x*12.0)*(0.0077)-2*sin(x*6.0)*(0.6061)-2*sin(x*12.0)*(0.0112)-2*sin(x*18.0)*(0.0002)\n"
     ]
    }
   ],
   "source": [
    "tot = call_fourier_series(a23,coeffs_re,coeffs_im,fr,fi)\n",
    "print(print_fourier_series(a23,coeffs_re,coeffs_im,fr,fi))"
   ]
  },
  {
   "cell_type": "code",
   "execution_count": 53,
   "id": "587a05e4-868a-47eb-ae30-d0506a2c51ce",
   "metadata": {},
   "outputs": [
    {
     "data": {
      "text/plain": [
       "[<matplotlib.lines.Line2D at 0x13a93df30>]"
      ]
     },
     "execution_count": 53,
     "metadata": {},
     "output_type": "execute_result"
    },
    {
     "data": {
      "image/png": "[encoded data removed]",
      "text/plain": [
       "<Figure size 400x200 with 1 Axes>"
      ]
     },
     "metadata": {},
     "output_type": "display_data"
    }
   ],
   "source": [
    "fig,axs = plt.subplots(figsize=(4,2))\n",
    "axs.plot(a23.x,tot)\n",
    "axs.plot(a23.x,a23.system1.h['dat'][1])"
   ]
  },
  {
   "cell_type": "markdown",
   "id": "3b4baace-331c-4e3f-94bb-67e0008cc59c",
   "metadata": {},
   "source": [
    "## eps^3 coeffs"
   ]
  },
  {
   "cell_type": "code",
   "execution_count": 54,
   "id": "7f13afcd-b1c7-4571-bbbf-046bc9304ac1",
   "metadata": {},
   "outputs": [],
   "source": [
    "# coeffs_re, coeffs_im, fr, fi = get_coeffs(a23,2)"
   ]
  },
  {
   "cell_type": "code",
   "execution_count": 55,
   "id": "742265fb-da20-482c-b1c4-54fc84da0f7b",
   "metadata": {},
   "outputs": [],
   "source": [
    "# tot = call_fourier_series(a23,coeffs_re,coeffs_im,fr,fi)\n",
    "# print(print_fourier_series(a23,coeffs_re,coeffs_im,fr,fi))"
   ]
  },
  {
   "cell_type": "code",
   "execution_count": 56,
   "id": "3672d02f-c626-476b-8847-c3d2c4b156d1",
   "metadata": {},
   "outputs": [],
   "source": [
    "# fig,axs = plt.subplots(figsize=(4,2))\n",
    "# axs.plot(a23.x,tot)\n",
    "# axs.plot(a23.x,a23.system1.h['dat'][2])"
   ]
  },
  {
   "cell_type": "markdown",
   "id": "d6a0c232-b0ae-462a-8943-e85086b8aecb",
   "metadata": {},
   "source": [
    "## Save data"
   ]
  },
  {
   "cell_type": "code",
   "execution_count": 57,
   "id": "caf338b6-436d-48d0-8f2f-3b716e4e421a",
   "metadata": {},
   "outputs": [],
   "source": [
    "# xlo = a23.x[0]\n",
    "# xhi = a23.x[-1]\n",
    "# npts = len(a23.x)\n",
    "# fname = 'xtab{}{}o{}.dat'\n",
    "\n",
    "# if not(os.path.isdir(data_dir)):\n",
    "#     os.mkdir(data_dir)\n",
    "\n",
    "# for k in range(a23.system1.miter):\n",
    "#     d = a23.system1.h['dat'][k]\n",
    "#     d = np.insert(d,0,xhi)\n",
    "#     d = np.insert(d,0,xlo)\n",
    "#     d = np.insert(d,0,npts)\n",
    "#     np.savetxt((data_dir+fname).format(a23._n[1],a23._m[1],k),d,\n",
    "#               fmt='%.18f')"
   ]
  }
 ],
 "metadata": {
  "kernelspec": {
   "display_name": "Python 3 (ipykernel)",
   "language": "python",
   "name": "python3"
  },
  "language_info": {
   "codemirror_mode": {
    "name": "ipython",
    "version": 3
   },
   "file_extension": ".py",
   "mimetype": "text/x-python",
   "name": "python",
   "nbconvert_exporter": "python",
   "pygments_lexer": "ipython3",
   "version": "3.10.14"
  }
 },
 "nbformat": 4,
 "nbformat_minor": 5
}
