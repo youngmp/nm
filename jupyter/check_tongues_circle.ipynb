{
 "cells": [
  {
   "cell_type": "code",
   "execution_count": 2,
   "id": "a04bfa73-e672-4fe2-bc19-4775c0b2e33c",
   "metadata": {
    "tags": []
   },
   "outputs": [],
   "source": [
    "import sys; sys.path.insert(0, '..') # add parent folder path where lib folder is\n",
    "# user-defined\n",
    "\n",
    "from importlib import reload\n",
    "import numpy as np\n",
    "import matplotlib.pyplot as plt\n",
    "import sympy as sym\n",
    "from scipy.integrate import solve_ivp\n",
    "\n",
    "import scipy as sp\n",
    "from scipy.optimize import root,bisect\n",
    "\n",
    "import copy\n",
    "\n",
    "plt.rcParams.update({\n",
    "    \"text.usetex\": True,\n",
    "    \"font.family\": \"Helvetica\"\n",
    "})"
   ]
  },
  {
   "cell_type": "markdown",
   "id": "04d67aff-c04c-4fd7-aa3a-20822b217ef3",
   "metadata": {},
   "source": [
    "# Definitions"
   ]
  },
  {
   "cell_type": "markdown",
   "id": "ce2aef2f-5c6d-48d7-8367-16ad048870de",
   "metadata": {},
   "source": [
    "## Circle map"
   ]
  },
  {
   "cell_type": "markdown",
   "id": "35aa5121-301f-4715-b466-6108f7d26848",
   "metadata": {},
   "source": [
    "The circle map is given by\n",
    "\n",
    "$$\\theta_{n+1} = \\theta_n + \\Omega + \\frac{K}{2\\pi}\\sin(2\\pi \\theta_n)$$\n",
    "\n",
    "where $\\theta_n$ is taken $\\mod 1$. I'm interested in the continuous version on $\\mod{2\\pi}$:\n",
    "\n",
    "$$\\theta' = \\Omega' + K\\sin(\\theta),$$\n",
    "\n",
    "where $\\Omega' = 2\\pi\\Omega$."
   ]
  },
  {
   "cell_type": "markdown",
   "id": "dad38c73-74e3-40ed-a084-90eb988e42db",
   "metadata": {
    "tags": []
   },
   "source": [
    "## Full rhs"
   ]
  },
  {
   "cell_type": "code",
   "execution_count": 62,
   "id": "70922217-6449-4e23-80e9-38ce7f0d86bd",
   "metadata": {
    "tags": []
   },
   "outputs": [],
   "source": [
    "# this form is from Childs and Strogatz 2008\n",
    "def rhs_full(t,y,del1,eps,omf):\n",
    "    out1 \n",
    "    return del1 + eps*np.sin(omf*t-y)"
   ]
  },
  {
   "cell_type": "code",
   "execution_count": 70,
   "id": "ce043f58-1f30-464b-b219-6eed250b47c1",
   "metadata": {
    "tags": []
   },
   "outputs": [
    {
     "data": {
      "text/plain": [
       "[<matplotlib.lines.Line2D at 0x200199c9f60>]"
      ]
     },
     "execution_count": 70,
     "metadata": {},
     "output_type": "execute_result"
    },
    {
     "data": {
      "image/png": "[encoded data removed]",
      "text/plain": [
       "<Figure size 640x480 with 1 Axes>"
      ]
     },
     "metadata": {},
     "output_type": "display_data"
    }
   ],
   "source": [
    "t = np.arange(0,10000,.01)\n",
    "sol = solve_ivp(rhs_full,[t[0],t[-1]],[0],t_eval=t,atol=1e-8,rtol=1e-8,method='LSODA',args=(1,.02,2))\n",
    "\n",
    "fig,axs = plt.subplots()\n",
    "axs.plot(np.mod(t,2*np.pi),np.mod(sol.y.T[:,0],2*np.pi),lw=.5)"
   ]
  },
  {
   "cell_type": "code",
   "execution_count": 37,
   "id": "8f16648e-2886-4a4c-8b32-dde99575b9c2",
   "metadata": {
    "tags": []
   },
   "outputs": [
    {
     "name": "stdout",
     "output_type": "stream",
     "text": [
      "[0.66666667]\n"
     ]
    }
   ],
   "source": [
    "print(sol.y.T[-1]/t[-1])"
   ]
  },
  {
   "cell_type": "markdown",
   "id": "66ef01f6-1d38-45e3-a821-5003c30a67d9",
   "metadata": {},
   "source": [
    "## Reduced rhs"
   ]
  },
  {
   "cell_type": "markdown",
   "id": "4febf542-5339-46b1-98d9-231433675cb6",
   "metadata": {},
   "source": [
    "To formulate the same problem in terms of the n:m strong coupling method, we view the forcing function as having phase $\\theta_Y$ satisfying\n",
    "\n",
    "$\\theta_Y' = \\omega_f + \\delta,$\n",
    "\n",
    "where $\\omega_f$ is (by default) a multiple of $m$ and $\\delta$ alters the forcing frequency. We let $\\Omega' = \\omega/\\omega_f = n/m$, then we may study $n:m$ phase-locking using the circle map within the proposed framework.\n",
    "\n",
    "To start, we subtract the moving frames $\\hat\\theta = \\theta - \\Omega' \\theta_Y$ and $\\hat\\theta_Y = \\theta_Y - \\omega_f t$. Then the equations become\n",
    "\n",
    "$$\\begin{align}\n",
    "\\hat\\theta' &= K \\sin(\\hat\\theta + \\Omega' t),\\\\\n",
    "\\hat\\theta_Y &= \\delta\n",
    "\\end{align}$$\n",
    "\n",
    "We then average the right-hand side over $m$ periods. The calculations are straightforward if we note that the right-hand side of $\\hat\\theta$ is odd, so any integral on a $2\\pi m$-periodic domain will be zero. Thus, the phase difference is given by\n",
    "\n",
    "$\\hat\\theta - \\hat\\theta_Y = \\delta$.\n",
    "\n",
    "$$\\hat\\theta' = K [\\sin(\\hat\\theta)\\cos(\\Omega' t) + \\cos(\\hat\\theta)\\sin(\\Omega't)].$$\n",
    "\n",
    "Then averaging:\n",
    "\n",
    "$$\\begin{align*}\n",
    "\\hat\\theta' &= K \\int_0^{2\\pi m}[\\sin(\\hat\\theta)\\cos(\\Omega' t) + \\cos(\\hat\\theta)\\sin(\\Omega't)] dt\\\\\n",
    "&= K [\\sin(\\hat\\theta)\\int_0^{2\\pi m}\\cos(\\Omega' t) + \\cos(\\hat\\theta)\\int_0^{2\\pi m}\\sin(\\Omega't)] dt\n",
    "\\end{align*}$$"
   ]
  },
  {
   "cell_type": "code",
   "execution_count": 7,
   "id": "23fb0cda-5ba0-4b4d-b016-be903cafc9c6",
   "metadata": {
    "tags": []
   },
   "outputs": [],
   "source": [
    "def ct_redu(t,y,eps,del1):\n",
    "    h = eps*sin\n",
    "    h += del1\n",
    "    return h"
   ]
  },
  {
   "cell_type": "code",
   "execution_count": 8,
   "id": "cb498f66-93c8-49a3-a0de-ec56a715a2b7",
   "metadata": {
    "tags": []
   },
   "outputs": [],
   "source": [
    "def ct_full(t,y,eps,pd1,pd2,del1):\n",
    "    out1 = rhs_cgl(t,y,pd1,'val',0) + eps*c1.coupling_cgl([*y,system2(t,del1)],pd2,'val',1)\n",
    "    return np.array(list(out1))"
   ]
  },
  {
   "cell_type": "markdown",
   "id": "ef61377e-9497-4b6f-b207-ea502dc8ec68",
   "metadata": {},
   "source": [
    "## Phase-locking existence"
   ]
  },
  {
   "cell_type": "code",
   "execution_count": 9,
   "id": "8578e815-255e-4e42-8e51-6a6f5ad515c5",
   "metadata": {},
   "outputs": [],
   "source": [
    "x = np.linspace(0,2*np.pi,100000)\n",
    "def pl_exist(eps,del1,system1):\n",
    "    h = ct_redu(0,x,eps,system1,del1)\n",
    "    #for i in range(system1.miter):\n",
    "    #    h += eps_val**(i+1)*(system1.h['lam'][i](x))\n",
    "    # get all zeros\n",
    "    \n",
    "    z1 = x[1:][(h[1:]>0)*(h[:-1]<=0)]\n",
    "    z2 = x[1:][(h[1:]<0)*(h[:-1]>=0)]\n",
    "    if eps == 0:\n",
    "        return -1\n",
    "        \n",
    "    if len(z1)+len(z2) > 0:\n",
    "        return 1\n",
    "    else:\n",
    "        return -1"
   ]
  },
  {
   "cell_type": "markdown",
   "id": "3e11cb7b-9d1f-4b63-bd68-67f22c946ef3",
   "metadata": {},
   "source": [
    "## Get tongue"
   ]
  },
  {
   "cell_type": "code",
   "execution_count": 10,
   "id": "fe58b0f9-1f7c-4cdb-833c-5b00327072e2",
   "metadata": {},
   "outputs": [],
   "source": [
    "def get_tongue(del_list,system1,deps=.002,max_eps=.3,min_eps=0):\n",
    "\n",
    "    ve_exist = np.zeros(len(del_list))\n",
    "    \n",
    "    for i in range(len(del_list)):\n",
    "        print(np.round((i+1)/len(del_list),2),'    ',end='\\r')\n",
    "        eps = min_eps\n",
    "        while not(pl_exist(eps,del_list[i],system1)+1)\\\n",
    "        and eps <= max_eps:\n",
    "            eps += deps\n",
    "        if eps >= max_eps:\n",
    "            ve_exist[i] = np.nan\n",
    "        else:\n",
    "            out = bisect(pl_exist,0,eps+deps,args=(del_list[i],system1))\n",
    "            ve_exist[i] = out\n",
    "    print('')\n",
    "    return del_list,ve_exist"
   ]
  },
  {
   "cell_type": "markdown",
   "id": "bafc82a5-c36e-44d3-8b02-94326cc68595",
   "metadata": {},
   "source": [
    "# Tongue 1:1"
   ]
  },
  {
   "cell_type": "markdown",
   "id": "0f84e033-95fa-49e9-a36e-426c3b12f3da",
   "metadata": {},
   "source": [
    "## Load response and coupling functions"
   ]
  },
  {
   "cell_type": "code",
   "execution_count": 11,
   "id": "855c7e08-b095-4815-9ead-d956a6886859",
   "metadata": {},
   "outputs": [
    {
     "name": "stdout",
     "output_type": "stream",
     "text": [
      "* Loading LC data...\n",
      "* Loading monodromy...\n",
      "* Floquet Exponent kappa =-0.02999999999993149\n",
      "* Loading g symbolic...\n",
      "* Computing g...\n",
      "* Loading heterogeneous terms...\n",
      "* Computing z...\n",
      "* Computing i...\n"
     ]
    }
   ],
   "source": [
    "system11a = rsp(pardict=copy.deepcopy(pd1),**copy.deepcopy(kws1))\n",
    "system11b = rsp(pardict=copy.deepcopy(pd2),**copy.deepcopy(kws2))"
   ]
  },
  {
   "cell_type": "code",
   "execution_count": 13,
   "id": "59e06fb0-e463-4ca4-8c54-5f98a3d5ba97",
   "metadata": {
    "tags": []
   },
   "outputs": [
    {
     "name": "stdout",
     "output_type": "stream",
     "text": [
      "* Loading p symbolic...\n",
      "* Loading p...\n",
      "* Loading p...\n",
      "* Loading p...\n",
      "* Loading p...\n",
      "* Loading p...\n",
      "* Loading p...\n",
      "* Loading H symbolic...\n",
      "* Loading H cglf0, order=0...\n",
      "* Loading H cglf0, order=1...\n",
      "* Loading H cglf0, order=2...\n",
      "* Loading H cglf0, order=3...\n",
      "* Loading H cglf0, order=4...\n",
      "* Loading H cglf0, order=5...\n"
     ]
    }
   ],
   "source": [
    "a = nmc(system11a,system11b,\n",
    "        #recompute_list=['p_cglf0','h_cglf0','p_data_cglf0','h_data_cglf0'],\n",
    "        #recompute_list=recompute_list,\n",
    "        _n=('om0',1),_m=('om1',1),\n",
    "        NP=300,NH=300)"
   ]
  },
  {
   "cell_type": "code",
   "execution_count": 14,
   "id": "fcf94adb-5d8a-495f-8be6-29d3e924ba48",
   "metadata": {},
   "outputs": [
    {
     "name": "stdout",
     "output_type": "stream",
     "text": [
      "1.0      \n"
     ]
    }
   ],
   "source": [
    "dtemp = np.linspace(-.1,.1,101)\n",
    "del_list_11,ve_list_11 = get_tongue(dtemp,system11a,deps=.002,max_eps=1)"
   ]
  },
  {
   "cell_type": "code",
   "execution_count": 15,
   "id": "21d94d7e-e558-46d0-accc-d3710deae24f",
   "metadata": {},
   "outputs": [
    {
     "data": {
      "text/plain": [
       "[<matplotlib.lines.Line2D at 0x7f16034c4be0>]"
      ]
     },
     "execution_count": 15,
     "metadata": {},
     "output_type": "execute_result"
    },
    {
     "data": {
      "image/png": "[encoded data removed]",
      "text/plain": [
       "<Figure size 432x288 with 1 Axes>"
      ]
     },
     "metadata": {
      "needs_background": "light"
     },
     "output_type": "display_data"
    }
   ],
   "source": [
    "fig,axs = plt.subplots()\n",
    "axs.plot(del_list_11,ve_list_11)"
   ]
  },
  {
   "cell_type": "code",
   "execution_count": 42,
   "id": "6150184b-4bed-490a-a462-56666e38ef2f",
   "metadata": {},
   "outputs": [
    {
     "data": {
      "text/plain": [
       "[<matplotlib.lines.Line2D at 0x7f1621a16130>]"
      ]
     },
     "execution_count": 42,
     "metadata": {},
     "output_type": "execute_result"
    },
    {
     "data": {
      "image/png": "[encoded data removed]",
      "text/plain": [
       "<Figure size 432x288 with 1 Axes>"
      ]
     },
     "metadata": {
      "needs_background": "light"
     },
     "output_type": "display_data"
    }
   ],
   "source": [
    "eps = .01\n",
    "x = np.linspace(0,2*np.pi,10000)\n",
    "h = ct_redu(0,x,eps,system11a,.033)\n",
    "\n",
    "fig,axs = plt.subplots()\n",
    "axs.axhline(0,0,2*np.pi,color='gray')\n",
    "axs.plot(x,h)"
   ]
  },
  {
   "cell_type": "markdown",
   "id": "6469a67e-38f1-4cd8-be09-e1582185395c",
   "metadata": {},
   "source": [
    "# Tongue 1:2"
   ]
  },
  {
   "cell_type": "markdown",
   "id": "e6b09b9c-9fb6-4a0d-bc0f-1afac0b764f6",
   "metadata": {},
   "source": [
    "## Load response and coupling functions"
   ]
  },
  {
   "cell_type": "code",
   "execution_count": 15,
   "id": "65cd89c3-e9a5-440a-bbc8-03e13910c968",
   "metadata": {},
   "outputs": [
    {
     "name": "stdout",
     "output_type": "stream",
     "text": [
      "* Loading LC data...\n",
      "* Loading monodromy...\n",
      "* Floquet Exponent kappa =-0.02999999999993149\n",
      "* Loading g symbolic...\n",
      "* Computing g...\n",
      "* Loading heterogeneous terms...\n",
      "* Computing z...\n",
      "* Computing i...\n"
     ]
    }
   ],
   "source": [
    "system12a = rsp(pardict=copy.deepcopy(pd1),**copy.deepcopy(kws1))\n",
    "system12b = rsp(pardict=copy.deepcopy(pd2),**copy.deepcopy(kws2))"
   ]
  },
  {
   "cell_type": "code",
   "execution_count": 16,
   "id": "7f1b637a-744a-4bdd-a316-cddc32372ec9",
   "metadata": {
    "tags": []
   },
   "outputs": [
    {
     "name": "stdout",
     "output_type": "stream",
     "text": [
      "* Computing p symbolic...\n",
      "* Computing p...\n",
      "* Computing p...\n",
      "* Computing p...\n",
      "* Computing p...\n",
      "* Computing p...\n",
      "* Computing p...\n",
      "* Computing H symbolic...\n",
      "* Computing H cglf0, order=0...\n",
      "* Computing H cglf0, order=1...\n",
      "* Computing H cglf0, order=2...\n",
      "* Computing H cglf0, order=3...\n",
      "* Computing H cglf0, order=4...\n",
      "* Computing H cglf0, order=5...\n"
     ]
    }
   ],
   "source": [
    "a = nmc(system12a,system12b,\n",
    "        recompute_list=['p_cglf0','h_cglf0','p_data_cglf0','h_data_cglf0'],\n",
    "        #recompute_list=recompute_list,\n",
    "        _n=('om0',1),_m=('om1',2),\n",
    "        NP=300,NH=300)"
   ]
  },
  {
   "cell_type": "code",
   "execution_count": 17,
   "id": "e588e823-cb02-43a4-b6a9-f85d9bb1e3f0",
   "metadata": {},
   "outputs": [
    {
     "name": "stdout",
     "output_type": "stream",
     "text": [
      "1.0      \n",
      "1.0      \n"
     ]
    }
   ],
   "source": [
    "d1 = np.linspace(-10,-1,20,endpoint=False)\n",
    "\n",
    "del_list_12a,ve_list_12a = get_tongue(10**d1,system12a,deps=.002)\n",
    "del_list_12b,ve_list_12b = get_tongue(-10**d1,system12a,deps=.002)"
   ]
  },
  {
   "cell_type": "code",
   "execution_count": 18,
   "id": "140a22d5-1ec7-45e8-8d84-ade6ce54e46d",
   "metadata": {},
   "outputs": [
    {
     "data": {
      "text/plain": [
       "[<matplotlib.lines.Line2D at 0x7fcb19c997c0>]"
      ]
     },
     "execution_count": 18,
     "metadata": {},
     "output_type": "execute_result"
    },
    {
     "data": {
      "image/png": "[encoded data removed]",
      "text/plain": [
       "<Figure size 432x288 with 1 Axes>"
      ]
     },
     "metadata": {
      "needs_background": "light"
     },
     "output_type": "display_data"
    }
   ],
   "source": [
    "fig,axs = plt.subplots()\n",
    "axs.plot(del_list_12a,ve_list_12a)\n",
    "axs.plot(del_list_12b,ve_list_12b)\n",
    "#axs.set_xscale('symlog')"
   ]
  },
  {
   "cell_type": "markdown",
   "id": "3dc66646-ba2a-4805-9c52-c51ebdb52e9e",
   "metadata": {},
   "source": [
    "# Tongue 2:3"
   ]
  },
  {
   "cell_type": "markdown",
   "id": "27d89a4d-d65d-4c8e-b114-4533bd037978",
   "metadata": {},
   "source": [
    "## Load coupling functions"
   ]
  },
  {
   "cell_type": "code",
   "execution_count": 19,
   "id": "61b8701e-e700-41ac-a506-d3de75ef7394",
   "metadata": {},
   "outputs": [
    {
     "name": "stdout",
     "output_type": "stream",
     "text": [
      "* Loading LC data...\n",
      "* Loading monodromy...\n",
      "* Floquet Exponent kappa =-0.02999999999993149\n",
      "* Loading g symbolic...\n",
      "* Computing g...\n",
      "* Loading heterogeneous terms...\n",
      "* Computing z...\n",
      "* Computing i...\n"
     ]
    }
   ],
   "source": [
    "system23a = rsp(pardict=copy.deepcopy(pd1),**copy.deepcopy(kws1))\n",
    "system23b = rsp(pardict=copy.deepcopy(pd2),**copy.deepcopy(kws2))"
   ]
  },
  {
   "cell_type": "code",
   "execution_count": 20,
   "id": "ee8f5e1d-2640-4519-b820-c86d5995bfe9",
   "metadata": {
    "tags": []
   },
   "outputs": [
    {
     "name": "stdout",
     "output_type": "stream",
     "text": [
      "* Computing p symbolic...\n",
      "* Computing p...\n",
      "* Computing p...\n",
      "* Computing p...\n",
      "* Computing p...\n",
      "* Computing p...\n",
      "* Computing p...\n",
      "* Computing H symbolic...\n",
      "* Computing H cglf0, order=0...\n",
      "* Computing H cglf0, order=1...\n",
      "* Computing H cglf0, order=2...\n",
      "* Computing H cglf0, order=3...\n",
      "* Computing H cglf0, order=4...\n",
      "* Computing H cglf0, order=5...\n"
     ]
    }
   ],
   "source": [
    "a = nmc(system23a,system23b,\n",
    "        #recompute_list=['p_cglf0','h_cglf0','p_data_cglf0','h_data_cglf0'],\n",
    "        #recompute_list=recompute_list,\n",
    "        _n=('om0',2),_m=('om1',3),\n",
    "        NP=300,NH=300)"
   ]
  },
  {
   "cell_type": "code",
   "execution_count": 72,
   "id": "c0ce7f21-dc66-4642-b91a-397190288b00",
   "metadata": {},
   "outputs": [
    {
     "name": "stdout",
     "output_type": "stream",
     "text": [
      "1.0      \n",
      "1.0      \n"
     ]
    }
   ],
   "source": [
    "d1 = np.linspace(-10,-1,30,endpoint=False)\n",
    "#dtemp = np.linspace(-1e-3,1e-3,31)\n",
    "\n",
    "del_list_23a,ve_list_23a = get_tongue(10**d1,system23a,deps=.003,max_eps=1)\n",
    "del_list_23b,ve_list_23b = get_tongue(-10**d1,system23a,deps=.003,max_eps=1)"
   ]
  },
  {
   "cell_type": "code",
   "execution_count": 73,
   "id": "91af1638-c84d-4e61-9738-251fae853623",
   "metadata": {},
   "outputs": [
    {
     "data": {
      "text/plain": [
       "[<matplotlib.lines.Line2D at 0x7fcb19568eb0>]"
      ]
     },
     "execution_count": 73,
     "metadata": {},
     "output_type": "execute_result"
    },
    {
     "data": {
      "image/png": "[encoded data removed]",
      "text/plain": [
       "<Figure size 432x288 with 1 Axes>"
      ]
     },
     "metadata": {
      "needs_background": "light"
     },
     "output_type": "display_data"
    }
   ],
   "source": [
    "fig,axs = plt.subplots()\n",
    "axs.plot(del_list_23a,ve_list_23a)\n",
    "axs.plot(del_list_23b,ve_list_23b)\n",
    "#axs.set_xscale('symlog')\n",
    "#axs.set_xscale('log')"
   ]
  },
  {
   "cell_type": "markdown",
   "id": "e298b27d-4e2e-4f97-bb22-333e3a7fac1f",
   "metadata": {},
   "source": [
    "# Tongue 1:3"
   ]
  },
  {
   "cell_type": "markdown",
   "id": "b497bacc-12f9-4436-b243-a3bf8d723815",
   "metadata": {},
   "source": [
    "## Load coupling functions"
   ]
  },
  {
   "cell_type": "code",
   "execution_count": 23,
   "id": "8fe614c3-0f39-42e9-b88a-88918808a8d6",
   "metadata": {},
   "outputs": [
    {
     "name": "stdout",
     "output_type": "stream",
     "text": [
      "* Loading LC data...\n",
      "* Loading monodromy...\n",
      "* Floquet Exponent kappa =-0.02999999999993149\n",
      "* Loading g symbolic...\n",
      "* Computing g...\n",
      "* Loading heterogeneous terms...\n",
      "* Computing z...\n",
      "* Computing i...\n"
     ]
    }
   ],
   "source": [
    "system13a = rsp(pardict=copy.deepcopy(pd1),**copy.deepcopy(kws1))\n",
    "system13b = rsp(pardict=copy.deepcopy(pd2),**copy.deepcopy(kws2))"
   ]
  },
  {
   "cell_type": "code",
   "execution_count": 35,
   "id": "f1507406-3779-4825-9ff7-6d1c65efab7c",
   "metadata": {
    "tags": []
   },
   "outputs": [
    {
     "name": "stdout",
     "output_type": "stream",
     "text": [
      "* Loading p symbolic...\n",
      "* Computing p...\n",
      "* Computing p...\n",
      "* Computing p...\n",
      "* Computing p...\n",
      "* Computing p...\n",
      "* Computing p...\n",
      "* Loading H symbolic...\n",
      "* Computing H cglf0, order=0...\n",
      "* Computing H cglf0, order=1...\n",
      "* Computing H cglf0, order=2...\n",
      "* Computing H cglf0, order=3...\n",
      "* Computing H cglf0, order=4...\n",
      "* Computing H cglf0, order=5...\n"
     ]
    }
   ],
   "source": [
    "a = nmc(system13a,system13b,\n",
    "        #recompute_list=['p_cglf0','h_cglf0','p_data_cglf0','h_data_cglf0'],\n",
    "        #recompute_list=recompute_list,\n",
    "        _n=('om0',1),_m=('om1',3),\n",
    "        NP=500,NH=500)"
   ]
  },
  {
   "cell_type": "code",
   "execution_count": 67,
   "id": "1461d465-4a55-4d2b-b32b-8506d4ef373c",
   "metadata": {},
   "outputs": [
    {
     "name": "stdout",
     "output_type": "stream",
     "text": [
      "1.0      \n",
      "1.0      \n"
     ]
    }
   ],
   "source": [
    "d1 = np.linspace(-10,-1,20,endpoint=False)\n",
    "#dtemp = np.linspace(-1e-3,1e-3,31)\n",
    "\n",
    "del_list_13a,ve_list_13a = get_tongue(10**d1,system13a,deps=.01,max_eps=1)\n",
    "del_list_13b,ve_list_13b = get_tongue(-10**d1,system13a,deps=.01,max_eps=1)"
   ]
  },
  {
   "cell_type": "code",
   "execution_count": 74,
   "id": "62fa01ac-1421-4023-b8cd-1d3500b0f63d",
   "metadata": {
    "scrolled": true
   },
   "outputs": [
    {
     "data": {
      "image/png": "[encoded data removed]",
      "text/plain": [
       "<Figure size 432x288 with 1 Axes>"
      ]
     },
     "metadata": {
      "needs_background": "light"
     },
     "output_type": "display_data"
    }
   ],
   "source": [
    "fig,axs = plt.subplots()\n",
    "axs.plot(del_list_13a,ve_list_13a)\n",
    "#axs.plot(del_list_13b,ve_list_13b)\n",
    "#axs.set_xscale('symlog')\n",
    "axs.set_xscale('log')\n",
    "#axs.set_xlim(4e-6,2e-5)"
   ]
  },
  {
   "cell_type": "code",
   "execution_count": 84,
   "id": "cfec3a50-95ba-4c8e-9380-5e72b44ef317",
   "metadata": {},
   "outputs": [
    {
     "data": {
      "text/plain": [
       "[<matplotlib.lines.Line2D at 0x7fcb0eaae880>]"
      ]
     },
     "execution_count": 84,
     "metadata": {},
     "output_type": "execute_result"
    },
    {
     "data": {
      "image/png": "[encoded data removed]",
      "text/plain": [
       "<Figure size 432x288 with 1 Axes>"
      ]
     },
     "metadata": {
      "needs_background": "light"
     },
     "output_type": "display_data"
    }
   ],
   "source": [
    "eps = .05\n",
    "x = np.linspace(0,2*np.pi,100000)\n",
    "h = ct_redu(0,x,eps,system13a,1e-6)\n",
    "\n",
    "fig,axs = plt.subplots()\n",
    "axs.axhline(0,0,2*np.pi,color='gray')\n",
    "axs.plot(x,h)"
   ]
  },
  {
   "cell_type": "markdown",
   "id": "2db83ce7-5ba3-4c81-a19c-25b3ec25bec8",
   "metadata": {},
   "source": [
    "# Plot"
   ]
  },
  {
   "cell_type": "code",
   "execution_count": 96,
   "id": "f1bea1de-bcf2-46de-b69a-c8731bf13ca4",
   "metadata": {},
   "outputs": [],
   "source": [
    "import matplotlib"
   ]
  },
  {
   "cell_type": "code",
   "execution_count": 7,
   "id": "5e111aa2-171b-4322-bd4d-94dc34478a73",
   "metadata": {},
   "outputs": [
    {
     "ename": "NameError",
     "evalue": "name 'matplotlib' is not defined",
     "output_type": "error",
     "traceback": [
      "\u001b[0;31m---------------------------------------------------------------------------\u001b[0m",
      "\u001b[0;31mNameError\u001b[0m                                 Traceback (most recent call last)",
      "Input \u001b[0;32mIn [7]\u001b[0m, in \u001b[0;36m<cell line: 1>\u001b[0;34m()\u001b[0m\n\u001b[0;32m----> 1\u001b[0m cmap \u001b[38;5;241m=\u001b[39m \u001b[43mmatplotlib\u001b[49m\u001b[38;5;241m.\u001b[39mcolormaps[\u001b[38;5;124m'\u001b[39m\u001b[38;5;124mviridis\u001b[39m\u001b[38;5;124m'\u001b[39m]\n\u001b[1;32m      2\u001b[0m fsize \u001b[38;5;241m=\u001b[39m \u001b[38;5;241m12\u001b[39m\n\u001b[1;32m      4\u001b[0m fig,axs \u001b[38;5;241m=\u001b[39m plt\u001b[38;5;241m.\u001b[39msubplots(figsize\u001b[38;5;241m=\u001b[39m(\u001b[38;5;241m8\u001b[39m,\u001b[38;5;241m3\u001b[39m))\n",
      "\u001b[0;31mNameError\u001b[0m: name 'matplotlib' is not defined"
     ]
    }
   ],
   "source": [
    "cmap = matplotlib.colormaps['viridis']\n",
    "fsize = 12\n",
    "\n",
    "fig,axs = plt.subplots(figsize=(8,3))\n",
    "\n",
    "axs.plot(del_list_13a+1/3,ve_list_13a,color=cmap(0),label='1:3',ls='-.')\n",
    "axs.plot(del_list_13b+1/3,ve_list_13b,color=cmap(0),ls='-.')\n",
    "\n",
    "axs.plot(del_list_12a+1/2,ve_list_12a,color=cmap(.2),label='1:2',ls='--')\n",
    "axs.plot(del_list_12b+1/2,ve_list_12b,color=cmap(.2),ls='--')\n",
    "\n",
    "axs.plot(del_list_23a+2/3,ve_list_23a,color=cmap(.4),label='2:3',ls=':')\n",
    "axs.plot(del_list_23b+2/3,ve_list_23b,color=cmap(.4),ls=':')\n",
    "\n",
    "axs.plot(del_list_11+1,ve_list_11,label='1:1',color=cmap(.6))\n",
    "\n",
    "axs.set_ylim(0,.35)\n",
    "\n",
    "#axs.set_yscale('log')\n",
    "axs.set_xlabel(r'$\\omega_X/(\\omega_f+\\delta)$',fontsize=fsize)\n",
    "axs.set_ylabel(r'$\\varepsilon$',fontsize=fsize)\n",
    "\n",
    "axs.set_xticks([1/3,1/2,2/3,1])\n",
    "axs.set_xticklabels(['$1{:}3$','$1{:}2$','$2{:}3$','$1{:}1$'],fontsize=fsize)\n",
    "\n",
    "plt.savefig('../')"
   ]
  },
  {
   "cell_type": "code",
   "execution_count": null,
   "id": "edfc8eee-86a7-4475-9d6b-756a3ae6fc2e",
   "metadata": {},
   "outputs": [],
   "source": []
  },
  {
   "cell_type": "code",
   "execution_count": null,
   "id": "3b587a7c-a4ce-4e8c-b6a8-49223dd2ec11",
   "metadata": {},
   "outputs": [],
   "source": []
  }
 ],
 "metadata": {
  "kernelspec": {
   "display_name": "Python 3 (ipykernel)",
   "language": "python",
   "name": "python3"
  },
  "language_info": {
   "codemirror_mode": {
    "name": "ipython",
    "version": 3
   },
   "file_extension": ".py",
   "mimetype": "text/x-python",
   "name": "python",
   "nbconvert_exporter": "python",
   "pygments_lexer": "ipython3",
   "version": "3.10.13"
  }
 },
 "nbformat": 4,
 "nbformat_minor": 5
}
