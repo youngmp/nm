{
 "cells": [
  {
   "cell_type": "markdown",
   "id": "67104f36-701a-4efb-8f70-b30d756b8646",
   "metadata": {
    "editable": false,
    "frozen": true
   },
   "source": [
    "# Imports"
   ]
  },
  {
   "cell_type": "code",
   "execution_count": 2,
   "id": "e922f826-9895-4f01-ae45-e89702f376df",
   "metadata": {
    "tags": []
   },
   "outputs": [],
   "source": [
    "import sys; sys.path.insert(0, '..') # add parent folder path where lib folder is\n",
    "# user-defined\n",
    "import nmCoupling as nm\n",
    "import response as rp\n",
    "import thal1\n",
    "\n",
    "import importlib\n",
    "import lib\n",
    "importlib.reload(sys.modules['lib.lib'])\n",
    "from lib.lib import rhs_avg, _redu, _redu_moving, _redu_moving_avg, _redu_moving_avg2\n",
    "from lib.util import get_phase, freq_est\n",
    "\n",
    "from importlib import reload\n",
    "import numpy as np\n",
    "import matplotlib.pyplot as plt\n",
    "import sympy as sym\n",
    "from scipy.integrate import solve_ivp\n",
    "\n",
    "import scipy as sp\n",
    "from scipy.optimize import root,bisect\n",
    "\n",
    "from copy import deepcopy\n",
    "\n",
    "plt.rcParams.update({\n",
    "    \"text.usetex\": True,\n",
    "    \"font.family\": \"Helvetica\"\n",
    "})"
   ]
  },
  {
   "cell_type": "code",
   "execution_count": 3,
   "id": "67e00f2f-696a-45bb-a8c6-67d9eeeb4b04",
   "metadata": {},
   "outputs": [],
   "source": [
    "import collections\n",
    "import matplotlib.pyplot as plt\n",
    "import numpy as np\n",
    "import scipy.spatial as spatial\n",
    "import scipy.spatial.distance as dist\n",
    "import scipy.cluster.hierarchy as hier\n",
    "\n",
    "\n",
    "def intersection(points1, points2, eps):\n",
    "    tree = spatial.KDTree(points1)\n",
    "    distances, indices = tree.query(points2, k=1, distance_upper_bound=eps)\n",
    "    intersection_points = tree.data[indices[np.isfinite(distances)]]\n",
    "    return intersection_points\n",
    "\n",
    "\n",
    "def cluster(points, cluster_size):\n",
    "    dists = dist.pdist(points, metric='sqeuclidean')\n",
    "    linkage_matrix = hier.linkage(dists, 'average')\n",
    "    groups = hier.fcluster(linkage_matrix, cluster_size, criterion='distance')\n",
    "    return np.array([points[cluster].mean(axis=0)\n",
    "                     for cluster in clusterlists(groups)])\n",
    "\n",
    "\n",
    "def contour_points(contour, steps=1):\n",
    "    for linecol in contour.collections:\n",
    "        \n",
    "        if len(linecol.get_paths()) == 0:\n",
    "            return 0\n",
    "    \n",
    "    return np.row_stack([path.interpolated(steps).vertices\n",
    "                         for linecol in contour.collections\n",
    "                         for path in linecol.get_paths()])\n",
    "\n",
    "def clusterlists(T):\n",
    "    '''\n",
    "    http://stackoverflow.com/a/2913071/190597 (denis)\n",
    "    T = [2, 1, 1, 1, 2, 2, 2, 2, 2, 1]\n",
    "    Returns [[0, 4, 5, 6, 7, 8], [1, 2, 3, 9]]\n",
    "    '''\n",
    "    groups = collections.defaultdict(list)\n",
    "    for i, elt in enumerate(T):\n",
    "        groups[elt].append(i)\n",
    "    return sorted(groups.values(), key=len, reverse=True)"
   ]
  },
  {
   "cell_type": "code",
   "execution_count": 4,
   "id": "9e4307a2-2a71-415d-ab18-a49d89bcb438",
   "metadata": {
    "tags": []
   },
   "outputs": [],
   "source": [
    "reload(thal1);reload(nm);reload(rp)\n",
    "nmc = nm.nmCoupling;rsp = rp.Response"
   ]
  },
  {
   "cell_type": "markdown",
   "id": "66ac5f5b-8d1f-4977-bf66-80f86f650b3d",
   "metadata": {},
   "source": [
    "# Definitions"
   ]
  },
  {
   "cell_type": "markdown",
   "id": "134b9002-8bbb-4643-8559-af11f2ec51fd",
   "metadata": {},
   "source": [
    "## Forcing function"
   ]
  },
  {
   "cell_type": "code",
   "execution_count": 5,
   "id": "48fcb176-48bf-4a75-9612-5452ee41ab18",
   "metadata": {
    "tags": []
   },
   "outputs": [],
   "source": [
    "# def ff(x):\n",
    "#     return -np.mod(x,2*np.pi)/(2*np.pi) +.5 # works for 1:2\n",
    "\n",
    "def ff_raw(x,s=1):\n",
    "    x = np.mod(x,2*np.pi)\n",
    "    tot = 0\n",
    "    for i in range(-10,10+1):\n",
    "        #tot += 1/(np.sqrt(np.pi)*s)*np.exp(-(((x+i*2*np.pi))/s)**2)\n",
    "        tot += np.exp(-(((x+i*2*np.pi))/s)**2)\n",
    "    return tot\n",
    "\n",
    "x_temp,dx_temp = np.linspace(-np.pi,np.pi,1000,retstep=True)\n",
    "ff_mean = np.sum(ff_raw(x_temp))*dx_temp/(2*np.pi)\n",
    "\n",
    "def ff(x,s=1):\n",
    "    x = np.mod(x,2*np.pi)\n",
    "    tot = 0\n",
    "    for i in range(-10,10+1):\n",
    "        #tot += 1/(np.sqrt(np.pi)*s)*np.exp(-(((x+i*2*np.pi))/s)**2)\n",
    "        tot += np.exp(-(((x+i*2*np.pi))/s)**2)\n",
    "    return tot - ff_mean\n",
    "\n",
    "\n",
    "# def ff(x):\n",
    "#     return np.sin(x)"
   ]
  },
  {
   "cell_type": "code",
   "execution_count": 6,
   "id": "3d5220f5-9e5f-42d5-bf62-9f3e1ba63779",
   "metadata": {},
   "outputs": [
    {
     "data": {
      "text/plain": [
       "[<matplotlib.lines.Line2D at 0x7facadfeb7c0>]"
      ]
     },
     "execution_count": 6,
     "metadata": {},
     "output_type": "execute_result"
    },
    {
     "data": {
      "image/png": "[encoded data removed]",
      "text/plain": [
       "<Figure size 432x288 with 1 Axes>"
      ]
     },
     "metadata": {
      "needs_background": "light"
     },
     "output_type": "display_data"
    }
   ],
   "source": [
    "fig,axs = plt.subplots()\n",
    "t_temp = np.linspace(0,4*np.pi,10000)\n",
    "axs.plot(t_temp,ff(2*t_temp))"
   ]
  },
  {
   "cell_type": "markdown",
   "id": "6cf1cb3d-9be8-4398-b11b-a284eba25a7c",
   "metadata": {},
   "source": [
    "## Dicts"
   ]
  },
  {
   "cell_type": "code",
   "execution_count": 7,
   "id": "5644cdeb-8576-491f-a400-9fb97c2eb1cc",
   "metadata": {},
   "outputs": [],
   "source": [
    "kw_sim = {'rtol':1e-7,'atol':1e-7,'method':'LSODA'}"
   ]
  },
  {
   "cell_type": "code",
   "execution_count": 8,
   "id": "293c75b5-1a19-4478-afc4-3b2bfb6d9885",
   "metadata": {},
   "outputs": [],
   "source": [
    "pd1 = {'gL':0.05,'gna':3,'gk':5,\n",
    "       'gt':5,'eL':-70,'ena':50,\n",
    "       'ek':-90,'et':0,'esyn':-1,\n",
    "       'c':1,'alpha':3,'beta':2,\n",
    "       'sigmat':0.8,'vt':-20,\n",
    "       'ib':8.5,'om':1,'om_fix':1}"
   ]
  },
  {
   "cell_type": "code",
   "execution_count": 10,
   "id": "86aa9a9f-c433-4f84-ab29-c074da30064c",
   "metadata": {
    "tags": []
   },
   "outputs": [],
   "source": [
    "# default period must be 2*np.pi\n",
    "kws1 = {'var_names':['v','h','r'],\n",
    "        'rhs':thal1.rhs,\n",
    "        'init':np.array([-.64,0.71,0.25,5]),\n",
    "        'TN':2000,\n",
    "        'idx':0,\n",
    "        'model_name':'thalf0',\n",
    "        'trunc_order':4,\n",
    "        'recompute_list':[],\n",
    "        'z_forward':False,\n",
    "        'i_forward':False,\n",
    "        'i_bad_dx':True,\n",
    "        'max_iter':20,\n",
    "        'rtol':1e-12,\n",
    "        'atol':1e-12,\n",
    "        'rel_tol':1e-9,\n",
    "        'forcing_fn':ff,\n",
    "        'save_fig':False}"
   ]
  },
  {
   "cell_type": "markdown",
   "id": "a81b9093-78bd-409c-877c-0218e3cc6190",
   "metadata": {
    "tags": []
   },
   "source": [
    "## RHS full"
   ]
  },
  {
   "cell_type": "code",
   "execution_count": 11,
   "id": "7139a339-f62c-42ee-bb31-0a6d2cae0938",
   "metadata": {
    "tags": []
   },
   "outputs": [],
   "source": [
    "def _full(t,y,a,eps=0,del1=0):\n",
    "    pd1 = a.system1.pardict\n",
    "    omf = a._m[1]\n",
    "    omx = a._n[1]\n",
    "    ofix = pd1['om_fix0']\n",
    "\n",
    "    u = a.system1.forcing_fn(t*(del1+omf))\n",
    "    \n",
    "    out1 = thal1.rhs(t,y,pd1,'val',0) + eps*ofix*omx*np.array([u,0,0])\n",
    "    return np.array(list(out1))"
   ]
  },
  {
   "cell_type": "markdown",
   "id": "e6206f9d-685f-42ea-b8a5-b7a76442897f",
   "metadata": {},
   "source": [
    "## PL exist reduced"
   ]
  },
  {
   "cell_type": "code",
   "execution_count": 12,
   "id": "64afa321-a424-47fc-8bf4-926f1133f1cb",
   "metadata": {},
   "outputs": [],
   "source": [
    "def pl_exist(eps,del1,a,th_init=0,return_data=False):\n",
    "\n",
    "    system1 = a.system1\n",
    "    system2 = a.system2\n",
    "    \n",
    "    if eps == 0:\n",
    "        return -1\n",
    "    # every intersection point must be within eps of a point on the other\n",
    "    # contour path\n",
    "    err = 1\n",
    "    \n",
    "    # cluster together intersection points so that the original points in each flat\n",
    "    # cluster have a cophenetic_distance < cluster_size\n",
    "    cluster_size = 100\n",
    "    \n",
    "    th_temp = np.linspace(0, 2*np.pi, 200)\n",
    "    ps_temp = np.linspace(-.25, .25, 200)\n",
    "    \n",
    "    TH,PS = np.meshgrid(th_temp,ps_temp)\n",
    "\n",
    "    Z1,Z2 = rhs_avg(0,[TH,PS],a,eps,del1)\n",
    "    # Z1 = 0\n",
    "    # Z2 = system1.kappa_val*PS\n",
    "    \n",
    "    # for i in range(len(a.hz_lam)):\n",
    "    #     Z1 += eps*PS**i*a.hz_lam[i](TH)*a._n[1]\n",
    "    #     Z2 += eps*PS**i*a.hi_lam[i](TH)*a._n[1]\n",
    "    # Z1 -= del1\n",
    "\n",
    "    #fig,axs = plt.subplots(1,1,figsize=(4,3))\n",
    "    contour1 = plt.contour(TH,PS,Z1,levels=[0],linewidths=.5,colors='k')\n",
    "    contour2 = plt.contour(TH,PS,Z2,levels=[0],linewidths=.5,colors='b')\n",
    "    #print('eps,del',eps,del1)\n",
    "    #plt.show()\n",
    "\n",
    "    if return_data:\n",
    "        return plt\n",
    "\n",
    "    plt.close()\n",
    "    \n",
    "    #contour1 = plt.contour(Z1, colors='k')\n",
    "    #contour2 = plt.contour(Z2, colors='r')\n",
    "\n",
    "    #print(intersection_points)\n",
    "\n",
    "    points1 = contour_points(contour1)\n",
    "    points2 = contour_points(contour2)\n",
    "    \n",
    "    if isinstance(points1, int) or isinstance(points2, int):\n",
    "        \n",
    "        return -1\n",
    "        \n",
    "    else:\n",
    "        intersection_points = intersection(points1, points2, err)\n",
    "\n",
    "        if len(intersection_points) == 0:\n",
    "            return -1\n",
    "        else:\n",
    "            return 1\n",
    "            print('intersection_points',intersection_points)\n",
    "            intersection_points = cluster(intersection_points, cluster_size)\n",
    "            #plt.close()"
   ]
  },
  {
   "cell_type": "markdown",
   "id": "663cb84f-1637-4d5a-b6ed-5e7a59ca804c",
   "metadata": {},
   "source": [
    "## Get tongue"
   ]
  },
  {
   "cell_type": "code",
   "execution_count": 13,
   "id": "67584ac4-9d9f-4f98-a1a8-d7edb29c314c",
   "metadata": {},
   "outputs": [],
   "source": [
    "def get_tongue(del_list,a,deps=.002,max_eps=.3,min_eps=0):\n",
    "\n",
    "    ve_exist = np.zeros(len(del_list))\n",
    "    \n",
    "    for i in range(len(del_list)):\n",
    "        print(np.round((i+1)/len(del_list),2),'    ',end='\\r')\n",
    "\n",
    "        if np.isnan(ve_exist[i-1]):\n",
    "            eps = 0\n",
    "        else:\n",
    "            eps = max(ve_exist[i-1] - 2*deps,0)\n",
    "        while not(pl_exist(eps,del_list[i],a)+1)\\\n",
    "        and eps <= max_eps:\n",
    "            eps += deps\n",
    "            #print('existloop',eps)\n",
    "        if eps >= max_eps:\n",
    "            ve_exist[i] = np.nan\n",
    "        else:\n",
    "            deps2 = deps\n",
    "            flag = False\n",
    "            while not(flag) and deps2 < .2:\n",
    "                #print('while loop',deps2)\n",
    "                try:\n",
    "                    out = bisect(pl_exist,0,eps+deps2,args=(del_list[i],a))\n",
    "                    flag = True\n",
    "                except ValueError:\n",
    "                    deps2 += .001\n",
    "            if flag:\n",
    "                ve_exist[i] = out\n",
    "            else:\n",
    "                ve_exist[i] = np.nan\n",
    "    print('')\n",
    "    return del_list,ve_exist"
   ]
  },
  {
   "cell_type": "markdown",
   "id": "a7d0da91-9709-401f-b938-9f2585e30a6e",
   "metadata": {},
   "source": [
    "# Load response functions"
   ]
  },
  {
   "cell_type": "code",
   "execution_count": 14,
   "id": "d5e995c7-6b7d-428e-ba84-9384d97dd92f",
   "metadata": {},
   "outputs": [
    {
     "name": "stdout",
     "output_type": "stream",
     "text": [
      "* Loading LC data...\n",
      "self.T 6.283185307179586 omfix 0.9901981522512157\n",
      "* Loading monodromy...\n",
      "* Floquet Exponent kappa =-0.02435447459480753\n",
      "* Loading g symbolic...\n",
      "* Computing g...\n",
      "* Loading heterogeneous terms...\n",
      "* Computing z...\n",
      "* Computing i...\n"
     ]
    }
   ],
   "source": [
    "system1 = rsp(pardict=pd1,**kws1)"
   ]
  },
  {
   "cell_type": "markdown",
   "id": "3d38182b-9851-4340-bde5-d1bf39af8dd3",
   "metadata": {},
   "source": [
    "# 1:1"
   ]
  },
  {
   "cell_type": "code",
   "execution_count": 15,
   "id": "44a7f8c3-1009-4fe2-bc7b-2a8136f3cf36",
   "metadata": {
    "tags": []
   },
   "outputs": [
    {
     "name": "stdout",
     "output_type": "stream",
     "text": [
      "e1,e2\n",
      "psi**4*zv0_4(t) + psi**3*zv0_3(t) + psi**2*zv0_2(t) + psi*zv0_1(t) + zv0_0(t)\n",
      "psi**4*iv0_4(t) + psi**3*iv0_3(t) + psi**2*iv0_2(t) + psi*iv0_1(t) + iv0_0(t)\n",
      "\n",
      "0 imp0 for z zv0_0(th0)\n",
      "0 imp0 for i iv0_0(th0)\n",
      "1 imp0 for z zv0_1(th0)\n",
      "1 imp0 for i iv0_1(th0)\n",
      "2 imp0 for z zv0_2(th0)\n",
      "2 imp0 for i iv0_2(th0)\n",
      "3 imp0 for z zv0_3(th0)\n",
      "3 imp0 for i iv0_3(th0)\n",
      "4 imp0 for z zv0_4(th0)\n",
      "4 imp0 for i iv0_4(th0)\n",
      "\n",
      "hz0,hi0,imp\n",
      "0 uf(t)*zv0_0(t + th0)\n",
      "1 uf(t)*zv0_1(t + th0)\n",
      "2 uf(t)*zv0_2(t + th0)\n",
      "3 uf(t)*zv0_3(t + th0)\n",
      "4 uf(t)*zv0_4(t + th0)\n",
      "\n",
      "0 iv0_0(t + th0)*uf(t)\n",
      "1 iv0_1(t + th0)*uf(t)\n",
      "2 iv0_2(t + th0)*uf(t)\n",
      "3 iv0_3(t + th0)*uf(t)\n",
      "4 iv0_4(t + th0)*uf(t)\n",
      "\n"
     ]
    }
   ],
   "source": [
    "a11 = nmc(system1,None,\n",
    "          #recompute_list=recompute_list,\n",
    "          # recompute_list=['k_thalf0'],\n",
    "          _n=('om0',1),_m=('om1',1),\n",
    "          NP=500,NH=500)"
   ]
  },
  {
   "cell_type": "markdown",
   "id": "65721a19-6ce8-443e-af9a-3e0e5905c14f",
   "metadata": {},
   "source": [
    "## Tongue"
   ]
  },
  {
   "cell_type": "code",
   "execution_count": 382,
   "id": "652a0506-3290-44a6-a9cf-586766aaded1",
   "metadata": {},
   "outputs": [
    {
     "name": "stdout",
     "output_type": "stream",
     "text": [
      "1.0     \n",
      "1.0     \n"
     ]
    }
   ],
   "source": [
    "#dtemp = np.linspace(-1,1,51)\n",
    "d1 = np.linspace(-15,0,10)\n",
    "\n",
    "del_list_11a,ve_list_11a = get_tongue(2**d1,a11,deps=.01,max_eps=.2)\n",
    "del_list_11b,ve_list_11b = get_tongue(-2**d1,a11,deps=.01,max_eps=.2)"
   ]
  },
  {
   "cell_type": "code",
   "execution_count": 383,
   "id": "9af630ef-d990-408b-a309-99b305f4dd06",
   "metadata": {},
   "outputs": [
    {
     "data": {
      "text/plain": [
       "[<matplotlib.lines.Line2D at 0x7fc57c01f670>]"
      ]
     },
     "execution_count": 383,
     "metadata": {},
     "output_type": "execute_result"
    },
    {
     "data": {
      "image/png": "[encoded data removed]",
      "text/plain": [
       "<Figure size 432x288 with 1 Axes>"
      ]
     },
     "metadata": {
      "needs_background": "light"
     },
     "output_type": "display_data"
    }
   ],
   "source": [
    "fig,axs = plt.subplots()\n",
    "axs.plot(del_list_11a,ve_list_11a,color='tab:blue')\n",
    "axs.plot(del_list_11b,ve_list_11b,color='tab:blue')"
   ]
  },
  {
   "cell_type": "markdown",
   "id": "69049e01-0c7b-4bf1-9a34-3e0db5778958",
   "metadata": {},
   "source": [
    "## Frequency ratio"
   ]
  },
  {
   "cell_type": "code",
   "execution_count": 384,
   "id": "4e724ea3-458f-4a8e-a23b-d4ef52792d33",
   "metadata": {},
   "outputs": [
    {
     "name": "stdout",
     "output_type": "stream",
     "text": [
      "-0.3 1.4201667376620215 1.4219839142091155\n",
      "-0.23333333333333334 1.2941573033707863 1.2964670330784676\n",
      "-0.16666666666666666 1.1866585956416464 1.1909118522568496\n",
      "-0.09999999999999998 1.0951669431750488 1.0962251819928122\n",
      "-0.033333333333333326 1.0 1.0000202437345642\n",
      "0.033333333333333326 1.0 1.0000000000000002\n",
      "0.10000000000000003 0.9200586249247574 0.9211528730071346\n",
      "0.16666666666666669 0.8619488143894017 0.86529710749173\n",
      "0.23333333333333334 0.8140047135397607 0.8158031996502695\n",
      "0.3 0.7716922092914045 0.7731923703203413\n"
     ]
    }
   ],
   "source": [
    "# fix eps.\n",
    "# x-axis, deviation from baseline freq. this is delta\n",
    "# y-axis, ratio of oscillator vs forcing fn frequency\n",
    "eps_val11 = .03\n",
    "\n",
    "del_range11 = np.linspace(-.3,.3,10)\n",
    "\n",
    "th_init = 3\n",
    "\n",
    "dt = .01;T=1000\n",
    "t = np.arange(0,T,dt)\n",
    "\n",
    "y0 = system1.lc['dat'][int((th_init/(2*np.pi))*system1.TN),:]\n",
    "\n",
    "fr_full11 = []\n",
    "fr_redu11 = []\n",
    "\n",
    "for i in range(len(del_range11)):\n",
    "    \n",
    "    args11 = [a11,eps_val11,del_range11[i]]\n",
    "    \n",
    "    solf11 = solve_ivp(_full,[0,t[-1]],y0,t_eval=t,args=(*args11,),**kw_sim)\n",
    "    #solr11a = solve_ivp(_redu,[0,t[-1]],[th_init,0,0],t_eval=t,args=(*args11,),**kw_sim)\n",
    "    solr11a = solve_ivp(rhs_avg,[0,t[-1]],[th_init,0],args=(*args11,),t_eval=t,**kw_sim)\n",
    "    #solr11_0 = solve_ivp(rhs_avg,[0,t[-1]],[th_init,0],t_eval=t,args=(*args11,1),**kw_sim)\n",
    "\n",
    "    freq_force = freq_est(t,a11.system1.forcing_fn(t*(a11._m[1]+del_range11[i])))\n",
    "    freq_full = freq_est(t,solf11.y.T[:,0])\n",
    "    freq_redu = freq_est(t,np.mod(solr11a.y.T[:,0]+t*(a11._m[1]+del_range11[i]),2*np.pi))\n",
    "\n",
    "    print(del_range11[i],freq_full/freq_force,freq_redu/freq_force)\n",
    "\n",
    "    fr_full11.append(freq_full/freq_force)\n",
    "    fr_redu11.append(freq_redu/freq_force)\n",
    "\n",
    "fr_full11 = np.asarray(fr_full11)\n",
    "fr_redu11 = np.asarray(fr_redu11)"
   ]
  },
  {
   "cell_type": "code",
   "execution_count": 385,
   "id": "fd4ee933-06f7-49bc-9ea0-21d538e30bd8",
   "metadata": {},
   "outputs": [
    {
     "data": {
      "text/plain": [
       "[<matplotlib.lines.Line2D at 0x7fc5b1b96430>]"
      ]
     },
     "execution_count": 385,
     "metadata": {},
     "output_type": "execute_result"
    },
    {
     "data": {
      "image/png": "[encoded data removed]",
      "text/plain": [
       "<Figure size 432x288 with 1 Axes>"
      ]
     },
     "metadata": {
      "needs_background": "light"
     },
     "output_type": "display_data"
    }
   ],
   "source": [
    "fig,axs = plt.subplots()\n",
    "axs.plot(del_range11+1,fr_full11)\n",
    "axs.plot(del_range11+1,fr_redu11)"
   ]
  },
  {
   "cell_type": "code",
   "execution_count": 386,
   "id": "3062378e-fa4a-4069-8839-e1c38d1665c4",
   "metadata": {},
   "outputs": [
    {
     "data": {
      "text/plain": [
       "[<matplotlib.lines.Line2D at 0x7fc5b1167c70>]"
      ]
     },
     "execution_count": 386,
     "metadata": {},
     "output_type": "execute_result"
    },
    {
     "data": {
      "image/png": "[encoded data removed]",
      "text/plain": [
       "<Figure size 432x288 with 1 Axes>"
      ]
     },
     "metadata": {
      "needs_background": "light"
     },
     "output_type": "display_data"
    }
   ],
   "source": [
    "fig,axs = plt.subplots()\n",
    "axs.plot(del_range11+1,fr_full11-1+eps_val11)\n",
    "axs.plot(del_range11+1,fr_redu11-1+eps_val11)\n",
    "\n",
    "axs.plot(1+del_list_11a,ve_list_11a,color='tab:blue')\n",
    "axs.plot(1+del_list_11b,ve_list_11b,color='tab:blue')"
   ]
  },
  {
   "cell_type": "markdown",
   "id": "4d08c13c-5753-42f3-8476-fc6f40be678d",
   "metadata": {},
   "source": [
    "## Verify"
   ]
  },
  {
   "cell_type": "code",
   "execution_count": 387,
   "id": "89fe8594-1227-4973-86ef-614e6d1817dc",
   "metadata": {},
   "outputs": [],
   "source": [
    "eps11 = .03\n",
    "del11 = 0.02\n",
    "th_init11 = 3"
   ]
  },
  {
   "cell_type": "markdown",
   "id": "3c5cb81a-ef8a-4c7d-b0ac-f6abb3f20f21",
   "metadata": {},
   "source": [
    "### Phase plane"
   ]
  },
  {
   "cell_type": "code",
   "execution_count": 388,
   "id": "5d27210b-b1e8-4a1f-afd1-e28c142d75b0",
   "metadata": {},
   "outputs": [
    {
     "data": {
      "image/png": "[encoded data removed]",
      "text/plain": [
       "<Figure size 432x288 with 1 Axes>"
      ]
     },
     "metadata": {
      "needs_background": "light"
     },
     "output_type": "display_data"
    }
   ],
   "source": [
    "t0 = np.arange(0,1000,.02)\n",
    "\n",
    "plt = pl_exist(eps11,del11,a11,return_data=True)\n",
    "\n",
    "out1 = solve_ivp(rhs_avg,[t0[0],t0[-1]],[th_init11,.2],\n",
    "                 t_eval=t0,args=(a11,eps11,del11),**kw_sim)\n",
    "plt.plot(np.mod(out1.y.T[:,0],2*np.pi),out1.y.T[:,1],lw=2)\n",
    "\n",
    "plt.xlim(-1,7)\n",
    "\n",
    "plt.show()"
   ]
  },
  {
   "cell_type": "markdown",
   "id": "5cd6499d-85a4-4ed1-ab4d-c721657f8f7f",
   "metadata": {},
   "source": [
    "### Integration"
   ]
  },
  {
   "cell_type": "code",
   "execution_count": 389,
   "id": "3c2b7972-bd20-4145-9ccc-c5795400eee5",
   "metadata": {},
   "outputs": [],
   "source": [
    "dt = .02;T=500\n",
    "t = np.arange(0,T,dt)\n",
    "\n",
    "init11 = system1.lc['dat'][int((th_init11/(2*np.pi))*system1.TN),:]\n",
    "args11 = [a11,eps11,del11]\n",
    "solf11 = solve_ivp(_full,[0,t[-1]],init11,t_eval=t,args=(*args11,),**kw_sim)"
   ]
  },
  {
   "cell_type": "code",
   "execution_count": 390,
   "id": "f8d076ea-184b-4712-baf1-1f65ab27ba33",
   "metadata": {},
   "outputs": [],
   "source": [
    "solr11 = solve_ivp(rhs_avg,[0,t[-1]],[th_init11,0],t_eval=t,args=(*args11,),**kw_sim)\n",
    "# solr11_0 = solve_ivp(rhs_avg,[0,t[-1]],[th_init,0],t_eval=t,args=(*args11,1),**kw_sim)"
   ]
  },
  {
   "cell_type": "code",
   "execution_count": 391,
   "id": "0309d46f-ab4a-458c-ad8a-11c871cd1400",
   "metadata": {},
   "outputs": [],
   "source": [
    "solr11b = solve_ivp(_redu,[0,t[-1]],[th_init,0,0],t_eval=t,args=(*args11,),**kw_sim)"
   ]
  },
  {
   "cell_type": "code",
   "execution_count": 392,
   "id": "a2f5d000-b68d-41aa-b162-c0b3acca1679",
   "metadata": {},
   "outputs": [
    {
     "data": {
      "text/plain": [
       "(399.98, 499.98)"
      ]
     },
     "execution_count": 392,
     "metadata": {},
     "output_type": "execute_result"
    },
    {
     "data": {
      "image/png": "[encoded data removed]",
      "text/plain": [
       "<Figure size 1080x144 with 1 Axes>"
      ]
     },
     "metadata": {
      "needs_background": "light"
     },
     "output_type": "display_data"
    }
   ],
   "source": [
    "fig,axs = plt.subplots(figsize=(15,2))\n",
    "axs.plot(t,solf11.y.T[:,0])\n",
    "axs.plot(t,a11.system1.forcing_fn(t*(1+del11)))\n",
    "axs.set_xlim(t[-1]-100,t[-1])"
   ]
  },
  {
   "cell_type": "code",
   "execution_count": 393,
   "id": "03f3a06e-77e7-42f7-b02e-2ba3bb346065",
   "metadata": {
    "tags": []
   },
   "outputs": [],
   "source": [
    "tp11, phase11 = get_phase(t,solf11.y.T,skipn=10,system1=system1)"
   ]
  },
  {
   "cell_type": "code",
   "execution_count": 394,
   "id": "f666cde2-b6c9-4334-b210-49c1419b936f",
   "metadata": {},
   "outputs": [
    {
     "data": {
      "text/plain": [
       "(0.0, 6.283185307179586)"
      ]
     },
     "execution_count": 394,
     "metadata": {},
     "output_type": "execute_result"
    },
    {
     "data": {
      "image/png": "[encoded data removed]",
      "text/plain": [
       "<Figure size 360x216 with 1 Axes>"
      ]
     },
     "metadata": {
      "needs_background": "light"
     },
     "output_type": "display_data"
    }
   ],
   "source": [
    "fig,axs = plt.subplots(figsize=(5,3)); axs = np.asarray([axs])\n",
    "forcing_phase11 = np.mod((a11._m[1]+del11)*np.linspace(0,tp11[-1],len(tp11)),2*np.pi)\n",
    "y11 = np.mod(phase11-forcing_phase11,2*np.pi)\n",
    "\n",
    "axs[0].scatter(tp11,y11,s=1,alpha=.25,label='f')\n",
    "axs[0].plot(solr11.t,np.mod(solr11.y.T[:,0],2*np.pi),color='r',label='r')\n",
    "axs[0].plot(solr11b.t,np.mod(solr11b.y.T[:,0]-a11.om*solr11b.y.T[:,2],2*np.pi),color='green',label='r',alpha=.5)\n",
    "\n",
    "axs[0].legend()\n",
    "axs[0].set_ylim(0,2*np.pi)"
   ]
  },
  {
   "cell_type": "markdown",
   "id": "d1113bb9-40eb-4000-a2fd-b1ed0739d13d",
   "metadata": {},
   "source": [
    "# 1:2"
   ]
  },
  {
   "cell_type": "code",
   "execution_count": 395,
   "id": "34726952-6fdf-409d-82b4-cf2f621d425f",
   "metadata": {
    "tags": []
   },
   "outputs": [
    {
     "name": "stdout",
     "output_type": "stream",
     "text": [
      "e1,e2\n",
      "psi**4*zv0_4(t) + psi**3*zv0_3(t) + psi**2*zv0_2(t) + psi*zv0_1(t) + zv0_0(t)\n",
      "psi**4*iv0_4(t) + psi**3*iv0_3(t) + psi**2*iv0_2(t) + psi*iv0_1(t) + iv0_0(t)\n",
      "\n",
      "0 imp0 for z zv0_0(th0)\n",
      "0 imp0 for i iv0_0(th0)\n",
      "1 imp0 for z zv0_1(th0)\n",
      "1 imp0 for i iv0_1(th0)\n",
      "2 imp0 for z zv0_2(th0)\n",
      "2 imp0 for i iv0_2(th0)\n",
      "3 imp0 for z zv0_3(th0)\n",
      "3 imp0 for i iv0_3(th0)\n",
      "4 imp0 for z zv0_4(th0)\n",
      "4 imp0 for i iv0_4(th0)\n",
      "\n",
      "hz0,hi0,imp\n",
      "0 uf(t)*zv0_0(t/2 + th0)\n",
      "1 uf(t)*zv0_1(t/2 + th0)\n",
      "2 uf(t)*zv0_2(t/2 + th0)\n",
      "3 uf(t)*zv0_3(t/2 + th0)\n",
      "4 uf(t)*zv0_4(t/2 + th0)\n",
      "\n",
      "0 iv0_0(t/2 + th0)*uf(t)\n",
      "1 iv0_1(t/2 + th0)*uf(t)\n",
      "2 iv0_2(t/2 + th0)*uf(t)\n",
      "3 iv0_3(t/2 + th0)*uf(t)\n",
      "4 iv0_4(t/2 + th0)*uf(t)\n",
      "\n"
     ]
    }
   ],
   "source": [
    "a12 = nmc(system1,None,\n",
    "        _n=('om0',1),_m=('om1',2),\n",
    "        NP=500,NH=500)"
   ]
  },
  {
   "cell_type": "markdown",
   "id": "256935ee-16ce-4f95-9dd4-7fb151aa33ec",
   "metadata": {},
   "source": [
    "## Tongue"
   ]
  },
  {
   "cell_type": "code",
   "execution_count": 396,
   "id": "9a866f02-16fe-4443-9a41-a0738aa0cc99",
   "metadata": {},
   "outputs": [
    {
     "name": "stdout",
     "output_type": "stream",
     "text": [
      "1.0     \n",
      "1.0     \n"
     ]
    }
   ],
   "source": [
    "d1 = np.linspace(-10,-1,10)\n",
    "del_list_12a,ve_list_12a = get_tongue(2**d1,a12,deps=.01,max_eps=.3)\n",
    "del_list_12b,ve_list_12b = get_tongue(-2**d1,a12,deps=.01,max_eps=.3)"
   ]
  },
  {
   "cell_type": "code",
   "execution_count": 397,
   "id": "a5f8cc84-dc75-4b44-9bee-e2be4688d412",
   "metadata": {},
   "outputs": [
    {
     "data": {
      "text/plain": [
       "[<matplotlib.lines.Line2D at 0x7fc5c143db80>]"
      ]
     },
     "execution_count": 397,
     "metadata": {},
     "output_type": "execute_result"
    },
    {
     "data": {
      "image/png": "[encoded data removed]",
      "text/plain": [
       "<Figure size 432x288 with 1 Axes>"
      ]
     },
     "metadata": {
      "needs_background": "light"
     },
     "output_type": "display_data"
    }
   ],
   "source": [
    "fig,axs = plt.subplots()\n",
    "axs.plot(del_list_12a,ve_list_12a,color='tab:blue')\n",
    "axs.plot(del_list_12b,ve_list_12b,color='tab:blue')\n",
    "#axs.set_xscale('symlog')"
   ]
  },
  {
   "cell_type": "markdown",
   "id": "27523aa9-7d99-45f1-b023-0c08c844b293",
   "metadata": {},
   "source": [
    "## Frequency ratio"
   ]
  },
  {
   "cell_type": "code",
   "execution_count": 398,
   "id": "67ab3f2a-ede5-4f5c-b2bb-39f1745ebffa",
   "metadata": {},
   "outputs": [],
   "source": [
    "# fix eps.\n",
    "# x-axis, deviation from baseline freq. this is delta\n",
    "# y-axis, ratio of oscillator vs forcing fn frequency\n",
    "eps_val12 = .025\n",
    "\n",
    "del_range12 = np.linspace(-.05,.05,10)\n",
    "\n",
    "th_init = 3\n",
    "\n",
    "dt = .01;T=1000\n",
    "t = np.arange(0,T,dt)\n",
    "\n",
    "y0 = system1.lc['dat'][int((th_init/(2*np.pi))*system1.TN),:]"
   ]
  },
  {
   "cell_type": "code",
   "execution_count": 399,
   "id": "44b4600f-8bd2-4558-b13d-bef93c56103f",
   "metadata": {},
   "outputs": [
    {
     "name": "stdout",
     "output_type": "stream",
     "text": [
      "-0.05 0.5123571756625316 0.5121200973411973\n",
      "-0.03888888888888889 0.5093799562309824 0.5091442839789444\n",
      "-0.02777777777777778 0.5062269109828295 0.5060436982674845\n",
      "-0.01666666666666667 0.5020336589283975 0.5015038403611441\n",
      "-0.005555555555555557 0.5 0.5000100452034153\n",
      "0.005555555555555557 0.5000071788503192 0.49999707769519075\n",
      "0.016666666666666663 0.49997400162071476 0.49995369027210823\n",
      "0.027777777777777776 0.4944181730963441 0.4944181730963441\n",
      "0.03888888888888889 0.49143600894658696 0.49141616937899857\n",
      "0.05 0.4884807036655975 0.4884609953400174\n"
     ]
    }
   ],
   "source": [
    "fr_full12 = []\n",
    "fr_redu12 = []\n",
    "fr_redu12b = []\n",
    "\n",
    "for i in range(len(del_range12)):\n",
    "    \n",
    "    args12 = [a12,eps_val12,del_range12[i]]\n",
    "    \n",
    "    solf12 = solve_ivp(_full,[0,t[-1]],y0,t_eval=t,args=(*args12,),**kw_sim)\n",
    "    solr12a = solve_ivp(rhs_avg,[0,t[-1]],[th_init,0],t_eval=t,args=(*args12,),**kw_sim)\n",
    "    # solr12b = solve_ivp(_redu,[0,t[-1]],[th_init,0,0],t_eval=t,args=(*args12,),**kw_sim)\n",
    "    #solr12_0 = solve_ivp(rhs_avg,[0,t[-1]],[th_init,0],t_eval=t,args=(*args12,1),**kw_sim)\n",
    "\n",
    "    timef = t*(a12._m[1]+del_range12[i])\n",
    "    timer = t*a12._n[1]*(1+del_range12[i]/a12._m[1])\n",
    "    \n",
    "    freq_force = freq_est(t,a12.system1.forcing_fn(timef))\n",
    "    freq_full,idxs = freq_est(t,solf12.y.T[:,0],prominence=.25,return_idxs=True)\n",
    "    freq_redu = freq_est(t,np.mod(solr12a.y.T[:,0]+timer,2*np.pi))\n",
    "    # freq_redub = freq_est(t,np.mod(solr12b.y.T[:,0],2*np.pi))\n",
    "\n",
    "    # fig,axs = plt.subplots()\n",
    "    # axs.plot(t,solf12.y.T[:,0])\n",
    "    # # axs.plot(t,np.mod(solr12a.y.T[:,0],2*np.pi))\n",
    "    # # axs.plot(t,12*a12.system2(t*(a12._m[1]+del_range12[i])))\n",
    "    # axs.scatter(t[idxs],solf12.y.T[idxs,0],s=10)\n",
    "    # axs.set_xlim(t[-1]-200,t[-1])\n",
    "    # plt.show()\n",
    "\n",
    "    print(del_range12[i],freq_full/freq_force,freq_redu/freq_force)\n",
    "\n",
    "    fr_full12.append(freq_full/freq_force)\n",
    "    fr_redu12.append(freq_redu/freq_force)\n",
    "    # fr_redu12b.append(freq_redub/freq_force)\n",
    "\n",
    "fr_full12 = np.asarray(fr_full12)\n",
    "fr_redu12 = np.asarray(fr_redu12)\n",
    "# fr_redu12b = np.asarray(fr_redu12b)"
   ]
  },
  {
   "cell_type": "code",
   "execution_count": 400,
   "id": "061aec46-2af2-45dc-b74f-e96963539ff8",
   "metadata": {},
   "outputs": [
    {
     "data": {
      "text/plain": [
       "[<matplotlib.lines.Line2D at 0x7fc5a837d280>]"
      ]
     },
     "execution_count": 400,
     "metadata": {},
     "output_type": "execute_result"
    },
    {
     "data": {
      "image/png": "[encoded data removed]",
      "text/plain": [
       "<Figure size 432x288 with 1 Axes>"
      ]
     },
     "metadata": {
      "needs_background": "light"
     },
     "output_type": "display_data"
    }
   ],
   "source": [
    "fig,axs = plt.subplots()\n",
    "axs.plot(del_range12,fr_full12)\n",
    "axs.plot(del_range12,fr_redu12)\n",
    "# axs.plot(del_range12,fr_redu12b)"
   ]
  },
  {
   "cell_type": "code",
   "execution_count": 401,
   "id": "905c272c-aafb-43ab-ace6-3f6b8f5499fe",
   "metadata": {},
   "outputs": [
    {
     "data": {
      "text/plain": [
       "[<matplotlib.lines.Line2D at 0x7fc5a83e0460>]"
      ]
     },
     "execution_count": 401,
     "metadata": {},
     "output_type": "execute_result"
    },
    {
     "data": {
      "image/png": "[encoded data removed]",
      "text/plain": [
       "<Figure size 432x288 with 1 Axes>"
      ]
     },
     "metadata": {
      "needs_background": "light"
     },
     "output_type": "display_data"
    }
   ],
   "source": [
    "fig,axs = plt.subplots()\n",
    "axs.plot(del_range12,fr_full12-.5+eps_val12)\n",
    "axs.plot(del_range12,fr_redu12-.5+eps_val12)\n",
    "# axs.plot(del_range12,fr_redu12b-.5+eps_val12)\n",
    "\n",
    "axs.plot(del_list_12a,ve_list_12a,color='tab:blue')\n",
    "axs.plot(del_list_12b,ve_list_12b,color='tab:blue')"
   ]
  },
  {
   "cell_type": "markdown",
   "id": "eeb405e1-eb3f-464e-b8af-f5249f4881e9",
   "metadata": {},
   "source": [
    "* FROM CGL1: Okay when the full freq ratio appears to be shifted relative to the reduced freq, it might be because the om_fix term is messing things up somewhere. So far this is the most plausible explanation for all the shifts. Note that the response requires om_fix to exist in the rhs, but the response functions, when using them in the integration of the reduced models, do not require om_fix. Also, the forcing function needs to be multiplied by both omx and om_fix, but I can do this explicitly for now."
   ]
  },
  {
   "cell_type": "markdown",
   "id": "f4fde59f-78e3-4165-ab0d-1b8f1f2991f2",
   "metadata": {},
   "source": [
    "## Verify"
   ]
  },
  {
   "cell_type": "code",
   "execution_count": 402,
   "id": "da9abc36-fe90-4989-a2be-d949a4ebb8d7",
   "metadata": {},
   "outputs": [],
   "source": [
    "eps12 = .05\n",
    "del12 = 0.04\n",
    "th_init12 = 3"
   ]
  },
  {
   "cell_type": "markdown",
   "id": "8d736280-b4db-4e28-bd91-93b0c26db4d5",
   "metadata": {},
   "source": [
    "### Phase plane"
   ]
  },
  {
   "cell_type": "code",
   "execution_count": 403,
   "id": "afba00af-0070-4b9e-ae3d-0f1deb5a0ec9",
   "metadata": {},
   "outputs": [
    {
     "data": {
      "image/png": "[encoded data removed]",
      "text/plain": [
       "<Figure size 432x288 with 1 Axes>"
      ]
     },
     "metadata": {
      "needs_background": "light"
     },
     "output_type": "display_data"
    }
   ],
   "source": [
    "dt12 = .02;T12=2000\n",
    "t12 = np.arange(0,T12,dt12)\n",
    "\n",
    "plt = pl_exist(eps12,del12,a12,return_data=True)\n",
    "\n",
    "out1 = solve_ivp(rhs_avg,[t12[0],t12[-1]],[th_init12,0],t_eval=t12,args=(a12,eps12,del12),**kw_sim)\n",
    "plt.plot(np.mod(out1.y.T[:,0],2*np.pi),out1.y.T[:,1],lw=2)\n",
    "\n",
    "plt.xlim(-1,7)\n",
    "\n",
    "plt.show()"
   ]
  },
  {
   "cell_type": "markdown",
   "id": "7e9110dc-2f31-4bf8-b645-736cc6d1d97d",
   "metadata": {},
   "source": [
    "### Integration"
   ]
  },
  {
   "cell_type": "code",
   "execution_count": 404,
   "id": "3f855684-4be5-4f9b-89b6-5c8b4bfb0ead",
   "metadata": {},
   "outputs": [],
   "source": [
    "init12 = system1.lc['dat'][int((th_init12/(2*np.pi))*system1.TN),:]\n",
    "args12 = [a12,eps12,del12]\n",
    "solf12 = solve_ivp(_full,[0,t12[-1]],init12,t_eval=t12,args=(*args12,),**kw_sim)"
   ]
  },
  {
   "cell_type": "code",
   "execution_count": 405,
   "id": "431aba0b-0417-4d76-9801-541f7933baf3",
   "metadata": {},
   "outputs": [],
   "source": [
    "solr12 = solve_ivp(rhs_avg,[0,t12[-1]],[th_init12,0],t_eval=t12,args=(*args12,),**kw_sim)\n",
    "# solr12_0 = solve_ivp(rhs_avg,[0,t[-1]],[th_init,0],t_eval=t,args=(*args12,1),**kw_sim)"
   ]
  },
  {
   "cell_type": "code",
   "execution_count": 406,
   "id": "4ef67923-4cc4-42f7-b512-a58977417b26",
   "metadata": {},
   "outputs": [],
   "source": [
    "solr12b = solve_ivp(_redu,[0,t12[-1]],[th_init12,0,0],t_eval=t12,args=(*args12,),**kw_sim)"
   ]
  },
  {
   "cell_type": "code",
   "execution_count": 407,
   "id": "fb28ceff-67c4-48b7-b71e-7d840c115990",
   "metadata": {
    "tags": []
   },
   "outputs": [],
   "source": [
    "tp12, phase12 = get_phase(t12,solf12.y.T,skipn=10,system1=system1)"
   ]
  },
  {
   "cell_type": "code",
   "execution_count": 408,
   "id": "c7d49542-c433-4ad5-b59a-e48084077b69",
   "metadata": {
    "scrolled": true
   },
   "outputs": [
    {
     "data": {
      "text/plain": [
       "(0.0, 6.283185307179586)"
      ]
     },
     "execution_count": 408,
     "metadata": {},
     "output_type": "execute_result"
    },
    {
     "data": {
      "image/png": "[encoded data removed]",
      "text/plain": [
       "<Figure size 360x216 with 1 Axes>"
      ]
     },
     "metadata": {
      "needs_background": "light"
     },
     "output_type": "display_data"
    }
   ],
   "source": [
    "fig,axs = plt.subplots(figsize=(5,3)); axs = np.asarray([axs])\n",
    "forcing_phase12 = np.mod((a12._m[1]+del12)*np.linspace(0,tp12[-1],len(tp12)),2*np.pi*a12._m[1])\n",
    "y12 = np.mod(phase12-a12.om*forcing_phase12,2*np.pi)\n",
    "\n",
    "axs[0].scatter(tp12,y12,s=1,alpha=.25,label='f')\n",
    "axs[0].plot(solr12.t,np.mod(solr12.y.T[:,0],2*np.pi),color='r',label='r',alpha=.6)\n",
    "axs[0].plot(solr12b.t,np.mod(solr12b.y.T[:,0]-a12.om*solr12b.y.T[:,2],2*np.pi),color='green',label='rf',alpha=.6)\n",
    "\n",
    "axs[0].legend()\n",
    "axs[0].set_ylim(0,2*np.pi)"
   ]
  },
  {
   "cell_type": "markdown",
   "id": "493cee3e-90ab-4d42-909f-dc7e8c6663be",
   "metadata": {},
   "source": [
    "# 2:3"
   ]
  },
  {
   "cell_type": "code",
   "execution_count": 409,
   "id": "6052dcd8-ec50-4c60-bc17-2c614c8f3d32",
   "metadata": {
    "tags": []
   },
   "outputs": [
    {
     "name": "stdout",
     "output_type": "stream",
     "text": [
      "e1,e2\n",
      "psi**4*zv0_4(t) + psi**3*zv0_3(t) + psi**2*zv0_2(t) + psi*zv0_1(t) + zv0_0(t)\n",
      "psi**4*iv0_4(t) + psi**3*iv0_3(t) + psi**2*iv0_2(t) + psi*iv0_1(t) + iv0_0(t)\n",
      "\n",
      "0 imp0 for z zv0_0(th0)\n",
      "0 imp0 for i iv0_0(th0)\n",
      "1 imp0 for z zv0_1(th0)\n",
      "1 imp0 for i iv0_1(th0)\n",
      "2 imp0 for z zv0_2(th0)\n",
      "2 imp0 for i iv0_2(th0)\n",
      "3 imp0 for z zv0_3(th0)\n",
      "3 imp0 for i iv0_3(th0)\n",
      "4 imp0 for z zv0_4(th0)\n",
      "4 imp0 for i iv0_4(th0)\n",
      "\n",
      "hz0,hi0,imp\n",
      "0 uf(t)*zv0_0(2*t/3 + th0)\n",
      "1 uf(t)*zv0_1(2*t/3 + th0)\n",
      "2 uf(t)*zv0_2(2*t/3 + th0)\n",
      "3 uf(t)*zv0_3(2*t/3 + th0)\n",
      "4 uf(t)*zv0_4(2*t/3 + th0)\n",
      "\n",
      "0 iv0_0(2*t/3 + th0)*uf(t)\n",
      "1 iv0_1(2*t/3 + th0)*uf(t)\n",
      "2 iv0_2(2*t/3 + th0)*uf(t)\n",
      "3 iv0_3(2*t/3 + th0)*uf(t)\n",
      "4 iv0_4(2*t/3 + th0)*uf(t)\n",
      "\n"
     ]
    }
   ],
   "source": [
    "a23 = nmc(system1,None,\n",
    "        #recompute_list=['p_cglf0','h_cglf0','p_data_cglf0','h_data_cglf0'],\n",
    "        #recompute_list=recompute_list,\n",
    "        _n=('om0',2),_m=('om1',3),\n",
    "        NP=300,NH=300)"
   ]
  },
  {
   "cell_type": "markdown",
   "id": "9982e49f-5190-4beb-8b41-8ac176048e64",
   "metadata": {},
   "source": [
    "## Tongue"
   ]
  },
  {
   "cell_type": "code",
   "execution_count": 410,
   "id": "3a27462f-57ba-436d-8697-5b3eebd4108c",
   "metadata": {},
   "outputs": [
    {
     "name": "stdout",
     "output_type": "stream",
     "text": [
      "1.0     \n",
      "1.0     \n"
     ]
    }
   ],
   "source": [
    "d1 = np.linspace(-10,0,10,endpoint=False)\n",
    "#dtemp = np.linspace(-1e-3,1e-3,31)\n",
    "\n",
    "del_list_23a,ve_list_23a = get_tongue(2**d1,a23,deps=.01,max_eps=1)\n",
    "del_list_23b,ve_list_23b = get_tongue(-2**d1,a23,deps=.01,max_eps=1)"
   ]
  },
  {
   "cell_type": "code",
   "execution_count": 435,
   "id": "05fc923e-d1cf-4129-968b-6e78b9ff1cdf",
   "metadata": {},
   "outputs": [
    {
     "data": {
      "text/plain": [
       "(-0.02, 0.02)"
      ]
     },
     "execution_count": 435,
     "metadata": {},
     "output_type": "execute_result"
    },
    {
     "data": {
      "image/png": "[encoded data removed]",
      "text/plain": [
       "<Figure size 432x288 with 1 Axes>"
      ]
     },
     "metadata": {
      "needs_background": "light"
     },
     "output_type": "display_data"
    }
   ],
   "source": [
    "fig,axs = plt.subplots()\n",
    "axs.plot(del_list_23a,ve_list_23a,color='tab:blue')\n",
    "axs.plot(del_list_23b,ve_list_23b,color='tab:blue')\n",
    "axs.set_ylim(0,0.1)\n",
    "axs.set_xlim(-.02,.02)"
   ]
  },
  {
   "cell_type": "code",
   "execution_count": 412,
   "id": "7c41aa22-fab2-4fd8-a83c-9241a485827a",
   "metadata": {},
   "outputs": [
    {
     "data": {
      "text/plain": [
       "array([0.00470925, 0.0094185 , 0.01883701, 0.03767401, 0.07534802, 0.15069605, 0.3013921 , 0.60278419,        nan,        nan])"
      ]
     },
     "execution_count": 412,
     "metadata": {},
     "output_type": "execute_result"
    }
   ],
   "source": [
    "ve_list_23b"
   ]
  },
  {
   "cell_type": "markdown",
   "id": "831d0408-969c-4b92-98b5-a5af35422593",
   "metadata": {},
   "source": [
    "## Frequency ratio"
   ]
  },
  {
   "cell_type": "code",
   "execution_count": 426,
   "id": "411480fc-0014-4561-8dcb-e09463755a0b",
   "metadata": {},
   "outputs": [
    {
     "name": "stdout",
     "output_type": "stream",
     "text": [
      "-0.01 0.6693141958634036 0.6688153415385856\n",
      "-0.0077777777777777776 0.6687764988879705 0.6679820675955007\n",
      "-0.005555555555555556 0.6682253979131813 0.6674719979598273\n",
      "-0.003333333333333334 0.6679301584741322 0.6667605917278858\n",
      "-0.0011111111111111113 0.6666865803799267 0.6666731540063412\n",
      "0.0011111111111111113 0.6666618117449925 0.6666618117449925\n",
      "0.0033333333333333322 0.6667148369780238 0.6666747507083642\n",
      "0.005555555555555555 0.6667004333825957 0.6666736894123849\n",
      "0.0077777777777777776 0.6658440414435325 0.6653105446252775\n",
      "0.01 0.6653218918967179 0.6652152142373766\n"
     ]
    }
   ],
   "source": [
    "# fix eps.\n",
    "# x-axis, deviation from baseline freq. this is delta\n",
    "# y-axis, ratio of oscillator vs forcing fn frequency\n",
    "eps_val23 = .025\n",
    "\n",
    "del_range23 = np.linspace(-.01,.01,10)\n",
    "\n",
    "th_init23 = 3\n",
    "\n",
    "dt = .01;T=1000\n",
    "t = np.arange(0,T,dt)\n",
    "\n",
    "y0 = system1.lc['dat'][int((th_init23/(2*np.pi))*system1.TN),:]\n",
    "\n",
    "fr_full23 = []\n",
    "fr_redu23 = []\n",
    "\n",
    "for i in range(len(del_range23)):\n",
    "    \n",
    "    args23 = [a23,eps_val23,del_range23[i]]\n",
    "    \n",
    "    solf23 = solve_ivp(_full,[0,t[-1]],y0,t_eval=t,args=(*args23,),**kw_sim)\n",
    "    #solr23b = solve_ivp(_redu,[0,t[-1]],[th_init,0,0],t_eval=t,args=(*args23,),**kw_sim)\n",
    "    solr23a = solve_ivp(rhs_avg,[0,t[-1]],[th_init23,0],t_eval=t,args=(*args23,),**kw_sim)\n",
    "    #solr23_0 = solve_ivp(rhs_avg,[0,t[-1]],[th_init,0],t_eval=t,args=(*args23,1),**kw_sim)\n",
    "\n",
    "    timef = t*(a23._m[1]+del_range23[i])\n",
    "    timer = t*(a23._n[1]+a23._n[1]*del_range23[i]/a23._m[1])\n",
    "    # get peaks and calculate freq. in full and redu.\n",
    "    freq_force = freq_est(t,a23.system1.forcing_fn(timef))\n",
    "    freq_full,idxs = freq_est(t,solf23.y.T[:,0],prominence=.3,return_idxs=True,width=20)\n",
    "    freq_redu = freq_est(t,np.mod(solr23a.y.T[:,0]+timer,2*np.pi))\n",
    "\n",
    "    print(del_range23[i],freq_full/freq_force,freq_redu/freq_force)\n",
    "\n",
    "    # fig,axs = plt.subplots()\n",
    "    # axs.plot(t,solf23.y.T[:,0])\n",
    "    # axs.plot(t,np.mod(solr23a.y.T[:,0]+timer,2*np.pi))\n",
    "    # axs.plot(t,a23.system2(timef))\n",
    "    # axs.set_xlim(t[-1]-50,t[-1])\n",
    "    # axs.scatter(t[idxs],solf23.y.T[idxs,0])\n",
    "    # plt.show()\n",
    "\n",
    "    fr_full23.append(freq_full/freq_force)\n",
    "    fr_redu23.append(freq_redu/freq_force)\n",
    "\n",
    "fr_full23 = np.asarray(fr_full23)\n",
    "fr_redu23 = np.asarray(fr_redu23)"
   ]
  },
  {
   "cell_type": "code",
   "execution_count": 427,
   "id": "2e5cbddf-67e4-4aa4-83ef-b86d437c2044",
   "metadata": {},
   "outputs": [
    {
     "data": {
      "text/plain": [
       "[<matplotlib.lines.Line2D at 0x7fc5ab1efb50>]"
      ]
     },
     "execution_count": 427,
     "metadata": {},
     "output_type": "execute_result"
    },
    {
     "data": {
      "image/png": "[encoded data removed]",
      "text/plain": [
       "<Figure size 432x288 with 1 Axes>"
      ]
     },
     "metadata": {
      "needs_background": "light"
     },
     "output_type": "display_data"
    }
   ],
   "source": [
    "fig,axs = plt.subplots()\n",
    "axs.plot(del_range23,fr_full23)\n",
    "axs.plot(del_range23,fr_redu23)"
   ]
  },
  {
   "cell_type": "code",
   "execution_count": 433,
   "id": "9f62599a-a398-457b-a240-40ea8e4dc1d9",
   "metadata": {},
   "outputs": [
    {
     "data": {
      "text/plain": [
       "(-0.02, 0.02)"
      ]
     },
     "execution_count": 433,
     "metadata": {},
     "output_type": "execute_result"
    },
    {
     "data": {
      "image/png": "[encoded data removed]",
      "text/plain": [
       "<Figure size 432x288 with 1 Axes>"
      ]
     },
     "metadata": {
      "needs_background": "light"
     },
     "output_type": "display_data"
    }
   ],
   "source": [
    "fig,axs = plt.subplots()\n",
    "axs.plot(del_range23,fr_full23-2/3+eps_val23)\n",
    "axs.plot(del_range23,fr_redu23-2/3+eps_val23)\n",
    "# axs.plot(del_range12,fr_redu12b-.5+eps_val12)\n",
    "\n",
    "axs.plot(del_list_23a,ve_list_23a,color='tab:blue')\n",
    "axs.plot(del_list_23b,ve_list_23b,color='tab:blue')\n",
    "axs.set_ylim(0,.1)\n",
    "axs.set_xlim(-.02,.02)"
   ]
  },
  {
   "cell_type": "markdown",
   "id": "db7a0f9f-3b2d-4ad7-9521-f11aea3e6562",
   "metadata": {},
   "source": [
    "## Verify"
   ]
  },
  {
   "cell_type": "code",
   "execution_count": 458,
   "id": "fcb4cf19-dc1b-40f7-a61f-b12047b8720e",
   "metadata": {},
   "outputs": [],
   "source": [
    "eps23 = .02\n",
    "del23 = 0.01\n",
    "th_init23 = 3"
   ]
  },
  {
   "cell_type": "markdown",
   "id": "2ce6a40b-ef5d-49cc-8d3d-17cad783ee3f",
   "metadata": {},
   "source": [
    "### Phase plane"
   ]
  },
  {
   "cell_type": "code",
   "execution_count": 459,
   "id": "5545fde8-c33b-43e0-9d26-39f82f598f3b",
   "metadata": {},
   "outputs": [
    {
     "data": {
      "image/png": "[encoded data removed]",
      "text/plain": [
       "<Figure size 432x288 with 1 Axes>"
      ]
     },
     "metadata": {
      "needs_background": "light"
     },
     "output_type": "display_data"
    }
   ],
   "source": [
    "dt23 = .02;T23=2000\n",
    "t23 = np.arange(0,T23,dt23)\n",
    "\n",
    "plt = pl_exist(eps23,del23,a23,return_data=True)\n",
    "\n",
    "out1 = solve_ivp(rhs_avg,[t23[0],t23[-1]],[3,.2],t_eval=t23,args=(a23,eps23,del23),**kw_sim)\n",
    "plt.plot(np.mod(out1.y.T[:,0],2*np.pi),out1.y.T[:,1],lw=2)\n",
    "\n",
    "plt.xlim(-1,7)\n",
    "\n",
    "plt.show()"
   ]
  },
  {
   "cell_type": "markdown",
   "id": "beab325d-1589-4605-bcc5-182bc8884fb2",
   "metadata": {},
   "source": [
    "### Integration"
   ]
  },
  {
   "cell_type": "code",
   "execution_count": 460,
   "id": "de6729b4-a468-4984-963d-2752bd687a10",
   "metadata": {},
   "outputs": [],
   "source": [
    "init23 = system1.lc['dat'][int((th_init23/(2*np.pi))*system1.TN),:]\n",
    "args23 = [a23,eps23,del23]\n",
    "solf23 = solve_ivp(_full,[0,t23[-1]],init23,t_eval=t23,args=(*args23,),**kw_sim)"
   ]
  },
  {
   "cell_type": "code",
   "execution_count": 461,
   "id": "354bb326-fbef-4f36-b818-57d7de56c358",
   "metadata": {},
   "outputs": [],
   "source": [
    "solr23 = solve_ivp(rhs_avg,[0,t23[-1]],[th_init23,0],t_eval=t23,args=(*args23,),**kw_sim)\n",
    "# solr23_0 = solve_ivp(rhs_avg,[0,t[-1]],[th_init,0],t_eval=t,args=(*args23,1),**kw_sim)"
   ]
  },
  {
   "cell_type": "code",
   "execution_count": 462,
   "id": "b670fb19-02b8-4794-8875-2ddce7f8508a",
   "metadata": {},
   "outputs": [
    {
     "data": {
      "text/plain": [
       "(799.99, 999.99)"
      ]
     },
     "execution_count": 462,
     "metadata": {},
     "output_type": "execute_result"
    },
    {
     "data": {
      "image/png": "[encoded data removed]",
      "text/plain": [
       "<Figure size 1080x144 with 1 Axes>"
      ]
     },
     "metadata": {
      "needs_background": "light"
     },
     "output_type": "display_data"
    }
   ],
   "source": [
    "fig,axs = plt.subplots(figsize=(15,2))\n",
    "axs.plot(t,solf23.y.T[:,0])\n",
    "\n",
    "axs.plot(t,a23.system1.forcing_fn(t*(a23._m[1]+del23)))\n",
    "axs.set_xlim(t[-1]-200,t[-1])"
   ]
  },
  {
   "cell_type": "code",
   "execution_count": 463,
   "id": "44c6c667-76e0-417b-88c8-59440a931a8f",
   "metadata": {
    "tags": []
   },
   "outputs": [],
   "source": [
    "tp23, phase23 = get_phase(t23,solf23.y.T,skipn=10,system1=system1)"
   ]
  },
  {
   "cell_type": "code",
   "execution_count": 464,
   "id": "a31ad3fb-30e1-4aa5-ad90-09700596aeb1",
   "metadata": {},
   "outputs": [
    {
     "data": {
      "text/plain": [
       "(0.0, 6.283185307179586)"
      ]
     },
     "execution_count": 464,
     "metadata": {},
     "output_type": "execute_result"
    },
    {
     "data": {
      "image/png": "[encoded data removed]",
      "text/plain": [
       "<Figure size 360x216 with 1 Axes>"
      ]
     },
     "metadata": {
      "needs_background": "light"
     },
     "output_type": "display_data"
    }
   ],
   "source": [
    "fig,axs = plt.subplots(figsize=(5,3)); axs = np.asarray([axs])\n",
    "forcing_phase23 = np.mod((a23._m[1]+del23)*np.linspace(0,tp23[-1],len(tp23)),2*np.pi*a23._m[1])\n",
    "y23 = np.mod(phase23-a23.om*forcing_phase23,2*np.pi)\n",
    "\n",
    "# axs[0].plot(phase23)\n",
    "# axs[0].plot(forcing_phase23*a23.om)\n",
    "axs[0].scatter(tp23,y23,s=1,alpha=.25,label='f')\n",
    "axs[0].plot(solr23.t,np.mod(solr23.y.T[:,0],2*np.pi),color='r',label='r')\n",
    "\n",
    "#axs[0].set_xlim(0,100)\n",
    "\n",
    "axs[0].legend()\n",
    "axs[0].set_ylim(0,2*np.pi)"
   ]
  },
  {
   "cell_type": "markdown",
   "id": "ad5f02b0-37fa-49da-8b22-3af8b9d5034a",
   "metadata": {},
   "source": [
    "# Tongue 1:3"
   ]
  },
  {
   "cell_type": "code",
   "execution_count": 465,
   "id": "71a5090c-0eda-4696-8d01-bb5cc85b7791",
   "metadata": {
    "tags": []
   },
   "outputs": [
    {
     "name": "stdout",
     "output_type": "stream",
     "text": [
      "e1,e2\n",
      "psi**4*zv0_4(t) + psi**3*zv0_3(t) + psi**2*zv0_2(t) + psi*zv0_1(t) + zv0_0(t)\n",
      "psi**4*iv0_4(t) + psi**3*iv0_3(t) + psi**2*iv0_2(t) + psi*iv0_1(t) + iv0_0(t)\n",
      "\n",
      "0 imp0 for z zv0_0(th0)\n",
      "0 imp0 for i iv0_0(th0)\n",
      "1 imp0 for z zv0_1(th0)\n",
      "1 imp0 for i iv0_1(th0)\n",
      "2 imp0 for z zv0_2(th0)\n",
      "2 imp0 for i iv0_2(th0)\n",
      "3 imp0 for z zv0_3(th0)\n",
      "3 imp0 for i iv0_3(th0)\n",
      "4 imp0 for z zv0_4(th0)\n",
      "4 imp0 for i iv0_4(th0)\n",
      "\n",
      "hz0,hi0,imp\n",
      "0 uf(t)*zv0_0(t/3 + th0)\n",
      "1 uf(t)*zv0_1(t/3 + th0)\n",
      "2 uf(t)*zv0_2(t/3 + th0)\n",
      "3 uf(t)*zv0_3(t/3 + th0)\n",
      "4 uf(t)*zv0_4(t/3 + th0)\n",
      "\n",
      "0 iv0_0(t/3 + th0)*uf(t)\n",
      "1 iv0_1(t/3 + th0)*uf(t)\n",
      "2 iv0_2(t/3 + th0)*uf(t)\n",
      "3 iv0_3(t/3 + th0)*uf(t)\n",
      "4 iv0_4(t/3 + th0)*uf(t)\n",
      "\n"
     ]
    }
   ],
   "source": [
    "a13 = nmc(system1,None,\n",
    "        #recompute_list=['p_cglf0','h_cglf0','p_data_cglf0','h_data_cglf0'],\n",
    "        #recompute_list=recompute_list,\n",
    "        _n=('om0',1),_m=('om1',3),\n",
    "        NP=500,NH=500)"
   ]
  },
  {
   "cell_type": "markdown",
   "id": "afa8718a-b43c-4c23-9414-450faac6b657",
   "metadata": {},
   "source": [
    "## Tongue"
   ]
  },
  {
   "cell_type": "code",
   "execution_count": 466,
   "id": "26680c50-97bb-4f90-9da7-e41c330e1ee4",
   "metadata": {},
   "outputs": [
    {
     "name": "stdout",
     "output_type": "stream",
     "text": [
      "1.0     \n",
      "1.0     \n"
     ]
    }
   ],
   "source": [
    "d1 = np.linspace(-9,0,10,endpoint=False)\n",
    "#dtemp = np.linspace(-1e-3,1e-3,31)\n",
    "\n",
    "del_list_13a,ve_list_13a = get_tongue(2**d1,a13,deps=.01,max_eps=.2)\n",
    "del_list_13b,ve_list_13b = get_tongue(-2**d1,a13,deps=.01,max_eps=.2)"
   ]
  },
  {
   "cell_type": "code",
   "execution_count": 467,
   "id": "b9462668-a684-4b93-ab4c-35bd43c89c5d",
   "metadata": {},
   "outputs": [
    {
     "data": {
      "text/plain": [
       "[<matplotlib.lines.Line2D at 0x7fc5a18c93d0>]"
      ]
     },
     "execution_count": 467,
     "metadata": {},
     "output_type": "execute_result"
    },
    {
     "data": {
      "image/png": "[encoded data removed]",
      "text/plain": [
       "<Figure size 432x288 with 1 Axes>"
      ]
     },
     "metadata": {
      "needs_background": "light"
     },
     "output_type": "display_data"
    }
   ],
   "source": [
    "fig,axs = plt.subplots()\n",
    "axs.plot(del_list_13a,ve_list_13a,color='tab:blue')\n",
    "axs.plot(del_list_13b,ve_list_13b,color='tab:blue')\n",
    "#axs.set_xscale('symlog')\n",
    "#axs.set_xscale('log')\n",
    "#axs.set_xlim(4e-6,2e-5)"
   ]
  },
  {
   "cell_type": "markdown",
   "id": "ebf1122b-70d6-4b87-825c-a76f662bcfab",
   "metadata": {},
   "source": [
    "## Frequency ratio"
   ]
  },
  {
   "cell_type": "code",
   "execution_count": 468,
   "id": "ff2ee0af-d752-4a8d-a505-7bd05875b878",
   "metadata": {},
   "outputs": [],
   "source": [
    "# fix eps.\n",
    "# x-axis, deviation from baseline freq. this is delta\n",
    "# y-axis, ratio of oscillator vs forcing fn frequency\n",
    "eps_val13 = .035\n",
    "\n",
    "del_range13 = np.linspace(-.1,.1,30)\n",
    "\n",
    "th_init = 3\n",
    "\n",
    "dt = .01;T=1000\n",
    "t = np.arange(0,T,dt)\n",
    "\n",
    "y0 = system1.lc['dat'][int((th_init/(2*np.pi))*system1.TN),:]"
   ]
  },
  {
   "cell_type": "code",
   "execution_count": 469,
   "id": "8ea5a005-c7af-4ef4-80fb-671ac5225a96",
   "metadata": {},
   "outputs": [
    {
     "name": "stdout",
     "output_type": "stream",
     "text": [
      "-0.1 0.34484151698704896 0.34477205550714424\n",
      "-0.09310344827586207 0.3440041553017762 0.3438933069011473\n",
      "-0.08620689655172414 0.34316943464808086 0.3431210493268623\n",
      "-0.07931034482758621 0.3423013101757891 0.34225994862385967\n",
      "-0.07241379310344828 0.34160121051615067 0.34155992108699873\n",
      "-0.06551724137931034 0.34070928687568713 0.3406818385433776\n",
      "-0.05862068965517241 0.3400327425203161 0.3398957678612011\n",
      "-0.05172413793103448 0.33907552118298917 0.3389458190448708\n",
      "-0.04482758620689655 0.33822547642245193 0.3380893175382015\n",
      "-0.03793103448275862 0.337340971634775 0.3373205999830397\n",
      "-0.031034482758620682 0.3363731201635588 0.33637312016355875\n",
      "-0.02413793103448275 0.3358241093743815 0.3355403714425021\n",
      "-0.01724137931034482 0.3346246023947823 0.33449680606421933\n",
      "-0.01034482758620689 0.33333333333333326 0.33333333333333326\n",
      "-0.0034482758620689585 0.3333333333333334 0.3333333333333334\n",
      "0.0034482758620689724 0.3333320056542181 0.3333320056542181\n",
      "0.010344827586206903 0.33332849180669294 0.33332849180669294\n",
      "0.017241379310344834 0.3321724255566198 0.3320785536559781\n",
      "0.024137931034482765 0.33108556059841987 0.3311323165483107\n",
      "0.031034482758620696 0.33050860427724743 0.33048859447314605\n",
      "0.03793103448275864 0.3297990505897088 0.32975911367391925\n",
      "0.04482758620689656 0.3287925429204618 0.3287328709525997\n",
      "0.0517241379310345 0.32806603502315945 0.3279800361028639\n",
      "0.05862068965517242 0.3272031930106486 0.32716361517099724\n",
      "0.06551724137931036 0.32651893676293753 0.3264860182291375\n",
      "0.07241379310344828 0.3257978110936092 0.3257386921714784\n",
      "0.07931034482758623 0.32504358516312776 0.32500426378906067\n",
      "0.08620689655172414 0.32436468590944184 0.324305822293416\n",
      "0.09310344827586209 0.3235606932800944 0.3235215560298791\n",
      "0.1 0.3228606528917247 0.3228411238484625\n"
     ]
    }
   ],
   "source": [
    "fr_full13 = []\n",
    "fr_redu13 = []\n",
    "fr_redu13b = []\n",
    "\n",
    "for i in range(len(del_range13)):\n",
    "    \n",
    "    args13 = [a13,eps_val13,del_range13[i]]\n",
    "    \n",
    "    solf13 = solve_ivp(_full,[0,t[-1]],y0,t_eval=t,args=(*args13,),**kw_sim)\n",
    "    solr13a = solve_ivp(rhs_avg,[0,t[-1]],[th_init,0],args=(*args13,),t_eval=t,**kw_sim)\n",
    "    # solr13b = solve_ivp(_redu,[0,t[-1]],[th_init,0,0],t_eval=t,args=(*args13,),**kw_sim)\n",
    "    #solr13_0 = solve_ivp(rhs_avg,[0,t[-1]],[th_init,0],t_eval=t,args=(*args13,1),**kw_sim)\n",
    "\n",
    "    timef = t*(a13._m[1]+del_range13[i])\n",
    "    timer = t*a13._n[1]*(1+del_range13[i]/a13._m[1])\n",
    "    freq_force = freq_est(t,a13.system1.forcing_fn(timef))\n",
    "    freq_full = freq_est(t,solf13.y.T[:,0],prominence=.15)\n",
    "    freq_redu = freq_est(t,np.mod(solr13a.y.T[:,0]+timer,2*np.pi))\n",
    "    # freq_redub = freq_est(t,np.mod(solr13b.y.T[:,0],2*np.pi))\n",
    "\n",
    "    print(del_range13[i],freq_full/freq_force,freq_redu/freq_force)\n",
    "\n",
    "    # fig,axs = plt.subplots()\n",
    "    # axs.plot(t,solf13.y.T[:,0])\n",
    "    # axs.plot(t,np.mod(solr13a.y.T[:,0]+timer,2*np.pi))\n",
    "    # axs.plot(t,a13.system2(timef))\n",
    "    # axs.set_xlim(t[-1]-50,t[-1])\n",
    "    # axs.scatter(t[idxs],solf13.y.T[idxs,0])\n",
    "    # plt.show()\n",
    "\n",
    "    fr_full13.append(freq_full/freq_force)\n",
    "    fr_redu13.append(freq_redu/freq_force)\n",
    "    # fr_redu13b.append(freq_redu/freq_force)\n",
    "\n",
    "fr_full13 = np.asarray(fr_full13)\n",
    "fr_redu13 = np.asarray(fr_redu13)\n",
    "# fr_redu13b = np.asarray(fr_redu13b)"
   ]
  },
  {
   "cell_type": "code",
   "execution_count": 470,
   "id": "160a4fed-8083-4751-aa48-5df8556f1449",
   "metadata": {},
   "outputs": [
    {
     "data": {
      "text/plain": [
       "[<matplotlib.lines.Line2D at 0x7fc58e4f4eb0>]"
      ]
     },
     "execution_count": 470,
     "metadata": {},
     "output_type": "execute_result"
    },
    {
     "data": {
      "image/png": "[encoded data removed]",
      "text/plain": [
       "<Figure size 432x288 with 1 Axes>"
      ]
     },
     "metadata": {
      "needs_background": "light"
     },
     "output_type": "display_data"
    }
   ],
   "source": [
    "fig,axs = plt.subplots()\n",
    "axs.plot(del_range13,fr_full13)\n",
    "axs.plot(del_range13,fr_redu13)\n",
    "# axs.plot(del_range13,fr_redu13b)"
   ]
  },
  {
   "cell_type": "code",
   "execution_count": 471,
   "id": "3a1c15c6-42e4-4c29-a9c8-a185880cd719",
   "metadata": {},
   "outputs": [
    {
     "data": {
      "text/plain": [
       "[<matplotlib.lines.Line2D at 0x7fc58e5f7d90>]"
      ]
     },
     "execution_count": 471,
     "metadata": {},
     "output_type": "execute_result"
    },
    {
     "data": {
      "image/png": "[encoded data removed]",
      "text/plain": [
       "<Figure size 432x288 with 1 Axes>"
      ]
     },
     "metadata": {
      "needs_background": "light"
     },
     "output_type": "display_data"
    }
   ],
   "source": [
    "fig,axs = plt.subplots()\n",
    "axs.plot(del_range13,fr_full13-1/3+eps_val13)\n",
    "axs.plot(del_range13,fr_redu13-1/3+eps_val13)\n",
    "# axs.plot(del_range13,fr_redu13b-1/3+eps_val13)\n",
    "\n",
    "axs.plot(del_list_13a,ve_list_13a,color='tab:blue')\n",
    "axs.plot(del_list_13b,ve_list_13b,color='tab:blue')"
   ]
  },
  {
   "cell_type": "markdown",
   "id": "7e5e0d61-bd1d-4f07-b935-f00011c2ca04",
   "metadata": {},
   "source": [
    "## Verify"
   ]
  },
  {
   "cell_type": "code",
   "execution_count": 472,
   "id": "c4d434ff-a3d5-48d1-a35c-4952298d9b40",
   "metadata": {},
   "outputs": [],
   "source": [
    "eps13 = .035\n",
    "del13 = -0.01\n",
    "th_init13 = 3"
   ]
  },
  {
   "cell_type": "markdown",
   "id": "7cdea0b2-d85b-4854-a536-3e1a2ba7fc29",
   "metadata": {},
   "source": [
    "### Phase plane"
   ]
  },
  {
   "cell_type": "code",
   "execution_count": 473,
   "id": "fead255d-3f5e-49e6-b373-9d5a58111cf1",
   "metadata": {},
   "outputs": [
    {
     "data": {
      "image/png": "[encoded data removed]",
      "text/plain": [
       "<Figure size 432x288 with 1 Axes>"
      ]
     },
     "metadata": {
      "needs_background": "light"
     },
     "output_type": "display_data"
    }
   ],
   "source": [
    "dt13 = .02;T13=2000\n",
    "t13 = np.arange(0,T13,dt13)\n",
    "\n",
    "plt = pl_exist(eps13,del13,a13,return_data=True)\n",
    "\n",
    "out1 = solve_ivp(rhs_avg,[t13[0],t13[-1]],[th_init13,0],t_eval=t13,args=(a13,eps13,del13),**kw_sim)\n",
    "plt.plot(np.mod(out1.y.T[:,0],2*np.pi),out1.y.T[:,1],lw=2)\n",
    "\n",
    "plt.xlim(-1,7)\n",
    "\n",
    "plt.show()"
   ]
  },
  {
   "cell_type": "markdown",
   "id": "bf5bd4ec-245a-4dca-8d08-06324b180834",
   "metadata": {},
   "source": [
    "### Integration"
   ]
  },
  {
   "cell_type": "code",
   "execution_count": 474,
   "id": "b69bd213-40d8-4cd9-a921-b339cb438bca",
   "metadata": {},
   "outputs": [],
   "source": [
    "init13 = system1.lc['dat'][int((th_init13/(2*np.pi))*system1.TN),:]\n",
    "args13 = [a13,eps13,del13]\n",
    "solf13 = solve_ivp(_full,[0,t13[-1]],init13,t_eval=t13,args=(*args13,),**kw_sim)"
   ]
  },
  {
   "cell_type": "code",
   "execution_count": 475,
   "id": "80a1fbab-e9e3-4b7a-b4e6-1138ff8b76ef",
   "metadata": {},
   "outputs": [],
   "source": [
    "solr13 = solve_ivp(rhs_avg,[0,t13[-1]],[th_init13,0],t_eval=t13,args=(*args13,),**kw_sim)\n",
    "# solr13_0 = solve_ivp(rhs_avg,[0,t[-1]],[th_init,0],t_eval=t,args=(*args13,1),**kw_sim)"
   ]
  },
  {
   "cell_type": "code",
   "execution_count": 476,
   "id": "5ef2bfe5-ffe8-4ff6-a866-c2d7bceb9874",
   "metadata": {},
   "outputs": [],
   "source": [
    "solr13b = solve_ivp(_redu,[0,t13[-1]],[th_init13,0,0],t_eval=t13,args=(*args13,),**kw_sim)"
   ]
  },
  {
   "cell_type": "code",
   "execution_count": 477,
   "id": "2e79e5c6-f335-4a29-9e44-a843c2043695",
   "metadata": {
    "tags": []
   },
   "outputs": [],
   "source": [
    "tp13, phase13 = get_phase(t13,solf13.y.T,skipn=100,system1=system1)"
   ]
  },
  {
   "cell_type": "code",
   "execution_count": 478,
   "id": "9aeb0ef7-fef5-43a8-b093-8612bf9678b9",
   "metadata": {},
   "outputs": [
    {
     "data": {
      "text/plain": [
       "(0.0, 6.283185307179586)"
      ]
     },
     "execution_count": 478,
     "metadata": {},
     "output_type": "execute_result"
    },
    {
     "data": {
      "image/png": "[encoded data removed]",
      "text/plain": [
       "<Figure size 360x216 with 1 Axes>"
      ]
     },
     "metadata": {
      "needs_background": "light"
     },
     "output_type": "display_data"
    }
   ],
   "source": [
    "fig,axs = plt.subplots(figsize=(5,3)); axs = np.asarray([axs])\n",
    "forcing_phase13 = np.mod((a13._m[1]+del13)*np.linspace(0,tp13[-1],len(tp13)),2*np.pi*a13._m[1])\n",
    "y13 = np.mod(phase13-a13.om*forcing_phase13,2*np.pi)\n",
    "\n",
    "#axs[0].plot(phase13)\n",
    "axs[0].scatter(tp13,y13,s=1,alpha=.25,label='f')\n",
    "axs[0].plot(solr13.t,np.mod(solr13.y.T[:,0],2*np.pi),color='r',label='r')\n",
    "axs[0].plot(solr13b.t,np.mod(solr13b.y.T[:,0]-a13.om*solr13b.y.T[:,2],2*np.pi),color='green',label='r f',alpha=.5)\n",
    "\n",
    "#axs[0].set_xlim(0,100)\n",
    "\n",
    "axs[0].legend()\n",
    "axs[0].set_ylim(0,2*np.pi)"
   ]
  },
  {
   "cell_type": "markdown",
   "id": "a2e1bb0c-23d2-4149-bae3-2c4c2021f236",
   "metadata": {},
   "source": [
    "# 3:2 DNE?"
   ]
  },
  {
   "cell_type": "code",
   "execution_count": 479,
   "id": "27a00488-b482-4a8c-ae48-a80d4642adae",
   "metadata": {
    "tags": []
   },
   "outputs": [
    {
     "name": "stdout",
     "output_type": "stream",
     "text": [
      "e1,e2\n",
      "psi**4*zv0_4(t) + psi**3*zv0_3(t) + psi**2*zv0_2(t) + psi*zv0_1(t) + zv0_0(t)\n",
      "psi**4*iv0_4(t) + psi**3*iv0_3(t) + psi**2*iv0_2(t) + psi*iv0_1(t) + iv0_0(t)\n",
      "\n",
      "0 imp0 for z zv0_0(th0)\n",
      "0 imp0 for i iv0_0(th0)\n",
      "1 imp0 for z zv0_1(th0)\n",
      "1 imp0 for i iv0_1(th0)\n",
      "2 imp0 for z zv0_2(th0)\n",
      "2 imp0 for i iv0_2(th0)\n",
      "3 imp0 for z zv0_3(th0)\n",
      "3 imp0 for i iv0_3(th0)\n",
      "4 imp0 for z zv0_4(th0)\n",
      "4 imp0 for i iv0_4(th0)\n",
      "\n",
      "hz0,hi0,imp\n",
      "0 uf(t)*zv0_0(3*t/2 + th0)\n",
      "1 uf(t)*zv0_1(3*t/2 + th0)\n",
      "2 uf(t)*zv0_2(3*t/2 + th0)\n",
      "3 uf(t)*zv0_3(3*t/2 + th0)\n",
      "4 uf(t)*zv0_4(3*t/2 + th0)\n",
      "\n",
      "0 iv0_0(3*t/2 + th0)*uf(t)\n",
      "1 iv0_1(3*t/2 + th0)*uf(t)\n",
      "2 iv0_2(3*t/2 + th0)*uf(t)\n",
      "3 iv0_3(3*t/2 + th0)*uf(t)\n",
      "4 iv0_4(3*t/2 + th0)*uf(t)\n",
      "\n"
     ]
    }
   ],
   "source": [
    "a32 = nmc(system1,None,\n",
    "        #recompute_list=['p_cglf0','h_cglf0','p_data_cglf0','h_data_cglf0'],\n",
    "        #recompute_list=recompute_list,\n",
    "        _n=('om0',3),_m=('om1',2),\n",
    "        NP=500,NH=500)"
   ]
  },
  {
   "cell_type": "markdown",
   "id": "75b4093c-22a3-41d9-bbcb-e8ef4007d302",
   "metadata": {},
   "source": [
    "## Tongue"
   ]
  },
  {
   "cell_type": "code",
   "execution_count": 480,
   "id": "469ef9c7-7e6b-4252-89d5-4d5a964782a8",
   "metadata": {},
   "outputs": [
    {
     "name": "stdout",
     "output_type": "stream",
     "text": [
      "1.0     \n",
      "1.0     \n"
     ]
    }
   ],
   "source": [
    "d1 = np.linspace(-15,0,10,endpoint=False)\n",
    "#dtemp = np.linspace(-1e-3,1e-3,31)\n",
    "\n",
    "del_list_32a,ve_list_32a = get_tongue(2**d1,a32,deps=.01,max_eps=.2)\n",
    "del_list_32b,ve_list_32b = get_tongue(-2**d1,a32,deps=.01,max_eps=.2)"
   ]
  },
  {
   "cell_type": "code",
   "execution_count": 483,
   "id": "8c840f48-c538-4ba8-9619-a5040699ec25",
   "metadata": {},
   "outputs": [
    {
     "data": {
      "text/plain": [
       "[<matplotlib.lines.Line2D at 0x7fc5aab982b0>]"
      ]
     },
     "execution_count": 483,
     "metadata": {},
     "output_type": "execute_result"
    },
    {
     "data": {
      "image/png": "[encoded data removed]",
      "text/plain": [
       "<Figure size 432x288 with 1 Axes>"
      ]
     },
     "metadata": {
      "needs_background": "light"
     },
     "output_type": "display_data"
    }
   ],
   "source": [
    "fig,axs = plt.subplots()\n",
    "axs.plot(del_list_32a,ve_list_32a,color='tab:blue')\n",
    "axs.plot(del_list_32b,ve_list_32b,color='tab:blue')\n",
    "#axs.set_xscale('symlog')\n",
    "#axs.set_xscale('log')\n",
    "#axs.set_xlim(4e-6,2e-5)"
   ]
  },
  {
   "cell_type": "markdown",
   "id": "f2f89d9a-9c0d-4a8c-be8c-22a7519034ae",
   "metadata": {},
   "source": [
    "## Frequency ratio"
   ]
  },
  {
   "cell_type": "code",
   "execution_count": null,
   "id": "18ae2c28-3156-4743-8773-6d0265dbf64a",
   "metadata": {},
   "outputs": [],
   "source": [
    "# fix eps.\n",
    "# x-axis, deviation from baseline freq. this is delta\n",
    "# y-axis, ratio of oscillator vs forcing fn frequency\n",
    "eps_val32 = .03\n",
    "\n",
    "del_range32 = np.linspace(-.01,.01,15)\n",
    "\n",
    "th_init = 3\n",
    "\n",
    "dt = .01;T=1000\n",
    "t = np.arange(0,T,dt)\n",
    "\n",
    "y0 = system1.lc['dat'][int((th_init/(2*np.pi))*system1.TN),:]"
   ]
  },
  {
   "cell_type": "code",
   "execution_count": null,
   "id": "86616e88-5ecc-49a7-80c4-c0b249c27975",
   "metadata": {},
   "outputs": [],
   "source": [
    "fr_full32 = []\n",
    "fr_redu32 = []\n",
    "fr_redu32b = []\n",
    "\n",
    "for i in range(len(del_range32)):\n",
    "    \n",
    "    args32 = [a32,eps_val32,del_range32[i]]\n",
    "    \n",
    "    solf32 = solve_ivp(_full,[0,t[-1]],y0,t_eval=t,args=(*args32,),**kw_sim)\n",
    "    solr32a = solve_ivp(rhs_avg,[0,t[-1]],[th_init,0],args=(*args32,),t_eval=t,**kw_sim)\n",
    "    # solr32b = solve_ivp(_redu,[0,t[-1]],[th_init,0,0],t_eval=t,args=(*args32,),**kw_sim)\n",
    "    #solr32_0 = solve_ivp(rhs_avg,[0,t[-1]],[th_init,0],t_eval=t,args=(*args32,1),**kw_sim)\n",
    "\n",
    "    timef = t*(a32._m[1]+del_range32[i])\n",
    "    timer = t*a32._n[1]*(1+del_range32[i]/a32._m[1])\n",
    "    \n",
    "    freq_force = freq_est(t,a32.system1.forcing_fn(timef))\n",
    "    freq_full = freq_est(t,solf32.y.T[:,0],prominence=.2,width=10)\n",
    "    # freq_redu = freq_est(t,np.mod(solr32a.y.T[:,0]+timer,2*np.pi))\n",
    "    # freq_redub = freq_est(t,np.mod(solr32b.y.T[:,0],2*np.pi))\n",
    "\n",
    "    print(del_range32[i],freq_full/freq_force,freq_redu/freq_force)\n",
    "\n",
    "    # fig,axs = plt.subplots(1,2)\n",
    "    # axs[0].plot(t,solf32.y.T[:,0])\n",
    "    # axs.plot(t,np.mod(solr32a.y.T[:,0]+timer,2*np.pi))\n",
    "    # axs.plot(t,a32.system1.forcing_fn(timef))\n",
    "    # axs[0].set_xlim(t[-1]-50,t[-1])\n",
    "    # axs[0].scatter(t[idxs],solf32.y.T[idxs,0])\n",
    "    # plt.show()\n",
    "\n",
    "    fr_full32.append(freq_full/freq_force)\n",
    "    fr_redu32.append(freq_redu/freq_force)\n",
    "    # fr_redu32b.append(freq_redu/freq_force)\n",
    "\n",
    "fr_full32 = np.asarray(fr_full32)\n",
    "fr_redu32 = np.asarray(fr_redu32)\n",
    "# fr_redu32b = np.asarray(fr_redu32b)"
   ]
  },
  {
   "cell_type": "code",
   "execution_count": null,
   "id": "379ca46e-5d83-4bc6-97cb-8f76e3932dd0",
   "metadata": {},
   "outputs": [],
   "source": [
    "fig,axs = plt.subplots()\n",
    "axs.plot(del_range32,fr_full32)\n",
    "axs.plot(del_range32,fr_redu32)\n",
    "# axs.plot(del_range32,fr_redu32b)"
   ]
  },
  {
   "cell_type": "markdown",
   "id": "9e957e9b-c475-4f25-b78f-4f32f4ba0bd0",
   "metadata": {},
   "source": [
    "## Verify"
   ]
  },
  {
   "cell_type": "code",
   "execution_count": 528,
   "id": "a43fadd5-713c-4a29-bbe0-b0240533ae59",
   "metadata": {},
   "outputs": [],
   "source": [
    "eps32 = .02\n",
    "del32 = 0.0\n",
    "th_init32 = 3"
   ]
  },
  {
   "cell_type": "markdown",
   "id": "808754fc-fd0c-4802-8d8e-e5830c1b7043",
   "metadata": {},
   "source": [
    "### Phase plane"
   ]
  },
  {
   "cell_type": "code",
   "execution_count": 529,
   "id": "12c6952c-0300-4019-be01-1230aba737de",
   "metadata": {},
   "outputs": [
    {
     "data": {
      "image/png": "[encoded data removed]",
      "text/plain": [
       "<Figure size 432x288 with 1 Axes>"
      ]
     },
     "metadata": {
      "needs_background": "light"
     },
     "output_type": "display_data"
    }
   ],
   "source": [
    "dt32 = .02;T32=2000\n",
    "t32 = np.arange(0,T32,dt32)\n",
    "\n",
    "plt = pl_exist(eps32,del32,a32,return_data=True)\n",
    "\n",
    "out1 = solve_ivp(rhs_avg,[t32[0],t32[-1]],[th_init32,0],t_eval=t32,args=(a32,eps32,del32),**kw_sim)\n",
    "plt.plot(np.mod(out1.y.T[:,0],2*np.pi),out1.y.T[:,1],lw=2)\n",
    "\n",
    "plt.xlim(-1,7)\n",
    "\n",
    "plt.show()"
   ]
  },
  {
   "cell_type": "markdown",
   "id": "7b7b97be-9c56-4172-a795-8abbfb33bc82",
   "metadata": {},
   "source": [
    "### Integration"
   ]
  },
  {
   "cell_type": "code",
   "execution_count": 530,
   "id": "9efdb365-8120-4f25-a190-494b7647c912",
   "metadata": {},
   "outputs": [],
   "source": [
    "init32 = system1.lc['dat'][int((th_init32/(2*np.pi))*system1.TN),:]\n",
    "args32 = [a32,eps32,del32]\n",
    "solf32 = solve_ivp(_full,[0,t32[-1]],init32,t_eval=t32,args=(*args32,),**kw_sim)"
   ]
  },
  {
   "cell_type": "code",
   "execution_count": 531,
   "id": "f38e74a6-e896-4194-afa6-840ce4bbda92",
   "metadata": {},
   "outputs": [],
   "source": [
    "solr32 = solve_ivp(rhs_avg,[0,t32[-1]],[th_init32,0],t_eval=t32,args=(*args32,),**kw_sim)\n",
    "# solr32_0 = solve_ivp(rhs_avg,[0,t[-1]],[th_init,0],t_eval=t,args=(*args32,1),**kw_sim)"
   ]
  },
  {
   "cell_type": "code",
   "execution_count": 532,
   "id": "d8df9749-6e71-4f75-be9a-5c9eb02a0463",
   "metadata": {},
   "outputs": [],
   "source": [
    "# solr32b = solve_ivp(_redu,[0,t32[-1]],[th_init32,0,0],t_eval=t32,args=(*args32,),**kw_sim)"
   ]
  },
  {
   "cell_type": "code",
   "execution_count": 533,
   "id": "667470c8-4219-48a7-b452-a8992f44b880",
   "metadata": {
    "tags": []
   },
   "outputs": [],
   "source": [
    "tp32, phase32 = get_phase(t32,solf32.y.T,skipn=10,system1=system1)"
   ]
  },
  {
   "cell_type": "code",
   "execution_count": 534,
   "id": "d607cdb7-2456-4e76-b41d-567ac79c10e6",
   "metadata": {},
   "outputs": [
    {
     "data": {
      "text/plain": [
       "(0.0, 6.283185307179586)"
      ]
     },
     "execution_count": 534,
     "metadata": {},
     "output_type": "execute_result"
    },
    {
     "data": {
      "image/png": "[encoded data removed]",
      "text/plain": [
       "<Figure size 360x216 with 1 Axes>"
      ]
     },
     "metadata": {
      "needs_background": "light"
     },
     "output_type": "display_data"
    }
   ],
   "source": [
    "fig,axs = plt.subplots(figsize=(5,3)); axs = np.asarray([axs])\n",
    "forcing_phase32 = np.mod((a32._m[1]+del32)*np.linspace(0,tp32[-1],len(tp32)),2*np.pi*a32._m[1])\n",
    "y32 = np.mod(phase32-a32.om*forcing_phase32,2*np.pi)\n",
    "\n",
    "axs[0].scatter(tp32,y32,s=1,alpha=.25,label='f')\n",
    "axs[0].plot(solr32.t,np.mod(solr32.y.T[:,0],2*np.pi),color='r',label='r',alpha=.6)\n",
    "# axs[0].plot(solr32b.t,np.mod(solr32b.y.T[:,0]-a32.om*solr32b.y.T[:,2],2*np.pi),color='green',label='rf',alpha=.6)\n",
    "\n",
    "axs[0].legend()\n",
    "axs[0].set_ylim(0,2*np.pi)"
   ]
  },
  {
   "cell_type": "markdown",
   "id": "f81542a8-1a4e-49be-816f-ef41e27b3b96",
   "metadata": {},
   "source": [
    "# 2:1"
   ]
  },
  {
   "cell_type": "code",
   "execution_count": 535,
   "id": "1ca7ae32-ef1f-476b-b8a7-d0526d31f77f",
   "metadata": {
    "tags": []
   },
   "outputs": [
    {
     "name": "stdout",
     "output_type": "stream",
     "text": [
      "e1,e2\n",
      "psi**4*zv0_4(t) + psi**3*zv0_3(t) + psi**2*zv0_2(t) + psi*zv0_1(t) + zv0_0(t)\n",
      "psi**4*iv0_4(t) + psi**3*iv0_3(t) + psi**2*iv0_2(t) + psi*iv0_1(t) + iv0_0(t)\n",
      "\n",
      "0 imp0 for z zv0_0(th0)\n",
      "0 imp0 for i iv0_0(th0)\n",
      "1 imp0 for z zv0_1(th0)\n",
      "1 imp0 for i iv0_1(th0)\n",
      "2 imp0 for z zv0_2(th0)\n",
      "2 imp0 for i iv0_2(th0)\n",
      "3 imp0 for z zv0_3(th0)\n",
      "3 imp0 for i iv0_3(th0)\n",
      "4 imp0 for z zv0_4(th0)\n",
      "4 imp0 for i iv0_4(th0)\n",
      "\n",
      "hz0,hi0,imp\n",
      "0 uf(t)*zv0_0(2*t + th0)\n",
      "1 uf(t)*zv0_1(2*t + th0)\n",
      "2 uf(t)*zv0_2(2*t + th0)\n",
      "3 uf(t)*zv0_3(2*t + th0)\n",
      "4 uf(t)*zv0_4(2*t + th0)\n",
      "\n",
      "0 iv0_0(2*t + th0)*uf(t)\n",
      "1 iv0_1(2*t + th0)*uf(t)\n",
      "2 iv0_2(2*t + th0)*uf(t)\n",
      "3 iv0_3(2*t + th0)*uf(t)\n",
      "4 iv0_4(2*t + th0)*uf(t)\n",
      "\n"
     ]
    }
   ],
   "source": [
    "a21 = nmc(system1,None,\n",
    "        #recompute_list=['p_cglf0','h_cglf0','p_data_cglf0','h_data_cglf0'],\n",
    "        #recompute_list=recompute_list,\n",
    "        _n=('om0',2),_m=('om1',1),\n",
    "        NP=500,NH=500)"
   ]
  },
  {
   "cell_type": "markdown",
   "id": "00ed5ee2-53be-4c7b-9c5d-7639f77a9ab5",
   "metadata": {},
   "source": [
    "## Tongue"
   ]
  },
  {
   "cell_type": "code",
   "execution_count": 536,
   "id": "9d008747-ded9-40e8-a639-6fc916bcd5e3",
   "metadata": {},
   "outputs": [
    {
     "name": "stdout",
     "output_type": "stream",
     "text": [
      "1.0     \n",
      "1.0     \n"
     ]
    }
   ],
   "source": [
    "d1 = np.linspace(-10,-1,10)\n",
    "del_list_21a,ve_list_21a = get_tongue(2**d1,a21,deps=.01,max_eps=.3)\n",
    "del_list_21b,ve_list_21b = get_tongue(-2**d1,a21,deps=.01,max_eps=.3)"
   ]
  },
  {
   "cell_type": "code",
   "execution_count": 537,
   "id": "e2347ea0-5b71-4cd6-950b-17a9f01982f4",
   "metadata": {},
   "outputs": [
    {
     "data": {
      "text/plain": [
       "[<matplotlib.lines.Line2D at 0x7fc5b5b581f0>]"
      ]
     },
     "execution_count": 537,
     "metadata": {},
     "output_type": "execute_result"
    },
    {
     "data": {
      "image/png": "[encoded data removed]",
      "text/plain": [
       "<Figure size 432x288 with 1 Axes>"
      ]
     },
     "metadata": {
      "needs_background": "light"
     },
     "output_type": "display_data"
    }
   ],
   "source": [
    "fig,axs = plt.subplots()\n",
    "axs.plot(del_list_21a,ve_list_21a,color='tab:blue')\n",
    "axs.plot(del_list_21b,ve_list_21b,color='tab:blue')\n",
    "#axs.set_xscale('symlog')"
   ]
  },
  {
   "cell_type": "markdown",
   "id": "a964e40c-40b1-4069-8b31-75b2a041ee64",
   "metadata": {},
   "source": [
    "## Frequency ratio"
   ]
  },
  {
   "cell_type": "code",
   "execution_count": 538,
   "id": "1df21181-c2f0-4bb5-aab3-e72233cf3623",
   "metadata": {},
   "outputs": [
    {
     "name": "stdout",
     "output_type": "stream",
     "text": [
      "-0.1 2.213118524961413 2.2183258626672044\n",
      "-0.07777777777777778 2.1579005471609722 2.163092088370899\n",
      "-0.05555555555555556 2.1048617385900505 2.1096806389932334\n",
      "-0.03333333333333334 2.0512559892766955 2.054477143816841\n",
      "-0.011111111111111113 2.0003884692255762 1.9999874049135236\n",
      "0.011111111111111113 1.9999358355107673 1.9999760651455813\n",
      "0.033333333333333326 1.9392207772911818 1.9485249300920888\n",
      "0.05555555555555555 1.8931535639528665 1.9019578979072918\n",
      "0.07777777777777778 1.8544076493918213 1.8608620176569781\n",
      "0.1 1.815288325023079 1.823220310589877\n"
     ]
    }
   ],
   "source": [
    "# fix eps.\n",
    "# x-axis, deviation from baseline freq. this is delta\n",
    "# y-axis, ratio of oscillator vs forcing fn frequency\n",
    "eps_val21 = .025\n",
    "\n",
    "del_range21 = np.linspace(-.1,.1,10)\n",
    "\n",
    "th_init = 3\n",
    "\n",
    "dt = .01;T=1000\n",
    "t = np.arange(0,T,dt)\n",
    "\n",
    "y0 = system1.lc['dat'][int((th_init/(2*np.pi))*system1.TN),:]\n",
    "\n",
    "fr_full21 = []\n",
    "fr_redu21 = []\n",
    "fr_redu21b = []\n",
    "\n",
    "for i in range(len(del_range21)):\n",
    "    \n",
    "    args21 = [a21,eps_val21,del_range21[i]]\n",
    "    \n",
    "    solf21 = solve_ivp(_full,[0,t[-1]],y0,t_eval=t,args=(*args21,),**kw_sim)\n",
    "    solr21a = solve_ivp(rhs_avg,[0,t[-1]],[th_init,0],t_eval=t,args=(*args21,),**kw_sim)\n",
    "    # solr21b = solve_ivp(_redu,[0,t[-1]],[th_init,0,0],t_eval=t,args=(*args21,),**kw_sim)\n",
    "    #solr21_0 = solve_ivp(rhs_avg,[0,t[-1]],[th_init,0],t_eval=t,args=(*args21,1),**kw_sim)\n",
    "\n",
    "    time1 = t*(a21._m[1]+del_range21[i])\n",
    "    time2 = t*(a21._n[1]+a21._n[1]*del_range21[i]/a21._m[1])\n",
    "    freq_force = freq_est(t,a21.system1.forcing_fn(time1))\n",
    "    freq_full = freq_est(t,solf21.y.T[:,0])\n",
    "    freq_redu = freq_est(t,np.mod(solr21a.y.T[:,0]+time2,2*np.pi))\n",
    "    # freq_redub = freq_est(t,np.mod(solr21b.y.T[:,0],2*np.pi))\n",
    "\n",
    "    # fig,axs = plt.subplots()\n",
    "    # axs.plot(t,21*np.mod(solf21.y.T[:,0],2*np.pi)-70)\n",
    "    # axs.plot(t,np.mod(solr21a.y.T[:,0],2*np.pi))\n",
    "    # axs.plot(t,21*a21.system2(t*(a21._m[1]+del_range21[i])))\n",
    "    # axs.set_xlim(t[-1]-200,t[-1])\n",
    "    # plt.show()\n",
    "\n",
    "    print(del_range21[i],freq_full/freq_force,freq_redu/freq_force)\n",
    "\n",
    "    fr_full21.append(freq_full/freq_force)\n",
    "    fr_redu21.append(freq_redu/freq_force)\n",
    "    # fr_redu21b.append(freq_redub/freq_force)\n",
    "\n",
    "fr_full21 = np.asarray(fr_full21)\n",
    "fr_redu21 = np.asarray(fr_redu21)\n",
    "# fr_redu21b = np.asarray(fr_redu21b)"
   ]
  },
  {
   "cell_type": "code",
   "execution_count": 539,
   "id": "0bc48b2d-b5d5-4a4a-9c4a-2e677717d9cb",
   "metadata": {},
   "outputs": [
    {
     "data": {
      "text/plain": [
       "[<matplotlib.lines.Line2D at 0x7fc5a3687f40>]"
      ]
     },
     "execution_count": 539,
     "metadata": {},
     "output_type": "execute_result"
    },
    {
     "data": {
      "image/png": "[encoded data removed]",
      "text/plain": [
       "<Figure size 432x288 with 1 Axes>"
      ]
     },
     "metadata": {
      "needs_background": "light"
     },
     "output_type": "display_data"
    }
   ],
   "source": [
    "fig,axs = plt.subplots()\n",
    "axs.plot(del_range21,fr_full21)\n",
    "axs.plot(del_range21,fr_redu21)\n",
    "# axs.plot(del_range21,fr_redu21b)"
   ]
  },
  {
   "cell_type": "code",
   "execution_count": 540,
   "id": "bda684ec-3557-49ba-aca6-719cbd87329e",
   "metadata": {},
   "outputs": [
    {
     "data": {
      "text/plain": [
       "[<matplotlib.lines.Line2D at 0x7fc5b53be760>]"
      ]
     },
     "execution_count": 540,
     "metadata": {},
     "output_type": "execute_result"
    },
    {
     "data": {
      "image/png": "[encoded data removed]",
      "text/plain": [
       "<Figure size 432x288 with 1 Axes>"
      ]
     },
     "metadata": {
      "needs_background": "light"
     },
     "output_type": "display_data"
    }
   ],
   "source": [
    "fig,axs = plt.subplots()\n",
    "axs.plot(del_range21,fr_full21-2+eps_val21)\n",
    "axs.plot(del_range21,fr_redu21-2+eps_val21)\n",
    "# axs.plot(del_range21,fr_redu21b-2+eps_val21)\n",
    "\n",
    "axs.plot(del_list_21a,ve_list_21a,color='tab:blue')\n",
    "axs.plot(del_list_21b,ve_list_21b,color='tab:blue')"
   ]
  },
  {
   "cell_type": "markdown",
   "id": "c0d47540-3069-486c-b286-51b1deab0296",
   "metadata": {},
   "source": [
    "## Verify"
   ]
  },
  {
   "cell_type": "code",
   "execution_count": 541,
   "id": "92d0dce2-8184-435d-a861-44b13062e4b9",
   "metadata": {},
   "outputs": [],
   "source": [
    "eps21 = .05\n",
    "del21 = -.01\n",
    "th_init21 = 3"
   ]
  },
  {
   "cell_type": "markdown",
   "id": "91257166-0363-4427-b130-48186b808d3b",
   "metadata": {},
   "source": [
    "### Phase plane"
   ]
  },
  {
   "cell_type": "code",
   "execution_count": 542,
   "id": "cb4467ef-4af3-4637-89ec-57d0fcbe1847",
   "metadata": {},
   "outputs": [
    {
     "data": {
      "image/png": "[encoded data removed]",
      "text/plain": [
       "<Figure size 432x288 with 1 Axes>"
      ]
     },
     "metadata": {
      "needs_background": "light"
     },
     "output_type": "display_data"
    }
   ],
   "source": [
    "dt21 = .02;T21=2000\n",
    "t21 = np.arange(0,T21,dt21)\n",
    "\n",
    "plt = pl_exist(eps21,del21,a21,return_data=True)\n",
    "\n",
    "out1 = solve_ivp(rhs_avg,[t21[0],t21[-1]],[th_init21,0],t_eval=t21,args=(a21,eps21,del21),**kw_sim)\n",
    "plt.plot(np.mod(out1.y.T[:,0],2*np.pi),out1.y.T[:,1],lw=2)\n",
    "\n",
    "plt.xlim(-1,7)\n",
    "\n",
    "plt.show()"
   ]
  },
  {
   "cell_type": "markdown",
   "id": "a6623a2e-a62f-4f9d-9227-0ee6fef487c8",
   "metadata": {},
   "source": [
    "### Integration"
   ]
  },
  {
   "cell_type": "code",
   "execution_count": 543,
   "id": "2b0038cb-8a1d-4250-b799-dc07373fb99e",
   "metadata": {},
   "outputs": [],
   "source": [
    "init21 = system1.lc['dat'][int((th_init21/(2*np.pi))*system1.TN),:]\n",
    "args21 = [a21,eps21,del21]\n",
    "solf21 = solve_ivp(_full,[0,t21[-1]],init21,t_eval=t21,args=(*args21,),**kw_sim)"
   ]
  },
  {
   "cell_type": "code",
   "execution_count": 544,
   "id": "1770fe9b-e97e-4651-8d0e-88d9c40a74d5",
   "metadata": {},
   "outputs": [],
   "source": [
    "solr21 = solve_ivp(rhs_avg,[0,t21[-1]],[th_init21,0],t_eval=t21,args=(*args21,),**kw_sim)\n",
    "# solr21_0 = solve_ivp(rhs_avg,[0,t[-1]],[th_init,0],t_eval=t,args=(*args21,1),**kw_sim)"
   ]
  },
  {
   "cell_type": "code",
   "execution_count": 545,
   "id": "2da5438f-e74e-41ba-a405-20c964b19ce7",
   "metadata": {
    "tags": []
   },
   "outputs": [],
   "source": [
    "tp21, phase21 = get_phase(t21,solf21.y.T,skipn=10,system1=system1)"
   ]
  },
  {
   "cell_type": "code",
   "execution_count": 546,
   "id": "4101fd9d-0462-4380-8ca6-04c6d2a7da03",
   "metadata": {
    "scrolled": true
   },
   "outputs": [
    {
     "data": {
      "text/plain": [
       "(0.0, 6.283185307179586)"
      ]
     },
     "execution_count": 546,
     "metadata": {},
     "output_type": "execute_result"
    },
    {
     "data": {
      "image/png": "[encoded data removed]",
      "text/plain": [
       "<Figure size 360x216 with 1 Axes>"
      ]
     },
     "metadata": {
      "needs_background": "light"
     },
     "output_type": "display_data"
    }
   ],
   "source": [
    "fig,axs = plt.subplots(figsize=(5,3)); axs = np.asarray([axs])\n",
    "forcing_phase21 = np.mod((a21._m[1]+del21)*np.linspace(0,tp21[-1],len(tp21)),2*np.pi*a21._m[1])\n",
    "y21 = np.mod(phase21-a21.om*forcing_phase21,2*np.pi)\n",
    "\n",
    "axs[0].scatter(tp21,y21,s=1,alpha=.25,label='f')\n",
    "axs[0].plot(solr21.t,np.mod(solr21.y.T[:,0],2*np.pi),color='r',label='r')\n",
    "\n",
    "axs[0].legend()\n",
    "axs[0].set_ylim(0,2*np.pi)"
   ]
  },
  {
   "cell_type": "markdown",
   "id": "73ddd0d7-af4f-43b1-9012-15857a2025da",
   "metadata": {},
   "source": [
    "# Plot all tongues"
   ]
  },
  {
   "cell_type": "code",
   "execution_count": 547,
   "id": "d6d84c29-c777-41c0-955f-50bb195fc81f",
   "metadata": {},
   "outputs": [],
   "source": [
    "import matplotlib"
   ]
  },
  {
   "cell_type": "code",
   "execution_count": 551,
   "id": "1613062c-3afc-4a20-8ca8-63782dc16adf",
   "metadata": {},
   "outputs": [
    {
     "data": {
      "image/png": "[encoded data removed]",
      "text/plain": [
       "<Figure size 576x216 with 1 Axes>"
      ]
     },
     "metadata": {
      "needs_background": "light"
     },
     "output_type": "display_data"
    }
   ],
   "source": [
    "cmap = matplotlib.colormaps['viridis']\n",
    "fsize = 12\n",
    "\n",
    "fig,axs = plt.subplots(figsize=(8,3))\n",
    "\n",
    "axs.plot((del_list_13a+3)/1,ve_list_13a,color=cmap(0),label='1:3',ls='-.')\n",
    "axs.plot((del_list_13b+3)/1,ve_list_13b,color=cmap(0),ls='-.')\n",
    "\n",
    "axs.plot((del_list_12a+2)/1,ve_list_12a,color=cmap(.2),label='1:2',ls='--')\n",
    "axs.plot((del_list_12b+2)/1,ve_list_12b,color=cmap(.2),ls='--')\n",
    "\n",
    "axs.plot((del_list_23a+3)/2,ve_list_23a,color=cmap(.4),label='2:3',ls=':')\n",
    "axs.plot((del_list_23b+3)/2,ve_list_23b,color=cmap(.4),ls=':')\n",
    "\n",
    "axs.plot(del_list_11a+1,ve_list_11a,label='1:1',color=cmap(.6))\n",
    "axs.plot(del_list_11b+1,ve_list_11b,label='1:1',color=cmap(.6))\n",
    "\n",
    "# axs.plot((del_list_23a+2)/3,ve_list_23a,color=cmap(.8),label='2:3',ls=':')\n",
    "# axs.plot((del_list_23b+2)/3,ve_list_23b,color=cmap(.8),ls=':')\n",
    "\n",
    "axs.set_ylim(0,.25)\n",
    "\n",
    "#axs.set_yscale('log')\n",
    "axs.set_xlabel(r'$(\\omega_f+\\delta)/\\omega_X$',fontsize=fsize)\n",
    "axs.set_ylabel(r'$\\varepsilon$',fontsize=fsize)\n",
    "\n",
    "axs.set_xticks([3,2,3/2,1])\n",
    "axs.set_xticklabels(['$1{:}3$','$1{:}2$','$2{:}3$','$1{:}1$'],fontsize=fsize)\n",
    "\n",
    "plt.savefig('../')"
   ]
  },
  {
   "cell_type": "code",
   "execution_count": null,
   "id": "c02aa864-2895-4adc-9279-39dd821bc075",
   "metadata": {},
   "outputs": [],
   "source": []
  },
  {
   "cell_type": "code",
   "execution_count": null,
   "id": "d1718473-14e5-4d1f-ab7d-7d426fc5a698",
   "metadata": {},
   "outputs": [],
   "source": []
  }
 ],
 "metadata": {
  "kernelspec": {
   "display_name": "Python 3 (ipykernel)",
   "language": "python",
   "name": "python3"
  },
  "language_info": {
   "codemirror_mode": {
    "name": "ipython",
    "version": 3
   },
   "file_extension": ".py",
   "mimetype": "text/x-python",
   "name": "python",
   "nbconvert_exporter": "python",
   "pygments_lexer": "ipython3",
   "version": "3.8.10"
  }
 },
 "nbformat": 4,
 "nbformat_minor": 5
}
