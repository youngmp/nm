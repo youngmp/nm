{
 "cells": [
  {
   "cell_type": "code",
   "execution_count": 1,
   "id": "e922f826-9895-4f01-ae45-e89702f376df",
   "metadata": {
    "tags": []
   },
   "outputs": [],
   "source": [
    "import sys; sys.path.insert(0, '..') # add parent folder path where lib folder is\n",
    "# user-defined\n",
    "import nmCoupling as nm\n",
    "import response as rp\n",
    "#import cgl_thalamic as ct\n",
    "import thal1\n",
    "from cgl_thalamic import rhs_thal\n",
    "\n",
    "from importlib import reload\n",
    "import numpy as np\n",
    "import matplotlib.pyplot as plt\n",
    "import sympy as sym\n",
    "from scipy.integrate import solve_ivp\n",
    "\n",
    "import scipy as sp\n",
    "from scipy.optimize import root,bisect\n",
    "\n",
    "import copy\n",
    "\n",
    "plt.rcParams.update({\n",
    "    \"text.usetex\": True,\n",
    "    \"font.family\": \"Helvetica\"\n",
    "})"
   ]
  },
  {
   "cell_type": "code",
   "execution_count": 2,
   "id": "9e4307a2-2a71-415d-ab18-a49d89bcb438",
   "metadata": {
    "tags": []
   },
   "outputs": [],
   "source": [
    "reload(thal1);reload(nm);reload(rp)\n",
    "nmc = nm.nmCoupling;rsp = rp.Response"
   ]
  },
  {
   "cell_type": "markdown",
   "id": "66ac5f5b-8d1f-4977-bf66-80f86f650b3d",
   "metadata": {},
   "source": [
    "# Definitions"
   ]
  },
  {
   "cell_type": "markdown",
   "id": "134b9002-8bbb-4643-8559-af11f2ec51fd",
   "metadata": {},
   "source": [
    "## Forcing function"
   ]
  },
  {
   "cell_type": "code",
   "execution_count": 3,
   "id": "48fcb176-48bf-4a75-9612-5452ee41ab18",
   "metadata": {
    "tags": []
   },
   "outputs": [],
   "source": [
    "def ff(x,a,om,del1=0):\n",
    "    return a*np.sin((om+del1)*x)+.2"
   ]
  },
  {
   "cell_type": "code",
   "execution_count": 4,
   "id": "293c75b5-1a19-4478-afc4-3b2bfb6d9885",
   "metadata": {},
   "outputs": [],
   "source": [
    "pd1 = {'gL':0.05,'gna':3,'gk':5,\n",
    "       'gt':5,'eL':-70,'ena':50,\n",
    "       'ek':-90,'et':0,'esyn':-1,\n",
    "       'c':1,'alpha':3,'beta':2,\n",
    "       'sigmat':0.8,'vt':-20,\n",
    "       'ib':8.5,'om':1,'om_fix':1}\n",
    "\n",
    "pd2 = {'om':1,'amp':1,'om_fix':1}"
   ]
  },
  {
   "cell_type": "code",
   "execution_count": 32,
   "id": "86aa9a9f-c433-4f84-ab29-c074da30064c",
   "metadata": {
    "tags": []
   },
   "outputs": [],
   "source": [
    "# default period must be 2*np.pinp.sin(\n",
    "kws1 = {'var_names':['v','h','r','qt'],\n",
    "        'rhs':rhs_thal,\n",
    "        'init':np.array([-.64,0.71,0.25,0,5]),\n",
    "        'TN':2000,\n",
    "        'idx':0,\n",
    "        'model_name':'thalf0',\n",
    "        'trunc_order':3,\n",
    "        'recompute_list':[],\n",
    "        'z_forward':False,\n",
    "        'i_forward':False,\n",
    "        'i_bad_dx':False,\n",
    "        'coupling':thal1.coupling_thal}\n",
    "\n",
    "kws2 = {'var_names':[],\n",
    "        'rhs':None,\n",
    "        'init':None,\n",
    "        'coupling':None,\n",
    "        'model_name':'f1',\n",
    "        'forcing_fn':ff,\n",
    "        'idx':1,\n",
    "        'TN':0}"
   ]
  },
  {
   "cell_type": "markdown",
   "id": "c9ef6797-43b0-4540-acd5-1817886e057b",
   "metadata": {},
   "source": [
    "## Reduced rhs"
   ]
  },
  {
   "cell_type": "code",
   "execution_count": 33,
   "id": "888c2419-e6ab-4eeb-95ab-c2c87666033e",
   "metadata": {
    "tags": []
   },
   "outputs": [],
   "source": [
    "def ct_redu(t,y,eps,system1,del1):\n",
    "    h = 0\n",
    "    for i in range(system1.miter):\n",
    "        h += eps**(i+1)*(system1.h['lam'][i](y))\n",
    "    h += del1\n",
    "    return h"
   ]
  },
  {
   "cell_type": "markdown",
   "id": "a81b9093-78bd-409c-877c-0218e3cc6190",
   "metadata": {
    "tags": []
   },
   "source": [
    "## Full rhs"
   ]
  },
  {
   "cell_type": "code",
   "execution_count": 34,
   "id": "7139a339-f62c-42ee-bb31-0a6d2cae0938",
   "metadata": {
    "tags": []
   },
   "outputs": [],
   "source": [
    "def ct_full(t,y,eps,pd1,pd2,del1,system2):\n",
    "    out1 = rhs_thal(t,y,pd1,'val',0) + eps*thal1.coupling_thal([*y,system2(t,del1)],pd1,'val',0)\n",
    "    return np.array(list(out1))"
   ]
  },
  {
   "cell_type": "markdown",
   "id": "e6206f9d-685f-42ea-b8a5-b7a76442897f",
   "metadata": {},
   "source": [
    "## Phase-locking existence"
   ]
  },
  {
   "cell_type": "code",
   "execution_count": 35,
   "id": "ae50bb71-875a-439c-9b12-3c15796d0bcf",
   "metadata": {},
   "outputs": [],
   "source": [
    "x = np.linspace(0,2*np.pi,1000)\n",
    "def pl_exist(eps,del1,system1):\n",
    "    h = ct_redu(0,x,eps,system1,del1)\n",
    "    #for i in range(system1.miter):\n",
    "    #    h += eps_val**(i+1)*(system1.h['lam'][i](x))\n",
    "    # get all zeros\n",
    "    \n",
    "    z1 = x[1:][(h[1:]>0)*(h[:-1]<=0)]\n",
    "    z2 = x[1:][(h[1:]<0)*(h[:-1]>=0)]\n",
    "    if eps == 0:\n",
    "        return -1\n",
    "        \n",
    "    if len(z1)+len(z2) > 0:\n",
    "        return 1\n",
    "    else:\n",
    "        return -1"
   ]
  },
  {
   "cell_type": "markdown",
   "id": "663cb84f-1637-4d5a-b6ed-5e7a59ca804c",
   "metadata": {},
   "source": [
    "## Get tongue"
   ]
  },
  {
   "cell_type": "code",
   "execution_count": 36,
   "id": "67584ac4-9d9f-4f98-a1a8-d7edb29c314c",
   "metadata": {},
   "outputs": [],
   "source": [
    "def get_tongue(del_list,system1,deps=.002,max_eps=.3,min_eps=0):\n",
    "\n",
    "    ve_exist = np.zeros(len(del_list))\n",
    "    \n",
    "    for i in range(len(del_list)):\n",
    "        print(np.round((i+1)/len(del_list),2),'    ',end='\\r')\n",
    "        eps = min_eps\n",
    "        while not(pl_exist(eps,del_list[i],system1)+1)\\\n",
    "        and eps <= max_eps:\n",
    "            eps += deps\n",
    "        if eps >= max_eps:\n",
    "            ve_exist[i] = np.nan\n",
    "        else:\n",
    "            out = bisect(pl_exist,0,eps+deps,args=(del_list[i],system1))\n",
    "            ve_exist[i] = out\n",
    "    print('')\n",
    "    return del_list,ve_exist"
   ]
  },
  {
   "cell_type": "markdown",
   "id": "4a36ea62-fd7e-4883-b2d3-9fb393c13bcb",
   "metadata": {},
   "source": [
    "## Full model phase estimate"
   ]
  },
  {
   "cell_type": "code",
   "execution_count": 37,
   "id": "0f4cd09c-98bd-4923-93a9-5ec645583659",
   "metadata": {
    "tags": []
   },
   "outputs": [],
   "source": [
    "def get_phase(sol_full,skipn,system1):\n",
    "\n",
    "    phase1 = np.zeros(len(sol_full.t[::skipn]))\n",
    "    for i in range(len(sol_full.t[::skipn])):\n",
    "        d1 = np.linalg.norm(sol_full.y.T[::skipn][i,:4]-system1.lc['dat'],axis=1)\n",
    "        phase1[i] = np.argmin(d1)/len(system1.lc['dat'])\n",
    "    return sol_full.t[::skipn],phase1"
   ]
  },
  {
   "cell_type": "markdown",
   "id": "3d38182b-9851-4340-bde5-d1bf39af8dd3",
   "metadata": {},
   "source": [
    "# Tongue 1:1"
   ]
  },
  {
   "cell_type": "markdown",
   "id": "ff04be74-6cfc-4380-a2ee-7fe435f063f6",
   "metadata": {},
   "source": [
    "## Load response and coupling functions"
   ]
  },
  {
   "cell_type": "code",
   "execution_count": 38,
   "id": "d5e995c7-6b7d-428e-ba84-9384d97dd92f",
   "metadata": {},
   "outputs": [
    {
     "name": "stdout",
     "output_type": "stream",
     "text": [
      "* Loading LC data...\n",
      "* Loading monodromy...\n",
      "* Floquet Exponent kappa =-0.023568265867307696\n",
      "* Computing g symbolic...\n",
      "* Computing g...\n",
      "dx=2.13e+00, al=1.00e+00\n",
      "dx=7.51e-02, al=1.00e+00\n",
      "dx=4.62e-03, al=1.00e+00\n",
      "dx=7.32e-04, al=1.00e+00\n",
      "dx=6.03e-05, al=1.00e+00\n",
      "dx=3.14e-05, al=1.00e+00\n",
      "dx=1.20e-04, al=9.09e-01\n",
      "dx=1.15e-04, al=9.09e-01\n",
      "dx=9.18e-05, al=9.09e-01\n",
      "dx=1.40e-04, al=8.26e-01\n",
      "dx=1.65e-04, al=7.51e-01\n",
      "dx=2.16e-05, al=7.51e-01\n",
      "dx=7.47e-06, al=7.51e-01\n",
      "dx=6.06e-05, al=6.83e-01\n",
      "dx=7.01e-05, al=6.21e-01\n",
      "dx=9.30e-05, al=5.64e-01\n",
      "dx=4.27e-05, al=5.64e-01\n",
      "dx=3.89e-05, al=5.64e-01\n",
      "dx=5.88e-05, al=5.13e-01\n",
      "dx=3.17e-05, al=5.13e-01\n",
      "dx=7.34e-05, al=4.67e-01\n",
      "dx=1.61e-04, al=4.24e-01\n",
      "dx=1.17e-05, al=4.24e-01\n",
      "dx=4.75e-05, al=3.86e-01\n",
      "dx=5.84e-05, al=3.50e-01\n",
      "dx=4.99e-06, al=3.50e-01\n",
      "dx=1.06e-04, al=3.19e-01\n",
      "dx=1.36e-05, al=3.19e-01\n",
      "dx=6.51e-05, al=2.90e-01\n",
      "dx=7.97e-05, al=2.63e-01\n",
      "WARNING: max iter reached in newton call\n",
      "* Computing heterogeneous terms...\n",
      "* Computing z...\n",
      "dx=8.84e+00, al=1.00e+00\n",
      "dx=2.27e-01, al=1.00e+00\n",
      "dx=2.60e-03, al=1.00e+00\n",
      "dx=6.52e-05, al=1.00e+00\n",
      "dx=2.17e-05, al=1.00e+00\n",
      "dx=8.92e-05, al=9.09e-01\n",
      "dx=2.27e-05, al=9.09e-01\n",
      "dx=5.81e-05, al=8.26e-01\n",
      "dx=4.38e-05, al=8.26e-01\n",
      "dx=1.53e-05, al=8.26e-01\n",
      "dx=2.79e-05, al=7.51e-01\n",
      "dx=8.67e-05, al=6.83e-01\n",
      "dx=3.34e-05, al=6.83e-01\n",
      "dx=2.53e-06, al=6.83e-01\n",
      "dx=2.06e-05, al=6.21e-01\n",
      "dx=4.64e-05, al=5.64e-01\n",
      "dx=2.70e-05, al=5.64e-01\n",
      "dx=1.40e-06, al=5.64e-01\n",
      "dx=1.37e-05, al=5.13e-01\n",
      "dx=2.93e-05, al=4.67e-01\n",
      "dx=2.08e-05, al=4.67e-01\n",
      "dx=2.34e-05, al=4.24e-01\n",
      "dx=6.75e-06, al=4.24e-01\n",
      "dx=3.48e-06, al=4.24e-01\n",
      "dx=1.29e-05, al=3.86e-01\n",
      "dx=1.05e-05, al=3.86e-01\n",
      "dx=2.25e-06, al=3.86e-01\n",
      "dx=4.93e-06, al=3.50e-01\n",
      "dx=1.65e-05, al=3.19e-01\n",
      "dx=2.63e-05, al=2.90e-01\n",
      "WARNING: max iter reached in newton call\n",
      "* Computing i...\n",
      "dx=8.64e-01, al=1.00e+00\n",
      "dx=2.37e-02, al=1.00e+00\n",
      "dx=3.83e-05, al=1.00e+00\n",
      "dx=4.52e-06, al=1.00e+00\n",
      "dx=1.56e-05, al=9.09e-01\n",
      "dx=1.08e-05, al=9.09e-01\n",
      "dx=7.06e-06, al=9.09e-01\n",
      "dx=5.61e-06, al=9.09e-01\n",
      "dx=2.01e-06, al=9.09e-01\n",
      "dx=4.04e-06, al=8.26e-01\n",
      "dx=8.44e-06, al=7.51e-01\n",
      "dx=1.05e-05, al=6.83e-01\n",
      "dx=7.47e-07, al=6.83e-01\n"
     ]
    }
   ],
   "source": [
    "system11a = rsp(pardict=copy.deepcopy(pd1),**copy.deepcopy(kws1))\n",
    "system11b = rsp(pardict=copy.deepcopy(pd2),**copy.deepcopy(kws2))"
   ]
  },
  {
   "cell_type": "code",
   "execution_count": 42,
   "id": "44a7f8c3-1009-4fe2-bc7b-2a8136f3cf36",
   "metadata": {
    "tags": []
   },
   "outputs": [
    {
     "name": "stdout",
     "output_type": "stream",
     "text": [
      "* Loading p symbolic...\n",
      "* Loading p...\n",
      "* Loading p...\n",
      "* Loading p...\n",
      "* Loading p...\n",
      "* Loading H symbolic...\n",
      "* Loading H thalf0, order=0...\n",
      "* Loading H thalf0, order=1...\n",
      "* Loading H thalf0, order=2...\n",
      "* Loading H thalf0, order=3...\n"
     ]
    }
   ],
   "source": [
    "a = nmc(system11a,system11b,\n",
    "        #recompute_list=['p_cglf0','h_cglf0','p_data_cglf0','h_data_cglf0'],\n",
    "        #recompute_list=recompute_list,\n",
    "        _n=('om0',1),_m=('om1',1),\n",
    "        NP=500,NH=500)"
   ]
  },
  {
   "cell_type": "code",
   "execution_count": 43,
   "id": "652a0506-3290-44a6-a9cf-586766aaded1",
   "metadata": {},
   "outputs": [
    {
     "name": "stdout",
     "output_type": "stream",
     "text": [
      "1.0      \n",
      "1.0      \n"
     ]
    }
   ],
   "source": [
    "#dtemp = np.linspace(-1,1,51)\n",
    "d1 = np.linspace(-10,0,30)\n",
    "#dtemp = np.linspace(-1e-3,1e-3,31)\n",
    "\n",
    "del_list_11a,ve_list_11a = get_tongue(2**d1,system11a,deps=.001,max_eps=1)\n",
    "del_list_11b,ve_list_11b = get_tongue(-2**d1,system11a,deps=.001,max_eps=1)"
   ]
  },
  {
   "cell_type": "code",
   "execution_count": 44,
   "id": "9af630ef-d990-408b-a309-99b305f4dd06",
   "metadata": {},
   "outputs": [
    {
     "data": {
      "text/plain": [
       "[<matplotlib.lines.Line2D at 0x7fa01d088af0>]"
      ]
     },
     "execution_count": 44,
     "metadata": {},
     "output_type": "execute_result"
    },
    {
     "data": {
      "image/png": "[encoded data removed]",
      "text/plain": [
       "<Figure size 432x288 with 1 Axes>"
      ]
     },
     "metadata": {
      "needs_background": "light"
     },
     "output_type": "display_data"
    }
   ],
   "source": [
    "fig,axs = plt.subplots()\n",
    "axs.plot(del_list_11a,ve_list_11a)\n",
    "axs.plot(del_list_11b,ve_list_11b)"
   ]
  },
  {
   "cell_type": "markdown",
   "id": "4d08c13c-5753-42f3-8476-fc6f40be678d",
   "metadata": {},
   "source": [
    "## Verify with full model"
   ]
  },
  {
   "cell_type": "code",
   "execution_count": 26,
   "id": "22d36d2c-2739-4a19-be80-37c8b6890af8",
   "metadata": {},
   "outputs": [],
   "source": [
    "eps11 = .01\n",
    "del11 = .01\n",
    "th_init = 0"
   ]
  },
  {
   "cell_type": "code",
   "execution_count": 27,
   "id": "3c2b7972-bd20-4145-9ccc-c5795400eee5",
   "metadata": {},
   "outputs": [],
   "source": [
    "dt = .02;T=5000\n",
    "t = np.arange(0,T,dt)\n",
    "\n",
    "y0 = system11a.lc['dat'][int((th_init/(2*np.pi))*system11a.TN),:]\n",
    "\n",
    "sol_redu = solve_ivp(ct_redu,[0,t[-1]],[th_init],method='LSODA',t_eval=t,\n",
    "                     args=(eps11,system11a,del11),rtol=1e-7,atol=1e-7)\n",
    "\n",
    "sol_full = solve_ivp(ct_full,[0,t[-1]],y0,method='LSODA',\n",
    "                     t_eval=t,args=(eps11,system11a.pardict,\n",
    "                                    system11b.pardict,del11,system11b),rtol=1e-6,atol=1e-6)"
   ]
  },
  {
   "cell_type": "code",
   "execution_count": 28,
   "id": "a2f5d000-b68d-41aa-b162-c0b3acca1679",
   "metadata": {},
   "outputs": [],
   "source": [
    "# fig,axs = plt.subplots()\n",
    "# axs.plot(t,sol_full.y.T[:,0])\n",
    "# axs.plot(t,system11b(t))\n",
    "# axs.set_xlim(t[-1]-100,t[-1])"
   ]
  },
  {
   "cell_type": "code",
   "execution_count": 29,
   "id": "03f3a06e-77e7-42f7-b02e-2ba3bb346065",
   "metadata": {
    "tags": []
   },
   "outputs": [],
   "source": [
    "# estimate phase for each model and compare phase difference\n",
    "x, phase1 = get_phase(sol_full,skipn=10,system1=system11a)"
   ]
  },
  {
   "cell_type": "code",
   "execution_count": 30,
   "id": "f666cde2-b6c9-4334-b210-49c1419b936f",
   "metadata": {},
   "outputs": [
    {
     "data": {
      "text/plain": [
       "(0.0, 6.283185307179586)"
      ]
     },
     "execution_count": 30,
     "metadata": {},
     "output_type": "execute_result"
    },
    {
     "data": {
      "image/png": "[encoded data removed]",
      "text/plain": [
       "<Figure size 432x288 with 1 Axes>"
      ]
     },
     "metadata": {
      "needs_background": "light"
     },
     "output_type": "display_data"
    }
   ],
   "source": [
    "fig,axs = plt.subplots()\n",
    "forcing_phase = np.mod(a._m[1]*np.linspace(0,x[-1],len(x)),2*np.pi)\n",
    "y = np.mod(phase1*2*np.pi-a.om*forcing_phase,2*np.pi)\n",
    "#y = phase1*2*np.pi\n",
    "\n",
    "axs.scatter(x,y,s=1)\n",
    "#axs.plot(x,np.mod(forcing_phase,2*np.pi))\n",
    "axs.plot(t,np.mod(sol_redu.y.T[:,0],2*np.pi),color='red')\n",
    "#axs.set_xlim(0,100)\n",
    "axs.set_ylim(0,2*np.pi)"
   ]
  },
  {
   "cell_type": "markdown",
   "id": "d1113bb9-40eb-4000-a2fd-b1ed0739d13d",
   "metadata": {},
   "source": [
    "# Tongue 1:2"
   ]
  },
  {
   "cell_type": "markdown",
   "id": "da1929fa-bd95-47d4-b8ea-07ea7e73e67e",
   "metadata": {},
   "source": [
    "## Load response and coupling functions"
   ]
  },
  {
   "cell_type": "code",
   "execution_count": 14,
   "id": "f70cc090-4c1a-4438-8ba1-d69f3a537270",
   "metadata": {},
   "outputs": [
    {
     "name": "stdout",
     "output_type": "stream",
     "text": [
      "* Loading LC data...\n",
      "* Loading monodromy...\n",
      "* Floquet Exponent kappa =-0.023568265867307696\n",
      "* Loading g symbolic...\n",
      "* Computing g...\n",
      "* Loading heterogeneous terms...\n",
      "* Computing z...\n",
      "* Computing i...\n"
     ]
    }
   ],
   "source": [
    "system12a = rsp(pardict=copy.deepcopy(pd1),**copy.deepcopy(kws1))\n",
    "system12b = rsp(pardict=copy.deepcopy(pd2),**copy.deepcopy(kws2))"
   ]
  },
  {
   "cell_type": "code",
   "execution_count": 15,
   "id": "34726952-6fdf-409d-82b4-cf2f621d425f",
   "metadata": {
    "tags": []
   },
   "outputs": [
    {
     "name": "stdout",
     "output_type": "stream",
     "text": [
      "* Loading p symbolic...\n",
      "* Loading p...\n",
      "* Loading p...\n",
      "* Loading p...\n",
      "* Loading H symbolic...\n",
      "* Loading H thalf0, order=0...\n",
      "* Loading H thalf0, order=1...\n",
      "* Loading H thalf0, order=2...\n"
     ]
    }
   ],
   "source": [
    "a = nmc(system12a,system12b,\n",
    "        #recompute_list=['p_cglf0','h_cglf0','p_data_cglf0','h_data_cglf0'],\n",
    "        #recompute_list=recompute_list,\n",
    "        _n=('om0',1),_m=('om1',2),\n",
    "        NP=300,NH=300)"
   ]
  },
  {
   "cell_type": "code",
   "execution_count": 19,
   "id": "9a866f02-16fe-4443-9a41-a0738aa0cc99",
   "metadata": {},
   "outputs": [
    {
     "name": "stdout",
     "output_type": "stream",
     "text": [
      "1.0      \n",
      "1.0      \n"
     ]
    }
   ],
   "source": [
    "d1 = np.linspace(-15,0,20)\n",
    "\n",
    "del_list_12a,ve_list_12a = get_tongue(2**d1,system12a,deps=.001,max_eps=1)\n",
    "del_list_12b,ve_list_12b = get_tongue(-2**d1,system12a,deps=.001,max_eps=1)"
   ]
  },
  {
   "cell_type": "code",
   "execution_count": 20,
   "id": "a5f8cc84-dc75-4b44-9bee-e2be4688d412",
   "metadata": {},
   "outputs": [
    {
     "data": {
      "text/plain": [
       "[<matplotlib.lines.Line2D at 0x7f8fb1a10160>]"
      ]
     },
     "execution_count": 20,
     "metadata": {},
     "output_type": "execute_result"
    },
    {
     "data": {
      "image/png": "[encoded data removed]",
      "text/plain": [
       "<Figure size 432x288 with 1 Axes>"
      ]
     },
     "metadata": {
      "needs_background": "light"
     },
     "output_type": "display_data"
    }
   ],
   "source": [
    "fig,axs = plt.subplots()\n",
    "axs.plot(del_list_12a,ve_list_12a)\n",
    "axs.plot(del_list_12b,ve_list_12b)\n",
    "#axs.set_xscale('symlog')"
   ]
  },
  {
   "cell_type": "markdown",
   "id": "493cee3e-90ab-4d42-909f-dc7e8c6663be",
   "metadata": {},
   "source": [
    "# Tongue 2:3"
   ]
  },
  {
   "cell_type": "markdown",
   "id": "9a5e6026-bca1-491d-8908-f9c1a5edde1a",
   "metadata": {},
   "source": [
    "## Load coupling functions"
   ]
  },
  {
   "cell_type": "code",
   "execution_count": 21,
   "id": "5320cf08-77e8-4379-b4d5-5cf79510cea1",
   "metadata": {},
   "outputs": [
    {
     "name": "stdout",
     "output_type": "stream",
     "text": [
      "* Loading LC data...\n",
      "* Loading monodromy...\n",
      "* Floquet Exponent kappa =-0.023568265867307696\n",
      "* Loading g symbolic...\n",
      "* Computing g...\n",
      "* Loading heterogeneous terms...\n",
      "* Computing z...\n",
      "* Computing i...\n"
     ]
    }
   ],
   "source": [
    "system23a = rsp(pardict=copy.deepcopy(pd1),**copy.deepcopy(kws1))\n",
    "system23b = rsp(pardict=copy.deepcopy(pd2),**copy.deepcopy(kws2))"
   ]
  },
  {
   "cell_type": "code",
   "execution_count": 22,
   "id": "6052dcd8-ec50-4c60-bc17-2c614c8f3d32",
   "metadata": {
    "tags": []
   },
   "outputs": [
    {
     "name": "stdout",
     "output_type": "stream",
     "text": [
      "* Loading p symbolic...\n",
      "* Loading p...\n",
      "* Loading p...\n",
      "* Loading p...\n",
      "* Loading H symbolic...\n",
      "* Loading H thalf0, order=0...\n",
      "* Loading H thalf0, order=1...\n",
      "* Loading H thalf0, order=2...\n"
     ]
    }
   ],
   "source": [
    "a = nmc(system23a,system23b,\n",
    "        #recompute_list=['p_cglf0','h_cglf0','p_data_cglf0','h_data_cglf0'],\n",
    "        #recompute_list=recompute_list,\n",
    "        _n=('om0',2),_m=('om1',3),\n",
    "        NP=300,NH=300)"
   ]
  },
  {
   "cell_type": "code",
   "execution_count": 23,
   "id": "3a27462f-57ba-436d-8697-5b3eebd4108c",
   "metadata": {},
   "outputs": [
    {
     "name": "stdout",
     "output_type": "stream",
     "text": [
      "1.0     \n",
      "1.0     \n"
     ]
    }
   ],
   "source": [
    "d1 = np.linspace(-10,0,20,endpoint=False)\n",
    "#dtemp = np.linspace(-1e-3,1e-3,31)\n",
    "\n",
    "del_list_23a,ve_list_23a = get_tongue(2**d1,system23a,deps=.005,max_eps=1)\n",
    "del_list_23b,ve_list_23b = get_tongue(-2**d1,system23a,deps=.005,max_eps=1)"
   ]
  },
  {
   "cell_type": "code",
   "execution_count": 25,
   "id": "d8e77313-8af5-4fb0-88ee-031d5a3268f2",
   "metadata": {},
   "outputs": [
    {
     "data": {
      "text/plain": [
       "array([nan, nan, nan, nan, nan, nan, nan, nan, nan, nan])"
      ]
     },
     "execution_count": 25,
     "metadata": {},
     "output_type": "execute_result"
    }
   ],
   "source": [
    "ve_list_23a"
   ]
  },
  {
   "cell_type": "code",
   "execution_count": 24,
   "id": "05fc923e-d1cf-4129-968b-6e78b9ff1cdf",
   "metadata": {},
   "outputs": [
    {
     "data": {
      "text/plain": [
       "[<matplotlib.lines.Line2D at 0x7f8fab95ef40>]"
      ]
     },
     "execution_count": 24,
     "metadata": {},
     "output_type": "execute_result"
    },
    {
     "data": {
      "image/png": "[encoded data removed]",
      "text/plain": [
       "<Figure size 432x288 with 1 Axes>"
      ]
     },
     "metadata": {
      "needs_background": "light"
     },
     "output_type": "display_data"
    }
   ],
   "source": [
    "fig,axs = plt.subplots()\n",
    "axs.plot(del_list_23a,ve_list_23a)\n",
    "axs.plot(del_list_23b,ve_list_23b)\n",
    "#axs.set_xscale('symlog')\n",
    "#axs.set_xscale('log')"
   ]
  },
  {
   "cell_type": "markdown",
   "id": "ad5f02b0-37fa-49da-8b22-3af8b9d5034a",
   "metadata": {},
   "source": [
    "# Tongue 1:3"
   ]
  },
  {
   "cell_type": "markdown",
   "id": "79c45bf1-5f52-4982-991e-492ca560776f",
   "metadata": {},
   "source": [
    "## Load coupling functions"
   ]
  },
  {
   "cell_type": "code",
   "execution_count": 26,
   "id": "d7976c0c-55d9-41aa-a041-5b5e9916ee03",
   "metadata": {},
   "outputs": [
    {
     "name": "stdout",
     "output_type": "stream",
     "text": [
      "* Loading LC data...\n",
      "* Loading monodromy...\n",
      "* Floquet Exponent kappa =-0.023568265867307696\n",
      "* Loading g symbolic...\n",
      "* Computing g...\n",
      "* Loading heterogeneous terms...\n",
      "* Computing z...\n",
      "* Computing i...\n"
     ]
    }
   ],
   "source": [
    "system13a = rsp(pardict=copy.deepcopy(pd1),**copy.deepcopy(kws1))\n",
    "system13b = rsp(pardict=copy.deepcopy(pd2),**copy.deepcopy(kws2))"
   ]
  },
  {
   "cell_type": "code",
   "execution_count": 27,
   "id": "71a5090c-0eda-4696-8d01-bb5cc85b7791",
   "metadata": {
    "tags": []
   },
   "outputs": [
    {
     "name": "stdout",
     "output_type": "stream",
     "text": [
      "* Loading p symbolic...\n",
      "* Loading p...\n",
      "* Loading p...\n",
      "* Computing p...\n",
      "* Loading H symbolic...\n",
      "* Computing H thalf0, order=0...\n",
      "* Computing H thalf0, order=1...\n",
      "* Computing H thalf0, order=2...\n"
     ]
    }
   ],
   "source": [
    "a = nmc(system13a,system13b,\n",
    "        #recompute_list=['p_cglf0','h_cglf0','p_data_cglf0','h_data_cglf0'],\n",
    "        #recompute_list=recompute_list,\n",
    "        _n=('om0',1),_m=('om1',3),\n",
    "        NP=500,NH=500)"
   ]
  },
  {
   "cell_type": "code",
   "execution_count": 87,
   "id": "26680c50-97bb-4f90-9da7-e41c330e1ee4",
   "metadata": {},
   "outputs": [
    {
     "name": "stdout",
     "output_type": "stream",
     "text": [
      "1.0     \n",
      "1.0     \n"
     ]
    }
   ],
   "source": [
    "d1 = np.linspace(-9,0,10,endpoint=False)\n",
    "#dtemp = np.linspace(-1e-3,1e-3,31)\n",
    "\n",
    "del_list_13a,ve_list_13a = get_tongue(2**d1,system13a,deps=.00002,max_eps=.2)\n",
    "del_list_13b,ve_list_13b = get_tongue(-2**d1,system13a,deps=.00002,max_eps=.2)"
   ]
  },
  {
   "cell_type": "code",
   "execution_count": 90,
   "id": "b9462668-a684-4b93-ab4c-35bd43c89c5d",
   "metadata": {
    "scrolled": true
   },
   "outputs": [
    {
     "data": {
      "text/plain": [
       "[<matplotlib.lines.Line2D at 0x7f8fcad167f0>]"
      ]
     },
     "execution_count": 90,
     "metadata": {},
     "output_type": "execute_result"
    },
    {
     "data": {
      "image/png": "[encoded data removed]",
      "text/plain": [
       "<Figure size 432x288 with 1 Axes>"
      ]
     },
     "metadata": {
      "needs_background": "light"
     },
     "output_type": "display_data"
    }
   ],
   "source": [
    "fig,axs = plt.subplots()\n",
    "axs.plot(del_list_13a,ve_list_13a)\n",
    "axs.plot(del_list_13b,ve_list_13b)\n",
    "#axs.set_xscale('symlog')\n",
    "#axs.set_xscale('log')\n",
    "#axs.set_xlim(4e-6,2e-5)"
   ]
  },
  {
   "cell_type": "code",
   "execution_count": 63,
   "id": "e4817b8c-ee8b-4bde-9fe1-df921b231eed",
   "metadata": {},
   "outputs": [
    {
     "data": {
      "text/plain": [
       "[<matplotlib.lines.Line2D at 0x7f8fb0519820>]"
      ]
     },
     "execution_count": 63,
     "metadata": {},
     "output_type": "execute_result"
    },
    {
     "data": {
      "image/png": "[encoded data removed]",
      "text/plain": [
       "<Figure size 432x288 with 1 Axes>"
      ]
     },
     "metadata": {
      "needs_background": "light"
     },
     "output_type": "display_data"
    }
   ],
   "source": [
    "eps = .00000185\n",
    "x = np.linspace(0,2*np.pi,10000)\n",
    "h = ct_redu(0,x,eps,system13a,1e-6)\n",
    "\n",
    "fig,axs = plt.subplots()\n",
    "axs.axhline(0,0,2*np.pi,color='gray')\n",
    "axs.plot(x,h)"
   ]
  },
  {
   "cell_type": "markdown",
   "id": "73ddd0d7-af4f-43b1-9012-15857a2025da",
   "metadata": {},
   "source": [
    "# Plot"
   ]
  },
  {
   "cell_type": "code",
   "execution_count": 96,
   "id": "d6d84c29-c777-41c0-955f-50bb195fc81f",
   "metadata": {},
   "outputs": [],
   "source": [
    "import matplotlib"
   ]
  },
  {
   "cell_type": "code",
   "execution_count": 7,
   "id": "1613062c-3afc-4a20-8ca8-63782dc16adf",
   "metadata": {},
   "outputs": [
    {
     "ename": "NameError",
     "evalue": "name 'matplotlib' is not defined",
     "output_type": "error",
     "traceback": [
      "\u001b[0;31m---------------------------------------------------------------------------\u001b[0m",
      "\u001b[0;31mNameError\u001b[0m                                 Traceback (most recent call last)",
      "Input \u001b[0;32mIn [7]\u001b[0m, in \u001b[0;36m<cell line: 1>\u001b[0;34m()\u001b[0m\n\u001b[0;32m----> 1\u001b[0m cmap \u001b[38;5;241m=\u001b[39m \u001b[43mmatplotlib\u001b[49m\u001b[38;5;241m.\u001b[39mcolormaps[\u001b[38;5;124m'\u001b[39m\u001b[38;5;124mviridis\u001b[39m\u001b[38;5;124m'\u001b[39m]\n\u001b[1;32m      2\u001b[0m fsize \u001b[38;5;241m=\u001b[39m \u001b[38;5;241m12\u001b[39m\n\u001b[1;32m      4\u001b[0m fig,axs \u001b[38;5;241m=\u001b[39m plt\u001b[38;5;241m.\u001b[39msubplots(figsize\u001b[38;5;241m=\u001b[39m(\u001b[38;5;241m8\u001b[39m,\u001b[38;5;241m3\u001b[39m))\n",
      "\u001b[0;31mNameError\u001b[0m: name 'matplotlib' is not defined"
     ]
    }
   ],
   "source": [
    "cmap = matplotlib.colormaps['viridis']\n",
    "fsize = 12\n",
    "\n",
    "fig,axs = plt.subplots(figsize=(8,3))\n",
    "\n",
    "axs.plot(del_list_13a+1/3,ve_list_13a,color=cmap(0),label='1:3',ls='-.')\n",
    "axs.plot(del_list_13b+1/3,ve_list_13b,color=cmap(0),ls='-.')\n",
    "\n",
    "axs.plot(del_list_12a+1/2,ve_list_12a,color=cmap(.2),label='1:2',ls='--')\n",
    "axs.plot(del_list_12b+1/2,ve_list_12b,color=cmap(.2),ls='--')\n",
    "\n",
    "axs.plot(del_list_23a+2/3,ve_list_23a,color=cmap(.4),label='2:3',ls=':')\n",
    "axs.plot(del_list_23b+2/3,ve_list_23b,color=cmap(.4),ls=':')\n",
    "\n",
    "axs.plot(del_list_11+1,ve_list_11,label='1:1',color=cmap(.6))\n",
    "\n",
    "axs.set_ylim(0,.35)\n",
    "\n",
    "#axs.set_yscale('log')\n",
    "axs.set_xlabel(r'$\\omega_X/(\\omega_f+\\delta)$',fontsize=fsize)\n",
    "axs.set_ylabel(r'$\\varepsilon$',fontsize=fsize)\n",
    "\n",
    "axs.set_xticks([1/3,1/2,2/3,1])\n",
    "axs.set_xticklabels(['$1{:}3$','$1{:}2$','$2{:}3$','$1{:}1$'],fontsize=fsize)\n",
    "\n",
    "plt.savefig('../')"
   ]
  },
  {
   "cell_type": "code",
   "execution_count": null,
   "id": "c02aa864-2895-4adc-9279-39dd821bc075",
   "metadata": {},
   "outputs": [],
   "source": []
  },
  {
   "cell_type": "code",
   "execution_count": null,
   "id": "d1718473-14e5-4d1f-ab7d-7d426fc5a698",
   "metadata": {},
   "outputs": [],
   "source": []
  }
 ],
 "metadata": {
  "kernelspec": {
   "display_name": "Python 3 (ipykernel)",
   "language": "python",
   "name": "python3"
  },
  "language_info": {
   "codemirror_mode": {
    "name": "ipython",
    "version": 3
   },
   "file_extension": ".py",
   "mimetype": "text/x-python",
   "name": "python",
   "nbconvert_exporter": "python",
   "pygments_lexer": "ipython3",
   "version": "3.8.10"
  }
 },
 "nbformat": 4,
 "nbformat_minor": 5
}
