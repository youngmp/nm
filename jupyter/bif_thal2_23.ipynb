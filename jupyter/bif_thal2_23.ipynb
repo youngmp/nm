{
 "cells": [
  {
   "cell_type": "markdown",
   "id": "b9d76ed3-0084-48ba-8928-f5d7446dbf3b",
   "metadata": {},
   "source": [
    "# thal2 2:3 Bifurcation Diagrams"
   ]
  },
  {
   "cell_type": "markdown",
   "id": "5a7501b2-b444-49e9-a6b9-61b98bf28435",
   "metadata": {},
   "source": [
    "# Inits"
   ]
  },
  {
   "cell_type": "code",
   "execution_count": 1,
   "id": "9e211c54-3fc2-4394-bb37-2351aa377d0b",
   "metadata": {},
   "outputs": [],
   "source": [
    "import sys; sys.path.insert(0, '..') # add parent folder path where lib folder is\n",
    "# user-defined\n",
    "import nmCoupling as nm\n",
    "# import nmCoupling_old as nm\n",
    "import response as rp\n",
    "\n",
    "import thal2 as t2\n",
    "\n",
    "from lib.util import (get_phase, freq_est, get_tongue_1d, pl_exist_1d,\n",
    "get_period, bif1d, follow_phase_diffs, phase_lock_r3d, follow_locking_3d)\n",
    "\n",
    "from lib.rhs import _redu_c,_full\n",
    "from lib.rhs import _redu_3dc_thal as _redu_3dc\n",
    "\n",
    "from lib.plot_util import (add_diagram_1d_scatter, draw_full_solutions, \n",
    "quick_plot_combined, quick_plot_r)\n",
    "\n",
    "import numpy as np\n",
    "import scipy as sp\n",
    "import matplotlib.pyplot as plt\n",
    "from scipy.integrate import solve_ivp\n",
    "import sympy as sym\n",
    "\n",
    "from scipy.optimize import root,bisect\n",
    "from copy import deepcopy\n",
    "import os\n",
    "\n",
    "plt.rcParams.update({\n",
    "    \"text.usetex\": True,\n",
    "    \"font.family\": \"Helvetica\"\n",
    "})\n",
    "\n",
    "nmc = nm.nmCoupling\n",
    "rsp = rp.Response"
   ]
  },
  {
   "cell_type": "markdown",
   "id": "bb1ee114-c1dd-4ac4-bcb1-9cc0b4139193",
   "metadata": {},
   "source": [
    "## Dicts"
   ]
  },
  {
   "cell_type": "code",
   "execution_count": 2,
   "id": "4614432b-370d-40cb-8381-9a24940c74ca",
   "metadata": {},
   "outputs": [],
   "source": [
    "kw_sim = {'rtol':1e-7,'atol':1e-7,'method':'LSODA'}"
   ]
  },
  {
   "cell_type": "code",
   "execution_count": 3,
   "id": "385d5022-9562-4412-8aea-7eacbaa0d9be",
   "metadata": {},
   "outputs": [],
   "source": [
    "pd1 = {'gL':0.05,'gna':3,'gk':5,\n",
    "       'gt':5,'eL':-70,'ena':50,\n",
    "       'ek':-90,'et':0,'esyn':-1,\n",
    "       'c':1,'alpha':3,'beta':2,\n",
    "       'sigmat':0.8,'vt':-20,\n",
    "       'ib':3.5,'del':0,'om':1,'om_fix':1}"
   ]
  },
  {
   "cell_type": "code",
   "execution_count": 4,
   "id": "a1bdbccc-e4fa-4f3c-bcbc-b978f23cf4e0",
   "metadata": {
    "editable": true,
    "slideshow": {
     "slide_type": ""
    },
    "tags": []
   },
   "outputs": [],
   "source": [
    "# default period must be 2*np.pi\n",
    "kws1 = {'var_names':['v','h','r','w'],\n",
    "        'pardict':pd1,\n",
    "        'rhs':t2.rhs,\n",
    "        'coupling':t2.coupling,\n",
    "        'init':np.array([-.64,0.71,0.25,0,6]),\n",
    "        'TN':20000,\n",
    "        'trunc_order':3,\n",
    "        'z_forward':False,\n",
    "        'i_forward':[False,True,False,False,False,False],\n",
    "        'i_bad_dx':[False,True,False,False,False,False],\n",
    "        'max_iter':50,\n",
    "        'rtol':1e-12,\n",
    "        'atol':1e-12,\n",
    "        'rel_tol':1e-9,\n",
    "        'save_fig':False,\n",
    "        'lc_prominence':.05,\n",
    "        'factor':.5}"
   ]
  },
  {
   "cell_type": "markdown",
   "id": "d98d4690-f2a0-422b-bf72-ab204be2e7ce",
   "metadata": {},
   "source": [
    "## Defs"
   ]
  },
  {
   "cell_type": "code",
   "execution_count": 5,
   "id": "7d18f2ca-cc40-4432-a630-15d262983952",
   "metadata": {},
   "outputs": [],
   "source": [
    "kw_bif = {'method':'LSODA','dense_output':True,'rtol':1e-9,'atol':1e-9}"
   ]
  },
  {
   "cell_type": "code",
   "execution_count": 6,
   "id": "fdccde13-5db6-4467-bf81-1b5739128370",
   "metadata": {},
   "outputs": [],
   "source": [
    "etup23 = (.001,.1,100)\n",
    "eps_list23r = np.linspace(*etup23)"
   ]
  },
  {
   "cell_type": "code",
   "execution_count": 7,
   "id": "f5ae7150-6086-4352-8acc-6fed37f53960",
   "metadata": {
    "editable": true,
    "slideshow": {
     "slide_type": ""
    },
    "tags": []
   },
   "outputs": [],
   "source": [
    "x_temp = np.linspace(-np.pi,3*np.pi,500)"
   ]
  },
  {
   "cell_type": "markdown",
   "id": "b5faed09-0969-4cb4-b3a1-18a7c8e12d11",
   "metadata": {},
   "source": [
    "## Initialize Response Functions"
   ]
  },
  {
   "cell_type": "code",
   "execution_count": 8,
   "id": "f81849f7-de50-4f3d-9333-bee99b9eb15c",
   "metadata": {
    "editable": true,
    "slideshow": {
     "slide_type": ""
    },
    "tags": []
   },
   "outputs": [
    {
     "name": "stdout",
     "output_type": "stream",
     "text": [
      "mkdir ./data/thal0_35/\n",
      "* Loading LC data...\n",
      "self.T 6.283185307179586 omfix 1.6947246128737048\n",
      "* Loading monodromy...\n",
      "* Floquet Exponent kappa =-0.03594482780785962\n",
      "* Loading g symbolic...\n",
      "* Computing g...\n",
      "* Loading heterogeneous terms...\n",
      "* Computing z...\n",
      "* Computing i...\n",
      "mkdir ./data/thal1_35/\n",
      "* Loading LC data...\n",
      "self.T 6.283185307179586 omfix 1.6947246128737048\n",
      "* Loading monodromy...\n",
      "* Floquet Exponent kappa =-0.03594482780785962\n",
      "* Loading g symbolic...\n",
      "* Computing g...\n",
      "* Loading heterogeneous terms...\n",
      "* Computing z...\n",
      "* Computing i...\n"
     ]
    }
   ],
   "source": [
    "system1 = rsp(idx=0,model_name='thal0_35',**kws1)\n",
    "system2 = rsp(idx=1,model_name='thal1_35',**kws1)"
   ]
  },
  {
   "cell_type": "code",
   "execution_count": 9,
   "id": "0f3b9750-1e96-4e63-ab7d-ab969f84373c",
   "metadata": {},
   "outputs": [],
   "source": [
    "kw_nm = {'system1':system1,'system2':system2,'_n':('om0',2),'_m':('om1',3),\n",
    "        'NH':1024,'save_fig':False}"
   ]
  },
  {
   "cell_type": "markdown",
   "id": "b4259a78-a9fe-463c-9537-5e40dd45d50e",
   "metadata": {},
   "source": [
    "# del=0.0"
   ]
  },
  {
   "cell_type": "code",
   "execution_count": 10,
   "id": "369097a8-e666-496d-8bbc-e3abad49b074",
   "metadata": {
    "editable": true,
    "slideshow": {
     "slide_type": ""
    },
    "tags": []
   },
   "outputs": [
    {
     "name": "stdout",
     "output_type": "stream",
     "text": [
      "pfactor 20\n",
      "* Loading p symbolic...\n",
      "* Loading p symbolic...\n",
      "* Loading H symbolic...\n",
      "* Loading H symbolic...\n",
      "* Loading H thal0_35, order=0...\n",
      "* Loading H thal1_35, order=0...\n",
      "* Loading H thal0_35, order=1...\n",
      "* Loading H thal1_35, order=1...\n",
      "* Loading H thal0_35, order=2...\n",
      "* Loading H thal1_35, order=2...\n",
      "* Loading H thal0_35, order=3...\n",
      "* Loading H thal1_35, order=3...\n"
     ]
    }
   ],
   "source": [
    "del23_p0 = 0\n",
    "a23_p0 = nm.nmCoupling(**kw_nm, del1=del23_p0)"
   ]
  },
  {
   "cell_type": "markdown",
   "id": "8684de80-cbd1-4526-bf91-6a66e1324653",
   "metadata": {},
   "source": [
    "## Get Branches Full"
   ]
  },
  {
   "cell_type": "code",
   "execution_count": 11,
   "id": "79e162ce-60b6-42a2-8122-e1b5451a7abf",
   "metadata": {},
   "outputs": [],
   "source": [
    "kw_p0 = {'a':a23_p0,'del1':del23_p0,'recompute':False,\n",
    "         'bifdir':'bif1d_thal2/','_full_rhs':_full}"
   ]
  },
  {
   "cell_type": "code",
   "execution_count": 12,
   "id": "a300fc18-32a3-4c14-ab7f-bb9e36365567",
   "metadata": {},
   "outputs": [],
   "source": [
    "data_p0_list = []"
   ]
  },
  {
   "cell_type": "code",
   "execution_count": 13,
   "id": "ac32831e-7c39-4670-8d3d-4b24c02dd0c4",
   "metadata": {},
   "outputs": [],
   "source": [
    "in_dicts = [dict(init=0,eps_init=0.1,eps_final=0.007,deps=-.01),\n",
    "            dict(init=0,eps_init=0.01,eps_final=0.0005,deps=-.001)]"
   ]
  },
  {
   "cell_type": "code",
   "execution_count": 14,
   "id": "fac1650a-1ff5-4130-a701-304f053d8311",
   "metadata": {
    "scrolled": true
   },
   "outputs": [
    {
     "name": "stdout",
     "output_type": "stream",
     "text": [
      "fname1 td_branch_init=0_nm=23_del=0_ei=0.1_ef=0.007_de=-0.01.txt\n",
      "fname2 ts_branch_init=0_nm=23_del=0_ei=0.1_ef=0.007_de=-0.01.txt\n",
      "fname1 td_branch_init=0_nm=23_del=0_ei=0.01_ef=0.0005_de=-0.001.txt\n",
      "fname2 ts_branch_init=0_nm=23_del=0_ei=0.01_ef=0.0005_de=-0.001.txt\n"
     ]
    }
   ],
   "source": [
    "for i in range(len(in_dicts)):\n",
    "    in1 = in_dicts[i]\n",
    "    dat = follow_phase_diffs(**in1,**kw_p0)\n",
    "    data_p0_list.append(dat)\n",
    "fname = kw_p0['bifdir']+'hyper_thal2_23_p0.txt'"
   ]
  },
  {
   "cell_type": "code",
   "execution_count": 15,
   "id": "9c95161f-d2b0-4660-97d6-002aa41b05bd",
   "metadata": {},
   "outputs": [],
   "source": [
    "# save hyperparameters\n",
    "hyp_inputs = np.zeros([len(in_dicts),4])\n",
    "for i in range(len(in_dicts)):\n",
    "    hyp_inputs[i,0] = in_dicts[i]['init']\n",
    "    hyp_inputs[i,1] = in_dicts[i]['eps_init']\n",
    "    hyp_inputs[i,2] = in_dicts[i]['eps_final']\n",
    "    hyp_inputs[i,3] = in_dicts[i]['deps']\n",
    "np.savetxt(fname,hyp_inputs)"
   ]
  },
  {
   "cell_type": "markdown",
   "id": "0842c294-15f3-4a62-8369-350584365e53",
   "metadata": {},
   "source": [
    "## Get Branches 3D"
   ]
  },
  {
   "cell_type": "code",
   "execution_count": 16,
   "id": "e9e556d9-c81b-4728-a508-7256539aeec4",
   "metadata": {},
   "outputs": [],
   "source": [
    "data_r3d_p0_list = []"
   ]
  },
  {
   "cell_type": "code",
   "execution_count": 17,
   "id": "7de86efa-ef9f-42f0-9100-381eb81a4ab5",
   "metadata": {
    "scrolled": true
   },
   "outputs": [
    {
     "name": "stdout",
     "output_type": "stream",
     "text": [
      "t_diff 3.78445037168994961, Y=[-15.06510555  -0.09776323  -0.17794343]                                              \n",
      "[ 3.7845 -0.0978 -0.1779]\n"
     ]
    }
   ],
   "source": [
    "# find init for this branch\n",
    "_,init = phase_lock_r3d([1,0,0],a23_p0,.05,_redu_3dc)\n",
    "print(init)"
   ]
  },
  {
   "cell_type": "code",
   "execution_count": 18,
   "id": "25af9e14-252f-4c4a-b8c3-f51738beb29a",
   "metadata": {
    "scrolled": true
   },
   "outputs": [],
   "source": [
    "# branch 1\n",
    "dat = follow_locking_3d(init,a23_p0,(.05,.11,.01),\n",
    "                        rhs=_redu_3dc,recompute=False)\n",
    "data_r3d_p0_list.append(dat)"
   ]
  },
  {
   "cell_type": "code",
   "execution_count": 19,
   "id": "879603dc-65ba-425e-8dfd-e28f86169a1f",
   "metadata": {
    "scrolled": true
   },
   "outputs": [],
   "source": [
    "# branch 1\n",
    "dat = follow_locking_3d(init,a23_p0,(.05,.001,-.001),\n",
    "                        rhs=_redu_3dc,recompute=False)\n",
    "data_r3d_p0_list.append(dat)"
   ]
  },
  {
   "cell_type": "markdown",
   "id": "5bcf3abe-397e-4773-a909-424932d96f0e",
   "metadata": {},
   "source": [
    "## Plot"
   ]
  },
  {
   "cell_type": "code",
   "execution_count": 20,
   "id": "aa6bb9cc-0e99-41e4-af58-6cc3048c4b10",
   "metadata": {},
   "outputs": [
    {
     "name": "stdout",
     "output_type": "stream",
     "text": [
      "eps_min 0.008000000000000002\n"
     ]
    },
    {
     "data": {
      "image/png": "[encoded data removed]",
      "text/plain": [
       "<Figure size 300x200 with 1 Axes>"
      ]
     },
     "metadata": {},
     "output_type": "display_data"
    },
    {
     "data": {
      "image/png": "[encoded data removed]",
      "text/plain": [
       "<Figure size 300x400 with 2 Axes>"
      ]
     },
     "metadata": {},
     "output_type": "display_data"
    }
   ],
   "source": [
    "quick_plot_combined(a23_p0,\n",
    "                    kw_f={'data_list':data_p0_list},\n",
    "                    kw_r3d={'data_list':data_r3d_p0_list},\n",
    "                    kw_r={'etup':etup23})"
   ]
  },
  {
   "cell_type": "markdown",
   "id": "eda51bbd-62bd-4511-990d-06e5fe33dc26",
   "metadata": {},
   "source": [
    "# del=0.001"
   ]
  },
  {
   "cell_type": "code",
   "execution_count": 21,
   "id": "929d8f14-db8b-4c95-ac67-466c8cb8f9d0",
   "metadata": {
    "editable": true,
    "scrolled": true,
    "slideshow": {
     "slide_type": ""
    },
    "tags": []
   },
   "outputs": [
    {
     "name": "stdout",
     "output_type": "stream",
     "text": [
      "pfactor 20\n",
      "* Loading p symbolic...\n",
      "* Loading p symbolic...\n",
      "* Loading H symbolic...\n",
      "* Loading H symbolic...\n",
      "* Loading H thal0_35, order=0...\n",
      "* Loading H thal1_35, order=0...\n",
      "* Loading H thal0_35, order=1...\n",
      "* Loading H thal1_35, order=1...\n",
      "* Loading H thal0_35, order=2...\n",
      "* Loading H thal1_35, order=2...\n",
      "* Loading H thal0_35, order=3...\n",
      "* Loading H thal1_35, order=3...\n"
     ]
    }
   ],
   "source": [
    "del23_p001 = 0.001\n",
    "a23_p001 = nm.nmCoupling(**kw_nm, del1=del23_p001)"
   ]
  },
  {
   "cell_type": "markdown",
   "id": "90d6cc28-b032-45e8-bd27-28e2f5ec4340",
   "metadata": {},
   "source": [
    "## Get Branches Full"
   ]
  },
  {
   "cell_type": "code",
   "execution_count": 22,
   "id": "ae942c72-0218-4355-b44d-45bea8acbadd",
   "metadata": {},
   "outputs": [],
   "source": [
    "kw_p001 = {'a':a23_p001,'del1':del23_p001,'recompute':False,\n",
    "         'bifdir':'bif1d_thal2/','_full_rhs':_full}"
   ]
  },
  {
   "cell_type": "code",
   "execution_count": 23,
   "id": "c77e9ba8-65c4-4999-8587-4171a013665c",
   "metadata": {},
   "outputs": [],
   "source": [
    "data_p001_list = []"
   ]
  },
  {
   "cell_type": "code",
   "execution_count": 24,
   "id": "7480d558-68f5-4fc4-b501-f9275b320896",
   "metadata": {},
   "outputs": [],
   "source": [
    "in_dicts = [dict(init=0,eps_init=0.1,eps_final=0.009,deps=-.01),\n",
    "            dict(init=0,eps_init=0.01,eps_final=0.0005,deps=-.001)]"
   ]
  },
  {
   "cell_type": "code",
   "execution_count": 25,
   "id": "e622ccbc-4bbd-4308-af93-e14d3cdadcd0",
   "metadata": {
    "scrolled": true
   },
   "outputs": [
    {
     "name": "stdout",
     "output_type": "stream",
     "text": [
      "fname1 td_branch_init=0_nm=23_del=0.001_ei=0.1_ef=0.009_de=-0.01.txt\n",
      "fname2 ts_branch_init=0_nm=23_del=0.001_ei=0.1_ef=0.009_de=-0.01.txt\n",
      "fname1 td_branch_init=0_nm=23_del=0.001_ei=0.01_ef=0.0005_de=-0.001.txt\n",
      "fname2 ts_branch_init=0_nm=23_del=0.001_ei=0.01_ef=0.0005_de=-0.001.txt\n"
     ]
    }
   ],
   "source": [
    "for i in range(len(in_dicts)):\n",
    "    in1 = in_dicts[i]\n",
    "    dat = follow_phase_diffs(**in1,**kw_p001)\n",
    "    data_p001_list.append(dat)\n",
    "fname = kw_p001['bifdir']+'hyper_thal2_23_p001.txt'"
   ]
  },
  {
   "cell_type": "code",
   "execution_count": 26,
   "id": "aea1a0a9-91ae-4df6-8053-a8dc3e17c4cd",
   "metadata": {},
   "outputs": [],
   "source": [
    "# save hyperparameters\n",
    "hyp_inputs = np.zeros([len(in_dicts),4])\n",
    "for i in range(len(in_dicts)):\n",
    "    hyp_inputs[i,0] = in_dicts[i]['init']\n",
    "    hyp_inputs[i,1] = in_dicts[i]['eps_init']\n",
    "    hyp_inputs[i,2] = in_dicts[i]['eps_final']\n",
    "    hyp_inputs[i,3] = in_dicts[i]['deps']\n",
    "np.savetxt(fname,hyp_inputs)"
   ]
  },
  {
   "cell_type": "markdown",
   "id": "4ee8ad8b-1f67-426e-831b-a710ce46bbf1",
   "metadata": {},
   "source": [
    "## Get Branches 3D"
   ]
  },
  {
   "cell_type": "code",
   "execution_count": 27,
   "id": "565f5934-5b53-400d-a843-6983ad1e1f3a",
   "metadata": {},
   "outputs": [],
   "source": [
    "data_r3d_p001_list = []"
   ]
  },
  {
   "cell_type": "code",
   "execution_count": 28,
   "id": "3cfcc65f-e167-466c-a5e9-0fe3ed47a850",
   "metadata": {
    "scrolled": true
   },
   "outputs": [
    {
     "name": "stdout",
     "output_type": "stream",
     "text": [
      "t_diff 5.95724361680905-09, Y=[-0.32594169 -0.08448709 -0.15152501]                                              \n",
      "[ 5.9572 -0.0845 -0.1515]\n"
     ]
    }
   ],
   "source": [
    "# find init for this branch mid\n",
    "_,init = phase_lock_r3d([0,0,0],a23_p001,.05,_redu_3dc)\n",
    "print(init)"
   ]
  },
  {
   "cell_type": "code",
   "execution_count": 29,
   "id": "7241380d-c4f2-43c1-81fa-0a771dbc1bdb",
   "metadata": {
    "scrolled": true
   },
   "outputs": [],
   "source": [
    "# branch 1\n",
    "dat = follow_locking_3d(init,a23_p001,(.05,.11,.01),\n",
    "                        rhs=_redu_3dc,recompute=False)\n",
    "data_r3d_p001_list.append(dat)"
   ]
  },
  {
   "cell_type": "code",
   "execution_count": 30,
   "id": "5a3c466f-b829-46b1-91b1-605ec34b94eb",
   "metadata": {
    "scrolled": true
   },
   "outputs": [],
   "source": [
    "# branch 1\n",
    "dat = follow_locking_3d(init,a23_p001,(.05,.001,-.002),\n",
    "                        rhs=_redu_3dc,recompute=False)\n",
    "data_r3d_p001_list.append(dat)"
   ]
  },
  {
   "cell_type": "markdown",
   "id": "1cd67bdf-9981-49bb-8fe9-eb4d74a5612a",
   "metadata": {},
   "source": [
    "## Plot"
   ]
  },
  {
   "cell_type": "code",
   "execution_count": 31,
   "id": "38ff4e04-7191-421a-b88f-f65a9ddbb04c",
   "metadata": {},
   "outputs": [
    {
     "name": "stdout",
     "output_type": "stream",
     "text": [
      "eps_min 0.008000000000000002\n"
     ]
    },
    {
     "data": {
      "image/png": "[encoded data removed]",
      "text/plain": [
       "<Figure size 300x200 with 1 Axes>"
      ]
     },
     "metadata": {},
     "output_type": "display_data"
    },
    {
     "data": {
      "image/png": "[encoded data removed]",
      "text/plain": [
       "<Figure size 300x400 with 2 Axes>"
      ]
     },
     "metadata": {},
     "output_type": "display_data"
    }
   ],
   "source": [
    "quick_plot_combined(a23_p001,\n",
    "                    kw_f={'data_list':data_p001_list},\n",
    "                    kw_r3d={'data_list':data_r3d_p001_list},\n",
    "                    kw_r={'etup':etup23})"
   ]
  },
  {
   "cell_type": "markdown",
   "id": "773b05cb-0256-44ab-94a5-6ead8708ca06",
   "metadata": {},
   "source": [
    "# del=0.003"
   ]
  },
  {
   "cell_type": "code",
   "execution_count": 86,
   "id": "e066a8b4-f196-4c3a-9136-997e6203692f",
   "metadata": {
    "editable": true,
    "scrolled": true,
    "slideshow": {
     "slide_type": ""
    },
    "tags": []
   },
   "outputs": [
    {
     "name": "stdout",
     "output_type": "stream",
     "text": [
      "pfactor 20\n",
      "* Loading p symbolic...\n",
      "* Loading p symbolic...\n",
      "* Loading H symbolic...\n",
      "* Loading H symbolic...\n",
      "* Loading H thal0_35, order=0...\n",
      "* Loading H thal1_35, order=0...\n",
      "* Loading H thal0_35, order=1...\n",
      "* Loading H thal1_35, order=1...\n",
      "* Loading H thal0_35, order=2...\n",
      "* Loading H thal1_35, order=2...\n",
      "* Loading H thal0_35, order=3...\n",
      "* Loading H thal1_35, order=3...\n"
     ]
    }
   ],
   "source": [
    "del23_p003 = 0.003\n",
    "a23_p003 = nm.nmCoupling(**kw_nm, del1=del23_p003)"
   ]
  },
  {
   "cell_type": "markdown",
   "id": "aacd36c2-84bf-4560-a17b-3cfcf3ff7005",
   "metadata": {},
   "source": [
    "## Get Branches Full"
   ]
  },
  {
   "cell_type": "code",
   "execution_count": 92,
   "id": "0118c399-72cb-4ce5-a2cf-b754b31ced9c",
   "metadata": {},
   "outputs": [],
   "source": [
    "kw_p003 = {'a':a23_p003,'del1':del23_p003,'recompute':False,\n",
    "         'bifdir':'bif1d_thal2/','_full_rhs':_full}"
   ]
  },
  {
   "cell_type": "code",
   "execution_count": 93,
   "id": "6602b2b3-4931-4818-843f-4162dd1f3549",
   "metadata": {},
   "outputs": [],
   "source": [
    "data_p003_list = []"
   ]
  },
  {
   "cell_type": "code",
   "execution_count": 94,
   "id": "87fa8a1b-4a4c-4de4-a5e5-f218ada61ba5",
   "metadata": {},
   "outputs": [],
   "source": [
    "in_dicts = [dict(init=0,eps_init=0.1,eps_final=0.009, deps=-.01),\n",
    "            dict(init=0,eps_init=0.01,eps_final=0.0005,deps=-.001)]"
   ]
  },
  {
   "cell_type": "code",
   "execution_count": 95,
   "id": "31db254e-a8e2-4970-bc7d-c10f50c5b83f",
   "metadata": {
    "scrolled": true
   },
   "outputs": [
    {
     "name": "stdout",
     "output_type": "stream",
     "text": [
      "fname1 td_branch_init=0_nm=23_del=0.003_ei=0.1_ef=0.009_de=-0.01.txt\n",
      "fname2 ts_branch_init=0_nm=23_del=0.003_ei=0.1_ef=0.009_de=-0.01.txt\n",
      "fname1 td_branch_init=0_nm=23_del=0.003_ei=0.01_ef=0.0005_de=-0.001.txt\n",
      "fname2 ts_branch_init=0_nm=23_del=0.003_ei=0.01_ef=0.0005_de=-0.001.txt\n"
     ]
    }
   ],
   "source": [
    "for i in range(len(in_dicts)):\n",
    "    in1 = in_dicts[i]\n",
    "    dat = follow_phase_diffs(**in1,**kw_p003)\n",
    "    data_p003_list.append(dat)\n",
    "fname = kw_p003['bifdir']+'hyper_thal2_23_p003.txt'"
   ]
  },
  {
   "cell_type": "code",
   "execution_count": 96,
   "id": "b26a8f64-206d-4d1c-8290-c9444ef82167",
   "metadata": {},
   "outputs": [],
   "source": [
    "# save hyperparameters\n",
    "hyp_inputs = np.zeros([len(in_dicts),4])\n",
    "for i in range(len(in_dicts)):\n",
    "    hyp_inputs[i,0] = in_dicts[i]['init']\n",
    "    hyp_inputs[i,1] = in_dicts[i]['eps_init']\n",
    "    hyp_inputs[i,2] = in_dicts[i]['eps_final']\n",
    "    hyp_inputs[i,3] = in_dicts[i]['deps']\n",
    "np.savetxt(fname,hyp_inputs)"
   ]
  },
  {
   "cell_type": "markdown",
   "id": "7a6374cd-79aa-4102-9c36-90d053cc840d",
   "metadata": {},
   "source": [
    "## Get Branches 3D"
   ]
  },
  {
   "cell_type": "code",
   "execution_count": 38,
   "id": "188548a3-d04e-4bcb-9741-2c21bcce78a0",
   "metadata": {},
   "outputs": [],
   "source": [
    "data_r3d_p003_list = []"
   ]
  },
  {
   "cell_type": "code",
   "execution_count": 39,
   "id": "9c0dfd66-b70b-40af-bc6e-2f01cedeff3b",
   "metadata": {
    "scrolled": true
   },
   "outputs": [
    {
     "name": "stdout",
     "output_type": "stream",
     "text": [
      "t_diff 6.13073096718261109, Y=[-0.15245434 -0.05662589 -0.0886821 ]                                              \n",
      "[ 6.1307 -0.0566 -0.0887]\n"
     ]
    }
   ],
   "source": [
    "# find init for this branch mid\n",
    "_,init = phase_lock_r3d([0,0,0],a23_p003,.05,_redu_3dc)\n",
    "print(init)"
   ]
  },
  {
   "cell_type": "code",
   "execution_count": 40,
   "id": "675a201c-c1bf-43cd-b60d-9ee377127ac8",
   "metadata": {
    "scrolled": true
   },
   "outputs": [],
   "source": [
    "# branch 1\n",
    "dat = follow_locking_3d(init,a23_p003,(.05,.11,.01),\n",
    "                        rhs=_redu_3dc,recompute=False)\n",
    "data_r3d_p003_list.append(dat)"
   ]
  },
  {
   "cell_type": "code",
   "execution_count": 41,
   "id": "adf9ce6e-afdc-400e-8e63-c0f3073149e1",
   "metadata": {
    "scrolled": true
   },
   "outputs": [],
   "source": [
    "# branch 1\n",
    "dat = follow_locking_3d(init,a23_p003,(.05,.001,-.002),\n",
    "                        rhs=_redu_3dc,recompute=False)\n",
    "data_r3d_p003_list.append(dat)"
   ]
  },
  {
   "cell_type": "code",
   "execution_count": 42,
   "id": "226be05e-3567-4d02-a369-23d0b8467752",
   "metadata": {},
   "outputs": [
    {
     "name": "stdout",
     "output_type": "stream",
     "text": [
      "t_diff 2.43952338343508510, Y=[ 2.43952338 -0.05553699 -0.03192527]                                              \n",
      "[ 2.4395 -0.0555 -0.0319]\n"
     ]
    }
   ],
   "source": [
    "# find init for branch 2\n",
    "_,init = phase_lock_r3d([2.5,0,0],a23_p003,.05,_redu_3dc)\n",
    "print(init)"
   ]
  },
  {
   "cell_type": "code",
   "execution_count": 43,
   "id": "a19a872e-0434-42dd-a341-44c111058a55",
   "metadata": {
    "scrolled": true
   },
   "outputs": [],
   "source": [
    "# branch 2\n",
    "dat = follow_locking_3d(init,a23_p003,(.05,.11,.01),\n",
    "                        rhs=_redu_3dc,recompute=False)\n",
    "data_r3d_p003_list.append(dat)"
   ]
  },
  {
   "cell_type": "code",
   "execution_count": 44,
   "id": "65d5abef-1e9c-4076-9df2-41664488110b",
   "metadata": {
    "scrolled": true
   },
   "outputs": [],
   "source": [
    "# branch 2\n",
    "dat = follow_locking_3d(init,a23_p003,(.05,.001,-.002),\n",
    "                        rhs=_redu_3dc,recompute=False)\n",
    "data_r3d_p003_list.append(dat)"
   ]
  },
  {
   "cell_type": "code",
   "execution_count": 45,
   "id": "53376635-9a0e-448d-8eaa-2df56df9b873",
   "metadata": {},
   "outputs": [
    {
     "name": "stdout",
     "output_type": "stream",
     "text": [
      "t_diff 4.53391848582837608, Y=[ 4.53391849 -0.05553699 -0.03192527]                                              \n",
      "[ 4.5339 -0.0555 -0.0319]\n"
     ]
    }
   ],
   "source": [
    "# find init for branch 3\n",
    "_,init = phase_lock_r3d([5,0,0],a23_p003,.05,_redu_3dc)\n",
    "print(init)"
   ]
  },
  {
   "cell_type": "code",
   "execution_count": 46,
   "id": "4b70dda1-1a31-4e28-a74e-8df0b9de2ed8",
   "metadata": {
    "scrolled": true
   },
   "outputs": [],
   "source": [
    "# branch 3\n",
    "dat = follow_locking_3d(init,a23_p003,(.05,.11,.01),\n",
    "                        rhs=_redu_3dc,recompute=False)\n",
    "data_r3d_p003_list.append(dat)"
   ]
  },
  {
   "cell_type": "code",
   "execution_count": 47,
   "id": "b4e9e0d1-cd4e-4dcc-8c5c-12afcb572d6a",
   "metadata": {
    "scrolled": true
   },
   "outputs": [],
   "source": [
    "# branch 3\n",
    "dat = follow_locking_3d(init,a23_p003,(.05,.001,-.002),\n",
    "                        rhs=_redu_3dc,recompute=False)\n",
    "data_r3d_p003_list.append(dat)"
   ]
  },
  {
   "cell_type": "markdown",
   "id": "d60c9737-77b2-4a0e-9823-e8edcf435ff6",
   "metadata": {},
   "source": [
    "## Plot"
   ]
  },
  {
   "cell_type": "code",
   "execution_count": 48,
   "id": "30f7ef6f-ab90-45f5-bf1b-105b0f6f5105",
   "metadata": {},
   "outputs": [
    {
     "name": "stdout",
     "output_type": "stream",
     "text": [
      "eps_min 0.008000000000000002\n"
     ]
    },
    {
     "data": {
      "image/png": "[encoded data removed]",
      "text/plain": [
       "<Figure size 300x200 with 1 Axes>"
      ]
     },
     "metadata": {},
     "output_type": "display_data"
    },
    {
     "data": {
      "image/png": "[encoded data removed]",
      "text/plain": [
       "<Figure size 300x400 with 2 Axes>"
      ]
     },
     "metadata": {},
     "output_type": "display_data"
    }
   ],
   "source": [
    "quick_plot_combined(a23_p003,\n",
    "                    kw_f={'data_list':data_p003_list},\n",
    "                    kw_r3d={'data_list':data_r3d_p003_list},\n",
    "                    kw_r={'etup':etup23})"
   ]
  },
  {
   "cell_type": "markdown",
   "id": "3ca76895-5d76-4636-be2d-68ebc82f0d18",
   "metadata": {},
   "source": [
    "# del=0.004"
   ]
  },
  {
   "cell_type": "code",
   "execution_count": 49,
   "id": "df678771-4a1c-431c-86a3-369edbe03842",
   "metadata": {
    "editable": true,
    "scrolled": true,
    "slideshow": {
     "slide_type": ""
    },
    "tags": []
   },
   "outputs": [
    {
     "name": "stdout",
     "output_type": "stream",
     "text": [
      "pfactor 20\n",
      "* Loading p symbolic...\n",
      "* Loading p symbolic...\n",
      "* Loading H symbolic...\n",
      "* Loading H symbolic...\n",
      "* Loading H thal0_35, order=0...\n",
      "* Loading H thal1_35, order=0...\n",
      "* Loading H thal0_35, order=1...\n",
      "* Loading H thal1_35, order=1...\n",
      "* Loading H thal0_35, order=2...\n",
      "* Loading H thal1_35, order=2...\n",
      "* Loading H thal0_35, order=3...\n",
      "* Loading H thal1_35, order=3...\n"
     ]
    }
   ],
   "source": [
    "del23_p004 = 0.004\n",
    "a23_p004 = nm.nmCoupling(**kw_nm, del1=del23_p004)"
   ]
  },
  {
   "cell_type": "markdown",
   "id": "86da335c-cfe1-492a-9539-6b07bec9c0f6",
   "metadata": {},
   "source": [
    "## Get Branches Full"
   ]
  },
  {
   "cell_type": "code",
   "execution_count": 50,
   "id": "00d6aaee-2948-4304-9c46-b996e5b29fd2",
   "metadata": {},
   "outputs": [],
   "source": [
    "kw_p004 = {'a':a23_p004,'del1':del23_p004,'recompute':False,\n",
    "         'bifdir':'bif1d_thal2/','_full_rhs':_full}"
   ]
  },
  {
   "cell_type": "code",
   "execution_count": 51,
   "id": "261be8b0-1e14-44c4-b934-5bcb41ba717c",
   "metadata": {},
   "outputs": [],
   "source": [
    "data_p004_list = []"
   ]
  },
  {
   "cell_type": "code",
   "execution_count": 52,
   "id": "75a751d8-e9ce-4b69-a809-0e31a187649c",
   "metadata": {},
   "outputs": [],
   "source": [
    "in_dicts = [dict(init=0,eps_init=0.05,eps_final=0.071,deps=.01),\n",
    "            dict(init=0,eps_init=0.05,eps_final=0.0005,deps=-.002)]"
   ]
  },
  {
   "cell_type": "code",
   "execution_count": 53,
   "id": "703afc90-b684-4368-a5c0-355ea8f22643",
   "metadata": {
    "scrolled": true
   },
   "outputs": [
    {
     "name": "stdout",
     "output_type": "stream",
     "text": [
      "fname1 td_branch_init=0_nm=23_del=0.004_ei=0.05_ef=0.071_de=0.01.txt\n",
      "fname2 ts_branch_init=0_nm=23_del=0.004_ei=0.05_ef=0.071_de=0.01.txt\n",
      "fname1 td_branch_init=0_nm=23_del=0.004_ei=0.05_ef=0.0005_de=-0.002.txt\n",
      "fname2 ts_branch_init=0_nm=23_del=0.004_ei=0.05_ef=0.0005_de=-0.002.txt\n"
     ]
    }
   ],
   "source": [
    "for i in range(len(in_dicts)):\n",
    "    in1 = in_dicts[i]\n",
    "    dat = follow_phase_diffs(**in1,**kw_p004)\n",
    "    data_p004_list.append(dat)\n",
    "fname = kw_p004['bifdir']+'hyper_thal2_23_p004.txt'"
   ]
  },
  {
   "cell_type": "code",
   "execution_count": 54,
   "id": "b953d397-3316-4a2a-9e99-0490d1b22f72",
   "metadata": {},
   "outputs": [],
   "source": [
    "# save hyperparameters\n",
    "hyp_inputs = np.zeros([len(in_dicts),4])\n",
    "for i in range(len(in_dicts)):\n",
    "    hyp_inputs[i,0] = in_dicts[i]['init']\n",
    "    hyp_inputs[i,1] = in_dicts[i]['eps_init']\n",
    "    hyp_inputs[i,2] = in_dicts[i]['eps_final']\n",
    "    hyp_inputs[i,3] = in_dicts[i]['deps']\n",
    "np.savetxt(fname,hyp_inputs)"
   ]
  },
  {
   "cell_type": "markdown",
   "id": "f28f393b-748d-4efc-a1ce-4c17e93ccd13",
   "metadata": {},
   "source": [
    "## Get Branches 3D"
   ]
  },
  {
   "cell_type": "code",
   "execution_count": 55,
   "id": "feda0737-737f-4a3b-abdb-cf5cea657ada",
   "metadata": {},
   "outputs": [],
   "source": [
    "data_r3d_p004_list = []"
   ]
  },
  {
   "cell_type": "code",
   "execution_count": 56,
   "id": "b55a4f14-8e0e-47e2-ba8e-38679ee45e5c",
   "metadata": {
    "scrolled": true
   },
   "outputs": [
    {
     "name": "stdout",
     "output_type": "stream",
     "text": [
      "t_diff 4.17588906053783308, Y=[ 4.17588906 -0.03981976 -0.05427165]                                              \n",
      "[ 4.1759 -0.0398 -0.0543]\n"
     ]
    }
   ],
   "source": [
    "# find init for this branch mid\n",
    "_,init = phase_lock_r3d([5,0,0],a23_p004,.05,_redu_3dc)\n",
    "print(init)"
   ]
  },
  {
   "cell_type": "code",
   "execution_count": 57,
   "id": "42786341-faed-469a-8a14-c14144f49079",
   "metadata": {
    "scrolled": true
   },
   "outputs": [],
   "source": [
    "# branch 1\n",
    "dat = follow_locking_3d(init,a23_p004,(.05,.11,.01),\n",
    "                        rhs=_redu_3dc,recompute=False)\n",
    "data_r3d_p004_list.append(dat)"
   ]
  },
  {
   "cell_type": "code",
   "execution_count": 58,
   "id": "331c0f31-a694-412a-b5b1-807dcdb76fd9",
   "metadata": {
    "scrolled": true
   },
   "outputs": [],
   "source": [
    "# branch 1\n",
    "dat = follow_locking_3d(init,a23_p004,(.05,.001,-.002),\n",
    "                        rhs=_redu_3dc,recompute=False)\n",
    "data_r3d_p004_list.append(dat)"
   ]
  },
  {
   "cell_type": "code",
   "execution_count": 59,
   "id": "51a8df3b-ad63-459c-bb17-002bda666e8a",
   "metadata": {},
   "outputs": [
    {
     "name": "stdout",
     "output_type": "stream",
     "text": [
      "t_diff 2.32584623698593748, Y=[ 2.32584624 -0.03813004 -0.0321973 ]                                              \n",
      "[ 2.3258 -0.0381 -0.0322]\n"
     ]
    }
   ],
   "source": [
    "# find init for branch 2\n",
    "_,init = phase_lock_r3d([2.5,0,0],a23_p004,.05,_redu_3dc)\n",
    "print(init)"
   ]
  },
  {
   "cell_type": "code",
   "execution_count": 60,
   "id": "3037b8bf-1cb2-4d88-8e1d-1ae61ec8940b",
   "metadata": {
    "scrolled": true
   },
   "outputs": [],
   "source": [
    "# branch 2\n",
    "dat = follow_locking_3d(init,a23_p004,(.05,.11,.01),\n",
    "                        rhs=_redu_3dc,recompute=False)\n",
    "data_r3d_p004_list.append(dat)"
   ]
  },
  {
   "cell_type": "code",
   "execution_count": 61,
   "id": "714b7708-70a8-4fc0-8cd1-c087d9efab77",
   "metadata": {
    "scrolled": true
   },
   "outputs": [],
   "source": [
    "# branch 2\n",
    "dat = follow_locking_3d(init,a23_p004,(.05,.001,-.002),\n",
    "                        rhs=_redu_3dc,recompute=False)\n",
    "data_r3d_p004_list.append(dat)"
   ]
  },
  {
   "cell_type": "code",
   "execution_count": 62,
   "id": "d3975b6f-8709-407a-a679-4a94a1c45f77",
   "metadata": {},
   "outputs": [
    {
     "name": "stdout",
     "output_type": "stream",
     "text": [
      "t_diff 0.23145113459246333, Y=[ 0.23145113 -0.03813004 -0.0321973 ]                                              \n",
      "[ 0.2315 -0.0381 -0.0322]\n"
     ]
    }
   ],
   "source": [
    "# find init for branch 3\n",
    "_,init = phase_lock_r3d([.5,0,0],a23_p004,.05,_redu_3dc)\n",
    "print(init)"
   ]
  },
  {
   "cell_type": "code",
   "execution_count": 63,
   "id": "106f87f1-5d18-4dd8-82d3-14a07654017b",
   "metadata": {
    "scrolled": true
   },
   "outputs": [],
   "source": [
    "# branch 3\n",
    "dat = follow_locking_3d(init,a23_p004,(.05,.11,.01),\n",
    "                        rhs=_redu_3dc,recompute=False)\n",
    "data_r3d_p004_list.append(dat)"
   ]
  },
  {
   "cell_type": "code",
   "execution_count": 64,
   "id": "dbae8b4f-f90d-4280-ab74-a7ceb20c12fe",
   "metadata": {
    "scrolled": true
   },
   "outputs": [],
   "source": [
    "# branch 3\n",
    "dat = follow_locking_3d(init,a23_p004,(.05,.001,-.002),\n",
    "                        rhs=_redu_3dc,recompute=False)\n",
    "data_r3d_p004_list.append(dat)"
   ]
  },
  {
   "cell_type": "markdown",
   "id": "29bbddd4-3cee-4d25-9d89-31358d7125c2",
   "metadata": {},
   "source": [
    "## Plot"
   ]
  },
  {
   "cell_type": "code",
   "execution_count": 65,
   "id": "59a9fd67-5a0c-419e-9cc4-4bd96e4599fd",
   "metadata": {},
   "outputs": [
    {
     "name": "stdout",
     "output_type": "stream",
     "text": [
      "eps_min 0.007999999999999965\n"
     ]
    },
    {
     "data": {
      "image/png": "[encoded data removed]",
      "text/plain": [
       "<Figure size 300x200 with 1 Axes>"
      ]
     },
     "metadata": {},
     "output_type": "display_data"
    },
    {
     "data": {
      "image/png": "[encoded data removed]",
      "text/plain": [
       "<Figure size 300x400 with 2 Axes>"
      ]
     },
     "metadata": {},
     "output_type": "display_data"
    }
   ],
   "source": [
    "quick_plot_combined(a23_p004,\n",
    "                    kw_f={'data_list':data_p004_list},\n",
    "                    kw_r3d={'data_list':data_r3d_p004_list},\n",
    "                    kw_r={'etup':etup23})"
   ]
  },
  {
   "cell_type": "markdown",
   "id": "2be60aa8-c8e9-4a9e-80b1-a167d8a32ffb",
   "metadata": {},
   "source": [
    "## Sims"
   ]
  },
  {
   "cell_type": "code",
   "execution_count": 66,
   "id": "07da8bc4-01af-429c-8547-8cb20cea07a6",
   "metadata": {},
   "outputs": [],
   "source": [
    "eps23_p004 = 0.05\n",
    "th_init23_p004 = 3"
   ]
  },
  {
   "cell_type": "code",
   "execution_count": 67,
   "id": "67491157-a8ff-444f-a6e3-63e053d8fb61",
   "metadata": {},
   "outputs": [],
   "source": [
    "dt = .01;T_p004=2000\n",
    "t23_p004 = np.arange(0,T_p004,dt)\n",
    "args23_p004 = {'args':(a23_p004,eps23_p004,del23_p004),\n",
    "               't_eval':t23_p004,**kw_sim}"
   ]
  },
  {
   "cell_type": "code",
   "execution_count": 68,
   "id": "288c714c-4516-4d75-a946-f372aa7ef269",
   "metadata": {
    "tags": []
   },
   "outputs": [],
   "source": [
    "y0a = a23_p004.system1.lc['dat'][int((th_init23_p004/(2*np.pi)) * a23_p004.system1.TN),:]\n",
    "y0b = a23_p004.system2.lc['dat'][int((0/(2*np.pi)) * a23_p004.system2.TN),:]\n",
    "\n",
    "y0_p004 = np.array([y0a,y0b]).flatten()\n",
    "\n",
    "solf23_p004 = solve_ivp(_full,[0,t23_p004[-1]],\n",
    "                        y0_p004, **args23_p004)"
   ]
  },
  {
   "cell_type": "code",
   "execution_count": 69,
   "id": "fba1a627-de56-435a-bd69-1b0649768b0f",
   "metadata": {
    "tags": []
   },
   "outputs": [],
   "source": [
    "solr23_p004 = solve_ivp(_redu_c,[0,t23_p004[-1]],\n",
    "                        [th_init23_p004],**args23_p004)"
   ]
  },
  {
   "cell_type": "code",
   "execution_count": 70,
   "id": "9397cd1a-2e5e-45a9-a20e-9b232f8a4241",
   "metadata": {},
   "outputs": [],
   "source": [
    "# solr12b_p004 = solve_ivp(_redu_3dc,[0,t23_p004[-1]],\n",
    "#                     [th_init23_p004,0,0],**args23_p004)"
   ]
  },
  {
   "cell_type": "code",
   "execution_count": 71,
   "id": "d5e4409f-b4a6-492f-b9b1-79d718b8ce95",
   "metadata": {},
   "outputs": [],
   "source": [
    "tp12a_p004, phase12a_p004 = get_phase(t23_p004,solf23_p004.y.T[:,:4],\n",
    "                            skipn=50,system1=a23_p004.system1)\n",
    "tp12b_p004, phase12b_p004 = get_phase(t23_p004,solf23_p004.y.T[:,4:],\n",
    "                            skipn=50,system1=a23_p004.system2)"
   ]
  },
  {
   "cell_type": "code",
   "execution_count": 72,
   "id": "a0f15a64-f073-4aae-ab70-fadb794358dd",
   "metadata": {},
   "outputs": [
    {
     "data": {
      "text/plain": [
       "(-0.5, 6.783185307179586)"
      ]
     },
     "execution_count": 72,
     "metadata": {},
     "output_type": "execute_result"
    },
    {
     "data": {
      "image/png": "[encoded data removed]",
      "text/plain": [
       "<Figure size 640x480 with 1 Axes>"
      ]
     },
     "metadata": {},
     "output_type": "display_data"
    }
   ],
   "source": [
    "fig,axs = plt.subplots()\n",
    "y = np.mod(phase12a_p004 - a23_p004.om*phase12b_p004,2*np.pi)\n",
    "axs.scatter(tp12a_p004,y,s=1,alpha=.5,color='black')\n",
    "\n",
    "axs.plot(t23_p004,np.mod(solr23_p004.y.T,2*np.pi),color='tab:red')\n",
    "\n",
    "# axs.plot(t23_p004*a23_p004.om,np.mod(solr12b_p004.y[0]-a23_p004.om*solr12b_p004.y[2],2*np.pi),color='tab:blue')\n",
    "\n",
    "#axs.plot(t12*a12.om,np.mod(solr12c.y[0]-a12.om*solr12c.y[2],2*np.pi),color='tab:green')\n",
    "#axs.scatter(sol_full.t[::skipn],np.mod(phase2,1),s=1)\n",
    "\n",
    "axs.set_ylim(-.5,2*np.pi+.5)"
   ]
  },
  {
   "cell_type": "markdown",
   "id": "e50c14e7-36b7-42a7-ac8d-45db300bc213",
   "metadata": {},
   "source": [
    "# del=0.005"
   ]
  },
  {
   "cell_type": "code",
   "execution_count": 73,
   "id": "5aea8544-f33f-4c9f-9626-41ff10573547",
   "metadata": {
    "editable": true,
    "scrolled": true,
    "slideshow": {
     "slide_type": ""
    },
    "tags": []
   },
   "outputs": [
    {
     "name": "stdout",
     "output_type": "stream",
     "text": [
      "pfactor 20\n",
      "* Loading p symbolic...\n",
      "* Loading p symbolic...\n",
      "* Loading H symbolic...\n",
      "* Loading H symbolic...\n",
      "* Loading H thal0_35, order=0...\n",
      "* Loading H thal1_35, order=0...\n",
      "* Loading H thal0_35, order=1...\n",
      "* Loading H thal1_35, order=1...\n",
      "* Loading H thal0_35, order=2...\n",
      "* Loading H thal1_35, order=2...\n",
      "* Loading H thal0_35, order=3...\n",
      "* Loading H thal1_35, order=3...\n"
     ]
    }
   ],
   "source": [
    "del23_p005 = 0.005\n",
    "a23_p005 = nm.nmCoupling(**kw_nm, del1=del23_p005)"
   ]
  },
  {
   "cell_type": "markdown",
   "id": "d5ccc928-94e1-4e8d-9a9f-389f547af4e7",
   "metadata": {},
   "source": [
    "## Get Branches Full"
   ]
  },
  {
   "cell_type": "code",
   "execution_count": 97,
   "id": "d233716e-1d3d-466b-bbc6-3663e9911332",
   "metadata": {},
   "outputs": [],
   "source": [
    "kw_follow = {'a':a23_p005,'del1':del23_p005,'recompute':False,\n",
    "         'bifdir':'bif1d_thal2/','_full_rhs':_full,'max_iter':3}"
   ]
  },
  {
   "cell_type": "code",
   "execution_count": 98,
   "id": "4e483b85-5c3a-47a8-81f6-0509f9d74d02",
   "metadata": {},
   "outputs": [],
   "source": [
    "data_list = []"
   ]
  },
  {
   "cell_type": "code",
   "execution_count": 99,
   "id": "c812e36a-f316-4d02-b801-9cd6216c7637",
   "metadata": {},
   "outputs": [],
   "source": [
    "in_dicts = [dict(init=0,eps_init=0.01,eps_final=0.004,deps=-.002),\n",
    "            dict(init=0,eps_init=0.01,eps_final=0.014,deps=.002)]"
   ]
  },
  {
   "cell_type": "code",
   "execution_count": 100,
   "id": "0d818bad-6596-4b6e-ae13-b7d897f40f8a",
   "metadata": {},
   "outputs": [
    {
     "name": "stdout",
     "output_type": "stream",
     "text": [
      "fname1 td_branch_init=0_nm=23_del=0.005_ei=0.01_ef=0.004_de=-0.002.txt\n",
      "fname2 ts_branch_init=0_nm=23_del=0.005_ei=0.01_ef=0.004_de=-0.002.txt\n",
      "fname1 td_branch_init=0_nm=23_del=0.005_ei=0.01_ef=0.014_de=0.002.txt\n",
      "fname2 ts_branch_init=0_nm=23_del=0.005_ei=0.01_ef=0.014_de=0.002.txt\n",
      "init [-4.87474796e-02  2.56217867e-01  2.28625496e-01  4.38772216e-01 -6.30347966e-01  7.36229968e-01  2.54197994e-01  2.36537505e-04  6.25477189e+00]\n",
      "eps iter 0 0.01                \n",
      "eps iter 1 0.012                                                        \n",
      "iter=3, rel. err =2.63e-02                                              \r"
     ]
    }
   ],
   "source": [
    "for i in range(len(in_dicts)):\n",
    "    in1 = in_dicts[i]\n",
    "    dat = follow_phase_diffs(**in1,**kw_follow)\n",
    "    data_list.append(dat)\n",
    "fname = kw_follow['bifdir']+'hyper_thal2_23_p005.txt'"
   ]
  },
  {
   "cell_type": "code",
   "execution_count": 101,
   "id": "f4af71c1-31bf-49c5-a005-34c99d2d5606",
   "metadata": {},
   "outputs": [],
   "source": [
    "# save hyperparameters\n",
    "hyp_inputs = np.zeros([len(in_dicts),4])\n",
    "for i in range(len(in_dicts)):\n",
    "    hyp_inputs[i,0] = in_dicts[i]['init']\n",
    "    hyp_inputs[i,1] = in_dicts[i]['eps_init']\n",
    "    hyp_inputs[i,2] = in_dicts[i]['eps_final']\n",
    "    hyp_inputs[i,3] = in_dicts[i]['deps']\n",
    "np.savetxt(fname,hyp_inputs)"
   ]
  },
  {
   "cell_type": "markdown",
   "id": "197b398b-307a-47b6-8206-de595c159186",
   "metadata": {},
   "source": [
    "## Get Branches 3D"
   ]
  },
  {
   "cell_type": "code",
   "execution_count": 79,
   "id": "6f26f428-4e5f-4d17-b3b9-12ed080d49ab",
   "metadata": {},
   "outputs": [],
   "source": [
    "data_r3d_p005_list = []"
   ]
  },
  {
   "cell_type": "code",
   "execution_count": 80,
   "id": "09d8ead7-38a6-4b07-95b9-872c821cd6fc",
   "metadata": {
    "scrolled": true
   },
   "outputs": [
    {
     "name": "stdout",
     "output_type": "stream",
     "text": [
      "[ 4.1801 -0.0146  0.061 ]01, Y=[ 4.18013531 -0.01461394  0.06097542]                                                          \n"
     ]
    }
   ],
   "source": [
    "# find init for this branch mid\n",
    "_,init = phase_lock_r3d([5,0,0],a23_p005,.05,_redu_3dc)\n",
    "print(init)"
   ]
  },
  {
   "cell_type": "code",
   "execution_count": 81,
   "id": "a26a3cbf-ce07-49ea-9ec7-a1d4625f8dc0",
   "metadata": {
    "scrolled": true
   },
   "outputs": [
    {
     "name": "stdout",
     "output_type": "stream",
     "text": [
      "eps iter 0 0.05                \n",
      "iter=5, rel. err =1.94e-01, Y=[ 4.33355201 -0.0220807  -0.01923446]                                              \r"
     ]
    }
   ],
   "source": [
    "# branch 1\n",
    "dat = follow_locking_3d(init,a23_p005,(.05,.051,.002),\n",
    "                        rhs=_redu_3dc,max_iter=5,recompute=False)\n",
    "data_r3d_p005_list.append(dat)"
   ]
  },
  {
   "cell_type": "markdown",
   "id": "ffaadaf2-d9c7-4359-834e-0730770ff400",
   "metadata": {},
   "source": [
    "## Plot"
   ]
  },
  {
   "cell_type": "code",
   "execution_count": 82,
   "id": "2730e574-d9f5-47a2-9bbe-6caf02f3770f",
   "metadata": {},
   "outputs": [
    {
     "data": {
      "image/png": "[encoded data removed]",
      "text/plain": [
       "<Figure size 300x200 with 1 Axes>"
      ]
     },
     "metadata": {},
     "output_type": "display_data"
    },
    {
     "data": {
      "image/png": "[encoded data removed]",
      "text/plain": [
       "<Figure size 300x400 with 2 Axes>"
      ]
     },
     "metadata": {},
     "output_type": "display_data"
    }
   ],
   "source": [
    "quick_plot_combined(a23_p005,\n",
    "                    kw_f={'data_list':data_list},\n",
    "                    kw_r3d={'data_list':data_r3d_p005_list},\n",
    "                    kw_r={'etup':etup23})"
   ]
  }
 ],
 "metadata": {
  "kernelspec": {
   "display_name": "Python 3 (ipykernel)",
   "language": "python",
   "name": "python3"
  },
  "language_info": {
   "codemirror_mode": {
    "name": "ipython",
    "version": 3
   },
   "file_extension": ".py",
   "mimetype": "text/x-python",
   "name": "python",
   "nbconvert_exporter": "python",
   "pygments_lexer": "ipython3",
   "version": "3.10.14"
  }
 },
 "nbformat": 4,
 "nbformat_minor": 5
}
