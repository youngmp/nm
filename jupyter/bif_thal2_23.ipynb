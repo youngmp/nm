{
 "cells": [
  {
   "cell_type": "markdown",
   "id": "b9d76ed3-0084-48ba-8928-f5d7446dbf3b",
   "metadata": {},
   "source": [
    "# thal2 2:3 Bifurcation Diagrams"
   ]
  },
  {
   "cell_type": "markdown",
   "id": "5a7501b2-b444-49e9-a6b9-61b98bf28435",
   "metadata": {},
   "source": [
    "# Inits"
   ]
  },
  {
   "cell_type": "code",
   "execution_count": 1,
   "id": "9e211c54-3fc2-4394-bb37-2351aa377d0b",
   "metadata": {},
   "outputs": [],
   "source": [
    "import sys; sys.path.insert(0, '..') # add parent folder path where lib folder is\n",
    "# user-defined\n",
    "import nmCoupling as nm\n",
    "# import nmCoupling_old as nm\n",
    "import response as rp\n",
    "\n",
    "import thal2 as t2\n",
    "\n",
    "from lib.util import (get_phase, freq_est, get_tongue_1d, pl_exist_1d,\n",
    "get_period, bif1d, follow_phase_diffs, phase_lock_r3d, follow_locking_3d)\n",
    "\n",
    "from lib.rhs import _redu_c,_full\n",
    "from lib.rhs import _redu_3dc_thal as _redu_3dc\n",
    "\n",
    "from lib.plot_util import (add_diagram_1d_scatter, draw_full_solutions, \n",
    "quick_plot_combined, quick_plot_r)\n",
    "\n",
    "import numpy as np\n",
    "import scipy as sp\n",
    "import matplotlib.pyplot as plt\n",
    "from scipy.integrate import solve_ivp\n",
    "import sympy as sym\n",
    "\n",
    "from scipy.optimize import root,bisect\n",
    "from copy import deepcopy\n",
    "import os\n",
    "\n",
    "plt.rcParams.update({\n",
    "    \"text.usetex\": True,\n",
    "    \"font.family\": \"Helvetica\"\n",
    "})\n",
    "\n",
    "nmc = nm.nmCoupling\n",
    "rsp = rp.Response"
   ]
  },
  {
   "cell_type": "markdown",
   "id": "bb1ee114-c1dd-4ac4-bcb1-9cc0b4139193",
   "metadata": {},
   "source": [
    "## Dicts"
   ]
  },
  {
   "cell_type": "code",
   "execution_count": 2,
   "id": "4614432b-370d-40cb-8381-9a24940c74ca",
   "metadata": {},
   "outputs": [],
   "source": [
    "kw_sim = {'rtol':1e-7,'atol':1e-7,'method':'LSODA'}"
   ]
  },
  {
   "cell_type": "code",
   "execution_count": 3,
   "id": "385d5022-9562-4412-8aea-7eacbaa0d9be",
   "metadata": {},
   "outputs": [],
   "source": [
    "pd1 = {'gL':0.05,'gna':3,'gk':5,\n",
    "       'gt':5,'eL':-70,'ena':50,\n",
    "       'ek':-90,'et':0,'esyn':-1,\n",
    "       'c':1,'alpha':3,'beta':2,\n",
    "       'sigmat':0.8,'vt':-20,\n",
    "       'ib':3.5,'del':0,'om':1,'om_fix':1}"
   ]
  },
  {
   "cell_type": "code",
   "execution_count": 4,
   "id": "a1bdbccc-e4fa-4f3c-bcbc-b978f23cf4e0",
   "metadata": {
    "editable": true,
    "slideshow": {
     "slide_type": ""
    },
    "tags": []
   },
   "outputs": [],
   "source": [
    "# default period must be 2*np.pi\n",
    "kws1 = {'var_names':['v','h','r','w'],\n",
    "        'pardict':pd1,\n",
    "        'rhs':t2.rhs,\n",
    "        'coupling':t2.coupling,\n",
    "        'init':np.array([-.64,0.71,0.25,0,6]),\n",
    "        'TN':20000,\n",
    "        'trunc_order':3,\n",
    "        'z_forward':False,\n",
    "        'i_forward':[False,True,False,False,False,False],\n",
    "        'i_bad_dx':[False,True,False,False,False,False],\n",
    "        'max_iter':50,\n",
    "        'rtol':1e-12,\n",
    "        'atol':1e-12,\n",
    "        'rel_tol':1e-9,\n",
    "        'save_fig':False,\n",
    "        'lc_prominence':.05,\n",
    "        'factor':.5}"
   ]
  },
  {
   "cell_type": "markdown",
   "id": "d98d4690-f2a0-422b-bf72-ab204be2e7ce",
   "metadata": {},
   "source": [
    "## Defs"
   ]
  },
  {
   "cell_type": "code",
   "execution_count": 5,
   "id": "7d18f2ca-cc40-4432-a630-15d262983952",
   "metadata": {},
   "outputs": [],
   "source": [
    "kw_bif = {'method':'LSODA','dense_output':True,'rtol':1e-9,'atol':1e-9}"
   ]
  },
  {
   "cell_type": "code",
   "execution_count": 6,
   "id": "fdccde13-5db6-4467-bf81-1b5739128370",
   "metadata": {},
   "outputs": [],
   "source": [
    "etup23 = (.001,.1,100)\n",
    "eps_list23r = np.linspace(*etup23)"
   ]
  },
  {
   "cell_type": "code",
   "execution_count": 7,
   "id": "f5ae7150-6086-4352-8acc-6fed37f53960",
   "metadata": {
    "editable": true,
    "slideshow": {
     "slide_type": ""
    },
    "tags": []
   },
   "outputs": [],
   "source": [
    "x_temp = np.linspace(-np.pi,3*np.pi,500)"
   ]
  },
  {
   "cell_type": "markdown",
   "id": "b5faed09-0969-4cb4-b3a1-18a7c8e12d11",
   "metadata": {},
   "source": [
    "## Initialize Response Functions"
   ]
  },
  {
   "cell_type": "code",
   "execution_count": 8,
   "id": "f81849f7-de50-4f3d-9333-bee99b9eb15c",
   "metadata": {
    "editable": true,
    "slideshow": {
     "slide_type": ""
    },
    "tags": []
   },
   "outputs": [
    {
     "name": "stdout",
     "output_type": "stream",
     "text": [
      "mkdir ./data/thal0_35/\n",
      "* Loading LC data...\n",
      "self.T 6.283185307179586 omfix 1.6947246128737048\n",
      "* Loading monodromy...\n",
      "* Floquet Exponent kappa =-0.03594482780785962\n",
      "* Loading g symbolic...\n",
      "* Computing g...\n",
      "* Loading heterogeneous terms...\n",
      "* Computing z...\n",
      "* Computing i...\n",
      "mkdir ./data/thal1_35/\n",
      "* Loading LC data...\n",
      "self.T 6.283185307179586 omfix 1.6947246128737048\n",
      "* Loading monodromy...\n",
      "* Floquet Exponent kappa =-0.03594482780785962\n",
      "* Loading g symbolic...\n",
      "* Computing g...\n",
      "* Loading heterogeneous terms...\n",
      "* Computing z...\n",
      "* Computing i...\n"
     ]
    }
   ],
   "source": [
    "system1 = rsp(idx=0,model_name='thal0_35',**kws1)\n",
    "system2 = rsp(idx=1,model_name='thal1_35',**kws1)"
   ]
  },
  {
   "cell_type": "code",
   "execution_count": 9,
   "id": "0f3b9750-1e96-4e63-ab7d-ab969f84373c",
   "metadata": {},
   "outputs": [],
   "source": [
    "kw_nm = {'system1':system1,'system2':system2,'_n':('om0',2),'_m':('om1',3),\n",
    "        'NH':2048,'save_fig':False}"
   ]
  },
  {
   "cell_type": "markdown",
   "id": "b4259a78-a9fe-463c-9537-5e40dd45d50e",
   "metadata": {},
   "source": [
    "# del=0.0"
   ]
  },
  {
   "cell_type": "code",
   "execution_count": 10,
   "id": "369097a8-e666-496d-8bbc-e3abad49b074",
   "metadata": {
    "editable": true,
    "scrolled": true,
    "slideshow": {
     "slide_type": ""
    },
    "tags": []
   },
   "outputs": [
    {
     "name": "stdout",
     "output_type": "stream",
     "text": [
      "pfactor 20\n",
      "* Loading H thal0_35, order=0...\n",
      "* Loading H thal1_35, order=0...\n",
      "* Loading H thal0_35, order=1...\n",
      "* Loading H thal1_35, order=1...\n",
      "* Loading H thal0_35, order=2...\n",
      "* Loading H thal1_35, order=2...\n",
      "* Loading H thal0_35, order=3...\n",
      "* Loading H thal1_35, order=3...\n"
     ]
    }
   ],
   "source": [
    "del23_p0 = 0\n",
    "a23_p0 = nm.nmCoupling(**kw_nm, del1=del23_p0)"
   ]
  },
  {
   "cell_type": "markdown",
   "id": "8684de80-cbd1-4526-bf91-6a66e1324653",
   "metadata": {},
   "source": [
    "## Get Branches Full"
   ]
  },
  {
   "cell_type": "code",
   "execution_count": 11,
   "id": "79e162ce-60b6-42a2-8122-e1b5451a7abf",
   "metadata": {},
   "outputs": [],
   "source": [
    "kw_p0 = {'a':a23_p0,'del1':del23_p0,'recompute':False,\n",
    "         'bifdir':'bif1d_thal2/','_full_rhs':_full}"
   ]
  },
  {
   "cell_type": "code",
   "execution_count": 12,
   "id": "a300fc18-32a3-4c14-ab7f-bb9e36365567",
   "metadata": {},
   "outputs": [],
   "source": [
    "data_p0_list = []"
   ]
  },
  {
   "cell_type": "code",
   "execution_count": 13,
   "id": "ac32831e-7c39-4670-8d3d-4b24c02dd0c4",
   "metadata": {},
   "outputs": [],
   "source": [
    "in_dicts = [dict(init=0,eps_init=0.1,eps_final=0.007,deps=-.01),\n",
    "            dict(init=0,eps_init=0.01,eps_final=0.0005,deps=-.001)]"
   ]
  },
  {
   "cell_type": "code",
   "execution_count": 14,
   "id": "fac1650a-1ff5-4130-a701-304f053d8311",
   "metadata": {
    "scrolled": true
   },
   "outputs": [
    {
     "name": "stdout",
     "output_type": "stream",
     "text": [
      "fname1 td_branch_init=0_nm=23_del=0_ei=0.1_ef=0.007_de=-0.01.txt\n",
      "fname2 ts_branch_init=0_nm=23_del=0_ei=0.1_ef=0.007_de=-0.01.txt\n",
      "fname1 td_branch_init=0_nm=23_del=0_ei=0.01_ef=0.0005_de=-0.001.txt\n",
      "fname2 ts_branch_init=0_nm=23_del=0_ei=0.01_ef=0.0005_de=-0.001.txt\n"
     ]
    }
   ],
   "source": [
    "for i in range(len(in_dicts)):\n",
    "    in1 = in_dicts[i]\n",
    "    dat = follow_phase_diffs(**in1,**kw_p0)\n",
    "    data_p0_list.append(dat)\n",
    "fname = kw_p0['bifdir']+'hyper_thal2_23_p0.txt'"
   ]
  },
  {
   "cell_type": "code",
   "execution_count": 15,
   "id": "9c95161f-d2b0-4660-97d6-002aa41b05bd",
   "metadata": {},
   "outputs": [],
   "source": [
    "# save hyperparameters\n",
    "hyp_inputs = np.zeros([len(in_dicts),4])\n",
    "for i in range(len(in_dicts)):\n",
    "    hyp_inputs[i,0] = in_dicts[i]['init']\n",
    "    hyp_inputs[i,1] = in_dicts[i]['eps_init']\n",
    "    hyp_inputs[i,2] = in_dicts[i]['eps_final']\n",
    "    hyp_inputs[i,3] = in_dicts[i]['deps']\n",
    "np.savetxt(fname,hyp_inputs)"
   ]
  },
  {
   "cell_type": "markdown",
   "id": "0842c294-15f3-4a62-8369-350584365e53",
   "metadata": {},
   "source": [
    "## Get Branches 3D"
   ]
  },
  {
   "cell_type": "code",
   "execution_count": 16,
   "id": "0b40e778-84e0-4ac8-8377-97e153bdae37",
   "metadata": {},
   "outputs": [],
   "source": [
    "data_list_r3d = []"
   ]
  },
  {
   "cell_type": "code",
   "execution_count": 17,
   "id": "ee0c873c-923c-4c1d-83b3-cccfd3abccb8",
   "metadata": {},
   "outputs": [],
   "source": [
    "kw_follow_r3d = {'a':a23_p0,'rhs':_redu_3dc,'recompute':False,\n",
    "                 'bifdir':'bif1d_thal2/'}"
   ]
  },
  {
   "cell_type": "code",
   "execution_count": 18,
   "id": "f47737fd-d182-45e5-9031-395075f80b23",
   "metadata": {},
   "outputs": [],
   "source": [
    "in_dicts_r3d = [dict(init=.5,eps_tup=(.02,.11,.01)),\n",
    "                dict(init=.5,eps_tup=(.02,.001,-.001)),\n",
    "                dict(init=3,eps_tup=(.02,.11,.01)),\n",
    "                dict(init=3,eps_tup=(.02,.001,-.001)),\n",
    "                dict(init=5,eps_tup=(.02,.11,.01)),\n",
    "                dict(init=5,eps_tup=(.02,.001,-.001))]"
   ]
  },
  {
   "cell_type": "code",
   "execution_count": 19,
   "id": "34a95390-7855-48c6-a2a6-a81da1bbec98",
   "metadata": {
    "scrolled": true
   },
   "outputs": [
    {
     "name": "stdout",
     "output_type": "stream",
     "text": [
      "eps_tup (0.02, 0.11, 0.01)\n",
      "eps_tup (0.02, 0.001, -0.001)\n",
      "eps_tup (0.02, 0.11, 0.01)\n",
      "eps_tup (0.02, 0.001, -0.001)\n",
      "eps_tup (0.02, 0.11, 0.01)\n",
      "eps_tup (0.02, 0.001, -0.001)\n"
     ]
    }
   ],
   "source": [
    "for i in range(len(in_dicts_r3d)):\n",
    "    in1 = in_dicts_r3d[i]\n",
    "    dat = follow_locking_3d(**in1,**kw_follow_r3d)\n",
    "    data_list_r3d.append(dat)\n",
    "fname = kw_follow_r3d['bifdir']+'hyper_r3d_thal2_23_p0.txt'"
   ]
  },
  {
   "cell_type": "code",
   "execution_count": 20,
   "id": "079d911b-62b3-43f3-9428-2eaf7abd6643",
   "metadata": {},
   "outputs": [],
   "source": [
    "# save hyperparameters\n",
    "hyp_inputs = np.zeros([len(in_dicts_r3d),4])\n",
    "for i in range(len(in_dicts_r3d)):\n",
    "    hyp_inputs[i,0] = in_dicts_r3d[i]['init']\n",
    "    hyp_inputs[i,1] = in_dicts_r3d[i]['eps_tup'][0]\n",
    "    hyp_inputs[i,2] = in_dicts_r3d[i]['eps_tup'][1]\n",
    "    hyp_inputs[i,3] = in_dicts_r3d[i]['eps_tup'][2]\n",
    "np.savetxt(fname,hyp_inputs)"
   ]
  },
  {
   "cell_type": "markdown",
   "id": "5bcf3abe-397e-4773-a909-424932d96f0e",
   "metadata": {},
   "source": [
    "## Plot"
   ]
  },
  {
   "cell_type": "code",
   "execution_count": 21,
   "id": "aa6bb9cc-0e99-41e4-af58-6cc3048c4b10",
   "metadata": {},
   "outputs": [
    {
     "name": "stdout",
     "output_type": "stream",
     "text": [
      "eps_min 0.008000000000000002\n"
     ]
    },
    {
     "data": {
      "image/png": "[encoded data removed]",
      "text/plain": [
       "<Figure size 300x200 with 1 Axes>"
      ]
     },
     "metadata": {},
     "output_type": "display_data"
    },
    {
     "data": {
      "image/png": "[encoded data removed]",
      "text/plain": [
       "<Figure size 300x400 with 2 Axes>"
      ]
     },
     "metadata": {},
     "output_type": "display_data"
    }
   ],
   "source": [
    "quick_plot_combined(a23_p0,\n",
    "                    kw_f={'data_list':data_p0_list},\n",
    "                    kw_r3d={'data_list':data_list_r3d},\n",
    "                    kw_r={'etup':etup23})"
   ]
  },
  {
   "cell_type": "markdown",
   "id": "eda51bbd-62bd-4511-990d-06e5fe33dc26",
   "metadata": {},
   "source": [
    "# del=0.001"
   ]
  },
  {
   "cell_type": "code",
   "execution_count": 22,
   "id": "929d8f14-db8b-4c95-ac67-466c8cb8f9d0",
   "metadata": {
    "editable": true,
    "scrolled": true,
    "slideshow": {
     "slide_type": ""
    },
    "tags": []
   },
   "outputs": [
    {
     "name": "stdout",
     "output_type": "stream",
     "text": [
      "pfactor 20\n",
      "* Loading H thal0_35, order=0...\n",
      "* Loading H thal1_35, order=0...\n",
      "* Loading H thal0_35, order=1...\n",
      "* Loading H thal1_35, order=1...\n",
      "* Loading H thal0_35, order=2...\n",
      "* Loading H thal1_35, order=2...\n",
      "* Loading H thal0_35, order=3...\n",
      "* Loading H thal1_35, order=3...\n"
     ]
    }
   ],
   "source": [
    "del23_p001 = 0.001\n",
    "a23_p001 = nm.nmCoupling(**kw_nm, del1=del23_p001)"
   ]
  },
  {
   "cell_type": "markdown",
   "id": "90d6cc28-b032-45e8-bd27-28e2f5ec4340",
   "metadata": {},
   "source": [
    "## Get Branches Full"
   ]
  },
  {
   "cell_type": "code",
   "execution_count": 23,
   "id": "ae942c72-0218-4355-b44d-45bea8acbadd",
   "metadata": {},
   "outputs": [],
   "source": [
    "kw_p001 = {'a':a23_p001,'del1':del23_p001,'recompute':False,\n",
    "         'bifdir':'bif1d_thal2/','_full_rhs':_full}"
   ]
  },
  {
   "cell_type": "code",
   "execution_count": 24,
   "id": "c77e9ba8-65c4-4999-8587-4171a013665c",
   "metadata": {},
   "outputs": [],
   "source": [
    "data_p001_list = []"
   ]
  },
  {
   "cell_type": "code",
   "execution_count": 25,
   "id": "7480d558-68f5-4fc4-b501-f9275b320896",
   "metadata": {},
   "outputs": [],
   "source": [
    "in_dicts = [dict(init=0,eps_init=0.1,eps_final=0.009,deps=-.01),\n",
    "            dict(init=0,eps_init=0.01,eps_final=0.0005,deps=-.001)]"
   ]
  },
  {
   "cell_type": "code",
   "execution_count": 26,
   "id": "e622ccbc-4bbd-4308-af93-e14d3cdadcd0",
   "metadata": {
    "scrolled": true
   },
   "outputs": [
    {
     "name": "stdout",
     "output_type": "stream",
     "text": [
      "fname1 td_branch_init=0_nm=23_del=0.001_ei=0.1_ef=0.009_de=-0.01.txt\n",
      "fname2 ts_branch_init=0_nm=23_del=0.001_ei=0.1_ef=0.009_de=-0.01.txt\n",
      "fname1 td_branch_init=0_nm=23_del=0.001_ei=0.01_ef=0.0005_de=-0.001.txt\n",
      "fname2 ts_branch_init=0_nm=23_del=0.001_ei=0.01_ef=0.0005_de=-0.001.txt\n"
     ]
    }
   ],
   "source": [
    "for i in range(len(in_dicts)):\n",
    "    in1 = in_dicts[i]\n",
    "    dat = follow_phase_diffs(**in1,**kw_p001)\n",
    "    data_p001_list.append(dat)\n",
    "fname = kw_p001['bifdir']+'hyper_thal2_23_p001.txt'"
   ]
  },
  {
   "cell_type": "code",
   "execution_count": 27,
   "id": "aea1a0a9-91ae-4df6-8053-a8dc3e17c4cd",
   "metadata": {},
   "outputs": [],
   "source": [
    "# save hyperparameters\n",
    "hyp_inputs = np.zeros([len(in_dicts),4])\n",
    "for i in range(len(in_dicts)):\n",
    "    hyp_inputs[i,0] = in_dicts[i]['init']\n",
    "    hyp_inputs[i,1] = in_dicts[i]['eps_init']\n",
    "    hyp_inputs[i,2] = in_dicts[i]['eps_final']\n",
    "    hyp_inputs[i,3] = in_dicts[i]['deps']\n",
    "np.savetxt(fname,hyp_inputs)"
   ]
  },
  {
   "cell_type": "markdown",
   "id": "4ee8ad8b-1f67-426e-831b-a710ce46bbf1",
   "metadata": {},
   "source": [
    "## Get Branches 3D"
   ]
  },
  {
   "cell_type": "code",
   "execution_count": 28,
   "id": "8103887a-2bdd-406e-95ec-01d0cea4ae3a",
   "metadata": {},
   "outputs": [],
   "source": [
    "data_list_r3d = []"
   ]
  },
  {
   "cell_type": "code",
   "execution_count": 29,
   "id": "8a220a92-5d6b-485a-a251-4f0081ef7730",
   "metadata": {},
   "outputs": [],
   "source": [
    "kw_follow_r3d = {'a':a23_p001,'rhs':_redu_3dc,'recompute':False,\n",
    "                 'bifdir':'bif1d_thal2/'}"
   ]
  },
  {
   "cell_type": "code",
   "execution_count": 30,
   "id": "b36faa66-e17f-4851-8526-1229533be703",
   "metadata": {},
   "outputs": [],
   "source": [
    "in_dicts_r3d = [dict(init=.5,eps_tup=(.02,.11,.01)),\n",
    "                dict(init=.5,eps_tup=(.02,.001,-.001)),\n",
    "                dict(init=3,eps_tup=(.02,.11,.01)),\n",
    "                dict(init=3,eps_tup=(.02,.001,-.001)),\n",
    "                dict(init=5,eps_tup=(.02,.11,.01)),\n",
    "                dict(init=5,eps_tup=(.02,.001,-.001))]"
   ]
  },
  {
   "cell_type": "code",
   "execution_count": 31,
   "id": "53af0303-34b0-4141-855e-8f521c7087b8",
   "metadata": {
    "scrolled": true
   },
   "outputs": [
    {
     "name": "stdout",
     "output_type": "stream",
     "text": [
      "eps_tup (0.02, 0.11, 0.01)\n",
      "eps_tup (0.02, 0.001, -0.001)\n",
      "eps_tup (0.02, 0.11, 0.01)\n",
      "eps_tup (0.02, 0.001, -0.001)\n",
      "eps_tup (0.02, 0.11, 0.01)\n",
      "eps_tup (0.02, 0.001, -0.001)\n"
     ]
    }
   ],
   "source": [
    "for i in range(len(in_dicts_r3d)):\n",
    "    in1 = in_dicts_r3d[i]\n",
    "    dat = follow_locking_3d(**in1,**kw_follow_r3d)\n",
    "    data_list_r3d.append(dat)\n",
    "fname = kw_follow_r3d['bifdir']+'hyper_r3d_thal2_23_p001.txt'"
   ]
  },
  {
   "cell_type": "code",
   "execution_count": 32,
   "id": "23b5c60f-b67b-45ec-85b6-7dbe55157cac",
   "metadata": {},
   "outputs": [],
   "source": [
    "# save hyperparameters\n",
    "hyp_inputs = np.zeros([len(in_dicts_r3d),4])\n",
    "for i in range(len(in_dicts_r3d)):\n",
    "    hyp_inputs[i,0] = in_dicts_r3d[i]['init']\n",
    "    hyp_inputs[i,1] = in_dicts_r3d[i]['eps_tup'][0]\n",
    "    hyp_inputs[i,2] = in_dicts_r3d[i]['eps_tup'][1]\n",
    "    hyp_inputs[i,3] = in_dicts_r3d[i]['eps_tup'][2]\n",
    "np.savetxt(fname,hyp_inputs)"
   ]
  },
  {
   "cell_type": "markdown",
   "id": "1cd67bdf-9981-49bb-8fe9-eb4d74a5612a",
   "metadata": {},
   "source": [
    "## Plot"
   ]
  },
  {
   "cell_type": "code",
   "execution_count": 33,
   "id": "38ff4e04-7191-421a-b88f-f65a9ddbb04c",
   "metadata": {},
   "outputs": [
    {
     "name": "stdout",
     "output_type": "stream",
     "text": [
      "eps_min 0.008000000000000002\n"
     ]
    },
    {
     "data": {
      "image/png": "[encoded data removed]",
      "text/plain": [
       "<Figure size 300x200 with 1 Axes>"
      ]
     },
     "metadata": {},
     "output_type": "display_data"
    },
    {
     "data": {
      "image/png": "[encoded data removed]",
      "text/plain": [
       "<Figure size 300x400 with 2 Axes>"
      ]
     },
     "metadata": {},
     "output_type": "display_data"
    }
   ],
   "source": [
    "quick_plot_combined(a23_p001,\n",
    "                    kw_f={'data_list':data_p001_list},\n",
    "                    kw_r3d={'data_list':data_list_r3d},\n",
    "                    kw_r={'etup':etup23})"
   ]
  },
  {
   "cell_type": "markdown",
   "id": "773b05cb-0256-44ab-94a5-6ead8708ca06",
   "metadata": {},
   "source": [
    "# del=0.003"
   ]
  },
  {
   "cell_type": "code",
   "execution_count": 34,
   "id": "e066a8b4-f196-4c3a-9136-997e6203692f",
   "metadata": {
    "editable": true,
    "scrolled": true,
    "slideshow": {
     "slide_type": ""
    },
    "tags": []
   },
   "outputs": [
    {
     "name": "stdout",
     "output_type": "stream",
     "text": [
      "pfactor 20\n",
      "* Loading p symbolic...\n",
      "* Loading p symbolic...\n",
      "* Loading H symbolic...\n",
      "* Loading H symbolic...\n",
      "* Loading H thal0_35, order=0...\n",
      "* Loading H thal1_35, order=0...\n",
      "* Loading H thal0_35, order=1...\n",
      "* Loading H thal1_35, order=1...\n",
      "* Loading H thal0_35, order=2...\n",
      "* Loading H thal1_35, order=2...\n",
      "* Computing H thal0_35, order=3...\n",
      "* Computing H thal1_35, order=3...\n"
     ]
    }
   ],
   "source": [
    "del23_p003 = 0.003\n",
    "a23_p003 = nm.nmCoupling(**kw_nm, del1=del23_p003)"
   ]
  },
  {
   "cell_type": "markdown",
   "id": "aacd36c2-84bf-4560-a17b-3cfcf3ff7005",
   "metadata": {},
   "source": [
    "## Get Branches Full"
   ]
  },
  {
   "cell_type": "code",
   "execution_count": 35,
   "id": "0118c399-72cb-4ce5-a2cf-b754b31ced9c",
   "metadata": {},
   "outputs": [],
   "source": [
    "kw_p003 = {'a':a23_p003,'del1':del23_p003,'recompute':False,\n",
    "         'bifdir':'bif1d_thal2/','_full_rhs':_full}"
   ]
  },
  {
   "cell_type": "code",
   "execution_count": 36,
   "id": "6602b2b3-4931-4818-843f-4162dd1f3549",
   "metadata": {},
   "outputs": [],
   "source": [
    "data_p003_list = []"
   ]
  },
  {
   "cell_type": "code",
   "execution_count": 37,
   "id": "87fa8a1b-4a4c-4de4-a5e5-f218ada61ba5",
   "metadata": {},
   "outputs": [],
   "source": [
    "in_dicts = [dict(init=0,eps_init=0.1,eps_final=0.009, deps=-.01),\n",
    "            dict(init=0,eps_init=0.01,eps_final=0.0005,deps=-.001)]"
   ]
  },
  {
   "cell_type": "code",
   "execution_count": 38,
   "id": "31db254e-a8e2-4970-bc7d-c10f50c5b83f",
   "metadata": {
    "scrolled": true
   },
   "outputs": [
    {
     "name": "stdout",
     "output_type": "stream",
     "text": [
      "fname1 td_branch_init=0_nm=23_del=0.003_ei=0.1_ef=0.009_de=-0.01.txt\n",
      "fname2 ts_branch_init=0_nm=23_del=0.003_ei=0.1_ef=0.009_de=-0.01.txt\n",
      "fname1 td_branch_init=0_nm=23_del=0.003_ei=0.01_ef=0.0005_de=-0.001.txt\n",
      "fname2 ts_branch_init=0_nm=23_del=0.003_ei=0.01_ef=0.0005_de=-0.001.txt\n"
     ]
    }
   ],
   "source": [
    "for i in range(len(in_dicts)):\n",
    "    in1 = in_dicts[i]\n",
    "    dat = follow_phase_diffs(**in1,**kw_p003)\n",
    "    data_p003_list.append(dat)\n",
    "fname = kw_p003['bifdir']+'hyper_thal2_23_p003.txt'"
   ]
  },
  {
   "cell_type": "code",
   "execution_count": 39,
   "id": "b26a8f64-206d-4d1c-8290-c9444ef82167",
   "metadata": {},
   "outputs": [],
   "source": [
    "# save hyperparameters\n",
    "hyp_inputs = np.zeros([len(in_dicts),4])\n",
    "for i in range(len(in_dicts)):\n",
    "    hyp_inputs[i,0] = in_dicts[i]['init']\n",
    "    hyp_inputs[i,1] = in_dicts[i]['eps_init']\n",
    "    hyp_inputs[i,2] = in_dicts[i]['eps_final']\n",
    "    hyp_inputs[i,3] = in_dicts[i]['deps']\n",
    "np.savetxt(fname,hyp_inputs)"
   ]
  },
  {
   "cell_type": "markdown",
   "id": "7a6374cd-79aa-4102-9c36-90d053cc840d",
   "metadata": {},
   "source": [
    "## Get Branches 3D"
   ]
  },
  {
   "cell_type": "code",
   "execution_count": 40,
   "id": "2dc11cd9-a0a9-4fe3-8161-d4a8a7c90840",
   "metadata": {},
   "outputs": [],
   "source": [
    "data_list_r3d = []"
   ]
  },
  {
   "cell_type": "code",
   "execution_count": 41,
   "id": "6caa4442-d674-4a84-a27c-b9d79c10fb22",
   "metadata": {},
   "outputs": [],
   "source": [
    "kw_follow_r3d = {'a':a23_p003,'rhs':_redu_3dc,'recompute':False,\n",
    "                 'bifdir':'bif1d_thal2/'}"
   ]
  },
  {
   "cell_type": "code",
   "execution_count": 42,
   "id": "c94f926a-0883-48d2-a3d3-dfa761f0701a",
   "metadata": {},
   "outputs": [],
   "source": [
    "in_dicts_r3d = [dict(init=.5,eps_tup=(.02,.11,.01)),\n",
    "                dict(init=.5,eps_tup=(.02,.001,-.001)),\n",
    "                dict(init=2.5,eps_tup=(.02,.11,.01)),\n",
    "                dict(init=2.5,eps_tup=(.02,.001,-.001)),\n",
    "                dict(init=5,eps_tup=(.02,.11,.01)),\n",
    "                dict(init=5,eps_tup=(.02,.001,-.001))]"
   ]
  },
  {
   "cell_type": "code",
   "execution_count": 43,
   "id": "9f1aa53f-1da5-4b4d-bcb1-e23287db7ac1",
   "metadata": {
    "scrolled": true
   },
   "outputs": [
    {
     "name": "stdout",
     "output_type": "stream",
     "text": [
      "eps_tup (0.02, 0.11, 0.01)\n",
      "eps_tup (0.02, 0.001, -0.001)\n",
      "eps_tup (0.02, 0.11, 0.01)\n",
      "eps_tup (0.02, 0.001, -0.001)\n",
      "eps_tup (0.02, 0.11, 0.01)\n",
      "eps_tup (0.02, 0.001, -0.001)\n"
     ]
    }
   ],
   "source": [
    "for i in range(len(in_dicts_r3d)):\n",
    "    in1 = in_dicts_r3d[i]\n",
    "    dat = follow_locking_3d(**in1,**kw_follow_r3d)\n",
    "    data_list_r3d.append(dat)\n",
    "fname = kw_follow_r3d['bifdir']+'hyper_r3d_thal2_23_p003.txt'"
   ]
  },
  {
   "cell_type": "code",
   "execution_count": 44,
   "id": "251bdb89-f343-45c8-b7d5-624140999ae9",
   "metadata": {},
   "outputs": [],
   "source": [
    "# save hyperparameters\n",
    "hyp_inputs = np.zeros([len(in_dicts_r3d),4])\n",
    "for i in range(len(in_dicts_r3d)):\n",
    "    hyp_inputs[i,0] = in_dicts_r3d[i]['init']\n",
    "    hyp_inputs[i,1] = in_dicts_r3d[i]['eps_tup'][0]\n",
    "    hyp_inputs[i,2] = in_dicts_r3d[i]['eps_tup'][1]\n",
    "    hyp_inputs[i,3] = in_dicts_r3d[i]['eps_tup'][2]\n",
    "np.savetxt(fname,hyp_inputs)"
   ]
  },
  {
   "cell_type": "markdown",
   "id": "d60c9737-77b2-4a0e-9823-e8edcf435ff6",
   "metadata": {},
   "source": [
    "## Plot"
   ]
  },
  {
   "cell_type": "code",
   "execution_count": 45,
   "id": "30f7ef6f-ab90-45f5-bf1b-105b0f6f5105",
   "metadata": {},
   "outputs": [
    {
     "name": "stdout",
     "output_type": "stream",
     "text": [
      "eps_min 0.008000000000000002\n"
     ]
    },
    {
     "data": {
      "image/png": "[encoded data removed]",
      "text/plain": [
       "<Figure size 300x200 with 1 Axes>"
      ]
     },
     "metadata": {},
     "output_type": "display_data"
    },
    {
     "data": {
      "image/png": "[encoded data removed]",
      "text/plain": [
       "<Figure size 300x400 with 2 Axes>"
      ]
     },
     "metadata": {},
     "output_type": "display_data"
    }
   ],
   "source": [
    "quick_plot_combined(a23_p003,\n",
    "                    kw_f={'data_list':data_p003_list},\n",
    "                    kw_r3d={'data_list':data_list_r3d},\n",
    "                    kw_r={'etup':etup23})"
   ]
  },
  {
   "cell_type": "markdown",
   "id": "3ca76895-5d76-4636-be2d-68ebc82f0d18",
   "metadata": {},
   "source": [
    "# del=0.004"
   ]
  },
  {
   "cell_type": "code",
   "execution_count": 46,
   "id": "df678771-4a1c-431c-86a3-369edbe03842",
   "metadata": {
    "editable": true,
    "scrolled": true,
    "slideshow": {
     "slide_type": ""
    },
    "tags": []
   },
   "outputs": [
    {
     "name": "stdout",
     "output_type": "stream",
     "text": [
      "pfactor 20\n",
      "* Loading p symbolic...\n",
      "* Loading p symbolic...\n",
      "* Loading H symbolic...\n",
      "* Loading H symbolic...\n",
      "* Computing H thal0_35, order=0...\n",
      "* Computing H thal1_35, order=0...\n",
      "* Computing H thal0_35, order=1...\n",
      "* Computing H thal1_35, order=1...\n",
      "* Computing H thal0_35, order=2...\n",
      "* Computing H thal1_35, order=2...\n",
      "* Computing H thal0_35, order=3...\n",
      "* Computing H thal1_35, order=3...\n"
     ]
    }
   ],
   "source": [
    "del23_p004 = 0.004\n",
    "a23_p004 = nm.nmCoupling(**kw_nm, del1=del23_p004)"
   ]
  },
  {
   "cell_type": "markdown",
   "id": "86da335c-cfe1-492a-9539-6b07bec9c0f6",
   "metadata": {},
   "source": [
    "## Get Branches Full"
   ]
  },
  {
   "cell_type": "code",
   "execution_count": 47,
   "id": "00d6aaee-2948-4304-9c46-b996e5b29fd2",
   "metadata": {},
   "outputs": [],
   "source": [
    "kw_p004 = {'a':a23_p004,'del1':del23_p004,'recompute':False,\n",
    "         'bifdir':'bif1d_thal2/','_full_rhs':_full}"
   ]
  },
  {
   "cell_type": "code",
   "execution_count": 48,
   "id": "261be8b0-1e14-44c4-b934-5bcb41ba717c",
   "metadata": {},
   "outputs": [],
   "source": [
    "data_p004_list = []"
   ]
  },
  {
   "cell_type": "code",
   "execution_count": 49,
   "id": "75a751d8-e9ce-4b69-a809-0e31a187649c",
   "metadata": {},
   "outputs": [],
   "source": [
    "in_dicts = [dict(init=0,eps_init=0.05,eps_final=0.071,deps=.002),\n",
    "            dict(init=0,eps_init=0.05,eps_final=0.0005,deps=-.002),\n",
    "            dict(init=0,eps_init=0.07,eps_final=0.08,deps=.002)]"
   ]
  },
  {
   "cell_type": "code",
   "execution_count": 50,
   "id": "703afc90-b684-4368-a5c0-355ea8f22643",
   "metadata": {
    "scrolled": true
   },
   "outputs": [
    {
     "name": "stdout",
     "output_type": "stream",
     "text": [
      "fname1 td_branch_init=0_nm=23_del=0.004_ei=0.05_ef=0.071_de=0.002.txt\n",
      "fname2 ts_branch_init=0_nm=23_del=0.004_ei=0.05_ef=0.071_de=0.002.txt\n",
      "fname1 td_branch_init=0_nm=23_del=0.004_ei=0.05_ef=0.0005_de=-0.002.txt\n",
      "fname2 ts_branch_init=0_nm=23_del=0.004_ei=0.05_ef=0.0005_de=-0.002.txt\n",
      "fname1 td_branch_init=0_nm=23_del=0.004_ei=0.07_ef=0.08_de=0.002.txt\n",
      "fname2 ts_branch_init=0_nm=23_del=0.004_ei=0.07_ef=0.08_de=0.002.txt\n"
     ]
    }
   ],
   "source": [
    "for i in range(len(in_dicts)):\n",
    "    in1 = in_dicts[i]\n",
    "    dat = follow_phase_diffs(**in1,**kw_p004)\n",
    "    data_p004_list.append(dat)\n",
    "fname = kw_p004['bifdir']+'hyper_thal2_23_p004.txt'"
   ]
  },
  {
   "cell_type": "code",
   "execution_count": 51,
   "id": "b953d397-3316-4a2a-9e99-0490d1b22f72",
   "metadata": {},
   "outputs": [],
   "source": [
    "# save hyperparameters\n",
    "hyp_inputs = np.zeros([len(in_dicts),4])\n",
    "for i in range(len(in_dicts)):\n",
    "    hyp_inputs[i,0] = in_dicts[i]['init']\n",
    "    hyp_inputs[i,1] = in_dicts[i]['eps_init']\n",
    "    hyp_inputs[i,2] = in_dicts[i]['eps_final']\n",
    "    hyp_inputs[i,3] = in_dicts[i]['deps']\n",
    "np.savetxt(fname,hyp_inputs)"
   ]
  },
  {
   "cell_type": "markdown",
   "id": "f28f393b-748d-4efc-a1ce-4c17e93ccd13",
   "metadata": {},
   "source": [
    "## Get Branches 3D"
   ]
  },
  {
   "cell_type": "code",
   "execution_count": 92,
   "id": "9d730ba4-27fe-4774-b803-3c8a9dc0d9b8",
   "metadata": {},
   "outputs": [],
   "source": [
    "data_list_r3d = []"
   ]
  },
  {
   "cell_type": "code",
   "execution_count": 93,
   "id": "680f724c-003c-45d2-961c-09f163a10e22",
   "metadata": {},
   "outputs": [],
   "source": [
    "kw_follow_r3d = {'a':a23_p004,'rhs':_redu_3dc,'recompute':False,\n",
    "                 'bifdir':'bif1d_thal2/'}"
   ]
  },
  {
   "cell_type": "code",
   "execution_count": 94,
   "id": "ab426108-9502-43ff-a8a4-7ac245bc069c",
   "metadata": {},
   "outputs": [],
   "source": [
    "in_dicts_r3d = [dict(init=.5,eps_tup=(.02,.11,.005)),\n",
    "                dict(init=.5,eps_tup=(.02,.001,-.001)),\n",
    "                dict(init=2.5,eps_tup=(.02,.11,.005)),\n",
    "                dict(init=2.5,eps_tup=(.02,.001,-.001)),\n",
    "                dict(init=4.5,eps_tup=(.02,.11,.005)),\n",
    "                dict(init=4.5,eps_tup=(.02,.001,-.001))]"
   ]
  },
  {
   "cell_type": "code",
   "execution_count": 95,
   "id": "86f48cb8-7518-4079-9e56-98ffbd25b44a",
   "metadata": {
    "scrolled": true
   },
   "outputs": [
    {
     "name": "stdout",
     "output_type": "stream",
     "text": [
      "eps_tup (0.02, 0.11, 0.005)\n",
      "eps_tup (0.02, 0.001, -0.001)\n",
      "eps_tup (0.02, 0.11, 0.005)\n",
      "2.5 <nmCoupling.nmCoupling object at 0x000002808D752260> (0.02, 0.11, 0.005) <function _redu_3dc_thal at 0x0000028083E62950>\n",
      "t_diff 2.32995812445726858, Y=[ 2.32995812 -0.01529928 -0.01294369]                                              \n",
      "eps iter 0 0.02                \n",
      "t_diff 2.32995812445703188, Y=[ 2.32995812 -0.01529928 -0.01294369]                                              \n",
      "eps iter 1 0.025                \n",
      "t_diff 2.32927184798814368, Y=[ 2.32927185 -0.01911375 -0.01616572]                                              \n",
      "eps iter 2 0.030000000000000002                \n",
      "t_diff 2.32858586701558408, Y=[ 2.32858587 -0.02292411 -0.01938223]                                              \n",
      "eps iter 3 0.035                \n",
      "t_diff 2.32790017798782378, Y=[ 2.32790018 -0.02673039 -0.02259322]                                              \n",
      "eps iter 4 0.04000000000000001                \n",
      "t_diff 2.32721477732115908, Y=[ 2.32721478 -0.03053259 -0.02579871]                                              \n",
      "eps iter 5 0.045000000000000005                \n",
      "t_diff 2.32652966139730508, Y=[ 2.32652966 -0.03433073 -0.0289987 ]                                              \n",
      "eps iter 6 0.05                \n",
      "t_diff 2.32584482656213308, Y=[ 2.32584483 -0.03812484 -0.03219322]                                              \n",
      "eps iter 7 0.05500000000000001                \n",
      "t_diff 2.32516026912093888, Y=[ 2.32516027 -0.04191491 -0.03538226]                                              \n",
      "eps iter 8 0.06000000000000001                \n",
      "t_diff 2.32447598533670968, Y=[ 2.32447599 -0.04570099 -0.03856586]                                              \n",
      "eps iter 9 0.06500000000000002                \n",
      "t_diff 2.32379197143180608, Y=[ 2.32379197 -0.04948307 -0.04174401]                                              \n",
      "eps iter 10 0.07                \n",
      "t_diff 2.32310822357846328, Y=[ 2.32310822 -0.05326118 -0.04491673]                                              \n",
      "eps iter 11 0.07500000000000001                \n",
      "t_diff 2.32242473790062508, Y=[ 2.32242474 -0.05703533 -0.04808403]                                              \n",
      "eps iter 12 0.08000000000000002                \n",
      "t_diff 2.32174151046978908, Y=[ 2.32174151 -0.06080554 -0.05124592]                                              \n",
      "eps iter 13 0.08500000000000002                \n",
      "t_diff 2.32105853730574738, Y=[ 2.32105854 -0.06457182 -0.05440242]                                              \n",
      "eps iter 14 0.09000000000000001                \n",
      "t_diff 2.32037581436818478, Y=[ 2.32037581 -0.0683342  -0.05755353]                                              \n",
      "eps iter 15 0.09500000000000001                \n",
      "t_diff 2.31969333755820368, Y=[ 2.31969334 -0.07209269 -0.06069927]                                              \n",
      "eps iter 16 0.10000000000000002                \n",
      "t_diff 2.31901110271455808, Y=[ 2.3190111  -0.07584731 -0.06383965]                                              \n",
      "eps iter 17 0.10500000000000002                \n",
      "t_diff 2.31832910561282308, Y=[ 2.31832911 -0.07959807 -0.06697468]                                              \n",
      "eps_tup (0.02, 0.001, -0.001)\n",
      "2.5 <nmCoupling.nmCoupling object at 0x000002808D752260> (0.02, 0.001, -0.001) <function _redu_3dc_thal at 0x0000028083E62950>\n",
      "t_diff 2.32995812445726858, Y=[ 2.32995812 -0.01529928 -0.01294369]                                              \n",
      "eps iter 0 0.02                \n",
      "t_diff 2.32995812445703188, Y=[ 2.32995812 -0.01529928 -0.01294369]                                              \n",
      "eps iter 1 0.019                \n",
      "t_diff 2.33009541552058868, Y=[ 2.33009542 -0.01453589 -0.01229861]                                              \n",
      "eps iter 2 0.018                \n",
      "t_diff 2.33023271857284359, Y=[ 2.33023272 -0.01377234 -0.01165332]                                              \n",
      "eps iter 3 0.016999999999999998                \n",
      "t_diff 2.33037003364196069, Y=[ 2.33037003 -0.01300862 -0.0110078 ]                                              \n",
      "eps iter 4 0.015999999999999997                \n",
      "t_diff 2.33050736075579609, Y=[ 2.33050736 -0.01224474 -0.01036207]                                              \n",
      "eps iter 5 0.014999999999999996                \n",
      "t_diff 2.33064469994219409, Y=[ 2.3306447  -0.01148069 -0.00971611]                                              \n",
      "eps iter 6 0.013999999999999995                \n",
      "t_diff 2.33078205122905450, Y=[ 2.33078205 -0.01071647 -0.00906993]                                              \n",
      "eps iter 7 0.012999999999999994                \n",
      "t_diff 2.33091941464418630, Y=[ 2.33091941 -0.00995209 -0.00842352]                                              \n",
      "eps iter 8 0.011999999999999993                \n",
      "t_diff 2.33105679021535410, Y=[ 2.33105679 -0.00918754 -0.0077769 ]                                              \n",
      "eps iter 9 0.010999999999999992                \n",
      "t_diff 2.33119417797031768, Y=[ 2.33119418 -0.00842283 -0.00713005]                                              \n",
      "eps iter 10 0.009999999999999992                \n",
      "t_diff 2.33133157793663371, Y=[ 2.33133158 -0.00765795 -0.00648298]                                              \n",
      "eps iter 11 0.00899999999999999                \n",
      "t_diff 2.33146899014207559, Y=[ 2.33146899 -0.00689291 -0.00583568]                                              \n",
      "eps iter 12 0.00799999999999999                \n",
      "t_diff 2.33160641461426408, Y=[ 2.33160641 -0.0061277  -0.00518817]                                              \n",
      "eps iter 13 0.006999999999999989                \n",
      "t_diff 2.33174385138059440, Y=[ 2.33174385 -0.00536232 -0.00454043]                                              \n",
      "eps iter 14 0.005999999999999988                \n",
      "t_diff 2.33188130046876-09, Y=[ 2.3318813  -0.00459677 -0.00389246]                                              \n",
      "eps iter 15 0.004999999999999987                \n",
      "t_diff 2.33201876190622859, Y=[ 2.33201876 -0.00383106 -0.00324428]                                              \n",
      "eps iter 16 0.003999999999999986                \n",
      "t_diff 2.33215623572040710, Y=[ 2.33215624 -0.00306518 -0.00259587]                                              \n",
      "eps iter 17 0.0029999999999999853                \n",
      "t_diff 2.33229372193881368, Y=[ 2.33229372e+00 -2.29913961e-03 -1.94723703e-03]                                              \n",
      "eps iter 18 0.0019999999999999844                \n",
      "t_diff 2.33243122058854709, Y=[ 2.33243122e+00 -1.53292711e-03 -1.29838154e-03]                                              \n",
      "eps_tup (0.02, 0.11, 0.005)\n",
      "4.5 <nmCoupling.nmCoupling object at 0x000002808D752260> (0.02, 0.11, 0.005) <function _redu_3dc_thal at 0x0000028083E62950>\n",
      "t_diff 4.42435322682274811, Y=[ 4.42435323 -0.01529928 -0.01294369]                                              \n",
      "eps iter 0 0.02                \n",
      "t_diff 4.42435322682281408, Y=[ 4.42435323 -0.01529928 -0.01294369]                                              \n",
      "eps iter 1 0.025                \n",
      "t_diff 4.42366695033486808, Y=[ 4.42366695 -0.01911375 -0.01616572]                                              \n",
      "eps iter 2 0.030000000000000002                \n",
      "t_diff 4.42298096933548508, Y=[ 4.42298097 -0.02292411 -0.01938223]                                              \n",
      "eps iter 3 0.035                \n",
      "t_diff 4.42229528027354108, Y=[ 4.42229528 -0.02673039 -0.02259322]                                              \n",
      "eps iter 4 0.04000000000000001                \n",
      "t_diff 4.42160987956411408, Y=[ 4.42160988 -0.03053259 -0.02579871]                                              \n",
      "eps iter 5 0.045000000000000005                \n",
      "t_diff 4.42092476358812308, Y=[ 4.42092476 -0.03433073 -0.0289987 ]                                              \n",
      "eps iter 6 0.05                \n",
      "t_diff 4.42023992868885708, Y=[ 4.42023993 -0.03812484 -0.03219322]                                              \n",
      "eps iter 7 0.05500000000000001                \n",
      "t_diff 4.41955537117264808, Y=[ 4.41955537 -0.04191491 -0.03538226]                                              \n",
      "eps iter 8 0.06000000000000001                \n",
      "t_diff 4.41887108730167-08, Y=[ 4.41887109 -0.04570099 -0.03856586]                                              \n",
      "eps iter 9 0.06500000000000002                \n",
      "t_diff 4.41818707329492108, Y=[ 4.41818707 -0.04948307 -0.04174401]                                              \n",
      "eps iter 10 0.07                \n",
      "t_diff 4.41750332532506908, Y=[ 4.41750333 -0.05326118 -0.04491673]                                              \n",
      "eps iter 11 0.07500000000000001                \n",
      "t_diff 4.41681983951575108, Y=[ 4.41681984 -0.05703533 -0.04808403]                                              \n",
      "eps iter 12 0.08000000000000002                \n",
      "t_diff 4.41613661193756608, Y=[ 4.41613661 -0.06080554 -0.05124592]                                              \n",
      "eps iter 13 0.08500000000000002                \n",
      "t_diff 4.41545363860613208, Y=[ 4.41545364 -0.06457182 -0.05440242]                                              \n",
      "eps iter 14 0.09000000000000001                \n",
      "t_diff 4.41477091548397608, Y=[ 4.41477092 -0.0683342  -0.05755353]                                              \n",
      "eps iter 15 0.09500000000000001                \n",
      "t_diff 4.41408843847006258, Y=[ 4.41408844 -0.07209269 -0.06069927]                                              \n",
      "eps iter 16 0.10000000000000002                \n",
      "t_diff 4.41340620340153708, Y=[ 4.4134062  -0.07584731 -0.06383965]                                              \n",
      "eps iter 17 0.10500000000000002                \n",
      "t_diff 4.41272420605119-08, Y=[ 4.41272421 -0.07959807 -0.06697468]                                              \n",
      "eps_tup (0.02, 0.001, -0.001)\n",
      "4.5 <nmCoupling.nmCoupling object at 0x000002808D752260> (0.02, 0.001, -0.001) <function _redu_3dc_thal at 0x0000028083E62950>\n",
      "t_diff 4.42435322682274811, Y=[ 4.42435323 -0.01529928 -0.01294369]                                              \n",
      "eps iter 0 0.02                \n",
      "t_diff 4.42435322682281408, Y=[ 4.42435323 -0.01529928 -0.01294369]                                              \n",
      "eps iter 1 0.019                \n",
      "t_diff 4.42449051788954108, Y=[ 4.42449052 -0.01453589 -0.01229861]                                              \n",
      "eps iter 2 0.018                \n",
      "t_diff 4.42462782094470910, Y=[ 4.42462782 -0.01377234 -0.01165332]                                              \n",
      "eps iter 3 0.016999999999999998                \n",
      "t_diff 4.42476513601652510, Y=[ 4.42476514 -0.01300862 -0.0110078 ]                                              \n",
      "eps iter 4 0.015999999999999997                \n",
      "t_diff 4.42490246313286109, Y=[ 4.42490246 -0.01224474 -0.01036207]                                              \n",
      "eps iter 5 0.014999999999999996                \n",
      "t_diff 4.42503980232153209, Y=[ 4.4250398  -0.01148069 -0.00971611]                                              \n",
      "eps iter 6 0.013999999999999995                \n",
      "t_diff 4.42517715361047110, Y=[ 4.42517715 -0.01071647 -0.00906993]                                              \n",
      "eps iter 7 0.012999999999999994                \n",
      "t_diff 4.42531451702748150, Y=[ 4.42531452 -0.00995209 -0.00842352]                                              \n",
      "eps iter 8 0.011999999999999993                \n",
      "t_diff 4.42545189260034309, Y=[ 4.42545189 -0.00918754 -0.0077769 ]                                              \n",
      "eps iter 9 0.010999999999999992                \n",
      "t_diff 4.42558928035685608, Y=[ 4.42558928 -0.00842283 -0.00713005]                                              \n",
      "eps iter 10 0.009999999999999992                \n",
      "t_diff 4.42572668032458250, Y=[ 4.42572668 -0.00765795 -0.00648298]                                              \n",
      "eps iter 11 0.00899999999999999                \n",
      "t_diff 4.42586409253125909, Y=[ 4.42586409 -0.00689291 -0.00583568]                                              \n",
      "eps iter 12 0.00799999999999999                \n",
      "t_diff 4.42600151700448908, Y=[ 4.42600152 -0.0061277  -0.00518817]                                              \n",
      "eps iter 13 0.006999999999999989                \n",
      "t_diff 4.42613895377166810, Y=[ 4.42613895 -0.00536232 -0.00454043]                                              \n",
      "eps iter 14 0.005999999999999988                \n",
      "t_diff 4.42627640286055359, Y=[ 4.42627640e+00 -4.59677449e-03 -3.89246360e-03]                                              \n",
      "eps iter 15 0.004999999999999987                \n",
      "t_diff 4.4264138642986e-09, Y=[ 4.42641386e+00 -3.83106317e-03 -3.24427796e-03]                                              \n",
      "eps iter 16 0.003999999999999986                \n",
      "t_diff 4.42655133811319409, Y=[ 4.42655134e+00 -3.06518492e-03 -2.59586913e-03]                                              \n",
      "eps iter 17 0.0029999999999999853                \n",
      "t_diff 4.42668882433192708, Y=[ 4.42668882e+00 -2.29913961e-03 -1.94723703e-03]                                              \n",
      "eps iter 18 0.0019999999999999844                \n",
      "t_diff 4.42682632298187509, Y=[ 4.42682632e+00 -1.53292711e-03 -1.29838154e-03]                                              \n"
     ]
    }
   ],
   "source": [
    "for i in range(len(in_dicts_r3d)):\n",
    "    in1 = in_dicts_r3d[i]\n",
    "    dat = follow_locking_3d(**in1,**kw_follow_r3d)\n",
    "    data_list_r3d.append(dat)\n",
    "fname = kw_follow_r3d['bifdir']+'hyper_r3d_thal2_23_p004.txt'"
   ]
  },
  {
   "cell_type": "code",
   "execution_count": 96,
   "id": "afe984a1-c044-4e6b-a268-eb9e3b3d9982",
   "metadata": {},
   "outputs": [],
   "source": [
    "# save hyperparameters\n",
    "hyp_inputs = np.zeros([len(in_dicts_r3d),4])\n",
    "for i in range(len(in_dicts_r3d)):\n",
    "    hyp_inputs[i,0] = in_dicts_r3d[i]['init']\n",
    "    hyp_inputs[i,1] = in_dicts_r3d[i]['eps_tup'][0]\n",
    "    hyp_inputs[i,2] = in_dicts_r3d[i]['eps_tup'][1]\n",
    "    hyp_inputs[i,3] = in_dicts_r3d[i]['eps_tup'][2]\n",
    "np.savetxt(fname,hyp_inputs)"
   ]
  },
  {
   "cell_type": "markdown",
   "id": "29bbddd4-3cee-4d25-9d89-31358d7125c2",
   "metadata": {},
   "source": [
    "## Plot"
   ]
  },
  {
   "cell_type": "code",
   "execution_count": 97,
   "id": "59a9fd67-5a0c-419e-9cc4-4bd96e4599fd",
   "metadata": {},
   "outputs": [
    {
     "name": "stdout",
     "output_type": "stream",
     "text": [
      "eps_min 0.007999999999999965\n"
     ]
    },
    {
     "data": {
      "image/png": "[encoded data removed]",
      "text/plain": [
       "<Figure size 300x200 with 1 Axes>"
      ]
     },
     "metadata": {},
     "output_type": "display_data"
    },
    {
     "data": {
      "image/png": "[encoded data removed]",
      "text/plain": [
       "<Figure size 300x400 with 2 Axes>"
      ]
     },
     "metadata": {},
     "output_type": "display_data"
    }
   ],
   "source": [
    "quick_plot_combined(a23_p004,\n",
    "                    kw_f={'data_list':data_p004_list},\n",
    "                    kw_r3d={'data_list':data_list_r3d},\n",
    "                    kw_r={'etup':etup23})"
   ]
  },
  {
   "cell_type": "markdown",
   "id": "2be60aa8-c8e9-4a9e-80b1-a167d8a32ffb",
   "metadata": {},
   "source": [
    "## Sims"
   ]
  },
  {
   "cell_type": "code",
   "execution_count": 58,
   "id": "07da8bc4-01af-429c-8547-8cb20cea07a6",
   "metadata": {},
   "outputs": [],
   "source": [
    "eps23_p004 = 0.08\n",
    "th_init23_p004 = 3"
   ]
  },
  {
   "cell_type": "code",
   "execution_count": 59,
   "id": "67491157-a8ff-444f-a6e3-63e053d8fb61",
   "metadata": {},
   "outputs": [],
   "source": [
    "dt = .01;T_p004=2000\n",
    "t23_p004 = np.arange(0,T_p004,dt)\n",
    "args23_p004 = {'args':(a23_p004,eps23_p004,del23_p004),\n",
    "               't_eval':t23_p004,**kw_sim}"
   ]
  },
  {
   "cell_type": "code",
   "execution_count": 60,
   "id": "288c714c-4516-4d75-a946-f372aa7ef269",
   "metadata": {
    "tags": []
   },
   "outputs": [],
   "source": [
    "y0a = a23_p004.system1.lc['dat'][int((th_init23_p004/(2*np.pi)) * a23_p004.system1.TN),:]\n",
    "y0b = a23_p004.system2.lc['dat'][int((0/(2*np.pi)) * a23_p004.system2.TN),:]\n",
    "\n",
    "y0_p004 = np.array([y0a,y0b]).flatten()\n",
    "\n",
    "solf23_p004 = solve_ivp(_full,[0,t23_p004[-1]],\n",
    "                        y0_p004, **args23_p004)"
   ]
  },
  {
   "cell_type": "code",
   "execution_count": 61,
   "id": "fba1a627-de56-435a-bd69-1b0649768b0f",
   "metadata": {
    "tags": []
   },
   "outputs": [],
   "source": [
    "solr23_p004 = solve_ivp(_redu_c,[0,t23_p004[-1]],\n",
    "                        [th_init23_p004],**args23_p004)"
   ]
  },
  {
   "cell_type": "code",
   "execution_count": 62,
   "id": "9397cd1a-2e5e-45a9-a20e-9b232f8a4241",
   "metadata": {},
   "outputs": [],
   "source": [
    "# solr12b_p004 = solve_ivp(_redu_3dc,[0,t23_p004[-1]],\n",
    "#                     [th_init23_p004,0,0],**args23_p004)"
   ]
  },
  {
   "cell_type": "code",
   "execution_count": 63,
   "id": "d5e4409f-b4a6-492f-b9b1-79d718b8ce95",
   "metadata": {},
   "outputs": [],
   "source": [
    "tp12a_p004, phase12a_p004 = get_phase(t23_p004,solf23_p004.y.T[:,:4],\n",
    "                            skipn=50,system1=a23_p004.system1)\n",
    "tp12b_p004, phase12b_p004 = get_phase(t23_p004,solf23_p004.y.T[:,4:],\n",
    "                            skipn=50,system1=a23_p004.system2)"
   ]
  },
  {
   "cell_type": "code",
   "execution_count": 64,
   "id": "a0f15a64-f073-4aae-ab70-fadb794358dd",
   "metadata": {},
   "outputs": [
    {
     "data": {
      "text/plain": [
       "(-0.5, 6.783185307179586)"
      ]
     },
     "execution_count": 64,
     "metadata": {},
     "output_type": "execute_result"
    },
    {
     "data": {
      "image/png": "[encoded data removed]",
      "text/plain": [
       "<Figure size 640x480 with 1 Axes>"
      ]
     },
     "metadata": {},
     "output_type": "display_data"
    }
   ],
   "source": [
    "fig,axs = plt.subplots()\n",
    "y = np.mod(phase12a_p004 - a23_p004.om*phase12b_p004,2*np.pi)\n",
    "axs.scatter(tp12a_p004,y,s=1,alpha=.5,color='black')\n",
    "\n",
    "axs.plot(t23_p004,np.mod(solr23_p004.y.T,2*np.pi),color='tab:red')\n",
    "\n",
    "# axs.plot(t23_p004*a23_p004.om,np.mod(solr12b_p004.y[0]-a23_p004.om*solr12b_p004.y[2],2*np.pi),color='tab:blue')\n",
    "\n",
    "#axs.plot(t12*a12.om,np.mod(solr12c.y[0]-a12.om*solr12c.y[2],2*np.pi),color='tab:green')\n",
    "#axs.scatter(sol_full.t[::skipn],np.mod(phase2,1),s=1)\n",
    "\n",
    "axs.set_ylim(-.5,2*np.pi+.5)"
   ]
  },
  {
   "cell_type": "markdown",
   "id": "1d267731-878a-40c0-91ee-812c3f3ede6d",
   "metadata": {},
   "source": [
    "# del=0.0042"
   ]
  },
  {
   "cell_type": "code",
   "execution_count": 90,
   "id": "92d03353-b0fa-4b6e-bcb6-33914e8b8b2b",
   "metadata": {
    "editable": true,
    "slideshow": {
     "slide_type": ""
    },
    "tags": []
   },
   "outputs": [
    {
     "name": "stdout",
     "output_type": "stream",
     "text": [
      "pfactor 20\n",
      "* Loading p symbolic...\n",
      "* Loading p symbolic...\n",
      "* Loading H symbolic...\n",
      "* Loading H symbolic...\n",
      "* Computing H thal0_35, order=0...\n",
      "* Computing H thal1_35, order=0...\n",
      "* Computing H thal0_35, order=1...\n",
      "* Computing H thal1_35, order=1...\n",
      "* Computing H thal0_35, order=2...\n",
      "* Computing H thal1_35, order=2...\n",
      "* Computing H thal0_35, order=3...\n",
      "* Computing H thal1_35, order=3...\n"
     ]
    }
   ],
   "source": [
    "del23_p0042 = 0.0042\n",
    "a23_p0042 = nm.nmCoupling(**kw_nm, del1=del23_p0042)"
   ]
  },
  {
   "cell_type": "markdown",
   "id": "645e5a6f-3efa-4686-8350-a7473a594013",
   "metadata": {},
   "source": [
    "## Get Branches Full"
   ]
  },
  {
   "cell_type": "code",
   "execution_count": 85,
   "id": "0fe23506-0fbc-40c6-a16b-918701384914",
   "metadata": {},
   "outputs": [],
   "source": [
    "kw_follow = {'a':a23_p0042,'del1':del23_p0042,'recompute':False,\n",
    "         'bifdir':'bif1d_thal2/','_full_rhs':_full,'max_iter':3}"
   ]
  },
  {
   "cell_type": "code",
   "execution_count": 86,
   "id": "01969258-8e53-491b-9a08-d4a0015caff4",
   "metadata": {},
   "outputs": [],
   "source": [
    "data_list = []"
   ]
  },
  {
   "cell_type": "code",
   "execution_count": 68,
   "id": "9d6e7c78-392b-4602-a518-e5d7b7d740a8",
   "metadata": {},
   "outputs": [],
   "source": [
    "in_dicts = [dict(init=0,eps_init=0.01,eps_final=0.004,deps=-.002),\n",
    "            dict(init=0,eps_init=0.01,eps_final=0.014,deps=.002)]"
   ]
  },
  {
   "cell_type": "code",
   "execution_count": 69,
   "id": "304d5b6c-5898-469f-a3cc-658ac0c34888",
   "metadata": {},
   "outputs": [
    {
     "name": "stdout",
     "output_type": "stream",
     "text": [
      "fname1 td_branch_init=0_nm=23_del=0.005_ei=0.01_ef=0.004_de=-0.002.txt\n",
      "fname2 ts_branch_init=0_nm=23_del=0.005_ei=0.01_ef=0.004_de=-0.002.txt\n",
      "fname1 td_branch_init=0_nm=23_del=0.005_ei=0.01_ef=0.014_de=0.002.txt\n",
      "fname2 ts_branch_init=0_nm=23_del=0.005_ei=0.01_ef=0.014_de=0.002.txt\n"
     ]
    }
   ],
   "source": [
    "for i in range(len(in_dicts)):\n",
    "    in1 = in_dicts[i]\n",
    "    dat = follow_phase_diffs(**in1,**kw_follow)\n",
    "    data_list.append(dat)\n",
    "fname = kw_follow['bifdir']+'hyper_thal2_23_p0042.txt'"
   ]
  },
  {
   "cell_type": "code",
   "execution_count": 70,
   "id": "bb2f205f-a1d8-4d14-b4f3-b7c6a633ad0b",
   "metadata": {},
   "outputs": [],
   "source": [
    "# save hyperparameters\n",
    "hyp_inputs = np.zeros([len(in_dicts),4])\n",
    "for i in range(len(in_dicts)):\n",
    "    hyp_inputs[i,0] = in_dicts[i]['init']\n",
    "    hyp_inputs[i,1] = in_dicts[i]['eps_init']\n",
    "    hyp_inputs[i,2] = in_dicts[i]['eps_final']\n",
    "    hyp_inputs[i,3] = in_dicts[i]['deps']\n",
    "np.savetxt(fname,hyp_inputs)"
   ]
  },
  {
   "cell_type": "markdown",
   "id": "218365d6-58a9-4bc7-bfb0-39d0e3dabdc9",
   "metadata": {},
   "source": [
    "## Get Branches 3D"
   ]
  },
  {
   "cell_type": "code",
   "execution_count": 77,
   "id": "418aaa67-ce3f-4802-bfdf-4d1b2cc7ee30",
   "metadata": {},
   "outputs": [],
   "source": [
    "data_list_r3d = []"
   ]
  },
  {
   "cell_type": "code",
   "execution_count": 78,
   "id": "83550933-fa10-4f44-ade7-d977c77a2eb2",
   "metadata": {},
   "outputs": [],
   "source": [
    "kw_follow_r3d = {'a':a23_p0042,'rhs':_redu_3dc,'recompute':False,\n",
    "                 'bifdir':'bif1d_thal2/','max_iter':5}"
   ]
  },
  {
   "cell_type": "code",
   "execution_count": 79,
   "id": "182caf02-402f-4ada-b5e8-463e06a8be73",
   "metadata": {},
   "outputs": [],
   "source": [
    "in_dicts_r3d = [dict(init=.5,eps_tup=(.03,.04,.005)),\n",
    "                dict(init=.5,eps_tup=(.03,.02,-.005))]"
   ]
  },
  {
   "cell_type": "code",
   "execution_count": 80,
   "id": "64c2a267-5a9b-4171-b597-db92cd9c5000",
   "metadata": {
    "scrolled": true
   },
   "outputs": [
    {
     "name": "stdout",
     "output_type": "stream",
     "text": [
      "eps_tup (0.03, 0.04, 0.005)\n",
      "0.5 <nmCoupling.nmCoupling object at 0x00000280F7AC7FD0> (0.03, 0.04, 0.005) <function _redu_3dc_thal at 0x0000028083E62950>\n",
      "eps iter 0 0.03                -5.41650091 -0.25766903  0.88659507]                                              \n",
      "eps iter 1 0.034999999999999996                1231992 -0.02058367]                                              \n",
      "eps iter 2 0.039999999999999994                1454267 -0.02254643]                                              \n",
      "eps_tup (0.03, 0.02, -0.005)Y=[ 2.18739296 -0.01638358 -0.02730636]                                              \n",
      "0.5 <nmCoupling.nmCoupling object at 0x00000280F7AC7FD0> (0.03, 0.02, -0.005) <function _redu_3dc_thal at 0x0000028083E62950>\n",
      "eps iter 0 0.03                -5.41650091 -0.25766903  0.88659507]                                              \n",
      "eps iter 1 0.024999999999999998                1231992 -0.02058367]                                              \n",
      "iter=5, rel. err =2.13e-01, Y=[-2.10594515 -0.01044939 -0.02065894]                                              \r"
     ]
    }
   ],
   "source": [
    "for i in range(len(in_dicts_r3d)):\n",
    "    in1 = in_dicts_r3d[i]\n",
    "    dat = follow_locking_3d(**in1,**kw_follow_r3d)\n",
    "    data_list_r3d.append(dat)\n",
    "fname = kw_follow_r3d['bifdir']+'hyper_r3d_thal2_23_p0042.txt'"
   ]
  },
  {
   "cell_type": "code",
   "execution_count": 81,
   "id": "594d6ff5-086c-45c1-81e7-545f51689615",
   "metadata": {},
   "outputs": [],
   "source": [
    "# save hyperparameters\n",
    "hyp_inputs = np.zeros([len(in_dicts_r3d),4])\n",
    "for i in range(len(in_dicts_r3d)):\n",
    "    hyp_inputs[i,0] = in_dicts_r3d[i]['init']\n",
    "    hyp_inputs[i,1] = in_dicts_r3d[i]['eps_tup'][0]\n",
    "    hyp_inputs[i,2] = in_dicts_r3d[i]['eps_tup'][1]\n",
    "    hyp_inputs[i,3] = in_dicts_r3d[i]['eps_tup'][2]\n",
    "np.savetxt(fname,hyp_inputs)"
   ]
  },
  {
   "cell_type": "markdown",
   "id": "ac436423-2174-4207-a061-17c40915accd",
   "metadata": {},
   "source": [
    "## Plot"
   ]
  },
  {
   "cell_type": "code",
   "execution_count": 91,
   "id": "be5e9332-0c59-4897-903d-4159c5856cff",
   "metadata": {},
   "outputs": [
    {
     "data": {
      "image/png": "[encoded data removed]",
      "text/plain": [
       "<Figure size 300x200 with 1 Axes>"
      ]
     },
     "metadata": {},
     "output_type": "display_data"
    }
   ],
   "source": [
    "quick_plot_combined(a23_p0042,\n",
    "                    # kw_f={'data_list':data_list},\n",
    "                    # kw_r3d={'data_list':data_list_r3d},\n",
    "                    kw_r={'etup':etup23})"
   ]
  },
  {
   "cell_type": "markdown",
   "id": "b79a099c-4572-4cef-8ebd-624bf1678eaf",
   "metadata": {},
   "source": [
    "# del=0.0045"
   ]
  },
  {
   "cell_type": "code",
   "execution_count": 88,
   "id": "26523e2e-7305-4912-98a7-c0a060a10ef2",
   "metadata": {
    "editable": true,
    "scrolled": true,
    "slideshow": {
     "slide_type": ""
    },
    "tags": []
   },
   "outputs": [
    {
     "name": "stdout",
     "output_type": "stream",
     "text": [
      "pfactor 20\n",
      "* Loading H thal0_35, order=0...\n",
      "* Loading H thal1_35, order=0...\n",
      "* Loading H thal0_35, order=1...\n",
      "* Loading H thal1_35, order=1...\n",
      "* Loading H thal0_35, order=2...\n",
      "* Loading H thal1_35, order=2...\n",
      "* Loading H thal0_35, order=3...\n",
      "* Loading H thal1_35, order=3...\n"
     ]
    }
   ],
   "source": [
    "del23_p0045 = 0.0045\n",
    "a23_p0045 = nm.nmCoupling(**kw_nm, del1=del23_p0045)"
   ]
  },
  {
   "cell_type": "markdown",
   "id": "2ddcaa4d-4897-49ac-8581-3410e4e40ce0",
   "metadata": {},
   "source": [
    "## Get Branches Full"
   ]
  },
  {
   "cell_type": "code",
   "execution_count": 85,
   "id": "684de0ba-1612-4a5d-8fc0-e44e7b12484b",
   "metadata": {},
   "outputs": [],
   "source": [
    "kw_follow = {'a':a23_p0045,'del1':del23_p0045,'recompute':False,\n",
    "         'bifdir':'bif1d_thal2/','_full_rhs':_full,'max_iter':3}"
   ]
  },
  {
   "cell_type": "code",
   "execution_count": 86,
   "id": "6e7faff3-4914-46be-a9f1-dcef44676b2b",
   "metadata": {},
   "outputs": [],
   "source": [
    "data_list = []"
   ]
  },
  {
   "cell_type": "code",
   "execution_count": 68,
   "id": "f3fca8bf-4f67-49a0-924a-b63a9eeede73",
   "metadata": {},
   "outputs": [],
   "source": [
    "in_dicts = [dict(init=0,eps_init=0.01,eps_final=0.004,deps=-.002),\n",
    "            dict(init=0,eps_init=0.01,eps_final=0.014,deps=.002)]"
   ]
  },
  {
   "cell_type": "code",
   "execution_count": 69,
   "id": "9af5ce5b-2615-4d45-b8d6-a4cfb593cf67",
   "metadata": {},
   "outputs": [
    {
     "name": "stdout",
     "output_type": "stream",
     "text": [
      "fname1 td_branch_init=0_nm=23_del=0.005_ei=0.01_ef=0.004_de=-0.002.txt\n",
      "fname2 ts_branch_init=0_nm=23_del=0.005_ei=0.01_ef=0.004_de=-0.002.txt\n",
      "fname1 td_branch_init=0_nm=23_del=0.005_ei=0.01_ef=0.014_de=0.002.txt\n",
      "fname2 ts_branch_init=0_nm=23_del=0.005_ei=0.01_ef=0.014_de=0.002.txt\n"
     ]
    }
   ],
   "source": [
    "for i in range(len(in_dicts)):\n",
    "    in1 = in_dicts[i]\n",
    "    dat = follow_phase_diffs(**in1,**kw_follow)\n",
    "    data_list.append(dat)\n",
    "fname = kw_follow['bifdir']+'hyper_thal2_23_p0045.txt'"
   ]
  },
  {
   "cell_type": "code",
   "execution_count": 70,
   "id": "7158b76c-1578-4cc2-b209-f3cd84b7fe32",
   "metadata": {},
   "outputs": [],
   "source": [
    "# save hyperparameters\n",
    "hyp_inputs = np.zeros([len(in_dicts),4])\n",
    "for i in range(len(in_dicts)):\n",
    "    hyp_inputs[i,0] = in_dicts[i]['init']\n",
    "    hyp_inputs[i,1] = in_dicts[i]['eps_init']\n",
    "    hyp_inputs[i,2] = in_dicts[i]['eps_final']\n",
    "    hyp_inputs[i,3] = in_dicts[i]['deps']\n",
    "np.savetxt(fname,hyp_inputs)"
   ]
  },
  {
   "cell_type": "markdown",
   "id": "c13b57d5-7f49-4629-acc9-cc72128f7631",
   "metadata": {},
   "source": [
    "## Get Branches 3D"
   ]
  },
  {
   "cell_type": "code",
   "execution_count": 77,
   "id": "c9277283-c249-4229-8a8a-710ee2acfaa9",
   "metadata": {},
   "outputs": [],
   "source": [
    "data_list_r3d = []"
   ]
  },
  {
   "cell_type": "code",
   "execution_count": 78,
   "id": "1e6a40c7-25a1-4cf9-9db1-aa3af72d877f",
   "metadata": {},
   "outputs": [],
   "source": [
    "kw_follow_r3d = {'a':a23_p0045,'rhs':_redu_3dc,'recompute':False,\n",
    "                 'bifdir':'bif1d_thal2/','max_iter':5}"
   ]
  },
  {
   "cell_type": "code",
   "execution_count": 79,
   "id": "7549a89b-37e3-442b-95ec-bd0a85fb0464",
   "metadata": {},
   "outputs": [],
   "source": [
    "in_dicts_r3d = [dict(init=.5,eps_tup=(.03,.04,.005)),\n",
    "                dict(init=.5,eps_tup=(.03,.02,-.005))]"
   ]
  },
  {
   "cell_type": "code",
   "execution_count": 80,
   "id": "c040e5b2-edf0-4bcc-9ee0-6e66a84be397",
   "metadata": {
    "scrolled": true
   },
   "outputs": [
    {
     "name": "stdout",
     "output_type": "stream",
     "text": [
      "eps_tup (0.03, 0.04, 0.005)\n",
      "0.5 <nmCoupling.nmCoupling object at 0x00000280F7AC7FD0> (0.03, 0.04, 0.005) <function _redu_3dc_thal at 0x0000028083E62950>\n",
      "eps iter 0 0.03                -5.41650091 -0.25766903  0.88659507]                                              \n",
      "eps iter 1 0.034999999999999996                1231992 -0.02058367]                                              \n",
      "eps iter 2 0.039999999999999994                1454267 -0.02254643]                                              \n",
      "eps_tup (0.03, 0.02, -0.005)Y=[ 2.18739296 -0.01638358 -0.02730636]                                              \n",
      "0.5 <nmCoupling.nmCoupling object at 0x00000280F7AC7FD0> (0.03, 0.02, -0.005) <function _redu_3dc_thal at 0x0000028083E62950>\n",
      "eps iter 0 0.03                -5.41650091 -0.25766903  0.88659507]                                              \n",
      "eps iter 1 0.024999999999999998                1231992 -0.02058367]                                              \n",
      "iter=5, rel. err =2.13e-01, Y=[-2.10594515 -0.01044939 -0.02065894]                                              \r"
     ]
    }
   ],
   "source": [
    "for i in range(len(in_dicts_r3d)):\n",
    "    in1 = in_dicts_r3d[i]\n",
    "    dat = follow_locking_3d(**in1,**kw_follow_r3d)\n",
    "    data_list_r3d.append(dat)\n",
    "fname = kw_follow_r3d['bifdir']+'hyper_r3d_thal2_23_p0045.txt'"
   ]
  },
  {
   "cell_type": "code",
   "execution_count": 81,
   "id": "cc4268f5-0fc4-4ffd-906e-1612f813ec2f",
   "metadata": {},
   "outputs": [],
   "source": [
    "# save hyperparameters\n",
    "hyp_inputs = np.zeros([len(in_dicts_r3d),4])\n",
    "for i in range(len(in_dicts_r3d)):\n",
    "    hyp_inputs[i,0] = in_dicts_r3d[i]['init']\n",
    "    hyp_inputs[i,1] = in_dicts_r3d[i]['eps_tup'][0]\n",
    "    hyp_inputs[i,2] = in_dicts_r3d[i]['eps_tup'][1]\n",
    "    hyp_inputs[i,3] = in_dicts_r3d[i]['eps_tup'][2]\n",
    "np.savetxt(fname,hyp_inputs)"
   ]
  },
  {
   "cell_type": "markdown",
   "id": "71fa9ebd-e1e7-4a16-bec9-a00eefbe71e9",
   "metadata": {},
   "source": [
    "## Plot"
   ]
  },
  {
   "cell_type": "code",
   "execution_count": 89,
   "id": "c92047eb-8c33-4f92-84c6-c13082fe562b",
   "metadata": {},
   "outputs": [
    {
     "data": {
      "image/png": "[encoded data removed]",
      "text/plain": [
       "<Figure size 300x200 with 1 Axes>"
      ]
     },
     "metadata": {},
     "output_type": "display_data"
    }
   ],
   "source": [
    "quick_plot_combined(a23_p0045,\n",
    "                    # kw_f={'data_list':data_list},\n",
    "                    # kw_r3d={'data_list':data_list_r3d},\n",
    "                    kw_r={'etup':etup23})"
   ]
  },
  {
   "cell_type": "markdown",
   "id": "e50c14e7-36b7-42a7-ac8d-45db300bc213",
   "metadata": {},
   "source": [
    "# del=0.005"
   ]
  },
  {
   "cell_type": "code",
   "execution_count": 65,
   "id": "5aea8544-f33f-4c9f-9626-41ff10573547",
   "metadata": {
    "editable": true,
    "scrolled": true,
    "slideshow": {
     "slide_type": ""
    },
    "tags": []
   },
   "outputs": [
    {
     "name": "stdout",
     "output_type": "stream",
     "text": [
      "pfactor 20\n",
      "* Loading p symbolic...\n",
      "* Loading p symbolic...\n",
      "* Loading H symbolic...\n",
      "* Loading H symbolic...\n",
      "* Computing H thal0_35, order=0...\n",
      "* Computing H thal1_35, order=0...\n",
      "* Computing H thal0_35, order=1...\n",
      "* Computing H thal1_35, order=1...\n",
      "* Computing H thal0_35, order=2...\n",
      "* Computing H thal1_35, order=2...\n",
      "* Computing H thal0_35, order=3...\n",
      "* Computing H thal1_35, order=3...\n"
     ]
    }
   ],
   "source": [
    "del23_p005 = 0.005\n",
    "a23_p005 = nm.nmCoupling(**kw_nm, del1=del23_p005)"
   ]
  },
  {
   "cell_type": "markdown",
   "id": "d5ccc928-94e1-4e8d-9a9f-389f547af4e7",
   "metadata": {},
   "source": [
    "## Get Branches Full"
   ]
  },
  {
   "cell_type": "code",
   "execution_count": 66,
   "id": "d233716e-1d3d-466b-bbc6-3663e9911332",
   "metadata": {},
   "outputs": [],
   "source": [
    "kw_follow = {'a':a23_p005,'del1':del23_p005,'recompute':False,\n",
    "         'bifdir':'bif1d_thal2/','_full_rhs':_full,'max_iter':3}"
   ]
  },
  {
   "cell_type": "code",
   "execution_count": 67,
   "id": "4e483b85-5c3a-47a8-81f6-0509f9d74d02",
   "metadata": {},
   "outputs": [],
   "source": [
    "data_list = []"
   ]
  },
  {
   "cell_type": "code",
   "execution_count": 68,
   "id": "c812e36a-f316-4d02-b801-9cd6216c7637",
   "metadata": {},
   "outputs": [],
   "source": [
    "in_dicts = [dict(init=0,eps_init=0.01,eps_final=0.004,deps=-.002),\n",
    "            dict(init=0,eps_init=0.01,eps_final=0.014,deps=.002)]"
   ]
  },
  {
   "cell_type": "code",
   "execution_count": 69,
   "id": "0d818bad-6596-4b6e-ae13-b7d897f40f8a",
   "metadata": {},
   "outputs": [
    {
     "name": "stdout",
     "output_type": "stream",
     "text": [
      "fname1 td_branch_init=0_nm=23_del=0.005_ei=0.01_ef=0.004_de=-0.002.txt\n",
      "fname2 ts_branch_init=0_nm=23_del=0.005_ei=0.01_ef=0.004_de=-0.002.txt\n",
      "fname1 td_branch_init=0_nm=23_del=0.005_ei=0.01_ef=0.014_de=0.002.txt\n",
      "fname2 ts_branch_init=0_nm=23_del=0.005_ei=0.01_ef=0.014_de=0.002.txt\n"
     ]
    }
   ],
   "source": [
    "for i in range(len(in_dicts)):\n",
    "    in1 = in_dicts[i]\n",
    "    dat = follow_phase_diffs(**in1,**kw_follow)\n",
    "    data_list.append(dat)\n",
    "fname = kw_follow['bifdir']+'hyper_thal2_23_p005.txt'"
   ]
  },
  {
   "cell_type": "code",
   "execution_count": 70,
   "id": "f4af71c1-31bf-49c5-a005-34c99d2d5606",
   "metadata": {},
   "outputs": [],
   "source": [
    "# save hyperparameters\n",
    "hyp_inputs = np.zeros([len(in_dicts),4])\n",
    "for i in range(len(in_dicts)):\n",
    "    hyp_inputs[i,0] = in_dicts[i]['init']\n",
    "    hyp_inputs[i,1] = in_dicts[i]['eps_init']\n",
    "    hyp_inputs[i,2] = in_dicts[i]['eps_final']\n",
    "    hyp_inputs[i,3] = in_dicts[i]['deps']\n",
    "np.savetxt(fname,hyp_inputs)"
   ]
  },
  {
   "cell_type": "markdown",
   "id": "197b398b-307a-47b6-8206-de595c159186",
   "metadata": {},
   "source": [
    "## Get Branches 3D"
   ]
  },
  {
   "cell_type": "code",
   "execution_count": 77,
   "id": "6e8ce00c-f033-453b-88b3-8535f9470a44",
   "metadata": {},
   "outputs": [],
   "source": [
    "data_list_r3d = []"
   ]
  },
  {
   "cell_type": "code",
   "execution_count": 78,
   "id": "16670d6f-b2ad-4ea6-a453-295e400828fb",
   "metadata": {},
   "outputs": [],
   "source": [
    "kw_follow_r3d = {'a':a23_p005,'rhs':_redu_3dc,'recompute':False,\n",
    "                 'bifdir':'bif1d_thal2/','max_iter':5}"
   ]
  },
  {
   "cell_type": "code",
   "execution_count": 79,
   "id": "2dee1202-dd74-41b1-b49e-02edd7ec7db9",
   "metadata": {},
   "outputs": [],
   "source": [
    "in_dicts_r3d = [dict(init=.5,eps_tup=(.03,.04,.005)),\n",
    "                dict(init=.5,eps_tup=(.03,.02,-.005))]"
   ]
  },
  {
   "cell_type": "code",
   "execution_count": 80,
   "id": "d2064537-0d75-4723-87f2-a4129de2c0cd",
   "metadata": {
    "scrolled": true
   },
   "outputs": [
    {
     "name": "stdout",
     "output_type": "stream",
     "text": [
      "eps_tup (0.03, 0.04, 0.005)\n",
      "0.5 <nmCoupling.nmCoupling object at 0x00000280F7AC7FD0> (0.03, 0.04, 0.005) <function _redu_3dc_thal at 0x0000028083E62950>\n",
      "eps iter 0 0.03                -5.41650091 -0.25766903  0.88659507]                                              \n",
      "eps iter 1 0.034999999999999996                1231992 -0.02058367]                                              \n",
      "eps iter 2 0.039999999999999994                1454267 -0.02254643]                                              \n",
      "eps_tup (0.03, 0.02, -0.005)Y=[ 2.18739296 -0.01638358 -0.02730636]                                              \n",
      "0.5 <nmCoupling.nmCoupling object at 0x00000280F7AC7FD0> (0.03, 0.02, -0.005) <function _redu_3dc_thal at 0x0000028083E62950>\n",
      "eps iter 0 0.03                -5.41650091 -0.25766903  0.88659507]                                              \n",
      "eps iter 1 0.024999999999999998                1231992 -0.02058367]                                              \n",
      "iter=5, rel. err =2.13e-01, Y=[-2.10594515 -0.01044939 -0.02065894]                                              \r"
     ]
    }
   ],
   "source": [
    "for i in range(len(in_dicts_r3d)):\n",
    "    in1 = in_dicts_r3d[i]\n",
    "    dat = follow_locking_3d(**in1,**kw_follow_r3d)\n",
    "    data_list_r3d.append(dat)\n",
    "fname = kw_follow_r3d['bifdir']+'hyper_r3d_thal2_23_p005.txt'"
   ]
  },
  {
   "cell_type": "code",
   "execution_count": 81,
   "id": "d68786cb-d6e1-4777-9884-be0dc95ca2ff",
   "metadata": {},
   "outputs": [],
   "source": [
    "# save hyperparameters\n",
    "hyp_inputs = np.zeros([len(in_dicts_r3d),4])\n",
    "for i in range(len(in_dicts_r3d)):\n",
    "    hyp_inputs[i,0] = in_dicts_r3d[i]['init']\n",
    "    hyp_inputs[i,1] = in_dicts_r3d[i]['eps_tup'][0]\n",
    "    hyp_inputs[i,2] = in_dicts_r3d[i]['eps_tup'][1]\n",
    "    hyp_inputs[i,3] = in_dicts_r3d[i]['eps_tup'][2]\n",
    "np.savetxt(fname,hyp_inputs)"
   ]
  },
  {
   "cell_type": "markdown",
   "id": "ffaadaf2-d9c7-4359-834e-0730770ff400",
   "metadata": {},
   "source": [
    "## Plot"
   ]
  },
  {
   "cell_type": "code",
   "execution_count": 82,
   "id": "2730e574-d9f5-47a2-9bbe-6caf02f3770f",
   "metadata": {},
   "outputs": [
    {
     "data": {
      "image/png": "[encoded data removed]",
      "text/plain": [
       "<Figure size 300x200 with 1 Axes>"
      ]
     },
     "metadata": {},
     "output_type": "display_data"
    },
    {
     "data": {
      "image/png": "[encoded data removed]",
      "text/plain": [
       "<Figure size 300x400 with 2 Axes>"
      ]
     },
     "metadata": {},
     "output_type": "display_data"
    }
   ],
   "source": [
    "quick_plot_combined(a23_p005,\n",
    "                    kw_f={'data_list':data_list},\n",
    "                    kw_r3d={'data_list':data_list_r3d},\n",
    "                    kw_r={'etup':etup23})"
   ]
  },
  {
   "cell_type": "code",
   "execution_count": null,
   "id": "70ada2ae-a17b-4c67-adea-c97421f7ef6c",
   "metadata": {},
   "outputs": [],
   "source": []
  }
 ],
 "metadata": {
  "kernelspec": {
   "display_name": "Python 3 (ipykernel)",
   "language": "python",
   "name": "python3"
  },
  "language_info": {
   "codemirror_mode": {
    "name": "ipython",
    "version": 3
   },
   "file_extension": ".py",
   "mimetype": "text/x-python",
   "name": "python",
   "nbconvert_exporter": "python",
   "pygments_lexer": "ipython3",
   "version": "3.10.14"
  }
 },
 "nbformat": 4,
 "nbformat_minor": 5
}
