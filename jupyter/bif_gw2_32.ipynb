{
 "cells": [
  {
   "cell_type": "markdown",
   "id": "23e42e58-3a01-4071-805d-601b71b38b10",
   "metadata": {},
   "source": [
    "# gw2 3:2 Bifurcation Diagrams"
   ]
  },
  {
   "cell_type": "markdown",
   "id": "eead68f0-8581-493c-bebe-3df044f84f09",
   "metadata": {},
   "source": [
    "# Inits"
   ]
  },
  {
   "cell_type": "code",
   "execution_count": 1,
   "id": "bff2b64f-30fb-4920-bf9c-e04a6d6b4c29",
   "metadata": {},
   "outputs": [],
   "source": [
    "import sys; sys.path.insert(0, '..') # add parent folder path where lib folder is\n",
    "# user-defined\n",
    "import nmCoupling as nm\n",
    "# import nmCoupling_old as nm\n",
    "import response as rp\n",
    "\n",
    "import gw2\n",
    "\n",
    "from lib.util import (get_phase, freq_est, get_tongue_1d, pl_exist_1d, \n",
    "get_period, bif1d, follow_phase_diffs, phase_lock_r3d, follow_locking_3d)\n",
    "\n",
    "from lib.rhs import _redu_3dc_gw as _redu_3dc\n",
    "\n",
    "from lib.rhs import _redu_c,_full\n",
    "from lib.plot_util import add_diagram_1d_scatter, quick_plot_combined\n",
    "\n",
    "import numpy as np\n",
    "import scipy as sp\n",
    "import matplotlib.pyplot as plt\n",
    "from scipy.integrate import solve_ivp\n",
    "import sympy as sym\n",
    "\n",
    "from scipy.optimize import root,bisect\n",
    "from copy import deepcopy\n",
    "import os\n",
    "\n",
    "plt.rcParams.update({\n",
    "    \"text.usetex\": True,\n",
    "    \"font.family\": \"Helvetica\"\n",
    "})\n",
    "\n",
    "nmc = nm.nmCoupling\n",
    "rsp = rp.Response"
   ]
  },
  {
   "cell_type": "markdown",
   "id": "a1bb017e-41f4-4086-b284-822ae4712d82",
   "metadata": {},
   "source": [
    "## Dicts"
   ]
  },
  {
   "cell_type": "code",
   "execution_count": 2,
   "id": "d335ab16-8a22-4cc3-8433-8c24d50cef45",
   "metadata": {},
   "outputs": [],
   "source": [
    "kw_sim = {'rtol':1e-8,'atol':1e-8,'method':'LSODA'}"
   ]
  },
  {
   "cell_type": "code",
   "execution_count": 3,
   "id": "b4fb5202-c665-4c48-974b-859ec845ff1e",
   "metadata": {},
   "outputs": [],
   "source": [
    "pd1 = {'v1':.84,'v2':.42,'v4':.35,'v6':.35,'v8':1,\n",
    "           'k1':1,'k2':1,'k3':.7,'k4':1,'k5':.7,\n",
    "           'k6':1,'k7':.35,'k8':1,'K':0.5,'kc':1,\n",
    "           'n':6,'L':0,'eps':0,'del':0,'om':1,'om_fix':1}"
   ]
  },
  {
   "cell_type": "code",
   "execution_count": 4,
   "id": "53cc056f-badd-4d78-b4f8-bacad65a540e",
   "metadata": {
    "editable": true,
    "slideshow": {
     "slide_type": ""
    },
    "tags": []
   },
   "outputs": [],
   "source": [
    "kws1 = {'var_names':['x','y','z','v'],\n",
    "        'pardict':pd1,\n",
    "        'rhs':gw2.rhs,\n",
    "        'coupling':gw2.coupling,\n",
    "        'init':np.array([.3882,.523,1.357,.4347,24.2]),\n",
    "        'TN':10000,\n",
    "        'trunc_order':3,\n",
    "        'z_forward':False,\n",
    "        'i_forward':[False,True,False,False,False,False,False,False],\n",
    "        'i_bad_dx':[False,True,False,False,False,False,False,False],\n",
    "        'max_iter':50,\n",
    "        'rtol':1e-12,\n",
    "        'atol':1e-12,\n",
    "        'rel_tol':1e-9,\n",
    "        'save_fig':False,\n",
    "        'lc_prominence':.05,\n",
    "        'factor':0.5}"
   ]
  },
  {
   "cell_type": "markdown",
   "id": "3dfd6884-d02b-4ee8-a95a-6f9f80be3686",
   "metadata": {},
   "source": [
    "## Defs"
   ]
  },
  {
   "cell_type": "code",
   "execution_count": 5,
   "id": "4864d4ba-915e-4030-8a3f-a52585de12b9",
   "metadata": {},
   "outputs": [],
   "source": [
    "kw_bif = {'method':'LSODA','dense_output':True,'rtol':1e-9,'atol':1e-9}"
   ]
  },
  {
   "cell_type": "code",
   "execution_count": 6,
   "id": "dcb71253-ba88-4cc2-9d01-7c011891b5d5",
   "metadata": {},
   "outputs": [],
   "source": [
    "eps_list32r = np.linspace(0.001,.1,50)\n",
    "etup32 = (.001,.1,50)"
   ]
  },
  {
   "cell_type": "code",
   "execution_count": 7,
   "id": "0a8b29ab-d115-4d56-a0d0-249340085080",
   "metadata": {
    "editable": true,
    "slideshow": {
     "slide_type": ""
    },
    "tags": []
   },
   "outputs": [],
   "source": [
    "x_temp = np.linspace(-np.pi,3*np.pi,500)"
   ]
  },
  {
   "cell_type": "markdown",
   "id": "a97a9a8f-f2e9-4107-81ba-aeae83e39456",
   "metadata": {},
   "source": [
    "## Initialize Response Functions"
   ]
  },
  {
   "cell_type": "code",
   "execution_count": 8,
   "id": "e202b364-f6e1-488a-9a21-e8608cc4c558",
   "metadata": {
    "editable": true,
    "slideshow": {
     "slide_type": ""
    },
    "tags": []
   },
   "outputs": [
    {
     "name": "stdout",
     "output_type": "stream",
     "text": [
      "mkdir ./data/gw0/\n",
      "* Loading LC data...\n",
      "self.T 6.283185307179586 omfix 3.8590183230656914\n",
      "* Loading monodromy...\n",
      "* Floquet Exponent kappa =-0.15846659975489297\n",
      "* Loading g symbolic...\n",
      "* Computing g...\n",
      "* Loading heterogeneous terms...\n",
      "* Computing z...\n",
      "* Computing i...\n",
      "mkdir ./data/gw1/\n",
      "* Loading LC data...\n",
      "self.T 6.283185307179586 omfix 3.8590183230656914\n",
      "* Loading monodromy...\n",
      "* Floquet Exponent kappa =-0.15846659975489297\n",
      "* Loading g symbolic...\n",
      "* Computing g...\n",
      "* Loading heterogeneous terms...\n",
      "* Computing z...\n",
      "* Computing i...\n"
     ]
    }
   ],
   "source": [
    "system1 = rsp(idx=0,model_name='gw0',**kws1)\n",
    "system2 = rsp(idx=1,model_name='gw1',**kws1)"
   ]
  },
  {
   "cell_type": "code",
   "execution_count": 9,
   "id": "da28b53d-a7da-4f0f-8da3-ab66d0c257e4",
   "metadata": {},
   "outputs": [],
   "source": [
    "kw_nm = {'system1':system1,'system2':system2,'_n':('om0',3),'_m':('om1',2),\n",
    "         'NH':2048,'save_fig':False}"
   ]
  },
  {
   "cell_type": "markdown",
   "id": "3452bb04-11f1-439a-8d9c-76d8c9fed3da",
   "metadata": {},
   "source": [
    "# del=0.0"
   ]
  },
  {
   "cell_type": "code",
   "execution_count": 10,
   "id": "40d9118e-696d-4a9a-985d-69971b4ce5b8",
   "metadata": {
    "editable": true,
    "slideshow": {
     "slide_type": ""
    },
    "tags": []
   },
   "outputs": [
    {
     "name": "stdout",
     "output_type": "stream",
     "text": [
      "pfactor 4\n",
      "* Loading p symbolic...\n",
      "* Loading p symbolic...\n",
      "* Loading H symbolic...\n",
      "* Loading H symbolic...\n",
      "* Loading H gw0, order=0...\n",
      "* Loading H gw1, order=0...\n",
      "* Loading H gw0, order=1...\n",
      "* Loading H gw1, order=1...\n",
      "* Loading H gw0, order=2...\n",
      "* Loading H gw1, order=2...\n",
      "* Loading H gw0, order=3...\n",
      "* Loading H gw1, order=3...\n"
     ]
    }
   ],
   "source": [
    "del32_p0 = 0\n",
    "a32_p0 = nm.nmCoupling(**kw_nm, del1=del32_p0)"
   ]
  },
  {
   "cell_type": "markdown",
   "id": "b3a14cf0-1fe0-45c7-91b0-6e9974bd5d35",
   "metadata": {},
   "source": [
    "## Get Branches Full"
   ]
  },
  {
   "cell_type": "code",
   "execution_count": 11,
   "id": "6777e957-9ba4-43b1-a2b5-110bb2d29278",
   "metadata": {},
   "outputs": [],
   "source": [
    "kw_p0 = {'a':a32_p0,'del1':del32_p0,'recompute':False,\n",
    "         'bifdir':'bif1d_gw2/','_full_rhs':_full}"
   ]
  },
  {
   "cell_type": "code",
   "execution_count": 12,
   "id": "0ca796fa-6403-4cc3-88ae-f638f7483d68",
   "metadata": {},
   "outputs": [],
   "source": [
    "data_p0_list = []"
   ]
  },
  {
   "cell_type": "code",
   "execution_count": 13,
   "id": "70ab27c0-8d26-4a21-8ee7-6415c58205fb",
   "metadata": {},
   "outputs": [],
   "source": [
    "in_dicts = [dict(init=0,eps_init=0.1,eps_final=0.009,deps=-.01),\n",
    "           dict(init=0,eps_init=0.01,eps_final=0.0005,deps=-.001)]"
   ]
  },
  {
   "cell_type": "code",
   "execution_count": 14,
   "id": "d63bee01-1893-4b4b-9524-cda03dfaa6a5",
   "metadata": {
    "scrolled": true
   },
   "outputs": [
    {
     "name": "stdout",
     "output_type": "stream",
     "text": [
      "fname1 td_branch_init=0_nm=32_del=0_ei=0.1_ef=0.009_de=-0.01.txt\n",
      "fname2 ts_branch_init=0_nm=32_del=0_ei=0.1_ef=0.009_de=-0.01.txt\n",
      "init [0.36989302 0.51170413 1.37486086 0.12208537 0.15078954 0.72488035 2.46710484 0.08100549 6.38031463]\n",
      "eps iter 0 0.1                \n",
      "t1,t2 2.6239300861111072 2.0861580301324714                             \n",
      "t1,t2 5.823249470892953 2.0861580301324714\n",
      "periods [2.17978047 2.08398339 2.11655077 3.17871597 3.20159875]\n",
      "eps iter 1 0.09000000000000001                \n",
      "t1,t2 2.6317256533977074 2.083644173333326                              \n",
      "t1,t2 5.832868135249847 2.083644173333326\n",
      "periods [2.17137001 2.08627463 2.11338263 3.17597585 3.19505143]\n",
      "eps iter 2 0.08000000000000002                \n",
      "t1,t2 2.6363291742605064 2.0810313796088304                             \n",
      "t1,t2 5.828200929877425 2.0810313796088304\n",
      "periods [2.16291271 2.08830574 2.11044221 3.17303183 3.18862892]\n",
      "eps iter 3 0.07000000000000002                \n",
      "t1,t2 2.631125171364573 2.0772814066029675                              \n",
      "t1,t2 5.817019190734964 2.0772814066029675\n",
      "periods [2.15442908 2.09006724 2.10771001 3.16986353 3.1823427 ]\n",
      "eps iter 4 0.060000000000000026                \n",
      "t1,t2 2.635543073810079 2.078788948999943                               \n",
      "t1,t2 5.822188891839413 2.078788948999943\n",
      "periods [2.14590978 2.0915596  2.10518438 3.16649153 3.17616817]\n",
      "eps iter 5 0.05000000000000003                \n",
      "t1,t2 2.634001191371418 2.075999176490108                               \n",
      "t1,t2 5.8173257563478025 2.075999176490108\n",
      "periods [2.1373645  2.09277056 2.10287425 3.16289001 3.17012266]\n",
      "eps iter 6 0.040000000000000036                \n",
      "t1,t2 2.648306783763727 2.07311848974058                                \n",
      "t1,t2 5.811035808287005 2.07311848974058\n",
      "periods [2.12880489 2.09368898 2.10076473 3.15906633 3.16419293]\n",
      "eps iter 7 0.03000000000000004                \n",
      "t1,t2 2.643821289740858 2.070123789561705                               \n",
      "t1,t2 5.8084526393049405 2.070123789561705\n",
      "periods [2.1202199  2.09432195 2.09885816 3.1550324  3.15836769]\n",
      "eps iter 8 0.020000000000000046                \n",
      "t1,t2 2.643179661599078 2.0674569753801513                              \n",
      "t1,t2 5.801338025654986 2.0674569753801513\n",
      "periods [2.11162269 2.09464617 2.09716649 3.15077113 3.15266411]\n",
      "eps iter 9 0.01000000000000005                \n",
      "t1,t2 2.6405551991031473 2.064277735170552                              \n",
      "t1,t2 5.799774346308249 2.064277735170552\n",
      "periods [2.10301051 2.09467566 2.09567663 3.14629291 3.14707358]\n",
      "fname1 td_branch_init=0_nm=32_del=0_ei=0.01_ef=0.0005_de=-0.001.txt\n",
      "fname2 ts_branch_init=0_nm=32_del=0_ei=0.01_ef=0.0005_de=-0.001.txt\n",
      "init [0.38832563 0.52115832 1.35433449 0.1271008  0.04857846 0.05767191 1.59237709 0.01086615 6.2940624 ]\n",
      "eps iter 0 0.01                \n",
      "t1,t2 0.5912722933099073 2.1146328956849207                              \n",
      "t1,t2 3.7471264887893057 2.1146328956849207\n",
      "periods [2.09567663 2.1030122  2.09467688 3.14707365 3.14629314]\n",
      "eps iter 1 0.009000000000000001                \n",
      "t1,t2 0.5913544516840773 2.1141684892325068                             \n",
      "t1,t2 3.74699960869057 2.1141684892325068\n",
      "periods [2.09554248 2.10214593 2.09466744 3.14651867 3.14582751]\n",
      "eps iter 2 0.008000000000000002                \n",
      "t1,t2 0.5914365816717143 2.111454146649558                              \n",
      "t1,t2 3.743270300990079 2.111454146649558\n",
      "periods [2.09540434 2.10128802 2.09464388 3.14596579 3.14537134]\n",
      "eps iter 3 0.007000000000000003                \n",
      "t1,t2 0.5915192189892856 2.1113032335325457                             \n",
      "t1,t2 3.7429578784823723 2.1113032335325457\n",
      "periods [2.09527077 2.10042906 2.09462131 3.14541061 3.14491055]\n",
      "eps iter 4 0.006000000000000004                \n",
      "t1,t2 0.5916025668394552 2.1075142300768506                             \n",
      "t1,t2 3.7466273956124105 2.1075142300768506\n",
      "periods [2.0951409  2.09956609 2.09459794 3.14486283 3.14444209]\n",
      "eps iter 5 0.0050000000000000044                \n",
      "t1,t2 0.5916857040663874 2.1072481152408593                             \n",
      "t1,t2 3.746355196023185 2.1072481152408593\n",
      "periods [2.09501021 2.09870342 2.09457401 3.14431953 3.14396809]\n",
      "eps iter 6 0.004000000000000005                \n",
      "t1,t2 0.5917683894026542 2.1061978728654607                             \n",
      "t1,t2 3.745346072044695 2.1061978728654607\n",
      "periods [2.0948829  2.09784432 2.09454205 3.14376847 3.14350071]\n",
      "eps iter 7 0.003000000000000006                \n",
      "t1,t2 0.5918532482030697 2.1051547636355896                             \n",
      "t1,t2 3.7443713698798504 2.1051547636355896\n",
      "periods [2.09475757 2.09698169 2.09451066 3.14322472 3.14302522]\n",
      "eps iter 8 0.002000000000000007                \n",
      "t1,t2 0.5919383070903826 2.104120922975426                              \n",
      "t1,t2 3.7434276304465266 2.104120922975426\n",
      "periods [2.09463501 2.09611867 2.09447563 3.14267873 3.14254946]\n",
      "eps iter 9 0.0010000000000000078                \n",
      "t1,t2 0.5920243608065892 2.10449977493994                               \n",
      "t1,t2 3.7414482991190705 2.10449977493994\n",
      "periods [2.09451425 2.09525639 2.09443726 3.14213838 3.1420747 ]\n"
     ]
    }
   ],
   "source": [
    "for i in range(len(in_dicts)):\n",
    "    in1 = in_dicts[i]\n",
    "    dat = follow_phase_diffs(**in1,**kw_p0)\n",
    "    data_p0_list.append(dat)\n",
    "fname = kw_p0['bifdir']+'hyper_gw2_32_p0.txt'"
   ]
  },
  {
   "cell_type": "code",
   "execution_count": 15,
   "id": "49b71da1-d7fc-4b39-9e95-bb40326dec95",
   "metadata": {},
   "outputs": [],
   "source": [
    "# save hyperparameters\n",
    "hyp_inputs = np.zeros([len(in_dicts),4])\n",
    "for i in range(len(in_dicts)):\n",
    "    hyp_inputs[i,0] = in_dicts[i]['init']\n",
    "    hyp_inputs[i,1] = in_dicts[i]['eps_init']\n",
    "    hyp_inputs[i,2] = in_dicts[i]['eps_final']\n",
    "    hyp_inputs[i,3] = in_dicts[i]['deps']\n",
    "np.savetxt(fname,hyp_inputs)"
   ]
  },
  {
   "cell_type": "markdown",
   "id": "f6f5ad9f-368a-4251-b5ca-80c9c65bdb91",
   "metadata": {},
   "source": [
    "## Get Branches 3D"
   ]
  },
  {
   "cell_type": "code",
   "execution_count": 16,
   "id": "5d84137f-13c9-47dd-b730-511dfb6f70a3",
   "metadata": {},
   "outputs": [],
   "source": [
    "data_r3d_p0_list = []"
   ]
  },
  {
   "cell_type": "code",
   "execution_count": null,
   "id": "09e39138-355c-4321-aee3-6a9f04ddb761",
   "metadata": {},
   "outputs": [],
   "source": [
    "in_dicts = [dict(a=a32_p0,Y=[1,0,0],eps_init=0.1,eps_final=0.009,deps=-.01),\n",
    "            dict(init=0,eps_init=0.01,eps_final=0.0005,deps=-.001)]"
   ]
  },
  {
   "cell_type": "code",
   "execution_count": 17,
   "id": "38930830-55c0-4bea-8fe0-2b5de9d91d6a",
   "metadata": {
    "scrolled": true
   },
   "outputs": [
    {
     "name": "stdout",
     "output_type": "stream",
     "text": [
      "t_diff 1.75127436143962362, Y=[14.31764498 -0.04008436 -0.04001829]                                              \n",
      "[ 1.7513 -0.0401 -0.04  ]\n"
     ]
    }
   ],
   "source": [
    "# find init for this branch\n",
    "_,init = phase_lock_r3d(**in_dicts,a32_p0,.05,_redu_3dc)\n",
    "print(init)"
   ]
  },
  {
   "cell_type": "code",
   "execution_count": 18,
   "id": "7952cc2c-0030-45d2-b97d-1f403bfa7d85",
   "metadata": {
    "scrolled": true
   },
   "outputs": [],
   "source": [
    "# bot 1f\n",
    "dat = follow_locking_3d(init,a32_p0,(.05,.11,.01),\n",
    "                        rhs=_redu_3dc,recompute=False)\n",
    "data_r3d_p0_list.append(dat)"
   ]
  },
  {
   "cell_type": "code",
   "execution_count": 19,
   "id": "b8ebd018-080e-489f-bf88-a2e0fa303bc9",
   "metadata": {
    "scrolled": true
   },
   "outputs": [],
   "source": [
    "# bot 1b\n",
    "dat = follow_locking_3d(init,a32_p0,(.05,.001,-.001),\n",
    "                        rhs=_redu_3dc,recompute=False)\n",
    "data_r3d_p0_list.append(dat)"
   ]
  },
  {
   "cell_type": "code",
   "execution_count": 20,
   "id": "691423a4-01b1-41eb-87b5-028b00e076af",
   "metadata": {},
   "outputs": [
    {
     "name": "stdout",
     "output_type": "stream",
     "text": [
      "t_diff 3.30623125870095410, Y=[ 3.30623126 -0.0392795  -0.03915904]                                              \n"
     ]
    }
   ],
   "source": [
    "# find init for this branch\n",
    "_,init = phase_lock_r3d([3,0,0],a32_p0,.05,_redu_3dc)"
   ]
  },
  {
   "cell_type": "code",
   "execution_count": 21,
   "id": "dae45c44-a88c-452f-9c8e-edc58c9e9c08",
   "metadata": {
    "scrolled": true
   },
   "outputs": [],
   "source": [
    "# top 1f\n",
    "dat = follow_locking_3d(init,a32_p0,(.05,.11,.01),\n",
    "                        rhs=_redu_3dc,recompute=False)\n",
    "data_r3d_p0_list.append(dat)"
   ]
  },
  {
   "cell_type": "code",
   "execution_count": 22,
   "id": "fe6f2402-3b99-491b-972d-0faca8260d74",
   "metadata": {
    "scrolled": true
   },
   "outputs": [],
   "source": [
    "# top 1b\n",
    "dat = follow_locking_3d(init,a32_p0,(.05,.001,-.002),\n",
    "                        rhs=_redu_3dc,recompute=False)\n",
    "data_r3d_p0_list.append(dat)"
   ]
  },
  {
   "cell_type": "code",
   "execution_count": 23,
   "id": "cf61e746-1cd4-4163-822c-90afc4b05e7a",
   "metadata": {},
   "outputs": [
    {
     "name": "stdout",
     "output_type": "stream",
     "text": [
      "t_diff 4.90858174861917808, Y=[ 4.90858175 -0.04028989 -0.04033299]                                              \n"
     ]
    }
   ],
   "source": [
    "# find init for this branch\n",
    "_,init = phase_lock_r3d([5,0,0],a32_p0,.05,_redu_3dc)"
   ]
  },
  {
   "cell_type": "code",
   "execution_count": 24,
   "id": "f4bd51ff-c638-4d3e-9bef-9832fec46049",
   "metadata": {
    "scrolled": true
   },
   "outputs": [],
   "source": [
    "# top 1f\n",
    "dat = follow_locking_3d(init,a32_p0,(.05,.11,.01),\n",
    "                        rhs=_redu_3dc,recompute=False)\n",
    "data_r3d_p0_list.append(dat)"
   ]
  },
  {
   "cell_type": "code",
   "execution_count": 25,
   "id": "405a0931-2f80-465e-b85b-21a8173032a8",
   "metadata": {
    "scrolled": true
   },
   "outputs": [],
   "source": [
    "# top 1b\n",
    "dat = follow_locking_3d(init,a32_p0,(.05,.001,-.002),\n",
    "                        rhs=_redu_3dc,recompute=False)\n",
    "data_r3d_p0_list.append(dat)"
   ]
  },
  {
   "cell_type": "markdown",
   "id": "e26b5d11-28f9-4082-9841-05d441c5f0d1",
   "metadata": {},
   "source": [
    "## Plot"
   ]
  },
  {
   "cell_type": "code",
   "execution_count": 26,
   "id": "4735e46e-f307-448a-9e30-0c85b597e637",
   "metadata": {},
   "outputs": [
    {
     "name": "stdout",
     "output_type": "stream",
     "text": [
      "eps_min 0.03000000000000004\n"
     ]
    },
    {
     "data": {
      "image/png": "[encoded data removed]",
      "text/plain": [
       "<Figure size 300x200 with 1 Axes>"
      ]
     },
     "metadata": {},
     "output_type": "display_data"
    },
    {
     "data": {
      "image/png": "[encoded data removed]",
      "text/plain": [
       "<Figure size 300x400 with 2 Axes>"
      ]
     },
     "metadata": {},
     "output_type": "display_data"
    }
   ],
   "source": [
    "quick_plot_combined(a32_p0,\n",
    "                    kw_f={'data_list':data_p0_list},\n",
    "                    kw_r3d={'data_list':data_r3d_p0_list},\n",
    "                    kw_r={'etup':etup32})"
   ]
  },
  {
   "cell_type": "markdown",
   "id": "35fb4ab8-8ad6-4200-87ca-6a19746d7a31",
   "metadata": {},
   "source": [
    "# del=0.002"
   ]
  },
  {
   "cell_type": "code",
   "execution_count": 27,
   "id": "4825e2e3-11d7-458e-ba74-fc6ece83f593",
   "metadata": {
    "editable": true,
    "slideshow": {
     "slide_type": ""
    },
    "tags": []
   },
   "outputs": [
    {
     "name": "stdout",
     "output_type": "stream",
     "text": [
      "pfactor 4\n",
      "* Loading p symbolic...\n",
      "* Loading p symbolic...\n",
      "* Loading H symbolic...\n",
      "* Loading H symbolic...\n",
      "* Loading H gw0, order=0...\n",
      "* Loading H gw1, order=0...\n",
      "* Loading H gw0, order=1...\n",
      "* Loading H gw1, order=1...\n",
      "* Loading H gw0, order=2...\n",
      "* Loading H gw1, order=2...\n",
      "* Loading H gw0, order=3...\n",
      "* Loading H gw1, order=3...\n"
     ]
    }
   ],
   "source": [
    "del32_p002 = 0.002\n",
    "a32_p002 = nm.nmCoupling(**kw_nm, del1=del32_p002)"
   ]
  },
  {
   "cell_type": "markdown",
   "id": "91599b39-ad49-4069-93b2-d16f6fb733a6",
   "metadata": {},
   "source": [
    "## Get Branches Full"
   ]
  },
  {
   "cell_type": "code",
   "execution_count": 28,
   "id": "baddeb20-dcf2-4b39-960c-19c79b0f8002",
   "metadata": {},
   "outputs": [],
   "source": [
    "kw_p002 = {'a':a32_p002, 'del1':del32_p002, 'recompute':False,\n",
    "           'bifdir':'bif1d_gw2/', '_full_rhs':_full}"
   ]
  },
  {
   "cell_type": "code",
   "execution_count": 29,
   "id": "f94f268f-2004-4095-999e-494bcfb7739f",
   "metadata": {},
   "outputs": [],
   "source": [
    "data_p002_list = []"
   ]
  },
  {
   "cell_type": "code",
   "execution_count": 30,
   "id": "3052b5da-7dd3-4d78-be50-70c5fac9355f",
   "metadata": {},
   "outputs": [],
   "source": [
    "in_dicts = [dict(init=2,eps_init=0.01,eps_final=0.11,deps=.01),\n",
    "           dict(init=2,eps_init=0.01, eps_final=0.0005,deps=-.001)]"
   ]
  },
  {
   "cell_type": "code",
   "execution_count": 31,
   "id": "930a5372-7075-4235-b78d-660e7548c35a",
   "metadata": {
    "scrolled": true
   },
   "outputs": [
    {
     "name": "stdout",
     "output_type": "stream",
     "text": [
      "fname1 td_branch_init=2_nm=32_del=0.002_ei=0.01_ef=0.11_de=0.01.txt\n",
      "fname2 ts_branch_init=2_nm=32_del=0.002_ei=0.01_ef=0.11_de=0.01.txt\n",
      "init [0.38698004 0.52021521 1.35502794 0.12670555 0.01214263 0.22635293 2.99825013 0.00658813 6.29277715]\n",
      "eps iter 0 0.01                \n",
      "t1,t2 1.6892293016555129 2.0954227845238917                             \n",
      "t1,t2 4.8494978495051315 2.0954227845238917\n",
      "periods [2.09558143 2.09447202 2.10270689 3.14598925 3.14677082]\n",
      "eps iter 1 0.02                \n",
      "t1,t2 1.6819931663363301 2.092006113556913                              \n",
      "t1,t2 4.831707905985673 2.092006113556913\n",
      "periods [2.09643689 2.09475085 2.11101808 3.15050247 3.15170492]\n",
      "eps iter 2 0.03                \n",
      "t1,t2 1.6744387294371863 2.0945830304723465                             \n",
      "t1,t2 4.8353532824303755 2.0945830304723465\n",
      "periods [2.09697024 2.09522722 2.1193254  3.15511811 3.15640128]\n",
      "eps iter 3 0.04                \n",
      "t1,t2 1.6678794561429384 2.0961736792325376                             \n",
      "t1,t2 4.8422331390075275 2.0961736792325376\n",
      "periods [2.09718363 2.09590239 2.12761374 3.15983704 3.16086311]\n",
      "eps iter 4 0.05                \n",
      "t1,t2 1.6665042404268897 2.1008022285699415                             \n",
      "t1,t2 4.826541857364262 2.1008022285699415\n",
      "periods [2.09709857 2.09675546 2.13588969 3.16464118 3.16510252]\n",
      "eps iter 5 0.060000000000000005                \n",
      "t1,t2 1.669298375086168 2.1056986011795553                              \n",
      "t1,t2 4.820555197999425 2.1056986011795553\n",
      "periods [2.09670853 2.09779023 2.14415029 3.1695487  3.16910044]\n",
      "eps iter 6 0.06999999999999999                \n",
      "t1,t2 1.6546173098901749 2.112983818359074                              \n",
      "t1,t2 4.834992119724561 2.112983818359074\n",
      "periods [2.09603667 2.09899877 2.1523806  3.17454441 3.17287153]\n",
      "eps iter 7 0.08                \n",
      "t1,t2 1.6440544023273496 2.109139055968144                              \n",
      "t1,t2 4.816985609910898 2.109139055968144\n",
      "periods [2.09508338 2.10038193 2.16057942 3.17962639 3.17641507]\n",
      "eps iter 8 0.09                \n",
      "t1,t2 1.638334982194937 2.1116221015500822                              \n",
      "t1,t2 4.820100396413231 2.1116221015500822\n",
      "periods [2.09385857 2.1019369  2.16874258 3.18479598 3.17974206]\n",
      "eps iter 9 0.09999999999999999                \n",
      "t1,t2 1.6333983036751287 2.116932411944798                              \n",
      "t1,t2 4.818976692969516 2.116932411944798\n",
      "periods [2.09236894 2.1036593  2.17686871 3.19005728 3.18283966]\n",
      "fname1 td_branch_init=2_nm=32_del=0.002_ei=0.01_ef=0.0005_de=-0.001.txt\n",
      "fname2 ts_branch_init=2_nm=32_del=0.002_ei=0.01_ef=0.0005_de=-0.001.txt\n",
      "init [0.38698004 0.52021521 1.35502794 0.12670555 0.01214263 0.22635293 2.99825013 0.00658813 6.29277715]\n",
      "eps iter 0 0.01                \n",
      "t1,t2 1.6892293016555129 2.0954227845238917                             \n",
      "t1,t2 4.8494978495051315 2.0954227845238917\n",
      "periods [2.09558143 2.09447202 2.10270689 3.14598925 3.14677082]\n",
      "eps iter 1 0.009000000000000001                \n",
      "t1,t2 1.6899081468086177 2.0900755427544597                             \n",
      "t1,t2 4.842345838945132 2.0900755427544597\n",
      "periods [2.09547558 2.09445509 2.10187739 3.14554876 3.14625933]\n",
      "eps iter 2 0.008000000000000002                \n",
      "t1,t2 1.6905068152870788 2.089708873675645                              \n",
      "t1,t2 4.846965608073276 2.089708873675645\n",
      "periods [2.09536809 2.09444006 2.10104685 3.14510335 3.14575176]\n",
      "eps iter 3 0.007000000000000003                \n",
      "t1,t2 1.6903819382665246 2.0884628880580878                             \n",
      "t1,t2 4.840919746436593 2.0884628880580878\n",
      "periods [2.09525685 2.09442805 2.1002158  3.14466063 3.14524011]\n",
      "eps iter 4 0.006000000000000004                \n",
      "t1,t2 1.6974922467756202 2.092707048514747                              \n",
      "t1,t2 4.840916381028813 2.092707048514747\n",
      "periods [2.0951421  2.09441697 2.0993861  3.1442197  3.14472536]\n",
      "eps iter 5 0.0050000000000000044                \n",
      "t1,t2 1.7043974904738628 2.093534279270032                              \n",
      "t1,t2 4.8436052943489045 2.093534279270032\n",
      "periods [2.09502892 2.0944083  2.09855116 3.14378023 3.14420821]\n",
      "eps iter 6 0.004000000000000005                \n",
      "t1,t2 1.7049843140910366 2.093862707806401                              \n",
      "t1,t2 4.841055749212773 2.093862707806401\n",
      "periods [2.09490818 2.09440205 2.0977201  3.14333948 3.14369084]\n",
      "eps iter 7 0.003000000000000006                \n",
      "t1,t2 1.7056221805574532 2.0942363361267584                             \n",
      "t1,t2 4.842308275933154 2.0942363361267584\n",
      "periods [2.09478692 2.09440055 2.09688359 3.14290054 3.14316533]\n",
      "eps iter 8 0.002000000000000007                \n",
      "t1,t2 1.706300472606739 2.0946475941677387                              \n",
      "t1,t2 4.840501294840672 2.0946475941677387\n",
      "periods [2.09465968 2.09439314 2.09605881 3.14246829 3.14264266]\n",
      "eps iter 9 0.0010000000000000078                \n",
      "t1,t2 1.6942868526751151 2.087084908559904                              \n",
      "t1,t2 4.840795333486007 2.087084908559904\n",
      "periods [2.09452889 2.09439548 2.09522409 3.1420252  3.14212332]\n"
     ]
    }
   ],
   "source": [
    "for i in range(len(in_dicts)):\n",
    "    in1 = in_dicts[i]\n",
    "    dat = follow_phase_diffs(**in1,**kw_p002)\n",
    "    data_p002_list.append(dat)\n",
    "fname = kw_p002['bifdir']+'hyper_gw2_32_p002.txt'"
   ]
  },
  {
   "cell_type": "code",
   "execution_count": 32,
   "id": "3b71e604-9852-45f7-8aab-6bc19c468484",
   "metadata": {},
   "outputs": [],
   "source": [
    "# save hyperparameters\n",
    "hyp_inputs = np.zeros([len(in_dicts),4])\n",
    "for i in range(len(in_dicts)):\n",
    "    hyp_inputs[i,0] = in_dicts[i]['init']\n",
    "    hyp_inputs[i,1] = in_dicts[i]['eps_init']\n",
    "    hyp_inputs[i,2] = in_dicts[i]['eps_final']\n",
    "    hyp_inputs[i,3] = in_dicts[i]['deps']\n",
    "np.savetxt(fname,hyp_inputs)"
   ]
  },
  {
   "cell_type": "markdown",
   "id": "bb8b9089-6951-44b4-b8e8-6539879d7418",
   "metadata": {},
   "source": [
    "## Get Branches 3D"
   ]
  },
  {
   "cell_type": "code",
   "execution_count": 33,
   "id": "2387c2f0-0888-40e3-881c-4854a6795936",
   "metadata": {},
   "outputs": [],
   "source": [
    "data_r3d_p002_list = []"
   ]
  },
  {
   "cell_type": "code",
   "execution_count": 34,
   "id": "df01f2d2-af68-43bf-a8ee-b52e2d0ffee9",
   "metadata": {
    "scrolled": true
   },
   "outputs": [
    {
     "name": "stdout",
     "output_type": "stream",
     "text": [
      "t_diff 6.25546374101923810, Y=[18.82183436 -0.05276157 -0.04236806]                                              \n",
      "[ 6.2555 -0.0528 -0.0424]\n"
     ]
    }
   ],
   "source": [
    "# find init for this branch\n",
    "_,init = phase_lock_r3d([1,0,0],a32_p002,.05,_redu_3dc)\n",
    "print(init)"
   ]
  },
  {
   "cell_type": "code",
   "execution_count": 35,
   "id": "2fdef5e6-4139-42b1-ae08-b2c0e10f5440",
   "metadata": {
    "scrolled": true
   },
   "outputs": [],
   "source": [
    "# bot 1f\n",
    "dat = follow_locking_3d(init,a32_p002,(.05,.11,.01),\n",
    "                        rhs=_redu_3dc,recompute=False)\n",
    "data_r3d_p002_list.append(dat)"
   ]
  },
  {
   "cell_type": "code",
   "execution_count": 36,
   "id": "9f1faf7d-3122-4a03-bde1-047945be2352",
   "metadata": {
    "scrolled": true
   },
   "outputs": [],
   "source": [
    "# bot 1b\n",
    "dat = follow_locking_3d(init,a32_p002,(.05,.001,-.001),\n",
    "                        rhs=_redu_3dc,recompute=False)\n",
    "data_r3d_p002_list.append(dat)"
   ]
  },
  {
   "cell_type": "code",
   "execution_count": 37,
   "id": "918d5e0c-50dc-4de3-9a84-a23751472597",
   "metadata": {},
   "outputs": [
    {
     "name": "stdout",
     "output_type": "stream",
     "text": [
      "t_diff 3.10245106554289311, Y=[ 3.10245107 -0.05324383 -0.04272729]                                              \n"
     ]
    }
   ],
   "source": [
    "# find init for this branch\n",
    "_,init = phase_lock_r3d([3,0,0],a32_p002,.05,_redu_3dc)"
   ]
  },
  {
   "cell_type": "code",
   "execution_count": 38,
   "id": "a87e6a44-38ca-4d81-a204-dd7e5ac47b69",
   "metadata": {
    "scrolled": true
   },
   "outputs": [],
   "source": [
    "# top 1f\n",
    "dat = follow_locking_3d(init,a32_p002,(.05,.11,.01),\n",
    "                        rhs=_redu_3dc,recompute=False)\n",
    "data_r3d_p002_list.append(dat)"
   ]
  },
  {
   "cell_type": "code",
   "execution_count": 39,
   "id": "48de2a1f-2e70-4f0c-ac6c-b95d8152092a",
   "metadata": {
    "scrolled": true
   },
   "outputs": [],
   "source": [
    "# top 1b\n",
    "dat = follow_locking_3d(init,a32_p002,(.05,.001,-.001),\n",
    "                        rhs=_redu_3dc,recompute=False)\n",
    "data_r3d_p002_list.append(dat)"
   ]
  },
  {
   "cell_type": "code",
   "execution_count": 40,
   "id": "63546cf4-6e52-4efb-95fd-44efed3b522a",
   "metadata": {},
   "outputs": [
    {
     "name": "stdout",
     "output_type": "stream",
     "text": [
      "t_diff 5.13353937714983509, Y=[ 5.13353938 -0.05404569 -0.04377044]                                              \n"
     ]
    }
   ],
   "source": [
    "# find init for this branch\n",
    "_,init = phase_lock_r3d([5,0,0],a32_p002,.05,_redu_3dc)"
   ]
  },
  {
   "cell_type": "code",
   "execution_count": 41,
   "id": "fe74e6ae-f956-48cf-a33d-c8b939bb2d31",
   "metadata": {
    "scrolled": true
   },
   "outputs": [],
   "source": [
    "# top 1f\n",
    "dat = follow_locking_3d(init,a32_p002,(.05,.11,.01),\n",
    "                        rhs=_redu_3dc,recompute=False)\n",
    "data_r3d_p002_list.append(dat)"
   ]
  },
  {
   "cell_type": "code",
   "execution_count": 42,
   "id": "526b7a81-0a92-4b99-b8e3-fec4c424f59a",
   "metadata": {
    "scrolled": true
   },
   "outputs": [],
   "source": [
    "# top 1b\n",
    "dat = follow_locking_3d(init,a32_p002,(.05,.001,-.001),\n",
    "                        rhs=_redu_3dc,recompute=False)\n",
    "data_r3d_p002_list.append(dat)"
   ]
  },
  {
   "cell_type": "markdown",
   "id": "d3574f6c-53f2-4842-a7f7-ef0ea3bc564b",
   "metadata": {},
   "source": [
    "## Plot"
   ]
  },
  {
   "cell_type": "code",
   "execution_count": 43,
   "id": "3b5a2d06-6da4-40ee-a920-0777ef054d2a",
   "metadata": {},
   "outputs": [
    {
     "name": "stdout",
     "output_type": "stream",
     "text": [
      "eps_min 0.03\n"
     ]
    },
    {
     "data": {
      "image/png": "[encoded data removed]",
      "text/plain": [
       "<Figure size 300x200 with 1 Axes>"
      ]
     },
     "metadata": {},
     "output_type": "display_data"
    },
    {
     "data": {
      "image/png": "[encoded data removed]",
      "text/plain": [
       "<Figure size 300x400 with 2 Axes>"
      ]
     },
     "metadata": {},
     "output_type": "display_data"
    }
   ],
   "source": [
    "quick_plot_combined(a32_p002,\n",
    "                    kw_f={'data_list':data_p002_list},\n",
    "                    kw_r3d={'data_list':data_r3d_p002_list},\n",
    "                    kw_r={'etup':etup32})"
   ]
  },
  {
   "cell_type": "markdown",
   "id": "3970d5bd-b173-43ec-ac77-6571cd024de6",
   "metadata": {},
   "source": [
    "# del=0.0045"
   ]
  },
  {
   "cell_type": "code",
   "execution_count": 44,
   "id": "84a7436c-6190-4b5f-a1f2-e6c6e0a30ebb",
   "metadata": {
    "editable": true,
    "slideshow": {
     "slide_type": ""
    },
    "tags": []
   },
   "outputs": [
    {
     "name": "stdout",
     "output_type": "stream",
     "text": [
      "pfactor 4\n",
      "* Loading p symbolic...\n",
      "* Loading p symbolic...\n",
      "* Loading H symbolic...\n",
      "* Loading H symbolic...\n",
      "* Loading H gw0, order=0...\n",
      "* Loading H gw1, order=0...\n",
      "* Loading H gw0, order=1...\n",
      "* Loading H gw1, order=1...\n",
      "* Loading H gw0, order=2...\n",
      "* Loading H gw1, order=2...\n",
      "* Loading H gw0, order=3...\n",
      "* Loading H gw1, order=3...\n"
     ]
    }
   ],
   "source": [
    "del32_p0045 = 0.0045\n",
    "a32_p0045 = nm.nmCoupling(**kw_nm, del1=del32_p0045)"
   ]
  },
  {
   "cell_type": "markdown",
   "id": "f0c005b5-01b2-4e18-aa1d-3236bbc3fef4",
   "metadata": {},
   "source": [
    "## Get Branches Full"
   ]
  },
  {
   "cell_type": "code",
   "execution_count": 45,
   "id": "aea1115a-971e-4514-90ab-8c691f2921df",
   "metadata": {},
   "outputs": [],
   "source": [
    "kw_p0045 = {'a':a32_p0045,'del1':del32_p0045,'recompute':False,\n",
    "            'bifdir':'bif1d_gw2/','_full_rhs':_full}"
   ]
  },
  {
   "cell_type": "code",
   "execution_count": 46,
   "id": "d65165f7-8b2e-4e28-8054-f400124339f9",
   "metadata": {},
   "outputs": [],
   "source": [
    "data_p0045_list = []"
   ]
  },
  {
   "cell_type": "code",
   "execution_count": 47,
   "id": "f2aeb408-9425-4b2a-b2d0-366af70f4b45",
   "metadata": {},
   "outputs": [],
   "source": [
    "in_dicts = [dict(init=0,eps_init=0.01,eps_final=0.11,deps=.01),\n",
    "           dict(init=0,eps_init=0.01,eps_final=0.0005,deps=-.001)]"
   ]
  },
  {
   "cell_type": "code",
   "execution_count": 48,
   "id": "6c515bfa-6210-4cf4-81e4-8e4df0bb4638",
   "metadata": {
    "scrolled": true
   },
   "outputs": [
    {
     "name": "stdout",
     "output_type": "stream",
     "text": [
      "fname1 td_branch_init=0_nm=32_del=0.0045_ei=0.01_ef=0.11_de=0.01.txt\n",
      "fname2 ts_branch_init=0_nm=32_del=0.0045_ei=0.01_ef=0.11_de=0.01.txt\n",
      "init [3.86715485e-01 5.20030802e-01 1.35519346e+00 1.26626668e-01 1.13148872e-02 2.13557404e-01 2.97387273e+00 6.06732552e-03 6.29078742e+00]\n",
      "eps iter 0 0.01                \n",
      "t1,t2 1.7947467818884366 2.0752734736597933                             \n",
      "t1,t2 4.937188984861085 2.0752734736597933\n",
      "periods [2.0971999  2.09274101 2.10228334 3.14454413 3.14767534]\n",
      "eps iter 1 0.02                \n",
      "t1,t2 1.7835092086629756 2.077116144683583                              \n",
      "t1,t2 4.9331388706074435 2.077116144683583\n",
      "periods [2.09950323 2.09139109 2.11019111 3.14766195 3.15342346]\n",
      "eps iter 2 0.03                \n",
      "t1,t2 1.7624124784456994 2.0814871188183313                             \n",
      "t1,t2 4.916896124362313 2.0814871188183313\n",
      "periods [2.10137176 2.09029965 2.11811585 3.15094041 3.15884684]\n",
      "eps iter 3 0.04                \n",
      "t1,t2 1.7604179798901745 2.082132143915877                              \n",
      "t1,t2 4.92495011785955 2.082132143915877\n",
      "periods [2.1028629  2.08942703 2.12603653 3.15433212 3.16398862]\n",
      "eps iter 4 0.05                \n",
      "t1,t2 1.7428103126325762 2.082142348648719                              \n",
      "t1,t2 4.918760057351414 2.082142348648719\n",
      "periods [2.10398209 2.0887593  2.13396361 3.15784153 3.16885746]\n",
      "eps iter 5 0.060000000000000005                \n",
      "t1,t2 1.731172291849981 2.0829853521614976                              \n",
      "t1,t2 4.914320910863084 2.0829853521614976\n",
      "periods [2.10475936 2.08827856 2.14186857 3.16145113 3.17345545]\n",
      "eps iter 6 0.06999999999999999                \n",
      "t1,t2 1.7325051699281881 2.0877290903341157                             \n",
      "t1,t2 4.895154459873816 2.0877290903341157\n",
      "periods [2.10520683 2.08797778 2.14976211 3.16515003 3.17779669]\n",
      "eps iter 7 0.08                \n",
      "t1,t2 1.7252781368735755 2.0855515704141694                             \n",
      "t1,t2 4.903900874526153 2.0855515704141694\n",
      "periods [2.10535277 2.08783402 2.15763175 3.16892525 3.18188768]\n",
      "eps iter 8 0.09                \n",
      "t1,t2 1.716618654055748 2.088616084563203                               \n",
      "t1,t2 4.888724383324887 2.088616084563203\n",
      "periods [2.10519594 2.08784415 2.16548068 3.17278059 3.18574019]\n",
      "eps iter 9 0.09999999999999999                \n",
      "t1,t2 1.7115152813583445 2.090437593663166                              \n",
      "t1,t2 4.887877200534046 2.090437593663166\n",
      "periods [2.10476661 2.08799401 2.17329352 3.17671144 3.18934269]\n",
      "fname1 td_branch_init=0_nm=32_del=0.0045_ei=0.01_ef=0.0005_de=-0.001.txt\n",
      "fname2 ts_branch_init=0_nm=32_del=0.0045_ei=0.01_ef=0.0005_de=-0.001.txt\n",
      "init [3.86715485e-01 5.20030802e-01 1.35519346e+00 1.26626668e-01 1.13148872e-02 2.13557404e-01 2.97387273e+00 6.06732552e-03 6.29078742e+00]\n",
      "eps iter 0 0.01                \n",
      "t1,t2 1.7947467818884366 2.0752734736597933                             \n",
      "t1,t2 4.937188984861085 2.0752734736597933\n",
      "periods [2.0971999  2.09274101 2.10228334 3.14454413 3.14767534]\n",
      "eps iter 1 0.009000000000000001                \n",
      "eps iter 2 0.008000000000000002                                          \n",
      "eps iter 3 0.007000000000000003                                          \n",
      "t1,t2 1.7708975211603644 2.059225741824712                              \n",
      "t1,t2 4.920045861668661 2.059225741824712\n",
      "periods [2.09641114 2.09321151 2.09990913 3.14363931 3.14588765]\n",
      "eps iter 4 0.006000000000000004                \n",
      "t1,t2 1.7727457642128535 2.0536085200346443                             \n",
      "t1,t2 4.919972584447696 2.0536085200346443\n",
      "periods [2.09614029 2.09336061 2.09912125 3.14334241 3.14528367]\n",
      "eps iter 5 0.0050000000000000044                \n",
      "t1,t2 1.7778480178541574 2.0553058451139936                             \n",
      "t1,t2 4.919540228190986 2.0553058451139936\n",
      "periods [2.09585917 2.09352896 2.09833402 3.14303788 3.14468309]\n",
      "eps iter 6 0.004000000000000005                \n",
      "t1,t2 1.7785131215325765 2.055510983772342                              \n",
      "t1,t2 4.918302806743121 2.055510983772342\n",
      "periods [2.09557769 2.09369557 2.09754643 3.14274666 3.14407303]\n",
      "eps iter 7 0.003000000000000006                \n",
      "t1,t2 1.7792372988641936 2.0546828397535366                             \n",
      "t1,t2 4.929801965548416 2.0546828397535366\n",
      "periods [2.09529606 2.09386256 2.09675518 3.14245864 3.14345522]\n",
      "eps iter 8 0.002000000000000007                \n",
      "t1,t2 1.7798010559903696 2.059704342461816                              \n",
      "t1,t2 4.9322732045436055 2.059704342461816\n",
      "periods [2.09500049 2.09403799 2.09596762 3.14216676 3.14283932]\n",
      "eps iter 9 0.0010000000000000078                \n",
      "t1,t2 1.7804738692824105 2.0597033341320614                             \n",
      "t1,t2 4.932308279127027 2.0597033341320614\n",
      "periods [2.09469923 2.09421579 2.09518077 3.14187841 3.14221553]\n"
     ]
    }
   ],
   "source": [
    "for i in range(len(in_dicts)):\n",
    "    in1 = in_dicts[i]\n",
    "    dat = follow_phase_diffs(**in1,**kw_p0045)\n",
    "    data_p0045_list.append(dat)\n",
    "fname = kw_p0045['bifdir']+'hyper_gw2_32_p0045.txt'"
   ]
  },
  {
   "cell_type": "code",
   "execution_count": 49,
   "id": "a7df1d44-9fd5-43a0-ae02-c4f4ca7894c5",
   "metadata": {},
   "outputs": [],
   "source": [
    "# save hyperparameters\n",
    "hyp_inputs = np.zeros([len(in_dicts),4])\n",
    "for i in range(len(in_dicts)):\n",
    "    hyp_inputs[i,0] = in_dicts[i]['init']\n",
    "    hyp_inputs[i,1] = in_dicts[i]['eps_init']\n",
    "    hyp_inputs[i,2] = in_dicts[i]['eps_final']\n",
    "    hyp_inputs[i,3] = in_dicts[i]['deps']\n",
    "np.savetxt(fname,hyp_inputs)"
   ]
  },
  {
   "cell_type": "markdown",
   "id": "a14b1683-8265-4c6c-80ab-f468321b2e2e",
   "metadata": {},
   "source": [
    "## Get Branches 3D"
   ]
  },
  {
   "cell_type": "code",
   "execution_count": 50,
   "id": "2a3413dd-4e32-4278-adb2-dfe0246d56f9",
   "metadata": {},
   "outputs": [],
   "source": [
    "data_r3d_p0045_list = []"
   ]
  },
  {
   "cell_type": "code",
   "execution_count": 51,
   "id": "62576b6a-73e3-4f0c-b90f-1be75ff53973",
   "metadata": {
    "scrolled": true
   },
   "outputs": [
    {
     "name": "stdout",
     "output_type": "stream",
     "text": [
      "t_diff 2.36481962399819421, Y=[ 2.74975609e+01 -2.80262484e-02 -1.88047958e-02]                                              \n",
      "[ 2.3648 -0.028  -0.0188]\n"
     ]
    }
   ],
   "source": [
    "# find init for this branch\n",
    "_,init = phase_lock_r3d([1,0,0],a32_p0045,.02,_redu_3dc)\n",
    "print(init)"
   ]
  },
  {
   "cell_type": "code",
   "execution_count": 52,
   "id": "eb2ff0c8-804f-424c-966f-bf9c0e16b18c",
   "metadata": {
    "scrolled": true
   },
   "outputs": [],
   "source": [
    "# bot 1f\n",
    "dat = follow_locking_3d(init,a32_p0045,(.02,.1,.002),\n",
    "                        rhs=_redu_3dc,recompute=False)\n",
    "data_r3d_p0045_list.append(dat)"
   ]
  },
  {
   "cell_type": "code",
   "execution_count": 53,
   "id": "dc3b1e6e-85d7-4123-9c3b-44da00c72c30",
   "metadata": {
    "scrolled": true
   },
   "outputs": [],
   "source": [
    "# bot 1b\n",
    "dat = follow_locking_3d(init,a32_p0045,(.02,.001,-.001),\n",
    "                        rhs=_redu_3dc,recompute=False)\n",
    "data_r3d_p0045_list.append(dat)"
   ]
  },
  {
   "cell_type": "code",
   "execution_count": 54,
   "id": "6e8e6f02-4466-42a3-86af-dc3058cbfa07",
   "metadata": {},
   "outputs": [],
   "source": [
    "# # find init for this branch\n",
    "# _,init = phase_lock_r3d([3,0,0],a32_p0045,.02,_redu_3dc)"
   ]
  },
  {
   "cell_type": "code",
   "execution_count": 55,
   "id": "3fbf5d8a-a4e1-43c2-9f11-be1ef1395d6f",
   "metadata": {
    "scrolled": true
   },
   "outputs": [],
   "source": [
    "# # top 1f\n",
    "# dat = follow_locking_3d(init,a32_p0045,(.02,.1,.002),\n",
    "#                         rhs=_redu_3dc,recompute=False)\n",
    "# data_r3d_p0045_list.append(dat)"
   ]
  },
  {
   "cell_type": "code",
   "execution_count": 56,
   "id": "75952a5f-e3ab-4012-bcaf-f2186c3962f3",
   "metadata": {
    "scrolled": true
   },
   "outputs": [],
   "source": [
    "# # top 1b\n",
    "# dat = follow_locking_3d(init,a32_p0045,(.02,.001,-.001),\n",
    "#                         rhs=_redu_3dc,recompute=False)\n",
    "# data_r3d_p0045_list.append(dat)"
   ]
  },
  {
   "cell_type": "code",
   "execution_count": 57,
   "id": "c08ffd7b-6cb5-4eb6-8403-776ebbada3c1",
   "metadata": {},
   "outputs": [
    {
     "name": "stdout",
     "output_type": "stream",
     "text": [
      "t_diff 5.52596100080920210, Y=[ 5.525961   -0.02796602 -0.01882862]                                              \n"
     ]
    }
   ],
   "source": [
    "# find init for this branch\n",
    "_,init = phase_lock_r3d([5,0,0],a32_p0045,.02,_redu_3dc)"
   ]
  },
  {
   "cell_type": "code",
   "execution_count": 58,
   "id": "e4436595-ac0c-480e-98e7-8c2957540da3",
   "metadata": {
    "scrolled": true
   },
   "outputs": [],
   "source": [
    "# top 1f\n",
    "dat = follow_locking_3d(init,a32_p0045,(.02,.1,.002),\n",
    "                        rhs=_redu_3dc,recompute=False)\n",
    "data_r3d_p0045_list.append(dat)"
   ]
  },
  {
   "cell_type": "code",
   "execution_count": 59,
   "id": "a974b27e-58d1-4e82-87a7-f6bed20f6dbe",
   "metadata": {
    "scrolled": true
   },
   "outputs": [],
   "source": [
    "# top 1b\n",
    "dat = follow_locking_3d(init,a32_p0045,(.02,.001,-.002),\n",
    "                        rhs=_redu_3dc,recompute=False)\n",
    "data_r3d_p0045_list.append(dat)"
   ]
  },
  {
   "cell_type": "markdown",
   "id": "9a00915d-ffc9-4506-80d8-30ce0352bed8",
   "metadata": {},
   "source": [
    "## Plot"
   ]
  },
  {
   "cell_type": "code",
   "execution_count": 60,
   "id": "30d6c44c-e8f6-4558-b2d5-cbc7c0c8000e",
   "metadata": {},
   "outputs": [
    {
     "name": "stdout",
     "output_type": "stream",
     "text": [
      "eps_min 0.04\n"
     ]
    },
    {
     "data": {
      "image/png": "[encoded data removed]",
      "text/plain": [
       "<Figure size 300x200 with 1 Axes>"
      ]
     },
     "metadata": {},
     "output_type": "display_data"
    },
    {
     "data": {
      "image/png": "[encoded data removed]",
      "text/plain": [
       "<Figure size 300x400 with 2 Axes>"
      ]
     },
     "metadata": {},
     "output_type": "display_data"
    }
   ],
   "source": [
    "quick_plot_combined(a32_p0045,\n",
    "                    kw_f={'data_list':data_p0045_list},\n",
    "                    kw_r3d={'data_list':data_r3d_p0045_list},\n",
    "                    kw_r={'etup':etup32})"
   ]
  },
  {
   "cell_type": "markdown",
   "id": "ae252ae0-90a1-4601-adce-01101186ba0b",
   "metadata": {},
   "source": [
    "# del=0.0047"
   ]
  },
  {
   "cell_type": "code",
   "execution_count": 61,
   "id": "e0a450c7-2cf3-4878-a937-06d2b4ea59e3",
   "metadata": {
    "editable": true,
    "slideshow": {
     "slide_type": ""
    },
    "tags": []
   },
   "outputs": [
    {
     "name": "stdout",
     "output_type": "stream",
     "text": [
      "pfactor 4\n",
      "* Loading p symbolic...\n",
      "* Loading p symbolic...\n",
      "* Loading H symbolic...\n",
      "* Loading H symbolic...\n",
      "* Loading H gw0, order=0...\n",
      "* Loading H gw1, order=0...\n",
      "* Loading H gw0, order=1...\n",
      "* Loading H gw1, order=1...\n",
      "* Loading H gw0, order=2...\n",
      "* Loading H gw1, order=2...\n",
      "* Loading H gw0, order=3...\n",
      "* Loading H gw1, order=3...\n"
     ]
    }
   ],
   "source": [
    "del32_p0047 = 0.0047\n",
    "a32_p0047 = nm.nmCoupling(**kw_nm, del1=del32_p0047)"
   ]
  },
  {
   "cell_type": "markdown",
   "id": "0c00c4cf-8a08-44f9-8d5c-c4ef20adb359",
   "metadata": {},
   "source": [
    "## Get Branches Full"
   ]
  },
  {
   "cell_type": "code",
   "execution_count": 62,
   "id": "af95f12e-a74d-4edd-83be-1b85af554245",
   "metadata": {},
   "outputs": [],
   "source": [
    "kw_p0047 = {'a':a32_p0047,'del1':del32_p0047,'recompute':False,\n",
    "            'bifdir':'bif1d_gw2/','_full_rhs':_full}"
   ]
  },
  {
   "cell_type": "code",
   "execution_count": 63,
   "id": "ff4a9a6a-8902-4583-91a5-6d96ad3d403a",
   "metadata": {},
   "outputs": [],
   "source": [
    "data_p0047_list = []"
   ]
  },
  {
   "cell_type": "code",
   "execution_count": 64,
   "id": "9da944a6-b582-40d3-bd9d-5b769f5048b2",
   "metadata": {},
   "outputs": [],
   "source": [
    "in_dicts = [dict(init=2,eps_init=0.005,eps_final=0.11,deps=.01),\n",
    "            dict(init=2,eps_init=0.005,eps_final=0.0005,deps=-.001)]"
   ]
  },
  {
   "cell_type": "code",
   "execution_count": 65,
   "id": "b6f3d070-72e0-43f1-9291-2b947e7f1a2f",
   "metadata": {
    "scrolled": true
   },
   "outputs": [
    {
     "name": "stdout",
     "output_type": "stream",
     "text": [
      "fname1 td_branch_init=2_nm=32_del=0.0047_ei=0.005_ef=0.11_de=0.01.txt\n",
      "fname2 ts_branch_init=2_nm=32_del=0.0047_ei=0.005_ef=0.11_de=0.01.txt\n",
      "init [0.38752366 0.52051788 1.35472976 0.12686129 0.2618548  0.75444536 1.94524257 0.12555626 6.2875255 ]\n",
      "eps iter 0 0.005                \n",
      "t1,t2 2.8593885180276635 2.077324281834301                              \n",
      "t1,t2 6.007080524408654 2.077324281834301\n",
      "periods [2.09830669 2.0959817  2.09342855 3.1447552  3.14296173]\n",
      "eps iter 1 0.015                \n",
      "t1,t2 2.8587500783541313 2.088064667780244                              \n",
      "t1,t2 6.004861203648691 2.088064667780244\n",
      "periods [2.10616915 2.09870113 2.09177169 3.15076229 3.14588153]\n",
      "eps iter 2 0.024999999999999998                \n",
      "t1,t2 2.8552880512261334 2.093287343084016                              \n",
      "t1,t2 6.00441011985365 2.093287343084016\n",
      "periods [2.11405346 2.10092218 2.09041719 3.15642199 3.14896381]\n",
      "eps iter 3 0.034999999999999996                \n",
      "t1,t2 2.8580672420516766 2.105638329841062                              \n",
      "t1,t2 6.002360000664285 2.105638329841062\n",
      "periods [2.12195135 2.10272083 2.08929949 3.16178107 3.15219435]\n",
      "eps iter 4 0.04499999999999999                \n",
      "t1,t2 2.844692816576236 2.1110389738747064                              \n",
      "t1,t2 6.010650644331416 2.1110389738747064\n",
      "periods [2.12984133 2.10413574 2.08840931 3.16684276 3.15554363]\n",
      "eps iter 5 0.054999999999999986                \n",
      "t1,t2 2.855327731062754 2.1191751453936094                              \n",
      "t1,t2 6.009002486338136 2.1191751453936094\n",
      "periods [2.13773874 2.10517624 2.08771797 3.17163061 3.15900225]\n",
      "eps iter 6 0.06499999999999999                \n",
      "t1,t2 2.8520726433265615 2.1240356195767833                             \n",
      "t1,t2 6.017181138695843 2.1240356195767833\n",
      "periods [2.14561285 2.10588642 2.08721343 3.17614603 3.16256046]\n",
      "eps iter 7 0.075                \n",
      "t1,t2 2.842390813802088 2.1295019104432567                              \n",
      "t1,t2 6.023783141475173 2.1295019104432567\n",
      "periods [2.15346409 2.10628113 2.0868695  3.18041761 3.16619707]\n",
      "eps iter 8 0.08499999999999999                \n",
      "t1,t2 2.8445572058453603 2.133941740175997                              \n",
      "t1,t2 6.026201468118707 2.133941740175997\n",
      "periods [2.16130248 2.1063686  2.08668303 3.18443588 3.16991922]\n",
      "eps iter 9 0.09499999999999999                \n",
      "t1,t2 2.854886521539868 2.136417567110564                               \n",
      "t1,t2 6.02564220351474 2.136417567110564\n",
      "periods [2.16910545 2.10615862 2.0866525  3.18820453 3.17371674]\n",
      "eps iter 10 0.10499999999999998                \n",
      "t1,t2 2.849038487895931 2.137170370130757                               \n",
      "t1,t2 6.030019216484909 2.137170370130757\n",
      "periods [2.1768797  2.10567565 2.08675994 3.19173196 3.17758342]\n",
      "fname1 td_branch_init=2_nm=32_del=0.0047_ei=0.005_ef=0.0005_de=-0.001.txt\n",
      "fname2 ts_branch_init=2_nm=32_del=0.0047_ei=0.005_ef=0.0005_de=-0.001.txt\n",
      "init [0.38752366 0.52051788 1.35472976 0.12686129 0.2618548  0.75444536 1.94524257 0.12555626 6.2875255 ]\n",
      "eps iter 0 0.005                \n",
      "t1,t2 2.8593885180276635 2.077324281834301                              \n",
      "t1,t2 6.007080524408654 2.077324281834301\n",
      "periods [2.09830669 2.0959817  2.09342855 3.1447552  3.14296173]\n",
      "eps iter 1 0.004                \n",
      "eps iter 2 0.003                                                         \n",
      "t1,t2 2.866318454563756 2.0719093147643566                               \n",
      "t1,t2 5.999714544724426 2.0719093147643566\n",
      "periods [2.09674399 2.09536905 2.09380114 3.14349775 3.14241242]\n",
      "eps iter 3 0.002                \n",
      "eps iter 4 0.001                                                         \n",
      "t1,t2 2.8546460732042567 2.0712966211356156                             \n",
      "t1,t2 6.005633388626607 2.0712966211356156\n",
      "periods [2.09517287 2.09472745 2.09419546 3.14223017 3.14186548]\n"
     ]
    }
   ],
   "source": [
    "for i in range(len(in_dicts)):\n",
    "    in1 = in_dicts[i]\n",
    "    dat = follow_phase_diffs(**in1,**kw_p0047)\n",
    "    data_p0047_list.append(dat)\n",
    "fname = kw_p0047['bifdir']+'hyper_gw2_32_p0047.txt'"
   ]
  },
  {
   "cell_type": "code",
   "execution_count": 66,
   "id": "7aba2aeb-2261-4a89-8237-e04270fc5f24",
   "metadata": {},
   "outputs": [],
   "source": [
    "# save hyperparameters\n",
    "hyp_inputs = np.zeros([len(in_dicts),4])\n",
    "for i in range(len(in_dicts)):\n",
    "    hyp_inputs[i,0] = in_dicts[i]['init']\n",
    "    hyp_inputs[i,1] = in_dicts[i]['eps_init']\n",
    "    hyp_inputs[i,2] = in_dicts[i]['eps_final']\n",
    "    hyp_inputs[i,3] = in_dicts[i]['deps']\n",
    "np.savetxt(fname,hyp_inputs)"
   ]
  },
  {
   "cell_type": "markdown",
   "id": "7bff0933-3e30-470c-8ba2-b46f9726221f",
   "metadata": {},
   "source": [
    "## Get Branches 3D"
   ]
  },
  {
   "cell_type": "code",
   "execution_count": 67,
   "id": "d51a9baa-06cd-4fde-9464-2ae6587bdf99",
   "metadata": {},
   "outputs": [],
   "source": [
    "data_r3d_p0047_list = []"
   ]
  },
  {
   "cell_type": "code",
   "execution_count": 68,
   "id": "812414ef-eb90-49b9-a688-d498efd5c01c",
   "metadata": {
    "scrolled": true
   },
   "outputs": [
    {
     "name": "stdout",
     "output_type": "stream",
     "text": [
      "t_diff 2.43338447520242708, Y=[ 2.75661257e+01 -2.85492734e-02 -1.89133340e-02]                                              \n",
      "[ 2.4334 -0.0285 -0.0189]\n"
     ]
    }
   ],
   "source": [
    "# find init for this branch\n",
    "_,init = phase_lock_r3d([1,0,0],a32_p0047,.02,_redu_3dc)\n",
    "print(init)"
   ]
  },
  {
   "cell_type": "code",
   "execution_count": 69,
   "id": "599a7d42-6a5d-4f31-bc82-49e28c58b94c",
   "metadata": {
    "scrolled": true
   },
   "outputs": [],
   "source": [
    "# bot 1f\n",
    "dat = follow_locking_3d(init,a32_p0047,(.02,.054,.002),\n",
    "                        rhs=_redu_3dc,recompute=False)\n",
    "data_r3d_p0047_list.append(dat)"
   ]
  },
  {
   "cell_type": "code",
   "execution_count": 70,
   "id": "ce3ae737-ef0a-4192-81b3-bb4b715dc4c9",
   "metadata": {
    "scrolled": true
   },
   "outputs": [],
   "source": [
    "# bot 1b\n",
    "dat = follow_locking_3d(init,a32_p0047,(.02,.001,-.001),\n",
    "                        rhs=_redu_3dc,recompute=False)\n",
    "data_r3d_p0047_list.append(dat)"
   ]
  },
  {
   "cell_type": "code",
   "execution_count": 71,
   "id": "cb4cfb4a-26d0-4f80-a22a-bb8cae8628b9",
   "metadata": {},
   "outputs": [],
   "source": [
    "# # find init for this branch\n",
    "# _,init = phase_lock_r3d([3,0,0],a32_p0047,.02,_redu_3dc)"
   ]
  },
  {
   "cell_type": "code",
   "execution_count": 72,
   "id": "69ed8ccd-7865-423f-84a8-1774930f7890",
   "metadata": {
    "scrolled": true
   },
   "outputs": [],
   "source": [
    "# # top 1f\n",
    "# dat = follow_locking_3d(init,a32_p0047,(.02,.056,.002),\n",
    "#                         rhs=_redu_3dc,recompute=False)\n",
    "# data_r3d_p0047_list.append(dat)"
   ]
  },
  {
   "cell_type": "code",
   "execution_count": 73,
   "id": "d8612ec2-9a05-43e8-9886-96ec935fb44d",
   "metadata": {
    "scrolled": true
   },
   "outputs": [],
   "source": [
    "# # top 1b\n",
    "# dat = follow_locking_3d(init,a32_p0047,(.02,.001,-.001),\n",
    "#                         rhs=_redu_3dc,recompute=False)\n",
    "# data_r3d_p0047_list.append(dat)"
   ]
  },
  {
   "cell_type": "code",
   "execution_count": 74,
   "id": "05d2c2bd-a871-490c-97a1-cf0f555f0ef5",
   "metadata": {},
   "outputs": [
    {
     "name": "stdout",
     "output_type": "stream",
     "text": [
      "t_diff 5.59701348743240512, Y=[ 5.59701349 -0.02846867 -0.0189173 ]                                              \n"
     ]
    }
   ],
   "source": [
    "# find init for this branch\n",
    "_,init = phase_lock_r3d([5,0,0],a32_p0047,.02,_redu_3dc)"
   ]
  },
  {
   "cell_type": "code",
   "execution_count": 75,
   "id": "3bf4a2df-93e2-4a73-9ad0-ea462184db72",
   "metadata": {
    "scrolled": true
   },
   "outputs": [],
   "source": [
    "# top 1f\n",
    "dat = follow_locking_3d(init,a32_p0047,(.02,.05,.001),\n",
    "                        rhs=_redu_3dc,recompute=False)\n",
    "data_r3d_p0047_list.append(dat)"
   ]
  },
  {
   "cell_type": "code",
   "execution_count": 76,
   "id": "521df985-39af-4cf8-8653-a206e94ee1d1",
   "metadata": {
    "scrolled": true
   },
   "outputs": [],
   "source": [
    "# top 1b\n",
    "dat = follow_locking_3d(init,a32_p0047,(.02,.001,-.001),\n",
    "                        rhs=_redu_3dc,recompute=False)\n",
    "data_r3d_p0047_list.append(dat)"
   ]
  },
  {
   "cell_type": "markdown",
   "id": "3365cd72-4ac2-43a5-b8ff-578ee094ff91",
   "metadata": {},
   "source": [
    "## Plot"
   ]
  },
  {
   "cell_type": "code",
   "execution_count": 77,
   "id": "58809ed3-4094-4f0f-a1e0-f36f462bdac1",
   "metadata": {},
   "outputs": [
    {
     "name": "stdout",
     "output_type": "stream",
     "text": [
      "eps_min 0.024999999999999998\n"
     ]
    },
    {
     "data": {
      "image/png": "[encoded data removed]",
      "text/plain": [
       "<Figure size 300x200 with 1 Axes>"
      ]
     },
     "metadata": {},
     "output_type": "display_data"
    },
    {
     "data": {
      "image/png": "[encoded data removed]",
      "text/plain": [
       "<Figure size 300x400 with 2 Axes>"
      ]
     },
     "metadata": {},
     "output_type": "display_data"
    }
   ],
   "source": [
    "quick_plot_combined(a32_p0047,\n",
    "                    kw_f={'data_list':data_p0047_list},\n",
    "                    kw_r3d={'data_list':data_r3d_p0047_list},\n",
    "                    kw_r={'etup':etup32})"
   ]
  },
  {
   "cell_type": "markdown",
   "id": "a3b928c1-0e46-48d8-b13a-c87cecd82518",
   "metadata": {},
   "source": [
    "## Sims"
   ]
  },
  {
   "cell_type": "code",
   "execution_count": 78,
   "id": "51d68167-427a-4d11-8e25-39a545260e04",
   "metadata": {},
   "outputs": [],
   "source": [
    "# coupling and init\n",
    "eps32_p0047 = 0.09\n",
    "th_init32_p0047 = 2"
   ]
  },
  {
   "cell_type": "code",
   "execution_count": 79,
   "id": "5f3bc7bc-1508-4d98-a2ec-1824a0ee23ce",
   "metadata": {},
   "outputs": [],
   "source": [
    "# sim params\n",
    "dt = .01;T_p0047=1000\n",
    "t32_p0047 = np.arange(0,T_p0047,dt)\n",
    "args32_p0047 = {'args':(a32_p0047,eps32_p0047,del32_p0047),\n",
    "             't_eval':t32_p0047,**kw_sim,'dense_output':True}"
   ]
  },
  {
   "cell_type": "code",
   "execution_count": 80,
   "id": "345b6bda-d86f-4639-807d-e0688c73a985",
   "metadata": {
    "tags": []
   },
   "outputs": [],
   "source": [
    "# initialize and run full\n",
    "y0a = a32_p0047.system1.lc['dat'][int((th_init32_p0047/(2*np.pi)) * a32_p0047.system1.TN),:]\n",
    "y0b = a32_p0047.system2.lc['dat'][int((0/(2*np.pi)) * a32_p0047.system2.TN),:]\n",
    "\n",
    "y0_p0047 = np.array([y0a,y0b]).flatten()\n",
    "\n",
    "solf32_p0047 = solve_ivp(_full,[0,t32_p0047[-1]],\n",
    "                        y0_p0047, **args32_p0047)"
   ]
  },
  {
   "cell_type": "code",
   "execution_count": 81,
   "id": "319eb11d-fb7a-48fe-b78f-953d6b1b7178",
   "metadata": {
    "tags": []
   },
   "outputs": [],
   "source": [
    "solr32_p0047 = solve_ivp(_redu_c,[0,t32_p0047[-1]],\n",
    "                     [th_init32_p0047],**args32_p0047)"
   ]
  },
  {
   "cell_type": "code",
   "execution_count": 82,
   "id": "bbb152c4-38d0-4d2a-be8f-c4aeb00bbbdd",
   "metadata": {},
   "outputs": [],
   "source": [
    "# solr12b_p0047 = solve_ivp(_redu_3dc,[0,t32_p0047[-1]],\n",
    "#                     [th_init32_p0047,0,0],**args32_p0047)"
   ]
  },
  {
   "cell_type": "code",
   "execution_count": 83,
   "id": "6cada336-afe4-4d9d-afb6-958a89081195",
   "metadata": {},
   "outputs": [],
   "source": [
    "tp12a_p0047, phase12a_p0047 = get_phase(t32_p0047,solf32_p0047.y.T[:,:4],\n",
    "                            skipn=50,system1=a32_p0047.system1)\n",
    "tp12b_p0047, phase12b_p0047 = get_phase(t32_p0047,solf32_p0047.y.T[:,4:],\n",
    "                            skipn=50,system1=a32_p0047.system2)"
   ]
  },
  {
   "cell_type": "code",
   "execution_count": 84,
   "id": "54c53cc2-0e5e-444c-a970-4a3778b67047",
   "metadata": {},
   "outputs": [
    {
     "data": {
      "text/plain": [
       "(-0.5, 6.783185307179586)"
      ]
     },
     "execution_count": 84,
     "metadata": {},
     "output_type": "execute_result"
    },
    {
     "data": {
      "image/png": "[encoded data removed]",
      "text/plain": [
       "<Figure size 640x480 with 1 Axes>"
      ]
     },
     "metadata": {},
     "output_type": "display_data"
    }
   ],
   "source": [
    "fig,axs = plt.subplots()\n",
    "y = np.mod(phase12a_p0047 - a32_p0047.om*phase12b_p0047,2*np.pi)\n",
    "axs.scatter(tp12a_p0047,y,s=1,alpha=.5,color='black')\n",
    "\n",
    "axs.plot(t32_p0047,np.mod(solr32_p0047.y.T,2*np.pi),\n",
    "         color='tab:red')\n",
    "\n",
    "axs.set_ylim(-.5,2*np.pi+.5)"
   ]
  },
  {
   "cell_type": "markdown",
   "id": "88573aff-afc8-464c-91ea-61da207a62e1",
   "metadata": {},
   "source": [
    "## Integrate Reduced Check"
   ]
  },
  {
   "cell_type": "code",
   "execution_count": 85,
   "id": "e6fe551f-9de1-4748-8fe3-cf970be24d03",
   "metadata": {},
   "outputs": [],
   "source": [
    "# # multiple initial conditions\n",
    "# init_phases32_p0047 = np.linspace(0,2*np.pi,6,endpoint=False)\n",
    "# t3d_p0047 = np.arange(0,5000,.01)\n",
    "\n",
    "# sols_3d = []\n",
    "# sols_1d = []\n",
    "\n",
    "# for i in range(len(init_phases32_p0047)):\n",
    "#     sol3d_p0047 = solve_ivp(_redu_3dc,[0,t3d_p0047[-1]],\n",
    "#                            [init_phases32_p0047[i],0,0],\n",
    "#                            args=(a32_p0047,.05),t_eval=t3d_p0047)\n",
    "    \n",
    "#     # sol1d_p0047 = solve_ivp(_redu_c,[0,t3d_p0047[-1]],\n",
    "#     #                        [init_phases32_p0047[i]],\n",
    "#     #                        args=(a32_p0047,.05),t_eval=t3d_p0047)\n",
    "    \n",
    "#     sols_3d.append(sol3d_p0047)\n",
    "#     # sols_1d.append(sol1d_p0047)"
   ]
  },
  {
   "cell_type": "code",
   "execution_count": 86,
   "id": "71065d89-c3cb-4fa1-96b0-956a81fc771b",
   "metadata": {
    "scrolled": true
   },
   "outputs": [],
   "source": [
    "# fig,axs = plt.subplots(figsize=(6,2))\n",
    "# for i in range(len(init_phases32_p0047)):\n",
    "#     axs.plot(t3d_p0047,sols_3d[i].y[0],color='blue')\n",
    "#     # axs.plot(t3d_p0047,sols_1d[i].y[0],color='red')\n",
    "#     print('phase',init_phases32_p0047[i],sols_3d[i].y.T[-1,:])"
   ]
  }
 ],
 "metadata": {
  "jpcodetoc-autonumbering": true,
  "kernelspec": {
   "display_name": "Python 3 (ipykernel)",
   "language": "python",
   "name": "python3"
  },
  "language_info": {
   "codemirror_mode": {
    "name": "ipython",
    "version": 3
   },
   "file_extension": ".py",
   "mimetype": "text/x-python",
   "name": "python",
   "nbconvert_exporter": "python",
   "pygments_lexer": "ipython3",
   "version": "3.10.14"
  }
 },
 "nbformat": 4,
 "nbformat_minor": 5
}
