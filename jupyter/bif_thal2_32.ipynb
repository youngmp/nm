{
 "cells": [
  {
   "cell_type": "markdown",
   "id": "b9d76ed3-0084-48ba-8928-f5d7446dbf3b",
   "metadata": {},
   "source": [
    "# thal2 3:2 Bifurcation Diagrams"
   ]
  },
  {
   "cell_type": "markdown",
   "id": "5a7501b2-b444-49e9-a6b9-61b98bf28435",
   "metadata": {},
   "source": [
    "# Inits"
   ]
  },
  {
   "cell_type": "code",
   "execution_count": 1,
   "id": "9e211c54-3fc2-4394-bb37-2351aa377d0b",
   "metadata": {},
   "outputs": [],
   "source": [
    "import sys; sys.path.insert(0, '..') # add parent folder path where lib folder is\n",
    "# user-defined\n",
    "import nmCoupling as nm\n",
    "# import nmCoupling_old as nm\n",
    "import response as rp\n",
    "\n",
    "import thal2 as t2\n",
    "\n",
    "from lib.util import (get_phase, freq_est, get_tongue_1d, pl_exist_1d,\n",
    "get_period, bif1d, follow_phase_diffs, phase_lock_r3d, follow_locking_3d)\n",
    "\n",
    "from lib.rhs import _redu_c,_full\n",
    "from lib.rhs import _redu_3dc_thal as _redu_3dc\n",
    "\n",
    "from lib.plot_util import (add_diagram_1d_scatter, draw_full_solutions, \n",
    "quick_plot_combined, quick_plot_r)\n",
    "\n",
    "import numpy as np\n",
    "import scipy as sp\n",
    "import matplotlib.pyplot as plt\n",
    "from scipy.integrate import solve_ivp\n",
    "import sympy as sym\n",
    "\n",
    "from scipy.optimize import root,bisect\n",
    "from copy import deepcopy\n",
    "import os\n",
    "\n",
    "plt.rcParams.update({\n",
    "    \"text.usetex\": True,\n",
    "    \"font.family\": \"Helvetica\"\n",
    "})\n",
    "\n",
    "nmc = nm.nmCoupling\n",
    "rsp = rp.Response"
   ]
  },
  {
   "cell_type": "markdown",
   "id": "bb1ee114-c1dd-4ac4-bcb1-9cc0b4139193",
   "metadata": {},
   "source": [
    "## Dicts"
   ]
  },
  {
   "cell_type": "code",
   "execution_count": 2,
   "id": "4614432b-370d-40cb-8381-9a24940c74ca",
   "metadata": {},
   "outputs": [],
   "source": [
    "kw_sim = {'rtol':1e-7,'atol':1e-7,'method':'LSODA'}"
   ]
  },
  {
   "cell_type": "code",
   "execution_count": 3,
   "id": "385d5022-9562-4412-8aea-7eacbaa0d9be",
   "metadata": {},
   "outputs": [],
   "source": [
    "pd1 = {'gL':0.05,'gna':3,'gk':5,\n",
    "       'gt':5,'eL':-70,'ena':50,\n",
    "       'ek':-90,'et':0,'esyn':-1,\n",
    "       'c':1,'alpha':3,'beta':2,\n",
    "       'sigmat':0.8,'vt':-20,\n",
    "       'ib':3.5,'del':0,'om':1,'om_fix':1}"
   ]
  },
  {
   "cell_type": "code",
   "execution_count": 4,
   "id": "a1bdbccc-e4fa-4f3c-bcbc-b978f23cf4e0",
   "metadata": {
    "editable": true,
    "slideshow": {
     "slide_type": ""
    },
    "tags": []
   },
   "outputs": [],
   "source": [
    "# default period must be 2*np.pi\n",
    "kws1 = {'var_names':['v','h','r','w'],\n",
    "        'pardict':pd1,\n",
    "        'rhs':t2.rhs,\n",
    "        'coupling':t2.coupling,\n",
    "        'init':np.array([-.64,0.71,0.25,0,6]),\n",
    "        'TN':20000,\n",
    "        'trunc_order':3,\n",
    "        'z_forward':False,\n",
    "        'i_forward':[False,True,False,False,False,False],\n",
    "        'i_bad_dx':[False,True,False,False,False,False],\n",
    "        'max_iter':50,\n",
    "        'rtol':1e-12,\n",
    "        'atol':1e-12,\n",
    "        'rel_tol':1e-9,\n",
    "        'save_fig':False,\n",
    "        'lc_prominence':.05,\n",
    "        'factor':.5}"
   ]
  },
  {
   "cell_type": "markdown",
   "id": "d98d4690-f2a0-422b-bf72-ab204be2e7ce",
   "metadata": {},
   "source": [
    "## Defs"
   ]
  },
  {
   "cell_type": "code",
   "execution_count": 5,
   "id": "7d18f2ca-cc40-4432-a630-15d262983952",
   "metadata": {},
   "outputs": [],
   "source": [
    "kw_bif = {'method':'LSODA','dense_output':True,'rtol':1e-9,'atol':1e-9}"
   ]
  },
  {
   "cell_type": "code",
   "execution_count": 6,
   "id": "fdccde13-5db6-4467-bf81-1b5739128370",
   "metadata": {},
   "outputs": [],
   "source": [
    "etup23 = (.001,.1,100)\n",
    "eps_list23r = np.linspace(*etup23)"
   ]
  },
  {
   "cell_type": "code",
   "execution_count": 7,
   "id": "f5ae7150-6086-4352-8acc-6fed37f53960",
   "metadata": {
    "editable": true,
    "slideshow": {
     "slide_type": ""
    },
    "tags": []
   },
   "outputs": [],
   "source": [
    "x_temp = np.linspace(-np.pi,3*np.pi,500)"
   ]
  },
  {
   "cell_type": "markdown",
   "id": "b5faed09-0969-4cb4-b3a1-18a7c8e12d11",
   "metadata": {},
   "source": [
    "## Initialize Response Functions"
   ]
  },
  {
   "cell_type": "code",
   "execution_count": 8,
   "id": "f81849f7-de50-4f3d-9333-bee99b9eb15c",
   "metadata": {
    "editable": true,
    "slideshow": {
     "slide_type": ""
    },
    "tags": []
   },
   "outputs": [
    {
     "name": "stdout",
     "output_type": "stream",
     "text": [
      "mkdir ./data/thal0_35/\n",
      "* Loading LC data...\n",
      "self.T 6.283185307179586 omfix 1.6947246128737048\n",
      "* Loading monodromy...\n",
      "* Floquet Exponent kappa =-0.03594482780785962\n",
      "* Loading g symbolic...\n",
      "* Computing g...\n",
      "* Loading heterogeneous terms...\n",
      "* Computing z...\n",
      "* Computing i...\n",
      "mkdir ./data/thal1_35/\n",
      "* Loading LC data...\n",
      "self.T 6.283185307179586 omfix 1.6947246128737048\n",
      "* Loading monodromy...\n",
      "* Floquet Exponent kappa =-0.03594482780785962\n",
      "* Loading g symbolic...\n",
      "* Computing g...\n",
      "* Loading heterogeneous terms...\n",
      "* Computing z...\n",
      "* Computing i...\n"
     ]
    }
   ],
   "source": [
    "system1 = rsp(idx=0,model_name='thal0_35',**kws1)\n",
    "system2 = rsp(idx=1,model_name='thal1_35',**kws1)"
   ]
  },
  {
   "cell_type": "code",
   "execution_count": 9,
   "id": "fe28255e-5db4-4d6b-ac01-e3f8603f911d",
   "metadata": {},
   "outputs": [],
   "source": [
    "kw_nm = {'system1':system1,'system2':system2,'_n':('om0',3),'_m':('om1',2),\n",
    "        'NH':1024,'save_fig':False}"
   ]
  },
  {
   "cell_type": "markdown",
   "id": "b4259a78-a9fe-463c-9537-5e40dd45d50e",
   "metadata": {},
   "source": [
    "# del=0.0"
   ]
  },
  {
   "cell_type": "code",
   "execution_count": 10,
   "id": "369097a8-e666-496d-8bbc-e3abad49b074",
   "metadata": {
    "editable": true,
    "slideshow": {
     "slide_type": ""
    },
    "tags": []
   },
   "outputs": [
    {
     "name": "stdout",
     "output_type": "stream",
     "text": [
      "pfactor 20\n",
      "* Loading p symbolic...\n",
      "* Loading p symbolic...\n",
      "* Loading H symbolic...\n",
      "* Loading H symbolic...\n",
      "* Loading H thal0_35, order=0...\n",
      "* Loading H thal1_35, order=0...\n",
      "* Loading H thal0_35, order=1...\n",
      "* Loading H thal1_35, order=1...\n",
      "* Loading H thal0_35, order=2...\n",
      "* Loading H thal1_35, order=2...\n",
      "* Loading H thal0_35, order=3...\n",
      "* Loading H thal1_35, order=3...\n"
     ]
    }
   ],
   "source": [
    "del32_p0 = 0\n",
    "a32_p0 = nm.nmCoupling(**kw_nm, del1=del32_p0)"
   ]
  },
  {
   "cell_type": "markdown",
   "id": "8684de80-cbd1-4526-bf91-6a66e1324653",
   "metadata": {},
   "source": [
    "## Get Branches Full"
   ]
  },
  {
   "cell_type": "code",
   "execution_count": 11,
   "id": "79e162ce-60b6-42a2-8122-e1b5451a7abf",
   "metadata": {},
   "outputs": [],
   "source": [
    "kw_p0 = {'a':a32_p0,'del1':del32_p0,'recompute':True,\n",
    "         'bifdir':'bif1d_thal2/','_full_rhs':_full}"
   ]
  },
  {
   "cell_type": "code",
   "execution_count": 12,
   "id": "a300fc18-32a3-4c14-ab7f-bb9e36365567",
   "metadata": {},
   "outputs": [],
   "source": [
    "data_p0_list = []"
   ]
  },
  {
   "cell_type": "code",
   "execution_count": null,
   "id": "ba1de06a-c030-4d35-b083-869d729a43fe",
   "metadata": {},
   "outputs": [],
   "source": [
    "in_dicts = [dict(init=2.5,eps_init=0.02,eps_final=0.11,deps=.01),\n",
    "            dict(init=2.5,eps_init=0.02,eps_final=0.0005,deps=-.001)]"
   ]
  },
  {
   "cell_type": "code",
   "execution_count": null,
   "id": "ea201ac7-9a6d-4d38-a426-1ae29c2baa6a",
   "metadata": {
    "scrolled": true
   },
   "outputs": [],
   "source": [
    "for i in range(len(in_dicts)):\n",
    "    in1 = in_dicts[i]\n",
    "    dat = follow_phase_diffs(**in1,**kw_p0)\n",
    "    data_p0_list.append(dat)\n",
    "fname = kw_p0['bifdir']+'hyper_thal2_32_p0.txt'"
   ]
  },
  {
   "cell_type": "code",
   "execution_count": null,
   "id": "5729235d-b38c-4fad-9524-a87e6a51ac8a",
   "metadata": {},
   "outputs": [],
   "source": [
    "# save hyperparameters\n",
    "hyp_inputs = np.zeros([len(in_dicts),4])\n",
    "for i in range(len(in_dicts)):\n",
    "    hyp_inputs[i,0] = in_dicts[i]['init']\n",
    "    hyp_inputs[i,1] = in_dicts[i]['eps_init']\n",
    "    hyp_inputs[i,2] = in_dicts[i]['eps_final']\n",
    "    hyp_inputs[i,3] = in_dicts[i]['deps']\n",
    "np.savetxt(fname,hyp_inputs)"
   ]
  },
  {
   "cell_type": "markdown",
   "id": "0842c294-15f3-4a62-8369-350584365e53",
   "metadata": {},
   "source": [
    "## Get Branches 3D"
   ]
  },
  {
   "cell_type": "code",
   "execution_count": null,
   "id": "e9e556d9-c81b-4728-a508-7256539aeec4",
   "metadata": {},
   "outputs": [],
   "source": [
    "data_r3d_p0_list = []"
   ]
  },
  {
   "cell_type": "code",
   "execution_count": null,
   "id": "7de86efa-ef9f-42f0-9100-381eb81a4ab5",
   "metadata": {
    "scrolled": true
   },
   "outputs": [],
   "source": [
    "# find init for this branch mid\n",
    "_,init = phase_lock_r3d([5,0,0],a32_p0,.05,_redu_3dc)\n",
    "print(init)"
   ]
  },
  {
   "cell_type": "code",
   "execution_count": null,
   "id": "25af9e14-252f-4c4a-b8c3-f51738beb29a",
   "metadata": {
    "scrolled": true
   },
   "outputs": [],
   "source": [
    "# branch 1\n",
    "dat = follow_locking_3d(init,a32_p0,(.05,.057,.002),\n",
    "                        rhs=_redu_3dc,recompute=False)\n",
    "data_r3d_p0_list.append(dat)"
   ]
  },
  {
   "cell_type": "code",
   "execution_count": null,
   "id": "879603dc-65ba-425e-8dfd-e28f86169a1f",
   "metadata": {
    "scrolled": true
   },
   "outputs": [],
   "source": [
    "# branch 1\n",
    "dat = follow_locking_3d(init,a32_p0,(.05,.001,-.002),\n",
    "                        rhs=_redu_3dc,recompute=False)\n",
    "data_r3d_p0_list.append(dat)"
   ]
  },
  {
   "cell_type": "code",
   "execution_count": null,
   "id": "9d8dc2dc-b730-4beb-aab4-fbf378ce8e88",
   "metadata": {},
   "outputs": [],
   "source": [
    "# find init for branch 2\n",
    "_,init = phase_lock_r3d([2.5,0,0],a32_p0,.05,_redu_3dc)\n",
    "print(init)"
   ]
  },
  {
   "cell_type": "code",
   "execution_count": null,
   "id": "a448a6ed-f60e-4d05-b51c-09a7c58c67a8",
   "metadata": {
    "scrolled": true
   },
   "outputs": [],
   "source": [
    "# branch 2\n",
    "dat = follow_locking_3d(init,a32_p0,(.05,.062,.002),\n",
    "                        rhs=_redu_3dc,recompute=False)\n",
    "data_r3d_p0_list.append(dat)"
   ]
  },
  {
   "cell_type": "code",
   "execution_count": null,
   "id": "7d73926a-14cb-4ae1-b2e0-9b27df0b9668",
   "metadata": {
    "scrolled": true
   },
   "outputs": [],
   "source": [
    "# branch 2\n",
    "dat = follow_locking_3d(init,a32_p0,(.05,.001,-.002),\n",
    "                        rhs=_redu_3dc,recompute=False)\n",
    "data_r3d_p0_list.append(dat)"
   ]
  },
  {
   "cell_type": "markdown",
   "id": "5bcf3abe-397e-4773-a909-424932d96f0e",
   "metadata": {},
   "source": [
    "## Plot"
   ]
  },
  {
   "cell_type": "code",
   "execution_count": null,
   "id": "aa6bb9cc-0e99-41e4-af58-6cc3048c4b10",
   "metadata": {},
   "outputs": [],
   "source": [
    "quick_plot_combined(a32_p0,\n",
    "                    kw_f={'data_list':data_p0_list},\n",
    "                    #kw_r3d={'data_list':data_r3d_p0_list},\n",
    "                    kw_r={'etup':etup23})"
   ]
  },
  {
   "cell_type": "markdown",
   "id": "eda51bbd-62bd-4511-990d-06e5fe33dc26",
   "metadata": {},
   "source": [
    "# del=0.001"
   ]
  },
  {
   "cell_type": "code",
   "execution_count": null,
   "id": "929d8f14-db8b-4c95-ac67-466c8cb8f9d0",
   "metadata": {
    "editable": true,
    "scrolled": true,
    "slideshow": {
     "slide_type": ""
    },
    "tags": []
   },
   "outputs": [],
   "source": [
    "del32_p001 = 0.001\n",
    "a32_p001 = nm.nmCoupling(**kw_nm, del1=del32_p001)"
   ]
  },
  {
   "cell_type": "markdown",
   "id": "90d6cc28-b032-45e8-bd27-28e2f5ec4340",
   "metadata": {},
   "source": [
    "## Get Branches Full"
   ]
  },
  {
   "cell_type": "code",
   "execution_count": null,
   "id": "ae942c72-0218-4355-b44d-45bea8acbadd",
   "metadata": {},
   "outputs": [],
   "source": [
    "kw_p001 = {'a':a32_p001,'del1':del32_p001,'recompute':True,\n",
    "         'bifdir':'bif1d_thal2/','_full_rhs':_full}"
   ]
  },
  {
   "cell_type": "code",
   "execution_count": null,
   "id": "c77e9ba8-65c4-4999-8587-4171a013665c",
   "metadata": {},
   "outputs": [],
   "source": [
    "data_p001_list = []"
   ]
  },
  {
   "cell_type": "code",
   "execution_count": null,
   "id": "658bee7f-d9b4-4699-a298-a924b78c81c1",
   "metadata": {},
   "outputs": [],
   "source": [
    "in_dicts = [dict(init=0,eps_init=0.02,eps_final=0.11,deps=.01),\n",
    "            dict(init=0,eps_init=0.02,eps_final=0.0005,deps=-.001)]"
   ]
  },
  {
   "cell_type": "code",
   "execution_count": null,
   "id": "d12b88b0-b556-4996-8d53-7ca13f4680d0",
   "metadata": {
    "scrolled": true
   },
   "outputs": [],
   "source": [
    "for i in range(len(in_dicts)):\n",
    "    in1 = in_dicts[i]\n",
    "    dat = follow_phase_diffs(**in1,**kw_p001)\n",
    "    data_p001_list.append(dat)\n",
    "fname = kw_p001['bifdir']+'hyper_thal2_32_p001.txt'"
   ]
  },
  {
   "cell_type": "code",
   "execution_count": null,
   "id": "9af83496-1edf-4882-a179-dcfb252b8c98",
   "metadata": {},
   "outputs": [],
   "source": [
    "# save hyperparameters\n",
    "hyp_inputs = np.zeros([len(in_dicts),4])\n",
    "for i in range(len(in_dicts)):\n",
    "    hyp_inputs[i,0] = in_dicts[i]['init']\n",
    "    hyp_inputs[i,1] = in_dicts[i]['eps_init']\n",
    "    hyp_inputs[i,2] = in_dicts[i]['eps_final']\n",
    "    hyp_inputs[i,3] = in_dicts[i]['deps']\n",
    "np.savetxt(fname,hyp_inputs)"
   ]
  },
  {
   "cell_type": "markdown",
   "id": "4ee8ad8b-1f67-426e-831b-a710ce46bbf1",
   "metadata": {},
   "source": [
    "## Get Branches 3D"
   ]
  },
  {
   "cell_type": "code",
   "execution_count": null,
   "id": "565f5934-5b53-400d-a843-6983ad1e1f3a",
   "metadata": {},
   "outputs": [],
   "source": [
    "data_r3d_p001_list = []"
   ]
  },
  {
   "cell_type": "code",
   "execution_count": null,
   "id": "3cfcc65f-e167-466c-a5e9-0fe3ed47a850",
   "metadata": {
    "scrolled": true
   },
   "outputs": [],
   "source": [
    "# find init for this branch mid\n",
    "_,init = phase_lock_r3d([5,0,0],a32_p001,.05,_redu_3dc)\n",
    "print(init)"
   ]
  },
  {
   "cell_type": "code",
   "execution_count": null,
   "id": "7241380d-c4f2-43c1-81fa-0a771dbc1bdb",
   "metadata": {
    "scrolled": true
   },
   "outputs": [],
   "source": [
    "# branch 1\n",
    "dat = follow_locking_3d(init,a32_p001,(.05,.064,.002),\n",
    "                        rhs=_redu_3dc,recompute=False)\n",
    "data_r3d_p001_list.append(dat)"
   ]
  },
  {
   "cell_type": "code",
   "execution_count": null,
   "id": "5a3c466f-b829-46b1-91b1-605ec34b94eb",
   "metadata": {
    "scrolled": true
   },
   "outputs": [],
   "source": [
    "# branch 1\n",
    "dat = follow_locking_3d(init,a32_p001,(.05,.001,-.002),\n",
    "                        rhs=_redu_3dc,recompute=False)\n",
    "data_r3d_p001_list.append(dat)"
   ]
  },
  {
   "cell_type": "code",
   "execution_count": null,
   "id": "2e0f4002-31d0-4ee9-8b23-502e79b46412",
   "metadata": {},
   "outputs": [],
   "source": [
    "# find init for branch 2\n",
    "_,init = phase_lock_r3d([2.5,0,0],a32_p001,.05,_redu_3dc)\n",
    "print(init)"
   ]
  },
  {
   "cell_type": "code",
   "execution_count": null,
   "id": "0e055230-a7dc-407c-880d-d6b8458fcde9",
   "metadata": {
    "scrolled": true
   },
   "outputs": [],
   "source": [
    "# branch 2\n",
    "dat = follow_locking_3d(init,a32_p001,(.05,.082,.002),\n",
    "                        rhs=_redu_3dc,recompute=False)\n",
    "data_r3d_p001_list.append(dat)"
   ]
  },
  {
   "cell_type": "code",
   "execution_count": null,
   "id": "aff3f304-21a0-457a-a503-28c67b1c9e61",
   "metadata": {
    "scrolled": true
   },
   "outputs": [],
   "source": [
    "# branch 2\n",
    "dat = follow_locking_3d(init,a32_p001,(.05,.001,-.002),\n",
    "                        rhs=_redu_3dc,recompute=False)\n",
    "data_r3d_p001_list.append(dat)"
   ]
  },
  {
   "cell_type": "code",
   "execution_count": null,
   "id": "0d54280a-e755-4f28-bc92-b93666621397",
   "metadata": {},
   "outputs": [],
   "source": [
    "# find init for branch 3\n",
    "_,init = phase_lock_r3d([.5,0,0],a32_p001,.05,_redu_3dc)\n",
    "print(init)"
   ]
  },
  {
   "cell_type": "code",
   "execution_count": null,
   "id": "f945bcba-3650-47f2-a14b-5bc75b742e91",
   "metadata": {
    "scrolled": true
   },
   "outputs": [],
   "source": [
    "# branch 3\n",
    "dat = follow_locking_3d(init,a32_p001,(.05,.082,.002),\n",
    "                        rhs=_redu_3dc,recompute=False)\n",
    "data_r3d_p001_list.append(dat)"
   ]
  },
  {
   "cell_type": "code",
   "execution_count": null,
   "id": "0bb62e83-5d8b-4332-aeaa-524ad0e30d2c",
   "metadata": {
    "scrolled": true
   },
   "outputs": [],
   "source": [
    "# branch 3\n",
    "dat = follow_locking_3d(init,a32_p001,(.05,.001,-.002),\n",
    "                        rhs=_redu_3dc,recompute=False)\n",
    "data_r3d_p001_list.append(dat)"
   ]
  },
  {
   "cell_type": "markdown",
   "id": "1cd67bdf-9981-49bb-8fe9-eb4d74a5612a",
   "metadata": {},
   "source": [
    "## Plot"
   ]
  },
  {
   "cell_type": "code",
   "execution_count": null,
   "id": "62c8fae1-a6db-4757-9e56-f7efece23db0",
   "metadata": {},
   "outputs": [],
   "source": [
    "quick_plot_r(a32_p001,etup23)"
   ]
  },
  {
   "cell_type": "code",
   "execution_count": null,
   "id": "38ff4e04-7191-421a-b88f-f65a9ddbb04c",
   "metadata": {},
   "outputs": [],
   "source": [
    "quick_plot_combined(a32_p001,\n",
    "                    kw_f={'data_list':data_p001_list},\n",
    "                    kw_r3d={'data_list':data_r3d_p001_list},\n",
    "                    kw_r={'etup':etup23})"
   ]
  },
  {
   "cell_type": "markdown",
   "id": "773b05cb-0256-44ab-94a5-6ead8708ca06",
   "metadata": {},
   "source": [
    "# del=0.003"
   ]
  },
  {
   "cell_type": "code",
   "execution_count": null,
   "id": "e066a8b4-f196-4c3a-9136-997e6203692f",
   "metadata": {
    "editable": true,
    "scrolled": true,
    "slideshow": {
     "slide_type": ""
    },
    "tags": []
   },
   "outputs": [],
   "source": [
    "del32_p003 = 0.003\n",
    "a32_p003 = nm.nmCoupling(**kw_nm, del1=del32_p003)"
   ]
  },
  {
   "cell_type": "markdown",
   "id": "aacd36c2-84bf-4560-a17b-3cfcf3ff7005",
   "metadata": {},
   "source": [
    "## Get Branches Full"
   ]
  },
  {
   "cell_type": "code",
   "execution_count": null,
   "id": "0118c399-72cb-4ce5-a2cf-b754b31ced9c",
   "metadata": {},
   "outputs": [],
   "source": [
    "kw_p003 = {'a':a32_p003,'del1':del32_p003,'recompute':True,\n",
    "         'bifdir':'bif1d_thal2/','_full_rhs':_full}"
   ]
  },
  {
   "cell_type": "code",
   "execution_count": null,
   "id": "6602b2b3-4931-4818-843f-4162dd1f3549",
   "metadata": {},
   "outputs": [],
   "source": [
    "data_p003_list = []"
   ]
  },
  {
   "cell_type": "code",
   "execution_count": null,
   "id": "3f9d2154-005e-4003-904d-6ea66ba1a0f3",
   "metadata": {},
   "outputs": [],
   "source": [
    "in_dicts = [dict(init=0,eps_init=0.02,eps_final=0.11,deps=.01),\n",
    "            dict(init=0,eps_init=0.01,eps_final=0.0005,deps=-.001)]"
   ]
  },
  {
   "cell_type": "code",
   "execution_count": null,
   "id": "28f9e0ed-2da6-4fc0-9413-fbf758cce907",
   "metadata": {
    "scrolled": true
   },
   "outputs": [],
   "source": [
    "for i in range(len(in_dicts)):\n",
    "    in1 = in_dicts[i]\n",
    "    dat = follow_phase_diffs(**in1,**kw_p003)\n",
    "    data_p003_list.append(dat)\n",
    "fname = kw_p003['bifdir']+'hyper_thal2_32_p003.txt'"
   ]
  },
  {
   "cell_type": "code",
   "execution_count": null,
   "id": "f934a71b-1bd0-478d-9124-bc6bbeec7ba1",
   "metadata": {},
   "outputs": [],
   "source": [
    "# save hyperparameters\n",
    "hyp_inputs = np.zeros([len(in_dicts),4])\n",
    "for i in range(len(in_dicts)):\n",
    "    hyp_inputs[i,0] = in_dicts[i]['init']\n",
    "    hyp_inputs[i,1] = in_dicts[i]['eps_init']\n",
    "    hyp_inputs[i,2] = in_dicts[i]['eps_final']\n",
    "    hyp_inputs[i,3] = in_dicts[i]['deps']\n",
    "np.savetxt(fname,hyp_inputs)"
   ]
  },
  {
   "cell_type": "markdown",
   "id": "7a6374cd-79aa-4102-9c36-90d053cc840d",
   "metadata": {},
   "source": [
    "## Get Branches 3D"
   ]
  },
  {
   "cell_type": "code",
   "execution_count": null,
   "id": "188548a3-d04e-4bcb-9741-2c21bcce78a0",
   "metadata": {},
   "outputs": [],
   "source": [
    "data_r3d_p003_list = []"
   ]
  },
  {
   "cell_type": "code",
   "execution_count": null,
   "id": "9c0dfd66-b70b-40af-bc6e-2f01cedeff3b",
   "metadata": {
    "scrolled": true
   },
   "outputs": [],
   "source": [
    "# find init for this branch mid\n",
    "_,init = phase_lock_r3d([5,0,0],a32_p003,.05,_redu_3dc)\n",
    "print(init)"
   ]
  },
  {
   "cell_type": "code",
   "execution_count": null,
   "id": "675a201c-c1bf-43cd-b60d-9ee377127ac8",
   "metadata": {
    "scrolled": true
   },
   "outputs": [],
   "source": [
    "# branch 1\n",
    "dat = follow_locking_3d(init,a32_p003,(.05,.11,.01),\n",
    "                        rhs=_redu_3dc,recompute=False)\n",
    "data_r3d_p003_list.append(dat)"
   ]
  },
  {
   "cell_type": "code",
   "execution_count": null,
   "id": "adf9ce6e-afdc-400e-8e63-c0f3073149e1",
   "metadata": {
    "scrolled": true
   },
   "outputs": [],
   "source": [
    "# branch 1\n",
    "dat = follow_locking_3d(init,a32_p003,(.05,.001,-.002),\n",
    "                        rhs=_redu_3dc,recompute=False)\n",
    "data_r3d_p003_list.append(dat)"
   ]
  },
  {
   "cell_type": "code",
   "execution_count": null,
   "id": "226be05e-3567-4d02-a369-23d0b8467752",
   "metadata": {},
   "outputs": [],
   "source": [
    "# find init for branch 2\n",
    "_,init = phase_lock_r3d([2.5,0,0],a32_p003,.05,_redu_3dc)\n",
    "print(init)"
   ]
  },
  {
   "cell_type": "code",
   "execution_count": null,
   "id": "a19a872e-0434-42dd-a341-44c111058a55",
   "metadata": {
    "scrolled": true
   },
   "outputs": [],
   "source": [
    "# branch 2\n",
    "dat = follow_locking_3d(init,a32_p003,(.05,.11,.01),\n",
    "                        rhs=_redu_3dc,recompute=False)\n",
    "data_r3d_p003_list.append(dat)"
   ]
  },
  {
   "cell_type": "code",
   "execution_count": null,
   "id": "65d5abef-1e9c-4076-9df2-41664488110b",
   "metadata": {
    "scrolled": true
   },
   "outputs": [],
   "source": [
    "# branch 2\n",
    "dat = follow_locking_3d(init,a32_p003,(.05,.001,-.002),\n",
    "                        rhs=_redu_3dc,recompute=False)\n",
    "data_r3d_p003_list.append(dat)"
   ]
  },
  {
   "cell_type": "code",
   "execution_count": null,
   "id": "53376635-9a0e-448d-8eaa-2df56df9b873",
   "metadata": {},
   "outputs": [],
   "source": [
    "# find init for branch 3\n",
    "_,init = phase_lock_r3d([.5,0,0],a32_p003,.05,_redu_3dc)\n",
    "print(init)"
   ]
  },
  {
   "cell_type": "code",
   "execution_count": null,
   "id": "4b70dda1-1a31-4e28-a74e-8df0b9de2ed8",
   "metadata": {
    "scrolled": true
   },
   "outputs": [],
   "source": [
    "# branch 3\n",
    "dat = follow_locking_3d(init,a32_p003,(.05,.11,.01),\n",
    "                        rhs=_redu_3dc,recompute=False)\n",
    "data_r3d_p003_list.append(dat)"
   ]
  },
  {
   "cell_type": "code",
   "execution_count": null,
   "id": "b4e9e0d1-cd4e-4dcc-8c5c-12afcb572d6a",
   "metadata": {
    "scrolled": true
   },
   "outputs": [],
   "source": [
    "# branch 3\n",
    "dat = follow_locking_3d(init,a32_p003,(.05,.001,-.002),\n",
    "                        rhs=_redu_3dc,recompute=False)\n",
    "data_r3d_p003_list.append(dat)"
   ]
  },
  {
   "cell_type": "markdown",
   "id": "d60c9737-77b2-4a0e-9823-e8edcf435ff6",
   "metadata": {},
   "source": [
    "## Plot"
   ]
  },
  {
   "cell_type": "code",
   "execution_count": null,
   "id": "c22c436d-d6cd-455a-b651-95c0461b1e59",
   "metadata": {},
   "outputs": [],
   "source": [
    "quick_plot_r(a32_p003,etup23)"
   ]
  },
  {
   "cell_type": "code",
   "execution_count": null,
   "id": "30f7ef6f-ab90-45f5-bf1b-105b0f6f5105",
   "metadata": {},
   "outputs": [],
   "source": [
    "quick_plot_combined(a32_p003,\n",
    "                    kw_f={'data_list':data_p003_list},\n",
    "                    kw_r3d={'data_list':data_r3d_p003_list},\n",
    "                    kw_r={'etup':etup23})"
   ]
  },
  {
   "cell_type": "markdown",
   "id": "3ca76895-5d76-4636-be2d-68ebc82f0d18",
   "metadata": {},
   "source": [
    "# del=0.004"
   ]
  },
  {
   "cell_type": "code",
   "execution_count": null,
   "id": "df678771-4a1c-431c-86a3-369edbe03842",
   "metadata": {
    "editable": true,
    "scrolled": true,
    "slideshow": {
     "slide_type": ""
    },
    "tags": []
   },
   "outputs": [],
   "source": [
    "del32_p004 = 0.004\n",
    "a32_p004 = nm.nmCoupling(**kw_nm, del1=del32_p004)"
   ]
  },
  {
   "cell_type": "markdown",
   "id": "86da335c-cfe1-492a-9539-6b07bec9c0f6",
   "metadata": {},
   "source": [
    "## Get Branches Full"
   ]
  },
  {
   "cell_type": "code",
   "execution_count": null,
   "id": "00d6aaee-2948-4304-9c46-b996e5b29fd2",
   "metadata": {},
   "outputs": [],
   "source": [
    "kw_p004 = {'a':a32_p004,'del1':del32_p004,'recompute':True,\n",
    "         'bifdir':'bif1d_thal2/','_full_rhs':_full}"
   ]
  },
  {
   "cell_type": "code",
   "execution_count": null,
   "id": "261be8b0-1e14-44c4-b934-5bcb41ba717c",
   "metadata": {},
   "outputs": [],
   "source": [
    "data_p004_list = []"
   ]
  },
  {
   "cell_type": "code",
   "execution_count": null,
   "id": "d98b56f0-9afd-4767-ba5a-0d309e1766d0",
   "metadata": {},
   "outputs": [],
   "source": [
    "in_dicts = [dict(init=0,eps_init=0.02,eps_final=0.11,deps=.01),\n",
    "            dict(init=0,eps_init=0.01,eps_final=0.0005, deps=-.001)]"
   ]
  },
  {
   "cell_type": "code",
   "execution_count": null,
   "id": "191f26f5-bf65-460a-ba87-ee66149bd018",
   "metadata": {
    "scrolled": true
   },
   "outputs": [],
   "source": [
    "for i in range(len(in_dicts)):\n",
    "    in1 = in_dicts[i]\n",
    "    dat = follow_phase_diffs(**in1,**kw_p004)\n",
    "    data_p004_list.append(dat)\n",
    "fname = kw_p004['bifdir']+'hyper_thal2_32_p004.txt'"
   ]
  },
  {
   "cell_type": "code",
   "execution_count": null,
   "id": "e392ecb5-b8f4-4858-9565-389c76e0d6a8",
   "metadata": {},
   "outputs": [],
   "source": [
    "# save hyperparameters\n",
    "hyp_inputs = np.zeros([len(in_dicts),4])\n",
    "for i in range(len(in_dicts)):\n",
    "    hyp_inputs[i,0] = in_dicts[i]['init']\n",
    "    hyp_inputs[i,1] = in_dicts[i]['eps_init']\n",
    "    hyp_inputs[i,2] = in_dicts[i]['eps_final']\n",
    "    hyp_inputs[i,3] = in_dicts[i]['deps']\n",
    "np.savetxt(fname,hyp_inputs)"
   ]
  },
  {
   "cell_type": "markdown",
   "id": "f28f393b-748d-4efc-a1ce-4c17e93ccd13",
   "metadata": {},
   "source": [
    "## Get Branches 3D"
   ]
  },
  {
   "cell_type": "code",
   "execution_count": null,
   "id": "feda0737-737f-4a3b-abdb-cf5cea657ada",
   "metadata": {},
   "outputs": [],
   "source": [
    "data_r3d_p004_list = []"
   ]
  },
  {
   "cell_type": "code",
   "execution_count": null,
   "id": "b55a4f14-8e0e-47e2-ba8e-38679ee45e5c",
   "metadata": {
    "scrolled": true
   },
   "outputs": [],
   "source": [
    "# find init for this branch mid\n",
    "_,init = phase_lock_r3d([5,0,0],a32_p004,.05,_redu_3dc)\n",
    "print(init)"
   ]
  },
  {
   "cell_type": "code",
   "execution_count": null,
   "id": "42786341-faed-469a-8a14-c14144f49079",
   "metadata": {
    "scrolled": true
   },
   "outputs": [],
   "source": [
    "# branch 1\n",
    "dat = follow_locking_3d(init,a32_p004,(.05,.11,.01),\n",
    "                        rhs=_redu_3dc,recompute=False)\n",
    "data_r3d_p004_list.append(dat)"
   ]
  },
  {
   "cell_type": "code",
   "execution_count": null,
   "id": "331c0f31-a694-412a-b5b1-807dcdb76fd9",
   "metadata": {
    "scrolled": true
   },
   "outputs": [],
   "source": [
    "# branch 1\n",
    "dat = follow_locking_3d(init,a32_p004,(.05,.001,-.002),\n",
    "                        rhs=_redu_3dc,recompute=False)\n",
    "data_r3d_p004_list.append(dat)"
   ]
  },
  {
   "cell_type": "code",
   "execution_count": null,
   "id": "51a8df3b-ad63-459c-bb17-002bda666e8a",
   "metadata": {},
   "outputs": [],
   "source": [
    "# find init for branch 2\n",
    "_,init = phase_lock_r3d([2.5,0,0],a32_p004,.05,_redu_3dc)\n",
    "print(init)"
   ]
  },
  {
   "cell_type": "code",
   "execution_count": null,
   "id": "3037b8bf-1cb2-4d88-8e1d-1ae61ec8940b",
   "metadata": {
    "scrolled": true
   },
   "outputs": [],
   "source": [
    "# branch 2\n",
    "dat = follow_locking_3d(init,a32_p004,(.05,.11,.01),\n",
    "                        rhs=_redu_3dc,recompute=False)\n",
    "data_r3d_p004_list.append(dat)"
   ]
  },
  {
   "cell_type": "code",
   "execution_count": null,
   "id": "714b7708-70a8-4fc0-8cd1-c087d9efab77",
   "metadata": {
    "scrolled": true
   },
   "outputs": [],
   "source": [
    "# branch 2\n",
    "dat = follow_locking_3d(init,a32_p004,(.05,.001,-.002),\n",
    "                        rhs=_redu_3dc,recompute=False)\n",
    "data_r3d_p004_list.append(dat)"
   ]
  },
  {
   "cell_type": "code",
   "execution_count": null,
   "id": "d3975b6f-8709-407a-a679-4a94a1c45f77",
   "metadata": {},
   "outputs": [],
   "source": [
    "# find init for branch 3\n",
    "_,init = phase_lock_r3d([.5,0,0],a32_p004,.05,_redu_3dc)\n",
    "print(init)"
   ]
  },
  {
   "cell_type": "code",
   "execution_count": null,
   "id": "106f87f1-5d18-4dd8-82d3-14a07654017b",
   "metadata": {
    "scrolled": true
   },
   "outputs": [],
   "source": [
    "# branch 3\n",
    "dat = follow_locking_3d(init,a32_p004,(.05,.11,.01),\n",
    "                        rhs=_redu_3dc,recompute=False)\n",
    "data_r3d_p004_list.append(dat)"
   ]
  },
  {
   "cell_type": "code",
   "execution_count": null,
   "id": "dbae8b4f-f90d-4280-ab74-a7ceb20c12fe",
   "metadata": {
    "scrolled": true
   },
   "outputs": [],
   "source": [
    "# branch 3\n",
    "dat = follow_locking_3d(init,a32_p004,(.05,.001,-.002),\n",
    "                        rhs=_redu_3dc,recompute=False)\n",
    "data_r3d_p004_list.append(dat)"
   ]
  },
  {
   "cell_type": "markdown",
   "id": "29bbddd4-3cee-4d25-9d89-31358d7125c2",
   "metadata": {},
   "source": [
    "## Plot"
   ]
  },
  {
   "cell_type": "code",
   "execution_count": null,
   "id": "93fdd7bd-2701-4c40-99fd-b500609e2c05",
   "metadata": {},
   "outputs": [],
   "source": [
    "quick_plot_r(a32_p004,etup23)"
   ]
  },
  {
   "cell_type": "code",
   "execution_count": null,
   "id": "59a9fd67-5a0c-419e-9cc4-4bd96e4599fd",
   "metadata": {},
   "outputs": [],
   "source": [
    "quick_plot_combined(a32_p004,\n",
    "                    kw_f={'data_list':data_p004_list},\n",
    "                    kw_r3d={'data_list':data_r3d_p004_list},\n",
    "                    kw_r={'etup':etup23})"
   ]
  },
  {
   "cell_type": "markdown",
   "id": "2be60aa8-c8e9-4a9e-80b1-a167d8a32ffb",
   "metadata": {},
   "source": [
    "## Sims"
   ]
  },
  {
   "cell_type": "code",
   "execution_count": null,
   "id": "07da8bc4-01af-429c-8547-8cb20cea07a6",
   "metadata": {},
   "outputs": [],
   "source": [
    "eps32_p004 = 0.05\n",
    "th_init32_p004 = 3"
   ]
  },
  {
   "cell_type": "code",
   "execution_count": null,
   "id": "67491157-a8ff-444f-a6e3-63e053d8fb61",
   "metadata": {},
   "outputs": [],
   "source": [
    "dt = .01;T_p004=2000\n",
    "t32_p004 = np.arange(0,T_p004,dt)\n",
    "args32_p004 = {'args':(a32_p004,eps32_p004,del32_p004),\n",
    "               't_eval':t32_p004,**kw_sim}"
   ]
  },
  {
   "cell_type": "code",
   "execution_count": null,
   "id": "288c714c-4516-4d75-a946-f372aa7ef269",
   "metadata": {
    "tags": []
   },
   "outputs": [],
   "source": [
    "y0a = a32_p004.system1.lc['dat'][int((th_init32_p004/(2*np.pi)) * a32_p004.system1.TN),:]\n",
    "y0b = a32_p004.system2.lc['dat'][int((0/(2*np.pi)) * a32_p004.system2.TN),:]\n",
    "\n",
    "y0_p004 = np.array([y0a,y0b]).flatten()\n",
    "\n",
    "solf32_p004 = solve_ivp(_full,[0,t32_p004[-1]],\n",
    "                        y0_p004, **args32_p004)"
   ]
  },
  {
   "cell_type": "code",
   "execution_count": null,
   "id": "fba1a627-de56-435a-bd69-1b0649768b0f",
   "metadata": {
    "tags": []
   },
   "outputs": [],
   "source": [
    "solr32_p004 = solve_ivp(_redu_c,[0,t32_p004[-1]],\n",
    "                        [th_init32_p004],**args32_p004)"
   ]
  },
  {
   "cell_type": "code",
   "execution_count": null,
   "id": "9397cd1a-2e5e-45a9-a20e-9b232f8a4241",
   "metadata": {},
   "outputs": [],
   "source": [
    "# solr12b_p004 = solve_ivp(_redu_3dc,[0,t32_p004[-1]],\n",
    "#                     [th_init32_p004,0,0],**args32_p004)"
   ]
  },
  {
   "cell_type": "code",
   "execution_count": null,
   "id": "d5e4409f-b4a6-492f-b9b1-79d718b8ce95",
   "metadata": {},
   "outputs": [],
   "source": [
    "tp12a_p004, phase12a_p004 = get_phase(t32_p004,solf32_p004.y.T[:,:4],\n",
    "                            skipn=50,system1=a32_p004.system1)\n",
    "tp12b_p004, phase12b_p004 = get_phase(t32_p004,solf32_p004.y.T[:,4:],\n",
    "                            skipn=50,system1=a32_p004.system2)"
   ]
  },
  {
   "cell_type": "code",
   "execution_count": null,
   "id": "a0f15a64-f073-4aae-ab70-fadb794358dd",
   "metadata": {},
   "outputs": [],
   "source": [
    "fig,axs = plt.subplots()\n",
    "y = np.mod(phase12a_p004 - a32_p004.om*phase12b_p004,2*np.pi)\n",
    "axs.scatter(tp12a_p004,y,s=1,alpha=.5,color='black')\n",
    "\n",
    "axs.plot(t32_p004,np.mod(solr32_p004.y.T,2*np.pi),color='tab:red')\n",
    "\n",
    "# axs.plot(t32_p004*a32_p004.om,np.mod(solr12b_p004.y[0]-a32_p004.om*solr12b_p004.y[2],2*np.pi),color='tab:blue')\n",
    "\n",
    "#axs.plot(t12*a12.om,np.mod(solr12c.y[0]-a12.om*solr12c.y[2],2*np.pi),color='tab:green')\n",
    "#axs.scatter(sol_full.t[::skipn],np.mod(phase2,1),s=1)\n",
    "\n",
    "axs.set_ylim(-.5,2*np.pi+.5)"
   ]
  },
  {
   "cell_type": "markdown",
   "id": "e50c14e7-36b7-42a7-ac8d-45db300bc213",
   "metadata": {},
   "source": [
    "# del=0.005"
   ]
  },
  {
   "cell_type": "code",
   "execution_count": null,
   "id": "5aea8544-f33f-4c9f-9626-41ff10573547",
   "metadata": {
    "editable": true,
    "scrolled": true,
    "slideshow": {
     "slide_type": ""
    },
    "tags": []
   },
   "outputs": [],
   "source": [
    "del32_p005 = 0.005\n",
    "a32_p005 = nm.nmCoupling(**kw_nm, del1=del32_p005)"
   ]
  },
  {
   "cell_type": "markdown",
   "id": "d5ccc928-94e1-4e8d-9a9f-389f547af4e7",
   "metadata": {},
   "source": [
    "## Get Branches Full"
   ]
  },
  {
   "cell_type": "code",
   "execution_count": null,
   "id": "d233716e-1d3d-466b-bbc6-3663e9911332",
   "metadata": {},
   "outputs": [],
   "source": [
    "kw_p005 = {'a':a32_p005,'del1':del32_p005,'recompute':True,\n",
    "         'bifdir':'bif1d_thal2/','_full_rhs':_full}"
   ]
  },
  {
   "cell_type": "code",
   "execution_count": null,
   "id": "4e483b85-5c3a-47a8-81f6-0509f9d74d02",
   "metadata": {},
   "outputs": [],
   "source": [
    "data_p005_list = []"
   ]
  },
  {
   "cell_type": "code",
   "execution_count": null,
   "id": "f0c52817-5b15-4686-a311-1e1807eb4ead",
   "metadata": {},
   "outputs": [],
   "source": [
    "in_dicts = [dict(init=0,eps_init=0.01,eps_final=0.11,deps=.01),\n",
    "            dict(init=0,eps_init=0.01,eps_final=0.0005,deps=-.001)]"
   ]
  },
  {
   "cell_type": "code",
   "execution_count": null,
   "id": "4ec9f4d6-bc8b-4460-bd41-39178361244e",
   "metadata": {
    "scrolled": true
   },
   "outputs": [],
   "source": [
    "for i in range(len(in_dicts)):\n",
    "    in1 = in_dicts[i]\n",
    "    dat = follow_phase_diffs(**in1,**kw_p005)\n",
    "    data_p005_list.append(dat)\n",
    "fname = kw_p005['bifdir']+'hyper_thal2_32_p005.txt'"
   ]
  },
  {
   "cell_type": "code",
   "execution_count": null,
   "id": "9718dd73-3186-4562-b4d8-8943aabad006",
   "metadata": {},
   "outputs": [],
   "source": [
    "# save hyperparameters\n",
    "hyp_inputs = np.zeros([len(in_dicts),4])\n",
    "for i in range(len(in_dicts)):\n",
    "    hyp_inputs[i,0] = in_dicts[i]['init']\n",
    "    hyp_inputs[i,1] = in_dicts[i]['eps_init']\n",
    "    hyp_inputs[i,2] = in_dicts[i]['eps_final']\n",
    "    hyp_inputs[i,3] = in_dicts[i]['deps']\n",
    "np.savetxt(fname,hyp_inputs)"
   ]
  },
  {
   "cell_type": "markdown",
   "id": "197b398b-307a-47b6-8206-de595c159186",
   "metadata": {},
   "source": [
    "## Get Branches 3D"
   ]
  },
  {
   "cell_type": "code",
   "execution_count": null,
   "id": "6f26f428-4e5f-4d17-b3b9-12ed080d49ab",
   "metadata": {},
   "outputs": [],
   "source": [
    "data_r3d_p005_list = []"
   ]
  },
  {
   "cell_type": "code",
   "execution_count": null,
   "id": "09d8ead7-38a6-4b07-95b9-872c821cd6fc",
   "metadata": {
    "scrolled": true
   },
   "outputs": [],
   "source": [
    "# find init for this branch mid\n",
    "_,init = phase_lock_r3d([5,0,0],a32_p005,.05,_redu_3dc)\n",
    "print(init)"
   ]
  },
  {
   "cell_type": "code",
   "execution_count": null,
   "id": "a26a3cbf-ce07-49ea-9ec7-a1d4625f8dc0",
   "metadata": {
    "scrolled": true
   },
   "outputs": [],
   "source": [
    "# branch 1\n",
    "dat = follow_locking_3d(init,a32_p005,(.05,.064,.002),\n",
    "                        rhs=_redu_3dc,recompute=False)\n",
    "data_r3d_p005_list.append(dat)"
   ]
  },
  {
   "cell_type": "code",
   "execution_count": null,
   "id": "4510ef5e-dda7-4cef-b790-9866941dcb30",
   "metadata": {
    "scrolled": true
   },
   "outputs": [],
   "source": [
    "# branch 1\n",
    "dat = follow_locking_3d(init,a32_p005,(.05,.001,-.002),\n",
    "                        rhs=_redu_3dc,recompute=False)\n",
    "data_r3d_p005_list.append(dat)"
   ]
  },
  {
   "cell_type": "code",
   "execution_count": null,
   "id": "333057fe-87b5-4ccc-9b94-2d3ec68cf867",
   "metadata": {},
   "outputs": [],
   "source": [
    "# find init for branch 2\n",
    "_,init = phase_lock_r3d([2.5,0,0],a32_p005,.05,_redu_3dc)\n",
    "print(init)"
   ]
  },
  {
   "cell_type": "code",
   "execution_count": null,
   "id": "6b4f34f2-5bb9-4466-81e4-c5ea60c3c9d5",
   "metadata": {
    "scrolled": true
   },
   "outputs": [],
   "source": [
    "# branch 2\n",
    "dat = follow_locking_3d(init,a32_p005,(.05,.082,.002),\n",
    "                        rhs=_redu_3dc,recompute=False)\n",
    "data_r3d_p005_list.append(dat)"
   ]
  },
  {
   "cell_type": "code",
   "execution_count": null,
   "id": "9ef66469-9407-435c-b3d2-d50a9c9127e1",
   "metadata": {
    "scrolled": true
   },
   "outputs": [],
   "source": [
    "# branch 2\n",
    "dat = follow_locking_3d(init,a32_p005,(.05,.001,-.002),\n",
    "                        rhs=_redu_3dc,recompute=False)\n",
    "data_r3d_p005_list.append(dat)"
   ]
  },
  {
   "cell_type": "code",
   "execution_count": null,
   "id": "12dba075-a1e9-471d-905c-72189aa5402c",
   "metadata": {},
   "outputs": [],
   "source": [
    "# find init for branch 3\n",
    "_,init = phase_lock_r3d([.5,0,0],a32_p005,.05,_redu_3dc)\n",
    "print(init)"
   ]
  },
  {
   "cell_type": "code",
   "execution_count": null,
   "id": "2100a6c4-ce04-429e-90d1-f9f6500e54bf",
   "metadata": {
    "scrolled": true
   },
   "outputs": [],
   "source": [
    "# branch 3\n",
    "dat = follow_locking_3d(init,a32_p005,(.05,.082,.002),\n",
    "                        rhs=_redu_3dc,recompute=False)\n",
    "data_r3d_p005_list.append(dat)"
   ]
  },
  {
   "cell_type": "code",
   "execution_count": null,
   "id": "a43841f4-c494-4f77-bcd4-9ef2d7e6ce57",
   "metadata": {
    "scrolled": true
   },
   "outputs": [],
   "source": [
    "# branch 3\n",
    "dat = follow_locking_3d(init,a32_p005,(.05,.001,-.002),\n",
    "                        rhs=_redu_3dc,recompute=False)\n",
    "data_r3d_p005_list.append(dat)"
   ]
  },
  {
   "cell_type": "markdown",
   "id": "ffaadaf2-d9c7-4359-834e-0730770ff400",
   "metadata": {},
   "source": [
    "## Plot"
   ]
  },
  {
   "cell_type": "code",
   "execution_count": null,
   "id": "85c275a3-66ee-4622-ba20-fe23c250d2dd",
   "metadata": {},
   "outputs": [],
   "source": [
    "quick_plot_r(a32_p005,etup23)"
   ]
  },
  {
   "cell_type": "code",
   "execution_count": null,
   "id": "2730e574-d9f5-47a2-9bbe-6caf02f3770f",
   "metadata": {},
   "outputs": [],
   "source": [
    "quick_plot_combined(a32_p005,\n",
    "                    kw_f={'data_list':data_p005_list},\n",
    "                    kw_r3d={'data_list':data_r3d_p005_list},\n",
    "                    kw_r={'etup':etup23})"
   ]
  },
  {
   "cell_type": "markdown",
   "id": "da0437e9-720c-4f8b-a23f-cb56ef676701",
   "metadata": {},
   "source": [
    "# del=0.007"
   ]
  },
  {
   "cell_type": "code",
   "execution_count": null,
   "id": "b7472987-ff5a-4d5f-a23c-d481c1cdfbc8",
   "metadata": {
    "editable": true,
    "scrolled": true,
    "slideshow": {
     "slide_type": ""
    },
    "tags": []
   },
   "outputs": [],
   "source": [
    "del32_p007 = 0.007\n",
    "a32_p007 = nm.nmCoupling(**kw_nm, del1=del32_p007)"
   ]
  },
  {
   "cell_type": "markdown",
   "id": "3775d457-dc82-47b8-9878-a4b7e847ee65",
   "metadata": {},
   "source": [
    "## Get Branches Full"
   ]
  },
  {
   "cell_type": "code",
   "execution_count": null,
   "id": "de63bd91-d099-44fa-abd2-bd91d5256cab",
   "metadata": {},
   "outputs": [],
   "source": [
    "kw_p007 = {'a':a32_p007,'del1':del32_p007,'recompute':True,\n",
    "         'bifdir':'bif1d_thal2/','_full_rhs':_full}"
   ]
  },
  {
   "cell_type": "code",
   "execution_count": null,
   "id": "80ace2d3-e6a2-4611-894a-199d17300b8f",
   "metadata": {},
   "outputs": [],
   "source": [
    "data_p007_list = []"
   ]
  },
  {
   "cell_type": "code",
   "execution_count": null,
   "id": "d14001d9-75b9-4e6e-8997-f47fc653ddef",
   "metadata": {},
   "outputs": [],
   "source": [
    "in_dicts = [dict(init=0,eps_init=0.01,eps_final=0.11,deps=.01),\n",
    "            dict(init=0,eps_init=0.01,eps_final=0.0005,deps=-.001)]"
   ]
  },
  {
   "cell_type": "code",
   "execution_count": null,
   "id": "6744bd1b-9d79-47ae-9ce5-b25179f0a2a1",
   "metadata": {
    "scrolled": true
   },
   "outputs": [],
   "source": [
    "for i in range(len(in_dicts)):\n",
    "    in1 = in_dicts[i]\n",
    "    dat = follow_phase_diffs(**in1,**kw_p007)\n",
    "    data_p007_list.append(dat)\n",
    "fname = kw_p007['bifdir']+'hyper_thal2_32_p007.txt'"
   ]
  },
  {
   "cell_type": "code",
   "execution_count": null,
   "id": "3556332e-ba7d-4867-a0ea-a02044c7f676",
   "metadata": {},
   "outputs": [],
   "source": [
    "# save hyperparameters\n",
    "hyp_inputs = np.zeros([len(in_dicts),4])\n",
    "for i in range(len(in_dicts)):\n",
    "    hyp_inputs[i,0] = in_dicts[i]['init']\n",
    "    hyp_inputs[i,1] = in_dicts[i]['eps_init']\n",
    "    hyp_inputs[i,2] = in_dicts[i]['eps_final']\n",
    "    hyp_inputs[i,3] = in_dicts[i]['deps']\n",
    "np.savetxt(fname,hyp_inputs)"
   ]
  },
  {
   "cell_type": "markdown",
   "id": "0e6dbfa0-f45f-404c-aad3-48809a7ff29b",
   "metadata": {},
   "source": [
    "## Get Branches 3D"
   ]
  },
  {
   "cell_type": "code",
   "execution_count": null,
   "id": "420893bb-ae18-4fd7-8191-9a3cc6b4500b",
   "metadata": {},
   "outputs": [],
   "source": [
    "data_r3d_p007_list = []"
   ]
  },
  {
   "cell_type": "code",
   "execution_count": null,
   "id": "ce75c105-0bae-4810-a943-d7801efa2e2c",
   "metadata": {
    "scrolled": true
   },
   "outputs": [],
   "source": [
    "# find init for this branch mid\n",
    "_,init = phase_lock_r3d([5,0,0],a32_p007,.05,_redu_3dc)\n",
    "print(init)"
   ]
  },
  {
   "cell_type": "code",
   "execution_count": null,
   "id": "6e334aad-a57a-4e00-b674-933904c5faa2",
   "metadata": {
    "scrolled": true
   },
   "outputs": [],
   "source": [
    "# branch 1\n",
    "dat = follow_locking_3d(init,a32_p007,(.05,.064,.002),\n",
    "                        rhs=_redu_3dc,recompute=False)\n",
    "data_r3d_p007_list.append(dat)"
   ]
  },
  {
   "cell_type": "code",
   "execution_count": null,
   "id": "3c40ab2b-3378-4920-bbcd-c1f1b4620ea8",
   "metadata": {
    "scrolled": true
   },
   "outputs": [],
   "source": [
    "# branch 1\n",
    "dat = follow_locking_3d(init,a32_p007,(.05,.001,-.002),\n",
    "                        rhs=_redu_3dc,recompute=False)\n",
    "data_r3d_p007_list.append(dat)"
   ]
  },
  {
   "cell_type": "code",
   "execution_count": null,
   "id": "90ef6220-8397-4ec0-b2ca-ccceea5ddc5b",
   "metadata": {},
   "outputs": [],
   "source": [
    "# find init for branch 2\n",
    "_,init = phase_lock_r3d([2.5,0,0],a32_p007,.05,_redu_3dc)\n",
    "print(init)"
   ]
  },
  {
   "cell_type": "code",
   "execution_count": null,
   "id": "f89cbbd1-de3c-429c-8400-389cb4c687a1",
   "metadata": {
    "scrolled": true
   },
   "outputs": [],
   "source": [
    "# branch 2\n",
    "dat = follow_locking_3d(init,a32_p007,(.05,.082,.002),\n",
    "                        rhs=_redu_3dc,recompute=False)\n",
    "data_r3d_p007_list.append(dat)"
   ]
  },
  {
   "cell_type": "code",
   "execution_count": null,
   "id": "9a6d8b25-efa5-4838-bdec-e1496e4ad96a",
   "metadata": {
    "scrolled": true
   },
   "outputs": [],
   "source": [
    "# branch 2\n",
    "dat = follow_locking_3d(init,a32_p007,(.05,.001,-.002),\n",
    "                        rhs=_redu_3dc,recompute=False)\n",
    "data_r3d_p007_list.append(dat)"
   ]
  },
  {
   "cell_type": "code",
   "execution_count": null,
   "id": "eb9c3fff-1ed2-4bae-92c0-9d493e5f8c46",
   "metadata": {},
   "outputs": [],
   "source": [
    "# find init for branch 3\n",
    "_,init = phase_lock_r3d([.5,0,0],a32_p007,.05,_redu_3dc)\n",
    "print(init)"
   ]
  },
  {
   "cell_type": "code",
   "execution_count": null,
   "id": "00a313ec-fe01-4219-8ad9-c1f85b0217c6",
   "metadata": {
    "scrolled": true
   },
   "outputs": [],
   "source": [
    "# branch 3\n",
    "dat = follow_locking_3d(init,a32_p007,(.05,.082,.002),\n",
    "                        rhs=_redu_3dc,recompute=False)\n",
    "data_r3d_p007_list.append(dat)"
   ]
  },
  {
   "cell_type": "code",
   "execution_count": null,
   "id": "8cd9c678-925a-4b8a-9729-735d6acc1d0a",
   "metadata": {
    "scrolled": true
   },
   "outputs": [],
   "source": [
    "# branch 3\n",
    "dat = follow_locking_3d(init,a32_p007,(.05,.001,-.002),\n",
    "                        rhs=_redu_3dc,recompute=False)\n",
    "data_r3d_p007_list.append(dat)"
   ]
  },
  {
   "cell_type": "markdown",
   "id": "329e7b81-8d8b-4d67-93e1-587c963a4ff3",
   "metadata": {},
   "source": [
    "## Plot"
   ]
  },
  {
   "cell_type": "code",
   "execution_count": null,
   "id": "29bf0e43-c948-45a2-a197-2b0f119229fe",
   "metadata": {},
   "outputs": [],
   "source": [
    "quick_plot_r(a32_p007,etup23)"
   ]
  },
  {
   "cell_type": "code",
   "execution_count": null,
   "id": "91ed6ee2-04c4-4834-b35c-cab31b996c48",
   "metadata": {},
   "outputs": [],
   "source": [
    "quick_plot_combined(a32_p007,\n",
    "                    kw_f={'data_list':data_p007_list},\n",
    "                    kw_r3d={'data_list':data_r3d_p007_list},\n",
    "                    kw_r={'etup':etup23})"
   ]
  },
  {
   "cell_type": "code",
   "execution_count": null,
   "id": "2aa23ad2-9dd6-49d0-8e3a-8d1e616633c4",
   "metadata": {},
   "outputs": [],
   "source": []
  }
 ],
 "metadata": {
  "kernelspec": {
   "display_name": "Python 3 (ipykernel)",
   "language": "python",
   "name": "python3"
  },
  "language_info": {
   "codemirror_mode": {
    "name": "ipython",
    "version": 3
   },
   "file_extension": ".py",
   "mimetype": "text/x-python",
   "name": "python",
   "nbconvert_exporter": "python",
   "pygments_lexer": "ipython3",
   "version": "3.10.14"
  }
 },
 "nbformat": 4,
 "nbformat_minor": 5
}
