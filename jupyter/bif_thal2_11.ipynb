{
 "cells": [
  {
   "cell_type": "markdown",
   "id": "31c1828e-5d5c-4a52-9550-f5faab8ccaa5",
   "metadata": {},
   "source": [
    "# thal2 1:1 Bifurcation Diagrams"
   ]
  },
  {
   "cell_type": "markdown",
   "id": "073d3337-d6fe-465e-807b-890e9f0131ca",
   "metadata": {},
   "source": [
    "# Inits"
   ]
  },
  {
   "cell_type": "code",
   "execution_count": 1,
   "id": "c11ae704-3b52-469f-b703-218a4bbfa9de",
   "metadata": {},
   "outputs": [],
   "source": [
    "import sys; sys.path.insert(0, '..') # add parent folder path where lib folder is\n",
    "# user-defined\n",
    "import nmCoupling as nm\n",
    "# import nmCoupling_old as nm\n",
    "import response as rp\n",
    "\n",
    "import thal2 as t2\n",
    "\n",
    "from lib.util import (get_phase, freq_est, get_tongue_1d, pl_exist_1d, \n",
    "get_period, bif1d, follow_phase_diffs, phase_lock_r3d, follow_locking_3d)\n",
    "\n",
    "from lib.rhs import _redu_c,_full, _redu_full\n",
    "from lib.rhs import _redu_3dc_thal as _redu_3dc\n",
    "from lib.rhs import _redu_4dc_thal as _redu_4dc\n",
    "\n",
    "from lib.plot_util import add_diagram_1d_scatter, quick_plot_combined\n",
    "\n",
    "import numpy as np\n",
    "import scipy as sp\n",
    "import matplotlib.pyplot as plt\n",
    "from scipy.integrate import solve_ivp\n",
    "import sympy as sym\n",
    "\n",
    "from scipy.optimize import root,bisect\n",
    "from copy import deepcopy\n",
    "import os\n",
    "\n",
    "plt.rcParams.update({\n",
    "    \"text.usetex\": True,\n",
    "    \"font.family\": \"Helvetica\"\n",
    "})\n",
    "\n",
    "nmc = nm.nmCoupling\n",
    "rsp = rp.Response"
   ]
  },
  {
   "cell_type": "markdown",
   "id": "956f6615-a080-461d-8aee-2abf994f1ff5",
   "metadata": {},
   "source": [
    "## Dicts"
   ]
  },
  {
   "cell_type": "code",
   "execution_count": 2,
   "id": "43626f58-6a5b-42e1-bb2a-f332da5eb746",
   "metadata": {},
   "outputs": [],
   "source": [
    "kw_sim = {'rtol':1e-7,'atol':1e-7,'method':'LSODA'}"
   ]
  },
  {
   "cell_type": "code",
   "execution_count": 3,
   "id": "35b78a9b-8b5c-4432-9894-7c3c102ad00b",
   "metadata": {},
   "outputs": [],
   "source": [
    "pd1 = {'gL':0.05,'gna':3,'gk':5,\n",
    "       'gt':5,'eL':-70,'ena':50,\n",
    "       'ek':-90,'et':0,'esyn':-1,\n",
    "       'c':1,'alpha':3,'beta':2,\n",
    "       'sigmat':0.8,'vt':-20,\n",
    "       'ib':3.5,'del':0,'om':1,'om_fix':1}"
   ]
  },
  {
   "cell_type": "code",
   "execution_count": 4,
   "id": "3a3623ff-a0c2-4f97-b9d6-50076d626ab9",
   "metadata": {
    "editable": true,
    "slideshow": {
     "slide_type": ""
    },
    "tags": []
   },
   "outputs": [],
   "source": [
    "# default period must be 2*np.pi\n",
    "kws1 = {'var_names':['v','h','r','w'],\n",
    "        'pardict':pd1,\n",
    "        'rhs':t2.rhs,\n",
    "        'coupling':t2.coupling,\n",
    "        'init':np.array([-.64,0.71,0.25,0,6]),\n",
    "        'TN':20000,\n",
    "        'trunc_order':3,\n",
    "        'z_forward':False,\n",
    "        'i_forward':[False,True,False,False,False,False],\n",
    "        'i_bad_dx':[False,True,False,False,False,False],\n",
    "        'max_iter':50,\n",
    "        'rtol':1e-12,\n",
    "        'atol':1e-12,\n",
    "        'rel_tol':1e-9,\n",
    "        'save_fig':False,\n",
    "        'lc_prominence':.05,\n",
    "        'factor':.5}"
   ]
  },
  {
   "cell_type": "markdown",
   "id": "00d1e865-d890-4b6c-a1cf-c449a2967958",
   "metadata": {},
   "source": [
    "## Defs"
   ]
  },
  {
   "cell_type": "code",
   "execution_count": 5,
   "id": "0c25c56e-da3b-4145-a5f5-86f813f96129",
   "metadata": {},
   "outputs": [],
   "source": [
    "kw_bif = {'method':'LSODA','dense_output':True,'rtol':1e-9,'atol':1e-9}"
   ]
  },
  {
   "cell_type": "code",
   "execution_count": 6,
   "id": "7340aa34-62c1-4b9d-b149-1b827c968bc6",
   "metadata": {},
   "outputs": [],
   "source": [
    "etup11 = (.001,.3,100)\n",
    "eps_list11r = np.linspace(*etup11)"
   ]
  },
  {
   "cell_type": "code",
   "execution_count": 7,
   "id": "2de0d4a5-5d0d-4263-855e-4f1510913c82",
   "metadata": {
    "editable": true,
    "slideshow": {
     "slide_type": ""
    },
    "tags": []
   },
   "outputs": [],
   "source": [
    "x_temp = np.linspace(-np.pi,3*np.pi,500)"
   ]
  },
  {
   "cell_type": "code",
   "execution_count": 8,
   "id": "2176ea62-07e5-47f3-9669-ab038c1a529b",
   "metadata": {},
   "outputs": [],
   "source": [
    "ss,dss=np.linspace(0,2,100,retstep=True)"
   ]
  },
  {
   "cell_type": "markdown",
   "id": "93fe4c8e-4f01-43d7-b898-dcef3ae99e0d",
   "metadata": {},
   "source": [
    "## Initialize Response Functions"
   ]
  },
  {
   "cell_type": "code",
   "execution_count": 9,
   "id": "345a025b-9b34-4cd7-af91-961114079f4a",
   "metadata": {
    "editable": true,
    "slideshow": {
     "slide_type": ""
    },
    "tags": []
   },
   "outputs": [
    {
     "name": "stdout",
     "output_type": "stream",
     "text": [
      "mkdir ./data/thal0_35/\n",
      "* Loading LC data...\n",
      "self.T 6.283185307179586 omfix 1.6947246128737048\n",
      "* Loading monodromy...\n",
      "* Floquet Exponent kappa =-0.03594482780785962\n",
      "* Loading g symbolic...\n",
      "* Computing g...\n",
      "* Loading heterogeneous terms...\n",
      "* Computing z...\n",
      "* Computing i...\n",
      "mkdir ./data/thal1_35/\n",
      "* Loading LC data...\n",
      "self.T 6.283185307179586 omfix 1.6947246128737048\n",
      "* Loading monodromy...\n",
      "* Floquet Exponent kappa =-0.03594482780785962\n",
      "* Loading g symbolic...\n",
      "* Computing g...\n",
      "* Loading heterogeneous terms...\n",
      "* Computing z...\n",
      "* Computing i...\n"
     ]
    },
    {
     "name": "stdout",
     "output_type": "stream",
     "text": [
      "mkdir ./data/thal1_35/\n",
      "* Loading LC data...\n",
      "self.T 6.283185307179586 omfix 1.6947246128737048\n"
     ]
    },
    {
     "name": "stdout",
     "output_type": "stream",
     "text": [
      "* Loading monodromy...\n",
      "* Floquet Exponent kappa =-0.03594482780785962\n",
      "* Loading g symbolic...\n",
      "* Computing g...\n"
     ]
    },
    {
     "name": "stdout",
     "output_type": "stream",
     "text": [
      "* Loading heterogeneous terms...\n"
     ]
    },
    {
     "name": "stdout",
     "output_type": "stream",
     "text": [
      "* Computing z...\n",
      "* Computing i...\n"
     ]
    }
   ],
   "source": [
    "system1 = rsp(idx=0,model_name='thal0_35',**kws1)\n",
    "system2 = rsp(idx=1,model_name='thal1_35',**kws1)"
   ]
  },
  {
   "cell_type": "code",
   "execution_count": 10,
   "id": "0f7ec593-13eb-48bd-92ed-942f6314a865",
   "metadata": {},
   "outputs": [],
   "source": [
    "kw_nm = {'system1':system1,'system2':system2,'_n':('om0',1),'_m':('om1',1),\n",
    "        'NH':1024,'save_fig':False}"
   ]
  },
  {
   "cell_type": "markdown",
   "id": "ca4f2a74-7b8c-47f6-8b1f-e06fd5bb1670",
   "metadata": {},
   "source": [
    "# del=0.0"
   ]
  },
  {
   "cell_type": "code",
   "execution_count": 11,
   "id": "a79510b7-df04-42d3-9c32-dd662f07cf57",
   "metadata": {
    "editable": true,
    "slideshow": {
     "slide_type": ""
    },
    "tags": []
   },
   "outputs": [
    {
     "name": "stdout",
     "output_type": "stream",
     "text": [
      "pfactor 20\n",
      "* Loading p symbolic...\n",
      "* Loading p symbolic...\n",
      "* Loading H symbolic...\n",
      "* Loading H symbolic...\n",
      "* Loading H thal0_35, order=0...\n",
      "* Loading H thal1_35, order=0...\n",
      "* Loading H thal0_35, order=1...\n",
      "* Loading H thal1_35, order=1...\n",
      "* Loading H thal0_35, order=2...\n",
      "* Loading H thal1_35, order=2...\n",
      "* Loading H thal0_35, order=3...\n",
      "* Loading H thal1_35, order=3...\n"
     ]
    }
   ],
   "source": [
    "del11_p0 = 0\n",
    "a11_p0 = nm.nmCoupling(**kw_nm, del1=del11_p0)"
   ]
  },
  {
   "cell_type": "code",
   "execution_count": 12,
   "id": "5158ff03-1dac-44ae-a204-b12045e77829",
   "metadata": {},
   "outputs": [],
   "source": [
    "# del11_p0 = 0\n",
    "# a11o5_p0 = nm.nmCoupling(system1o5,system2o5,\n",
    "#                          recompute_list=['k_thal0','k_thal1'],\n",
    "#                          _n=('om0',1),_m=('om1',1),\n",
    "#                          save_fig=False,del1=del11_p0,\n",
    "#                          iso_mode=True)"
   ]
  },
  {
   "cell_type": "markdown",
   "id": "67dc95fe-20fb-4d1a-b751-00067a44da19",
   "metadata": {},
   "source": [
    "Check expansion for gz and gi to compare to expansion in Nicks et al 2024."
   ]
  },
  {
   "cell_type": "code",
   "execution_count": 13,
   "id": "983602a9-61f2-4ba4-865b-b205846aca1f",
   "metadata": {},
   "outputs": [],
   "source": [
    "# coupling_object = a11_p0\n",
    "# fig,axs = plt.subplots(coupling_object.system1.miter,1)\n",
    "\n",
    "# x = coupling_object.x\n",
    "\n",
    "# for k in range(coupling_object.system1.miter):\n",
    "#     diff = coupling_object.system1.h['lam'][k](-x) - coupling_object.system1.h['lam'][k](x)\n",
    "#     axs[k].plot(x,diff,label='Order {}'.format(k))\n",
    "#     axs[k].legend()\n",
    "#     axs[k].set_xlabel(r'$\\phi$') # the string must have 'r' in front\n",
    "#     axs[k].set_ylabel(r'$\\mathcal{H}_1^{('+str(k)+r')}(-\\phi)-\\mathcal{H}_1^{('+str(k)+r')}(\\phi)$')\n",
    "# axs[0].set_title(r'(-2*) Odd Parts')\n",
    "# plt.tight_layout()"
   ]
  },
  {
   "cell_type": "code",
   "execution_count": 14,
   "id": "88a03254-1591-46da-a816-2b3f4a3ca057",
   "metadata": {},
   "outputs": [],
   "source": [
    "# coupling_object = a11_p0\n",
    "# fig,axs = plt.subplots(coupling_object.system1.miter,1)\n",
    "\n",
    "# x = coupling_object.x\n",
    "\n",
    "# for k in range(coupling_object.system1.miter):\n",
    "#     diff = coupling_object.system1.h['lam'][k](-x) - coupling_object.system1.h['lam'][k](x)\n",
    "#     axs[k].plot(x,diff,label='Order {}'.format(k))\n",
    "#     axs[k].legend()\n",
    "#     axs[k].set_xlabel(r'$\\phi$') # the string must have 'r' in front\n",
    "#     axs[k].set_ylabel(r'$\\mathcal{H}_1^{('+str(k)+r')}(-\\phi)-\\mathcal{H}_1^{('+str(k)+r')}(\\phi)$')\n",
    "# axs[0].set_title(r'(-2*) Odd Parts')\n",
    "# plt.tight_layout()"
   ]
  },
  {
   "cell_type": "markdown",
   "id": "a7e3ac14-4421-4670-b461-f8ff2d24ac1a",
   "metadata": {},
   "source": [
    "## Get Branches Full"
   ]
  },
  {
   "cell_type": "code",
   "execution_count": 15,
   "id": "249a753a-e4ce-4fd7-b8ae-be36ab1614e1",
   "metadata": {},
   "outputs": [],
   "source": [
    "kw_p0 = {'a':a11_p0,'del1':del11_p0,'recompute':False,\n",
    "         'bifdir':'bif1d_thal2/','_full_rhs':_full}"
   ]
  },
  {
   "cell_type": "code",
   "execution_count": 16,
   "id": "0a4e5dd6-61e7-446f-b850-36a07b7948d2",
   "metadata": {},
   "outputs": [],
   "source": [
    "data_p0_list = []"
   ]
  },
  {
   "cell_type": "code",
   "execution_count": 17,
   "id": "738cdcea-9631-427e-988a-832b2576f6d9",
   "metadata": {},
   "outputs": [],
   "source": [
    "in_dicts = [dict(init=3,eps_init=0.01,eps_final=0.0005,deps=-.001),\n",
    "            dict(init=3,eps_init=0.01,eps_final=0.3,deps=.01),\n",
    "            dict(init=.1,eps_init=0.2,eps_final=0.1,deps=-.01),\n",
    "            dict(init=.1,eps_init=0.2,eps_final=0.3,deps=.01),\n",
    "            dict(init=5,eps_init=0.2,eps_final=0.1,deps=-.01),\n",
    "            dict(init=5,eps_init=0.2,eps_final=0.3,deps=.01)]"
   ]
  },
  {
   "cell_type": "code",
   "execution_count": 18,
   "id": "34cfd7df-e99a-4f84-8d48-70e791f9ca6b",
   "metadata": {
    "scrolled": true
   },
   "outputs": [
    {
     "name": "stdout",
     "output_type": "stream",
     "text": [
      "fname1 td_branch_init=3_nm=11_del=0_ei=0.01_ef=0.0005_de=-0.001.txt\n",
      "fname2 ts_branch_init=3_nm=11_del=0_ei=0.01_ef=0.0005_de=-0.001.txt\n",
      "fname1 td_branch_init=3_nm=11_del=0_ei=0.01_ef=0.3_de=0.01.txt\n",
      "fname2 ts_branch_init=3_nm=11_del=0_ei=0.01_ef=0.3_de=0.01.txt\n",
      "fname1 td_branch_init=0.1_nm=11_del=0_ei=0.2_ef=0.1_de=-0.01.txt\n",
      "fname2 ts_branch_init=0.1_nm=11_del=0_ei=0.2_ef=0.1_de=-0.01.txt\n",
      "fname1 td_branch_init=0.1_nm=11_del=0_ei=0.2_ef=0.3_de=0.01.txt\n",
      "fname2 ts_branch_init=0.1_nm=11_del=0_ei=0.2_ef=0.3_de=0.01.txt\n",
      "fname1 td_branch_init=5_nm=11_del=0_ei=0.2_ef=0.1_de=-0.01.txt\n",
      "fname2 ts_branch_init=5_nm=11_del=0_ei=0.2_ef=0.1_de=-0.01.txt\n",
      "fname1 td_branch_init=5_nm=11_del=0_ei=0.2_ef=0.3_de=0.01.txt\n",
      "fname2 ts_branch_init=5_nm=11_del=0_ei=0.2_ef=0.3_de=0.01.txt\n"
     ]
    }
   ],
   "source": [
    "for i in range(len(in_dicts)):\n",
    "    in1 = in_dicts[i]\n",
    "    dat = follow_phase_diffs(**in1,**kw_p0)\n",
    "    data_p0_list.append(dat)\n",
    "fname = kw_p0['bifdir']+'hyper_thal2_11_p0.txt'"
   ]
  },
  {
   "cell_type": "code",
   "execution_count": 19,
   "id": "1d108a40-ebf4-4a0d-bb9a-f5f1cbb6dec0",
   "metadata": {},
   "outputs": [],
   "source": [
    "# save hyperparameters\n",
    "hyp_inputs = np.zeros([len(in_dicts),4])\n",
    "for i in range(len(in_dicts)):\n",
    "    hyp_inputs[i,0] = in_dicts[i]['init']\n",
    "    hyp_inputs[i,1] = in_dicts[i]['eps_init']\n",
    "    hyp_inputs[i,2] = in_dicts[i]['eps_final']\n",
    "    hyp_inputs[i,3] = in_dicts[i]['deps']\n",
    "np.savetxt(fname,hyp_inputs)"
   ]
  },
  {
   "cell_type": "markdown",
   "id": "56e67e29-e75c-421b-8320-bd73b89cb267",
   "metadata": {},
   "source": [
    "## Get Branches 3D"
   ]
  },
  {
   "cell_type": "code",
   "execution_count": 20,
   "id": "fa1ea30a-5300-468e-aad8-e388d47d2cf2",
   "metadata": {},
   "outputs": [],
   "source": [
    "data_r3d_p0_list = []"
   ]
  },
  {
   "cell_type": "code",
   "execution_count": 21,
   "id": "c786d439-5bd8-44a5-af5f-667414db612f",
   "metadata": {
    "scrolled": true
   },
   "outputs": [
    {
     "name": "stdout",
     "output_type": "stream",
     "text": [
      "t_diff 3.14159265461734810, Y=[3.14159265 0.08051458 0.08051458]                                              \n",
      "[3.1416 0.0805 0.0805]\n"
     ]
    }
   ],
   "source": [
    "# find init for this branch mid\n",
    "_,init = phase_lock_r3d([3,0,0],a11_p0,.2,_redu_3dc)\n",
    "print(init)"
   ]
  },
  {
   "cell_type": "code",
   "execution_count": 22,
   "id": "b5953b7b-4180-421c-b2cc-c25ff38d1edf",
   "metadata": {
    "scrolled": true
   },
   "outputs": [],
   "source": [
    "# f\n",
    "dat = follow_locking_3d(init,a11_p0,(.2,.09,-.01),\n",
    "                        rhs=_redu_3dc,recompute=False)\n",
    "data_r3d_p0_list.append(dat)"
   ]
  },
  {
   "cell_type": "code",
   "execution_count": 23,
   "id": "3d3d568a-af44-443d-b893-5fe79118d0ba",
   "metadata": {
    "scrolled": true
   },
   "outputs": [
    {
     "name": "stdout",
     "output_type": "stream",
     "text": [
      "iter=1, rel. err =9.95e-07, Y=[3.14159265 0.04101384 0.04101384]                                              \r"
     ]
    },
    {
     "name": "stdout",
     "output_type": "stream",
     "text": [
      "iter=2, rel. err =9.75e-14, Y=[3.14159265 0.04101384 0.04101384]                                              \r",
      "t_diff 3.1415926536139187\n",
      "eps iter 1 0.09000000000000001                \n"
     ]
    },
    {
     "name": "stdout",
     "output_type": "stream",
     "text": [
      "iter=0, rel. err =5.68e-03, Y=[3.14159267 0.0369819  0.03698189]                                              \r"
     ]
    },
    {
     "name": "stdout",
     "output_type": "stream",
     "text": [
      "iter=1, rel. err =2.04e-08, Y=[3.14159265 0.03698189 0.03698189]                                              \r",
      "t_diff 3.1415926536034857\n",
      "eps iter 2 0.08000000000000002                \n"
     ]
    },
    {
     "name": "stdout",
     "output_type": "stream",
     "text": [
      "iter=0, rel. err =5.75e-03, Y=[3.14159267 0.03293473 0.03293473]                                              \r"
     ]
    },
    {
     "name": "stdout",
     "output_type": "stream",
     "text": [
      "iter=1, rel. err =2.03e-08, Y=[3.14159265 0.03293472 0.03293472]                                              \r",
      "t_diff 3.141592653597077\n",
      "eps iter 3 0.07000000000000002                \n"
     ]
    },
    {
     "name": "stdout",
     "output_type": "stream",
     "text": [
      "iter=0, rel. err =5.70e-03, Y=[3.14159267 0.02887228 0.02887227]                                              \r"
     ]
    },
    {
     "name": "stdout",
     "output_type": "stream",
     "text": [
      "iter=1, rel. err =1.96e-08, Y=[3.14159265 0.02887227 0.02887227]                                              \r",
      "t_diff 3.1415926535933667\n",
      "eps iter 4 0.060000000000000026                \n"
     ]
    },
    {
     "name": "stdout",
     "output_type": "stream",
     "text": [
      "iter=0, rel. err =5.81e-03, Y=[3.14159267 0.02479445 0.02479445]                                              \r"
     ]
    },
    {
     "name": "stdout",
     "output_type": "stream",
     "text": [
      "iter=1, rel. err =1.99e-08, Y=[3.14159265 0.02479445 0.02479445]                                              \r",
      "t_diff 3.1415926535913643\n",
      "eps iter 5 0.05000000000000003                \n"
     ]
    },
    {
     "name": "stdout",
     "output_type": "stream",
     "text": [
      "iter=0, rel. err =5.80e-03, Y=[3.14159267 0.02070117 0.02070117]                                              \r"
     ]
    },
    {
     "name": "stdout",
     "output_type": "stream",
     "text": [
      "iter=1, rel. err =1.96e-08, Y=[3.14159265 0.02070117 0.02070117]                                              \r",
      "t_diff 3.1415926535903913\n",
      "eps iter 6 0.040000000000000036                \n"
     ]
    },
    {
     "name": "stdout",
     "output_type": "stream",
     "text": [
      "iter=0, rel. err =5.81e-03, Y=[3.14159267 0.01659235 0.01659235]                                              \r"
     ]
    },
    {
     "name": "stdout",
     "output_type": "stream",
     "text": [
      "iter=1, rel. err =1.96e-08, Y=[3.14159265 0.01659235 0.01659235]                                              \r",
      "t_diff 3.1415926535899783\n",
      "eps iter 7 0.03000000000000004                \n"
     ]
    },
    {
     "name": "stdout",
     "output_type": "stream",
     "text": [
      "iter=0, rel. err =5.84e-03, Y=[3.14159267 0.01246791 0.01246791]                                              \r"
     ]
    },
    {
     "name": "stdout",
     "output_type": "stream",
     "text": [
      "iter=1, rel. err =1.95e-08, Y=[3.14159265 0.01246791 0.01246791]                                              \r",
      "t_diff 3.1415926535898224\n",
      "eps iter 8 0.020000000000000046                \n"
     ]
    },
    {
     "name": "stdout",
     "output_type": "stream",
     "text": [
      "iter=0, rel. err =5.90e-03, Y=[3.14159267 0.00832776 0.00832776]                                              \r"
     ]
    },
    {
     "name": "stdout",
     "output_type": "stream",
     "text": [
      "iter=1, rel. err =1.96e-08, Y=[3.14159265 0.00832776 0.00832776]                                              \r",
      "t_diff 3.1415926535897953\n",
      "eps iter 9 0.01000000000000005                \n"
     ]
    },
    {
     "name": "stdout",
     "output_type": "stream",
     "text": [
      "iter=0, rel. err =5.84e-03, Y=[3.14159267 0.00417182 0.00417182]                                              \r"
     ]
    },
    {
     "name": "stdout",
     "output_type": "stream",
     "text": [
      "iter=1, rel. err =1.96e-08, Y=[3.14159265 0.00417182 0.00417182]                                              \r",
      "t_diff 3.1415926535897936\n"
     ]
    }
   ],
   "source": [
    "# b\n",
    "dat = follow_locking_3d(init,a11_p0,(.1,.005,-.01),\n",
    "                        rhs=_redu_3dc,recompute=False)\n",
    "data_r3d_p0_list.append(dat)"
   ]
  },
  {
   "cell_type": "code",
   "execution_count": 24,
   "id": "bcbd22ec-b944-49c6-911a-0dd7606daa29",
   "metadata": {
    "scrolled": true
   },
   "outputs": [
    {
     "name": "stdout",
     "output_type": "stream",
     "text": [
      "t_diff 5.704012949476997-10, Y=[-25.71191359  -0.73657335  -1.04501994]                                                      \n",
      "[ 5.704  -0.7366 -1.045 ]\n"
     ]
    },
    {
     "name": "stdout",
     "output_type": "stream",
     "text": [
      "iter=4, rel. err =1.43e+00, Y=[-23.49544939  -6.86144398   0.41140669]                                              \r"
     ]
    },
    {
     "name": "stdout",
     "output_type": "stream",
     "text": [
      "iter=5, rel. err =2.32e+00, Y=[-23.69991285  -4.55461983   0.30956204]                                              \r"
     ]
    },
    {
     "name": "stdout",
     "output_type": "stream",
     "text": [
      "iter=6, rel. err =5.98e+00, Y=[-24.58737092   1.35455065   0.06586435]                                              \r"
     ]
    },
    {
     "name": "stdout",
     "output_type": "stream",
     "text": [
      "iter=7, rel. err =4.85e-01, Y=[-24.12692021   1.24221494  -0.03606018]                                              \r"
     ]
    },
    {
     "name": "stdout",
     "output_type": "stream",
     "text": [
      "iter=8, rel. err =5.20e+00, Y=[-25.71143078  -3.6942165    0.38597525]                                              \r"
     ]
    },
    {
     "name": "stdout",
     "output_type": "stream",
     "text": [
      "iter=9, rel. err =7.03e-01, Y=[-25.68320235  -3.01880253   0.19482086]                                              \r"
     ]
    },
    {
     "name": "stdout",
     "output_type": "stream",
     "text": [
      "iter=10, rel. err =7.30e-01, Y=[-25.64317127  -2.44692442  -0.25641912]                                              \r"
     ]
    },
    {
     "name": "stdout",
     "output_type": "stream",
     "text": [
      "iter=11, rel. err =6.81e-01, Y=[-25.64986815  -2.04794211   0.29519434]                                              \r"
     ]
    },
    {
     "name": "stdout",
     "output_type": "stream",
     "text": [
      "iter=12, rel. err =8.70e-01, Y=[-25.57084348  -1.61635751  -0.45639507]                                              \r"
     ]
    },
    {
     "name": "stdout",
     "output_type": "stream",
     "text": [
      "iter=13, rel. err =2.98e-01, Y=[-25.57582004  -1.3527332   -0.31746407]                                              \r"
     ]
    },
    {
     "name": "stdout",
     "output_type": "stream",
     "text": [
      "iter=14, rel. err =2.17e-01, Y=[-25.58610824  -1.13857621  -0.35289171]                                              \r"
     ]
    },
    {
     "name": "stdout",
     "output_type": "stream",
     "text": [
      "iter=15, rel. err =2.22e-01, Y=[-25.60237142  -0.96832316  -0.49414945]                                              \r"
     ]
    },
    {
     "name": "stdout",
     "output_type": "stream",
     "text": [
      "iter=16, rel. err =3.29e-01, Y=[-25.62590054  -0.84159996  -0.79724499]                                              \r"
     ]
    },
    {
     "name": "stdout",
     "output_type": "stream",
     "text": [
      "iter=17, rel. err =9.66e-01, Y=[-25.70097954  -0.77208765   0.16295037]                                              \r"
     ]
    },
    {
     "name": "stdout",
     "output_type": "stream",
     "text": [
      "iter=18, rel. err =4.91e-01, Y=[-25.60197105  -0.67210978  -0.30785185]                                              \r"
     ]
    },
    {
     "name": "stdout",
     "output_type": "stream",
     "text": [
      "iter=19, rel. err =8.50e-01, Y=[-25.67764757  -0.72034958  -1.15299224]                                              \r"
     ]
    },
    {
     "name": "stdout",
     "output_type": "stream",
     "text": [
      "iter=20, rel. err =1.19e-01, Y=[-25.69789517  -0.72880122  -1.03620704]                                              \r"
     ]
    },
    {
     "name": "stdout",
     "output_type": "stream",
     "text": [
      "iter=21, rel. err =1.73e-02, Y=[-25.71212208  -0.73654486  -1.04220429]                                              \r"
     ]
    },
    {
     "name": "stdout",
     "output_type": "stream",
     "text": [
      "iter=22, rel. err =2.83e-03, Y=[-25.71191001  -0.73657178  -1.04502903]                                              \r"
     ]
    },
    {
     "name": "stdout",
     "output_type": "stream",
     "text": [
      "iter=23, rel. err =9.89e-06, Y=[-25.71191359  -0.73657335  -1.04501994]                                              \r"
     ]
    },
    {
     "name": "stdout",
     "output_type": "stream",
     "text": [
      "iter=24, rel. err =2.83e-10, Y=[-25.71191359  -0.73657335  -1.04501994]                                              \r",
      "t_diff 5.704012949476997\n",
      "[ 5.704  -0.7366 -1.045 ]\n"
     ]
    }
   ],
   "source": [
    "# find init for this branch mid\n",
    "_,init = phase_lock_r3d([1.2,0,0],a11_p0,.11,_redu_3dc,\n",
    "                        maxiter=1000)\n",
    "print(init)"
   ]
  },
  {
   "cell_type": "code",
   "execution_count": 25,
   "id": "7b62ad02-513c-4897-95d1-df6134e3f2e3",
   "metadata": {
    "scrolled": true
   },
   "outputs": [],
   "source": [
    "# f\n",
    "dat = follow_locking_3d(init,a11_p0,(.11,.31,.01),\n",
    "                        rhs=_redu_3dc,recompute=False)\n",
    "data_r3d_p0_list.append(dat)"
   ]
  },
  {
   "cell_type": "code",
   "execution_count": 26,
   "id": "ec75c41d-e89b-49b9-a931-2399df6e28a4",
   "metadata": {
    "scrolled": true
   },
   "outputs": [],
   "source": [
    "# b\n",
    "dat = follow_locking_3d(init,a11_p0,(.11,.068,-.002),\n",
    "                        rhs=_redu_3dc,recompute=False)\n",
    "data_r3d_p0_list.append(dat)"
   ]
  },
  {
   "cell_type": "markdown",
   "id": "94445efa-18e7-4483-89cc-80cb38dfd168",
   "metadata": {},
   "source": [
    "## Plot"
   ]
  },
  {
   "cell_type": "code",
   "execution_count": 27,
   "id": "4a833d00-2aaf-49d2-9db0-ec692eba61d6",
   "metadata": {},
   "outputs": [
    {
     "data": {
      "image/png": "[encoded data removed]",
      "text/plain": [
       "<Figure size 300x200 with 1 Axes>"
      ]
     },
     "metadata": {},
     "output_type": "display_data"
    },
    {
     "data": {
      "image/png": "[encoded data removed]",
      "text/plain": [
       "<Figure size 300x400 with 2 Axes>"
      ]
     },
     "metadata": {},
     "output_type": "display_data"
    }
   ],
   "source": [
    "quick_plot_combined(a11_p0,\n",
    "                    kw_f={'data_list':data_p0_list},\n",
    "                    kw_r3d={'data_list':data_r3d_p0_list},\n",
    "                    kw_r={'etup':etup11})"
   ]
  },
  {
   "cell_type": "markdown",
   "id": "85a49a6b-45e1-4ce2-8ce9-71aa32bbf296",
   "metadata": {},
   "source": [
    "# del=0.0005"
   ]
  },
  {
   "cell_type": "code",
   "execution_count": 28,
   "id": "2c95d4e9-78fe-4985-acad-0e585ca492aa",
   "metadata": {},
   "outputs": [
    {
     "name": "stdout",
     "output_type": "stream",
     "text": [
      "pfactor 20\n",
      "* Loading p symbolic...\n",
      "* Loading p symbolic...\n",
      "* Loading H symbolic...\n",
      "* Loading H symbolic...\n",
      "* Loading H thal0_35, order=0...\n",
      "* Loading H thal1_35, order=0...\n",
      "* Loading H thal0_35, order=1...\n",
      "* Loading H thal1_35, order=1...\n",
      "* Loading H thal0_35, order=2...\n",
      "* Loading H thal1_35, order=2...\n",
      "* Loading H thal0_35, order=3...\n",
      "* Loading H thal1_35, order=3...\n"
     ]
    },
    {
     "name": "stdout",
     "output_type": "stream",
     "text": [
      "p order=1\n"
     ]
    },
    {
     "name": "stdout",
     "output_type": "stream",
     "text": [
      "p order=2\n"
     ]
    },
    {
     "name": "stdout",
     "output_type": "stream",
     "text": [
      "p order=2\n"
     ]
    },
    {
     "name": "stdout",
     "output_type": "stream",
     "text": [
      "p order=3\n"
     ]
    },
    {
     "name": "stdout",
     "output_type": "stream",
     "text": [
      "p order=3\n"
     ]
    },
    {
     "name": "stdout",
     "output_type": "stream",
     "text": [
      "* Loading H symbolic...\n",
      "* Loading H symbolic...\n",
      "* Computing H thal0_35, order=0...\n"
     ]
    },
    {
     "name": "stdout",
     "output_type": "stream",
     "text": [
      "* Computing H thal1_35, order=0...\n",
      "* Computing H thal0_35, order=1...\n"
     ]
    },
    {
     "name": "stdout",
     "output_type": "stream",
     "text": [
      "* Computing H thal1_35, order=1...\n"
     ]
    },
    {
     "name": "stdout",
     "output_type": "stream",
     "text": [
      "* Computing H thal0_35, order=2...\n"
     ]
    },
    {
     "name": "stdout",
     "output_type": "stream",
     "text": [
      "* Computing H thal1_35, order=2...\n"
     ]
    },
    {
     "name": "stdout",
     "output_type": "stream",
     "text": [
      "* Computing H thal0_35, order=3...\n"
     ]
    },
    {
     "name": "stdout",
     "output_type": "stream",
     "text": [
      "* Computing H thal1_35, order=3...\n"
     ]
    }
   ],
   "source": [
    "del11_p0005 = .0005\n",
    "a11_p0005 = nm.nmCoupling(**kw_nm, del1=del11_p0005)"
   ]
  },
  {
   "cell_type": "markdown",
   "id": "e868cbf7-9ab2-46ec-9e36-90965abec33b",
   "metadata": {},
   "source": [
    "## Get Branches Full"
   ]
  },
  {
   "cell_type": "code",
   "execution_count": 29,
   "id": "63106b96-9def-4898-a5a4-098cac7dceb0",
   "metadata": {},
   "outputs": [],
   "source": [
    "kw_p0005 = {'a':a11_p0005,'del1':del11_p0005,'recompute':False,\n",
    "            'bifdir':'bif1d_thal2/','_full_rhs':_full}"
   ]
  },
  {
   "cell_type": "code",
   "execution_count": 30,
   "id": "b8b528e8-2720-4e92-8e0c-e14b8e2dce50",
   "metadata": {},
   "outputs": [],
   "source": [
    "data_p0005_list = []"
   ]
  },
  {
   "cell_type": "code",
   "execution_count": 31,
   "id": "4440ebc1-7dd8-45c3-9efd-d5f144b5f349",
   "metadata": {},
   "outputs": [],
   "source": [
    "in_dicts = [dict(init=3,eps_init=0.02,eps_final=0.0005,deps=-.0005),\n",
    "               dict(init=3,eps_init=0.02,eps_final=0.3,deps=.01),\n",
    "               dict(init=.5,eps_init=0.2,eps_final=0.27,deps=.01),\n",
    "               dict(init=.5,eps_init=0.2,eps_final=0.08,deps=-.005),\n",
    "               dict(init=6,eps_init=0.2,eps_final=0.3,deps=.01),\n",
    "               dict(init=6,eps_init=0.2,eps_final=0.125,deps=-.005)]"
   ]
  },
  {
   "cell_type": "code",
   "execution_count": 32,
   "id": "20d29e3b-dbaa-47f2-9175-ab8de4dac5cc",
   "metadata": {
    "scrolled": true
   },
   "outputs": [
    {
     "name": "stdout",
     "output_type": "stream",
     "text": [
      "fname1 td_branch_init=3_nm=11_del=0.0005_ei=0.02_ef=0.0005_de=-0.0005.txt\n",
      "fname2 ts_branch_init=3_nm=11_del=0.0005_ei=0.02_ef=0.0005_de=-0.0005.txt\n",
      "fname1 td_branch_init=3_nm=11_del=0.0005_ei=0.02_ef=0.3_de=0.01.txt\n",
      "fname2 ts_branch_init=3_nm=11_del=0.0005_ei=0.02_ef=0.3_de=0.01.txt\n",
      "fname1 td_branch_init=0.5_nm=11_del=0.0005_ei=0.2_ef=0.27_de=0.01.txt\n",
      "fname2 ts_branch_init=0.5_nm=11_del=0.0005_ei=0.2_ef=0.27_de=0.01.txt\n",
      "fname1 td_branch_init=0.5_nm=11_del=0.0005_ei=0.2_ef=0.08_de=-0.005.txt\n",
      "fname2 ts_branch_init=0.5_nm=11_del=0.0005_ei=0.2_ef=0.08_de=-0.005.txt\n",
      "fname1 td_branch_init=6_nm=11_del=0.0005_ei=0.2_ef=0.3_de=0.01.txt\n",
      "fname2 ts_branch_init=6_nm=11_del=0.0005_ei=0.2_ef=0.3_de=0.01.txt\n",
      "fname1 td_branch_init=6_nm=11_del=0.0005_ei=0.2_ef=0.125_de=-0.005.txt\n",
      "fname2 ts_branch_init=6_nm=11_del=0.0005_ei=0.2_ef=0.125_de=-0.005.txt\n"
     ]
    }
   ],
   "source": [
    "for i in range(len(in_dicts)):\n",
    "    in1 = in_dicts[i]\n",
    "    dat = follow_phase_diffs(**in1,**kw_p0005)\n",
    "    data_p0005_list.append(dat)\n",
    "fname = kw_p0005['bifdir']+'hyper_thal2_11_p0005.txt'"
   ]
  },
  {
   "cell_type": "code",
   "execution_count": 33,
   "id": "f7e9608d-ed76-4db9-ac2d-5a86ad1c7dc0",
   "metadata": {},
   "outputs": [],
   "source": [
    "# save hyperparameters\n",
    "hyp_inputs = np.zeros([len(in_dicts),4])\n",
    "for i in range(len(in_dicts)):\n",
    "    hyp_inputs[i,0] = in_dicts[i]['init']\n",
    "    hyp_inputs[i,1] = in_dicts[i]['eps_init']\n",
    "    hyp_inputs[i,2] = in_dicts[i]['eps_final']\n",
    "    hyp_inputs[i,3] = in_dicts[i]['deps']\n",
    "np.savetxt(fname,hyp_inputs)"
   ]
  },
  {
   "cell_type": "markdown",
   "id": "d1d416dd-0ee6-4abc-acba-11b6b2456ecf",
   "metadata": {},
   "source": [
    "## Get Branches 3D"
   ]
  },
  {
   "cell_type": "code",
   "execution_count": 34,
   "id": "8a87b132-56f5-4b66-b5ce-004e02b27e85",
   "metadata": {},
   "outputs": [],
   "source": [
    "data_r3d_p0005_list = []"
   ]
  },
  {
   "cell_type": "code",
   "execution_count": 35,
   "id": "1b703c49-1aa7-4c51-82de-6c6778ef992c",
   "metadata": {
    "scrolled": true
   },
   "outputs": [
    {
     "name": "stdout",
     "output_type": "stream",
     "text": [
      "t_diff 2.86637537462308814, Y=[ 2.86637537 -0.0160773   0.16642969]                                              \n",
      "[ 2.8664 -0.0161  0.1664]\n"
     ]
    },
    {
     "name": "stdout",
     "output_type": "stream",
     "text": [
      "iter=3, rel. err =2.56e-14, Y=[ 2.86637537 -0.0160773   0.16642969]                                              \r",
      "t_diff 2.866375374623088\n",
      "[ 2.8664 -0.0161  0.1664]\n"
     ]
    }
   ],
   "source": [
    "# find init for this branch mid\n",
    "_,init = phase_lock_r3d([3,0,0],a11_p0005,.2,_redu_3dc)\n",
    "print(init)"
   ]
  },
  {
   "cell_type": "code",
   "execution_count": 36,
   "id": "8b806f86-b622-4cb9-845d-74d5a94ba831",
   "metadata": {
    "scrolled": true
   },
   "outputs": [],
   "source": [
    "# f\n",
    "dat = follow_locking_3d(init,a11_p0005,(.2,.31,.01),\n",
    "                        rhs=_redu_3dc,recompute=False)\n",
    "data_r3d_p0005_list.append(dat)"
   ]
  },
  {
   "cell_type": "code",
   "execution_count": 37,
   "id": "73d9ebde-5c58-4110-96df-f49e281108e7",
   "metadata": {
    "scrolled": true
   },
   "outputs": [],
   "source": [
    "# b\n",
    "dat = follow_locking_3d(init,a11_p0005,(.2,.005,-.01),\n",
    "                        rhs=_redu_3dc,recompute=False)\n",
    "data_r3d_p0005_list.append(dat)"
   ]
  },
  {
   "cell_type": "code",
   "execution_count": 38,
   "id": "37b37139-b2ee-4e29-8c64-ddc055855c79",
   "metadata": {
    "scrolled": true
   },
   "outputs": [
    {
     "name": "stdout",
     "output_type": "stream",
     "text": [
      "t_diff 0.035883483993888638, Y=[-18.81367244  -0.20383626  -0.10988963]                                                       \n",
      "[ 0.0359 -0.2038 -0.1099]\n"
     ]
    },
    {
     "name": "stdout",
     "output_type": "stream",
     "text": [
      "iter=3, rel. err =1.22e+00, Y=[-19.2338756   -6.02977019  -0.44825687]                                              \r"
     ]
    },
    {
     "name": "stdout",
     "output_type": "stream",
     "text": [
      "iter=4, rel. err =1.01e+00, Y=[-19.23473413  -5.02645434  -0.35944798]                                              \r"
     ]
    },
    {
     "name": "stdout",
     "output_type": "stream",
     "text": [
      "iter=5, rel. err =8.38e-01, Y=[-19.23572907  -4.19038849  -0.30841364]                                              \r"
     ]
    },
    {
     "name": "stdout",
     "output_type": "stream",
     "text": [
      "iter=6, rel. err =6.98e-01, Y=[-19.23690142  -3.49374578  -0.27245409]                                              \r"
     ]
    },
    {
     "name": "stdout",
     "output_type": "stream",
     "text": [
      "iter=7, rel. err =5.81e-01, Y=[-19.23832148  -2.91336844  -0.24048995]                                              \r"
     ]
    },
    {
     "name": "stdout",
     "output_type": "stream",
     "text": [
      "iter=8, rel. err =4.84e-01, Y=[-19.2401199   -2.43001803  -0.20718606]                                              \r"
     ]
    },
    {
     "name": "stdout",
     "output_type": "stream",
     "text": [
      "iter=9, rel. err =4.04e-01, Y=[-19.24256275  -2.0277845   -0.17101989]                                              \r"
     ]
    },
    {
     "name": "stdout",
     "output_type": "stream",
     "text": [
      "iter=10, rel. err =3.36e-01, Y=[-19.24623851  -1.69366575  -0.13414676]                                              \r"
     ]
    },
    {
     "name": "stdout",
     "output_type": "stream",
     "text": [
      "iter=11, rel. err =2.78e-01, Y=[-19.25251216  -1.41735975  -0.10312417]                                              \r"
     ]
    },
    {
     "name": "stdout",
     "output_type": "stream",
     "text": [
      "iter=12, rel. err =2.27e-01, Y=[-19.26451734  -1.19134153  -0.09241724]                                              \r"
     ]
    },
    {
     "name": "stdout",
     "output_type": "stream",
     "text": [
      "iter=13, rel. err =1.91e-01, Y=[-19.28775699  -1.01113592  -0.15029054]                                              \r"
     ]
    },
    {
     "name": "stdout",
     "output_type": "stream",
     "text": [
      "iter=14, rel. err =3.06e-01, Y=[-19.31601716  -0.87233201  -0.42206621]                                              \r"
     ]
    },
    {
     "name": "stdout",
     "output_type": "stream",
     "text": [
      "iter=15, rel. err =4.16e-01, Y=[-19.33855729  -0.77291481  -0.82486786]                                              \r"
     ]
    },
    {
     "name": "stdout",
     "output_type": "stream",
     "text": [
      "iter=16, rel. err =7.95e-01, Y=[-19.39483466  -0.72138067  -0.03306687]                                              \r"
     ]
    },
    {
     "name": "stdout",
     "output_type": "stream",
     "text": [
      "iter=17, rel. err =5.34e-01, Y=[-19.26423677  -0.64148719  -0.54416507]                                              \r"
     ]
    },
    {
     "name": "stdout",
     "output_type": "stream",
     "text": [
      "iter=18, rel. err =6.59e+00, Y=[-18.60705025  -0.22638439   5.99535214]                                              \r"
     ]
    },
    {
     "name": "stdout",
     "output_type": "stream",
     "text": [
      "iter=19, rel. err =1.45e+00, Y=[-18.61940467  -0.21445509   4.54167356]                                              \r"
     ]
    },
    {
     "name": "stdout",
     "output_type": "stream",
     "text": [
      "iter=20, rel. err =1.09e+00, Y=[-18.62599535  -0.2161625    3.45302554]                                              \r"
     ]
    },
    {
     "name": "stdout",
     "output_type": "stream",
     "text": [
      "iter=21, rel. err =8.15e-01, Y=[-18.61600488  -0.19335928   2.63875815]                                              \r"
     ]
    },
    {
     "name": "stdout",
     "output_type": "stream",
     "text": [
      "iter=22, rel. err =5.92e-01, Y=[-18.58186966  -0.13720193   2.0499651 ]                                              \r"
     ]
    },
    {
     "name": "stdout",
     "output_type": "stream",
     "text": [
      "iter=23, rel. err =6.05e-01, Y=[-18.40251992   0.06206893   1.50719252]                                              \r"
     ]
    },
    {
     "name": "stdout",
     "output_type": "stream",
     "text": [
      "iter=24, rel. err =2.14e+00, Y=[-18.88434112  -0.64557158  -0.44948532]                                              \r"
     ]
    },
    {
     "name": "stdout",
     "output_type": "stream",
     "text": [
      "iter=25, rel. err =4.84e-01, Y=[-18.99753545  -0.20907518  -0.27245357]                                              \r"
     ]
    },
    {
     "name": "stdout",
     "output_type": "stream",
     "text": [
      "iter=26, rel. err =3.26e-01, Y=[-1.88235685e+01 -1.68916184e-01  2.59375589e-04]                                              \r"
     ]
    },
    {
     "name": "stdout",
     "output_type": "stream",
     "text": [
      "iter=27, rel. err =1.15e-01, Y=[-18.81352193  -0.20304573  -0.10934307]                                              \r"
     ]
    },
    {
     "name": "stdout",
     "output_type": "stream",
     "text": [
      "iter=28, rel. err =9.73e-04, Y=[-18.81367243  -0.20383631  -0.10988961]                                              \r"
     ]
    },
    {
     "name": "stdout",
     "output_type": "stream",
     "text": [
      "iter=29, rel. err =5.37e-08, Y=[-18.81367244  -0.20383626  -0.10988963]                                              \r",
      "t_diff 0.03588348399388863\n",
      "[ 0.0359 -0.2038 -0.1099]\n"
     ]
    }
   ],
   "source": [
    "# find init for this branch mid\n",
    "_,init = phase_lock_r3d([1.2,0,0],a11_p0005,.11,_redu_3dc,\n",
    "                        maxiter=1000)\n",
    "print(init)"
   ]
  },
  {
   "cell_type": "code",
   "execution_count": 39,
   "id": "e6e2f10e-289e-439a-8831-42c7c246024c",
   "metadata": {
    "scrolled": true
   },
   "outputs": [],
   "source": [
    "# f\n",
    "dat = follow_locking_3d(init,a11_p0005,(.11,.31,.01),\n",
    "                        rhs=_redu_3dc,recompute=False)\n",
    "data_r3d_p0005_list.append(dat)"
   ]
  },
  {
   "cell_type": "code",
   "execution_count": 40,
   "id": "c18785b4-0768-4e38-a878-3e46023146c0",
   "metadata": {
    "scrolled": true
   },
   "outputs": [],
   "source": [
    "# b\n",
    "dat = follow_locking_3d(init,a11_p0005,(.11,.068,-.002),\n",
    "                        rhs=_redu_3dc,recompute=False)\n",
    "data_r3d_p0005_list.append(dat)"
   ]
  },
  {
   "cell_type": "markdown",
   "id": "ffa7e5b5-a839-409b-b4d2-7f93c78921be",
   "metadata": {},
   "source": [
    "## Plot"
   ]
  },
  {
   "cell_type": "code",
   "execution_count": 41,
   "id": "cbd5f732-125e-4312-9d05-ea20c5b25080",
   "metadata": {},
   "outputs": [
    {
     "data": {
      "image/png": "[encoded data removed]",
      "text/plain": [
       "<Figure size 300x200 with 1 Axes>"
      ]
     },
     "metadata": {},
     "output_type": "display_data"
    },
    {
     "data": {
      "image/png": "[encoded data removed]",
      "text/plain": [
       "<Figure size 300x400 with 2 Axes>"
      ]
     },
     "metadata": {},
     "output_type": "display_data"
    }
   ],
   "source": [
    "quick_plot_combined(a11_p0005,\n",
    "                    kw_f={'data_list':data_p0005_list},\n",
    "                    kw_r3d={'data_list':data_r3d_p0005_list},\n",
    "                    kw_r={'etup':etup11})"
   ]
  },
  {
   "cell_type": "markdown",
   "id": "16dbe06a-3457-4961-a770-a7ecfdad08d2",
   "metadata": {},
   "source": [
    "## Sims"
   ]
  },
  {
   "cell_type": "code",
   "execution_count": 42,
   "id": "f8ed7d19-09f5-46af-81c7-db415e5446a7",
   "metadata": {},
   "outputs": [],
   "source": [
    "eps11_p0005 = 0.025\n",
    "th_init11_p0005 = 0"
   ]
  },
  {
   "cell_type": "code",
   "execution_count": 43,
   "id": "094d999e-55ec-4c80-bfe8-8f9f7315e92f",
   "metadata": {},
   "outputs": [],
   "source": [
    "dt = .01;T_p008=1000\n",
    "t11_p0005 = np.arange(0,T_p008,dt)\n",
    "args11_p0005 = {'args':(a11_p0005,eps11_p0005,del11_p0005),\n",
    "               't_eval':t11_p0005,**kw_sim}"
   ]
  },
  {
   "cell_type": "code",
   "execution_count": 44,
   "id": "ebefc90c-e250-4c78-86cc-a1fb3501d461",
   "metadata": {
    "tags": []
   },
   "outputs": [],
   "source": [
    "y0a = a11_p0005.system1.lc['dat'][int((th_init11_p0005/(2*np.pi)) * a11_p0005.system1.TN),:]\n",
    "y0b = a11_p0005.system2.lc['dat'][int((0/(2*np.pi)) * a11_p0005.system2.TN),:]\n",
    "\n",
    "y0_p008 = np.array([y0a,y0b]).flatten()\n",
    "\n",
    "solf11_p0005 = solve_ivp(_full,[0,t11_p0005[-1]],\n",
    "                        y0_p008, **args11_p0005)"
   ]
  },
  {
   "cell_type": "code",
   "execution_count": 45,
   "id": "e05217f0-b0ec-4195-9946-ebe9c19e6dc4",
   "metadata": {
    "tags": []
   },
   "outputs": [],
   "source": [
    "solr11_p0005 = solve_ivp(_redu_c,[0,t11_p0005[-1]],\n",
    "                        [th_init11_p0005],**args11_p0005)"
   ]
  },
  {
   "cell_type": "code",
   "execution_count": 46,
   "id": "244846b6-11d3-4c84-8d72-43c66a9a11b3",
   "metadata": {},
   "outputs": [],
   "source": [
    "# solr12b_p008 = solve_ivp(_redu_3dc,[0,t11_p0005[-1]],\n",
    "#                     [th_init11_p0005,0,0],**args11_p0005)"
   ]
  },
  {
   "cell_type": "code",
   "execution_count": 47,
   "id": "ebd607e6-649f-4870-aac9-91138663f9a6",
   "metadata": {},
   "outputs": [],
   "source": [
    "tp12a_p008, phasea11_p0005 = get_phase(t11_p0005,solf11_p0005.y.T[:,:4],\n",
    "                            skipn=50,system1=a11_p0005.system1)\n",
    "tp12b_p008, phaseb11_p0005 = get_phase(t11_p0005,solf11_p0005.y.T[:,4:],\n",
    "                            skipn=50,system1=a11_p0005.system2)"
   ]
  },
  {
   "cell_type": "markdown",
   "id": "aa921093-ae01-4fde-840b-df027fafb833",
   "metadata": {},
   "source": [
    "### Plot"
   ]
  },
  {
   "cell_type": "code",
   "execution_count": 48,
   "id": "cedb6056-1200-4987-9b9d-beea8d189d8d",
   "metadata": {},
   "outputs": [
    {
     "data": {
      "text/plain": [
       "(-0.5, 6.783185307179586)"
      ]
     },
     "execution_count": 48,
     "metadata": {},
     "output_type": "execute_result"
    },
    {
     "data": {
      "image/png": "[encoded data removed]",
      "text/plain": [
       "<Figure size 640x480 with 1 Axes>"
      ]
     },
     "metadata": {},
     "output_type": "display_data"
    }
   ],
   "source": [
    "fig,axs = plt.subplots()\n",
    "y = np.mod(phasea11_p0005 - a11_p0005.om*phaseb11_p0005,2*np.pi)\n",
    "axs.scatter(tp12a_p008,y,s=1,alpha=.5,color='black')\n",
    "\n",
    "axs.plot(t11_p0005,np.mod(solr11_p0005.y.T,2*np.pi),color='tab:red')\n",
    "\n",
    "# axs.plot(t11_p0005*a11_p0005.om,np.mod(solr12b_p008.y[0]-a11_p0005.om*solr12b_p008.y[2],2*np.pi),color='tab:blue')\n",
    "\n",
    "#axs.plot(t12*a12.om,np.mod(solr12c.y[0]-a12.om*solr12c.y[2],2*np.pi),color='tab:green')\n",
    "#axs.scatter(sol_full.t[::skipn],np.mod(phase2,1),s=1)\n",
    "\n",
    "axs.set_ylim(-.5,2*np.pi+.5)"
   ]
  },
  {
   "cell_type": "code",
   "execution_count": 49,
   "id": "519ae76b-1637-4513-9f94-add0f05dcc38",
   "metadata": {},
   "outputs": [
    {
     "data": {
      "text/plain": [
       "(250.0, 350.0)"
      ]
     },
     "execution_count": 49,
     "metadata": {},
     "output_type": "execute_result"
    },
    {
     "data": {
      "image/png": "[encoded data removed]",
      "text/plain": [
       "<Figure size 600x200 with 1 Axes>"
      ]
     },
     "metadata": {},
     "output_type": "display_data"
    }
   ],
   "source": [
    "fig,axs = plt.subplots(figsize=(6,2))\n",
    "axs.plot(solf11_p0005.t,solf11_p0005.y.T[:,0])\n",
    "axs.plot(solf11_p0005.t,solf11_p0005.y.T[:,4])\n",
    "axs.set_xlim(250,350)"
   ]
  },
  {
   "cell_type": "markdown",
   "id": "3d2c9641-2ea9-4eb8-9d0e-dc5f532d88d2",
   "metadata": {},
   "source": [
    "# del=0.001"
   ]
  },
  {
   "cell_type": "code",
   "execution_count": 50,
   "id": "abc8120a-7709-4e5a-a7e0-3f9afce7595d",
   "metadata": {},
   "outputs": [
    {
     "name": "stdout",
     "output_type": "stream",
     "text": [
      "pfactor 20\n",
      "* Loading p symbolic...\n",
      "* Loading p symbolic...\n",
      "* Loading H symbolic...\n",
      "* Loading H symbolic...\n",
      "* Loading H thal0_35, order=0...\n",
      "* Loading H thal1_35, order=0...\n",
      "* Loading H thal0_35, order=1...\n",
      "* Loading H thal1_35, order=1...\n",
      "* Loading H thal0_35, order=2...\n",
      "* Loading H thal1_35, order=2...\n",
      "* Loading H thal0_35, order=3...\n",
      "* Loading H thal1_35, order=3...\n"
     ]
    },
    {
     "name": "stdout",
     "output_type": "stream",
     "text": [
      "p order=1\n"
     ]
    },
    {
     "name": "stdout",
     "output_type": "stream",
     "text": [
      "p order=1\n"
     ]
    },
    {
     "name": "stdout",
     "output_type": "stream",
     "text": [
      "p order=2\n"
     ]
    },
    {
     "name": "stdout",
     "output_type": "stream",
     "text": [
      "p order=2\n"
     ]
    },
    {
     "name": "stdout",
     "output_type": "stream",
     "text": [
      "p order=3\n"
     ]
    },
    {
     "name": "stdout",
     "output_type": "stream",
     "text": [
      "p order=3\n"
     ]
    },
    {
     "name": "stdout",
     "output_type": "stream",
     "text": [
      "* Loading H symbolic...\n",
      "* Loading H symbolic...\n",
      "* Computing H thal0_35, order=0...\n"
     ]
    },
    {
     "name": "stdout",
     "output_type": "stream",
     "text": [
      "* Computing H thal1_35, order=0...\n"
     ]
    },
    {
     "name": "stdout",
     "output_type": "stream",
     "text": [
      "* Computing H thal0_35, order=1...\n"
     ]
    },
    {
     "name": "stdout",
     "output_type": "stream",
     "text": [
      "* Computing H thal1_35, order=1...\n"
     ]
    },
    {
     "name": "stdout",
     "output_type": "stream",
     "text": [
      "* Computing H thal0_35, order=2...\n"
     ]
    },
    {
     "name": "stdout",
     "output_type": "stream",
     "text": [
      "* Computing H thal1_35, order=2...\n"
     ]
    },
    {
     "name": "stdout",
     "output_type": "stream",
     "text": [
      "* Computing H thal0_35, order=3...\n"
     ]
    },
    {
     "name": "stdout",
     "output_type": "stream",
     "text": [
      "* Computing H thal1_35, order=3...\n"
     ]
    }
   ],
   "source": [
    "del11_p001 = .001\n",
    "a11_p001 = nm.nmCoupling(**kw_nm, del1=del11_p001)"
   ]
  },
  {
   "cell_type": "markdown",
   "id": "c53dcfaa-1447-41ae-be02-e4103249252c",
   "metadata": {},
   "source": [
    "## Get Branches Full"
   ]
  },
  {
   "cell_type": "code",
   "execution_count": 51,
   "id": "34de7a0d-3869-4841-a962-c5d6b551a3a0",
   "metadata": {},
   "outputs": [],
   "source": [
    "kw_p001 = {'a':a11_p001,'del1':del11_p001,'recompute':False,\n",
    "            'bifdir':'bif1d_thal2/','_full_rhs':_full}"
   ]
  },
  {
   "cell_type": "code",
   "execution_count": 52,
   "id": "32edbf43-3014-45f1-abb3-2b2014109385",
   "metadata": {},
   "outputs": [],
   "source": [
    "data_p001_list = []"
   ]
  },
  {
   "cell_type": "code",
   "execution_count": 53,
   "id": "2418415d-6c52-43e4-9ab1-96ef8919282c",
   "metadata": {},
   "outputs": [],
   "source": [
    "in_dicts = [dict(init=3,eps_init=0.02,eps_final=0.0005,deps=-.0005),\n",
    "               dict(init=3,eps_init=0.02,eps_final=0.3,deps=.01),\n",
    "               dict(init=.5,eps_init=0.2,eps_final=0.27,deps=.01),\n",
    "               dict(init=.5,eps_init=0.2,eps_final=0.04,deps=-.01),\n",
    "               dict(init=6,eps_init=0.2,eps_final=0.3,deps=.01),\n",
    "               dict(init=6,eps_init=0.2,eps_final=0.14,deps=-.01)]"
   ]
  },
  {
   "cell_type": "code",
   "execution_count": 54,
   "id": "4857588e-f55a-493e-9c16-90e5ae849814",
   "metadata": {
    "scrolled": true
   },
   "outputs": [
    {
     "name": "stdout",
     "output_type": "stream",
     "text": [
      "fname1 td_branch_init=3_nm=11_del=0.001_ei=0.02_ef=0.0005_de=-0.0005.txt\n",
      "fname2 ts_branch_init=3_nm=11_del=0.001_ei=0.02_ef=0.0005_de=-0.0005.txt\n",
      "fname1 td_branch_init=3_nm=11_del=0.001_ei=0.02_ef=0.3_de=0.01.txt\n",
      "fname2 ts_branch_init=3_nm=11_del=0.001_ei=0.02_ef=0.3_de=0.01.txt\n",
      "fname1 td_branch_init=0.5_nm=11_del=0.001_ei=0.2_ef=0.27_de=0.01.txt\n",
      "fname2 ts_branch_init=0.5_nm=11_del=0.001_ei=0.2_ef=0.27_de=0.01.txt\n",
      "fname1 td_branch_init=0.5_nm=11_del=0.001_ei=0.2_ef=0.04_de=-0.01.txt\n",
      "fname2 ts_branch_init=0.5_nm=11_del=0.001_ei=0.2_ef=0.04_de=-0.01.txt\n",
      "fname1 td_branch_init=6_nm=11_del=0.001_ei=0.2_ef=0.3_de=0.01.txt\n",
      "fname2 ts_branch_init=6_nm=11_del=0.001_ei=0.2_ef=0.3_de=0.01.txt\n",
      "fname1 td_branch_init=6_nm=11_del=0.001_ei=0.2_ef=0.14_de=-0.01.txt\n",
      "fname2 ts_branch_init=6_nm=11_del=0.001_ei=0.2_ef=0.14_de=-0.01.txt\n"
     ]
    }
   ],
   "source": [
    "for i in range(len(in_dicts)):\n",
    "    in1 = in_dicts[i]\n",
    "    dat = follow_phase_diffs(**in1,**kw_p001)\n",
    "    data_p001_list.append(dat)\n",
    "fname = kw_p001['bifdir']+'hyper_thal2_11_p001.txt'"
   ]
  },
  {
   "cell_type": "code",
   "execution_count": 55,
   "id": "a31635b8-06c2-4c8e-9d01-d72d13c78bc5",
   "metadata": {},
   "outputs": [],
   "source": [
    "# save hyperparameters\n",
    "hyp_inputs = np.zeros([len(in_dicts),4])\n",
    "for i in range(len(in_dicts)):\n",
    "    hyp_inputs[i,0] = in_dicts[i]['init']\n",
    "    hyp_inputs[i,1] = in_dicts[i]['eps_init']\n",
    "    hyp_inputs[i,2] = in_dicts[i]['eps_final']\n",
    "    hyp_inputs[i,3] = in_dicts[i]['deps']\n",
    "np.savetxt(fname,hyp_inputs)"
   ]
  },
  {
   "cell_type": "markdown",
   "id": "98738be9-4396-4ecc-9f17-d4be1fca536e",
   "metadata": {},
   "source": [
    "## Plot"
   ]
  },
  {
   "cell_type": "code",
   "execution_count": 56,
   "id": "63487229-fb52-4c87-9f65-fe82e2956e40",
   "metadata": {},
   "outputs": [
    {
     "data": {
      "image/png": "[encoded data removed]",
      "text/plain": [
       "<Figure size 300x200 with 1 Axes>"
      ]
     },
     "metadata": {},
     "output_type": "display_data"
    },
    {
     "data": {
      "image/png": "[encoded data removed]",
      "text/plain": [
       "<Figure size 300x400 with 2 Axes>"
      ]
     },
     "metadata": {},
     "output_type": "display_data"
    }
   ],
   "source": [
    "quick_plot_combined(a11_p001,\n",
    "                    kw_f={'data_list':data_p001_list},\n",
    "                    #kw_r3d={'data_list':data_r3d_p001_list},\n",
    "                    kw_r={'etup':etup11})"
   ]
  },
  {
   "cell_type": "markdown",
   "id": "7b16a9c9-45b5-4ce3-bcb6-44522c21112f",
   "metadata": {},
   "source": [
    "# del=0.0015"
   ]
  },
  {
   "cell_type": "code",
   "execution_count": 57,
   "id": "03e6f1e0-2026-4438-aaa6-1a2aada77eb2",
   "metadata": {},
   "outputs": [
    {
     "name": "stdout",
     "output_type": "stream",
     "text": [
      "pfactor 20\n",
      "* Loading p symbolic...\n",
      "* Loading p symbolic...\n",
      "* Loading H symbolic...\n",
      "* Loading H symbolic...\n",
      "* Loading H thal0_35, order=0...\n",
      "* Loading H thal1_35, order=0...\n",
      "* Loading H thal0_35, order=1...\n",
      "* Loading H thal1_35, order=1...\n",
      "* Loading H thal0_35, order=2...\n",
      "* Loading H thal1_35, order=2...\n",
      "* Loading H thal0_35, order=3...\n",
      "* Loading H thal1_35, order=3...\n"
     ]
    },
    {
     "name": "stdout",
     "output_type": "stream",
     "text": [
      "p order=1\n"
     ]
    },
    {
     "name": "stdout",
     "output_type": "stream",
     "text": [
      "p order=1\n"
     ]
    },
    {
     "name": "stdout",
     "output_type": "stream",
     "text": [
      "p order=2\n"
     ]
    },
    {
     "name": "stdout",
     "output_type": "stream",
     "text": [
      "p order=2\n"
     ]
    },
    {
     "name": "stdout",
     "output_type": "stream",
     "text": [
      "p order=3\n"
     ]
    },
    {
     "name": "stdout",
     "output_type": "stream",
     "text": [
      "p order=3\n"
     ]
    },
    {
     "name": "stdout",
     "output_type": "stream",
     "text": [
      "* Loading H symbolic...\n",
      "* Loading H symbolic...\n",
      "* Computing H thal0_35, order=0...\n"
     ]
    },
    {
     "name": "stdout",
     "output_type": "stream",
     "text": [
      "* Computing H thal1_35, order=0...\n",
      "* Computing H thal0_35, order=1...\n"
     ]
    },
    {
     "name": "stdout",
     "output_type": "stream",
     "text": [
      "* Computing H thal1_35, order=1...\n"
     ]
    },
    {
     "name": "stdout",
     "output_type": "stream",
     "text": [
      "* Computing H thal0_35, order=2...\n"
     ]
    },
    {
     "name": "stdout",
     "output_type": "stream",
     "text": [
      "* Computing H thal1_35, order=2...\n"
     ]
    },
    {
     "name": "stdout",
     "output_type": "stream",
     "text": [
      "* Computing H thal0_35, order=3...\n"
     ]
    },
    {
     "name": "stdout",
     "output_type": "stream",
     "text": [
      "* Computing H thal1_35, order=3...\n"
     ]
    }
   ],
   "source": [
    "del11_p0015 = .0015\n",
    "a11_p0015 = nm.nmCoupling(**kw_nm, del1=del11_p0015)"
   ]
  },
  {
   "cell_type": "markdown",
   "id": "00b0d5c5-dcba-4bd7-8478-47dfb769d9cb",
   "metadata": {},
   "source": [
    "## Get Branches Full"
   ]
  },
  {
   "cell_type": "code",
   "execution_count": 58,
   "id": "206b68de-c25b-4f10-8507-5f9359513d65",
   "metadata": {},
   "outputs": [],
   "source": [
    "kw_p0015 = {'a':a11_p0015,'del1':del11_p0015,'recompute':True,\n",
    "            'bifdir':'bif1d_thal2/','_full_rhs':_full}"
   ]
  },
  {
   "cell_type": "code",
   "execution_count": 59,
   "id": "3a1677e9-e007-46d6-8123-b4bf495ae5a4",
   "metadata": {},
   "outputs": [],
   "source": [
    "data_p0015_list = []"
   ]
  },
  {
   "cell_type": "code",
   "execution_count": 60,
   "id": "f966c473-28c1-4fb8-9f49-82b49f0430aa",
   "metadata": {},
   "outputs": [],
   "source": [
    "in_dicts = [dict(init=3,eps_init=0.02,eps_final=0.0005,deps=-.0005),\n",
    "               dict(init=3,eps_init=0.02,eps_final=0.3,deps=.01),\n",
    "               dict(init=.5,eps_init=0.05,eps_final=0.061,deps=.001),\n",
    "               dict(init=.5,eps_init=0.05,eps_final=0.035,deps=-.002),\n",
    "               dict(init=6,eps_init=0.2,eps_final=0.3,deps=.01),\n",
    "               dict(init=6,eps_init=0.2,eps_final=0.16,deps=-.01)]"
   ]
  },
  {
   "cell_type": "code",
   "execution_count": 61,
   "id": "e25247c1-908c-4900-9584-e4ab9697365d",
   "metadata": {
    "scrolled": true
   },
   "outputs": [
    {
     "name": "stdout",
     "output_type": "stream",
     "text": [
      "fname1 td_branch_init=3_nm=11_del=0.0015_ei=0.02_ef=0.0005_de=-0.0005.txt\n",
      "fname2 ts_branch_init=3_nm=11_del=0.0015_ei=0.02_ef=0.0005_de=-0.0005.txt\n",
      "init [-5.00716117e-02  2.55827021e-01  2.27919191e-01  4.38106586e-01 -5.73890377e-01  8.38911250e-01  2.57443964e-01  6.45938542e-06  6.17534033e+00]\n",
      "eps iter 0 0.02                \n",
      "t1,t2 2.1216655013326187 6.179919611872005                              \n",
      "periods [6.18052219 6.18052326]\n",
      "eps iter 1 0.0195                \n",
      "t1,t2 2.118837907399743 6.185674761425384                               \n",
      "periods [6.18308834 6.18308844]\n",
      "eps iter 2 0.019                \n",
      "t1,t2 2.1192327905223656 6.1894616826061615                             \n",
      "periods [6.18565206 6.18565078]\n",
      "eps iter 3 0.0185                \n",
      "t1,t2 2.119641091070553 6.1910189437931376                              \n",
      "periods [6.18821835 6.18821692]\n",
      "eps iter 4 0.018                \n",
      "t1,t2 2.1200641286770097 6.193495755863148                              \n",
      "periods [6.1907861  6.19078311]\n",
      "eps iter 5 0.017499999999999998                \n",
      "t1,t2 2.120505385709509 6.195693295805616                               \n",
      "periods [6.19334942 6.19334876]\n",
      "eps iter 6 0.016999999999999998                \n",
      "t1,t2 2.120557100152673 6.196876069251809                               \n",
      "periods [6.19591383 6.19591464]\n",
      "eps iter 7 0.016499999999999997                \n",
      "t1,t2 2.120834184781596 6.199403525149932                               \n",
      "periods [6.19847937 6.1984794 ]\n",
      "eps iter 8 0.015999999999999997                \n",
      "t1,t2 2.121112506892215 6.201928613376511                               \n",
      "periods [6.2010449 6.2010449]\n",
      "eps iter 9 0.015499999999999996                \n",
      "t1,t2 2.1213921181948256 6.20767521469387                               \n",
      "periods [6.20361135 6.20361074]\n",
      "eps iter 10 0.014999999999999996                \n",
      "t1,t2 2.1242615166358987 6.207282421766386                              \n",
      "periods [6.20617828 6.20617687]\n",
      "eps iter 11 0.014499999999999996                \n",
      "t1,t2 2.1245429677375838 6.210824623788202                              \n",
      "periods [6.20874429 6.20874027]\n",
      "eps iter 12 0.013999999999999995                \n",
      "t1,t2 2.123884647677137 6.208929807705021                               \n",
      "periods [6.21130904 6.2113069 ]\n",
      "eps iter 13 0.013499999999999995                \n",
      "t1,t2 2.124681615863097 6.216486379811551                               \n",
      "periods [6.21387456 6.21387371]\n",
      "eps iter 14 0.012999999999999994                \n",
      "t1,t2 2.1239384590403403 6.213529670427644                              \n",
      "periods [6.21643997 6.21643997]\n",
      "eps iter 15 0.012499999999999994                \n",
      "t1,t2 2.1250601557284496 6.217843647375771                              \n",
      "periods [6.21900654 6.21900613]\n",
      "eps iter 16 0.011999999999999993                \n",
      "t1,t2 2.125010648209321 6.220896046030401                               \n",
      "periods [6.22157194 6.22157314]\n",
      "eps iter 17 0.011499999999999993                \n",
      "t1,t2 2.125044193070039 6.224764755591771                               \n",
      "periods [6.22413789 6.22413853]\n",
      "eps iter 18 0.010999999999999992                \n",
      "t1,t2 2.125150051904509 6.230455762418386                               \n",
      "periods [6.22670665 6.22670568]\n",
      "eps iter 19 0.010499999999999992                \n",
      "t1,t2 2.1253225093197043 6.233228569730121                              \n",
      "periods [6.22927338 6.22927387]\n",
      "eps iter 20 0.009999999999999992                \n",
      "t1,t2 2.125568174405426 6.2353393192613416                              \n",
      "periods [6.23183794 6.2318379 ]\n",
      "eps iter 21 0.009499999999999991                \n",
      "t1,t2 2.123257083283434 6.238221068391499                               \n",
      "periods [6.23440457 6.2344046 ]\n",
      "eps iter 22 0.00899999999999999                \n",
      "t1,t2 2.123895572559493 6.24049656815303                                \n",
      "periods [6.23697056 6.23697173]\n",
      "eps iter 23 0.00849999999999999                \n",
      "t1,t2 2.125400092705119 6.242529178027852                               \n",
      "periods [6.23953807 6.23953815]\n",
      "eps iter 24 0.00799999999999999                \n",
      "t1,t2 2.1257138555983124 6.245033270635563                              \n",
      "periods [6.24210667 6.24210277]\n",
      "eps iter 25 0.007499999999999989                \n",
      "eps iter 26 0.006999999999999989                                         \n",
      "t1,t2 2.128468906307453 6.249245389698971                               \n",
      "periods [6.24723895 6.24723895]\n",
      "eps iter 27 0.006499999999999988                \n",
      "t1,t2 2.12912301996796 6.2532073135132125                               \n",
      "periods [6.24980526 6.24980609]\n",
      "eps iter 28 0.005999999999999988                \n",
      "t1,t2 2.126619050121514 6.25435137835409                                \n",
      "periods [6.25237348 6.25237339]\n",
      "eps iter 29 0.0054999999999999875                \n",
      "t1,t2 2.1263066744687404 6.260337134698499                              \n",
      "periods [6.25493813 6.2549403 ]\n",
      "eps iter 30 0.004999999999999987                \n",
      "t1,t2 2.1299237373932782 6.259440813572589                              \n",
      "periods [6.25750469 6.25750543]\n",
      "eps iter 31 0.004499999999999987                \n",
      "t1,t2 2.1309014156905945 6.26249534574302                               \n",
      "periods [6.26007751 6.26007729]\n",
      "eps iter 32 0.003999999999999986                \n",
      "t1,t2 2.1293126665242244 6.263490850073673                              \n",
      "periods [6.2626446  6.26264236]\n",
      "eps iter 33 0.0034999999999999858                \n",
      "t1,t2 2.129822704249158 6.266002083521769                               \n",
      "periods [6.26521146 6.26521192]\n",
      "eps iter 34 0.0029999999999999853                \n",
      "t1,t2 2.1302989371516214 6.2699939860424525                             \n",
      "periods [6.26777998 6.2677768 ]\n",
      "eps iter 35 0.002499999999999985                \n",
      "t1,t2 2.1300781999732346 6.272079103002766                              \n",
      "periods [6.27034689 6.27034502]\n",
      "eps iter 36 0.0019999999999999844                \n",
      "t1,t2 2.1304126907401937 6.274625327464439                              \n",
      "periods [6.27291114 6.27291483]\n",
      "eps iter 37 0.001499999999999984                \n",
      "t1,t2 2.1307684079188087 6.276309066897014                              \n",
      "periods [6.27548315 6.27548181]\n",
      "eps iter 38 0.0009999999999999835                \n",
      "t1,t2 2.131152824253338 6.281628429988698                               \n",
      "periods [6.27804578 6.27804868]\n",
      "fname1 td_branch_init=3_nm=11_del=0.0015_ei=0.02_ef=0.3_de=0.01.txt\n",
      "fname2 ts_branch_init=3_nm=11_del=0.0015_ei=0.02_ef=0.3_de=0.01.txt\n",
      "init [-5.00716117e-02  2.55827021e-01  2.27919191e-01  4.38106586e-01 -5.73890377e-01  8.38911250e-01  2.57443964e-01  6.45938542e-06  6.17534033e+00]\n",
      "eps iter 0 0.02                \n",
      "t1,t2 2.1216655013326187 6.179919611872005                              \n",
      "periods [6.18052219 6.18052326]\n",
      "eps iter 1 0.03                \n",
      "t1,t2 2.1113566368497585 6.131796243837812                              \n",
      "periods [6.12924672 6.12924866]\n",
      "eps iter 2 0.039999999999999994                \n",
      "t1,t2 2.112233874616627 6.080226260301387                               \n",
      "periods [6.07802321 6.07802508]\n",
      "eps iter 3 0.049999999999999996                \n",
      "t1,t2 2.105260226463789 6.031504888211081                               \n",
      "periods [6.0268562  6.02685584]\n",
      "eps iter 4 0.06                \n",
      "t1,t2 2.0978249851249076 5.974040001764449                              \n",
      "periods [5.97575537 5.97576175]\n",
      "eps iter 5 0.06999999999999999                \n",
      "t1,t2 2.0987902572136807 5.923813580933542                              \n",
      "periods [5.92474018 5.92474312]\n",
      "eps iter 6 0.07999999999999999                \n",
      "t1,t2 2.0982793226327217 5.872625505038713                              \n",
      "periods [5.87382532 5.87382531]\n",
      "eps iter 7 0.09                \n",
      "t1,t2 2.0879412299629023 5.824424219683736                              \n",
      "periods [5.82301735 5.82301695]\n",
      "eps iter 8 0.09999999999999999                \n",
      "t1,t2 2.0856471151927916 5.77372120468743                               \n",
      "periods [5.77234118 5.77234382]\n",
      "eps iter 9 0.10999999999999999                \n",
      "t1,t2 2.082486627861942 5.7243513853731764                              \n",
      "periods [5.72181778 5.72181783]\n",
      "eps iter 10 0.11999999999999998                \n",
      "t1,t2 2.0846338173112957 5.674898850017449                              \n",
      "periods [5.6714631  5.67146587]\n",
      "eps iter 11 0.12999999999999998                \n",
      "t1,t2 2.07858516551979 5.624790532783509                                \n",
      "periods [5.62130798 5.62130796]\n",
      "eps iter 12 0.13999999999999999                \n",
      "t1,t2 2.0809162566581745 5.570183992593884                              \n",
      "periods [5.57137296 5.57137098]\n",
      "eps iter 13 0.14999999999999997                \n",
      "t1,t2 2.0741351313597995 5.5208650360569065                             \n",
      "periods [5.52167637 5.52167809]\n",
      "eps iter 14 0.15999999999999998                \n",
      "t1,t2 2.07388483005177 5.472368517261772                                \n",
      "periods [5.47225891 5.47225946]\n",
      "eps iter 15 0.16999999999999996                \n",
      "t1,t2 2.0689794644896526 5.4246105615165074                             \n",
      "periods [5.42313779 5.42314043]\n",
      "eps iter 16 0.17999999999999997                \n",
      "t1,t2 2.065308052340937 5.376513945812033                               \n",
      "periods [5.37433842 5.37433836]\n",
      "eps iter 17 0.18999999999999997                \n",
      "t1,t2 2.060546478751469 5.328815184991928                               \n",
      "periods [5.3258888  5.32588986]\n",
      "eps iter 18 0.19999999999999996                \n",
      "t1,t2 2.060955341424211 5.277043202885805                               \n",
      "periods [5.27781101 5.2778109 ]\n",
      "eps iter 19 0.20999999999999996                \n",
      "t1,t2 2.0562854660694576 5.227678927670571                              \n",
      "periods [5.23013105 5.23013195]\n",
      "eps iter 20 0.21999999999999995                \n",
      "t1,t2 2.0461415083225614 5.178995333000024                              \n",
      "periods [5.18286867 5.18286869]\n",
      "eps iter 21 0.22999999999999995                \n",
      "t1,t2 2.0454355661308674 5.137644888358655                              \n",
      "periods [5.13604573 5.13604642]\n",
      "eps iter 22 0.23999999999999996                \n",
      "t1,t2 2.0416192006554468 5.086975835645582                              \n",
      "periods [5.08968637 5.08968272]\n",
      "eps iter 23 0.24999999999999994                \n",
      "t1,t2 2.033583244539813 5.042798685572558                               \n",
      "periods [5.04380211 5.04380076]\n",
      "eps iter 24 0.25999999999999995                \n",
      "t1,t2 2.0282015946922107 4.99720577169453                               \n",
      "periods [4.99841607 4.99841358]\n",
      "eps iter 25 0.26999999999999996                \n",
      "t1,t2 2.018200667317473 4.951644325856636                               \n",
      "periods [4.95353779 4.95353852]\n",
      "eps iter 26 0.27999999999999997                \n",
      "t1,t2 2.0123880783574846 4.908001472461249                              \n",
      "periods [4.90918951 4.90918648]\n",
      "eps iter 27 0.29                \n",
      "t1,t2 2.0075931199126518 4.862620469141445                              \n",
      "periods [4.86538101 4.86537831]\n",
      "fname1 td_branch_init=0.5_nm=11_del=0.0015_ei=0.05_ef=0.061_de=0.001.txt\n",
      "fname2 ts_branch_init=0.5_nm=11_del=0.0015_ei=0.05_ef=0.061_de=0.001.txt\n",
      "init [-5.09179988e-02  2.55612382e-01  2.03224259e-01  4.37683635e-01 -4.35797396e-01  8.69247467e-01  2.38447624e-01  4.69546563e-09  6.24664324e+00]\n",
      "eps iter 0 0.05                \n",
      "t1,t2 0.5404139269454907 6.2515686259556125                             \n",
      "periods [6.2482358  6.24823333]\n",
      "eps iter 1 0.051000000000000004                \n",
      "t1,t2 0.532863902233257 6.249585101665243                               \n",
      "periods [6.24827722 6.24827972]\n",
      "eps iter 2 0.052000000000000005                \n",
      "t1,t2 0.5304873770488825 6.248194534484049                              \n",
      "periods [6.24832064 6.24832388]\n",
      "eps iter 3 0.053000000000000005                \n",
      "t1,t2 0.523706222726969 6.248136115330147                               \n",
      "periods [6.24836741 6.24836739]\n",
      "eps iter 4 0.054000000000000006                \n",
      "t1,t2 0.5200234401725863 6.2523534408735655                             \n",
      "periods [6.24841493 6.2484157 ]\n",
      "eps iter 5 0.05500000000000001                \n",
      "t1,t2 0.5155060944538135 6.252431199467259                              \n",
      "periods [6.24846664 6.24846665]\n",
      "eps iter 6 0.05600000000000001                \n",
      "t1,t2 0.5154234887052487 6.251477410524794                              \n",
      "periods [6.24852302 6.2485207 ]\n",
      "eps iter 7 0.05700000000000001                \n",
      "t1,t2 0.5135104165697566 6.248932385796881                              \n",
      "periods [6.24857981 6.24857971]\n",
      "eps iter 8 0.05800000000000001                \n",
      "t1,t2 0.5066634897390042 6.249916087214945                              \n",
      "periods [6.24864392 6.24864338]\n",
      "eps iter 9 0.05900000000000001                \n",
      "t1,t2 0.5054199613261516 6.24898601188055                               \n",
      "periods [6.24871124 6.24871124]\n",
      "eps iter 10 0.06000000000000001                \n",
      "t1,t2 0.4976252840508543 6.248740895596443                              \n",
      "periods [6.24878485 6.24878485]\n",
      "fname1 td_branch_init=0.5_nm=11_del=0.0015_ei=0.05_ef=0.035_de=-0.002.txt\n",
      "fname2 ts_branch_init=0.5_nm=11_del=0.0015_ei=0.05_ef=0.035_de=-0.002.txt\n",
      "init [-5.09179988e-02  2.55612382e-01  2.03224259e-01  4.37683635e-01 -4.35797396e-01  8.69247467e-01  2.38447624e-01  4.69546563e-09  6.24664324e+00]\n",
      "eps iter 0 0.05                \n",
      "t1,t2 0.5404139269454907 6.2515686259556125                             \n",
      "periods [6.2482358  6.24823333]\n",
      "eps iter 1 0.048                \n",
      "t1,t2 0.5458956412764899 6.248172570806268                              \n",
      "periods [6.24814336 6.24814336]\n",
      "eps iter 2 0.046                \n",
      "t1,t2 0.5609303633968978 6.251101669191449                              \n",
      "periods [6.24804144 6.2480426 ]\n",
      "eps iter 3 0.044                \n",
      "t1,t2 0.5717126793480214 6.24870819040284                               \n",
      "periods [6.24791057 6.24791053]\n",
      "eps iter 4 0.041999999999999996                \n",
      "t1,t2 0.5823700398418468 6.248428935397621                              \n",
      "periods [6.24772794 6.24772793]\n",
      "eps iter 5 0.039999999999999994                \n",
      "t1,t2 0.5929524655248924 6.249095034013939                              \n",
      "periods [6.24745458 6.24745458]\n",
      "eps iter 6 0.03799999999999999                \n",
      "t1,t2 0.610142541516269 6.2485613503319035                              \n",
      "periods [6.24701805 6.24701804]\n",
      "eps iter 7 0.03599999999999999                \n",
      "t1,t2 0.6280181904694764 6.244756920705312                              \n",
      "periods [6.24626639 6.2462664 ]\n",
      "fname1 td_branch_init=6_nm=11_del=0.0015_ei=0.2_ef=0.3_de=0.01.txt\n",
      "fname2 ts_branch_init=6_nm=11_del=0.0015_ei=0.2_ef=0.3_de=0.01.txt\n",
      "init [-0.04235426  0.25796266  0.24586076  0.44154675 -0.57430459  0.14328895  0.12758547  0.1169545   6.04487467]\n",
      "eps iter 0 0.2                \n",
      "t1,t2 5.384840156530551 6.04379235106876                                \n",
      "periods [6.04487466 6.04487466]\n",
      "eps iter 1 0.21000000000000002                \n",
      "t1,t2 5.404289074286607 6.050204407066319                               \n",
      "periods [6.05034177 6.05034178]\n",
      "eps iter 2 0.22000000000000003                \n",
      "t1,t2 5.430356437912538 6.054342827931296                               \n",
      "periods [6.05464734 6.05464733]\n",
      "eps iter 3 0.23000000000000004                \n",
      "t1,t2 5.445435449461337 6.052436605254321                               \n",
      "periods [6.05817974 6.05817787]\n",
      "eps iter 4 0.24000000000000005                \n",
      "t1,t2 5.456897027050693 6.0564464291657565                              \n",
      "periods [6.06116913 6.06116926]\n",
      "eps iter 5 0.25000000000000006                \n",
      "t1,t2 5.474271378880543 6.059075099620797                               \n",
      "periods [6.06376657 6.06376919]\n",
      "eps iter 6 0.26000000000000006                \n",
      "t1,t2 5.4859575295887915 6.059889921051832                              \n",
      "periods [6.06608    6.06608135]\n",
      "eps iter 7 0.2700000000000001                \n",
      "t1,t2 5.497149227251377 6.056561107539521                               \n",
      "periods [6.06818009 6.06818009]\n",
      "eps iter 8 0.2800000000000001                \n",
      "t1,t2 5.5099074759505715 6.061802422096278                              \n",
      "periods [6.07011894 6.07011885]\n",
      "eps iter 9 0.2900000000000001                \n",
      "t1,t2 5.516980161939842 6.055804021005811                               \n",
      "periods [6.0719355  6.07193508]\n",
      "fname1 td_branch_init=6_nm=11_del=0.0015_ei=0.2_ef=0.16_de=-0.01.txt\n",
      "fname2 ts_branch_init=6_nm=11_del=0.0015_ei=0.2_ef=0.16_de=-0.01.txt\n",
      "init [-0.04235426  0.25796266  0.24586076  0.44154675 -0.57430459  0.14328895  0.12758547  0.1169545   6.04487467]\n",
      "eps iter 0 0.2                \n",
      "t1,t2 5.384840156530551 6.04379235106876                                \n",
      "periods [6.04487466 6.04487466]\n",
      "eps iter 1 0.19                \n",
      "t1,t2 5.355340178136676 6.042376211465533                               \n",
      "periods [6.03754788 6.03754642]\n",
      "eps iter 2 0.18                \n",
      "t1,t2 5.317754544954306 6.03210497249547                                \n",
      "periods [6.02686885 6.02687034]\n",
      "eps iter 3 0.16999999999999998                \n",
      "t1,t2 5.254360967667309 6.017421074275057                               \n",
      "periods [6.00854424 6.00854952]\n",
      "eps iter 4 0.15999999999999998                \n",
      "iter=20, rel. err =2.22e-02                                              \r"
     ]
    }
   ],
   "source": [
    "for i in range(len(in_dicts)):\n",
    "    in1 = in_dicts[i]\n",
    "    dat = follow_phase_diffs(**in1,**kw_p0015)\n",
    "    data_p0015_list.append(dat)\n",
    "fname = kw_p0015['bifdir']+'hyper_thal2_11_p0015.txt'"
   ]
  },
  {
   "cell_type": "code",
   "execution_count": 62,
   "id": "1c7aa0b4-1b7e-483a-abc6-aca13509c484",
   "metadata": {},
   "outputs": [],
   "source": [
    "# save hyperparameters\n",
    "hyp_inputs = np.zeros([len(in_dicts),4])\n",
    "for i in range(len(in_dicts)):\n",
    "    hyp_inputs[i,0] = in_dicts[i]['init']\n",
    "    hyp_inputs[i,1] = in_dicts[i]['eps_init']\n",
    "    hyp_inputs[i,2] = in_dicts[i]['eps_final']\n",
    "    hyp_inputs[i,3] = in_dicts[i]['deps']\n",
    "np.savetxt(fname,hyp_inputs)"
   ]
  },
  {
   "cell_type": "markdown",
   "id": "bc5308e7-0025-4865-bb35-f9a008fb95c5",
   "metadata": {},
   "source": [
    "## Plot"
   ]
  },
  {
   "cell_type": "code",
   "execution_count": 63,
   "id": "fef5db5f-2b66-4e5a-9f2c-0c455a0332b1",
   "metadata": {},
   "outputs": [
    {
     "data": {
      "image/png": "[encoded data removed]",
      "text/plain": [
       "<Figure size 300x200 with 1 Axes>"
      ]
     },
     "metadata": {},
     "output_type": "display_data"
    },
    {
     "data": {
      "image/png": "[encoded data removed]",
      "text/plain": [
       "<Figure size 300x400 with 2 Axes>"
      ]
     },
     "metadata": {},
     "output_type": "display_data"
    }
   ],
   "source": [
    "quick_plot_combined(a11_p0015,\n",
    "                    kw_f={'data_list':data_p0015_list},\n",
    "                    #kw_r3d={'data_list':data_r3d_p0015_list},\n",
    "                    kw_r={'etup':etup11})"
   ]
  },
  {
   "cell_type": "markdown",
   "id": "edc39c06-1628-4483-a8fc-6c34d8fc9469",
   "metadata": {},
   "source": [
    "# del=0.002"
   ]
  },
  {
   "cell_type": "code",
   "execution_count": 64,
   "id": "73a4bd51-1f90-45ee-824c-b6eb379f91e8",
   "metadata": {},
   "outputs": [
    {
     "name": "stdout",
     "output_type": "stream",
     "text": [
      "pfactor 20\n",
      "* Loading p symbolic...\n",
      "* Loading p symbolic...\n",
      "* Loading H symbolic...\n",
      "* Loading H symbolic...\n",
      "* Loading H thal0_35, order=0...\n",
      "* Loading H thal1_35, order=0...\n",
      "* Loading H thal0_35, order=1...\n",
      "* Loading H thal1_35, order=1...\n",
      "* Loading H thal0_35, order=2...\n",
      "* Loading H thal1_35, order=2...\n",
      "* Loading H thal0_35, order=3...\n",
      "* Loading H thal1_35, order=3...\n"
     ]
    },
    {
     "name": "stdout",
     "output_type": "stream",
     "text": [
      "p order=0\n"
     ]
    },
    {
     "name": "stdout",
     "output_type": "stream",
     "text": [
      "p order=1\n"
     ]
    },
    {
     "name": "stdout",
     "output_type": "stream",
     "text": [
      "p order=1\n"
     ]
    },
    {
     "name": "stdout",
     "output_type": "stream",
     "text": [
      "p order=2\n"
     ]
    },
    {
     "name": "stdout",
     "output_type": "stream",
     "text": [
      "p order=2\n"
     ]
    },
    {
     "name": "stdout",
     "output_type": "stream",
     "text": [
      "p order=3\n"
     ]
    },
    {
     "name": "stdout",
     "output_type": "stream",
     "text": [
      "p order=3\n"
     ]
    },
    {
     "name": "stdout",
     "output_type": "stream",
     "text": [
      "* Loading H symbolic...\n",
      "* Loading H symbolic...\n",
      "* Computing H thal0_35, order=0...\n"
     ]
    },
    {
     "name": "stdout",
     "output_type": "stream",
     "text": [
      "* Computing H thal1_35, order=0...\n",
      "* Computing H thal0_35, order=1...\n"
     ]
    },
    {
     "name": "stdout",
     "output_type": "stream",
     "text": [
      "* Computing H thal1_35, order=1...\n"
     ]
    },
    {
     "name": "stdout",
     "output_type": "stream",
     "text": [
      "* Computing H thal0_35, order=2...\n"
     ]
    },
    {
     "name": "stdout",
     "output_type": "stream",
     "text": [
      "* Computing H thal1_35, order=2...\n"
     ]
    },
    {
     "name": "stdout",
     "output_type": "stream",
     "text": [
      "* Computing H thal0_35, order=3...\n"
     ]
    },
    {
     "name": "stdout",
     "output_type": "stream",
     "text": [
      "* Computing H thal1_35, order=3...\n"
     ]
    }
   ],
   "source": [
    "del11_p002 = .002\n",
    "a11_p002 = nm.nmCoupling(**kw_nm, del1=del11_p002)"
   ]
  },
  {
   "cell_type": "markdown",
   "id": "0f406e17-f5f8-4d19-b7cd-da0b2317e09c",
   "metadata": {},
   "source": [
    "## Get Branches Full"
   ]
  },
  {
   "cell_type": "code",
   "execution_count": 65,
   "id": "c8afdc5d-356c-4f94-9296-72c7dd1e6d7f",
   "metadata": {},
   "outputs": [],
   "source": [
    "kw_p002 = {'a':a11_p002,'del1':del11_p002,'recompute':True,\n",
    "            'bifdir':'bif1d_thal2/','_full_rhs':_full}"
   ]
  },
  {
   "cell_type": "code",
   "execution_count": 66,
   "id": "33937b4a-6149-4bfa-b6d1-ad7097fd2550",
   "metadata": {},
   "outputs": [],
   "source": [
    "data_p002_list = []"
   ]
  },
  {
   "cell_type": "code",
   "execution_count": 67,
   "id": "6f9cb106-6af6-4a2f-8381-74f67e9ce048",
   "metadata": {},
   "outputs": [],
   "source": [
    "in_dicts = [dict(init=3,eps_init=0.02,eps_final=0.0005,deps=-.0005),\n",
    "               dict(init=3,eps_init=0.02,eps_final=0.0589,deps=.0005),\n",
    "               dict(init=.1,eps_init=0.2,eps_final=0.3,deps=.01),\n",
    "               dict(init=.1,eps_init=0.2,eps_final=0.18,deps=-.005)]"
   ]
  },
  {
   "cell_type": "code",
   "execution_count": 68,
   "id": "85cb4691-4eaf-4b0d-8246-c00bda6ed036",
   "metadata": {
    "scrolled": true
   },
   "outputs": [
    {
     "name": "stdout",
     "output_type": "stream",
     "text": [
      "fname1 td_branch_init=3_nm=11_del=0.002_ei=0.02_ef=0.0005_de=-0.0005.txt\n",
      "fname2 ts_branch_init=3_nm=11_del=0.002_ei=0.02_ef=0.0005_de=-0.0005.txt\n",
      "init [-5.01437398e-02  2.55818762e-01  2.27022830e-01  4.38062492e-01 -5.66271084e-01  8.47080666e-01  2.57083668e-01  3.97556449e-06  6.17746340e+00]\n",
      "eps iter 0 0.02                \n",
      "t1,t2 1.7773011059386032 6.19226707507089                               \n",
      "periods [6.18951623 6.18951433]\n",
      "eps iter 1 0.0195                \n",
      "t1,t2 1.7796306496719276 6.192697829022079                              \n",
      "periods [6.19182486 6.19182466]\n",
      "eps iter 2 0.019                \n",
      "t1,t2 1.7842192096737268 6.1982156348374025                             \n",
      "periods [6.19413557 6.19413642]\n",
      "eps iter 3 0.0185                \n",
      "t1,t2 1.7852591297822609 6.200736888029716                              \n",
      "periods [6.19645319 6.19645056]\n",
      "eps iter 4 0.018                \n",
      "t1,t2 1.7811694965053102 6.1965008613401436                             \n",
      "periods [6.19876834 6.19877147]\n",
      "eps iter 5 0.017499999999999998                \n",
      "t1,t2 1.784454820146251 6.20082861363138                                \n",
      "periods [6.20108819 6.20108834]\n",
      "eps iter 6 0.016999999999999998                \n",
      "t1,t2 1.7836057755308015 6.204669194128171                              \n",
      "periods [6.20341057 6.20340838]\n",
      "eps iter 7 0.016499999999999997                \n",
      "t1,t2 1.7862908120947565 6.206951697016263                              \n",
      "periods [6.20573161 6.20573362]\n",
      "eps iter 8 0.015999999999999997                \n",
      "t1,t2 1.7875370651792426 6.209231987438716                              \n",
      "periods [6.20805625 6.20805638]\n",
      "eps iter 9 0.015499999999999996                \n",
      "t1,t2 1.7896755559189268 6.210400862079232                              \n",
      "periods [6.21038166 6.21038096]\n",
      "eps iter 10 0.014999999999999996                \n",
      "t1,t2 1.7908399544042521 6.213119823056936                              \n",
      "periods [6.21271011 6.21271   ]\n",
      "eps iter 11 0.014499999999999996                \n",
      "t1,t2 1.789290233727327 6.2138774780941315                              \n",
      "periods [6.21503844 6.21503948]\n",
      "eps iter 12 0.013999999999999995                \n",
      "t1,t2 1.790805550618069 6.22117550836432                                \n",
      "periods [6.2173703  6.21737085]\n",
      "eps iter 13 0.013499999999999995                \n",
      "t1,t2 1.791839333760098 6.222523342254842                               \n",
      "periods [6.21970093 6.21970178]\n",
      "eps iter 14 0.012999999999999994                \n",
      "t1,t2 1.7983844156053277 6.222820496797937                              \n",
      "periods [6.22203457 6.22203539]\n",
      "eps iter 15 0.012499999999999994                \n",
      "t1,t2 1.80025612962292 6.227684930841649                                \n",
      "periods [6.22437117 6.22437137]\n",
      "eps iter 16 0.011999999999999993                \n",
      "t1,t2 1.8000310711639627 6.226397775670938                              \n",
      "periods [6.22670477 6.2267051 ]\n",
      "eps iter 17 0.011499999999999993                \n",
      "t1,t2 1.80110583092455 6.2277129066265084                               \n",
      "periods [6.22904617 6.22904664]\n",
      "eps iter 18 0.010999999999999992                \n",
      "t1,t2 1.8022592028666369 6.234662186365712                              \n",
      "periods [6.23138776 6.23138578]\n",
      "eps iter 19 0.010499999999999992                \n",
      "t1,t2 1.7994414958811844 6.236871916207511                              \n",
      "periods [6.2337256  6.23373078]\n",
      "eps iter 20 0.009999999999999992                \n",
      "t1,t2 1.8002705243959365 6.236527795211                                 \n",
      "periods [6.23606851 6.2360701 ]\n",
      "eps iter 21 0.009499999999999991                \n",
      "t1,t2 1.8005803352914336 6.24169773159147                               \n",
      "periods [6.2384139  6.23841525]\n",
      "eps iter 22 0.00899999999999999                \n",
      "t1,t2 1.803622953043527 6.244002519399174                               \n",
      "periods [6.24075923 6.24075917]\n",
      "eps iter 23 0.00849999999999999                \n",
      "t1,t2 1.807501898888145 6.243664232931652                               \n",
      "periods [6.24310379 6.2431056 ]\n",
      "eps iter 24 0.00799999999999999                \n",
      "t1,t2 1.8061825419353061 6.244610450337813                              \n",
      "periods [6.24545428 6.2454542 ]\n",
      "eps iter 25 0.007499999999999989                \n",
      "t1,t2 1.8079263231273028 6.251128999699999                              \n",
      "periods [6.24780107 6.24780253]\n",
      "eps iter 26 0.006999999999999989                \n",
      "t1,t2 1.8090493054318861 6.2517151532736746                             \n",
      "periods [6.2501544  6.25015362]\n",
      "eps iter 27 0.006499999999999988                \n",
      "t1,t2 1.8101596887664277 6.252763361984002                              \n",
      "periods [6.25250459 6.25250762]\n",
      "eps iter 28 0.005999999999999988                \n",
      "t1,t2 1.8155092113652682 6.25505578986715                               \n",
      "periods [6.25485723 6.25485868]\n",
      "eps iter 29 0.0054999999999999875                \n",
      "eps iter 30 0.004999999999999987                                         \n",
      "t1,t2 1.817803055659721 6.263526305701399                               \n",
      "periods [6.25956833 6.25956837]\n",
      "eps iter 31 0.004499999999999987                \n",
      "t1,t2 1.8166205181596604 6.261742601044287                              \n",
      "periods [6.26192367 6.26192116]\n",
      "eps iter 32 0.003999999999999986                \n",
      "t1,t2 1.820908719806053 6.2653521099168525                              \n",
      "periods [6.2642817  6.26427871]\n",
      "eps iter 33 0.0034999999999999858                \n",
      "t1,t2 1.8218488167254516 6.267673388551605                              \n",
      "periods [6.26664044 6.26664241]\n",
      "eps iter 34 0.0029999999999999853                \n",
      "t1,t2 1.8227484729453363 6.270157991284476                              \n",
      "periods [6.26900275 6.26900081]\n",
      "eps iter 35 0.002499999999999985                \n",
      "t1,t2 1.8182921365288822 6.272469355539528                              \n",
      "periods [6.27136189 6.27136335]\n",
      "eps iter 36 0.0019999999999999844                \n",
      "t1,t2 1.82376678655304 6.272741473871813                                \n",
      "periods [6.27372635 6.27372441]\n",
      "eps iter 37 0.001499999999999984                \n",
      "eps iter 38 0.0009999999999999835                                        \n",
      "t1,t2 1.8236968279307457 6.27986184046515                               \n",
      "periods [6.27845171 6.27845161]\n",
      "fname1 td_branch_init=3_nm=11_del=0.002_ei=0.02_ef=0.0589_de=0.0005.txt\n",
      "fname2 ts_branch_init=3_nm=11_del=0.002_ei=0.02_ef=0.0589_de=0.0005.txt\n",
      "init [-5.01437398e-02  2.55818762e-01  2.27022830e-01  4.38062492e-01 -5.66271084e-01  8.47080666e-01  2.57083668e-01  3.97556449e-06  6.17746340e+00]\n",
      "eps iter 0 0.02                \n",
      "t1,t2 1.7773011059386032 6.19226707507089                               \n",
      "periods [6.18951623 6.18951433]\n",
      "eps iter 1 0.0205                \n",
      "t1,t2 1.7772220059541897 6.188648273980596                              \n",
      "periods [6.18720403 6.18720404]\n",
      "eps iter 2 0.021                \n",
      "t1,t2 1.775892817298363 6.1863856058771                                 \n",
      "periods [6.18489744 6.18489789]\n",
      "eps iter 3 0.021500000000000002                \n",
      "t1,t2 1.7730385309248484 6.185872735220139                              \n",
      "periods [6.18259139 6.18259135]\n",
      "eps iter 4 0.022000000000000002                \n",
      "t1,t2 1.7699242350853548 6.179609634107094                              \n",
      "periods [6.18028942 6.18028838]\n",
      "eps iter 5 0.022500000000000003                \n",
      "t1,t2 1.7718561497754581 6.179609975770463                              \n",
      "periods [6.1779846  6.17798713]\n",
      "eps iter 6 0.023000000000000003                \n",
      "t1,t2 1.7710702961725282 6.178119483801929                              \n",
      "periods [6.17568707 6.17568705]\n",
      "eps iter 7 0.023500000000000004                \n",
      "t1,t2 1.7676222618820057 6.176256652840362                              \n",
      "periods [6.17339151 6.17339151]\n",
      "eps iter 8 0.024000000000000004                \n",
      "t1,t2 1.7662193267254258 6.1747156991671055                             \n",
      "periods [6.17109704 6.17109694]\n",
      "eps iter 9 0.024500000000000004                \n",
      "t1,t2 1.7678749506985652 6.171699426885813                              \n",
      "periods [6.16880407 6.1688041 ]\n",
      "eps iter 10 0.025000000000000005                \n",
      "t1,t2 1.766812803578603 6.1694565299175                                 \n",
      "periods [6.16651543 6.16651603]\n",
      "eps iter 11 0.025500000000000005                \n",
      "t1,t2 1.7653570962046188 6.167419036455638                              \n",
      "periods [6.16422973 6.16422827]\n",
      "eps iter 12 0.026000000000000006                \n",
      "t1,t2 1.7637569935404689 6.16154553581574                               \n",
      "periods [6.16194435 6.16194693]\n",
      "eps iter 13 0.026500000000000006                \n",
      "t1,t2 1.760185659487682 6.161822934167128                               \n",
      "periods [6.15966147 6.1596599 ]\n",
      "eps iter 14 0.027000000000000007                \n",
      "t1,t2 1.7577300529669722 6.161236717688435                              \n",
      "periods [6.15738543 6.15738035]\n",
      "eps iter 15 0.027500000000000007                \n",
      "iter=2, rel. err =1.14e-06                                              \r"
     ]
    },
    {
     "ename": "KeyboardInterrupt",
     "evalue": "",
     "output_type": "error",
     "traceback": [
      "\u001b[1;31m---------------------------------------------------------------------------\u001b[0m",
      "\u001b[1;31mKeyboardInterrupt\u001b[0m                         Traceback (most recent call last)",
      "Cell \u001b[1;32mIn[68], line 3\u001b[0m\n\u001b[0;32m      1\u001b[0m \u001b[38;5;28;01mfor\u001b[39;00m i \u001b[38;5;129;01min\u001b[39;00m \u001b[38;5;28mrange\u001b[39m(\u001b[38;5;28mlen\u001b[39m(in_dicts)):\n\u001b[0;32m      2\u001b[0m     in1 \u001b[38;5;241m=\u001b[39m in_dicts[i]\n\u001b[1;32m----> 3\u001b[0m     dat \u001b[38;5;241m=\u001b[39m follow_phase_diffs(\u001b[38;5;241m*\u001b[39m\u001b[38;5;241m*\u001b[39min1,\u001b[38;5;241m*\u001b[39m\u001b[38;5;241m*\u001b[39mkw_p002)\n\u001b[0;32m      4\u001b[0m     data_p002_list\u001b[38;5;241m.\u001b[39mappend(dat)\n\u001b[0;32m      5\u001b[0m fname \u001b[38;5;241m=\u001b[39m kw_p002[\u001b[38;5;124m'\u001b[39m\u001b[38;5;124mbifdir\u001b[39m\u001b[38;5;124m'\u001b[39m]\u001b[38;5;241m+\u001b[39m\u001b[38;5;124m'\u001b[39m\u001b[38;5;124mhyper_thal2_11_p002.txt\u001b[39m\u001b[38;5;124m'\u001b[39m\n",
      "File \u001b[1;32mD:\\Dropbox\\projects\\nm_phase_locking\\code_and_data\\jupyter\\..\\lib\\util.py:669\u001b[0m, in \u001b[0;36mfollow_phase_diffs\u001b[1;34m(init, a, del1, eps_init, eps_final, deps, recompute, bifdir, _full_rhs, max_iter, max_time)\u001b[0m\n\u001b[0;32m    666\u001b[0m init \u001b[38;5;241m=\u001b[39m get_initial_phase_diff_c(init,a,eps_init,del1,max_time\u001b[38;5;241m=\u001b[39mmax_time,\n\u001b[0;32m    667\u001b[0m                                 _full_rhs\u001b[38;5;241m=\u001b[39m_full_rhs)\n\u001b[0;32m    668\u001b[0m \u001b[38;5;28mprint\u001b[39m(\u001b[38;5;124m'\u001b[39m\u001b[38;5;124minit\u001b[39m\u001b[38;5;124m'\u001b[39m,init)\n\u001b[1;32m--> 669\u001b[0m eps_range,ts,t_diffs \u001b[38;5;241m=\u001b[39m get_phase_lock_full(Y\u001b[38;5;241m=\u001b[39mdeepcopy(init),\u001b[38;5;241m*\u001b[39m\u001b[38;5;241m*\u001b[39mkw1)\n\u001b[0;32m    671\u001b[0m data1 \u001b[38;5;241m=\u001b[39m np\u001b[38;5;241m.\u001b[39mzeros([\u001b[38;5;28mlen\u001b[39m(eps_range),\u001b[38;5;241m1\u001b[39m\u001b[38;5;241m+\u001b[39ma\u001b[38;5;241m.\u001b[39m_n[\u001b[38;5;241m1\u001b[39m]\u001b[38;5;241m+\u001b[39ma\u001b[38;5;241m.\u001b[39m_m[\u001b[38;5;241m1\u001b[39m]])\n\u001b[0;32m    672\u001b[0m data1[:,\u001b[38;5;241m0\u001b[39m] \u001b[38;5;241m=\u001b[39m eps_range\n",
      "File \u001b[1;32mD:\\Dropbox\\projects\\nm_phase_locking\\code_and_data\\jupyter\\..\\lib\\util.py:584\u001b[0m, in \u001b[0;36mget_phase_lock_full\u001b[1;34m(Y, a, del1, eps_init, eps_final, deps, max_iter, _full_rhs, fudge, prominence)\u001b[0m\n\u001b[0;32m    579\u001b[0m \u001b[38;5;28;01mwhile\u001b[39;00m np\u001b[38;5;241m.\u001b[39mlinalg\u001b[38;5;241m.\u001b[39mnorm(dy) \u001b[38;5;241m>\u001b[39m \u001b[38;5;241m1e-6\u001b[39m \u001b[38;5;129;01mand\u001b[39;00m\\\n\u001b[0;32m    580\u001b[0m counter \u001b[38;5;241m<\u001b[39m\u001b[38;5;241m=\u001b[39m max_iter:\u001b[38;5;66;03m# and np.linalg.norm(dy)<1:\u001b[39;00m\n\u001b[0;32m    582\u001b[0m     args_temp \u001b[38;5;241m=\u001b[39m {\u001b[38;5;124m'\u001b[39m\u001b[38;5;124mfun\u001b[39m\u001b[38;5;124m'\u001b[39m:_full_rhs,\u001b[38;5;124m'\u001b[39m\u001b[38;5;124margs\u001b[39m\u001b[38;5;124m'\u001b[39m:(a,eps,del1),\n\u001b[0;32m    583\u001b[0m                  \u001b[38;5;124m'\u001b[39m\u001b[38;5;124mdense_output\u001b[39m\u001b[38;5;124m'\u001b[39m:\u001b[38;5;28;01mTrue\u001b[39;00m,\u001b[38;5;241m*\u001b[39m\u001b[38;5;241m*\u001b[39mkw_bif}\n\u001b[1;32m--> 584\u001b[0m     dy,solb \u001b[38;5;241m=\u001b[39m \u001b[43mget_dy_nm_coupling\u001b[49m\u001b[43m(\u001b[49m\u001b[43mY\u001b[49m\u001b[43m,\u001b[49m\u001b[43margs_temp\u001b[49m\u001b[43m,\u001b[49m\u001b[43m_full_rhs\u001b[49m\u001b[38;5;241;43m=\u001b[39;49m\u001b[43m_full_rhs\u001b[49m\u001b[43m,\u001b[49m\n\u001b[0;32m    585\u001b[0m \u001b[43m                            \u001b[49m\u001b[43mreturn_sol\u001b[49m\u001b[38;5;241;43m=\u001b[39;49m\u001b[38;5;28;43;01mTrue\u001b[39;49;00m\u001b[43m)\u001b[49m\n\u001b[0;32m    586\u001b[0m     Y \u001b[38;5;241m+\u001b[39m\u001b[38;5;241m=\u001b[39m dy\n\u001b[0;32m    588\u001b[0m     str1 \u001b[38;5;241m=\u001b[39m \u001b[38;5;124m'\u001b[39m\u001b[38;5;124miter=\u001b[39m\u001b[38;5;132;01m{}\u001b[39;00m\u001b[38;5;124m, rel. err =\u001b[39m\u001b[38;5;132;01m{:.2e}\u001b[39;00m\u001b[38;5;124m'\u001b[39m\n",
      "File \u001b[1;32mD:\\Dropbox\\projects\\nm_phase_locking\\code_and_data\\jupyter\\..\\lib\\util.py:702\u001b[0m, in \u001b[0;36mget_dy_nm_coupling\u001b[1;34m(Y, args_temp, eps_pert, eps_pert_time, _full_rhs, return_sol)\u001b[0m\n\u001b[0;32m    699\u001b[0m pert \u001b[38;5;241m=\u001b[39m np\u001b[38;5;241m.\u001b[39mzeros(\u001b[38;5;28mlen\u001b[39m(Y)\u001b[38;5;241m-\u001b[39m\u001b[38;5;241m1\u001b[39m);pert[jj] \u001b[38;5;241m=\u001b[39m eps_pert\n\u001b[0;32m    701\u001b[0m t_span \u001b[38;5;241m=\u001b[39m [\u001b[38;5;241m0\u001b[39m,Y[\u001b[38;5;241m-\u001b[39m\u001b[38;5;241m1\u001b[39m]]\n\u001b[1;32m--> 702\u001b[0m solp \u001b[38;5;241m=\u001b[39m solve_ivp(y0\u001b[38;5;241m=\u001b[39mY[:\u001b[38;5;241m-\u001b[39m\u001b[38;5;241m1\u001b[39m]\u001b[38;5;241m+\u001b[39mpert,t_span\u001b[38;5;241m=\u001b[39mt_span,\u001b[38;5;241m*\u001b[39m\u001b[38;5;241m*\u001b[39margs_temp)\n\u001b[0;32m    703\u001b[0m solm \u001b[38;5;241m=\u001b[39m solve_ivp(y0\u001b[38;5;241m=\u001b[39mY[:\u001b[38;5;241m-\u001b[39m\u001b[38;5;241m1\u001b[39m]\u001b[38;5;241m-\u001b[39mpert,t_span\u001b[38;5;241m=\u001b[39mt_span,\u001b[38;5;241m*\u001b[39m\u001b[38;5;241m*\u001b[39margs_temp)\n\u001b[0;32m    705\u001b[0m \u001b[38;5;66;03m# Jacobian\u001b[39;00m\n",
      "File \u001b[1;32m~\\miniconda3\\envs\\nbody\\lib\\site-packages\\scipy\\integrate\\_ivp\\ivp.py:668\u001b[0m, in \u001b[0;36msolve_ivp\u001b[1;34m(fun, t_span, y0, method, t_eval, dense_output, events, vectorized, args, **options)\u001b[0m\n\u001b[0;32m    665\u001b[0m y \u001b[38;5;241m=\u001b[39m solver\u001b[38;5;241m.\u001b[39my\n\u001b[0;32m    667\u001b[0m \u001b[38;5;28;01mif\u001b[39;00m dense_output:\n\u001b[1;32m--> 668\u001b[0m     sol \u001b[38;5;241m=\u001b[39m \u001b[43msolver\u001b[49m\u001b[38;5;241;43m.\u001b[39;49m\u001b[43mdense_output\u001b[49m\u001b[43m(\u001b[49m\u001b[43m)\u001b[49m\n\u001b[0;32m    669\u001b[0m     interpolants\u001b[38;5;241m.\u001b[39mappend(sol)\n\u001b[0;32m    670\u001b[0m \u001b[38;5;28;01melse\u001b[39;00m:\n",
      "File \u001b[1;32m~\\miniconda3\\envs\\nbody\\lib\\site-packages\\scipy\\integrate\\_ivp\\base.py:224\u001b[0m, in \u001b[0;36mOdeSolver.dense_output\u001b[1;34m(self)\u001b[0m\n\u001b[0;32m    222\u001b[0m     \u001b[38;5;28;01mreturn\u001b[39;00m ConstantDenseOutput(\u001b[38;5;28mself\u001b[39m\u001b[38;5;241m.\u001b[39mt_old, \u001b[38;5;28mself\u001b[39m\u001b[38;5;241m.\u001b[39mt, \u001b[38;5;28mself\u001b[39m\u001b[38;5;241m.\u001b[39my)\n\u001b[0;32m    223\u001b[0m \u001b[38;5;28;01melse\u001b[39;00m:\n\u001b[1;32m--> 224\u001b[0m     \u001b[38;5;28;01mreturn\u001b[39;00m \u001b[38;5;28;43mself\u001b[39;49m\u001b[38;5;241;43m.\u001b[39;49m\u001b[43m_dense_output_impl\u001b[49m\u001b[43m(\u001b[49m\u001b[43m)\u001b[49m\n",
      "File \u001b[1;32m~\\miniconda3\\envs\\nbody\\lib\\site-packages\\scipy\\integrate\\_ivp\\lsoda.py:208\u001b[0m, in \u001b[0;36mLSODA._dense_output_impl\u001b[1;34m(self)\u001b[0m\n\u001b[0;32m    200\u001b[0m \u001b[38;5;28;01mif\u001b[39;00m iwork[\u001b[38;5;241m14\u001b[39m] \u001b[38;5;241m<\u001b[39m order:\n\u001b[0;32m    201\u001b[0m     \u001b[38;5;66;03m# If the order is set to decrease then the final column of yh\u001b[39;00m\n\u001b[0;32m    202\u001b[0m     \u001b[38;5;66;03m# has not been updated within ODEPACK's LSODA\u001b[39;00m\n\u001b[0;32m    203\u001b[0m     \u001b[38;5;66;03m# implementation because this column will not be used in the\u001b[39;00m\n\u001b[0;32m    204\u001b[0m     \u001b[38;5;66;03m# next iteration. We must rescale this column to make the\u001b[39;00m\n\u001b[0;32m    205\u001b[0m     \u001b[38;5;66;03m# associated step size consistent with the other columns.\u001b[39;00m\n\u001b[0;32m    206\u001b[0m     yh[:, \u001b[38;5;241m-\u001b[39m\u001b[38;5;241m1\u001b[39m] \u001b[38;5;241m*\u001b[39m\u001b[38;5;241m=\u001b[39m (h \u001b[38;5;241m/\u001b[39m rwork[\u001b[38;5;241m10\u001b[39m]) \u001b[38;5;241m*\u001b[39m\u001b[38;5;241m*\u001b[39m order\n\u001b[1;32m--> 208\u001b[0m \u001b[38;5;28;01mreturn\u001b[39;00m \u001b[43mLsodaDenseOutput\u001b[49m\u001b[43m(\u001b[49m\u001b[38;5;28;43mself\u001b[39;49m\u001b[38;5;241;43m.\u001b[39;49m\u001b[43mt_old\u001b[49m\u001b[43m,\u001b[49m\u001b[43m \u001b[49m\u001b[38;5;28;43mself\u001b[39;49m\u001b[38;5;241;43m.\u001b[39;49m\u001b[43mt\u001b[49m\u001b[43m,\u001b[49m\u001b[43m \u001b[49m\u001b[43mh\u001b[49m\u001b[43m,\u001b[49m\u001b[43m \u001b[49m\u001b[43morder\u001b[49m\u001b[43m,\u001b[49m\u001b[43m \u001b[49m\u001b[43myh\u001b[49m\u001b[43m)\u001b[49m\n",
      "File \u001b[1;32m~\\miniconda3\\envs\\nbody\\lib\\site-packages\\scipy\\integrate\\_ivp\\lsoda.py:216\u001b[0m, in \u001b[0;36mLsodaDenseOutput.__init__\u001b[1;34m(self, t_old, t, h, order, yh)\u001b[0m\n\u001b[0;32m    214\u001b[0m \u001b[38;5;28mself\u001b[39m\u001b[38;5;241m.\u001b[39mh \u001b[38;5;241m=\u001b[39m h\n\u001b[0;32m    215\u001b[0m \u001b[38;5;28mself\u001b[39m\u001b[38;5;241m.\u001b[39myh \u001b[38;5;241m=\u001b[39m yh\n\u001b[1;32m--> 216\u001b[0m \u001b[38;5;28mself\u001b[39m\u001b[38;5;241m.\u001b[39mp \u001b[38;5;241m=\u001b[39m \u001b[43mnp\u001b[49m\u001b[38;5;241;43m.\u001b[39;49m\u001b[43marange\u001b[49m\u001b[43m(\u001b[49m\u001b[43morder\u001b[49m\u001b[43m \u001b[49m\u001b[38;5;241;43m+\u001b[39;49m\u001b[43m \u001b[49m\u001b[38;5;241;43m1\u001b[39;49m\u001b[43m)\u001b[49m\n",
      "\u001b[1;31mKeyboardInterrupt\u001b[0m: "
     ]
    }
   ],
   "source": [
    "for i in range(len(in_dicts)):\n",
    "    in1 = in_dicts[i]\n",
    "    dat = follow_phase_diffs(**in1,**kw_p002)\n",
    "    data_p002_list.append(dat)\n",
    "fname = kw_p002['bifdir']+'hyper_thal2_11_p002.txt'"
   ]
  },
  {
   "cell_type": "code",
   "execution_count": null,
   "id": "659aed4e-11cf-4590-99be-3952094e0c43",
   "metadata": {},
   "outputs": [],
   "source": [
    "# save hyperparameters\n",
    "hyp_inputs = np.zeros([len(in_dicts),4])\n",
    "for i in range(len(in_dicts)):\n",
    "    hyp_inputs[i,0] = in_dicts[i]['init']\n",
    "    hyp_inputs[i,1] = in_dicts[i]['eps_init']\n",
    "    hyp_inputs[i,2] = in_dicts[i]['eps_final']\n",
    "    hyp_inputs[i,3] = in_dicts[i]['deps']\n",
    "np.savetxt(fname,hyp_inputs)"
   ]
  },
  {
   "cell_type": "markdown",
   "id": "fe89aa12-50b2-4783-940b-2ce63b0941d8",
   "metadata": {},
   "source": [
    "## Plot"
   ]
  },
  {
   "cell_type": "code",
   "execution_count": null,
   "id": "66afb1db-843b-433d-868d-759d23c08965",
   "metadata": {},
   "outputs": [],
   "source": [
    "quick_plot_combined(a11_p002,\n",
    "                    kw_f={'data_list':data_p002_list},\n",
    "                    #kw_r3d={'data_list':data_r3d_p002_list},\n",
    "                    kw_r={'etup':etup11})"
   ]
  },
  {
   "cell_type": "markdown",
   "id": "c88ed530-5e41-4ef4-92b3-be0c5d58f363",
   "metadata": {},
   "source": [
    "# del=0.0025"
   ]
  },
  {
   "cell_type": "code",
   "execution_count": null,
   "id": "1eb630eb-d5ac-489c-bb44-98a6e1ee35aa",
   "metadata": {},
   "outputs": [
    {
     "name": "stdout",
     "output_type": "stream",
     "text": [
      "p order=0\n"
     ]
    },
    {
     "name": "stdout",
     "output_type": "stream",
     "text": [
      "p order=1\n"
     ]
    },
    {
     "name": "stdout",
     "output_type": "stream",
     "text": [
      "p order=1\n"
     ]
    },
    {
     "name": "stdout",
     "output_type": "stream",
     "text": [
      "p order=2\n"
     ]
    },
    {
     "name": "stdout",
     "output_type": "stream",
     "text": [
      "p order=2\n"
     ]
    },
    {
     "name": "stdout",
     "output_type": "stream",
     "text": [
      "p order=3\n"
     ]
    },
    {
     "name": "stdout",
     "output_type": "stream",
     "text": [
      "p order=3\n"
     ]
    },
    {
     "name": "stdout",
     "output_type": "stream",
     "text": [
      "* Loading H symbolic...\n",
      "* Loading H symbolic...\n",
      "* Computing H thal0_35, order=0...\n"
     ]
    },
    {
     "name": "stdout",
     "output_type": "stream",
     "text": [
      "* Computing H thal1_35, order=0...\n",
      "* Computing H thal0_35, order=1...\n"
     ]
    },
    {
     "name": "stdout",
     "output_type": "stream",
     "text": [
      "* Computing H thal1_35, order=1...\n"
     ]
    },
    {
     "name": "stdout",
     "output_type": "stream",
     "text": [
      "* Computing H thal0_35, order=2...\n"
     ]
    },
    {
     "name": "stdout",
     "output_type": "stream",
     "text": [
      "* Computing H thal1_35, order=2...\n"
     ]
    },
    {
     "name": "stdout",
     "output_type": "stream",
     "text": [
      "* Computing H thal0_35, order=3...\n"
     ]
    },
    {
     "name": "stdout",
     "output_type": "stream",
     "text": [
      "* Computing H thal1_35, order=3...\n"
     ]
    }
   ],
   "source": [
    "del11_p0025 = .0025\n",
    "a11_p0025 = nm.nmCoupling(**kw_nm, del1=del11_p0025)"
   ]
  },
  {
   "cell_type": "markdown",
   "id": "22a1eb6b-16d5-4c4b-b52b-751f98c4e1da",
   "metadata": {},
   "source": [
    "## Get Branches Full"
   ]
  },
  {
   "cell_type": "code",
   "execution_count": null,
   "id": "e5332664-1d46-4a74-86dd-55e44e982f1c",
   "metadata": {},
   "outputs": [],
   "source": [
    "# kw_p0025 = {'a':a11_p0025,'del1':del11_p0025,'recompute':True,\n",
    "#             'bifdir':'bif1d_thal2/','_full_rhs':_full}"
   ]
  },
  {
   "cell_type": "code",
   "execution_count": null,
   "id": "d00219cd-7cc7-4c1a-981a-a1a2e9c565e9",
   "metadata": {},
   "outputs": [],
   "source": [
    "# data_p0025_list = []"
   ]
  },
  {
   "cell_type": "code",
   "execution_count": null,
   "id": "b97f6913-2044-4659-8f2a-3feedf730a40",
   "metadata": {
    "scrolled": true
   },
   "outputs": [],
   "source": [
    "# # mid 1\n",
    "# dat = follow_phase_diffs(init=2,eps_init=0.02,eps_final=0.0005,deps=-.005,**kw_p0025)\n",
    "# data_p0025_list.append(dat)"
   ]
  },
  {
   "cell_type": "code",
   "execution_count": null,
   "id": "c10d71f2-b24d-4cc8-a91a-e3d6762a2f9f",
   "metadata": {
    "scrolled": true
   },
   "outputs": [],
   "source": [
    "# # mid 2\n",
    "# dat = follow_phase_diffs(init=2,eps_init=0.02,eps_final=0.06,deps=.005,**kw_p0025)\n",
    "# data_p0025_list.append(dat)"
   ]
  },
  {
   "cell_type": "code",
   "execution_count": null,
   "id": "2759120f-7a61-4cf7-a8c8-aa61d6a1a161",
   "metadata": {
    "scrolled": true
   },
   "outputs": [],
   "source": [
    "# # top 1f\n",
    "# dat = follow_phase_diffs(init=6,eps_init=0.25,eps_final=0.3,deps=.01,**kw_p0025)\n",
    "# data_p0025_list.append(dat)"
   ]
  },
  {
   "cell_type": "code",
   "execution_count": null,
   "id": "aa245176-19f7-4691-89b5-5a3d27f00aea",
   "metadata": {
    "scrolled": true
   },
   "outputs": [],
   "source": [
    "# # top 1b\n",
    "# dat = follow_phase_diffs(init=6,eps_init=0.25,eps_final=0.2,deps=-.005,**kw_p0025)\n",
    "# data_p0025_list.append(dat)"
   ]
  },
  {
   "cell_type": "code",
   "execution_count": null,
   "id": "bf54f76b-b923-42e6-9f15-6c84be69fc92",
   "metadata": {
    "scrolled": true
   },
   "outputs": [],
   "source": [
    "# # bot 1f\n",
    "# dat = follow_phase_diffs(init=1,eps_init=0.2,eps_final=0.3,deps=.01,**kw_p0025)\n",
    "# data_p0025_list.append(dat)"
   ]
  },
  {
   "cell_type": "code",
   "execution_count": null,
   "id": "8117de44-0af3-4ade-ac67-0d83bd423162",
   "metadata": {},
   "outputs": [],
   "source": [
    "# # bot 1b\n",
    "# dat = follow_phase_diffs(init=.5,eps_init=0.2,eps_final=0.18,deps=-.005,**kw_p0025)\n",
    "# data_p0025_list.append(dat)"
   ]
  },
  {
   "cell_type": "markdown",
   "id": "b5a02ffb-64e0-4057-841f-222ac85ff3da",
   "metadata": {},
   "source": [
    "## Plot"
   ]
  },
  {
   "cell_type": "code",
   "execution_count": null,
   "id": "6e5e8cb4-3a43-44b1-b241-acfb76649433",
   "metadata": {},
   "outputs": [],
   "source": [
    "quick_plot_combined(a11_p0025,\n",
    "                    #kw_f={'data_list':data_p0025_list},\n",
    "                    #kw_r3d={'data_list':data_r3d_p0025_list},\n",
    "                    kw_r={'etup':etup11})"
   ]
  },
  {
   "cell_type": "markdown",
   "id": "a038bfce-912e-4ab1-8ad6-e044eccda684",
   "metadata": {},
   "source": [
    "# del=0.003"
   ]
  },
  {
   "cell_type": "code",
   "execution_count": null,
   "id": "53d61cc7-eabb-405e-8948-1a70c5c277d7",
   "metadata": {},
   "outputs": [
    {
     "name": "stdout",
     "output_type": "stream",
     "text": [
      "p order=0\n"
     ]
    },
    {
     "name": "stdout",
     "output_type": "stream",
     "text": [
      "p order=1\n"
     ]
    },
    {
     "name": "stdout",
     "output_type": "stream",
     "text": [
      "p order=1\n"
     ]
    },
    {
     "name": "stdout",
     "output_type": "stream",
     "text": [
      "p order=2\n"
     ]
    },
    {
     "name": "stdout",
     "output_type": "stream",
     "text": [
      "p order=2\n"
     ]
    },
    {
     "name": "stdout",
     "output_type": "stream",
     "text": [
      "p order=3\n"
     ]
    },
    {
     "name": "stdout",
     "output_type": "stream",
     "text": [
      "p order=3\n"
     ]
    },
    {
     "name": "stdout",
     "output_type": "stream",
     "text": [
      "* Loading H symbolic...\n",
      "* Loading H symbolic...\n",
      "* Computing H thal0_35, order=0...\n"
     ]
    },
    {
     "name": "stdout",
     "output_type": "stream",
     "text": [
      "* Computing H thal1_35, order=0...\n",
      "* Computing H thal0_35, order=1...\n"
     ]
    },
    {
     "name": "stdout",
     "output_type": "stream",
     "text": [
      "* Computing H thal1_35, order=1...\n"
     ]
    },
    {
     "name": "stdout",
     "output_type": "stream",
     "text": [
      "* Computing H thal0_35, order=2...\n"
     ]
    },
    {
     "name": "stdout",
     "output_type": "stream",
     "text": [
      "* Computing H thal1_35, order=2...\n"
     ]
    },
    {
     "name": "stdout",
     "output_type": "stream",
     "text": [
      "* Computing H thal0_35, order=3...\n"
     ]
    },
    {
     "name": "stdout",
     "output_type": "stream",
     "text": [
      "* Computing H thal1_35, order=3...\n"
     ]
    }
   ],
   "source": [
    "del11_p003 = .003\n",
    "a11_p003 = nm.nmCoupling(**kw_nm, del1=del11_p003)"
   ]
  },
  {
   "cell_type": "markdown",
   "id": "19917fda-2ed2-4b25-9710-73a22d9a4205",
   "metadata": {},
   "source": [
    "## Get Branches Full"
   ]
  },
  {
   "cell_type": "code",
   "execution_count": null,
   "id": "6d2c3da0-2399-4c78-8994-a121dd9aa1fe",
   "metadata": {},
   "outputs": [],
   "source": [
    "# kw_p003 = {'a':a11_p003,'del1':del11_p003,'recompute':True,\n",
    "#             'bifdir':'bif1d_thal2/','_full_rhs':_full}"
   ]
  },
  {
   "cell_type": "code",
   "execution_count": null,
   "id": "f6fb6e09-be71-4807-aa9c-5709bb698c99",
   "metadata": {},
   "outputs": [],
   "source": [
    "# data_p003_list = []"
   ]
  },
  {
   "cell_type": "code",
   "execution_count": null,
   "id": "16bb375f-f868-47f1-adac-d1504f1a4a2b",
   "metadata": {
    "scrolled": true
   },
   "outputs": [],
   "source": [
    "# # mid 1\n",
    "# dat = follow_phase_diffs(init=3,eps_init=0.01,eps_final=0.0005,deps=-.0005,**kw_p003)\n",
    "# data_p003_list.append(dat)"
   ]
  },
  {
   "cell_type": "code",
   "execution_count": null,
   "id": "adbb6d54-2a87-4189-bdd7-cb29f29a69d2",
   "metadata": {
    "scrolled": true
   },
   "outputs": [],
   "source": [
    "# # mid 2\n",
    "# dat = follow_phase_diffs(init=3,eps_init=0.02,eps_final=0.0589,deps=.0005,**kw_p003)\n",
    "# data_p003_list.append(dat)"
   ]
  },
  {
   "cell_type": "code",
   "execution_count": null,
   "id": "d7ee29f2-fbe0-4ef4-88c0-5d6c0f04f0e2",
   "metadata": {
    "scrolled": true
   },
   "outputs": [],
   "source": [
    "# # top 1f\n",
    "# dat = follow_phase_diffs(init=.1,eps_init=0.2,eps_final=0.3,deps=.01,**kw_p003)\n",
    "# data_p003_list.append(dat)"
   ]
  },
  {
   "cell_type": "code",
   "execution_count": null,
   "id": "c0eedfab-5e57-475c-93f0-1e59b772b3af",
   "metadata": {
    "scrolled": true
   },
   "outputs": [],
   "source": [
    "# # top 1b\n",
    "# dat = follow_phase_diffs(init=.1,eps_init=0.2,eps_final=0.18,deps=-.005,**kw_p003)\n",
    "# data_p003_list.append(dat)"
   ]
  },
  {
   "cell_type": "code",
   "execution_count": null,
   "id": "b56709e0-60d1-4ab8-8d5c-c96cc5c273ac",
   "metadata": {
    "scrolled": true
   },
   "outputs": [],
   "source": [
    "# # bot 1f\n",
    "# dat = follow_phase_diffs(init=1,eps_init=0.2,eps_final=0.3,deps=.01,**kw_p003)\n",
    "# data_p003_list.append(dat)"
   ]
  },
  {
   "cell_type": "code",
   "execution_count": null,
   "id": "0798492e-7246-48e8-b26b-9253e1a70fa2",
   "metadata": {},
   "outputs": [],
   "source": [
    "# # bot 1b\n",
    "# dat = follow_phase_diffs(init=.5,eps_init=0.2,eps_final=0.18,deps=-.005,**kw_p003)\n",
    "# data_p003_list.append(dat)"
   ]
  },
  {
   "cell_type": "markdown",
   "id": "81f3086c-f69e-4f56-9f91-f35db665d1f7",
   "metadata": {},
   "source": [
    "## Plot"
   ]
  },
  {
   "cell_type": "code",
   "execution_count": null,
   "id": "15f28696-4911-4b92-92e8-3e7aa936517b",
   "metadata": {},
   "outputs": [],
   "source": [
    "quick_plot_combined(a11_p003,\n",
    "                    #kw_f={'data_list':data_p003_list},\n",
    "                    #kw_r3d={'data_list':data_r3d_p003_list},\n",
    "                    kw_r={'etup':etup11})"
   ]
  },
  {
   "cell_type": "markdown",
   "id": "89b3f363-2345-4995-b8c6-971856740296",
   "metadata": {},
   "source": [
    "# del=0.005"
   ]
  },
  {
   "cell_type": "code",
   "execution_count": null,
   "id": "aed60bac-0126-4136-a698-5341198496ed",
   "metadata": {},
   "outputs": [
    {
     "name": "stdout",
     "output_type": "stream",
     "text": [
      "* Loading H symbolic...\n",
      "* Loading H symbolic...\n",
      "* Loading H thal0_35, order=0...\n",
      "* Loading H thal1_35, order=0...\n",
      "* Loading H thal0_35, order=1...\n",
      "* Loading H thal1_35, order=1...\n",
      "* Loading H thal0_35, order=2...\n",
      "* Loading H thal1_35, order=2...\n",
      "* Loading H thal0_35, order=3...\n",
      "* Loading H thal1_35, order=3...\n"
     ]
    }
   ],
   "source": [
    "del11_p005 = .005\n",
    "a11_p005 = nm.nmCoupling(system1,system2,\n",
    "                    #recompute_list=['p_data_gw0','p_data_gw1','h_data_gw0','h_data_gw1'],\n",
    "                    #recompute_list=['h_data_gw0','h_data_gw1'],\n",
    "                    #recompute_list=recompute_list,\n",
    "                    _n=('om0',1),_m=('om1',1),\n",
    "                    NH=1500,\n",
    "                    save_fig=False,\n",
    "                    del1=del11_p005)"
   ]
  },
  {
   "cell_type": "markdown",
   "id": "0707d32e-425a-4f29-9368-a19f980f9e97",
   "metadata": {},
   "source": [
    "## Get Branches Full"
   ]
  },
  {
   "cell_type": "code",
   "execution_count": null,
   "id": "0b85225d-fddf-4ae4-be3d-851dc08ff290",
   "metadata": {},
   "outputs": [],
   "source": [
    "# kw_p005 = {'a':a11_p005,'del1':del11_p005,\n",
    "#             'bifdir':'bif1d_thal2/','_full_rhs':_full}"
   ]
  },
  {
   "cell_type": "code",
   "execution_count": null,
   "id": "0bb8f3d7-339e-467d-98a1-b0cd8ae4b1a9",
   "metadata": {},
   "outputs": [],
   "source": [
    "# data_p005_list = []"
   ]
  },
  {
   "cell_type": "code",
   "execution_count": null,
   "id": "3bf11495-2ff8-47c3-9ff4-33fce251fa9a",
   "metadata": {
    "scrolled": true
   },
   "outputs": [],
   "source": [
    "# # mid 1\n",
    "# dat = follow_phase_diffs(init=3,eps_init=0.02,eps_final=0.0005,deps=-.0005,**kw_p005)\n",
    "# data_p005_list.append(dat)"
   ]
  },
  {
   "cell_type": "code",
   "execution_count": null,
   "id": "308a44e4-b321-41de-babf-d9c54d8e33e0",
   "metadata": {
    "scrolled": true
   },
   "outputs": [],
   "source": [
    "# # mid 2\n",
    "# dat = follow_phase_diffs(init=3,eps_init=0.02,eps_final=0.1,deps=.0005,**kw_p005)\n",
    "# data_p005_list.append(dat)"
   ]
  },
  {
   "cell_type": "code",
   "execution_count": null,
   "id": "1b88f04d-c0b3-463c-897e-72f3811e07b7",
   "metadata": {
    "scrolled": true
   },
   "outputs": [],
   "source": [
    "# # bot 1\n",
    "# dat = follow_phase_diffs(init=.1,eps_init=0.005,eps_final=0.0005,deps=-.0005,**kw_p005)\n",
    "# data_p005_list.append(dat)"
   ]
  },
  {
   "cell_type": "code",
   "execution_count": null,
   "id": "fb3d1aa6-113f-4ed8-a1da-2685851cdfe3",
   "metadata": {
    "scrolled": true
   },
   "outputs": [],
   "source": [
    "# # bot 2\n",
    "# dat = follow_phase_diffs(init=.1,eps_init=0.005,eps_final=0.1,deps=.0005,**kw_p005)\n",
    "# data_p005_list.append(dat)"
   ]
  },
  {
   "cell_type": "markdown",
   "id": "ef872563-7732-4786-bd22-e44ee20e39d5",
   "metadata": {},
   "source": [
    "## Plot"
   ]
  },
  {
   "cell_type": "code",
   "execution_count": null,
   "id": "4e069cd0-4c54-492b-8f00-af695e6779b0",
   "metadata": {},
   "outputs": [],
   "source": [
    "quick_plot_combined(a11_p005,\n",
    "                    #kw_f={'data_list':data_p005_list},\n",
    "                    #kw_r3d={'data_list':data_r3d_p005_list},\n",
    "                    kw_r={'etup':etup11})"
   ]
  }
 ],
 "metadata": {
  "jpcodetoc-autonumbering": false,
  "kernelspec": {
   "display_name": "Python 3 (ipykernel)",
   "language": "python",
   "name": "python3"
  },
  "language_info": {
   "codemirror_mode": {
    "name": "ipython",
    "version": 3
   },
   "file_extension": ".py",
   "mimetype": "text/x-python",
   "name": "python",
   "nbconvert_exporter": "python",
   "pygments_lexer": "ipython3",
   "version": "3.10.14"
  }
 },
 "nbformat": 4,
 "nbformat_minor": 5
}
