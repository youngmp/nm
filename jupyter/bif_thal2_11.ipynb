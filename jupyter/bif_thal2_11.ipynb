{
 "cells": [
  {
   "cell_type": "markdown",
   "id": "31c1828e-5d5c-4a52-9550-f5faab8ccaa5",
   "metadata": {},
   "source": [
    "# thal2 1:1 Bifurcation Diagrams"
   ]
  },
  {
   "cell_type": "markdown",
   "id": "073d3337-d6fe-465e-807b-890e9f0131ca",
   "metadata": {},
   "source": [
    "# Inits"
   ]
  },
  {
   "cell_type": "code",
   "execution_count": 1,
   "id": "c11ae704-3b52-469f-b703-218a4bbfa9de",
   "metadata": {},
   "outputs": [],
   "source": [
    "import sys; sys.path.insert(0, '..') # add parent folder path where lib folder is\n",
    "# user-defined\n",
    "import nmCoupling as nm\n",
    "# import nmCoupling_old as nm\n",
    "import response as rp\n",
    "\n",
    "import thal2 as t2\n",
    "\n",
    "from lib.util import (get_phase, freq_est, get_tongue_1d, pl_exist_1d, \n",
    "get_period, bif1d, follow_phase_diffs, phase_lock_r3d, follow_locking_3d)\n",
    "\n",
    "from lib.rhs import _redu_c,_full, _redu_full\n",
    "from lib.rhs import _redu_3dc_thal as _redu_3dc\n",
    "from lib.rhs import _redu_4dc_thal as _redu_4dc\n",
    "\n",
    "from lib.plot_util import add_diagram_1d_scatter, quick_plot_combined\n",
    "\n",
    "import numpy as np\n",
    "import scipy as sp\n",
    "import matplotlib.pyplot as plt\n",
    "from scipy.integrate import solve_ivp\n",
    "import sympy as sym\n",
    "\n",
    "from scipy.optimize import root,bisect\n",
    "from copy import deepcopy\n",
    "import os\n",
    "\n",
    "plt.rcParams.update({\n",
    "    \"text.usetex\": True,\n",
    "    \"font.family\": \"Helvetica\"\n",
    "})\n",
    "\n",
    "nmc = nm.nmCoupling\n",
    "rsp = rp.Response"
   ]
  },
  {
   "cell_type": "markdown",
   "id": "956f6615-a080-461d-8aee-2abf994f1ff5",
   "metadata": {},
   "source": [
    "## Dicts"
   ]
  },
  {
   "cell_type": "code",
   "execution_count": 2,
   "id": "43626f58-6a5b-42e1-bb2a-f332da5eb746",
   "metadata": {},
   "outputs": [],
   "source": [
    "kw_sim = {'rtol':1e-7,'atol':1e-7,'method':'LSODA'}"
   ]
  },
  {
   "cell_type": "code",
   "execution_count": 3,
   "id": "35b78a9b-8b5c-4432-9894-7c3c102ad00b",
   "metadata": {},
   "outputs": [],
   "source": [
    "pd1 = {'gL':0.05,'gna':3,'gk':5,\n",
    "       'gt':5,'eL':-70,'ena':50,\n",
    "       'ek':-90,'et':0,'esyn':-1,\n",
    "       'c':1,'alpha':3,'beta':2,\n",
    "       'sigmat':0.8,'vt':-20,\n",
    "       'ib':3.5,'del':0,'om':1,'om_fix':1}"
   ]
  },
  {
   "cell_type": "code",
   "execution_count": 4,
   "id": "3a3623ff-a0c2-4f97-b9d6-50076d626ab9",
   "metadata": {
    "editable": true,
    "slideshow": {
     "slide_type": ""
    },
    "tags": []
   },
   "outputs": [],
   "source": [
    "# default period must be 2*np.pi\n",
    "kws1 = {'var_names':['v','h','r','w'],\n",
    "        'pardict':pd1,\n",
    "        'rhs':t2.rhs,\n",
    "        'coupling':t2.coupling,\n",
    "        'init':np.array([-.64,0.71,0.25,0,6]),\n",
    "        'TN':20000,\n",
    "        'trunc_order':3,\n",
    "        'z_forward':False,\n",
    "        'i_forward':[False,True,False,False,False,False],\n",
    "        'i_bad_dx':[False,True,False,False,False,False],\n",
    "        'max_iter':50,\n",
    "        'rtol':1e-12,\n",
    "        'atol':1e-12,\n",
    "        'rel_tol':1e-9,\n",
    "        'save_fig':False,\n",
    "        'lc_prominence':.05,\n",
    "        'factor':.5}"
   ]
  },
  {
   "cell_type": "markdown",
   "id": "00d1e865-d890-4b6c-a1cf-c449a2967958",
   "metadata": {},
   "source": [
    "## Defs"
   ]
  },
  {
   "cell_type": "code",
   "execution_count": 5,
   "id": "0c25c56e-da3b-4145-a5f5-86f813f96129",
   "metadata": {},
   "outputs": [],
   "source": [
    "kw_bif = {'method':'LSODA','dense_output':True,'rtol':1e-9,'atol':1e-9}"
   ]
  },
  {
   "cell_type": "code",
   "execution_count": 6,
   "id": "7340aa34-62c1-4b9d-b149-1b827c968bc6",
   "metadata": {},
   "outputs": [],
   "source": [
    "etup11 = (.001,.3,100)\n",
    "eps_list11r = np.linspace(*etup11)"
   ]
  },
  {
   "cell_type": "code",
   "execution_count": 7,
   "id": "2de0d4a5-5d0d-4263-855e-4f1510913c82",
   "metadata": {
    "editable": true,
    "slideshow": {
     "slide_type": ""
    },
    "tags": []
   },
   "outputs": [],
   "source": [
    "x_temp = np.linspace(-np.pi,3*np.pi,500)"
   ]
  },
  {
   "cell_type": "code",
   "execution_count": 8,
   "id": "2176ea62-07e5-47f3-9669-ab038c1a529b",
   "metadata": {},
   "outputs": [],
   "source": [
    "ss,dss=np.linspace(0,2,100,retstep=True)"
   ]
  },
  {
   "cell_type": "markdown",
   "id": "93fe4c8e-4f01-43d7-b898-dcef3ae99e0d",
   "metadata": {},
   "source": [
    "## Initialize Response Functions"
   ]
  },
  {
   "cell_type": "code",
   "execution_count": 9,
   "id": "345a025b-9b34-4cd7-af91-961114079f4a",
   "metadata": {
    "editable": true,
    "slideshow": {
     "slide_type": ""
    },
    "tags": []
   },
   "outputs": [
    {
     "name": "stdout",
     "output_type": "stream",
     "text": [
      "mkdir ./data/thal0_35/\n",
      "* Loading LC data...\n",
      "self.T 6.283185307179586 omfix 1.6947246128737048\n",
      "* Loading monodromy...\n",
      "* Floquet Exponent kappa =-0.03594482780785962\n",
      "* Loading g symbolic...\n",
      "* Computing g...\n",
      "* Loading heterogeneous terms...\n",
      "* Computing z...\n",
      "* Computing i...\n",
      "mkdir ./data/thal1_35/\n",
      "* Loading LC data...\n",
      "self.T 6.283185307179586 omfix 1.6947246128737048\n",
      "* Loading monodromy...\n",
      "* Floquet Exponent kappa =-0.03594482780785962\n",
      "* Loading g symbolic...\n",
      "* Computing g...\n",
      "* Loading heterogeneous terms...\n",
      "* Computing z...\n",
      "* Computing i...\n"
     ]
    }
   ],
   "source": [
    "system1 = rsp(idx=0,model_name='thal0_35',**kws1)\n",
    "system2 = rsp(idx=1,model_name='thal1_35',**kws1)"
   ]
  },
  {
   "cell_type": "code",
   "execution_count": 10,
   "id": "0f7ec593-13eb-48bd-92ed-942f6314a865",
   "metadata": {},
   "outputs": [],
   "source": [
    "recompute_list = ['h_data_thal0_35','h_data_thal1_35','p_data_thal0_35','p_data_thal1_35']\n",
    "recompute_list = []\n",
    "kw_nm = {'system1':system1,'system2':system2,'_n':('om0',1),'_m':('om1',1),\n",
    "         'NH':2048,'save_fig':False,\n",
    "         'recompute_list':recompute_list}"
   ]
  },
  {
   "cell_type": "markdown",
   "id": "ca4f2a74-7b8c-47f6-8b1f-e06fd5bb1670",
   "metadata": {},
   "source": [
    "# del=0.0"
   ]
  },
  {
   "cell_type": "code",
   "execution_count": 11,
   "id": "a79510b7-df04-42d3-9c32-dd662f07cf57",
   "metadata": {
    "editable": true,
    "scrolled": true,
    "slideshow": {
     "slide_type": ""
    },
    "tags": []
   },
   "outputs": [
    {
     "name": "stdout",
     "output_type": "stream",
     "text": [
      "pfactor 20\n",
      "* Loading H thal0_35, order=0...\n",
      "* Loading H thal1_35, order=0...\n",
      "* Loading H thal0_35, order=1...\n",
      "* Loading H thal1_35, order=1...\n",
      "* Loading H thal0_35, order=2...\n",
      "* Loading H thal1_35, order=2...\n",
      "* Loading H thal0_35, order=3...\n",
      "* Loading H thal1_35, order=3...\n"
     ]
    }
   ],
   "source": [
    "del11_p0 = 0\n",
    "a11_p0 = nm.nmCoupling(**kw_nm, del1=del11_p0)"
   ]
  },
  {
   "cell_type": "code",
   "execution_count": 12,
   "id": "5158ff03-1dac-44ae-a204-b12045e77829",
   "metadata": {},
   "outputs": [],
   "source": [
    "# del11_p0 = 0\n",
    "# a11o5_p0 = nm.nmCoupling(system1o5,system2o5,\n",
    "#                          recompute_list=['k_thal0','k_thal1'],\n",
    "#                          _n=('om0',1),_m=('om1',1),\n",
    "#                          save_fig=False,del1=del11_p0,\n",
    "#                          iso_mode=True)"
   ]
  },
  {
   "cell_type": "markdown",
   "id": "67dc95fe-20fb-4d1a-b751-00067a44da19",
   "metadata": {},
   "source": [
    "Check expansion for gz and gi to compare to expansion in Nicks et al 2024."
   ]
  },
  {
   "cell_type": "code",
   "execution_count": 13,
   "id": "983602a9-61f2-4ba4-865b-b205846aca1f",
   "metadata": {},
   "outputs": [],
   "source": [
    "# coupling_object = a11_p0\n",
    "# fig,axs = plt.subplots(coupling_object.system1.miter,1)\n",
    "\n",
    "# x = coupling_object.x\n",
    "\n",
    "# for k in range(coupling_object.system1.miter):\n",
    "#     diff = coupling_object.system1.h['lam'][k](-x) - coupling_object.system1.h['lam'][k](x)\n",
    "#     axs[k].plot(x,diff,label='Order {}'.format(k))\n",
    "#     axs[k].legend()\n",
    "#     axs[k].set_xlabel(r'$\\phi$') # the string must have 'r' in front\n",
    "#     axs[k].set_ylabel(r'$\\mathcal{H}_1^{('+str(k)+r')}(-\\phi)-\\mathcal{H}_1^{('+str(k)+r')}(\\phi)$')\n",
    "# axs[0].set_title(r'(-2*) Odd Parts')\n",
    "# plt.tight_layout()"
   ]
  },
  {
   "cell_type": "code",
   "execution_count": 14,
   "id": "88a03254-1591-46da-a816-2b3f4a3ca057",
   "metadata": {},
   "outputs": [],
   "source": [
    "# coupling_object = a11_p0\n",
    "# fig,axs = plt.subplots(coupling_object.system1.miter,1)\n",
    "\n",
    "# x = coupling_object.x\n",
    "\n",
    "# for k in range(coupling_object.system1.miter):\n",
    "#     diff = coupling_object.system1.h['lam'][k](-x) - coupling_object.system1.h['lam'][k](x)\n",
    "#     axs[k].plot(x,diff,label='Order {}'.format(k))\n",
    "#     axs[k].legend()\n",
    "#     axs[k].set_xlabel(r'$\\phi$') # the string must have 'r' in front\n",
    "#     axs[k].set_ylabel(r'$\\mathcal{H}_1^{('+str(k)+r')}(-\\phi)-\\mathcal{H}_1^{('+str(k)+r')}(\\phi)$')\n",
    "# axs[0].set_title(r'(-2*) Odd Parts')\n",
    "# plt.tight_layout()"
   ]
  },
  {
   "cell_type": "markdown",
   "id": "a7e3ac14-4421-4670-b461-f8ff2d24ac1a",
   "metadata": {},
   "source": [
    "## Get Branches Full"
   ]
  },
  {
   "cell_type": "code",
   "execution_count": 15,
   "id": "249a753a-e4ce-4fd7-b8ae-be36ab1614e1",
   "metadata": {},
   "outputs": [],
   "source": [
    "kw_p0 = {'a':a11_p0,'del1':del11_p0,'recompute':False,\n",
    "         'bifdir':'bif1d_thal2/','_full_rhs':_full}"
   ]
  },
  {
   "cell_type": "code",
   "execution_count": 16,
   "id": "0a4e5dd6-61e7-446f-b850-36a07b7948d2",
   "metadata": {},
   "outputs": [],
   "source": [
    "data_p0_list = []"
   ]
  },
  {
   "cell_type": "code",
   "execution_count": 17,
   "id": "738cdcea-9631-427e-988a-832b2576f6d9",
   "metadata": {},
   "outputs": [],
   "source": [
    "in_dicts = [dict(init=3,eps_init=0.01,eps_final=0.0005,deps=-.001),\n",
    "            dict(init=3,eps_init=0.01,eps_final=0.3,deps=.01),\n",
    "            dict(init=.1,eps_init=0.2,eps_final=0.1,deps=-.01),\n",
    "            dict(init=.1,eps_init=0.2,eps_final=0.3,deps=.01),\n",
    "            dict(init=5,eps_init=0.2,eps_final=0.1,deps=-.01),\n",
    "            dict(init=5,eps_init=0.2,eps_final=0.3,deps=.01),\n",
    "            dict(init=.1,eps_init=0.11,eps_final=0.1,deps=-.001),\n",
    "            dict(init=5,eps_init=0.11,eps_final=0.1,deps=-.001),]"
   ]
  },
  {
   "cell_type": "code",
   "execution_count": 18,
   "id": "34cfd7df-e99a-4f84-8d48-70e791f9ca6b",
   "metadata": {
    "scrolled": true
   },
   "outputs": [
    {
     "name": "stdout",
     "output_type": "stream",
     "text": [
      "fname1 td_branch_init=3_nm=11_del=0_ei=0.01_ef=0.0005_de=-0.001.txt\n",
      "fname2 ts_branch_init=3_nm=11_del=0_ei=0.01_ef=0.0005_de=-0.001.txt\n",
      "fname1 td_branch_init=3_nm=11_del=0_ei=0.01_ef=0.3_de=0.01.txt\n",
      "fname2 ts_branch_init=3_nm=11_del=0_ei=0.01_ef=0.3_de=0.01.txt\n",
      "fname1 td_branch_init=0.1_nm=11_del=0_ei=0.2_ef=0.1_de=-0.01.txt\n",
      "fname2 ts_branch_init=0.1_nm=11_del=0_ei=0.2_ef=0.1_de=-0.01.txt\n",
      "fname1 td_branch_init=0.1_nm=11_del=0_ei=0.2_ef=0.3_de=0.01.txt\n",
      "fname2 ts_branch_init=0.1_nm=11_del=0_ei=0.2_ef=0.3_de=0.01.txt\n",
      "fname1 td_branch_init=5_nm=11_del=0_ei=0.2_ef=0.1_de=-0.01.txt\n",
      "fname2 ts_branch_init=5_nm=11_del=0_ei=0.2_ef=0.1_de=-0.01.txt\n",
      "fname1 td_branch_init=5_nm=11_del=0_ei=0.2_ef=0.3_de=0.01.txt\n",
      "fname2 ts_branch_init=5_nm=11_del=0_ei=0.2_ef=0.3_de=0.01.txt\n",
      "fname1 td_branch_init=0.1_nm=11_del=0_ei=0.11_ef=0.1_de=-0.001.txt\n",
      "fname2 ts_branch_init=0.1_nm=11_del=0_ei=0.11_ef=0.1_de=-0.001.txt\n",
      "fname1 td_branch_init=5_nm=11_del=0_ei=0.11_ef=0.1_de=-0.001.txt\n",
      "fname2 ts_branch_init=5_nm=11_del=0_ei=0.11_ef=0.1_de=-0.001.txt\n"
     ]
    }
   ],
   "source": [
    "for i in range(len(in_dicts)):\n",
    "    in1 = in_dicts[i]\n",
    "    dat = follow_phase_diffs(**in1,**kw_p0)\n",
    "    data_p0_list.append(dat)\n",
    "fname = kw_p0['bifdir']+'hyper_thal2_11_p0.txt'"
   ]
  },
  {
   "cell_type": "code",
   "execution_count": 19,
   "id": "1d108a40-ebf4-4a0d-bb9a-f5f1cbb6dec0",
   "metadata": {},
   "outputs": [],
   "source": [
    "# save hyperparameters\n",
    "hyp_inputs = np.zeros([len(in_dicts),4])\n",
    "for i in range(len(in_dicts)):\n",
    "    hyp_inputs[i,0] = in_dicts[i]['init']\n",
    "    hyp_inputs[i,1] = in_dicts[i]['eps_init']\n",
    "    hyp_inputs[i,2] = in_dicts[i]['eps_final']\n",
    "    hyp_inputs[i,3] = in_dicts[i]['deps']\n",
    "np.savetxt(fname,hyp_inputs)"
   ]
  },
  {
   "cell_type": "markdown",
   "id": "56e67e29-e75c-421b-8320-bd73b89cb267",
   "metadata": {},
   "source": [
    "## Get Branches 3D"
   ]
  },
  {
   "cell_type": "code",
   "execution_count": 20,
   "id": "35560544-ac24-4f6d-9ad9-4f120726e188",
   "metadata": {},
   "outputs": [],
   "source": [
    "data_list_r3d = []"
   ]
  },
  {
   "cell_type": "code",
   "execution_count": 21,
   "id": "80063cfb-f705-46c9-8cb9-d5c28161eb83",
   "metadata": {},
   "outputs": [],
   "source": [
    "kw_follow_r3d = {'a':a11_p0,'rhs':_redu_3dc,'recompute':False,\n",
    "                 'bifdir':'bif1d_thal2/'}"
   ]
  },
  {
   "cell_type": "code",
   "execution_count": 22,
   "id": "01d7db36-ae89-433f-b342-ee82148e2c00",
   "metadata": {},
   "outputs": [],
   "source": [
    "in_dicts_r3d = [dict(init=3,eps_tup=(.05,.31,.01)),\n",
    "                dict(init=3,eps_tup=(.05,.001,-.001))]"
   ]
  },
  {
   "cell_type": "code",
   "execution_count": 23,
   "id": "d631b92c-66f0-44db-b3a7-cd4a105fa049",
   "metadata": {
    "scrolled": true
   },
   "outputs": [
    {
     "name": "stdout",
     "output_type": "stream",
     "text": [
      "eps_tup (0.05, 0.31, 0.01)\n",
      "eps_tup (0.05, 0.001, -0.001)\n"
     ]
    }
   ],
   "source": [
    "for i in range(len(in_dicts_r3d)):\n",
    "    in1 = in_dicts_r3d[i]\n",
    "    dat = follow_locking_3d(**in1,**kw_follow_r3d)\n",
    "    data_list_r3d.append(dat)\n",
    "fname = kw_follow_r3d['bifdir']+'hyper_r3d_thal2_11_p0.txt'"
   ]
  },
  {
   "cell_type": "code",
   "execution_count": 24,
   "id": "9a8ade6c-3cd1-4d7a-b26a-9fe080f6f7e0",
   "metadata": {},
   "outputs": [],
   "source": [
    "# save hyperparameters\n",
    "hyp_inputs = np.zeros([len(in_dicts_r3d),4])\n",
    "for i in range(len(in_dicts_r3d)):\n",
    "    hyp_inputs[i,0] = in_dicts_r3d[i]['init']\n",
    "    hyp_inputs[i,1] = in_dicts_r3d[i]['eps_tup'][0]\n",
    "    hyp_inputs[i,2] = in_dicts_r3d[i]['eps_tup'][1]\n",
    "    hyp_inputs[i,3] = in_dicts_r3d[i]['eps_tup'][2]\n",
    "np.savetxt(fname,hyp_inputs)"
   ]
  },
  {
   "cell_type": "markdown",
   "id": "94445efa-18e7-4483-89cc-80cb38dfd168",
   "metadata": {},
   "source": [
    "## Plot"
   ]
  },
  {
   "cell_type": "code",
   "execution_count": 25,
   "id": "4a833d00-2aaf-49d2-9db0-ec692eba61d6",
   "metadata": {},
   "outputs": [
    {
     "data": {
      "image/png": "[encoded data removed]",
      "text/plain": [
       "<Figure size 300x200 with 1 Axes>"
      ]
     },
     "metadata": {},
     "output_type": "display_data"
    },
    {
     "data": {
      "image/png": "[encoded data removed]",
      "text/plain": [
       "<Figure size 300x400 with 2 Axes>"
      ]
     },
     "metadata": {},
     "output_type": "display_data"
    }
   ],
   "source": [
    "quick_plot_combined(a11_p0,\n",
    "                    kw_f={'data_list':data_p0_list},\n",
    "                    kw_r3d={'data_list':data_list_r3d},\n",
    "                    kw_r={'etup':etup11})"
   ]
  },
  {
   "cell_type": "markdown",
   "id": "85a49a6b-45e1-4ce2-8ce9-71aa32bbf296",
   "metadata": {},
   "source": [
    "# del=0.0005"
   ]
  },
  {
   "cell_type": "code",
   "execution_count": 26,
   "id": "2c95d4e9-78fe-4985-acad-0e585ca492aa",
   "metadata": {
    "scrolled": true
   },
   "outputs": [
    {
     "name": "stdout",
     "output_type": "stream",
     "text": [
      "pfactor 20\n",
      "* Loading p symbolic...\n",
      "* Loading p symbolic...\n",
      "* Loading H symbolic...\n",
      "* Loading H symbolic...\n",
      "* Computing H thal0_35, order=0...\n",
      "* Computing H thal1_35, order=0...\n",
      "* Computing H thal0_35, order=1...\n",
      "* Computing H thal1_35, order=1...\n",
      "* Computing H thal0_35, order=2...\n",
      "* Computing H thal1_35, order=2...\n",
      "* Computing H thal0_35, order=3...\n",
      "* Computing H thal1_35, order=3...\n"
     ]
    }
   ],
   "source": [
    "del11_p0005 = .0005\n",
    "a11_p0005 = nm.nmCoupling(**kw_nm, del1=del11_p0005)"
   ]
  },
  {
   "cell_type": "markdown",
   "id": "e868cbf7-9ab2-46ec-9e36-90965abec33b",
   "metadata": {},
   "source": [
    "## Get Branches Full"
   ]
  },
  {
   "cell_type": "code",
   "execution_count": 27,
   "id": "63106b96-9def-4898-a5a4-098cac7dceb0",
   "metadata": {},
   "outputs": [],
   "source": [
    "kw_p0005 = {'a':a11_p0005,'del1':del11_p0005,'recompute':False,\n",
    "            'bifdir':'bif1d_thal2/','_full_rhs':_full}"
   ]
  },
  {
   "cell_type": "code",
   "execution_count": 28,
   "id": "b8b528e8-2720-4e92-8e0c-e14b8e2dce50",
   "metadata": {},
   "outputs": [],
   "source": [
    "data_p0005_list = []"
   ]
  },
  {
   "cell_type": "code",
   "execution_count": 29,
   "id": "4440ebc1-7dd8-45c3-9efd-d5f144b5f349",
   "metadata": {},
   "outputs": [],
   "source": [
    "in_dicts = [dict(init=3,eps_init=0.02,eps_final=0.0005,deps=-.0005),\n",
    "               dict(init=3,eps_init=0.02,eps_final=0.3,deps=.01),\n",
    "               dict(init=.5,eps_init=0.2,eps_final=0.27,deps=.01),\n",
    "               dict(init=.5,eps_init=0.2,eps_final=0.08,deps=-.005),\n",
    "               dict(init=6,eps_init=0.2,eps_final=0.3,deps=.01),\n",
    "               dict(init=6,eps_init=0.2,eps_final=0.125,deps=-.005)]"
   ]
  },
  {
   "cell_type": "code",
   "execution_count": 30,
   "id": "20d29e3b-dbaa-47f2-9175-ab8de4dac5cc",
   "metadata": {
    "scrolled": true
   },
   "outputs": [
    {
     "name": "stdout",
     "output_type": "stream",
     "text": [
      "fname1 td_branch_init=3_nm=11_del=0.0005_ei=0.02_ef=0.0005_de=-0.0005.txt\n",
      "fname2 ts_branch_init=3_nm=11_del=0.0005_ei=0.02_ef=0.0005_de=-0.0005.txt\n",
      "fname1 td_branch_init=3_nm=11_del=0.0005_ei=0.02_ef=0.3_de=0.01.txt\n",
      "fname2 ts_branch_init=3_nm=11_del=0.0005_ei=0.02_ef=0.3_de=0.01.txt\n",
      "fname1 td_branch_init=0.5_nm=11_del=0.0005_ei=0.2_ef=0.27_de=0.01.txt\n",
      "fname2 ts_branch_init=0.5_nm=11_del=0.0005_ei=0.2_ef=0.27_de=0.01.txt\n",
      "fname1 td_branch_init=0.5_nm=11_del=0.0005_ei=0.2_ef=0.08_de=-0.005.txt\n",
      "fname2 ts_branch_init=0.5_nm=11_del=0.0005_ei=0.2_ef=0.08_de=-0.005.txt\n",
      "fname1 td_branch_init=6_nm=11_del=0.0005_ei=0.2_ef=0.3_de=0.01.txt\n",
      "fname2 ts_branch_init=6_nm=11_del=0.0005_ei=0.2_ef=0.3_de=0.01.txt\n",
      "fname1 td_branch_init=6_nm=11_del=0.0005_ei=0.2_ef=0.125_de=-0.005.txt\n",
      "fname2 ts_branch_init=6_nm=11_del=0.0005_ei=0.2_ef=0.125_de=-0.005.txt\n"
     ]
    }
   ],
   "source": [
    "for i in range(len(in_dicts)):\n",
    "    in1 = in_dicts[i]\n",
    "    dat = follow_phase_diffs(**in1,**kw_p0005)\n",
    "    data_p0005_list.append(dat)\n",
    "fname = kw_p0005['bifdir']+'hyper_thal2_11_p0005.txt'"
   ]
  },
  {
   "cell_type": "code",
   "execution_count": 31,
   "id": "f7e9608d-ed76-4db9-ac2d-5a86ad1c7dc0",
   "metadata": {},
   "outputs": [],
   "source": [
    "# save hyperparameters\n",
    "hyp_inputs = np.zeros([len(in_dicts),4])\n",
    "for i in range(len(in_dicts)):\n",
    "    hyp_inputs[i,0] = in_dicts[i]['init']\n",
    "    hyp_inputs[i,1] = in_dicts[i]['eps_init']\n",
    "    hyp_inputs[i,2] = in_dicts[i]['eps_final']\n",
    "    hyp_inputs[i,3] = in_dicts[i]['deps']\n",
    "np.savetxt(fname,hyp_inputs)"
   ]
  },
  {
   "cell_type": "markdown",
   "id": "d1d416dd-0ee6-4abc-acba-11b6b2456ecf",
   "metadata": {},
   "source": [
    "## Get Branches 3D"
   ]
  },
  {
   "cell_type": "code",
   "execution_count": 32,
   "id": "4c3116fe-9241-46ef-9892-75585f110b57",
   "metadata": {},
   "outputs": [],
   "source": [
    "data_list_r3d = []"
   ]
  },
  {
   "cell_type": "code",
   "execution_count": 33,
   "id": "2d29fd4d-027e-491d-951e-c1308d83e7d0",
   "metadata": {},
   "outputs": [],
   "source": [
    "kw_follow_r3d = {'a':a11_p0005,'rhs':_redu_3dc,'recompute':False,\n",
    "                 'bifdir':'bif1d_thal2/'}"
   ]
  },
  {
   "cell_type": "code",
   "execution_count": 34,
   "id": "b5718abe-9035-4170-8cab-48809d08d329",
   "metadata": {},
   "outputs": [],
   "source": [
    "in_dicts_r3d = [dict(init=3,eps_tup=(.05,.31,.01)),\n",
    "                dict(init=3,eps_tup=(.05,.001,-.001))]"
   ]
  },
  {
   "cell_type": "code",
   "execution_count": 35,
   "id": "db39efc4-dc62-4345-825d-b7388235af91",
   "metadata": {
    "scrolled": true
   },
   "outputs": [
    {
     "name": "stdout",
     "output_type": "stream",
     "text": [
      "eps_tup (0.05, 0.31, 0.01)\n",
      "eps_tup (0.05, 0.001, -0.001)\n"
     ]
    }
   ],
   "source": [
    "for i in range(len(in_dicts_r3d)):\n",
    "    in1 = in_dicts_r3d[i]\n",
    "    dat = follow_locking_3d(**in1,**kw_follow_r3d)\n",
    "    data_list_r3d.append(dat)\n",
    "fname = kw_follow_r3d['bifdir']+'hyper_r3d_thal2_11_p0005.txt'"
   ]
  },
  {
   "cell_type": "code",
   "execution_count": 36,
   "id": "99e44bf6-5029-4a92-9df8-f0769d0b0859",
   "metadata": {},
   "outputs": [],
   "source": [
    "# save hyperparameters\n",
    "hyp_inputs = np.zeros([len(in_dicts_r3d),4])\n",
    "for i in range(len(in_dicts_r3d)):\n",
    "    hyp_inputs[i,0] = in_dicts_r3d[i]['init']\n",
    "    hyp_inputs[i,1] = in_dicts_r3d[i]['eps_tup'][0]\n",
    "    hyp_inputs[i,2] = in_dicts_r3d[i]['eps_tup'][1]\n",
    "    hyp_inputs[i,3] = in_dicts_r3d[i]['eps_tup'][2]\n",
    "np.savetxt(fname,hyp_inputs)"
   ]
  },
  {
   "cell_type": "markdown",
   "id": "ffa7e5b5-a839-409b-b4d2-7f93c78921be",
   "metadata": {},
   "source": [
    "## Plot"
   ]
  },
  {
   "cell_type": "code",
   "execution_count": 37,
   "id": "cbd5f732-125e-4312-9d05-ea20c5b25080",
   "metadata": {},
   "outputs": [
    {
     "data": {
      "image/png": "[encoded data removed]",
      "text/plain": [
       "<Figure size 300x200 with 1 Axes>"
      ]
     },
     "metadata": {},
     "output_type": "display_data"
    },
    {
     "data": {
      "image/png": "[encoded data removed]",
      "text/plain": [
       "<Figure size 300x400 with 2 Axes>"
      ]
     },
     "metadata": {},
     "output_type": "display_data"
    }
   ],
   "source": [
    "quick_plot_combined(a11_p0005,\n",
    "                    kw_f={'data_list':data_p0005_list},\n",
    "                    kw_r3d={'data_list':data_list_r3d},\n",
    "                    kw_r={'etup':etup11})"
   ]
  },
  {
   "cell_type": "markdown",
   "id": "16dbe06a-3457-4961-a770-a7ecfdad08d2",
   "metadata": {},
   "source": [
    "## Sims"
   ]
  },
  {
   "cell_type": "code",
   "execution_count": 38,
   "id": "f8ed7d19-09f5-46af-81c7-db415e5446a7",
   "metadata": {},
   "outputs": [],
   "source": [
    "eps11_p0005 = 0.025\n",
    "th_init11_p0005 = 0"
   ]
  },
  {
   "cell_type": "code",
   "execution_count": 39,
   "id": "094d999e-55ec-4c80-bfe8-8f9f7315e92f",
   "metadata": {},
   "outputs": [],
   "source": [
    "dt = .01;T_p008=1000\n",
    "t11_p0005 = np.arange(0,T_p008,dt)\n",
    "args11_p0005 = {'args':(a11_p0005,eps11_p0005,del11_p0005),\n",
    "               't_eval':t11_p0005,**kw_sim}"
   ]
  },
  {
   "cell_type": "code",
   "execution_count": 40,
   "id": "ebefc90c-e250-4c78-86cc-a1fb3501d461",
   "metadata": {
    "tags": []
   },
   "outputs": [],
   "source": [
    "y0a = a11_p0005.system1.lc['dat'][int((th_init11_p0005/(2*np.pi)) * a11_p0005.system1.TN),:]\n",
    "y0b = a11_p0005.system2.lc['dat'][int((0/(2*np.pi)) * a11_p0005.system2.TN),:]\n",
    "\n",
    "y0_p008 = np.array([y0a,y0b]).flatten()\n",
    "\n",
    "solf11_p0005 = solve_ivp(_full,[0,t11_p0005[-1]],\n",
    "                        y0_p008, **args11_p0005)"
   ]
  },
  {
   "cell_type": "code",
   "execution_count": 41,
   "id": "e05217f0-b0ec-4195-9946-ebe9c19e6dc4",
   "metadata": {
    "tags": []
   },
   "outputs": [],
   "source": [
    "solr11_p0005 = solve_ivp(_redu_c,[0,t11_p0005[-1]],\n",
    "                        [th_init11_p0005],**args11_p0005)"
   ]
  },
  {
   "cell_type": "code",
   "execution_count": 42,
   "id": "244846b6-11d3-4c84-8d72-43c66a9a11b3",
   "metadata": {},
   "outputs": [],
   "source": [
    "# solr12b_p008 = solve_ivp(_redu_3dc,[0,t11_p0005[-1]],\n",
    "#                     [th_init11_p0005,0,0],**args11_p0005)"
   ]
  },
  {
   "cell_type": "code",
   "execution_count": 43,
   "id": "ebd607e6-649f-4870-aac9-91138663f9a6",
   "metadata": {},
   "outputs": [],
   "source": [
    "tp12a_p008, phasea11_p0005 = get_phase(t11_p0005,solf11_p0005.y.T[:,:4],\n",
    "                            skipn=50,system1=a11_p0005.system1)\n",
    "tp12b_p008, phaseb11_p0005 = get_phase(t11_p0005,solf11_p0005.y.T[:,4:],\n",
    "                            skipn=50,system1=a11_p0005.system2)"
   ]
  },
  {
   "cell_type": "markdown",
   "id": "aa921093-ae01-4fde-840b-df027fafb833",
   "metadata": {},
   "source": [
    "### Plot"
   ]
  },
  {
   "cell_type": "code",
   "execution_count": 44,
   "id": "cedb6056-1200-4987-9b9d-beea8d189d8d",
   "metadata": {},
   "outputs": [
    {
     "data": {
      "text/plain": [
       "(-0.5, 6.783185307179586)"
      ]
     },
     "execution_count": 44,
     "metadata": {},
     "output_type": "execute_result"
    },
    {
     "data": {
      "image/png": "[encoded data removed]",
      "text/plain": [
       "<Figure size 640x480 with 1 Axes>"
      ]
     },
     "metadata": {},
     "output_type": "display_data"
    }
   ],
   "source": [
    "fig,axs = plt.subplots()\n",
    "y = np.mod(phasea11_p0005 - a11_p0005.om*phaseb11_p0005,2*np.pi)\n",
    "axs.scatter(tp12a_p008,y,s=1,alpha=.5,color='black')\n",
    "\n",
    "axs.plot(t11_p0005,np.mod(solr11_p0005.y.T,2*np.pi),color='tab:red')\n",
    "\n",
    "# axs.plot(t11_p0005*a11_p0005.om,np.mod(solr12b_p008.y[0]-a11_p0005.om*solr12b_p008.y[2],2*np.pi),color='tab:blue')\n",
    "\n",
    "#axs.plot(t12*a12.om,np.mod(solr12c.y[0]-a12.om*solr12c.y[2],2*np.pi),color='tab:green')\n",
    "#axs.scatter(sol_full.t[::skipn],np.mod(phase2,1),s=1)\n",
    "\n",
    "axs.set_ylim(-.5,2*np.pi+.5)"
   ]
  },
  {
   "cell_type": "code",
   "execution_count": 45,
   "id": "519ae76b-1637-4513-9f94-add0f05dcc38",
   "metadata": {},
   "outputs": [
    {
     "data": {
      "text/plain": [
       "(250.0, 350.0)"
      ]
     },
     "execution_count": 45,
     "metadata": {},
     "output_type": "execute_result"
    },
    {
     "data": {
      "image/png": "[encoded data removed]",
      "text/plain": [
       "<Figure size 600x200 with 1 Axes>"
      ]
     },
     "metadata": {},
     "output_type": "display_data"
    }
   ],
   "source": [
    "fig,axs = plt.subplots(figsize=(6,2))\n",
    "axs.plot(solf11_p0005.t,solf11_p0005.y.T[:,0])\n",
    "axs.plot(solf11_p0005.t,solf11_p0005.y.T[:,4])\n",
    "axs.set_xlim(250,350)"
   ]
  },
  {
   "cell_type": "markdown",
   "id": "3d2c9641-2ea9-4eb8-9d0e-dc5f532d88d2",
   "metadata": {},
   "source": [
    "# del=0.001"
   ]
  },
  {
   "cell_type": "code",
   "execution_count": 46,
   "id": "abc8120a-7709-4e5a-a7e0-3f9afce7595d",
   "metadata": {
    "scrolled": true
   },
   "outputs": [
    {
     "name": "stdout",
     "output_type": "stream",
     "text": [
      "pfactor 20\n",
      "* Loading p symbolic...\n",
      "* Loading p symbolic...\n",
      "* Loading H symbolic...\n",
      "* Loading H symbolic...\n",
      "* Computing H thal0_35, order=0...\n",
      "* Computing H thal1_35, order=0...\n",
      "* Computing H thal0_35, order=1...\n",
      "* Computing H thal1_35, order=1...\n",
      "* Computing H thal0_35, order=2...\n",
      "* Computing H thal1_35, order=2...\n",
      "* Computing H thal0_35, order=3...\n",
      "* Computing H thal1_35, order=3...\n"
     ]
    },
    {
     "name": "stdout",
     "output_type": "stream",
     "text": [
      "* Computing H thal0_35, order=2...\n"
     ]
    },
    {
     "name": "stdout",
     "output_type": "stream",
     "text": [
      "* Computing H thal1_35, order=2...\n"
     ]
    },
    {
     "name": "stdout",
     "output_type": "stream",
     "text": [
      "* Computing H thal0_35, order=3...\n"
     ]
    },
    {
     "name": "stdout",
     "output_type": "stream",
     "text": [
      "* Computing H thal1_35, order=3...\n"
     ]
    }
   ],
   "source": [
    "del11_p001 = .001\n",
    "a11_p001 = nm.nmCoupling(**kw_nm, del1=del11_p001)"
   ]
  },
  {
   "cell_type": "markdown",
   "id": "c53dcfaa-1447-41ae-be02-e4103249252c",
   "metadata": {},
   "source": [
    "## Get Branches Full"
   ]
  },
  {
   "cell_type": "code",
   "execution_count": 47,
   "id": "34de7a0d-3869-4841-a962-c5d6b551a3a0",
   "metadata": {},
   "outputs": [],
   "source": [
    "kw_p001 = {'a':a11_p001,'del1':del11_p001,'recompute':False,\n",
    "            'bifdir':'bif1d_thal2/','_full_rhs':_full}"
   ]
  },
  {
   "cell_type": "code",
   "execution_count": 48,
   "id": "32edbf43-3014-45f1-abb3-2b2014109385",
   "metadata": {},
   "outputs": [],
   "source": [
    "data_p001_list = []"
   ]
  },
  {
   "cell_type": "code",
   "execution_count": 49,
   "id": "2418415d-6c52-43e4-9ab1-96ef8919282c",
   "metadata": {},
   "outputs": [],
   "source": [
    "in_dicts = [dict(init=3,eps_init=0.02,eps_final=0.0005,deps=-.0005),\n",
    "               dict(init=3,eps_init=0.02,eps_final=0.3,deps=.01),\n",
    "               dict(init=.5,eps_init=0.2,eps_final=0.27,deps=.01),\n",
    "               dict(init=.5,eps_init=0.2,eps_final=0.04,deps=-.01),\n",
    "               dict(init=6,eps_init=0.2,eps_final=0.3,deps=.01),\n",
    "               dict(init=6,eps_init=0.2,eps_final=0.14,deps=-.01)]"
   ]
  },
  {
   "cell_type": "code",
   "execution_count": 50,
   "id": "4857588e-f55a-493e-9c16-90e5ae849814",
   "metadata": {
    "scrolled": true
   },
   "outputs": [
    {
     "name": "stdout",
     "output_type": "stream",
     "text": [
      "fname1 td_branch_init=3_nm=11_del=0.001_ei=0.02_ef=0.0005_de=-0.0005.txt\n",
      "fname2 ts_branch_init=3_nm=11_del=0.001_ei=0.02_ef=0.0005_de=-0.0005.txt\n",
      "fname1 td_branch_init=3_nm=11_del=0.001_ei=0.02_ef=0.3_de=0.01.txt\n",
      "fname2 ts_branch_init=3_nm=11_del=0.001_ei=0.02_ef=0.3_de=0.01.txt\n",
      "fname1 td_branch_init=0.5_nm=11_del=0.001_ei=0.2_ef=0.27_de=0.01.txt\n",
      "fname2 ts_branch_init=0.5_nm=11_del=0.001_ei=0.2_ef=0.27_de=0.01.txt\n",
      "fname1 td_branch_init=0.5_nm=11_del=0.001_ei=0.2_ef=0.04_de=-0.01.txt\n",
      "fname2 ts_branch_init=0.5_nm=11_del=0.001_ei=0.2_ef=0.04_de=-0.01.txt\n",
      "fname1 td_branch_init=6_nm=11_del=0.001_ei=0.2_ef=0.3_de=0.01.txt\n",
      "fname2 ts_branch_init=6_nm=11_del=0.001_ei=0.2_ef=0.3_de=0.01.txt\n",
      "fname1 td_branch_init=6_nm=11_del=0.001_ei=0.2_ef=0.14_de=-0.01.txt\n",
      "fname2 ts_branch_init=6_nm=11_del=0.001_ei=0.2_ef=0.14_de=-0.01.txt\n"
     ]
    }
   ],
   "source": [
    "for i in range(len(in_dicts)):\n",
    "    in1 = in_dicts[i]\n",
    "    dat = follow_phase_diffs(**in1,**kw_p001)\n",
    "    data_p001_list.append(dat)\n",
    "fname = kw_p001['bifdir']+'hyper_thal2_11_p001.txt'"
   ]
  },
  {
   "cell_type": "code",
   "execution_count": 51,
   "id": "a31635b8-06c2-4c8e-9d01-d72d13c78bc5",
   "metadata": {},
   "outputs": [],
   "source": [
    "# save hyperparameters\n",
    "hyp_inputs = np.zeros([len(in_dicts),4])\n",
    "for i in range(len(in_dicts)):\n",
    "    hyp_inputs[i,0] = in_dicts[i]['init']\n",
    "    hyp_inputs[i,1] = in_dicts[i]['eps_init']\n",
    "    hyp_inputs[i,2] = in_dicts[i]['eps_final']\n",
    "    hyp_inputs[i,3] = in_dicts[i]['deps']\n",
    "np.savetxt(fname,hyp_inputs)"
   ]
  },
  {
   "cell_type": "markdown",
   "id": "ccc76cee-a5f4-45db-9802-40717189a0a3",
   "metadata": {},
   "source": [
    "## Get Branches 3D"
   ]
  },
  {
   "cell_type": "code",
   "execution_count": 52,
   "id": "5bde0b50-d514-450a-aca3-ceed9224f0ba",
   "metadata": {},
   "outputs": [],
   "source": [
    "data_list_r3d = []"
   ]
  },
  {
   "cell_type": "code",
   "execution_count": 53,
   "id": "8a0d0531-c464-40b9-af1d-d78ece3f96aa",
   "metadata": {},
   "outputs": [],
   "source": [
    "kw_follow_r3d = {'a':a11_p001,'rhs':_redu_3dc,'recompute':False,\n",
    "                 'bifdir':'bif1d_thal2/'}"
   ]
  },
  {
   "cell_type": "code",
   "execution_count": 54,
   "id": "4546c579-2b9e-4512-8689-903317dc8304",
   "metadata": {},
   "outputs": [],
   "source": [
    "in_dicts_r3d = [dict(init=3,eps_tup=(.05,.31,.01)),\n",
    "                dict(init=3,eps_tup=(.05,.001,-.001))]"
   ]
  },
  {
   "cell_type": "code",
   "execution_count": 55,
   "id": "baea6614-3c82-4560-9872-472a7d10d051",
   "metadata": {
    "scrolled": true
   },
   "outputs": [
    {
     "name": "stdout",
     "output_type": "stream",
     "text": [
      "eps_tup (0.05, 0.31, 0.01)\n",
      "eps_tup (0.05, 0.001, -0.001)\n"
     ]
    }
   ],
   "source": [
    "for i in range(len(in_dicts_r3d)):\n",
    "    in1 = in_dicts_r3d[i]\n",
    "    dat = follow_locking_3d(**in1,**kw_follow_r3d)\n",
    "    data_list_r3d.append(dat)\n",
    "fname = kw_follow_r3d['bifdir']+'hyper_r3d_thal2_11_p001.txt'"
   ]
  },
  {
   "cell_type": "code",
   "execution_count": 56,
   "id": "2b7b6bc5-a0c5-4791-813c-5ee414916b8d",
   "metadata": {},
   "outputs": [],
   "source": [
    "# save hyperparameters\n",
    "hyp_inputs = np.zeros([len(in_dicts_r3d),4])\n",
    "for i in range(len(in_dicts_r3d)):\n",
    "    hyp_inputs[i,0] = in_dicts_r3d[i]['init']\n",
    "    hyp_inputs[i,1] = in_dicts_r3d[i]['eps_tup'][0]\n",
    "    hyp_inputs[i,2] = in_dicts_r3d[i]['eps_tup'][1]\n",
    "    hyp_inputs[i,3] = in_dicts_r3d[i]['eps_tup'][2]\n",
    "np.savetxt(fname,hyp_inputs)"
   ]
  },
  {
   "cell_type": "markdown",
   "id": "98738be9-4396-4ecc-9f17-d4be1fca536e",
   "metadata": {},
   "source": [
    "## Plot"
   ]
  },
  {
   "cell_type": "code",
   "execution_count": 57,
   "id": "63487229-fb52-4c87-9f65-fe82e2956e40",
   "metadata": {},
   "outputs": [
    {
     "data": {
      "image/png": "[encoded data removed]",
      "text/plain": [
       "<Figure size 300x200 with 1 Axes>"
      ]
     },
     "metadata": {},
     "output_type": "display_data"
    },
    {
     "data": {
      "image/png": "[encoded data removed]",
      "text/plain": [
       "<Figure size 300x400 with 2 Axes>"
      ]
     },
     "metadata": {},
     "output_type": "display_data"
    }
   ],
   "source": [
    "quick_plot_combined(a11_p001,\n",
    "                    kw_f={'data_list':data_p001_list},\n",
    "                    kw_r3d={'data_list':data_list_r3d},\n",
    "                    kw_r={'etup':etup11})"
   ]
  },
  {
   "cell_type": "markdown",
   "id": "7b16a9c9-45b5-4ce3-bcb6-44522c21112f",
   "metadata": {},
   "source": [
    "# del=0.0015"
   ]
  },
  {
   "cell_type": "code",
   "execution_count": 58,
   "id": "03e6f1e0-2026-4438-aaa6-1a2aada77eb2",
   "metadata": {
    "scrolled": true
   },
   "outputs": [
    {
     "name": "stdout",
     "output_type": "stream",
     "text": [
      "pfactor 20\n",
      "* Loading p symbolic...\n",
      "* Loading p symbolic...\n",
      "* Loading H symbolic...\n",
      "* Loading H symbolic...\n",
      "* Computing H thal0_35, order=0...\n",
      "* Computing H thal1_35, order=0...\n",
      "* Computing H thal0_35, order=1...\n",
      "* Computing H thal1_35, order=1...\n",
      "* Computing H thal0_35, order=2...\n",
      "* Computing H thal1_35, order=2...\n",
      "* Computing H thal0_35, order=3...\n",
      "* Computing H thal1_35, order=3...\n"
     ]
    },
    {
     "name": "stdout",
     "output_type": "stream",
     "text": [
      "* Computing H thal1_35, order=2...\n"
     ]
    },
    {
     "name": "stdout",
     "output_type": "stream",
     "text": [
      "* Computing H thal0_35, order=3...\n"
     ]
    },
    {
     "name": "stdout",
     "output_type": "stream",
     "text": [
      "* Computing H thal1_35, order=3...\n"
     ]
    }
   ],
   "source": [
    "del11_p0015 = .0015\n",
    "a11_p0015 = nm.nmCoupling(**kw_nm, del1=del11_p0015)"
   ]
  },
  {
   "cell_type": "markdown",
   "id": "00b0d5c5-dcba-4bd7-8478-47dfb769d9cb",
   "metadata": {},
   "source": [
    "## Get Branches Full"
   ]
  },
  {
   "cell_type": "code",
   "execution_count": 59,
   "id": "206b68de-c25b-4f10-8507-5f9359513d65",
   "metadata": {},
   "outputs": [],
   "source": [
    "kw_p0015 = {'a':a11_p0015,'del1':del11_p0015,'recompute':False,\n",
    "            'bifdir':'bif1d_thal2/','_full_rhs':_full}"
   ]
  },
  {
   "cell_type": "code",
   "execution_count": 60,
   "id": "3a1677e9-e007-46d6-8123-b4bf495ae5a4",
   "metadata": {},
   "outputs": [],
   "source": [
    "data_p0015_list = []"
   ]
  },
  {
   "cell_type": "code",
   "execution_count": 61,
   "id": "f966c473-28c1-4fb8-9f49-82b49f0430aa",
   "metadata": {},
   "outputs": [],
   "source": [
    "in_dicts = [dict(init=3,eps_init=0.02,eps_final=0.0005,deps=-.0005),\n",
    "            dict(init=3,eps_init=0.02,eps_final=0.3,deps=.01),\n",
    "            dict(init=.5,eps_init=0.05,eps_final=0.061,deps=.001),\n",
    "            dict(init=.5,eps_init=0.05,eps_final=0.035,deps=-.002),\n",
    "            dict(init=6,eps_init=0.2,eps_final=0.3,deps=.01),\n",
    "            dict(init=6,eps_init=0.2,eps_final=0.16,deps=-.01)]"
   ]
  },
  {
   "cell_type": "code",
   "execution_count": 62,
   "id": "e25247c1-908c-4900-9584-e4ab9697365d",
   "metadata": {
    "scrolled": true
   },
   "outputs": [
    {
     "name": "stdout",
     "output_type": "stream",
     "text": [
      "fname1 td_branch_init=3_nm=11_del=0.0015_ei=0.02_ef=0.0005_de=-0.0005.txt\n",
      "fname2 ts_branch_init=3_nm=11_del=0.0015_ei=0.02_ef=0.0005_de=-0.0005.txt\n",
      "fname1 td_branch_init=3_nm=11_del=0.0015_ei=0.02_ef=0.3_de=0.01.txt\n",
      "fname2 ts_branch_init=3_nm=11_del=0.0015_ei=0.02_ef=0.3_de=0.01.txt\n",
      "fname1 td_branch_init=0.5_nm=11_del=0.0015_ei=0.05_ef=0.061_de=0.001.txt\n",
      "fname2 ts_branch_init=0.5_nm=11_del=0.0015_ei=0.05_ef=0.061_de=0.001.txt\n",
      "fname1 td_branch_init=0.5_nm=11_del=0.0015_ei=0.05_ef=0.035_de=-0.002.txt\n",
      "fname2 ts_branch_init=0.5_nm=11_del=0.0015_ei=0.05_ef=0.035_de=-0.002.txt\n",
      "fname1 td_branch_init=6_nm=11_del=0.0015_ei=0.2_ef=0.3_de=0.01.txt\n",
      "fname2 ts_branch_init=6_nm=11_del=0.0015_ei=0.2_ef=0.3_de=0.01.txt\n",
      "fname1 td_branch_init=6_nm=11_del=0.0015_ei=0.2_ef=0.16_de=-0.01.txt\n",
      "fname2 ts_branch_init=6_nm=11_del=0.0015_ei=0.2_ef=0.16_de=-0.01.txt\n"
     ]
    }
   ],
   "source": [
    "for i in range(len(in_dicts)):\n",
    "    in1 = in_dicts[i]\n",
    "    dat = follow_phase_diffs(**in1,**kw_p0015)\n",
    "    data_p0015_list.append(dat)\n",
    "fname = kw_p0015['bifdir']+'hyper_thal2_11_p0015.txt'"
   ]
  },
  {
   "cell_type": "code",
   "execution_count": 63,
   "id": "1c7aa0b4-1b7e-483a-abc6-aca13509c484",
   "metadata": {},
   "outputs": [],
   "source": [
    "# save hyperparameters\n",
    "hyp_inputs = np.zeros([len(in_dicts),4])\n",
    "for i in range(len(in_dicts)):\n",
    "    hyp_inputs[i,0] = in_dicts[i]['init']\n",
    "    hyp_inputs[i,1] = in_dicts[i]['eps_init']\n",
    "    hyp_inputs[i,2] = in_dicts[i]['eps_final']\n",
    "    hyp_inputs[i,3] = in_dicts[i]['deps']\n",
    "np.savetxt(fname,hyp_inputs)"
   ]
  },
  {
   "cell_type": "markdown",
   "id": "2ed130a9-db8c-4d5a-8862-acc83b737f0d",
   "metadata": {},
   "source": [
    "## Get Branches 3D"
   ]
  },
  {
   "cell_type": "code",
   "execution_count": 64,
   "id": "92beeb34-02ef-4a23-ba9d-7a0bc8161525",
   "metadata": {},
   "outputs": [],
   "source": [
    "data_list_r3d = []"
   ]
  },
  {
   "cell_type": "code",
   "execution_count": 65,
   "id": "4c99e4ec-358d-4724-aecd-f343a31220bb",
   "metadata": {},
   "outputs": [],
   "source": [
    "kw_follow_r3d = {'a':a11_p0015,'rhs':_redu_3dc,'recompute':False,\n",
    "                 'bifdir':'bif1d_thal2/'}"
   ]
  },
  {
   "cell_type": "code",
   "execution_count": 66,
   "id": "bb6b6205-1717-49e4-b422-e60d23bfc8b0",
   "metadata": {},
   "outputs": [],
   "source": [
    "in_dicts_r3d = [dict(init=3,eps_tup=(.05,.31,.01)),\n",
    "                dict(init=3,eps_tup=(.05,.001,-.001))]"
   ]
  },
  {
   "cell_type": "code",
   "execution_count": 67,
   "id": "ef119ce1-0bc4-4032-b4f8-26a163db153f",
   "metadata": {
    "scrolled": true
   },
   "outputs": [
    {
     "name": "stdout",
     "output_type": "stream",
     "text": [
      "eps_tup (0.05, 0.31, 0.01)\n",
      "eps_tup (0.05, 0.001, -0.001)\n"
     ]
    }
   ],
   "source": [
    "for i in range(len(in_dicts_r3d)):\n",
    "    in1 = in_dicts_r3d[i]\n",
    "    dat = follow_locking_3d(**in1,**kw_follow_r3d)\n",
    "    data_list_r3d.append(dat)\n",
    "fname = kw_follow_r3d['bifdir']+'hyper_r3d_thal2_11_p0015.txt'"
   ]
  },
  {
   "cell_type": "code",
   "execution_count": 68,
   "id": "1918faba-62c7-4eef-9e82-f1d443224387",
   "metadata": {},
   "outputs": [],
   "source": [
    "# save hyperparameters\n",
    "hyp_inputs = np.zeros([len(in_dicts_r3d),4])\n",
    "for i in range(len(in_dicts_r3d)):\n",
    "    hyp_inputs[i,0] = in_dicts_r3d[i]['init']\n",
    "    hyp_inputs[i,1] = in_dicts_r3d[i]['eps_tup'][0]\n",
    "    hyp_inputs[i,2] = in_dicts_r3d[i]['eps_tup'][1]\n",
    "    hyp_inputs[i,3] = in_dicts_r3d[i]['eps_tup'][2]\n",
    "np.savetxt(fname,hyp_inputs)"
   ]
  },
  {
   "cell_type": "markdown",
   "id": "bc5308e7-0025-4865-bb35-f9a008fb95c5",
   "metadata": {},
   "source": [
    "## Plot"
   ]
  },
  {
   "cell_type": "code",
   "execution_count": 69,
   "id": "fef5db5f-2b66-4e5a-9f2c-0c455a0332b1",
   "metadata": {},
   "outputs": [
    {
     "data": {
      "image/png": "[encoded data removed]",
      "text/plain": [
       "<Figure size 300x200 with 1 Axes>"
      ]
     },
     "metadata": {},
     "output_type": "display_data"
    },
    {
     "data": {
      "image/png": "[encoded data removed]",
      "text/plain": [
       "<Figure size 300x400 with 2 Axes>"
      ]
     },
     "metadata": {},
     "output_type": "display_data"
    }
   ],
   "source": [
    "quick_plot_combined(a11_p0015,\n",
    "                    kw_f={'data_list':data_p0015_list},\n",
    "                    kw_r3d={'data_list':data_list_r3d},\n",
    "                    kw_r={'etup':etup11})"
   ]
  },
  {
   "cell_type": "markdown",
   "id": "edc39c06-1628-4483-a8fc-6c34d8fc9469",
   "metadata": {},
   "source": [
    "# del=0.002"
   ]
  },
  {
   "cell_type": "code",
   "execution_count": 70,
   "id": "73a4bd51-1f90-45ee-824c-b6eb379f91e8",
   "metadata": {},
   "outputs": [
    {
     "name": "stdout",
     "output_type": "stream",
     "text": [
      "pfactor 20\n",
      "* Loading p symbolic...\n",
      "* Loading p symbolic...\n",
      "* Loading H symbolic...\n",
      "* Loading H symbolic...\n",
      "* Computing H thal0_35, order=0...\n",
      "* Computing H thal1_35, order=0...\n",
      "* Computing H thal0_35, order=1...\n",
      "* Computing H thal1_35, order=1...\n",
      "* Computing H thal0_35, order=2...\n",
      "* Computing H thal1_35, order=2...\n",
      "* Computing H thal0_35, order=3...\n",
      "* Computing H thal1_35, order=3...\n"
     ]
    },
    {
     "name": "stdout",
     "output_type": "stream",
     "text": [
      "* Computing H thal0_35, order=2...\n"
     ]
    },
    {
     "name": "stdout",
     "output_type": "stream",
     "text": [
      "* Computing H thal1_35, order=2...\n"
     ]
    },
    {
     "name": "stdout",
     "output_type": "stream",
     "text": [
      "* Computing H thal0_35, order=3...\n"
     ]
    },
    {
     "name": "stdout",
     "output_type": "stream",
     "text": [
      "* Computing H thal1_35, order=3...\n"
     ]
    }
   ],
   "source": [
    "del11_p002 = .002\n",
    "a11_p002 = nm.nmCoupling(**kw_nm, del1=del11_p002)"
   ]
  },
  {
   "cell_type": "markdown",
   "id": "0f406e17-f5f8-4d19-b7cd-da0b2317e09c",
   "metadata": {},
   "source": [
    "## Get Branches Full"
   ]
  },
  {
   "cell_type": "code",
   "execution_count": 71,
   "id": "c8afdc5d-356c-4f94-9296-72c7dd1e6d7f",
   "metadata": {},
   "outputs": [],
   "source": [
    "kw_p002 = {'a':a11_p002,'del1':del11_p002,'recompute':False,\n",
    "            'bifdir':'bif1d_thal2/','_full_rhs':_full}"
   ]
  },
  {
   "cell_type": "code",
   "execution_count": 72,
   "id": "33937b4a-6149-4bfa-b6d1-ad7097fd2550",
   "metadata": {},
   "outputs": [],
   "source": [
    "data_p002_list = []"
   ]
  },
  {
   "cell_type": "code",
   "execution_count": 73,
   "id": "6f9cb106-6af6-4a2f-8381-74f67e9ce048",
   "metadata": {},
   "outputs": [],
   "source": [
    "in_dicts = [dict(init=3,eps_init=0.02,eps_final=0.0005,deps=-.0005),\n",
    "               dict(init=3,eps_init=0.02,eps_final=0.0589,deps=.0005),\n",
    "               dict(init=.1,eps_init=0.2,eps_final=0.3,deps=.01),\n",
    "               dict(init=.1,eps_init=0.2,eps_final=0.18,deps=-.005)]"
   ]
  },
  {
   "cell_type": "code",
   "execution_count": 74,
   "id": "85cb4691-4eaf-4b0d-8246-c00bda6ed036",
   "metadata": {
    "scrolled": true
   },
   "outputs": [
    {
     "name": "stdout",
     "output_type": "stream",
     "text": [
      "fname1 td_branch_init=3_nm=11_del=0.002_ei=0.02_ef=0.0005_de=-0.0005.txt\n",
      "fname2 ts_branch_init=3_nm=11_del=0.002_ei=0.02_ef=0.0005_de=-0.0005.txt\n",
      "fname1 td_branch_init=3_nm=11_del=0.002_ei=0.02_ef=0.0589_de=0.0005.txt\n",
      "fname2 ts_branch_init=3_nm=11_del=0.002_ei=0.02_ef=0.0589_de=0.0005.txt\n",
      "fname1 td_branch_init=0.1_nm=11_del=0.002_ei=0.2_ef=0.3_de=0.01.txt\n",
      "fname2 ts_branch_init=0.1_nm=11_del=0.002_ei=0.2_ef=0.3_de=0.01.txt\n",
      "fname1 td_branch_init=0.1_nm=11_del=0.002_ei=0.2_ef=0.18_de=-0.005.txt\n",
      "fname2 ts_branch_init=0.1_nm=11_del=0.002_ei=0.2_ef=0.18_de=-0.005.txt\n"
     ]
    }
   ],
   "source": [
    "for i in range(len(in_dicts)):\n",
    "    in1 = in_dicts[i]\n",
    "    dat = follow_phase_diffs(**in1,**kw_p002)\n",
    "    data_p002_list.append(dat)\n",
    "fname = kw_p002['bifdir']+'hyper_thal2_11_p002.txt'"
   ]
  },
  {
   "cell_type": "code",
   "execution_count": 75,
   "id": "659aed4e-11cf-4590-99be-3952094e0c43",
   "metadata": {},
   "outputs": [],
   "source": [
    "# save hyperparameters\n",
    "hyp_inputs = np.zeros([len(in_dicts),4])\n",
    "for i in range(len(in_dicts)):\n",
    "    hyp_inputs[i,0] = in_dicts[i]['init']\n",
    "    hyp_inputs[i,1] = in_dicts[i]['eps_init']\n",
    "    hyp_inputs[i,2] = in_dicts[i]['eps_final']\n",
    "    hyp_inputs[i,3] = in_dicts[i]['deps']\n",
    "np.savetxt(fname,hyp_inputs)"
   ]
  },
  {
   "cell_type": "markdown",
   "id": "fe89aa12-50b2-4783-940b-2ce63b0941d8",
   "metadata": {},
   "source": [
    "## Plot"
   ]
  },
  {
   "cell_type": "code",
   "execution_count": 76,
   "id": "66afb1db-843b-433d-868d-759d23c08965",
   "metadata": {},
   "outputs": [
    {
     "data": {
      "image/png": "[encoded data removed]",
      "text/plain": [
       "<Figure size 300x200 with 1 Axes>"
      ]
     },
     "metadata": {},
     "output_type": "display_data"
    },
    {
     "data": {
      "image/png": "[encoded data removed]",
      "text/plain": [
       "<Figure size 300x400 with 2 Axes>"
      ]
     },
     "metadata": {},
     "output_type": "display_data"
    }
   ],
   "source": [
    "quick_plot_combined(a11_p002,\n",
    "                    kw_f={'data_list':data_p002_list},\n",
    "                    #kw_r3d={'data_list':data_r3d_p002_list},\n",
    "                    kw_r={'etup':etup11})"
   ]
  },
  {
   "cell_type": "markdown",
   "id": "c88ed530-5e41-4ef4-92b3-be0c5d58f363",
   "metadata": {},
   "source": [
    "# del=0.0025"
   ]
  },
  {
   "cell_type": "code",
   "execution_count": 77,
   "id": "1eb630eb-d5ac-489c-bb44-98a6e1ee35aa",
   "metadata": {
    "scrolled": true
   },
   "outputs": [
    {
     "name": "stdout",
     "output_type": "stream",
     "text": [
      "pfactor 20\n",
      "* Loading p symbolic...\n",
      "* Loading p symbolic...\n",
      "* Loading H symbolic...\n",
      "* Loading H symbolic...\n",
      "* Computing H thal0_35, order=0...\n",
      "* Computing H thal1_35, order=0...\n",
      "* Computing H thal0_35, order=1...\n",
      "* Computing H thal1_35, order=1...\n",
      "* Computing H thal0_35, order=2...\n",
      "* Computing H thal1_35, order=2...\n",
      "* Computing H thal0_35, order=3...\n",
      "* Computing H thal1_35, order=3...\n"
     ]
    },
    {
     "name": "stdout",
     "output_type": "stream",
     "text": [
      "* Computing H thal0_35, order=2...\n"
     ]
    },
    {
     "name": "stdout",
     "output_type": "stream",
     "text": [
      "* Computing H thal1_35, order=2...\n"
     ]
    },
    {
     "name": "stdout",
     "output_type": "stream",
     "text": [
      "* Computing H thal0_35, order=3...\n"
     ]
    },
    {
     "name": "stdout",
     "output_type": "stream",
     "text": [
      "* Computing H thal1_35, order=3...\n"
     ]
    }
   ],
   "source": [
    "del11_p0025 = .0025\n",
    "a11_p0025 = nm.nmCoupling(**kw_nm, del1=del11_p0025)"
   ]
  },
  {
   "cell_type": "markdown",
   "id": "22a1eb6b-16d5-4c4b-b52b-751f98c4e1da",
   "metadata": {},
   "source": [
    "## Get Branches Full"
   ]
  },
  {
   "cell_type": "code",
   "execution_count": 78,
   "id": "e5332664-1d46-4a74-86dd-55e44e982f1c",
   "metadata": {},
   "outputs": [],
   "source": [
    "# kw_p0025 = {'a':a11_p0025,'del1':del11_p0025,'recompute':False,\n",
    "#             'bifdir':'bif1d_thal2/','_full_rhs':_full}"
   ]
  },
  {
   "cell_type": "code",
   "execution_count": 79,
   "id": "d00219cd-7cc7-4c1a-981a-a1a2e9c565e9",
   "metadata": {},
   "outputs": [],
   "source": [
    "# data_p0025_list = []"
   ]
  },
  {
   "cell_type": "code",
   "execution_count": 80,
   "id": "b97f6913-2044-4659-8f2a-3feedf730a40",
   "metadata": {
    "scrolled": true
   },
   "outputs": [],
   "source": [
    "# # mid 1\n",
    "# dat = follow_phase_diffs(init=2,eps_init=0.02,eps_final=0.0005,deps=-.005,**kw_p0025)\n",
    "# data_p0025_list.append(dat)"
   ]
  },
  {
   "cell_type": "code",
   "execution_count": 81,
   "id": "c10d71f2-b24d-4cc8-a91a-e3d6762a2f9f",
   "metadata": {
    "scrolled": true
   },
   "outputs": [],
   "source": [
    "# # mid 2\n",
    "# dat = follow_phase_diffs(init=2,eps_init=0.02,eps_final=0.06,deps=.005,**kw_p0025)\n",
    "# data_p0025_list.append(dat)"
   ]
  },
  {
   "cell_type": "code",
   "execution_count": 82,
   "id": "2759120f-7a61-4cf7-a8c8-aa61d6a1a161",
   "metadata": {
    "scrolled": true
   },
   "outputs": [],
   "source": [
    "# # top 1f\n",
    "# dat = follow_phase_diffs(init=6,eps_init=0.25,eps_final=0.3,deps=.01,**kw_p0025)\n",
    "# data_p0025_list.append(dat)"
   ]
  },
  {
   "cell_type": "code",
   "execution_count": 83,
   "id": "aa245176-19f7-4691-89b5-5a3d27f00aea",
   "metadata": {
    "scrolled": true
   },
   "outputs": [],
   "source": [
    "# # top 1b\n",
    "# dat = follow_phase_diffs(init=6,eps_init=0.25,eps_final=0.2,deps=-.005,**kw_p0025)\n",
    "# data_p0025_list.append(dat)"
   ]
  },
  {
   "cell_type": "code",
   "execution_count": 84,
   "id": "bf54f76b-b923-42e6-9f15-6c84be69fc92",
   "metadata": {
    "scrolled": true
   },
   "outputs": [],
   "source": [
    "# # bot 1f\n",
    "# dat = follow_phase_diffs(init=1,eps_init=0.2,eps_final=0.3,deps=.01,**kw_p0025)\n",
    "# data_p0025_list.append(dat)"
   ]
  },
  {
   "cell_type": "code",
   "execution_count": 85,
   "id": "8117de44-0af3-4ade-ac67-0d83bd423162",
   "metadata": {},
   "outputs": [],
   "source": [
    "# # bot 1b\n",
    "# dat = follow_phase_diffs(init=.5,eps_init=0.2,eps_final=0.18,deps=-.005,**kw_p0025)\n",
    "# data_p0025_list.append(dat)"
   ]
  },
  {
   "cell_type": "markdown",
   "id": "b5a02ffb-64e0-4057-841f-222ac85ff3da",
   "metadata": {},
   "source": [
    "## Plot"
   ]
  },
  {
   "cell_type": "code",
   "execution_count": 86,
   "id": "6e5e8cb4-3a43-44b1-b241-acfb76649433",
   "metadata": {},
   "outputs": [
    {
     "data": {
      "image/png": "[encoded data removed]",
      "text/plain": [
       "<Figure size 300x200 with 1 Axes>"
      ]
     },
     "metadata": {},
     "output_type": "display_data"
    }
   ],
   "source": [
    "quick_plot_combined(a11_p0025,\n",
    "                    #kw_f={'data_list':data_p0025_list},\n",
    "                    #kw_r3d={'data_list':data_r3d_p0025_list},\n",
    "                    kw_r={'etup':etup11})"
   ]
  },
  {
   "cell_type": "markdown",
   "id": "a038bfce-912e-4ab1-8ad6-e044eccda684",
   "metadata": {},
   "source": [
    "# del=0.003"
   ]
  },
  {
   "cell_type": "code",
   "execution_count": 87,
   "id": "53d61cc7-eabb-405e-8948-1a70c5c277d7",
   "metadata": {
    "scrolled": true
   },
   "outputs": [
    {
     "name": "stdout",
     "output_type": "stream",
     "text": [
      "pfactor 20\n",
      "* Loading p symbolic...\n",
      "* Loading p symbolic...\n"
     ]
    },
    {
     "ename": "KeyboardInterrupt",
     "evalue": "",
     "output_type": "error",
     "traceback": [
      "\u001b[1;31m---------------------------------------------------------------------------\u001b[0m",
      "\u001b[1;31mKeyboardInterrupt\u001b[0m                         Traceback (most recent call last)",
      "Cell \u001b[1;32mIn[87], line 2\u001b[0m\n\u001b[0;32m      1\u001b[0m del11_p003 \u001b[38;5;241m=\u001b[39m \u001b[38;5;241m.003\u001b[39m\n\u001b[1;32m----> 2\u001b[0m a11_p003 \u001b[38;5;241m=\u001b[39m nm\u001b[38;5;241m.\u001b[39mnmCoupling(\u001b[38;5;241m*\u001b[39m\u001b[38;5;241m*\u001b[39mkw_nm, del1\u001b[38;5;241m=\u001b[39mdel11_p003)\n",
      "File \u001b[1;32mD:\\Dropbox\\projects\\nm_phase_locking\\code_and_data\\jupyter\\..\\nmCoupling.py:265\u001b[0m, in \u001b[0;36mnmCoupling.__init__\u001b[1;34m(self, system1, system2, NH, trunc_deriv, _n, _m, method, max_n, log_level, log_file, lowdim, save_fig, pfactor, recompute_list, load_only_expansions, del1, iso_mode, p_del)\u001b[0m\n\u001b[0;32m    263\u001b[0m \u001b[38;5;28mself\u001b[39m\u001b[38;5;241m.\u001b[39mforcing \u001b[38;5;241m=\u001b[39m system1\u001b[38;5;241m.\u001b[39mforcing\n\u001b[0;32m    264\u001b[0m \u001b[38;5;28;01mif\u001b[39;00m \u001b[38;5;129;01mnot\u001b[39;00m(\u001b[38;5;28mself\u001b[39m\u001b[38;5;241m.\u001b[39mforcing):\n\u001b[1;32m--> 265\u001b[0m     \u001b[38;5;28;43mself\u001b[39;49m\u001b[38;5;241;43m.\u001b[39;49m\u001b[43m_init_noforce\u001b[49m\u001b[43m(\u001b[49m\u001b[43msystem1\u001b[49m\u001b[43m,\u001b[49m\u001b[43msystem2\u001b[49m\u001b[43m)\u001b[49m\n\u001b[0;32m    267\u001b[0m \u001b[38;5;28;01melse\u001b[39;00m:\n\u001b[0;32m    268\u001b[0m     \u001b[38;5;28mself\u001b[39m\u001b[38;5;241m.\u001b[39m_init_force(system1)\n",
      "File \u001b[1;32mD:\\Dropbox\\projects\\nm_phase_locking\\code_and_data\\jupyter\\..\\nmCoupling.py:373\u001b[0m, in \u001b[0;36mnmCoupling._init_noforce\u001b[1;34m(self, system1, system2)\u001b[0m\n\u001b[0;32m    370\u001b[0m \u001b[38;5;28;01mfor\u001b[39;00m i \u001b[38;5;129;01min\u001b[39;00m \u001b[38;5;28mrange\u001b[39m(system1\u001b[38;5;241m.\u001b[39mmiter):\n\u001b[0;32m    372\u001b[0m     \u001b[38;5;28mself\u001b[39m\u001b[38;5;241m.\u001b[39mload_p(system1,system2,i)\n\u001b[1;32m--> 373\u001b[0m     \u001b[38;5;28;43mself\u001b[39;49m\u001b[38;5;241;43m.\u001b[39;49m\u001b[43mload_p\u001b[49m\u001b[43m(\u001b[49m\u001b[43msystem2\u001b[49m\u001b[43m,\u001b[49m\u001b[43msystem1\u001b[49m\u001b[43m,\u001b[49m\u001b[43mi\u001b[49m\u001b[43m)\u001b[49m\n\u001b[0;32m    376\u001b[0m     \u001b[38;5;28;01mif\u001b[39;00m \u001b[38;5;28mself\u001b[39m\u001b[38;5;241m.\u001b[39mp_del \u001b[38;5;129;01mand\u001b[39;00m i \u001b[38;5;241m<\u001b[39m\u001b[38;5;241m=\u001b[39m \u001b[38;5;241m2\u001b[39m:\n\u001b[0;32m    377\u001b[0m         \u001b[38;5;28mself\u001b[39m\u001b[38;5;241m.\u001b[39mload_p_del(system1,system2,i)\n",
      "File \u001b[1;32mD:\\Dropbox\\projects\\nm_phase_locking\\code_and_data\\jupyter\\..\\nmCoupling.py:878\u001b[0m, in \u001b[0;36mnmCoupling.load_p\u001b[1;34m(self, system1, system2, k)\u001b[0m\n\u001b[0;32m    875\u001b[0m     np\u001b[38;5;241m.\u001b[39msavetxt(system1\u001b[38;5;241m.\u001b[39mp[\u001b[38;5;124m'\u001b[39m\u001b[38;5;124mfnames_data\u001b[39m\u001b[38;5;124m'\u001b[39m][k],p_data)\n\u001b[0;32m    877\u001b[0m \u001b[38;5;28;01melse\u001b[39;00m:\n\u001b[1;32m--> 878\u001b[0m     p_data \u001b[38;5;241m=\u001b[39m \u001b[43mnp\u001b[49m\u001b[38;5;241;43m.\u001b[39;49m\u001b[43mloadtxt\u001b[49m\u001b[43m(\u001b[49m\u001b[43mfname\u001b[49m\u001b[43m)\u001b[49m\n\u001b[0;32m    880\u001b[0m system1\u001b[38;5;241m.\u001b[39mp[\u001b[38;5;124m'\u001b[39m\u001b[38;5;124mdat\u001b[39m\u001b[38;5;124m'\u001b[39m][k] \u001b[38;5;241m=\u001b[39m p_data\n\u001b[0;32m    882\u001b[0m n\u001b[38;5;241m=\u001b[39m\u001b[38;5;28mself\u001b[39m\u001b[38;5;241m.\u001b[39m_n[\u001b[38;5;241m1\u001b[39m];m\u001b[38;5;241m=\u001b[39m\u001b[38;5;28mself\u001b[39m\u001b[38;5;241m.\u001b[39m_m[\u001b[38;5;241m1\u001b[39m]\n",
      "File \u001b[1;32m~\\miniconda3\\envs\\nbody\\lib\\site-packages\\numpy\\lib\\npyio.py:1356\u001b[0m, in \u001b[0;36mloadtxt\u001b[1;34m(fname, dtype, comments, delimiter, converters, skiprows, usecols, unpack, ndmin, encoding, max_rows, quotechar, like)\u001b[0m\n\u001b[0;32m   1353\u001b[0m \u001b[38;5;28;01mif\u001b[39;00m \u001b[38;5;28misinstance\u001b[39m(delimiter, \u001b[38;5;28mbytes\u001b[39m):\n\u001b[0;32m   1354\u001b[0m     delimiter \u001b[38;5;241m=\u001b[39m delimiter\u001b[38;5;241m.\u001b[39mdecode(\u001b[38;5;124m'\u001b[39m\u001b[38;5;124mlatin1\u001b[39m\u001b[38;5;124m'\u001b[39m)\n\u001b[1;32m-> 1356\u001b[0m arr \u001b[38;5;241m=\u001b[39m \u001b[43m_read\u001b[49m\u001b[43m(\u001b[49m\u001b[43mfname\u001b[49m\u001b[43m,\u001b[49m\u001b[43m \u001b[49m\u001b[43mdtype\u001b[49m\u001b[38;5;241;43m=\u001b[39;49m\u001b[43mdtype\u001b[49m\u001b[43m,\u001b[49m\u001b[43m \u001b[49m\u001b[43mcomment\u001b[49m\u001b[38;5;241;43m=\u001b[39;49m\u001b[43mcomment\u001b[49m\u001b[43m,\u001b[49m\u001b[43m \u001b[49m\u001b[43mdelimiter\u001b[49m\u001b[38;5;241;43m=\u001b[39;49m\u001b[43mdelimiter\u001b[49m\u001b[43m,\u001b[49m\n\u001b[0;32m   1357\u001b[0m \u001b[43m            \u001b[49m\u001b[43mconverters\u001b[49m\u001b[38;5;241;43m=\u001b[39;49m\u001b[43mconverters\u001b[49m\u001b[43m,\u001b[49m\u001b[43m \u001b[49m\u001b[43mskiplines\u001b[49m\u001b[38;5;241;43m=\u001b[39;49m\u001b[43mskiprows\u001b[49m\u001b[43m,\u001b[49m\u001b[43m \u001b[49m\u001b[43musecols\u001b[49m\u001b[38;5;241;43m=\u001b[39;49m\u001b[43musecols\u001b[49m\u001b[43m,\u001b[49m\n\u001b[0;32m   1358\u001b[0m \u001b[43m            \u001b[49m\u001b[43munpack\u001b[49m\u001b[38;5;241;43m=\u001b[39;49m\u001b[43munpack\u001b[49m\u001b[43m,\u001b[49m\u001b[43m \u001b[49m\u001b[43mndmin\u001b[49m\u001b[38;5;241;43m=\u001b[39;49m\u001b[43mndmin\u001b[49m\u001b[43m,\u001b[49m\u001b[43m \u001b[49m\u001b[43mencoding\u001b[49m\u001b[38;5;241;43m=\u001b[39;49m\u001b[43mencoding\u001b[49m\u001b[43m,\u001b[49m\n\u001b[0;32m   1359\u001b[0m \u001b[43m            \u001b[49m\u001b[43mmax_rows\u001b[49m\u001b[38;5;241;43m=\u001b[39;49m\u001b[43mmax_rows\u001b[49m\u001b[43m,\u001b[49m\u001b[43m \u001b[49m\u001b[43mquote\u001b[49m\u001b[38;5;241;43m=\u001b[39;49m\u001b[43mquotechar\u001b[49m\u001b[43m)\u001b[49m\n\u001b[0;32m   1361\u001b[0m \u001b[38;5;28;01mreturn\u001b[39;00m arr\n",
      "File \u001b[1;32m~\\miniconda3\\envs\\nbody\\lib\\site-packages\\numpy\\lib\\npyio.py:999\u001b[0m, in \u001b[0;36m_read\u001b[1;34m(fname, delimiter, comment, quote, imaginary_unit, usecols, skiplines, max_rows, converters, ndmin, unpack, dtype, encoding)\u001b[0m\n\u001b[0;32m    996\u001b[0m     data \u001b[38;5;241m=\u001b[39m _preprocess_comments(data, comments, encoding)\n\u001b[0;32m    998\u001b[0m \u001b[38;5;28;01mif\u001b[39;00m read_dtype_via_object_chunks \u001b[38;5;129;01mis\u001b[39;00m \u001b[38;5;28;01mNone\u001b[39;00m:\n\u001b[1;32m--> 999\u001b[0m     arr \u001b[38;5;241m=\u001b[39m \u001b[43m_load_from_filelike\u001b[49m\u001b[43m(\u001b[49m\n\u001b[0;32m   1000\u001b[0m \u001b[43m        \u001b[49m\u001b[43mdata\u001b[49m\u001b[43m,\u001b[49m\u001b[43m \u001b[49m\u001b[43mdelimiter\u001b[49m\u001b[38;5;241;43m=\u001b[39;49m\u001b[43mdelimiter\u001b[49m\u001b[43m,\u001b[49m\u001b[43m \u001b[49m\u001b[43mcomment\u001b[49m\u001b[38;5;241;43m=\u001b[39;49m\u001b[43mcomment\u001b[49m\u001b[43m,\u001b[49m\u001b[43m \u001b[49m\u001b[43mquote\u001b[49m\u001b[38;5;241;43m=\u001b[39;49m\u001b[43mquote\u001b[49m\u001b[43m,\u001b[49m\n\u001b[0;32m   1001\u001b[0m \u001b[43m        \u001b[49m\u001b[43mimaginary_unit\u001b[49m\u001b[38;5;241;43m=\u001b[39;49m\u001b[43mimaginary_unit\u001b[49m\u001b[43m,\u001b[49m\n\u001b[0;32m   1002\u001b[0m \u001b[43m        \u001b[49m\u001b[43musecols\u001b[49m\u001b[38;5;241;43m=\u001b[39;49m\u001b[43musecols\u001b[49m\u001b[43m,\u001b[49m\u001b[43m \u001b[49m\u001b[43mskiplines\u001b[49m\u001b[38;5;241;43m=\u001b[39;49m\u001b[43mskiplines\u001b[49m\u001b[43m,\u001b[49m\u001b[43m \u001b[49m\u001b[43mmax_rows\u001b[49m\u001b[38;5;241;43m=\u001b[39;49m\u001b[43mmax_rows\u001b[49m\u001b[43m,\u001b[49m\n\u001b[0;32m   1003\u001b[0m \u001b[43m        \u001b[49m\u001b[43mconverters\u001b[49m\u001b[38;5;241;43m=\u001b[39;49m\u001b[43mconverters\u001b[49m\u001b[43m,\u001b[49m\u001b[43m \u001b[49m\u001b[43mdtype\u001b[49m\u001b[38;5;241;43m=\u001b[39;49m\u001b[43mdtype\u001b[49m\u001b[43m,\u001b[49m\n\u001b[0;32m   1004\u001b[0m \u001b[43m        \u001b[49m\u001b[43mencoding\u001b[49m\u001b[38;5;241;43m=\u001b[39;49m\u001b[43mencoding\u001b[49m\u001b[43m,\u001b[49m\u001b[43m \u001b[49m\u001b[43mfilelike\u001b[49m\u001b[38;5;241;43m=\u001b[39;49m\u001b[43mfilelike\u001b[49m\u001b[43m,\u001b[49m\n\u001b[0;32m   1005\u001b[0m \u001b[43m        \u001b[49m\u001b[43mbyte_converters\u001b[49m\u001b[38;5;241;43m=\u001b[39;49m\u001b[43mbyte_converters\u001b[49m\u001b[43m)\u001b[49m\n\u001b[0;32m   1007\u001b[0m \u001b[38;5;28;01melse\u001b[39;00m:\n\u001b[0;32m   1008\u001b[0m     \u001b[38;5;66;03m# This branch reads the file into chunks of object arrays and then\u001b[39;00m\n\u001b[0;32m   1009\u001b[0m     \u001b[38;5;66;03m# casts them to the desired actual dtype.  This ensures correct\u001b[39;00m\n\u001b[0;32m   1010\u001b[0m     \u001b[38;5;66;03m# string-length and datetime-unit discovery (like `arr.astype()`).\u001b[39;00m\n\u001b[0;32m   1011\u001b[0m     \u001b[38;5;66;03m# Due to chunking, certain error reports are less clear, currently.\u001b[39;00m\n\u001b[0;32m   1012\u001b[0m     \u001b[38;5;28;01mif\u001b[39;00m filelike:\n",
      "File \u001b[1;32m~\\miniconda3\\envs\\nbody\\lib\\encodings\\cp1252.py:22\u001b[0m, in \u001b[0;36mIncrementalDecoder.decode\u001b[1;34m(self, input, final)\u001b[0m\n\u001b[0;32m     21\u001b[0m \u001b[38;5;28;01mclass\u001b[39;00m \u001b[38;5;21;01mIncrementalDecoder\u001b[39;00m(codecs\u001b[38;5;241m.\u001b[39mIncrementalDecoder):\n\u001b[1;32m---> 22\u001b[0m     \u001b[38;5;28;01mdef\u001b[39;00m \u001b[38;5;21mdecode\u001b[39m(\u001b[38;5;28mself\u001b[39m, \u001b[38;5;28minput\u001b[39m, final\u001b[38;5;241m=\u001b[39m\u001b[38;5;28;01mFalse\u001b[39;00m):\n\u001b[0;32m     23\u001b[0m         \u001b[38;5;28;01mreturn\u001b[39;00m codecs\u001b[38;5;241m.\u001b[39mcharmap_decode(\u001b[38;5;28minput\u001b[39m,\u001b[38;5;28mself\u001b[39m\u001b[38;5;241m.\u001b[39merrors,decoding_table)[\u001b[38;5;241m0\u001b[39m]\n",
      "\u001b[1;31mKeyboardInterrupt\u001b[0m: "
     ]
    },
    {
     "name": "stdout",
     "output_type": "stream",
     "text": [
      "* Computing H thal0_35, order=2...\n"
     ]
    },
    {
     "name": "stdout",
     "output_type": "stream",
     "text": [
      "* Computing H thal1_35, order=2...\n"
     ]
    },
    {
     "name": "stdout",
     "output_type": "stream",
     "text": [
      "* Computing H thal0_35, order=3...\n"
     ]
    },
    {
     "name": "stdout",
     "output_type": "stream",
     "text": [
      "* Computing H thal1_35, order=3...\n"
     ]
    }
   ],
   "source": [
    "# del11_p003 = .003\n",
    "# a11_p003 = nm.nmCoupling(**kw_nm, del1=del11_p003)"
   ]
  },
  {
   "cell_type": "markdown",
   "id": "19917fda-2ed2-4b25-9710-73a22d9a4205",
   "metadata": {},
   "source": [
    "## Get Branches Full"
   ]
  },
  {
   "cell_type": "code",
   "execution_count": null,
   "id": "6d2c3da0-2399-4c78-8994-a121dd9aa1fe",
   "metadata": {},
   "outputs": [],
   "source": [
    "# kw_p003 = {'a':a11_p003,'del1':del11_p003,'recompute':False,\n",
    "#             'bifdir':'bif1d_thal2/','_full_rhs':_full}"
   ]
  },
  {
   "cell_type": "code",
   "execution_count": null,
   "id": "f6fb6e09-be71-4807-aa9c-5709bb698c99",
   "metadata": {},
   "outputs": [],
   "source": [
    "# data_p003_list = []"
   ]
  },
  {
   "cell_type": "code",
   "execution_count": null,
   "id": "16bb375f-f868-47f1-adac-d1504f1a4a2b",
   "metadata": {
    "scrolled": true
   },
   "outputs": [],
   "source": [
    "# # mid 1\n",
    "# dat = follow_phase_diffs(init=3,eps_init=0.01,eps_final=0.0005,deps=-.0005,**kw_p003)\n",
    "# data_p003_list.append(dat)"
   ]
  },
  {
   "cell_type": "code",
   "execution_count": null,
   "id": "adbb6d54-2a87-4189-bdd7-cb29f29a69d2",
   "metadata": {
    "scrolled": true
   },
   "outputs": [],
   "source": [
    "# # mid 2\n",
    "# dat = follow_phase_diffs(init=3,eps_init=0.02,eps_final=0.0589,deps=.0005,**kw_p003)\n",
    "# data_p003_list.append(dat)"
   ]
  },
  {
   "cell_type": "code",
   "execution_count": null,
   "id": "d7ee29f2-fbe0-4ef4-88c0-5d6c0f04f0e2",
   "metadata": {
    "scrolled": true
   },
   "outputs": [],
   "source": [
    "# # top 1f\n",
    "# dat = follow_phase_diffs(init=.1,eps_init=0.2,eps_final=0.3,deps=.01,**kw_p003)\n",
    "# data_p003_list.append(dat)"
   ]
  },
  {
   "cell_type": "code",
   "execution_count": null,
   "id": "c0eedfab-5e57-475c-93f0-1e59b772b3af",
   "metadata": {
    "scrolled": true
   },
   "outputs": [],
   "source": [
    "# # top 1b\n",
    "# dat = follow_phase_diffs(init=.1,eps_init=0.2,eps_final=0.18,deps=-.005,**kw_p003)\n",
    "# data_p003_list.append(dat)"
   ]
  },
  {
   "cell_type": "code",
   "execution_count": null,
   "id": "b56709e0-60d1-4ab8-8d5c-c96cc5c273ac",
   "metadata": {
    "scrolled": true
   },
   "outputs": [],
   "source": [
    "# # bot 1f\n",
    "# dat = follow_phase_diffs(init=1,eps_init=0.2,eps_final=0.3,deps=.01,**kw_p003)\n",
    "# data_p003_list.append(dat)"
   ]
  },
  {
   "cell_type": "code",
   "execution_count": null,
   "id": "0798492e-7246-48e8-b26b-9253e1a70fa2",
   "metadata": {},
   "outputs": [],
   "source": [
    "# # bot 1b\n",
    "# dat = follow_phase_diffs(init=.5,eps_init=0.2,eps_final=0.18,deps=-.005,**kw_p003)\n",
    "# data_p003_list.append(dat)"
   ]
  },
  {
   "cell_type": "markdown",
   "id": "81f3086c-f69e-4f56-9f91-f35db665d1f7",
   "metadata": {},
   "source": [
    "## Plot"
   ]
  },
  {
   "cell_type": "code",
   "execution_count": null,
   "id": "15f28696-4911-4b92-92e8-3e7aa936517b",
   "metadata": {},
   "outputs": [],
   "source": [
    "# quick_plot_combined(a11_p003,\n",
    "#                     #kw_f={'data_list':data_p003_list},\n",
    "#                     #kw_r3d={'data_list':data_r3d_p003_list},\n",
    "#                     kw_r={'etup':etup11})"
   ]
  },
  {
   "cell_type": "markdown",
   "id": "89b3f363-2345-4995-b8c6-971856740296",
   "metadata": {},
   "source": [
    "# del=0.005"
   ]
  },
  {
   "cell_type": "code",
   "execution_count": null,
   "id": "aed60bac-0126-4136-a698-5341198496ed",
   "metadata": {},
   "outputs": [],
   "source": [
    "# del11_p005 = .005\n",
    "# a11_p005 = nm.nmCoupling(system1,system2,\n",
    "#                     #recompute_list=['p_data_gw0','p_data_gw1','h_data_gw0','h_data_gw1'],\n",
    "#                     #recompute_list=['h_data_gw0','h_data_gw1'],\n",
    "#                     #recompute_list=recompute_list,\n",
    "#                     _n=('om0',1),_m=('om1',1),\n",
    "#                     NH=1500,\n",
    "#                     save_fig=False,\n",
    "#                     del1=del11_p005)"
   ]
  },
  {
   "cell_type": "markdown",
   "id": "0707d32e-425a-4f29-9368-a19f980f9e97",
   "metadata": {},
   "source": [
    "## Get Branches Full"
   ]
  },
  {
   "cell_type": "code",
   "execution_count": null,
   "id": "0b85225d-fddf-4ae4-be3d-851dc08ff290",
   "metadata": {},
   "outputs": [],
   "source": [
    "# kw_p005 = {'a':a11_p005,'del1':del11_p005,\n",
    "#             'bifdir':'bif1d_thal2/','_full_rhs':_full}"
   ]
  },
  {
   "cell_type": "code",
   "execution_count": null,
   "id": "0bb8f3d7-339e-467d-98a1-b0cd8ae4b1a9",
   "metadata": {},
   "outputs": [],
   "source": [
    "# data_p005_list = []"
   ]
  },
  {
   "cell_type": "code",
   "execution_count": null,
   "id": "3bf11495-2ff8-47c3-9ff4-33fce251fa9a",
   "metadata": {
    "scrolled": true
   },
   "outputs": [],
   "source": [
    "# # mid 1\n",
    "# dat = follow_phase_diffs(init=3,eps_init=0.02,eps_final=0.0005,deps=-.0005,**kw_p005)\n",
    "# data_p005_list.append(dat)"
   ]
  },
  {
   "cell_type": "code",
   "execution_count": null,
   "id": "308a44e4-b321-41de-babf-d9c54d8e33e0",
   "metadata": {
    "scrolled": true
   },
   "outputs": [],
   "source": [
    "# # mid 2\n",
    "# dat = follow_phase_diffs(init=3,eps_init=0.02,eps_final=0.1,deps=.0005,**kw_p005)\n",
    "# data_p005_list.append(dat)"
   ]
  },
  {
   "cell_type": "code",
   "execution_count": null,
   "id": "1b88f04d-c0b3-463c-897e-72f3811e07b7",
   "metadata": {
    "scrolled": true
   },
   "outputs": [],
   "source": [
    "# # bot 1\n",
    "# dat = follow_phase_diffs(init=.1,eps_init=0.005,eps_final=0.0005,deps=-.0005,**kw_p005)\n",
    "# data_p005_list.append(dat)"
   ]
  },
  {
   "cell_type": "code",
   "execution_count": null,
   "id": "fb3d1aa6-113f-4ed8-a1da-2685851cdfe3",
   "metadata": {
    "scrolled": true
   },
   "outputs": [],
   "source": [
    "# # bot 2\n",
    "# dat = follow_phase_diffs(init=.1,eps_init=0.005,eps_final=0.1,deps=.0005,**kw_p005)\n",
    "# data_p005_list.append(dat)"
   ]
  },
  {
   "cell_type": "markdown",
   "id": "ef872563-7732-4786-bd22-e44ee20e39d5",
   "metadata": {},
   "source": [
    "## Plot"
   ]
  },
  {
   "cell_type": "code",
   "execution_count": null,
   "id": "4e069cd0-4c54-492b-8f00-af695e6779b0",
   "metadata": {},
   "outputs": [],
   "source": [
    "# quick_plot_combined(a11_p005,\n",
    "#                     #kw_f={'data_list':data_p005_list},\n",
    "#                     #kw_r3d={'data_list':data_r3d_p005_list},\n",
    "#                     kw_r={'etup':etup11})"
   ]
  }
 ],
 "metadata": {
  "jpcodetoc-autonumbering": false,
  "kernelspec": {
   "display_name": "Python 3 (ipykernel)",
   "language": "python",
   "name": "python3"
  },
  "language_info": {
   "codemirror_mode": {
    "name": "ipython",
    "version": 3
   },
   "file_extension": ".py",
   "mimetype": "text/x-python",
   "name": "python",
   "nbconvert_exporter": "python",
   "pygments_lexer": "ipython3",
   "version": "3.10.14"
  }
 },
 "nbformat": 4,
 "nbformat_minor": 5
}
