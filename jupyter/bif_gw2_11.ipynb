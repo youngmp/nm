{
 "cells": [
  {
   "cell_type": "markdown",
   "id": "ff90a39b-e0db-4e1f-9695-8a7833adcc09",
   "metadata": {},
   "source": [
    "# gw2 1:1 Bifurcation Diagrams"
   ]
  },
  {
   "cell_type": "markdown",
   "id": "fdccec32-d0e4-4232-8417-40e5796cbcf8",
   "metadata": {},
   "source": [
    "# Inits"
   ]
  },
  {
   "cell_type": "code",
   "execution_count": 1,
   "id": "77a223ba-9eaa-4986-abd1-d82273741aaa",
   "metadata": {},
   "outputs": [],
   "source": [
    "import sys; sys.path.insert(0, '..') # add parent folder path where lib folder is\n",
    "# user-defined\n",
    "import nmCoupling as nm\n",
    "# import nmCoupling_old as nm\n",
    "import response as rp\n",
    "\n",
    "import gw2\n",
    "\n",
    "from lib.util import (get_phase, freq_est, get_tongue_1d, pl_exist_1d, get_period, bif1d, follow_phase_diffs, phase_lock_r3d, follow_locking_3d)\n",
    "\n",
    "from lib.rhs import _redu_c, _full\n",
    "from lib.plot_util import (add_diagram_1d_scatter, quick_plot_combined)\n",
    "\n",
    "from generate_figures import _redu_3dc_gw as _redu_3dc\n",
    "\n",
    "import numpy as np\n",
    "import scipy as sp\n",
    "import matplotlib.pyplot as plt\n",
    "from scipy.integrate import solve_ivp\n",
    "import sympy as sym\n",
    "\n",
    "from scipy.optimize import root,bisect\n",
    "from copy import deepcopy\n",
    "import os\n",
    "\n",
    "plt.rcParams.update({\n",
    "    \"text.usetex\": True,\n",
    "    \"font.family\": \"Helvetica\"\n",
    "})\n",
    "\n",
    "nmc = nm.nmCoupling\n",
    "rsp = rp.Response"
   ]
  },
  {
   "cell_type": "markdown",
   "id": "9425a001-9dae-43cf-be95-5839dbc4204d",
   "metadata": {},
   "source": [
    "## Dicts"
   ]
  },
  {
   "cell_type": "code",
   "execution_count": 2,
   "id": "6b1a0035-5be1-4e59-a8fa-f210b2c553dc",
   "metadata": {},
   "outputs": [],
   "source": [
    "kw_sim = {'rtol':1e-8,'atol':1e-8,'method':'LSODA'}"
   ]
  },
  {
   "cell_type": "code",
   "execution_count": 3,
   "id": "0e2f17bf-f904-4ff6-95e7-87007304ef7a",
   "metadata": {},
   "outputs": [],
   "source": [
    "pd1 = {'v1':.84,'v2':.42,'v4':.35,'v6':.35,'v8':1,\n",
    "           'k1':1,'k2':1,'k3':.7,'k4':1,'k5':.7,\n",
    "           'k6':1,'k7':.35,'k8':1,'K':0.5,'kc':1,\n",
    "           'n':6,'L':0,'del':0,'om':1,'om_fix':1}"
   ]
  },
  {
   "cell_type": "code",
   "execution_count": 4,
   "id": "ae429e39-ae4b-485e-b33d-ac0dee07b455",
   "metadata": {
    "editable": true,
    "slideshow": {
     "slide_type": ""
    },
    "tags": []
   },
   "outputs": [],
   "source": [
    "kws1 = {'var_names':['x','y','z','v'],\n",
    "        'pardict':pd1,\n",
    "        'rhs':gw2.rhs,\n",
    "        'coupling':gw2.coupling,\n",
    "        'init':np.array([.3882,.523,1.357,.4347,24.2]),\n",
    "        'TN':10000,\n",
    "        'trunc_order':3,\n",
    "        'z_forward':False,\n",
    "        'i_forward':[False,True,False,False,False,False],\n",
    "        'i_bad_dx':[False,True,False,False,False,False],\n",
    "        'max_iter':50,\n",
    "        'rtol':1e-12,\n",
    "        'atol':1e-12,\n",
    "        'rel_tol':1e-9,\n",
    "        'save_fig':False,\n",
    "        'lc_prominence':.05,\n",
    "        'factor':0.5}"
   ]
  },
  {
   "cell_type": "markdown",
   "id": "8dc64efb-f56c-4b5b-87b9-e499901bd846",
   "metadata": {},
   "source": [
    "## Defs"
   ]
  },
  {
   "cell_type": "code",
   "execution_count": 5,
   "id": "b3f30c35-694d-45a3-990e-cd1dde33c354",
   "metadata": {},
   "outputs": [],
   "source": [
    "kw_bif = {'method':'LSODA','dense_output':True,'rtol':1e-9,'atol':1e-9}"
   ]
  },
  {
   "cell_type": "code",
   "execution_count": 6,
   "id": "bc3ba614-9570-4545-ab84-18a81ba451ea",
   "metadata": {},
   "outputs": [],
   "source": [
    "eps_list11r = np.linspace(0.001,.1,50)\n",
    "etup11 = (.001,.1,50)"
   ]
  },
  {
   "cell_type": "code",
   "execution_count": 7,
   "id": "b146854f-f10f-4148-8b6b-7eb9eedce457",
   "metadata": {
    "editable": true,
    "slideshow": {
     "slide_type": ""
    },
    "tags": []
   },
   "outputs": [],
   "source": [
    "x_temp = np.linspace(-np.pi,3*np.pi,500)"
   ]
  },
  {
   "cell_type": "markdown",
   "id": "14505b64-ae3d-4f74-aaac-13de7c6a63e8",
   "metadata": {},
   "source": [
    "## Initialize Response Functions"
   ]
  },
  {
   "cell_type": "code",
   "execution_count": 8,
   "id": "c26af2d2-6124-4421-b0be-b28a9d2ed6e1",
   "metadata": {
    "editable": true,
    "slideshow": {
     "slide_type": ""
    },
    "tags": []
   },
   "outputs": [
    {
     "name": "stdout",
     "output_type": "stream",
     "text": [
      "mkdir ./data/gw0/\n",
      "* Loading LC data...\n",
      "self.T 6.283185307179586 omfix 3.8590183230656914\n",
      "* Loading monodromy...\n",
      "* Floquet Exponent kappa =-0.15846659975489297\n",
      "* Loading g symbolic...\n",
      "* Computing g...\n",
      "* Loading heterogeneous terms...\n",
      "* Computing z...\n",
      "* Computing i...\n",
      "mkdir ./data/gw1/\n",
      "* Loading LC data...\n",
      "self.T 6.283185307179586 omfix 3.8590183230656914\n",
      "* Loading monodromy...\n",
      "* Floquet Exponent kappa =-0.15846659975489297\n",
      "* Loading g symbolic...\n",
      "* Computing g...\n",
      "* Loading heterogeneous terms...\n",
      "* Computing z...\n",
      "* Computing i...\n"
     ]
    },
    {
     "name": "stdout",
     "output_type": "stream",
     "text": [
      "* Computing i...\n"
     ]
    }
   ],
   "source": [
    "system1 = rsp(idx=0,model_name='gw0',**kws1)\n",
    "system2 = rsp(idx=1,model_name='gw1',**kws1)"
   ]
  },
  {
   "cell_type": "code",
   "execution_count": 9,
   "id": "6fd62595-7985-4cae-a5ca-a98dd3550254",
   "metadata": {},
   "outputs": [],
   "source": [
    "kw_nm = {'system1':system1,'system2':system2,'_n':('om0',1),'_m':('om1',1),\n",
    "        'NH':1024,'save_fig':False}"
   ]
  },
  {
   "cell_type": "markdown",
   "id": "dd93fa11-c779-46d7-aa42-f378a6fed348",
   "metadata": {},
   "source": [
    "# del=0.0"
   ]
  },
  {
   "cell_type": "code",
   "execution_count": 10,
   "id": "24d169c0-03e6-4727-8621-6cc80845c0b0",
   "metadata": {
    "editable": true,
    "slideshow": {
     "slide_type": ""
    },
    "tags": []
   },
   "outputs": [
    {
     "name": "stdout",
     "output_type": "stream",
     "text": [
      "pfactor 4\n",
      "* Loading p symbolic...\n",
      "* Loading p symbolic...\n",
      "* Loading H symbolic...\n",
      "* Loading H symbolic...\n",
      "* Loading H gw0, order=0...\n",
      "* Loading H gw1, order=0...\n",
      "* Loading H gw0, order=1...\n",
      "* Loading H gw1, order=1...\n",
      "* Loading H gw0, order=2...\n",
      "* Loading H gw1, order=2...\n",
      "* Loading H gw0, order=3...\n",
      "* Loading H gw1, order=3...\n"
     ]
    }
   ],
   "source": [
    "del11_p0 = 0\n",
    "a11_p0 = nm.nmCoupling(**kw_nm, del1=del11_p0)"
   ]
  },
  {
   "cell_type": "markdown",
   "id": "8dee4f0d-d1cc-436c-a420-01fbbd421edf",
   "metadata": {},
   "source": [
    "## Get Branches Full"
   ]
  },
  {
   "cell_type": "code",
   "execution_count": 11,
   "id": "98a5dac5-1b35-4591-a827-9a7d51281265",
   "metadata": {},
   "outputs": [],
   "source": [
    "kw_p0 = {'a':a11_p0,'del1':del11_p0,'recompute':False,\n",
    "        'bifdir':'bif1d_gw2/','_full_rhs':_full}"
   ]
  },
  {
   "cell_type": "code",
   "execution_count": 12,
   "id": "a18cb49a-cdb8-4e7b-9e93-bdb617c2b540",
   "metadata": {},
   "outputs": [],
   "source": [
    "data_p0_list = []"
   ]
  },
  {
   "cell_type": "code",
   "execution_count": 13,
   "id": "8f9ec5ce-c505-4e17-9aed-497ab0a3fb8a",
   "metadata": {},
   "outputs": [],
   "source": [
    "in_dicts_p0 = [dict(init=3,eps_init=0.02,eps_final=0.11,deps=.01),\n",
    "               dict(init=2.5,eps_init=0.02,eps_final=0.0005,deps=-.001)]"
   ]
  },
  {
   "cell_type": "code",
   "execution_count": 14,
   "id": "373c29f1-1975-4298-94c6-55386645ea56",
   "metadata": {},
   "outputs": [
    {
     "name": "stdout",
     "output_type": "stream",
     "text": [
      "fname1 td_branch_init=3_nm=11_del=0_ei=0.02_ef=0.11_de=0.01.txt\n",
      "fname2 ts_branch_init=3_nm=11_del=0_ei=0.02_ef=0.11_de=0.01.txt\n",
      "fname1 td_branch_init=2.5_nm=11_del=0_ei=0.02_ef=0.0005_de=-0.001.txt\n",
      "fname2 ts_branch_init=2.5_nm=11_del=0_ei=0.02_ef=0.0005_de=-0.001.txt\n"
     ]
    }
   ],
   "source": [
    "for i in range(len(in_dicts_p0)):\n",
    "    in1 = in_dicts_p0[i]\n",
    "    dat = follow_phase_diffs(**in1,**kw_p0)\n",
    "    data_p0_list.append(dat)"
   ]
  },
  {
   "cell_type": "code",
   "execution_count": 15,
   "id": "691c9a2f-ad15-459b-b885-f135773d5a26",
   "metadata": {},
   "outputs": [],
   "source": [
    "# save hyperparameters\n",
    "fname = kw_p0['bifdir']+'hyper_gw2_11_p0.txt'\n",
    "hyp_inputs = np.zeros([len(in_dicts_p0),4])\n",
    "for i in range(len(in_dicts_p0)):\n",
    "    hyp_inputs[i,0] = in_dicts_p0[i]['init']\n",
    "    hyp_inputs[i,1] = in_dicts_p0[i]['eps_init']\n",
    "    hyp_inputs[i,2] = in_dicts_p0[i]['eps_final']\n",
    "    hyp_inputs[i,3] = in_dicts_p0[i]['deps']\n",
    "np.savetxt(fname,hyp_inputs)"
   ]
  },
  {
   "cell_type": "markdown",
   "id": "25205784-5f59-4e5c-ba48-66f4a55dbb3d",
   "metadata": {},
   "source": [
    "## Get Branches 3D"
   ]
  },
  {
   "cell_type": "code",
   "execution_count": 16,
   "id": "ac9c48cf-dda6-4e8c-8741-62b4c08801b7",
   "metadata": {},
   "outputs": [],
   "source": [
    "data_r3d_p0_list = []"
   ]
  },
  {
   "cell_type": "code",
   "execution_count": 17,
   "id": "a9a39f32-c063-4b7c-897e-4dfb4743b706",
   "metadata": {
    "scrolled": true
   },
   "outputs": [
    {
     "name": "stdout",
     "output_type": "stream",
     "text": [
      "t_diff 8.860219080141691e-16Y=[8.86021908e-16 1.02477127e-01 1.02477127e-01]                                              \n",
      "[0.     0.1025 0.1025]\n"
     ]
    }
   ],
   "source": [
    "# find init for this branch\n",
    "_,init = phase_lock_r3d([.1,0,0],a11_p0,.05,_redu_3dc)\n",
    "print(init)"
   ]
  },
  {
   "cell_type": "code",
   "execution_count": 18,
   "id": "096a2dfc-b5ab-4633-9736-f330c3f73891",
   "metadata": {
    "scrolled": true
   },
   "outputs": [],
   "source": [
    "# bot 1f\n",
    "dat = follow_locking_3d(init,a11_p0,(.05,.11,.01),\n",
    "                        rhs=_redu_3dc,recompute=False)\n",
    "data_r3d_p0_list.append(dat)"
   ]
  },
  {
   "cell_type": "code",
   "execution_count": 19,
   "id": "e06f2c6e-4a4b-4eff-905e-01130359f1ad",
   "metadata": {
    "scrolled": true
   },
   "outputs": [],
   "source": [
    "# bot 1b\n",
    "dat = follow_locking_3d(init,a11_p0,(.05,.001,-.005),\n",
    "                        rhs=_redu_3dc,recompute=False)\n",
    "data_r3d_p0_list.append(dat)"
   ]
  },
  {
   "cell_type": "markdown",
   "id": "aa739ad0-0185-4f97-9d3a-7867421c5c48",
   "metadata": {},
   "source": [
    "## Plot"
   ]
  },
  {
   "cell_type": "code",
   "execution_count": 20,
   "id": "573dc664-d433-47a1-bf4b-bbd0b46e80f9",
   "metadata": {},
   "outputs": [
    {
     "data": {
      "image/png": "[encoded data removed]",
      "text/plain": [
       "<Figure size 300x200 with 1 Axes>"
      ]
     },
     "metadata": {},
     "output_type": "display_data"
    },
    {
     "data": {
      "image/png": "[encoded data removed]",
      "text/plain": [
       "<Figure size 300x400 with 2 Axes>"
      ]
     },
     "metadata": {},
     "output_type": "display_data"
    }
   ],
   "source": [
    "quick_plot_combined(a11_p0,\n",
    "                    kw_f={'data_list':data_p0_list},\n",
    "                    kw_r3d={'data_list':data_r3d_p0_list},\n",
    "                    kw_r={'etup':etup11})"
   ]
  },
  {
   "cell_type": "markdown",
   "id": "94e0e8f4-e1f3-463b-9296-787a1ffad76f",
   "metadata": {},
   "source": [
    "# del=0.01"
   ]
  },
  {
   "cell_type": "code",
   "execution_count": 21,
   "id": "5a05ef3d-94e6-458c-b343-0b18b0387a4f",
   "metadata": {
    "editable": true,
    "slideshow": {
     "slide_type": ""
    },
    "tags": []
   },
   "outputs": [
    {
     "name": "stdout",
     "output_type": "stream",
     "text": [
      "pfactor 4\n",
      "* Loading p symbolic...\n",
      "* Loading p symbolic...\n",
      "* Loading H symbolic...\n",
      "* Loading H symbolic...\n",
      "* Loading H gw0, order=0...\n",
      "* Loading H gw1, order=0...\n",
      "* Loading H gw0, order=1...\n",
      "* Loading H gw1, order=1...\n",
      "* Loading H gw0, order=2...\n",
      "* Loading H gw1, order=2...\n",
      "* Loading H gw0, order=3...\n",
      "* Loading H gw1, order=3...\n"
     ]
    },
    {
     "name": "stdout",
     "output_type": "stream",
     "text": [
      "p order=1\n"
     ]
    },
    {
     "name": "stdout",
     "output_type": "stream",
     "text": [
      "p order=2\n"
     ]
    },
    {
     "name": "stdout",
     "output_type": "stream",
     "text": [
      "p order=2\n"
     ]
    },
    {
     "name": "stdout",
     "output_type": "stream",
     "text": [
      "p order=3\n"
     ]
    },
    {
     "name": "stdout",
     "output_type": "stream",
     "text": [
      "p order=3\n"
     ]
    },
    {
     "name": "stdout",
     "output_type": "stream",
     "text": [
      "* Loading H symbolic...\n",
      "* Loading H symbolic...\n",
      "* Computing H gw0, order=0...\n"
     ]
    },
    {
     "name": "stdout",
     "output_type": "stream",
     "text": [
      "* Computing H gw1, order=0...\n",
      "* Computing H gw0, order=1...\n"
     ]
    },
    {
     "name": "stdout",
     "output_type": "stream",
     "text": [
      "* Computing H gw1, order=1...\n"
     ]
    },
    {
     "name": "stdout",
     "output_type": "stream",
     "text": [
      "* Computing H gw0, order=2...\n"
     ]
    },
    {
     "name": "stdout",
     "output_type": "stream",
     "text": [
      "* Computing H gw1, order=2...\n"
     ]
    },
    {
     "name": "stdout",
     "output_type": "stream",
     "text": [
      "* Computing H gw0, order=3...\n"
     ]
    },
    {
     "name": "stdout",
     "output_type": "stream",
     "text": [
      "* Computing H gw1, order=3...\n"
     ]
    }
   ],
   "source": [
    "del11_p01 = 0.01\n",
    "a11_p01 = nm.nmCoupling(**kw_nm, del1=del11_p01)"
   ]
  },
  {
   "cell_type": "markdown",
   "id": "1fc625d2-0ad6-4b0a-a7cb-4aa13aee16bc",
   "metadata": {},
   "source": [
    "## Get Branches Full"
   ]
  },
  {
   "cell_type": "code",
   "execution_count": 22,
   "id": "bc18300e-2b1f-49ff-8667-142cffe8d7ee",
   "metadata": {},
   "outputs": [],
   "source": [
    "kw_p01 = {'a':a11_p01,'del1':del11_p01,'recompute':False,\n",
    "        'bifdir':'bif1d_gw2/','_full_rhs':_full}"
   ]
  },
  {
   "cell_type": "code",
   "execution_count": 23,
   "id": "282d75fe-2813-4c4f-8070-8f41769a925f",
   "metadata": {},
   "outputs": [],
   "source": [
    "data_p01_list = []"
   ]
  },
  {
   "cell_type": "code",
   "execution_count": 24,
   "id": "65dfd26e-2c6e-49af-bdc8-d1d8f5f8a16a",
   "metadata": {},
   "outputs": [],
   "source": [
    "in_dicts_p01 = [dict(init=3,eps_init=0.02,eps_final=0.11,deps=.01),\n",
    "                dict(init=3,eps_init=0.02,eps_final=0.0005,deps=-.001)]"
   ]
  },
  {
   "cell_type": "code",
   "execution_count": 25,
   "id": "36e70b48-091b-407e-9adc-b09ba62b11c1",
   "metadata": {},
   "outputs": [
    {
     "name": "stdout",
     "output_type": "stream",
     "text": [
      "fname1 td_branch_init=3_nm=11_del=0.01_ei=0.02_ef=0.11_de=0.01.txt\n",
      "fname2 ts_branch_init=3_nm=11_del=0.01_ei=0.02_ef=0.11_de=0.01.txt\n",
      "fname1 td_branch_init=3_nm=11_del=0.01_ei=0.02_ef=0.0005_de=-0.001.txt\n",
      "fname2 ts_branch_init=3_nm=11_del=0.01_ei=0.02_ef=0.0005_de=-0.001.txt\n"
     ]
    }
   ],
   "source": [
    "for i in range(len(in_dicts_p01)):\n",
    "    in1 = in_dicts_p01[i]\n",
    "    dat = follow_phase_diffs(**in1,**kw_p01)\n",
    "    data_p01_list.append(dat)"
   ]
  },
  {
   "cell_type": "code",
   "execution_count": 26,
   "id": "00f8ec52-38ce-442d-b8b3-5cac540b488a",
   "metadata": {},
   "outputs": [],
   "source": [
    "# save hyperparameters\n",
    "fname = kw_p01['bifdir']+'hyper_gw2_11_p01.txt'\n",
    "hyp_inputs = np.zeros([len(in_dicts_p01),4])\n",
    "for i in range(len(in_dicts_p01)):\n",
    "    hyp_inputs[i,0] = in_dicts_p01[i]['init']\n",
    "    hyp_inputs[i,1] = in_dicts_p01[i]['eps_init']\n",
    "    hyp_inputs[i,2] = in_dicts_p01[i]['eps_final']\n",
    "    hyp_inputs[i,3] = in_dicts_p01[i]['deps']\n",
    "np.savetxt(fname,hyp_inputs)"
   ]
  },
  {
   "cell_type": "markdown",
   "id": "18ed36c3-84fa-402a-9b7d-af626b4cdb66",
   "metadata": {},
   "source": [
    "## Get Branches 3D"
   ]
  },
  {
   "cell_type": "code",
   "execution_count": 27,
   "id": "d689e2b1-7969-4c63-abc7-153fee895bff",
   "metadata": {},
   "outputs": [],
   "source": [
    "data_r3d_p01_list = []"
   ]
  },
  {
   "cell_type": "code",
   "execution_count": 28,
   "id": "d60de990-bf4b-41b6-bc94-94b0d9a614a0",
   "metadata": {
    "scrolled": true
   },
   "outputs": [
    {
     "name": "stdout",
     "output_type": "stream",
     "text": [
      "t_diff 0.50094164322251542, Y=[0.50094164 0.01127899 0.0840676 ]                                              \n",
      "[0.5009 0.0113 0.0841]\n"
     ]
    }
   ],
   "source": [
    "# find init for this branch\n",
    "_,init = phase_lock_r3d([1,0,0],a11_p01,.05,_redu_3dc)\n",
    "print(init)"
   ]
  },
  {
   "cell_type": "code",
   "execution_count": 29,
   "id": "83807f77-553f-4c66-93cf-abc357fc9daa",
   "metadata": {
    "scrolled": true
   },
   "outputs": [],
   "source": [
    "# bot 1f\n",
    "dat = follow_locking_3d(init,a11_p01,(.05,.11,.01),\n",
    "                        rhs=_redu_3dc,recompute=False)\n",
    "data_r3d_p01_list.append(dat)"
   ]
  },
  {
   "cell_type": "code",
   "execution_count": 30,
   "id": "04222b15-b170-4e86-9046-8739ac8ca812",
   "metadata": {
    "scrolled": true
   },
   "outputs": [],
   "source": [
    "# bot 1b\n",
    "dat = follow_locking_3d(init,a11_p01,(.05,.001,-.005),\n",
    "                        rhs=_redu_3dc,recompute=False)\n",
    "data_r3d_p01_list.append(dat)"
   ]
  },
  {
   "cell_type": "markdown",
   "id": "35fd8806-fe59-4366-b97d-fe0902e60f95",
   "metadata": {},
   "source": [
    "## Plot"
   ]
  },
  {
   "cell_type": "code",
   "execution_count": 31,
   "id": "a8e32ad3-94a1-40f8-a88b-9e50a78d3ec2",
   "metadata": {},
   "outputs": [
    {
     "data": {
      "image/png": "[encoded data removed]",
      "text/plain": [
       "<Figure size 300x200 with 1 Axes>"
      ]
     },
     "metadata": {},
     "output_type": "display_data"
    },
    {
     "data": {
      "image/png": "[encoded data removed]",
      "text/plain": [
       "<Figure size 300x400 with 2 Axes>"
      ]
     },
     "metadata": {},
     "output_type": "display_data"
    }
   ],
   "source": [
    "quick_plot_combined(a11_p01,\n",
    "                    kw_f={'data_list':data_p01_list},\n",
    "                    kw_r3d={'data_list':data_r3d_p01_list},\n",
    "                    kw_r={'etup':etup11})"
   ]
  },
  {
   "cell_type": "markdown",
   "id": "3752f4cb-8426-4658-9909-e0f6ab8543f9",
   "metadata": {},
   "source": [
    "# del=0.03"
   ]
  },
  {
   "cell_type": "code",
   "execution_count": 32,
   "id": "aebbc76b-9ac9-4e4f-b990-a3921fc7ba78",
   "metadata": {
    "editable": true,
    "slideshow": {
     "slide_type": ""
    },
    "tags": []
   },
   "outputs": [
    {
     "name": "stdout",
     "output_type": "stream",
     "text": [
      "pfactor 4\n",
      "* Loading p symbolic...\n",
      "* Loading p symbolic...\n",
      "* Loading H symbolic...\n",
      "* Loading H symbolic...\n",
      "* Loading H gw0, order=0...\n",
      "* Loading H gw1, order=0...\n",
      "* Loading H gw0, order=1...\n",
      "* Loading H gw1, order=1...\n",
      "* Loading H gw0, order=2...\n",
      "* Loading H gw1, order=2...\n",
      "* Loading H gw0, order=3...\n",
      "* Loading H gw1, order=3...\n"
     ]
    },
    {
     "name": "stdout",
     "output_type": "stream",
     "text": [
      "p order=0\n"
     ]
    },
    {
     "name": "stdout",
     "output_type": "stream",
     "text": [
      "p order=1\n"
     ]
    },
    {
     "name": "stdout",
     "output_type": "stream",
     "text": [
      "p order=1\n"
     ]
    },
    {
     "name": "stdout",
     "output_type": "stream",
     "text": [
      "p order=2\n"
     ]
    },
    {
     "name": "stdout",
     "output_type": "stream",
     "text": [
      "p order=2\n"
     ]
    },
    {
     "name": "stdout",
     "output_type": "stream",
     "text": [
      "p order=3\n"
     ]
    },
    {
     "name": "stdout",
     "output_type": "stream",
     "text": [
      "p order=3\n"
     ]
    },
    {
     "name": "stdout",
     "output_type": "stream",
     "text": [
      "* Loading H symbolic...\n",
      "* Loading H symbolic...\n",
      "* Computing H gw0, order=0...\n"
     ]
    },
    {
     "name": "stdout",
     "output_type": "stream",
     "text": [
      "* Computing H gw1, order=0...\n",
      "* Computing H gw0, order=1...\n"
     ]
    },
    {
     "name": "stdout",
     "output_type": "stream",
     "text": [
      "* Computing H gw1, order=1...\n"
     ]
    },
    {
     "name": "stdout",
     "output_type": "stream",
     "text": [
      "* Computing H gw0, order=2...\n"
     ]
    },
    {
     "name": "stdout",
     "output_type": "stream",
     "text": [
      "* Computing H gw1, order=2...\n"
     ]
    },
    {
     "name": "stdout",
     "output_type": "stream",
     "text": [
      "* Computing H gw0, order=3...\n"
     ]
    },
    {
     "name": "stdout",
     "output_type": "stream",
     "text": [
      "* Computing H gw1, order=3...\n"
     ]
    }
   ],
   "source": [
    "del11_p03 = 0.03\n",
    "a11_p03 = nm.nmCoupling(**kw_nm, del1=del11_p03)"
   ]
  },
  {
   "cell_type": "markdown",
   "id": "25af4a65-0c01-4837-b206-af1102080ed7",
   "metadata": {},
   "source": [
    "## Get Branches Full"
   ]
  },
  {
   "cell_type": "code",
   "execution_count": 33,
   "id": "85e27c69-bab6-4e01-ac1b-1e5818c437a7",
   "metadata": {},
   "outputs": [],
   "source": [
    "kw_p03 = {'a':a11_p03,'del1':del11_p03,'recompute':False,\n",
    "        'bifdir':'bif1d_gw2/','_full_rhs':_full}"
   ]
  },
  {
   "cell_type": "code",
   "execution_count": 34,
   "id": "117d5253-cfb9-408c-8cdf-e751d66c7022",
   "metadata": {},
   "outputs": [],
   "source": [
    "data_p03_list = []"
   ]
  },
  {
   "cell_type": "code",
   "execution_count": 35,
   "id": "9fc67802-5a88-4f5b-bc9e-1d74a4418f68",
   "metadata": {},
   "outputs": [],
   "source": [
    "in_dicts_p03 = [dict(init=3,eps_init=0.02,eps_final=0.11,deps=.01),\n",
    "                dict(init=3,eps_init=0.02,eps_final=0.0005,deps=-.001)]"
   ]
  },
  {
   "cell_type": "code",
   "execution_count": 36,
   "id": "4ef0f8b4-739c-42fa-a00a-ebc0d3171f3b",
   "metadata": {},
   "outputs": [
    {
     "name": "stdout",
     "output_type": "stream",
     "text": [
      "fname1 td_branch_init=3_nm=11_del=0.03_ei=0.02_ef=0.11_de=0.01.txt\n",
      "fname2 ts_branch_init=3_nm=11_del=0.03_ei=0.02_ef=0.11_de=0.01.txt\n",
      "fname1 td_branch_init=3_nm=11_del=0.03_ei=0.02_ef=0.0005_de=-0.001.txt\n",
      "fname2 ts_branch_init=3_nm=11_del=0.03_ei=0.02_ef=0.0005_de=-0.001.txt\n"
     ]
    }
   ],
   "source": [
    "for i in range(len(in_dicts_p03)):\n",
    "    in1 = in_dicts_p03[i]\n",
    "    dat = follow_phase_diffs(**in1,**kw_p03)\n",
    "    data_p03_list.append(dat)"
   ]
  },
  {
   "cell_type": "code",
   "execution_count": 37,
   "id": "4217b3ab-fec4-4ea5-95eb-078bc99041cd",
   "metadata": {},
   "outputs": [],
   "source": [
    "# save hyperparameters\n",
    "fname = kw_p03['bifdir']+'hyper_gw2_11_p03.txt'\n",
    "hyp_inputs = np.zeros([len(in_dicts_p03),4])\n",
    "for i in range(len(in_dicts_p03)):\n",
    "    hyp_inputs[i,0] = in_dicts_p03[i]['init']\n",
    "    hyp_inputs[i,1] = in_dicts_p03[i]['eps_init']\n",
    "    hyp_inputs[i,2] = in_dicts_p03[i]['eps_final']\n",
    "    hyp_inputs[i,3] = in_dicts_p03[i]['deps']\n",
    "np.savetxt(fname,hyp_inputs)"
   ]
  },
  {
   "cell_type": "markdown",
   "id": "30a9bb1e-0202-480c-8196-2ef688602beb",
   "metadata": {},
   "source": [
    "## Get Branches 3D"
   ]
  },
  {
   "cell_type": "code",
   "execution_count": 38,
   "id": "b13ed278-6ee0-4a73-a502-dc1d97b3d351",
   "metadata": {},
   "outputs": [],
   "source": [
    "data_r3d_p03_list = []"
   ]
  },
  {
   "cell_type": "code",
   "execution_count": 39,
   "id": "38498462-a780-40a2-93d0-58fc01162edc",
   "metadata": {
    "scrolled": true
   },
   "outputs": [
    {
     "name": "stdout",
     "output_type": "stream",
     "text": [
      "t_diff 1.25003421003761811, Y=[ 1.25003421e+00 -2.16391109e-01 -7.79517968e-04]                                              \n",
      "[ 1.250e+00 -2.164e-01 -8.000e-04]\n"
     ]
    }
   ],
   "source": [
    "# find init for this branch\n",
    "_,init = phase_lock_r3d([1,0,0],a11_p03,.05,_redu_3dc)\n",
    "print(init)"
   ]
  },
  {
   "cell_type": "code",
   "execution_count": 40,
   "id": "69687dca-f762-4663-bafa-ea3cf003c8e9",
   "metadata": {
    "scrolled": true
   },
   "outputs": [
    {
     "name": "stdout",
     "output_type": "stream",
     "text": [
      "eps iter 0 0.05                \n",
      "t_diff 1.25003421003761671, Y=[ 1.25003421e+00 -2.16391109e-01 -7.79517968e-04]                                              \n",
      "eps iter 1 0.060000000000000005                \n",
      "t_diff 1.29243151700005864, Y=[ 1.29243152e+00 -2.62655418e-01 -6.78033225e-04]                                              \n",
      "eps iter 2 0.07                \n",
      "t_diff 1.33300127092946713, Y=[ 1.33300127e+00 -3.09547282e-01 -2.75965311e-04]                                              \n",
      "eps iter 3 0.08000000000000002                \n",
      "t_diff 1.37119067031502073, Y=[ 1.37119067e+00 -3.56784566e-01  5.19853839e-04]                                              \n",
      "eps iter 4 0.09000000000000001                \n",
      "t_diff 1.40660538515678323, Y=[ 1.40660539 -0.40410036  0.00173477]                                              \n",
      "eps iter 5 0.1                \n",
      "t_diff 1.43913055254030353, Y=[ 1.43913055 -0.45134845  0.00326215]                                              \n"
     ]
    },
    {
     "name": "stdout",
     "output_type": "stream",
     "text": [
      "iter=2, rel. err =2.22e-07, Y=[ 1.29243152e+00 -2.62655418e-01 -6.78033225e-04]                                              \r",
      "iter=3, rel. err =9.82e-14, Y=[ 1.29243152e+00 -2.62655418e-01 -6.78033225e-04]                                              \r",
      "t_diff 1.2924315170000586\n",
      "eps iter 2 0.07                \n"
     ]
    },
    {
     "name": "stdout",
     "output_type": "stream",
     "text": [
      "iter=0, rel. err =6.32e-02, Y=[ 1.33450744e+00 -3.09782767e-01 -3.79534217e-04]                                              \r",
      "iter=1, rel. err =1.53e-03, Y=[ 1.33300099e+00 -3.09547137e-01 -2.75769069e-04]                                              \r",
      "iter=2, rel. err =3.72e-07, Y=[ 1.33300127e+00 -3.09547282e-01 -2.75965311e-04]                                              \r",
      "iter=3, rel. err =1.88e-13, Y=[ 1.33300127e+00 -3.09547282e-01 -2.75965311e-04]                                              \r",
      "t_diff 1.333001270929467\n",
      "eps iter 3 0.08000000000000002                \n"
     ]
    },
    {
     "name": "stdout",
     "output_type": "stream",
     "text": [
      "iter=0, rel. err =6.21e-02, Y=[ 1.37290427e+00 -3.57096807e-01  4.11686026e-04]                                              \r",
      "iter=1, rel. err =1.75e-03, Y=[ 1.37119026e+00 -3.56784332e-01  5.20142400e-04]                                              \r"
     ]
    },
    {
     "name": "stdout",
     "output_type": "stream",
     "text": [
      "iter=2, rel. err =5.56e-07, Y=[ 1.37119067e+00 -3.56784566e-01  5.19853839e-04]                                              \r",
      "iter=3, rel. err =3.04e-13, Y=[ 1.37119067e+00 -3.56784566e-01  5.19853839e-04]                                              \r",
      "t_diff 1.3711906703150207\n",
      "eps iter 4 0.09000000000000001                \n",
      "iter=0, rel. err =6.05e-02, Y=[ 1.40840146 -0.40444847  0.00166297]                                              \r",
      "iter=1, rel. err =1.83e-03, Y=[ 1.40660487 -0.40410005  0.00173511]                                              \r"
     ]
    },
    {
     "name": "stdout",
     "output_type": "stream",
     "text": [
      "iter=2, rel. err =6.93e-07, Y=[ 1.40660539 -0.40410036  0.00173477]                                              \r"
     ]
    },
    {
     "name": "stdout",
     "output_type": "stream",
     "text": [
      "iter=3, rel. err =3.85e-13, Y=[ 1.40660539 -0.40410036  0.00173477]                                              \r",
      "t_diff 1.4066053851567832\n",
      "eps iter 5 0.1                \n",
      "iter=0, rel. err =5.86e-02, Y=[ 1.44085802 -0.451653    0.00328991]                                              \r",
      "iter=1, rel. err =1.75e-03, Y=[ 1.43913003 -0.45134813  0.00326248]                                              \r",
      "iter=2, rel. err =6.93e-07, Y=[ 1.43913055 -0.45134845  0.00326215]                                              \r"
     ]
    },
    {
     "name": "stdout",
     "output_type": "stream",
     "text": [
      "iter=3, rel. err =3.59e-13, Y=[ 1.43913055 -0.45134845  0.00326215]                                              \r",
      "t_diff 1.4391305525403035\n"
     ]
    }
   ],
   "source": [
    "# bot 1f\n",
    "dat = follow_locking_3d(init,a11_p03,(.05,.11,.01),\n",
    "                        rhs=_redu_3dc,recompute=True)\n",
    "data_r3d_p03_list.append(dat)"
   ]
  },
  {
   "cell_type": "code",
   "execution_count": 41,
   "id": "db166493-d01a-4ffe-b4f9-3a47a934b032",
   "metadata": {
    "scrolled": true
   },
   "outputs": [
    {
     "name": "stdout",
     "output_type": "stream",
     "text": [
      "eps iter 0 0.05                \n",
      "t_diff 1.25003421003761671, Y=[ 1.25003421e+00 -2.16391109e-01 -7.79517968e-04]                                              \n",
      "eps iter 1 0.045000000000000005                \n",
      "t_diff 1.22833599245646989, Y=[ 1.22833599e+00 -1.93569557e-01 -7.52632976e-04]                                              \n",
      "eps iter 2 0.04000000000000001                \n",
      "t_diff 1.20639915197193209, Y=[ 1.20639915e+00 -1.70985736e-01 -6.91798395e-04]                                              \n",
      "eps iter 3 0.03500000000000001                \n",
      "t_diff 1.18428734798544749, Y=[ 1.18428735e+00 -1.48656206e-01 -6.08586240e-04]                                              \n",
      "eps iter 4 0.030000000000000013                \n",
      "t_diff 1.16205669633995509, Y=[ 1.16205670e+00 -1.26592674e-01 -5.12752550e-04]                                              \n",
      "eps iter 5 0.025000000000000015                \n",
      "t_diff 1.13975499430172309, Y=[ 1.13975499e+00 -1.04802550e-01 -4.12164881e-04]                                              \n",
      "eps iter 6 0.020000000000000018                \n",
      "t_diff 1.11742147307146209, Y=[ 1.11742147e+00 -8.32896320e-02 -3.12889749e-04]                                              \n",
      "eps iter 7 0.01500000000000002                \n",
      "t_diff 1.09508696345055909, Y=[ 1.09508696e+00 -6.20548395e-02 -2.19391272e-04]                                              \n",
      "eps iter 8 0.010000000000000023                \n",
      "t_diff 1.07277436247382810, Y=[ 1.07277436e+00 -4.10969386e-02 -1.34798792e-04]                                              \n",
      "eps iter 9 0.005000000000000025                \n",
      "t_diff 1.05049930207387040, Y=[ 1.05049930e+00 -2.04132044e-02 -6.12094750e-05]                                              \n"
     ]
    },
    {
     "name": "stdout",
     "output_type": "stream",
     "text": [
      "iter=0, rel. err =3.13e-02, Y=[ 1.20664583e+00 -1.71003225e-01 -7.02233029e-04]                                              \r",
      "iter=1, rel. err =2.48e-04, Y=[ 1.20639915e+00 -1.70985735e-01 -6.91795510e-04]                                              \r",
      "iter=2, rel. err =6.01e-09, Y=[ 1.20639915e+00 -1.70985736e-01 -6.91798395e-04]                                              \r",
      "t_diff 1.206399151971932\n",
      "eps iter 3 0.03500000000000001                \n",
      "iter=0, rel. err =3.13e-02, Y=[ 1.18450574e+00 -1.48668380e-01 -6.16306889e-04]                                              \r",
      "iter=1, rel. err =2.19e-04, Y=[ 1.18428734e+00 -1.48656205e-01 -6.08584281e-04]                                              \r"
     ]
    },
    {
     "name": "stdout",
     "output_type": "stream",
     "text": [
      "iter=2, rel. err =4.24e-09, Y=[ 1.18428735e+00 -1.48656206e-01 -6.08586240e-04]                                              \r",
      "t_diff 1.1842873479854474\n",
      "eps iter 4 0.030000000000000013                \n"
     ]
    },
    {
     "name": "stdout",
     "output_type": "stream",
     "text": [
      "iter=0, rel. err =3.12e-02, Y=[ 1.16225124e+00 -1.26600850e-01 -5.18247197e-04]                                              \r",
      "iter=1, rel. err =1.95e-04, Y=[ 1.16205669e+00 -1.26592673e-01 -5.12751234e-04]                                              \r",
      "iter=2, rel. err =3.02e-09, Y=[ 1.16205670e+00 -1.26592674e-01 -5.12752550e-04]                                              \r",
      "t_diff 1.162056696339955\n",
      "eps iter 5 0.025000000000000015                \n",
      "iter=0, rel. err =3.11e-02, Y=[ 1.13992669e+00 -1.04807612e-01 -4.15794083e-04]                                              \r"
     ]
    },
    {
     "name": "stdout",
     "output_type": "stream",
     "text": [
      "iter=1, rel. err =1.72e-04, Y=[ 1.13975499e+00 -1.04802550e-01 -4.12164038e-04]                                              \r",
      "iter=2, rel. err =2.10e-09, Y=[ 1.13975499e+00 -1.04802550e-01 -4.12164881e-04]                                              \r",
      "t_diff 1.139754994301723\n",
      "eps iter 6 0.020000000000000018                \n"
     ]
    },
    {
     "name": "stdout",
     "output_type": "stream",
     "text": [
      "iter=0, rel. err =3.09e-02, Y=[ 1.11757503e+00 -8.32925902e-02 -3.15152364e-04]                                              \r",
      "iter=1, rel. err =1.54e-04, Y=[ 1.11742147e+00 -8.32896318e-02 -3.12889216e-04]                                              \r",
      "iter=2, rel. err =1.52e-09, Y=[ 1.11742147e+00 -8.32896320e-02 -3.12889749e-04]                                              \r",
      "t_diff 1.117421473071462\n",
      "eps iter 7 0.01500000000000002                \n",
      "iter=0, rel. err =3.07e-02, Y=[ 1.09522737e+00 -6.20564867e-02 -2.20720217e-04]                                              \r"
     ]
    },
    {
     "name": "stdout",
     "output_type": "stream",
     "text": [
      "iter=1, rel. err =1.40e-04, Y=[ 1.09508696e+00 -6.20548393e-02 -2.19390942e-04]                                              \r",
      "iter=2, rel. err =1.17e-09, Y=[ 1.09508696e+00 -6.20548395e-02 -2.19391272e-04]                                              \r",
      "t_diff 1.095086963450559\n",
      "eps iter 8 0.010000000000000023                \n"
     ]
    },
    {
     "name": "stdout",
     "output_type": "stream",
     "text": [
      "iter=0, rel. err =3.06e-02, Y=[ 1.07290449e+00 -4.10977366e-02 -1.35480959e-04]                                              \r",
      "iter=1, rel. err =1.30e-04, Y=[ 1.07277436e+00 -4.10969386e-02 -1.34798606e-04]                                              \r",
      "iter=2, rel. err =9.37e-10, Y=[ 1.07277436e+00 -4.10969386e-02 -1.34798792e-04]                                              \r",
      "t_diff 1.072774362473828\n",
      "eps iter 9 0.005000000000000025                \n",
      "iter=0, rel. err =3.03e-02, Y=[ 1.05062087e+00 -2.04134904e-02 -6.14698491e-05]                                              \r"
     ]
    },
    {
     "name": "stdout",
     "output_type": "stream",
     "text": [
      "iter=1, rel. err =1.22e-04, Y=[ 1.05049930e+00 -2.04132044e-02 -6.12093943e-05]                                              \r",
      "iter=2, rel. err =7.84e-10, Y=[ 1.05049930e+00 -2.04132044e-02 -6.12094750e-05]                                              \r",
      "t_diff 1.0504993020738704\n"
     ]
    }
   ],
   "source": [
    "# bot 1b\n",
    "dat = follow_locking_3d(init,a11_p03,(.05,.001,-.005),\n",
    "                        rhs=_redu_3dc,recompute=True)\n",
    "data_r3d_p03_list.append(dat)"
   ]
  },
  {
   "cell_type": "markdown",
   "id": "0e538c65-fa5c-42e1-9986-d4ce0d8e9930",
   "metadata": {},
   "source": [
    "## Plot"
   ]
  },
  {
   "cell_type": "code",
   "execution_count": 42,
   "id": "c6918b7f-cc6e-4fb0-aacc-6348fe3f569f",
   "metadata": {},
   "outputs": [
    {
     "data": {
      "image/png": "[encoded data removed]",
      "text/plain": [
       "<Figure size 300x200 with 1 Axes>"
      ]
     },
     "metadata": {},
     "output_type": "display_data"
    },
    {
     "data": {
      "image/png": "[encoded data removed]",
      "text/plain": [
       "<Figure size 300x400 with 2 Axes>"
      ]
     },
     "metadata": {},
     "output_type": "display_data"
    }
   ],
   "source": [
    "quick_plot_combined(a11_p03,\n",
    "                    kw_f={'data_list':data_p03_list},\n",
    "                    kw_r3d={'data_list':data_r3d_p03_list},\n",
    "                    kw_r={'etup':etup11})"
   ]
  },
  {
   "cell_type": "markdown",
   "id": "e2b22646-2f38-40e1-b277-2114e4f31cbf",
   "metadata": {},
   "source": [
    "# del=0.04"
   ]
  },
  {
   "cell_type": "code",
   "execution_count": 43,
   "id": "8da31e13-ae91-4f59-8e4e-c5df750e6ba9",
   "metadata": {
    "editable": true,
    "slideshow": {
     "slide_type": ""
    },
    "tags": []
   },
   "outputs": [
    {
     "name": "stdout",
     "output_type": "stream",
     "text": [
      "pfactor 4\n",
      "* Loading p symbolic...\n",
      "* Loading p symbolic...\n",
      "* Loading H symbolic...\n",
      "* Loading H symbolic...\n",
      "* Loading H gw0, order=0...\n",
      "* Loading H gw1, order=0...\n",
      "* Loading H gw0, order=1...\n",
      "* Loading H gw1, order=1...\n",
      "* Loading H gw0, order=2...\n",
      "* Loading H gw1, order=2...\n",
      "* Loading H gw0, order=3...\n",
      "* Loading H gw1, order=3...\n"
     ]
    },
    {
     "name": "stdout",
     "output_type": "stream",
     "text": [
      "* Loading H symbolic...\n",
      "* Loading H symbolic...\n",
      "* Loading H gw0, order=0...\n",
      "* Loading H gw1, order=0...\n",
      "* Loading H gw0, order=1...\n",
      "* Loading H gw1, order=1...\n",
      "* Loading H gw0, order=2...\n",
      "* Loading H gw1, order=2...\n",
      "* Loading H gw0, order=3...\n",
      "* Loading H gw1, order=3...\n"
     ]
    }
   ],
   "source": [
    "del11_p04 = 0.04\n",
    "a11_p04 = nm.nmCoupling(**kw_nm, del1=del11_p04)"
   ]
  },
  {
   "cell_type": "markdown",
   "id": "39ac458a-06a6-470d-b343-e1f5eb1e4a93",
   "metadata": {},
   "source": [
    "## Get Branches Full"
   ]
  },
  {
   "cell_type": "code",
   "execution_count": 44,
   "id": "d3ab4fba-ad44-4a1f-bed4-8121ff01c433",
   "metadata": {},
   "outputs": [],
   "source": [
    "kw_p04 = {'a':a11_p04,'del1':del11_p04,'recompute':False,\n",
    "        'bifdir':'bif1d_gw2/','_full_rhs':_full}"
   ]
  },
  {
   "cell_type": "code",
   "execution_count": 45,
   "id": "6f5e2a5e-8899-4f0e-87a8-c4f74a135d04",
   "metadata": {},
   "outputs": [],
   "source": [
    "data_p04_list = []"
   ]
  },
  {
   "cell_type": "code",
   "execution_count": 46,
   "id": "c996b662-4aac-41a3-b1ff-7b5112d0b847",
   "metadata": {},
   "outputs": [],
   "source": [
    "in_dicts_p04 = [dict(init=3,eps_init=0.02,eps_final=0.11,deps=.01),\n",
    "                dict(init=3,eps_init=0.02,eps_final=0.0005,deps=-.001)]"
   ]
  },
  {
   "cell_type": "code",
   "execution_count": 47,
   "id": "aee0591f-2c3c-4885-b0e8-9cae244b5ff1",
   "metadata": {},
   "outputs": [
    {
     "name": "stdout",
     "output_type": "stream",
     "text": [
      "fname1 td_branch_init=3_nm=11_del=0.04_ei=0.02_ef=0.11_de=0.01.txt\n",
      "fname2 ts_branch_init=3_nm=11_del=0.04_ei=0.02_ef=0.11_de=0.01.txt\n",
      "fname1 td_branch_init=3_nm=11_del=0.04_ei=0.02_ef=0.0005_de=-0.001.txt\n",
      "fname2 ts_branch_init=3_nm=11_del=0.04_ei=0.02_ef=0.0005_de=-0.001.txt\n"
     ]
    }
   ],
   "source": [
    "for i in range(len(in_dicts_p04)):\n",
    "    in1 = in_dicts_p04[i]\n",
    "    dat = follow_phase_diffs(**in1,**kw_p04)\n",
    "    data_p04_list.append(dat)"
   ]
  },
  {
   "cell_type": "code",
   "execution_count": 48,
   "id": "18a9e819-312d-4bf2-a621-2c8adda09ebd",
   "metadata": {},
   "outputs": [],
   "source": [
    "# save hyperparameters\n",
    "fname = kw_p04['bifdir']+'hyper_gw2_11_p04.txt'\n",
    "hyp_inputs = np.zeros([len(in_dicts_p04),4])\n",
    "for i in range(len(in_dicts_p04)):\n",
    "    hyp_inputs[i,0] = in_dicts_p04[i]['init']\n",
    "    hyp_inputs[i,1] = in_dicts_p04[i]['eps_init']\n",
    "    hyp_inputs[i,2] = in_dicts_p04[i]['eps_final']\n",
    "    hyp_inputs[i,3] = in_dicts_p04[i]['deps']\n",
    "np.savetxt(fname,hyp_inputs)"
   ]
  },
  {
   "cell_type": "markdown",
   "id": "6d3b9920-d0a3-4ae9-980a-3044cf4cc55c",
   "metadata": {},
   "source": [
    "## Get Branches 3D"
   ]
  },
  {
   "cell_type": "code",
   "execution_count": 49,
   "id": "4c661b3e-3629-4d75-b9cc-1ad7a9f599e4",
   "metadata": {},
   "outputs": [],
   "source": [
    "data_r3d_p04_list = []"
   ]
  },
  {
   "cell_type": "code",
   "execution_count": 50,
   "id": "b2356060-1c49-42c8-acc0-6ddf0410d31f",
   "metadata": {
    "scrolled": true
   },
   "outputs": [
    {
     "name": "stdout",
     "output_type": "stream",
     "text": [
      "t_diff 1.67848998539524291, Y=[ 1.67848999 -0.36208757 -0.06888956]                                              \n",
      "[ 1.6785 -0.3621 -0.0689]\n"
     ]
    }
   ],
   "source": [
    "# find init for this branch\n",
    "_,init = phase_lock_r3d([1,0,0],a11_p04,.05,_redu_3dc)\n",
    "print(init)"
   ]
  },
  {
   "cell_type": "code",
   "execution_count": 51,
   "id": "c42b7c18-f766-4f98-b8b8-38e658d0103e",
   "metadata": {
    "scrolled": true
   },
   "outputs": [
    {
     "name": "stdout",
     "output_type": "stream",
     "text": [
      "eps iter 0 0.05                \n",
      "t_diff 1.67848998539524020, Y=[ 1.67848999 -0.36208757 -0.06888956]                                              \n",
      "eps iter 1 0.060000000000000005                \n",
      "t_diff 1.76049743620679293, Y=[ 1.76049744 -0.44966136 -0.0876788 ]                                              \n",
      "eps iter 2 0.07                \n",
      "t_diff 1.86659095689764782, Y=[ 1.86659096 -0.55014329 -0.11493593]                                              \n",
      "eps iter 3 0.08000000000000002                \n",
      "iter=100, rel. err =5.03e-01, Y=[108.54292178  -2.11659658  -1.73750862]                                                      \r"
     ]
    },
    {
     "name": "stdout",
     "output_type": "stream",
     "text": [
      "iter=1, rel. err =1.68e-02, Y=[ 1.86595496 -0.54997403 -0.11478434]                                              \r",
      "iter=2, rel. err =6.74e-04, Y=[ 1.86658996 -0.55014303 -0.1149357 ]                                              \r",
      "iter=3, rel. err =1.06e-06, Y=[ 1.86659096 -0.55014329 -0.11493593]                                              \r",
      "iter=4, rel. err =1.64e-12, Y=[ 1.86659096 -0.55014329 -0.11493593]                                              \r",
      "t_diff 1.8665909568976478\n",
      "eps iter 3 0.08000000000000002                \n",
      "iter=0, rel. err =2.05e-01, Y=[ 2.02275226 -0.67558121 -0.160031  ]                                              \r",
      "iter=1, rel. err =5.34e-01, Y=[ 1.52985303 -0.51629639 -0.02886625]                                              \r"
     ]
    },
    {
     "name": "stdout",
     "output_type": "stream",
     "text": [
      "iter=2, rel. err =3.39e-01, Y=[ 1.84414109 -0.6162673  -0.1069983 ]                                              \r",
      "iter=3, rel. err =2.22e-01, Y=[ 2.04539899 -0.68609943 -0.16777856]                                              \r"
     ]
    },
    {
     "name": "stdout",
     "output_type": "stream",
     "text": [
      "iter=4, rel. err =3.31e-01, Y=[ 1.74099512 -0.5857036  -0.08607468]                                              \r",
      "iter=5, rel. err =2.30e-01, Y=[ 1.95331539 -0.65537724 -0.14204594]                                              \r",
      "iter=6, rel. err =6.71e-01, Y=[ 2.56966953 -0.85970067 -0.31069118]                                              \r",
      "iter=7, rel. err =3.19e-01, Y=[ 2.27768342 -0.75812951 -0.23284781]                                              \r",
      "iter=8, rel. err =2.15e-01, Y=[ 2.07841628 -0.6976127  -0.1787519 ]                                              \r",
      "iter=9, rel. err =2.40e-01, Y=[ 1.85795797 -0.62437201 -0.11788406]                                              \r",
      "iter=10, rel. err =2.35e-01, Y=[ 2.07428448 -0.69578515 -0.17588762]                                              \r"
     ]
    },
    {
     "name": "stdout",
     "output_type": "stream",
     "text": [
      "iter=11, rel. err =2.50e-01, Y=[ 1.84465528 -0.61997952 -0.11429195]                                              \r",
      "iter=12, rel. err =2.28e-01, Y=[ 2.05435358 -0.68916773 -0.1703995 ]                                              \r"
     ]
    },
    {
     "name": "stdout",
     "output_type": "stream",
     "text": [
      "iter=13, rel. err =2.97e-01, Y=[ 1.78125427 -0.59901228 -0.09702318]                                              \r",
      "iter=14, rel. err =2.21e-01, Y=[ 1.98524837 -0.66612781 -0.15115311]                                              \r",
      "iter=15, rel. err =7.61e+00, Y=[-5.01366208  1.64813391  1.74744373]                                              \r",
      "iter=16, rel. err =5.57e-01, Y=[-4.94550141  1.30043746  1.31788686]                                              \r",
      "iter=17, rel. err =1.06e+00, Y=[-4.40845207  0.87560035  0.5147489 ]                                              \r",
      "iter=18, rel. err =9.79e-01, Y=[-4.43169759  0.08203692 -0.05818411]                                              \r"
     ]
    },
    {
     "name": "stdout",
     "output_type": "stream",
     "text": [
      "iter=19, rel. err =1.01e+00, Y=[-3.89874685 -0.76437538 -0.21222049]                                              \r",
      "iter=20, rel. err =2.75e-01, Y=[-4.16820732 -0.71207129 -0.19100702]                                              \r"
     ]
    },
    {
     "name": "stdout",
     "output_type": "stream",
     "text": [
      "iter=21, rel. err =2.02e-01, Y=[-4.3519198  -0.64845884 -0.13782696]                                              \r",
      "iter=22, rel. err =4.17e-01, Y=[-3.96818472 -0.77547581 -0.24157464]                                              \r",
      "iter=23, rel. err =2.23e-01, Y=[-4.17351537 -0.70709948 -0.18713465]                                              \r",
      "iter=24, rel. err =2.10e-01, Y=[-4.36664117 -0.64380736 -0.13391373]                                              \r",
      "iter=25, rel. err =3.41e-01, Y=[-4.05283701 -0.74748361 -0.21853871]                                              \r",
      "iter=26, rel. err =2.00e-01, Y=[-4.23682455 -0.68651648 -0.16959649]                                              \r"
     ]
    },
    {
     "name": "stdout",
     "output_type": "stream",
     "text": [
      "iter=27, rel. err =3.23e-01, Y=[-4.53356306 -0.58858085 -0.08838765]                                              \r",
      "iter=28, rel. err =2.28e-01, Y=[-4.32351732 -0.6575253  -0.14387357]                                              \r"
     ]
    },
    {
     "name": "stdout",
     "output_type": "stream",
     "text": [
      "iter=29, rel. err =8.45e-01, Y=[-3.54661804 -0.91490042 -0.35601301]                                              \r",
      "iter=30, rel. err =3.77e-01, Y=[-3.88864885 -0.78654625 -0.26118658]                                              \r",
      "iter=31, rel. err =2.63e-01, Y=[-4.13560794 -0.72173615 -0.19899846]                                              \r",
      "iter=32, rel. err =1.93e-01, Y=[-4.31217005 -0.66165567 -0.14876535]                                              \r",
      "iter=33, rel. err =1.80e+00, Y=[-2.66098554 -1.20778829 -0.59668797]                                              \r",
      "iter=34, rel. err =2.50e+00, Y=[-5.15559037 -1.06211418 -0.5070359 ]                                              \r"
     ]
    },
    {
     "name": "stdout",
     "output_type": "stream",
     "text": [
      "iter=35, rel. err =1.73e+00, Y=[-3.44473255 -0.9376277  -0.32232324]                                              \r",
      "iter=36, rel. err =4.12e-01, Y=[-3.82801603 -0.7956567  -0.27268633]                                              \r"
     ]
    },
    {
     "name": "stdout",
     "output_type": "stream",
     "text": [
      "iter=37, rel. err =2.95e-01, Y=[-4.10873163 -0.73259375 -0.20784703]                                              \r",
      "iter=38, rel. err =1.89e-01, Y=[-4.28087243 -0.67182671 -0.15728778]                                              \r",
      "iter=39, rel. err =9.46e-01, Y=[-5.15035957 -0.38463382  0.07921634]                                              \r",
      "iter=40, rel. err =7.40e-01, Y=[-4.44847734 -0.5754529  -0.05489769]                                              \r",
      "iter=41, rel. err =1.98e-01, Y=[-4.29947746 -0.66467422 -0.14974286]                                              \r",
      "iter=42, rel. err =7.00e+01, Y=[ 60.04466552 -21.93113218 -17.60713084]                                              \r"
     ]
    },
    {
     "name": "stdout",
     "output_type": "stream",
     "text": [
      "iter=43, rel. err =4.69e+00, Y=[ 60.06070815 -18.27740482 -14.67336844]                                              \r",
      "iter=44, rel. err =3.91e+00, Y=[ 60.08137641 -15.23202095 -12.22845683]                                              \r",
      "iter=45, rel. err =3.26e+00, Y=[ 60.10889508 -12.69314093 -10.19079174]                                              \r"
     ]
    },
    {
     "name": "stdout",
     "output_type": "stream",
     "text": [
      "iter=46, rel. err =2.72e+00, Y=[ 60.1479793  -10.5752679   -8.49216273]                                              \r",
      "iter=47, rel. err =2.27e+00, Y=[60.21390873 -8.8043378  -7.07477329]                                              \r",
      "iter=48, rel. err =2.06e+00, Y=[60.69208702 -7.21701807 -5.85528333]                                              \r",
      "iter=49, rel. err =1.53e+00, Y=[60.69001892 -6.0285391  -4.88780939]                                              \r",
      "iter=50, rel. err =1.28e+00, Y=[60.68719508 -5.03873125 -4.08256293]                                              \r",
      "iter=51, rel. err =1.06e+00, Y=[60.68327816 -4.21466085 -3.41301299]                                              \r"
     ]
    },
    {
     "name": "stdout",
     "output_type": "stream",
     "text": [
      "iter=52, rel. err =8.83e-01, Y=[60.67778079 -3.52895157 -2.85746936]                                              \r",
      "iter=53, rel. err =7.32e-01, Y=[60.67009735 -2.95887045 -2.39868304]                                              \r",
      "iter=54, rel. err =6.04e-01, Y=[60.65999501 -2.48550579 -2.02390727]                                              \r"
     ]
    },
    {
     "name": "stdout",
     "output_type": "stream",
     "text": [
      "iter=55, rel. err =4.93e-01, Y=[60.6504878  -2.09280288 -1.72566532]                                              \r",
      "iter=56, rel. err =3.96e-01, Y=[60.66210362 -1.76561363 -1.50357199]                                              \r",
      "iter=57, rel. err =3.34e-01, Y=[60.78113323 -1.48455075 -1.36786931]                                              \r",
      "iter=58, rel. err =4.01e-01, Y=[61.08627359 -1.22648553 -1.33679722]                                              \r",
      "iter=59, rel. err =4.91e-01, Y=[61.52194592 -1.00531384 -1.38125532]                                              \r",
      "iter=60, rel. err =4.11e-01, Y=[61.86416201 -1.22965805 -1.4172057 ]                                              \r"
     ]
    },
    {
     "name": "stdout",
     "output_type": "stream",
     "text": [
      "iter=61, rel. err =2.00e-01, Y=[61.69478314 -1.12419594 -1.4017087 ]                                              \r",
      "iter=62, rel. err =2.55e-01, Y=[61.81411926 -1.34661238 -1.43945194]                                              \r",
      "iter=63, rel. err =1.51e-01, Y=[61.73335357 -1.22098862 -1.41481363]                                              \r"
     ]
    },
    {
     "name": "stdout",
     "output_type": "stream",
     "text": [
      "iter=64, rel. err =7.60e-01, Y=[62.17991093 -1.81756073 -1.56207602]                                              \r",
      "iter=65, rel. err =3.87e+00, Y=[64.84041076  0.22717575  0.36394669]                                              \r",
      "iter=66, rel. err =1.02e+00, Y=[64.7401163  -0.66652016 -0.12781435]                                              \r",
      "iter=67, rel. err =4.03e-01, Y=[65.11614253 -0.76747384 -0.23300063]                                              \r",
      "iter=68, rel. err =2.12e-01, Y=[64.92178069 -0.70044727 -0.18152715]                                              \r"
     ]
    },
    {
     "name": "stdout",
     "output_type": "stream",
     "text": [
      "iter=69, rel. err =2.27e-01, Y=[64.71262429 -0.63198891 -0.12414244]                                              \r",
      "iter=70, rel. err =2.57e-01, Y=[64.94914056 -0.7100479  -0.18768312]                                              \r",
      "iter=71, rel. err =2.06e-01, Y=[64.75972456 -0.64748881 -0.13701503]                                              \r"
     ]
    },
    {
     "name": "stdout",
     "output_type": "stream",
     "text": [
      "iter=72, rel. err =3.97e-01, Y=[65.12443641 -0.76807167 -0.23548125]                                              \r",
      "iter=73, rel. err =2.16e-01, Y=[64.92562346 -0.70196343 -0.18272518]                                              \r",
      "iter=74, rel. err =2.23e-01, Y=[64.72080409 -0.63467586 -0.12636797]                                              \r",
      "iter=75, rel. err =2.69e-01, Y=[64.96838383 -0.71642295 -0.19294633]                                              \r",
      "iter=76, rel. err =1.98e-01, Y=[64.78595381 -0.65615168 -0.14419922]                                              \r",
      "iter=77, rel. err =7.21e-01, Y=[65.44878146 -0.8753564  -0.32365219]                                              \r"
     ]
    },
    {
     "name": "stdout",
     "output_type": "stream",
     "text": [
      "iter=78, rel. err =3.37e-01, Y=[65.14118184 -0.76661778 -0.24095952]                                              \r",
      "iter=79, rel. err =2.26e-01, Y=[64.93095856 -0.70463539 -0.18465801]                                              \r",
      "iter=80, rel. err =2.16e-01, Y=[64.73268353 -0.63853794 -0.12958351]                                              \r"
     ]
    },
    {
     "name": "stdout",
     "output_type": "stream",
     "text": [
      "iter=81, rel. err =2.93e-01, Y=[65.00177828 -0.72747853 -0.20206538]                                              \r",
      "iter=82, rel. err =1.94e-01, Y=[64.8236237  -0.66857763 -0.15454315]                                              \r",
      "iter=83, rel. err =1.90e+00, Y=[63.07349964 -0.08985827  0.32128748]                                              \r",
      "iter=84, rel. err =1.75e+00, Y=[64.81341073 -0.26924073  0.19989978]                                              \r",
      "iter=85, rel. err =5.30e-01, Y=[64.84643667 -0.6688479  -0.14740353]                                              \r",
      "iter=86, rel. err =9.52e-01, Y=[63.96529248 -0.38601189  0.07769806]                                              \r"
     ]
    },
    {
     "name": "stdout",
     "output_type": "stream",
     "text": [
      "iter=87, rel. err =7.38e-01, Y=[ 6.46660348e+01 -5.75569595e-01 -5.51219085e-02]                                              \r",
      "iter=88, rel. err =1.98e-01, Y=[64.81542596 -0.66463566 -0.14971104]                                              \r",
      "iter=89, rel. err =4.78e+01, Y=[108.76287254 -15.19023099 -12.0738875 ]                                              \r"
     ]
    },
    {
     "name": "stdout",
     "output_type": "stream",
     "text": [
      "iter=90, rel. err =3.22e+00, Y=[108.75600079 -12.6664265  -10.07425016]                                              \r",
      "iter=91, rel. err =2.68e+00, Y=[108.74769339 -10.56351405  -8.40825751]                                              \r",
      "iter=92, rel. err =2.24e+00, Y=[108.73763837  -8.81140523  -7.02037549]                                              \r",
      "iter=93, rel. err =1.86e+00, Y=[108.72545297  -7.35171214  -5.86434654]                                              \r",
      "iter=94, rel. err =1.55e+00, Y=[108.71066948  -6.13580737  -4.90165749]                                              \r",
      "iter=95, rel. err =1.29e+00, Y=[108.69272446  -5.12321481  -4.10027717]                                              \r"
     ]
    },
    {
     "name": "stdout",
     "output_type": "stream",
     "text": [
      "iter=96, rel. err =1.07e+00, Y=[108.67096597  -4.28028271  -3.43363428]                                              \r",
      "iter=97, rel. err =8.94e-01, Y=[108.6447236   -3.57910294  -2.87982606]                                              \r",
      "iter=98, rel. err =7.42e-01, Y=[108.6135746   -2.99665397  -2.42107945]                                              \r"
     ]
    },
    {
     "name": "stdout",
     "output_type": "stream",
     "text": [
      "iter=99, rel. err =6.14e-01, Y=[108.5781975   -2.51415425  -2.0435357 ]                                              \r",
      "iter=100, rel. err =5.03e-01, Y=[108.54292178  -2.11659658  -1.73750862]                                              \r"
     ]
    }
   ],
   "source": [
    "# bot 1f\n",
    "dat = follow_locking_3d(init,a11_p04,(.05,.081,.01),\n",
    "                        rhs=_redu_3dc,recompute=True)\n",
    "data_r3d_p04_list.append(dat)"
   ]
  },
  {
   "cell_type": "code",
   "execution_count": 52,
   "id": "49df9cf3-b746-43ac-bf48-0cbdaee9cf75",
   "metadata": {
    "scrolled": true
   },
   "outputs": [
    {
     "name": "stdout",
     "output_type": "stream",
     "text": [
      "eps iter 0 0.05                \n",
      "t_diff 1.67848998539524020, Y=[ 1.67848999 -0.36208757 -0.06888956]                                              \n",
      "eps iter 1 0.045000000000000005                \n",
      "t_diff 1.63907989860157494, Y=[ 1.6390799  -0.32065567 -0.06050723]                                              \n",
      "eps iter 2 0.04000000000000001                \n",
      "t_diff 1.59990448097709113, Y=[ 1.59990448 -0.2805129  -0.05253282]                                              \n",
      "eps iter 3 0.03500000000000001                \n",
      "t_diff 1.56085850008128913, Y=[ 1.5608585  -0.24159252 -0.04490514]                                              \n",
      "eps iter 4 0.030000000000000013                \n",
      "t_diff 1.52199566986590474, Y=[ 1.52199567 -0.20385727 -0.03760156]                                              \n",
      "eps iter 5 0.025000000000000015                \n",
      "t_diff 1.48343070119040074, Y=[ 1.4834307  -0.16727322 -0.03061272]                                              \n",
      "eps iter 6 0.020000000000000018                \n",
      "t_diff 1.44528514797502178, Y=[ 1.44528515 -0.13180019 -0.02393073]                                              \n",
      "eps iter 7 0.01500000000000002                \n",
      "t_diff 1.40765942376535608, Y=[ 1.40765942 -0.09739036 -0.01754457]                                              \n",
      "eps iter 8 0.010000000000000023                \n",
      "t_diff 1.37062073949368308, Y=[ 1.37062074 -0.06399048 -0.01143938]                                              \n",
      "eps iter 9 0.005000000000000025                \n",
      "t_diff 1.33420036762124028, Y=[ 1.33420037 -0.03154517 -0.00559747]                                              \n"
     ]
    },
    {
     "name": "stdout",
     "output_type": "stream",
     "text": [
      "iter=3, rel. err =7.77e-14, Y=[ 1.6390799  -0.32065567 -0.06050723]                                              \r",
      "t_diff 1.6390798986015749\n",
      "eps iter 2 0.04000000000000001                \n",
      "iter=0, rel. err =5.63e-02, Y=[ 1.60041263 -0.28053093 -0.05252756]                                              \r",
      "iter=1, rel. err =5.09e-04, Y=[ 1.59990428 -0.28051288 -0.05253279]                                              \r"
     ]
    },
    {
     "name": "stdout",
     "output_type": "stream",
     "text": [
      "iter=2, rel. err =2.00e-07, Y=[ 1.59990448 -0.2805129  -0.05253282]                                              \r",
      "iter=3, rel. err =1.25e-13, Y=[ 1.59990448 -0.2805129  -0.05253282]                                              \r",
      "t_diff 1.599904480977091\n",
      "eps iter 3 0.03500000000000001                \n",
      "iter=0, rel. err =5.53e-02, Y=[ 1.56137279 -0.24160968 -0.04491044]                                              \r",
      "iter=1, rel. err =5.15e-04, Y=[ 1.5608583  -0.2415925  -0.04490512]                                              \r",
      "iter=2, rel. err =1.99e-07, Y=[ 1.5608585  -0.24159252 -0.04490514]                                              \r"
     ]
    },
    {
     "name": "stdout",
     "output_type": "stream",
     "text": [
      "iter=3, rel. err =1.16e-13, Y=[ 1.5608585  -0.24159252 -0.04490514]                                              \r",
      "t_diff 1.560858500081289\n",
      "eps iter 4 0.030000000000000013                \n",
      "iter=0, rel. err =5.44e-02, Y=[ 1.52245753 -0.20386665 -0.03760714]                                              \r",
      "iter=1, rel. err =4.62e-04, Y=[ 1.52199552 -0.20385725 -0.03760154]                                              \r",
      "iter=2, rel. err =1.54e-07, Y=[ 1.52199567 -0.20385727 -0.03760156]                                              \r"
     ]
    },
    {
     "name": "stdout",
     "output_type": "stream",
     "text": [
      "iter=3, rel. err =8.97e-14, Y=[ 1.52199567 -0.20385727 -0.03760156]                                              \r",
      "t_diff 1.5219956698659047\n",
      "eps iter 5 0.025000000000000015                \n",
      "iter=0, rel. err =5.34e-02, Y=[ 1.4838232  -0.16727545 -0.03061578]                                              \r",
      "iter=1, rel. err =3.93e-04, Y=[ 1.4834306  -0.16727321 -0.03061271]                                              \r",
      "iter=2, rel. err =1.06e-07, Y=[ 1.4834307  -0.16727322 -0.03061272]                                              \r",
      "iter=3, rel. err =6.22e-14, Y=[ 1.4834307  -0.16727322 -0.03061272]                                              \r",
      "t_diff 1.4834307011904007\n",
      "eps iter 6 0.020000000000000018                \n"
     ]
    },
    {
     "name": "stdout",
     "output_type": "stream",
     "text": [
      "iter=0, rel. err =5.23e-02, Y=[ 1.4456041  -0.13179763 -0.023931  ]                                              \r",
      "iter=1, rel. err =3.19e-04, Y=[ 1.44528508 -0.13180018 -0.02393072]                                              \r",
      "iter=2, rel. err =6.67e-08, Y=[ 1.44528515 -0.13180019 -0.02393073]                                              \r",
      "t_diff 1.4452851479750217\n",
      "eps iter 7 0.01500000000000002                \n",
      "iter=0, rel. err =5.12e-02, Y=[ 1.40791254 -0.09738581 -0.01754307]                                              \r"
     ]
    },
    {
     "name": "stdout",
     "output_type": "stream",
     "text": [
      "iter=1, rel. err =2.53e-04, Y=[ 1.40765938 -0.09739036 -0.01754457]                                              \r",
      "iter=2, rel. err =4.00e-08, Y=[ 1.40765942 -0.09739036 -0.01754457]                                              \r",
      "t_diff 1.407659423765356\n",
      "eps iter 8 0.010000000000000023                \n",
      "iter=0, rel. err =5.01e-02, Y=[ 1.3708266  -0.06398639 -0.01143757]                                              \r",
      "iter=1, rel. err =2.06e-04, Y=[ 1.37062071 -0.06399048 -0.01143938]                                              \r",
      "iter=2, rel. err =2.53e-08, Y=[ 1.37062074 -0.06399048 -0.01143938]                                              \r",
      "t_diff 1.370620739493683\n",
      "eps iter 9 0.005000000000000025                \n"
     ]
    },
    {
     "name": "stdout",
     "output_type": "stream",
     "text": [
      "iter=0, rel. err =4.90e-02, Y=[ 1.3343776  -0.03154292 -0.00559635]                                              \r",
      "iter=1, rel. err =1.77e-04, Y=[ 1.33420035 -0.03154517 -0.00559747]                                              \r",
      "iter=2, rel. err =1.79e-08, Y=[ 1.33420037 -0.03154517 -0.00559747]                                              \r",
      "t_diff 1.3342003676212402\n"
     ]
    }
   ],
   "source": [
    "# bot 1b\n",
    "dat = follow_locking_3d(init,a11_p04,(.05,.001,-.005),\n",
    "                        rhs=_redu_3dc,recompute=True)\n",
    "data_r3d_p04_list.append(dat)"
   ]
  },
  {
   "cell_type": "markdown",
   "id": "11bd2bbf-7e30-4116-947c-c8eecbe7f79b",
   "metadata": {},
   "source": [
    "## Plot"
   ]
  },
  {
   "cell_type": "code",
   "execution_count": 53,
   "id": "45714a91-881b-4e03-b849-8835dbff4537",
   "metadata": {},
   "outputs": [
    {
     "data": {
      "image/png": "[encoded data removed]",
      "text/plain": [
       "<Figure size 300x200 with 1 Axes>"
      ]
     },
     "metadata": {},
     "output_type": "display_data"
    },
    {
     "data": {
      "image/png": "[encoded data removed]",
      "text/plain": [
       "<Figure size 300x400 with 2 Axes>"
      ]
     },
     "metadata": {},
     "output_type": "display_data"
    }
   ],
   "source": [
    "quick_plot_combined(a11_p04,\n",
    "                    kw_f={'data_list':data_p04_list},\n",
    "                    kw_r3d={'data_list':data_r3d_p04_list},\n",
    "                    kw_r={'etup':etup11})"
   ]
  },
  {
   "cell_type": "markdown",
   "id": "2a166978-54cd-4f12-8d2d-08aeef72eccd",
   "metadata": {},
   "source": [
    "## Sims"
   ]
  },
  {
   "cell_type": "code",
   "execution_count": 54,
   "id": "d1a9f72a-9d4d-4487-b0d5-004807274c9c",
   "metadata": {},
   "outputs": [],
   "source": [
    "# coupling and init\n",
    "eps11_p04 = 0.09\n",
    "th_init11_p04 = 2"
   ]
  },
  {
   "cell_type": "code",
   "execution_count": 55,
   "id": "e11dd35d-0347-4364-93cb-320df2318a0c",
   "metadata": {},
   "outputs": [],
   "source": [
    "# sim params\n",
    "dt = .01;T_p04=1000\n",
    "t11_p04 = np.arange(0,T_p04,dt)\n",
    "args11_p04 = {'args':(a11_p04,eps11_p04,del11_p04),\n",
    "             't_eval':t11_p04,**kw_sim,'dense_output':True}"
   ]
  },
  {
   "cell_type": "code",
   "execution_count": 56,
   "id": "89e67d23-4dd5-4f26-b250-5ea47c4e804e",
   "metadata": {
    "tags": []
   },
   "outputs": [],
   "source": [
    "# initialize and run full\n",
    "y0a = a11_p04.system1.lc['dat'][int((th_init11_p04/(2*np.pi)) * a11_p04.system1.TN),:]\n",
    "y0b = a11_p04.system2.lc['dat'][int((0/(2*np.pi)) * a11_p04.system2.TN),:]\n",
    "\n",
    "y0_p04 = np.array([y0a,y0b]).flatten()\n",
    "\n",
    "solf11_p04 = solve_ivp(_full,[0,t11_p04[-1]],\n",
    "                        y0_p04, **args11_p04)"
   ]
  },
  {
   "cell_type": "code",
   "execution_count": 57,
   "id": "abe5fe42-e5c3-4e56-b503-92d65e9c3aab",
   "metadata": {
    "tags": []
   },
   "outputs": [],
   "source": [
    "solr11_p04 = solve_ivp(_redu_c,[0,t11_p04[-1]],\n",
    "                     [th_init11_p04],**args11_p04)"
   ]
  },
  {
   "cell_type": "code",
   "execution_count": 58,
   "id": "1d441102-fafe-48e5-b0fd-246611be51b3",
   "metadata": {},
   "outputs": [],
   "source": [
    "# solr12b_p04 = solve_ivp(_redu_3dc,[0,t11_p04[-1]],\n",
    "#                     [th_init11_p04,0,0],**args11_p04)"
   ]
  },
  {
   "cell_type": "code",
   "execution_count": 59,
   "id": "c30b2227-7c29-40c3-8a87-716bd8f7e8ee",
   "metadata": {},
   "outputs": [],
   "source": [
    "tp12a_p04, phase12a_p04 = get_phase(t11_p04,solf11_p04.y.T[:,:4],\n",
    "                            skipn=50,system1=a11_p04.system1)\n",
    "tp12b_p04, phase12b_p04 = get_phase(t11_p04,solf11_p04.y.T[:,4:],\n",
    "                            skipn=50,system1=a11_p04.system2)"
   ]
  },
  {
   "cell_type": "code",
   "execution_count": 60,
   "id": "6b3aad3f-8059-49fa-83ea-c56287487ce1",
   "metadata": {},
   "outputs": [
    {
     "data": {
      "text/plain": [
       "(-0.5, 6.783185307179586)"
      ]
     },
     "execution_count": 60,
     "metadata": {},
     "output_type": "execute_result"
    },
    {
     "data": {
      "image/png": "[encoded data removed]",
      "text/plain": [
       "<Figure size 640x480 with 1 Axes>"
      ]
     },
     "metadata": {},
     "output_type": "display_data"
    }
   ],
   "source": [
    "fig,axs = plt.subplots()\n",
    "y = np.mod(phase12a_p04 - a11_p04.om*phase12b_p04,2*np.pi)\n",
    "axs.scatter(tp12a_p04,y,s=1,alpha=.5,color='black')\n",
    "\n",
    "axs.plot(t11_p04,np.mod(solr11_p04.y.T,2*np.pi),\n",
    "         color='tab:red')\n",
    "\n",
    "axs.set_ylim(-.5,2*np.pi+.5)"
   ]
  }
 ],
 "metadata": {
  "kernelspec": {
   "display_name": "Python 3 (ipykernel)",
   "language": "python",
   "name": "python3"
  },
  "language_info": {
   "codemirror_mode": {
    "name": "ipython",
    "version": 3
   },
   "file_extension": ".py",
   "mimetype": "text/x-python",
   "name": "python",
   "nbconvert_exporter": "python",
   "pygments_lexer": "ipython3",
   "version": "3.10.14"
  }
 },
 "nbformat": 4,
 "nbformat_minor": 5
}
