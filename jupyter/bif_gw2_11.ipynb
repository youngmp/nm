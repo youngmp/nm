{
 "cells": [
  {
   "cell_type": "markdown",
   "id": "ff90a39b-e0db-4e1f-9695-8a7833adcc09",
   "metadata": {},
   "source": [
    "# gw2 1:1 Bifurcation Diagrams"
   ]
  },
  {
   "cell_type": "markdown",
   "id": "fdccec32-d0e4-4232-8417-40e5796cbcf8",
   "metadata": {},
   "source": [
    "# Inits"
   ]
  },
  {
   "cell_type": "code",
   "execution_count": 1,
   "id": "77a223ba-9eaa-4986-abd1-d82273741aaa",
   "metadata": {},
   "outputs": [],
   "source": [
    "import sys; sys.path.insert(0, '..') # add parent folder path where lib folder is\n",
    "# user-defined\n",
    "import nmCoupling as nm\n",
    "# import nmCoupling_old as nm\n",
    "import response as rp\n",
    "\n",
    "import gw2\n",
    "\n",
    "from lib.util import (get_phase, freq_est, get_tongue_1d, pl_exist_1d, get_period, bif1d, follow_phase_diffs, phase_lock_r3d, follow_locking_3d)\n",
    "\n",
    "from lib.rhs import _redu_c, _full\n",
    "from lib.plot_util import add_diagram_1d_scatter, quick_plot_combined\n",
    "\n",
    "from generate_figures import _redu_3dc_gw as _redu_3dc\n",
    "\n",
    "import numpy as np\n",
    "import scipy as sp\n",
    "import matplotlib.pyplot as plt\n",
    "from scipy.integrate import solve_ivp\n",
    "import sympy as sym\n",
    "\n",
    "from scipy.optimize import root,bisect\n",
    "from copy import deepcopy\n",
    "import os\n",
    "\n",
    "plt.rcParams.update({\n",
    "    \"text.usetex\": True,\n",
    "    \"font.family\": \"Helvetica\"\n",
    "})\n",
    "\n",
    "nmc = nm.nmCoupling\n",
    "rsp = rp.Response"
   ]
  },
  {
   "cell_type": "markdown",
   "id": "9425a001-9dae-43cf-be95-5839dbc4204d",
   "metadata": {},
   "source": [
    "## Dicts"
   ]
  },
  {
   "cell_type": "code",
   "execution_count": 2,
   "id": "6b1a0035-5be1-4e59-a8fa-f210b2c553dc",
   "metadata": {},
   "outputs": [],
   "source": [
    "kw_sim = {'rtol':1e-8,'atol':1e-8,'method':'LSODA'}"
   ]
  },
  {
   "cell_type": "code",
   "execution_count": 3,
   "id": "0e2f17bf-f904-4ff6-95e7-87007304ef7a",
   "metadata": {},
   "outputs": [],
   "source": [
    "pd1 = {'v1':.84,'v2':.42,'v4':.35,'v6':.35,'v8':1,\n",
    "           'k1':1,'k2':1,'k3':.7,'k4':1,'k5':.7,\n",
    "           'k6':1,'k7':.35,'k8':1,'K':0.5,'kc':1,\n",
    "           'n':6,'L':0,'del':0,'om':1,'om_fix':1}"
   ]
  },
  {
   "cell_type": "code",
   "execution_count": 4,
   "id": "ae429e39-ae4b-485e-b33d-ac0dee07b455",
   "metadata": {
    "editable": true,
    "slideshow": {
     "slide_type": ""
    },
    "tags": []
   },
   "outputs": [],
   "source": [
    "kws1 = {'var_names':['x','y','z','v'],\n",
    "        'pardict':pd1,\n",
    "        'rhs':gw2.rhs,\n",
    "        'coupling':gw2.coupling,\n",
    "        'init':np.array([.3882,.523,1.357,.4347,24.2]),\n",
    "        'TN':2000,\n",
    "        'trunc_order':2,\n",
    "        'z_forward':False,\n",
    "        'i_forward':False,\n",
    "        'i_forward':[False,True,False,False,False,False,False],\n",
    "        'i_bad_dx':[False,True,False,False,False,False,False],\n",
    "        'max_iter':20,\n",
    "        'rtol':1e-12,\n",
    "        'atol':1e-12,\n",
    "        'rel_tol':1e-9,\n",
    "        'save_fig':False,\n",
    "        'lc_prominence':.05,\n",
    "        'factor':0.5}"
   ]
  },
  {
   "cell_type": "markdown",
   "id": "8dc64efb-f56c-4b5b-87b9-e499901bd846",
   "metadata": {},
   "source": [
    "## Defs"
   ]
  },
  {
   "cell_type": "code",
   "execution_count": 5,
   "id": "b3f30c35-694d-45a3-990e-cd1dde33c354",
   "metadata": {},
   "outputs": [],
   "source": [
    "kw_bif = {'method':'LSODA','dense_output':True,'rtol':1e-9,'atol':1e-9}"
   ]
  },
  {
   "cell_type": "code",
   "execution_count": 6,
   "id": "bc3ba614-9570-4545-ab84-18a81ba451ea",
   "metadata": {},
   "outputs": [],
   "source": [
    "eps_list11r = np.linspace(0.001,.1,50)\n",
    "etup11 = (.001,.1,50)"
   ]
  },
  {
   "cell_type": "code",
   "execution_count": 7,
   "id": "b146854f-f10f-4148-8b6b-7eb9eedce457",
   "metadata": {
    "editable": true,
    "slideshow": {
     "slide_type": ""
    },
    "tags": []
   },
   "outputs": [],
   "source": [
    "x_temp = np.linspace(-np.pi,3*np.pi,500)"
   ]
  },
  {
   "cell_type": "markdown",
   "id": "0fbaf8eb-f8e9-4f24-a492-ef47d0cc51ed",
   "metadata": {},
   "source": [
    "### rhs redu 4d"
   ]
  },
  {
   "cell_type": "code",
   "execution_count": 8,
   "id": "d721d8d8-26bc-4bb6-8029-25f56cbb1229",
   "metadata": {},
   "outputs": [],
   "source": [
    "def _redu_4dc(t,y,a,eps=.01,del1=0):\n",
    "    system1 = a.system1;system2 = a.system2\n",
    "    pdA = a.system1.pardict;pdB = a.system2.pardict\n",
    "\n",
    "    s,ds = np.linspace(0,2*np.pi*a._m[1],2000,retstep=True)\n",
    "    thA,psA,thB,psB = y\n",
    "\n",
    "    om = a._n[1]/a._m[1]\n",
    "    in1 = thA-om*thB+om*s;in2 = s\n",
    "\n",
    "    zA = a.th_lam(in1,psA);iA = a.ps_lam(in1,psA)\n",
    "    zB = a.th_lam(in2,psB);iB = a.ps_lam(in2,psB)\n",
    "\n",
    "    # coupling terms\n",
    "    v1 = system1.lc['lam_v0'](in1) + a.g_lam(in1,psA)\n",
    "    v2 = system2.lc['lam_v1'](in2) + a.g_lam(in2,psB)\n",
    "\n",
    "    GA = (pdA['K0']*(v1+v2)/2/pdA['kc0']+del1)*pdA['om_fix0']\n",
    "    GB = (pdB['K1']*(v2+v1)/2/pdB['kc1'])*pdB['om_fix1']\n",
    "\n",
    "    dthA = eps*np.sum(zA*GA)*ds/(2*np.pi*a._m[1])\n",
    "    dpsA = a.system1.kappa_val*psA + eps*np.sum(iA*GA)*ds/(2*np.pi*a._m[1])\n",
    "\n",
    "    dthB = eps*np.sum(zB*GB)*ds/(2*np.pi*a._m[1])\n",
    "    dpsB = a.system2.kappa_val*psB + eps*np.sum(iB*GB)*ds/(2*np.pi*a._m[1])\n",
    "    \n",
    "    return np.array([om*dthA,om*dpsA,dthB,dpsB])"
   ]
  },
  {
   "cell_type": "markdown",
   "id": "90136d96-8683-4c75-bac2-5c7f97c7229f",
   "metadata": {},
   "source": [
    "### rhs redu raw"
   ]
  },
  {
   "cell_type": "code",
   "execution_count": 9,
   "id": "54029ca7-f876-4dc6-b543-92c94a48c99a",
   "metadata": {},
   "outputs": [],
   "source": [
    "def _redu_4r(t,y,a,eps=.01,del1=0):\n",
    "    system1 = a.system1;system2 = a.system2\n",
    "    pdA = a.system1.pardict;pdB = a.system2.pardict\n",
    "\n",
    "    thA,psA,thB,psB = y\n",
    "\n",
    "    om = a._n[1]/a._m[1]\n",
    "\n",
    "    zA = a.th_lam(thA,psA);iA = a.ps_lam(thA,psA)\n",
    "    zB = a.th_lam(thB,psB);iB = a.ps_lam(thB,psB)\n",
    "\n",
    "    # coupling terms\n",
    "    v1 = system1.lc['lam_v0'](thA) + a.g_lam(thA,psA)\n",
    "    v2 = system2.lc['lam_v1'](thB) + a.g_lam(thB,psB)\n",
    "\n",
    "    GA = (pdA['K0']*(v1+v2)/2/pdA['kc0']+del1)*pdA['om_fix0']\n",
    "    GB = (pdB['K1']*(v2+v1)/2/pdB['kc1'])*pdB['om_fix1']\n",
    "\n",
    "    dthA = 1 + eps*zA*GA\n",
    "    dpsA = a.system1.kappa_val*psA + eps*iA*GA\n",
    "\n",
    "    dthB = 1 + eps*zB*GB\n",
    "    dpsB = a.system2.kappa_val*psB + eps*iB*GB\n",
    "    \n",
    "    return np.array([om*dthA,om*dpsA,dthB,dpsB])"
   ]
  },
  {
   "cell_type": "markdown",
   "id": "14505b64-ae3d-4f74-aaac-13de7c6a63e8",
   "metadata": {},
   "source": [
    "## Initialize Response Functions"
   ]
  },
  {
   "cell_type": "code",
   "execution_count": 10,
   "id": "c26af2d2-6124-4421-b0be-b28a9d2ed6e1",
   "metadata": {
    "editable": true,
    "slideshow": {
     "slide_type": ""
    },
    "tags": []
   },
   "outputs": [
    {
     "name": "stdout",
     "output_type": "stream",
     "text": [
      "mkdir ./data/gw0/\n",
      "* Loading LC data...\n",
      "self.T 6.283185307179586 omfix 3.859018323065443\n",
      "* Loading monodromy...\n",
      "* Floquet Exponent kappa =-0.15846659975382527\n",
      "* Loading g symbolic...\n",
      "* Computing g...\n",
      "* Loading heterogeneous terms...\n",
      "* Computing z...\n",
      "* Computing i...\n",
      "mkdir ./data/gw1/\n",
      "* Loading LC data...\n",
      "self.T 6.283185307179586 omfix 3.859018323065443\n",
      "* Loading monodromy...\n",
      "* Floquet Exponent kappa =-0.15846659975382527\n",
      "* Loading g symbolic...\n",
      "* Computing g...\n",
      "* Loading heterogeneous terms...\n",
      "* Computing z...\n",
      "* Computing i...\n"
     ]
    }
   ],
   "source": [
    "system1 = rsp(idx=0,model_name='gw0',**kws1)\n",
    "system2 = rsp(idx=1,model_name='gw1',**kws1)"
   ]
  },
  {
   "cell_type": "markdown",
   "id": "dd93fa11-c779-46d7-aa42-f378a6fed348",
   "metadata": {},
   "source": [
    "# del=0.0"
   ]
  },
  {
   "cell_type": "code",
   "execution_count": 11,
   "id": "24d169c0-03e6-4727-8621-6cc80845c0b0",
   "metadata": {
    "editable": true,
    "slideshow": {
     "slide_type": ""
    },
    "tags": []
   },
   "outputs": [
    {
     "name": "stdout",
     "output_type": "stream",
     "text": [
      "pfactor 4\n",
      "* Loading p symbolic...\n",
      "* Loading p symbolic...\n",
      "* Loading H symbolic...\n",
      "* Loading H symbolic...\n",
      "* Loading H gw0, order=0...\n",
      "* Loading H gw1, order=0...\n",
      "* Loading H gw0, order=1...\n",
      "* Loading H gw1, order=1...\n",
      "* Loading H gw0, order=2...\n",
      "* Loading H gw1, order=2...\n"
     ]
    }
   ],
   "source": [
    "del11_p0 = 0\n",
    "a11_p0 = nm.nmCoupling(system1,system2,\n",
    "                    _n=('om0',1),_m=('om1',1),\n",
    "                    NH=1000,\n",
    "                    save_fig=False,\n",
    "                    del1=del11_p0)"
   ]
  },
  {
   "cell_type": "code",
   "execution_count": 12,
   "id": "3929586f-3ad8-40ef-9f6d-31013bba68f8",
   "metadata": {},
   "outputs": [
    {
     "name": "stdout",
     "output_type": "stream",
     "text": [
      "-5.926353114561952 3.0846688137522524\n",
      "-29.94974105452973 1.015520093830383\n"
     ]
    }
   ],
   "source": [
    "print(np.amin(a11_p0.system1.p['dat'][1]),\n",
    "      np.amax(a11_p0.system1.p['dat'][1]))\n",
    "print(np.amin(a11_p0.system1.p['dat'][2]),\n",
    "      np.amax(a11_p0.system1.p['dat'][2]))"
   ]
  },
  {
   "cell_type": "markdown",
   "id": "8dee4f0d-d1cc-436c-a420-01fbbd421edf",
   "metadata": {},
   "source": [
    "## Get Branches Full"
   ]
  },
  {
   "cell_type": "code",
   "execution_count": 13,
   "id": "98a5dac5-1b35-4591-a827-9a7d51281265",
   "metadata": {},
   "outputs": [],
   "source": [
    "kw_p0 = {'a':a11_p0,'del1':del11_p0,'recompute':False,\n",
    "        'bifdir':'bif1d_gw2/','_full_rhs':_full}"
   ]
  },
  {
   "cell_type": "code",
   "execution_count": 14,
   "id": "a18cb49a-cdb8-4e7b-9e93-bdb617c2b540",
   "metadata": {},
   "outputs": [],
   "source": [
    "data_p0_list = []"
   ]
  },
  {
   "cell_type": "code",
   "execution_count": 15,
   "id": "e5d7dea3-8f92-4d7e-b5e6-a668c3b782d5",
   "metadata": {},
   "outputs": [],
   "source": [
    "# bot\n",
    "dat = follow_phase_diffs(init=3,eps_init=0.05,eps_final=0.1,\n",
    "                         deps=.01,**kw_p0)\n",
    "data_p0_list.append(dat)"
   ]
  },
  {
   "cell_type": "code",
   "execution_count": 16,
   "id": "e92fc893-0065-48df-8226-90aa0a0e6a27",
   "metadata": {
    "scrolled": true
   },
   "outputs": [],
   "source": [
    "# mid 1f\n",
    "dat = follow_phase_diffs(init=3,eps_init=0.05,eps_final=0.1,\n",
    "                         deps=.01,**kw_p0)\n",
    "data_p0_list.append(dat)"
   ]
  },
  {
   "cell_type": "code",
   "execution_count": 17,
   "id": "37ff26cb-a59d-487d-83d7-6589e9a610e1",
   "metadata": {},
   "outputs": [],
   "source": [
    "# mid 1b\n",
    "dat = follow_phase_diffs(init=2.5,eps_init=0.05,eps_final=0.035,\n",
    "                         deps=-.002,**kw_p0)\n",
    "data_p0_list.append(dat)"
   ]
  },
  {
   "cell_type": "markdown",
   "id": "25205784-5f59-4e5c-ba48-66f4a55dbb3d",
   "metadata": {},
   "source": [
    "## Get Branches 3D"
   ]
  },
  {
   "cell_type": "code",
   "execution_count": 18,
   "id": "ac9c48cf-dda6-4e8c-8741-62b4c08801b7",
   "metadata": {},
   "outputs": [],
   "source": [
    "data_r3d_p0_list = []"
   ]
  },
  {
   "cell_type": "code",
   "execution_count": 19,
   "id": "a9a39f32-c063-4b7c-897e-4dfb4743b706",
   "metadata": {
    "scrolled": true
   },
   "outputs": [
    {
     "name": "stdout",
     "output_type": "stream",
     "text": [
      "t_diff 3.3230354823240454e-16=[3.32303548e-16 1.02709521e-01 1.02709521e-01]                                                 \n",
      "[0.     0.1027 0.1027]\n"
     ]
    }
   ],
   "source": [
    "# find init for this branch\n",
    "_,init = phase_lock_r3d([.1,0,0],a11_p0,.05,_redu_3dc)\n",
    "print(init)"
   ]
  },
  {
   "cell_type": "code",
   "execution_count": 20,
   "id": "096a2dfc-b5ab-4633-9736-f330c3f73891",
   "metadata": {
    "scrolled": true
   },
   "outputs": [],
   "source": [
    "# bot 1f\n",
    "dat = follow_locking_3d(init,a11_p0,(.05,.11,.01),\n",
    "                        rhs=_redu_3dc,recompute=False)\n",
    "data_r3d_p0_list.append(dat)"
   ]
  },
  {
   "cell_type": "code",
   "execution_count": 21,
   "id": "e06f2c6e-4a4b-4eff-905e-01130359f1ad",
   "metadata": {
    "scrolled": true
   },
   "outputs": [],
   "source": [
    "# bot 1b\n",
    "dat = follow_locking_3d(init,a11_p0,(.05,.001,-.005),\n",
    "                        rhs=_redu_3dc,recompute=False)\n",
    "data_r3d_p0_list.append(dat)"
   ]
  },
  {
   "cell_type": "markdown",
   "id": "aa739ad0-0185-4f97-9d3a-7867421c5c48",
   "metadata": {},
   "source": [
    "## Plot"
   ]
  },
  {
   "cell_type": "code",
   "execution_count": 22,
   "id": "573dc664-d433-47a1-bf4b-bbd0b46e80f9",
   "metadata": {},
   "outputs": [
    {
     "data": {
      "image/png": "[encoded data removed]",
      "text/plain": [
       "<Figure size 300x200 with 1 Axes>"
      ]
     },
     "metadata": {},
     "output_type": "display_data"
    }
   ],
   "source": [
    "quick_plot_combined(a11_p0,\n",
    "                    kw_f={'data_list':data_p0_list},\n",
    "                    kw_r3d={'data_list':data_r3d_p0_list},\n",
    "                    kw_r={'etup':etup11})"
   ]
  },
  {
   "cell_type": "markdown",
   "id": "94e0e8f4-e1f3-463b-9296-787a1ffad76f",
   "metadata": {},
   "source": [
    "# del=0.01"
   ]
  },
  {
   "cell_type": "code",
   "execution_count": 23,
   "id": "5a05ef3d-94e6-458c-b343-0b18b0387a4f",
   "metadata": {
    "editable": true,
    "slideshow": {
     "slide_type": ""
    },
    "tags": []
   },
   "outputs": [
    {
     "name": "stdout",
     "output_type": "stream",
     "text": [
      "pfactor 4\n",
      "* Loading p symbolic...\n",
      "* Loading p symbolic...\n",
      "* Loading H symbolic...\n",
      "* Loading H symbolic...\n",
      "* Loading H gw0, order=0...\n",
      "* Loading H gw1, order=0...\n",
      "* Loading H gw0, order=1...\n",
      "* Loading H gw1, order=1...\n",
      "* Loading H gw0, order=2...\n",
      "* Loading H gw1, order=2...\n"
     ]
    }
   ],
   "source": [
    "del11_p01 = 0.01\n",
    "a11_p01 = nm.nmCoupling(system1,system2,\n",
    "                    _n=('om0',1),_m=('om1',1),\n",
    "                    NH=1000,\n",
    "                    save_fig=False,\n",
    "                    del1=del11_p01)"
   ]
  },
  {
   "cell_type": "markdown",
   "id": "1fc625d2-0ad6-4b0a-a7cb-4aa13aee16bc",
   "metadata": {},
   "source": [
    "## Get Branches Full"
   ]
  },
  {
   "cell_type": "code",
   "execution_count": 24,
   "id": "bc18300e-2b1f-49ff-8667-142cffe8d7ee",
   "metadata": {},
   "outputs": [],
   "source": [
    "kw_p01 = {'a':a11_p01,'del1':del11_p01,'recompute':False,\n",
    "        'bifdir':'bif1d_gw2/','_full_rhs':_full}"
   ]
  },
  {
   "cell_type": "code",
   "execution_count": 25,
   "id": "282d75fe-2813-4c4f-8070-8f41769a925f",
   "metadata": {},
   "outputs": [],
   "source": [
    "data_p01_list = []"
   ]
  },
  {
   "cell_type": "code",
   "execution_count": 26,
   "id": "e05d1650-f771-4623-b268-582bc27decf0",
   "metadata": {},
   "outputs": [],
   "source": [
    "# branch 1f\n",
    "dat = follow_phase_diffs(init=3,eps_init=0.05,eps_final=0.1,\n",
    "                         deps=.01,**kw_p01)\n",
    "data_p01_list.append(dat)"
   ]
  },
  {
   "cell_type": "code",
   "execution_count": 27,
   "id": "482d1a3c-84c3-42fb-a928-4ba051c07220",
   "metadata": {
    "scrolled": true
   },
   "outputs": [],
   "source": [
    "# branch 1b\n",
    "dat = follow_phase_diffs(init=3,eps_init=0.05,eps_final=0.001,\n",
    "                         deps=-.002,**kw_p01)\n",
    "data_p01_list.append(dat)"
   ]
  },
  {
   "cell_type": "code",
   "execution_count": 28,
   "id": "7e48148a-b2f5-4dd2-ba5c-42528bb8eefd",
   "metadata": {},
   "outputs": [],
   "source": [
    "# # mid 1b\n",
    "# dat = follow_phase_diffs(init=2.5,eps_init=0.05,eps_final=0.035,\n",
    "#                          deps=-.002,**kw_p01)\n",
    "# data_p01_list.append(dat)"
   ]
  },
  {
   "cell_type": "markdown",
   "id": "18ed36c3-84fa-402a-9b7d-af626b4cdb66",
   "metadata": {},
   "source": [
    "## Get Branches 3D"
   ]
  },
  {
   "cell_type": "code",
   "execution_count": 29,
   "id": "d689e2b1-7969-4c63-abc7-153fee895bff",
   "metadata": {},
   "outputs": [],
   "source": [
    "data_r3d_p01_list = []"
   ]
  },
  {
   "cell_type": "code",
   "execution_count": 30,
   "id": "d60de990-bf4b-41b6-bc94-94b0d9a614a0",
   "metadata": {
    "scrolled": true
   },
   "outputs": [
    {
     "name": "stdout",
     "output_type": "stream",
     "text": [
      "t_diff 0.50191230254181332, Y=[0.5019123  0.01128253 0.08406823]                                              \n",
      "[0.5019 0.0113 0.0841]\n"
     ]
    }
   ],
   "source": [
    "# find init for this branch\n",
    "_,init = phase_lock_r3d([1,0,0],a11_p01,.05,_redu_3dc)\n",
    "print(init)"
   ]
  },
  {
   "cell_type": "code",
   "execution_count": 31,
   "id": "83807f77-553f-4c66-93cf-abc357fc9daa",
   "metadata": {
    "scrolled": true
   },
   "outputs": [
    {
     "name": "stdout",
     "output_type": "stream",
     "text": [
      "eps iter 0 0.05                \n",
      "t_diff 0.50191230254181210, Y=[0.5019123  0.01128253 0.08406823]                                              \n",
      "eps iter 1 0.060000000000000005                \n",
      "t_diff 0.51071376497974058, Y=[0.51071376 0.01430605 0.10044968]                                              \n",
      "eps iter 2 0.07                \n",
      "t_diff 0.51955588314091678, Y=[0.51955588 0.01755572 0.11666926]                                              \n",
      "eps iter 3 0.08000000000000002                \n",
      "t_diff 0.52849589835539878, Y=[0.5284959  0.02101549 0.13271729]                                              \n",
      "eps iter 4 0.09000000000000001                \n",
      "t_diff 0.53759239469398908, Y=[0.53759239 0.02466743 0.14858337]                                              \n",
      "eps iter 5 0.1                \n",
      "t_diff 0.54690481588477418, Y=[0.54690482 0.02849179 0.16425653]                                              \n"
     ]
    }
   ],
   "source": [
    "# bot 1f\n",
    "dat = follow_locking_3d(init,a11_p01,(.05,.11,.01),\n",
    "                        rhs=_redu_3dc,recompute=True)\n",
    "data_r3d_p01_list.append(dat)"
   ]
  },
  {
   "cell_type": "code",
   "execution_count": 32,
   "id": "04222b15-b170-4e86-9046-8739ac8ca812",
   "metadata": {
    "scrolled": true
   },
   "outputs": [
    {
     "name": "stdout",
     "output_type": "stream",
     "text": [
      "eps iter 0 0.05                \n",
      "t_diff 0.50191230254181210, Y=[0.5019123  0.01128253 0.08406823]                                              \n",
      "eps iter 1 0.045000000000000005                \n",
      "t_diff 0.49750939023343470, Y=[0.49750939 0.00986011 0.07581957]                                              \n",
      "eps iter 2 0.04000000000000001                \n",
      "t_diff 0.49309597027325090, Y=[0.49309597 0.00849946 0.06753364]                                              \n",
      "eps iter 3 0.03500000000000001                \n",
      "t_diff 0.48866541582417994, Y=[0.48866542 0.00720209 0.05921137]                                              \n",
      "eps iter 4 0.030000000000000013                \n",
      "t_diff 0.48421123787392234, Y=[0.48421124 0.00596942 0.05085362]                                              \n",
      "eps iter 5 0.025000000000000015                \n",
      "t_diff 0.47972708984038450, Y=[0.47972709 0.00480279 0.04246116]                                              \n",
      "eps iter 6 0.020000000000000018                \n",
      "t_diff 0.47520677113866510, Y=[0.47520677 0.00370341 0.03403471]                                              \n",
      "eps iter 7 0.01500000000000002                \n",
      "t_diff 0.47064423030139431, Y=[0.47064423 0.00267243 0.02557487]                                              \n",
      "eps iter 8 0.010000000000000023                \n",
      "t_diff 0.46603356689053627, Y=[0.46603357 0.0017109  0.01708219]                                              \n",
      "eps iter 9 0.005000000000000025                \n",
      "t_diff 0.46136903315272515, Y=[0.46136903 0.00081979 0.00855711]                                              \n"
     ]
    }
   ],
   "source": [
    "# bot 1b\n",
    "dat = follow_locking_3d(init,a11_p01,(.05,.001,-.005),\n",
    "                        rhs=_redu_3dc,recompute=True)\n",
    "data_r3d_p01_list.append(dat)"
   ]
  },
  {
   "cell_type": "markdown",
   "id": "35fd8806-fe59-4366-b97d-fe0902e60f95",
   "metadata": {},
   "source": [
    "## Plot"
   ]
  },
  {
   "cell_type": "code",
   "execution_count": 33,
   "id": "a8e32ad3-94a1-40f8-a88b-9e50a78d3ec2",
   "metadata": {},
   "outputs": [
    {
     "data": {
      "image/png": "[encoded data removed]",
      "text/plain": [
       "<Figure size 300x200 with 1 Axes>"
      ]
     },
     "metadata": {},
     "output_type": "display_data"
    }
   ],
   "source": [
    "quick_plot_combined(a11_p01,\n",
    "                    kw_f={'data_list':data_p01_list},\n",
    "                    kw_r3d={'data_list':data_r3d_p01_list},\n",
    "                    kw_r={'etup':etup11})"
   ]
  },
  {
   "cell_type": "markdown",
   "id": "3752f4cb-8426-4658-9909-e0f6ab8543f9",
   "metadata": {},
   "source": [
    "# del=0.03"
   ]
  },
  {
   "cell_type": "code",
   "execution_count": 34,
   "id": "aebbc76b-9ac9-4e4f-b990-a3921fc7ba78",
   "metadata": {
    "editable": true,
    "slideshow": {
     "slide_type": ""
    },
    "tags": []
   },
   "outputs": [
    {
     "name": "stdout",
     "output_type": "stream",
     "text": [
      "pfactor 4\n",
      "* Computing p symbolic...\n",
      "* Computing p symbolic...\n",
      "p order=0\n",
      "p order=0\n",
      "p order=1\n",
      "p order=1\n",
      "p order=2\n",
      "p order=2\n",
      "* Loading H symbolic...\n",
      "* Loading H symbolic...\n",
      "* Loading H gw0, order=0...\n",
      "* Loading H gw1, order=0...\n",
      "* Loading H gw0, order=1...\n",
      "* Loading H gw1, order=1...\n",
      "* Loading H gw0, order=2...\n",
      "* Loading H gw1, order=2...\n"
     ]
    }
   ],
   "source": [
    "del11_p03 = 0.03\n",
    "a11_p03 = nm.nmCoupling(system1,system2,\n",
    "                        recompute_list=['p_gw0','p_gw1',\n",
    "                                       'p_data_gw0','p_data_gw1'],\n",
    "                    _n=('om0',1),_m=('om1',1),\n",
    "                    NH=1000,\n",
    "                    save_fig=False,\n",
    "                    del1=del11_p03)"
   ]
  },
  {
   "cell_type": "markdown",
   "id": "25af4a65-0c01-4837-b206-af1102080ed7",
   "metadata": {},
   "source": [
    "## Get Branches Full"
   ]
  },
  {
   "cell_type": "code",
   "execution_count": 35,
   "id": "85e27c69-bab6-4e01-ac1b-1e5818c437a7",
   "metadata": {},
   "outputs": [],
   "source": [
    "kw_p03 = {'a':a11_p03,'del1':del11_p03,'recompute':False,\n",
    "        'bifdir':'bif1d_gw2/','_full_rhs':_full}"
   ]
  },
  {
   "cell_type": "code",
   "execution_count": 36,
   "id": "117d5253-cfb9-408c-8cdf-e751d66c7022",
   "metadata": {},
   "outputs": [],
   "source": [
    "data_p03_list = []"
   ]
  },
  {
   "cell_type": "code",
   "execution_count": 37,
   "id": "76d05904-d474-445b-a540-28df4e38da72",
   "metadata": {},
   "outputs": [],
   "source": [
    "# branch 1f\n",
    "dat = follow_phase_diffs(init=3,eps_init=0.05,eps_final=0.1,\n",
    "                         deps=.01,**kw_p03)\n",
    "data_p03_list.append(dat)"
   ]
  },
  {
   "cell_type": "code",
   "execution_count": 38,
   "id": "61b16249-172a-4d0e-b1a8-212a16d970cc",
   "metadata": {
    "scrolled": true
   },
   "outputs": [],
   "source": [
    "# branch 1b\n",
    "dat = follow_phase_diffs(init=3,eps_init=0.05,eps_final=0.001,\n",
    "                         deps=-.002,**kw_p03)\n",
    "data_p03_list.append(dat)"
   ]
  },
  {
   "cell_type": "code",
   "execution_count": 39,
   "id": "ed67193d-ff41-4941-b84a-2a47e9489044",
   "metadata": {},
   "outputs": [],
   "source": [
    "# # mid 1b\n",
    "# dat = follow_phase_diffs(init=2.5,eps_init=0.05,eps_final=0.035,\n",
    "#                          deps=-.002,**kw_p03)\n",
    "# data_p03_list.append(dat)"
   ]
  },
  {
   "cell_type": "markdown",
   "id": "30a9bb1e-0202-480c-8196-2ef688602beb",
   "metadata": {},
   "source": [
    "## Get Branches 3D"
   ]
  },
  {
   "cell_type": "code",
   "execution_count": 40,
   "id": "b13ed278-6ee0-4a73-a502-dc1d97b3d351",
   "metadata": {},
   "outputs": [],
   "source": [
    "data_r3d_p03_list = []"
   ]
  },
  {
   "cell_type": "code",
   "execution_count": 41,
   "id": "38498462-a780-40a2-93d0-58fc01162edc",
   "metadata": {
    "scrolled": true
   },
   "outputs": [
    {
     "name": "stdout",
     "output_type": "stream",
     "text": [
      "t_diff 1.25733573429608313, Y=[ 1.25733573 -0.21743397 -0.00188245]                                                          \n",
      "[ 1.2573 -0.2174 -0.0019]\n"
     ]
    }
   ],
   "source": [
    "# find init for this branch\n",
    "_,init = phase_lock_r3d([1,0,0],a11_p03,.05,_redu_3dc)\n",
    "print(init)"
   ]
  },
  {
   "cell_type": "code",
   "execution_count": 42,
   "id": "69687dca-f762-4663-bafa-ea3cf003c8e9",
   "metadata": {
    "scrolled": true
   },
   "outputs": [
    {
     "name": "stdout",
     "output_type": "stream",
     "text": [
      "eps iter 0 0.05                \n",
      "t_diff 1.25733573429608430, Y=[ 1.25733573 -0.21743397 -0.00188245]                                              \n",
      "eps iter 1 0.060000000000000005                \n",
      "t_diff 1.31046154560203723, Y=[ 1.31046155 -0.26598437 -0.00368952]                                              \n",
      "eps iter 2 0.07                \n",
      "t_diff 1.37070972025144362, Y=[ 1.37070972 -0.3180521  -0.00715933]                                              \n",
      "eps iter 3 0.08000000000000002                \n",
      "t_diff 1.44381996055912270, Y=[ 1.44381996 -0.37620565 -0.01380067]                                              \n",
      "eps iter 4 0.09000000000000001                \n",
      "t_diff 1.54458289721276828, Y=[ 1.5445829  -0.44721935 -0.02747139]                                              \n",
      "eps iter 5 0.1                \n",
      "t_diff 1.76095212453428961, Y=[ 1.76095212 -0.57142073 -0.07115545]                                              \n"
     ]
    }
   ],
   "source": [
    "# bot 1f\n",
    "dat = follow_locking_3d(init,a11_p03,(.05,.11,.01),\n",
    "                        rhs=_redu_3dc,recompute=True)\n",
    "data_r3d_p03_list.append(dat)"
   ]
  },
  {
   "cell_type": "code",
   "execution_count": 43,
   "id": "db166493-d01a-4ffe-b4f9-3a47a934b032",
   "metadata": {
    "scrolled": true
   },
   "outputs": [
    {
     "name": "stdout",
     "output_type": "stream",
     "text": [
      "eps iter 0 0.05                \n",
      "t_diff 1.25733573429608430, Y=[ 1.25733573 -0.21743397 -0.00188245]                                              \n",
      "eps iter 1 0.045000000000000005                \n",
      "t_diff 1.23247719480163938, Y=[ 1.23247719 -0.19406694 -0.00134807]                                              \n",
      "eps iter 2 0.04000000000000001                \n",
      "t_diff 1.20841896769615059, Y=[ 1.20841897e+00 -1.71173447e-01 -9.72868510e-04]                                              \n",
      "eps iter 3 0.03500000000000001                \n",
      "t_diff 1.18497490443509129, Y=[ 1.18497490e+00 -1.48687238e-01 -7.10483078e-04]                                              \n",
      "eps iter 4 0.030000000000000013                \n",
      "t_diff 1.16199466071577960, Y=[ 1.16199466e+00 -1.26560023e-01 -5.25440961e-04]                                              \n",
      "eps iter 5 0.025000000000000015                \n",
      "t_diff 1.13935518669725041, Y=[ 1.13935519e+00 -1.04757109e-01 -3.91040495e-04]                                              \n",
      "eps iter 6 0.020000000000000018                \n",
      "t_diff 1.11695488741299221, Y=[ 1.11695489e+00 -8.32542169e-02 -2.87868776e-04]                                              \n",
      "eps iter 7 0.01500000000000002                \n",
      "t_diff 1.09470963309005990, Y=[ 1.09470963e+00 -6.20350722e-02 -2.02723881e-04]                                              \n",
      "eps iter 8 0.010000000000000023                \n",
      "t_diff 1.07254994139852670, Y=[ 1.07254994e+00 -4.10895091e-02 -1.27779261e-04]                                              \n",
      "eps iter 9 0.005000000000000025                \n",
      "t_diff 1.05041895588026810, Y=[ 1.05041896e+00 -2.04119267e-02 -5.98931277e-05]                                              \n"
     ]
    }
   ],
   "source": [
    "# bot 1b\n",
    "dat = follow_locking_3d(init,a11_p03,(.05,.001,-.005),\n",
    "                        rhs=_redu_3dc,recompute=True)\n",
    "data_r3d_p03_list.append(dat)"
   ]
  },
  {
   "cell_type": "markdown",
   "id": "0e538c65-fa5c-42e1-9986-d4ce0d8e9930",
   "metadata": {},
   "source": [
    "## Plot"
   ]
  },
  {
   "cell_type": "code",
   "execution_count": 44,
   "id": "c6918b7f-cc6e-4fb0-aacc-6348fe3f569f",
   "metadata": {},
   "outputs": [
    {
     "data": {
      "image/png": "[encoded data removed]",
      "text/plain": [
       "<Figure size 300x200 with 1 Axes>"
      ]
     },
     "metadata": {},
     "output_type": "display_data"
    }
   ],
   "source": [
    "quick_plot_combined(a11_p03,\n",
    "                    kw_f={'data_list':data_p03_list},\n",
    "                    kw_r3d={'data_list':data_r3d_p03_list},\n",
    "                    kw_r={'etup':etup11})"
   ]
  },
  {
   "cell_type": "markdown",
   "id": "e2b22646-2f38-40e1-b277-2114e4f31cbf",
   "metadata": {},
   "source": [
    "# del=0.04"
   ]
  },
  {
   "cell_type": "code",
   "execution_count": 45,
   "id": "8da31e13-ae91-4f59-8e4e-c5df750e6ba9",
   "metadata": {
    "editable": true,
    "slideshow": {
     "slide_type": ""
    },
    "tags": []
   },
   "outputs": [
    {
     "name": "stdout",
     "output_type": "stream",
     "text": [
      "pfactor 4\n",
      "* Computing p symbolic...\n",
      "* Computing p symbolic...\n",
      "p order=0\n",
      "p order=0\n",
      "p order=1\n",
      "p order=1\n",
      "p order=2\n",
      "p order=2\n",
      "* Loading H symbolic...\n",
      "* Loading H symbolic...\n",
      "* Loading H gw0, order=0...\n",
      "* Loading H gw1, order=0...\n",
      "* Loading H gw0, order=1...\n",
      "* Loading H gw1, order=1...\n",
      "* Loading H gw0, order=2...\n",
      "* Loading H gw1, order=2...\n"
     ]
    }
   ],
   "source": [
    "del11_p04 = 0.04\n",
    "a11_p04 = nm.nmCoupling(system1,system2,\n",
    "                        recompute_list=['p_gw0','p_gw1',\n",
    "                                       'p_data_gw0','p_data_gw1'],\n",
    "                        _n=('om0',1),_m=('om1',1),\n",
    "                        NH=1000,\n",
    "                        save_fig=False,\n",
    "                        del1=del11_p04)"
   ]
  },
  {
   "cell_type": "markdown",
   "id": "39ac458a-06a6-470d-b343-e1f5eb1e4a93",
   "metadata": {},
   "source": [
    "## Get Branches Full"
   ]
  },
  {
   "cell_type": "code",
   "execution_count": 46,
   "id": "d3ab4fba-ad44-4a1f-bed4-8121ff01c433",
   "metadata": {},
   "outputs": [],
   "source": [
    "kw_p04 = {'a':a11_p04,'del1':del11_p04,'recompute':False,\n",
    "        'bifdir':'bif1d_gw2/','_full_rhs':_full}"
   ]
  },
  {
   "cell_type": "code",
   "execution_count": 47,
   "id": "6f5e2a5e-8899-4f0e-87a8-c4f74a135d04",
   "metadata": {},
   "outputs": [],
   "source": [
    "data_p04_list = []"
   ]
  },
  {
   "cell_type": "code",
   "execution_count": 48,
   "id": "4ad286b1-ca51-45f2-8c4a-991359c0f8b0",
   "metadata": {},
   "outputs": [],
   "source": [
    "# branch 1f\n",
    "dat = follow_phase_diffs(init=3,eps_init=0.05,eps_final=0.1,\n",
    "                         deps=.01,**kw_p04)\n",
    "data_p04_list.append(dat)"
   ]
  },
  {
   "cell_type": "code",
   "execution_count": 49,
   "id": "451df6ec-698d-4dc4-848c-ef9c5e177eff",
   "metadata": {
    "scrolled": true
   },
   "outputs": [],
   "source": [
    "# branch 1b\n",
    "dat = follow_phase_diffs(init=3,eps_init=0.05,eps_final=0.001,\n",
    "                         deps=-.002,**kw_p04)\n",
    "data_p04_list.append(dat)"
   ]
  },
  {
   "cell_type": "code",
   "execution_count": 50,
   "id": "772ab73d-9c89-46de-b3f6-142eeeb2288c",
   "metadata": {},
   "outputs": [],
   "source": [
    "# # mid 1b\n",
    "# dat = follow_phase_diffs(init=2.5,eps_init=0.05,eps_final=0.035,\n",
    "#                          deps=-.002,**kw_p04)\n",
    "# data_p04_list.append(dat)"
   ]
  },
  {
   "cell_type": "markdown",
   "id": "6d3b9920-d0a3-4ae9-980a-3044cf4cc55c",
   "metadata": {},
   "source": [
    "## Get Branches 3D"
   ]
  },
  {
   "cell_type": "code",
   "execution_count": 51,
   "id": "4c661b3e-3629-4d75-b9cc-1ad7a9f599e4",
   "metadata": {},
   "outputs": [],
   "source": [
    "data_r3d_p04_list = []"
   ]
  },
  {
   "cell_type": "code",
   "execution_count": 52,
   "id": "b2356060-1c49-42c8-acc0-6ddf0410d31f",
   "metadata": {
    "scrolled": true
   },
   "outputs": [
    {
     "name": "stdout",
     "output_type": "stream",
     "text": [
      "t_diff 1.77910541719762813, Y=[ 1.77910542 -0.37982066 -0.08380547]                                              \n",
      "[ 1.7791 -0.3798 -0.0838]\n"
     ]
    }
   ],
   "source": [
    "# find init for this branch\n",
    "_,init = phase_lock_r3d([1,0,0],a11_p04,.05,_redu_3dc)\n",
    "print(init)"
   ]
  },
  {
   "cell_type": "code",
   "execution_count": 53,
   "id": "c42b7c18-f766-4f98-b8b8-38e658d0103e",
   "metadata": {
    "scrolled": true
   },
   "outputs": [
    {
     "name": "stdout",
     "output_type": "stream",
     "text": [
      "eps iter 0 0.05                \n",
      "t_diff 1.77910541719762559, Y=[ 1.77910542 -0.37982066 -0.08380547]                                              \n",
      "eps iter 1 0.060000000000000005                \n",
      "eps iter 2 0.07                =[ 8.13865275 -0.46787794 -0.09483649]                                                        \n",
      "t_diff 0.610492672573684612, Y=[38.30960452 -1.75767168 -0.285589  ]                                                          \n",
      "eps iter 3 0.08000000000000002                \n",
      "eps iter 4 0.09000000000000001                1.64004149 -0.35165694]                                                \n",
      "eps iter 5 0.1                Y=[36.88123878  0.06124752  0.10804757]                                                         \n",
      "iter=100, rel. err =1.10e-02, Y=[-46.19347863  -0.33996642  -1.72836083]                                                      \r"
     ]
    }
   ],
   "source": [
    "# bot 1f\n",
    "dat = follow_locking_3d(init,a11_p04,(.05,.11,.01),\n",
    "                        rhs=_redu_3dc,recompute=True)\n",
    "data_r3d_p04_list.append(dat)"
   ]
  },
  {
   "cell_type": "code",
   "execution_count": 54,
   "id": "49df9cf3-b746-43ac-bf48-0cbdaee9cf75",
   "metadata": {
    "scrolled": true
   },
   "outputs": [
    {
     "name": "stdout",
     "output_type": "stream",
     "text": [
      "eps iter 0 0.05                \n",
      "t_diff 1.77910541719762559, Y=[ 1.77910542 -0.37982066 -0.08380547]                                              \n",
      "eps iter 1 0.045000000000000005                \n",
      "t_diff 1.69578295187535298, Y=[ 1.69578295 -0.32933683 -0.06815154]                                              \n",
      "eps iter 2 0.04000000000000001                \n",
      "t_diff 1.63084782580553120, Y=[ 1.63084783 -0.28457307 -0.05631153]                                              \n",
      "eps iter 3 0.03500000000000001                \n",
      "t_diff 1.57636484622531411, Y=[ 1.57636485 -0.24330324 -0.04661293]                                              \n",
      "eps iter 4 0.030000000000000013                \n",
      "t_diff 1.52854566050506072, Y=[ 1.52854566 -0.20444674 -0.03825513]                                              \n",
      "eps iter 5 0.025000000000000015                \n",
      "t_diff 1.48520295412447423, Y=[ 1.48520295 -0.16739364 -0.03078619]                                              \n",
      "eps iter 6 0.020000000000000018                \n",
      "t_diff 1.44492462756233223, Y=[ 1.44492463 -0.1317725  -0.02392955]                                              \n",
      "eps iter 7 0.01500000000000002                \n",
      "t_diff 1.40673070709852408, Y=[ 1.40673071 -0.09734833 -0.01751051]                                              \n",
      "eps iter 8 0.010000000000000023                \n",
      "t_diff 1.36990904827520329, Y=[ 1.36990905 -0.06397029 -0.01141985]                                              \n",
      "eps iter 9 0.005000000000000025                \n",
      "t_diff 1.33392944188866038, Y=[ 1.33392944 -0.03154149 -0.00559355]                                              \n"
     ]
    }
   ],
   "source": [
    "# bot 1b\n",
    "dat = follow_locking_3d(init,a11_p04,(.05,.001,-.005),\n",
    "                        rhs=_redu_3dc,recompute=True)\n",
    "data_r3d_p04_list.append(dat)"
   ]
  },
  {
   "cell_type": "markdown",
   "id": "11bd2bbf-7e30-4116-947c-c8eecbe7f79b",
   "metadata": {},
   "source": [
    "## Plot"
   ]
  },
  {
   "cell_type": "code",
   "execution_count": 55,
   "id": "45714a91-881b-4e03-b849-8835dbff4537",
   "metadata": {},
   "outputs": [
    {
     "data": {
      "image/png": "[encoded data removed]",
      "text/plain": [
       "<Figure size 300x200 with 1 Axes>"
      ]
     },
     "metadata": {},
     "output_type": "display_data"
    }
   ],
   "source": [
    "quick_plot_combined(a11_p04,\n",
    "                    kw_f={'data_list':data_p04_list},\n",
    "                    kw_r3d={'data_list':data_r3d_p04_list},\n",
    "                    kw_r={'etup':etup11})"
   ]
  },
  {
   "cell_type": "markdown",
   "id": "b3254f78-64d9-452b-982c-b7dc0e773cf5",
   "metadata": {},
   "source": [
    "# Appendix"
   ]
  }
 ],
 "metadata": {
  "kernelspec": {
   "display_name": "Python 3 (ipykernel)",
   "language": "python",
   "name": "python3"
  },
  "language_info": {
   "codemirror_mode": {
    "name": "ipython",
    "version": 3
   },
   "file_extension": ".py",
   "mimetype": "text/x-python",
   "name": "python",
   "nbconvert_exporter": "python",
   "pygments_lexer": "ipython3",
   "version": "3.10.14"
  }
 },
 "nbformat": 4,
 "nbformat_minor": 5
}
