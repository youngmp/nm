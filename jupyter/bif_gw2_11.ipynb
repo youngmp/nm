{
 "cells": [
  {
   "cell_type": "markdown",
   "id": "ff90a39b-e0db-4e1f-9695-8a7833adcc09",
   "metadata": {},
   "source": [
    "# gw2 1:1 Bifurcation Diagrams"
   ]
  },
  {
   "cell_type": "markdown",
   "id": "fdccec32-d0e4-4232-8417-40e5796cbcf8",
   "metadata": {},
   "source": [
    "# Inits"
   ]
  },
  {
   "cell_type": "code",
   "execution_count": 1,
   "id": "77a223ba-9eaa-4986-abd1-d82273741aaa",
   "metadata": {
    "execution": {
     "iopub.execute_input": "2024-08-28T22:10:15.734125Z",
     "iopub.status.busy": "2024-08-28T22:10:15.734125Z",
     "iopub.status.idle": "2024-08-28T22:10:18.590969Z",
     "shell.execute_reply": "2024-08-28T22:10:18.589970Z"
    }
   },
   "outputs": [],
   "source": [
    "import sys; sys.path.insert(0, '..') # add parent folder path where lib folder is\n",
    "# user-defined\n",
    "import nmCoupling as nm\n",
    "# import nmCoupling_old as nm\n",
    "import response as rp\n",
    "\n",
    "import gw2\n",
    "\n",
    "from lib.util import (get_phase, freq_est, get_tongue_1d, pl_exist_1d, get_period, bif1d, follow_phase_diffs, phase_lock_r3d, follow_locking_3d)\n",
    "\n",
    "from lib.rhs import _redu_c, _full\n",
    "from lib.plot_util import add_diagram_1d_scatter, quick_plot_combined\n",
    "\n",
    "from generate_figures import _redu_3dc_gw as _redu_3dc\n",
    "\n",
    "import numpy as np\n",
    "import scipy as sp\n",
    "import matplotlib.pyplot as plt\n",
    "from scipy.integrate import solve_ivp\n",
    "import sympy as sym\n",
    "\n",
    "from scipy.optimize import root,bisect\n",
    "from copy import deepcopy\n",
    "import os\n",
    "\n",
    "plt.rcParams.update({\n",
    "    \"text.usetex\": True,\n",
    "    \"font.family\": \"Helvetica\"\n",
    "})\n",
    "\n",
    "nmc = nm.nmCoupling\n",
    "rsp = rp.Response"
   ]
  },
  {
   "cell_type": "markdown",
   "id": "9425a001-9dae-43cf-be95-5839dbc4204d",
   "metadata": {},
   "source": [
    "## Dicts"
   ]
  },
  {
   "cell_type": "code",
   "execution_count": 2,
   "id": "6b1a0035-5be1-4e59-a8fa-f210b2c553dc",
   "metadata": {
    "execution": {
     "iopub.execute_input": "2024-08-28T22:10:18.595479Z",
     "iopub.status.busy": "2024-08-28T22:10:18.594475Z",
     "iopub.status.idle": "2024-08-28T22:10:18.598763Z",
     "shell.execute_reply": "2024-08-28T22:10:18.598660Z"
    }
   },
   "outputs": [],
   "source": [
    "kw_sim = {'rtol':1e-8,'atol':1e-8,'method':'LSODA'}"
   ]
  },
  {
   "cell_type": "code",
   "execution_count": 3,
   "id": "0e2f17bf-f904-4ff6-95e7-87007304ef7a",
   "metadata": {
    "execution": {
     "iopub.execute_input": "2024-08-28T22:10:18.602269Z",
     "iopub.status.busy": "2024-08-28T22:10:18.602269Z",
     "iopub.status.idle": "2024-08-28T22:10:18.614402Z",
     "shell.execute_reply": "2024-08-28T22:10:18.614402Z"
    }
   },
   "outputs": [],
   "source": [
    "pd1 = {'v1':.84,'v2':.42,'v4':.35,'v6':.35,'v8':1,\n",
    "           'k1':1,'k2':1,'k3':.7,'k4':1,'k5':.7,\n",
    "           'k6':1,'k7':.35,'k8':1,'K':0.5,'kc':1,\n",
    "           'n':6,'L':0,'del':0,'om':1,'om_fix':1}"
   ]
  },
  {
   "cell_type": "code",
   "execution_count": 4,
   "id": "ae429e39-ae4b-485e-b33d-ac0dee07b455",
   "metadata": {
    "editable": true,
    "execution": {
     "iopub.execute_input": "2024-08-28T22:10:18.618498Z",
     "iopub.status.busy": "2024-08-28T22:10:18.617498Z",
     "iopub.status.idle": "2024-08-28T22:10:18.630349Z",
     "shell.execute_reply": "2024-08-28T22:10:18.630349Z"
    },
    "slideshow": {
     "slide_type": ""
    },
    "tags": []
   },
   "outputs": [],
   "source": [
    "kws1 = {'var_names':['x','y','z','v'],\n",
    "        'pardict':pd1,\n",
    "        'rhs':gw2.rhs,\n",
    "        'coupling':gw2.coupling,\n",
    "        'init':np.array([.3882,.523,1.357,.4347,24.2]),\n",
    "        'TN':10000,\n",
    "        'trunc_order':4,\n",
    "        'z_forward':False,\n",
    "        'i_forward':[False,True,False,False,False,False],\n",
    "        'i_bad_dx':[False,True,False,False,False,False],\n",
    "        'max_iter':50,\n",
    "        'rtol':1e-12,\n",
    "        'atol':1e-12,\n",
    "        'rel_tol':1e-9,\n",
    "        'save_fig':False,\n",
    "        'lc_prominence':.05,\n",
    "        'factor':0.5}"
   ]
  },
  {
   "cell_type": "markdown",
   "id": "8dc64efb-f56c-4b5b-87b9-e499901bd846",
   "metadata": {},
   "source": [
    "## Defs"
   ]
  },
  {
   "cell_type": "code",
   "execution_count": 5,
   "id": "b3f30c35-694d-45a3-990e-cd1dde33c354",
   "metadata": {
    "execution": {
     "iopub.execute_input": "2024-08-28T22:10:18.634860Z",
     "iopub.status.busy": "2024-08-28T22:10:18.634860Z",
     "iopub.status.idle": "2024-08-28T22:10:18.647756Z",
     "shell.execute_reply": "2024-08-28T22:10:18.647644Z"
    }
   },
   "outputs": [],
   "source": [
    "kw_bif = {'method':'LSODA','dense_output':True,'rtol':1e-9,'atol':1e-9}"
   ]
  },
  {
   "cell_type": "code",
   "execution_count": 6,
   "id": "bc3ba614-9570-4545-ab84-18a81ba451ea",
   "metadata": {
    "execution": {
     "iopub.execute_input": "2024-08-28T22:10:18.651765Z",
     "iopub.status.busy": "2024-08-28T22:10:18.650758Z",
     "iopub.status.idle": "2024-08-28T22:10:18.663386Z",
     "shell.execute_reply": "2024-08-28T22:10:18.663386Z"
    }
   },
   "outputs": [],
   "source": [
    "eps_list11r = np.linspace(0.001,.1,50)\n",
    "etup11 = (.001,.1,50)"
   ]
  },
  {
   "cell_type": "code",
   "execution_count": 7,
   "id": "b146854f-f10f-4148-8b6b-7eb9eedce457",
   "metadata": {
    "editable": true,
    "execution": {
     "iopub.execute_input": "2024-08-28T22:10:18.667673Z",
     "iopub.status.busy": "2024-08-28T22:10:18.667673Z",
     "iopub.status.idle": "2024-08-28T22:10:18.679456Z",
     "shell.execute_reply": "2024-08-28T22:10:18.679456Z"
    },
    "slideshow": {
     "slide_type": ""
    },
    "tags": []
   },
   "outputs": [],
   "source": [
    "x_temp = np.linspace(-np.pi,3*np.pi,500)"
   ]
  },
  {
   "cell_type": "markdown",
   "id": "14505b64-ae3d-4f74-aaac-13de7c6a63e8",
   "metadata": {},
   "source": [
    "## Initialize Response Functions"
   ]
  },
  {
   "cell_type": "code",
   "execution_count": 8,
   "id": "c26af2d2-6124-4421-b0be-b28a9d2ed6e1",
   "metadata": {
    "editable": true,
    "execution": {
     "iopub.execute_input": "2024-08-28T22:10:18.683457Z",
     "iopub.status.busy": "2024-08-28T22:10:18.683457Z",
     "iopub.status.idle": "2024-08-28T22:10:21.157097Z",
     "shell.execute_reply": "2024-08-28T22:10:21.156097Z"
    },
    "slideshow": {
     "slide_type": ""
    },
    "tags": []
   },
   "outputs": [
    {
     "name": "stdout",
     "output_type": "stream",
     "text": [
      "mkdir ./data/gw0/\n",
      "* Loading LC data...\n",
      "self.T 6.283185307179586 omfix 3.8590183230656914\n"
     ]
    },
    {
     "name": "stdout",
     "output_type": "stream",
     "text": [
      "* Loading monodromy...\n",
      "* Floquet Exponent kappa =-0.15846659975489297\n",
      "* Loading g symbolic...\n",
      "* Computing g...\n"
     ]
    },
    {
     "name": "stdout",
     "output_type": "stream",
     "text": [
      "* Loading heterogeneous terms...\n",
      "* Computing z...\n"
     ]
    },
    {
     "name": "stdout",
     "output_type": "stream",
     "text": [
      "* Computing i...\n",
      "mkdir ./data/gw1/\n",
      "* Loading LC data...\n",
      "self.T 6.283185307179586 omfix 3.8590183230656914\n"
     ]
    },
    {
     "name": "stdout",
     "output_type": "stream",
     "text": [
      "* Loading monodromy...\n",
      "* Floquet Exponent kappa =-0.15846659975489297\n",
      "* Loading g symbolic...\n",
      "* Computing g...\n"
     ]
    },
    {
     "name": "stdout",
     "output_type": "stream",
     "text": [
      "* Loading heterogeneous terms...\n",
      "* Computing z...\n"
     ]
    },
    {
     "name": "stdout",
     "output_type": "stream",
     "text": [
      "* Computing i...\n"
     ]
    }
   ],
   "source": [
    "system1 = rsp(idx=0,model_name='gw0',**kws1)\n",
    "system2 = rsp(idx=1,model_name='gw1',**kws1)"
   ]
  },
  {
   "cell_type": "code",
   "execution_count": 9,
   "id": "6fd62595-7985-4cae-a5ca-a98dd3550254",
   "metadata": {
    "execution": {
     "iopub.execute_input": "2024-08-28T22:10:21.160323Z",
     "iopub.status.busy": "2024-08-28T22:10:21.160323Z",
     "iopub.status.idle": "2024-08-28T22:10:21.171336Z",
     "shell.execute_reply": "2024-08-28T22:10:21.171336Z"
    }
   },
   "outputs": [],
   "source": [
    "kw_nm = {'system1':system1,'system2':system2,'_n':('om0',1),'_m':('om1',1),\n",
    "        'NH':2048,'save_fig':False}"
   ]
  },
  {
   "cell_type": "markdown",
   "id": "dd93fa11-c779-46d7-aa42-f378a6fed348",
   "metadata": {},
   "source": [
    "# del=0.0"
   ]
  },
  {
   "cell_type": "code",
   "execution_count": 10,
   "id": "24d169c0-03e6-4727-8621-6cc80845c0b0",
   "metadata": {
    "editable": true,
    "execution": {
     "iopub.execute_input": "2024-08-28T22:10:21.176335Z",
     "iopub.status.busy": "2024-08-28T22:10:21.175335Z",
     "iopub.status.idle": "2024-08-28T22:11:00.780177Z",
     "shell.execute_reply": "2024-08-28T22:11:00.779240Z"
    },
    "slideshow": {
     "slide_type": ""
    },
    "tags": []
   },
   "outputs": [
    {
     "name": "stdout",
     "output_type": "stream",
     "text": [
      "pfactor 4\n"
     ]
    },
    {
     "name": "stdout",
     "output_type": "stream",
     "text": [
      "* Loading p symbolic...\n",
      "* Loading p symbolic...\n"
     ]
    },
    {
     "name": "stdout",
     "output_type": "stream",
     "text": [
      "* Loading H symbolic...\n",
      "* Loading H symbolic...\n",
      "* Loading H gw0, order=0...\n",
      "* Loading H gw1, order=0...\n",
      "* Loading H gw0, order=1...\n",
      "* Loading H gw1, order=1...\n",
      "* Loading H gw0, order=2...\n",
      "* Loading H gw1, order=2...\n",
      "* Loading H gw0, order=3...\n",
      "* Loading H gw1, order=3...\n",
      "* Loading H gw0, order=4...\n",
      "* Loading H gw1, order=4...\n"
     ]
    }
   ],
   "source": [
    "del11_p0 = 0\n",
    "a11_p0 = nm.nmCoupling(**kw_nm, del1=del11_p0)"
   ]
  },
  {
   "cell_type": "markdown",
   "id": "8dee4f0d-d1cc-436c-a420-01fbbd421edf",
   "metadata": {},
   "source": [
    "## Get Branches Full"
   ]
  },
  {
   "cell_type": "code",
   "execution_count": 11,
   "id": "98a5dac5-1b35-4591-a827-9a7d51281265",
   "metadata": {
    "execution": {
     "iopub.execute_input": "2024-08-28T22:11:00.785177Z",
     "iopub.status.busy": "2024-08-28T22:11:00.784176Z",
     "iopub.status.idle": "2024-08-28T22:11:00.794799Z",
     "shell.execute_reply": "2024-08-28T22:11:00.794799Z"
    }
   },
   "outputs": [],
   "source": [
    "kw_p0 = {'a':a11_p0,'del1':del11_p0,'recompute':False,\n",
    "        'bifdir':'bif1d_gw2/','_full_rhs':_full}"
   ]
  },
  {
   "cell_type": "code",
   "execution_count": 12,
   "id": "a18cb49a-cdb8-4e7b-9e93-bdb617c2b540",
   "metadata": {
    "execution": {
     "iopub.execute_input": "2024-08-28T22:11:00.799397Z",
     "iopub.status.busy": "2024-08-28T22:11:00.798395Z",
     "iopub.status.idle": "2024-08-28T22:11:00.810509Z",
     "shell.execute_reply": "2024-08-28T22:11:00.810005Z"
    }
   },
   "outputs": [],
   "source": [
    "data_p0_list = []"
   ]
  },
  {
   "cell_type": "code",
   "execution_count": 13,
   "id": "e5d7dea3-8f92-4d7e-b5e6-a668c3b782d5",
   "metadata": {
    "execution": {
     "iopub.execute_input": "2024-08-28T22:11:00.814926Z",
     "iopub.status.busy": "2024-08-28T22:11:00.813926Z",
     "iopub.status.idle": "2024-08-28T22:11:00.825765Z",
     "shell.execute_reply": "2024-08-28T22:11:00.825765Z"
    }
   },
   "outputs": [],
   "source": [
    "# bot\n",
    "dat = follow_phase_diffs(init=3,eps_init=0.05,eps_final=0.1,\n",
    "                         deps=.01,**kw_p0)\n",
    "data_p0_list.append(dat)"
   ]
  },
  {
   "cell_type": "code",
   "execution_count": 14,
   "id": "e92fc893-0065-48df-8226-90aa0a0e6a27",
   "metadata": {
    "execution": {
     "iopub.execute_input": "2024-08-28T22:11:00.830040Z",
     "iopub.status.busy": "2024-08-28T22:11:00.830040Z",
     "iopub.status.idle": "2024-08-28T22:11:00.844024Z",
     "shell.execute_reply": "2024-08-28T22:11:00.844024Z"
    },
    "scrolled": true
   },
   "outputs": [],
   "source": [
    "# mid 1f\n",
    "dat = follow_phase_diffs(init=3,eps_init=0.05,eps_final=0.1,\n",
    "                         deps=.01,**kw_p0)\n",
    "data_p0_list.append(dat)"
   ]
  },
  {
   "cell_type": "code",
   "execution_count": 15,
   "id": "37ff26cb-a59d-487d-83d7-6589e9a610e1",
   "metadata": {
    "execution": {
     "iopub.execute_input": "2024-08-28T22:11:00.848037Z",
     "iopub.status.busy": "2024-08-28T22:11:00.848037Z",
     "iopub.status.idle": "2024-08-28T22:11:00.858767Z",
     "shell.execute_reply": "2024-08-28T22:11:00.858648Z"
    }
   },
   "outputs": [],
   "source": [
    "# mid 1b\n",
    "dat = follow_phase_diffs(init=2.5,eps_init=0.05,eps_final=0.035,\n",
    "                         deps=-.002,**kw_p0)\n",
    "data_p0_list.append(dat)"
   ]
  },
  {
   "cell_type": "markdown",
   "id": "25205784-5f59-4e5c-ba48-66f4a55dbb3d",
   "metadata": {},
   "source": [
    "## Get Branches 3D"
   ]
  },
  {
   "cell_type": "code",
   "execution_count": 16,
   "id": "ac9c48cf-dda6-4e8c-8741-62b4c08801b7",
   "metadata": {
    "execution": {
     "iopub.execute_input": "2024-08-28T22:11:00.863273Z",
     "iopub.status.busy": "2024-08-28T22:11:00.861768Z",
     "iopub.status.idle": "2024-08-28T22:11:00.874401Z",
     "shell.execute_reply": "2024-08-28T22:11:00.874401Z"
    }
   },
   "outputs": [],
   "source": [
    "data_r3d_p0_list = []"
   ]
  },
  {
   "cell_type": "code",
   "execution_count": 17,
   "id": "a9a39f32-c063-4b7c-897e-4dfb4743b706",
   "metadata": {
    "execution": {
     "iopub.execute_input": "2024-08-28T22:11:00.878029Z",
     "iopub.status.busy": "2024-08-28T22:11:00.878029Z",
     "iopub.status.idle": "2024-08-28T22:11:03.625067Z",
     "shell.execute_reply": "2024-08-28T22:11:03.624066Z"
    },
    "scrolled": true
   },
   "outputs": [
    {
     "name": "stdout",
     "output_type": "stream",
     "text": [
      "iter=0, rel. err =1.76e-01, Y=[0.00108334 0.10329559 0.10333225]                                              \r",
      "iter=1, rel. err =1.61e-03, Y=[2.91183273e-08 1.02468641e-01 1.02468647e-01]                                              \r",
      "iter=2, rel. err =1.31e-07, Y=[-1.49915505e-15  1.02468554e-01  1.02468554e-01]                                              \r",
      "iter=3, rel. err =7.63e-14, Y=[2.23294255e-14 1.02468554e-01 1.02468554e-01]                                              \r",
      "t_diff 2.232942554871549e-14\n",
      "[0.     0.1025 0.1025]\n"
     ]
    }
   ],
   "source": [
    "# find init for this branch\n",
    "_,init = phase_lock_r3d([.1,0,0],a11_p0,.05,_redu_3dc)\n",
    "print(init)"
   ]
  },
  {
   "cell_type": "code",
   "execution_count": 18,
   "id": "096a2dfc-b5ab-4633-9736-f330c3f73891",
   "metadata": {
    "execution": {
     "iopub.execute_input": "2024-08-28T22:11:03.629660Z",
     "iopub.status.busy": "2024-08-28T22:11:03.629660Z",
     "iopub.status.idle": "2024-08-28T22:11:03.639607Z",
     "shell.execute_reply": "2024-08-28T22:11:03.639607Z"
    },
    "scrolled": true
   },
   "outputs": [],
   "source": [
    "# bot 1f\n",
    "dat = follow_locking_3d(init,a11_p0,(.05,.11,.01),\n",
    "                        rhs=_redu_3dc,recompute=False)\n",
    "data_r3d_p0_list.append(dat)"
   ]
  },
  {
   "cell_type": "code",
   "execution_count": 19,
   "id": "e06f2c6e-4a4b-4eff-905e-01130359f1ad",
   "metadata": {
    "execution": {
     "iopub.execute_input": "2024-08-28T22:11:03.644609Z",
     "iopub.status.busy": "2024-08-28T22:11:03.643607Z",
     "iopub.status.idle": "2024-08-28T22:11:03.654723Z",
     "shell.execute_reply": "2024-08-28T22:11:03.654723Z"
    },
    "scrolled": true
   },
   "outputs": [],
   "source": [
    "# bot 1b\n",
    "dat = follow_locking_3d(init,a11_p0,(.05,.001,-.005),\n",
    "                        rhs=_redu_3dc,recompute=False)\n",
    "data_r3d_p0_list.append(dat)"
   ]
  },
  {
   "cell_type": "markdown",
   "id": "aa739ad0-0185-4f97-9d3a-7867421c5c48",
   "metadata": {},
   "source": [
    "## Plot"
   ]
  },
  {
   "cell_type": "code",
   "execution_count": 20,
   "id": "573dc664-d433-47a1-bf4b-bbd0b46e80f9",
   "metadata": {
    "execution": {
     "iopub.execute_input": "2024-08-28T22:11:03.659689Z",
     "iopub.status.busy": "2024-08-28T22:11:03.658689Z",
     "iopub.status.idle": "2024-08-28T22:11:06.047674Z",
     "shell.execute_reply": "2024-08-28T22:11:06.047275Z"
    }
   },
   "outputs": [
    {
     "data": {
      "image/png": "[encoded data removed]",
      "text/plain": [
       "<Figure size 300x200 with 1 Axes>"
      ]
     },
     "metadata": {},
     "output_type": "display_data"
    }
   ],
   "source": [
    "quick_plot_combined(a11_p0,\n",
    "                    kw_f={'data_list':data_p0_list},\n",
    "                    kw_r3d={'data_list':data_r3d_p0_list},\n",
    "                    kw_r={'etup':etup11})"
   ]
  },
  {
   "cell_type": "markdown",
   "id": "94e0e8f4-e1f3-463b-9296-787a1ffad76f",
   "metadata": {},
   "source": [
    "# del=0.01"
   ]
  },
  {
   "cell_type": "code",
   "execution_count": 21,
   "id": "5a05ef3d-94e6-458c-b343-0b18b0387a4f",
   "metadata": {
    "editable": true,
    "execution": {
     "iopub.execute_input": "2024-08-28T22:11:06.051676Z",
     "iopub.status.busy": "2024-08-28T22:11:06.051676Z",
     "iopub.status.idle": "2024-08-28T22:11:39.941025Z",
     "shell.execute_reply": "2024-08-28T22:11:39.941025Z"
    },
    "slideshow": {
     "slide_type": ""
    },
    "tags": []
   },
   "outputs": [
    {
     "name": "stdout",
     "output_type": "stream",
     "text": [
      "pfactor 4\n"
     ]
    },
    {
     "name": "stdout",
     "output_type": "stream",
     "text": [
      "* Loading p symbolic...\n",
      "* Loading p symbolic...\n"
     ]
    },
    {
     "name": "stdout",
     "output_type": "stream",
     "text": [
      "* Loading H symbolic...\n",
      "* Loading H symbolic...\n",
      "* Loading H gw0, order=0...\n",
      "* Loading H gw1, order=0...\n",
      "* Loading H gw0, order=1...\n",
      "* Loading H gw1, order=1...\n",
      "* Loading H gw0, order=2...\n",
      "* Loading H gw1, order=2...\n",
      "* Loading H gw0, order=3...\n",
      "* Loading H gw1, order=3...\n",
      "* Loading H gw0, order=4...\n",
      "* Loading H gw1, order=4...\n"
     ]
    }
   ],
   "source": [
    "del11_p01 = 0.01\n",
    "a11_p01 = nm.nmCoupling(**kw_nm, del1=del11_p01)"
   ]
  },
  {
   "cell_type": "markdown",
   "id": "1fc625d2-0ad6-4b0a-a7cb-4aa13aee16bc",
   "metadata": {},
   "source": [
    "## Get Branches Full"
   ]
  },
  {
   "cell_type": "code",
   "execution_count": 22,
   "id": "bc18300e-2b1f-49ff-8667-142cffe8d7ee",
   "metadata": {
    "execution": {
     "iopub.execute_input": "2024-08-28T22:11:39.945028Z",
     "iopub.status.busy": "2024-08-28T22:11:39.945028Z",
     "iopub.status.idle": "2024-08-28T22:11:39.957310Z",
     "shell.execute_reply": "2024-08-28T22:11:39.957141Z"
    }
   },
   "outputs": [],
   "source": [
    "kw_p01 = {'a':a11_p01,'del1':del11_p01,'recompute':False,\n",
    "        'bifdir':'bif1d_gw2/','_full_rhs':_full}"
   ]
  },
  {
   "cell_type": "code",
   "execution_count": 23,
   "id": "282d75fe-2813-4c4f-8070-8f41769a925f",
   "metadata": {
    "execution": {
     "iopub.execute_input": "2024-08-28T22:11:39.960310Z",
     "iopub.status.busy": "2024-08-28T22:11:39.960310Z",
     "iopub.status.idle": "2024-08-28T22:11:39.973090Z",
     "shell.execute_reply": "2024-08-28T22:11:39.973090Z"
    }
   },
   "outputs": [],
   "source": [
    "data_p01_list = []"
   ]
  },
  {
   "cell_type": "code",
   "execution_count": 24,
   "id": "e05d1650-f771-4623-b268-582bc27decf0",
   "metadata": {
    "execution": {
     "iopub.execute_input": "2024-08-28T22:11:39.976090Z",
     "iopub.status.busy": "2024-08-28T22:11:39.976090Z",
     "iopub.status.idle": "2024-08-28T22:11:39.989203Z",
     "shell.execute_reply": "2024-08-28T22:11:39.988699Z"
    }
   },
   "outputs": [],
   "source": [
    "# branch 1f\n",
    "dat = follow_phase_diffs(init=3,eps_init=0.05,eps_final=0.1,\n",
    "                         deps=.01,**kw_p01)\n",
    "data_p01_list.append(dat)"
   ]
  },
  {
   "cell_type": "code",
   "execution_count": 25,
   "id": "482d1a3c-84c3-42fb-a928-4ba051c07220",
   "metadata": {
    "execution": {
     "iopub.execute_input": "2024-08-28T22:11:39.992207Z",
     "iopub.status.busy": "2024-08-28T22:11:39.992207Z",
     "iopub.status.idle": "2024-08-28T22:11:40.003862Z",
     "shell.execute_reply": "2024-08-28T22:11:40.003862Z"
    },
    "scrolled": true
   },
   "outputs": [],
   "source": [
    "# branch 1b\n",
    "dat = follow_phase_diffs(init=3,eps_init=0.05,eps_final=0.001,\n",
    "                         deps=-.002,**kw_p01)\n",
    "data_p01_list.append(dat)"
   ]
  },
  {
   "cell_type": "code",
   "execution_count": 26,
   "id": "7e48148a-b2f5-4dd2-ba5c-42528bb8eefd",
   "metadata": {
    "execution": {
     "iopub.execute_input": "2024-08-28T22:11:40.006861Z",
     "iopub.status.busy": "2024-08-28T22:11:40.006861Z",
     "iopub.status.idle": "2024-08-28T22:11:40.019736Z",
     "shell.execute_reply": "2024-08-28T22:11:40.019736Z"
    }
   },
   "outputs": [],
   "source": [
    "# # mid 1b\n",
    "# dat = follow_phase_diffs(init=2.5,eps_init=0.05,eps_final=0.035,\n",
    "#                          deps=-.002,**kw_p01)\n",
    "# data_p01_list.append(dat)"
   ]
  },
  {
   "cell_type": "markdown",
   "id": "18ed36c3-84fa-402a-9b7d-af626b4cdb66",
   "metadata": {},
   "source": [
    "## Get Branches 3D"
   ]
  },
  {
   "cell_type": "code",
   "execution_count": 27,
   "id": "d689e2b1-7969-4c63-abc7-153fee895bff",
   "metadata": {
    "execution": {
     "iopub.execute_input": "2024-08-28T22:11:40.023245Z",
     "iopub.status.busy": "2024-08-28T22:11:40.023245Z",
     "iopub.status.idle": "2024-08-28T22:11:40.035855Z",
     "shell.execute_reply": "2024-08-28T22:11:40.035348Z"
    }
   },
   "outputs": [],
   "source": [
    "data_r3d_p01_list = []"
   ]
  },
  {
   "cell_type": "code",
   "execution_count": 28,
   "id": "d60de990-bf4b-41b6-bc94-94b0d9a614a0",
   "metadata": {
    "execution": {
     "iopub.execute_input": "2024-08-28T22:11:40.038726Z",
     "iopub.status.busy": "2024-08-28T22:11:40.038726Z",
     "iopub.status.idle": "2024-08-28T22:11:40.222720Z",
     "shell.execute_reply": "2024-08-28T22:11:40.222211Z"
    },
    "scrolled": true
   },
   "outputs": [
    {
     "name": "stdout",
     "output_type": "stream",
     "text": [
      "iter=0, rel. err =4.30e-01, Y=[0.58190538 0.01323705 0.09965799]                                              \r"
     ]
    },
    {
     "name": "stdout",
     "output_type": "stream",
     "text": [
      "iter=1, rel. err =8.00e-02, Y=[0.50343506 0.01131213 0.08426074]                                              \r",
      "iter=2, rel. err =2.49e-03, Y=[0.5009513 0.0112767 0.084067 ]                                              \r",
      "iter=3, rel. err =3.28e-06, Y=[0.50094803 0.01127663 0.0840667 ]                                              \r",
      "iter=4, rel. err =7.96e-12, Y=[0.50094803 0.01127663 0.0840667 ]                                              \r",
      "t_diff 0.5009480337258145\n",
      "[0.5009 0.0113 0.0841]\n"
     ]
    }
   ],
   "source": [
    "# find init for this branch\n",
    "_,init = phase_lock_r3d([1,0,0],a11_p01,.05,_redu_3dc)\n",
    "print(init)"
   ]
  },
  {
   "cell_type": "code",
   "execution_count": 29,
   "id": "83807f77-553f-4c66-93cf-abc357fc9daa",
   "metadata": {
    "execution": {
     "iopub.execute_input": "2024-08-28T22:11:40.225724Z",
     "iopub.status.busy": "2024-08-28T22:11:40.225724Z",
     "iopub.status.idle": "2024-08-28T22:11:40.798973Z",
     "shell.execute_reply": "2024-08-28T22:11:40.798864Z"
    },
    "scrolled": true
   },
   "outputs": [
    {
     "name": "stdout",
     "output_type": "stream",
     "text": [
      "eps iter 0 0.05                \n",
      "iter=0, rel. err =6.29e-05, Y=[0.50094804 0.01127663 0.0840667 ]                                              \r",
      "iter=1, rel. err =1.80e-09, Y=[0.50094803 0.01127663 0.0840667 ]                                              \r",
      "t_diff 0.5009480337258149\n",
      "eps iter 1 0.060000000000000005                \n"
     ]
    },
    {
     "name": "stdout",
     "output_type": "stream",
     "text": [
      "iter=0, rel. err =1.85e-02, Y=[0.50905592 0.0143021  0.10046139]                                              \r",
      "iter=1, rel. err =7.22e-06, Y=[0.50906227 0.01430359 0.1004583 ]                                              \r",
      "iter=2, rel. err =8.68e-11, Y=[0.50906227 0.01430359 0.1004583 ]                                              \r",
      "t_diff 0.5090622697182677\n",
      "eps iter 2 0.07                \n",
      "iter=0, rel. err =1.83e-02, Y=[0.51693701 0.01756464 0.11670534]                                              \r"
     ]
    },
    {
     "name": "stdout",
     "output_type": "stream",
     "text": [
      "iter=1, rel. err =7.09e-06, Y=[0.51694295 0.01756611 0.11670176]                                              \r",
      "iter=2, rel. err =9.03e-11, Y=[0.51694295 0.01756611 0.11670176]                                              \r",
      "t_diff 0.5169429497822766\n",
      "eps iter 3 0.08000000000000002                \n"
     ]
    },
    {
     "name": "stdout",
     "output_type": "stream",
     "text": [
      "iter=0, rel. err =1.82e-02, Y=[0.52459035 0.02105323 0.13279846]                                              \r",
      "iter=1, rel. err =7.15e-06, Y=[0.52459614 0.02105474 0.13279455]                                              \r",
      "iter=2, rel. err =9.67e-11, Y=[0.52459614 0.02105474 0.13279455]                                              \r",
      "t_diff 0.5245961408964542\n",
      "eps iter 4 0.09000000000000001                \n",
      "iter=0, rel. err =1.80e-02, Y=[0.53202259 0.02475867 0.14873884]                                              \r",
      "iter=1, rel. err =6.71e-06, Y=[0.53202755 0.02476016 0.14873456]                                              \r"
     ]
    },
    {
     "name": "stdout",
     "output_type": "stream",
     "text": [
      "iter=2, rel. err =9.20e-11, Y=[0.53202755 0.02476016 0.14873456]                                              \r",
      "t_diff 0.5320275541707249\n",
      "eps iter 5 0.1                \n",
      "iter=0, rel. err =1.78e-02, Y=[0.53923798 0.02867169 0.16452458]                                              \r"
     ]
    },
    {
     "name": "stdout",
     "output_type": "stream",
     "text": [
      "iter=1, rel. err =6.52e-06, Y=[0.53924247 0.0286732  0.16452011]                                              \r",
      "iter=2, rel. err =9.11e-11, Y=[0.53924247 0.0286732  0.16452011]                                              \r",
      "t_diff 0.5392424738639833\n"
     ]
    }
   ],
   "source": [
    "# bot 1f\n",
    "dat = follow_locking_3d(init,a11_p01,(.05,.11,.01),\n",
    "                        rhs=_redu_3dc,recompute=True)\n",
    "data_r3d_p01_list.append(dat)"
   ]
  },
  {
   "cell_type": "code",
   "execution_count": 30,
   "id": "04222b15-b170-4e86-9046-8739ac8ca812",
   "metadata": {
    "execution": {
     "iopub.execute_input": "2024-08-28T22:11:40.803485Z",
     "iopub.status.busy": "2024-08-28T22:11:40.802485Z",
     "iopub.status.idle": "2024-08-28T22:11:42.209360Z",
     "shell.execute_reply": "2024-08-28T22:11:42.208359Z"
    },
    "scrolled": true
   },
   "outputs": [
    {
     "name": "stdout",
     "output_type": "stream",
     "text": [
      "eps iter 0 0.05                \n",
      "iter=0, rel. err =6.29e-05, Y=[0.50094804 0.01127663 0.0840667 ]                                              \r"
     ]
    },
    {
     "name": "stdout",
     "output_type": "stream",
     "text": [
      "iter=1, rel. err =1.80e-09, Y=[0.50094803 0.01127663 0.0840667 ]                                              \r",
      "t_diff 0.5009480337258149\n",
      "eps iter 1 0.045000000000000005                \n",
      "iter=0, rel. err =9.35e-03, Y=[0.49680001 0.00985411 0.07581689]                                              \r"
     ]
    },
    {
     "name": "stdout",
     "output_type": "stream",
     "text": [
      "iter=1, rel. err =1.52e-06, Y=[0.49680136 0.00985442 0.07581625]"
     ]
    },
    {
     "name": "stdout",
     "output_type": "stream",
     "text": [
      "                                              \r",
      "iter=2, rel. err =3.10e-12, Y=[0.49680136 0.00985442 0.07581625]                                              \r",
      "t_diff 0.4968013558321723\n",
      "eps iter 2 0.04000000000000001                \n",
      "iter=0, rel. err =9.38e-03, Y=[0.49259208 0.00849434 0.06753041]                                              \r"
     ]
    },
    {
     "name": "stdout",
     "output_type": "stream",
     "text": [
      "iter=1, rel. err =1.90e-06, Y=[0.49259389 0.00849464 0.06752989]                                              \r"
     ]
    },
    {
     "name": "stdout",
     "output_type": "stream",
     "text": [
      "iter=2, rel. err =3.72e-12, Y=[0.49259389 0.00849464 0.06752989]                                              \r",
      "t_diff 0.4925938872827017\n",
      "eps iter 3 0.03500000000000001                \n",
      "iter=0, rel. err =9.42e-03, Y=[0.48832317 0.00719815 0.05920849]                                              \r",
      "iter=1, rel. err =1.72e-06, Y=[0.4883248  0.00719843 0.05920803]                                              \r",
      "iter=2, rel. err =2.93e-12, Y=[0.4883248  0.00719843 0.05920803]                                              \r",
      "t_diff 0.4883248001234918\n",
      "eps iter 4 0.030000000000000013                \n"
     ]
    },
    {
     "name": "stdout",
     "output_type": "stream",
     "text": [
      "iter=0, rel. err =9.48e-03, Y=[0.48399187 0.0059667  0.05085153]                                              \r",
      "iter=1, rel. err =1.47e-06, Y=[0.48399326 0.00596696 0.05085111]                                              \r",
      "iter=2, rel. err =2.11e-12, Y=[0.48399326 0.00596696 0.05085111]                                              \r",
      "t_diff 0.48399325723834247\n",
      "eps iter 5 0.025000000000000015                \n",
      "iter=0, rel. err =9.59e-03, Y=[0.47959689 0.00480112 0.04245994]                                              \r",
      "iter=1, rel. err =1.58e-06, Y=[0.47959841 0.00480136 0.04245959]                                              \r",
      "iter=2, rel. err =2.05e-12, Y=[0.47959841 0.00480136 0.04245959]                                              \r",
      "t_diff 0.4795984147490948\n",
      "eps iter 6 0.020000000000000018                \n"
     ]
    },
    {
     "name": "stdout",
     "output_type": "stream",
     "text": [
      "iter=0, rel. err =9.63e-03, Y=[0.47513813 0.00370255 0.03403423]                                              \r",
      "iter=1, rel. err =1.34e-06, Y=[0.47513942 0.00370275 0.03403394]                                              \r",
      "iter=2, rel. err =1.30e-12, Y=[0.47513942 0.00370275 0.03403394]                                              \r",
      "t_diff 0.4751394245670869\n",
      "eps iter 7 0.01500000000000002                \n",
      "iter=0, rel. err =9.60e-03, Y=[0.47061416 0.00267209 0.02557486]                                              \r",
      "iter=1, rel. err =1.30e-06, Y=[0.47061544 0.00267225 0.02557465]                                              \r"
     ]
    },
    {
     "name": "stdout",
     "output_type": "stream",
     "text": [
      "iter=2, rel. err =9.57e-13, Y=[0.47061544 0.00267225 0.02557465]                                              \r",
      "t_diff 0.47061543710759346\n",
      "eps iter 8 0.010000000000000023                \n",
      "iter=0, rel. err =9.72e-03, Y=[0.46602424 0.0017108  0.01708235]                                              \r",
      "iter=1, rel. err =1.37e-06, Y=[0.4660256  0.00171092 0.01708221]                                              \r",
      "iter=2, rel. err =8.00e-13, Y=[0.4660256  0.00171092 0.01708221]                                              \r",
      "t_diff 0.466025604172891\n",
      "eps iter 9 0.005000000000000025                \n",
      "iter=0, rel. err =9.76e-03, Y=[0.46136801 0.00081976 0.00855723]                                              \r"
     ]
    },
    {
     "name": "stdout",
     "output_type": "stream",
     "text": [
      "iter=1, rel. err =1.07e-06, Y=[0.46136908 0.00081983 0.00855716]                                              \r",
      "iter=2, rel. err =2.34e-13, Y=[0.46136908 0.00081983 0.00855716]                                              \r",
      "t_diff 0.4613690820462057\n"
     ]
    }
   ],
   "source": [
    "# bot 1b\n",
    "dat = follow_locking_3d(init,a11_p01,(.05,.001,-.005),\n",
    "                        rhs=_redu_3dc,recompute=True)\n",
    "data_r3d_p01_list.append(dat)"
   ]
  },
  {
   "cell_type": "markdown",
   "id": "35fd8806-fe59-4366-b97d-fe0902e60f95",
   "metadata": {},
   "source": [
    "## Plot"
   ]
  },
  {
   "cell_type": "code",
   "execution_count": 31,
   "id": "a8e32ad3-94a1-40f8-a88b-9e50a78d3ec2",
   "metadata": {
    "execution": {
     "iopub.execute_input": "2024-08-28T22:11:42.212873Z",
     "iopub.status.busy": "2024-08-28T22:11:42.212873Z",
     "iopub.status.idle": "2024-08-28T22:11:43.821353Z",
     "shell.execute_reply": "2024-08-28T22:11:43.821353Z"
    }
   },
   "outputs": [
    {
     "data": {
      "image/png": "[encoded data removed]",
      "text/plain": [
       "<Figure size 300x200 with 1 Axes>"
      ]
     },
     "metadata": {},
     "output_type": "display_data"
    }
   ],
   "source": [
    "quick_plot_combined(a11_p01,\n",
    "                    kw_f={'data_list':data_p01_list},\n",
    "                    kw_r3d={'data_list':data_r3d_p01_list},\n",
    "                    kw_r={'etup':etup11})"
   ]
  },
  {
   "cell_type": "markdown",
   "id": "3752f4cb-8426-4658-9909-e0f6ab8543f9",
   "metadata": {},
   "source": [
    "# del=0.03"
   ]
  },
  {
   "cell_type": "code",
   "execution_count": 32,
   "id": "aebbc76b-9ac9-4e4f-b990-a3921fc7ba78",
   "metadata": {
    "editable": true,
    "execution": {
     "iopub.execute_input": "2024-08-28T22:11:43.826792Z",
     "iopub.status.busy": "2024-08-28T22:11:43.825785Z",
     "iopub.status.idle": "2024-08-28T22:12:12.114735Z",
     "shell.execute_reply": "2024-08-28T22:12:12.113734Z"
    },
    "slideshow": {
     "slide_type": ""
    },
    "tags": []
   },
   "outputs": [
    {
     "name": "stdout",
     "output_type": "stream",
     "text": [
      "pfactor 4\n"
     ]
    },
    {
     "name": "stdout",
     "output_type": "stream",
     "text": [
      "* Loading p symbolic...\n",
      "* Loading p symbolic...\n"
     ]
    },
    {
     "name": "stdout",
     "output_type": "stream",
     "text": [
      "* Loading H symbolic...\n",
      "* Loading H symbolic...\n",
      "* Loading H gw0, order=0...\n",
      "* Loading H gw1, order=0...\n",
      "* Loading H gw0, order=1...\n",
      "* Loading H gw1, order=1...\n",
      "* Loading H gw0, order=2...\n",
      "* Loading H gw1, order=2...\n",
      "* Loading H gw0, order=3...\n",
      "* Loading H gw1, order=3...\n",
      "* Loading H gw0, order=4...\n",
      "* Loading H gw1, order=4...\n"
     ]
    }
   ],
   "source": [
    "del11_p03 = 0.03\n",
    "a11_p03 = nm.nmCoupling(**kw_nm, del1=del11_p03)"
   ]
  },
  {
   "cell_type": "markdown",
   "id": "25af4a65-0c01-4837-b206-af1102080ed7",
   "metadata": {},
   "source": [
    "## Get Branches Full"
   ]
  },
  {
   "cell_type": "code",
   "execution_count": 33,
   "id": "85e27c69-bab6-4e01-ac1b-1e5818c437a7",
   "metadata": {
    "execution": {
     "iopub.execute_input": "2024-08-28T22:12:12.117734Z",
     "iopub.status.busy": "2024-08-28T22:12:12.117734Z",
     "iopub.status.idle": "2024-08-28T22:12:12.129853Z",
     "shell.execute_reply": "2024-08-28T22:12:12.129853Z"
    }
   },
   "outputs": [],
   "source": [
    "kw_p03 = {'a':a11_p03,'del1':del11_p03,'recompute':False,\n",
    "        'bifdir':'bif1d_gw2/','_full_rhs':_full}"
   ]
  },
  {
   "cell_type": "code",
   "execution_count": 34,
   "id": "117d5253-cfb9-408c-8cdf-e751d66c7022",
   "metadata": {
    "execution": {
     "iopub.execute_input": "2024-08-28T22:12:12.133856Z",
     "iopub.status.busy": "2024-08-28T22:12:12.132853Z",
     "iopub.status.idle": "2024-08-28T22:12:12.145391Z",
     "shell.execute_reply": "2024-08-28T22:12:12.145391Z"
    }
   },
   "outputs": [],
   "source": [
    "data_p03_list = []"
   ]
  },
  {
   "cell_type": "code",
   "execution_count": 35,
   "id": "76d05904-d474-445b-a540-28df4e38da72",
   "metadata": {
    "execution": {
     "iopub.execute_input": "2024-08-28T22:12:12.149394Z",
     "iopub.status.busy": "2024-08-28T22:12:12.148391Z",
     "iopub.status.idle": "2024-08-28T22:12:12.160900Z",
     "shell.execute_reply": "2024-08-28T22:12:12.160900Z"
    }
   },
   "outputs": [],
   "source": [
    "# branch 1f\n",
    "dat = follow_phase_diffs(init=3,eps_init=0.05,eps_final=0.1,\n",
    "                         deps=.01,**kw_p03)\n",
    "data_p03_list.append(dat)"
   ]
  },
  {
   "cell_type": "code",
   "execution_count": 36,
   "id": "61b16249-172a-4d0e-b1a8-212a16d970cc",
   "metadata": {
    "execution": {
     "iopub.execute_input": "2024-08-28T22:12:12.163900Z",
     "iopub.status.busy": "2024-08-28T22:12:12.163900Z",
     "iopub.status.idle": "2024-08-28T22:12:12.176926Z",
     "shell.execute_reply": "2024-08-28T22:12:12.176926Z"
    },
    "scrolled": true
   },
   "outputs": [],
   "source": [
    "# branch 1b\n",
    "dat = follow_phase_diffs(init=3,eps_init=0.05,eps_final=0.001,\n",
    "                         deps=-.002,**kw_p03)\n",
    "data_p03_list.append(dat)"
   ]
  },
  {
   "cell_type": "code",
   "execution_count": 37,
   "id": "ed67193d-ff41-4941-b84a-2a47e9489044",
   "metadata": {
    "execution": {
     "iopub.execute_input": "2024-08-28T22:12:12.180930Z",
     "iopub.status.busy": "2024-08-28T22:12:12.179927Z",
     "iopub.status.idle": "2024-08-28T22:12:12.192150Z",
     "shell.execute_reply": "2024-08-28T22:12:12.192150Z"
    }
   },
   "outputs": [],
   "source": [
    "# # mid 1b\n",
    "# dat = follow_phase_diffs(init=2.5,eps_init=0.05,eps_final=0.035,\n",
    "#                          deps=-.002,**kw_p03)\n",
    "# data_p03_list.append(dat)"
   ]
  },
  {
   "cell_type": "markdown",
   "id": "30a9bb1e-0202-480c-8196-2ef688602beb",
   "metadata": {},
   "source": [
    "## Get Branches 3D"
   ]
  },
  {
   "cell_type": "code",
   "execution_count": 38,
   "id": "b13ed278-6ee0-4a73-a502-dc1d97b3d351",
   "metadata": {
    "execution": {
     "iopub.execute_input": "2024-08-28T22:12:12.196150Z",
     "iopub.status.busy": "2024-08-28T22:12:12.195150Z",
     "iopub.status.idle": "2024-08-28T22:12:12.208169Z",
     "shell.execute_reply": "2024-08-28T22:12:12.208169Z"
    }
   },
   "outputs": [],
   "source": [
    "data_r3d_p03_list = []"
   ]
  },
  {
   "cell_type": "code",
   "execution_count": 39,
   "id": "38498462-a780-40a2-93d0-58fc01162edc",
   "metadata": {
    "execution": {
     "iopub.execute_input": "2024-08-28T22:12:12.211173Z",
     "iopub.status.busy": "2024-08-28T22:12:12.211173Z",
     "iopub.status.idle": "2024-08-28T22:12:12.347213Z",
     "shell.execute_reply": "2024-08-28T22:12:12.347033Z"
    },
    "scrolled": true
   },
   "outputs": [
    {
     "name": "stdout",
     "output_type": "stream",
     "text": [
      "iter=0, rel. err =3.40e-01, Y=[ 1.26183764e+00 -2.16417821e-01 -9.19874536e-04]                                              \r"
     ]
    },
    {
     "name": "stdout",
     "output_type": "stream",
     "text": [
      "iter=1, rel. err =9.06e-03, Y=[ 1.25278650e+00 -2.16801429e-01 -1.01263436e-03]                                              \r",
      "iter=2, rel. err =6.41e-06, Y=[ 1.25279021e+00 -2.16803591e-01 -1.01739186e-03]                                              \r",
      "iter=3, rel. err =7.56e-12, Y=[ 1.25279021e+00 -2.16803591e-01 -1.01739186e-03]                                              \r",
      "t_diff 1.2527902108042053\n",
      "[ 1.2528e+00 -2.1680e-01 -1.0000e-03]\n"
     ]
    }
   ],
   "source": [
    "# find init for this branch\n",
    "_,init = phase_lock_r3d([1,0,0],a11_p03,.05,_redu_3dc)\n",
    "print(init)"
   ]
  },
  {
   "cell_type": "code",
   "execution_count": 40,
   "id": "69687dca-f762-4663-bafa-ea3cf003c8e9",
   "metadata": {
    "execution": {
     "iopub.execute_input": "2024-08-28T22:12:12.351216Z",
     "iopub.status.busy": "2024-08-28T22:12:12.350213Z",
     "iopub.status.idle": "2024-08-28T22:12:13.002394Z",
     "shell.execute_reply": "2024-08-28T22:12:13.001387Z"
    },
    "scrolled": true
   },
   "outputs": [
    {
     "name": "stdout",
     "output_type": "stream",
     "text": [
      "eps iter 0 0.05                \n",
      "iter=0, rel. err =2.03e-05, Y=[ 1.25279021e+00 -2.16803591e-01 -1.01739186e-03]                                              \r",
      "iter=1, rel. err =2.76e-11, Y=[ 1.25279021e+00 -2.16803591e-01 -1.01739186e-03]                                              \r",
      "t_diff 1.2527902108042055\n",
      "eps iter 1 0.060000000000000005                \n",
      "iter=0, rel. err =6.57e-02, Y=[ 1.29882939e+00 -2.63738906e-01 -1.26627560e-03]                                              \r"
     ]
    },
    {
     "name": "stdout",
     "output_type": "stream",
     "text": [
      "iter=1, rel. err =5.23e-04, Y=[ 1.29830729e+00 -2.63717552e-01 -1.23937463e-03]                                              \r",
      "iter=2, rel. err =3.21e-08, Y=[ 1.29830731e+00 -2.63717564e-01 -1.23939572e-03]                                              \r",
      "t_diff 1.2983073129293352\n",
      "eps iter 2 0.07                \n"
     ]
    },
    {
     "name": "stdout",
     "output_type": "stream",
     "text": [
      "iter=0, rel. err =6.68e-02, Y=[ 1.3445434  -0.3119003  -0.00143083]                                              \r",
      "iter=1, rel. err =5.81e-04, Y=[ 1.34396665 -0.31185703 -0.00137906]                                              \r",
      "iter=2, rel. err =4.99e-08, Y=[ 1.34396668 -0.31185705 -0.00137909]                                              \r",
      "t_diff 1.3439666818840896\n",
      "eps iter 3 0.08000000000000002                \n",
      "iter=0, rel. err =6.77e-02, Y=[ 1.39028668 -0.36125875 -0.00142452]                                              \r",
      "iter=1, rel. err =7.11e-04, Y=[ 1.38958901e+00 -3.61163319e-01 -1.32419234e-03]                                              \r"
     ]
    },
    {
     "name": "stdout",
     "output_type": "stream",
     "text": [
      "iter=2, rel. err =9.38e-08, Y=[ 1.38958907e+00 -3.61163361e-01 -1.32425191e-03]                                              \r",
      "t_diff 1.3895890696187962\n",
      "eps iter 4 0.09000000000000001                \n"
     ]
    },
    {
     "name": "stdout",
     "output_type": "stream",
     "text": [
      "iter=0, rel. err =6.84e-02, Y=[ 1.43571995e+00 -4.11657493e-01 -1.05881573e-03]                                              \r",
      "iter=1, rel. err =9.48e-04, Y=[ 1.43481119e+00 -4.11460373e-01 -8.76752551e-04]                                              \r",
      "iter=2, rel. err =1.92e-07, Y=[ 1.43481130e+00 -4.11460467e-01 -8.76871870e-04]                                              \r",
      "iter=3, rel. err =9.11e-14, Y=[ 1.43481130e+00 -4.11460467e-01 -8.76871870e-04]                                              \r",
      "t_diff 1.4348113025018119\n",
      "eps iter 5 0.1                \n",
      "iter=0, rel. err =6.85e-02, Y=[ 1.48026474e+00 -4.62757300e-01 -2.93289223e-05]                                              \r"
     ]
    },
    {
     "name": "stdout",
     "output_type": "stream",
     "text": [
      "iter=1, rel. err =1.30e-03, Y=[ 1.47905548e+00 -4.62393087e-01  2.67682357e-04]                                              \r",
      "iter=2, rel. err =3.62e-07, Y=[ 1.47905568e+00 -4.62393285e-01  2.67452775e-04]                                              \r"
     ]
    },
    {
     "name": "stdout",
     "output_type": "stream",
     "text": [
      "iter=3, rel. err =2.00e-13, Y=[ 1.47905568e+00 -4.62393285e-01  2.67452775e-04]                                              \r",
      "t_diff 1.4790556815237859\n"
     ]
    }
   ],
   "source": [
    "# bot 1f\n",
    "dat = follow_locking_3d(init,a11_p03,(.05,.11,.01),\n",
    "                        rhs=_redu_3dc,recompute=True)\n",
    "data_r3d_p03_list.append(dat)"
   ]
  },
  {
   "cell_type": "code",
   "execution_count": 41,
   "id": "db166493-d01a-4ffe-b4f9-3a47a934b032",
   "metadata": {
    "execution": {
     "iopub.execute_input": "2024-08-28T22:12:13.005392Z",
     "iopub.status.busy": "2024-08-28T22:12:13.005392Z",
     "iopub.status.idle": "2024-08-28T22:12:14.001882Z",
     "shell.execute_reply": "2024-08-28T22:12:14.000882Z"
    },
    "scrolled": true
   },
   "outputs": [
    {
     "name": "stdout",
     "output_type": "stream",
     "text": [
      "eps iter 0 0.05                \n",
      "iter=0, rel. err =2.03e-05, Y=[ 1.25279021e+00 -2.16803591e-01 -1.01739186e-03]                                              \r",
      "iter=1, rel. err =2.76e-11, Y=[ 1.25279021e+00 -2.16803591e-01 -1.01739186e-03]                                              \r",
      "t_diff 1.2527902108042055\n",
      "eps iter 1 0.045000000000000005                \n",
      "iter=0, rel. err =3.22e-02, Y=[ 1.23023292e+00 -1.93810006e-01 -8.99066808e-04]                                              \r"
     ]
    },
    {
     "name": "stdout",
     "output_type": "stream",
     "text": [
      "iter=1, rel. err =1.26e-04, Y=[ 1.23010744e+00 -1.93806840e-01 -8.95090944e-04]                                              \r",
      "iter=2, rel. err =1.42e-09, Y=[ 1.23010744e+00 -1.93806841e-01 -8.95091808e-04]                                              \r",
      "t_diff 1.2301074374451955\n",
      "eps iter 2 0.04000000000000001                \n"
     ]
    },
    {
     "name": "stdout",
     "output_type": "stream",
     "text": [
      "iter=0, rel. err =3.19e-02, Y=[ 1.20760198e+00 -1.71115797e-01 -7.74382596e-04]                                              \r",
      "iter=1, rel. err =1.24e-04, Y=[ 1.20747831e+00 -1.71113334e-01 -7.71427244e-04]                                              \r",
      "iter=2, rel. err =1.25e-09, Y=[ 1.20747831e+00 -1.71113334e-01 -7.71427972e-04]                                              \r",
      "t_diff 1.2074783114405256\n",
      "eps iter 3 0.03500000000000001                \n",
      "iter=0, rel. err =3.17e-02, Y=[ 1.18502438e+00 -1.48721215e-01 -6.51683429e-04]                                              \r",
      "iter=1, rel. err =1.22e-04, Y=[ 1.18490241e+00 -1.48719316e-01 -6.49477891e-04]                                              \r"
     ]
    },
    {
     "name": "stdout",
     "output_type": "stream",
     "text": [
      "iter=2, rel. err =1.11e-09, Y=[ 1.18490241e+00 -1.48719316e-01 -6.49478499e-04]                                              \r",
      "t_diff 1.1849024148243004\n",
      "eps iter 4 0.030000000000000013                \n",
      "iter=0, rel. err =3.15e-02, Y=[ 1.16250112e+00 -1.26622434e-01 -5.33380641e-04]                                              \r"
     ]
    },
    {
     "name": "stdout",
     "output_type": "stream",
     "text": [
      "iter=1, rel. err =1.23e-04, Y=[ 1.16237844e+00 -1.26620704e-01 -5.31593616e-04]                                              \r",
      "iter=2, rel. err =1.05e-09, Y=[ 1.16237844e+00 -1.26620704e-01 -5.31594135e-04]                                              \r",
      "t_diff 1.1623784389892924\n",
      "eps iter 5 0.025000000000000015                \n",
      "iter=0, rel. err =3.12e-02, Y=[ 1.14002652e+00 -1.04814673e-01 -4.21029758e-04]                                              \r",
      "iter=1, rel. err =1.22e-04, Y=[ 1.13990491e+00 -1.04813319e-01 -4.19669678e-04]                                              \r",
      "iter=2, rel. err =9.53e-10, Y=[ 1.13990491e+00 -1.04813319e-01 -4.19670098e-04]                                              \r",
      "t_diff 1.1399049090071387\n",
      "eps iter 6 0.020000000000000018                \n"
     ]
    },
    {
     "name": "stdout",
     "output_type": "stream",
     "text": [
      "iter=0, rel. err =3.10e-02, Y=[ 1.11760190e+00 -8.32940694e-02 -3.16354590e-04]                                              \r",
      "iter=1, rel. err =1.21e-04, Y=[ 1.11748064e+00 -8.32929917e-02 -3.15316726e-04]                                              \r"
     ]
    },
    {
     "name": "stdout",
     "output_type": "stream",
     "text": [
      "iter=2, rel. err =8.88e-10, Y=[ 1.11748064e+00 -8.32929918e-02 -3.15317057e-04]                                              \r",
      "t_diff 1.1174806367667882\n",
      "eps iter 7 0.01500000000000002                \n",
      "iter=0, rel. err =3.08e-02, Y=[ 1.09522543e+00 -6.20563730e-02 -2.20695925e-04]                                              \r",
      "iter=1, rel. err =1.20e-04, Y=[ 1.09510495e+00 -6.20555957e-02 -2.19957381e-04]                                              \r",
      "iter=2, rel. err =8.28e-10, Y=[ 1.09510495e+00 -6.20555958e-02 -2.19957623e-04]                                              \r",
      "t_diff 1.0951049534450186\n",
      "eps iter 8 0.010000000000000023                \n",
      "iter=0, rel. err =3.06e-02, Y=[ 1.07289823e+00 -4.10975587e-02 -1.35355747e-04]                                              \r"
     ]
    },
    {
     "name": "stdout",
     "output_type": "stream",
     "text": [
      "iter=1, rel. err =1.20e-04, Y=[ 1.07277777e+00 -4.10970327e-02 -1.34871709e-04]                                              \r",
      "iter=2, rel. err =7.93e-10, Y=[ 1.07277777e+00 -4.10970328e-02 -1.34871869e-04]                                              \r",
      "t_diff 1.0727777693121663\n",
      "eps iter 9 0.005000000000000025                \n"
     ]
    },
    {
     "name": "stdout",
     "output_type": "stream",
     "text": [
      "iter=0, rel. err =3.03e-02, Y=[ 1.05061744e+00 -2.04134429e-02 -6.14335595e-05]                                              \r",
      "iter=1, rel. err =1.18e-04, Y=[ 1.05049951e+00 -2.04132072e-02 -6.12116295e-05]                                              \r",
      "iter=2, rel. err =7.36e-10, Y=[ 1.05049951e+00 -2.04132072e-02 -6.12117055e-05]                                              \r",
      "t_diff 1.050499505747174\n"
     ]
    }
   ],
   "source": [
    "# bot 1b\n",
    "dat = follow_locking_3d(init,a11_p03,(.05,.001,-.005),\n",
    "                        rhs=_redu_3dc,recompute=True)\n",
    "data_r3d_p03_list.append(dat)"
   ]
  },
  {
   "cell_type": "markdown",
   "id": "0e538c65-fa5c-42e1-9986-d4ce0d8e9930",
   "metadata": {},
   "source": [
    "## Plot"
   ]
  },
  {
   "cell_type": "code",
   "execution_count": 42,
   "id": "c6918b7f-cc6e-4fb0-aacc-6348fe3f569f",
   "metadata": {
    "execution": {
     "iopub.execute_input": "2024-08-28T22:12:14.005882Z",
     "iopub.status.busy": "2024-08-28T22:12:14.004883Z",
     "iopub.status.idle": "2024-08-28T22:12:15.202750Z",
     "shell.execute_reply": "2024-08-28T22:12:15.202750Z"
    }
   },
   "outputs": [
    {
     "data": {
      "image/png": "[encoded data removed]",
      "text/plain": [
       "<Figure size 300x200 with 1 Axes>"
      ]
     },
     "metadata": {},
     "output_type": "display_data"
    }
   ],
   "source": [
    "quick_plot_combined(a11_p03,\n",
    "                    kw_f={'data_list':data_p03_list},\n",
    "                    kw_r3d={'data_list':data_r3d_p03_list},\n",
    "                    kw_r={'etup':etup11})"
   ]
  },
  {
   "cell_type": "markdown",
   "id": "e2b22646-2f38-40e1-b277-2114e4f31cbf",
   "metadata": {},
   "source": [
    "# del=0.04"
   ]
  },
  {
   "cell_type": "code",
   "execution_count": 43,
   "id": "8da31e13-ae91-4f59-8e4e-c5df750e6ba9",
   "metadata": {
    "editable": true,
    "execution": {
     "iopub.execute_input": "2024-08-28T22:12:15.206758Z",
     "iopub.status.busy": "2024-08-28T22:12:15.206758Z",
     "iopub.status.idle": "2024-08-28T22:12:44.044130Z",
     "shell.execute_reply": "2024-08-28T22:12:44.043118Z"
    },
    "slideshow": {
     "slide_type": ""
    },
    "tags": []
   },
   "outputs": [
    {
     "name": "stdout",
     "output_type": "stream",
     "text": [
      "pfactor 4\n"
     ]
    },
    {
     "name": "stdout",
     "output_type": "stream",
     "text": [
      "* Loading p symbolic...\n",
      "* Loading p symbolic...\n"
     ]
    },
    {
     "name": "stdout",
     "output_type": "stream",
     "text": [
      "* Loading H symbolic...\n",
      "* Loading H symbolic...\n",
      "* Loading H gw0, order=0...\n",
      "* Loading H gw1, order=0...\n",
      "* Loading H gw0, order=1...\n",
      "* Loading H gw1, order=1...\n",
      "* Loading H gw0, order=2...\n",
      "* Loading H gw1, order=2...\n",
      "* Loading H gw0, order=3...\n",
      "* Loading H gw1, order=3...\n",
      "* Loading H gw0, order=4...\n",
      "* Loading H gw1, order=4...\n"
     ]
    }
   ],
   "source": [
    "del11_p04 = 0.04\n",
    "a11_p04 = nm.nmCoupling(**kw_nm, del1=del11_p04)"
   ]
  },
  {
   "cell_type": "markdown",
   "id": "39ac458a-06a6-470d-b343-e1f5eb1e4a93",
   "metadata": {},
   "source": [
    "## Get Branches Full"
   ]
  },
  {
   "cell_type": "code",
   "execution_count": 44,
   "id": "d3ab4fba-ad44-4a1f-bed4-8121ff01c433",
   "metadata": {
    "execution": {
     "iopub.execute_input": "2024-08-28T22:12:44.048257Z",
     "iopub.status.busy": "2024-08-28T22:12:44.048257Z",
     "iopub.status.idle": "2024-08-28T22:12:44.058764Z",
     "shell.execute_reply": "2024-08-28T22:12:44.058258Z"
    }
   },
   "outputs": [],
   "source": [
    "kw_p04 = {'a':a11_p04,'del1':del11_p04,'recompute':False,\n",
    "        'bifdir':'bif1d_gw2/','_full_rhs':_full}"
   ]
  },
  {
   "cell_type": "code",
   "execution_count": 45,
   "id": "6f5e2a5e-8899-4f0e-87a8-c4f74a135d04",
   "metadata": {
    "execution": {
     "iopub.execute_input": "2024-08-28T22:12:44.063281Z",
     "iopub.status.busy": "2024-08-28T22:12:44.062282Z",
     "iopub.status.idle": "2024-08-28T22:12:44.074457Z",
     "shell.execute_reply": "2024-08-28T22:12:44.073452Z"
    }
   },
   "outputs": [],
   "source": [
    "data_p04_list = []"
   ]
  },
  {
   "cell_type": "code",
   "execution_count": 46,
   "id": "4ad286b1-ca51-45f2-8c4a-991359c0f8b0",
   "metadata": {
    "execution": {
     "iopub.execute_input": "2024-08-28T22:12:44.078592Z",
     "iopub.status.busy": "2024-08-28T22:12:44.077456Z",
     "iopub.status.idle": "2024-08-28T22:12:44.089097Z",
     "shell.execute_reply": "2024-08-28T22:12:44.088592Z"
    }
   },
   "outputs": [],
   "source": [
    "# branch 1f\n",
    "dat = follow_phase_diffs(init=3,eps_init=0.05,eps_final=0.1,\n",
    "                         deps=.01,**kw_p04)\n",
    "data_p04_list.append(dat)"
   ]
  },
  {
   "cell_type": "code",
   "execution_count": 47,
   "id": "451df6ec-698d-4dc4-848c-ef9c5e177eff",
   "metadata": {
    "execution": {
     "iopub.execute_input": "2024-08-28T22:12:44.092609Z",
     "iopub.status.busy": "2024-08-28T22:12:44.092609Z",
     "iopub.status.idle": "2024-08-28T22:12:44.104948Z",
     "shell.execute_reply": "2024-08-28T22:12:44.103943Z"
    },
    "scrolled": true
   },
   "outputs": [],
   "source": [
    "# branch 1b\n",
    "dat = follow_phase_diffs(init=3,eps_init=0.05,eps_final=0.001,\n",
    "                         deps=-.002,**kw_p04)\n",
    "data_p04_list.append(dat)"
   ]
  },
  {
   "cell_type": "code",
   "execution_count": 48,
   "id": "772ab73d-9c89-46de-b3f6-142eeeb2288c",
   "metadata": {
    "execution": {
     "iopub.execute_input": "2024-08-28T22:12:44.108152Z",
     "iopub.status.busy": "2024-08-28T22:12:44.108152Z",
     "iopub.status.idle": "2024-08-28T22:12:44.121066Z",
     "shell.execute_reply": "2024-08-28T22:12:44.120067Z"
    }
   },
   "outputs": [],
   "source": [
    "# # mid 1b\n",
    "# dat = follow_phase_diffs(init=2.5,eps_init=0.05,eps_final=0.035,\n",
    "#                          deps=-.002,**kw_p04)\n",
    "# data_p04_list.append(dat)"
   ]
  },
  {
   "cell_type": "markdown",
   "id": "6d3b9920-d0a3-4ae9-980a-3044cf4cc55c",
   "metadata": {},
   "source": [
    "## Get Branches 3D"
   ]
  },
  {
   "cell_type": "code",
   "execution_count": 49,
   "id": "4c661b3e-3629-4d75-b9cc-1ad7a9f599e4",
   "metadata": {
    "execution": {
     "iopub.execute_input": "2024-08-28T22:12:44.125576Z",
     "iopub.status.busy": "2024-08-28T22:12:44.124069Z",
     "iopub.status.idle": "2024-08-28T22:12:44.135218Z",
     "shell.execute_reply": "2024-08-28T22:12:44.135218Z"
    }
   },
   "outputs": [],
   "source": [
    "data_r3d_p04_list = []"
   ]
  },
  {
   "cell_type": "code",
   "execution_count": 50,
   "id": "b2356060-1c49-42c8-acc0-6ddf0410d31f",
   "metadata": {
    "execution": {
     "iopub.execute_input": "2024-08-28T22:12:44.140212Z",
     "iopub.status.busy": "2024-08-28T22:12:44.139212Z",
     "iopub.status.idle": "2024-08-28T22:12:44.370490Z",
     "shell.execute_reply": "2024-08-28T22:12:44.369493Z"
    },
    "scrolled": true
   },
   "outputs": [
    {
     "name": "stdout",
     "output_type": "stream",
     "text": [
      "iter=0, rel. err =7.12e-01, Y=[ 1.62155932 -0.34364482 -0.05270505]                                              \r",
      "iter=1, rel. err =7.20e-02, Y=[ 1.68861267 -0.3639249  -0.06936976]                                              \r",
      "iter=2, rel. err =4.15e-03, Y=[ 1.69262496 -0.3646489  -0.07012002]                                              \r",
      "iter=3, rel. err =1.71e-05, Y=[ 1.69264161 -0.3646517  -0.07012296]                                              \r",
      "iter=4, rel. err =2.80e-10, Y=[ 1.69264161 -0.3646517  -0.07012296]                                              \r",
      "t_diff 1.6926416062808824\n",
      "[ 1.6926 -0.3647 -0.0701]\n"
     ]
    }
   ],
   "source": [
    "# find init for this branch\n",
    "_,init = phase_lock_r3d([1,0,0],a11_p04,.05,_redu_3dc)\n",
    "print(init)"
   ]
  },
  {
   "cell_type": "code",
   "execution_count": 51,
   "id": "c42b7c18-f766-4f98-b8b8-38e658d0103e",
   "metadata": {
    "execution": {
     "iopub.execute_input": "2024-08-28T22:12:44.374490Z",
     "iopub.status.busy": "2024-08-28T22:12:44.374490Z",
     "iopub.status.idle": "2024-08-28T22:12:44.992264Z",
     "shell.execute_reply": "2024-08-28T22:12:44.991146Z"
    },
    "scrolled": true
   },
   "outputs": [
    {
     "name": "stdout",
     "output_type": "stream",
     "text": [
      "eps iter 0 0.05                \n",
      "iter=0, rel. err =6.78e-05, Y=[ 1.6926416  -0.3646517  -0.07012296]                                              \r",
      "iter=1, rel. err =5.39e-09, Y=[ 1.69264161 -0.3646517  -0.07012296]                                              \r",
      "t_diff 1.692641606280887\n",
      "eps iter 1 0.060000000000000005                \n",
      "iter=0, rel. err =1.29e-01, Y=[ 1.78360629 -0.45437327 -0.08897556]                                              \r",
      "iter=1, rel. err =3.16e-03, Y=[ 1.78048607 -0.45410206 -0.08853851]                                              \r"
     ]
    },
    {
     "name": "stdout",
     "output_type": "stream",
     "text": [
      "iter=2, rel. err =1.27e-05, Y=[ 1.78049824 -0.45410456 -0.088541  ]                                              \r",
      "iter=3, rel. err =1.69e-10, Y=[ 1.78049824 -0.45410456 -0.088541  ]                                              \r",
      "t_diff 1.780498242720475\n",
      "eps iter 2 0.07                \n",
      "iter=0, rel. err =1.33e-01, Y=[ 1.87045654 -0.54992247 -0.10804555]                                              \r",
      "iter=1, rel. err =7.86e-03, Y=[ 1.86290709 -0.54831775 -0.10655686]                                              \r",
      "iter=2, rel. err =7.84e-05, Y=[ 1.86298098 -0.54833714 -0.10657456]                                              \r"
     ]
    },
    {
     "name": "stdout",
     "output_type": "stream",
     "text": [
      "iter=3, rel. err =7.31e-09, Y=[ 1.86298098 -0.54833714 -0.10657456]                                              \r",
      "t_diff 1.8629809837957794\n",
      "eps iter 3 0.08000000000000002                \n",
      "iter=0, rel. err =1.28e-01, Y=[ 1.94225024 -0.64691383 -0.12371925]                                              \r",
      "iter=1, rel. err =1.04e-02, Y=[ 1.93247218 -0.64411784 -0.12168128]                                              \r",
      "iter=2, rel. err =1.36e-04, Y=[ 1.93259721 -0.64415831 -0.12171617]                                              \r",
      "iter=3, rel. err =2.34e-08, Y=[ 1.93259723 -0.64415831 -0.12171618]                                              \r",
      "t_diff 1.9325972291046967\n"
     ]
    }
   ],
   "source": [
    "# bot 1f\n",
    "dat = follow_locking_3d(init,a11_p04,(.05,.081,.01),\n",
    "                        rhs=_redu_3dc,recompute=True)\n",
    "data_r3d_p04_list.append(dat)"
   ]
  },
  {
   "cell_type": "code",
   "execution_count": 52,
   "id": "49df9cf3-b746-43ac-bf48-0cbdaee9cf75",
   "metadata": {
    "execution": {
     "iopub.execute_input": "2024-08-28T22:12:44.996558Z",
     "iopub.status.busy": "2024-08-28T22:12:44.995265Z",
     "iopub.status.idle": "2024-08-28T22:12:46.158693Z",
     "shell.execute_reply": "2024-08-28T22:12:46.158693Z"
    },
    "scrolled": true
   },
   "outputs": [
    {
     "name": "stdout",
     "output_type": "stream",
     "text": [
      "eps iter 0 0.05                \n",
      "iter=0, rel. err =6.78e-05, Y=[ 1.6926416  -0.3646517  -0.07012296]                                              \r",
      "iter=1, rel. err =5.39e-09, Y=[ 1.69264161 -0.3646517  -0.07012296]                                              \r",
      "t_diff 1.692641606280887\n",
      "eps iter 1 0.045000000000000005                \n",
      "iter=0, rel. err =6.11e-02, Y=[ 1.64951042 -0.32224553 -0.06141167]                                              \r",
      "iter=1, rel. err =4.36e-04, Y=[ 1.64907557 -0.32225081 -0.06138151]                                              \r"
     ]
    },
    {
     "name": "stdout",
     "output_type": "stream",
     "text": [
      "iter=2, rel. err =1.92e-07, Y=[ 1.64907575 -0.32225084 -0.06138154]                                              \r",
      "iter=3, rel. err =1.23e-13, Y=[ 1.64907575 -0.32225084 -0.06138154]                                              \r",
      "t_diff 1.649075753126491\n",
      "eps iter 2 0.04000000000000001                \n",
      "iter=0, rel. err =5.96e-02, Y=[ 1.60662013 -0.28137915 -0.05307084]                                              \r",
      "iter=1, rel. err =2.50e-04, Y=[ 1.60637178 -0.28140777 -0.05306947]                                              \r",
      "iter=2, rel. err =5.78e-08, Y=[ 1.60637184 -0.28140777 -0.05306948]                                              \r",
      "t_diff 1.6063718393572743\n",
      "eps iter 3 0.03500000000000001                \n"
     ]
    },
    {
     "name": "stdout",
     "output_type": "stream",
     "text": [
      "iter=0, rel. err =5.78e-02, Y=[ 1.56484086 -0.24201035 -0.045185  ]                                              \r",
      "iter=1, rel. err =1.57e-04, Y=[ 1.56468736 -0.24204363 -0.0451953 ]                                              \r",
      "iter=2, rel. err =2.00e-08, Y=[ 1.56468738 -0.24204364 -0.04519531]                                              \r",
      "t_diff 1.5646873803897632\n",
      "eps iter 4 0.030000000000000013                \n",
      "iter=0, rel. err =5.60e-02, Y=[ 1.52416253 -0.20402903 -0.03772603]                                              \r",
      "iter=1, rel. err =1.22e-04, Y=[ 1.52404491 -0.20405827 -0.03773871]                                              \r"
     ]
    },
    {
     "name": "stdout",
     "output_type": "stream",
     "text": [
      "iter=2, rel. err =1.06e-08, Y=[ 1.52404492 -0.20405827 -0.03773871]                                              \r",
      "t_diff 1.5240449195943995\n",
      "eps iter 5 0.025000000000000015                \n",
      "iter=0, rel. err =5.44e-02, Y=[ 1.48451694 -0.1673278  -0.03065719]                                              \r",
      "iter=1, rel. err =1.22e-04, Y=[ 1.48439731 -0.16734982 -0.03066782]                                              \r",
      "iter=2, rel. err =1.01e-08, Y=[ 1.48439732 -0.16734982 -0.03066782]                                              \r",
      "t_diff 1.48439731703211\n",
      "eps iter 6 0.020000000000000018                \n",
      "iter=0, rel. err =5.29e-02, Y=[ 1.4457859  -0.13180758 -0.02393998]                                              \r",
      "iter=1, rel. err =1.19e-04, Y=[ 1.44566839 -0.13182371 -0.0239485 ]                                              \r",
      "iter=2, rel. err =9.14e-09, Y=[ 1.4456684  -0.13182371 -0.0239485 ]                                              \r",
      "t_diff 1.4456683995357467\n",
      "eps iter 7 0.01500000000000002                \n"
     ]
    },
    {
     "name": "stdout",
     "output_type": "stream",
     "text": [
      "iter=0, rel. err =5.15e-02, Y=[ 1.40790775 -0.09738515 -0.01754308]                                              \r",
      "iter=1, rel. err =1.32e-04, Y=[ 1.40777585 -0.09739554 -0.01754867]                                              \r",
      "iter=2, rel. err =1.09e-08, Y=[ 1.40777586 -0.09739554 -0.01754867]                                              \r",
      "t_diff 1.4077758564824763\n",
      "eps iter 8 0.010000000000000023                \n",
      "iter=0, rel. err =5.02e-02, Y=[ 1.37078695 -0.06398514 -0.01143667]                                              \r",
      "iter=1, rel. err =1.44e-04, Y=[ 1.37064267 -0.06399111 -0.0114399 ]                                              \r",
      "iter=2, rel. err =1.24e-08, Y=[ 1.37064268 -0.06399111 -0.0114399 ]                                              \r",
      "t_diff 1.370642679544507\n",
      "eps iter 9 0.005000000000000025                \n",
      "iter=0, rel. err =4.90e-02, Y=[ 1.33435618 -0.03154261 -0.0055961 ]                                              \r"
     ]
    },
    {
     "name": "stdout",
     "output_type": "stream",
     "text": [
      "iter=1, rel. err =1.55e-04, Y=[ 1.33420166 -0.03154518 -0.00559749]                                              \r",
      "iter=2, rel. err =1.36e-08, Y=[ 1.33420167 -0.03154519 -0.00559749]                                              \r",
      "t_diff 1.334201668786467\n"
     ]
    }
   ],
   "source": [
    "# bot 1b\n",
    "dat = follow_locking_3d(init,a11_p04,(.05,.001,-.005),\n",
    "                        rhs=_redu_3dc,recompute=True)\n",
    "data_r3d_p04_list.append(dat)"
   ]
  },
  {
   "cell_type": "markdown",
   "id": "11bd2bbf-7e30-4116-947c-c8eecbe7f79b",
   "metadata": {},
   "source": [
    "## Plot"
   ]
  },
  {
   "cell_type": "code",
   "execution_count": 53,
   "id": "45714a91-881b-4e03-b849-8835dbff4537",
   "metadata": {
    "execution": {
     "iopub.execute_input": "2024-08-28T22:12:46.162215Z",
     "iopub.status.busy": "2024-08-28T22:12:46.162215Z",
     "iopub.status.idle": "2024-08-28T22:12:47.381713Z",
     "shell.execute_reply": "2024-08-28T22:12:47.381713Z"
    }
   },
   "outputs": [
    {
     "data": {
      "image/png": "[encoded data removed]",
      "text/plain": [
       "<Figure size 300x200 with 1 Axes>"
      ]
     },
     "metadata": {},
     "output_type": "display_data"
    }
   ],
   "source": [
    "quick_plot_combined(a11_p04,\n",
    "                    kw_f={'data_list':data_p04_list},\n",
    "                    kw_r3d={'data_list':data_r3d_p04_list},\n",
    "                    kw_r={'etup':etup11})"
   ]
  },
  {
   "cell_type": "markdown",
   "id": "2a166978-54cd-4f12-8d2d-08aeef72eccd",
   "metadata": {},
   "source": [
    "## Sims"
   ]
  },
  {
   "cell_type": "code",
   "execution_count": 54,
   "id": "d1a9f72a-9d4d-4487-b0d5-004807274c9c",
   "metadata": {
    "execution": {
     "iopub.execute_input": "2024-08-28T22:12:47.386226Z",
     "iopub.status.busy": "2024-08-28T22:12:47.385225Z",
     "iopub.status.idle": "2024-08-28T22:12:47.397551Z",
     "shell.execute_reply": "2024-08-28T22:12:47.397551Z"
    }
   },
   "outputs": [],
   "source": [
    "# coupling and init\n",
    "eps11_p04 = 0.09\n",
    "th_init11_p04 = 2"
   ]
  },
  {
   "cell_type": "code",
   "execution_count": 55,
   "id": "e11dd35d-0347-4364-93cb-320df2318a0c",
   "metadata": {
    "execution": {
     "iopub.execute_input": "2024-08-28T22:12:47.401553Z",
     "iopub.status.busy": "2024-08-28T22:12:47.401553Z",
     "iopub.status.idle": "2024-08-28T22:12:47.414167Z",
     "shell.execute_reply": "2024-08-28T22:12:47.413166Z"
    }
   },
   "outputs": [],
   "source": [
    "# sim params\n",
    "dt = .01;T_p04=1000\n",
    "t11_p04 = np.arange(0,T_p04,dt)\n",
    "args11_p04 = {'args':(a11_p04,eps11_p04,del11_p04),\n",
    "             't_eval':t11_p04,**kw_sim,'dense_output':True}"
   ]
  },
  {
   "cell_type": "code",
   "execution_count": 56,
   "id": "89e67d23-4dd5-4f26-b250-5ea47c4e804e",
   "metadata": {
    "execution": {
     "iopub.execute_input": "2024-08-28T22:12:47.417678Z",
     "iopub.status.busy": "2024-08-28T22:12:47.417678Z",
     "iopub.status.idle": "2024-08-28T22:12:49.857721Z",
     "shell.execute_reply": "2024-08-28T22:12:49.855692Z"
    },
    "tags": []
   },
   "outputs": [],
   "source": [
    "# initialize and run full\n",
    "y0a = a11_p04.system1.lc['dat'][int((th_init11_p04/(2*np.pi)) * a11_p04.system1.TN),:]\n",
    "y0b = a11_p04.system2.lc['dat'][int((0/(2*np.pi)) * a11_p04.system2.TN),:]\n",
    "\n",
    "y0_p04 = np.array([y0a,y0b]).flatten()\n",
    "\n",
    "solf11_p04 = solve_ivp(_full,[0,t11_p04[-1]],\n",
    "                        y0_p04, **args11_p04)"
   ]
  },
  {
   "cell_type": "code",
   "execution_count": 57,
   "id": "abe5fe42-e5c3-4e56-b503-92d65e9c3aab",
   "metadata": {
    "execution": {
     "iopub.execute_input": "2024-08-28T22:12:49.862244Z",
     "iopub.status.busy": "2024-08-28T22:12:49.861242Z",
     "iopub.status.idle": "2024-08-28T22:12:51.119303Z",
     "shell.execute_reply": "2024-08-28T22:12:51.116904Z"
    },
    "tags": []
   },
   "outputs": [],
   "source": [
    "solr11_p04 = solve_ivp(_redu_c,[0,t11_p04[-1]],\n",
    "                     [th_init11_p04],**args11_p04)"
   ]
  },
  {
   "cell_type": "code",
   "execution_count": 58,
   "id": "1d441102-fafe-48e5-b0fd-246611be51b3",
   "metadata": {
    "execution": {
     "iopub.execute_input": "2024-08-28T22:12:51.124303Z",
     "iopub.status.busy": "2024-08-28T22:12:51.123304Z",
     "iopub.status.idle": "2024-08-28T22:12:51.132887Z",
     "shell.execute_reply": "2024-08-28T22:12:51.131962Z"
    }
   },
   "outputs": [],
   "source": [
    "# solr12b_p04 = solve_ivp(_redu_3dc,[0,t11_p04[-1]],\n",
    "#                     [th_init11_p04,0,0],**args11_p04)"
   ]
  },
  {
   "cell_type": "code",
   "execution_count": 59,
   "id": "c30b2227-7c29-40c3-8a87-716bd8f7e8ee",
   "metadata": {
    "execution": {
     "iopub.execute_input": "2024-08-28T22:12:51.138903Z",
     "iopub.status.busy": "2024-08-28T22:12:51.137905Z",
     "iopub.status.idle": "2024-08-28T22:12:52.772203Z",
     "shell.execute_reply": "2024-08-28T22:12:52.770203Z"
    }
   },
   "outputs": [],
   "source": [
    "tp12a_p04, phase12a_p04 = get_phase(t11_p04,solf11_p04.y.T[:,:4],\n",
    "                            skipn=50,system1=a11_p04.system1)\n",
    "tp12b_p04, phase12b_p04 = get_phase(t11_p04,solf11_p04.y.T[:,4:],\n",
    "                            skipn=50,system1=a11_p04.system2)"
   ]
  },
  {
   "cell_type": "code",
   "execution_count": 60,
   "id": "6b3aad3f-8059-49fa-83ea-c56287487ce1",
   "metadata": {
    "execution": {
     "iopub.execute_input": "2024-08-28T22:12:52.777665Z",
     "iopub.status.busy": "2024-08-28T22:12:52.776665Z",
     "iopub.status.idle": "2024-08-28T22:12:53.101862Z",
     "shell.execute_reply": "2024-08-28T22:12:53.100860Z"
    }
   },
   "outputs": [
    {
     "data": {
      "text/plain": [
       "(-0.5, 6.783185307179586)"
      ]
     },
     "execution_count": 60,
     "metadata": {},
     "output_type": "execute_result"
    },
    {
     "data": {
      "image/png": "[encoded data removed]",
      "text/plain": [
       "<Figure size 640x480 with 1 Axes>"
      ]
     },
     "metadata": {},
     "output_type": "display_data"
    }
   ],
   "source": [
    "fig,axs = plt.subplots()\n",
    "y = np.mod(phase12a_p04 - a11_p04.om*phase12b_p04,2*np.pi)\n",
    "axs.scatter(tp12a_p04,y,s=1,alpha=.5,color='black')\n",
    "\n",
    "axs.plot(t11_p04,np.mod(solr11_p04.y.T,2*np.pi),\n",
    "         color='tab:red')\n",
    "\n",
    "axs.set_ylim(-.5,2*np.pi+.5)"
   ]
  }
 ],
 "metadata": {
  "kernelspec": {
   "display_name": "Python 3 (ipykernel)",
   "language": "python",
   "name": "python3"
  },
  "language_info": {
   "codemirror_mode": {
    "name": "ipython",
    "version": 3
   },
   "file_extension": ".py",
   "mimetype": "text/x-python",
   "name": "python",
   "nbconvert_exporter": "python",
   "pygments_lexer": "ipython3",
   "version": "3.10.14"
  }
 },
 "nbformat": 4,
 "nbformat_minor": 5
}
