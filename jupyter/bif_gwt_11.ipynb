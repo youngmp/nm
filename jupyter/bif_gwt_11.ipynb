{
 "cells": [
  {
   "cell_type": "markdown",
   "id": "31c1828e-5d5c-4a52-9550-f5faab8ccaa5",
   "metadata": {},
   "source": [
    "# gw-thal 1:1 Bifurcation Diagrams"
   ]
  },
  {
   "cell_type": "markdown",
   "id": "4b5d7385-39f8-44a8-a61e-43927a5f1ce6",
   "metadata": {},
   "source": [
    "Note that for del=0.0, there is a spurious bifurcation at eps=.75 or so. In the full model, the phase difference oscillates to a steady-state. Is the 1d reduction capturing the emergence of imaginary eigenvalues about this fixed point? How can we get at this more rigorously? Would it make sense to use a 1d reduction + 2d reduction here?\n",
    "\n",
    "Anyway, at least check that for eps < .75 that the full model phase difference doesn't oscillate."
   ]
  },
  {
   "cell_type": "markdown",
   "id": "073d3337-d6fe-465e-807b-890e9f0131ca",
   "metadata": {},
   "source": [
    "# Inits"
   ]
  },
  {
   "cell_type": "code",
   "execution_count": 1,
   "id": "c11ae704-3b52-469f-b703-218a4bbfa9de",
   "metadata": {},
   "outputs": [],
   "source": [
    "import sys; sys.path.insert(0, '..') # add parent folder path where lib folder is\n",
    "# user-defined\n",
    "import nmCoupling as nm\n",
    "# import nmCoupling_old as nm\n",
    "import response as rp\n",
    "\n",
    "import gwt\n",
    "import thal2 as t2\n",
    "import gw2 as g2\n",
    "\n",
    "from lib.util import (get_phase, freq_est, get_tongue_1d, pl_exist_1d, \n",
    "get_period, bif1d, follow_phase_diffs, phase_lock_r3d, follow_locking_3d, \n",
    "get_initial_phase_diff_c, get_period)\n",
    "\n",
    "from lib.rhs import _redu_c, _full, _redu_full\n",
    "from lib.rhs import _redu_3dc_thal as _redu_3dc\n",
    "\n",
    "from lib.plot_util import add_diagram_1d_scatter, quick_plot_combined\n",
    "\n",
    "import numpy as np\n",
    "import scipy as sp\n",
    "import matplotlib.pyplot as plt\n",
    "from scipy.integrate import solve_ivp\n",
    "import sympy as sym\n",
    "\n",
    "from scipy.optimize import root,bisect\n",
    "from copy import deepcopy\n",
    "import os\n",
    "\n",
    "plt.rcParams.update({\n",
    "    \"text.usetex\": True,\n",
    "    \"font.family\": \"Helvetica\"\n",
    "})\n",
    "\n",
    "nmc = nm.nmCoupling\n",
    "rsp = rp.Response"
   ]
  },
  {
   "cell_type": "markdown",
   "id": "956f6615-a080-461d-8aee-2abf994f1ff5",
   "metadata": {},
   "source": [
    "## Dicts"
   ]
  },
  {
   "cell_type": "code",
   "execution_count": 2,
   "id": "43626f58-6a5b-42e1-bb2a-f332da5eb746",
   "metadata": {},
   "outputs": [],
   "source": [
    "kw_sim = {'rtol':1e-7,'atol':1e-7,'method':'LSODA'}"
   ]
  },
  {
   "cell_type": "code",
   "execution_count": 3,
   "id": "35b78a9b-8b5c-4432-9894-7c3c102ad00b",
   "metadata": {},
   "outputs": [],
   "source": [
    "pd_thal = {'gL':0.05,'gna':3,'gk':5,\n",
    "           'gt':5,'eL':-70,'ena':50,\n",
    "           'ek':-90,'et':0,'esyn':-90,\n",
    "           'c':1,'alpha':3,'beta':2,\n",
    "           'sigmat':0.8,'vt':-20,\n",
    "           'ib':8.5,'del':0,'om':1,'om_fix':1}"
   ]
  },
  {
   "cell_type": "code",
   "execution_count": 4,
   "id": "9f1d1761-57c7-458f-a581-e0d7f1d96a00",
   "metadata": {},
   "outputs": [],
   "source": [
    "pd_gw = {'v1':.84,'v2':.42,'v4':.35,'v6':.35,'v8':1,\n",
    "         'k1':1,'k2':1,'k3':.7,'k4':1,'k5':.7,\n",
    "         'k6':1,'k7':.35,'k8':1,'K':0.5,'kc':1,\n",
    "         'n':6,'L':0,'del':0,'om':1,'om_fix':1}"
   ]
  },
  {
   "cell_type": "code",
   "execution_count": 5,
   "id": "3a3623ff-a0c2-4f97-b9d6-50076d626ab9",
   "metadata": {
    "editable": true,
    "slideshow": {
     "slide_type": ""
    },
    "tags": []
   },
   "outputs": [],
   "source": [
    "# default period must be 2*np.pi\n",
    "kw_thal = {'var_names':['v','h','r','w'],\n",
    "        'pardict':pd_thal,\n",
    "        'rhs':t2.rhs,\n",
    "        'coupling':gwt.coupling_thal,\n",
    "        'init':np.array([-.64,0.71,0.25,0,6]),\n",
    "        'TN':20000,\n",
    "        'trunc_order':3,\n",
    "        'z_forward':False,\n",
    "        'i_forward':[False,True,False,False,False,False],\n",
    "        'i_bad_dx':[False,True,False,False,False,False],\n",
    "        'max_iter':50,\n",
    "        'rtol':1e-12,\n",
    "        'atol':1e-12,\n",
    "        'rel_tol':1e-9,\n",
    "        'save_fig':False,\n",
    "        'lc_prominence':.05,\n",
    "        'factor':.5}"
   ]
  },
  {
   "cell_type": "code",
   "execution_count": 6,
   "id": "f16258e6-b083-4edf-be20-f8468f5505a3",
   "metadata": {},
   "outputs": [],
   "source": [
    "kw_gw = {'var_names':['x','y','z','v'],\n",
    "        'pardict':pd_gw,\n",
    "        'rhs':g2.rhs,\n",
    "        'coupling':gwt.coupling_gw,\n",
    "        'init':np.array([.3882,.523,1.357,.4347,24.2]),\n",
    "        'TN':20000,\n",
    "        'trunc_order':3,\n",
    "        'z_forward':False,\n",
    "        'i_forward':[False,True,False,False,False,False,False],\n",
    "        'i_bad_dx':[False,True,False,False,False,False,False],\n",
    "        'max_iter':50,\n",
    "        'rtol':1e-12,\n",
    "        'atol':1e-12,\n",
    "        'rel_tol':1e-9,\n",
    "        'save_fig':False,\n",
    "        'lc_prominence':.05,\n",
    "        'factor':.5}"
   ]
  },
  {
   "cell_type": "markdown",
   "id": "00d1e865-d890-4b6c-a1cf-c449a2967958",
   "metadata": {},
   "source": [
    "## Defs"
   ]
  },
  {
   "cell_type": "code",
   "execution_count": 7,
   "id": "60f3f2e4-5bdc-4dcf-bd2c-34bc638d7da5",
   "metadata": {},
   "outputs": [],
   "source": [
    "bifdir3d = 'bifgwt_r3d'"
   ]
  },
  {
   "cell_type": "code",
   "execution_count": 8,
   "id": "0c25c56e-da3b-4145-a5f5-86f813f96129",
   "metadata": {},
   "outputs": [],
   "source": [
    "kw_bif = {'method':'LSODA','dense_output':True,'rtol':1e-9,'atol':1e-9}"
   ]
  },
  {
   "cell_type": "code",
   "execution_count": 9,
   "id": "7340aa34-62c1-4b9d-b149-1b827c968bc6",
   "metadata": {},
   "outputs": [],
   "source": [
    "etup11 = (.001,.15,200)\n",
    "eps_list11r = np.linspace(*etup11)"
   ]
  },
  {
   "cell_type": "code",
   "execution_count": 10,
   "id": "2de0d4a5-5d0d-4263-855e-4f1510913c82",
   "metadata": {
    "editable": true,
    "slideshow": {
     "slide_type": ""
    },
    "tags": []
   },
   "outputs": [],
   "source": [
    "x_temp = np.linspace(-np.pi,3*np.pi,500)"
   ]
  },
  {
   "cell_type": "code",
   "execution_count": 11,
   "id": "2176ea62-07e5-47f3-9669-ab038c1a529b",
   "metadata": {},
   "outputs": [],
   "source": [
    "ss,dss=np.linspace(0,2,100,retstep=True)"
   ]
  },
  {
   "cell_type": "markdown",
   "id": "93fe4c8e-4f01-43d7-b898-dcef3ae99e0d",
   "metadata": {},
   "source": [
    "## Initialize Response Functions"
   ]
  },
  {
   "cell_type": "code",
   "execution_count": 12,
   "id": "345a025b-9b34-4cd7-af91-961114079f4a",
   "metadata": {
    "editable": true,
    "slideshow": {
     "slide_type": ""
    },
    "tags": []
   },
   "outputs": [
    {
     "name": "stdout",
     "output_type": "stream",
     "text": [
      "mkdir ./data/gwt0/\n",
      "* Loading LC data...\n",
      "self.T 6.283185307179586 omfix 0.9901981522495121\n",
      "* Loading monodromy...\n",
      "* Floquet Exponent kappa =-0.02435447459610879\n",
      "* Loading g symbolic...\n",
      "* Computing g...\n",
      "* Loading heterogeneous terms...\n",
      "* Computing z...\n",
      "* Computing i...\n",
      "mkdir ./data/gwt1/\n",
      "* Loading LC data...\n",
      "self.T 6.283185307179586 omfix 3.8590183230656914\n",
      "* Loading monodromy...\n",
      "* Floquet Exponent kappa =-0.15846659975601737\n",
      "* Loading g symbolic...\n",
      "* Computing g...\n",
      "* Loading heterogeneous terms...\n",
      "* Computing z...\n",
      "* Computing i...\n"
     ]
    }
   ],
   "source": [
    "system1 = rsp(idx=0,model_name='gwt0',**kw_thal)\n",
    "system2 = rsp(idx=1,model_name='gwt1',**kw_gw)"
   ]
  },
  {
   "cell_type": "code",
   "execution_count": 13,
   "id": "403167dd-b4fd-41bc-a004-2ea98af4faba",
   "metadata": {},
   "outputs": [],
   "source": [
    "recompute_list = ['h_data_gwt0','h_data_gwt1','p_data_gwt0','p_data_gwt1']\n",
    "# recompute_list = []\n",
    "kw_nm = {'system1':system1,'system2':system2,'_n':('om0',1),'_m':('om1',1),\n",
    "         'NH':2048,'save_fig':False,'recompute_list':recompute_list}"
   ]
  },
  {
   "cell_type": "markdown",
   "id": "ca4f2a74-7b8c-47f6-8b1f-e06fd5bb1670",
   "metadata": {},
   "source": [
    "# del=0.0"
   ]
  },
  {
   "cell_type": "code",
   "execution_count": 14,
   "id": "a79510b7-df04-42d3-9c32-dd662f07cf57",
   "metadata": {
    "editable": true,
    "slideshow": {
     "slide_type": ""
    },
    "tags": []
   },
   "outputs": [
    {
     "name": "stdout",
     "output_type": "stream",
     "text": [
      "pfactor 30\n",
      "* Loading H gwt0, order=0...\n",
      "* Loading H gwt1, order=0...\n",
      "* Loading H gwt0, order=1...\n",
      "* Loading H gwt1, order=1...\n",
      "* Loading H gwt0, order=2...\n",
      "* Loading H gwt1, order=2...\n",
      "* Loading H gwt0, order=3...\n",
      "* Loading H gwt1, order=3...\n"
     ]
    }
   ],
   "source": [
    "del11_p0 = 0\n",
    "a11_p0 = nm.nmCoupling(**kw_nm, del1=del11_p0)"
   ]
  },
  {
   "cell_type": "markdown",
   "id": "a7e3ac14-4421-4670-b461-f8ff2d24ac1a",
   "metadata": {},
   "source": [
    "## Get Branches Full"
   ]
  },
  {
   "cell_type": "code",
   "execution_count": 15,
   "id": "249a753a-e4ce-4fd7-b8ae-be36ab1614e1",
   "metadata": {},
   "outputs": [],
   "source": [
    "kw_p0 = {'a':a11_p0,'del1':del11_p0,'recompute':False,\n",
    "         'bifdir':'bif1d_gwt/','_full_rhs':_full}"
   ]
  },
  {
   "cell_type": "code",
   "execution_count": 16,
   "id": "0a4e5dd6-61e7-446f-b850-36a07b7948d2",
   "metadata": {},
   "outputs": [],
   "source": [
    "data_p0_list = []"
   ]
  },
  {
   "cell_type": "code",
   "execution_count": 17,
   "id": "0d90d9f3-57e4-46bd-826d-5c054750112f",
   "metadata": {},
   "outputs": [],
   "source": [
    "in_dicts = [dict(init=0,eps_init=0.08,eps_final=0.005,deps=-.005),\n",
    "            dict(init=0,eps_init=0.08,eps_final=0.16,deps=.01),\n",
    "            dict(init=0.5,eps_init=0.05,eps_final=0.15,deps=.01)]"
   ]
  },
  {
   "cell_type": "code",
   "execution_count": 18,
   "id": "c241f3e4-76af-4b7e-ad0d-67bab0c2f19a",
   "metadata": {
    "scrolled": true
   },
   "outputs": [
    {
     "name": "stdout",
     "output_type": "stream",
     "text": [
      "fname1 td_branch_init=0_nm=11_del=0_ei=0.08_ef=0.005_de=-0.005.txt\n",
      "fname2 ts_branch_init=0_nm=11_del=0_ei=0.08_ef=0.005_de=-0.005.txt\n",
      "fname1 td_branch_init=0_nm=11_del=0_ei=0.08_ef=0.16_de=0.01.txt\n",
      "fname2 ts_branch_init=0_nm=11_del=0_ei=0.08_ef=0.16_de=0.01.txt\n",
      "fname1 td_branch_init=0.5_nm=11_del=0_ei=0.05_ef=0.15_de=0.01.txt\n",
      "fname2 ts_branch_init=0.5_nm=11_del=0_ei=0.05_ef=0.15_de=0.01.txt\n"
     ]
    }
   ],
   "source": [
    "for i in range(len(in_dicts)):\n",
    "    in1 = in_dicts[i]\n",
    "    dat = follow_phase_diffs(**in1,**kw_p0)\n",
    "    data_p0_list.append(dat)\n",
    "fname = kw_p0['bifdir']+'hyper_gwt_11_p0.txt'"
   ]
  },
  {
   "cell_type": "code",
   "execution_count": 19,
   "id": "7825789c-1122-4713-87ab-2f730f00fd9f",
   "metadata": {},
   "outputs": [],
   "source": [
    "# save hyperparameters\n",
    "hyp_inputs = np.zeros([len(in_dicts),4])\n",
    "for i in range(len(in_dicts)):\n",
    "    hyp_inputs[i,0] = in_dicts[i]['init']\n",
    "    hyp_inputs[i,1] = in_dicts[i]['eps_init']\n",
    "    hyp_inputs[i,2] = in_dicts[i]['eps_final']\n",
    "    hyp_inputs[i,3] = in_dicts[i]['deps']\n",
    "np.savetxt(fname,hyp_inputs)"
   ]
  },
  {
   "cell_type": "markdown",
   "id": "56e67e29-e75c-421b-8320-bd73b89cb267",
   "metadata": {},
   "source": [
    "## Get Branches 3D"
   ]
  },
  {
   "cell_type": "code",
   "execution_count": 20,
   "id": "79e742d3-707d-4073-9e34-de3b95d80e87",
   "metadata": {},
   "outputs": [],
   "source": [
    "kw_follow_r3d = {'a':a11_p0,'rhs':_redu_3dc,'recompute':False,\n",
    "                 'bifdir':'bif1d_gwt/'}"
   ]
  },
  {
   "cell_type": "code",
   "execution_count": 21,
   "id": "fa1ea30a-5300-468e-aad8-e388d47d2cf2",
   "metadata": {},
   "outputs": [],
   "source": [
    "data_list_r3d = []"
   ]
  },
  {
   "cell_type": "code",
   "execution_count": 22,
   "id": "b458eb42-6146-47a4-97e0-e932e54f388f",
   "metadata": {},
   "outputs": [],
   "source": [
    "in_dicts_r3d = [dict(init=1,eps_tup=(.01,.16,.01)),\n",
    "                dict(init=1,eps_tup=(.01,.005,-.0005))]"
   ]
  },
  {
   "cell_type": "code",
   "execution_count": 23,
   "id": "48c8a2d5-591e-4468-8c4d-543f46bed35c",
   "metadata": {
    "scrolled": true
   },
   "outputs": [
    {
     "name": "stdout",
     "output_type": "stream",
     "text": [
      "eps_tup (0.01, 0.16, 0.01)\n",
      "eps_tup (0.01, 0.005, -0.0005)\n"
     ]
    }
   ],
   "source": [
    "for i in range(len(in_dicts_r3d)):\n",
    "    in1 = in_dicts_r3d[i]\n",
    "    dat = follow_locking_3d(**in1,**kw_follow_r3d)\n",
    "    data_list_r3d.append(dat)\n",
    "fname = kw_follow_r3d['bifdir']+'hyper_r3d_gwt_11_p0.txt'"
   ]
  },
  {
   "cell_type": "code",
   "execution_count": 24,
   "id": "4a38180c-4eb4-45d4-99c5-ea2160dcb276",
   "metadata": {},
   "outputs": [],
   "source": [
    "# save hyperparameters\n",
    "hyp_inputs = np.zeros([len(in_dicts_r3d),4])\n",
    "for i in range(len(in_dicts_r3d)):\n",
    "    hyp_inputs[i,0] = in_dicts_r3d[i]['init']\n",
    "    hyp_inputs[i,1] = in_dicts_r3d[i]['eps_tup'][0]\n",
    "    hyp_inputs[i,2] = in_dicts_r3d[i]['eps_tup'][1]\n",
    "    hyp_inputs[i,3] = in_dicts_r3d[i]['eps_tup'][2]\n",
    "np.savetxt(fname,hyp_inputs)"
   ]
  },
  {
   "cell_type": "markdown",
   "id": "94445efa-18e7-4483-89cc-80cb38dfd168",
   "metadata": {},
   "source": [
    "## Plot"
   ]
  },
  {
   "cell_type": "code",
   "execution_count": 25,
   "id": "6f43a779-31d3-4ef8-a16f-987486eeea99",
   "metadata": {},
   "outputs": [
    {
     "data": {
      "image/png": "[encoded data removed]",
      "text/plain": [
       "<Figure size 300x200 with 1 Axes>"
      ]
     },
     "metadata": {},
     "output_type": "display_data"
    },
    {
     "data": {
      "image/png": "[encoded data removed]",
      "text/plain": [
       "<Figure size 300x400 with 2 Axes>"
      ]
     },
     "metadata": {},
     "output_type": "display_data"
    }
   ],
   "source": [
    "quick_plot_combined(a11_p0,\n",
    "                    kw_f={'data_list':data_p0_list},\n",
    "                    kw_r3d={'data_list':data_list_r3d},\n",
    "                    kw_r={'etup':etup11})"
   ]
  },
  {
   "cell_type": "markdown",
   "id": "c665c467-f7b1-48f2-9918-92ee705c049f",
   "metadata": {},
   "source": [
    "## Sims"
   ]
  },
  {
   "cell_type": "code",
   "execution_count": 26,
   "id": "fe1e02c9-155e-4fa6-b7e8-5f2de12806e1",
   "metadata": {},
   "outputs": [],
   "source": [
    "# coupling and init\n",
    "eps11_p0 = 0.08\n",
    "th_init11_p0 = 4"
   ]
  },
  {
   "cell_type": "code",
   "execution_count": 27,
   "id": "f40e0383-d6eb-4204-bd7a-8ca1868cdb50",
   "metadata": {},
   "outputs": [],
   "source": [
    "# init = get_initial_phase_diff_c(th_init11_p0,\n",
    "#                                 a11_p0,eps11_p0,\n",
    "#                                 0,_full_rhs=_full)\n",
    "\n",
    "# # 'a':a11_p0,'del1':del11_p0,'recompute':False,\n",
    "# # 'bifdir':'bif1d_gwt/','_full_rhs':_full"
   ]
  },
  {
   "cell_type": "code",
   "execution_count": 28,
   "id": "f2de6f50-5fde-4e71-82f5-10efae40535e",
   "metadata": {},
   "outputs": [],
   "source": [
    "# sim params\n",
    "dt = .01;T_p0=300\n",
    "t11_p0 = np.arange(0,T_p0,dt)\n",
    "args11_p0 = {'args':(a11_p0,eps11_p0,del11_p0),\n",
    "             't_eval':t11_p0,**kw_sim,'dense_output':True}"
   ]
  },
  {
   "cell_type": "code",
   "execution_count": 29,
   "id": "8b78baf4-576c-4582-93ff-cb39dc4f86e2",
   "metadata": {},
   "outputs": [],
   "source": [
    "# # view trajectory and compare to estimated period\n",
    "# solf11_p0 = solve_ivp(_full,[0,t11_p0[-1]], init[:-1],\n",
    "#                       **args11_p0)"
   ]
  },
  {
   "cell_type": "code",
   "execution_count": 30,
   "id": "63bce277-35b7-477e-85c8-35b5c7c8cff1",
   "metadata": {},
   "outputs": [],
   "source": [
    "# get_period(solf11_p0,idx=0,prominence=.25,idx_shift=0)"
   ]
  },
  {
   "cell_type": "code",
   "execution_count": 31,
   "id": "c4f13c5f-4263-4922-8e67-7e9eb4d535e9",
   "metadata": {},
   "outputs": [],
   "source": [
    "# # fig, axs = plt.subplots()\n",
    "# axs.plot(solf11_p0.t,solf11_p0.y.T[:,0]+.7)\n",
    "# axs.plot(solf11_p0.t,solf11_p0.y.T[:,4])\n",
    "# axs.scatter([0,5.8974],[0,0])\n",
    "# axs.set_xlim(0,50)"
   ]
  },
  {
   "cell_type": "code",
   "execution_count": 32,
   "id": "62af8020-65b3-4eaf-a6ee-41f4189e132d",
   "metadata": {
    "tags": []
   },
   "outputs": [],
   "source": [
    "# initialize and run full\n",
    "y0a = a11_p0.system1.lc['dat'][int((th_init11_p0/(2*np.pi)) * a11_p0.system1.TN),:]\n",
    "y0b = a11_p0.system2.lc['dat'][int((0/(2*np.pi)) * a11_p0.system2.TN),:]\n",
    "\n",
    "y0_p0 = np.array([y0a,y0b]).flatten()\n",
    "\n",
    "solf11_p0 = solve_ivp(_full,[0,t11_p0[-1]],\n",
    "                        y0_p0, **args11_p0)"
   ]
  },
  {
   "cell_type": "code",
   "execution_count": 33,
   "id": "c6ed95f9-58c1-44cd-af7f-e9919726d142",
   "metadata": {
    "tags": []
   },
   "outputs": [],
   "source": [
    "solr11_p0 = solve_ivp(_redu_c,[0,t11_p0[-1]],\n",
    "                     [th_init11_p0],**args11_p0)"
   ]
  },
  {
   "cell_type": "code",
   "execution_count": 34,
   "id": "e11e8857-b54a-4277-80f7-77a91f08f0c1",
   "metadata": {},
   "outputs": [],
   "source": [
    "# solr12b_p0 = solve_ivp(_redu_3dc,[0,t11_p0[-1]],\n",
    "#                     [th_init11_p0,0,0],**args11_p0)"
   ]
  },
  {
   "cell_type": "code",
   "execution_count": 35,
   "id": "b3191c23-857f-4a6e-9baf-e741e1d2c1c1",
   "metadata": {},
   "outputs": [],
   "source": [
    "tp12a_p0, phase12a_p0 = get_phase(t11_p0,solf11_p0.y.T[:,:4],\n",
    "                            skipn=50,system1=a11_p0.system1)\n",
    "tp12b_p0, phase12b_p0 = get_phase(t11_p0,solf11_p0.y.T[:,4:],\n",
    "                            skipn=50,system1=a11_p0.system2)"
   ]
  },
  {
   "cell_type": "code",
   "execution_count": 36,
   "id": "efb5ae81-fecd-44f5-ab73-a2dc3f1189e5",
   "metadata": {},
   "outputs": [
    {
     "data": {
      "text/plain": [
       "(-0.5, 6.783185307179586)"
      ]
     },
     "execution_count": 36,
     "metadata": {},
     "output_type": "execute_result"
    },
    {
     "data": {
      "image/png": "[encoded data removed]",
      "text/plain": [
       "<Figure size 640x480 with 1 Axes>"
      ]
     },
     "metadata": {},
     "output_type": "display_data"
    }
   ],
   "source": [
    "fig,axs = plt.subplots()\n",
    "y = np.mod(phase12a_p0 - a11_p0.om*phase12b_p0,2*np.pi)\n",
    "axs.scatter(tp12a_p0,y,s=1,alpha=.5,color='black')\n",
    "\n",
    "axs.plot(t11_p0,np.mod(solr11_p0.y.T,2*np.pi),\n",
    "         color='tab:red')\n",
    "\n",
    "axs.set_ylim(-.5,2*np.pi+.5)"
   ]
  },
  {
   "cell_type": "markdown",
   "id": "85a49a6b-45e1-4ce2-8ce9-71aa32bbf296",
   "metadata": {},
   "source": [
    "# del=0.02"
   ]
  },
  {
   "cell_type": "code",
   "execution_count": 37,
   "id": "2c95d4e9-78fe-4985-acad-0e585ca492aa",
   "metadata": {},
   "outputs": [
    {
     "name": "stdout",
     "output_type": "stream",
     "text": [
      "pfactor 30\n",
      "* Loading H gwt0, order=0...\n",
      "* Loading H gwt1, order=0...\n",
      "* Loading H gwt0, order=1...\n",
      "* Loading H gwt1, order=1...\n",
      "* Loading H gwt0, order=2...\n",
      "* Loading H gwt1, order=2...\n",
      "* Loading H gwt0, order=3...\n",
      "* Loading H gwt1, order=3...\n"
     ]
    }
   ],
   "source": [
    "del11_p02 = .02\n",
    "a11_p02 = nm.nmCoupling(**kw_nm, del1=del11_p02)"
   ]
  },
  {
   "cell_type": "markdown",
   "id": "e868cbf7-9ab2-46ec-9e36-90965abec33b",
   "metadata": {},
   "source": [
    "## Get Branches Full"
   ]
  },
  {
   "cell_type": "code",
   "execution_count": 38,
   "id": "63106b96-9def-4898-a5a4-098cac7dceb0",
   "metadata": {},
   "outputs": [],
   "source": [
    "kw_p02 = {'a':a11_p02,'del1':del11_p02,'recompute':False,\n",
    "            'bifdir':'bif1d_gwt/','_full_rhs':_full}"
   ]
  },
  {
   "cell_type": "code",
   "execution_count": 39,
   "id": "b8b528e8-2720-4e92-8e0c-e14b8e2dce50",
   "metadata": {},
   "outputs": [],
   "source": [
    "data_p02_list = []"
   ]
  },
  {
   "cell_type": "code",
   "execution_count": 40,
   "id": "a1e7e827-28db-413b-b24c-1b45bf4edb26",
   "metadata": {},
   "outputs": [],
   "source": [
    "in_dicts = [dict(init=3,eps_init=0.02,eps_final=0.0005,deps=-.005),\n",
    "            dict(init=3,eps_init=0.02,eps_final=0.15,deps=.01)]"
   ]
  },
  {
   "cell_type": "code",
   "execution_count": 41,
   "id": "f895b5b3-4abd-4d57-b9e0-5157abb20eb5",
   "metadata": {
    "scrolled": true
   },
   "outputs": [
    {
     "name": "stdout",
     "output_type": "stream",
     "text": [
      "fname1 td_branch_init=3_nm=11_del=0.02_ei=0.02_ef=0.0005_de=-0.005.txt\n",
      "fname2 ts_branch_init=3_nm=11_del=0.02_ei=0.02_ef=0.0005_de=-0.005.txt\n",
      "fname1 td_branch_init=3_nm=11_del=0.02_ei=0.02_ef=0.15_de=0.01.txt\n",
      "fname2 ts_branch_init=3_nm=11_del=0.02_ei=0.02_ef=0.15_de=0.01.txt\n"
     ]
    }
   ],
   "source": [
    "for i in range(len(in_dicts)):\n",
    "    in1 = in_dicts[i]\n",
    "    dat = follow_phase_diffs(**in1,**kw_p02)\n",
    "    data_p02_list.append(dat)\n",
    "fname = kw_p02['bifdir']+'hyper_gwt_11_p02.txt'"
   ]
  },
  {
   "cell_type": "code",
   "execution_count": 42,
   "id": "8141ed66-755d-46a1-8b1d-671dced6c9a6",
   "metadata": {},
   "outputs": [],
   "source": [
    "# save hyperparameters\n",
    "hyp_inputs = np.zeros([len(in_dicts),4])\n",
    "for i in range(len(in_dicts)):\n",
    "    hyp_inputs[i,0] = in_dicts[i]['init']\n",
    "    hyp_inputs[i,1] = in_dicts[i]['eps_init']\n",
    "    hyp_inputs[i,2] = in_dicts[i]['eps_final']\n",
    "    hyp_inputs[i,3] = in_dicts[i]['deps']\n",
    "np.savetxt(fname,hyp_inputs)"
   ]
  },
  {
   "cell_type": "markdown",
   "id": "85906f59-b064-46ec-82d0-6d5a0c2bad50",
   "metadata": {},
   "source": [
    "## Get Branches 3D"
   ]
  },
  {
   "cell_type": "code",
   "execution_count": 43,
   "id": "6cc976ad-a009-4a93-8bc9-e8e952499892",
   "metadata": {},
   "outputs": [],
   "source": [
    "kw_follow_r3d = {'a':a11_p02,'rhs':_redu_3dc,'recompute':False,\n",
    "                 'bifdir':'bif1d_gwt/'}"
   ]
  },
  {
   "cell_type": "code",
   "execution_count": 44,
   "id": "f3e2152d-ffbf-4445-ae3a-3966da74e3bf",
   "metadata": {},
   "outputs": [],
   "source": [
    "data_list_r3d = []"
   ]
  },
  {
   "cell_type": "code",
   "execution_count": 45,
   "id": "b1ea9b2d-8e73-46da-ae90-ab9b9dd28a3b",
   "metadata": {},
   "outputs": [],
   "source": [
    "in_dicts_r3d = [dict(init=1,eps_tup=(.01,.16,.01)),\n",
    "                dict(init=1,eps_tup=(.01,.005,-.0005))]"
   ]
  },
  {
   "cell_type": "code",
   "execution_count": 46,
   "id": "aa432dc2-8d61-45f8-a58f-851fd448cdc8",
   "metadata": {
    "scrolled": true
   },
   "outputs": [
    {
     "name": "stdout",
     "output_type": "stream",
     "text": [
      "eps_tup (0.01, 0.16, 0.01)\n",
      "eps_tup (0.01, 0.005, -0.0005)\n"
     ]
    }
   ],
   "source": [
    "for i in range(len(in_dicts_r3d)):\n",
    "    in1 = in_dicts_r3d[i]\n",
    "    dat = follow_locking_3d(**in1,**kw_follow_r3d)\n",
    "    data_list_r3d.append(dat)\n",
    "fname = kw_follow_r3d['bifdir']+'hyper_r3d_gwt_11_p02.txt'"
   ]
  },
  {
   "cell_type": "code",
   "execution_count": 47,
   "id": "06b1832a-8597-4e0e-93c3-027fb892fb3e",
   "metadata": {},
   "outputs": [],
   "source": [
    "# save hyperparameters\n",
    "hyp_inputs = np.zeros([len(in_dicts_r3d),4])\n",
    "for i in range(len(in_dicts_r3d)):\n",
    "    hyp_inputs[i,0] = in_dicts_r3d[i]['init']\n",
    "    hyp_inputs[i,1] = in_dicts_r3d[i]['eps_tup'][0]\n",
    "    hyp_inputs[i,2] = in_dicts_r3d[i]['eps_tup'][1]\n",
    "    hyp_inputs[i,3] = in_dicts_r3d[i]['eps_tup'][2]\n",
    "np.savetxt(fname,hyp_inputs)"
   ]
  },
  {
   "cell_type": "markdown",
   "id": "ffa7e5b5-a839-409b-b4d2-7f93c78921be",
   "metadata": {},
   "source": [
    "## Plot"
   ]
  },
  {
   "cell_type": "code",
   "execution_count": 48,
   "id": "0f56cae9-64ac-4f94-bd9f-010cafa353ec",
   "metadata": {},
   "outputs": [
    {
     "data": {
      "image/png": "[encoded data removed]",
      "text/plain": [
       "<Figure size 300x200 with 1 Axes>"
      ]
     },
     "metadata": {},
     "output_type": "display_data"
    },
    {
     "data": {
      "image/png": "[encoded data removed]",
      "text/plain": [
       "<Figure size 300x400 with 2 Axes>"
      ]
     },
     "metadata": {},
     "output_type": "display_data"
    }
   ],
   "source": [
    "quick_plot_combined(a11_p02,\n",
    "                    kw_f={'data_list':data_p02_list},\n",
    "                    kw_r3d={'data_list':data_list_r3d},\n",
    "                    kw_r={'etup':etup11})"
   ]
  },
  {
   "cell_type": "markdown",
   "id": "29c90217-13a4-4f20-a7b1-070276d5440f",
   "metadata": {},
   "source": [
    "## Sims"
   ]
  },
  {
   "cell_type": "code",
   "execution_count": 49,
   "id": "7f1cfdf6-b307-4602-afd5-1ea872d78c79",
   "metadata": {},
   "outputs": [],
   "source": [
    "# coupling and init\n",
    "eps11_p02 = 0.07\n",
    "th_init11_p02 = 2"
   ]
  },
  {
   "cell_type": "code",
   "execution_count": 50,
   "id": "1b8790df-bd19-4174-b6bd-3ae6b413ebc7",
   "metadata": {},
   "outputs": [],
   "source": [
    "# sim params\n",
    "dt = .01;T_p02=300\n",
    "t11_p02 = np.arange(0,T_p02,dt)\n",
    "args11_p02 = {'args':(a11_p02,eps11_p02,del11_p02),\n",
    "             't_eval':t11_p02,**kw_sim,'dense_output':True}"
   ]
  },
  {
   "cell_type": "code",
   "execution_count": 51,
   "id": "2f1b055d-250f-4d99-899b-82c38638f360",
   "metadata": {
    "tags": []
   },
   "outputs": [],
   "source": [
    "# initialize and run full\n",
    "y0a = a11_p02.system1.lc['dat'][int((th_init11_p02/(2*np.pi)) * a11_p02.system1.TN),:]\n",
    "y0b = a11_p02.system2.lc['dat'][int((0/(2*np.pi)) * a11_p02.system2.TN),:]\n",
    "\n",
    "y0_p02 = np.array([y0a,y0b]).flatten()\n",
    "\n",
    "solf11_p02 = solve_ivp(_full,[0,t11_p02[-1]],\n",
    "                        y0_p02, **args11_p02)"
   ]
  },
  {
   "cell_type": "code",
   "execution_count": 52,
   "id": "42524202-f4a7-47e2-b7d4-3ba4dc1fd372",
   "metadata": {
    "tags": []
   },
   "outputs": [],
   "source": [
    "solr11_p02 = solve_ivp(_redu_c,[0,t11_p02[-1]],\n",
    "                     [th_init11_p02],**args11_p02)"
   ]
  },
  {
   "cell_type": "code",
   "execution_count": 53,
   "id": "de87321c-8b32-4abc-8d8f-e18ace5f83e6",
   "metadata": {},
   "outputs": [],
   "source": [
    "# solr12b_p02 = solve_ivp(_redu_3dc,[0,t11_p02[-1]],\n",
    "#                     [th_init11_p02,0,0],**args11_p02)"
   ]
  },
  {
   "cell_type": "code",
   "execution_count": 54,
   "id": "bfe5118c-6226-4006-8b46-fe4ec57ebcba",
   "metadata": {},
   "outputs": [],
   "source": [
    "tp12a_p02, phase12a_p02 = get_phase(t11_p02,solf11_p02.y.T[:,:4],\n",
    "                            skipn=50,system1=a11_p02.system1)\n",
    "tp12b_p02, phase12b_p02 = get_phase(t11_p02,solf11_p02.y.T[:,4:],\n",
    "                            skipn=50,system1=a11_p02.system2)"
   ]
  },
  {
   "cell_type": "code",
   "execution_count": 55,
   "id": "5c114e07-272f-45c9-881a-3b7491231ef5",
   "metadata": {},
   "outputs": [
    {
     "data": {
      "text/plain": [
       "(-0.5, 6.783185307179586)"
      ]
     },
     "execution_count": 55,
     "metadata": {},
     "output_type": "execute_result"
    },
    {
     "data": {
      "image/png": "[encoded data removed]",
      "text/plain": [
       "<Figure size 640x480 with 1 Axes>"
      ]
     },
     "metadata": {},
     "output_type": "display_data"
    }
   ],
   "source": [
    "fig,axs = plt.subplots()\n",
    "y = np.mod(phase12a_p02 - a11_p02.om*phase12b_p02,2*np.pi)\n",
    "axs.scatter(tp12a_p02,y,s=1,alpha=.5,color='black')\n",
    "\n",
    "axs.plot(t11_p02,np.mod(solr11_p02.y.T,2*np.pi),\n",
    "         color='tab:red')\n",
    "\n",
    "axs.set_ylim(-.5,2*np.pi+.5)"
   ]
  },
  {
   "cell_type": "markdown",
   "id": "27d843d5-b42c-4833-a49d-d63d5c68591f",
   "metadata": {},
   "source": [
    "# del=0.03"
   ]
  },
  {
   "cell_type": "code",
   "execution_count": 56,
   "id": "752220ee-b71f-46ef-87c8-929d92159221",
   "metadata": {},
   "outputs": [
    {
     "name": "stdout",
     "output_type": "stream",
     "text": [
      "pfactor 30\n",
      "* Loading H gwt0, order=0...\n",
      "* Loading H gwt1, order=0...\n",
      "* Loading H gwt0, order=1...\n",
      "* Loading H gwt1, order=1...\n",
      "* Loading H gwt0, order=2...\n",
      "* Loading H gwt1, order=2...\n",
      "* Loading H gwt0, order=3...\n",
      "* Loading H gwt1, order=3...\n"
     ]
    }
   ],
   "source": [
    "del11_p03 = .03\n",
    "a11_p03 = nm.nmCoupling(**kw_nm, del1=del11_p03)"
   ]
  },
  {
   "cell_type": "markdown",
   "id": "b1103fb5-7764-432e-a195-fd14713ccdbb",
   "metadata": {},
   "source": [
    "## Get Branches Full"
   ]
  },
  {
   "cell_type": "code",
   "execution_count": 57,
   "id": "c4d2bd5a-8f27-47fa-a77c-a92544a78888",
   "metadata": {},
   "outputs": [],
   "source": [
    "kw_p03 = {'a':a11_p03,'del1':del11_p03,'recompute':False,\n",
    "            'bifdir':'bif1d_gwt/','_full_rhs':_full}"
   ]
  },
  {
   "cell_type": "code",
   "execution_count": 58,
   "id": "ee84e0fa-89cb-4396-b79a-22f935b6ee7a",
   "metadata": {},
   "outputs": [],
   "source": [
    "data_p03_list = []"
   ]
  },
  {
   "cell_type": "code",
   "execution_count": 59,
   "id": "a0910c3e-244d-4095-b2ba-78dd20009ea1",
   "metadata": {},
   "outputs": [],
   "source": [
    "in_dicts = [dict(init=3,eps_init=0.02, eps_final=0.0005,deps=-.005),\n",
    "            dict(init=3,eps_init=0.02,eps_final=0.15,deps=.01,)]"
   ]
  },
  {
   "cell_type": "code",
   "execution_count": 60,
   "id": "c0b09404-4607-4196-9087-33d77f973506",
   "metadata": {
    "scrolled": true
   },
   "outputs": [
    {
     "name": "stdout",
     "output_type": "stream",
     "text": [
      "fname1 td_branch_init=3_nm=11_del=0.03_ei=0.02_ef=0.0005_de=-0.005.txt\n",
      "fname2 ts_branch_init=3_nm=11_del=0.03_ei=0.02_ef=0.0005_de=-0.005.txt\n",
      "fname1 td_branch_init=3_nm=11_del=0.03_ei=0.02_ef=0.15_de=0.01.txt\n",
      "fname2 ts_branch_init=3_nm=11_del=0.03_ei=0.02_ef=0.15_de=0.01.txt\n"
     ]
    }
   ],
   "source": [
    "for i in range(len(in_dicts)):\n",
    "    in1 = in_dicts[i]\n",
    "    dat = follow_phase_diffs(**in1,**kw_p03)\n",
    "    data_p03_list.append(dat)\n",
    "fname = kw_p03['bifdir']+'hyper_gwt_11_p03.txt'"
   ]
  },
  {
   "cell_type": "code",
   "execution_count": 61,
   "id": "8bb45e6b-29d0-4232-b497-a1543bc164c8",
   "metadata": {},
   "outputs": [],
   "source": [
    "# save hyperparameters\n",
    "hyp_inputs = np.zeros([len(in_dicts),4])\n",
    "for i in range(len(in_dicts)):\n",
    "    hyp_inputs[i,0] = in_dicts[i]['init']\n",
    "    hyp_inputs[i,1] = in_dicts[i]['eps_init']\n",
    "    hyp_inputs[i,2] = in_dicts[i]['eps_final']\n",
    "    hyp_inputs[i,3] = in_dicts[i]['deps']\n",
    "np.savetxt(fname,hyp_inputs)"
   ]
  },
  {
   "cell_type": "markdown",
   "id": "0172b137-8126-42cd-bf60-799cbd6a55c2",
   "metadata": {},
   "source": [
    "## Get Branches 3D"
   ]
  },
  {
   "cell_type": "code",
   "execution_count": 62,
   "id": "40604287-2da1-4653-87e3-614e7dd138c6",
   "metadata": {},
   "outputs": [],
   "source": [
    "kw_follow_r3d = {'a':a11_p03,'rhs':_redu_3dc,'recompute':False,\n",
    "                 'bifdir':'bif1d_gwt/'}"
   ]
  },
  {
   "cell_type": "code",
   "execution_count": 63,
   "id": "553ab4db-e1b6-4685-8e84-e1f596a42214",
   "metadata": {},
   "outputs": [],
   "source": [
    "data_list_r3d = []"
   ]
  },
  {
   "cell_type": "code",
   "execution_count": 64,
   "id": "004f6bb9-236e-4033-9d8d-f66a88f37cfd",
   "metadata": {},
   "outputs": [],
   "source": [
    "in_dicts_r3d = [dict(init=1,eps_tup=(.01,.16,.01)),\n",
    "                dict(init=1,eps_tup=(.01,.005,-.0005))]"
   ]
  },
  {
   "cell_type": "code",
   "execution_count": 65,
   "id": "fba6186b-e5ae-454d-9169-1791302f1f5e",
   "metadata": {
    "scrolled": true
   },
   "outputs": [
    {
     "name": "stdout",
     "output_type": "stream",
     "text": [
      "eps_tup (0.01, 0.16, 0.01)\n",
      "eps_tup (0.01, 0.005, -0.0005)\n"
     ]
    }
   ],
   "source": [
    "for i in range(len(in_dicts_r3d)):\n",
    "    in1 = in_dicts_r3d[i]\n",
    "    dat = follow_locking_3d(**in1,**kw_follow_r3d)\n",
    "    data_list_r3d.append(dat)\n",
    "fname = kw_follow_r3d['bifdir']+'hyper_r3d_gwt_11_p03.txt'"
   ]
  },
  {
   "cell_type": "code",
   "execution_count": 66,
   "id": "727019e2-9af7-45bb-97f4-164d80db2d61",
   "metadata": {},
   "outputs": [],
   "source": [
    "# save hyperparameters\n",
    "hyp_inputs = np.zeros([len(in_dicts_r3d),4])\n",
    "for i in range(len(in_dicts_r3d)):\n",
    "    hyp_inputs[i,0] = in_dicts_r3d[i]['init']\n",
    "    hyp_inputs[i,1] = in_dicts_r3d[i]['eps_tup'][0]\n",
    "    hyp_inputs[i,2] = in_dicts_r3d[i]['eps_tup'][1]\n",
    "    hyp_inputs[i,3] = in_dicts_r3d[i]['eps_tup'][2]\n",
    "np.savetxt(fname,hyp_inputs)"
   ]
  },
  {
   "cell_type": "markdown",
   "id": "cf47b93f-22b2-48ca-b807-753fb5d21668",
   "metadata": {},
   "source": [
    "## Plot"
   ]
  },
  {
   "cell_type": "code",
   "execution_count": 67,
   "id": "12a8fe4d-0eb0-4343-a693-e078da56c571",
   "metadata": {},
   "outputs": [
    {
     "data": {
      "image/png": "[encoded data removed]",
      "text/plain": [
       "<Figure size 300x200 with 1 Axes>"
      ]
     },
     "metadata": {},
     "output_type": "display_data"
    },
    {
     "data": {
      "image/png": "[encoded data removed]",
      "text/plain": [
       "<Figure size 300x400 with 2 Axes>"
      ]
     },
     "metadata": {},
     "output_type": "display_data"
    }
   ],
   "source": [
    "quick_plot_combined(a11_p03,\n",
    "                    kw_f={'data_list':data_p03_list},\n",
    "                    kw_r3d={'data_list':data_list_r3d},\n",
    "                    kw_r={'etup':etup11})"
   ]
  },
  {
   "cell_type": "markdown",
   "id": "e8b0a6dd-9227-4e26-b71c-afae5c81dc9d",
   "metadata": {},
   "source": [
    "## Sims"
   ]
  },
  {
   "cell_type": "code",
   "execution_count": null,
   "id": "e61dad91-725a-47ee-b155-99c181e78870",
   "metadata": {},
   "outputs": [],
   "source": [
    "# coupling and init\n",
    "eps11_p03 = 0.1\n",
    "th_init11_p03 = 2.229"
   ]
  },
  {
   "cell_type": "code",
   "execution_count": null,
   "id": "9b796c3b-2610-4ce7-b935-3dd125fc1db7",
   "metadata": {},
   "outputs": [],
   "source": [
    "# sim params\n",
    "dt = .01;T_p03=300\n",
    "t11_p03 = np.arange(0,T_p03,dt)\n",
    "args11_p03 = {'args':(a11_p03,eps11_p03,del11_p03),\n",
    "             't_eval':t11_p03,**kw_sim,'dense_output':True}"
   ]
  },
  {
   "cell_type": "code",
   "execution_count": null,
   "id": "84fac6f9-6373-4ed9-9597-b941bddf0ced",
   "metadata": {
    "tags": []
   },
   "outputs": [],
   "source": [
    "# initialize and run full\n",
    "y0a = a11_p03.system1.lc['dat'][int((th_init11_p03/(2*np.pi)) * a11_p03.system1.TN),:]\n",
    "y0b = a11_p03.system2.lc['dat'][int((0/(2*np.pi)) * a11_p03.system2.TN),:]\n",
    "\n",
    "y0_p03 = np.array([y0a,y0b]).flatten()\n",
    "\n",
    "solf11_p03 = solve_ivp(_full,[0,t11_p03[-1]],y0_p03, **args11_p03)"
   ]
  },
  {
   "cell_type": "code",
   "execution_count": null,
   "id": "b81c1d51-4dd5-4936-88c2-a63f27205468",
   "metadata": {
    "tags": []
   },
   "outputs": [],
   "source": [
    "solr11_p03 = solve_ivp(_redu_c,[0,t11_p03[-1]],[th_init11_p03],**args11_p03)"
   ]
  },
  {
   "cell_type": "code",
   "execution_count": null,
   "id": "7a7041e4-1dd8-43de-bcbd-5de2ae842103",
   "metadata": {},
   "outputs": [],
   "source": [
    "# solr12b_p03 = solve_ivp(_redu_3dc,[0,t11_p03[-1]],\n",
    "#                     [th_init11_p03,0,0],**args11_p03)"
   ]
  },
  {
   "cell_type": "code",
   "execution_count": null,
   "id": "19680367-aae6-4d41-81e0-d04ee3d4bef5",
   "metadata": {},
   "outputs": [],
   "source": [
    "tp12a_p03, phase12a_p03 = get_phase(t11_p03,solf11_p03.y.T[:,:4],\n",
    "                            skipn=50,system1=a11_p03.system1)\n",
    "tp12b_p03, phase12b_p03 = get_phase(t11_p03,solf11_p03.y.T[:,4:],\n",
    "                            skipn=50,system1=a11_p03.system2)"
   ]
  },
  {
   "cell_type": "code",
   "execution_count": null,
   "id": "36f893b4-4250-4fce-a326-0eb81249cecf",
   "metadata": {},
   "outputs": [],
   "source": [
    "fig,axs = plt.subplots()\n",
    "y = np.mod(phase12a_p03 - a11_p03.om*phase12b_p03,2*np.pi)\n",
    "axs.scatter(tp12a_p03,y,s=1,alpha=.5,color='black')\n",
    "\n",
    "axs.plot(t11_p03,np.mod(solr11_p03.y.T,2*np.pi),\n",
    "         color='tab:red')\n",
    "\n",
    "axs.set_ylim(-.5,2*np.pi+.5)"
   ]
  },
  {
   "cell_type": "markdown",
   "id": "567006e6-eb8a-40d0-94b6-6a49762ff7ec",
   "metadata": {},
   "source": [
    "# del=0.04"
   ]
  },
  {
   "cell_type": "code",
   "execution_count": 75,
   "id": "f9f1cbcc-78c1-4596-8265-65d7da87c580",
   "metadata": {},
   "outputs": [
    {
     "name": "stdout",
     "output_type": "stream",
     "text": [
      "pfactor 30\n",
      "* Loading H gwt0, order=0...\n",
      "* Loading H gwt1, order=0...\n",
      "* Loading H gwt0, order=1...\n",
      "* Loading H gwt1, order=1...\n",
      "* Loading H gwt0, order=2...\n",
      "* Loading H gwt1, order=2...\n",
      "* Loading H gwt0, order=3...\n",
      "* Loading H gwt1, order=3...\n"
     ]
    }
   ],
   "source": [
    "del11_p04 = .04\n",
    "a11_p04 = nm.nmCoupling(**kw_nm, del1=del11_p04)"
   ]
  },
  {
   "cell_type": "markdown",
   "id": "35f7b7ba-ce3e-481a-9bf3-3b3d1e840629",
   "metadata": {},
   "source": [
    "## Get Branches Full"
   ]
  },
  {
   "cell_type": "code",
   "execution_count": 76,
   "id": "c8703b18-6408-444e-9bc8-9c5748b2a1a8",
   "metadata": {},
   "outputs": [],
   "source": [
    "kw_p04 = {'a':a11_p04,'del1':del11_p04,'recompute':False,\n",
    "            'bifdir':'bif1d_gwt/','_full_rhs':_full}"
   ]
  },
  {
   "cell_type": "code",
   "execution_count": 77,
   "id": "9691c512-4b43-4b92-8c69-7afad9fe7caf",
   "metadata": {},
   "outputs": [],
   "source": [
    "data_p04_list = []"
   ]
  },
  {
   "cell_type": "code",
   "execution_count": 78,
   "id": "c0fed585-b996-4d11-837b-7ac9ba9df404",
   "metadata": {},
   "outputs": [],
   "source": [
    "in_dicts = [dict(init=3,eps_init=0.02, eps_final=0.0005,deps=-.005),\n",
    "            dict(init=3,eps_init=0.02,eps_final=0.15,deps=.01)]"
   ]
  },
  {
   "cell_type": "code",
   "execution_count": 79,
   "id": "e366795d-ed22-4242-8578-742e44024b10",
   "metadata": {
    "scrolled": true
   },
   "outputs": [
    {
     "name": "stdout",
     "output_type": "stream",
     "text": [
      "fname1 td_branch_init=3_nm=11_del=0.04_ei=0.02_ef=0.0005_de=-0.005.txt\n",
      "fname2 ts_branch_init=3_nm=11_del=0.04_ei=0.02_ef=0.0005_de=-0.005.txt\n",
      "fname1 td_branch_init=3_nm=11_del=0.04_ei=0.02_ef=0.15_de=0.01.txt\n",
      "fname2 ts_branch_init=3_nm=11_del=0.04_ei=0.02_ef=0.15_de=0.01.txt\n"
     ]
    }
   ],
   "source": [
    "for i in range(len(in_dicts)):\n",
    "    in1 = in_dicts[i]\n",
    "    dat = follow_phase_diffs(**in1,**kw_p04)\n",
    "    data_p04_list.append(dat)\n",
    "fname = kw_p04['bifdir']+'hyper_gwt_11_p04.txt'"
   ]
  },
  {
   "cell_type": "code",
   "execution_count": 80,
   "id": "8a4d4c78-f048-411d-9ab0-1f02ebed456c",
   "metadata": {},
   "outputs": [],
   "source": [
    "# save hyperparameters\n",
    "hyp_inputs = np.zeros([len(in_dicts),4])\n",
    "for i in range(len(in_dicts)):\n",
    "    hyp_inputs[i,0] = in_dicts[i]['init']\n",
    "    hyp_inputs[i,1] = in_dicts[i]['eps_init']\n",
    "    hyp_inputs[i,2] = in_dicts[i]['eps_final']\n",
    "    hyp_inputs[i,3] = in_dicts[i]['deps']\n",
    "np.savetxt(fname,hyp_inputs)"
   ]
  },
  {
   "cell_type": "markdown",
   "id": "473e1319-d14a-4308-82df-f307f4ab8f29",
   "metadata": {},
   "source": [
    "## Get Branches 3D"
   ]
  },
  {
   "cell_type": "code",
   "execution_count": 81,
   "id": "324696dc-162c-4056-90cf-8ae0935199f8",
   "metadata": {},
   "outputs": [],
   "source": [
    "kw_follow_r3d = {'a':a11_p04,'rhs':_redu_3dc,'recompute':False,\n",
    "                 'bifdir':'bif1d_gwt/'}"
   ]
  },
  {
   "cell_type": "code",
   "execution_count": 82,
   "id": "8c9fa2e7-1fcf-4df4-88d0-6064b961a462",
   "metadata": {},
   "outputs": [],
   "source": [
    "data_list_r3d = []"
   ]
  },
  {
   "cell_type": "code",
   "execution_count": 83,
   "id": "86cc4236-1a49-458e-bdf3-3585c98f0ee3",
   "metadata": {},
   "outputs": [],
   "source": [
    "in_dicts_r3d = [dict(init=1,eps_tup=(.01,.16,.01)),\n",
    "                dict(init=1,eps_tup=(.01,.005,-.0005))]"
   ]
  },
  {
   "cell_type": "code",
   "execution_count": 84,
   "id": "d574711e-0faf-40b6-abc8-a82cbad21ace",
   "metadata": {
    "scrolled": true
   },
   "outputs": [
    {
     "name": "stdout",
     "output_type": "stream",
     "text": [
      "eps_tup (0.01, 0.16, 0.01)\n",
      "eps_tup (0.01, 0.005, -0.0005)\n"
     ]
    }
   ],
   "source": [
    "for i in range(len(in_dicts_r3d)):\n",
    "    in1 = in_dicts_r3d[i]\n",
    "    dat = follow_locking_3d(**in1,**kw_follow_r3d)\n",
    "    data_list_r3d.append(dat)\n",
    "fname = kw_follow_r3d['bifdir']+'hyper_r3d_gwt_11_p04.txt'"
   ]
  },
  {
   "cell_type": "code",
   "execution_count": 85,
   "id": "1485ae53-2c67-48cd-9683-c79fe4b181cb",
   "metadata": {},
   "outputs": [],
   "source": [
    "# save hyperparameters\n",
    "hyp_inputs = np.zeros([len(in_dicts_r3d),4])\n",
    "for i in range(len(in_dicts_r3d)):\n",
    "    hyp_inputs[i,0] = in_dicts_r3d[i]['init']\n",
    "    hyp_inputs[i,1] = in_dicts_r3d[i]['eps_tup'][0]\n",
    "    hyp_inputs[i,2] = in_dicts_r3d[i]['eps_tup'][1]\n",
    "    hyp_inputs[i,3] = in_dicts_r3d[i]['eps_tup'][2]\n",
    "np.savetxt(fname,hyp_inputs)"
   ]
  },
  {
   "cell_type": "markdown",
   "id": "b49e72d0-0994-4135-bd9f-550c6b89d711",
   "metadata": {},
   "source": [
    "## Plot"
   ]
  },
  {
   "cell_type": "code",
   "execution_count": 86,
   "id": "857da434-e540-4c4a-8e42-6942b5acc3e9",
   "metadata": {},
   "outputs": [
    {
     "data": {
      "image/png": "[encoded data removed]",
      "text/plain": [
       "<Figure size 300x200 with 1 Axes>"
      ]
     },
     "metadata": {},
     "output_type": "display_data"
    },
    {
     "data": {
      "image/png": "[encoded data removed]",
      "text/plain": [
       "<Figure size 300x400 with 2 Axes>"
      ]
     },
     "metadata": {},
     "output_type": "display_data"
    }
   ],
   "source": [
    "quick_plot_combined(a11_p04,\n",
    "                    kw_f={'data_list':data_p04_list},\n",
    "                    kw_r3d={'data_list':data_list_r3d},\n",
    "                    kw_r={'etup':etup11})"
   ]
  },
  {
   "cell_type": "markdown",
   "id": "79b8259e-86e0-427d-8b8a-3141d7fab86f",
   "metadata": {},
   "source": [
    "## Sims"
   ]
  },
  {
   "cell_type": "code",
   "execution_count": 87,
   "id": "998c2c08-9516-4ff3-abcb-ed2f43dcd2c9",
   "metadata": {},
   "outputs": [],
   "source": [
    "# coupling and init\n",
    "eps11_p04 = 0.075\n",
    "th_init11_p04 = 2"
   ]
  },
  {
   "cell_type": "code",
   "execution_count": 88,
   "id": "065bf001-e3fb-439f-aa62-e22926eba9d8",
   "metadata": {},
   "outputs": [],
   "source": [
    "# sim params\n",
    "dt = .01;T_p04=300\n",
    "t11_p04 = np.arange(0,T_p04,dt)\n",
    "args11_p04 = {'args':(a11_p04,eps11_p04,del11_p04),\n",
    "             't_eval':t11_p04,**kw_sim,'dense_output':True}"
   ]
  },
  {
   "cell_type": "code",
   "execution_count": 89,
   "id": "6f58e4bf-bd64-44cc-95e8-95b8378ef478",
   "metadata": {
    "tags": []
   },
   "outputs": [],
   "source": [
    "# initialize and run full\n",
    "y0a = a11_p04.system1.lc['dat'][int((th_init11_p04/(2*np.pi)) * a11_p04.system1.TN),:]\n",
    "y0b = a11_p04.system2.lc['dat'][int((0/(2*np.pi)) * a11_p04.system2.TN),:]\n",
    "\n",
    "y0_p04 = np.array([y0a,y0b]).flatten()\n",
    "\n",
    "solf11_p04 = solve_ivp(_full,[0,t11_p04[-1]],\n",
    "                        y0_p04, **args11_p04)"
   ]
  },
  {
   "cell_type": "code",
   "execution_count": 90,
   "id": "19774638-2d2c-47db-882f-04cecbc57dbb",
   "metadata": {
    "tags": []
   },
   "outputs": [],
   "source": [
    "solr11_p04 = solve_ivp(_redu_c,[0,t11_p04[-1]],\n",
    "                     [th_init11_p04],**args11_p04)"
   ]
  },
  {
   "cell_type": "code",
   "execution_count": 91,
   "id": "bcd6fc73-f283-4ed1-9569-161d657be4ce",
   "metadata": {},
   "outputs": [],
   "source": [
    "# solr12b_p04 = solve_ivp(_redu_3dc,[0,t11_p04[-1]],\n",
    "#                     [th_init11_p04,0,0],**args11_p04)"
   ]
  },
  {
   "cell_type": "code",
   "execution_count": 92,
   "id": "28bd4c4a-8925-4f3b-a1ad-94a352f48f9a",
   "metadata": {},
   "outputs": [],
   "source": [
    "tp12a_p04, phase12a_p04 = get_phase(t11_p04,solf11_p04.y.T[:,:4],\n",
    "                            skipn=50,system1=a11_p04.system1)\n",
    "tp12b_p04, phase12b_p04 = get_phase(t11_p04,solf11_p04.y.T[:,4:],\n",
    "                            skipn=50,system1=a11_p04.system2)"
   ]
  },
  {
   "cell_type": "code",
   "execution_count": 93,
   "id": "f5d1da63-d7a3-4b8d-8dbc-f7202f069c4b",
   "metadata": {},
   "outputs": [
    {
     "data": {
      "text/plain": [
       "(-0.5, 6.783185307179586)"
      ]
     },
     "execution_count": 93,
     "metadata": {},
     "output_type": "execute_result"
    },
    {
     "data": {
      "image/png": "[encoded data removed]",
      "text/plain": [
       "<Figure size 640x480 with 1 Axes>"
      ]
     },
     "metadata": {},
     "output_type": "display_data"
    }
   ],
   "source": [
    "fig,axs = plt.subplots()\n",
    "y = np.mod(phase12a_p04 - a11_p04.om*phase12b_p04,2*np.pi)\n",
    "axs.scatter(tp12a_p04,y,s=1,alpha=.5,color='black')\n",
    "\n",
    "axs.plot(t11_p04,np.mod(solr11_p04.y.T,2*np.pi),\n",
    "         color='tab:red')\n",
    "\n",
    "axs.set_ylim(-.5,2*np.pi+.5)"
   ]
  },
  {
   "cell_type": "markdown",
   "id": "729a27b3-ee2b-4864-822e-20a2865ce6ec",
   "metadata": {},
   "source": [
    "# del=0.06"
   ]
  },
  {
   "cell_type": "code",
   "execution_count": 94,
   "id": "6b206751-e326-461c-bd78-0c208e29cd45",
   "metadata": {},
   "outputs": [
    {
     "name": "stdout",
     "output_type": "stream",
     "text": [
      "pfactor 30\n",
      "* Loading H gwt0, order=0...\n",
      "* Loading H gwt1, order=0...\n",
      "* Loading H gwt0, order=1...\n",
      "* Loading H gwt1, order=1...\n",
      "* Loading H gwt0, order=2...\n",
      "* Loading H gwt1, order=2...\n",
      "* Loading H gwt0, order=3...\n",
      "* Loading H gwt1, order=3...\n"
     ]
    }
   ],
   "source": [
    "del11_p06 = .06\n",
    "a11_p06 = nm.nmCoupling(**kw_nm, del1=del11_p06)"
   ]
  },
  {
   "cell_type": "markdown",
   "id": "de4fbe67-5af5-471e-b77b-f9ae4bd01047",
   "metadata": {},
   "source": [
    "## Get Branches Full"
   ]
  },
  {
   "cell_type": "code",
   "execution_count": 95,
   "id": "901d2d5b-d92d-4381-b20c-12623bf771ff",
   "metadata": {},
   "outputs": [],
   "source": [
    "kw_p06 = {'a':a11_p06,'del1':del11_p06,'recompute':False,\n",
    "            'bifdir':'bif1d_gwt/','_full_rhs':_full}"
   ]
  },
  {
   "cell_type": "code",
   "execution_count": 96,
   "id": "21cae9df-c79c-4402-9d72-d55197dc1196",
   "metadata": {},
   "outputs": [],
   "source": [
    "data_p06_list = []"
   ]
  },
  {
   "cell_type": "code",
   "execution_count": 97,
   "id": "2962eb13-b785-4e14-9b32-5189000494e0",
   "metadata": {},
   "outputs": [],
   "source": [
    "in_dicts = [dict(init=3,eps_init=0.02,eps_final=0.0005,deps=-.005),\n",
    "            dict(init=3,eps_init=0.02,eps_final=0.15,deps=.01)]"
   ]
  },
  {
   "cell_type": "code",
   "execution_count": 98,
   "id": "d84e12b6-3b00-4615-b866-19f9a784d5d3",
   "metadata": {
    "scrolled": true
   },
   "outputs": [
    {
     "name": "stdout",
     "output_type": "stream",
     "text": [
      "fname1 td_branch_init=3_nm=11_del=0.06_ei=0.02_ef=0.0005_de=-0.005.txt\n",
      "fname2 ts_branch_init=3_nm=11_del=0.06_ei=0.02_ef=0.0005_de=-0.005.txt\n",
      "fname1 td_branch_init=3_nm=11_del=0.06_ei=0.02_ef=0.15_de=0.01.txt\n",
      "fname2 ts_branch_init=3_nm=11_del=0.06_ei=0.02_ef=0.15_de=0.01.txt\n"
     ]
    }
   ],
   "source": [
    "for i in range(len(in_dicts)):\n",
    "    in1 = in_dicts[i]\n",
    "    dat = follow_phase_diffs(**in1,**kw_p06)\n",
    "    data_p06_list.append(dat)\n",
    "fname = kw_p06['bifdir']+'hyper_gwt_11_p06.txt'"
   ]
  },
  {
   "cell_type": "code",
   "execution_count": 99,
   "id": "c31689f2-0d53-4b51-8a6a-5b8525574c72",
   "metadata": {},
   "outputs": [],
   "source": [
    "# save hyperparameters\n",
    "hyp_inputs = np.zeros([len(in_dicts),4])\n",
    "for i in range(len(in_dicts)):\n",
    "    hyp_inputs[i,0] = in_dicts[i]['init']\n",
    "    hyp_inputs[i,1] = in_dicts[i]['eps_init']\n",
    "    hyp_inputs[i,2] = in_dicts[i]['eps_final']\n",
    "    hyp_inputs[i,3] = in_dicts[i]['deps']\n",
    "np.savetxt(fname,hyp_inputs)"
   ]
  },
  {
   "cell_type": "markdown",
   "id": "b571fb26-5ded-44cd-8c2f-74f77ea0c3d5",
   "metadata": {},
   "source": [
    "## Get Branches 3D"
   ]
  },
  {
   "cell_type": "code",
   "execution_count": 100,
   "id": "46f62986-2103-41da-b577-88f547df9a13",
   "metadata": {},
   "outputs": [],
   "source": [
    "kw_follow_r3d = {'a':a11_p06,'rhs':_redu_3dc,'recompute':False,\n",
    "                 'bifdir':'bif1d_gwt/'}"
   ]
  },
  {
   "cell_type": "code",
   "execution_count": 101,
   "id": "b377e254-9e64-4a9a-a0be-e5b8dd08f307",
   "metadata": {},
   "outputs": [],
   "source": [
    "data_list_r3d = []"
   ]
  },
  {
   "cell_type": "code",
   "execution_count": 102,
   "id": "893a454f-372c-412a-8ae4-03e9ac750a11",
   "metadata": {},
   "outputs": [],
   "source": [
    "in_dicts_r3d = [dict(init=1,eps_tup=(.01,.16,.01)),\n",
    "                dict(init=1,eps_tup=(.01,.005,-.0005))]"
   ]
  },
  {
   "cell_type": "code",
   "execution_count": 103,
   "id": "d3c565e0-9af4-46d7-aed8-52879164e9d8",
   "metadata": {
    "scrolled": true
   },
   "outputs": [
    {
     "name": "stdout",
     "output_type": "stream",
     "text": [
      "eps_tup (0.01, 0.16, 0.01)\n",
      "eps_tup (0.01, 0.005, -0.0005)\n"
     ]
    }
   ],
   "source": [
    "for i in range(len(in_dicts_r3d)):\n",
    "    in1 = in_dicts_r3d[i]\n",
    "    dat = follow_locking_3d(**in1,**kw_follow_r3d)\n",
    "    data_list_r3d.append(dat)\n",
    "fname = kw_follow_r3d['bifdir']+'hyper_r3d_gwt_11_p06.txt'"
   ]
  },
  {
   "cell_type": "code",
   "execution_count": 104,
   "id": "e0f3613f-02dd-4da8-b08e-594645115cd9",
   "metadata": {},
   "outputs": [],
   "source": [
    "# save hyperparameters\n",
    "hyp_inputs = np.zeros([len(in_dicts_r3d),4])\n",
    "for i in range(len(in_dicts_r3d)):\n",
    "    hyp_inputs[i,0] = in_dicts_r3d[i]['init']\n",
    "    hyp_inputs[i,1] = in_dicts_r3d[i]['eps_tup'][0]\n",
    "    hyp_inputs[i,2] = in_dicts_r3d[i]['eps_tup'][1]\n",
    "    hyp_inputs[i,3] = in_dicts_r3d[i]['eps_tup'][2]\n",
    "np.savetxt(fname,hyp_inputs)"
   ]
  },
  {
   "cell_type": "markdown",
   "id": "e0b5b5b9-1781-46ed-a409-76c83a7ac82b",
   "metadata": {},
   "source": [
    "## Plot"
   ]
  },
  {
   "cell_type": "code",
   "execution_count": 105,
   "id": "edbb1e43-b19e-467d-91b4-1c27dbe1f1bc",
   "metadata": {},
   "outputs": [
    {
     "data": {
      "image/png": "[encoded data removed]",
      "text/plain": [
       "<Figure size 300x200 with 1 Axes>"
      ]
     },
     "metadata": {},
     "output_type": "display_data"
    },
    {
     "data": {
      "image/png": "[encoded data removed]",
      "text/plain": [
       "<Figure size 300x400 with 2 Axes>"
      ]
     },
     "metadata": {},
     "output_type": "display_data"
    }
   ],
   "source": [
    "quick_plot_combined(a11_p06,\n",
    "                    kw_f={'data_list':data_p06_list},\n",
    "                    kw_r3d={'data_list':data_list_r3d},\n",
    "                    kw_r={'etup':etup11})"
   ]
  },
  {
   "cell_type": "markdown",
   "id": "b4e6e79f-c9ad-4459-b784-2a7c6b0fb272",
   "metadata": {},
   "source": [
    "## Sims"
   ]
  },
  {
   "cell_type": "code",
   "execution_count": 106,
   "id": "967ff780-2110-455e-8bb2-ba8c37af1ea9",
   "metadata": {},
   "outputs": [],
   "source": [
    "# coupling and init\n",
    "eps11_p06 = 0.1\n",
    "th_init11_p06 = 2.229"
   ]
  },
  {
   "cell_type": "code",
   "execution_count": 107,
   "id": "4c8cf92c-bb1e-4dc9-ac2b-6e62c8ded19c",
   "metadata": {},
   "outputs": [],
   "source": [
    "# sim params\n",
    "dt = .01;T_p06=300\n",
    "t11_p06 = np.arange(0,T_p06,dt)\n",
    "args11_p06 = {'args':(a11_p06,eps11_p06,del11_p06),\n",
    "             't_eval':t11_p06,**kw_sim,'dense_output':True}"
   ]
  },
  {
   "cell_type": "code",
   "execution_count": 108,
   "id": "1724d04f-309d-47f2-a641-a2c57e6ef76c",
   "metadata": {
    "tags": []
   },
   "outputs": [],
   "source": [
    "# initialize and run full\n",
    "y0a = a11_p06.system1.lc['dat'][int((th_init11_p06/(2*np.pi)) * a11_p06.system1.TN),:]\n",
    "y0b = a11_p06.system2.lc['dat'][int((0/(2*np.pi)) * a11_p06.system2.TN),:]\n",
    "\n",
    "y0_p06 = np.array([y0a,y0b]).flatten()\n",
    "\n",
    "solf11_p06 = solve_ivp(_full,[0,t11_p06[-1]],y0_p06, **args11_p06)"
   ]
  },
  {
   "cell_type": "code",
   "execution_count": 109,
   "id": "11ed0f0a-b7ca-4af1-9878-9e26d1e60502",
   "metadata": {
    "tags": []
   },
   "outputs": [],
   "source": [
    "solr11_p06 = solve_ivp(_redu_c,[0,t11_p06[-1]],[th_init11_p06],**args11_p06)"
   ]
  },
  {
   "cell_type": "code",
   "execution_count": 110,
   "id": "bd52d1a2-1279-44e2-8039-6cbc5e74fd27",
   "metadata": {},
   "outputs": [],
   "source": [
    "# solr12b_p06 = solve_ivp(_redu_3dc,[0,t11_p06[-1]],\n",
    "#                     [th_init11_p06,0,0],**args11_p06)"
   ]
  },
  {
   "cell_type": "code",
   "execution_count": 111,
   "id": "354d72ff-bd36-4f46-b1c3-01de67434fad",
   "metadata": {},
   "outputs": [],
   "source": [
    "tp12a_p06, phase12a_p06 = get_phase(t11_p06,solf11_p06.y.T[:,:4],\n",
    "                            skipn=50,system1=a11_p06.system1)\n",
    "tp12b_p06, phase12b_p06 = get_phase(t11_p06,solf11_p06.y.T[:,4:],\n",
    "                            skipn=50,system1=a11_p06.system2)"
   ]
  },
  {
   "cell_type": "code",
   "execution_count": 112,
   "id": "6c766897-8cb5-4e51-9f37-8cdab001c28e",
   "metadata": {},
   "outputs": [
    {
     "data": {
      "text/plain": [
       "(-0.5, 6.783185307179586)"
      ]
     },
     "execution_count": 112,
     "metadata": {},
     "output_type": "execute_result"
    },
    {
     "data": {
      "image/png": "[encoded data removed]",
      "text/plain": [
       "<Figure size 640x480 with 1 Axes>"
      ]
     },
     "metadata": {},
     "output_type": "display_data"
    }
   ],
   "source": [
    "fig,axs = plt.subplots()\n",
    "y = np.mod(phase12a_p06 - a11_p06.om*phase12b_p06,2*np.pi)\n",
    "axs.scatter(tp12a_p06,y,s=1,alpha=.5,color='black')\n",
    "\n",
    "axs.plot(t11_p06,np.mod(solr11_p06.y.T,2*np.pi),\n",
    "         color='tab:red')\n",
    "\n",
    "axs.set_ylim(-.5,2*np.pi+.5)"
   ]
  },
  {
   "cell_type": "markdown",
   "id": "5d7c5abe-36c7-4a82-96ee-147d74f0e919",
   "metadata": {},
   "source": [
    "# del=0.1"
   ]
  },
  {
   "cell_type": "code",
   "execution_count": 113,
   "id": "9ad61b3e-3af0-4d5c-843f-b94d02b4ada4",
   "metadata": {},
   "outputs": [
    {
     "name": "stdout",
     "output_type": "stream",
     "text": [
      "pfactor 30\n",
      "* Loading H gwt0, order=0...\n",
      "* Loading H gwt1, order=0...\n",
      "* Loading H gwt0, order=1...\n",
      "* Loading H gwt1, order=1...\n",
      "* Loading H gwt0, order=2...\n",
      "* Loading H gwt1, order=2...\n",
      "* Loading H gwt0, order=3...\n",
      "* Loading H gwt1, order=3...\n"
     ]
    }
   ],
   "source": [
    "del11_p1 = .1\n",
    "a11_p1 = nm.nmCoupling(**kw_nm, del1=del11_p1)"
   ]
  },
  {
   "cell_type": "markdown",
   "id": "dabe08d3-811d-496c-a542-6b79d727fd7d",
   "metadata": {},
   "source": [
    "## Get Branches Full"
   ]
  },
  {
   "cell_type": "code",
   "execution_count": 114,
   "id": "b2b43836-05f6-4d63-8885-570412138caa",
   "metadata": {},
   "outputs": [],
   "source": [
    "kw_p1 = {'a':a11_p1,'del1':del11_p1,'recompute':False,\n",
    "            'bifdir':'bif1d_gwt/','_full_rhs':_full}"
   ]
  },
  {
   "cell_type": "code",
   "execution_count": 115,
   "id": "5acd1763-0787-4de5-9fc4-2b175c0de7e1",
   "metadata": {},
   "outputs": [],
   "source": [
    "data_p1_list = []"
   ]
  },
  {
   "cell_type": "code",
   "execution_count": 116,
   "id": "ff596082-c276-49b4-ae82-8c84cbe63924",
   "metadata": {},
   "outputs": [],
   "source": [
    "in_dicts = [dict(init=3,eps_init=0.02,eps_final=0.0005,deps=-.005),\n",
    "            dict(init=3,eps_init=0.02,eps_final=0.15,deps=.01)]"
   ]
  },
  {
   "cell_type": "code",
   "execution_count": 117,
   "id": "17d27d5d-bcdf-4601-b1f4-31b60fff5316",
   "metadata": {
    "scrolled": true
   },
   "outputs": [
    {
     "name": "stdout",
     "output_type": "stream",
     "text": [
      "fname1 td_branch_init=3_nm=11_del=0.1_ei=0.02_ef=0.0005_de=-0.005.txt\n",
      "fname2 ts_branch_init=3_nm=11_del=0.1_ei=0.02_ef=0.0005_de=-0.005.txt\n",
      "fname1 td_branch_init=3_nm=11_del=0.1_ei=0.02_ef=0.15_de=0.01.txt\n",
      "fname2 ts_branch_init=3_nm=11_del=0.1_ei=0.02_ef=0.15_de=0.01.txt\n"
     ]
    }
   ],
   "source": [
    "for i in range(len(in_dicts)):\n",
    "    in1 = in_dicts[i]\n",
    "    dat = follow_phase_diffs(**in1,**kw_p1)\n",
    "    data_p1_list.append(dat)\n",
    "fname = kw_p1['bifdir']+'hyper_gwt_11_p1.txt'"
   ]
  },
  {
   "cell_type": "code",
   "execution_count": 118,
   "id": "82c7d3f1-be93-4946-af3e-73188642f443",
   "metadata": {},
   "outputs": [],
   "source": [
    "# save hyperparameters\n",
    "hyp_inputs = np.zeros([len(in_dicts),4])\n",
    "for i in range(len(in_dicts)):\n",
    "    hyp_inputs[i,0] = in_dicts[i]['init']\n",
    "    hyp_inputs[i,1] = in_dicts[i]['eps_init']\n",
    "    hyp_inputs[i,2] = in_dicts[i]['eps_final']\n",
    "    hyp_inputs[i,3] = in_dicts[i]['deps']\n",
    "np.savetxt(fname,hyp_inputs)"
   ]
  },
  {
   "cell_type": "markdown",
   "id": "dbdcacc8-8cbd-447a-9ffd-a0002aa8349c",
   "metadata": {},
   "source": [
    "## Get Branches 3D"
   ]
  },
  {
   "cell_type": "code",
   "execution_count": 119,
   "id": "be097766-a177-4d99-83d1-06a38d1296bc",
   "metadata": {},
   "outputs": [],
   "source": [
    "kw_follow_r3d = {'a':a11_p1,'rhs':_redu_3dc,'recompute':False,\n",
    "                 'bifdir':'bif1d_gwt/'}"
   ]
  },
  {
   "cell_type": "code",
   "execution_count": 120,
   "id": "4cb096a2-9e9d-4b96-9652-db7b0a3e93a4",
   "metadata": {},
   "outputs": [],
   "source": [
    "data_list_r3d = []"
   ]
  },
  {
   "cell_type": "code",
   "execution_count": 121,
   "id": "42c8921c-562e-422d-b8b9-6695c5c96e10",
   "metadata": {},
   "outputs": [],
   "source": [
    "in_dicts_r3d = [dict(init=1,eps_tup=(.01,.16,.01)),\n",
    "                dict(init=1,eps_tup=(.01,.005,-.0005))]"
   ]
  },
  {
   "cell_type": "code",
   "execution_count": 122,
   "id": "c8070594-42f4-4f61-95de-c7c8f2ad2ce5",
   "metadata": {
    "scrolled": true
   },
   "outputs": [
    {
     "name": "stdout",
     "output_type": "stream",
     "text": [
      "eps_tup (0.01, 0.16, 0.01)\n",
      "eps_tup (0.01, 0.005, -0.0005)\n"
     ]
    }
   ],
   "source": [
    "for i in range(len(in_dicts_r3d)):\n",
    "    in1 = in_dicts_r3d[i]\n",
    "    dat = follow_locking_3d(**in1,**kw_follow_r3d)\n",
    "    data_list_r3d.append(dat)\n",
    "fname = kw_follow_r3d['bifdir']+'hyper_r3d_gwt_11_p1.txt'"
   ]
  },
  {
   "cell_type": "code",
   "execution_count": 123,
   "id": "ae1d5511-1894-4620-9dd5-47ce2188bc89",
   "metadata": {},
   "outputs": [],
   "source": [
    "# save hyperparameters\n",
    "hyp_inputs = np.zeros([len(in_dicts_r3d),4])\n",
    "for i in range(len(in_dicts_r3d)):\n",
    "    hyp_inputs[i,0] = in_dicts_r3d[i]['init']\n",
    "    hyp_inputs[i,1] = in_dicts_r3d[i]['eps_tup'][0]\n",
    "    hyp_inputs[i,2] = in_dicts_r3d[i]['eps_tup'][1]\n",
    "    hyp_inputs[i,3] = in_dicts_r3d[i]['eps_tup'][2]\n",
    "np.savetxt(fname,hyp_inputs)"
   ]
  },
  {
   "cell_type": "markdown",
   "id": "a1834e53-14b7-4fbe-9838-e96951747917",
   "metadata": {},
   "source": [
    "## Plot"
   ]
  },
  {
   "cell_type": "code",
   "execution_count": 124,
   "id": "d2faf887-3ec0-4cd2-a49b-9432da258fff",
   "metadata": {},
   "outputs": [
    {
     "data": {
      "image/png": "[encoded data removed]",
      "text/plain": [
       "<Figure size 300x200 with 1 Axes>"
      ]
     },
     "metadata": {},
     "output_type": "display_data"
    },
    {
     "data": {
      "image/png": "[encoded data removed]",
      "text/plain": [
       "<Figure size 300x400 with 2 Axes>"
      ]
     },
     "metadata": {},
     "output_type": "display_data"
    }
   ],
   "source": [
    "quick_plot_combined(a11_p1,\n",
    "                    kw_f={'data_list':data_p1_list},\n",
    "                    kw_r3d={'data_list':data_list_r3d},\n",
    "                    kw_r={'etup':etup11})"
   ]
  },
  {
   "cell_type": "markdown",
   "id": "663844fd-aa2a-452a-8c7d-8cf097d73db3",
   "metadata": {},
   "source": [
    "# del=0.15"
   ]
  },
  {
   "cell_type": "code",
   "execution_count": 125,
   "id": "310ceede-6505-4e81-96e2-09f4200bc0cf",
   "metadata": {},
   "outputs": [
    {
     "name": "stdout",
     "output_type": "stream",
     "text": [
      "pfactor 30\n",
      "* Loading H gwt0, order=0...\n",
      "* Loading H gwt1, order=0...\n",
      "* Loading H gwt0, order=1...\n",
      "* Loading H gwt1, order=1...\n",
      "* Loading H gwt0, order=2...\n",
      "* Loading H gwt1, order=2...\n",
      "* Loading H gwt0, order=3...\n",
      "* Loading H gwt1, order=3...\n"
     ]
    }
   ],
   "source": [
    "del11_p15 = .15\n",
    "a11_p15 = nm.nmCoupling(**kw_nm, del1=del11_p15)"
   ]
  },
  {
   "cell_type": "markdown",
   "id": "d9499b32-3943-4094-a6eb-cbf12a39c9f8",
   "metadata": {},
   "source": [
    "## Get Branches Full"
   ]
  },
  {
   "cell_type": "code",
   "execution_count": 126,
   "id": "4a977ef1-4283-4a10-9b1d-70cc0de4fc3a",
   "metadata": {},
   "outputs": [],
   "source": [
    "kw_follow = {'a':a11_p15,'del1':del11_p15,'recompute':False,\n",
    "            'bifdir':'bif1d_gwt/','_full_rhs':_full}"
   ]
  },
  {
   "cell_type": "code",
   "execution_count": 127,
   "id": "f3cb979a-a6f4-4250-965b-afab586e669e",
   "metadata": {},
   "outputs": [],
   "source": [
    "data_list = []"
   ]
  },
  {
   "cell_type": "code",
   "execution_count": 128,
   "id": "a4b40e1b-d82d-4cd4-9060-79fd8a2a8e66",
   "metadata": {},
   "outputs": [],
   "source": [
    "in_dicts = [dict(init=3,eps_init=0.02,eps_final=0.0005,deps=-.005),\n",
    "            dict(init=3,eps_init=0.02,eps_final=0.1,deps=.01)]"
   ]
  },
  {
   "cell_type": "code",
   "execution_count": 129,
   "id": "4d13ec30-530d-4668-80a5-265891a8fb94",
   "metadata": {
    "scrolled": true
   },
   "outputs": [
    {
     "name": "stdout",
     "output_type": "stream",
     "text": [
      "fname1 td_branch_init=3_nm=11_del=0.15_ei=0.02_ef=0.0005_de=-0.005.txt\n",
      "fname2 ts_branch_init=3_nm=11_del=0.15_ei=0.02_ef=0.0005_de=-0.005.txt\n",
      "fname1 td_branch_init=3_nm=11_del=0.15_ei=0.02_ef=0.1_de=0.01.txt\n",
      "fname2 ts_branch_init=3_nm=11_del=0.15_ei=0.02_ef=0.1_de=0.01.txt\n"
     ]
    }
   ],
   "source": [
    "for i in range(len(in_dicts)):\n",
    "    in1 = in_dicts[i]\n",
    "    dat = follow_phase_diffs(**in1,**kw_follow)\n",
    "    data_list.append(dat)\n",
    "fname = kw_follow['bifdir']+'hyper_gwt_11_p15.txt'"
   ]
  },
  {
   "cell_type": "code",
   "execution_count": 130,
   "id": "1456e6e4-b746-4429-b69f-d67ee6a67e95",
   "metadata": {},
   "outputs": [],
   "source": [
    "# save hyperparameters\n",
    "hyp_inputs = np.zeros([len(in_dicts),4])\n",
    "for i in range(len(in_dicts)):\n",
    "    hyp_inputs[i,0] = in_dicts[i]['init']\n",
    "    hyp_inputs[i,1] = in_dicts[i]['eps_init']\n",
    "    hyp_inputs[i,2] = in_dicts[i]['eps_final']\n",
    "    hyp_inputs[i,3] = in_dicts[i]['deps']\n",
    "np.savetxt(fname,hyp_inputs)"
   ]
  },
  {
   "cell_type": "markdown",
   "id": "fc08c5c7-5bdd-4577-b8b4-7017caff29db",
   "metadata": {},
   "source": [
    "## Get Branches 3D"
   ]
  },
  {
   "cell_type": "code",
   "execution_count": 131,
   "id": "f072b6cb-5bc3-470f-ab35-3cd06580da8f",
   "metadata": {},
   "outputs": [],
   "source": [
    "kw_follow_r3d = {'a':a11_p15,'rhs':_redu_3dc,'recompute':False,\n",
    "                 'bifdir':'bif1d_gwt/'}"
   ]
  },
  {
   "cell_type": "code",
   "execution_count": 132,
   "id": "874c4c1a-d959-42c9-84d9-1a7b35391de8",
   "metadata": {},
   "outputs": [],
   "source": [
    "data_list_r3d = []"
   ]
  },
  {
   "cell_type": "code",
   "execution_count": 133,
   "id": "422fabda-1f7d-42ad-9eaf-65c6285c5a8b",
   "metadata": {},
   "outputs": [],
   "source": [
    "in_dicts_r3d = [dict(init=1,eps_tup=(.01,.16,.01)),\n",
    "                dict(init=1,eps_tup=(.01,.005,-.0005))]"
   ]
  },
  {
   "cell_type": "code",
   "execution_count": 134,
   "id": "762e0880-ca78-455b-bbd2-f999ead2f0b9",
   "metadata": {
    "scrolled": true
   },
   "outputs": [
    {
     "name": "stdout",
     "output_type": "stream",
     "text": [
      "eps_tup (0.01, 0.16, 0.01)\n",
      "eps_tup (0.01, 0.005, -0.0005)\n"
     ]
    }
   ],
   "source": [
    "for i in range(len(in_dicts_r3d)):\n",
    "    in1 = in_dicts_r3d[i]\n",
    "    dat = follow_locking_3d(**in1,**kw_follow_r3d)\n",
    "    data_list_r3d.append(dat)\n",
    "fname = kw_follow_r3d['bifdir']+'hyper_r3d_gwt_11_p15.txt'"
   ]
  },
  {
   "cell_type": "code",
   "execution_count": 135,
   "id": "7dc11c23-5611-480e-8792-aae24171f71a",
   "metadata": {},
   "outputs": [],
   "source": [
    "# save hyperparameters\n",
    "hyp_inputs = np.zeros([len(in_dicts_r3d),4])\n",
    "for i in range(len(in_dicts_r3d)):\n",
    "    hyp_inputs[i,0] = in_dicts_r3d[i]['init']\n",
    "    hyp_inputs[i,1] = in_dicts_r3d[i]['eps_tup'][0]\n",
    "    hyp_inputs[i,2] = in_dicts_r3d[i]['eps_tup'][1]\n",
    "    hyp_inputs[i,3] = in_dicts_r3d[i]['eps_tup'][2]\n",
    "np.savetxt(fname,hyp_inputs)"
   ]
  },
  {
   "cell_type": "markdown",
   "id": "c412bdf9-0ed7-4579-badc-f99595423ecf",
   "metadata": {},
   "source": [
    "## Plot"
   ]
  },
  {
   "cell_type": "code",
   "execution_count": 136,
   "id": "5fc19cb9-4613-4050-9fa6-401c6b46cff1",
   "metadata": {},
   "outputs": [
    {
     "data": {
      "image/png": "[encoded data removed]",
      "text/plain": [
       "<Figure size 300x200 with 1 Axes>"
      ]
     },
     "metadata": {},
     "output_type": "display_data"
    },
    {
     "data": {
      "image/png": "[encoded data removed]",
      "text/plain": [
       "<Figure size 300x400 with 2 Axes>"
      ]
     },
     "metadata": {},
     "output_type": "display_data"
    }
   ],
   "source": [
    "quick_plot_combined(a11_p15,\n",
    "                    kw_f={'data_list':data_list},\n",
    "                    kw_r3d={'data_list':data_list_r3d},\n",
    "                    kw_r={'etup':etup11})"
   ]
  },
  {
   "cell_type": "markdown",
   "id": "ca7e42ac-0e2c-4889-942c-f251e63ee158",
   "metadata": {},
   "source": [
    "## Sims"
   ]
  },
  {
   "cell_type": "code",
   "execution_count": 137,
   "id": "b638078a-757a-48b1-91ae-b181c6f174b1",
   "metadata": {},
   "outputs": [],
   "source": [
    "# coupling and init\n",
    "eps11_p15 = 0.1\n",
    "th_init11_p15 = 2."
   ]
  },
  {
   "cell_type": "code",
   "execution_count": 138,
   "id": "199a6332-ddde-43dd-b53d-b472553a062b",
   "metadata": {},
   "outputs": [],
   "source": [
    "init = get_initial_phase_diff_c(th_init11_p15,\n",
    "                                a11_p15,eps11_p15,\n",
    "                                0,_full_rhs=_full)\n"
   ]
  },
  {
   "cell_type": "code",
   "execution_count": 139,
   "id": "85de8328-3bf7-41f4-848c-3361d4c5eeaf",
   "metadata": {},
   "outputs": [],
   "source": [
    "# sim params\n",
    "dt = .01;T_p15=300\n",
    "t11_p15 = np.arange(0,T_p15,dt)\n",
    "args11_p15 = {'args':(a11_p15,eps11_p15,del11_p15),\n",
    "             't_eval':t11_p15,**kw_sim,'dense_output':True}"
   ]
  },
  {
   "cell_type": "code",
   "execution_count": 140,
   "id": "9cd2d136-a367-45a3-96e7-aafdc8920edd",
   "metadata": {},
   "outputs": [],
   "source": [
    "# view trajectory and compare to estimated period\n",
    "solf11_p15 = solve_ivp(_full,[0,t11_p15[-1]], init[:-1],\n",
    "                      **args11_p15)"
   ]
  },
  {
   "cell_type": "code",
   "execution_count": 141,
   "id": "f722c05c-d203-4d79-bc56-95e7fdaab389",
   "metadata": {},
   "outputs": [
    {
     "data": {
      "text/plain": [
       "(8.447756505973246, 287.63080640927257)"
      ]
     },
     "execution_count": 141,
     "metadata": {},
     "output_type": "execute_result"
    }
   ],
   "source": [
    "get_period(solf11_p15,idx=0,prominence=.25,idx_shift=0)"
   ]
  },
  {
   "cell_type": "code",
   "execution_count": 142,
   "id": "a3bce671-bec1-40de-9323-f0f582b77282",
   "metadata": {
    "scrolled": true
   },
   "outputs": [
    {
     "data": {
      "text/plain": [
       "(0.0, 50.0)"
      ]
     },
     "execution_count": 142,
     "metadata": {},
     "output_type": "execute_result"
    },
    {
     "data": {
      "image/png": "[encoded data removed]",
      "text/plain": [
       "<Figure size 640x480 with 1 Axes>"
      ]
     },
     "metadata": {},
     "output_type": "display_data"
    }
   ],
   "source": [
    "fig, axs = plt.subplots()\n",
    "axs.plot(solf11_p15.t,solf11_p15.y.T[:,0]+.7)\n",
    "axs.plot(solf11_p15.t,solf11_p15.y.T[:,4])\n",
    "axs.scatter([0,5.8974],[0,0])\n",
    "axs.set_xlim(0,50)"
   ]
  },
  {
   "cell_type": "code",
   "execution_count": 143,
   "id": "bc1c06c5-b7fb-4596-8fbb-050948099acd",
   "metadata": {
    "tags": []
   },
   "outputs": [],
   "source": [
    "# initialize and run full\n",
    "y0a = a11_p15.system1.lc['dat'][int((th_init11_p15/(2*np.pi)) * a11_p15.system1.TN),:]\n",
    "y0b = a11_p15.system2.lc['dat'][int((0/(2*np.pi)) * a11_p15.system2.TN),:]\n",
    "\n",
    "y0_p15 = np.array([y0a,y0b]).flatten()\n",
    "\n",
    "solf11_p15 = solve_ivp(_full,[0,t11_p15[-1]],\n",
    "                        y0_p15, **args11_p15)"
   ]
  },
  {
   "cell_type": "code",
   "execution_count": 144,
   "id": "50514a61-94a5-4531-be79-d512af432abb",
   "metadata": {
    "tags": []
   },
   "outputs": [],
   "source": [
    "solr11_p15 = solve_ivp(_redu_c,[0,t11_p15[-1]],\n",
    "                     [th_init11_p15],**args11_p15)"
   ]
  },
  {
   "cell_type": "code",
   "execution_count": 145,
   "id": "6b775f50-ea70-4584-95f3-fbd977726465",
   "metadata": {},
   "outputs": [],
   "source": [
    "# solr12b_p15 = solve_ivp(_redu_3dc,[0,t11_p15[-1]],\n",
    "#                     [th_init11_p15,0,0],**args11_p15)"
   ]
  },
  {
   "cell_type": "code",
   "execution_count": 146,
   "id": "08809ca5-2d5d-4fdf-93f5-d3c8591a8868",
   "metadata": {},
   "outputs": [],
   "source": [
    "tp12a_p15, phase12a_p15 = get_phase(t11_p15,solf11_p15.y.T[:,:4],\n",
    "                            skipn=50,system1=a11_p15.system1)\n",
    "tp12b_p15, phase12b_p15 = get_phase(t11_p15,solf11_p15.y.T[:,4:],\n",
    "                            skipn=50,system1=a11_p15.system2)"
   ]
  },
  {
   "cell_type": "code",
   "execution_count": 147,
   "id": "b9d9a54a-7550-4148-9218-ceb382d6f920",
   "metadata": {},
   "outputs": [
    {
     "data": {
      "text/plain": [
       "(-0.5, 6.783185307179586)"
      ]
     },
     "execution_count": 147,
     "metadata": {},
     "output_type": "execute_result"
    },
    {
     "data": {
      "image/png": "[encoded data removed]",
      "text/plain": [
       "<Figure size 640x480 with 1 Axes>"
      ]
     },
     "metadata": {},
     "output_type": "display_data"
    }
   ],
   "source": [
    "fig,axs = plt.subplots()\n",
    "y = np.mod(phase12a_p15 - a11_p15.om*phase12b_p15,2*np.pi)\n",
    "axs.scatter(tp12a_p15,y,s=1,alpha=.5,color='black')\n",
    "\n",
    "axs.plot(t11_p15,np.mod(solr11_p15.y.T,2*np.pi),\n",
    "         color='tab:red')\n",
    "\n",
    "axs.set_ylim(-.5,2*np.pi+.5)"
   ]
  },
  {
   "cell_type": "markdown",
   "id": "e7bb1168-7e9b-4a3c-9f13-de311e294cb2",
   "metadata": {},
   "source": [
    "# del=0.16"
   ]
  },
  {
   "cell_type": "code",
   "execution_count": 148,
   "id": "8b7bde54-8895-4fc9-a713-86f958612429",
   "metadata": {},
   "outputs": [
    {
     "name": "stdout",
     "output_type": "stream",
     "text": [
      "pfactor 30\n",
      "* Loading H gwt0, order=0...\n",
      "* Loading H gwt1, order=0...\n",
      "* Loading H gwt0, order=1...\n",
      "* Loading H gwt1, order=1...\n",
      "* Loading H gwt0, order=2...\n",
      "* Loading H gwt1, order=2...\n",
      "* Loading H gwt0, order=3...\n",
      "* Loading H gwt1, order=3...\n"
     ]
    }
   ],
   "source": [
    "del11_p16 = .16\n",
    "a11_p16 = nm.nmCoupling(**kw_nm, del1=del11_p16)"
   ]
  },
  {
   "cell_type": "markdown",
   "id": "784120ce-d305-46a4-9dd3-9d89c6e04727",
   "metadata": {},
   "source": [
    "## Get Branches Full"
   ]
  },
  {
   "cell_type": "code",
   "execution_count": 168,
   "id": "f8eb28c8-fce6-4fc2-bb3d-776d2eeeeddf",
   "metadata": {},
   "outputs": [],
   "source": [
    "kw_follow = {'a':a11_p16,'del1':del11_p16,'recompute':False,\n",
    "            'bifdir':'bif1d_gwt/','_full_rhs':_full}"
   ]
  },
  {
   "cell_type": "code",
   "execution_count": 169,
   "id": "548db7b6-c3ba-444c-981e-2d59a3e55422",
   "metadata": {},
   "outputs": [],
   "source": [
    "data_list = []"
   ]
  },
  {
   "cell_type": "code",
   "execution_count": 170,
   "id": "3c37a73c-7c8f-4745-8462-938b86c0d0db",
   "metadata": {},
   "outputs": [],
   "source": [
    "in_dicts = [dict(init=3,eps_init=0.02,eps_final=0.0005,deps=-.005),\n",
    "            dict(init=3,eps_init=0.02,eps_final=0.051,deps=.01)]"
   ]
  },
  {
   "cell_type": "code",
   "execution_count": 171,
   "id": "b0b5679d-bf72-47bd-a1a5-bc1925abfe95",
   "metadata": {
    "scrolled": true
   },
   "outputs": [
    {
     "name": "stdout",
     "output_type": "stream",
     "text": [
      "fname1 td_branch_init=3_nm=11_del=0.16_ei=0.02_ef=0.0005_de=-0.005.txt\n",
      "fname2 ts_branch_init=3_nm=11_del=0.16_ei=0.02_ef=0.0005_de=-0.005.txt\n",
      "fname1 td_branch_init=3_nm=11_del=0.16_ei=0.02_ef=0.051_de=0.01.txt\n",
      "fname2 ts_branch_init=3_nm=11_del=0.16_ei=0.02_ef=0.051_de=0.01.txt\n"
     ]
    }
   ],
   "source": [
    "for i in range(len(in_dicts)):\n",
    "    in1 = in_dicts[i]\n",
    "    dat = follow_phase_diffs(**in1,**kw_follow)\n",
    "    data_list.append(dat)\n",
    "fname = kw_follow['bifdir']+'hyper_gwt_11_p16.txt'"
   ]
  },
  {
   "cell_type": "code",
   "execution_count": 172,
   "id": "cdd9970c-1c98-4428-acc3-fea6d37f34bf",
   "metadata": {},
   "outputs": [],
   "source": [
    "# save hyperparameters\n",
    "hyp_inputs = np.zeros([len(in_dicts),4])\n",
    "for i in range(len(in_dicts)):\n",
    "    hyp_inputs[i,0] = in_dicts[i]['init']\n",
    "    hyp_inputs[i,1] = in_dicts[i]['eps_init']\n",
    "    hyp_inputs[i,2] = in_dicts[i]['eps_final']\n",
    "    hyp_inputs[i,3] = in_dicts[i]['deps']\n",
    "np.savetxt(fname,hyp_inputs)"
   ]
  },
  {
   "cell_type": "markdown",
   "id": "195e876e-5cba-4696-8edc-11e744a7dfd5",
   "metadata": {},
   "source": [
    "## Get Branches 3D"
   ]
  },
  {
   "cell_type": "code",
   "execution_count": 173,
   "id": "40339c16-cc6e-49c2-84c5-c946ff94975d",
   "metadata": {},
   "outputs": [],
   "source": [
    "kw_follow_r3d = {'a':a11_p16,'rhs':_redu_3dc,'recompute':False,\n",
    "                 'bifdir':'bif1d_gwt/'}"
   ]
  },
  {
   "cell_type": "code",
   "execution_count": 174,
   "id": "0f98cb4f-f0af-4b3a-a8d7-8ebd24de5b61",
   "metadata": {},
   "outputs": [],
   "source": [
    "data_list_r3d = []"
   ]
  },
  {
   "cell_type": "code",
   "execution_count": 175,
   "id": "72c8b816-99fc-4556-844e-be40bb144396",
   "metadata": {},
   "outputs": [],
   "source": [
    "in_dicts_r3d = [dict(init=1,eps_tup=(.01,.1,.002)),\n",
    "                dict(init=1,eps_tup=(.01,.005,-.0005))]"
   ]
  },
  {
   "cell_type": "code",
   "execution_count": 176,
   "id": "ec36c35a-e346-44bf-8952-3ce8a701cf2d",
   "metadata": {
    "scrolled": true
   },
   "outputs": [
    {
     "name": "stdout",
     "output_type": "stream",
     "text": [
      "eps_tup (0.01, 0.1, 0.002)\n",
      "1 <nmCoupling.nmCoupling object at 0x000002283B23BAC0> (0.01, 0.1, 0.002) <function _redu_3dc_thal at 0x00000228357F29E0>\n",
      "t_diff 0.51109077680533090, Y=[0.51109078 0.02698342 0.04497557]                                              \n",
      "eps iter 0 0.01                \n",
      "t_diff 0.51109077680533339, Y=[0.51109078 0.02698342 0.04497557]                                              \n",
      "eps iter 1 0.012                \n",
      "t_diff 0.52152961371476450, Y=[0.52152961 0.03239078 0.0537299 ]                                              \n",
      "eps iter 2 0.014                \n",
      "t_diff 0.53191544545654830, Y=[0.53191545 0.03780153 0.06240649]                                              \n",
      "eps iter 3 0.016                \n",
      "t_diff 0.54224599028508480, Y=[0.54224599 0.04321557 0.07100623]                                              \n",
      "eps iter 4 0.018000000000000002                \n",
      "t_diff 0.55251869960006871, Y=[0.5525187  0.04863279 0.07952992]                                              \n",
      "eps iter 5 0.02                \n",
      "t_diff 0.56273081437408731, Y=[0.56273081 0.05405304 0.08797821]                                              \n",
      "eps iter 6 0.022                \n",
      "t_diff 0.57287942480802781, Y=[0.57287942 0.05947619 0.09635167]                                              \n",
      "eps iter 7 0.024                \n",
      "t_diff 0.58296153246940662, Y=[0.58296153 0.06490206 0.10465069]                                              \n",
      "eps iter 8 0.026000000000000002                \n",
      "t_diff 0.59297411417651582, Y=[0.59297411 0.07033047 0.11287556]                                              \n",
      "eps iter 9 0.028000000000000004                \n",
      "t_diff 0.60291418692470861, Y=[0.60291419 0.07576123 0.12102638]                                              \n",
      "eps iter 10 0.03                \n",
      "t_diff 0.61277887321012031, Y=[0.61277887 0.08119413 0.12910315]                                              \n",
      "eps iter 11 0.032                \n",
      "t_diff 0.62256546618935041, Y=[0.62256547 0.08662896 0.13710572]                                              \n",
      "eps iter 12 0.034                \n",
      "t_diff 0.63227149421954371, Y=[0.63227149 0.09206551 0.14503377]                                              \n",
      "eps iter 13 0.036000000000000004                \n",
      "t_diff 0.64189478444905710, Y=[0.64189478 0.09750355 0.15288689]                                              \n",
      "eps iter 14 0.038                \n",
      "t_diff 0.65143352527236810, Y=[0.65143353 0.10294288 0.16066452]                                              \n",
      "eps iter 15 0.04                \n",
      "t_diff 0.66088632762075380, Y=[0.66088633 0.1083833  0.16836599]                                              \n",
      "eps iter 16 0.042                \n",
      "t_diff 0.67025228523162610, Y=[0.67025229 0.11382461 0.17599053]                                              \n",
      "eps iter 17 0.044000000000000004                \n",
      "t_diff 0.67953103422088310, Y=[0.67953103 0.11926663 0.18353729]                                              \n",
      "eps iter 18 0.046000000000000006                \n",
      "t_diff 0.68872281247493321, Y=[0.68872281 0.12470923 0.19100535]                                              \n",
      "eps iter 19 0.048                \n",
      "t_diff 0.69782851958112561, Y=[0.69782852 0.13015228 0.19839371]                                              \n",
      "eps iter 20 0.05                \n",
      "t_diff 0.70684977822940911, Y=[0.70684978 0.13559571 0.20570139]                                              \n",
      "eps iter 21 0.052000000000000005                \n",
      "t_diff 0.71578899824338621, Y=[0.715789   0.14103946 0.21292734]                                              \n",
      "eps iter 22 0.054                \n",
      "t_diff 0.72464944464203111, Y=[0.72464944 0.14648356 0.22007056]                                              \n",
      "eps iter 23 0.056                \n",
      "t_diff 0.73343531139340350, Y=[0.73343531 0.15192808 0.22713007]                                              \n",
      "eps iter 24 0.058                \n",
      "t_diff 0.74215180280420760, Y=[0.7421518  0.15737313 0.23410494]                                              \n",
      "eps iter 25 0.060000000000000005                \n",
      "t_diff 0.75080522479550910, Y=[0.75080522 0.16281894 0.24099432]                                              \n",
      "eps iter 26 0.062000000000000006                \n",
      "t_diff 0.75940308864553479, Y=[0.75940309 0.16826579 0.24779748]                                              \n",
      "eps iter 27 0.064                \n",
      "t_diff 0.76795423013188259, Y=[0.76795423 0.17371407 0.25451381]                                              \n",
      "eps iter 28 0.066                \n",
      "t_diff 0.77646894736683669, Y=[0.77646895 0.17916426 0.26114286]                                              \n",
      "eps iter 29 0.068                \n",
      "t_diff 0.78495916096862629, Y=[0.78495916 0.18461697 0.26768439]                                              \n",
      "eps iter 30 0.06999999999999999                \n",
      "t_diff 0.79343860050644979, Y=[0.7934386  0.19007296 0.27413835]                                              \n",
      "eps iter 31 0.072                \n",
      "t_diff 0.80192302132778039, Y=[0.80192302 0.19553312 0.28050496]                                              \n",
      "eps iter 32 0.074                \n",
      "t_diff 0.81043045580525978, Y=[0.81043046 0.20099853 0.28678474]                                              \n",
      "eps iter 33 0.076                \n",
      "t_diff 0.81898150254106538, Y=[0.8189815  0.20647045 0.29297853]                                              \n",
      "eps iter 34 0.078                \n",
      "t_diff 0.82759965585403438, Y=[0.82759966 0.21195037 0.29908758]                                              \n",
      "eps iter 35 0.08                \n",
      "t_diff 0.83631167552104348, Y=[0.83631168 0.21744006 0.30511353]                                              \n",
      "eps iter 36 0.082                \n",
      "t_diff 0.84514799263341538, Y=[0.84514799 0.22294155 0.31105856]                                              \n",
      "eps iter 37 0.08399999999999999                \n",
      "t_diff 0.85414314070914858, Y=[0.85414314 0.22845722 0.31692539]                                              \n",
      "eps iter 38 0.086                \n",
      "t_diff 0.86333619077503408, Y=[0.86333619 0.2339898  0.32271741]                                              \n",
      "eps iter 39 0.088                \n",
      "t_diff 0.87277115371130433, Y=[0.87277115 0.23954246 0.32843875]                                              \n",
      "eps iter 40 0.09                \n",
      "t_diff 0.88249729152611923, Y=[0.88249729 0.24511879 0.33409436]                                              \n",
      "eps iter 41 0.092                \n",
      "t_diff 0.89256925080676652, Y=[0.89256925 0.25072288 0.33969018]                                              \n",
      "eps iter 42 0.094                \n",
      "t_diff 0.90304689767500932, Y=[0.9030469  0.25635933 0.34523319]                                              \n",
      "eps iter 43 0.096                \n",
      "t_diff 0.91399469895521822, Y=[0.9139947  0.26203319 0.35073157]                                              \n",
      "eps iter 44 0.09799999999999999                \n",
      "t_diff 0.92548046995410952, Y=[0.92548047 0.26774997 0.35619474]                                              \n",
      "eps iter 45 0.09999999999999999                \n",
      "t_diff 0.93757331414334112, Y=[0.93757331 0.27351546 0.36163346]                                              \n",
      "eps_tup (0.01, 0.005, -0.0005)\n"
     ]
    }
   ],
   "source": [
    "for i in range(len(in_dicts_r3d)):\n",
    "    in1 = in_dicts_r3d[i]\n",
    "    dat = follow_locking_3d(**in1,**kw_follow_r3d)\n",
    "    data_list_r3d.append(dat)\n",
    "fname = kw_follow_r3d['bifdir']+'hyper_r3d_gwt_11_p16.txt'"
   ]
  },
  {
   "cell_type": "code",
   "execution_count": 177,
   "id": "f9d76342-2d25-460d-b4b0-bb50e8fc70bf",
   "metadata": {},
   "outputs": [],
   "source": [
    "# save hyperparameters\n",
    "hyp_inputs = np.zeros([len(in_dicts_r3d),4])\n",
    "for i in range(len(in_dicts_r3d)):\n",
    "    hyp_inputs[i,0] = in_dicts_r3d[i]['init']\n",
    "    hyp_inputs[i,1] = in_dicts_r3d[i]['eps_tup'][0]\n",
    "    hyp_inputs[i,2] = in_dicts_r3d[i]['eps_tup'][1]\n",
    "    hyp_inputs[i,3] = in_dicts_r3d[i]['eps_tup'][2]\n",
    "np.savetxt(fname,hyp_inputs)"
   ]
  },
  {
   "cell_type": "markdown",
   "id": "d04bd5d9-9aab-4d66-8150-05f54c51b31a",
   "metadata": {},
   "source": [
    "## Plot"
   ]
  },
  {
   "cell_type": "code",
   "execution_count": 179,
   "id": "fea88d0a-7753-4679-9d91-3cc0e45966f6",
   "metadata": {},
   "outputs": [
    {
     "data": {
      "image/png": "[encoded data removed]",
      "text/plain": [
       "<Figure size 300x200 with 1 Axes>"
      ]
     },
     "metadata": {},
     "output_type": "display_data"
    },
    {
     "data": {
      "image/png": "[encoded data removed]",
      "text/plain": [
       "<Figure size 300x400 with 2 Axes>"
      ]
     },
     "metadata": {},
     "output_type": "display_data"
    }
   ],
   "source": [
    "quick_plot_combined(a11_p16,\n",
    "                    kw_f={'data_list':data_list},\n",
    "                    kw_r3d={'data_list':data_list_r3d},\n",
    "                    kw_r={'etup':etup11})"
   ]
  },
  {
   "cell_type": "markdown",
   "id": "dac53fd9-c8de-40aa-ab58-c4189dff0ac1",
   "metadata": {},
   "source": [
    "## Sims"
   ]
  },
  {
   "cell_type": "code",
   "execution_count": 160,
   "id": "ce072ffc-e09e-4d6b-8aa7-c6f3f95516d2",
   "metadata": {},
   "outputs": [],
   "source": [
    "# coupling and init\n",
    "eps11_p16 = 0.06\n",
    "th_init11_p16 = 2."
   ]
  },
  {
   "cell_type": "code",
   "execution_count": 161,
   "id": "359344a9-4f90-467d-a04c-1af1c66e8aeb",
   "metadata": {},
   "outputs": [],
   "source": [
    "# sim params\n",
    "dt = .01;T_p16=1000\n",
    "t11_p16 = np.arange(0,T_p16,dt)\n",
    "args11_p16 = {'args':(a11_p16,eps11_p16,del11_p16),\n",
    "             't_eval':t11_p16,**kw_sim,'dense_output':True}"
   ]
  },
  {
   "cell_type": "code",
   "execution_count": 162,
   "id": "6ba7ad99-04e4-42b6-90ba-6248fa3082cc",
   "metadata": {
    "tags": []
   },
   "outputs": [],
   "source": [
    "# initialize and run full\n",
    "y0a = a11_p16.system1.lc['dat'][int((th_init11_p16/(2*np.pi)) * a11_p16.system1.TN),:]\n",
    "y0b = a11_p16.system2.lc['dat'][int((0/(2*np.pi)) * a11_p16.system2.TN),:]\n",
    "\n",
    "y0_p16 = np.array([y0a,y0b]).flatten()\n",
    "\n",
    "solf11_p16 = solve_ivp(_full,[0,t11_p16[-1]],y0_p16, **args11_p16)"
   ]
  },
  {
   "cell_type": "code",
   "execution_count": 163,
   "id": "29c1dadd-c778-45b9-9795-c941375ccdd3",
   "metadata": {
    "tags": []
   },
   "outputs": [],
   "source": [
    "solr11_p16 = solve_ivp(_redu_c,[0,t11_p16[-1]],[th_init11_p16],**args11_p16)"
   ]
  },
  {
   "cell_type": "code",
   "execution_count": 164,
   "id": "7817c7c2-bf2e-4627-aeeb-18fb6133f6bf",
   "metadata": {},
   "outputs": [],
   "source": [
    "solr3d11_p16 = solve_ivp(_redu_3dc,[0,t11_p16[-1]],[th_init11_p16,0,0],**args11_p16)"
   ]
  },
  {
   "cell_type": "code",
   "execution_count": 165,
   "id": "3c4a371b-ce4d-45ae-90ea-569281ca187b",
   "metadata": {},
   "outputs": [],
   "source": [
    "tp12a_p16, phase12a_p16 = get_phase(t11_p16,solf11_p16.y.T[:,:4],skipn=50,\n",
    "                                    system1=a11_p16.system1)\n",
    "tp12b_p16, phase12b_p16 = get_phase(t11_p16,solf11_p16.y.T[:,4:],skipn=50,\n",
    "                                    system1=a11_p16.system2)"
   ]
  },
  {
   "cell_type": "code",
   "execution_count": 166,
   "id": "816d5016-3f59-4b8f-8676-5ea3626d1c9e",
   "metadata": {},
   "outputs": [
    {
     "data": {
      "text/plain": [
       "(-0.5, 6.783185307179586)"
      ]
     },
     "execution_count": 166,
     "metadata": {},
     "output_type": "execute_result"
    },
    {
     "data": {
      "image/png": "[encoded data removed]",
      "text/plain": [
       "<Figure size 640x480 with 1 Axes>"
      ]
     },
     "metadata": {},
     "output_type": "display_data"
    }
   ],
   "source": [
    "fig,axs = plt.subplots()\n",
    "y = np.mod(phase12a_p16 - a11_p16.om*phase12b_p16,2*np.pi)\n",
    "axs.scatter(tp12a_p16,y,s=1,alpha=.5,color='black')\n",
    "\n",
    "axs.plot(t11_p16,np.mod(solr11_p16.y.T,2*np.pi),\n",
    "         color='tab:red')\n",
    "\n",
    "axs.set_ylim(-.5,2*np.pi+.5)"
   ]
  },
  {
   "cell_type": "markdown",
   "id": "b2455e28-ca98-43a0-a086-63cf354492d0",
   "metadata": {},
   "source": [
    "# del=0.17"
   ]
  },
  {
   "cell_type": "code",
   "execution_count": 167,
   "id": "a06a5ebc-be3a-4146-a3b5-25bc4c218b3b",
   "metadata": {},
   "outputs": [
    {
     "ename": "KeyboardInterrupt",
     "evalue": "",
     "output_type": "error",
     "traceback": [
      "\u001b[1;31m---------------------------------------------------------------------------\u001b[0m",
      "\u001b[1;31mKeyboardInterrupt\u001b[0m                         Traceback (most recent call last)",
      "Cell \u001b[1;32mIn[167], line 2\u001b[0m\n\u001b[0;32m      1\u001b[0m del11_p17 \u001b[38;5;241m=\u001b[39m \u001b[38;5;241m.17\u001b[39m\n\u001b[1;32m----> 2\u001b[0m a11_p17 \u001b[38;5;241m=\u001b[39m nm\u001b[38;5;241m.\u001b[39mnmCoupling(\u001b[38;5;241m*\u001b[39m\u001b[38;5;241m*\u001b[39mkw_nm, del1\u001b[38;5;241m=\u001b[39mdel11_p17)\n",
      "File \u001b[1;32mD:\\Dropbox\\projects\\nm_phase_locking\\code_and_data\\jupyter\\..\\nmCoupling.py:155\u001b[0m, in \u001b[0;36mnmCoupling.__init__\u001b[1;34m(self, system1, system2, NH, trunc_deriv, _n, _m, method, max_n, log_level, log_file, lowdim, save_fig, pfactor, recompute_list, load_only_expansions, del1, iso_mode, p_del)\u001b[0m\n\u001b[0;32m    149\u001b[0m \u001b[38;5;28mself\u001b[39m\u001b[38;5;241m.\u001b[39mpfactor \u001b[38;5;241m=\u001b[39m pfactor\n\u001b[0;32m    151\u001b[0m \u001b[38;5;28mself\u001b[39m\u001b[38;5;241m.\u001b[39m_expand_kws \u001b[38;5;241m=\u001b[39m {\u001b[38;5;124m'\u001b[39m\u001b[38;5;124mbasic\u001b[39m\u001b[38;5;124m'\u001b[39m:\u001b[38;5;28;01mTrue\u001b[39;00m,\u001b[38;5;124m'\u001b[39m\u001b[38;5;124mdeep\u001b[39m\u001b[38;5;124m'\u001b[39m:\u001b[38;5;28;01mTrue\u001b[39;00m,\u001b[38;5;124m'\u001b[39m\u001b[38;5;124mpower_base\u001b[39m\u001b[38;5;124m'\u001b[39m:\u001b[38;5;28;01mFalse\u001b[39;00m,\n\u001b[0;32m    152\u001b[0m                     \u001b[38;5;124m'\u001b[39m\u001b[38;5;124mpower_exp\u001b[39m\u001b[38;5;124m'\u001b[39m:\u001b[38;5;28;01mFalse\u001b[39;00m,\u001b[38;5;124m'\u001b[39m\u001b[38;5;124mmul\u001b[39m\u001b[38;5;124m'\u001b[39m:\u001b[38;5;28;01mTrue\u001b[39;00m,\u001b[38;5;124m'\u001b[39m\u001b[38;5;124mlog\u001b[39m\u001b[38;5;124m'\u001b[39m:\u001b[38;5;28;01mFalse\u001b[39;00m,\n\u001b[0;32m    153\u001b[0m                     \u001b[38;5;124m'\u001b[39m\u001b[38;5;124mmultinomial\u001b[39m\u001b[38;5;124m'\u001b[39m:\u001b[38;5;28;01mTrue\u001b[39;00m}\n\u001b[1;32m--> 155\u001b[0m system1 \u001b[38;5;241m=\u001b[39m \u001b[43mcopy\u001b[49m\u001b[38;5;241;43m.\u001b[39;49m\u001b[43mdeepcopy\u001b[49m\u001b[43m(\u001b[49m\u001b[43msystem1\u001b[49m\u001b[43m)\u001b[49m\n\u001b[0;32m    156\u001b[0m system2 \u001b[38;5;241m=\u001b[39m copy\u001b[38;5;241m.\u001b[39mdeepcopy(system2)\n\u001b[0;32m    158\u001b[0m \u001b[38;5;66;03m# ensures het. term carries through isostable calc.\u001b[39;00m\n\u001b[0;32m    159\u001b[0m \u001b[38;5;66;03m# constant het. only.\u001b[39;00m\n",
      "File \u001b[1;32m~\\miniconda3\\envs\\nbody\\lib\\copy.py:172\u001b[0m, in \u001b[0;36mdeepcopy\u001b[1;34m(x, memo, _nil)\u001b[0m\n\u001b[0;32m    170\u001b[0m                 y \u001b[38;5;241m=\u001b[39m x\n\u001b[0;32m    171\u001b[0m             \u001b[38;5;28;01melse\u001b[39;00m:\n\u001b[1;32m--> 172\u001b[0m                 y \u001b[38;5;241m=\u001b[39m \u001b[43m_reconstruct\u001b[49m\u001b[43m(\u001b[49m\u001b[43mx\u001b[49m\u001b[43m,\u001b[49m\u001b[43m \u001b[49m\u001b[43mmemo\u001b[49m\u001b[43m,\u001b[49m\u001b[43m \u001b[49m\u001b[38;5;241;43m*\u001b[39;49m\u001b[43mrv\u001b[49m\u001b[43m)\u001b[49m\n\u001b[0;32m    174\u001b[0m \u001b[38;5;66;03m# If is its own copy, don't memoize.\u001b[39;00m\n\u001b[0;32m    175\u001b[0m \u001b[38;5;28;01mif\u001b[39;00m y \u001b[38;5;129;01mis\u001b[39;00m \u001b[38;5;129;01mnot\u001b[39;00m x:\n",
      "File \u001b[1;32m~\\miniconda3\\envs\\nbody\\lib\\copy.py:271\u001b[0m, in \u001b[0;36m_reconstruct\u001b[1;34m(x, memo, func, args, state, listiter, dictiter, deepcopy)\u001b[0m\n\u001b[0;32m    269\u001b[0m \u001b[38;5;28;01mif\u001b[39;00m state \u001b[38;5;129;01mis\u001b[39;00m \u001b[38;5;129;01mnot\u001b[39;00m \u001b[38;5;28;01mNone\u001b[39;00m:\n\u001b[0;32m    270\u001b[0m     \u001b[38;5;28;01mif\u001b[39;00m deep:\n\u001b[1;32m--> 271\u001b[0m         state \u001b[38;5;241m=\u001b[39m \u001b[43mdeepcopy\u001b[49m\u001b[43m(\u001b[49m\u001b[43mstate\u001b[49m\u001b[43m,\u001b[49m\u001b[43m \u001b[49m\u001b[43mmemo\u001b[49m\u001b[43m)\u001b[49m\n\u001b[0;32m    272\u001b[0m     \u001b[38;5;28;01mif\u001b[39;00m \u001b[38;5;28mhasattr\u001b[39m(y, \u001b[38;5;124m'\u001b[39m\u001b[38;5;124m__setstate__\u001b[39m\u001b[38;5;124m'\u001b[39m):\n\u001b[0;32m    273\u001b[0m         y\u001b[38;5;241m.\u001b[39m__setstate__(state)\n",
      "File \u001b[1;32m~\\miniconda3\\envs\\nbody\\lib\\copy.py:146\u001b[0m, in \u001b[0;36mdeepcopy\u001b[1;34m(x, memo, _nil)\u001b[0m\n\u001b[0;32m    144\u001b[0m copier \u001b[38;5;241m=\u001b[39m _deepcopy_dispatch\u001b[38;5;241m.\u001b[39mget(\u001b[38;5;28mcls\u001b[39m)\n\u001b[0;32m    145\u001b[0m \u001b[38;5;28;01mif\u001b[39;00m copier \u001b[38;5;129;01mis\u001b[39;00m \u001b[38;5;129;01mnot\u001b[39;00m \u001b[38;5;28;01mNone\u001b[39;00m:\n\u001b[1;32m--> 146\u001b[0m     y \u001b[38;5;241m=\u001b[39m \u001b[43mcopier\u001b[49m\u001b[43m(\u001b[49m\u001b[43mx\u001b[49m\u001b[43m,\u001b[49m\u001b[43m \u001b[49m\u001b[43mmemo\u001b[49m\u001b[43m)\u001b[49m\n\u001b[0;32m    147\u001b[0m \u001b[38;5;28;01melse\u001b[39;00m:\n\u001b[0;32m    148\u001b[0m     \u001b[38;5;28;01mif\u001b[39;00m \u001b[38;5;28missubclass\u001b[39m(\u001b[38;5;28mcls\u001b[39m, \u001b[38;5;28mtype\u001b[39m):\n",
      "File \u001b[1;32m~\\miniconda3\\envs\\nbody\\lib\\copy.py:231\u001b[0m, in \u001b[0;36m_deepcopy_dict\u001b[1;34m(x, memo, deepcopy)\u001b[0m\n\u001b[0;32m    229\u001b[0m memo[\u001b[38;5;28mid\u001b[39m(x)] \u001b[38;5;241m=\u001b[39m y\n\u001b[0;32m    230\u001b[0m \u001b[38;5;28;01mfor\u001b[39;00m key, value \u001b[38;5;129;01min\u001b[39;00m x\u001b[38;5;241m.\u001b[39mitems():\n\u001b[1;32m--> 231\u001b[0m     y[deepcopy(key, memo)] \u001b[38;5;241m=\u001b[39m \u001b[43mdeepcopy\u001b[49m\u001b[43m(\u001b[49m\u001b[43mvalue\u001b[49m\u001b[43m,\u001b[49m\u001b[43m \u001b[49m\u001b[43mmemo\u001b[49m\u001b[43m)\u001b[49m\n\u001b[0;32m    232\u001b[0m \u001b[38;5;28;01mreturn\u001b[39;00m y\n",
      "File \u001b[1;32m~\\miniconda3\\envs\\nbody\\lib\\copy.py:146\u001b[0m, in \u001b[0;36mdeepcopy\u001b[1;34m(x, memo, _nil)\u001b[0m\n\u001b[0;32m    144\u001b[0m copier \u001b[38;5;241m=\u001b[39m _deepcopy_dispatch\u001b[38;5;241m.\u001b[39mget(\u001b[38;5;28mcls\u001b[39m)\n\u001b[0;32m    145\u001b[0m \u001b[38;5;28;01mif\u001b[39;00m copier \u001b[38;5;129;01mis\u001b[39;00m \u001b[38;5;129;01mnot\u001b[39;00m \u001b[38;5;28;01mNone\u001b[39;00m:\n\u001b[1;32m--> 146\u001b[0m     y \u001b[38;5;241m=\u001b[39m \u001b[43mcopier\u001b[49m\u001b[43m(\u001b[49m\u001b[43mx\u001b[49m\u001b[43m,\u001b[49m\u001b[43m \u001b[49m\u001b[43mmemo\u001b[49m\u001b[43m)\u001b[49m\n\u001b[0;32m    147\u001b[0m \u001b[38;5;28;01melse\u001b[39;00m:\n\u001b[0;32m    148\u001b[0m     \u001b[38;5;28;01mif\u001b[39;00m \u001b[38;5;28missubclass\u001b[39m(\u001b[38;5;28mcls\u001b[39m, \u001b[38;5;28mtype\u001b[39m):\n",
      "File \u001b[1;32m~\\miniconda3\\envs\\nbody\\lib\\copy.py:231\u001b[0m, in \u001b[0;36m_deepcopy_dict\u001b[1;34m(x, memo, deepcopy)\u001b[0m\n\u001b[0;32m    229\u001b[0m memo[\u001b[38;5;28mid\u001b[39m(x)] \u001b[38;5;241m=\u001b[39m y\n\u001b[0;32m    230\u001b[0m \u001b[38;5;28;01mfor\u001b[39;00m key, value \u001b[38;5;129;01min\u001b[39;00m x\u001b[38;5;241m.\u001b[39mitems():\n\u001b[1;32m--> 231\u001b[0m     y[deepcopy(key, memo)] \u001b[38;5;241m=\u001b[39m \u001b[43mdeepcopy\u001b[49m\u001b[43m(\u001b[49m\u001b[43mvalue\u001b[49m\u001b[43m,\u001b[49m\u001b[43m \u001b[49m\u001b[43mmemo\u001b[49m\u001b[43m)\u001b[49m\n\u001b[0;32m    232\u001b[0m \u001b[38;5;28;01mreturn\u001b[39;00m y\n",
      "File \u001b[1;32m~\\miniconda3\\envs\\nbody\\lib\\copy.py:146\u001b[0m, in \u001b[0;36mdeepcopy\u001b[1;34m(x, memo, _nil)\u001b[0m\n\u001b[0;32m    144\u001b[0m copier \u001b[38;5;241m=\u001b[39m _deepcopy_dispatch\u001b[38;5;241m.\u001b[39mget(\u001b[38;5;28mcls\u001b[39m)\n\u001b[0;32m    145\u001b[0m \u001b[38;5;28;01mif\u001b[39;00m copier \u001b[38;5;129;01mis\u001b[39;00m \u001b[38;5;129;01mnot\u001b[39;00m \u001b[38;5;28;01mNone\u001b[39;00m:\n\u001b[1;32m--> 146\u001b[0m     y \u001b[38;5;241m=\u001b[39m \u001b[43mcopier\u001b[49m\u001b[43m(\u001b[49m\u001b[43mx\u001b[49m\u001b[43m,\u001b[49m\u001b[43m \u001b[49m\u001b[43mmemo\u001b[49m\u001b[43m)\u001b[49m\n\u001b[0;32m    147\u001b[0m \u001b[38;5;28;01melse\u001b[39;00m:\n\u001b[0;32m    148\u001b[0m     \u001b[38;5;28;01mif\u001b[39;00m \u001b[38;5;28missubclass\u001b[39m(\u001b[38;5;28mcls\u001b[39m, \u001b[38;5;28mtype\u001b[39m):\n",
      "File \u001b[1;32m~\\miniconda3\\envs\\nbody\\lib\\copy.py:206\u001b[0m, in \u001b[0;36m_deepcopy_list\u001b[1;34m(x, memo, deepcopy)\u001b[0m\n\u001b[0;32m    204\u001b[0m append \u001b[38;5;241m=\u001b[39m y\u001b[38;5;241m.\u001b[39mappend\n\u001b[0;32m    205\u001b[0m \u001b[38;5;28;01mfor\u001b[39;00m a \u001b[38;5;129;01min\u001b[39;00m x:\n\u001b[1;32m--> 206\u001b[0m     append(\u001b[43mdeepcopy\u001b[49m\u001b[43m(\u001b[49m\u001b[43ma\u001b[49m\u001b[43m,\u001b[49m\u001b[43m \u001b[49m\u001b[43mmemo\u001b[49m\u001b[43m)\u001b[49m)\n\u001b[0;32m    207\u001b[0m \u001b[38;5;28;01mreturn\u001b[39;00m y\n",
      "File \u001b[1;32m~\\miniconda3\\envs\\nbody\\lib\\copy.py:172\u001b[0m, in \u001b[0;36mdeepcopy\u001b[1;34m(x, memo, _nil)\u001b[0m\n\u001b[0;32m    170\u001b[0m                 y \u001b[38;5;241m=\u001b[39m x\n\u001b[0;32m    171\u001b[0m             \u001b[38;5;28;01melse\u001b[39;00m:\n\u001b[1;32m--> 172\u001b[0m                 y \u001b[38;5;241m=\u001b[39m \u001b[43m_reconstruct\u001b[49m\u001b[43m(\u001b[49m\u001b[43mx\u001b[49m\u001b[43m,\u001b[49m\u001b[43m \u001b[49m\u001b[43mmemo\u001b[49m\u001b[43m,\u001b[49m\u001b[43m \u001b[49m\u001b[38;5;241;43m*\u001b[39;49m\u001b[43mrv\u001b[49m\u001b[43m)\u001b[49m\n\u001b[0;32m    174\u001b[0m \u001b[38;5;66;03m# If is its own copy, don't memoize.\u001b[39;00m\n\u001b[0;32m    175\u001b[0m \u001b[38;5;28;01mif\u001b[39;00m y \u001b[38;5;129;01mis\u001b[39;00m \u001b[38;5;129;01mnot\u001b[39;00m x:\n",
      "File \u001b[1;32m~\\miniconda3\\envs\\nbody\\lib\\copy.py:265\u001b[0m, in \u001b[0;36m_reconstruct\u001b[1;34m(x, memo, func, args, state, listiter, dictiter, deepcopy)\u001b[0m\n\u001b[0;32m    263\u001b[0m \u001b[38;5;28;01mif\u001b[39;00m deep \u001b[38;5;129;01mand\u001b[39;00m args:\n\u001b[0;32m    264\u001b[0m     args \u001b[38;5;241m=\u001b[39m (deepcopy(arg, memo) \u001b[38;5;28;01mfor\u001b[39;00m arg \u001b[38;5;129;01min\u001b[39;00m args)\n\u001b[1;32m--> 265\u001b[0m y \u001b[38;5;241m=\u001b[39m \u001b[43mfunc\u001b[49m\u001b[43m(\u001b[49m\u001b[38;5;241;43m*\u001b[39;49m\u001b[43margs\u001b[49m\u001b[43m)\u001b[49m\n\u001b[0;32m    266\u001b[0m \u001b[38;5;28;01mif\u001b[39;00m deep:\n\u001b[0;32m    267\u001b[0m     memo[\u001b[38;5;28mid\u001b[39m(x)] \u001b[38;5;241m=\u001b[39m y\n",
      "File \u001b[1;32m~\\miniconda3\\envs\\nbody\\lib\\copy.py:264\u001b[0m, in \u001b[0;36m<genexpr>\u001b[1;34m(.0)\u001b[0m\n\u001b[0;32m    262\u001b[0m deep \u001b[38;5;241m=\u001b[39m memo \u001b[38;5;129;01mis\u001b[39;00m \u001b[38;5;129;01mnot\u001b[39;00m \u001b[38;5;28;01mNone\u001b[39;00m\n\u001b[0;32m    263\u001b[0m \u001b[38;5;28;01mif\u001b[39;00m deep \u001b[38;5;129;01mand\u001b[39;00m args:\n\u001b[1;32m--> 264\u001b[0m     args \u001b[38;5;241m=\u001b[39m (\u001b[43mdeepcopy\u001b[49m\u001b[43m(\u001b[49m\u001b[43marg\u001b[49m\u001b[43m,\u001b[49m\u001b[43m \u001b[49m\u001b[43mmemo\u001b[49m\u001b[43m)\u001b[49m \u001b[38;5;28;01mfor\u001b[39;00m arg \u001b[38;5;129;01min\u001b[39;00m args)\n\u001b[0;32m    265\u001b[0m y \u001b[38;5;241m=\u001b[39m func(\u001b[38;5;241m*\u001b[39margs)\n\u001b[0;32m    266\u001b[0m \u001b[38;5;28;01mif\u001b[39;00m deep:\n",
      "File \u001b[1;32m~\\miniconda3\\envs\\nbody\\lib\\copy.py:172\u001b[0m, in \u001b[0;36mdeepcopy\u001b[1;34m(x, memo, _nil)\u001b[0m\n\u001b[0;32m    170\u001b[0m                 y \u001b[38;5;241m=\u001b[39m x\n\u001b[0;32m    171\u001b[0m             \u001b[38;5;28;01melse\u001b[39;00m:\n\u001b[1;32m--> 172\u001b[0m                 y \u001b[38;5;241m=\u001b[39m \u001b[43m_reconstruct\u001b[49m\u001b[43m(\u001b[49m\u001b[43mx\u001b[49m\u001b[43m,\u001b[49m\u001b[43m \u001b[49m\u001b[43mmemo\u001b[49m\u001b[43m,\u001b[49m\u001b[43m \u001b[49m\u001b[38;5;241;43m*\u001b[39;49m\u001b[43mrv\u001b[49m\u001b[43m)\u001b[49m\n\u001b[0;32m    174\u001b[0m \u001b[38;5;66;03m# If is its own copy, don't memoize.\u001b[39;00m\n\u001b[0;32m    175\u001b[0m \u001b[38;5;28;01mif\u001b[39;00m y \u001b[38;5;129;01mis\u001b[39;00m \u001b[38;5;129;01mnot\u001b[39;00m x:\n",
      "File \u001b[1;32m~\\miniconda3\\envs\\nbody\\lib\\copy.py:265\u001b[0m, in \u001b[0;36m_reconstruct\u001b[1;34m(x, memo, func, args, state, listiter, dictiter, deepcopy)\u001b[0m\n\u001b[0;32m    263\u001b[0m \u001b[38;5;28;01mif\u001b[39;00m deep \u001b[38;5;129;01mand\u001b[39;00m args:\n\u001b[0;32m    264\u001b[0m     args \u001b[38;5;241m=\u001b[39m (deepcopy(arg, memo) \u001b[38;5;28;01mfor\u001b[39;00m arg \u001b[38;5;129;01min\u001b[39;00m args)\n\u001b[1;32m--> 265\u001b[0m y \u001b[38;5;241m=\u001b[39m \u001b[43mfunc\u001b[49m\u001b[43m(\u001b[49m\u001b[38;5;241;43m*\u001b[39;49m\u001b[43margs\u001b[49m\u001b[43m)\u001b[49m\n\u001b[0;32m    266\u001b[0m \u001b[38;5;28;01mif\u001b[39;00m deep:\n\u001b[0;32m    267\u001b[0m     memo[\u001b[38;5;28mid\u001b[39m(x)] \u001b[38;5;241m=\u001b[39m y\n",
      "File \u001b[1;32m~\\miniconda3\\envs\\nbody\\lib\\copyreg.py:101\u001b[0m, in \u001b[0;36m__newobj__\u001b[1;34m(cls, *args)\u001b[0m\n\u001b[0;32m    100\u001b[0m \u001b[38;5;28;01mdef\u001b[39;00m \u001b[38;5;21m__newobj__\u001b[39m(\u001b[38;5;28mcls\u001b[39m, \u001b[38;5;241m*\u001b[39margs):\n\u001b[1;32m--> 101\u001b[0m     \u001b[38;5;28;01mreturn\u001b[39;00m \u001b[38;5;28;43mcls\u001b[39;49m\u001b[38;5;241;43m.\u001b[39;49m\u001b[38;5;21;43m__new__\u001b[39;49m\u001b[43m(\u001b[49m\u001b[38;5;28;43mcls\u001b[39;49m\u001b[43m,\u001b[49m\u001b[43m \u001b[49m\u001b[38;5;241;43m*\u001b[39;49m\u001b[43margs\u001b[49m\u001b[43m)\u001b[49m\n",
      "File \u001b[1;32m~\\miniconda3\\envs\\nbody\\lib\\site-packages\\sympy\\core\\cache.py:72\u001b[0m, in \u001b[0;36m__cacheit.<locals>.func_wrapper.<locals>.wrapper\u001b[1;34m(*args, **kwargs)\u001b[0m\n\u001b[0;32m     69\u001b[0m \u001b[38;5;129m@wraps\u001b[39m(func)\n\u001b[0;32m     70\u001b[0m \u001b[38;5;28;01mdef\u001b[39;00m \u001b[38;5;21mwrapper\u001b[39m(\u001b[38;5;241m*\u001b[39margs, \u001b[38;5;241m*\u001b[39m\u001b[38;5;241m*\u001b[39mkwargs):\n\u001b[0;32m     71\u001b[0m     \u001b[38;5;28;01mtry\u001b[39;00m:\n\u001b[1;32m---> 72\u001b[0m         retval \u001b[38;5;241m=\u001b[39m cfunc(\u001b[38;5;241m*\u001b[39margs, \u001b[38;5;241m*\u001b[39m\u001b[38;5;241m*\u001b[39mkwargs)\n\u001b[0;32m     73\u001b[0m     \u001b[38;5;28;01mexcept\u001b[39;00m \u001b[38;5;167;01mTypeError\u001b[39;00m \u001b[38;5;28;01mas\u001b[39;00m e:\n\u001b[0;32m     74\u001b[0m         \u001b[38;5;28;01mif\u001b[39;00m \u001b[38;5;129;01mnot\u001b[39;00m e\u001b[38;5;241m.\u001b[39margs \u001b[38;5;129;01mor\u001b[39;00m \u001b[38;5;129;01mnot\u001b[39;00m e\u001b[38;5;241m.\u001b[39margs[\u001b[38;5;241m0\u001b[39m]\u001b[38;5;241m.\u001b[39mstartswith(\u001b[38;5;124m'\u001b[39m\u001b[38;5;124munhashable type:\u001b[39m\u001b[38;5;124m'\u001b[39m):\n",
      "File \u001b[1;32m~\\miniconda3\\envs\\nbody\\lib\\site-packages\\sympy\\core\\operations.py:98\u001b[0m, in \u001b[0;36mAssocOp.__new__\u001b[1;34m(cls, evaluate, _sympify, *args)\u001b[0m\n\u001b[0;32m     95\u001b[0m \u001b[38;5;28;01mif\u001b[39;00m \u001b[38;5;28mlen\u001b[39m(args) \u001b[38;5;241m==\u001b[39m \u001b[38;5;241m1\u001b[39m:\n\u001b[0;32m     96\u001b[0m     \u001b[38;5;28;01mreturn\u001b[39;00m args[\u001b[38;5;241m0\u001b[39m]\n\u001b[1;32m---> 98\u001b[0m c_part, nc_part, order_symbols \u001b[38;5;241m=\u001b[39m \u001b[38;5;28;43mcls\u001b[39;49m\u001b[38;5;241;43m.\u001b[39;49m\u001b[43mflatten\u001b[49m\u001b[43m(\u001b[49m\u001b[43margs\u001b[49m\u001b[43m)\u001b[49m\n\u001b[0;32m     99\u001b[0m is_commutative \u001b[38;5;241m=\u001b[39m \u001b[38;5;129;01mnot\u001b[39;00m nc_part\n\u001b[0;32m    100\u001b[0m obj \u001b[38;5;241m=\u001b[39m \u001b[38;5;28mcls\u001b[39m\u001b[38;5;241m.\u001b[39m_from_args(c_part \u001b[38;5;241m+\u001b[39m nc_part, is_commutative)\n",
      "File \u001b[1;32m~\\miniconda3\\envs\\nbody\\lib\\site-packages\\sympy\\core\\mul.py:703\u001b[0m, in \u001b[0;36mMul.flatten\u001b[1;34m(cls, seq)\u001b[0m\n\u001b[0;32m    700\u001b[0m c_part \u001b[38;5;241m=\u001b[39m _new\n\u001b[0;32m    702\u001b[0m \u001b[38;5;66;03m# order commutative part canonically\u001b[39;00m\n\u001b[1;32m--> 703\u001b[0m \u001b[43m_mulsort\u001b[49m\u001b[43m(\u001b[49m\u001b[43mc_part\u001b[49m\u001b[43m)\u001b[49m\n\u001b[0;32m    705\u001b[0m \u001b[38;5;66;03m# current code expects coeff to be always in slot-0\u001b[39;00m\n\u001b[0;32m    706\u001b[0m \u001b[38;5;28;01mif\u001b[39;00m coeff \u001b[38;5;129;01mis\u001b[39;00m \u001b[38;5;129;01mnot\u001b[39;00m S\u001b[38;5;241m.\u001b[39mOne:\n",
      "File \u001b[1;32m~\\miniconda3\\envs\\nbody\\lib\\site-packages\\sympy\\core\\mul.py:35\u001b[0m, in \u001b[0;36m_mulsort\u001b[1;34m(args)\u001b[0m\n\u001b[0;32m     33\u001b[0m \u001b[38;5;28;01mdef\u001b[39;00m \u001b[38;5;21m_mulsort\u001b[39m(args):\n\u001b[0;32m     34\u001b[0m     \u001b[38;5;66;03m# in-place sorting of args\u001b[39;00m\n\u001b[1;32m---> 35\u001b[0m     \u001b[43margs\u001b[49m\u001b[38;5;241;43m.\u001b[39;49m\u001b[43msort\u001b[49m\u001b[43m(\u001b[49m\u001b[43mkey\u001b[49m\u001b[38;5;241;43m=\u001b[39;49m\u001b[43m_args_sortkey\u001b[49m\u001b[43m)\u001b[49m\n",
      "File \u001b[1;32m~\\miniconda3\\envs\\nbody\\lib\\site-packages\\sympy\\core\\basic.py:266\u001b[0m, in \u001b[0;36mBasic.compare\u001b[1;34m(self, other)\u001b[0m\n\u001b[0;32m    264\u001b[0m n1 \u001b[38;5;241m=\u001b[39m \u001b[38;5;28mself\u001b[39m\u001b[38;5;241m.\u001b[39m\u001b[38;5;18m__class__\u001b[39m\n\u001b[0;32m    265\u001b[0m n2 \u001b[38;5;241m=\u001b[39m other\u001b[38;5;241m.\u001b[39m\u001b[38;5;18m__class__\u001b[39m\n\u001b[1;32m--> 266\u001b[0m c \u001b[38;5;241m=\u001b[39m \u001b[43m_old_compare\u001b[49m\u001b[43m(\u001b[49m\u001b[43mn1\u001b[49m\u001b[43m,\u001b[49m\u001b[43m \u001b[49m\u001b[43mn2\u001b[49m\u001b[43m)\u001b[49m\n\u001b[0;32m    267\u001b[0m \u001b[38;5;28;01mif\u001b[39;00m c:\n\u001b[0;32m    268\u001b[0m     \u001b[38;5;28;01mreturn\u001b[39;00m c\n",
      "File \u001b[1;32m~\\miniconda3\\envs\\nbody\\lib\\site-packages\\sympy\\core\\basic.py:52\u001b[0m, in \u001b[0;36m_old_compare\u001b[1;34m(x, y)\u001b[0m\n\u001b[0;32m     50\u001b[0m     i1 \u001b[38;5;241m=\u001b[39m UNKNOWN\n\u001b[0;32m     51\u001b[0m \u001b[38;5;28;01mtry\u001b[39;00m:\n\u001b[1;32m---> 52\u001b[0m     i2 \u001b[38;5;241m=\u001b[39m \u001b[43mordering_of_classes\u001b[49m\u001b[38;5;241;43m.\u001b[39;49m\u001b[43mindex\u001b[49m\u001b[43m(\u001b[49m\u001b[43mn2\u001b[49m\u001b[43m)\u001b[49m\n\u001b[0;32m     53\u001b[0m \u001b[38;5;28;01mexcept\u001b[39;00m \u001b[38;5;167;01mValueError\u001b[39;00m:\n\u001b[0;32m     54\u001b[0m     i2 \u001b[38;5;241m=\u001b[39m UNKNOWN\n",
      "\u001b[1;31mKeyboardInterrupt\u001b[0m: "
     ]
    }
   ],
   "source": [
    "del11_p17 = .17\n",
    "a11_p17 = nm.nmCoupling(**kw_nm, del1=del11_p17)"
   ]
  },
  {
   "cell_type": "markdown",
   "id": "0cfdfd38-fb43-4425-ab80-efecc8cff75f",
   "metadata": {},
   "source": [
    "## Get Branches Full"
   ]
  },
  {
   "cell_type": "code",
   "execution_count": null,
   "id": "b3aae29e-3f03-4192-82c8-215708e3bc90",
   "metadata": {},
   "outputs": [],
   "source": [
    "# kw_follow = {'a':a11_p17,'del1':del11_p17,'recompute':False,\n",
    "#             'bifdir':'bif1d_gwt/','_full_rhs':_full}"
   ]
  },
  {
   "cell_type": "code",
   "execution_count": null,
   "id": "21b3fdcd-22c0-4247-8dd6-4395938af4bc",
   "metadata": {},
   "outputs": [],
   "source": [
    "# data_list = []"
   ]
  },
  {
   "cell_type": "code",
   "execution_count": null,
   "id": "75f3d693-de56-42e4-9e79-cf8be221ef82",
   "metadata": {},
   "outputs": [],
   "source": [
    "# in_dicts = [dict(init=3,eps_init=0.02,eps_final=0.0005,deps=-.005),\n",
    "#             dict(init=3,eps_init=0.02,eps_final=0.1,deps=.01)]"
   ]
  },
  {
   "cell_type": "code",
   "execution_count": null,
   "id": "f98212d3-3868-4ea3-8377-fe4272fc6a75",
   "metadata": {
    "scrolled": true
   },
   "outputs": [],
   "source": [
    "# for i in range(len(in_dicts)):\n",
    "#     in1 = in_dicts[i]\n",
    "#     dat = follow_phase_diffs(**in1,**kw_follow)\n",
    "#     data_list.append(dat)\n",
    "# fname = kw_follow['bifdir']+'hyper_gwt_11_p17.txt'"
   ]
  },
  {
   "cell_type": "code",
   "execution_count": null,
   "id": "d9448ecb-e564-446a-b891-abef729e3340",
   "metadata": {},
   "outputs": [],
   "source": [
    "# # save hyperparameters\n",
    "# hyp_inputs = np.zeros([len(in_dicts),4])\n",
    "# for i in range(len(in_dicts)):\n",
    "#     hyp_inputs[i,0] = in_dicts[i]['init']\n",
    "#     hyp_inputs[i,1] = in_dicts[i]['eps_init']\n",
    "#     hyp_inputs[i,2] = in_dicts[i]['eps_final']\n",
    "#     hyp_inputs[i,3] = in_dicts[i]['deps']\n",
    "# np.savetxt(fname,hyp_inputs)"
   ]
  },
  {
   "cell_type": "markdown",
   "id": "1984c4a0-923c-4b22-8703-6c4de329f49e",
   "metadata": {},
   "source": [
    "## Get Branches 3D"
   ]
  },
  {
   "cell_type": "code",
   "execution_count": null,
   "id": "27f02019-6873-4db6-a50b-b2ec531bd4b0",
   "metadata": {},
   "outputs": [],
   "source": [
    "# kw_follow_r3d = {'a':a11_p17,'rhs':_redu_3dc,'recompute':False,\n",
    "#                  'bifdir':'bif1d_gwt/'}"
   ]
  },
  {
   "cell_type": "code",
   "execution_count": null,
   "id": "5ff83cd6-60d6-4d25-937c-0921dbca887a",
   "metadata": {},
   "outputs": [],
   "source": [
    "# data_list_r3d = []"
   ]
  },
  {
   "cell_type": "code",
   "execution_count": null,
   "id": "de1856ae-c58d-4ade-9928-da151fcabec9",
   "metadata": {},
   "outputs": [],
   "source": [
    "# in_dicts_r3d = [dict(init=1,eps_tup=(.01,.16,.01)),\n",
    "#                 dict(init=1,eps_tup=(.01,.005,-.0005))]"
   ]
  },
  {
   "cell_type": "code",
   "execution_count": null,
   "id": "6d9e453e-0766-48d5-a5ea-c9499a306274",
   "metadata": {
    "scrolled": true
   },
   "outputs": [],
   "source": [
    "# for i in range(len(in_dicts_r3d)):\n",
    "#     in1 = in_dicts_r3d[i]\n",
    "#     dat = follow_locking_3d(**in1,**kw_follow_r3d)\n",
    "#     data_list_r3d.append(dat)\n",
    "# fname = kw_follow_r3d['bifdir']+'hyper_r3d_gwt_11_p17.txt'"
   ]
  },
  {
   "cell_type": "code",
   "execution_count": null,
   "id": "ac2f5b89-66d9-48ca-8122-34c533faa8f9",
   "metadata": {},
   "outputs": [],
   "source": [
    "# # save hyperparameters\n",
    "# hyp_inputs = np.zeros([len(in_dicts_r3d),4])\n",
    "# for i in range(len(in_dicts_r3d)):\n",
    "#     hyp_inputs[i,0] = in_dicts_r3d[i]['init']\n",
    "#     hyp_inputs[i,1] = in_dicts_r3d[i]['eps_tup'][0]\n",
    "#     hyp_inputs[i,2] = in_dicts_r3d[i]['eps_tup'][1]\n",
    "#     hyp_inputs[i,3] = in_dicts_r3d[i]['eps_tup'][2]\n",
    "# np.savetxt(fname,hyp_inputs)"
   ]
  },
  {
   "cell_type": "markdown",
   "id": "f82968e5-3b80-44e0-8d63-e154f169fb4a",
   "metadata": {},
   "source": [
    "## Plot"
   ]
  },
  {
   "cell_type": "code",
   "execution_count": null,
   "id": "3b2b7f56-9be6-4326-940f-071e140643ab",
   "metadata": {},
   "outputs": [],
   "source": [
    "quick_plot_combined(a11_p17,\n",
    "                    #kw_f={'data_list':data_list},\n",
    "                    #kw_r3d={'data_list':data_list_r3d},\n",
    "                    kw_r={'etup':etup11})"
   ]
  },
  {
   "cell_type": "markdown",
   "id": "be32a61e-a096-43b0-b67b-a62569581985",
   "metadata": {},
   "source": [
    "## Sims"
   ]
  },
  {
   "cell_type": "code",
   "execution_count": null,
   "id": "bbf923db-363f-49d6-94c1-6b3e53eb51b2",
   "metadata": {},
   "outputs": [],
   "source": [
    "# coupling and init\n",
    "eps11_p17 = 0.05\n",
    "th_init11_p17 = 2."
   ]
  },
  {
   "cell_type": "code",
   "execution_count": null,
   "id": "c5ce050e-90a3-49c0-8e3b-1190b5616c7d",
   "metadata": {},
   "outputs": [],
   "source": [
    "# sim params\n",
    "dt = .01;T_p17=1000\n",
    "t11_p17 = np.arange(0,T_p17,dt)\n",
    "args11_p17 = {'args':(a11_p17,eps11_p17,del11_p17),\n",
    "             't_eval':t11_p17,**kw_sim,'dense_output':True}"
   ]
  },
  {
   "cell_type": "code",
   "execution_count": null,
   "id": "7a1a4383-99b6-40f4-8088-3465aa6ece6d",
   "metadata": {
    "tags": []
   },
   "outputs": [],
   "source": [
    "# initialize and run full\n",
    "y0a = a11_p17.system1.lc['dat'][int((th_init11_p17/(2*np.pi)) * a11_p17.system1.TN),:]\n",
    "y0b = a11_p17.system2.lc['dat'][int((0/(2*np.pi)) * a11_p17.system2.TN),:]\n",
    "\n",
    "y0_p17 = np.array([y0a,y0b]).flatten()\n",
    "\n",
    "solf11_p17 = solve_ivp(_full,[0,t11_p17[-1]],y0_p17, **args11_p17)"
   ]
  },
  {
   "cell_type": "code",
   "execution_count": null,
   "id": "bdeaddf7-e0ef-4803-ab70-22b1e3d9a10e",
   "metadata": {
    "tags": []
   },
   "outputs": [],
   "source": [
    "solr11_p17 = solve_ivp(_redu_c,[0,t11_p17[-1]],[th_init11_p17],**args11_p17)"
   ]
  },
  {
   "cell_type": "code",
   "execution_count": null,
   "id": "88c7c393-3a14-4f20-a5d4-d2637eec1399",
   "metadata": {},
   "outputs": [],
   "source": [
    "tp12a_p17, phase12a_p17 = get_phase(t11_p17,solf11_p17.y.T[:,:4],skipn=50,\n",
    "                                    system1=a11_p17.system1)\n",
    "tp12b_p17, phase12b_p17 = get_phase(t11_p17,solf11_p17.y.T[:,4:],skipn=50,\n",
    "                                    system1=a11_p17.system2)"
   ]
  },
  {
   "cell_type": "code",
   "execution_count": null,
   "id": "d5eac73c-e440-4cfd-85e1-89cdeb5ff256",
   "metadata": {},
   "outputs": [],
   "source": [
    "fig,axs = plt.subplots()\n",
    "y = np.mod(phase12a_p17 - a11_p17.om*phase12b_p17,2*np.pi)\n",
    "axs.scatter(tp12a_p17,y,s=1,alpha=.5,color='black')\n",
    "\n",
    "axs.plot(t11_p17,np.mod(solr11_p17.y.T,2*np.pi),\n",
    "         color='tab:red')\n",
    "\n",
    "axs.set_ylim(-.5,2*np.pi+.5)"
   ]
  },
  {
   "cell_type": "markdown",
   "id": "6852e3b3-8bc5-4227-94c8-c2b30beeac8d",
   "metadata": {},
   "source": [
    "# del=0.2"
   ]
  },
  {
   "cell_type": "code",
   "execution_count": null,
   "id": "196734e8-30a7-4917-9fe5-b52ff39093f9",
   "metadata": {},
   "outputs": [],
   "source": [
    "del11_p2 = .2\n",
    "a11_p2 = nm.nmCoupling(**kw_nm, del1=del11_p2)"
   ]
  },
  {
   "cell_type": "markdown",
   "id": "f4711f95-f536-4356-9513-412d234125ff",
   "metadata": {},
   "source": [
    "## Get Branches Full"
   ]
  },
  {
   "cell_type": "code",
   "execution_count": null,
   "id": "be00abf6-70b7-4eee-9b73-67f2f5449868",
   "metadata": {},
   "outputs": [],
   "source": [
    "# kw_follow = {'a':a11_p2,'del1':del11_p2,'recompute':False,\n",
    "#             'bifdir':'bif1d_gwt/','max_iter':2,'_full_rhs':_full}"
   ]
  },
  {
   "cell_type": "code",
   "execution_count": null,
   "id": "f7089373-3e09-47c6-a20d-0c77ca5f729e",
   "metadata": {},
   "outputs": [],
   "source": [
    "# data_list = []"
   ]
  },
  {
   "cell_type": "code",
   "execution_count": null,
   "id": "8eef0b01-3ae5-4037-ab10-bc3a1bb6aa30",
   "metadata": {},
   "outputs": [],
   "source": [
    "# in_dicts = [dict(init=3,eps_init=0.01,eps_final=0.006,deps=-.002),\n",
    "#             dict(init=3,eps_init=0.01,eps_final=0.014,deps=.002)]"
   ]
  },
  {
   "cell_type": "code",
   "execution_count": null,
   "id": "5648a01c-625c-483f-9f80-71839e1b17d5",
   "metadata": {},
   "outputs": [],
   "source": [
    "# for i in range(len(in_dicts)):\n",
    "#     in1 = in_dicts[i]\n",
    "#     dat = follow_phase_diffs(**in1,**kw_follow)\n",
    "#     data_list.append(dat)\n",
    "# fname = kw_follow['bifdir']+'hyper_gwt_11_p2.txt'"
   ]
  },
  {
   "cell_type": "code",
   "execution_count": null,
   "id": "eb2a9bcc-9506-40d1-a3e0-0171ed31830e",
   "metadata": {},
   "outputs": [],
   "source": [
    "# # save hyperparameters\n",
    "# hyp_inputs = np.zeros([len(in_dicts),4])\n",
    "# for i in range(len(in_dicts)):\n",
    "#     hyp_inputs[i,0] = in_dicts[i]['init']\n",
    "#     hyp_inputs[i,1] = in_dicts[i]['eps_init']\n",
    "#     hyp_inputs[i,2] = in_dicts[i]['eps_final']\n",
    "#     hyp_inputs[i,3] = in_dicts[i]['deps']\n",
    "# np.savetxt(fname,hyp_inputs)"
   ]
  },
  {
   "cell_type": "markdown",
   "id": "e008d578-33cd-4f6e-a1dd-62eb82914cc9",
   "metadata": {},
   "source": [
    "## Get Branches 3D"
   ]
  },
  {
   "cell_type": "code",
   "execution_count": null,
   "id": "806d697e-b1f1-4a8a-b1e8-d02c05c0fbda",
   "metadata": {},
   "outputs": [],
   "source": [
    "# kw_follow_r3d = {'a':a11_p2,'rhs':_redu_3dc,'recompute':False,\n",
    "#                  'bifdir':'bif1d_gwt/','max_iter':3}"
   ]
  },
  {
   "cell_type": "code",
   "execution_count": null,
   "id": "1cdb2876-1405-4d05-b9be-1b8db73ee6d6",
   "metadata": {},
   "outputs": [],
   "source": [
    "# data_list_r3d = []"
   ]
  },
  {
   "cell_type": "code",
   "execution_count": null,
   "id": "4dae73d7-fa41-46d3-9b4f-83f3e97e5ae3",
   "metadata": {},
   "outputs": [],
   "source": [
    "# in_dicts_r3d = [dict(init=1,eps_tup=(.01,.013,.01)),\n",
    "#                 dict(init=1,eps_tup=(.01,.007,-.001))]"
   ]
  },
  {
   "cell_type": "code",
   "execution_count": null,
   "id": "c93e0738-ed30-47a8-8b51-5a9f0716e12f",
   "metadata": {
    "scrolled": true
   },
   "outputs": [],
   "source": [
    "# for i in range(len(in_dicts_r3d)):\n",
    "#     in1 = in_dicts_r3d[i]\n",
    "#     dat = follow_locking_3d(**in1,**kw_follow_r3d)\n",
    "#     data_list_r3d.append(dat)\n",
    "# fname = kw_follow_r3d['bifdir']+'hyper_r3d_gwt_11_p2.txt'"
   ]
  },
  {
   "cell_type": "code",
   "execution_count": null,
   "id": "d2a6033c-534d-456b-8030-7c6699dda794",
   "metadata": {},
   "outputs": [],
   "source": [
    "# # save hyperparameters\n",
    "# hyp_inputs = np.zeros([len(in_dicts_r3d),4])\n",
    "# for i in range(len(in_dicts_r3d)):\n",
    "#     hyp_inputs[i,0] = in_dicts_r3d[i]['init']\n",
    "#     hyp_inputs[i,1] = in_dicts_r3d[i]['eps_tup'][0]\n",
    "#     hyp_inputs[i,2] = in_dicts_r3d[i]['eps_tup'][1]\n",
    "#     hyp_inputs[i,3] = in_dicts_r3d[i]['eps_tup'][2]\n",
    "# np.savetxt(fname,hyp_inputs)"
   ]
  },
  {
   "cell_type": "markdown",
   "id": "524b3585-26c4-4170-a00b-eba01458b983",
   "metadata": {},
   "source": [
    "## Plot"
   ]
  },
  {
   "cell_type": "code",
   "execution_count": null,
   "id": "34d35da5-78a9-4662-878b-5aeff72b55de",
   "metadata": {},
   "outputs": [],
   "source": [
    "quick_plot_combined(a11_p2,\n",
    "                    #kw_f={'data_list':data_list},\n",
    "                    #kw_r3d={'data_list':data_list_r3d},\n",
    "                    kw_r={'etup':etup11})"
   ]
  },
  {
   "cell_type": "markdown",
   "id": "a6d3dbf3-f17d-4bec-943f-7d1857b72441",
   "metadata": {},
   "source": [
    "## Sims"
   ]
  },
  {
   "cell_type": "code",
   "execution_count": null,
   "id": "2de3e6fa-06fb-4a95-b908-fe6ecdf5617c",
   "metadata": {},
   "outputs": [],
   "source": [
    "# coupling and init\n",
    "eps11_p2 = 0.1\n",
    "th_init11_p2 = 2.229"
   ]
  },
  {
   "cell_type": "code",
   "execution_count": null,
   "id": "666a7493-e9ae-46a3-911a-c5903295e147",
   "metadata": {},
   "outputs": [],
   "source": [
    "init = get_initial_phase_diff_c(th_init11_p2,\n",
    "                                a11_p2,eps11_p2,\n",
    "                                0,_full_rhs=_full)\n",
    "\n",
    "# 'a':a11_p2,'del1':del11_p2,'recompute':False,\n",
    "# 'bifdir':'bif1d_gwt/','_full_rhs':_full"
   ]
  },
  {
   "cell_type": "code",
   "execution_count": null,
   "id": "68441801-9645-4369-bbae-d006848f7d8f",
   "metadata": {},
   "outputs": [],
   "source": [
    "# sim params\n",
    "dt = .01;T_p2=300\n",
    "t11_p2 = np.arange(0,T_p2,dt)\n",
    "args11_p2 = {'args':(a11_p2,eps11_p2,del11_p2),\n",
    "             't_eval':t11_p2,**kw_sim,'dense_output':True}"
   ]
  },
  {
   "cell_type": "code",
   "execution_count": null,
   "id": "b591810d-1559-4252-bd5d-723f5a0fd13f",
   "metadata": {},
   "outputs": [],
   "source": [
    "# view trajectory and compare to estimated period\n",
    "solf11_p2 = solve_ivp(_full,[0,t11_p2[-1]], init[:-1],\n",
    "                      **args11_p2)"
   ]
  },
  {
   "cell_type": "code",
   "execution_count": null,
   "id": "398da537-6eb0-4b81-97db-5d6384374e8d",
   "metadata": {},
   "outputs": [],
   "source": [
    "get_period(solf11_p2,idx=0,prominence=.25,idx_shift=0)"
   ]
  },
  {
   "cell_type": "code",
   "execution_count": null,
   "id": "c2a04ed5-842d-4432-9b15-6a5e950873e9",
   "metadata": {
    "scrolled": true
   },
   "outputs": [],
   "source": [
    "fig, axs = plt.subplots()\n",
    "axs.plot(solf11_p2.t,solf11_p2.y.T[:,0]+.7)\n",
    "axs.plot(solf11_p2.t,solf11_p2.y.T[:,4])\n",
    "axs.scatter([0,5.8974],[0,0])\n",
    "axs.set_xlim(0,50)"
   ]
  },
  {
   "cell_type": "code",
   "execution_count": null,
   "id": "b514e208-519e-4466-bb2c-30f8ad8d9fa0",
   "metadata": {
    "tags": []
   },
   "outputs": [],
   "source": [
    "# initialize and run full\n",
    "y0a = a11_p2.system1.lc['dat'][int((th_init11_p2/(2*np.pi)) * a11_p2.system1.TN),:]\n",
    "y0b = a11_p2.system2.lc['dat'][int((0/(2*np.pi)) * a11_p2.system2.TN),:]\n",
    "\n",
    "y0_p2 = np.array([y0a,y0b]).flatten()\n",
    "\n",
    "solf11_p2 = solve_ivp(_full,[0,t11_p2[-1]],\n",
    "                        y0_p2, **args11_p2)"
   ]
  },
  {
   "cell_type": "code",
   "execution_count": null,
   "id": "26e67110-b992-4884-a22c-ef1c0f1e1954",
   "metadata": {
    "tags": []
   },
   "outputs": [],
   "source": [
    "solr11_p2 = solve_ivp(_redu_c,[0,t11_p2[-1]],\n",
    "                     [th_init11_p2],**args11_p2)"
   ]
  },
  {
   "cell_type": "code",
   "execution_count": null,
   "id": "b42aa655-d6c6-48be-a766-a7e4a82ee4a5",
   "metadata": {},
   "outputs": [],
   "source": [
    "# solr12b_p2 = solve_ivp(_redu_3dc,[0,t11_p2[-1]],\n",
    "#                     [th_init11_p2,0,0],**args11_p2)"
   ]
  },
  {
   "cell_type": "code",
   "execution_count": null,
   "id": "74b26fa0-e5d0-4cea-bcec-9be81b9f1866",
   "metadata": {},
   "outputs": [],
   "source": [
    "tp12a_p2, phase12a_p2 = get_phase(t11_p2,solf11_p2.y.T[:,:4],\n",
    "                            skipn=50,system1=a11_p2.system1)\n",
    "tp12b_p2, phase12b_p2 = get_phase(t11_p2,solf11_p2.y.T[:,4:],\n",
    "                            skipn=50,system1=a11_p2.system2)"
   ]
  },
  {
   "cell_type": "code",
   "execution_count": null,
   "id": "18297862-1bd2-467f-b3af-964e0093f295",
   "metadata": {},
   "outputs": [],
   "source": [
    "fig,axs = plt.subplots()\n",
    "y = np.mod(phase12a_p2 - a11_p2.om*phase12b_p2,2*np.pi)\n",
    "axs.scatter(tp12a_p2,y,s=1,alpha=.5,color='black')\n",
    "\n",
    "axs.plot(t11_p2,np.mod(solr11_p2.y.T,2*np.pi),\n",
    "         color='tab:red')\n",
    "\n",
    "axs.set_ylim(-.5,2*np.pi+.5)"
   ]
  },
  {
   "cell_type": "code",
   "execution_count": null,
   "id": "aec33530-1573-4fe6-ae0c-1ae78ef42afd",
   "metadata": {},
   "outputs": [],
   "source": []
  },
  {
   "cell_type": "markdown",
   "id": "2a8fac06-e7f9-46d1-8a26-d69432b41989",
   "metadata": {},
   "source": [
    "##### "
   ]
  }
 ],
 "metadata": {
  "jpcodetoc-autonumbering": false,
  "kernelspec": {
   "display_name": "Python 3 (ipykernel)",
   "language": "python",
   "name": "python3"
  },
  "language_info": {
   "codemirror_mode": {
    "name": "ipython",
    "version": 3
   },
   "file_extension": ".py",
   "mimetype": "text/x-python",
   "name": "python",
   "nbconvert_exporter": "python",
   "pygments_lexer": "ipython3",
   "version": "3.10.14"
  }
 },
 "nbformat": 4,
 "nbformat_minor": 5
}
