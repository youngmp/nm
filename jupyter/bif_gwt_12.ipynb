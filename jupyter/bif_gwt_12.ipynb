{
 "cells": [
  {
   "cell_type": "markdown",
   "id": "31c1828e-5d5c-4a52-9550-f5faab8ccaa5",
   "metadata": {},
   "source": [
    "# gw-thal 1:2 Bifurcation Diagrams"
   ]
  },
  {
   "cell_type": "markdown",
   "id": "073d3337-d6fe-465e-807b-890e9f0131ca",
   "metadata": {},
   "source": [
    "# Inits"
   ]
  },
  {
   "cell_type": "code",
   "execution_count": 1,
   "id": "c11ae704-3b52-469f-b703-218a4bbfa9de",
   "metadata": {},
   "outputs": [],
   "source": [
    "import sys; sys.path.insert(0, '..') # add parent folder path where lib folder is\n",
    "# user-defined\n",
    "import nmCoupling as nm\n",
    "# import nmCoupling_old as nm\n",
    "import response as rp\n",
    "\n",
    "import gwt\n",
    "import thal2 as t2\n",
    "import gw2 as g2\n",
    "\n",
    "from lib.util import (get_phase, freq_est, get_tongue_1d, pl_exist_1d, get_period, bif1d, follow_phase_diffs, phase_lock_r3d, follow_locking_3d, get_initial_phase_diff_c, get_period)\n",
    "\n",
    "from lib.rhs import _redu_c, _full, _redu_full\n",
    "from lib.rhs import _redu_3dc_thal as _redu_3dc\n",
    "from lib.rhs import _redu_4dc_thal as _redu_4dc\n",
    "\n",
    "from lib.plot_util import add_diagram_1d_scatter, quick_plot_combined\n",
    "\n",
    "import numpy as np\n",
    "import scipy as sp\n",
    "import matplotlib.pyplot as plt\n",
    "from scipy.integrate import solve_ivp\n",
    "import sympy as sym\n",
    "\n",
    "from scipy.optimize import root,bisect\n",
    "from copy import deepcopy\n",
    "import os\n",
    "\n",
    "plt.rcParams.update({\n",
    "    \"text.usetex\": True,\n",
    "    \"font.family\": \"Helvetica\"\n",
    "})\n",
    "\n",
    "nmc = nm.nmCoupling\n",
    "rsp = rp.Response"
   ]
  },
  {
   "cell_type": "markdown",
   "id": "956f6615-a080-461d-8aee-2abf994f1ff5",
   "metadata": {},
   "source": [
    "## Dicts"
   ]
  },
  {
   "cell_type": "code",
   "execution_count": 2,
   "id": "43626f58-6a5b-42e1-bb2a-f332da5eb746",
   "metadata": {},
   "outputs": [],
   "source": [
    "kw_sim = {'rtol':1e-7,'atol':1e-7,'method':'LSODA'}"
   ]
  },
  {
   "cell_type": "code",
   "execution_count": 3,
   "id": "35b78a9b-8b5c-4432-9894-7c3c102ad00b",
   "metadata": {},
   "outputs": [],
   "source": [
    "pd_thal = {'gL':0.05,'gna':3,'gk':5,\n",
    "           'gt':5,'eL':-70,'ena':50,\n",
    "           'ek':-90,'et':0,'esyn':-90,\n",
    "           'c':1,'alpha':3,'beta':2,\n",
    "           'sigmat':0.8,'vt':-20,\n",
    "           'ib':8.5,'del':0,'om':1,'om_fix':1}"
   ]
  },
  {
   "cell_type": "code",
   "execution_count": 4,
   "id": "9f1d1761-57c7-458f-a581-e0d7f1d96a00",
   "metadata": {},
   "outputs": [],
   "source": [
    "pd_gw = {'v1':.84,'v2':.42,'v4':.35,'v6':.35,'v8':1,\n",
    "         'k1':1,'k2':1,'k3':.7,'k4':1,'k5':.7,\n",
    "         'k6':1,'k7':.35,'k8':1,'K':0.5,'kc':1,\n",
    "         'n':6,'L':0,'del':0,'om':1,'om_fix':1}"
   ]
  },
  {
   "cell_type": "code",
   "execution_count": 5,
   "id": "3a3623ff-a0c2-4f97-b9d6-50076d626ab9",
   "metadata": {
    "editable": true,
    "slideshow": {
     "slide_type": ""
    },
    "tags": []
   },
   "outputs": [],
   "source": [
    "# default period must be 2*np.pi\n",
    "kw_thal = {'var_names':['v','h','r','w'],\n",
    "        'pardict':pd_thal,\n",
    "        'rhs':t2.rhs,\n",
    "        'coupling':gwt.coupling_thal,\n",
    "        'init':np.array([-.64,0.71,0.25,0,6]),\n",
    "        'TN':20000,\n",
    "        'trunc_order':3,\n",
    "        'z_forward':False,\n",
    "        'i_forward':[False,True,False,False,False,False],\n",
    "        'i_bad_dx':[False,True,False,False,False,False],\n",
    "        'max_iter':50,\n",
    "        'rtol':1e-12,\n",
    "        'atol':1e-12,\n",
    "        'rel_tol':1e-9,\n",
    "        'save_fig':False,\n",
    "        'lc_prominence':.05,\n",
    "        'factor':.5}"
   ]
  },
  {
   "cell_type": "code",
   "execution_count": 6,
   "id": "f16258e6-b083-4edf-be20-f8468f5505a3",
   "metadata": {},
   "outputs": [],
   "source": [
    "kw_gw = {'var_names':['x','y','z','v'],\n",
    "        'pardict':pd_gw,\n",
    "        'rhs':g2.rhs,\n",
    "        'coupling':gwt.coupling_gw,\n",
    "        'init':np.array([.3882,.523,1.357,.4347,24.2]),\n",
    "        'TN':20000,\n",
    "        'trunc_order':3,\n",
    "        'z_forward':False,\n",
    "        'i_forward':[False,True,False,False,False,False,False],\n",
    "        'i_bad_dx':[False,True,False,False,False,False,False],\n",
    "        'max_iter':50,\n",
    "        'rtol':1e-12,\n",
    "        'atol':1e-12,\n",
    "        'rel_tol':1e-9,\n",
    "        'save_fig':False,\n",
    "        'lc_prominence':.05,\n",
    "        'factor':.5}"
   ]
  },
  {
   "cell_type": "markdown",
   "id": "00d1e865-d890-4b6c-a1cf-c449a2967958",
   "metadata": {},
   "source": [
    "## Defs"
   ]
  },
  {
   "cell_type": "code",
   "execution_count": 7,
   "id": "0c25c56e-da3b-4145-a5f5-86f813f96129",
   "metadata": {},
   "outputs": [],
   "source": [
    "kw_bif = {'method':'LSODA','dense_output':True,'rtol':1e-9,'atol':1e-9}"
   ]
  },
  {
   "cell_type": "code",
   "execution_count": 8,
   "id": "7340aa34-62c1-4b9d-b149-1b827c968bc6",
   "metadata": {},
   "outputs": [],
   "source": [
    "etup12 = (.001,.15,200)\n",
    "eps_list12r = np.linspace(*etup12)"
   ]
  },
  {
   "cell_type": "code",
   "execution_count": 9,
   "id": "2de0d4a5-5d0d-4263-855e-4f1510913c82",
   "metadata": {
    "editable": true,
    "slideshow": {
     "slide_type": ""
    },
    "tags": []
   },
   "outputs": [],
   "source": [
    "x_temp = np.linspace(-np.pi,3*np.pi,500)"
   ]
  },
  {
   "cell_type": "code",
   "execution_count": 10,
   "id": "2176ea62-07e5-47f3-9669-ab038c1a529b",
   "metadata": {},
   "outputs": [],
   "source": [
    "ss,dss=np.linspace(0,2,100,retstep=True)"
   ]
  },
  {
   "cell_type": "markdown",
   "id": "93fe4c8e-4f01-43d7-b898-dcef3ae99e0d",
   "metadata": {},
   "source": [
    "## Initialize Response Functions"
   ]
  },
  {
   "cell_type": "code",
   "execution_count": 11,
   "id": "345a025b-9b34-4cd7-af91-961114079f4a",
   "metadata": {
    "editable": true,
    "slideshow": {
     "slide_type": ""
    },
    "tags": []
   },
   "outputs": [
    {
     "name": "stdout",
     "output_type": "stream",
     "text": [
      "mkdir ./data/gwt0/\n",
      "* Loading LC data...\n",
      "self.T 6.283185307179586 omfix 0.9901981522495121\n",
      "* Loading monodromy...\n",
      "* Floquet Exponent kappa =-0.02435447459610879\n",
      "* Loading g symbolic...\n",
      "* Computing g...\n",
      "* Loading heterogeneous terms...\n",
      "* Computing z...\n",
      "* Computing i...\n",
      "mkdir ./data/gwt1/\n",
      "* Loading LC data...\n",
      "self.T 6.283185307179586 omfix 3.8590183230656914\n",
      "* Loading monodromy...\n",
      "* Floquet Exponent kappa =-0.15846659975601737\n",
      "* Loading g symbolic...\n",
      "* Computing g...\n",
      "* Loading heterogeneous terms...\n",
      "* Computing z...\n",
      "* Computing i...\n"
     ]
    }
   ],
   "source": [
    "system1 = rsp(idx=0,model_name='gwt0',**kw_thal)\n",
    "system2 = rsp(idx=1,model_name='gwt1',**kw_gw)"
   ]
  },
  {
   "cell_type": "code",
   "execution_count": 12,
   "id": "f8795398-d6bd-4401-a1f4-33fd7e0c16a3",
   "metadata": {},
   "outputs": [],
   "source": [
    "recompute_list = ['h_data_gwt0','h_data_gwt1','p_data_gwt0','p_data_gwt1']\n",
    "# recompute_list = []\n",
    "kw_nm = {'system1':system1,'system2':system2,'_n':('om0',1),'_m':('om1',2),\n",
    "        'NH':2048,'save_fig':False,'recompute_list':recompute_list}"
   ]
  },
  {
   "cell_type": "markdown",
   "id": "ca4f2a74-7b8c-47f6-8b1f-e06fd5bb1670",
   "metadata": {},
   "source": [
    "# del=0.0"
   ]
  },
  {
   "cell_type": "code",
   "execution_count": 13,
   "id": "a79510b7-df04-42d3-9c32-dd662f07cf57",
   "metadata": {
    "editable": true,
    "slideshow": {
     "slide_type": ""
    },
    "tags": []
   },
   "outputs": [
    {
     "name": "stdout",
     "output_type": "stream",
     "text": [
      "pfactor 30\n",
      "* Loading p symbolic...\n",
      "* Loading p symbolic...\n",
      "p order=0\n",
      "p order=0\n",
      "p order=1\n",
      "p order=1\n",
      "p order=2\n",
      "p order=2\n",
      "p order=3\n",
      "p order=3\n",
      "* Loading H symbolic...\n",
      "* Loading H symbolic...\n",
      "* Computing H gwt0, order=0...\n",
      "* Computing H gwt1, order=0...\n",
      "* Computing H gwt0, order=1...\n",
      "* Computing H gwt1, order=1...\n",
      "* Computing H gwt0, order=2...\n",
      "* Computing H gwt1, order=2...\n",
      "* Computing H gwt0, order=3...\n",
      "* Computing H gwt1, order=3...\n"
     ]
    }
   ],
   "source": [
    "del12_p0 = 0\n",
    "a12_p0 = nm.nmCoupling(**kw_nm, del1=del12_p0)"
   ]
  },
  {
   "cell_type": "markdown",
   "id": "a7e3ac14-4421-4670-b461-f8ff2d24ac1a",
   "metadata": {},
   "source": [
    "## Get Branches Full"
   ]
  },
  {
   "cell_type": "code",
   "execution_count": 14,
   "id": "249a753a-e4ce-4fd7-b8ae-be36ab1614e1",
   "metadata": {},
   "outputs": [],
   "source": [
    "kw_follow = {'a':a12_p0,'del1':del12_p0,'recompute':False,\n",
    "         'bifdir':'bif1d_gwt/','_full_rhs':_full}"
   ]
  },
  {
   "cell_type": "code",
   "execution_count": 15,
   "id": "0a4e5dd6-61e7-446f-b850-36a07b7948d2",
   "metadata": {},
   "outputs": [],
   "source": [
    "data_list = []"
   ]
  },
  {
   "cell_type": "code",
   "execution_count": 16,
   "id": "1d992283-c506-46ac-be67-9df1e738c56c",
   "metadata": {},
   "outputs": [],
   "source": [
    "in_dicts = [dict(init=0,eps_init=0.1,eps_final=0.005,deps=-.005),\n",
    "            dict(init=0,eps_init=0.01,eps_final=0.0009,deps=-.001),\n",
    "            dict(init=0,eps_init=0.1,eps_final=0.16,deps=.01)]"
   ]
  },
  {
   "cell_type": "code",
   "execution_count": 17,
   "id": "e6d51119-5373-467b-99bd-1ab7be50d104",
   "metadata": {
    "scrolled": true
   },
   "outputs": [
    {
     "name": "stdout",
     "output_type": "stream",
     "text": [
      "fname1 td_branch_init=0_nm=12_del=0_ei=0.1_ef=0.005_de=-0.005.txt\n",
      "fname2 ts_branch_init=0_nm=12_del=0_ei=0.1_ef=0.005_de=-0.005.txt\n",
      "fname1 td_branch_init=0_nm=12_del=0_ei=0.01_ef=0.0009_de=-0.001.txt\n",
      "fname2 ts_branch_init=0_nm=12_del=0_ei=0.01_ef=0.0009_de=-0.001.txt\n",
      "fname1 td_branch_init=0_nm=12_del=0_ei=0.1_ef=0.16_de=0.01.txt\n",
      "fname2 ts_branch_init=0_nm=12_del=0_ei=0.1_ef=0.16_de=0.01.txt\n"
     ]
    }
   ],
   "source": [
    "for i in range(len(in_dicts)):\n",
    "    in1 = in_dicts[i]\n",
    "    dat = follow_phase_diffs(**in1,**kw_follow)\n",
    "    data_list.append(dat)\n",
    "fname = kw_follow['bifdir']+'hyper_gwt_12_p0.txt'"
   ]
  },
  {
   "cell_type": "code",
   "execution_count": 18,
   "id": "c0683b77-c083-4af8-a000-c4d5576412a6",
   "metadata": {},
   "outputs": [],
   "source": [
    "# save hyperparameters\n",
    "hyp_inputs = np.zeros([len(in_dicts),4])\n",
    "for i in range(len(in_dicts)):\n",
    "    hyp_inputs[i,0] = in_dicts[i]['init']\n",
    "    hyp_inputs[i,1] = in_dicts[i]['eps_init']\n",
    "    hyp_inputs[i,2] = in_dicts[i]['eps_final']\n",
    "    hyp_inputs[i,3] = in_dicts[i]['deps']\n",
    "np.savetxt(fname,hyp_inputs)"
   ]
  },
  {
   "cell_type": "markdown",
   "id": "56e67e29-e75c-421b-8320-bd73b89cb267",
   "metadata": {},
   "source": [
    "## Get Branches 3D"
   ]
  },
  {
   "cell_type": "code",
   "execution_count": 19,
   "id": "9a5faae4-3f56-42b2-b0dd-5aee561a81e7",
   "metadata": {},
   "outputs": [],
   "source": [
    "kw_follow_r3d = {'a':a12_p0,'rhs':_redu_3dc,'recompute':False,\n",
    "                 'bifdir':'bif1d_gwt/'}"
   ]
  },
  {
   "cell_type": "code",
   "execution_count": 20,
   "id": "d19516b2-017e-4cc3-90b8-6e26849b1edb",
   "metadata": {},
   "outputs": [],
   "source": [
    "data_list_r3d = []"
   ]
  },
  {
   "cell_type": "code",
   "execution_count": 21,
   "id": "8385a72c-0d1b-44d5-a8dc-a3cde962707e",
   "metadata": {},
   "outputs": [],
   "source": [
    "in_dicts_r3d = [dict(init=1,eps_tup=(.01,.16,.01)),\n",
    "                dict(init=1,eps_tup=(.01,.001,-.001)),\n",
    "                dict(init=4,eps_tup=(.01,.16,.01)),\n",
    "                dict(init=4,eps_tup=(.01,.001,-.001))]"
   ]
  },
  {
   "cell_type": "code",
   "execution_count": 22,
   "id": "cdbf3cee-d2e1-42a5-8c3c-aab7dec9a07c",
   "metadata": {
    "scrolled": true
   },
   "outputs": [
    {
     "name": "stdout",
     "output_type": "stream",
     "text": [
      "eps_tup (0.01, 0.16, 0.01)\n",
      "eps_tup (0.01, 0.001, -0.001)\n",
      "eps_tup (0.01, 0.16, 0.01)\n",
      "eps_tup (0.01, 0.001, -0.001)\n"
     ]
    }
   ],
   "source": [
    "for i in range(len(in_dicts_r3d)):\n",
    "    in1 = in_dicts_r3d[i]\n",
    "    dat = follow_locking_3d(**in1,**kw_follow_r3d)\n",
    "    data_list_r3d.append(dat)\n",
    "fname = kw_follow_r3d['bifdir']+'hyper_r3d_gwt_12_p0.txt'"
   ]
  },
  {
   "cell_type": "code",
   "execution_count": 23,
   "id": "47660487-d140-40f3-8b55-2264ab82aacd",
   "metadata": {},
   "outputs": [],
   "source": [
    "# save hyperparameters\n",
    "hyp_inputs = np.zeros([len(in_dicts_r3d),4])\n",
    "for i in range(len(in_dicts_r3d)):\n",
    "    hyp_inputs[i,0] = in_dicts_r3d[i]['init']\n",
    "    hyp_inputs[i,1] = in_dicts_r3d[i]['eps_tup'][0]\n",
    "    hyp_inputs[i,2] = in_dicts_r3d[i]['eps_tup'][1]\n",
    "    hyp_inputs[i,3] = in_dicts_r3d[i]['eps_tup'][2]\n",
    "np.savetxt(fname,hyp_inputs)"
   ]
  },
  {
   "cell_type": "markdown",
   "id": "94445efa-18e7-4483-89cc-80cb38dfd168",
   "metadata": {},
   "source": [
    "## Plot"
   ]
  },
  {
   "cell_type": "code",
   "execution_count": 24,
   "id": "f1d10ecb-eeff-4f92-934a-625a1df809f6",
   "metadata": {},
   "outputs": [
    {
     "data": {
      "image/png": "[encoded data removed]",
      "text/plain": [
       "<Figure size 300x200 with 1 Axes>"
      ]
     },
     "metadata": {},
     "output_type": "display_data"
    },
    {
     "data": {
      "image/png": "[encoded data removed]",
      "text/plain": [
       "<Figure size 300x400 with 2 Axes>"
      ]
     },
     "metadata": {},
     "output_type": "display_data"
    }
   ],
   "source": [
    "quick_plot_combined(a12_p0,\n",
    "                    kw_f={'data_list':data_list},\n",
    "                    kw_r3d={'data_list':data_list_r3d},\n",
    "                    kw_r={'etup':etup12})"
   ]
  },
  {
   "cell_type": "markdown",
   "id": "c665c467-f7b1-48f2-9918-92ee705c049f",
   "metadata": {},
   "source": [
    "## Sims"
   ]
  },
  {
   "cell_type": "code",
   "execution_count": 25,
   "id": "fe1e02c9-155e-4fa6-b7e8-5f2de12806e1",
   "metadata": {},
   "outputs": [],
   "source": [
    "# coupling and init\n",
    "eps12_p0 = 0.1\n",
    "th_init12_p0 = 2"
   ]
  },
  {
   "cell_type": "code",
   "execution_count": 26,
   "id": "f2de6f50-5fde-4e71-82f5-10efae40535e",
   "metadata": {},
   "outputs": [],
   "source": [
    "# sim params\n",
    "dt = .01;T_p0=200\n",
    "t12_p0 = np.arange(0,T_p0,dt)\n",
    "args12_p0 = {'args':(a12_p0,eps12_p0,del12_p0),\n",
    "             't_eval':t12_p0,**kw_sim,'dense_output':True}"
   ]
  },
  {
   "cell_type": "code",
   "execution_count": 27,
   "id": "62af8020-65b3-4eaf-a6ee-41f4189e132d",
   "metadata": {
    "tags": []
   },
   "outputs": [],
   "source": [
    "# initialize and run full\n",
    "y0a = a12_p0.system1.lc['dat'][int((th_init12_p0/(2*np.pi)) * a12_p0.system1.TN),:]\n",
    "y0b = a12_p0.system2.lc['dat'][int((0/(2*np.pi)) * a12_p0.system2.TN),:]\n",
    "\n",
    "y0_p0 = np.array([y0a,y0b]).flatten()\n",
    "\n",
    "solf12_p0 = solve_ivp(_full,[0,t12_p0[-1]],\n",
    "                        y0_p0, **args12_p0)"
   ]
  },
  {
   "cell_type": "code",
   "execution_count": 28,
   "id": "c6ed95f9-58c1-44cd-af7f-e9919726d142",
   "metadata": {
    "tags": []
   },
   "outputs": [],
   "source": [
    "solr12_p0 = solve_ivp(_redu_c,[0,t12_p0[-1]],\n",
    "                     [th_init12_p0],**args12_p0)"
   ]
  },
  {
   "cell_type": "code",
   "execution_count": 29,
   "id": "e11e8857-b54a-4277-80f7-77a91f08f0c1",
   "metadata": {},
   "outputs": [],
   "source": [
    "# solr12b_p0 = solve_ivp(_redu_3dc,[0,t12_p0[-1]],\n",
    "#                     [th_init12_p0,0,0],**args12_p0)"
   ]
  },
  {
   "cell_type": "code",
   "execution_count": 30,
   "id": "b3191c23-857f-4a6e-9baf-e741e1d2c1c1",
   "metadata": {},
   "outputs": [],
   "source": [
    "tp12a_p0, phase12a_p0 = get_phase(t12_p0,solf12_p0.y.T[:,:4],\n",
    "                            skipn=50,system1=a12_p0.system1)\n",
    "tp12b_p0, phase12b_p0 = get_phase(t12_p0,solf12_p0.y.T[:,4:],\n",
    "                            skipn=50,system1=a12_p0.system2)"
   ]
  },
  {
   "cell_type": "code",
   "execution_count": 31,
   "id": "efb5ae81-fecd-44f5-ab73-a2dc3f1189e5",
   "metadata": {},
   "outputs": [
    {
     "data": {
      "text/plain": [
       "(-0.5, 6.783185307179586)"
      ]
     },
     "execution_count": 31,
     "metadata": {},
     "output_type": "execute_result"
    },
    {
     "data": {
      "image/png": "[encoded data removed]",
      "text/plain": [
       "<Figure size 600x200 with 1 Axes>"
      ]
     },
     "metadata": {},
     "output_type": "display_data"
    }
   ],
   "source": [
    "fig,axs = plt.subplots(figsize=(6,2))\n",
    "y = np.mod(phase12a_p0 - a12_p0.om*phase12b_p0,2*np.pi)\n",
    "axs.scatter(tp12a_p0,y,s=1,alpha=.5,color='black')\n",
    "\n",
    "axs.plot(t12_p0,np.mod(solr12_p0.y.T,2*np.pi),\n",
    "         color='tab:red')\n",
    "\n",
    "axs.set_ylim(-.5,2*np.pi+.5)"
   ]
  },
  {
   "cell_type": "code",
   "execution_count": 32,
   "id": "d971165b-ce87-4bb9-b4cc-0f79d80a7375",
   "metadata": {},
   "outputs": [
    {
     "data": {
      "text/plain": [
       "(250.0, 400.0)"
      ]
     },
     "execution_count": 32,
     "metadata": {},
     "output_type": "execute_result"
    },
    {
     "data": {
      "image/png": "[encoded data removed]",
      "text/plain": [
       "<Figure size 600x200 with 1 Axes>"
      ]
     },
     "metadata": {},
     "output_type": "display_data"
    }
   ],
   "source": [
    "fig,axs = plt.subplots(figsize=(6,2))\n",
    "axs.plot(solf12_p0.t,solf12_p0.y.T[:,0]+.7)\n",
    "axs.plot(solf12_p0.t,solf12_p0.y.T[:,4])\n",
    "axs.set_xlim(250,400)"
   ]
  },
  {
   "cell_type": "markdown",
   "id": "729a27b3-ee2b-4864-822e-20a2865ce6ec",
   "metadata": {},
   "source": [
    "# del=0.06"
   ]
  },
  {
   "cell_type": "code",
   "execution_count": 33,
   "id": "6b206751-e326-461c-bd78-0c208e29cd45",
   "metadata": {},
   "outputs": [
    {
     "name": "stdout",
     "output_type": "stream",
     "text": [
      "pfactor 30\n",
      "* Loading p symbolic...\n",
      "* Loading p symbolic...\n",
      "p order=0\n",
      "p order=0\n",
      "p order=1\n",
      "p order=1\n",
      "p order=2\n",
      "p order=2\n",
      "p order=3\n",
      "p order=3\n",
      "* Loading H symbolic...\n",
      "* Loading H symbolic...\n",
      "* Computing H gwt0, order=0...\n",
      "* Computing H gwt1, order=0...\n",
      "* Computing H gwt0, order=1...\n",
      "* Computing H gwt1, order=1...\n",
      "* Computing H gwt0, order=2...\n",
      "* Computing H gwt1, order=2...\n",
      "* Computing H gwt0, order=3...\n",
      "* Computing H gwt1, order=3...\n"
     ]
    }
   ],
   "source": [
    "del12_p06 = .06\n",
    "a12_p06 = nm.nmCoupling(**kw_nm, del1=del12_p06)"
   ]
  },
  {
   "cell_type": "markdown",
   "id": "de4fbe67-5af5-471e-b77b-f9ae4bd01047",
   "metadata": {},
   "source": [
    "## Get Branches Full"
   ]
  },
  {
   "cell_type": "code",
   "execution_count": 34,
   "id": "901d2d5b-d92d-4381-b20c-12623bf771ff",
   "metadata": {},
   "outputs": [],
   "source": [
    "kw_follow = {'a':a12_p06,'del1':del12_p06,'recompute':False,\n",
    "            'bifdir':'bif1d_gwt/','_full_rhs':_full}"
   ]
  },
  {
   "cell_type": "code",
   "execution_count": 35,
   "id": "21cae9df-c79c-4402-9d72-d55197dc1196",
   "metadata": {},
   "outputs": [],
   "source": [
    "data_list = []"
   ]
  },
  {
   "cell_type": "code",
   "execution_count": 36,
   "id": "590adbd4-3cfc-4754-a53a-0182f3db109c",
   "metadata": {},
   "outputs": [],
   "source": [
    "in_dicts = [dict(init=0,eps_init=0.1,eps_final=0.03,deps=-.005),\n",
    "            dict(init=0,eps_init=0.035,eps_final=0.0005,deps=-.001),\n",
    "            dict(init=0,eps_init=0.1,eps_final=0.16,deps=.01)]"
   ]
  },
  {
   "cell_type": "code",
   "execution_count": 37,
   "id": "2a96b2cf-d820-4e0f-b7a4-4a181198f83e",
   "metadata": {
    "scrolled": true
   },
   "outputs": [
    {
     "name": "stdout",
     "output_type": "stream",
     "text": [
      "fname1 td_branch_init=0_nm=12_del=0.06_ei=0.1_ef=0.03_de=-0.005.txt\n",
      "fname2 ts_branch_init=0_nm=12_del=0.06_ei=0.1_ef=0.03_de=-0.005.txt\n",
      "fname1 td_branch_init=0_nm=12_del=0.06_ei=0.035_ef=0.0005_de=-0.001.txt\n",
      "fname2 ts_branch_init=0_nm=12_del=0.06_ei=0.035_ef=0.0005_de=-0.001.txt\n",
      "fname1 td_branch_init=0_nm=12_del=0.06_ei=0.1_ef=0.16_de=0.01.txt\n",
      "fname2 ts_branch_init=0_nm=12_del=0.06_ei=0.1_ef=0.16_de=0.01.txt\n"
     ]
    }
   ],
   "source": [
    "for i in range(len(in_dicts)):\n",
    "    in1 = in_dicts[i]\n",
    "    dat = follow_phase_diffs(**in1,**kw_follow)\n",
    "    data_list.append(dat)\n",
    "fname = kw_follow['bifdir']+'hyper_gwt_12_p06.txt'"
   ]
  },
  {
   "cell_type": "code",
   "execution_count": 38,
   "id": "6c05a377-b073-4fed-8359-35ab5e14778d",
   "metadata": {},
   "outputs": [],
   "source": [
    "# save hyperparameters\n",
    "hyp_inputs = np.zeros([len(in_dicts),4])\n",
    "for i in range(len(in_dicts)):\n",
    "    hyp_inputs[i,0] = in_dicts[i]['init']\n",
    "    hyp_inputs[i,1] = in_dicts[i]['eps_init']\n",
    "    hyp_inputs[i,2] = in_dicts[i]['eps_final']\n",
    "    hyp_inputs[i,3] = in_dicts[i]['deps']\n",
    "np.savetxt(fname,hyp_inputs)"
   ]
  },
  {
   "cell_type": "markdown",
   "id": "b571fb26-5ded-44cd-8c2f-74f77ea0c3d5",
   "metadata": {},
   "source": [
    "## Get Branches 3D"
   ]
  },
  {
   "cell_type": "code",
   "execution_count": 39,
   "id": "9d568856-c0b3-486a-a238-bda2eac4e9ee",
   "metadata": {},
   "outputs": [],
   "source": [
    "kw_follow_r3d = {'a':a12_p06,'rhs':_redu_3dc,'recompute':False,\n",
    "                 'bifdir':'bif1d_gwt/'}"
   ]
  },
  {
   "cell_type": "code",
   "execution_count": 40,
   "id": "2e3264e5-a96d-4196-87b6-f32e56ff1c71",
   "metadata": {},
   "outputs": [],
   "source": [
    "data_list_r3d = []"
   ]
  },
  {
   "cell_type": "code",
   "execution_count": 41,
   "id": "f91c39bd-ff94-4c1c-ab97-36e5ad3229aa",
   "metadata": {},
   "outputs": [],
   "source": [
    "in_dicts_r3d = [dict(init=6.5,eps_tup=(.05,.16,.01)),\n",
    "                dict(init=6.5,eps_tup=(.05,.001,-.001)),\n",
    "                dict(init=4,eps_tup=(.05,.16,.01)),\n",
    "                dict(init=4,eps_tup=(.05,.001,-.001))]"
   ]
  },
  {
   "cell_type": "code",
   "execution_count": 42,
   "id": "a74150ef-2e55-438f-ba16-24ffa66c02eb",
   "metadata": {
    "scrolled": true
   },
   "outputs": [
    {
     "name": "stdout",
     "output_type": "stream",
     "text": [
      "eps_tup (0.05, 0.16, 0.01)\n",
      "eps_tup (0.05, 0.001, -0.001)\n",
      "eps_tup (0.05, 0.16, 0.01)\n",
      "eps_tup (0.05, 0.001, -0.001)\n"
     ]
    }
   ],
   "source": [
    "for i in range(len(in_dicts_r3d)):\n",
    "    in1 = in_dicts_r3d[i]\n",
    "    dat = follow_locking_3d(**in1,**kw_follow_r3d)\n",
    "    data_list_r3d.append(dat)\n",
    "fname = kw_follow_r3d['bifdir']+'hyper_r3d_gwt_12_p06.txt'"
   ]
  },
  {
   "cell_type": "code",
   "execution_count": 43,
   "id": "fa2591b2-5297-461f-9d79-8c9514cc2bfe",
   "metadata": {},
   "outputs": [],
   "source": [
    "# save hyperparameters\n",
    "hyp_inputs = np.zeros([len(in_dicts_r3d),4])\n",
    "for i in range(len(in_dicts_r3d)):\n",
    "    hyp_inputs[i,0] = in_dicts_r3d[i]['init']\n",
    "    hyp_inputs[i,1] = in_dicts_r3d[i]['eps_tup'][0]\n",
    "    hyp_inputs[i,2] = in_dicts_r3d[i]['eps_tup'][1]\n",
    "    hyp_inputs[i,3] = in_dicts_r3d[i]['eps_tup'][2]\n",
    "np.savetxt(fname,hyp_inputs)"
   ]
  },
  {
   "cell_type": "markdown",
   "id": "e0b5b5b9-1781-46ed-a409-76c83a7ac82b",
   "metadata": {},
   "source": [
    "## Plot"
   ]
  },
  {
   "cell_type": "code",
   "execution_count": 44,
   "id": "a120bb5e-42fe-4ed4-8424-1b9bbf9254d5",
   "metadata": {},
   "outputs": [
    {
     "name": "stdout",
     "output_type": "stream",
     "text": [
      "eps_min 0.01999999999999999\n"
     ]
    },
    {
     "data": {
      "image/png": "[encoded data removed]",
      "text/plain": [
       "<Figure size 300x200 with 1 Axes>"
      ]
     },
     "metadata": {},
     "output_type": "display_data"
    },
    {
     "data": {
      "image/png": "[encoded data removed]",
      "text/plain": [
       "<Figure size 300x400 with 2 Axes>"
      ]
     },
     "metadata": {},
     "output_type": "display_data"
    }
   ],
   "source": [
    "quick_plot_combined(a12_p06,\n",
    "                    kw_f={'data_list':data_list},\n",
    "                    kw_r3d={'data_list':data_list_r3d},\n",
    "                    kw_r={'etup':etup12})"
   ]
  },
  {
   "cell_type": "markdown",
   "id": "b4e6e79f-c9ad-4459-b784-2a7c6b0fb272",
   "metadata": {},
   "source": [
    "## Sims"
   ]
  },
  {
   "cell_type": "code",
   "execution_count": 45,
   "id": "967ff780-2110-455e-8bb2-ba8c37af1ea9",
   "metadata": {},
   "outputs": [],
   "source": [
    "# coupling and init\n",
    "eps12_p06 = 0.1\n",
    "th_init12_p06 = 2.229"
   ]
  },
  {
   "cell_type": "code",
   "execution_count": 46,
   "id": "017d4fbc-cfd4-4622-a1b1-05f72cd612d5",
   "metadata": {},
   "outputs": [],
   "source": [
    "# sim params\n",
    "dt = .01;T_p06=300\n",
    "t12_p06 = np.arange(0,T_p06,dt)\n",
    "args12_p06 = {'args':(a12_p06,eps12_p06,del12_p06),\n",
    "             't_eval':t12_p06,**kw_sim,'dense_output':True}"
   ]
  },
  {
   "cell_type": "code",
   "execution_count": 47,
   "id": "1724d04f-309d-47f2-a641-a2c57e6ef76c",
   "metadata": {
    "tags": []
   },
   "outputs": [],
   "source": [
    "# initialize and run full\n",
    "y0a = a12_p06.system1.lc['dat'][int((th_init12_p06/(2*np.pi)) * a12_p06.system1.TN),:]\n",
    "y0b = a12_p06.system2.lc['dat'][int((0/(2*np.pi)) * a12_p06.system2.TN),:]\n",
    "\n",
    "y0_p06 = np.array([y0a,y0b]).flatten()\n",
    "\n",
    "solf12_p06 = solve_ivp(_full,[0,t12_p06[-1]],y0_p06, **args12_p06)"
   ]
  },
  {
   "cell_type": "code",
   "execution_count": 48,
   "id": "11ed0f0a-b7ca-4af1-9878-9e26d1e60502",
   "metadata": {
    "tags": []
   },
   "outputs": [],
   "source": [
    "solr12_p06 = solve_ivp(_redu_c,[0,t12_p06[-1]],[th_init12_p06],**args12_p06)"
   ]
  },
  {
   "cell_type": "code",
   "execution_count": 49,
   "id": "bd52d1a2-1279-44e2-8039-6cbc5e74fd27",
   "metadata": {},
   "outputs": [],
   "source": [
    "# solr12b_p06 = solve_ivp(_redu_3dc,[0,t12_p06[-1]],\n",
    "#                     [th_init12_p06,0,0],**args12_p06)"
   ]
  },
  {
   "cell_type": "code",
   "execution_count": 50,
   "id": "354d72ff-bd36-4f46-b1c3-01de67434fad",
   "metadata": {},
   "outputs": [],
   "source": [
    "tp12a_p06, phase12a_p06 = get_phase(t12_p06,solf12_p06.y.T[:,:4],\n",
    "                            skipn=50,system1=a12_p06.system1)\n",
    "tp12b_p06, phase12b_p06 = get_phase(t12_p06,solf12_p06.y.T[:,4:],\n",
    "                            skipn=50,system1=a12_p06.system2)"
   ]
  },
  {
   "cell_type": "code",
   "execution_count": 51,
   "id": "6c766897-8cb5-4e51-9f37-8cdab001c28e",
   "metadata": {},
   "outputs": [
    {
     "data": {
      "text/plain": [
       "(-0.5, 6.783185307179586)"
      ]
     },
     "execution_count": 51,
     "metadata": {},
     "output_type": "execute_result"
    },
    {
     "data": {
      "image/png": "[encoded data removed]",
      "text/plain": [
       "<Figure size 600x200 with 1 Axes>"
      ]
     },
     "metadata": {},
     "output_type": "display_data"
    }
   ],
   "source": [
    "fig,axs = plt.subplots(figsize=(6,2))\n",
    "y = np.mod(phase12a_p06 - a12_p06.om*phase12b_p06,2*np.pi)\n",
    "axs.scatter(tp12a_p06,y,s=1,alpha=.5,color='black')\n",
    "\n",
    "axs.plot(t12_p06,np.mod(solr12_p06.y.T,2*np.pi),\n",
    "         color='tab:red')\n",
    "\n",
    "axs.set_ylim(-.5,2*np.pi+.5)"
   ]
  },
  {
   "cell_type": "markdown",
   "id": "9a61471d-0182-4cf2-bec3-3c39ee49e263",
   "metadata": {},
   "source": [
    "# del=0.1"
   ]
  },
  {
   "cell_type": "code",
   "execution_count": 52,
   "id": "fb7a3a35-44c0-4960-9e95-d0849dbd132a",
   "metadata": {},
   "outputs": [
    {
     "name": "stdout",
     "output_type": "stream",
     "text": [
      "pfactor 30\n",
      "* Loading p symbolic...\n",
      "* Loading p symbolic...\n",
      "p order=0\n",
      "p order=0\n",
      "p order=1\n",
      "p order=1\n",
      "p order=2\n",
      "p order=2\n",
      "p order=3\n",
      "p order=3\n",
      "* Loading H symbolic...\n",
      "* Loading H symbolic...\n",
      "* Computing H gwt0, order=0...\n",
      "* Computing H gwt1, order=0...\n",
      "* Computing H gwt0, order=1...\n",
      "* Computing H gwt1, order=1...\n",
      "* Computing H gwt0, order=2...\n",
      "* Computing H gwt1, order=2...\n",
      "* Computing H gwt0, order=3...\n",
      "* Computing H gwt1, order=3...\n"
     ]
    }
   ],
   "source": [
    "del12_p1 = .1\n",
    "a12_p1 = nm.nmCoupling(**kw_nm, del1=del12_p1)"
   ]
  },
  {
   "cell_type": "markdown",
   "id": "308d7dfb-4bbf-4d98-a462-30fe8c3fa6af",
   "metadata": {},
   "source": [
    "## Get Branches Full"
   ]
  },
  {
   "cell_type": "code",
   "execution_count": 53,
   "id": "393fc470-0d57-429e-aafa-12318dcc2cf0",
   "metadata": {},
   "outputs": [],
   "source": [
    "kw_follow = {'a':a12_p1,'del1':del12_p1,'recompute':False,\n",
    "            'bifdir':'bif1d_gwt/','_full_rhs':_full}"
   ]
  },
  {
   "cell_type": "code",
   "execution_count": 54,
   "id": "6eae1482-189e-41a1-ac5f-bb5bde8953c4",
   "metadata": {},
   "outputs": [],
   "source": [
    "data_list = []"
   ]
  },
  {
   "cell_type": "code",
   "execution_count": 55,
   "id": "6062dc8d-da94-4c49-8e6b-72c76e6797fb",
   "metadata": {},
   "outputs": [],
   "source": [
    "in_dicts = [dict(init=3,eps_init=0.1,eps_final=0.01,deps=-.01),\n",
    "            dict(init=3,eps_init=0.02,eps_final=0.0009,deps=-.001),\n",
    "            dict(init=3,eps_init=0.1,eps_final=0.16,deps=.01)]"
   ]
  },
  {
   "cell_type": "code",
   "execution_count": 56,
   "id": "3583f965-0bd7-4107-a75f-13c165b6b039",
   "metadata": {
    "scrolled": true
   },
   "outputs": [
    {
     "name": "stdout",
     "output_type": "stream",
     "text": [
      "fname1 td_branch_init=3_nm=12_del=0.1_ei=0.1_ef=0.01_de=-0.01.txt\n",
      "fname2 ts_branch_init=3_nm=12_del=0.1_ei=0.1_ef=0.01_de=-0.01.txt\n",
      "fname1 td_branch_init=3_nm=12_del=0.1_ei=0.02_ef=0.0009_de=-0.001.txt\n",
      "fname2 ts_branch_init=3_nm=12_del=0.1_ei=0.02_ef=0.0009_de=-0.001.txt\n",
      "fname1 td_branch_init=3_nm=12_del=0.1_ei=0.1_ef=0.16_de=0.01.txt\n",
      "fname2 ts_branch_init=3_nm=12_del=0.1_ei=0.1_ef=0.16_de=0.01.txt\n"
     ]
    }
   ],
   "source": [
    "for i in range(len(in_dicts)):\n",
    "    in1 = in_dicts[i]\n",
    "    dat = follow_phase_diffs(**in1,**kw_follow)\n",
    "    data_list.append(dat)\n",
    "fname = kw_follow['bifdir']+'hyper_gwt_12_p1.txt'"
   ]
  },
  {
   "cell_type": "code",
   "execution_count": 57,
   "id": "2f5d38a5-f58c-4477-8a38-aa2cbe64cba4",
   "metadata": {},
   "outputs": [],
   "source": [
    "# save hyperparameters\n",
    "hyp_inputs = np.zeros([len(in_dicts),4])\n",
    "for i in range(len(in_dicts)):\n",
    "    hyp_inputs[i,0] = in_dicts[i]['init']\n",
    "    hyp_inputs[i,1] = in_dicts[i]['eps_init']\n",
    "    hyp_inputs[i,2] = in_dicts[i]['eps_final']\n",
    "    hyp_inputs[i,3] = in_dicts[i]['deps']\n",
    "np.savetxt(fname,hyp_inputs)"
   ]
  },
  {
   "cell_type": "markdown",
   "id": "04086f77-83aa-47fb-846b-795c4f2011d2",
   "metadata": {},
   "source": [
    "## Get Branches 3D"
   ]
  },
  {
   "cell_type": "code",
   "execution_count": 58,
   "id": "70f6cede-2f06-46aa-9906-52d5a11abab3",
   "metadata": {},
   "outputs": [],
   "source": [
    "kw_follow_r3d = {'a':a12_p1,'rhs':_redu_3dc,'recompute':False,\n",
    "                 'bifdir':'bif1d_gwt/'}"
   ]
  },
  {
   "cell_type": "code",
   "execution_count": 59,
   "id": "35de470c-6a0d-424c-9f34-983e56f2e6cc",
   "metadata": {},
   "outputs": [],
   "source": [
    "data_list_r3d = []"
   ]
  },
  {
   "cell_type": "code",
   "execution_count": 60,
   "id": "656e7590-0e28-4ee2-8415-7f3c0ec9f816",
   "metadata": {},
   "outputs": [],
   "source": [
    "in_dicts_r3d = [dict(init=3.5,eps_tup=(.05,.16,.01)),\n",
    "                dict(init=3.5,eps_tup=(.05,.001,-.001)),\n",
    "                dict(init=.5,eps_tup=(.05,.16,.01)),\n",
    "                dict(init=.5,eps_tup=(.05,.001,-.001))]"
   ]
  },
  {
   "cell_type": "code",
   "execution_count": 61,
   "id": "e33f5edb-133f-4104-b403-b06fde6f5892",
   "metadata": {
    "scrolled": true
   },
   "outputs": [
    {
     "name": "stdout",
     "output_type": "stream",
     "text": [
      "eps_tup (0.05, 0.16, 0.01)\n",
      "eps_tup (0.05, 0.001, -0.001)\n",
      "eps_tup (0.05, 0.16, 0.01)\n",
      "eps_tup (0.05, 0.001, -0.001)\n"
     ]
    }
   ],
   "source": [
    "for i in range(len(in_dicts_r3d)):\n",
    "    in1 = in_dicts_r3d[i]\n",
    "    dat = follow_locking_3d(**in1,**kw_follow_r3d)\n",
    "    data_list_r3d.append(dat)\n",
    "fname = kw_follow_r3d['bifdir']+'hyper_r3d_gwt_12_p1.txt'"
   ]
  },
  {
   "cell_type": "code",
   "execution_count": 62,
   "id": "4fe0cf92-fe6a-4720-9785-fda2ed9ada45",
   "metadata": {},
   "outputs": [],
   "source": [
    "# save hyperparameters\n",
    "hyp_inputs = np.zeros([len(in_dicts_r3d),4])\n",
    "for i in range(len(in_dicts_r3d)):\n",
    "    hyp_inputs[i,0] = in_dicts_r3d[i]['init']\n",
    "    hyp_inputs[i,1] = in_dicts_r3d[i]['eps_tup'][0]\n",
    "    hyp_inputs[i,2] = in_dicts_r3d[i]['eps_tup'][1]\n",
    "    hyp_inputs[i,3] = in_dicts_r3d[i]['eps_tup'][2]\n",
    "np.savetxt(fname,hyp_inputs)"
   ]
  },
  {
   "cell_type": "markdown",
   "id": "d182f133-6a00-4b4d-b4fc-e3a41b1ca7e0",
   "metadata": {},
   "source": [
    "## Plot"
   ]
  },
  {
   "cell_type": "code",
   "execution_count": 63,
   "id": "e6f47cb2-bb78-4dd1-b418-b54e62d20d8e",
   "metadata": {},
   "outputs": [
    {
     "name": "stdout",
     "output_type": "stream",
     "text": [
      "eps_min 0.012999999999999994\n"
     ]
    },
    {
     "data": {
      "image/png": "[encoded data removed]",
      "text/plain": [
       "<Figure size 300x200 with 1 Axes>"
      ]
     },
     "metadata": {},
     "output_type": "display_data"
    },
    {
     "data": {
      "image/png": "[encoded data removed]",
      "text/plain": [
       "<Figure size 300x400 with 2 Axes>"
      ]
     },
     "metadata": {},
     "output_type": "display_data"
    }
   ],
   "source": [
    "quick_plot_combined(a12_p1,\n",
    "                    kw_f={'data_list':data_list},\n",
    "                    kw_r3d={'data_list':data_list_r3d},\n",
    "                    kw_r={'etup':etup12})"
   ]
  },
  {
   "cell_type": "markdown",
   "id": "63f6f864-6142-46bb-a832-71f25363cfcb",
   "metadata": {},
   "source": [
    "## Sims"
   ]
  },
  {
   "cell_type": "code",
   "execution_count": 64,
   "id": "6cc9e184-bc78-4a7c-9860-22080aa81adb",
   "metadata": {},
   "outputs": [],
   "source": [
    "# coupling and init\n",
    "eps12_p1 = 0.15\n",
    "th_init12_p1 = 2.229"
   ]
  },
  {
   "cell_type": "code",
   "execution_count": 65,
   "id": "45f22ffb-e927-457a-9bd3-b44068f12a4a",
   "metadata": {},
   "outputs": [],
   "source": [
    "# sim params\n",
    "dt = .01;T_p1=300\n",
    "t12_p1 = np.arange(0,T_p1,dt)\n",
    "args12_p1 = {'args':(a12_p1,eps12_p1,del12_p1),\n",
    "             't_eval':t12_p1,**kw_sim,'dense_output':True}"
   ]
  },
  {
   "cell_type": "code",
   "execution_count": 66,
   "id": "ae886979-5b1f-4931-a68c-9d446ed2ee50",
   "metadata": {
    "tags": []
   },
   "outputs": [],
   "source": [
    "# initialize and run full\n",
    "y0a = a12_p1.system1.lc['dat'][int((th_init12_p1/(2*np.pi)) * a12_p1.system1.TN),:]\n",
    "y0b = a12_p1.system2.lc['dat'][int((0/(2*np.pi)) * a12_p1.system2.TN),:]\n",
    "\n",
    "y0_p1 = np.array([y0a,y0b]).flatten()\n",
    "\n",
    "solf12_p1 = solve_ivp(_full,[0,t12_p1[-1]],\n",
    "                        y0_p1, **args12_p1)"
   ]
  },
  {
   "cell_type": "code",
   "execution_count": 67,
   "id": "73c98bad-d62f-4503-92bd-540e2667baf2",
   "metadata": {
    "tags": []
   },
   "outputs": [],
   "source": [
    "solr12_p1 = solve_ivp(_redu_c,[0,t12_p1[-1]],\n",
    "                     [th_init12_p1],**args12_p1)"
   ]
  },
  {
   "cell_type": "code",
   "execution_count": 68,
   "id": "2faca4f2-319f-4dd7-a9ce-a065d00e70bd",
   "metadata": {},
   "outputs": [],
   "source": [
    "# solr12b_p1 = solve_ivp(_redu_3dc,[0,t12_p1[-1]],\n",
    "#                     [th_init12_p1,0,0],**args12_p1)"
   ]
  },
  {
   "cell_type": "code",
   "execution_count": 69,
   "id": "b2555cf6-04af-487a-9acc-7732aea34045",
   "metadata": {},
   "outputs": [],
   "source": [
    "tp12a_p1, phase12a_p1 = get_phase(t12_p1,solf12_p1.y.T[:,:4],\n",
    "                            skipn=50,system1=a12_p1.system1)\n",
    "tp12b_p1, phase12b_p1 = get_phase(t12_p1,solf12_p1.y.T[:,4:],\n",
    "                            skipn=50,system1=a12_p1.system2)"
   ]
  },
  {
   "cell_type": "code",
   "execution_count": 70,
   "id": "2d9c7fa5-e982-4b5c-a7d9-3c8e4eeedee5",
   "metadata": {},
   "outputs": [
    {
     "data": {
      "text/plain": [
       "(-0.5, 6.783185307179586)"
      ]
     },
     "execution_count": 70,
     "metadata": {},
     "output_type": "execute_result"
    },
    {
     "data": {
      "image/png": "[encoded data removed]",
      "text/plain": [
       "<Figure size 600x200 with 1 Axes>"
      ]
     },
     "metadata": {},
     "output_type": "display_data"
    }
   ],
   "source": [
    "fig,axs = plt.subplots(figsize=(6,2))\n",
    "y = np.mod(phase12a_p1 - a12_p1.om*phase12b_p1,2*np.pi)\n",
    "axs.scatter(tp12a_p1,y,s=1,alpha=.5,color='black')\n",
    "\n",
    "axs.plot(t12_p1,np.mod(solr12_p1.y.T,2*np.pi),\n",
    "         color='tab:red')\n",
    "\n",
    "axs.set_ylim(-.5,2*np.pi+.5)"
   ]
  },
  {
   "cell_type": "markdown",
   "id": "24c338ab-be37-4656-8e5c-198747b93b94",
   "metadata": {},
   "source": [
    "# del=0.11"
   ]
  },
  {
   "cell_type": "code",
   "execution_count": 71,
   "id": "b4213f0f-4ba4-4079-9066-76e09b5de56c",
   "metadata": {},
   "outputs": [
    {
     "name": "stdout",
     "output_type": "stream",
     "text": [
      "pfactor 30\n",
      "* Loading p symbolic...\n",
      "* Loading p symbolic...\n",
      "p order=0\n",
      "p order=0\n",
      "p order=1\n",
      "p order=1\n",
      "p order=2\n",
      "p order=2\n",
      "p order=3\n",
      "p order=3\n",
      "* Loading H symbolic...\n",
      "* Loading H symbolic...\n",
      "* Computing H gwt0, order=0...\n",
      "* Computing H gwt1, order=0...\n",
      "* Computing H gwt0, order=1...\n",
      "* Computing H gwt1, order=1...\n",
      "* Computing H gwt0, order=2...\n",
      "* Computing H gwt1, order=2...\n",
      "* Computing H gwt0, order=3...\n",
      "* Computing H gwt1, order=3...\n"
     ]
    }
   ],
   "source": [
    "del12_p11 = .11\n",
    "a12_p11 = nm.nmCoupling(**kw_nm, del1=del12_p11)"
   ]
  },
  {
   "cell_type": "markdown",
   "id": "ff41e50c-1242-44d7-8442-ea722d3ec2a1",
   "metadata": {},
   "source": [
    "## Get Branches Full"
   ]
  },
  {
   "cell_type": "code",
   "execution_count": 72,
   "id": "9f02ba44-0b6c-4c4c-b8a1-14ee540f383a",
   "metadata": {},
   "outputs": [],
   "source": [
    "kw_follow = {'a':a12_p11,'del1':del12_p11,'recompute':False,\n",
    "            'bifdir':'bif1d_gwt/','_full_rhs':_full}"
   ]
  },
  {
   "cell_type": "code",
   "execution_count": 73,
   "id": "4a6cdcfd-0e15-4b1d-b354-eb826e94a8c9",
   "metadata": {},
   "outputs": [],
   "source": [
    "data_list = []"
   ]
  },
  {
   "cell_type": "code",
   "execution_count": 74,
   "id": "123add0f-217b-4e68-b858-809b1ba49546",
   "metadata": {},
   "outputs": [],
   "source": [
    "in_dicts = [dict(init=0,eps_init=0.05,eps_final=0.11,deps=.01),\n",
    "            dict(init=0,eps_init=0.05,eps_final=0.0009,deps=-.001),\n",
    "            dict(init=1,eps_init=0.1,eps_final=0.16,deps=.01)]"
   ]
  },
  {
   "cell_type": "code",
   "execution_count": 75,
   "id": "8148c0f0-8ff6-45c0-9676-644bf1cc0d32",
   "metadata": {
    "scrolled": true
   },
   "outputs": [
    {
     "name": "stdout",
     "output_type": "stream",
     "text": [
      "fname1 td_branch_init=0_nm=12_del=0.11_ei=0.05_ef=0.11_de=0.01.txt\n",
      "fname2 ts_branch_init=0_nm=12_del=0.11_ei=0.05_ef=0.11_de=0.01.txt\n",
      "fname1 td_branch_init=0_nm=12_del=0.11_ei=0.05_ef=0.0009_de=-0.001.txt\n",
      "fname2 ts_branch_init=0_nm=12_del=0.11_ei=0.05_ef=0.0009_de=-0.001.txt\n",
      "fname1 td_branch_init=1_nm=12_del=0.11_ei=0.1_ef=0.16_de=0.01.txt\n",
      "fname2 ts_branch_init=1_nm=12_del=0.11_ei=0.1_ef=0.16_de=0.01.txt\n"
     ]
    }
   ],
   "source": [
    "for i in range(len(in_dicts)):\n",
    "    in1 = in_dicts[i]\n",
    "    dat = follow_phase_diffs(**in1,**kw_follow)\n",
    "    data_list.append(dat)\n",
    "fname = kw_follow['bifdir']+'hyper_gwt_12_p11.txt'"
   ]
  },
  {
   "cell_type": "code",
   "execution_count": 76,
   "id": "b7caf11a-0088-402f-b25f-383fc1e3e806",
   "metadata": {},
   "outputs": [],
   "source": [
    "# save hyperparameters\n",
    "hyp_inputs = np.zeros([len(in_dicts),4])\n",
    "for i in range(len(in_dicts)):\n",
    "    hyp_inputs[i,0] = in_dicts[i]['init']\n",
    "    hyp_inputs[i,1] = in_dicts[i]['eps_init']\n",
    "    hyp_inputs[i,2] = in_dicts[i]['eps_final']\n",
    "    hyp_inputs[i,3] = in_dicts[i]['deps']\n",
    "np.savetxt(fname,hyp_inputs)"
   ]
  },
  {
   "cell_type": "markdown",
   "id": "656de5fb-3ad9-48a4-837f-47acb872cfdc",
   "metadata": {},
   "source": [
    "## Get Branches 3D"
   ]
  },
  {
   "cell_type": "code",
   "execution_count": 77,
   "id": "e3062222-6d21-4cac-926e-3ab8f9628b37",
   "metadata": {},
   "outputs": [],
   "source": [
    "kw_follow_r3d = {'a':a12_p11,'rhs':_redu_3dc,'recompute':False,\n",
    "                 'bifdir':'bif1d_gwt/'}"
   ]
  },
  {
   "cell_type": "code",
   "execution_count": 78,
   "id": "64ea2286-4ae2-4bc7-b31d-d5f05f5d6a12",
   "metadata": {},
   "outputs": [],
   "source": [
    "data_list_r3d = []"
   ]
  },
  {
   "cell_type": "code",
   "execution_count": 79,
   "id": "b36bdf4c-2f57-4748-97f6-25f4daeeb16c",
   "metadata": {},
   "outputs": [],
   "source": [
    "in_dicts_r3d = [dict(init=.5,eps_tup=(.05,.16,.01)),\n",
    "                dict(init=.5,eps_tup=(.05,.001,-.001)),\n",
    "                dict(init=3.5,eps_tup=(.05,.16,.01)),\n",
    "                dict(init=3.5,eps_tup=(.05,.001,-.001))]"
   ]
  },
  {
   "cell_type": "code",
   "execution_count": 80,
   "id": "dffabd8f-112c-4384-8a2d-545279a045cb",
   "metadata": {
    "scrolled": true
   },
   "outputs": [
    {
     "name": "stdout",
     "output_type": "stream",
     "text": [
      "eps_tup (0.05, 0.16, 0.01)\n",
      "eps_tup (0.05, 0.001, -0.001)\n",
      "eps_tup (0.05, 0.16, 0.01)\n",
      "eps_tup (0.05, 0.001, -0.001)\n"
     ]
    }
   ],
   "source": [
    "for i in range(len(in_dicts_r3d)):\n",
    "    in1 = in_dicts_r3d[i]\n",
    "    dat = follow_locking_3d(**in1,**kw_follow_r3d)\n",
    "    data_list_r3d.append(dat)\n",
    "fname = kw_follow_r3d['bifdir']+'hyper_r3d_gwt_12_p11.txt'"
   ]
  },
  {
   "cell_type": "code",
   "execution_count": 81,
   "id": "0dfaca67-f9d9-4b80-8be0-45e4b5220a93",
   "metadata": {},
   "outputs": [],
   "source": [
    "# save hyperparameters\n",
    "hyp_inputs = np.zeros([len(in_dicts_r3d),4])\n",
    "for i in range(len(in_dicts_r3d)):\n",
    "    hyp_inputs[i,0] = in_dicts_r3d[i]['init']\n",
    "    hyp_inputs[i,1] = in_dicts_r3d[i]['eps_tup'][0]\n",
    "    hyp_inputs[i,2] = in_dicts_r3d[i]['eps_tup'][1]\n",
    "    hyp_inputs[i,3] = in_dicts_r3d[i]['eps_tup'][2]\n",
    "np.savetxt(fname,hyp_inputs)"
   ]
  },
  {
   "cell_type": "markdown",
   "id": "d5e72a66-ae20-4c3a-8dcd-f5bf3b1ea541",
   "metadata": {},
   "source": [
    "## Plot"
   ]
  },
  {
   "cell_type": "code",
   "execution_count": 82,
   "id": "15b370fa-345e-46d9-8a11-364aeca695ad",
   "metadata": {},
   "outputs": [
    {
     "name": "stdout",
     "output_type": "stream",
     "text": [
      "eps_min 0.011999999999999969\n"
     ]
    },
    {
     "data": {
      "image/png": "[encoded data removed]",
      "text/plain": [
       "<Figure size 300x200 with 1 Axes>"
      ]
     },
     "metadata": {},
     "output_type": "display_data"
    },
    {
     "data": {
      "image/png": "[encoded data removed]",
      "text/plain": [
       "<Figure size 300x400 with 2 Axes>"
      ]
     },
     "metadata": {},
     "output_type": "display_data"
    }
   ],
   "source": [
    "quick_plot_combined(a12_p11,\n",
    "                    kw_f={'data_list':data_list},\n",
    "                    kw_r3d={'data_list':data_list_r3d},\n",
    "                    kw_r={'etup':etup12})"
   ]
  },
  {
   "cell_type": "markdown",
   "id": "5bf7aed1-ccb2-4c12-a9e9-c0b62c14781d",
   "metadata": {},
   "source": [
    "## Sims"
   ]
  },
  {
   "cell_type": "code",
   "execution_count": 83,
   "id": "70582d4d-5dba-43f7-a07d-8725399f0deb",
   "metadata": {},
   "outputs": [],
   "source": [
    "# coupling and init\n",
    "eps12_p11 = 0.095\n",
    "th_init12_p11 = 2.229"
   ]
  },
  {
   "cell_type": "code",
   "execution_count": 84,
   "id": "85895971-a8a3-4a43-8827-56276a312a03",
   "metadata": {},
   "outputs": [],
   "source": [
    "# sim params\n",
    "dt = .01;T_p11=1000\n",
    "t12_p11 = np.arange(0,T_p11,dt)\n",
    "args12_p11 = {'args':(a12_p11,eps12_p11,del12_p11),\n",
    "             't_eval':t12_p11,**kw_sim,'dense_output':True}"
   ]
  },
  {
   "cell_type": "code",
   "execution_count": 85,
   "id": "c0cb8ed0-c5b7-4859-93ea-cb796b0d3e4d",
   "metadata": {
    "tags": []
   },
   "outputs": [],
   "source": [
    "# initialize and run full\n",
    "y0a = a12_p11.system1.lc['dat'][int((th_init12_p11/(2*np.pi)) * a12_p11.system1.TN),:]\n",
    "y0b = a12_p11.system2.lc['dat'][int((0/(2*np.pi)) * a12_p11.system2.TN),:]\n",
    "\n",
    "y0_p11 = np.array([y0a,y0b]).flatten()\n",
    "\n",
    "solf12_p11 = solve_ivp(_full,[0,t12_p11[-1]],\n",
    "                        y0_p11, **args12_p11)"
   ]
  },
  {
   "cell_type": "code",
   "execution_count": 86,
   "id": "0529a7a0-e4b9-45a8-8b3f-ede9305dabc7",
   "metadata": {
    "tags": []
   },
   "outputs": [],
   "source": [
    "solr12_p11 = solve_ivp(_redu_c,[0,t12_p11[-1]],\n",
    "                     [th_init12_p11],**args12_p11)"
   ]
  },
  {
   "cell_type": "code",
   "execution_count": 87,
   "id": "24efb301-9a6a-4d3f-aeb7-19cc74f10568",
   "metadata": {},
   "outputs": [],
   "source": [
    "# solr12b_p11 = solve_ivp(_redu_3dc,[0,t12_p11[-1]],\n",
    "#                     [th_init12_p11,0,0],**args12_p11)"
   ]
  },
  {
   "cell_type": "code",
   "execution_count": 88,
   "id": "921e5f5a-dd14-4051-99f2-33b9aa41debc",
   "metadata": {},
   "outputs": [],
   "source": [
    "tp12a_p11, phase12a_p11 = get_phase(t12_p11,solf12_p11.y.T[:,:4],\n",
    "                            skipn=50,system1=a12_p11.system1)\n",
    "tp12b_p11, phase12b_p11 = get_phase(t12_p11,solf12_p11.y.T[:,4:],\n",
    "                            skipn=50,system1=a12_p11.system2)"
   ]
  },
  {
   "cell_type": "code",
   "execution_count": 89,
   "id": "e4812429-236e-4dcc-8f3e-c25a2a1262ec",
   "metadata": {},
   "outputs": [
    {
     "data": {
      "text/plain": [
       "(-0.5, 6.783185307179586)"
      ]
     },
     "execution_count": 89,
     "metadata": {},
     "output_type": "execute_result"
    },
    {
     "data": {
      "image/png": "[encoded data removed]",
      "text/plain": [
       "<Figure size 600x200 with 1 Axes>"
      ]
     },
     "metadata": {},
     "output_type": "display_data"
    }
   ],
   "source": [
    "fig,axs = plt.subplots(figsize=(6,2))\n",
    "y = np.mod(phase12a_p11 - a12_p11.om*phase12b_p11,2*np.pi)\n",
    "axs.scatter(tp12a_p11,y,s=1,alpha=.5,color='black')\n",
    "\n",
    "axs.plot(t12_p11,np.mod(solr12_p11.y.T,2*np.pi),\n",
    "         color='tab:red')\n",
    "\n",
    "axs.set_ylim(-.5,2*np.pi+.5)"
   ]
  },
  {
   "cell_type": "markdown",
   "id": "360f480f-a228-4040-9eb3-f02e4b14c096",
   "metadata": {},
   "source": [
    "# del=0.12"
   ]
  },
  {
   "cell_type": "code",
   "execution_count": 90,
   "id": "a5fca8f6-1441-40dd-bf40-56032696af42",
   "metadata": {},
   "outputs": [
    {
     "name": "stdout",
     "output_type": "stream",
     "text": [
      "pfactor 30\n",
      "* Loading p symbolic...\n",
      "* Loading p symbolic...\n",
      "p order=0\n",
      "p order=0\n",
      "p order=1\n",
      "p order=1\n",
      "p order=2\n",
      "p order=2\n",
      "p order=3\n",
      "p order=3\n",
      "* Loading H symbolic...\n",
      "* Loading H symbolic...\n",
      "* Computing H gwt0, order=0...\n",
      "* Computing H gwt1, order=0...\n",
      "* Computing H gwt0, order=1...\n",
      "* Computing H gwt1, order=1...\n",
      "* Computing H gwt0, order=2...\n",
      "* Computing H gwt1, order=2...\n",
      "* Computing H gwt0, order=3...\n",
      "* Computing H gwt1, order=3...\n"
     ]
    }
   ],
   "source": [
    "del12_p12 = .12\n",
    "a12_p12 = nm.nmCoupling(**kw_nm, del1=del12_p12)"
   ]
  },
  {
   "cell_type": "markdown",
   "id": "5e25a560-d0a6-4cfb-bd99-22141705a35d",
   "metadata": {},
   "source": [
    "## Get Branches Full"
   ]
  },
  {
   "cell_type": "code",
   "execution_count": 91,
   "id": "4d357da5-d959-4181-99d9-6663ebab47a0",
   "metadata": {},
   "outputs": [],
   "source": [
    "kw_follow = {'a':a12_p12,'del1':del12_p12,'recompute':False,\n",
    "            'bifdir':'bif1d_gwt/','_full_rhs':_full}"
   ]
  },
  {
   "cell_type": "code",
   "execution_count": 92,
   "id": "9bdd4a3d-799a-48fe-ba84-3c31377f53e5",
   "metadata": {},
   "outputs": [],
   "source": [
    "data_list = []"
   ]
  },
  {
   "cell_type": "code",
   "execution_count": 93,
   "id": "36911d2c-c1a8-4e85-9c26-f567d0e5c906",
   "metadata": {},
   "outputs": [],
   "source": [
    "in_dicts = [dict(init=0,eps_init=0.05,eps_final=0.09,deps=.01),\n",
    "            dict(init=0,eps_init=0.05,eps_final=0.009,deps=-.005),\n",
    "            dict(init=0,eps_init=0.01,eps_final=0.0009,deps=-.001)]"
   ]
  },
  {
   "cell_type": "code",
   "execution_count": 94,
   "id": "2021bf88-542f-4a0b-9977-38668731e7ed",
   "metadata": {
    "scrolled": true
   },
   "outputs": [
    {
     "name": "stdout",
     "output_type": "stream",
     "text": [
      "fname1 td_branch_init=0_nm=12_del=0.12_ei=0.05_ef=0.09_de=0.01.txt\n",
      "fname2 ts_branch_init=0_nm=12_del=0.12_ei=0.05_ef=0.09_de=0.01.txt\n",
      "fname1 td_branch_init=0_nm=12_del=0.12_ei=0.05_ef=0.009_de=-0.005.txt\n",
      "fname2 ts_branch_init=0_nm=12_del=0.12_ei=0.05_ef=0.009_de=-0.005.txt\n",
      "fname1 td_branch_init=0_nm=12_del=0.12_ei=0.01_ef=0.0009_de=-0.001.txt\n",
      "fname2 ts_branch_init=0_nm=12_del=0.12_ei=0.01_ef=0.0009_de=-0.001.txt\n"
     ]
    }
   ],
   "source": [
    "for i in range(len(in_dicts)):\n",
    "    in1 = in_dicts[i]\n",
    "    dat = follow_phase_diffs(**in1,**kw_follow)\n",
    "    data_list.append(dat)\n",
    "fname = kw_follow['bifdir']+'hyper_gwt_12_p12.txt'"
   ]
  },
  {
   "cell_type": "code",
   "execution_count": 95,
   "id": "6d9c9606-e8df-4eb9-a5a9-bf3561d7f15f",
   "metadata": {},
   "outputs": [],
   "source": [
    "# save hyperparameters\n",
    "hyp_inputs = np.zeros([len(in_dicts),4])\n",
    "for i in range(len(in_dicts)):\n",
    "    hyp_inputs[i,0] = in_dicts[i]['init']\n",
    "    hyp_inputs[i,1] = in_dicts[i]['eps_init']\n",
    "    hyp_inputs[i,2] = in_dicts[i]['eps_final']\n",
    "    hyp_inputs[i,3] = in_dicts[i]['deps']\n",
    "np.savetxt(fname,hyp_inputs)"
   ]
  },
  {
   "cell_type": "markdown",
   "id": "9808870d-6889-4d7c-ab7c-732fbcc30ec5",
   "metadata": {},
   "source": [
    "## Get Branches 3D"
   ]
  },
  {
   "cell_type": "code",
   "execution_count": 96,
   "id": "56d21616-0096-4e92-ae84-02950959d1a1",
   "metadata": {},
   "outputs": [],
   "source": [
    "kw_follow_r3d = {'a':a12_p12,'rhs':_redu_3dc,'recompute':False,\n",
    "                 'bifdir':'bif1d_gwt/'}"
   ]
  },
  {
   "cell_type": "code",
   "execution_count": 97,
   "id": "184d1dbc-4f31-41bb-a7c3-25904740888a",
   "metadata": {},
   "outputs": [],
   "source": [
    "data_list_r3d = []"
   ]
  },
  {
   "cell_type": "code",
   "execution_count": 98,
   "id": "f2ba99d6-e2ee-40b9-ad69-edfff28b0b60",
   "metadata": {},
   "outputs": [],
   "source": [
    "in_dicts_r3d = [dict(init=.5,eps_tup=(.05,.16,.01)),\n",
    "                dict(init=.5,eps_tup=(.05,.001,-.001)),\n",
    "                dict(init=3.5,eps_tup=(.05,.16,.01)),\n",
    "                dict(init=3.5,eps_tup=(.05,.001,-.001))]"
   ]
  },
  {
   "cell_type": "code",
   "execution_count": 99,
   "id": "5235a95b-30a0-404e-a898-55d73f0706e5",
   "metadata": {
    "scrolled": true
   },
   "outputs": [
    {
     "name": "stdout",
     "output_type": "stream",
     "text": [
      "eps_tup (0.05, 0.16, 0.01)\n",
      "eps_tup (0.05, 0.001, -0.001)\n",
      "eps_tup (0.05, 0.16, 0.01)\n",
      "eps_tup (0.05, 0.001, -0.001)\n"
     ]
    }
   ],
   "source": [
    "for i in range(len(in_dicts_r3d)):\n",
    "    in1 = in_dicts_r3d[i]\n",
    "    dat = follow_locking_3d(**in1,**kw_follow_r3d)\n",
    "    data_list_r3d.append(dat)\n",
    "fname = kw_follow_r3d['bifdir']+'hyper_r3d_gwt_12_p12.txt'"
   ]
  },
  {
   "cell_type": "code",
   "execution_count": 100,
   "id": "0f7b9a5b-09a4-4bf8-819d-00b8efb911b2",
   "metadata": {},
   "outputs": [],
   "source": [
    "# save hyperparameters\n",
    "hyp_inputs = np.zeros([len(in_dicts_r3d),4])\n",
    "for i in range(len(in_dicts_r3d)):\n",
    "    hyp_inputs[i,0] = in_dicts_r3d[i]['init']\n",
    "    hyp_inputs[i,1] = in_dicts_r3d[i]['eps_tup'][0]\n",
    "    hyp_inputs[i,2] = in_dicts_r3d[i]['eps_tup'][1]\n",
    "    hyp_inputs[i,3] = in_dicts_r3d[i]['eps_tup'][2]\n",
    "np.savetxt(fname,hyp_inputs)"
   ]
  },
  {
   "cell_type": "markdown",
   "id": "59b2f3ac-aa30-48ad-9f22-d0e2efb4ae80",
   "metadata": {},
   "source": [
    "## Plot"
   ]
  },
  {
   "cell_type": "code",
   "execution_count": 101,
   "id": "d6d692f3-daf2-463e-8022-d0cd5082e5ee",
   "metadata": {},
   "outputs": [
    {
     "name": "stdout",
     "output_type": "stream",
     "text": [
      "eps_min 0.01500000000000002\n"
     ]
    },
    {
     "data": {
      "image/png": "[encoded data removed]",
      "text/plain": [
       "<Figure size 300x200 with 1 Axes>"
      ]
     },
     "metadata": {},
     "output_type": "display_data"
    },
    {
     "data": {
      "image/png": "[encoded data removed]",
      "text/plain": [
       "<Figure size 300x400 with 2 Axes>"
      ]
     },
     "metadata": {},
     "output_type": "display_data"
    }
   ],
   "source": [
    "quick_plot_combined(a12_p12,\n",
    "                    kw_f={'data_list':data_list},\n",
    "                    kw_r3d={'data_list':data_list_r3d},\n",
    "                    kw_r={'etup':etup12})"
   ]
  },
  {
   "cell_type": "markdown",
   "id": "16fd44dd-6d85-41bd-8f40-d791a441406f",
   "metadata": {},
   "source": [
    "## Sims"
   ]
  },
  {
   "cell_type": "code",
   "execution_count": 102,
   "id": "2dfe1990-fc37-47da-b28b-e0aec3a6beaf",
   "metadata": {},
   "outputs": [],
   "source": [
    "# coupling and init\n",
    "eps12_p12 = 0.095\n",
    "th_init12_p12 = 2.229"
   ]
  },
  {
   "cell_type": "code",
   "execution_count": 103,
   "id": "ecb8048d-a0e8-49f3-865f-03615977b7b1",
   "metadata": {},
   "outputs": [],
   "source": [
    "# sim params\n",
    "dt = .01;T_p12=1000\n",
    "t12_p12 = np.arange(0,T_p12,dt)\n",
    "args12_p12 = {'args':(a12_p12,eps12_p12,del12_p12),\n",
    "             't_eval':t12_p12,**kw_sim,'dense_output':True}"
   ]
  },
  {
   "cell_type": "code",
   "execution_count": 104,
   "id": "5fcfdb40-98a1-4e18-9b26-466475ba22f7",
   "metadata": {
    "tags": []
   },
   "outputs": [],
   "source": [
    "# initialize and run full\n",
    "y0a = a12_p12.system1.lc['dat'][int((th_init12_p12/(2*np.pi)) * a12_p12.system1.TN),:]\n",
    "y0b = a12_p12.system2.lc['dat'][int((0/(2*np.pi)) * a12_p12.system2.TN),:]\n",
    "\n",
    "y0_p12 = np.array([y0a,y0b]).flatten()\n",
    "\n",
    "solf12_p12 = solve_ivp(_full,[0,t12_p12[-1]],y0_p12, **args12_p12)"
   ]
  },
  {
   "cell_type": "code",
   "execution_count": 105,
   "id": "e9497007-be11-48fd-834b-91dfff3d10e7",
   "metadata": {
    "tags": []
   },
   "outputs": [],
   "source": [
    "solr12_p12 = solve_ivp(_redu_c,[0,t12_p12[-1]],[th_init12_p12],**args12_p12)"
   ]
  },
  {
   "cell_type": "code",
   "execution_count": 106,
   "id": "eea342b0-44bb-4afd-8642-bf36e1fd369d",
   "metadata": {},
   "outputs": [],
   "source": [
    "# solr12b_p12 = solve_ivp(_redu_3dc,[0,t12_p12[-1]],\n",
    "#                     [th_init12_p12,0,0],**args12_p12)"
   ]
  },
  {
   "cell_type": "code",
   "execution_count": 107,
   "id": "4dc17ffe-eab2-4e81-9d06-624c5581a82f",
   "metadata": {},
   "outputs": [],
   "source": [
    "tp12a_p12, phase12a_p12 = get_phase(t12_p12,solf12_p12.y.T[:,:4],\n",
    "                            skipn=50,system1=a12_p12.system1)\n",
    "tp12b_p12, phase12b_p12 = get_phase(t12_p12,solf12_p12.y.T[:,4:],\n",
    "                            skipn=50,system1=a12_p12.system2)"
   ]
  },
  {
   "cell_type": "code",
   "execution_count": 108,
   "id": "cdf39b4f-92e6-4547-8e9e-586ed87d08cb",
   "metadata": {},
   "outputs": [
    {
     "data": {
      "text/plain": [
       "(-0.5, 6.783185307179586)"
      ]
     },
     "execution_count": 108,
     "metadata": {},
     "output_type": "execute_result"
    },
    {
     "data": {
      "image/png": "[encoded data removed]",
      "text/plain": [
       "<Figure size 600x200 with 1 Axes>"
      ]
     },
     "metadata": {},
     "output_type": "display_data"
    }
   ],
   "source": [
    "fig,axs = plt.subplots(figsize=(6,2))\n",
    "y = np.mod(phase12a_p12 - a12_p12.om*phase12b_p12,2*np.pi)\n",
    "axs.scatter(tp12a_p12,y,s=1,alpha=.5,color='black')\n",
    "\n",
    "axs.plot(t12_p12,np.mod(solr12_p12.y.T,2*np.pi),\n",
    "         color='tab:red')\n",
    "\n",
    "axs.set_ylim(-.5,2*np.pi+.5)"
   ]
  },
  {
   "cell_type": "markdown",
   "id": "dbbe5b99-c828-4afe-a95a-b346d85700f8",
   "metadata": {},
   "source": [
    "# del=0.13"
   ]
  },
  {
   "cell_type": "code",
   "execution_count": 109,
   "id": "f9a0e584-6c9a-4229-a960-97675cdf10ff",
   "metadata": {},
   "outputs": [
    {
     "name": "stdout",
     "output_type": "stream",
     "text": [
      "pfactor 30\n",
      "* Loading p symbolic...\n",
      "* Loading p symbolic...\n",
      "p order=0\n",
      "p order=0\n",
      "p order=1\n",
      "p order=1\n",
      "p order=2\n",
      "p order=2\n",
      "p order=3\n",
      "p order=3\n",
      "* Loading H symbolic...\n",
      "* Loading H symbolic...\n",
      "* Computing H gwt0, order=0...\n",
      "* Computing H gwt1, order=0...\n",
      "* Computing H gwt0, order=1...\n",
      "* Computing H gwt1, order=1...\n",
      "* Computing H gwt0, order=2...\n",
      "* Computing H gwt1, order=2...\n",
      "* Computing H gwt0, order=3...\n",
      "* Computing H gwt1, order=3...\n"
     ]
    }
   ],
   "source": [
    "del12_p13 = .13\n",
    "a12_p13 = nm.nmCoupling(**kw_nm, del1=del12_p13)"
   ]
  },
  {
   "cell_type": "markdown",
   "id": "88f32150-691a-496f-ad57-b578376d1612",
   "metadata": {},
   "source": [
    "## Get Branches Full"
   ]
  },
  {
   "cell_type": "code",
   "execution_count": 110,
   "id": "3a6c4d78-6041-48cf-97bc-881ee1520655",
   "metadata": {},
   "outputs": [],
   "source": [
    "kw_follow = {'a':a12_p13,'del1':del12_p13,'recompute':False,\n",
    "            'bifdir':'bif1d_gwt/','_full_rhs':_full}"
   ]
  },
  {
   "cell_type": "code",
   "execution_count": 111,
   "id": "ee144fc3-48ed-4aba-8c9c-d7e326f731d1",
   "metadata": {},
   "outputs": [],
   "source": [
    "data_list = []"
   ]
  },
  {
   "cell_type": "code",
   "execution_count": 112,
   "id": "a69daa37-5327-4526-a4f2-b2965fdee61e",
   "metadata": {},
   "outputs": [],
   "source": [
    "# in_dicts = [dict(init=0,eps_init=0.05,eps_final=0.1,deps=.01),\n",
    "#             dict(init=0,eps_init=0.05,eps_final=0.001,deps=-.005),\n",
    "#             dict(init=1,eps_init=0.1,eps_final=0.16,deps=.01)]"
   ]
  },
  {
   "cell_type": "code",
   "execution_count": 113,
   "id": "6ab80f67-c4bf-4b98-ba03-13cdca0b12a2",
   "metadata": {
    "scrolled": true
   },
   "outputs": [],
   "source": [
    "# for i in range(len(in_dicts)):\n",
    "#     in1 = in_dicts[i]\n",
    "#     dat = follow_phase_diffs(**in1,**kw_follow)\n",
    "#     data_list.append(dat)\n",
    "# fname = kw_follow['bifdir']+'hyper_gwt_12_p13.txt'"
   ]
  },
  {
   "cell_type": "code",
   "execution_count": 114,
   "id": "5bd1662f-7710-4a43-9372-0f08ab9db995",
   "metadata": {},
   "outputs": [],
   "source": [
    "# # save hyperparameters\n",
    "# hyp_inputs = np.zeros([len(in_dicts),4])\n",
    "# for i in range(len(in_dicts)):\n",
    "#     hyp_inputs[i,0] = in_dicts[i]['init']\n",
    "#     hyp_inputs[i,1] = in_dicts[i]['eps_init']\n",
    "#     hyp_inputs[i,2] = in_dicts[i]['eps_final']\n",
    "#     hyp_inputs[i,3] = in_dicts[i]['deps']\n",
    "# np.savetxt(fname,hyp_inputs)"
   ]
  },
  {
   "cell_type": "markdown",
   "id": "ec1d11f1-93fa-4a1b-9092-322734651d37",
   "metadata": {},
   "source": [
    "## Get Branches 3D"
   ]
  },
  {
   "cell_type": "code",
   "execution_count": 115,
   "id": "fb523b65-3777-46cc-9d7d-6738f977ee38",
   "metadata": {},
   "outputs": [],
   "source": [
    "data_r3d_p13_list = []"
   ]
  },
  {
   "cell_type": "code",
   "execution_count": 116,
   "id": "c52b20f0-88d6-4cd5-b5d9-fa6a701f2508",
   "metadata": {
    "scrolled": true
   },
   "outputs": [],
   "source": [
    "# # find init for this branch mid\n",
    "# _,init = phase_lock_r3d([0,0,0],a12_p13,.1,_redu_3dc)\n",
    "# print(init)"
   ]
  },
  {
   "cell_type": "code",
   "execution_count": 117,
   "id": "d1714b0c-8bdb-412a-81ba-054a69737238",
   "metadata": {
    "scrolled": true
   },
   "outputs": [],
   "source": [
    "# # f\n",
    "# dat = follow_locking_3d(init,a12_p13,(.05,.16,.01),\n",
    "#                         rhs=_redu_3dc,recompute=False,\n",
    "#                        bifdir=bifdir3d)\n",
    "# data_r3d_p13_list.append(dat)"
   ]
  },
  {
   "cell_type": "code",
   "execution_count": 118,
   "id": "7fd28aff-32eb-40b9-8599-136af44de518",
   "metadata": {
    "scrolled": true
   },
   "outputs": [],
   "source": [
    "# # b\n",
    "# dat = follow_locking_3d(init,a12_p13,(.05,.005,-.002),\n",
    "#                         rhs=_redu_3dc,recompute=False,\n",
    "#                        bifdir=bifdir3d)\n",
    "# data_r3d_p13_list.append(dat)"
   ]
  },
  {
   "cell_type": "markdown",
   "id": "09b22355-55e7-43cf-96a2-1c4f27eb23e6",
   "metadata": {},
   "source": [
    "## Plot"
   ]
  },
  {
   "cell_type": "code",
   "execution_count": 119,
   "id": "e6c1b2aa-ca82-4507-a0ca-cfe9e7ecbde0",
   "metadata": {},
   "outputs": [
    {
     "data": {
      "image/png": "[encoded data removed]",
      "text/plain": [
       "<Figure size 300x200 with 1 Axes>"
      ]
     },
     "metadata": {},
     "output_type": "display_data"
    }
   ],
   "source": [
    "quick_plot_combined(a12_p13,\n",
    "                    #kw_f={'data_list':data_list},\n",
    "                    #kw_r3d={'data_list':data_r3d_p13_list},\n",
    "                    kw_r={'etup':etup12})"
   ]
  },
  {
   "cell_type": "markdown",
   "id": "52369ba0-695f-4d09-b6f1-ca73c2ed3a63",
   "metadata": {},
   "source": [
    "## Sims"
   ]
  },
  {
   "cell_type": "code",
   "execution_count": 120,
   "id": "4abcc893-79ab-483f-b389-61d81e7c5b63",
   "metadata": {},
   "outputs": [],
   "source": [
    "# coupling and init\n",
    "eps12_p13 = 0.02\n",
    "th_init12_p13 = 2.229"
   ]
  },
  {
   "cell_type": "code",
   "execution_count": 121,
   "id": "5268b702-fdf7-44f5-a399-4f8e32bf64ce",
   "metadata": {},
   "outputs": [],
   "source": [
    "# sim params\n",
    "dt = .01;T_p13=2000\n",
    "t12_p13 = np.arange(0,T_p13,dt)\n",
    "args12_p13 = {'args':(a12_p13,eps12_p13,del12_p13),\n",
    "             't_eval':t12_p13,**kw_sim,'dense_output':True}"
   ]
  },
  {
   "cell_type": "code",
   "execution_count": 122,
   "id": "92541f1f-1668-4dac-a4a8-5734c1f14a67",
   "metadata": {
    "tags": []
   },
   "outputs": [],
   "source": [
    "# initialize and run full\n",
    "y0a = a12_p13.system1.lc['dat'][int((th_init12_p13/(2*np.pi)) * a12_p13.system1.TN),:]\n",
    "y0b = a12_p13.system2.lc['dat'][int((0/(2*np.pi)) * a12_p13.system2.TN),:]\n",
    "\n",
    "y0_p13 = np.array([y0a,y0b]).flatten()\n",
    "\n",
    "solf12_p13 = solve_ivp(_full,[0,t12_p13[-1]],\n",
    "                        y0_p13, **args12_p13)"
   ]
  },
  {
   "cell_type": "code",
   "execution_count": 123,
   "id": "eeb94bb8-1982-4e08-8264-dc1711dfdfe6",
   "metadata": {
    "tags": []
   },
   "outputs": [],
   "source": [
    "solr12_p13 = solve_ivp(_redu_c,[0,t12_p13[-1]],\n",
    "                     [th_init12_p13],**args12_p13)"
   ]
  },
  {
   "cell_type": "code",
   "execution_count": 124,
   "id": "26fb9b6a-df2e-423c-9989-77db7e85e959",
   "metadata": {},
   "outputs": [],
   "source": [
    "# solr12b_p13 = solve_ivp(_redu_3dc,[0,t12_p13[-1]],\n",
    "#                     [th_init12_p13,0,0],**args12_p13)"
   ]
  },
  {
   "cell_type": "code",
   "execution_count": 125,
   "id": "dce3718c-8345-4885-92e5-a7c3882ff239",
   "metadata": {},
   "outputs": [],
   "source": [
    "tp12a_p13, phase12a_p13 = get_phase(t12_p13,solf12_p13.y.T[:,:4],\n",
    "                            skipn=50,system1=a12_p13.system1)\n",
    "tp12b_p13, phase12b_p13 = get_phase(t12_p13,solf12_p13.y.T[:,4:],\n",
    "                            skipn=50,system1=a12_p13.system2)"
   ]
  },
  {
   "cell_type": "code",
   "execution_count": 126,
   "id": "7c233106-9e2e-47c4-9ec8-020f7596c734",
   "metadata": {},
   "outputs": [
    {
     "data": {
      "text/plain": [
       "(-0.5, 6.783185307179586)"
      ]
     },
     "execution_count": 126,
     "metadata": {},
     "output_type": "execute_result"
    },
    {
     "data": {
      "image/png": "[encoded data removed]",
      "text/plain": [
       "<Figure size 600x200 with 1 Axes>"
      ]
     },
     "metadata": {},
     "output_type": "display_data"
    }
   ],
   "source": [
    "fig,axs = plt.subplots(figsize=(6,2))\n",
    "y = np.mod(phase12a_p13 - a12_p13.om*phase12b_p13,2*np.pi)\n",
    "axs.scatter(tp12a_p13,y,s=1,alpha=.5,color='black')\n",
    "\n",
    "axs.plot(t12_p13,np.mod(solr12_p13.y.T,2*np.pi),\n",
    "         color='tab:red')\n",
    "\n",
    "axs.set_ylim(-.5,2*np.pi+.5)"
   ]
  },
  {
   "cell_type": "code",
   "execution_count": null,
   "id": "20c5dd9a-f592-45fe-85cf-6fe4945a2ed2",
   "metadata": {},
   "outputs": [],
   "source": []
  },
  {
   "cell_type": "code",
   "execution_count": null,
   "id": "9d4af5a8-5179-463b-97d8-43c20e7c5fe7",
   "metadata": {},
   "outputs": [],
   "source": []
  },
  {
   "cell_type": "code",
   "execution_count": null,
   "id": "f4237309-1360-44cc-82c5-0bd4be0929d1",
   "metadata": {},
   "outputs": [],
   "source": []
  }
 ],
 "metadata": {
  "jpcodetoc-autonumbering": false,
  "kernelspec": {
   "display_name": "Python 3 (ipykernel)",
   "language": "python",
   "name": "python3"
  },
  "language_info": {
   "codemirror_mode": {
    "name": "ipython",
    "version": 3
   },
   "file_extension": ".py",
   "mimetype": "text/x-python",
   "name": "python",
   "nbconvert_exporter": "python",
   "pygments_lexer": "ipython3",
   "version": "3.10.14"
  }
 },
 "nbformat": 4,
 "nbformat_minor": 5
}
