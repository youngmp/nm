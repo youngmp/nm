{
 "cells": [
  {
   "cell_type": "markdown",
   "id": "23e42e58-3a01-4071-805d-601b71b38b10",
   "metadata": {},
   "source": [
    "# gw2 2:3 Bifurcation Diagrams"
   ]
  },
  {
   "cell_type": "markdown",
   "id": "eead68f0-8581-493c-bebe-3df044f84f09",
   "metadata": {},
   "source": [
    "# Inits"
   ]
  },
  {
   "cell_type": "code",
   "execution_count": 1,
   "id": "bff2b64f-30fb-4920-bf9c-e04a6d6b4c29",
   "metadata": {},
   "outputs": [],
   "source": [
    "import sys; sys.path.insert(0, '..') # add parent folder path to lib folder\n",
    "# user-defined\n",
    "import nmCoupling as nm\n",
    "# import nmCoupling_old as nm\n",
    "import response as rp\n",
    "\n",
    "import gw2\n",
    "\n",
    "from lib.util import (get_phase, freq_est, get_tongue_1d, pl_exist_1d, \n",
    "get_period, bif1d, follow_phase_diffs, phase_lock_r3d, follow_locking_3d)\n",
    "\n",
    "from lib.rhs import _redu_3dc_gw as _redu_3dc\n",
    "\n",
    "from lib.rhs import _redu_c,_full\n",
    "from lib.plot_util import add_diagram_1d_scatter, quick_plot_combined\n",
    "\n",
    "import numpy as np\n",
    "import scipy as sp\n",
    "import matplotlib.pyplot as plt\n",
    "from scipy.integrate import solve_ivp\n",
    "import sympy as sym\n",
    "\n",
    "from scipy.optimize import root,bisect\n",
    "from copy import deepcopy\n",
    "import os\n",
    "\n",
    "plt.rcParams.update({\n",
    "    \"text.usetex\": True,\n",
    "    \"font.family\": \"Helvetica\"\n",
    "})\n",
    "\n",
    "nmc = nm.nmCoupling\n",
    "rsp = rp.Response"
   ]
  },
  {
   "cell_type": "markdown",
   "id": "a1bb017e-41f4-4086-b284-822ae4712d82",
   "metadata": {},
   "source": [
    "## Dicts"
   ]
  },
  {
   "cell_type": "code",
   "execution_count": 2,
   "id": "d335ab16-8a22-4cc3-8433-8c24d50cef45",
   "metadata": {},
   "outputs": [],
   "source": [
    "kw_sim = {'rtol':1e-8,'atol':1e-8,'method':'LSODA'}"
   ]
  },
  {
   "cell_type": "code",
   "execution_count": 3,
   "id": "b4fb5202-c665-4c48-974b-859ec845ff1e",
   "metadata": {},
   "outputs": [],
   "source": [
    "pd1 = {'v1':.84,'v2':.42,'v4':.35,'v6':.35,'v8':1,\n",
    "           'k1':1,'k2':1,'k3':.7,'k4':1,'k5':.7,\n",
    "           'k6':1,'k7':.35,'k8':1,'K':0.5,'kc':1,\n",
    "           'n':6,'L':0,'eps':0,'del':0,'om':1,'om_fix':1}"
   ]
  },
  {
   "cell_type": "code",
   "execution_count": 4,
   "id": "53cc056f-badd-4d78-b4f8-bacad65a540e",
   "metadata": {
    "editable": true,
    "slideshow": {
     "slide_type": ""
    },
    "tags": []
   },
   "outputs": [],
   "source": [
    "kws1 = {'var_names':['x','y','z','v'],\n",
    "        'pardict':pd1,\n",
    "        'rhs':gw2.rhs,\n",
    "        'coupling':gw2.coupling,\n",
    "        'init':np.array([.3882,.523,1.357,.4347,24.2]),\n",
    "        'TN':10000,\n",
    "        'trunc_order':5,\n",
    "        'z_forward':False,\n",
    "        'i_forward':[False,True,False,False,False,False,False,False],\n",
    "        'i_bad_dx':[False,True,False,False,False,False,False,False],\n",
    "        'max_iter':50,\n",
    "        'rtol':1e-12,\n",
    "        'atol':1e-12,\n",
    "        'rel_tol':1e-9,\n",
    "        'save_fig':False,\n",
    "        'lc_prominence':.05,\n",
    "        'factor':0.5}"
   ]
  },
  {
   "cell_type": "markdown",
   "id": "3dfd6884-d02b-4ee8-a95a-6f9f80be3686",
   "metadata": {},
   "source": [
    "## Defs"
   ]
  },
  {
   "cell_type": "code",
   "execution_count": 5,
   "id": "4864d4ba-915e-4030-8a3f-a52585de12b9",
   "metadata": {},
   "outputs": [],
   "source": [
    "kw_bif = {'method':'LSODA','dense_output':True,'rtol':1e-9,'atol':1e-9}"
   ]
  },
  {
   "cell_type": "code",
   "execution_count": 6,
   "id": "dcb71253-ba88-4cc2-9d01-7c011891b5d5",
   "metadata": {},
   "outputs": [],
   "source": [
    "eps_list23r = np.linspace(0.001,.1,50)\n",
    "etup23 = (.001,.1,50)"
   ]
  },
  {
   "cell_type": "code",
   "execution_count": 7,
   "id": "0a8b29ab-d115-4d56-a0d0-249340085080",
   "metadata": {
    "editable": true,
    "slideshow": {
     "slide_type": ""
    },
    "tags": []
   },
   "outputs": [],
   "source": [
    "x_temp = np.linspace(-np.pi,3*np.pi,500)"
   ]
  },
  {
   "cell_type": "markdown",
   "id": "a97a9a8f-f2e9-4107-81ba-aeae83e39456",
   "metadata": {},
   "source": [
    "## Initialize Response Functions"
   ]
  },
  {
   "cell_type": "code",
   "execution_count": 8,
   "id": "e202b364-f6e1-488a-9a21-e8608cc4c558",
   "metadata": {
    "editable": true,
    "slideshow": {
     "slide_type": ""
    },
    "tags": []
   },
   "outputs": [
    {
     "name": "stdout",
     "output_type": "stream",
     "text": [
      "mkdir ./data/gw0/\n",
      "* Loading LC data...\n",
      "self.T 6.283185307179586 omfix 3.8590183230656914\n",
      "* Loading monodromy...\n",
      "* Floquet Exponent kappa =-0.15846659975489297\n",
      "* Loading g symbolic...\n",
      "* Computing g...\n",
      "* Loading heterogeneous terms...\n",
      "* Computing z...\n",
      "* Computing i...\n",
      "mkdir ./data/gw1/\n",
      "* Loading LC data...\n",
      "self.T 6.283185307179586 omfix 3.8590183230656914\n",
      "* Loading monodromy...\n",
      "* Floquet Exponent kappa =-0.15846659975489297\n",
      "* Loading g symbolic...\n",
      "* Computing g...\n",
      "* Loading heterogeneous terms...\n",
      "* Computing z...\n",
      "* Computing i...\n"
     ]
    }
   ],
   "source": [
    "system1 = rsp(idx=0,model_name='gw0',**kws1)\n",
    "system2 = rsp(idx=1,model_name='gw1',**kws1)"
   ]
  },
  {
   "cell_type": "code",
   "execution_count": 9,
   "id": "da6b530b-1b03-4c45-8a24-dc3d54c2ed60",
   "metadata": {},
   "outputs": [],
   "source": [
    "kw_nm = {'system1':system1,'system2':system2,'_n':('om0',2),'_m':('om1',3),\n",
    "         'NH':2048,'save_fig':False}"
   ]
  },
  {
   "cell_type": "markdown",
   "id": "3452bb04-11f1-439a-8d9c-76d8c9fed3da",
   "metadata": {},
   "source": [
    "# del=0.0"
   ]
  },
  {
   "cell_type": "code",
   "execution_count": 10,
   "id": "40d9118e-696d-4a9a-985d-69971b4ce5b8",
   "metadata": {
    "editable": true,
    "slideshow": {
     "slide_type": ""
    },
    "tags": []
   },
   "outputs": [
    {
     "name": "stdout",
     "output_type": "stream",
     "text": [
      "pfactor 4\n",
      "* Loading p symbolic...\n",
      "* Loading p symbolic...\n",
      "* Loading H symbolic...\n",
      "* Loading H symbolic...\n",
      "* Loading H gw0, order=0...\n",
      "* Loading H gw1, order=0...\n",
      "* Loading H gw0, order=1...\n",
      "* Loading H gw1, order=1...\n",
      "* Loading H gw0, order=2...\n",
      "* Loading H gw1, order=2...\n",
      "* Loading H gw0, order=3...\n",
      "* Loading H gw1, order=3...\n",
      "* Loading H gw0, order=4...\n",
      "* Loading H gw1, order=4...\n",
      "* Loading H gw0, order=5...\n",
      "* Loading H gw1, order=5...\n"
     ]
    }
   ],
   "source": [
    "del23_p0 = 0\n",
    "a23_p0 = nm.nmCoupling(**kw_nm, del1=del23_p0)"
   ]
  },
  {
   "cell_type": "markdown",
   "id": "b3a14cf0-1fe0-45c7-91b0-6e9974bd5d35",
   "metadata": {},
   "source": [
    "## Get Branches Full"
   ]
  },
  {
   "cell_type": "code",
   "execution_count": 11,
   "id": "6777e957-9ba4-43b1-a2b5-110bb2d29278",
   "metadata": {},
   "outputs": [],
   "source": [
    "kw_p0 = {'a':a23_p0,'del1':del23_p0,'recompute':False,'bifdir':'bif1d_gw2/',\n",
    "        '_full_rhs':_full}"
   ]
  },
  {
   "cell_type": "code",
   "execution_count": 12,
   "id": "0ca796fa-6403-4cc3-88ae-f638f7483d68",
   "metadata": {},
   "outputs": [],
   "source": [
    "data_p0_list = []"
   ]
  },
  {
   "cell_type": "code",
   "execution_count": 13,
   "id": "b368bc2a-af92-43eb-af89-44b0fb3e1e0a",
   "metadata": {
    "scrolled": true
   },
   "outputs": [],
   "source": [
    "# top 1\n",
    "dat = follow_phase_diffs(init=0,eps_init=0.01,eps_final=0.0775,\n",
    "                         deps=.0005,**kw_p0)\n",
    "data_p0_list.append(dat)"
   ]
  },
  {
   "cell_type": "code",
   "execution_count": 14,
   "id": "6eaa437e-59b9-43d7-bc0b-db6550e692bd",
   "metadata": {
    "scrolled": true
   },
   "outputs": [],
   "source": [
    "dat = follow_phase_diffs(init=0,eps_init=0.01,eps_final=0.0005,\n",
    "                         deps=-.0005,**kw_p0)\n",
    "data_p0_list.append(dat)"
   ]
  },
  {
   "cell_type": "code",
   "execution_count": 15,
   "id": "9976a253-c970-4843-8e30-682bb0d9e4ba",
   "metadata": {
    "scrolled": true
   },
   "outputs": [],
   "source": [
    "dat = follow_phase_diffs(init=0,eps_init=0.08,eps_final=0.1,deps=.0005,**kw_p0)\n",
    "data_p0_list.append(dat)"
   ]
  },
  {
   "cell_type": "code",
   "execution_count": 16,
   "id": "4b681a7b-e35f-4db3-a869-daf43944e623",
   "metadata": {
    "scrolled": true
   },
   "outputs": [],
   "source": [
    "dat = follow_phase_diffs(init=0,eps_init=0.08,eps_final=0.04,\n",
    "                         deps=-.0005,**kw_p0)\n",
    "data_p0_list.append(dat)"
   ]
  },
  {
   "cell_type": "markdown",
   "id": "f6f5ad9f-368a-4251-b5ca-80c9c65bdb91",
   "metadata": {},
   "source": [
    "## Get Branches 3D"
   ]
  },
  {
   "cell_type": "code",
   "execution_count": 17,
   "id": "5d84137f-13c9-47dd-b730-511dfb6f70a3",
   "metadata": {},
   "outputs": [],
   "source": [
    "data_r3d_p0_list = []"
   ]
  },
  {
   "cell_type": "code",
   "execution_count": 18,
   "id": "38930830-55c0-4bea-8fe0-2b5de9d91d6a",
   "metadata": {
    "scrolled": true
   },
   "outputs": [
    {
     "name": "stdout",
     "output_type": "stream",
     "text": [
      "t_diff 0.93273731029082418, Y=[ 0.93273731 -0.03996303 -0.03986888]                                              \n",
      "[ 0.9327 -0.04   -0.0399]\n"
     ]
    }
   ],
   "source": [
    "# find init for this branch\n",
    "_,init = phase_lock_r3d([1,0,0],a23_p0,.05,_redu_3dc)\n",
    "print(init)"
   ]
  },
  {
   "cell_type": "code",
   "execution_count": 19,
   "id": "7952cc2c-0030-45d2-b97d-1f403bfa7d85",
   "metadata": {
    "scrolled": true
   },
   "outputs": [],
   "source": [
    "# bot 1f\n",
    "dat = follow_locking_3d(init,a23_p0,(.05,.11,.01),\n",
    "                        rhs=_redu_3dc,recompute=False)\n",
    "data_r3d_p0_list.append(dat)"
   ]
  },
  {
   "cell_type": "code",
   "execution_count": 20,
   "id": "b8ebd018-080e-489f-bf88-a2e0fa303bc9",
   "metadata": {
    "scrolled": true
   },
   "outputs": [],
   "source": [
    "# bot 1b\n",
    "dat = follow_locking_3d(init,a23_p0,(.05,.001,-.001),\n",
    "                        rhs=_redu_3dc,recompute=False)\n",
    "data_r3d_p0_list.append(dat)"
   ]
  },
  {
   "cell_type": "code",
   "execution_count": 21,
   "id": "691423a4-01b1-41eb-87b5-028b00e076af",
   "metadata": {},
   "outputs": [
    {
     "name": "stdout",
     "output_type": "stream",
     "text": [
      "t_diff 3.03138349845376909, Y=[ 3.0313835  -0.04025125 -0.04013381]                                              \n"
     ]
    }
   ],
   "source": [
    "# find init for this branch\n",
    "_,init = phase_lock_r3d([3,0,0],a23_p0,.05,_redu_3dc)"
   ]
  },
  {
   "cell_type": "code",
   "execution_count": 22,
   "id": "dae45c44-a88c-452f-9c8e-edc58c9e9c08",
   "metadata": {
    "scrolled": true
   },
   "outputs": [],
   "source": [
    "# top 1f\n",
    "dat = follow_locking_3d(init,a23_p0,(.05,.11,.01),\n",
    "                        rhs=_redu_3dc,recompute=False)\n",
    "data_r3d_p0_list.append(dat)"
   ]
  },
  {
   "cell_type": "code",
   "execution_count": 23,
   "id": "fe6f2402-3b99-491b-972d-0faca8260d74",
   "metadata": {
    "scrolled": true
   },
   "outputs": [],
   "source": [
    "# top 1b\n",
    "dat = follow_locking_3d(init,a23_p0,(.05,.001,-.002),\n",
    "                        rhs=_redu_3dc,recompute=False)\n",
    "data_r3d_p0_list.append(dat)"
   ]
  },
  {
   "cell_type": "code",
   "execution_count": 24,
   "id": "cf61e746-1cd4-4163-822c-90afc4b05e7a",
   "metadata": {},
   "outputs": [
    {
     "name": "stdout",
     "output_type": "stream",
     "text": [
      "t_diff 5.13257353880914915, Y=[ 5.13257354 -0.04025585 -0.04030466]                                              \n"
     ]
    }
   ],
   "source": [
    "# find init for this branch\n",
    "_,init = phase_lock_r3d([5,0,0],a23_p0,.05,_redu_3dc)"
   ]
  },
  {
   "cell_type": "code",
   "execution_count": 25,
   "id": "f4bd51ff-c638-4d3e-9bef-9832fec46049",
   "metadata": {
    "scrolled": true
   },
   "outputs": [],
   "source": [
    "# top 1f\n",
    "dat = follow_locking_3d(init,a23_p0,(.05,.11,.01),\n",
    "                        rhs=_redu_3dc,recompute=False)\n",
    "data_r3d_p0_list.append(dat)"
   ]
  },
  {
   "cell_type": "code",
   "execution_count": 26,
   "id": "405a0931-2f80-465e-b85b-21a8173032a8",
   "metadata": {
    "scrolled": true
   },
   "outputs": [],
   "source": [
    "# top 1b\n",
    "dat = follow_locking_3d(init,a23_p0,(.05,.001,-.002),\n",
    "                        rhs=_redu_3dc,recompute=False)\n",
    "data_r3d_p0_list.append(dat)"
   ]
  },
  {
   "cell_type": "markdown",
   "id": "e26b5d11-28f9-4082-9841-05d441c5f0d1",
   "metadata": {},
   "source": [
    "## Plot"
   ]
  },
  {
   "cell_type": "code",
   "execution_count": 27,
   "id": "4735e46e-f307-448a-9e30-0c85b597e637",
   "metadata": {},
   "outputs": [
    {
     "data": {
      "image/png": "[encoded data removed]",
      "text/plain": [
       "<Figure size 300x200 with 1 Axes>"
      ]
     },
     "metadata": {},
     "output_type": "display_data"
    }
   ],
   "source": [
    "quick_plot_combined(a23_p0,\n",
    "                    kw_f={'data_list':data_p0_list},\n",
    "                    kw_r3d={'data_list':data_r3d_p0_list},\n",
    "                    kw_r={'etup':etup23})"
   ]
  },
  {
   "cell_type": "markdown",
   "id": "35fb4ab8-8ad6-4200-87ca-6a19746d7a31",
   "metadata": {},
   "source": [
    "# del=0.002"
   ]
  },
  {
   "cell_type": "code",
   "execution_count": 28,
   "id": "4825e2e3-11d7-458e-ba74-fc6ece83f593",
   "metadata": {
    "editable": true,
    "slideshow": {
     "slide_type": ""
    },
    "tags": []
   },
   "outputs": [
    {
     "name": "stdout",
     "output_type": "stream",
     "text": [
      "pfactor 4\n",
      "* Loading p symbolic...\n",
      "* Loading p symbolic...\n",
      "* Loading H symbolic...\n",
      "* Loading H symbolic...\n",
      "* Loading H gw0, order=0...\n",
      "* Loading H gw1, order=0...\n",
      "* Loading H gw0, order=1...\n",
      "* Loading H gw1, order=1...\n",
      "* Loading H gw0, order=2...\n",
      "* Loading H gw1, order=2...\n",
      "* Loading H gw0, order=3...\n",
      "* Loading H gw1, order=3...\n",
      "* Loading H gw0, order=4...\n",
      "* Loading H gw1, order=4...\n",
      "* Loading H gw0, order=5...\n",
      "* Loading H gw1, order=5...\n"
     ]
    }
   ],
   "source": [
    "del23_p002 = 0.002\n",
    "a23_p002 = nm.nmCoupling(**kw_nm, del1=del23_p002)"
   ]
  },
  {
   "cell_type": "markdown",
   "id": "91599b39-ad49-4069-93b2-d16f6fb733a6",
   "metadata": {},
   "source": [
    "## Get Branches Full"
   ]
  },
  {
   "cell_type": "code",
   "execution_count": 29,
   "id": "baddeb20-dcf2-4b39-960c-19c79b0f8002",
   "metadata": {},
   "outputs": [],
   "source": [
    "kw_p002 = {'a':a23_p002, 'del1':del23_p002, 'recompute':False, \n",
    "           'bifdir':'bif1d_gw2/', '_full_rhs':_full}"
   ]
  },
  {
   "cell_type": "code",
   "execution_count": 30,
   "id": "f94f268f-2004-4095-999e-494bcfb7739f",
   "metadata": {},
   "outputs": [],
   "source": [
    "data_p002_list = []"
   ]
  },
  {
   "cell_type": "code",
   "execution_count": 31,
   "id": "e531517d-c440-4429-b46d-faeff1e9fae1",
   "metadata": {
    "scrolled": true
   },
   "outputs": [],
   "source": [
    "# top 1\n",
    "dat = follow_phase_diffs(init=0,eps_init=0.01,eps_final=0.11,\n",
    "                         deps=.01,**kw_p002)\n",
    "data_p002_list.append(dat)"
   ]
  },
  {
   "cell_type": "code",
   "execution_count": 32,
   "id": "6aa6f8fa-979b-4f0f-844b-20eacb8aea7e",
   "metadata": {
    "scrolled": true
   },
   "outputs": [],
   "source": [
    "dat = follow_phase_diffs(init=0,eps_init=0.01, eps_final=0.001,\n",
    "                         deps=-.001,**kw_p002)\n",
    "data_p002_list.append(dat)"
   ]
  },
  {
   "cell_type": "markdown",
   "id": "bb8b9089-6951-44b4-b8e8-6539879d7418",
   "metadata": {},
   "source": [
    "## Get Branches 3D"
   ]
  },
  {
   "cell_type": "code",
   "execution_count": 33,
   "id": "2387c2f0-0888-40e3-881c-4854a6795936",
   "metadata": {},
   "outputs": [],
   "source": [
    "data_r3d_p002_list = []"
   ]
  },
  {
   "cell_type": "code",
   "execution_count": 34,
   "id": "df01f2d2-af68-43bf-a8ee-b52e2d0ffee9",
   "metadata": {
    "scrolled": true
   },
   "outputs": [
    {
     "name": "stdout",
     "output_type": "stream",
     "text": [
      "t_diff 1.08840201088142811, Y=[ 1.08840201 -0.05401821 -0.04356713]                                              \n",
      "[ 1.0884 -0.054  -0.0436]\n"
     ]
    }
   ],
   "source": [
    "# find init for this branch\n",
    "_,init = phase_lock_r3d([1,0,0],a23_p002,.05,_redu_3dc)\n",
    "print(init)"
   ]
  },
  {
   "cell_type": "code",
   "execution_count": 35,
   "id": "2fdef5e6-4139-42b1-ae08-b2c0e10f5440",
   "metadata": {
    "scrolled": true
   },
   "outputs": [],
   "source": [
    "# bot 1f\n",
    "dat = follow_locking_3d(init,a23_p002,(.05,.11,.01),\n",
    "                        rhs=_redu_3dc,recompute=False)\n",
    "data_r3d_p002_list.append(dat)"
   ]
  },
  {
   "cell_type": "code",
   "execution_count": 36,
   "id": "9f1faf7d-3122-4a03-bde1-047945be2352",
   "metadata": {
    "scrolled": true
   },
   "outputs": [],
   "source": [
    "# bot 1b\n",
    "dat = follow_locking_3d(init,a23_p002,(.05,.001,-.001),\n",
    "                        rhs=_redu_3dc,recompute=False)\n",
    "data_r3d_p002_list.append(dat)"
   ]
  },
  {
   "cell_type": "code",
   "execution_count": 37,
   "id": "918d5e0c-50dc-4de3-9a84-a23751472597",
   "metadata": {},
   "outputs": [
    {
     "name": "stdout",
     "output_type": "stream",
     "text": [
      "t_diff 3.18819399807089709, Y=[ 3.188194   -0.05430476 -0.04382385]                                              \n"
     ]
    }
   ],
   "source": [
    "# find init for this branch\n",
    "_,init = phase_lock_r3d([3,0,0],a23_p002,.05,_redu_3dc)"
   ]
  },
  {
   "cell_type": "code",
   "execution_count": 38,
   "id": "a87e6a44-38ca-4d81-a204-dd7e5ac47b69",
   "metadata": {
    "scrolled": true
   },
   "outputs": [],
   "source": [
    "# top 1f\n",
    "dat = follow_locking_3d(init,a23_p002,(.05,.11,.01),\n",
    "                        rhs=_redu_3dc,recompute=False)\n",
    "data_r3d_p002_list.append(dat)"
   ]
  },
  {
   "cell_type": "code",
   "execution_count": 39,
   "id": "48de2a1f-2e70-4f0c-ac6c-b95d8152092a",
   "metadata": {
    "scrolled": true
   },
   "outputs": [],
   "source": [
    "# top 1b\n",
    "dat = follow_locking_3d(init,a23_p002,(.05,.001,-.002),\n",
    "                        rhs=_redu_3dc,recompute=False)\n",
    "data_r3d_p002_list.append(dat)"
   ]
  },
  {
   "cell_type": "code",
   "execution_count": 40,
   "id": "63546cf4-6e52-4efb-95fd-44efed3b522a",
   "metadata": {},
   "outputs": [
    {
     "name": "stdout",
     "output_type": "stream",
     "text": [
      "t_diff 5.28846877771705711, Y=[ 5.28846878 -0.05422128 -0.04393873]                                              \n"
     ]
    }
   ],
   "source": [
    "# find init for this branch\n",
    "_,init = phase_lock_r3d([5,0,0],a23_p002,.05,_redu_3dc)"
   ]
  },
  {
   "cell_type": "code",
   "execution_count": 41,
   "id": "fe74e6ae-f956-48cf-a33d-c8b939bb2d31",
   "metadata": {
    "scrolled": true
   },
   "outputs": [],
   "source": [
    "# top 1f\n",
    "dat = follow_locking_3d(init,a23_p002,(.05,.11,.01),\n",
    "                        rhs=_redu_3dc,recompute=False)\n",
    "data_r3d_p002_list.append(dat)"
   ]
  },
  {
   "cell_type": "code",
   "execution_count": 42,
   "id": "526b7a81-0a92-4b99-b8e3-fec4c424f59a",
   "metadata": {
    "scrolled": true
   },
   "outputs": [],
   "source": [
    "# top 1b\n",
    "dat = follow_locking_3d(init,a23_p002,(.05,.001,-.002),\n",
    "                        rhs=_redu_3dc,recompute=False)\n",
    "data_r3d_p002_list.append(dat)"
   ]
  },
  {
   "cell_type": "markdown",
   "id": "d3574f6c-53f2-4842-a7f7-ef0ea3bc564b",
   "metadata": {},
   "source": [
    "## Plot"
   ]
  },
  {
   "cell_type": "code",
   "execution_count": 43,
   "id": "3b5a2d06-6da4-40ee-a920-0777ef054d2a",
   "metadata": {},
   "outputs": [
    {
     "data": {
      "image/png": "[encoded data removed]",
      "text/plain": [
       "<Figure size 300x200 with 1 Axes>"
      ]
     },
     "metadata": {},
     "output_type": "display_data"
    }
   ],
   "source": [
    "quick_plot_combined(a23_p002,\n",
    "                    kw_f={'data_list':data_p002_list},\n",
    "                    kw_r3d={'data_list':data_r3d_p002_list},\n",
    "                    kw_r={'etup':etup23})"
   ]
  },
  {
   "cell_type": "markdown",
   "id": "3970d5bd-b173-43ec-ac77-6571cd024de6",
   "metadata": {},
   "source": [
    "# del=0.0045"
   ]
  },
  {
   "cell_type": "code",
   "execution_count": 44,
   "id": "84a7436c-6190-4b5f-a1f2-e6c6e0a30ebb",
   "metadata": {
    "editable": true,
    "slideshow": {
     "slide_type": ""
    },
    "tags": []
   },
   "outputs": [
    {
     "name": "stdout",
     "output_type": "stream",
     "text": [
      "pfactor 4\n",
      "* Loading p symbolic...\n",
      "* Loading p symbolic...\n",
      "* Loading H symbolic...\n",
      "* Loading H symbolic...\n",
      "* Loading H gw0, order=0...\n",
      "* Loading H gw1, order=0...\n",
      "* Loading H gw0, order=1...\n",
      "* Loading H gw1, order=1...\n",
      "* Loading H gw0, order=2...\n",
      "* Loading H gw1, order=2...\n",
      "* Loading H gw0, order=3...\n",
      "* Loading H gw1, order=3...\n",
      "* Loading H gw0, order=4...\n",
      "* Loading H gw1, order=4...\n",
      "* Loading H gw0, order=5...\n",
      "* Loading H gw1, order=5...\n"
     ]
    }
   ],
   "source": [
    "del23_p0045 = 0.0045\n",
    "a23_p0045 = nm.nmCoupling(**kw_nm, del1=del23_p0045)"
   ]
  },
  {
   "cell_type": "code",
   "execution_count": 45,
   "id": "aea1115a-971e-4514-90ab-8c691f2921df",
   "metadata": {},
   "outputs": [],
   "source": [
    "kw_p0045 = {'a':a23_p0045,'del1':del23_p0045,'recompute':False,\n",
    "            'bifdir':'bif1d_gw2/','_full_rhs':_full}"
   ]
  },
  {
   "cell_type": "markdown",
   "id": "f0c005b5-01b2-4e18-aa1d-3236bbc3fef4",
   "metadata": {},
   "source": [
    "## Get Branches Full"
   ]
  },
  {
   "cell_type": "code",
   "execution_count": 46,
   "id": "d65165f7-8b2e-4e28-8054-f400124339f9",
   "metadata": {},
   "outputs": [],
   "source": [
    "data_p0045_list = []"
   ]
  },
  {
   "cell_type": "code",
   "execution_count": 47,
   "id": "35f00e6b-7e85-41f6-b9fe-9251b35b0086",
   "metadata": {
    "scrolled": true
   },
   "outputs": [],
   "source": [
    "# top 1\n",
    "dat = follow_phase_diffs(init=0,eps_init=0.01,eps_final=0.024,\n",
    "                         deps=.0005,**kw_p0045)\n",
    "data_p0045_list.append(dat)"
   ]
  },
  {
   "cell_type": "code",
   "execution_count": 48,
   "id": "d8423aaf-b602-4157-a918-09e1875d163d",
   "metadata": {
    "scrolled": true
   },
   "outputs": [],
   "source": [
    "dat = follow_phase_diffs(init=0,eps_init=0.01,eps_final=0.0005,\n",
    "                         deps=-.0005,**kw_p0045)\n",
    "data_p0045_list.append(dat)"
   ]
  },
  {
   "cell_type": "markdown",
   "id": "a14b1683-8265-4c6c-80ab-f468321b2e2e",
   "metadata": {},
   "source": [
    "## Get Branches 3D"
   ]
  },
  {
   "cell_type": "code",
   "execution_count": 49,
   "id": "2a3413dd-4e32-4278-adb2-dfe0246d56f9",
   "metadata": {},
   "outputs": [],
   "source": [
    "data_r3d_p0045_list = []"
   ]
  },
  {
   "cell_type": "code",
   "execution_count": 50,
   "id": "62576b6a-73e3-4f0c-b90f-1be75ff53973",
   "metadata": {
    "scrolled": true
   },
   "outputs": [
    {
     "name": "stdout",
     "output_type": "stream",
     "text": [
      "t_diff 1.32885589738380272, Y=[ 1.3288559  -0.02816272 -0.01894271]                                              \n",
      "[ 1.3289 -0.0282 -0.0189]\n"
     ]
    }
   ],
   "source": [
    "# find init for this branch\n",
    "_,init = phase_lock_r3d([1,0,0],a23_p0045,.02,_redu_3dc)\n",
    "print(init)"
   ]
  },
  {
   "cell_type": "code",
   "execution_count": 51,
   "id": "eb2ff0c8-804f-424c-966f-bf9c0e16b18c",
   "metadata": {
    "scrolled": true
   },
   "outputs": [],
   "source": [
    "# bot 1f\n",
    "dat = follow_locking_3d(init,a23_p0045,(.02,.085,.002),\n",
    "                        rhs=_redu_3dc,recompute=False)\n",
    "data_r3d_p0045_list.append(dat)"
   ]
  },
  {
   "cell_type": "code",
   "execution_count": 52,
   "id": "dc3b1e6e-85d7-4123-9c3b-44da00c72c30",
   "metadata": {
    "scrolled": true
   },
   "outputs": [],
   "source": [
    "# bot 1b\n",
    "dat = follow_locking_3d(init,a23_p0045,(.02,.001,-.001),\n",
    "                        rhs=_redu_3dc,recompute=False)\n",
    "data_r3d_p0045_list.append(dat)"
   ]
  },
  {
   "cell_type": "code",
   "execution_count": 53,
   "id": "6e8e6f02-4466-42a3-86af-dc3058cbfa07",
   "metadata": {},
   "outputs": [
    {
     "name": "stdout",
     "output_type": "stream",
     "text": [
      "t_diff 3.44032683790492910, Y=[ 3.44032684 -0.02826838 -0.01903313]                                              \n"
     ]
    }
   ],
   "source": [
    "# find init for this branch\n",
    "_,init = phase_lock_r3d([3,0,0],a23_p0045,.02,_redu_3dc)"
   ]
  },
  {
   "cell_type": "code",
   "execution_count": 54,
   "id": "3fbf5d8a-a4e1-43c2-9f11-be1ef1395d6f",
   "metadata": {
    "scrolled": true
   },
   "outputs": [
    {
     "name": "stdout",
     "output_type": "stream",
     "text": [
      "eps iter 0 0.02                \n",
      "t_diff 3.44032683790505048, Y=[ 3.44032684 -0.02826838 -0.01903313]                                              \n",
      "eps iter 1 0.022                \n",
      "t_diff 3.44376318507988279, Y=[ 3.44376319 -0.0311281  -0.02095359]                                              \n",
      "eps iter 2 0.023999999999999997                \n",
      "t_diff 3.44723836302997310, Y=[ 3.44723836 -0.03399387 -0.0228772 ]                                              \n",
      "eps iter 3 0.025999999999999995                \n",
      "t_diff 3.45075435164271-09, Y=[ 3.45075435 -0.03686572 -0.02480397]                                              \n",
      "eps iter 4 0.027999999999999994                \n",
      "t_diff 3.45431331897573429, Y=[ 3.45431332 -0.03974367 -0.0267339 ]                                              \n",
      "eps iter 5 0.029999999999999992                \n",
      "t_diff 3.45791764747550409, Y=[ 3.45791765 -0.04262773 -0.028667  ]                                              \n",
      "eps iter 6 0.03199999999999999                \n",
      "t_diff 3.46156996514472509, Y=[ 3.46156997 -0.04551793 -0.03060328]                                              \n",
      "eps iter 7 0.03399999999999999                \n",
      "t_diff 3.46527318280336309, Y=[ 3.46527318 -0.04841429 -0.03254273]                                              \n",
      "eps iter 8 0.03599999999999999                \n",
      "t_diff 3.46903053886575509, Y=[ 3.46903054 -0.05131682 -0.03448538]                                              \n",
      "eps iter 9 0.037999999999999985                \n",
      "t_diff 3.47284565386876449, Y=[ 3.47284565 -0.05422555 -0.03643122]                                              \n",
      "eps iter 10 0.03999999999999998                \n",
      "t_diff 3.47672259703795659, Y=[ 3.4767226  -0.05714049 -0.03838025]                                              \n",
      "eps iter 11 0.04199999999999998                \n",
      "t_diff 3.48066596875832809, Y=[ 3.48066597 -0.06006166 -0.04033249]                                              \n",
      "eps iter 12 0.043999999999999984                \n",
      "t_diff 3.48468100370776609, Y=[ 3.484681   -0.06298908 -0.04228794]                                              \n",
      "eps iter 13 0.04599999999999998                \n",
      "t_diff 3.48877370103597749, Y=[ 3.4887737  -0.06592277 -0.04424659]                                              \n",
      "eps iter 14 0.04799999999999997                \n",
      "t_diff 3.49295099127223369, Y=[ 3.49295099 -0.06886274 -0.04620845]                                              \n",
      "eps iter 15 0.049999999999999975                \n",
      "t_diff 3.49722095348842158, Y=[ 3.49722095 -0.07180901 -0.04817352]                                              \n",
      "eps iter 16 0.05199999999999998                \n",
      "t_diff 3.50159310202283528, Y=[ 3.5015931  -0.07476159 -0.05014179]                                              \n",
      "eps iter 17 0.05399999999999998                \n",
      "t_diff 3.50607877253036308, Y=[ 3.50607877 -0.07772049 -0.05211326]                                              \n",
      "eps iter 18 0.055999999999999966                \n",
      "t_diff 3.51069165364555958, Y=[ 3.51069165 -0.08068572 -0.05408792]                                              \n",
      "eps iter 19 0.05799999999999997                \n",
      "t_diff 3.51544853569164808, Y=[ 3.51544854 -0.08365729 -0.05606576]                                              \n",
      "eps iter 20 0.05999999999999997                \n",
      "t_diff 3.52037039839576738, Y=[ 3.5203704  -0.08663519 -0.05804676]                                              \n",
      "eps iter 21 0.06199999999999997                \n",
      "t_diff 3.52548404422695958, Y=[ 3.52548404 -0.08961942 -0.06003089]                                              \n",
      "eps iter 22 0.06399999999999996                \n",
      "t_diff 3.53082465728185873, Y=[ 3.53082466 -0.09260995 -0.06201811]                                              \n",
      "eps iter 23 0.06599999999999996                \n",
      "t_diff 3.53644001986781562, Y=[ 3.53644002 -0.09560676 -0.06400835]                                              \n",
      "eps iter 24 0.06799999999999996                \n",
      "t_diff 3.54239793125946112, Y=[ 3.54239793 -0.09860978 -0.06600154]                                              \n",
      "eps iter 25 0.06999999999999997                \n",
      "t_diff 3.54880041975942512, Y=[ 3.54880042 -0.1016189  -0.06799752]                                              \n",
      "eps iter 26 0.07199999999999995                \n",
      "t_diff 3.55581437734479432, Y=[ 3.55581438 -0.10463394 -0.06999607]                                              \n",
      "eps iter 27 0.07399999999999995                \n",
      "t_diff 3.56375029434192260, Y=[ 3.56375029 -0.10765452 -0.07199671]                                              \n",
      "eps iter 28 0.07599999999999996                \n",
      "t_diff 3.57333587409682609, Y=[ 3.57333587 -0.11067969 -0.07399836]                                              \n",
      "eps iter 29 0.07799999999999996                \n",
      "t_diff 3.58777268886003769, Y=[ 3.58777269 -0.11370521 -0.07599617]                                              \n",
      "eps iter 30 0.07999999999999995                \n",
      "iter=100, rel. err =2.22e-02, Y=[ 3.58696558 -0.11675796 -0.07802047]                                              \r"
     ]
    }
   ],
   "source": [
    "# top 1f\n",
    "dat = follow_locking_3d(init,a23_p0045,(.02,.082,.002),\n",
    "                        rhs=_redu_3dc,recompute=False)\n",
    "data_r3d_p0045_list.append(dat)"
   ]
  },
  {
   "cell_type": "code",
   "execution_count": 55,
   "id": "75952a5f-e3ab-4012-bcaf-f2186c3962f3",
   "metadata": {
    "scrolled": true
   },
   "outputs": [],
   "source": [
    "# top 1b\n",
    "dat = follow_locking_3d(init,a23_p0045,(.02,.001,-.001),\n",
    "                        rhs=_redu_3dc,recompute=False)\n",
    "data_r3d_p0045_list.append(dat)"
   ]
  },
  {
   "cell_type": "code",
   "execution_count": 56,
   "id": "c08ffd7b-6cb5-4eb6-8403-776ebbada3c1",
   "metadata": {},
   "outputs": [
    {
     "name": "stdout",
     "output_type": "stream",
     "text": [
      "t_diff 5.53547106337908911, Y=[ 5.53547106 -0.02815653 -0.01901474]                                              \n"
     ]
    }
   ],
   "source": [
    "# find init for this branch\n",
    "_,init = phase_lock_r3d([5,0,0],a23_p0045,.02,_redu_3dc)"
   ]
  },
  {
   "cell_type": "code",
   "execution_count": 57,
   "id": "e4436595-ac0c-480e-98e7-8c2957540da3",
   "metadata": {
    "scrolled": true
   },
   "outputs": [],
   "source": [
    "# top 1f\n",
    "dat = follow_locking_3d(init,a23_p0045,(.02,.1,.002),\n",
    "                        rhs=_redu_3dc,recompute=False)\n",
    "data_r3d_p0045_list.append(dat)"
   ]
  },
  {
   "cell_type": "code",
   "execution_count": 58,
   "id": "a974b27e-58d1-4e82-87a7-f6bed20f6dbe",
   "metadata": {
    "scrolled": true
   },
   "outputs": [],
   "source": [
    "# top 1b\n",
    "dat = follow_locking_3d(init,a23_p0045,(.02,.001,-.002),\n",
    "                        rhs=_redu_3dc,recompute=False)\n",
    "data_r3d_p0045_list.append(dat)"
   ]
  },
  {
   "cell_type": "markdown",
   "id": "9a00915d-ffc9-4506-80d8-30ce0352bed8",
   "metadata": {},
   "source": [
    "## Plot"
   ]
  },
  {
   "cell_type": "code",
   "execution_count": 59,
   "id": "30d6c44c-e8f6-4558-b2d5-cbc7c0c8000e",
   "metadata": {},
   "outputs": [
    {
     "data": {
      "image/png": "[encoded data removed]",
      "text/plain": [
       "<Figure size 300x200 with 1 Axes>"
      ]
     },
     "metadata": {},
     "output_type": "display_data"
    }
   ],
   "source": [
    "quick_plot_combined(a23_p0045,\n",
    "                    kw_f={'data_list':data_p0045_list},\n",
    "                    kw_r3d={'data_list':data_r3d_p0045_list},\n",
    "                    kw_r={'etup':etup23})"
   ]
  },
  {
   "cell_type": "markdown",
   "id": "ae252ae0-90a1-4601-adce-01101186ba0b",
   "metadata": {},
   "source": [
    "# del=0.0047"
   ]
  },
  {
   "cell_type": "code",
   "execution_count": 60,
   "id": "e0a450c7-2cf3-4878-a937-06d2b4ea59e3",
   "metadata": {
    "editable": true,
    "slideshow": {
     "slide_type": ""
    },
    "tags": []
   },
   "outputs": [
    {
     "name": "stdout",
     "output_type": "stream",
     "text": [
      "pfactor 4\n",
      "* Loading p symbolic...\n",
      "* Loading p symbolic...\n",
      "* Loading H symbolic...\n",
      "* Loading H symbolic...\n",
      "* Loading H gw0, order=0...\n",
      "* Loading H gw1, order=0...\n",
      "* Loading H gw0, order=1...\n",
      "* Loading H gw1, order=1...\n",
      "* Loading H gw0, order=2...\n",
      "* Loading H gw1, order=2...\n",
      "* Loading H gw0, order=3...\n",
      "* Loading H gw1, order=3...\n",
      "* Loading H gw0, order=4...\n",
      "* Loading H gw1, order=4...\n",
      "* Loading H gw0, order=5...\n",
      "* Loading H gw1, order=5...\n"
     ]
    }
   ],
   "source": [
    "del23_p0047 = 0.0047\n",
    "a23_p0047 = nm.nmCoupling(**kw_nm, del1=del23_p0047)"
   ]
  },
  {
   "cell_type": "markdown",
   "id": "0c00c4cf-8a08-44f9-8d5c-c4ef20adb359",
   "metadata": {},
   "source": [
    "## Get Branches Full"
   ]
  },
  {
   "cell_type": "code",
   "execution_count": 61,
   "id": "af95f12e-a74d-4edd-83be-1b85af554245",
   "metadata": {},
   "outputs": [],
   "source": [
    "kw_p0047 = {'a':a23_p0047,'del1':del23_p0047,'recompute':False,\n",
    "            'bifdir':'bif1d_gw2/','_full_rhs':_full}"
   ]
  },
  {
   "cell_type": "code",
   "execution_count": 62,
   "id": "ff4a9a6a-8902-4583-91a5-6d96ad3d403a",
   "metadata": {},
   "outputs": [],
   "source": [
    "data_p0047_list = []"
   ]
  },
  {
   "cell_type": "code",
   "execution_count": 63,
   "id": "eb4b2aa9-f035-4b86-955d-ed6782c35627",
   "metadata": {
    "scrolled": true
   },
   "outputs": [],
   "source": [
    "# top 1\n",
    "dat = follow_phase_diffs(init=0,eps_init=0.005,eps_final=0.0135,\n",
    "                         deps=.0005,**kw_p0047)\n",
    "data_p0047_list.append(dat)"
   ]
  },
  {
   "cell_type": "code",
   "execution_count": 64,
   "id": "530e7a51-4510-4b5b-9cd2-46b6a75c726b",
   "metadata": {
    "scrolled": true
   },
   "outputs": [],
   "source": [
    "dat = follow_phase_diffs(init=0,eps_init=0.005,eps_final=0.0005,\n",
    "                         deps=-.0005,**kw_p0047)\n",
    "data_p0047_list.append(dat)"
   ]
  },
  {
   "cell_type": "markdown",
   "id": "7bff0933-3e30-470c-8ba2-b46f9726221f",
   "metadata": {},
   "source": [
    "## Get Branches 3D"
   ]
  },
  {
   "cell_type": "code",
   "execution_count": 65,
   "id": "d51a9baa-06cd-4fde-9464-2ae6587bdf99",
   "metadata": {},
   "outputs": [],
   "source": [
    "data_r3d_p0047_list = []"
   ]
  },
  {
   "cell_type": "code",
   "execution_count": 66,
   "id": "812414ef-eb90-49b9-a688-d498efd5c01c",
   "metadata": {
    "scrolled": true
   },
   "outputs": [
    {
     "name": "stdout",
     "output_type": "stream",
     "text": [
      "t_diff 1.37321462862685238, Y=[ 1.37321463 -0.02869336 -0.01906103]                                              \n",
      "[ 1.3732 -0.0287 -0.0191]\n"
     ]
    }
   ],
   "source": [
    "# find init for this branch\n",
    "_,init = phase_lock_r3d([1,0,0],a23_p0047,.02,_redu_3dc)\n",
    "print(init)"
   ]
  },
  {
   "cell_type": "code",
   "execution_count": 67,
   "id": "599a7d42-6a5d-4f31-bc82-49e28c58b94c",
   "metadata": {
    "scrolled": true
   },
   "outputs": [],
   "source": [
    "# bot 1f\n",
    "dat = follow_locking_3d(init,a23_p0047,(.02,.1,.002),\n",
    "                        rhs=_redu_3dc,recompute=False)\n",
    "data_r3d_p0047_list.append(dat)"
   ]
  },
  {
   "cell_type": "code",
   "execution_count": 68,
   "id": "ce3ae737-ef0a-4192-81b3-bb4b715dc4c9",
   "metadata": {
    "scrolled": true
   },
   "outputs": [],
   "source": [
    "# bot 1b\n",
    "dat = follow_locking_3d(init,a23_p0047,(.02,.001,-.001),\n",
    "                        rhs=_redu_3dc,recompute=False)\n",
    "data_r3d_p0047_list.append(dat)"
   ]
  },
  {
   "cell_type": "code",
   "execution_count": 69,
   "id": "cb4cfb4a-26d0-4f80-a22a-bb8cae8628b9",
   "metadata": {},
   "outputs": [
    {
     "name": "stdout",
     "output_type": "stream",
     "text": [
      "t_diff 3.49804425047563409, Y=[ 3.49804425 -0.02879118 -0.01914304]                                              \n"
     ]
    }
   ],
   "source": [
    "# find init for this branch\n",
    "_,init = phase_lock_r3d([3,0,0],a23_p0047,.02,_redu_3dc)"
   ]
  },
  {
   "cell_type": "code",
   "execution_count": 70,
   "id": "69ed8ccd-7865-423f-84a8-1774930f7890",
   "metadata": {
    "scrolled": true
   },
   "outputs": [],
   "source": [
    "# top 1f\n",
    "dat = follow_locking_3d(init,a23_p0047,(.02,.034,.002),\n",
    "                        rhs=_redu_3dc,recompute=False)\n",
    "data_r3d_p0047_list.append(dat)"
   ]
  },
  {
   "cell_type": "code",
   "execution_count": 71,
   "id": "d8612ec2-9a05-43e8-9886-96ec935fb44d",
   "metadata": {
    "scrolled": true
   },
   "outputs": [],
   "source": [
    "# top 1b\n",
    "dat = follow_locking_3d(init,a23_p0047,(.02,.001,-.001),\n",
    "                        rhs=_redu_3dc,recompute=False)\n",
    "data_r3d_p0047_list.append(dat)"
   ]
  },
  {
   "cell_type": "code",
   "execution_count": 72,
   "id": "05d2c2bd-a871-490c-97a1-cf0f555f0ef5",
   "metadata": {},
   "outputs": [
    {
     "name": "stdout",
     "output_type": "stream",
     "text": [
      "t_diff 5.58678991142813112, Y=[ 5.58678991 -0.02866751 -0.01911321]                                              \n"
     ]
    }
   ],
   "source": [
    "# find init for this branch\n",
    "_,init = phase_lock_r3d([5,0,0],a23_p0047,.02,_redu_3dc)"
   ]
  },
  {
   "cell_type": "code",
   "execution_count": 73,
   "id": "3bf4a2df-93e2-4a73-9ad0-ea462184db72",
   "metadata": {
    "scrolled": true
   },
   "outputs": [],
   "source": [
    "# top 1f\n",
    "dat = follow_locking_3d(init,a23_p0047,(.02,.042,.002),\n",
    "                        rhs=_redu_3dc,recompute=False)\n",
    "data_r3d_p0047_list.append(dat)"
   ]
  },
  {
   "cell_type": "code",
   "execution_count": 74,
   "id": "521df985-39af-4cf8-8653-a206e94ee1d1",
   "metadata": {
    "scrolled": true
   },
   "outputs": [],
   "source": [
    "# top 1b\n",
    "dat = follow_locking_3d(init,a23_p0047,(.02,.001,-.002),\n",
    "                        rhs=_redu_3dc,recompute=False)\n",
    "data_r3d_p0047_list.append(dat)"
   ]
  },
  {
   "cell_type": "markdown",
   "id": "3365cd72-4ac2-43a5-b8ff-578ee094ff91",
   "metadata": {},
   "source": [
    "## Plot"
   ]
  },
  {
   "cell_type": "code",
   "execution_count": 75,
   "id": "58809ed3-4094-4f0f-a1e0-f36f462bdac1",
   "metadata": {},
   "outputs": [
    {
     "data": {
      "image/png": "[encoded data removed]",
      "text/plain": [
       "<Figure size 300x200 with 1 Axes>"
      ]
     },
     "metadata": {},
     "output_type": "display_data"
    }
   ],
   "source": [
    "quick_plot_combined(a23_p0047,\n",
    "                    kw_f={'data_list':data_p0047_list},\n",
    "                    kw_r3d={'data_list':data_r3d_p0047_list},\n",
    "                    kw_r={'etup':etup23})"
   ]
  },
  {
   "cell_type": "markdown",
   "id": "88573aff-afc8-464c-91ea-61da207a62e1",
   "metadata": {},
   "source": [
    "## Integrate Reduced Check"
   ]
  },
  {
   "cell_type": "code",
   "execution_count": 76,
   "id": "e6fe551f-9de1-4748-8fe3-cf970be24d03",
   "metadata": {},
   "outputs": [],
   "source": [
    "# multiple initial conditions\n",
    "init_phases23_p0047 = np.linspace(0,2*np.pi,6,endpoint=False)\n",
    "t3d_p0047 = np.arange(0,5000,.01)\n",
    "\n",
    "sols_3d = []\n",
    "sols_1d = []\n",
    "\n",
    "for i in range(len(init_phases23_p0047)):\n",
    "    sol3d_p0047 = solve_ivp(_redu_3dc,[0,t3d_p0047[-1]],\n",
    "                           [init_phases23_p0047[i],0,0],\n",
    "                           args=(a23_p0047,.05),t_eval=t3d_p0047)\n",
    "    \n",
    "    # sol1d_p0047 = solve_ivp(_redu_c,[0,t3d_p0047[-1]],\n",
    "    #                        [init_phases23_p0047[i]],\n",
    "    #                        args=(a23_p0047,.05),t_eval=t3d_p0047)\n",
    "    \n",
    "    sols_3d.append(sol3d_p0047)\n",
    "    # sols_1d.append(sol1d_p0047)"
   ]
  },
  {
   "cell_type": "code",
   "execution_count": 77,
   "id": "71065d89-c3cb-4fa1-96b0-956a81fc771b",
   "metadata": {
    "scrolled": true
   },
   "outputs": [
    {
     "name": "stdout",
     "output_type": "stream",
     "text": [
      "phase 0.0 [ 1.45180933 -0.07290257 -0.04821172]\n",
      "phase 1.0471975511965976 [ 1.4522403  -0.07290093 -0.04821255]\n",
      "phase 2.0943951023931953 [ 5.29655708 -0.07897225 -0.04334185]\n",
      "phase 3.141592653589793 [ 5.50366719 -0.07436746 -0.04735038]\n",
      "phase 4.1887902047863905 [ 5.75230545 -0.07297087 -0.04783167]\n",
      "phase 5.235987755982988 [ 5.78149114 -0.07308865 -0.04761673]\n"
     ]
    },
    {
     "data": {
      "image/png": "[encoded data removed]",
      "text/plain": [
       "<Figure size 600x200 with 1 Axes>"
      ]
     },
     "metadata": {},
     "output_type": "display_data"
    }
   ],
   "source": [
    "fig,axs = plt.subplots(figsize=(6,2))\n",
    "for i in range(len(init_phases23_p0047)):\n",
    "    axs.plot(t3d_p0047,sols_3d[i].y[0],color='blue')\n",
    "    # axs.plot(t3d_p0047,sols_1d[i].y[0],color='red')\n",
    "    print('phase',init_phases23_p0047[i],sols_3d[i].y.T[-1,:])"
   ]
  },
  {
   "cell_type": "code",
   "execution_count": null,
   "id": "f831e6d5-04f4-4dab-92f4-3c1bc838bd4f",
   "metadata": {},
   "outputs": [],
   "source": []
  },
  {
   "cell_type": "code",
   "execution_count": null,
   "id": "81c3fb7e-f2e1-47c7-95e8-eb658a8a7a07",
   "metadata": {},
   "outputs": [],
   "source": []
  }
 ],
 "metadata": {
  "jpcodetoc-autonumbering": true,
  "kernelspec": {
   "display_name": "Python 3 (ipykernel)",
   "language": "python",
   "name": "python3"
  },
  "language_info": {
   "codemirror_mode": {
    "name": "ipython",
    "version": 3
   },
   "file_extension": ".py",
   "mimetype": "text/x-python",
   "name": "python",
   "nbconvert_exporter": "python",
   "pygments_lexer": "ipython3",
   "version": "3.10.14"
  }
 },
 "nbformat": 4,
 "nbformat_minor": 5
}
