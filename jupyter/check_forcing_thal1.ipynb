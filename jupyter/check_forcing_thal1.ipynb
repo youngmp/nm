{
 "cells": [
  {
   "cell_type": "code",
   "execution_count": 1,
   "id": "c4557a3a-0c2c-42e7-8ec6-699d3b59f18d",
   "metadata": {
    "tags": []
   },
   "outputs": [],
   "source": [
    "import sys; sys.path.insert(0, '..') # add parent folder path where lib folder is\n",
    "# user-defined\n",
    "import nmCoupling as nm\n",
    "import response as rp\n",
    "#import cgl_thalamic as ct\n",
    "import thal1\n",
    "from cgl_thalamic import rhs_thal\n",
    "\n",
    "from importlib import reload\n",
    "import numpy as np\n",
    "import matplotlib.pyplot as plt\n",
    "import sympy as sym\n",
    "from scipy.integrate import solve_ivp"
   ]
  },
  {
   "cell_type": "code",
   "execution_count": 2,
   "id": "97ee467a-9c1f-4921-9163-c75120186e6a",
   "metadata": {
    "tags": []
   },
   "outputs": [],
   "source": [
    "reload(thal1);reload(nm);reload(rp)\n",
    "nmc = nm.nmCoupling;rsp = rp.Response"
   ]
  },
  {
   "cell_type": "markdown",
   "id": "9abda455-809c-4761-ab5f-ba369d1938f9",
   "metadata": {},
   "source": [
    "# Forcing function"
   ]
  },
  {
   "cell_type": "code",
   "execution_count": 3,
   "id": "3bf677cf-b8a6-4077-94ea-b0b79af3fd89",
   "metadata": {
    "tags": []
   },
   "outputs": [],
   "source": [
    "def ff(x,a,om,del1=0):\n",
    "    return a*np.sin((om+del1)*x)+.2"
   ]
  },
  {
   "cell_type": "markdown",
   "id": "be3d3dec-a4c6-4468-b5f8-4caf29f12603",
   "metadata": {},
   "source": [
    "# Thalamic 1"
   ]
  },
  {
   "cell_type": "code",
   "execution_count": 4,
   "id": "58892154-4ec0-41c2-a1f7-a701d9c51754",
   "metadata": {},
   "outputs": [],
   "source": [
    "pd1 = {'gL':0.05,'gna':3,'gk':5,\n",
    "       'gt':5,'eL':-70,'ena':50,\n",
    "       'ek':-90,'et':0,'esyn':-1,\n",
    "       'c':1,'alpha':3,'beta':2,\n",
    "       'sigmat':0.8,'vt':-20,\n",
    "       'ib':8.5,'om':1,'om_fix':1}\n",
    "\n",
    "pd2 = {'om':1,'amp':1,'om_fix':1,'esyn':-1,'c':1}"
   ]
  },
  {
   "cell_type": "code",
   "execution_count": 5,
   "id": "d5235355-b763-4707-a0eb-475bdfd8624e",
   "metadata": {
    "tags": []
   },
   "outputs": [
    {
     "name": "stdout",
     "output_type": "stream",
     "text": [
      "* Loading LC data...\n",
      "* Loading monodromy...\n",
      "* Floquet Exponent kappa =-0.023568265867307696\n",
      "* Loading g symbolic...\n",
      "* Computing g...\n",
      "* Loading heterogeneous terms...\n",
      "* Computing z...\n",
      "* Computing i...\n"
     ]
    }
   ],
   "source": [
    "system1 = rsp(var_names=['v','h','r','qt'],\n",
    "              pardict=pd1,rhs=rhs_thal,\n",
    "              init=np.array([-.64,0.71,0.25,0,5]),\n",
    "              TN=2000,\n",
    "              idx=0,\n",
    "              model_name='thalf0',\n",
    "              \n",
    "              #recompute_list=['g','z','i'],\n",
    "              z_forward=False,\n",
    "              i_forward=False,\n",
    "              i_bad_dx=False,\n",
    "              coupling=thal1.coupling_thal)"
   ]
  },
  {
   "cell_type": "code",
   "execution_count": 6,
   "id": "9321475b-a7a3-4b1a-9c6d-817924461ce0",
   "metadata": {
    "tags": []
   },
   "outputs": [],
   "source": [
    "# default period must be 2*np.pi\n",
    "system2 = rsp(var_names=[],\n",
    "              pardict=pd2,rhs=None,init=None,\n",
    "              coupling=None,\n",
    "              model_name='thal_force1',\n",
    "              forcing_fn=ff,\n",
    "              idx=1,\n",
    "              TN=0)"
   ]
  },
  {
   "cell_type": "code",
   "execution_count": 7,
   "id": "095376b8-4577-4106-96e2-3e3b3821f3b2",
   "metadata": {
    "tags": []
   },
   "outputs": [
    {
     "name": "stdout",
     "output_type": "stream",
     "text": [
      "* Loading p symbolic...\n",
      "* Computing p...\n",
      "* Computing p...\n",
      "* Computing p...\n",
      "* Loading H symbolic...\n",
      "* Computing H thalf0, order=0...\n",
      "* Computing H thalf0, order=1...\n",
      "* Computing H thalf0, order=2...\n"
     ]
    }
   ],
   "source": [
    "a = nmc(system1,system2,\n",
    "       recompute_list=['p_data_thalf0','h_data_thalf0'],\n",
    "       _n=('om0',1),_m=('om1',1),\n",
    "       NP=500,NH=500)"
   ]
  },
  {
   "cell_type": "code",
   "execution_count": 8,
   "id": "569d5ce8-5d04-4482-a525-19becea0a222",
   "metadata": {
    "tags": []
   },
   "outputs": [
    {
     "name": "stdout",
     "output_type": "stream",
     "text": [
      "{'v0': [esyn0*f1*om0*om_fix0/c0 - f1*om0*om_fix0*v0/c0, -f1*om0*om_fix0*g_thalf0_v0[1]*p_thalf0[1]/c0, -f1*om0*om_fix0*g_thalf0_v0[1]*p_thalf0[2]/c0 - f1*om0*om_fix0*g_thalf0_v0[2]*p_thalf0[1]**2/c0], 'h0': [0, 0, 0], 'r0': [0, 0, 0], 'qt0': [0, 0, 0]}\n",
      "{0: 0, 1: esyn0*f1*om0*om_fix0*i_thalf0_v0[0]/c0 - f1*om0*om_fix0*v0*i_thalf0_v0[0]/c0, 2: esyn0*f1*om0*om_fix0*i_thalf0_v0[1]*p_thalf0[1]/c0 - f1*om0*om_fix0*v0*i_thalf0_v0[1]*p_thalf0[1]/c0 - f1*om0*om_fix0*g_thalf0_v0[1]*i_thalf0_v0[0]*p_thalf0[1]/c0}\n",
      "{0: esyn0*f1*om0*om_fix0*z_thalf0_v0[0]/c0 - f1*om0*om_fix0*v0*z_thalf0_v0[0]/c0, 1: esyn0*f1*om0*om_fix0*p_thalf0[1]*z_thalf0_v0[1]/c0 - f1*om0*om_fix0*v0*p_thalf0[1]*z_thalf0_v0[1]/c0 - f1*om0*om_fix0*g_thalf0_v0[1]*p_thalf0[1]*z_thalf0_v0[0]/c0, 2: esyn0*f1*om0*om_fix0*p_thalf0[1]**2*z_thalf0_v0[2]/c0 + esyn0*f1*om0*om_fix0*p_thalf0[2]*z_thalf0_v0[1]/c0 - f1*om0*om_fix0*v0*p_thalf0[1]**2*z_thalf0_v0[2]/c0 - f1*om0*om_fix0*v0*p_thalf0[2]*z_thalf0_v0[1]/c0 - f1*om0*om_fix0*g_thalf0_v0[1]*p_thalf0[1]**2*z_thalf0_v0[1]/c0 - f1*om0*om_fix0*g_thalf0_v0[1]*p_thalf0[2]*z_thalf0_v0[0]/c0 - f1*om0*om_fix0*g_thalf0_v0[2]*p_thalf0[1]**2*z_thalf0_v0[0]/c0}\n"
     ]
    }
   ],
   "source": [
    "print(system1.K['sym'])\n",
    "print(system1.p['sym'])\n",
    "print(system1.h['sym'])"
   ]
  },
  {
   "cell_type": "markdown",
   "id": "37761a66-d87e-480b-87c9-99e3c188b34c",
   "metadata": {},
   "source": [
    "## Reduced rhs"
   ]
  },
  {
   "cell_type": "code",
   "execution_count": 9,
   "id": "748a8287-98f3-4a09-b86d-eb2453acd4d8",
   "metadata": {
    "tags": []
   },
   "outputs": [],
   "source": [
    "def thal_redu(t,y,eps,system1):\n",
    "    h = 0\n",
    "    for i in range(system1.miter):\n",
    "        h += eps**(i+1)*(system1.h['lam'][i](y))\n",
    "\n",
    "    return h"
   ]
  },
  {
   "cell_type": "markdown",
   "id": "ef704a6c-f750-40aa-aae5-2f0eac52aa2a",
   "metadata": {},
   "source": [
    "## Plot reduced RHS"
   ]
  },
  {
   "cell_type": "code",
   "execution_count": 10,
   "id": "7120f66c-5417-4008-a6c3-c179924e28a7",
   "metadata": {
    "tags": []
   },
   "outputs": [
    {
     "data": {
      "image/png": "[encoded data removed]",
      "text/plain": [
       "<Figure size 432x288 with 3 Axes>"
      ]
     },
     "metadata": {
      "needs_background": "light"
     },
     "output_type": "display_data"
    }
   ],
   "source": [
    "fig,axs = plt.subplots(3,1)\n",
    "\n",
    "x = np.linspace(0,2*np.pi,200)\n",
    "for i in range(3):\n",
    "    axs[i].axhline(0,0,2*np.pi*a._m[1],color='gray')\n",
    "    axs[i].plot(x,system1.h['lam'][i](x))"
   ]
  },
  {
   "cell_type": "code",
   "execution_count": 11,
   "id": "95ee86b3-0208-4514-b057-7778ffabea9c",
   "metadata": {
    "tags": []
   },
   "outputs": [
    {
     "data": {
      "text/plain": [
       "[<matplotlib.lines.Line2D at 0x7f5b6f172c10>]"
      ]
     },
     "execution_count": 11,
     "metadata": {},
     "output_type": "execute_result"
    },
    {
     "data": {
      "image/png": "[encoded data removed]",
      "text/plain": [
       "<Figure size 432x288 with 1 Axes>"
      ]
     },
     "metadata": {
      "needs_background": "light"
     },
     "output_type": "display_data"
    }
   ],
   "source": [
    "eps = .1\n",
    "x = np.linspace(0,2*np.pi,1000)\n",
    "h = thal_redu(0,x,eps,system1)\n",
    "    \n",
    "fig,axs = plt.subplots()\n",
    "axs.axhline(0,0,2*np.pi,color='gray')\n",
    "axs.plot(x,h)"
   ]
  },
  {
   "cell_type": "markdown",
   "id": "c079354f-6efb-4c1b-bf99-eded42d79558",
   "metadata": {},
   "source": [
    "## Full rhs"
   ]
  },
  {
   "cell_type": "code",
   "execution_count": 12,
   "id": "ca659d2f-2929-41a7-af94-3d710fb3b109",
   "metadata": {
    "tags": []
   },
   "outputs": [],
   "source": [
    "def thal_full(t,y,eps,pd1,pd2):\n",
    "    out1 = rhs_thal(t,y,pd1,'val',0) + eps*thal1.coupling_thal([*y,system2(t)],pd1,'val',0)\n",
    "    return np.array(list(out1))"
   ]
  },
  {
   "cell_type": "markdown",
   "id": "fabe22d1-8e9b-46c0-9111-a74a99766285",
   "metadata": {},
   "source": [
    "# Integrate full and reduced"
   ]
  },
  {
   "cell_type": "code",
   "execution_count": 13,
   "id": "ba75d20a-6f4a-44d7-a8d1-0964f72aa42c",
   "metadata": {
    "tags": []
   },
   "outputs": [],
   "source": [
    "th_init = 2"
   ]
  },
  {
   "cell_type": "code",
   "execution_count": 14,
   "id": "3d21b09c-9c5d-4c2e-8a5b-526dcd1333f7",
   "metadata": {
    "tags": []
   },
   "outputs": [],
   "source": [
    "eps_val = .01\n",
    "pd1 = system1.pardict;pd2 = system2.pardict\n",
    "pd1['om0'] = a._n[1];pd2['om1'] = a._m[1]\n",
    "\n",
    "dt = .02;T=5000\n",
    "t = np.arange(0,T,dt)\n",
    "sol_redu = solve_ivp(thal_redu,[0,t[-1]],[th_init],method='LSODA',t_eval=t,\n",
    "                     args=(eps_val,system1),rtol=1e-7,atol=1e-7)"
   ]
  },
  {
   "cell_type": "code",
   "execution_count": 15,
   "id": "72ac1a76-4934-407e-a1b3-8e9d6184addc",
   "metadata": {
    "tags": []
   },
   "outputs": [],
   "source": [
    "# get init from LC\n",
    "y0 = system1.lc['dat'][int((th_init/(2*np.pi))*system1.TN),:]\n",
    "sol_full = solve_ivp(thal_full,[0,t[-1]],y0,method='LSODA',\n",
    "                     t_eval=t,args=(eps_val,pd1,pd2),rtol=1e-6,atol=1e-6)"
   ]
  },
  {
   "cell_type": "code",
   "execution_count": 16,
   "id": "4d20af4c-0664-40c0-ad65-98d317f9bbff",
   "metadata": {
    "tags": []
   },
   "outputs": [
    {
     "data": {
      "text/plain": [
       "(4899.9800000000005, 4999.9800000000005)"
      ]
     },
     "execution_count": 16,
     "metadata": {},
     "output_type": "execute_result"
    },
    {
     "data": {
      "image/png": "[encoded data removed]",
      "text/plain": [
       "<Figure size 720x288 with 1 Axes>"
      ]
     },
     "metadata": {
      "needs_background": "light"
     },
     "output_type": "display_data"
    }
   ],
   "source": [
    "fig,axs = plt.subplots(figsize=(10,4))\n",
    "axs.plot(sol_full.t,sol_full.y.T[:,0])\n",
    "axs.plot(sol_full.t,system2(sol_full.t))\n",
    "axs.set_xlim(t[-1]-100,t[-1])\n",
    "#axs.set_xlim(0,100)"
   ]
  },
  {
   "cell_type": "markdown",
   "id": "52b0a249-33dd-409b-bb87-4927c96c0e4d",
   "metadata": {},
   "source": [
    "## Full model phase estimate"
   ]
  },
  {
   "cell_type": "code",
   "execution_count": 17,
   "id": "34901786-0dd9-4621-b650-0a1a25a5d959",
   "metadata": {
    "tags": []
   },
   "outputs": [],
   "source": [
    "def get_phase(sol_full,skipn):\n",
    "\n",
    "    phase1 = np.zeros(len(sol_full.t[::skipn]))\n",
    "    for i in range(len(sol_full.t[::skipn])):\n",
    "        d1 = np.linalg.norm(sol_full.y.T[::skipn][i,:4]-system1.lc['dat'],axis=1)\n",
    "        phase1[i] = np.argmin(d1)/len(system1.lc['dat'])\n",
    "    return sol_full.t[::skipn],phase1"
   ]
  },
  {
   "cell_type": "code",
   "execution_count": 18,
   "id": "a5f4ab77-eee7-418f-a7d1-0def2a51a67d",
   "metadata": {
    "tags": []
   },
   "outputs": [],
   "source": [
    "# estimate phase for each model and compare phase difference\n",
    "skipn = 10\n",
    "x, phase1 = get_phase(sol_full,10)"
   ]
  },
  {
   "cell_type": "markdown",
   "id": "6848fd53-4af1-400b-a836-e94758029577",
   "metadata": {},
   "source": [
    "# Full vs phase"
   ]
  },
  {
   "cell_type": "code",
   "execution_count": 19,
   "id": "f695ae14-5cd9-4a9c-b350-550b1e7e7344",
   "metadata": {
    "tags": []
   },
   "outputs": [
    {
     "data": {
      "text/plain": [
       "(0.0, 6.283185307179586)"
      ]
     },
     "execution_count": 19,
     "metadata": {},
     "output_type": "execute_result"
    },
    {
     "data": {
      "image/png": "[encoded data removed]",
      "text/plain": [
       "<Figure size 432x288 with 1 Axes>"
      ]
     },
     "metadata": {
      "needs_background": "light"
     },
     "output_type": "display_data"
    }
   ],
   "source": [
    "fig,axs = plt.subplots()\n",
    "forcing_phase = np.mod(a._m[1]*np.linspace(0,x[-1],len(x)),2*np.pi)\n",
    "y = np.mod(phase1*2*np.pi-a.om*forcing_phase,2*np.pi)\n",
    "#y = phase1*2*np.pi\n",
    "\n",
    "axs.scatter(x,y,s=1)\n",
    "#axs.plot(x,np.mod(forcing_phase,2*np.pi))\n",
    "axs.plot(t,np.mod(sol_redu.y.T[:,0],2*np.pi),color='red')\n",
    "#axs.set_xlim(0,100)\n",
    "axs.set_ylim(0,2*np.pi)"
   ]
  },
  {
   "cell_type": "markdown",
   "id": "ad4d6abf-9e2d-4e4a-bd43-33bff1d5e31a",
   "metadata": {},
   "source": [
    "## Bifurcations in coupling strength"
   ]
  },
  {
   "cell_type": "code",
   "execution_count": 20,
   "id": "eea0f8e2-8df1-4e41-a8e8-307a4dd9d041",
   "metadata": {
    "tags": []
   },
   "outputs": [],
   "source": [
    "eps_list = np.linspace(0,.1,200)\n",
    "x = np.linspace(0,2*np.pi,1000)\n",
    "h = 0\n",
    "\n",
    "zu = []\n",
    "zs = []\n",
    "\n",
    "for eps_val in eps_list:\n",
    "    for i in range(system1.miter):\n",
    "        h += eps_val**(i+1)*(system1.h['lam'][i](x))\n",
    "    # get all zeros\n",
    "    z1 = x[1:][(h[1:]>0)*(h[:-1]<=0)]\n",
    "    z2 = x[1:][(h[1:]<0)*(h[:-1]>=0)]\n",
    "    zu.append(z1)\n",
    "    zs.append(z2)"
   ]
  },
  {
   "cell_type": "code",
   "execution_count": 21,
   "id": "c95208a2-2c0d-4334-9b98-4069bc29fe2e",
   "metadata": {
    "tags": []
   },
   "outputs": [
    {
     "data": {
      "image/png": "[encoded data removed]",
      "text/plain": [
       "<Figure size 432x288 with 1 Axes>"
      ]
     },
     "metadata": {
      "needs_background": "light"
     },
     "output_type": "display_data"
    }
   ],
   "source": [
    "fig,axs=plt.subplots()\n",
    "\n",
    "for xe, ye in zip(eps_list, zu):\n",
    "    axs.scatter([xe] * len(ye), ye,s=2,c='red')\n",
    "\n",
    "for xe, ye in zip(eps_list, zs):\n",
    "    axs.scatter([xe] * len(ye), ye,s=2,c='k')"
   ]
  },
  {
   "cell_type": "markdown",
   "id": "0b52bc8d-1b1a-426f-b996-9e7a0f93517b",
   "metadata": {},
   "source": [
    "## Range of initial conditions"
   ]
  },
  {
   "cell_type": "code",
   "execution_count": 105,
   "id": "b6ec5814-32a0-43c4-9190-d3a58ca6cb9f",
   "metadata": {
    "tags": []
   },
   "outputs": [],
   "source": [
    "# thlist = np.linspace(0,2*np.pi,10,endpoint=False)\n",
    "# epsval2 = .01\n",
    "\n",
    "# dt2 = .02;T2=200\n",
    "# t2 = np.arange(0,T2,dt2)\n",
    "\n",
    "# fig,axs = plt.subplots()\n",
    "# for th_val in thlist:\n",
    "#     sol_full = solve_ivp(thal_full,[0,t2[-1]],y0,\n",
    "#                          method='LSODA',t_eval=t2,args=(epsval2,pd1,pd2),\n",
    "#                          rtol=1e-6,atol=1e-6)\n",
    "#     x2,phases = get_phase(sol_full,20)\n",
    "\n",
    "#     forcing_phase2 = np.mod(a._m[1]*np.linspace(0,x2[-1],len(x2)),2*np.pi)\n",
    "#     #y2 = np.mod(phases*2*np.pi-a.om*forcing_phase2,2*np.pi)\n",
    "#     #axs.plot(x2,forcing_phase2);axs.plot(x2,phases*2*np.pi)\n",
    "#     axs.scatter(x2,np.mod(phases*2*np.pi-a.om*forcing_phase2,2*np.pi),s=5)\n",
    "    "
   ]
  },
  {
   "cell_type": "code",
   "execution_count": null,
   "id": "cbec96fb-ee98-4675-ad23-72353deeac9a",
   "metadata": {},
   "outputs": [],
   "source": []
  }
 ],
 "metadata": {
  "kernelspec": {
   "display_name": "Python 3 (ipykernel)",
   "language": "python",
   "name": "python3"
  },
  "language_info": {
   "codemirror_mode": {
    "name": "ipython",
    "version": 3
   },
   "file_extension": ".py",
   "mimetype": "text/x-python",
   "name": "python",
   "nbconvert_exporter": "python",
   "pygments_lexer": "ipython3",
   "version": "3.8.10"
  }
 },
 "nbformat": 4,
 "nbformat_minor": 5
}
