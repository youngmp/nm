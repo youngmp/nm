{
 "cells": [
  {
   "cell_type": "markdown",
   "id": "23e42e58-3a01-4071-805d-601b71b38b10",
   "metadata": {},
   "source": [
    "# gw2 2:1 Bifurcation Diagrams"
   ]
  },
  {
   "cell_type": "markdown",
   "id": "2a16f943-de0d-454b-ba8f-6b866d7a2763",
   "metadata": {},
   "source": [
    "I'm trying to figure out why the 1d bifurcation diagram in the full model is \"flipped\" compared to the reduced model.\n",
    "\n",
    "It is unclear if it's in how I set up the model equations, or if there is a calculation error.\n",
    "\n",
    "The homogeneous case works well enough. but with even a tiny bit of heterogeneity, the solutions don't match for small epsilon.\n",
    "\n",
    "Well it appears that the \"flip\" was due to 1. not including delta in the psi calculations, and 2. there is a qualitative match in the dynamics for sufficiently small epsilon, consistent with first-order averaging. I've checked the same dynamics using the higher-order response functions and the dynamics are faithfully reproduced. so seeing as how the only first-order approximation is the averaging, I believe it's the averaging that's limiting the accuracy here."
   ]
  },
  {
   "cell_type": "markdown",
   "id": "eead68f0-8581-493c-bebe-3df044f84f09",
   "metadata": {},
   "source": [
    "# Inits"
   ]
  },
  {
   "cell_type": "code",
   "execution_count": 1,
   "id": "bff2b64f-30fb-4920-bf9c-e04a6d6b4c29",
   "metadata": {},
   "outputs": [],
   "source": [
    "import sys; sys.path.insert(0, '..') # add parent folder path to lib\n",
    "# user-defined\n",
    "import nmCoupling as nm\n",
    "# import nmCoupling_old as nm\n",
    "import response as rp\n",
    "\n",
    "import gw2\n",
    "\n",
    "from lib.util import (get_phase, freq_est, get_tongue_1d, pl_exist_1d, \n",
    "get_period, bif1d, follow_phase_diffs, phase_lock_r3d, follow_locking_3d, \n",
    "get_initial_phase_diff_c, get_period)\n",
    "\n",
    "from lib.rhs import _redu_c, _full, _redu_full\n",
    "from lib.rhs import _redu_3dc_thal as _redu_3dc\n",
    "\n",
    "from lib.plot_util import add_diagram_1d_scatter, quick_plot_combined\n",
    "\n",
    "\n",
    "import numpy as np\n",
    "import scipy as sp\n",
    "import matplotlib.pyplot as plt\n",
    "from scipy.integrate import solve_ivp\n",
    "import sympy as sym\n",
    "\n",
    "from scipy.optimize import root,bisect\n",
    "from copy import deepcopy\n",
    "import os\n",
    "\n",
    "plt.rcParams.update({\n",
    "    \"text.usetex\": True,\n",
    "    \"font.family\": \"Helvetica\"\n",
    "})\n",
    "\n",
    "nmc = nm.nmCoupling\n",
    "rsp = rp.Response"
   ]
  },
  {
   "cell_type": "markdown",
   "id": "a1bb017e-41f4-4086-b284-822ae4712d82",
   "metadata": {},
   "source": [
    "## Dicts"
   ]
  },
  {
   "cell_type": "code",
   "execution_count": 2,
   "id": "d335ab16-8a22-4cc3-8433-8c24d50cef45",
   "metadata": {},
   "outputs": [],
   "source": [
    "kw_sim = {'rtol':1e-8,'atol':1e-8,'method':'LSODA'}"
   ]
  },
  {
   "cell_type": "code",
   "execution_count": 3,
   "id": "b4fb5202-c665-4c48-974b-859ec845ff1e",
   "metadata": {},
   "outputs": [],
   "source": [
    "pd1 = {'v1':.84,'v2':.42,'v4':.35,'v6':.35,'v8':1,\n",
    "           'k1':1,'k2':1,'k3':.7,'k4':1,'k5':.7,\n",
    "           'k6':1,'k7':.35,'k8':1,'K':0.5,'kc':1,\n",
    "           'n':6,'L':0,'eps':0,'del':0,'om':1,'om_fix':1}"
   ]
  },
  {
   "cell_type": "code",
   "execution_count": 4,
   "id": "53cc056f-badd-4d78-b4f8-bacad65a540e",
   "metadata": {
    "editable": true,
    "slideshow": {
     "slide_type": ""
    },
    "tags": []
   },
   "outputs": [],
   "source": [
    "kws1 = {'var_names':['x','y','z','v'],\n",
    "        'pardict':pd1,\n",
    "        'rhs':gw2.rhs,\n",
    "        'coupling':gw2.coupling,\n",
    "        'init':np.array([.3882,.523,1.357,.4347,24.2]),\n",
    "        'TN':10000,\n",
    "        'trunc_order':3,\n",
    "        'z_forward':False,\n",
    "        'i_forward':[False,True,False,False,False,False,False,False],\n",
    "        'i_bad_dx':[False,True,False,False,False,False,False,False],\n",
    "        'max_iter':50,\n",
    "        'rtol':1e-12,\n",
    "        'atol':1e-12,\n",
    "        'rel_tol':1e-9,\n",
    "        'save_fig':False,\n",
    "        'lc_prominence':.05,\n",
    "        'factor':0.5}"
   ]
  },
  {
   "cell_type": "markdown",
   "id": "3dfd6884-d02b-4ee8-a95a-6f9f80be3686",
   "metadata": {},
   "source": [
    "## Defs"
   ]
  },
  {
   "cell_type": "code",
   "execution_count": 5,
   "id": "4864d4ba-915e-4030-8a3f-a52585de12b9",
   "metadata": {},
   "outputs": [],
   "source": [
    "kw_bif = {'method':'LSODA','dense_output':True,'rtol':1e-9,'atol':1e-9}"
   ]
  },
  {
   "cell_type": "code",
   "execution_count": 6,
   "id": "dcb71253-ba88-4cc2-9d01-7c011891b5d5",
   "metadata": {},
   "outputs": [],
   "source": [
    "etup21 = (.001,.1,200)\n",
    "eps_list21r = np.linspace(*etup21)"
   ]
  },
  {
   "cell_type": "code",
   "execution_count": 7,
   "id": "0a8b29ab-d115-4d56-a0d0-249340085080",
   "metadata": {
    "editable": true,
    "slideshow": {
     "slide_type": ""
    },
    "tags": []
   },
   "outputs": [],
   "source": [
    "x_temp = np.linspace(-np.pi,3*np.pi,500)"
   ]
  },
  {
   "cell_type": "markdown",
   "id": "a97a9a8f-f2e9-4107-81ba-aeae83e39456",
   "metadata": {},
   "source": [
    "## Initialize Response Functions"
   ]
  },
  {
   "cell_type": "code",
   "execution_count": 8,
   "id": "e202b364-f6e1-488a-9a21-e8608cc4c558",
   "metadata": {
    "editable": true,
    "slideshow": {
     "slide_type": ""
    },
    "tags": []
   },
   "outputs": [
    {
     "name": "stdout",
     "output_type": "stream",
     "text": [
      "mkdir ./data/gw0/\n",
      "* Loading LC data...\n",
      "self.T 6.283185307179586 omfix 3.8590183230656914\n",
      "* Loading monodromy...\n",
      "* Floquet Exponent kappa =-0.15846659975489297\n",
      "* Loading g symbolic...\n",
      "* Computing g...\n",
      "* Loading heterogeneous terms...\n",
      "* Computing z...\n",
      "* Computing i...\n",
      "mkdir ./data/gw1/\n",
      "* Loading LC data...\n",
      "self.T 6.283185307179586 omfix 3.8590183230656914\n",
      "* Loading monodromy...\n",
      "* Floquet Exponent kappa =-0.15846659975489297\n",
      "* Loading g symbolic...\n",
      "* Computing g...\n",
      "* Loading heterogeneous terms...\n",
      "* Computing z...\n",
      "* Computing i...\n"
     ]
    }
   ],
   "source": [
    "system1 = rsp(idx=0,model_name='gw0',**kws1)\n",
    "system2 = rsp(idx=1,model_name='gw1',**kws1)"
   ]
  },
  {
   "cell_type": "code",
   "execution_count": 9,
   "id": "5b7e3888-fcba-4dd5-91e1-bf16c9ddca9f",
   "metadata": {},
   "outputs": [],
   "source": [
    "kw_nm = {'system1':system1,'system2':system2,'_n':('om0',2),'_m':('om1',1),\n",
    "        'NH':2048,'save_fig':False}"
   ]
  },
  {
   "cell_type": "markdown",
   "id": "082673fa-d5bd-4913-a320-dc4fd6fe8b77",
   "metadata": {},
   "source": [
    "# del=0.0"
   ]
  },
  {
   "cell_type": "code",
   "execution_count": 10,
   "id": "e877e0c4-dacf-4a89-b055-440fa2a224d3",
   "metadata": {
    "editable": true,
    "slideshow": {
     "slide_type": ""
    },
    "tags": []
   },
   "outputs": [
    {
     "name": "stdout",
     "output_type": "stream",
     "text": [
      "pfactor 4\n",
      "* Loading p symbolic...\n",
      "* Loading p symbolic...\n",
      "* Loading H symbolic...\n",
      "* Loading H symbolic...\n",
      "* Loading H gw0, order=0...\n",
      "* Loading H gw1, order=0...\n",
      "* Loading H gw0, order=1...\n",
      "* Loading H gw1, order=1...\n",
      "* Loading H gw0, order=2...\n",
      "* Loading H gw1, order=2...\n",
      "* Loading H gw0, order=3...\n",
      "* Loading H gw1, order=3...\n"
     ]
    }
   ],
   "source": [
    "del21_p0 = 0\n",
    "a21_p0 = nm.nmCoupling(**kw_nm, del1=del21_p0)"
   ]
  },
  {
   "cell_type": "markdown",
   "id": "685069bd-8e76-49d3-8268-09964e4cb876",
   "metadata": {},
   "source": [
    "### Get Branches Full"
   ]
  },
  {
   "cell_type": "code",
   "execution_count": 11,
   "id": "ae2ff6ad-74fc-472d-91e1-c3f1898ff8f7",
   "metadata": {},
   "outputs": [],
   "source": [
    "kw_p0 = {'a':a21_p0,'del1':del21_p0,'recompute':False,'bifdir':'bif1d_gw2/',\n",
    "        '_full_rhs':_full}"
   ]
  },
  {
   "cell_type": "code",
   "execution_count": 12,
   "id": "7a2d6562-b798-433e-841a-122106ea2c41",
   "metadata": {},
   "outputs": [],
   "source": [
    "data_p0_list = []"
   ]
  },
  {
   "cell_type": "code",
   "execution_count": 13,
   "id": "c2f28f2d-01ed-4e9d-ad8e-f608d2e7d182",
   "metadata": {},
   "outputs": [],
   "source": [
    "in_dicts = [dict(init=4,eps_init=0.01,eps_final=0.0775,deps=.005),\n",
    "               dict(init=4,eps_init=0.01,eps_final=0.0005,deps=-.001),\n",
    "               dict(init=2,eps_init=0.08,eps_final=0.11,deps=.01),\n",
    "               dict(init=2,eps_init=0.08,eps_final=0.04, deps=-.005)]"
   ]
  },
  {
   "cell_type": "code",
   "execution_count": 14,
   "id": "ad0b3c5f-3e37-4721-8ec0-39be2460f311",
   "metadata": {},
   "outputs": [
    {
     "name": "stdout",
     "output_type": "stream",
     "text": [
      "fname1 td_branch_init=4_nm=21_del=0_ei=0.01_ef=0.0775_de=0.005.txt\n",
      "fname2 ts_branch_init=4_nm=21_del=0_ei=0.01_ef=0.0775_de=0.005.txt\n",
      "fname1 td_branch_init=4_nm=21_del=0_ei=0.01_ef=0.0005_de=-0.001.txt\n",
      "fname2 ts_branch_init=4_nm=21_del=0_ei=0.01_ef=0.0005_de=-0.001.txt\n",
      "fname1 td_branch_init=2_nm=21_del=0_ei=0.08_ef=0.11_de=0.01.txt\n",
      "fname2 ts_branch_init=2_nm=21_del=0_ei=0.08_ef=0.11_de=0.01.txt\n",
      "fname1 td_branch_init=2_nm=21_del=0_ei=0.08_ef=0.04_de=-0.005.txt\n",
      "fname2 ts_branch_init=2_nm=21_del=0_ei=0.08_ef=0.04_de=-0.005.txt\n"
     ]
    }
   ],
   "source": [
    "for i in range(len(in_dicts)):\n",
    "    in1 = in_dicts[i]\n",
    "    dat = follow_phase_diffs(**in1,**kw_p0)\n",
    "    data_p0_list.append(dat)"
   ]
  },
  {
   "cell_type": "code",
   "execution_count": 15,
   "id": "0725cd3a-dae7-45e6-8ec6-bcdfcc91fba5",
   "metadata": {},
   "outputs": [],
   "source": [
    "# save hyperparameters\n",
    "fname = kw_p0['bifdir']+'hyper_gw2_21_p0.txt'\n",
    "hyp_inputs = np.zeros([len(in_dicts),4])\n",
    "for i in range(len(in_dicts)):\n",
    "    hyp_inputs[i,0] = in_dicts[i]['init']\n",
    "    hyp_inputs[i,1] = in_dicts[i]['eps_init']\n",
    "    hyp_inputs[i,2] = in_dicts[i]['eps_final']\n",
    "    hyp_inputs[i,3] = in_dicts[i]['deps']\n",
    "np.savetxt(fname,hyp_inputs)"
   ]
  },
  {
   "cell_type": "markdown",
   "id": "4e24d41e-aefe-4135-8677-b7b0ff1d549a",
   "metadata": {},
   "source": [
    "## Get Branches 3D"
   ]
  },
  {
   "cell_type": "code",
   "execution_count": 16,
   "id": "ac269980-efde-4318-939a-9b0d9567b503",
   "metadata": {},
   "outputs": [],
   "source": [
    "data_r3d_p0_list = []"
   ]
  },
  {
   "cell_type": "code",
   "execution_count": 17,
   "id": "d6cf95a8-6af3-42f2-b3f2-eb99fa0894eb",
   "metadata": {
    "scrolled": true
   },
   "outputs": [
    {
     "name": "stdout",
     "output_type": "stream",
     "text": [
      "t_diff 4.34237720262784710, Y=[ 4.3423772  -0.01415792 -0.01768366]                                              \n",
      "[ 4.3424 -0.0142 -0.0177]\n"
     ]
    }
   ],
   "source": [
    "# find init for this branch mid\n",
    "_,init = phase_lock_r3d([4,0,0],a21_p0,.01,_redu_3dc)\n",
    "print(init)"
   ]
  },
  {
   "cell_type": "code",
   "execution_count": 18,
   "id": "56666dd9-3f5f-42c1-b473-b2a084b57890",
   "metadata": {
    "scrolled": true
   },
   "outputs": [],
   "source": [
    "# f\n",
    "dat = follow_locking_3d(init,a21_p0,(.01,.15,.01),\n",
    "                        rhs=_redu_3dc,recompute=False)\n",
    "data_r3d_p0_list.append(dat)"
   ]
  },
  {
   "cell_type": "code",
   "execution_count": 19,
   "id": "aae0937d-727c-401d-92f7-ffc0f9ff274b",
   "metadata": {
    "scrolled": true
   },
   "outputs": [],
   "source": [
    "# b\n",
    "dat = follow_locking_3d(init,a21_p0,(.01,.005,-.001),\n",
    "                        rhs=_redu_3dc,recompute=False)\n",
    "data_r3d_p0_list.append(dat)"
   ]
  },
  {
   "cell_type": "markdown",
   "id": "f4349401-648f-4edb-a6cc-94c0a99442f8",
   "metadata": {},
   "source": [
    "## Plot"
   ]
  },
  {
   "cell_type": "code",
   "execution_count": 20,
   "id": "2875ee00-cba1-4925-9005-2f2a91379f7a",
   "metadata": {},
   "outputs": [
    {
     "name": "stdout",
     "output_type": "stream",
     "text": [
      "eps_min 0.024999999999999998\n"
     ]
    },
    {
     "data": {
      "image/png": "[encoded data removed]",
      "text/plain": [
       "<Figure size 300x200 with 1 Axes>"
      ]
     },
     "metadata": {},
     "output_type": "display_data"
    },
    {
     "data": {
      "image/png": "[encoded data removed]",
      "text/plain": [
       "<Figure size 300x400 with 2 Axes>"
      ]
     },
     "metadata": {},
     "output_type": "display_data"
    }
   ],
   "source": [
    "quick_plot_combined(a21_p0,\n",
    "                    kw_f={'data_list':data_p0_list},\n",
    "                    kw_r3d={'data_list':data_r3d_p0_list},\n",
    "                    kw_r={'etup':etup21})"
   ]
  },
  {
   "cell_type": "markdown",
   "id": "e8414452-549a-4849-8902-70147c386978",
   "metadata": {},
   "source": [
    "## Sims"
   ]
  },
  {
   "cell_type": "code",
   "execution_count": 21,
   "id": "4bc8948a-3e7f-4627-952f-f74576526a92",
   "metadata": {},
   "outputs": [],
   "source": [
    "# coupling and init\n",
    "eps21_p0 = 0.0\n",
    "th_init21_p0 = 2"
   ]
  },
  {
   "cell_type": "code",
   "execution_count": 22,
   "id": "5dc61576-9031-4227-80cd-fb603578aa6f",
   "metadata": {},
   "outputs": [],
   "source": [
    "# sim params\n",
    "dt = .01;T_p04=1000\n",
    "t21_p0 = np.arange(0,T_p04,dt)\n",
    "args21_p0 = {'args':(a21_p0,eps21_p0,del21_p0),\n",
    "             't_eval':t21_p0,**kw_sim,'dense_output':True}"
   ]
  },
  {
   "cell_type": "code",
   "execution_count": 23,
   "id": "11fe44ea-f4d3-48c1-b35f-ff6592ce1907",
   "metadata": {
    "tags": []
   },
   "outputs": [],
   "source": [
    "# initialize and run full\n",
    "y0a = a21_p0.system1.lc['dat'][int((th_init21_p0/(2*np.pi)) * a21_p0.system1.TN),:]\n",
    "y0b = a21_p0.system2.lc['dat'][int((0/(2*np.pi)) * a21_p0.system2.TN),:]\n",
    "\n",
    "y0_p04 = np.array([y0a,y0b]).flatten()\n",
    "\n",
    "solf21_p0 = solve_ivp(_full,[0,t21_p0[-1]],\n",
    "                        y0_p04, **args21_p0)"
   ]
  },
  {
   "cell_type": "code",
   "execution_count": 24,
   "id": "fa86e153-f83a-421a-a4f6-5f8700973a7f",
   "metadata": {
    "tags": []
   },
   "outputs": [],
   "source": [
    "solr21_p0 = solve_ivp(_redu_c,[0,t21_p0[-1]],\n",
    "                     [th_init21_p0],**args21_p0)"
   ]
  },
  {
   "cell_type": "code",
   "execution_count": 25,
   "id": "9413e1ac-2bb9-40d6-86e6-ac0f4e581d9b",
   "metadata": {},
   "outputs": [],
   "source": [
    "# solr12b_p04 = solve_ivp(_redu_3dc,[0,t21_p0[-1]],\n",
    "#                     [th_init21_p0,0,0],**args21_p0)"
   ]
  },
  {
   "cell_type": "code",
   "execution_count": 26,
   "id": "64a71f9b-f966-41ec-9975-9c645e21551b",
   "metadata": {},
   "outputs": [],
   "source": [
    "tp12a_p04, phase12a_p04 = get_phase(t21_p0,solf21_p0.y.T[:,:4],\n",
    "                            skipn=50,system1=a21_p0.system1)\n",
    "tp12b_p04, phase12b_p04 = get_phase(t21_p0,solf21_p0.y.T[:,4:],\n",
    "                            skipn=50,system1=a21_p0.system2)"
   ]
  },
  {
   "cell_type": "code",
   "execution_count": 27,
   "id": "2650da56-2b0a-48a8-ae0b-6842cdb7a113",
   "metadata": {},
   "outputs": [
    {
     "data": {
      "text/plain": [
       "(-0.5, 6.783185307179586)"
      ]
     },
     "execution_count": 27,
     "metadata": {},
     "output_type": "execute_result"
    },
    {
     "data": {
      "image/png": "[encoded data removed]",
      "text/plain": [
       "<Figure size 640x480 with 1 Axes>"
      ]
     },
     "metadata": {},
     "output_type": "display_data"
    }
   ],
   "source": [
    "fig,axs = plt.subplots()\n",
    "y = np.mod(phase12a_p04 - a21_p0.om*phase12b_p04,2*np.pi)\n",
    "axs.scatter(tp12a_p04,y,s=1,alpha=.5,color='black')\n",
    "\n",
    "axs.plot(t21_p0,np.mod(solr21_p0.y.T,2*np.pi),\n",
    "         color='tab:red')\n",
    "\n",
    "axs.set_ylim(-.5,2*np.pi+.5)"
   ]
  },
  {
   "cell_type": "markdown",
   "id": "94e79ac0-40ae-4880-858c-3bfa5deac389",
   "metadata": {},
   "source": [
    "# del=0.0002"
   ]
  },
  {
   "cell_type": "code",
   "execution_count": 28,
   "id": "40d9118e-696d-4a9a-985d-69971b4ce5b8",
   "metadata": {
    "editable": true,
    "slideshow": {
     "slide_type": ""
    },
    "tags": []
   },
   "outputs": [
    {
     "name": "stdout",
     "output_type": "stream",
     "text": [
      "pfactor 4\n",
      "* Loading p symbolic...\n",
      "* Loading p symbolic...\n",
      "* Loading H symbolic...\n",
      "* Loading H symbolic...\n",
      "* Loading H gw0, order=0...\n",
      "* Loading H gw1, order=0...\n",
      "* Loading H gw0, order=1...\n",
      "* Loading H gw1, order=1...\n",
      "* Loading H gw0, order=2...\n",
      "* Loading H gw1, order=2...\n",
      "* Loading H gw0, order=3...\n",
      "* Loading H gw1, order=3...\n"
     ]
    }
   ],
   "source": [
    "del21_p0002 = 0.0002\n",
    "a21_p0002 = nm.nmCoupling(**kw_nm, del1=del21_p0002)"
   ]
  },
  {
   "cell_type": "code",
   "execution_count": 29,
   "id": "84f091f1-aa52-40d3-9382-7cd1cdd95ec0",
   "metadata": {},
   "outputs": [
    {
     "name": "stdout",
     "output_type": "stream",
     "text": [
      "['./data/gw0/p_data_ord=0_NP=2048_NH=2048_piter=4_n=2_m=1_f=False_de=0.0002.txt', './data/gw0/p_data_ord=1_NP=2048_NH=2048_piter=4_n=2_m=1_f=False_de=0.0002.txt', './data/gw0/p_data_ord=2_NP=2048_NH=2048_piter=4_n=2_m=1_f=False_de=0.0002.txt', './data/gw0/p_data_ord=3_NP=2048_NH=2048_piter=4_n=2_m=1_f=False_de=0.0002.txt']\n"
     ]
    }
   ],
   "source": [
    "print(a21_p0002.system1.p['fnames_data'])"
   ]
  },
  {
   "cell_type": "markdown",
   "id": "81a09acc-e576-49e1-8c09-33dde7e73f6e",
   "metadata": {},
   "source": [
    "### Get Branches Full"
   ]
  },
  {
   "cell_type": "code",
   "execution_count": 30,
   "id": "6777e957-9ba4-43b1-a2b5-110bb2d29278",
   "metadata": {},
   "outputs": [],
   "source": [
    "kw_p0002 = {'a':a21_p0002,'del1':del21_p0002,'recompute':False,\n",
    "            'bifdir':'bif1d_gw2/', '_full_rhs':_full}"
   ]
  },
  {
   "cell_type": "code",
   "execution_count": 31,
   "id": "0ca796fa-6403-4cc3-88ae-f638f7483d68",
   "metadata": {},
   "outputs": [],
   "source": [
    "data_p0002_list = []"
   ]
  },
  {
   "cell_type": "code",
   "execution_count": 32,
   "id": "a4cdf88a-7ec0-47a0-8fb7-cdcec0ced59b",
   "metadata": {},
   "outputs": [],
   "source": [
    "in_dicts = [dict(init=4,eps_init=0.01,eps_final=0.08,deps=.005),\n",
    "                  dict(init=4,eps_init=0.01,eps_final=0.0005,deps=-.001),\n",
    "                  dict(init=2,eps_init=0.08,eps_final=0.11,deps=.01),\n",
    "                  dict(init=2,eps_init=0.08,eps_final=0.03,deps=-.005)]"
   ]
  },
  {
   "cell_type": "code",
   "execution_count": 33,
   "id": "72ea85a6-b5f6-47e1-8c33-3fc361510e2c",
   "metadata": {},
   "outputs": [
    {
     "name": "stdout",
     "output_type": "stream",
     "text": [
      "fname1 td_branch_init=4_nm=21_del=0.0002_ei=0.01_ef=0.08_de=0.005.txt\n",
      "fname2 ts_branch_init=4_nm=21_del=0.0002_ei=0.01_ef=0.08_de=0.005.txt\n",
      "fname1 td_branch_init=4_nm=21_del=0.0002_ei=0.01_ef=0.0005_de=-0.001.txt\n",
      "fname2 ts_branch_init=4_nm=21_del=0.0002_ei=0.01_ef=0.0005_de=-0.001.txt\n",
      "fname1 td_branch_init=2_nm=21_del=0.0002_ei=0.08_ef=0.11_de=0.01.txt\n",
      "fname2 ts_branch_init=2_nm=21_del=0.0002_ei=0.08_ef=0.11_de=0.01.txt\n",
      "fname1 td_branch_init=2_nm=21_del=0.0002_ei=0.08_ef=0.03_de=-0.005.txt\n",
      "fname2 ts_branch_init=2_nm=21_del=0.0002_ei=0.08_ef=0.03_de=-0.005.txt\n"
     ]
    }
   ],
   "source": [
    "for i in range(len(in_dicts)):\n",
    "    in1 = in_dicts[i]\n",
    "    dat = follow_phase_diffs(**in1,**kw_p0002)\n",
    "    data_p0002_list.append(dat)"
   ]
  },
  {
   "cell_type": "code",
   "execution_count": 34,
   "id": "680a6d27-dda1-4c8f-bf93-80b105ecfe38",
   "metadata": {},
   "outputs": [],
   "source": [
    "# save hyperparameters\n",
    "fname = kw_p0['bifdir']+'hyper_gw2_21_p0002.txt'\n",
    "hyp_inputs = np.zeros([len(in_dicts),4])\n",
    "for i in range(len(in_dicts)):\n",
    "    hyp_inputs[i,0] = in_dicts[i]['init']\n",
    "    hyp_inputs[i,1] = in_dicts[i]['eps_init']\n",
    "    hyp_inputs[i,2] = in_dicts[i]['eps_final']\n",
    "    hyp_inputs[i,3] = in_dicts[i]['deps']\n",
    "np.savetxt(fname,hyp_inputs)"
   ]
  },
  {
   "cell_type": "markdown",
   "id": "5f2f6d81-b98f-4e99-8a2f-de15b483f718",
   "metadata": {},
   "source": [
    "## Get Branches 3D"
   ]
  },
  {
   "cell_type": "code",
   "execution_count": 35,
   "id": "e08b0be6-fd55-43f4-a7b9-9a41553cdea7",
   "metadata": {},
   "outputs": [],
   "source": [
    "data_r3d_p0002_list = []"
   ]
  },
  {
   "cell_type": "code",
   "execution_count": 36,
   "id": "d7ce702e-6dd8-4db2-ad32-63e83675a1c5",
   "metadata": {
    "scrolled": true
   },
   "outputs": [
    {
     "name": "stdout",
     "output_type": "stream",
     "text": [
      "t_diff 4.41271218061940811, Y=[ 4.41271218 -0.01367204 -0.01731887]                                              \n",
      "[ 4.4127 -0.0137 -0.0173]\n"
     ]
    },
    {
     "name": "stdout",
     "output_type": "stream",
     "text": [
      "iter=4, rel. err =4.91e-06, Y=[ 4.41271218 -0.01367204 -0.01731887]                                              \r"
     ]
    },
    {
     "name": "stdout",
     "output_type": "stream",
     "text": [
      "iter=5, rel. err =2.24e-11, Y=[ 4.41271218 -0.01367204 -0.01731887]                                              \r",
      "t_diff 4.412712180619408\n",
      "[ 4.4127 -0.0137 -0.0173]\n"
     ]
    }
   ],
   "source": [
    "# find init for this branch mid\n",
    "_,init = phase_lock_r3d([4,0,0],a21_p0002,.01,_redu_3dc)\n",
    "print(init)"
   ]
  },
  {
   "cell_type": "code",
   "execution_count": 37,
   "id": "d9063ae7-1974-4279-a561-88be5d3bd272",
   "metadata": {
    "scrolled": true
   },
   "outputs": [],
   "source": [
    "# f\n",
    "dat = follow_locking_3d(init,a21_p0002,(.01,.15,.01),\n",
    "                        rhs=_redu_3dc,recompute=False)\n",
    "data_r3d_p0002_list.append(dat)"
   ]
  },
  {
   "cell_type": "code",
   "execution_count": 38,
   "id": "bf45ba94-12d5-4045-adf2-ffc7f4e4c187",
   "metadata": {
    "scrolled": true
   },
   "outputs": [],
   "source": [
    "# b\n",
    "dat = follow_locking_3d(init,a21_p0002,(.01,.005,-.001),\n",
    "                        rhs=_redu_3dc,recompute=False)\n",
    "data_r3d_p0002_list.append(dat)"
   ]
  },
  {
   "cell_type": "markdown",
   "id": "9a2e969c-3b8c-4bcd-9233-774765b9b34f",
   "metadata": {},
   "source": [
    "## Plot"
   ]
  },
  {
   "cell_type": "code",
   "execution_count": 39,
   "id": "98b652ff-1bae-4d20-bbd3-5529715155fc",
   "metadata": {},
   "outputs": [
    {
     "name": "stdout",
     "output_type": "stream",
     "text": [
      "eps_min 0.03\n"
     ]
    },
    {
     "data": {
      "image/png": "[encoded data removed]",
      "text/plain": [
       "<Figure size 300x200 with 1 Axes>"
      ]
     },
     "metadata": {},
     "output_type": "display_data"
    },
    {
     "data": {
      "image/png": "[encoded data removed]",
      "text/plain": [
       "<Figure size 300x400 with 2 Axes>"
      ]
     },
     "metadata": {},
     "output_type": "display_data"
    }
   ],
   "source": [
    "quick_plot_combined(a21_p0002,\n",
    "                    kw_f={'data_list':data_p0002_list},\n",
    "                    kw_r3d={'data_list':data_r3d_p0002_list},\n",
    "                    kw_r={'etup':etup21})"
   ]
  },
  {
   "cell_type": "markdown",
   "id": "a02c63ec-0020-45ef-af4a-3cf3ffbc844b",
   "metadata": {},
   "source": [
    "# del=0.0004"
   ]
  },
  {
   "cell_type": "code",
   "execution_count": 40,
   "id": "b2873fa7-1861-4f67-84ae-f104ce1cdc74",
   "metadata": {
    "editable": true,
    "slideshow": {
     "slide_type": ""
    },
    "tags": []
   },
   "outputs": [
    {
     "name": "stdout",
     "output_type": "stream",
     "text": [
      "pfactor 4\n",
      "* Loading p symbolic...\n",
      "* Loading p symbolic...\n",
      "* Loading H symbolic...\n",
      "* Loading H symbolic...\n",
      "* Loading H gw0, order=0...\n",
      "* Loading H gw1, order=0...\n",
      "* Loading H gw0, order=1...\n",
      "* Loading H gw1, order=1...\n",
      "* Loading H gw0, order=2...\n",
      "* Loading H gw1, order=2...\n",
      "* Loading H gw0, order=3...\n",
      "* Loading H gw1, order=3...\n"
     ]
    }
   ],
   "source": [
    "del21_p0004 = 0.0004\n",
    "a21_p0004 = nm.nmCoupling(**kw_nm, del1=del21_p0004)"
   ]
  },
  {
   "cell_type": "markdown",
   "id": "4a585e14-8a37-4639-83e9-443fcb2b0729",
   "metadata": {},
   "source": [
    "### Get Branches Full"
   ]
  },
  {
   "cell_type": "code",
   "execution_count": 41,
   "id": "292c47ac-2555-4b6d-bf16-8035107c4b78",
   "metadata": {},
   "outputs": [],
   "source": [
    "kw_p0004 = {'a':a21_p0004,'del1':del21_p0004,'recompute':False,\n",
    "            'bifdir':'bif1d_gw2/', '_full_rhs':_full}"
   ]
  },
  {
   "cell_type": "code",
   "execution_count": 42,
   "id": "f0e18a49-b1eb-42c2-bcd0-b2bbccb6e59a",
   "metadata": {},
   "outputs": [],
   "source": [
    "data_p0004_list = []"
   ]
  },
  {
   "cell_type": "code",
   "execution_count": 43,
   "id": "ec0281e3-04d2-4437-bedb-3b0c4c5dcdf0",
   "metadata": {},
   "outputs": [],
   "source": [
    "in_dicts = [dict(init=4,eps_init=0.01,eps_final=0.11,deps=.01),\n",
    "                  dict(init=4,eps_init=0.01,eps_final=0.0005,deps=-.001),\n",
    "                  dict(init=2,eps_init=0.08,eps_final=0.11,deps=.01),\n",
    "                  dict(init=2,eps_init=0.08,eps_final=0.025,deps=-.005)]"
   ]
  },
  {
   "cell_type": "code",
   "execution_count": 44,
   "id": "486f9637-93bc-411d-96ae-d24f2d4f1369",
   "metadata": {},
   "outputs": [
    {
     "name": "stdout",
     "output_type": "stream",
     "text": [
      "fname1 td_branch_init=4_nm=21_del=0.0004_ei=0.01_ef=0.11_de=0.01.txt\n",
      "fname2 ts_branch_init=4_nm=21_del=0.0004_ei=0.01_ef=0.11_de=0.01.txt\n",
      "fname1 td_branch_init=4_nm=21_del=0.0004_ei=0.01_ef=0.0005_de=-0.001.txt\n",
      "fname2 ts_branch_init=4_nm=21_del=0.0004_ei=0.01_ef=0.0005_de=-0.001.txt\n",
      "fname1 td_branch_init=2_nm=21_del=0.0004_ei=0.08_ef=0.11_de=0.01.txt\n",
      "fname2 ts_branch_init=2_nm=21_del=0.0004_ei=0.08_ef=0.11_de=0.01.txt\n",
      "fname1 td_branch_init=2_nm=21_del=0.0004_ei=0.08_ef=0.025_de=-0.005.txt\n",
      "fname2 ts_branch_init=2_nm=21_del=0.0004_ei=0.08_ef=0.025_de=-0.005.txt\n"
     ]
    }
   ],
   "source": [
    "for i in range(len(in_dicts)):\n",
    "    in1 = in_dicts[i]\n",
    "    dat = follow_phase_diffs(**in1,**kw_p0004)\n",
    "    data_p0004_list.append(dat)"
   ]
  },
  {
   "cell_type": "code",
   "execution_count": 45,
   "id": "775942a3-9d8c-41e8-85e8-d4b3309190c2",
   "metadata": {},
   "outputs": [],
   "source": [
    "# save hyperparameters\n",
    "fname = kw_p0['bifdir']+'hyper_gw2_21_p0004.txt'\n",
    "hyp_inputs = np.zeros([len(in_dicts),4])\n",
    "for i in range(len(in_dicts)):\n",
    "    hyp_inputs[i,0] = in_dicts[i]['init']\n",
    "    hyp_inputs[i,1] = in_dicts[i]['eps_init']\n",
    "    hyp_inputs[i,2] = in_dicts[i]['eps_final']\n",
    "    hyp_inputs[i,3] = in_dicts[i]['deps']\n",
    "np.savetxt(fname,hyp_inputs)"
   ]
  },
  {
   "cell_type": "markdown",
   "id": "6a856c64-6fd6-4adc-a43e-3c5776d17dea",
   "metadata": {},
   "source": [
    "## Get Branches 3D"
   ]
  },
  {
   "cell_type": "code",
   "execution_count": 46,
   "id": "4a1f800b-b1a8-404a-959e-04342d0106ff",
   "metadata": {},
   "outputs": [],
   "source": [
    "data_r3d_p0004_list = []"
   ]
  },
  {
   "cell_type": "code",
   "execution_count": 47,
   "id": "2fe9cf9a-3f00-4d01-9507-584729e7f318",
   "metadata": {
    "scrolled": true
   },
   "outputs": [
    {
     "name": "stdout",
     "output_type": "stream",
     "text": [
      "t_diff 4.47620028415316453, Y=[ 4.47620028 -0.01323761 -0.01695615]                                              \n",
      "[ 4.4762 -0.0132 -0.017 ]\n"
     ]
    },
    {
     "name": "stdout",
     "output_type": "stream",
     "text": [
      "iter=3, rel. err =3.80e-07, Y=[ 4.47620028 -0.01323761 -0.01695615]                                              \r"
     ]
    },
    {
     "name": "stdout",
     "output_type": "stream",
     "text": [
      "iter=4, rel. err =3.35e-13, Y=[ 4.47620028 -0.01323761 -0.01695615]                                              \r",
      "t_diff 4.4762002841531645\n",
      "[ 4.4762 -0.0132 -0.017 ]\n"
     ]
    }
   ],
   "source": [
    "# find init for this branch mid\n",
    "_,init = phase_lock_r3d([5,0,0],a21_p0004,.01,_redu_3dc)\n",
    "print(init)"
   ]
  },
  {
   "cell_type": "code",
   "execution_count": 48,
   "id": "2b6975e1-1e4e-49cc-86cf-786a50fd81e4",
   "metadata": {
    "scrolled": true
   },
   "outputs": [],
   "source": [
    "# f\n",
    "dat = follow_locking_3d(init,a21_p0004,(.01,.1,.01),\n",
    "                        rhs=_redu_3dc,recompute=False)\n",
    "data_r3d_p0004_list.append(dat)"
   ]
  },
  {
   "cell_type": "code",
   "execution_count": 49,
   "id": "9f344175-a51e-4afd-b49b-181538ee7df9",
   "metadata": {
    "scrolled": true
   },
   "outputs": [],
   "source": [
    "# b\n",
    "dat = follow_locking_3d(init,a21_p0004,(.01,.005,-.001),\n",
    "                        rhs=_redu_3dc,recompute=False)\n",
    "data_r3d_p0004_list.append(dat)"
   ]
  },
  {
   "cell_type": "markdown",
   "id": "06bded68-345f-4895-88fb-79e33c451b58",
   "metadata": {},
   "source": [
    "## Plot"
   ]
  },
  {
   "cell_type": "code",
   "execution_count": 50,
   "id": "dcc61417-3650-41b7-8162-971683a107ff",
   "metadata": {},
   "outputs": [
    {
     "name": "stdout",
     "output_type": "stream",
     "text": [
      "eps_min 0.029999999999999957\n"
     ]
    },
    {
     "data": {
      "image/png": "[encoded data removed]",
      "text/plain": [
       "<Figure size 300x200 with 1 Axes>"
      ]
     },
     "metadata": {},
     "output_type": "display_data"
    },
    {
     "data": {
      "image/png": "[encoded data removed]",
      "text/plain": [
       "<Figure size 300x400 with 2 Axes>"
      ]
     },
     "metadata": {},
     "output_type": "display_data"
    }
   ],
   "source": [
    "quick_plot_combined(a21_p0004,\n",
    "                    kw_f={'data_list':data_p0004_list},\n",
    "                    kw_r3d={'data_list':data_r3d_p0004_list},\n",
    "                    kw_r={'etup':etup21})"
   ]
  },
  {
   "cell_type": "markdown",
   "id": "b6f3e784-c886-431c-bc43-ad1dd58396d0",
   "metadata": {},
   "source": [
    "# del=0.001"
   ]
  },
  {
   "cell_type": "code",
   "execution_count": 51,
   "id": "4e97091d-1073-40d4-bfe9-d9b57a9e1587",
   "metadata": {
    "editable": true,
    "slideshow": {
     "slide_type": ""
    },
    "tags": []
   },
   "outputs": [
    {
     "name": "stdout",
     "output_type": "stream",
     "text": [
      "pfactor 4\n",
      "* Loading p symbolic...\n",
      "* Loading p symbolic...\n",
      "* Loading H symbolic...\n",
      "* Loading H symbolic...\n",
      "* Loading H gw0, order=0...\n",
      "* Loading H gw1, order=0...\n",
      "* Loading H gw0, order=1...\n",
      "* Loading H gw1, order=1...\n",
      "* Loading H gw0, order=2...\n",
      "* Loading H gw1, order=2...\n",
      "* Loading H gw0, order=3...\n",
      "* Loading H gw1, order=3...\n"
     ]
    }
   ],
   "source": [
    "del21_p001 = 0.001\n",
    "a21_p001 = nm.nmCoupling(**kw_nm, del1=del21_p001)"
   ]
  },
  {
   "cell_type": "markdown",
   "id": "45222360-152b-4516-a7da-cc70ab128d7d",
   "metadata": {},
   "source": [
    "### Get Branches Full"
   ]
  },
  {
   "cell_type": "code",
   "execution_count": 52,
   "id": "1d0f47f3-0774-43ba-843e-4eb5b2c8627b",
   "metadata": {},
   "outputs": [],
   "source": [
    "kw_p001 = {'a':a21_p001,'del1':del21_p001,'recompute':False,\n",
    "            'bifdir':'bif1d_gw2/', '_full_rhs':_full}"
   ]
  },
  {
   "cell_type": "code",
   "execution_count": 53,
   "id": "c5b926b7-2e24-44b2-b961-9157fea7643d",
   "metadata": {},
   "outputs": [],
   "source": [
    "data_p001_list = []"
   ]
  },
  {
   "cell_type": "code",
   "execution_count": 54,
   "id": "dbf3c2be-784b-4662-8fb0-410f3c26a45f",
   "metadata": {},
   "outputs": [],
   "source": [
    "in_dicts = [dict(init=4,eps_init=0.01,eps_final=0.11,deps=.01),\n",
    "                 dict(init=4,eps_init=0.01,eps_final=0.0005,deps=-.001),\n",
    "                 dict(init=2,eps_init=0.08,eps_final=0.11,deps=.01),\n",
    "                 dict(init=2,eps_init=0.08,eps_final=0.025,deps=-.005)]"
   ]
  },
  {
   "cell_type": "code",
   "execution_count": 55,
   "id": "eb04d196-3235-4f2c-b24f-47d2ca53dd8e",
   "metadata": {},
   "outputs": [
    {
     "name": "stdout",
     "output_type": "stream",
     "text": [
      "fname1 td_branch_init=4_nm=21_del=0.001_ei=0.01_ef=0.11_de=0.01.txt\n",
      "fname2 ts_branch_init=4_nm=21_del=0.001_ei=0.01_ef=0.11_de=0.01.txt\n",
      "fname1 td_branch_init=4_nm=21_del=0.001_ei=0.01_ef=0.0005_de=-0.001.txt\n",
      "fname2 ts_branch_init=4_nm=21_del=0.001_ei=0.01_ef=0.0005_de=-0.001.txt\n",
      "fname1 td_branch_init=2_nm=21_del=0.001_ei=0.08_ef=0.11_de=0.01.txt\n",
      "fname2 ts_branch_init=2_nm=21_del=0.001_ei=0.08_ef=0.11_de=0.01.txt\n",
      "fname1 td_branch_init=2_nm=21_del=0.001_ei=0.08_ef=0.025_de=-0.005.txt\n",
      "fname2 ts_branch_init=2_nm=21_del=0.001_ei=0.08_ef=0.025_de=-0.005.txt\n"
     ]
    }
   ],
   "source": [
    "for i in range(len(in_dicts)):\n",
    "    in1 = in_dicts[i]\n",
    "    dat = follow_phase_diffs(**in1,**kw_p001)\n",
    "    data_p001_list.append(dat)"
   ]
  },
  {
   "cell_type": "code",
   "execution_count": 56,
   "id": "113e77e9-c426-4b4f-8ecf-8866ed9a2466",
   "metadata": {},
   "outputs": [],
   "source": [
    "# save hyperparameters\n",
    "fname = kw_p001['bifdir']+'hyper_gw2_21_p001.txt'\n",
    "hyp_inputs = np.zeros([len(in_dicts),4])\n",
    "for i in range(len(in_dicts)):\n",
    "    hyp_inputs[i,0] = in_dicts[i]['init']\n",
    "    hyp_inputs[i,1] = in_dicts[i]['eps_init']\n",
    "    hyp_inputs[i,2] = in_dicts[i]['eps_final']\n",
    "    hyp_inputs[i,3] = in_dicts[i]['deps']\n",
    "np.savetxt(fname,hyp_inputs)"
   ]
  },
  {
   "cell_type": "markdown",
   "id": "2796bc92-0e47-471d-ba18-4f8645eb7225",
   "metadata": {},
   "source": [
    "## Get Branches 3D"
   ]
  },
  {
   "cell_type": "code",
   "execution_count": 57,
   "id": "814ee912-5f04-466e-8b72-53ec5ce84a1d",
   "metadata": {},
   "outputs": [],
   "source": [
    "data_r3d_p001_list = []"
   ]
  },
  {
   "cell_type": "code",
   "execution_count": 58,
   "id": "228c53e4-e6d3-43a6-8538-473cf4af9a89",
   "metadata": {
    "scrolled": true
   },
   "outputs": [
    {
     "name": "stdout",
     "output_type": "stream",
     "text": [
      "t_diff 4.64246397697358-10, Y=[ 4.64246398 -0.01212603 -0.01586744]                                              \n",
      "[ 4.6425 -0.0121 -0.0159]\n"
     ]
    },
    {
     "name": "stdout",
     "output_type": "stream",
     "text": [
      "iter=3, rel. err =3.80e-07, Y=[ 4.47620028 -0.01323761 -0.01695615]                                              \r"
     ]
    },
    {
     "name": "stdout",
     "output_type": "stream",
     "text": [
      "iter=4, rel. err =3.35e-13, Y=[ 4.47620028 -0.01323761 -0.01695615]                                              \r",
      "t_diff 4.4762002841531645\n",
      "[ 4.4762 -0.0132 -0.017 ]\n"
     ]
    }
   ],
   "source": [
    "# find init for this branch mid\n",
    "_,init = phase_lock_r3d([5,0,0],a21_p001,.01,_redu_3dc)\n",
    "print(init)"
   ]
  },
  {
   "cell_type": "code",
   "execution_count": 59,
   "id": "e9ea7516-6b54-44b6-857d-6e6fbf85315f",
   "metadata": {
    "scrolled": true
   },
   "outputs": [],
   "source": [
    "# f\n",
    "dat = follow_locking_3d(init,a21_p001,(.01,.1,.01),\n",
    "                        rhs=_redu_3dc,recompute=False)\n",
    "data_r3d_p001_list.append(dat)"
   ]
  },
  {
   "cell_type": "code",
   "execution_count": 60,
   "id": "c308fc6e-baaa-46d3-9858-1b68ac25cf09",
   "metadata": {
    "scrolled": true
   },
   "outputs": [],
   "source": [
    "# b\n",
    "dat = follow_locking_3d(init,a21_p001,(.01,.005,-.001),\n",
    "                        rhs=_redu_3dc,recompute=False)\n",
    "data_r3d_p001_list.append(dat)"
   ]
  },
  {
   "cell_type": "markdown",
   "id": "69f73bdd-a277-42b1-9658-c662810ae1f7",
   "metadata": {},
   "source": [
    "## Plot"
   ]
  },
  {
   "cell_type": "code",
   "execution_count": 61,
   "id": "9e15afd1-05d7-4cc1-bcf5-e3b1b6028bd6",
   "metadata": {},
   "outputs": [
    {
     "name": "stdout",
     "output_type": "stream",
     "text": [
      "eps_min 0.03499999999999996\n"
     ]
    },
    {
     "data": {
      "image/png": "[encoded data removed]",
      "text/plain": [
       "<Figure size 300x200 with 1 Axes>"
      ]
     },
     "metadata": {},
     "output_type": "display_data"
    },
    {
     "data": {
      "image/png": "[encoded data removed]",
      "text/plain": [
       "<Figure size 300x400 with 2 Axes>"
      ]
     },
     "metadata": {},
     "output_type": "display_data"
    }
   ],
   "source": [
    "quick_plot_combined(a21_p001,\n",
    "                    kw_f={'data_list':data_p001_list},\n",
    "                    kw_r3d={'data_list':data_r3d_p001_list},\n",
    "                    kw_r={'etup':etup21})"
   ]
  },
  {
   "cell_type": "markdown",
   "id": "636700f3-35a3-4e93-9750-739593d60b8f",
   "metadata": {},
   "source": [
    "# del=0.002"
   ]
  },
  {
   "cell_type": "code",
   "execution_count": 62,
   "id": "dfb4e02d-e6e8-49ec-a80b-3f76b25ce140",
   "metadata": {
    "editable": true,
    "slideshow": {
     "slide_type": ""
    },
    "tags": []
   },
   "outputs": [
    {
     "name": "stdout",
     "output_type": "stream",
     "text": [
      "pfactor 4\n",
      "* Loading p symbolic...\n",
      "* Loading p symbolic...\n",
      "* Loading H symbolic...\n",
      "* Loading H symbolic...\n",
      "* Loading H gw0, order=0...\n",
      "* Loading H gw1, order=0...\n",
      "* Loading H gw0, order=1...\n",
      "* Loading H gw1, order=1...\n",
      "* Loading H gw0, order=2...\n",
      "* Loading H gw1, order=2...\n",
      "* Loading H gw0, order=3...\n",
      "* Loading H gw1, order=3...\n"
     ]
    }
   ],
   "source": [
    "del21_p002 = 0.002\n",
    "a21_p002 = nm.nmCoupling(**kw_nm, del1=del21_p002)"
   ]
  },
  {
   "cell_type": "markdown",
   "id": "49573cd9-2631-421c-867d-91d0132bdf5c",
   "metadata": {},
   "source": [
    "### Get Branches Full"
   ]
  },
  {
   "cell_type": "code",
   "execution_count": 63,
   "id": "6a50b2a5-3e2e-4a83-8610-d67d6886d9d3",
   "metadata": {},
   "outputs": [],
   "source": [
    "kw_p002 = {'a':a21_p002,'del1':del21_p002,'recompute':False,\n",
    "            'bifdir':'bif1d_gw2/', '_full_rhs':_full}"
   ]
  },
  {
   "cell_type": "code",
   "execution_count": 64,
   "id": "0b3d4e03-1ea9-499d-9402-f302465de67f",
   "metadata": {},
   "outputs": [],
   "source": [
    "data_p002_list = []"
   ]
  },
  {
   "cell_type": "code",
   "execution_count": 65,
   "id": "192b1034-75a7-4a6f-84e8-b732cbb44a55",
   "metadata": {},
   "outputs": [],
   "source": [
    "in_dicts = [dict(init=5,eps_init=0.01,eps_final=0.11,deps=.01),\n",
    "                 dict(init=5,eps_init=0.01,eps_final=0.0005,deps=-.001)]"
   ]
  },
  {
   "cell_type": "code",
   "execution_count": 66,
   "id": "60419c7a-07f0-4d88-b5a4-b1184b5c8d7a",
   "metadata": {},
   "outputs": [
    {
     "name": "stdout",
     "output_type": "stream",
     "text": [
      "fname1 td_branch_init=5_nm=21_del=0.002_ei=0.01_ef=0.11_de=0.01.txt\n",
      "fname2 ts_branch_init=5_nm=21_del=0.002_ei=0.01_ef=0.11_de=0.01.txt\n",
      "fname1 td_branch_init=5_nm=21_del=0.002_ei=0.01_ef=0.0005_de=-0.001.txt\n",
      "fname2 ts_branch_init=5_nm=21_del=0.002_ei=0.01_ef=0.0005_de=-0.001.txt\n"
     ]
    }
   ],
   "source": [
    "for i in range(len(in_dicts)):\n",
    "    in1 = in_dicts[i]\n",
    "    dat = follow_phase_diffs(**in1,**kw_p002)\n",
    "    data_p002_list.append(dat)"
   ]
  },
  {
   "cell_type": "code",
   "execution_count": 67,
   "id": "5402fd81-c2ac-4774-afb0-dd9d4f92bb80",
   "metadata": {},
   "outputs": [],
   "source": [
    "# save hyperparameters\n",
    "fname = kw_p002['bifdir']+'hyper_gw2_21_p002.txt'\n",
    "hyp_inputs = np.zeros([len(in_dicts),4])\n",
    "for i in range(len(in_dicts)):\n",
    "    hyp_inputs[i,0] = in_dicts[i]['init']\n",
    "    hyp_inputs[i,1] = in_dicts[i]['eps_init']\n",
    "    hyp_inputs[i,2] = in_dicts[i]['eps_final']\n",
    "    hyp_inputs[i,3] = in_dicts[i]['deps']\n",
    "np.savetxt(fname,hyp_inputs)"
   ]
  },
  {
   "cell_type": "markdown",
   "id": "b75f6093-a5ce-4900-aef7-8d8308c40326",
   "metadata": {},
   "source": [
    "## Get Branches 3D"
   ]
  },
  {
   "cell_type": "code",
   "execution_count": 68,
   "id": "38b02498-ef18-466d-99e4-39202607bb2d",
   "metadata": {},
   "outputs": [],
   "source": [
    "data_r3d_p002_list = []"
   ]
  },
  {
   "cell_type": "code",
   "execution_count": 69,
   "id": "5eeefd5d-7800-43c9-90a0-a9cf4f1c42b6",
   "metadata": {
    "scrolled": true
   },
   "outputs": [
    {
     "name": "stdout",
     "output_type": "stream",
     "text": [
      "t_diff 4.88365754756333309, Y=[ 4.88365755 -0.01058412 -0.01397829]                                              \n",
      "[ 4.8837 -0.0106 -0.014 ]\n"
     ]
    },
    {
     "name": "stdout",
     "output_type": "stream",
     "text": [
      "iter=3, rel. err =3.80e-07, Y=[ 4.47620028 -0.01323761 -0.01695615]                                              \r"
     ]
    },
    {
     "name": "stdout",
     "output_type": "stream",
     "text": [
      "iter=4, rel. err =3.35e-13, Y=[ 4.47620028 -0.01323761 -0.01695615]                                              \r",
      "t_diff 4.4762002841531645\n",
      "[ 4.4762 -0.0132 -0.017 ]\n"
     ]
    }
   ],
   "source": [
    "# find init for this branch mid\n",
    "_,init = phase_lock_r3d([5,0,0],a21_p002,.01,_redu_3dc)\n",
    "print(init)"
   ]
  },
  {
   "cell_type": "code",
   "execution_count": 70,
   "id": "7374363b-947f-425e-ac72-4efcf6920cc0",
   "metadata": {
    "scrolled": true
   },
   "outputs": [],
   "source": [
    "# f\n",
    "dat = follow_locking_3d(init,a21_p002,(.01,.11,.01),\n",
    "                        rhs=_redu_3dc,recompute=False)\n",
    "data_r3d_p002_list.append(dat)"
   ]
  },
  {
   "cell_type": "code",
   "execution_count": 71,
   "id": "c316c90f-21c8-48b4-8dd5-236da607f68a",
   "metadata": {
    "scrolled": true
   },
   "outputs": [],
   "source": [
    "# b\n",
    "dat = follow_locking_3d(init,a21_p002,(.01,.001,-.001),\n",
    "                        rhs=_redu_3dc,recompute=False)\n",
    "data_r3d_p002_list.append(dat)"
   ]
  },
  {
   "cell_type": "markdown",
   "id": "a0ba4d89-cc76-42e1-89df-6d1095edacf1",
   "metadata": {},
   "source": [
    "## Plot"
   ]
  },
  {
   "cell_type": "code",
   "execution_count": 72,
   "id": "8bf8e4ae-ba5a-456c-bb92-b4e4c566b3fa",
   "metadata": {},
   "outputs": [
    {
     "name": "stdout",
     "output_type": "stream",
     "text": [
      "eps_min 0.060000000000000005\n"
     ]
    },
    {
     "data": {
      "image/png": "[encoded data removed]",
      "text/plain": [
       "<Figure size 300x200 with 1 Axes>"
      ]
     },
     "metadata": {},
     "output_type": "display_data"
    },
    {
     "data": {
      "image/png": "[encoded data removed]",
      "text/plain": [
       "<Figure size 300x400 with 2 Axes>"
      ]
     },
     "metadata": {},
     "output_type": "display_data"
    }
   ],
   "source": [
    "quick_plot_combined(a21_p002,\n",
    "                    kw_f={'data_list':data_p002_list},\n",
    "                    kw_r3d={'data_list':data_r3d_p002_list},\n",
    "                    kw_r={'etup':etup21})"
   ]
  },
  {
   "cell_type": "markdown",
   "id": "f9ca8d2e-5fa6-4dca-a7f4-2efea4be95cf",
   "metadata": {},
   "source": [
    "# ==NEGATIVE=="
   ]
  },
  {
   "cell_type": "markdown",
   "id": "38da82b6-36b1-4a88-93d2-b9b36d4a7e26",
   "metadata": {},
   "source": [
    "# del=-0.0002"
   ]
  },
  {
   "cell_type": "code",
   "execution_count": 73,
   "id": "e1e5bddc-14ae-4fd7-b5b2-2708bece1707",
   "metadata": {
    "editable": true,
    "slideshow": {
     "slide_type": ""
    },
    "tags": []
   },
   "outputs": [
    {
     "name": "stdout",
     "output_type": "stream",
     "text": [
      "pfactor 4\n",
      "* Loading p symbolic...\n",
      "* Loading p symbolic...\n",
      "* Loading H symbolic...\n",
      "* Loading H symbolic...\n",
      "* Loading H gw0, order=0...\n",
      "* Loading H gw1, order=0...\n",
      "* Loading H gw0, order=1...\n",
      "* Loading H gw1, order=1...\n",
      "* Loading H gw0, order=2...\n",
      "* Loading H gw1, order=2...\n",
      "* Loading H gw0, order=3...\n",
      "* Loading H gw1, order=3...\n"
     ]
    },
    {
     "name": "stdout",
     "output_type": "stream",
     "text": [
      "* Loading H symbolic...\n",
      "* Loading H symbolic...\n",
      "* Loading H gw0, order=0...\n",
      "* Loading H gw1, order=0...\n",
      "* Loading H gw0, order=1...\n",
      "* Loading H gw1, order=1...\n",
      "* Loading H gw0, order=2...\n",
      "* Loading H gw1, order=2...\n",
      "* Loading H gw0, order=3...\n",
      "* Loading H gw1, order=3...\n"
     ]
    }
   ],
   "source": [
    "del21_p0002b = -0.0002\n",
    "a21_p0002b = nm.nmCoupling(**kw_nm, del1=del21_p0002b)"
   ]
  },
  {
   "cell_type": "markdown",
   "id": "ca6286cd-7923-4e6d-98b4-f7bbfd1ee9b8",
   "metadata": {},
   "source": [
    "### Get Branches Full"
   ]
  },
  {
   "cell_type": "code",
   "execution_count": 74,
   "id": "ee829a68-f287-4087-a377-617f49ffe3af",
   "metadata": {},
   "outputs": [],
   "source": [
    "kw_p0002b = {'a':a21_p0002b,'del1':del21_p0002b,'recompute':False,\n",
    "             'bifdir':'bif1d_gw2/', '_full_rhs':_full}"
   ]
  },
  {
   "cell_type": "code",
   "execution_count": 75,
   "id": "7afa2466-c753-46e3-886f-8c9a422a9149",
   "metadata": {},
   "outputs": [],
   "source": [
    "data_p0002b_list = []"
   ]
  },
  {
   "cell_type": "code",
   "execution_count": 76,
   "id": "c4d37c02-8252-43d3-bcbd-3955407f0fdc",
   "metadata": {},
   "outputs": [],
   "source": [
    "in_dicts = [dict(init=4,eps_init=0.01,eps_final=0.08,deps=.005),\n",
    "            dict(init=4,eps_init=0.01,eps_final=0.0005,deps=-.001),\n",
    "            dict(init=2,eps_init=0.08,eps_final=0.11,deps=.01),\n",
    "            dict(init=2,eps_init=0.08,eps_final=0.03,deps=-.005)]"
   ]
  },
  {
   "cell_type": "code",
   "execution_count": 78,
   "id": "0c04dff1-b96c-453c-9e57-1784c7f58f96",
   "metadata": {},
   "outputs": [
    {
     "name": "stdout",
     "output_type": "stream",
     "text": [
      "fname1 td_branch_init=4_nm=21_del=-0.0002_ei=0.01_ef=0.08_de=0.005.txt\n",
      "fname2 ts_branch_init=4_nm=21_del=-0.0002_ei=0.01_ef=0.08_de=0.005.txt\n",
      "fname1 td_branch_init=4_nm=21_del=-0.0002_ei=0.01_ef=0.0005_de=-0.001.txt\n",
      "fname2 ts_branch_init=4_nm=21_del=-0.0002_ei=0.01_ef=0.0005_de=-0.001.txt\n",
      "fname1 td_branch_init=2_nm=21_del=-0.0002_ei=0.08_ef=0.11_de=0.01.txt\n",
      "fname2 ts_branch_init=2_nm=21_del=-0.0002_ei=0.08_ef=0.11_de=0.01.txt\n",
      "fname1 td_branch_init=2_nm=21_del=-0.0002_ei=0.08_ef=0.03_de=-0.005.txt\n",
      "fname2 ts_branch_init=2_nm=21_del=-0.0002_ei=0.08_ef=0.03_de=-0.005.txt\n"
     ]
    }
   ],
   "source": [
    "for i in range(len(in_dicts)):\n",
    "    in1 = in_dicts[i]\n",
    "    dat = follow_phase_diffs(**in1,**kw_p0002b)\n",
    "    data_p0002b_list.append(dat)"
   ]
  },
  {
   "cell_type": "code",
   "execution_count": 79,
   "id": "454274f3-e2e0-42f2-bb8d-30d22f08fc66",
   "metadata": {},
   "outputs": [],
   "source": [
    "# save hyperparameters\n",
    "fname = kw_p0002b['bifdir']+'hyper_gw2_21_p0002b.txt'\n",
    "hyp_inputs = np.zeros([len(in_dicts),4])\n",
    "for i in range(len(in_dicts)):\n",
    "    hyp_inputs[i,0] = in_dicts[i]['init']\n",
    "    hyp_inputs[i,1] = in_dicts[i]['eps_init']\n",
    "    hyp_inputs[i,2] = in_dicts[i]['eps_final']\n",
    "    hyp_inputs[i,3] = in_dicts[i]['deps']\n",
    "np.savetxt(fname,hyp_inputs)"
   ]
  },
  {
   "cell_type": "markdown",
   "id": "f3dd3dd2-254f-4548-9bde-426432b021c6",
   "metadata": {},
   "source": [
    "## Get Branches 3D"
   ]
  },
  {
   "cell_type": "code",
   "execution_count": 80,
   "id": "4658e603-fe54-4c42-9b14-f3c5e360f60b",
   "metadata": {},
   "outputs": [],
   "source": [
    "data_r3d_p0002b_list = []"
   ]
  },
  {
   "cell_type": "code",
   "execution_count": 81,
   "id": "5d3641e0-9842-429f-b133-f3e653365915",
   "metadata": {
    "scrolled": true
   },
   "outputs": [
    {
     "name": "stdout",
     "output_type": "stream",
     "text": [
      "t_diff 4.26162439710210910, Y=[ 4.2616244  -0.01471897 -0.01805194]                                              \n",
      "[ 4.2616 -0.0147 -0.0181]\n"
     ]
    },
    {
     "name": "stdout",
     "output_type": "stream",
     "text": [
      "iter=2, rel. err =6.08e-02, Y=[ 4.26569563 -0.01469005 -0.0180507 ]                                              \r"
     ]
    },
    {
     "name": "stdout",
     "output_type": "stream",
     "text": [
      "iter=3, rel. err =4.05e-03, Y=[ 4.26164285 -0.01471884 -0.01805194]                                              \r"
     ]
    },
    {
     "name": "stdout",
     "output_type": "stream",
     "text": [
      "iter=4, rel. err =1.85e-05, Y=[ 4.2616244  -0.01471897 -0.01805194]                                              \r"
     ]
    },
    {
     "name": "stdout",
     "output_type": "stream",
     "text": [
      "iter=5, rel. err =4.04e-10, Y=[ 4.2616244  -0.01471897 -0.01805194]                                              \r",
      "t_diff 4.261624397102109\n",
      "[ 4.2616 -0.0147 -0.0181]\n"
     ]
    }
   ],
   "source": [
    "# find init for this branch mid\n",
    "_,init = phase_lock_r3d([4,0,0],a21_p0002b,.01,_redu_3dc)\n",
    "print(init)"
   ]
  },
  {
   "cell_type": "code",
   "execution_count": 82,
   "id": "dd8e89a0-6744-45d7-b374-ad61b5eadbaa",
   "metadata": {
    "scrolled": true
   },
   "outputs": [],
   "source": [
    "# f\n",
    "dat = follow_locking_3d(init,a21_p0002b,(.01,.15,.01),\n",
    "                        rhs=_redu_3dc,recompute=False)\n",
    "data_r3d_p0002b_list.append(dat)"
   ]
  },
  {
   "cell_type": "code",
   "execution_count": 83,
   "id": "522f41e4-ee73-491a-b536-74d1b89dd7d0",
   "metadata": {
    "scrolled": true
   },
   "outputs": [],
   "source": [
    "# b\n",
    "dat = follow_locking_3d(init,a21_p0002b,(.01,.005,-.001),\n",
    "                        rhs=_redu_3dc,recompute=False)\n",
    "data_r3d_p0002b_list.append(dat)"
   ]
  },
  {
   "cell_type": "markdown",
   "id": "1328238f-5e1b-4d47-b53b-b431fa7f5179",
   "metadata": {},
   "source": [
    "## Plot"
   ]
  },
  {
   "cell_type": "code",
   "execution_count": 84,
   "id": "3a0ec629-7df7-407c-b20b-b9cbdf6b1c43",
   "metadata": {},
   "outputs": [
    {
     "name": "stdout",
     "output_type": "stream",
     "text": [
      "eps_min 0.024999999999999998\n"
     ]
    },
    {
     "data": {
      "image/png": "[encoded data removed]",
      "text/plain": [
       "<Figure size 300x200 with 1 Axes>"
      ]
     },
     "metadata": {},
     "output_type": "display_data"
    },
    {
     "data": {
      "image/png": "[encoded data removed]",
      "text/plain": [
       "<Figure size 300x400 with 2 Axes>"
      ]
     },
     "metadata": {},
     "output_type": "display_data"
    }
   ],
   "source": [
    "quick_plot_combined(a21_p0002b,\n",
    "                    kw_f={'data_list':data_p0002b_list},\n",
    "                    kw_r3d={'data_list':data_r3d_p0002b_list},\n",
    "                    kw_r={'etup':etup21})"
   ]
  },
  {
   "cell_type": "markdown",
   "id": "1a48655d-6e64-460f-8099-35046758c54e",
   "metadata": {},
   "source": [
    "# del=-0.0004"
   ]
  },
  {
   "cell_type": "code",
   "execution_count": 85,
   "id": "60c3e8df-3588-423c-90b8-daad1ae043cb",
   "metadata": {
    "editable": true,
    "slideshow": {
     "slide_type": ""
    },
    "tags": []
   },
   "outputs": [
    {
     "name": "stdout",
     "output_type": "stream",
     "text": [
      "pfactor 4\n",
      "* Loading p symbolic...\n",
      "* Loading p symbolic...\n",
      "p order=0\n",
      "p order=0\n",
      "p order=1\n",
      "p order=1\n",
      "p order=2\n",
      "p order=2\n",
      "p order=3\n",
      "p order=3\n",
      "* Loading H symbolic...\n",
      "* Loading H symbolic...\n",
      "* Computing H gw0, order=0...\n",
      "* Computing H gw1, order=0...\n",
      "* Computing H gw0, order=1...\n",
      "* Computing H gw1, order=1...\n",
      "* Computing H gw0, order=2...\n",
      "* Computing H gw1, order=2...\n",
      "* Computing H gw0, order=3...\n",
      "* Computing H gw1, order=3...\n"
     ]
    }
   ],
   "source": [
    "del21_p0004b = -0.0004\n",
    "a21_p0004b = nm.nmCoupling(**kw_nm, del1=del21_p0004b)"
   ]
  },
  {
   "cell_type": "markdown",
   "id": "d6ee4b25-b531-4dfa-861b-9fa6a5409c9a",
   "metadata": {},
   "source": [
    "### Get Branches Full"
   ]
  },
  {
   "cell_type": "code",
   "execution_count": 107,
   "id": "1638bc93-8572-4467-9348-75b4d405e057",
   "metadata": {},
   "outputs": [],
   "source": [
    "kw_p0004b = {'a':a21_p0004b,'del1':del21_p0004b,'recompute':False,\n",
    "             'bifdir':'bif1d_gw2/', '_full_rhs':_full,'max_time':2000}"
   ]
  },
  {
   "cell_type": "code",
   "execution_count": 108,
   "id": "54cfacb4-314c-4292-96fb-0b4a8f93cec7",
   "metadata": {},
   "outputs": [],
   "source": [
    "data_p0004b_list = []"
   ]
  },
  {
   "cell_type": "code",
   "execution_count": 109,
   "id": "e7c1a070-211f-4dee-b8be-b6e9e93bfbda",
   "metadata": {},
   "outputs": [],
   "source": [
    "in_dicts = [dict(init=4,eps_init=0.01,eps_final=0.08,deps=.005),\n",
    "            dict(init=4,eps_init=0.01,eps_final=0.0005,deps=-.001),\n",
    "            dict(init=2,eps_init=0.01,eps_final=0.11,deps=.01),\n",
    "            dict(init=2,eps_init=0.01,eps_final=0.0009,deps=-.001)]"
   ]
  },
  {
   "cell_type": "code",
   "execution_count": 110,
   "id": "0646bd5d-9515-4def-8daa-4b2441e42f5e",
   "metadata": {
    "scrolled": true
   },
   "outputs": [
    {
     "name": "stdout",
     "output_type": "stream",
     "text": [
      "fname1 td_branch_init=4_nm=21_del=-0.0004_ei=0.01_ef=0.08_de=0.005.txt\n",
      "fname2 ts_branch_init=4_nm=21_del=-0.0004_ei=0.01_ef=0.08_de=0.005.txt\n",
      "fname1 td_branch_init=4_nm=21_del=-0.0004_ei=0.01_ef=0.0005_de=-0.001.txt\n",
      "fname2 ts_branch_init=4_nm=21_del=-0.0004_ei=0.01_ef=0.0005_de=-0.001.txt\n",
      "fname1 td_branch_init=2_nm=21_del=-0.0004_ei=0.01_ef=0.11_de=0.01.txt\n",
      "fname2 ts_branch_init=2_nm=21_del=-0.0004_ei=0.01_ef=0.11_de=0.01.txt\n",
      "init [0.38603506 0.51955043 1.3555527  0.12642846 0.04707645 0.50558825 3.05395257 0.02754496 6.28888463]\n",
      "eps iter 0 0.01                \n",
      "t1,t2 4.53330675623119 3.121312787832203                                \n",
      "periods [3.1350751  3.15091958 6.28599366]\n",
      "eps iter 1 0.02                \n",
      "t1,t2 4.463623569817659 3.1194448538504407                              \n",
      "periods [3.12945078 3.16134116 6.29079192]\n",
      "eps iter 2 0.03                \n",
      "t1,t2 4.429749675162916 3.1273585693137114                              \n",
      "periods [3.12462678 3.17259615 6.29722119]\n",
      "eps iter 3 0.04                \n",
      "t1,t2 4.383073781891247 3.1212449471920514                              \n",
      "periods [3.12061871 3.1846642  6.30528246]\n",
      "eps iter 4 0.05                \n",
      "t1,t2 4.358585014606812 3.1267106132498834                              \n",
      "periods [3.11747668 3.19757826 6.31505498]\n",
      "eps iter 5 0.060000000000000005                \n",
      "t1,t2 4.305240695186608 3.129822201419076                               \n",
      "periods [3.11528066 3.21139317 6.32667181]\n",
      "eps iter 6 0.06999999999999999                \n",
      "t1,t2 4.286945653812804 3.1357385312267                                 \n",
      "periods [3.11413953 3.22618892 6.340333  ]\n",
      "eps iter 7 0.08                \n",
      "t1,t2 4.245667293068582 3.1376205627560254                              \n",
      "periods [3.11418522 3.24207079 6.35625383]\n",
      "eps iter 8 0.09                \n",
      "t1,t2 4.211253894399329 3.144156201110595                               \n",
      "periods [3.11556991 3.25917525 6.37474522]\n",
      "eps iter 9 0.09999999999999999                \n",
      "t1,t2 4.1693331580873965 3.145736131458582                              \n",
      "periods [3.1185155  3.27764733 6.39616432]\n",
      "fname1 td_branch_init=2_nm=21_del=-0.0004_ei=0.01_ef=0.0009_de=-0.001.txt\n",
      "fname2 ts_branch_init=2_nm=21_del=-0.0004_ei=0.01_ef=0.0009_de=-0.001.txt\n",
      "init [0.38603506 0.51955043 1.3555527  0.12642846 0.04707645 0.50558825 3.05395257 0.02754496 6.28888463]\n",
      "eps iter 0 0.01                \n",
      "t1,t2 4.53330675623119 3.121312787832203                                \n",
      "periods [3.1350751  3.15091958 6.28599366]\n",
      "eps iter 1 0.009000000000000001                \n",
      "t1,t2 4.551302328203807 3.1170996354244744                              \n",
      "periods [3.13568424 3.149926   6.28561026]\n",
      "eps iter 2 0.008000000000000002                \n",
      "t1,t2 4.542513940339349 3.1212842390326623                              \n",
      "periods [3.13629929 3.14894474 6.28524755]\n",
      "eps iter 3 0.007000000000000003                \n",
      "t1,t2 4.55924293489158 3.121520227431071                                \n",
      "periods [3.13692028 3.14797319 6.2848953 ]\n",
      "eps iter 4 0.006000000000000004                \n",
      "t1,t2 4.55072558906721 3.1158247608608183                               \n",
      "periods [3.13755391 3.14701595 6.28456979]\n",
      "eps iter 5 0.0050000000000000044                \n",
      "t1,t2 4.591056973989682 3.115904261749903                               \n",
      "periods [3.13820142 3.14606156 6.28426289]\n",
      "eps iter 6 0.004000000000000005                \n",
      "t1,t2 4.5947836160294315 3.1211579487803576                             \n",
      "periods [3.13885234 3.14512734 6.28397969]\n",
      "eps iter 7 0.003000000000000006                \n",
      "t1,t2 4.588187283320411 3.1164895796753576                              \n",
      "periods [3.13951348 3.1442078  6.28371684]\n",
      "eps iter 8 0.002000000000000007                \n",
      "t1,t2 4.615659333039786 3.110837371000499                               \n",
      "periods [3.14018368 3.14329442 6.28347157]\n",
      "eps iter 9 0.0010000000000000078                \n",
      "iter=20, rel. err =6.90e-03                                              \r"
     ]
    }
   ],
   "source": [
    "for i in range(len(in_dicts)):\n",
    "    in1 = in_dicts[i]\n",
    "    dat = follow_phase_diffs(**in1,**kw_p0004b)\n",
    "    data_p0004b_list.append(dat)"
   ]
  },
  {
   "cell_type": "code",
   "execution_count": 94,
   "id": "a2a6dbe6-9cf7-4a8b-97c9-723a577a18d2",
   "metadata": {},
   "outputs": [],
   "source": [
    "# save hyperparameters\n",
    "fname = kw_p0004b['bifdir']+'hyper_gw2_21_p0004b.txt'\n",
    "hyp_inputs = np.zeros([len(in_dicts),4])\n",
    "for i in range(len(in_dicts)):\n",
    "    hyp_inputs[i,0] = in_dicts[i]['init']\n",
    "    hyp_inputs[i,1] = in_dicts[i]['eps_init']\n",
    "    hyp_inputs[i,2] = in_dicts[i]['eps_final']\n",
    "    hyp_inputs[i,3] = in_dicts[i]['deps']\n",
    "np.savetxt(fname,hyp_inputs)"
   ]
  },
  {
   "cell_type": "markdown",
   "id": "ed742c62-1cb8-4313-b56d-4f9cb020cf8b",
   "metadata": {},
   "source": [
    "## Get Branches 3D"
   ]
  },
  {
   "cell_type": "code",
   "execution_count": 95,
   "id": "965335a5-ba4a-419d-b421-436684127b85",
   "metadata": {},
   "outputs": [],
   "source": [
    "data_r3d_p0004b_list = []"
   ]
  },
  {
   "cell_type": "code",
   "execution_count": 96,
   "id": "b8bb1299-aa08-4c52-84f0-40f64d6c0f17",
   "metadata": {
    "scrolled": true
   },
   "outputs": [
    {
     "name": "stdout",
     "output_type": "stream",
     "text": [
      "t_diff 4.16289020834669912, Y=[ 4.16289021 -0.01540342 -0.01842466]                                              \n",
      "[ 4.1629 -0.0154 -0.0184]\n"
     ]
    },
    {
     "name": "stdout",
     "output_type": "stream",
     "text": [
      "iter=2, rel. err =6.08e-02, Y=[ 4.26569563 -0.01469005 -0.0180507 ]                                              \r"
     ]
    },
    {
     "name": "stdout",
     "output_type": "stream",
     "text": [
      "iter=3, rel. err =4.05e-03, Y=[ 4.26164285 -0.01471884 -0.01805194]                                              \r"
     ]
    },
    {
     "name": "stdout",
     "output_type": "stream",
     "text": [
      "iter=4, rel. err =1.85e-05, Y=[ 4.2616244  -0.01471897 -0.01805194]                                              \r"
     ]
    },
    {
     "name": "stdout",
     "output_type": "stream",
     "text": [
      "iter=5, rel. err =4.04e-10, Y=[ 4.2616244  -0.01471897 -0.01805194]                                              \r",
      "t_diff 4.261624397102109\n",
      "[ 4.2616 -0.0147 -0.0181]\n"
     ]
    }
   ],
   "source": [
    "# find init for this branch mid\n",
    "_,init = phase_lock_r3d([4,0,0],a21_p0004b,.01,_redu_3dc)\n",
    "print(init)"
   ]
  },
  {
   "cell_type": "code",
   "execution_count": 97,
   "id": "02fc946d-7e18-41ef-a831-4135d54ab02e",
   "metadata": {
    "scrolled": true
   },
   "outputs": [
    {
     "name": "stdout",
     "output_type": "stream",
     "text": [
      "eps iter 0 0.01                \n",
      "t_diff 4.16289020834670109, Y=[ 4.16289021 -0.01540342 -0.01842466]                                              \n",
      "eps iter 1 0.02                \n",
      "t_diff 4.06217766354045611, Y=[ 4.06217766 -0.0323272  -0.03754976]                                              \n",
      "eps iter 2 0.03                \n",
      "t_diff 3.95906307823746113, Y=[ 3.95906308 -0.05069862 -0.05719333]                                              \n",
      "eps iter 3 0.04                \n",
      "t_diff 3.85931652993371511, Y=[ 3.85931653 -0.07024066 -0.07710238]                                              \n",
      "eps iter 4 0.05                \n",
      "t_diff 3.76944011977951210, Y=[ 3.76944012 -0.09052359 -0.09705366]                                              \n",
      "eps iter 5 0.060000000000000005                \n",
      "t_diff 3.69302244791331610, Y=[ 3.69302245 -0.11115925 -0.11695152]                                              \n",
      "eps iter 6 0.06999999999999999                \n",
      "t_diff 3.62953938117384260, Y=[ 3.62953938 -0.13193573 -0.1368097 ]                                              \n",
      "eps iter 7 0.08                \n",
      "t_diff 3.57634580102800251, Y=[ 3.5763458  -0.15278568 -0.15667325]                                              \n",
      "eps iter 8 0.09                \n",
      "t_diff 3.53066681367044312, Y=[ 3.53066681 -0.17370533 -0.17657496]                                              \n",
      "eps iter 9 0.09999999999999999                \n",
      "t_diff 3.49034002596976413, Y=[ 3.49034003 -0.19470632 -0.19652838]                                              \n",
      "eps iter 10 0.11                \n",
      "t_diff 3.45385533014860263, Y=[ 3.45385533 -0.21579745 -0.21653233]                                              \n",
      "eps iter 11 0.12                \n",
      "t_diff 3.42020842251694163, Y=[ 3.42020842 -0.23697941 -0.23657617]                                              \n",
      "eps iter 12 0.13                \n",
      "t_diff 3.38875590338515583, Y=[ 3.3887559  -0.25824352 -0.25664368]                                              \n",
      "eps iter 13 0.14                \n",
      "t_diff 3.35910897002405-14, Y=[ 3.35910897 -0.27957162 -0.27671607]                                              \n"
     ]
    }
   ],
   "source": [
    "# f\n",
    "dat = follow_locking_3d(init,a21_p0004b,(.01,.15,.01),\n",
    "                        rhs=_redu_3dc,recompute=False)\n",
    "data_r3d_p0004b_list.append(dat)"
   ]
  },
  {
   "cell_type": "code",
   "execution_count": 98,
   "id": "6825b290-563d-4f86-89d1-c139202c8dda",
   "metadata": {
    "scrolled": true
   },
   "outputs": [
    {
     "name": "stdout",
     "output_type": "stream",
     "text": [
      "eps iter 0 0.01                \n",
      "t_diff 4.16289020834670109, Y=[ 4.16289021 -0.01540342 -0.01842466]                                              \n",
      "eps iter 1 0.009000000000000001                \n",
      "t_diff 4.17268486437112250, Y=[ 4.17268486 -0.01379494 -0.01654852]                                              \n",
      "eps iter 2 0.008000000000000002                \n",
      "t_diff 4.18242010893569410, Y=[ 4.18242011 -0.01220175 -0.0146796 ]                                              \n",
      "eps iter 3 0.007000000000000003                \n",
      "t_diff 4.19209439025775410, Y=[ 4.19209439 -0.01062381 -0.01281801]                                              \n",
      "eps iter 4 0.006000000000000004                \n",
      "t_diff 4.20170634707320410, Y=[ 4.20170635 -0.00906107 -0.01096385]                                              \n"
     ]
    }
   ],
   "source": [
    "# b\n",
    "dat = follow_locking_3d(init,a21_p0004b,(.01,.005,-.001),\n",
    "                        rhs=_redu_3dc,recompute=False)\n",
    "data_r3d_p0004b_list.append(dat)"
   ]
  },
  {
   "cell_type": "markdown",
   "id": "5f037ff0-fdcb-4373-9038-d725e335bb82",
   "metadata": {},
   "source": [
    "## Plot"
   ]
  },
  {
   "cell_type": "code",
   "execution_count": 111,
   "id": "79c54745-d7fa-4150-a4a2-a23305b9f92c",
   "metadata": {},
   "outputs": [
    {
     "name": "stdout",
     "output_type": "stream",
     "text": [
      "eps_min 0.019999999999999997\n"
     ]
    },
    {
     "data": {
      "image/png": "[encoded data removed]",
      "text/plain": [
       "<Figure size 300x200 with 1 Axes>"
      ]
     },
     "metadata": {},
     "output_type": "display_data"
    },
    {
     "data": {
      "image/png": "[encoded data removed]",
      "text/plain": [
       "<Figure size 300x400 with 2 Axes>"
      ]
     },
     "metadata": {},
     "output_type": "display_data"
    }
   ],
   "source": [
    "quick_plot_combined(a21_p0004b,\n",
    "                    kw_f={'data_list':data_p0004b_list},\n",
    "                    kw_r3d={'data_list':data_r3d_p0004b_list},\n",
    "                    kw_r={'etup':etup21})"
   ]
  },
  {
   "cell_type": "code",
   "execution_count": null,
   "id": "ddf5b0a9-25a0-4a87-9843-3a02ccad848b",
   "metadata": {},
   "outputs": [],
   "source": []
  }
 ],
 "metadata": {
  "jpcodetoc-autonumbering": true,
  "kernelspec": {
   "display_name": "Python 3 (ipykernel)",
   "language": "python",
   "name": "python3"
  },
  "language_info": {
   "codemirror_mode": {
    "name": "ipython",
    "version": 3
   },
   "file_extension": ".py",
   "mimetype": "text/x-python",
   "name": "python",
   "nbconvert_exporter": "python",
   "pygments_lexer": "ipython3",
   "version": "3.10.14"
  }
 },
 "nbformat": 4,
 "nbformat_minor": 5
}
