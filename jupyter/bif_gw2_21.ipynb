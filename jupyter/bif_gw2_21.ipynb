{
 "cells": [
  {
   "cell_type": "markdown",
   "id": "23e42e58-3a01-4071-805d-601b71b38b10",
   "metadata": {},
   "source": [
    "# gw2 2:1 Bifurcation Diagrams"
   ]
  },
  {
   "cell_type": "markdown",
   "id": "2a16f943-de0d-454b-ba8f-6b866d7a2763",
   "metadata": {},
   "source": [
    "I'm trying to figure out why the 1d bifurcation diagram in the full model is \"flipped\" compared to the reduced model.\n",
    "\n",
    "It is unclear if it's in how I set up the model equations, or if there is a calculation error.\n",
    "\n",
    "The homogeneous case works well enough. but with even a tiny bit of heterogeneity, the solutions don't match for small epsilon.\n",
    "\n",
    "Well it appears that the \"flip\" was due to 1. not including delta in the psi calculations, and 2. there is a qualitative match in the dynamics for sufficiently small epsilon, consistent with first-order averaging. I've checked the same dynamics using the higher-order response functions and the dynamics are faithfully reproduced. so seeing as how the only first-order approximation is the averaging, I believe it's the averaging that's limiting the accuracy here."
   ]
  },
  {
   "cell_type": "markdown",
   "id": "eead68f0-8581-493c-bebe-3df044f84f09",
   "metadata": {},
   "source": [
    "# Inits"
   ]
  },
  {
   "cell_type": "code",
   "execution_count": 1,
   "id": "bff2b64f-30fb-4920-bf9c-e04a6d6b4c29",
   "metadata": {},
   "outputs": [],
   "source": [
    "import sys; sys.path.insert(0, '..') # add parent folder path to lib\n",
    "# user-defined\n",
    "import nmCoupling as nm\n",
    "# import nmCoupling_old as nm\n",
    "import response as rp\n",
    "\n",
    "import gw2\n",
    "\n",
    "from lib.util import (get_phase, freq_est, get_tongue_1d, pl_exist_1d, \n",
    "get_period, bif1d, follow_phase_diffs, phase_lock_r3d, follow_locking_3d, \n",
    "get_initial_phase_diff_c, get_period)\n",
    "\n",
    "from lib.rhs import _redu_c, _full, _redu_full\n",
    "from lib.rhs import _redu_3dc_thal as _redu_3dc\n",
    "\n",
    "from lib.plot_util import add_diagram_1d_scatter, quick_plot_combined\n",
    "\n",
    "\n",
    "import numpy as np\n",
    "import scipy as sp\n",
    "import matplotlib.pyplot as plt\n",
    "from scipy.integrate import solve_ivp\n",
    "import sympy as sym\n",
    "\n",
    "from scipy.optimize import root,bisect\n",
    "from copy import deepcopy\n",
    "import os\n",
    "\n",
    "plt.rcParams.update({\n",
    "    \"text.usetex\": True,\n",
    "    \"font.family\": \"Helvetica\"\n",
    "})\n",
    "\n",
    "nmc = nm.nmCoupling\n",
    "rsp = rp.Response"
   ]
  },
  {
   "cell_type": "markdown",
   "id": "a1bb017e-41f4-4086-b284-822ae4712d82",
   "metadata": {},
   "source": [
    "## Dicts"
   ]
  },
  {
   "cell_type": "code",
   "execution_count": 2,
   "id": "d335ab16-8a22-4cc3-8433-8c24d50cef45",
   "metadata": {},
   "outputs": [],
   "source": [
    "kw_sim = {'rtol':1e-8,'atol':1e-8,'method':'LSODA'}"
   ]
  },
  {
   "cell_type": "code",
   "execution_count": 3,
   "id": "b4fb5202-c665-4c48-974b-859ec845ff1e",
   "metadata": {},
   "outputs": [],
   "source": [
    "pd1 = {'v1':.84,'v2':.42,'v4':.35,'v6':.35,'v8':1,\n",
    "           'k1':1,'k2':1,'k3':.7,'k4':1,'k5':.7,\n",
    "           'k6':1,'k7':.35,'k8':1,'K':0.5,'kc':1,\n",
    "           'n':6,'L':0,'eps':0,'del':0,'om':1,'om_fix':1}"
   ]
  },
  {
   "cell_type": "code",
   "execution_count": 4,
   "id": "53cc056f-badd-4d78-b4f8-bacad65a540e",
   "metadata": {
    "editable": true,
    "slideshow": {
     "slide_type": ""
    },
    "tags": []
   },
   "outputs": [],
   "source": [
    "kws1 = {'var_names':['x','y','z','v'],\n",
    "        'pardict':pd1,\n",
    "        'rhs':gw2.rhs,\n",
    "        'coupling':gw2.coupling,\n",
    "        'init':np.array([.3882,.523,1.357,.4347,24.2]),\n",
    "        'TN':10000,\n",
    "        'trunc_order':5,\n",
    "        'z_forward':False,\n",
    "        'i_forward':[False,True,False,False,False,False,False,False],\n",
    "        'i_bad_dx':[False,True,False,False,False,False,False,False],\n",
    "        'max_iter':50,\n",
    "        'rtol':1e-12,\n",
    "        'atol':1e-12,\n",
    "        'rel_tol':1e-9,\n",
    "        'save_fig':False,\n",
    "        'lc_prominence':.05,\n",
    "        'factor':0.5}"
   ]
  },
  {
   "cell_type": "markdown",
   "id": "3dfd6884-d02b-4ee8-a95a-6f9f80be3686",
   "metadata": {},
   "source": [
    "## Defs"
   ]
  },
  {
   "cell_type": "code",
   "execution_count": 5,
   "id": "4864d4ba-915e-4030-8a3f-a52585de12b9",
   "metadata": {},
   "outputs": [],
   "source": [
    "kw_bif = {'method':'LSODA','dense_output':True,'rtol':1e-9,'atol':1e-9}"
   ]
  },
  {
   "cell_type": "code",
   "execution_count": 6,
   "id": "dcb71253-ba88-4cc2-9d01-7c011891b5d5",
   "metadata": {},
   "outputs": [],
   "source": [
    "etup21 = (.001,.1,200)\n",
    "eps_list21r = np.linspace(*etup21)"
   ]
  },
  {
   "cell_type": "code",
   "execution_count": 7,
   "id": "0a8b29ab-d115-4d56-a0d0-249340085080",
   "metadata": {
    "editable": true,
    "slideshow": {
     "slide_type": ""
    },
    "tags": []
   },
   "outputs": [],
   "source": [
    "x_temp = np.linspace(-np.pi,3*np.pi,500)"
   ]
  },
  {
   "cell_type": "markdown",
   "id": "a97a9a8f-f2e9-4107-81ba-aeae83e39456",
   "metadata": {},
   "source": [
    "## Initialize Response Functions"
   ]
  },
  {
   "cell_type": "code",
   "execution_count": 8,
   "id": "e202b364-f6e1-488a-9a21-e8608cc4c558",
   "metadata": {
    "editable": true,
    "slideshow": {
     "slide_type": ""
    },
    "tags": []
   },
   "outputs": [
    {
     "name": "stdout",
     "output_type": "stream",
     "text": [
      "mkdir ./data/gw0/\n",
      "* Loading LC data...\n",
      "self.T 6.283185307179586 omfix 3.8590183230656914\n",
      "* Loading monodromy...\n",
      "* Floquet Exponent kappa =-0.15846659975489297\n",
      "* Loading g symbolic...\n",
      "* Computing g...\n",
      "* Loading heterogeneous terms...\n",
      "* Computing z...\n",
      "* Computing i...\n",
      "mkdir ./data/gw1/\n",
      "* Loading LC data...\n",
      "self.T 6.283185307179586 omfix 3.8590183230656914\n",
      "* Loading monodromy...\n",
      "* Floquet Exponent kappa =-0.15846659975489297\n",
      "* Loading g symbolic...\n",
      "* Computing g...\n",
      "* Loading heterogeneous terms...\n",
      "* Computing z...\n",
      "* Computing i...\n"
     ]
    }
   ],
   "source": [
    "system1 = rsp(idx=0,model_name='gw0',**kws1)\n",
    "system2 = rsp(idx=1,model_name='gw1',**kws1)"
   ]
  },
  {
   "cell_type": "code",
   "execution_count": 9,
   "id": "5b7e3888-fcba-4dd5-91e1-bf16c9ddca9f",
   "metadata": {},
   "outputs": [],
   "source": [
    "kw_nm = {'system1':system1,'system2':system2,'_n':('om0',2),'_m':('om1',1),\n",
    "        'NH':2048,'save_fig':False}"
   ]
  },
  {
   "cell_type": "markdown",
   "id": "082673fa-d5bd-4913-a320-dc4fd6fe8b77",
   "metadata": {},
   "source": [
    "# del=0.0"
   ]
  },
  {
   "cell_type": "code",
   "execution_count": 10,
   "id": "e877e0c4-dacf-4a89-b055-440fa2a224d3",
   "metadata": {
    "editable": true,
    "slideshow": {
     "slide_type": ""
    },
    "tags": []
   },
   "outputs": [
    {
     "name": "stdout",
     "output_type": "stream",
     "text": [
      "pfactor 4\n",
      "* Loading p symbolic...\n",
      "* Loading p symbolic...\n",
      "p order=0\n",
      "p order=0\n",
      "p order=1\n",
      "p order=1\n",
      "p order=2\n",
      "p order=2\n",
      "p order=3\n",
      "p order=3\n",
      "p order=4\n",
      "p order=4\n",
      "p order=5\n",
      "p order=5\n",
      "* Loading H symbolic...\n",
      "* Loading H symbolic...\n",
      "* Computing H gw0, order=0...\n",
      "* Computing H gw1, order=0...\n",
      "* Computing H gw0, order=1...\n",
      "* Computing H gw1, order=1...\n",
      "* Computing H gw0, order=2...\n",
      "* Computing H gw1, order=2...\n",
      "* Computing H gw0, order=3...\n",
      "* Computing H gw1, order=3...\n",
      "* Computing H gw0, order=4...\n",
      "* Computing H gw1, order=4...\n",
      "* Computing H gw0, order=5...\n",
      "* Computing H gw1, order=5...\n"
     ]
    }
   ],
   "source": [
    "del21_p0 = 0\n",
    "a21_p0 = nm.nmCoupling(**kw_nm, del1=del21_p0)"
   ]
  },
  {
   "cell_type": "markdown",
   "id": "685069bd-8e76-49d3-8268-09964e4cb876",
   "metadata": {},
   "source": [
    "### Get Branches Full"
   ]
  },
  {
   "cell_type": "code",
   "execution_count": 11,
   "id": "ae2ff6ad-74fc-472d-91e1-c3f1898ff8f7",
   "metadata": {},
   "outputs": [],
   "source": [
    "kw_p0 = {'a':a21_p0,'del1':del21_p0,'recompute':False,'bifdir':'bif1d_gw2/',\n",
    "        '_full_rhs':_full}"
   ]
  },
  {
   "cell_type": "code",
   "execution_count": 12,
   "id": "7a2d6562-b798-433e-841a-122106ea2c41",
   "metadata": {},
   "outputs": [],
   "source": [
    "data_p0_list = []"
   ]
  },
  {
   "cell_type": "code",
   "execution_count": 13,
   "id": "47826e71-d2d2-47e7-a621-9532f889fe0a",
   "metadata": {
    "scrolled": true
   },
   "outputs": [],
   "source": [
    "# top 1\n",
    "dat = follow_phase_diffs(init=4,eps_init=0.01,eps_final=0.0775,\n",
    "                         deps=.005,**kw_p0)\n",
    "data_p0_list.append(dat)"
   ]
  },
  {
   "cell_type": "code",
   "execution_count": 14,
   "id": "296a1aac-aa4a-4750-b870-828e492f2612",
   "metadata": {
    "scrolled": true
   },
   "outputs": [],
   "source": [
    "dat = follow_phase_diffs(init=4,eps_init=0.01,eps_final=0.0005,\n",
    "                         deps=-.005,**kw_p0)\n",
    "data_p0_list.append(dat)"
   ]
  },
  {
   "cell_type": "code",
   "execution_count": 15,
   "id": "93a27272-fae2-41a5-b8a8-c38de88e429c",
   "metadata": {
    "scrolled": true
   },
   "outputs": [],
   "source": [
    "dat = follow_phase_diffs(init=2,eps_init=0.08,eps_final=0.1,\n",
    "                         deps=.005,**kw_p0)\n",
    "data_p0_list.append(dat)"
   ]
  },
  {
   "cell_type": "code",
   "execution_count": 16,
   "id": "498ba256-62e9-4d17-85e2-b9d230865913",
   "metadata": {
    "scrolled": true
   },
   "outputs": [],
   "source": [
    "dat = follow_phase_diffs(init=2,eps_init=0.08,eps_final=0.04,\n",
    "                         deps=-.005,**kw_p0)\n",
    "data_p0_list.append(dat)"
   ]
  },
  {
   "cell_type": "markdown",
   "id": "4e24d41e-aefe-4135-8677-b7b0ff1d549a",
   "metadata": {},
   "source": [
    "## Get Branches 3D"
   ]
  },
  {
   "cell_type": "code",
   "execution_count": 17,
   "id": "ac269980-efde-4318-939a-9b0d9567b503",
   "metadata": {},
   "outputs": [],
   "source": [
    "data_r3d_p0_list = []"
   ]
  },
  {
   "cell_type": "code",
   "execution_count": 18,
   "id": "d6cf95a8-6af3-42f2-b3f2-eb99fa0894eb",
   "metadata": {
    "scrolled": true
   },
   "outputs": [
    {
     "name": "stdout",
     "output_type": "stream",
     "text": [
      "t_diff 4.34237630367204110, Y=[ 4.3423763  -0.01415793 -0.01768367]                                              \n",
      "[ 4.3424 -0.0142 -0.0177]\n"
     ]
    }
   ],
   "source": [
    "# find init for this branch mid\n",
    "_,init = phase_lock_r3d([4,0,0],a21_p0,.01,_redu_3dc)\n",
    "print(init)"
   ]
  },
  {
   "cell_type": "code",
   "execution_count": 19,
   "id": "56666dd9-3f5f-42c1-b473-b2a084b57890",
   "metadata": {
    "scrolled": true
   },
   "outputs": [
    {
     "name": "stdout",
     "output_type": "stream",
     "text": [
      "eps iter 0 0.01                \n",
      "t_diff 4.34237630367203750, Y=[ 4.3423763  -0.01415793 -0.01768367]                                              \n",
      "eps iter 1 0.02                \n",
      "t_diff 4.26352173686957308, Y=[ 4.26352174 -0.02959899 -0.03613986]                                              \n",
      "eps iter 2 0.03                \n",
      "t_diff 4.18207246490180709, Y=[ 4.18207246 -0.04635013 -0.05531584]                                              \n",
      "eps iter 3 0.04                \n",
      "t_diff 4.09953936339116713, Y=[ 4.09953936 -0.06436715 -0.0751114 ]                                              \n",
      "eps iter 4 0.05                \n",
      "t_diff 4.01799905778506112, Y=[ 4.01799906 -0.08351821 -0.09538509]                                              \n",
      "eps iter 5 0.060000000000000005                \n",
      "t_diff 3.93974311259935961, Y=[ 3.93974311 -0.10359467 -0.11597953]                                              \n",
      "eps iter 6 0.06999999999999999                \n",
      "t_diff 3.86671015301782711, Y=[ 3.86671015 -0.12435455 -0.13675724]                                              \n",
      "eps iter 7 0.08                \n",
      "t_diff 3.80002605439291851, Y=[ 3.80002605 -0.14557745 -0.15762666]                                              \n",
      "eps iter 8 0.09                \n",
      "t_diff 3.73992269777457852, Y=[ 3.7399227  -0.16709931 -0.17854526]                                              \n",
      "eps iter 9 0.09999999999999999                \n",
      "t_diff 3.68598282944024212, Y=[ 3.68598283 -0.18881679 -0.19950589]                                              \n",
      "eps iter 10 0.11                \n",
      "t_diff 3.63747158472368612, Y=[ 3.63747158 -0.21067289 -0.22052013]                                              \n",
      "eps iter 11 0.12                \n",
      "t_diff 3.59358715048155413, Y=[ 3.59358715 -0.23263915 -0.24160652]                                              \n",
      "eps iter 12 0.13                \n",
      "t_diff 3.55359688657457353, Y=[ 3.55359689 -0.25470173 -0.26278464]                                              \n",
      "eps iter 13 0.14                \n",
      "t_diff 3.51689065289084914, Y=[ 3.51689065 -0.27685251 -0.284073  ]                                              \n"
     ]
    }
   ],
   "source": [
    "# f\n",
    "dat = follow_locking_3d(init,a21_p0,(.01,.15,.01),\n",
    "                        rhs=_redu_3dc,recompute=False)\n",
    "data_r3d_p0_list.append(dat)"
   ]
  },
  {
   "cell_type": "code",
   "execution_count": 20,
   "id": "aae0937d-727c-401d-92f7-ffc0f9ff274b",
   "metadata": {
    "scrolled": true
   },
   "outputs": [
    {
     "name": "stdout",
     "output_type": "stream",
     "text": [
      "eps iter 0 0.01                \n",
      "t_diff 4.34237630367203750, Y=[ 4.3423763  -0.01415793 -0.01768367]                                              \n",
      "eps iter 1 0.009000000000000001                \n",
      "t_diff 4.35007987018569611, Y=[ 4.35007987 -0.01268532 -0.01588005]                                              \n",
      "eps iter 2 0.008000000000000002                \n",
      "t_diff 4.35774758047346111, Y=[ 4.35774758 -0.01122551 -0.01408423]                                              \n",
      "eps iter 3 0.007000000000000003                \n",
      "t_diff 4.36537890497105251, Y=[ 4.3653789  -0.00977846 -0.01229621]                                              \n",
      "eps iter 4 0.006000000000000004                \n",
      "t_diff 4.37297336045461711, Y=[ 4.37297336 -0.00834409 -0.01051602]                                              \n"
     ]
    }
   ],
   "source": [
    "# b\n",
    "dat = follow_locking_3d(init,a21_p0,(.01,.005,-.001),\n",
    "                        rhs=_redu_3dc,recompute=False)\n",
    "data_r3d_p0_list.append(dat)"
   ]
  },
  {
   "cell_type": "markdown",
   "id": "f4349401-648f-4edb-a6cc-94c0a99442f8",
   "metadata": {},
   "source": [
    "## Plot"
   ]
  },
  {
   "cell_type": "code",
   "execution_count": 21,
   "id": "2875ee00-cba1-4925-9005-2f2a91379f7a",
   "metadata": {},
   "outputs": [
    {
     "data": {
      "image/png": "[encoded data removed]",
      "text/plain": [
       "<Figure size 300x200 with 1 Axes>"
      ]
     },
     "metadata": {},
     "output_type": "display_data"
    }
   ],
   "source": [
    "quick_plot_combined(a21_p0,\n",
    "                    kw_f={'data_list':data_p0_list},\n",
    "                    kw_r3d={'data_list':data_r3d_p0_list},\n",
    "                    kw_r={'etup':etup21})"
   ]
  },
  {
   "cell_type": "markdown",
   "id": "e8414452-549a-4849-8902-70147c386978",
   "metadata": {},
   "source": [
    "## Sims"
   ]
  },
  {
   "cell_type": "code",
   "execution_count": 54,
   "id": "4bc8948a-3e7f-4627-952f-f74576526a92",
   "metadata": {},
   "outputs": [],
   "source": [
    "# coupling and init\n",
    "eps21_p0 = 0.0\n",
    "th_init21_p0 = 2"
   ]
  },
  {
   "cell_type": "code",
   "execution_count": 55,
   "id": "5dc61576-9031-4227-80cd-fb603578aa6f",
   "metadata": {},
   "outputs": [],
   "source": [
    "# sim params\n",
    "dt = .01;T_p04=1000\n",
    "t21_p0 = np.arange(0,T_p04,dt)\n",
    "args21_p0 = {'args':(a21_p0,eps21_p0,del21_p0),\n",
    "             't_eval':t21_p0,**kw_sim,'dense_output':True}"
   ]
  },
  {
   "cell_type": "code",
   "execution_count": null,
   "id": "11fe44ea-f4d3-48c1-b35f-ff6592ce1907",
   "metadata": {
    "tags": []
   },
   "outputs": [],
   "source": [
    "# initialize and run full\n",
    "y0a = a21_p0.system1.lc['dat'][int((th_init21_p0/(2*np.pi)) * a21_p0.system1.TN),:]\n",
    "y0b = a21_p0.system2.lc['dat'][int((0/(2*np.pi)) * a21_p0.system2.TN),:]\n",
    "\n",
    "y0_p04 = np.array([y0a,y0b]).flatten()\n",
    "\n",
    "solf21_p0 = solve_ivp(_full,[0,t21_p0[-1]],\n",
    "                        y0_p04, **args21_p0)"
   ]
  },
  {
   "cell_type": "code",
   "execution_count": null,
   "id": "fa86e153-f83a-421a-a4f6-5f8700973a7f",
   "metadata": {
    "tags": []
   },
   "outputs": [],
   "source": [
    "solr21_p0 = solve_ivp(_redu_c,[0,t21_p0[-1]],\n",
    "                     [th_init21_p0],**args21_p0)"
   ]
  },
  {
   "cell_type": "code",
   "execution_count": null,
   "id": "9413e1ac-2bb9-40d6-86e6-ac0f4e581d9b",
   "metadata": {},
   "outputs": [],
   "source": [
    "# solr12b_p04 = solve_ivp(_redu_3dc,[0,t21_p0[-1]],\n",
    "#                     [th_init21_p0,0,0],**args21_p0)"
   ]
  },
  {
   "cell_type": "code",
   "execution_count": null,
   "id": "64a71f9b-f966-41ec-9975-9c645e21551b",
   "metadata": {},
   "outputs": [],
   "source": [
    "tp12a_p04, phase12a_p04 = get_phase(t21_p0,solf21_p0.y.T[:,:4],\n",
    "                            skipn=50,system1=a21_p0.system1)\n",
    "tp12b_p04, phase12b_p04 = get_phase(t21_p0,solf21_p0.y.T[:,4:],\n",
    "                            skipn=50,system1=a21_p0.system2)"
   ]
  },
  {
   "cell_type": "code",
   "execution_count": null,
   "id": "2650da56-2b0a-48a8-ae0b-6842cdb7a113",
   "metadata": {},
   "outputs": [],
   "source": [
    "fig,axs = plt.subplots()\n",
    "y = np.mod(phase12a_p04 - a21_p0.om*phase12b_p04,2*np.pi)\n",
    "axs.scatter(tp12a_p04,y,s=1,alpha=.5,color='black')\n",
    "\n",
    "axs.plot(t21_p0,np.mod(solr21_p0.y.T,2*np.pi),\n",
    "         color='tab:red')\n",
    "\n",
    "axs.set_ylim(-.5,2*np.pi+.5)"
   ]
  },
  {
   "cell_type": "markdown",
   "id": "94e79ac0-40ae-4880-858c-3bfa5deac389",
   "metadata": {},
   "source": [
    "# del=0.0002"
   ]
  },
  {
   "cell_type": "code",
   "execution_count": 22,
   "id": "40d9118e-696d-4a9a-985d-69971b4ce5b8",
   "metadata": {
    "editable": true,
    "slideshow": {
     "slide_type": ""
    },
    "tags": []
   },
   "outputs": [
    {
     "name": "stdout",
     "output_type": "stream",
     "text": [
      "pfactor 4\n",
      "* Loading p symbolic...\n",
      "* Loading p symbolic...\n",
      "p order=0\n",
      "p order=0\n",
      "p order=1\n",
      "p order=1\n",
      "p order=2\n",
      "p order=2\n",
      "p order=3\n",
      "p order=3\n",
      "p order=4\n",
      "p order=4\n",
      "p order=5\n",
      "p order=5\n",
      "* Loading H symbolic...\n",
      "* Loading H symbolic...\n",
      "* Computing H gw0, order=0...\n",
      "* Computing H gw1, order=0...\n",
      "* Computing H gw0, order=1...\n",
      "* Computing H gw1, order=1...\n",
      "* Computing H gw0, order=2...\n",
      "* Computing H gw1, order=2...\n",
      "* Computing H gw0, order=3...\n",
      "* Computing H gw1, order=3...\n",
      "* Computing H gw0, order=4...\n",
      "* Computing H gw1, order=4...\n",
      "* Computing H gw0, order=5...\n",
      "* Computing H gw1, order=5...\n"
     ]
    }
   ],
   "source": [
    "del21_p0002 = 0.0002\n",
    "a21_p0002 = nm.nmCoupling(**kw_nm, del1=del21_p0002)"
   ]
  },
  {
   "cell_type": "markdown",
   "id": "81a09acc-e576-49e1-8c09-33dde7e73f6e",
   "metadata": {},
   "source": [
    "### Get Branches Full"
   ]
  },
  {
   "cell_type": "code",
   "execution_count": 23,
   "id": "6777e957-9ba4-43b1-a2b5-110bb2d29278",
   "metadata": {},
   "outputs": [],
   "source": [
    "kw_p0002 = {'a':a21_p0002,'del1':del21_p0002,'recompute':False,\n",
    "            'bifdir':'bif1d_gw2/', '_full_rhs':_full}"
   ]
  },
  {
   "cell_type": "code",
   "execution_count": 24,
   "id": "0ca796fa-6403-4cc3-88ae-f638f7483d68",
   "metadata": {},
   "outputs": [],
   "source": [
    "data_p0002_list = []"
   ]
  },
  {
   "cell_type": "code",
   "execution_count": 25,
   "id": "b368bc2a-af92-43eb-af89-44b0fb3e1e0a",
   "metadata": {
    "scrolled": true
   },
   "outputs": [
    {
     "name": "stdout",
     "output_type": "stream",
     "text": [
      "init [0.38579323 0.51944287 1.35600937 0.12637022 0.15786505 0.74247879 2.41924636 0.08640569 6.29411407]\n",
      "eps iter 0 0.01                \n",
      "t_diff [2.23061594].44e-09                                              \n",
      "eps iter 1 0.015                \n",
      "t_diff [2.20478271].04e-09                                              \n",
      "eps iter 2 0.019999999999999997                \n",
      "t_diff [2.20897966].80e-07                                              \n",
      "eps iter 3 0.024999999999999998                \n",
      "t_diff [2.20739364].33e-07                                              \n",
      "eps iter 4 0.03                \n",
      "t_diff [2.21174683].78e-07                                              \n",
      "eps iter 5 0.034999999999999996                \n",
      "t_diff [2.18751332].24e-08                                              \n",
      "eps iter 6 0.039999999999999994                \n",
      "t_diff [2.201306]=3.31e-08                                              \n",
      "eps iter 7 0.045                \n",
      "t_diff [2.19429097].81e-08                                              \n",
      "eps iter 8 0.049999999999999996                \n",
      "t_diff [2.17133481].23e-08                                              \n",
      "eps iter 9 0.05499999999999999                \n",
      "t_diff [2.14052766].62e-08                                              \n",
      "eps iter 10 0.05999999999999999                \n",
      "t_diff [2.14555268].14e-09                                              \n",
      "eps iter 11 0.06499999999999999                \n",
      "t_diff [2.1319064]1.37e-09                                              \n",
      "eps iter 12 0.06999999999999999                \n",
      "t_diff [2.12980756].32e-07                                              \n",
      "eps iter 13 0.07499999999999998                \n",
      "t_diff [2.09579981].97e-08                                              \n",
      "eps iter 14 0.07999999999999999                \n",
      "t_diff [2.07627265].04e-07                                              \n"
     ]
    }
   ],
   "source": [
    "# top 1\n",
    "dat = follow_phase_diffs(init=4,eps_init=0.01,eps_final=0.08,\n",
    "                         deps=.005,**kw_p0002)\n",
    "data_p0002_list.append(dat)"
   ]
  },
  {
   "cell_type": "code",
   "execution_count": 26,
   "id": "6eaa437e-59b9-43d7-bc0b-db6550e692bd",
   "metadata": {
    "scrolled": true
   },
   "outputs": [
    {
     "name": "stdout",
     "output_type": "stream",
     "text": [
      "init [0.38579323 0.51944287 1.35600937 0.12637022 0.15786505 0.74247879 2.41924636 0.08640569 6.29411407]\n",
      "eps iter 0 0.01                \n",
      "t_diff [2.23061594].44e-09                                              \n",
      "eps iter 1 0.005                \n",
      "t_diff [2.22703045].56e-07                                              \n"
     ]
    }
   ],
   "source": [
    "dat = follow_phase_diffs(init=4,eps_init=0.01,eps_final=0.0005,\n",
    "                         deps=-.005,**kw_p0002)\n",
    "data_p0002_list.append(dat)"
   ]
  },
  {
   "cell_type": "code",
   "execution_count": 27,
   "id": "9976a253-c970-4843-8e30-682bb0d9e4ba",
   "metadata": {
    "scrolled": true
   },
   "outputs": [
    {
     "name": "stdout",
     "output_type": "stream",
     "text": [
      "init [0.36943125 0.51027031 1.37012624 0.1217573  0.04897766 0.49529072 3.04410129 0.02743781 6.45145055]\n",
      "eps iter 0 0.08                \n",
      "t_diff [2.07587662]2.28e-08                                              \n",
      "eps iter 1 0.085                \n",
      "t_diff [2.06016337].46e-07                                              \n",
      "eps iter 2 0.09000000000000001                \n",
      "t_diff [2.02199281].85e-10                                              \n",
      "eps iter 3 0.09500000000000001                \n",
      "t_diff [1.99618714].03e-07                                              \n",
      "eps iter 4 0.10000000000000002                \n",
      "t_diff [1.9290409]4.17e-07                                              \n"
     ]
    }
   ],
   "source": [
    "dat = follow_phase_diffs(init=2,eps_init=0.08,eps_final=0.1,\n",
    "                         deps=.005,**kw_p0002)\n",
    "data_p0002_list.append(dat)"
   ]
  },
  {
   "cell_type": "code",
   "execution_count": 28,
   "id": "4b681a7b-e35f-4db3-a869-daf43944e623",
   "metadata": {
    "scrolled": true
   },
   "outputs": [
    {
     "name": "stdout",
     "output_type": "stream",
     "text": [
      "init [0.36943125 0.51027031 1.37012624 0.1217573  0.04897766 0.49529072 3.04410129 0.02743781 6.45145055]\n",
      "eps iter 0 0.08                \n",
      "t_diff [2.07587662]2.28e-08                                              \n",
      "eps iter 1 0.075                \n",
      "t_diff [2.11139546].22e-07                                              \n",
      "eps iter 2 0.06999999999999999                \n",
      "t_diff [2.11564069].13e-07                                              \n",
      "eps iter 3 0.06499999999999999                \n",
      "t_diff [2.11873607].02e-10                                              \n",
      "eps iter 4 0.059999999999999984                \n",
      "t_diff [2.12839274].86e-10                                              \n",
      "eps iter 5 0.05499999999999998                \n",
      "t_diff [2.16418079].41e-09                                              \n",
      "eps iter 6 0.049999999999999975                \n",
      "t_diff [2.16743468].59e-07                                              \n",
      "eps iter 7 0.04499999999999997                \n",
      "t_diff [2.16411116].25e-08                                              \n",
      "eps iter 8 0.039999999999999966                \n",
      "t_diff [2.199281]=4.28e-09                                              \n",
      "eps iter 9 0.03499999999999996                \n",
      "t_diff [2.18537164].98e-08                                              \n"
     ]
    }
   ],
   "source": [
    "dat = follow_phase_diffs(init=2,eps_init=0.08,eps_final=0.03,\n",
    "                         deps=-.005,**kw_p0002)\n",
    "data_p0002_list.append(dat)"
   ]
  },
  {
   "cell_type": "markdown",
   "id": "5f2f6d81-b98f-4e99-8a2f-de15b483f718",
   "metadata": {},
   "source": [
    "## Get Branches 3D"
   ]
  },
  {
   "cell_type": "code",
   "execution_count": 29,
   "id": "e08b0be6-fd55-43f4-a7b9-9a41553cdea7",
   "metadata": {},
   "outputs": [],
   "source": [
    "data_r3d_p0002_list = []"
   ]
  },
  {
   "cell_type": "code",
   "execution_count": 30,
   "id": "d7ce702e-6dd8-4db2-ad32-63e83675a1c5",
   "metadata": {
    "scrolled": true
   },
   "outputs": [
    {
     "name": "stdout",
     "output_type": "stream",
     "text": [
      "t_diff 4.41271131568900811, Y=[ 4.41271132 -0.01367205 -0.01731887]                                              \n",
      "[ 4.4127 -0.0137 -0.0173]\n"
     ]
    }
   ],
   "source": [
    "# find init for this branch mid\n",
    "_,init = phase_lock_r3d([4,0,0],a21_p0002,.01,_redu_3dc)\n",
    "print(init)"
   ]
  },
  {
   "cell_type": "code",
   "execution_count": 31,
   "id": "d9063ae7-1974-4279-a561-88be5d3bd272",
   "metadata": {
    "scrolled": true
   },
   "outputs": [
    {
     "name": "stdout",
     "output_type": "stream",
     "text": [
      "eps iter 0 0.01                \n",
      "t_diff 4.41271131568900459, Y=[ 4.41271132 -0.01367205 -0.01731887]                                              \n",
      "eps iter 1 0.02                \n",
      "t_diff 4.3398393230373e-08, Y=[ 4.33983932 -0.02855074 -0.03541727]                                              \n",
      "eps iter 2 0.03                \n",
      "t_diff 4.26438769323158809, Y=[ 4.26438769 -0.04468086 -0.05427019]                                              \n",
      "eps iter 3 0.04                \n",
      "t_diff 4.18731012274763713, Y=[ 4.18731012 -0.06205903 -0.07381547]                                              \n",
      "eps iter 4 0.05                \n",
      "t_diff 4.10997023239739713, Y=[ 4.10997023 -0.08061764 -0.09395232]                                              \n",
      "eps iter 5 0.060000000000000005                \n",
      "t_diff 4.03401344366312652, Y=[ 4.03401344 -0.10022121 -0.11455141]                                              \n",
      "eps iter 6 0.06999999999999999                \n",
      "t_diff 3.96108581027866572, Y=[ 3.96108581 -0.12068321 -0.13547642]                                              \n",
      "eps iter 7 0.08                \n",
      "t_diff 3.89250138403315612, Y=[ 3.89250138 -0.14180042 -0.1566091 ]                                              \n",
      "eps iter 8 0.09                \n",
      "t_diff 3.82902410983187742, Y=[ 3.82902411 -0.16338889 -0.17786592]                                              \n",
      "eps iter 9 0.09999999999999999                \n",
      "t_diff 3.77085444211711932, Y=[ 3.77085444 -0.18530566 -0.19920044]                                              \n",
      "eps iter 10 0.11                \n",
      "t_diff 3.71777219620383772, Y=[ 3.7177722  -0.2074522  -0.22059541]                                              \n",
      "eps iter 11 0.12                \n",
      "t_diff 3.66932468717125113, Y=[ 3.66932469 -0.22976616 -0.24205192]                                              \n",
      "eps iter 12 0.13                \n",
      "t_diff 3.62498111586000413, Y=[ 3.62498112 -0.25220951 -0.26358054]                                              \n",
      "eps iter 13 0.14                \n",
      "t_diff 3.58422974943938043, Y=[ 3.58422975 -0.27475807 -0.28519591]                                              \n"
     ]
    }
   ],
   "source": [
    "# f\n",
    "dat = follow_locking_3d(init,a21_p0002,(.01,.15,.01),\n",
    "                        rhs=_redu_3dc,recompute=False)\n",
    "data_r3d_p0002_list.append(dat)"
   ]
  },
  {
   "cell_type": "code",
   "execution_count": 32,
   "id": "bf45ba94-12d5-4045-adf2-ffc7f4e4c187",
   "metadata": {
    "scrolled": true
   },
   "outputs": [
    {
     "name": "stdout",
     "output_type": "stream",
     "text": [
      "eps iter 0 0.01                \n",
      "t_diff 4.41271131568900459, Y=[ 4.41271132 -0.01367205 -0.01731887]                                              \n",
      "eps iter 1 0.009000000000000001                \n",
      "t_diff 4.4198321790426e-12, Y=[ 4.41983218 -0.0122516  -0.01555178]                                              \n",
      "eps iter 2 0.008000000000000002                \n",
      "t_diff 4.42692106577729-12, Y=[ 4.42692107 -0.01084317 -0.01379251]                                              \n",
      "eps iter 3 0.007000000000000003                \n",
      "t_diff 4.43397764712068552, Y=[ 4.43397765 -0.0094467  -0.01204108]                                              \n",
      "eps iter 4 0.006000000000000004                \n",
      "t_diff 4.44100162354772411, Y=[ 4.44100162 -0.00806212 -0.01029747]                                              \n"
     ]
    }
   ],
   "source": [
    "# b\n",
    "dat = follow_locking_3d(init,a21_p0002,(.01,.005,-.001),\n",
    "                        rhs=_redu_3dc,recompute=False)\n",
    "data_r3d_p0002_list.append(dat)"
   ]
  },
  {
   "cell_type": "markdown",
   "id": "9a2e969c-3b8c-4bcd-9233-774765b9b34f",
   "metadata": {},
   "source": [
    "## Plot"
   ]
  },
  {
   "cell_type": "code",
   "execution_count": 33,
   "id": "98b652ff-1bae-4d20-bbd3-5529715155fc",
   "metadata": {},
   "outputs": [
    {
     "data": {
      "image/png": "[encoded data removed]",
      "text/plain": [
       "<Figure size 300x200 with 1 Axes>"
      ]
     },
     "metadata": {},
     "output_type": "display_data"
    }
   ],
   "source": [
    "quick_plot_combined(a21_p0002,\n",
    "                    kw_f={'data_list':data_p0002_list},\n",
    "                    kw_r3d={'data_list':data_r3d_p0002_list},\n",
    "                    kw_r={'etup':etup21})"
   ]
  },
  {
   "cell_type": "markdown",
   "id": "a02c63ec-0020-45ef-af4a-3cf3ffbc844b",
   "metadata": {},
   "source": [
    "# del=0.0004"
   ]
  },
  {
   "cell_type": "code",
   "execution_count": 34,
   "id": "b2873fa7-1861-4f67-84ae-f104ce1cdc74",
   "metadata": {
    "editable": true,
    "slideshow": {
     "slide_type": ""
    },
    "tags": []
   },
   "outputs": [
    {
     "name": "stdout",
     "output_type": "stream",
     "text": [
      "pfactor 4\n",
      "* Loading p symbolic...\n",
      "* Loading p symbolic...\n",
      "p order=0\n",
      "p order=0\n",
      "p order=1\n",
      "p order=1\n",
      "p order=2\n",
      "p order=2\n",
      "p order=3\n",
      "p order=3\n",
      "p order=4\n",
      "p order=4\n",
      "p order=5\n",
      "p order=5\n",
      "* Loading H symbolic...\n",
      "* Loading H symbolic...\n",
      "* Computing H gw0, order=0...\n",
      "* Computing H gw1, order=0...\n",
      "* Computing H gw0, order=1...\n",
      "* Computing H gw1, order=1...\n",
      "* Computing H gw0, order=2...\n",
      "* Computing H gw1, order=2...\n",
      "* Computing H gw0, order=3...\n",
      "* Computing H gw1, order=3...\n",
      "* Computing H gw0, order=4...\n",
      "* Computing H gw1, order=4...\n",
      "* Computing H gw0, order=5...\n",
      "* Computing H gw1, order=5...\n"
     ]
    }
   ],
   "source": [
    "del21_p0004 = 0.0004\n",
    "a21_p0004 = nm.nmCoupling(**kw_nm, del1=del21_p0004)"
   ]
  },
  {
   "cell_type": "markdown",
   "id": "4a585e14-8a37-4639-83e9-443fcb2b0729",
   "metadata": {},
   "source": [
    "### Get Branches Full"
   ]
  },
  {
   "cell_type": "code",
   "execution_count": 35,
   "id": "292c47ac-2555-4b6d-bf16-8035107c4b78",
   "metadata": {},
   "outputs": [],
   "source": [
    "kw_p0004 = {'a':a21_p0004,'del1':del21_p0004,'recompute':False,\n",
    "            'bifdir':'bif1d_gw2/', '_full_rhs':_full}"
   ]
  },
  {
   "cell_type": "code",
   "execution_count": 36,
   "id": "f0e18a49-b1eb-42c2-bcd0-b2bbccb6e59a",
   "metadata": {},
   "outputs": [],
   "source": [
    "data_p0004_list = []"
   ]
  },
  {
   "cell_type": "code",
   "execution_count": 37,
   "id": "e5dd73da-fc6a-4dfd-b3f9-3beeb87f090f",
   "metadata": {
    "scrolled": true
   },
   "outputs": [
    {
     "name": "stdout",
     "output_type": "stream",
     "text": [
      "init [0.38580522 0.51945823 1.35602046 0.12637471 0.16153425 0.74509296 2.40048065 0.08808792 6.29393321]\n",
      "eps iter 0 0.01                \n",
      "t_diff [2.24557066].01e-08                                              \n",
      "eps iter 1 0.015                \n",
      "t_diff [2.24536246].22e-10                                              \n",
      "eps iter 2 0.019999999999999997                \n",
      "t_diff [2.2464493]1.87e-08                                              \n",
      "eps iter 3 0.024999999999999998                \n",
      "t_diff [2.24015383].64e-08                                              \n",
      "eps iter 4 0.03                \n",
      "t_diff [2.24545688].08e-07                                              \n",
      "eps iter 5 0.034999999999999996                \n",
      "t_diff [2.2165611]2.00e-08                                              \n",
      "eps iter 6 0.039999999999999994                \n",
      "t_diff [2.21696993].24e-07                                              \n",
      "eps iter 7 0.045                \n",
      "t_diff [2.21531455].97e-08                                              \n",
      "eps iter 8 0.049999999999999996                \n",
      "t_diff [2.20862749].42e-08                                              \n",
      "eps iter 9 0.05499999999999999                \n",
      "t_diff [2.21103733].78e-09                                              \n",
      "eps iter 10 0.05999999999999999                \n",
      "t_diff [2.17960064].29e-09                                              \n",
      "eps iter 11 0.06499999999999999                \n",
      "t_diff [2.17389503].58e-09                                              \n",
      "eps iter 12 0.06999999999999999                \n",
      "t_diff [2.17314614].93e-09                                              \n",
      "eps iter 13 0.07499999999999998                \n",
      "t_diff [2.1433081]1.29e-07                                              \n",
      "eps iter 14 0.07999999999999999                \n",
      "t_diff [2.15928311].79e-09                                              \n",
      "eps iter 15 0.08499999999999998                \n",
      "t_diff [2.14186487].83e-07                                              \n",
      "eps iter 16 0.08999999999999998                \n",
      "t_diff [2.11075911].31e-07                                              \n",
      "eps iter 17 0.09499999999999999                \n",
      "t_diff [2.10676083].45e-08                                              \n"
     ]
    }
   ],
   "source": [
    "# top 1\n",
    "dat = follow_phase_diffs(init=4,eps_init=0.01,eps_final=0.1,\n",
    "                         deps=.005,**kw_p0004)\n",
    "data_p0004_list.append(dat)"
   ]
  },
  {
   "cell_type": "code",
   "execution_count": 38,
   "id": "ab5b0cd2-7079-4206-8a95-430736e01c5c",
   "metadata": {
    "scrolled": true
   },
   "outputs": [],
   "source": [
    "dat = follow_phase_diffs(init=4,eps_init=0.01,eps_final=0.0005,\n",
    "                         deps=-.005,**kw_p0004)\n",
    "data_p0004_list.append(dat)"
   ]
  },
  {
   "cell_type": "code",
   "execution_count": 39,
   "id": "2895f8ff-6f87-42bb-9d84-8e884a31b261",
   "metadata": {
    "scrolled": true
   },
   "outputs": [],
   "source": [
    "dat = follow_phase_diffs(init=2,eps_init=0.08,eps_final=0.1,\n",
    "                         deps=.005,**kw_p0004)\n",
    "data_p0004_list.append(dat)"
   ]
  },
  {
   "cell_type": "code",
   "execution_count": 40,
   "id": "14a04dab-88b4-4cd9-993b-3071a3ff92de",
   "metadata": {
    "scrolled": true
   },
   "outputs": [],
   "source": [
    "dat = follow_phase_diffs(init=2,eps_init=0.08,eps_final=0.025,\n",
    "                         deps=-.005,**kw_p0004)\n",
    "data_p0004_list.append(dat)"
   ]
  },
  {
   "cell_type": "markdown",
   "id": "6a856c64-6fd6-4adc-a43e-3c5776d17dea",
   "metadata": {},
   "source": [
    "## Get Branches 3D"
   ]
  },
  {
   "cell_type": "code",
   "execution_count": 41,
   "id": "4a1f800b-b1a8-404a-959e-04342d0106ff",
   "metadata": {},
   "outputs": [],
   "source": [
    "data_r3d_p0004_list = []"
   ]
  },
  {
   "cell_type": "code",
   "execution_count": 42,
   "id": "2fe9cf9a-3f00-4d01-9507-584729e7f318",
   "metadata": {
    "scrolled": true
   },
   "outputs": [
    {
     "name": "stdout",
     "output_type": "stream",
     "text": [
      "t_diff 4.47619946008641413, Y=[ 4.47619946 -0.01323762 -0.01695616]                                              \n",
      "[ 4.4762 -0.0132 -0.017 ]\n"
     ]
    }
   ],
   "source": [
    "# find init for this branch mid\n",
    "_,init = phase_lock_r3d([5,0,0],a21_p0004,.01,_redu_3dc)\n",
    "print(init)"
   ]
  },
  {
   "cell_type": "code",
   "execution_count": 43,
   "id": "2b6975e1-1e4e-49cc-86cf-786a50fd81e4",
   "metadata": {
    "scrolled": true
   },
   "outputs": [
    {
     "name": "stdout",
     "output_type": "stream",
     "text": [
      "eps iter 0 0.01                \n",
      "t_diff 4.47619946008640909, Y=[ 4.47619946 -0.01323762 -0.01695616]                                              \n",
      "eps iter 1 0.02                \n",
      "t_diff 4.40801642091838-09, Y=[ 4.40801642 -0.02761736 -0.03469117]                                              \n",
      "eps iter 2 0.03                \n",
      "t_diff 4.33729495855313309, Y=[ 4.33729496 -0.04319459 -0.05319888]                                              \n",
      "eps iter 3 0.04                \n",
      "t_diff 4.26466936683471408, Y=[ 4.26466937 -0.05999105 -0.0724439 ]                                              \n",
      "eps iter 4 0.05                \n",
      "t_diff 4.19107952067053313, Y=[ 4.19107952 -0.07798082 -0.09235733]                                              \n",
      "eps iter 5 0.060000000000000005                \n",
      "t_diff 4.11772916058430713, Y=[ 4.11772916 -0.09708177 -0.11283909]                                              \n",
      "eps iter 6 0.06999999999999999                \n",
      "t_diff 4.04594734570729712, Y=[ 4.04594735 -0.11715911 -0.1337693 ]                                              \n",
      "eps iter 7 0.08                \n",
      "t_diff 3.97697739428868722, Y=[ 3.97697739 -0.13804347 -0.15502648]                                              \n",
      "eps iter 8 0.09                \n",
      "t_diff 3.91177321738847632, Y=[ 3.91177322 -0.15955807 -0.17650599]                                              \n"
     ]
    }
   ],
   "source": [
    "# f\n",
    "dat = follow_locking_3d(init,a21_p0004,(.01,.1,.01),\n",
    "                        rhs=_redu_3dc,recompute=False)\n",
    "data_r3d_p0004_list.append(dat)"
   ]
  },
  {
   "cell_type": "code",
   "execution_count": 44,
   "id": "9f344175-a51e-4afd-b49b-181538ee7df9",
   "metadata": {
    "scrolled": true
   },
   "outputs": [
    {
     "name": "stdout",
     "output_type": "stream",
     "text": [
      "eps iter 0 0.01                \n",
      "t_diff 4.47619946008640909, Y=[ 4.47619946 -0.01323762 -0.01695616]                                              \n",
      "eps iter 1 0.009000000000000001                \n",
      "t_diff 4.48286226626420312, Y=[ 4.48286227 -0.01186359 -0.01522561]                                              \n",
      "eps iter 2 0.008000000000000002                \n",
      "t_diff 4.48949569998828912, Y=[ 4.4894957  -0.01050093 -0.01350286]                                              \n",
      "eps iter 3 0.007000000000000003                \n",
      "t_diff 4.49609955731696112, Y=[ 4.49609956 -0.00914956 -0.0117879 ]                                              \n",
      "eps iter 4 0.006000000000000004                \n",
      "t_diff 4.50267365420642652, Y=[ 4.50267365 -0.00780942 -0.01008071]                                              \n"
     ]
    }
   ],
   "source": [
    "# b\n",
    "dat = follow_locking_3d(init,a21_p0004,(.01,.005,-.001),\n",
    "                        rhs=_redu_3dc,recompute=False)\n",
    "data_r3d_p0004_list.append(dat)"
   ]
  },
  {
   "cell_type": "markdown",
   "id": "06bded68-345f-4895-88fb-79e33c451b58",
   "metadata": {},
   "source": [
    "## Plot"
   ]
  },
  {
   "cell_type": "code",
   "execution_count": 45,
   "id": "dcc61417-3650-41b7-8162-971683a107ff",
   "metadata": {},
   "outputs": [
    {
     "data": {
      "image/png": "[encoded data removed]",
      "text/plain": [
       "<Figure size 300x200 with 1 Axes>"
      ]
     },
     "metadata": {},
     "output_type": "display_data"
    }
   ],
   "source": [
    "quick_plot_combined(a21_p0004,\n",
    "                    kw_f={'data_list':data_p0004_list},\n",
    "                    kw_r3d={'data_list':data_r3d_p0004_list},\n",
    "                    kw_r={'etup':etup21})"
   ]
  },
  {
   "cell_type": "markdown",
   "id": "f9ca8d2e-5fa6-4dca-a7f4-2efea4be95cf",
   "metadata": {},
   "source": [
    "# ==NEGATIVE=="
   ]
  },
  {
   "cell_type": "markdown",
   "id": "38da82b6-36b1-4a88-93d2-b9b36d4a7e26",
   "metadata": {},
   "source": [
    "# del=0.0002"
   ]
  },
  {
   "cell_type": "code",
   "execution_count": 46,
   "id": "e1e5bddc-14ae-4fd7-b5b2-2708bece1707",
   "metadata": {
    "editable": true,
    "slideshow": {
     "slide_type": ""
    },
    "tags": []
   },
   "outputs": [
    {
     "name": "stdout",
     "output_type": "stream",
     "text": [
      "pfactor 4\n",
      "* Loading p symbolic...\n",
      "* Loading p symbolic...\n",
      "p order=0\n",
      "p order=0\n",
      "p order=1\n",
      "p order=1\n",
      "p order=2\n",
      "p order=2\n",
      "p order=3\n",
      "p order=3\n",
      "p order=4\n",
      "p order=4\n",
      "p order=5\n",
      "p order=5\n",
      "* Loading H symbolic...\n",
      "* Loading H symbolic...\n",
      "* Computing H gw0, order=0...\n",
      "* Computing H gw1, order=0...\n",
      "* Computing H gw0, order=1...\n",
      "* Computing H gw1, order=1...\n",
      "* Computing H gw0, order=2...\n",
      "* Computing H gw1, order=2...\n",
      "* Computing H gw0, order=3...\n",
      "* Computing H gw1, order=3...\n",
      "* Computing H gw0, order=4...\n",
      "* Computing H gw1, order=4...\n",
      "* Computing H gw0, order=5...\n",
      "* Computing H gw1, order=5...\n"
     ]
    }
   ],
   "source": [
    "del21_p0002b = -0.0002\n",
    "a21_p0002b = nm.nmCoupling(**kw_nm, del1=del21_p0002b)"
   ]
  },
  {
   "cell_type": "markdown",
   "id": "ca6286cd-7923-4e6d-98b4-f7bbfd1ee9b8",
   "metadata": {},
   "source": [
    "### Get Branches Full"
   ]
  },
  {
   "cell_type": "code",
   "execution_count": 47,
   "id": "ee829a68-f287-4087-a377-617f49ffe3af",
   "metadata": {},
   "outputs": [],
   "source": [
    "kw_p0002b = {'a':a21_p0002b,'del1':del21_p0002b,'recompute':False,\n",
    "             'bifdir':'bif1d_gw2/', '_full_rhs':_full}"
   ]
  },
  {
   "cell_type": "code",
   "execution_count": 48,
   "id": "7afa2466-c753-46e3-886f-8c9a422a9149",
   "metadata": {},
   "outputs": [],
   "source": [
    "data_p0002b_list = []"
   ]
  },
  {
   "cell_type": "code",
   "execution_count": 49,
   "id": "dc4b74e6-ec6b-46fe-b119-e9fdd2ef5d9c",
   "metadata": {
    "scrolled": true
   },
   "outputs": [],
   "source": [
    "# top 1\n",
    "dat = follow_phase_diffs(init=4,eps_init=0.01,eps_final=0.08,\n",
    "                         deps=.005,**kw_p0002b)\n",
    "data_p0002b_list.append(dat)"
   ]
  },
  {
   "cell_type": "code",
   "execution_count": 50,
   "id": "c8d6c747-7cf0-4d84-a659-53b84c0462d6",
   "metadata": {
    "scrolled": true
   },
   "outputs": [],
   "source": [
    "dat = follow_phase_diffs(init=4,eps_init=0.01,eps_final=0.0005,\n",
    "                         deps=-.005,**kw_p0002b)\n",
    "data_p0002b_list.append(dat)"
   ]
  },
  {
   "cell_type": "code",
   "execution_count": 51,
   "id": "a6ca3f02-a61a-4591-9c09-461fc9d73657",
   "metadata": {
    "scrolled": true
   },
   "outputs": [],
   "source": [
    "dat = follow_phase_diffs(init=2,eps_init=0.08,eps_final=0.1,\n",
    "                         deps=.005,**kw_p0002b)\n",
    "data_p0002b_list.append(dat)"
   ]
  },
  {
   "cell_type": "code",
   "execution_count": 52,
   "id": "20119142-2ca5-4fb6-82b5-56831944c45d",
   "metadata": {
    "scrolled": true
   },
   "outputs": [],
   "source": [
    "dat = follow_phase_diffs(init=2,eps_init=0.08,eps_final=0.03,\n",
    "                         deps=-.005,**kw_p0002b)\n",
    "data_p0002b_list.append(dat)"
   ]
  },
  {
   "cell_type": "markdown",
   "id": "f3dd3dd2-254f-4548-9bde-426432b021c6",
   "metadata": {},
   "source": [
    "## Get Branches 3D"
   ]
  },
  {
   "cell_type": "code",
   "execution_count": 53,
   "id": "4658e603-fe54-4c42-9b14-f3c5e360f60b",
   "metadata": {},
   "outputs": [],
   "source": [
    "data_r3d_p0002b_list = []"
   ]
  },
  {
   "cell_type": "code",
   "execution_count": 54,
   "id": "5d3641e0-9842-429f-b133-f3e653365915",
   "metadata": {
    "scrolled": true
   },
   "outputs": [
    {
     "name": "stdout",
     "output_type": "stream",
     "text": [
      "t_diff 4.26162348009118650, Y=[ 4.26162348 -0.01471898 -0.01805195]                                              \n",
      "[ 4.2616 -0.0147 -0.0181]\n"
     ]
    }
   ],
   "source": [
    "# find init for this branch mid\n",
    "_,init = phase_lock_r3d([4,0,0],a21_p0002b,.01,_redu_3dc)\n",
    "print(init)"
   ]
  },
  {
   "cell_type": "code",
   "execution_count": 55,
   "id": "dd8e89a0-6744-45d7-b374-ad61b5eadbaa",
   "metadata": {
    "scrolled": true
   },
   "outputs": [
    {
     "name": "stdout",
     "output_type": "stream",
     "text": [
      "eps iter 0 0.01                \n",
      "t_diff 4.26162348009119511, Y=[ 4.26162348 -0.01471898 -0.01805195]                                              \n",
      "eps iter 1 0.02                \n",
      "t_diff 4.17445893233082813, Y=[ 4.17445893 -0.03081791 -0.03685559]                                              \n",
      "eps iter 2 0.03                \n",
      "t_diff 4.08473993315664-08, Y=[ 4.08473993 -0.04829166 -0.05631373]                                              \n",
      "eps iter 3 0.04                \n",
      "t_diff 3.99511840947145962, Y=[ 3.99511841 -0.06702264 -0.07626867]                                              \n",
      "eps iter 4 0.05                \n",
      "t_diff 3.90903632860113911, Y=[ 3.90903633 -0.08677241 -0.09653003]                                              \n",
      "eps iter 5 0.060000000000000005                \n",
      "t_diff 3.82969801845860511, Y=[ 3.82969802 -0.10723543 -0.11693057]                                              \n",
      "eps iter 6 0.06999999999999999                \n",
      "t_diff 3.75894875146341211, Y=[ 3.75894875 -0.12813214 -0.13737168]                                              \n",
      "eps iter 7 0.08                \n",
      "t_diff 3.69697807618434251, Y=[ 3.69697808 -0.14927138 -0.15782523]                                              \n",
      "eps iter 8 0.09                \n",
      "t_diff 3.64286465788114-11, Y=[ 3.64286466 -0.17055171 -0.178305  ]                                              \n",
      "eps iter 9 0.09999999999999999                \n",
      "t_diff 3.59528319192814032, Y=[ 3.59528319 -0.19193109 -0.19883897]                                              \n",
      "eps iter 10 0.11                \n",
      "t_diff 3.55294871175748032, Y=[ 3.55294871 -0.21339739 -0.219455  ]                                              \n",
      "eps iter 11 0.12                \n",
      "t_diff 3.51479096358017753, Y=[ 3.51479096 -0.23495034 -0.24017638]                                              \n",
      "eps iter 12 0.13                \n",
      "t_diff 3.47998137480484854, Y=[ 3.47998137 -0.25659229 -0.26102197]                                              \n",
      "eps iter 13 0.14                \n",
      "t_diff 3.44790428902755154, Y=[ 3.44790429 -0.27832397 -0.28200768]                                              \n"
     ]
    }
   ],
   "source": [
    "# f\n",
    "dat = follow_locking_3d(init,a21_p0002b,(.01,.15,.01),\n",
    "                        rhs=_redu_3dc,recompute=False)\n",
    "data_r3d_p0002b_list.append(dat)"
   ]
  },
  {
   "cell_type": "code",
   "execution_count": 56,
   "id": "522f41e4-ee73-491a-b536-74d1b89dd7d0",
   "metadata": {
    "scrolled": true
   },
   "outputs": [
    {
     "name": "stdout",
     "output_type": "stream",
     "text": [
      "eps iter 0 0.01                \n",
      "t_diff 4.26162348009119511, Y=[ 4.26162348 -0.01471898 -0.01805195]                                              \n",
      "eps iter 1 0.009000000000000001                \n",
      "t_diff 4.27013099171742411, Y=[ 4.27013099 -0.01318568 -0.01621187]                                              \n",
      "eps iter 2 0.008000000000000002                \n",
      "t_diff 4.27859577293184911, Y=[ 4.27859577 -0.01166618 -0.01437942]                                              \n",
      "eps iter 3 0.007000000000000003                \n",
      "t_diff 4.28701694321830411, Y=[ 4.28701694 -0.01016045 -0.01255465]                                              \n",
      "eps iter 4 0.006000000000000004                \n",
      "t_diff 4.29539370537984911, Y=[ 4.29539371 -0.00866842 -0.01073762]                                              \n"
     ]
    }
   ],
   "source": [
    "# b\n",
    "dat = follow_locking_3d(init,a21_p0002b,(.01,.005,-.001),\n",
    "                        rhs=_redu_3dc,recompute=False)\n",
    "data_r3d_p0002b_list.append(dat)"
   ]
  },
  {
   "cell_type": "markdown",
   "id": "1328238f-5e1b-4d47-b53b-b431fa7f5179",
   "metadata": {},
   "source": [
    "## Plot"
   ]
  },
  {
   "cell_type": "code",
   "execution_count": 57,
   "id": "3a0ec629-7df7-407c-b20b-b9cbdf6b1c43",
   "metadata": {},
   "outputs": [
    {
     "data": {
      "image/png": "[encoded data removed]",
      "text/plain": [
       "<Figure size 300x200 with 1 Axes>"
      ]
     },
     "metadata": {},
     "output_type": "display_data"
    }
   ],
   "source": [
    "quick_plot_combined(a21_p0002b,\n",
    "                    kw_f={'data_list':data_p0002b_list},\n",
    "                    kw_r3d={'data_list':data_r3d_p0002b_list},\n",
    "                    kw_r={'etup':etup21})"
   ]
  },
  {
   "cell_type": "code",
   "execution_count": null,
   "id": "ddf5b0a9-25a0-4a87-9843-3a02ccad848b",
   "metadata": {},
   "outputs": [],
   "source": []
  }
 ],
 "metadata": {
  "jpcodetoc-autonumbering": true,
  "kernelspec": {
   "display_name": "Python 3 (ipykernel)",
   "language": "python",
   "name": "python3"
  },
  "language_info": {
   "codemirror_mode": {
    "name": "ipython",
    "version": 3
   },
   "file_extension": ".py",
   "mimetype": "text/x-python",
   "name": "python",
   "nbconvert_exporter": "python",
   "pygments_lexer": "ipython3",
   "version": "3.10.14"
  }
 },
 "nbformat": 4,
 "nbformat_minor": 5
}
