{
 "cells": [
  {
   "cell_type": "markdown",
   "id": "23e42e58-3a01-4071-805d-601b71b38b10",
   "metadata": {},
   "source": [
    "# Bifurcation diagrams of gw2 for 2:1"
   ]
  },
  {
   "cell_type": "markdown",
   "id": "2a16f943-de0d-454b-ba8f-6b866d7a2763",
   "metadata": {},
   "source": [
    "I'm trying to figure out why the 1d bifurcation diagram in the full model is \"flipped\" compared to the reduced model.\n",
    "\n",
    "It is unclear if it's in how I set up the model equations, or if there is a calculation error.\n",
    "\n",
    "The homogeneous case works well enough. but with even a tiny bit of heterogeneity, the solutions don't match for small epsilon.\n",
    "\n",
    "Well it appears that the \"flip\" was due to 1. not including delta in the psi calculations, and 2. there is a qualitative match in the dynamics for sufficiently small epsilon, consistent with first-order averaging. I've checked the same dynamics using the higher-order response functions and the dynamics are faithfully reproduced. so seeing as how the only first-order approximation is the averaging, I believe it's the averaging that's limiting the accuracy here."
   ]
  },
  {
   "cell_type": "markdown",
   "id": "eead68f0-8581-493c-bebe-3df044f84f09",
   "metadata": {},
   "source": [
    "# Inits"
   ]
  },
  {
   "cell_type": "code",
   "execution_count": 1,
   "id": "bff2b64f-30fb-4920-bf9c-e04a6d6b4c29",
   "metadata": {},
   "outputs": [],
   "source": [
    "import sys; sys.path.insert(0, '..') # add parent folder path where lib folder is\n",
    "# user-defined\n",
    "import nmCoupling as nm\n",
    "# import nmCoupling_old as nm\n",
    "import response as rp\n",
    "\n",
    "import gw2\n",
    "\n",
    "from lib.util import (get_phase, freq_est, get_tongue_1d, pl_exist_1d, \n",
    "get_period, bif1d, follow_phase_diffs, phase_lock_r3d, follow_locking_3d, \n",
    "get_initial_phase_diff_c, get_period)\n",
    "\n",
    "from lib.rhs import _redu_c, _full, _redu_full\n",
    "from lib.rhs import _redu_3dc_thal as _redu_3dc\n",
    "\n",
    "from lib.plot_util import add_diagram_1d_scatter, quick_plot_combined\n",
    "\n",
    "\n",
    "import numpy as np\n",
    "import scipy as sp\n",
    "import matplotlib.pyplot as plt\n",
    "from scipy.integrate import solve_ivp\n",
    "import sympy as sym\n",
    "\n",
    "from scipy.optimize import root,bisect\n",
    "from copy import deepcopy\n",
    "import os\n",
    "\n",
    "plt.rcParams.update({\n",
    "    \"text.usetex\": True,\n",
    "    \"font.family\": \"Helvetica\"\n",
    "})\n",
    "\n",
    "nmc = nm.nmCoupling\n",
    "rsp = rp.Response"
   ]
  },
  {
   "cell_type": "markdown",
   "id": "a1bb017e-41f4-4086-b284-822ae4712d82",
   "metadata": {},
   "source": [
    "## Dicts"
   ]
  },
  {
   "cell_type": "code",
   "execution_count": 2,
   "id": "d335ab16-8a22-4cc3-8433-8c24d50cef45",
   "metadata": {},
   "outputs": [],
   "source": [
    "kw_sim = {'rtol':1e-8,'atol':1e-8,'method':'LSODA'}"
   ]
  },
  {
   "cell_type": "code",
   "execution_count": 3,
   "id": "b4fb5202-c665-4c48-974b-859ec845ff1e",
   "metadata": {},
   "outputs": [],
   "source": [
    "pd1 = {'v1':.84,'v2':.42,'v4':.35,'v6':.35,'v8':1,\n",
    "           'k1':1,'k2':1,'k3':.7,'k4':1,'k5':.7,\n",
    "           'k6':1,'k7':.35,'k8':1,'K':0.5,'kc':1,\n",
    "           'n':6,'L':0,'eps':0,'del':0,'om':1,'om_fix':1}"
   ]
  },
  {
   "cell_type": "code",
   "execution_count": 4,
   "id": "53cc056f-badd-4d78-b4f8-bacad65a540e",
   "metadata": {
    "editable": true,
    "slideshow": {
     "slide_type": ""
    },
    "tags": []
   },
   "outputs": [],
   "source": [
    "kws1 = {'var_names':['x','y','z','v'],\n",
    "        'pardict':pd1,\n",
    "        'rhs':gw2.rhs,\n",
    "        'coupling':gw2.coupling,\n",
    "        'init':np.array([.3882,.523,1.357,.4347,24.2]),\n",
    "        'TN':2000,\n",
    "        'trunc_order':1,\n",
    "        'z_forward':False,\n",
    "        'i_forward':[False,True,False,False,False],\n",
    "        'i_bad_dx':[False,True,False,False,False],\n",
    "        'max_iter':20,\n",
    "        'rtol':1e-12,\n",
    "        'atol':1e-12,\n",
    "        'rel_tol':1e-9,\n",
    "        'save_fig':False,\n",
    "       'lc_prominence':.1,\n",
    "       'factor':0.5}"
   ]
  },
  {
   "cell_type": "markdown",
   "id": "3dfd6884-d02b-4ee8-a95a-6f9f80be3686",
   "metadata": {},
   "source": [
    "## Defs"
   ]
  },
  {
   "cell_type": "code",
   "execution_count": 5,
   "id": "4864d4ba-915e-4030-8a3f-a52585de12b9",
   "metadata": {},
   "outputs": [],
   "source": [
    "kw_bif = {'method':'LSODA','dense_output':True,'rtol':1e-9,'atol':1e-9}"
   ]
  },
  {
   "cell_type": "code",
   "execution_count": 6,
   "id": "dcb71253-ba88-4cc2-9d01-7c011891b5d5",
   "metadata": {},
   "outputs": [],
   "source": [
    "etup21 = (.001,.1,200)\n",
    "eps_list21r = np.linspace(*etup21)"
   ]
  },
  {
   "cell_type": "code",
   "execution_count": 7,
   "id": "0a8b29ab-d115-4d56-a0d0-249340085080",
   "metadata": {
    "editable": true,
    "slideshow": {
     "slide_type": ""
    },
    "tags": []
   },
   "outputs": [],
   "source": [
    "x_temp = np.linspace(-np.pi,3*np.pi,500)"
   ]
  },
  {
   "cell_type": "markdown",
   "id": "a97a9a8f-f2e9-4107-81ba-aeae83e39456",
   "metadata": {},
   "source": [
    "## Initialize Response Functions"
   ]
  },
  {
   "cell_type": "code",
   "execution_count": 8,
   "id": "e202b364-f6e1-488a-9a21-e8608cc4c558",
   "metadata": {
    "editable": true,
    "slideshow": {
     "slide_type": ""
    },
    "tags": []
   },
   "outputs": [
    {
     "name": "stdout",
     "output_type": "stream",
     "text": [
      "mkdir ./data/gw0/\n",
      "* Loading LC data...\n",
      "self.T 6.283185307179586 omfix 3.859018323065443\n",
      "* Loading monodromy...\n",
      "* Floquet Exponent kappa =-0.15846659975382527\n",
      "* Loading g symbolic...\n",
      "* Computing g...\n",
      "* Loading heterogeneous terms...\n",
      "* Computing z...\n",
      "* Computing i...\n",
      "mkdir ./data/gw1/\n",
      "* Loading LC data...\n",
      "self.T 6.283185307179586 omfix 3.859018323065443\n",
      "* Loading monodromy...\n",
      "* Floquet Exponent kappa =-0.15846659975382527\n",
      "* Loading g symbolic...\n",
      "* Computing g...\n",
      "* Loading heterogeneous terms...\n",
      "* Computing z...\n",
      "* Computing i...\n"
     ]
    }
   ],
   "source": [
    "system1 = rsp(idx=0,model_name='gw0',**kws1)\n",
    "system2 = rsp(idx=1,model_name='gw1',**kws1)"
   ]
  },
  {
   "cell_type": "markdown",
   "id": "082673fa-d5bd-4913-a320-dc4fd6fe8b77",
   "metadata": {},
   "source": [
    "# del=0.0"
   ]
  },
  {
   "cell_type": "code",
   "execution_count": 9,
   "id": "e877e0c4-dacf-4a89-b055-440fa2a224d3",
   "metadata": {
    "editable": true,
    "slideshow": {
     "slide_type": ""
    },
    "tags": []
   },
   "outputs": [
    {
     "name": "stdout",
     "output_type": "stream",
     "text": [
      "pfactor 4\n",
      "* Loading p symbolic...\n",
      "* Loading p symbolic...\n",
      "* Loading H symbolic...\n",
      "* Loading H symbolic...\n",
      "* Loading H gw0, order=0...\n",
      "* Loading H gw1, order=0...\n",
      "* Loading H gw0, order=1...\n",
      "* Loading H gw1, order=1...\n"
     ]
    }
   ],
   "source": [
    "del21_p0 = 0\n",
    "a21_p0 = nm.nmCoupling(system1,system2,\n",
    "                    #recompute_list=['p_data_gw0','p_data_gw1','h_data_gw0','h_data_gw1'],\n",
    "                    #recompute_list=['h_data_gw0','h_data_gw1'],\n",
    "                    #recompute_list=recompute_list,\n",
    "                    _n=('om0',2),_m=('om1',1),\n",
    "                    NH=1000,\n",
    "                    save_fig=False,\n",
    "                   del1=del21_p0)"
   ]
  },
  {
   "cell_type": "markdown",
   "id": "685069bd-8e76-49d3-8268-09964e4cb876",
   "metadata": {},
   "source": [
    "### Get Branches Full"
   ]
  },
  {
   "cell_type": "code",
   "execution_count": 10,
   "id": "ae2ff6ad-74fc-472d-91e1-c3f1898ff8f7",
   "metadata": {},
   "outputs": [],
   "source": [
    "kw_p0 = {'a':a21_p0,'del1':del21_p0,'recompute':False,'bifdir':'bif1d_gw2/',\n",
    "        '_full_rhs':_full}"
   ]
  },
  {
   "cell_type": "code",
   "execution_count": 11,
   "id": "7a2d6562-b798-433e-841a-122106ea2c41",
   "metadata": {},
   "outputs": [],
   "source": [
    "data_p0_list = []"
   ]
  },
  {
   "cell_type": "code",
   "execution_count": 12,
   "id": "47826e71-d2d2-47e7-a621-9532f889fe0a",
   "metadata": {
    "scrolled": true
   },
   "outputs": [],
   "source": [
    "# top 1\n",
    "dat = follow_phase_diffs(init=4,eps_init=0.01,eps_final=0.0775,\n",
    "                         deps=.005,**kw_p0)\n",
    "data_p0_list.append(dat)"
   ]
  },
  {
   "cell_type": "code",
   "execution_count": 13,
   "id": "296a1aac-aa4a-4750-b870-828e492f2612",
   "metadata": {
    "scrolled": true
   },
   "outputs": [],
   "source": [
    "dat = follow_phase_diffs(init=4,eps_init=0.01,eps_final=0.0005,deps=-.005,**kw_p0)\n",
    "data_p0_list.append(dat)"
   ]
  },
  {
   "cell_type": "code",
   "execution_count": 14,
   "id": "93a27272-fae2-41a5-b8a8-c38de88e429c",
   "metadata": {
    "scrolled": true
   },
   "outputs": [],
   "source": [
    "dat = follow_phase_diffs(init=2,eps_init=0.08,eps_final=0.1,deps=.005,**kw_p0)\n",
    "data_p0_list.append(dat)"
   ]
  },
  {
   "cell_type": "code",
   "execution_count": 15,
   "id": "498ba256-62e9-4d17-85e2-b9d230865913",
   "metadata": {
    "scrolled": true
   },
   "outputs": [],
   "source": [
    "dat = follow_phase_diffs(init=2,eps_init=0.08,eps_final=0.04,deps=-.005,**kw_p0)\n",
    "data_p0_list.append(dat)"
   ]
  },
  {
   "cell_type": "markdown",
   "id": "4e24d41e-aefe-4135-8677-b7b0ff1d549a",
   "metadata": {},
   "source": [
    "## Get Branches 3D"
   ]
  },
  {
   "cell_type": "code",
   "execution_count": 16,
   "id": "ac269980-efde-4318-939a-9b0d9567b503",
   "metadata": {},
   "outputs": [],
   "source": [
    "data_r3d_p0_list = []"
   ]
  },
  {
   "cell_type": "code",
   "execution_count": 17,
   "id": "d6cf95a8-6af3-42f2-b3f2-eb99fa0894eb",
   "metadata": {
    "scrolled": true
   },
   "outputs": [
    {
     "name": "stdout",
     "output_type": "stream",
     "text": [
      "t_diff 4.34539878862819610, Y=[ 4.34539879 -0.01411754 -0.0176649 ]                                              \n",
      "[ 4.3454 -0.0141 -0.0177]\n"
     ]
    }
   ],
   "source": [
    "# find init for this branch mid\n",
    "_,init = phase_lock_r3d([4,0,0],a21_p0,.01,_redu_3dc)\n",
    "print(init)"
   ]
  },
  {
   "cell_type": "code",
   "execution_count": 18,
   "id": "56666dd9-3f5f-42c1-b473-b2a084b57890",
   "metadata": {
    "scrolled": true
   },
   "outputs": [],
   "source": [
    "# f\n",
    "dat = follow_locking_3d(init,a21_p0,(.01,.15,.01),\n",
    "                        rhs=_redu_3dc,recompute=False)\n",
    "data_r3d_p0_list.append(dat)"
   ]
  },
  {
   "cell_type": "code",
   "execution_count": 19,
   "id": "aae0937d-727c-401d-92f7-ffc0f9ff274b",
   "metadata": {
    "scrolled": true
   },
   "outputs": [],
   "source": [
    "# b\n",
    "dat = follow_locking_3d(init,a21_p0,(.01,.005,-.001),\n",
    "                        rhs=_redu_3dc,recompute=False)\n",
    "data_r3d_p0_list.append(dat)"
   ]
  },
  {
   "cell_type": "markdown",
   "id": "f4349401-648f-4edb-a6cc-94c0a99442f8",
   "metadata": {},
   "source": [
    "## Plot"
   ]
  },
  {
   "cell_type": "code",
   "execution_count": 20,
   "id": "2875ee00-cba1-4925-9005-2f2a91379f7a",
   "metadata": {},
   "outputs": [
    {
     "data": {
      "image/png": "[encoded data removed]",
      "text/plain": [
       "<Figure size 300x200 with 1 Axes>"
      ]
     },
     "metadata": {},
     "output_type": "display_data"
    }
   ],
   "source": [
    "quick_plot_combined(a21_p0,\n",
    "                    kw_f={'data_list':data_p0_list},\n",
    "                    kw_r3d={'data_list':data_r3d_p0_list},\n",
    "                    kw_r={'etup':etup21})"
   ]
  },
  {
   "cell_type": "markdown",
   "id": "94e79ac0-40ae-4880-858c-3bfa5deac389",
   "metadata": {},
   "source": [
    "# del=0.0002"
   ]
  },
  {
   "cell_type": "code",
   "execution_count": 35,
   "id": "40d9118e-696d-4a9a-985d-69971b4ce5b8",
   "metadata": {
    "editable": true,
    "slideshow": {
     "slide_type": ""
    },
    "tags": []
   },
   "outputs": [
    {
     "name": "stdout",
     "output_type": "stream",
     "text": [
      "pfactor 4\n",
      "* Loading p symbolic...\n",
      "* Loading p symbolic...\n",
      "p order=0\n",
      "p order=0\n",
      "p order=1\n",
      "p order=1\n",
      "* Loading H symbolic...\n",
      "* Loading H symbolic...\n",
      "* Computing H gw0, order=0...\n",
      "* Computing H gw1, order=0...\n",
      "* Computing H gw0, order=1...\n",
      "* Computing H gw1, order=1...\n"
     ]
    }
   ],
   "source": [
    "del21_p0002 = 0.0002\n",
    "a21_p0002 = nm.nmCoupling(system1,system2,\n",
    "                    #recompute_list=['p_data_gw0','p_data_gw1','h_data_gw0','h_data_gw1'],\n",
    "                    #recompute_list=['h_data_gw0','h_data_gw1'],\n",
    "                    #recompute_list=recompute_list,\n",
    "                    _n=('om0',2),_m=('om1',1),\n",
    "                    NH=1000,\n",
    "                    save_fig=False,\n",
    "                   del1=del21_p0002)"
   ]
  },
  {
   "cell_type": "markdown",
   "id": "81a09acc-e576-49e1-8c09-33dde7e73f6e",
   "metadata": {},
   "source": [
    "### Get Branches Full"
   ]
  },
  {
   "cell_type": "code",
   "execution_count": 22,
   "id": "6777e957-9ba4-43b1-a2b5-110bb2d29278",
   "metadata": {},
   "outputs": [],
   "source": [
    "kw_p0002 = {'a':a21_p0002,'del1':del21_p0002,'recompute':False,'bifdir':'bif1d_gw2/',\n",
    "        '_full_rhs':_full}"
   ]
  },
  {
   "cell_type": "code",
   "execution_count": 25,
   "id": "0ca796fa-6403-4cc3-88ae-f638f7483d68",
   "metadata": {},
   "outputs": [],
   "source": [
    "data_p0002_list = []"
   ]
  },
  {
   "cell_type": "code",
   "execution_count": 26,
   "id": "b368bc2a-af92-43eb-af89-44b0fb3e1e0a",
   "metadata": {
    "scrolled": true
   },
   "outputs": [
    {
     "name": "stdout",
     "output_type": "stream",
     "text": [
      "init [0.38578185 0.51943975 1.35601047 0.1263677  0.15416057 0.73963238 2.43836757 0.084687   6.29430416]\n",
      "eps iter 0 0.01                \n",
      "t_diff [2.20357631].29e-08                                              \n",
      "eps iter 1 0.015                \n",
      "t_diff [2.18993717].13e-09                                              \n",
      "eps iter 2 0.019999999999999997                \n",
      "t_diff [2.18915674].78e-10                                              \n",
      "eps iter 3 0.024999999999999998                \n",
      "t_diff [2.15799141].25e-07                                              \n",
      "eps iter 4 0.03                \n",
      "t_diff [2.16820882].14e-07                                              \n",
      "eps iter 5 0.034999999999999996                \n",
      "t_diff [2.14852993].74e-08                                              \n",
      "eps iter 6 0.039999999999999994                \n",
      "t_diff [2.1419557]5.35e-09                                              \n",
      "eps iter 7 0.045                \n",
      "t_diff [2.12565253].31e-09                                              \n",
      "eps iter 8 0.049999999999999996                \n",
      "t_diff [2.09655029].94e-07                                              \n",
      "eps iter 9 0.05499999999999999                \n",
      "t_diff [2.09923413].81e-08                                              \n",
      "eps iter 10 0.05999999999999999                \n",
      "t_diff [2.0875537]1.08e-08                                              \n",
      "eps iter 11 0.06499999999999999                \n",
      "t_diff [2.03838439].78e-07                                              \n",
      "eps iter 12 0.06999999999999999                \n",
      "t_diff [2.0402248]1.08e-08                                              \n",
      "eps iter 13 0.07499999999999998                \n",
      "t_diff [1.98463332].42e-07                                              \n",
      "eps iter 14 0.07999999999999999                \n",
      "iter=20, rel. err =1.30e-06                                              \r"
     ]
    }
   ],
   "source": [
    "# top 1\n",
    "dat = follow_phase_diffs(init=4,eps_init=0.01,eps_final=0.08,\n",
    "                         deps=.005,**kw_p0002)\n",
    "data_p0002_list.append(dat)"
   ]
  },
  {
   "cell_type": "code",
   "execution_count": 27,
   "id": "6eaa437e-59b9-43d7-bc0b-db6550e692bd",
   "metadata": {
    "scrolled": true
   },
   "outputs": [],
   "source": [
    "dat = follow_phase_diffs(init=4,eps_init=0.01,eps_final=0.0005,deps=-.005,**kw_p0002)\n",
    "data_p0002_list.append(dat)"
   ]
  },
  {
   "cell_type": "code",
   "execution_count": 28,
   "id": "9976a253-c970-4843-8e30-682bb0d9e4ba",
   "metadata": {
    "scrolled": true
   },
   "outputs": [],
   "source": [
    "dat = follow_phase_diffs(init=2,eps_init=0.08,eps_final=0.1,deps=.005,**kw_p0002)\n",
    "data_p0002_list.append(dat)"
   ]
  },
  {
   "cell_type": "code",
   "execution_count": 29,
   "id": "4b681a7b-e35f-4db3-a869-daf43944e623",
   "metadata": {
    "scrolled": true
   },
   "outputs": [
    {
     "name": "stdout",
     "output_type": "stream",
     "text": [
      "init [0.38468549 0.52126415 1.36174328 0.12626008 0.06214137 0.06683141 1.53555404 0.013823   6.20780636]\n",
      "eps iter 0 0.08                \n",
      "t_diff [-5.1342312].19e-07                                              \n",
      "eps iter 1 0.075                \n",
      "t_diff [-5.07927312]44e-07                                              \n",
      "eps iter 2 0.06999999999999999                \n",
      "t_diff [-5.05956525]11e-07                                              \n",
      "eps iter 3 0.06499999999999999                \n",
      "t_diff [-5.02338415]51e-07                                              \n",
      "eps iter 4 0.059999999999999984                \n",
      "t_diff [-5.01518029]38e-09                                              \n",
      "eps iter 5 0.05499999999999998                \n",
      "t_diff [-4.97051744]17e-09                                              \n",
      "eps iter 6 0.049999999999999975                \n",
      "t_diff [-4.95752295]39e-07                                              \n",
      "eps iter 7 0.04499999999999997                \n",
      "t_diff [-4.90926772]85e-08                                              \n",
      "eps iter 8 0.039999999999999966                \n",
      "t_diff [-4.85084909]17e-11                                              \n",
      "eps iter 9 0.03499999999999996                \n",
      "iter=5, rel. err =1.14e+00                                              \r"
     ]
    }
   ],
   "source": [
    "dat = follow_phase_diffs(init=2,eps_init=0.08,eps_final=0.03,deps=-.005,**kw_p0002)\n",
    "data_p0002_list.append(dat)"
   ]
  },
  {
   "cell_type": "markdown",
   "id": "5f2f6d81-b98f-4e99-8a2f-de15b483f718",
   "metadata": {},
   "source": [
    "## Get Branches 3D"
   ]
  },
  {
   "cell_type": "code",
   "execution_count": 36,
   "id": "e08b0be6-fd55-43f4-a7b9-9a41553cdea7",
   "metadata": {},
   "outputs": [],
   "source": [
    "data_r3d_p0002_list = []"
   ]
  },
  {
   "cell_type": "code",
   "execution_count": 37,
   "id": "d7ce702e-6dd8-4db2-ad32-63e83675a1c5",
   "metadata": {
    "scrolled": true
   },
   "outputs": [
    {
     "name": "stdout",
     "output_type": "stream",
     "text": [
      "t_diff 4.41513504015771211, Y=[ 4.41513504 -0.01363668 -0.01730161]                                              \n",
      "[ 4.4151 -0.0136 -0.0173]\n"
     ]
    }
   ],
   "source": [
    "# find init for this branch mid\n",
    "_,init = phase_lock_r3d([4,0,0],a21_p0002,.01,_redu_3dc)\n",
    "print(init)"
   ]
  },
  {
   "cell_type": "code",
   "execution_count": 38,
   "id": "d9063ae7-1974-4279-a561-88be5d3bd272",
   "metadata": {
    "scrolled": true
   },
   "outputs": [
    {
     "name": "stdout",
     "output_type": "stream",
     "text": [
      "eps iter 0 0.01                \n",
      "t_diff 4.41513504015773508, Y=[ 4.41513504 -0.01363668 -0.01730161]                                              \n",
      "eps iter 1 0.02                \n",
      "t_diff 4.35033024320093411, Y=[ 4.35033024 -0.02825574 -0.03527808]                                              \n",
      "eps iter 2 0.03                \n",
      "t_diff 4.29049992839050710, Y=[ 4.29049993 -0.04362693 -0.05379165]                                              \n",
      "eps iter 3 0.04                \n",
      "t_diff 4.23790055992552610, Y=[ 4.23790056 -0.05944268 -0.07267832]                                              \n",
      "eps iter 4 0.05                \n",
      "t_diff 4.19425089526094109, Y=[ 4.1942509  -0.07534609 -0.0917671 ]                                              \n",
      "eps iter 5 0.060000000000000005                \n",
      "t_diff 4.16062102447325210, Y=[ 4.16062102 -0.09095574 -0.11089035]                                              \n",
      "eps iter 6 0.06999999999999999                \n",
      "t_diff 4.13754397995018210, Y=[ 4.13754398 -0.10587546 -0.12988023]                                              \n",
      "eps iter 7 0.08                \n",
      "t_diff 4.12516834312678310, Y=[ 4.12516834 -0.11969439 -0.14855626]                                              \n",
      "eps iter 8 0.09                \n",
      "t_diff 4.12331423733720111, Y=[ 4.12331424 -0.13199356 -0.16671342]                                              \n",
      "eps iter 9 0.09999999999999999                \n",
      "t_diff 4.13141891496843512, Y=[ 4.13141891 -0.14237339 -0.18412028]                                              \n",
      "eps iter 10 0.11                \n",
      "t_diff 4.14844875666385613, Y=[ 4.14844876 -0.15050564 -0.20053398]                                              \n",
      "eps iter 11 0.12                \n",
      "t_diff 4.17288109491400112, Y=[ 4.17288109 -0.15619602 -0.21573295]                                              \n",
      "eps iter 12 0.13                \n",
      "t_diff 4.20285451231348113, Y=[ 4.20285451 -0.15942399 -0.22955458]                                              \n",
      "eps iter 13 0.14                \n",
      "t_diff 4.23644945453661413, Y=[ 4.23644945 -0.16033536 -0.24191868]                                              \n"
     ]
    }
   ],
   "source": [
    "# f\n",
    "dat = follow_locking_3d(init,a21_p0002,(.01,.15,.01),\n",
    "                        rhs=_redu_3dc,recompute=False)\n",
    "data_r3d_p0002_list.append(dat)"
   ]
  },
  {
   "cell_type": "code",
   "execution_count": 39,
   "id": "bf45ba94-12d5-4045-adf2-ffc7f4e4c187",
   "metadata": {
    "scrolled": true
   },
   "outputs": [
    {
     "name": "stdout",
     "output_type": "stream",
     "text": [
      "eps iter 0 0.01                \n",
      "t_diff 4.41513504015773508, Y=[ 4.41513504 -0.01363668 -0.01730161]                                              \n",
      "eps iter 1 0.009000000000000001                \n",
      "t_diff 4.42179375558466810, Y=[ 4.42179376 -0.01222579 -0.01553914]                                              \n",
      "eps iter 2 0.008000000000000002                \n",
      "t_diff 4.42847486764785110, Y=[ 4.42847487 -0.01082499 -0.01378358]                                              \n",
      "eps iter 3 0.007000000000000003                \n",
      "t_diff 4.43517563277866-10, Y=[ 4.43517563 -0.00943444 -0.01203503]                                              \n",
      "eps iter 4 0.006000000000000004                \n",
      "t_diff 4.44189434767303750, Y=[ 4.44189435 -0.00805431 -0.0102936 ]                                              \n"
     ]
    }
   ],
   "source": [
    "# b\n",
    "dat = follow_locking_3d(init,a21_p0002,(.01,.005,-.001),\n",
    "                        rhs=_redu_3dc,recompute=False)\n",
    "data_r3d_p0002_list.append(dat)"
   ]
  },
  {
   "cell_type": "markdown",
   "id": "9a2e969c-3b8c-4bcd-9233-774765b9b34f",
   "metadata": {},
   "source": [
    "## Plot"
   ]
  },
  {
   "cell_type": "code",
   "execution_count": 40,
   "id": "98b652ff-1bae-4d20-bbd3-5529715155fc",
   "metadata": {},
   "outputs": [
    {
     "data": {
      "image/png": "[encoded data removed]",
      "text/plain": [
       "<Figure size 300x200 with 1 Axes>"
      ]
     },
     "metadata": {},
     "output_type": "display_data"
    }
   ],
   "source": [
    "quick_plot_combined(a21_p0002,\n",
    "                    kw_f={'data_list':data_p0002_list},\n",
    "                    kw_r3d={'data_list':data_r3d_p0002_list},\n",
    "                    kw_r={'etup':etup21})"
   ]
  },
  {
   "cell_type": "markdown",
   "id": "a02c63ec-0020-45ef-af4a-3cf3ffbc844b",
   "metadata": {},
   "source": [
    "# del=0.0004"
   ]
  },
  {
   "cell_type": "code",
   "execution_count": 41,
   "id": "b2873fa7-1861-4f67-84ae-f104ce1cdc74",
   "metadata": {
    "editable": true,
    "slideshow": {
     "slide_type": ""
    },
    "tags": []
   },
   "outputs": [
    {
     "name": "stdout",
     "output_type": "stream",
     "text": [
      "pfactor 4\n",
      "* Loading p symbolic...\n",
      "* Loading p symbolic...\n",
      "p order=0\n",
      "p order=0\n",
      "p order=1\n",
      "p order=1\n",
      "* Loading H symbolic...\n",
      "* Loading H symbolic...\n",
      "* Computing H gw0, order=0...\n",
      "* Computing H gw1, order=0...\n",
      "* Computing H gw0, order=1...\n",
      "* Computing H gw1, order=1...\n"
     ]
    }
   ],
   "source": [
    "del21_p0004 = 0.0004\n",
    "a21_p0004 = nm.nmCoupling(system1,system2,\n",
    "                    #recompute_list=['p_data_gw0','p_data_gw1','h_data_gw0','h_data_gw1'],\n",
    "                    #recompute_list=['h_data_gw0','h_data_gw1'],\n",
    "                    #recompute_list=recompute_list,\n",
    "                    _n=('om0',2),_m=('om1',1),\n",
    "                    NH=1000,\n",
    "                    save_fig=False,\n",
    "                   del1=del21_p0004)"
   ]
  },
  {
   "cell_type": "markdown",
   "id": "4a585e14-8a37-4639-83e9-443fcb2b0729",
   "metadata": {},
   "source": [
    "### Get Branches Full"
   ]
  },
  {
   "cell_type": "code",
   "execution_count": 42,
   "id": "292c47ac-2555-4b6d-bf16-8035107c4b78",
   "metadata": {},
   "outputs": [],
   "source": [
    "kw_p0004 = {'a':a21_p0004,'del1':del21_p0004,'recompute':False,'bifdir':'bif1d_gw2/',\n",
    "        '_full_rhs':_full}"
   ]
  },
  {
   "cell_type": "code",
   "execution_count": 43,
   "id": "f0e18a49-b1eb-42c2-bcd0-b2bbccb6e59a",
   "metadata": {},
   "outputs": [],
   "source": [
    "data_p0004_list = []"
   ]
  },
  {
   "cell_type": "code",
   "execution_count": 44,
   "id": "e5dd73da-fc6a-4dfd-b3f9-3beeb87f090f",
   "metadata": {
    "scrolled": true
   },
   "outputs": [
    {
     "name": "stdout",
     "output_type": "stream",
     "text": [
      "init [0.38580471 0.51945597 1.3560186  0.12637427 0.16148755 0.74506093 2.40071844 0.08806663 6.29393033]\n",
      "eps iter 0 0.01                \n",
      "t_diff [2.24566698].14e-09                                              \n",
      "eps iter 1 0.015                \n",
      "t_diff [2.24546119].07e-09                                              \n",
      "eps iter 2 0.019999999999999997                \n",
      "t_diff [2.24007283].92e-07                                              \n",
      "eps iter 3 0.024999999999999998                \n",
      "t_diff [2.24025688].65e-07                                              \n",
      "eps iter 4 0.03                \n",
      "t_diff [2.2454638]1.26e-07                                              \n",
      "eps iter 5 0.034999999999999996                \n",
      "t_diff [2.21649693].65e-08                                              \n",
      "eps iter 6 0.039999999999999994                \n",
      "t_diff [2.21703429].62e-08                                              \n",
      "eps iter 7 0.045                \n",
      "t_diff [2.21500706].67e-08                                              \n",
      "eps iter 8 0.049999999999999996                \n",
      "t_diff [2.20907729].58e-09                                              \n",
      "eps iter 9 0.05499999999999999                \n",
      "t_diff [2.21150828].74e-09                                              \n",
      "eps iter 10 0.05999999999999999                \n",
      "t_diff [2.17984023].21e-09                                              \n",
      "eps iter 11 0.06499999999999999                \n",
      "t_diff [2.17389726].62e-09                                              \n",
      "eps iter 12 0.06999999999999999                \n",
      "t_diff [2.1731187]9.85e-09                                              \n",
      "eps iter 13 0.07499999999999998                \n",
      "t_diff [2.14679745].97e-08                                              \n",
      "eps iter 14 0.07999999999999999                \n",
      "t_diff [2.15113465].87e-07                                              \n",
      "eps iter 15 0.08499999999999998                \n",
      "t_diff [2.14188036].83e-07                                              \n"
     ]
    }
   ],
   "source": [
    "# top 1\n",
    "dat = follow_phase_diffs(init=4,eps_init=0.01,eps_final=0.1,\n",
    "                         deps=.005,**kw_p0004)\n",
    "data_p0004_list.append(dat)"
   ]
  },
  {
   "cell_type": "code",
   "execution_count": 45,
   "id": "ab5b0cd2-7079-4206-8a95-430736e01c5c",
   "metadata": {
    "scrolled": true
   },
   "outputs": [
    {
     "name": "stdout",
     "output_type": "stream",
     "text": [
      "init [0.38580471 0.51945597 1.3560186  0.12637427 0.16148755 0.74506093 2.40071844 0.08806663 6.29393033]\n",
      "eps iter 0 0.01                \n",
      "t_diff [2.24566698].14e-09                                              \n",
      "eps iter 1 0.005                \n",
      "t_diff [2.27621842].23e-08                                              \n"
     ]
    }
   ],
   "source": [
    "dat = follow_phase_diffs(init=4,eps_init=0.01,eps_final=0.0005,deps=-.005,**kw_p0004)\n",
    "data_p0004_list.append(dat)"
   ]
  },
  {
   "cell_type": "code",
   "execution_count": 46,
   "id": "2895f8ff-6f87-42bb-9d84-8e884a31b261",
   "metadata": {
    "scrolled": true
   },
   "outputs": [
    {
     "name": "stdout",
     "output_type": "stream",
     "text": [
      "init [0.36783653 0.50916651 1.37118044 0.12129031 0.05571967 0.52390976 2.99873275 0.0313009  6.43585014]\n",
      "eps iter 0 0.08                \n",
      "t_diff [2.14949681].04e-07                                              \n",
      "eps iter 1 0.085                \n",
      "t_diff [2.14213079].58e-07                                              \n",
      "eps iter 2 0.09000000000000001                \n",
      "t_diff [2.11933944].36e-08                                              \n",
      "eps iter 3 0.09500000000000001                \n",
      "t_diff [2.11965228].98e-08                                              \n",
      "eps iter 4 0.10000000000000002                \n",
      "t_diff [2.08825731].72e-08                                              \n"
     ]
    }
   ],
   "source": [
    "dat = follow_phase_diffs(init=2,eps_init=0.08,eps_final=0.1,deps=.005,**kw_p0004)\n",
    "data_p0004_list.append(dat)"
   ]
  },
  {
   "cell_type": "code",
   "execution_count": 47,
   "id": "14a04dab-88b4-4cd9-993b-3071a3ff92de",
   "metadata": {
    "scrolled": true
   },
   "outputs": [
    {
     "name": "stdout",
     "output_type": "stream",
     "text": [
      "init [0.36783653 0.50916651 1.37118044 0.12129031 0.05571967 0.52390976 2.99873275 0.0313009  6.43585014]\n",
      "eps iter 0 0.08                \n",
      "t_diff [2.14949681].04e-07                                              \n",
      "eps iter 1 0.075                \n",
      "t_diff [2.14537371].64e-09                                              \n",
      "eps iter 2 0.06999999999999999                \n",
      "t_diff [2.17405526].07e-09                                              \n",
      "eps iter 3 0.06499999999999999                \n",
      "t_diff [2.18607123].00e-07                                              \n",
      "eps iter 4 0.059999999999999984                \n",
      "t_diff [2.19107249].45e-09                                              \n",
      "eps iter 5 0.05499999999999998                \n",
      "t_diff [2.20675741].42e-09                                              \n",
      "eps iter 6 0.049999999999999975                \n",
      "t_diff [2.22382561].29e-08                                              \n",
      "eps iter 7 0.04499999999999997                \n",
      "t_diff [2.22722459].98e-09                                              \n",
      "eps iter 8 0.039999999999999966                \n",
      "t_diff [2.23963716].72e-09                                              \n",
      "eps iter 9 0.03499999999999996                \n",
      "t_diff [2.22454468].52e-08                                              \n",
      "eps iter 10 0.029999999999999957                \n",
      "t_diff [2.22607622].07e-08                                              \n"
     ]
    }
   ],
   "source": [
    "dat = follow_phase_diffs(init=2,eps_init=0.08,eps_final=0.025,deps=-.005,**kw_p0004)\n",
    "data_p0004_list.append(dat)"
   ]
  },
  {
   "cell_type": "markdown",
   "id": "6a856c64-6fd6-4adc-a43e-3c5776d17dea",
   "metadata": {},
   "source": [
    "## Get Branches 3D"
   ]
  },
  {
   "cell_type": "code",
   "execution_count": 48,
   "id": "4a1f800b-b1a8-404a-959e-04342d0106ff",
   "metadata": {},
   "outputs": [],
   "source": [
    "data_r3d_p0004_list = []"
   ]
  },
  {
   "cell_type": "code",
   "execution_count": 53,
   "id": "2fe9cf9a-3f00-4d01-9507-584729e7f318",
   "metadata": {
    "scrolled": true
   },
   "outputs": [
    {
     "name": "stdout",
     "output_type": "stream",
     "text": [
      "t_diff 4.47817015677192213, Y=[ 4.47817016 -0.01320637 -0.01694039]                                              \n",
      "[ 4.4782 -0.0132 -0.0169]\n"
     ]
    }
   ],
   "source": [
    "# find init for this branch mid\n",
    "_,init = phase_lock_r3d([5,0,0],a21_p0004,.01,_redu_3dc)\n",
    "print(init)"
   ]
  },
  {
   "cell_type": "code",
   "execution_count": 54,
   "id": "2b6975e1-1e4e-49cc-86cf-786a50fd81e4",
   "metadata": {
    "scrolled": true
   },
   "outputs": [
    {
     "name": "stdout",
     "output_type": "stream",
     "text": [
      "eps iter 0 0.01                \n",
      "t_diff 4.4781701567719e-08, Y=[ 4.47817016 -0.01320637 -0.01694039]                                              \n",
      "eps iter 1 0.02                \n",
      "t_diff 4.41656070922336-12, Y=[ 4.41656071 -0.02735575 -0.03456236]                                              \n",
      "eps iter 2 0.03                \n",
      "t_diff 4.35874510211581351, Y=[ 4.3587451  -0.04225251 -0.0527471 ]                                              \n",
      "eps iter 3 0.04                \n",
      "t_diff 4.30676933649362810, Y=[ 4.30676934 -0.05762484 -0.0713432 ]                                              \n",
      "eps iter 4 0.05                \n",
      "t_diff 4.26234359037009311, Y=[ 4.26234359 -0.07314468 -0.09018212]                                              \n",
      "eps iter 5 0.060000000000000005                \n",
      "t_diff 4.22669555444154411, Y=[ 4.22669555 -0.08844946 -0.1090898 ]                                              \n",
      "eps iter 6 0.06999999999999999                \n",
      "t_diff 4.20057862236443-10, Y=[ 4.20057862 -0.10315609 -0.12788865]                                              \n",
      "eps iter 7 0.08                \n",
      "t_diff 4.18434467438521911, Y=[ 4.18434467 -0.1168681  -0.14639179]                                              \n",
      "eps iter 8 0.09                \n",
      "t_diff 4.17801018829900211, Y=[ 4.17801019 -0.12918338 -0.16439443]                                              \n"
     ]
    }
   ],
   "source": [
    "# f\n",
    "dat = follow_locking_3d(init,a21_p0004,(.01,.1,.01),\n",
    "                        rhs=_redu_3dc,recompute=False)\n",
    "data_r3d_p0004_list.append(dat)"
   ]
  },
  {
   "cell_type": "code",
   "execution_count": 55,
   "id": "9f344175-a51e-4afd-b49b-181538ee7df9",
   "metadata": {
    "scrolled": true
   },
   "outputs": [
    {
     "name": "stdout",
     "output_type": "stream",
     "text": [
      "eps iter 0 0.01                \n",
      "t_diff 4.4781701567719e-08, Y=[ 4.47817016 -0.01320637 -0.01694039]                                              \n",
      "eps iter 1 0.009000000000000001                \n",
      "t_diff 4.48445809425063610, Y=[ 4.48445809 -0.01184079 -0.01521408]                                              \n",
      "eps iter 2 0.008000000000000002                \n",
      "t_diff 4.49076071014073210, Y=[ 4.49076071 -0.01048486 -0.01349471]                                              \n",
      "eps iter 3 0.007000000000000003                \n",
      "t_diff 4.49707626314326-10, Y=[ 4.49707626 -0.00913873 -0.01178238]                                              \n",
      "eps iter 4 0.006000000000000004                \n",
      "t_diff 4.50340262669279410, Y=[ 4.50340263 -0.00780252 -0.01007719]                                              \n"
     ]
    }
   ],
   "source": [
    "# b\n",
    "dat = follow_locking_3d(init,a21_p0004,(.01,.005,-.001),\n",
    "                        rhs=_redu_3dc,recompute=False)\n",
    "data_r3d_p0004_list.append(dat)"
   ]
  },
  {
   "cell_type": "markdown",
   "id": "06bded68-345f-4895-88fb-79e33c451b58",
   "metadata": {},
   "source": [
    "## Plot"
   ]
  },
  {
   "cell_type": "code",
   "execution_count": 56,
   "id": "dcc61417-3650-41b7-8162-971683a107ff",
   "metadata": {},
   "outputs": [
    {
     "data": {
      "image/png": "[encoded data removed]",
      "text/plain": [
       "<Figure size 300x200 with 1 Axes>"
      ]
     },
     "metadata": {},
     "output_type": "display_data"
    }
   ],
   "source": [
    "quick_plot_combined(a21_p0004,\n",
    "                    kw_f={'data_list':data_p0004_list},\n",
    "                    kw_r3d={'data_list':data_r3d_p0004_list},\n",
    "                    kw_r={'etup':etup21})"
   ]
  },
  {
   "cell_type": "markdown",
   "id": "f9ca8d2e-5fa6-4dca-a7f4-2efea4be95cf",
   "metadata": {},
   "source": [
    "# ==NEGATIVE=="
   ]
  },
  {
   "cell_type": "markdown",
   "id": "38da82b6-36b1-4a88-93d2-b9b36d4a7e26",
   "metadata": {},
   "source": [
    "# del=0.0002"
   ]
  },
  {
   "cell_type": "code",
   "execution_count": 57,
   "id": "e1e5bddc-14ae-4fd7-b5b2-2708bece1707",
   "metadata": {
    "editable": true,
    "slideshow": {
     "slide_type": ""
    },
    "tags": []
   },
   "outputs": [
    {
     "name": "stdout",
     "output_type": "stream",
     "text": [
      "pfactor 4\n",
      "* Loading p symbolic...\n",
      "* Loading p symbolic...\n",
      "p order=0\n",
      "p order=0\n",
      "p order=1\n",
      "p order=1\n",
      "* Loading H symbolic...\n",
      "* Loading H symbolic...\n",
      "* Computing H gw0, order=0...\n",
      "* Computing H gw1, order=0...\n",
      "* Computing H gw0, order=1...\n",
      "* Computing H gw1, order=1...\n"
     ]
    }
   ],
   "source": [
    "del21_p0002b = -0.0002\n",
    "a21_p0002b = nm.nmCoupling(system1,system2,\n",
    "                    #recompute_list=['p_data_gw0','p_data_gw1','h_data_gw0','h_data_gw1'],\n",
    "                    #recompute_list=['h_data_gw0','h_data_gw1'],\n",
    "                    #recompute_list=recompute_list,\n",
    "                    _n=('om0',2),_m=('om1',1),\n",
    "                    NH=1000,\n",
    "                    save_fig=False,\n",
    "                   del1=del21_p0002b)"
   ]
  },
  {
   "cell_type": "markdown",
   "id": "ca6286cd-7923-4e6d-98b4-f7bbfd1ee9b8",
   "metadata": {},
   "source": [
    "### Get Branches Full"
   ]
  },
  {
   "cell_type": "code",
   "execution_count": 58,
   "id": "ee829a68-f287-4087-a377-617f49ffe3af",
   "metadata": {},
   "outputs": [],
   "source": [
    "kw_p0002b = {'a':a21_p0002b,'del1':del21_p0002b,'recompute':False,'bifdir':'bif1d_gw2/',\n",
    "        '_full_rhs':_full}"
   ]
  },
  {
   "cell_type": "code",
   "execution_count": 59,
   "id": "7afa2466-c753-46e3-886f-8c9a422a9149",
   "metadata": {},
   "outputs": [],
   "source": [
    "data_p0002b_list = []"
   ]
  },
  {
   "cell_type": "code",
   "execution_count": 60,
   "id": "dc4b74e6-ec6b-46fe-b119-e9fdd2ef5d9c",
   "metadata": {
    "scrolled": true
   },
   "outputs": [
    {
     "name": "stdout",
     "output_type": "stream",
     "text": [
      "init [0.38577222 0.51942924 1.35600141 0.12636437 0.15052249 0.73662785 2.45731941 0.08297953 6.29448557]\n",
      "eps iter 0 0.01                \n",
      "t_diff [2.16716293].00e-07                                              \n",
      "eps iter 1 0.015                \n",
      "t_diff [2.14513494].25e-07                                              \n",
      "eps iter 2 0.019999999999999997                \n",
      "t_diff [2.13910655].65e-07                                              \n",
      "eps iter 3 0.024999999999999998                \n",
      "t_diff [2.12555544].60e-08                                              \n",
      "eps iter 4 0.03                \n",
      "t_diff [2.11467407].22e-09                                              \n",
      "eps iter 5 0.034999999999999996                \n",
      "t_diff [2.09972122].96e-07                                              \n",
      "eps iter 6 0.039999999999999994                \n",
      "t_diff [2.06304315].72e-09                                              \n",
      "eps iter 7 0.045                \n",
      "t_diff [2.05522068].83e-07                                              \n",
      "eps iter 8 0.049999999999999996                \n",
      "t_diff [2.02640015].06e-08                                              \n",
      "eps iter 9 0.05499999999999999                \n",
      "t_diff [1.99413054].59e-07                                              \n",
      "eps iter 10 0.05999999999999999                \n",
      "eps iter 11 0.06499999999999999                                          \n",
      "t_diff [1.20695123]5.44e-07                                              \n",
      "eps iter 12 0.06999999999999999                \n",
      "t_diff [1.20797108].29e-09                                              \n",
      "eps iter 13 0.07499999999999998                \n",
      "t_diff [1.18812372].75e-08                                              \n",
      "eps iter 14 0.07999999999999999                \n",
      "t_diff [1.159917]=1.30e-08                                              \n"
     ]
    }
   ],
   "source": [
    "# top 1\n",
    "dat = follow_phase_diffs(init=4,eps_init=0.01,eps_final=0.08,\n",
    "                         deps=.005,**kw_p0002b)\n",
    "data_p0002b_list.append(dat)"
   ]
  },
  {
   "cell_type": "code",
   "execution_count": 61,
   "id": "c8d6c747-7cf0-4d84-a659-53b84c0462d6",
   "metadata": {
    "scrolled": true
   },
   "outputs": [
    {
     "name": "stdout",
     "output_type": "stream",
     "text": [
      "init [0.38577222 0.51942924 1.35600141 0.12636437 0.15052249 0.73662785 2.45731941 0.08297953 6.29448557]\n",
      "eps iter 0 0.01                \n",
      "t_diff [2.16716293].00e-07                                              \n",
      "eps iter 1 0.005                \n",
      "t_diff [2.15078887].41e-08                                              \n"
     ]
    }
   ],
   "source": [
    "dat = follow_phase_diffs(init=4,eps_init=0.01,eps_final=0.0005,deps=-.005,**kw_p0002b)\n",
    "data_p0002b_list.append(dat)"
   ]
  },
  {
   "cell_type": "code",
   "execution_count": 62,
   "id": "a6ca3f02-a61a-4591-9c09-461fc9d73657",
   "metadata": {
    "scrolled": true
   },
   "outputs": [
    {
     "name": "stdout",
     "output_type": "stream",
     "text": [
      "init [0.38535935 0.5217561  1.36144708 0.12646283 0.07032743 0.07144475 1.50083217 0.01558055 6.21830249]\n",
      "eps iter 0 0.08                \n",
      "t_diff [1.15370108]2.51e-08                                              \n",
      "eps iter 1 0.085                \n",
      "t_diff [1.14658875].58e-09                                              \n",
      "eps iter 2 0.09000000000000001                \n",
      "t_diff [1.10172981].10e-08                                              \n",
      "eps iter 3 0.09500000000000001                \n",
      "t_diff [1.10052406].56e-07                                              \n",
      "eps iter 4 0.10000000000000002                \n",
      "t_diff [1.06724295].13e-08                                              \n"
     ]
    }
   ],
   "source": [
    "dat = follow_phase_diffs(init=2,eps_init=0.08,eps_final=0.1,deps=.005,**kw_p0002b)\n",
    "data_p0002b_list.append(dat)"
   ]
  },
  {
   "cell_type": "code",
   "execution_count": 63,
   "id": "20119142-2ca5-4fb6-82b5-56831944c45d",
   "metadata": {
    "scrolled": true
   },
   "outputs": [
    {
     "name": "stdout",
     "output_type": "stream",
     "text": [
      "init [0.38535935 0.5217561  1.36144708 0.12646283 0.07032743 0.07144475 1.50083217 0.01558055 6.21830249]\n",
      "eps iter 0 0.08                \n",
      "t_diff [1.15370108]2.51e-08                                              \n",
      "eps iter 1 0.075                \n",
      "t_diff [-5.17982467]05e-08                                              \n",
      "eps iter 2 0.06999999999999999                \n",
      "t_diff [-5.14093257]35e-08                                              \n",
      "eps iter 3 0.06499999999999999                \n",
      "t_diff [-5.11480395]03e-07                                              \n",
      "eps iter 4 0.059999999999999984                \n",
      "t_diff [-5.09386792]58e-08                                              \n",
      "eps iter 5 0.05499999999999998                \n",
      "t_diff [-5.05101458]58e-07                                              \n",
      "eps iter 6 0.049999999999999975                \n",
      "t_diff [-5.02299477]82e-11                                              \n",
      "eps iter 7 0.04499999999999997                \n",
      "t_diff [-4.99953129]80e-08                                              \n",
      "eps iter 8 0.039999999999999966                \n",
      "t_diff [-4.98526829]72e-09                                              \n",
      "eps iter 9 0.03499999999999996                \n",
      "t_diff [-4.94464361]11e-08                                              \n"
     ]
    }
   ],
   "source": [
    "dat = follow_phase_diffs(init=2,eps_init=0.08,eps_final=0.03,deps=-.005,**kw_p0002b)\n",
    "data_p0002b_list.append(dat)"
   ]
  },
  {
   "cell_type": "markdown",
   "id": "f3dd3dd2-254f-4548-9bde-426432b021c6",
   "metadata": {},
   "source": [
    "## Get Branches 3D"
   ]
  },
  {
   "cell_type": "code",
   "execution_count": 64,
   "id": "4658e603-fe54-4c42-9b14-f3c5e360f60b",
   "metadata": {},
   "outputs": [],
   "source": [
    "data_r3d_p0002b_list = []"
   ]
  },
  {
   "cell_type": "code",
   "execution_count": 65,
   "id": "5d3641e0-9842-429f-b133-f3e653365915",
   "metadata": {
    "scrolled": true
   },
   "outputs": [
    {
     "name": "stdout",
     "output_type": "stream",
     "text": [
      "t_diff 4.26550196868481810, Y=[ 4.26550197 -0.01467207 -0.01803173]                                              \n",
      "[ 4.2655 -0.0147 -0.018 ]\n"
     ]
    }
   ],
   "source": [
    "# find init for this branch mid\n",
    "_,init = phase_lock_r3d([4,0,0],a21_p0002b,.01,_redu_3dc)\n",
    "print(init)"
   ]
  },
  {
   "cell_type": "code",
   "execution_count": 66,
   "id": "dd8e89a0-6744-45d7-b374-ad61b5eadbaa",
   "metadata": {
    "scrolled": true
   },
   "outputs": [
    {
     "name": "stdout",
     "output_type": "stream",
     "text": [
      "eps iter 0 0.01                \n",
      "t_diff 4.26550196868480909, Y=[ 4.26550197 -0.01467207 -0.01803173]                                              \n",
      "eps iter 1 0.02                \n",
      "t_diff 4.19126787039657410, Y=[ 4.19126787 -0.03043101 -0.03670085]                                              \n",
      "eps iter 2 0.03                \n",
      "t_diff 4.12581555656349959, Y=[ 4.12581556 -0.04694542 -0.05582237]                                              \n",
      "eps iter 3 0.04                \n",
      "t_diff 4.07201856118547309, Y=[ 4.07201856 -0.06381129 -0.07521416]                                              \n",
      "eps iter 4 0.05                \n",
      "t_diff 4.03133791849965809, Y=[ 4.03133792 -0.08060893 -0.09472263]                                              \n",
      "eps iter 5 0.060000000000000005                \n",
      "t_diff 4.00410010064093309, Y=[ 4.0041001  -0.09692595 -0.11421798]                                              \n",
      "eps iter 6 0.06999999999999999                \n",
      "t_diff 3.99005798958881959, Y=[ 3.99005799 -0.11234323 -0.13356826]                                              \n",
      "eps iter 7 0.08                \n",
      "t_diff 3.98871629086566559, Y=[ 3.98871629 -0.1264146  -0.15261003]                                              \n",
      "eps iter 8 0.09                \n",
      "t_diff 3.99934778857291961, Y=[ 3.99934779 -0.13866905 -0.17112755]                                              \n",
      "eps iter 9 0.09999999999999999                \n",
      "t_diff 4.0207828071499e-10, Y=[ 4.02078281 -0.14865791 -0.18885299]                                              \n",
      "eps iter 10 0.11                \n",
      "t_diff 4.05119702500794612, Y=[ 4.05119703 -0.15604591 -0.20549938]                                              \n",
      "eps iter 11 0.12                \n",
      "t_diff 4.08820299274844213, Y=[ 4.08820299 -0.16069729 -0.22081741]                                              \n",
      "eps iter 12 0.13                \n",
      "t_diff 4.12927325433807613, Y=[ 4.12927325 -0.16269707 -0.2346445 ]                                              \n",
      "eps iter 13 0.14                \n",
      "t_diff 4.17214349980298211, Y=[ 4.1721435  -0.16230829 -0.24692654]                                              \n"
     ]
    }
   ],
   "source": [
    "# f\n",
    "dat = follow_locking_3d(init,a21_p0002b,(.01,.15,.01),\n",
    "                        rhs=_redu_3dc,recompute=False)\n",
    "data_r3d_p0002b_list.append(dat)"
   ]
  },
  {
   "cell_type": "code",
   "execution_count": 67,
   "id": "522f41e4-ee73-491a-b536-74d1b89dd7d0",
   "metadata": {
    "scrolled": true
   },
   "outputs": [
    {
     "name": "stdout",
     "output_type": "stream",
     "text": [
      "eps iter 0 0.01                \n",
      "t_diff 4.26550196868480909, Y=[ 4.26550197 -0.01467207 -0.01803173]                                              \n",
      "eps iter 1 0.009000000000000001                \n",
      "t_diff 4.27326398456890509, Y=[ 4.27326398 -0.01315145 -0.01619702]                                              \n",
      "eps iter 2 0.008000000000000002                \n",
      "t_diff 4.28107123609267810, Y=[ 4.28107124 -0.01164207 -0.01436889]                                              \n",
      "eps iter 3 0.007000000000000003                \n",
      "t_diff 4.28892018400542909, Y=[ 4.28892018 -0.0101442  -0.01254751]                                              \n",
      "eps iter 4 0.006000000000000004                \n",
      "t_diff 4.29680648170883610, Y=[ 4.29680648 -0.00865807 -0.01073304]                                              \n"
     ]
    }
   ],
   "source": [
    "# b\n",
    "dat = follow_locking_3d(init,a21_p0002b,(.01,.005,-.001),\n",
    "                        rhs=_redu_3dc,recompute=False)\n",
    "data_r3d_p0002b_list.append(dat)"
   ]
  },
  {
   "cell_type": "markdown",
   "id": "1328238f-5e1b-4d47-b53b-b431fa7f5179",
   "metadata": {},
   "source": [
    "## Plot"
   ]
  },
  {
   "cell_type": "code",
   "execution_count": 68,
   "id": "3a0ec629-7df7-407c-b20b-b9cbdf6b1c43",
   "metadata": {},
   "outputs": [
    {
     "data": {
      "image/png": "[encoded data removed]",
      "text/plain": [
       "<Figure size 300x200 with 1 Axes>"
      ]
     },
     "metadata": {},
     "output_type": "display_data"
    }
   ],
   "source": [
    "quick_plot_combined(a21_p0002b,\n",
    "                    kw_f={'data_list':data_p0002b_list},\n",
    "                    kw_r3d={'data_list':data_r3d_p0002b_list},\n",
    "                    kw_r={'etup':etup21})"
   ]
  },
  {
   "cell_type": "code",
   "execution_count": null,
   "id": "ddf5b0a9-25a0-4a87-9843-3a02ccad848b",
   "metadata": {},
   "outputs": [],
   "source": []
  }
 ],
 "metadata": {
  "jpcodetoc-autonumbering": true,
  "kernelspec": {
   "display_name": "Python 3 (ipykernel)",
   "language": "python",
   "name": "python3"
  },
  "language_info": {
   "codemirror_mode": {
    "name": "ipython",
    "version": 3
   },
   "file_extension": ".py",
   "mimetype": "text/x-python",
   "name": "python",
   "nbconvert_exporter": "python",
   "pygments_lexer": "ipython3",
   "version": "3.10.14"
  }
 },
 "nbformat": 4,
 "nbformat_minor": 5
}
