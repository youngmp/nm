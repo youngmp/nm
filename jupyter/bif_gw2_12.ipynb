{
 "cells": [
  {
   "cell_type": "markdown",
   "id": "9d90193c-1271-4ef8-b601-e417269e7b66",
   "metadata": {},
   "source": [
    "# gw2 1:2 Bifurcation Diagrams"
   ]
  },
  {
   "cell_type": "markdown",
   "id": "5daea907-e8ff-472c-9bda-371eae4425de",
   "metadata": {},
   "source": [
    "SHOULD I BE USING THE TAYLOR EXPANSION IN PSI OF THE COUPLING TERM IN THE AVERAGED PSI EQUATION??????"
   ]
  },
  {
   "cell_type": "markdown",
   "id": "7d15ba2f-ca6b-40bb-9c1a-cc580d525eca",
   "metadata": {},
   "source": [
    "I'm trying to figure out why the 1d bifurcation diagram in the full model is \"flipped\" compared to the reduced model.\n",
    "\n",
    "It is unclear if it's in how I set up the model equations, or if there is a calculation error.\n",
    "\n",
    "The homogeneous case works well enough. but with even a tiny bit of heterogeneity, the solutions don't match for small epsilon."
   ]
  },
  {
   "cell_type": "markdown",
   "id": "7c75e70d-e9a1-49a4-8669-c57c246bf022",
   "metadata": {},
   "source": [
    "# Inits"
   ]
  },
  {
   "cell_type": "code",
   "execution_count": 1,
   "id": "e6e17701-2fca-4c3d-863d-e1012d4de539",
   "metadata": {},
   "outputs": [],
   "source": [
    "import sys; sys.path.insert(0, '..') # add parent folder to lib\n",
    "# user-defined\n",
    "import nmCoupling as nm\n",
    "# import nmCoupling_old as nm\n",
    "import response as rp\n",
    "\n",
    "import gw2\n",
    "\n",
    "from lib.util import (get_phase, freq_est, get_tongue_1d, pl_exist_1d, \n",
    "get_period, bif1d, follow_phase_diffs, phase_lock_r3d, follow_locking_3d,\n",
    "load_phase_lock_r3d)\n",
    "\n",
    "from lib.rhs import _redu_c,_full\n",
    "from lib.rhs import _redu_3dc_gw as _redu_3dc\n",
    "\n",
    "from lib.plot_util import add_diagram_1d_scatter, quick_plot_combined\n",
    "\n",
    "import numpy as np\n",
    "import scipy as sp\n",
    "import matplotlib.pyplot as plt\n",
    "from scipy.integrate import solve_ivp\n",
    "import sympy as sym\n",
    "\n",
    "from scipy.optimize import root,bisect\n",
    "from copy import deepcopy\n",
    "import os\n",
    "\n",
    "plt.rcParams.update({\n",
    "    \"text.usetex\": True,\n",
    "    \"font.family\": \"Helvetica\"\n",
    "})\n",
    "\n",
    "nmc = nm.nmCoupling\n",
    "rsp = rp.Response"
   ]
  },
  {
   "cell_type": "markdown",
   "id": "c05812af-0146-49db-a32c-c203f407ee3f",
   "metadata": {},
   "source": [
    "## Dicts"
   ]
  },
  {
   "cell_type": "code",
   "execution_count": 2,
   "id": "45128209-2f83-4e15-84e8-10ff70c37095",
   "metadata": {},
   "outputs": [],
   "source": [
    "kw_sim = {'rtol':1e-8,'atol':1e-8,'method':'LSODA'}"
   ]
  },
  {
   "cell_type": "code",
   "execution_count": 3,
   "id": "8d341e42-7484-4bb5-ac18-63ea04396ecb",
   "metadata": {},
   "outputs": [],
   "source": [
    "pd1 = {'v1':.84,'v2':.42,'v4':.35,'v6':.35,'v8':1,\n",
    "           'k1':1,'k2':1,'k3':.7,'k4':1,'k5':.7,\n",
    "           'k6':1,'k7':.35,'k8':1,'K':0.5,'kc':1,\n",
    "           'n':6,'L':0,'del':0,'om':1,'om_fix':1}"
   ]
  },
  {
   "cell_type": "code",
   "execution_count": 4,
   "id": "f157938f-9e3b-4a41-9f79-8ae003d1dd64",
   "metadata": {
    "editable": true,
    "slideshow": {
     "slide_type": ""
    },
    "tags": []
   },
   "outputs": [],
   "source": [
    "kws1 = {'var_names':['x','y','z','v'],\n",
    "        'pardict':pd1,\n",
    "        'rhs':gw2.rhs,\n",
    "        'coupling':gw2.coupling,\n",
    "        'init':np.array([.3882,.523,1.357,.4347,24.2]),\n",
    "        'TN':10000,\n",
    "        'trunc_order':3,\n",
    "        'z_forward':False,\n",
    "        'i_forward':[False,True,False,False,False,False,False,False],\n",
    "        'i_bad_dx':[False,True,False,False,False,False,False,False],\n",
    "        'max_iter':50,\n",
    "        'rtol':1e-12,\n",
    "        'atol':1e-12,\n",
    "        'rel_tol':1e-9,\n",
    "        'save_fig':False,\n",
    "        'lc_prominence':.05,\n",
    "        'factor':0.5}"
   ]
  },
  {
   "cell_type": "markdown",
   "id": "8b20fe1b-c0b1-4b41-ab7f-c548396099b8",
   "metadata": {},
   "source": [
    "## Defs"
   ]
  },
  {
   "cell_type": "code",
   "execution_count": 5,
   "id": "2edce639-1dd7-4df8-a6db-4caab272a554",
   "metadata": {},
   "outputs": [],
   "source": [
    "kw_bif = {'method':'LSODA','dense_output':True,'rtol':1e-9,'atol':1e-9}"
   ]
  },
  {
   "cell_type": "code",
   "execution_count": 6,
   "id": "a4500ca6-6d78-4bc8-a271-847195e63272",
   "metadata": {},
   "outputs": [],
   "source": [
    "eps_list12r = np.linspace(0.001,.1,50)\n",
    "etup12 = (.001,.1,50)"
   ]
  },
  {
   "cell_type": "code",
   "execution_count": 7,
   "id": "d6b2f10b-bb17-49e5-8be4-e1d230bdebfb",
   "metadata": {
    "editable": true,
    "slideshow": {
     "slide_type": ""
    },
    "tags": []
   },
   "outputs": [],
   "source": [
    "x_temp = np.linspace(-np.pi,3*np.pi,500)"
   ]
  },
  {
   "cell_type": "markdown",
   "id": "03ccb76d-97df-4272-b2fa-92dfdcd3c01c",
   "metadata": {},
   "source": [
    "## Initialize Response Functions"
   ]
  },
  {
   "cell_type": "code",
   "execution_count": 8,
   "id": "7e2a1153-f3a9-49da-89ac-70a3aef481a0",
   "metadata": {
    "editable": true,
    "slideshow": {
     "slide_type": ""
    },
    "tags": []
   },
   "outputs": [
    {
     "name": "stdout",
     "output_type": "stream",
     "text": [
      "mkdir ./data/gw0/\n",
      "* Loading LC data...\n",
      "self.T 6.283185307179586 omfix 3.8590183230656914\n",
      "* Loading monodromy...\n",
      "* Floquet Exponent kappa =-0.15846659975489297\n",
      "* Loading g symbolic...\n",
      "* Computing g...\n",
      "* Loading heterogeneous terms...\n",
      "* Computing z...\n",
      "* Computing i...\n",
      "mkdir ./data/gw1/\n",
      "* Loading LC data...\n",
      "self.T 6.283185307179586 omfix 3.8590183230656914\n",
      "* Loading monodromy...\n",
      "* Floquet Exponent kappa =-0.15846659975489297\n",
      "* Loading g symbolic...\n",
      "* Computing g...\n",
      "* Loading heterogeneous terms...\n",
      "* Computing z...\n",
      "* Computing i...\n"
     ]
    }
   ],
   "source": [
    "system1 = rsp(idx=0,model_name='gw0',**kws1)\n",
    "system2 = rsp(idx=1,model_name='gw1',**kws1)"
   ]
  },
  {
   "cell_type": "code",
   "execution_count": 9,
   "id": "61762641-879d-4f43-887e-a17a571b9b61",
   "metadata": {},
   "outputs": [],
   "source": [
    "kw_nm = {'system1':system1,'system2':system2,'_n':('om0',1),'_m':('om1',2),\n",
    "        'NH':1024,'save_fig':False}"
   ]
  },
  {
   "cell_type": "markdown",
   "id": "b094ecba-4594-43fc-a155-5eb3d12d38f8",
   "metadata": {},
   "source": [
    "# del=0.0"
   ]
  },
  {
   "cell_type": "code",
   "execution_count": 10,
   "id": "87d1a280-61db-4a50-a8dd-e623acace483",
   "metadata": {
    "editable": true,
    "slideshow": {
     "slide_type": ""
    },
    "tags": []
   },
   "outputs": [
    {
     "name": "stdout",
     "output_type": "stream",
     "text": [
      "pfactor 4\n",
      "* Loading p symbolic...\n",
      "* Loading p symbolic...\n",
      "* Loading H symbolic...\n",
      "* Loading H symbolic...\n",
      "* Loading H gw0, order=0...\n",
      "* Loading H gw1, order=0...\n",
      "* Loading H gw0, order=1...\n",
      "* Loading H gw1, order=1...\n",
      "* Loading H gw0, order=2...\n",
      "* Loading H gw1, order=2...\n",
      "* Loading H gw0, order=3...\n",
      "* Loading H gw1, order=3...\n"
     ]
    }
   ],
   "source": [
    "del12_p0 = 0\n",
    "a12_p0 = nm.nmCoupling(**kw_nm, del1=del12_p0)"
   ]
  },
  {
   "cell_type": "markdown",
   "id": "988f9b34-f96f-42b2-902b-f0afe411d3e5",
   "metadata": {},
   "source": [
    "## Get Branches Full"
   ]
  },
  {
   "cell_type": "code",
   "execution_count": 11,
   "id": "db87b062-7695-4e19-aee5-f48cf400c423",
   "metadata": {},
   "outputs": [],
   "source": [
    "kw_p0 = {'a':a12_p0,'del1':del12_p0,'recompute':False,\n",
    "        'bifdir':'bif1d_gw2/','_full_rhs':_full}"
   ]
  },
  {
   "cell_type": "code",
   "execution_count": 12,
   "id": "8d29996e-414f-4d98-9ee1-513ecc2765aa",
   "metadata": {},
   "outputs": [],
   "source": [
    "data_p0_list = []"
   ]
  },
  {
   "cell_type": "code",
   "execution_count": 13,
   "id": "8657b4c1-949f-408e-9ae5-d0c6dc6e1ff5",
   "metadata": {},
   "outputs": [],
   "source": [
    "in_dicts = [dict(init=0,eps_init=0.025,eps_final=0.078,deps=.01),\n",
    "            dict(init=0,eps_init=0.025,eps_final=0.0001,deps=-.002)]\n",
    "               #dict(init=2,eps_init=0.07,eps_final=0.11,deps=.01),\n",
    "               #dict(init=2,eps_init=0.07,eps_final=0.05,deps=-.002),\n",
    "               #dict(init=0,eps_init=0.025,eps_final=0.078,deps=.01)]"
   ]
  },
  {
   "cell_type": "code",
   "execution_count": 14,
   "id": "1a5b27d1-85c4-46ae-b55e-5f5373a95108",
   "metadata": {},
   "outputs": [
    {
     "name": "stdout",
     "output_type": "stream",
     "text": [
      "fname1 td_branch_init=0_nm=12_del=0_ei=0.025_ef=0.078_de=0.01.txt\n",
      "fname2 ts_branch_init=0_nm=12_del=0_ei=0.025_ef=0.078_de=0.01.txt\n",
      "fname1 td_branch_init=0_nm=12_del=0_ei=0.025_ef=0.0001_de=-0.002.txt\n",
      "fname2 ts_branch_init=0_nm=12_del=0_ei=0.025_ef=0.0001_de=-0.002.txt\n"
     ]
    }
   ],
   "source": [
    "for i in range(len(in_dicts)):\n",
    "    in1 = in_dicts[i]\n",
    "    dat = follow_phase_diffs(**in1,**kw_p0)\n",
    "    data_p0_list.append(dat)"
   ]
  },
  {
   "cell_type": "code",
   "execution_count": 15,
   "id": "eedf0486-68d3-40de-850e-33f9e6b28fef",
   "metadata": {},
   "outputs": [],
   "source": [
    "# save hyperparameters\n",
    "fname = kw_p0['bifdir']+'hyper_gw2_12_p0.txt'\n",
    "hyp_inputs = np.zeros([len(in_dicts),4])\n",
    "for i in range(len(in_dicts)):\n",
    "    hyp_inputs[i,0] = in_dicts[i]['init']\n",
    "    hyp_inputs[i,1] = in_dicts[i]['eps_init']\n",
    "    hyp_inputs[i,2] = in_dicts[i]['eps_final']\n",
    "    hyp_inputs[i,3] = in_dicts[i]['deps']\n",
    "np.savetxt(fname,hyp_inputs)"
   ]
  },
  {
   "cell_type": "markdown",
   "id": "e9da5948-4f88-408f-b912-030442f9f9b2",
   "metadata": {},
   "source": [
    "## Get Branches 3D"
   ]
  },
  {
   "cell_type": "code",
   "execution_count": 16,
   "id": "60acb738-c1a8-4314-a74c-4569d7beb944",
   "metadata": {},
   "outputs": [],
   "source": [
    "data_r3d_p0_list = []"
   ]
  },
  {
   "cell_type": "code",
   "execution_count": 17,
   "id": "7e6e6fe2-8c25-4541-9d3c-00d0c71056f5",
   "metadata": {
    "scrolled": true
   },
   "outputs": [
    {
     "name": "stdout",
     "output_type": "stream",
     "text": [
      "t_diff 1.14045071630550138, Y=[ 1.14045072 -0.09542482 -0.08393199]                                              \n",
      "[ 1.1405 -0.0954 -0.0839]\n"
     ]
    }
   ],
   "source": [
    "# find init for this branch\n",
    "_,init = phase_lock_r3d([1.5,0,0],a12_p0,.05,_redu_3dc)\n",
    "print(init)"
   ]
  },
  {
   "cell_type": "code",
   "execution_count": 18,
   "id": "5d40d438-ec49-4026-915c-0ee77f7960f8",
   "metadata": {
    "scrolled": true
   },
   "outputs": [],
   "source": [
    "# bot 1f\n",
    "dat = follow_locking_3d(init,a12_p0,(.05,.11,.01),\n",
    "                        rhs=_redu_3dc,recompute=False)\n",
    "data_r3d_p0_list.append(dat)"
   ]
  },
  {
   "cell_type": "code",
   "execution_count": 19,
   "id": "11fdde43-5991-4786-a6e2-4e00af1afde9",
   "metadata": {
    "scrolled": true
   },
   "outputs": [],
   "source": [
    "# bot 1b\n",
    "dat = follow_locking_3d(init,a12_p0,(.05,.001,-.005),\n",
    "                        rhs=_redu_3dc,recompute=False)\n",
    "data_r3d_p0_list.append(dat)"
   ]
  },
  {
   "cell_type": "code",
   "execution_count": 20,
   "id": "e704a003-f761-4e75-a06a-9e87f3512824",
   "metadata": {},
   "outputs": [
    {
     "name": "stdout",
     "output_type": "stream",
     "text": [
      "t_diff 4.32058326981484609, Y=[ 4.32058327 -0.09687887 -0.08764864]                                              \n"
     ]
    }
   ],
   "source": [
    "# find init for this branch\n",
    "_,init = phase_lock_r3d([4,0,0],a12_p0,.05,_redu_3dc)"
   ]
  },
  {
   "cell_type": "code",
   "execution_count": 21,
   "id": "0099f732-3df4-4f24-9330-aa0c2d3345ee",
   "metadata": {
    "scrolled": true
   },
   "outputs": [],
   "source": [
    "# top 1f\n",
    "dat = follow_locking_3d(init,a12_p0,(.05,.11,.01),\n",
    "                        rhs=_redu_3dc,recompute=False)\n",
    "data_r3d_p0_list.append(dat)"
   ]
  },
  {
   "cell_type": "code",
   "execution_count": 22,
   "id": "75674030-5f90-4fdf-b5a4-f25e50ef3e20",
   "metadata": {
    "scrolled": true
   },
   "outputs": [],
   "source": [
    "# top 1b\n",
    "dat = follow_locking_3d(init,a12_p0,(.05,.001,-.01),\n",
    "                        rhs=_redu_3dc,recompute=False)\n",
    "data_r3d_p0_list.append(dat)"
   ]
  },
  {
   "cell_type": "markdown",
   "id": "e2f763d1-3e6e-4e92-b693-0a3dd7788ab7",
   "metadata": {},
   "source": [
    "## Plot"
   ]
  },
  {
   "cell_type": "code",
   "execution_count": 23,
   "id": "bd4000d7-34c8-4f25-a5b3-e921cfc7c93e",
   "metadata": {},
   "outputs": [
    {
     "name": "stdout",
     "output_type": "stream",
     "text": [
      "eps_min 0.025\n"
     ]
    },
    {
     "data": {
      "image/png": "[encoded data removed]",
      "text/plain": [
       "<Figure size 300x200 with 1 Axes>"
      ]
     },
     "metadata": {},
     "output_type": "display_data"
    },
    {
     "data": {
      "image/png": "[encoded data removed]",
      "text/plain": [
       "<Figure size 300x400 with 2 Axes>"
      ]
     },
     "metadata": {},
     "output_type": "display_data"
    }
   ],
   "source": [
    "quick_plot_combined(a12_p0,\n",
    "                    kw_f={'data_list':data_p0_list},\n",
    "                    kw_r3d={'data_list':data_r3d_p0_list},\n",
    "                    kw_r={'etup':etup12})"
   ]
  },
  {
   "cell_type": "markdown",
   "id": "1e9997d2-5346-4844-9cb5-2afc819fd585",
   "metadata": {},
   "source": [
    "# del=0.0002"
   ]
  },
  {
   "cell_type": "code",
   "execution_count": 24,
   "id": "070507fb-c93d-43c3-9fe2-44236aab4ac9",
   "metadata": {},
   "outputs": [
    {
     "name": "stdout",
     "output_type": "stream",
     "text": [
      "pfactor 4\n",
      "* Loading p symbolic...\n",
      "* Loading p symbolic...\n",
      "* Loading H symbolic...\n",
      "* Loading H symbolic...\n",
      "* Loading H gw0, order=0...\n",
      "* Loading H gw1, order=0...\n",
      "* Loading H gw0, order=1...\n",
      "* Loading H gw1, order=1...\n",
      "* Loading H gw0, order=2...\n",
      "* Loading H gw1, order=2...\n",
      "* Loading H gw0, order=3...\n",
      "* Loading H gw1, order=3...\n"
     ]
    }
   ],
   "source": [
    "del12_p0002 = .0002\n",
    "a12_p0002 = nm.nmCoupling(**kw_nm, del1=del12_p0002)"
   ]
  },
  {
   "cell_type": "markdown",
   "id": "5263c5ff-9235-40bc-9262-0df0d4c83e80",
   "metadata": {},
   "source": [
    "## Get Branches Full"
   ]
  },
  {
   "cell_type": "code",
   "execution_count": 25,
   "id": "7f44118a-6b61-4cc1-8165-b36c923953b8",
   "metadata": {},
   "outputs": [],
   "source": [
    "kw_p0002 = {'a':a12_p0002,'del1':del12_p0002,\n",
    "            'bifdir':'bif1d_gw2/','_full_rhs':_full}"
   ]
  },
  {
   "cell_type": "code",
   "execution_count": 26,
   "id": "68302cd1-84e6-465c-8854-3b95f2535278",
   "metadata": {},
   "outputs": [],
   "source": [
    "data_p0002_list = []"
   ]
  },
  {
   "cell_type": "code",
   "execution_count": 27,
   "id": "64ee9991-0533-4fa2-90c0-47d14afaa031",
   "metadata": {},
   "outputs": [],
   "source": [
    "in_dicts_p0002 = [dict(init=2,eps_init=0.02,eps_final=0.0005,deps=-.001),\n",
    "                  dict(init=2,eps_init=0.02,eps_final=0.11,deps=.01),\n",
    "                  dict(init=0,eps_init=0.02,eps_final=0.0005,deps=-.001),\n",
    "                  dict(init=0,eps_init=0.02,eps_final=0.057,deps=.005)]"
   ]
  },
  {
   "cell_type": "code",
   "execution_count": 28,
   "id": "5c307ebc-b739-4f30-a67b-e248b053074f",
   "metadata": {},
   "outputs": [
    {
     "name": "stdout",
     "output_type": "stream",
     "text": [
      "fname1 td_branch_init=2_nm=12_del=0.0002_ei=0.02_ef=0.0005_de=-0.001.txt\n",
      "fname2 ts_branch_init=2_nm=12_del=0.0002_ei=0.02_ef=0.0005_de=-0.001.txt\n",
      "init [0.38546872 0.51935568 1.35648343 0.12629933 0.01385562 0.24045687 3.02733601 0.00741771 6.28809065]\n",
      "eps iter 0 0.02                \n",
      "t1,t2 1.710622540889711 6.317531424486555                               \n",
      "t1,t2 4.839173660867482 6.317531424486555\n",
      "periods [6.28637475 3.15878306 3.12759163]\n",
      "eps iter 1 0.019                \n",
      "t1,t2 1.5019518487993129 0.49345645225923773                             \n",
      "t1,t2 4.638150569526207 0.49345645225923773\n",
      "periods [6.28685096 3.1520309  3.13482295]\n",
      "eps iter 2 0.018                \n",
      "t1,t2 1.5011278055251942 0.49348535729804827                            \n",
      "t1,t2 4.638255101605645 0.49348535729804827\n",
      "periods [6.28673432 3.15148207 3.13524909]\n",
      "eps iter 3 0.016999999999999998                \n",
      "t1,t2 1.500323902371558 0.4935323245115101                              \n",
      "t1,t2 4.638360504509966 0.4935323245115101\n",
      "periods [6.28660235 3.15093124 3.135671  ]\n",
      "eps iter 4 0.015999999999999997                \n",
      "t1,t2 1.4995387290818136 0.4935964480861349                             \n",
      "t1,t2 4.637734987462605 0.4935964480861349\n",
      "periods [6.28646414 3.15038262 3.13608141]\n",
      "eps iter 5 0.014999999999999996                \n",
      "t1,t2 1.4987722413334803 0.49367642449640564                            \n",
      "t1,t2 4.6368982296329575 0.49367642449640564\n",
      "periods [6.28631753 3.1498388  3.13647871]\n",
      "eps iter 6 0.013999999999999995                \n",
      "t1,t2 1.4980265969749844 0.4937697469503197                             \n",
      "t1,t2 4.633878023765156 0.4937697469503197\n",
      "periods [6.28616217 3.14929209 3.13687022]\n",
      "eps iter 7 0.012999999999999994                \n",
      "t1,t2 1.4939250841864624 0.49387883264642557                            \n",
      "t1,t2 4.629383297030111 0.49387883264642557\n",
      "periods [6.28599929 3.14873923 3.13726014]\n",
      "eps iter 8 0.011999999999999993                \n",
      "t1,t2 1.4931764884423557 0.49399961422962635                            \n",
      "t1,t2 4.62874112199743 0.49399961422962635\n",
      "periods [6.28582814 3.14818943 3.1376387 ]\n",
      "eps iter 9 0.010999999999999992                \n",
      "t1,t2 1.4924450168106076 0.49413084063174256                            \n",
      "t1,t2 4.632853803557118 0.49413084063174256\n",
      "periods [6.2856497  3.14764216 3.13800775]\n",
      "eps iter 10 0.009999999999999992                \n",
      "t1,t2 1.4917216960715896 0.4942766129001113                             \n",
      "t1,t2 4.6354035079124065 0.4942766129001113\n",
      "periods [6.28546013 3.14709245 3.13836971]\n",
      "eps iter 11 0.00899999999999999                \n",
      "t1,t2 1.4910160370620467 0.4944307563041732                             \n",
      "t1,t2 4.635645495238914 0.4944307563041732\n",
      "periods [6.28526656 3.14654232 3.13872686]\n",
      "eps iter 12 0.00799999999999999                \n",
      "t1,t2 1.4903211106856014 0.49459667340887437                            \n",
      "t1,t2 4.635406010034267 0.49459667340887437\n",
      "periods [6.28506288 3.14599303 3.13906869]\n",
      "eps iter 13 0.006999999999999989                \n",
      "t1,t2 1.4896425314168766 0.49477002252234786                            \n",
      "t1,t2 4.634481287231338 0.49477002252234786\n",
      "periods [6.28485523 3.14544167 3.13941354]\n",
      "eps iter 14 0.005999999999999988                \n",
      "t1,t2 1.4889779823696438 0.49495142138483006                            \n",
      "t1,t2 4.631455524815619 0.49495142138483006\n",
      "periods [6.28463801 3.14489733 3.13974065]\n",
      "eps iter 15 0.004999999999999987                \n",
      "t1,t2 1.4883233108635023 0.49514334794801484                            \n",
      "t1,t2 4.626577644509081 0.49514334794801484\n",
      "periods [6.28441117 3.14434318 3.14007075]\n",
      "eps iter 16 0.003999999999999986                \n",
      "t1,t2 1.4876816994089117 0.4953429166726021                             \n",
      "t1,t2 4.62657547083413 0.4953429166726021\n",
      "periods [6.2841819  3.14379741 3.14038957]\n",
      "eps iter 17 0.0029999999999999853                \n",
      "t1,t2 1.4870569257239519 0.5270012246275443                             \n",
      "t1,t2 4.626961097122107 0.5270012246275443\n",
      "periods [6.28394307 3.14324621 3.14069691]\n",
      "eps iter 18 0.0019999999999999844                \n",
      "t1,t2 1.486445296149908 0.5272048150563904                              \n",
      "t1,t2 4.632679043675883 0.5272048150563904\n",
      "periods [6.28369736 3.14269449 3.14100284]\n",
      "eps iter 19 0.0009999999999999835                \n",
      "t1,t2 1.485879999646316 0.527383228028792                               \n",
      "t1,t2 4.626272536182974 0.527383228028792\n",
      "periods [6.28344606 3.14214483 3.1413016 ]\n",
      "fname1 td_branch_init=2_nm=12_del=0.0002_ei=0.02_ef=0.11_de=0.01.txt\n",
      "fname2 ts_branch_init=2_nm=12_del=0.0002_ei=0.02_ef=0.11_de=0.01.txt\n",
      "init [0.38546872 0.51935568 1.35648343 0.12629933 0.01385562 0.24045687 3.02733601 0.00741771 6.28809065]\n",
      "eps iter 0 0.02                \n",
      "t1,t2 1.710622540889711 6.317531424486555                               \n",
      "t1,t2 4.839173660867482 6.317531424486555\n",
      "periods [6.28637475 3.15878306 3.12759163]\n",
      "eps iter 1 0.03                \n",
      "t1,t2 1.7512141745107717 6.25911738156817                               \n",
      "t1,t2 4.886504038824019 6.25911738156817\n",
      "periods [6.29232884 3.16994836 3.12238197]\n",
      "eps iter 2 0.039999999999999994                \n",
      "t1,t2 1.7899803293052352 6.231777420673604                              \n",
      "t1,t2 4.919535300193705 6.231777420673604\n",
      "periods [6.29930711 3.18152435 3.11778269]\n",
      "eps iter 3 0.049999999999999996                \n",
      "t1,t2 1.830692999323532 6.239355794388248                               \n",
      "t1,t2 4.944622711109353 6.239355794388248\n",
      "periods [6.30784807 3.1938657  3.11398234]\n",
      "eps iter 4 0.06                \n",
      "t1,t2 1.85925997954338 6.224112468024641                                \n",
      "t1,t2 4.982181793977915 6.224112468024641\n",
      "periods [6.31811993 3.20704702 3.1110663 ]\n",
      "eps iter 5 0.06999999999999999                \n",
      "t1,t2 1.9084444379085488 6.214505424008325                              \n",
      "t1,t2 5.010285737951614 6.214505424008325\n",
      "periods [6.33030036 3.22116572 3.10913424]\n",
      "eps iter 6 0.07999999999999999                \n",
      "t1,t2 1.9353437177611355 6.1998877304730735                             \n",
      "t1,t2 5.047672505454036 6.1998877304730735\n",
      "periods [6.34462507 3.23631389 3.10831104]\n",
      "eps iter 7 0.09                \n",
      "t1,t2 1.9846347514821443 6.214831239788784                              \n",
      "t1,t2 5.0923622455263375 6.214831239788784\n",
      "periods [6.36136051 3.25262295 3.10873746]\n",
      "eps iter 8 0.09999999999999999                \n",
      "t1,t2 2.023416447583029 6.2019446687161945                              \n",
      "t1,t2 5.136937117280609 6.2019446687161945\n",
      "periods [6.38084078 3.27023398 3.1106068 ]\n",
      "fname1 td_branch_init=0_nm=12_del=0.0002_ei=0.02_ef=0.0005_de=-0.001.txt\n",
      "fname2 ts_branch_init=0_nm=12_del=0.0002_ei=0.02_ef=0.0005_de=-0.001.txt\n",
      "init [3.84623502e-01 5.18862355e-01 1.35684083e+00 1.26039179e-01 1.24058465e-02 5.94764187e-02 2.12096693e+00 3.48291118e-03 6.28712083e+00]\n",
      "eps iter 0 0.02                \n",
      "t1,t2 1.021033594519388 6.292286674012333                               \n",
      "t1,t2 4.154377691940247 6.292286674012333\n",
      "periods [6.28696474 3.15258206 3.13438251]\n",
      "eps iter 1 0.019                \n",
      "t1,t2 1.0202530565973238 6.2943339087590875                             \n",
      "t1,t2 4.154348278841039 6.2943339087590875\n",
      "periods [6.28685155 3.15203134 3.13482052]\n",
      "eps iter 2 0.018                \n",
      "t1,t2 1.0194903459927827 6.272485081235834                              \n",
      "t1,t2 4.151519905273999 6.272485081235834\n",
      "periods [6.28673453 3.15148256 3.13524877]\n",
      "eps iter 3 0.016999999999999998                \n",
      "t1,t2 1.0187594161257596 6.30036655794561                               \n",
      "t1,t2 4.149996720971811 6.30036655794561\n",
      "periods [6.28660251 3.15093124 3.1356712 ]\n",
      "eps iter 4 0.015999999999999997                \n",
      "t1,t2 1.0180601836407213 6.280410747106277                              \n",
      "t1,t2 4.141204396182742 6.280410747106277\n",
      "periods [6.28646351 3.15038265 3.13608062]\n",
      "eps iter 5 0.014999999999999996                \n",
      "t1,t2 1.0173731709446798 6.301923734843639                              \n",
      "t1,t2 4.1507826099906335 6.301923734843639\n",
      "periods [6.28631694 3.14983881 3.13647799]\n",
      "eps iter 6 0.013999999999999995                \n",
      "t1,t2 1.0167084062388316 6.303875761505142                              \n",
      "t1,t2 4.15050056558256 6.303875761505142\n",
      "periods [6.28616213 3.14929208 3.13686976]\n",
      "eps iter 7 0.012999999999999994                \n",
      "t1,t2 1.0160639121316426 6.305735128222609                              \n",
      "t1,t2 4.15090218070095 6.305735128222609\n",
      "periods [6.2859987  3.14873925 3.1372594 ]\n",
      "eps iter 8 0.011999999999999993                \n",
      "t1,t2 1.0154380981922742 6.284944941058395                              \n",
      "t1,t2 4.150767127458113 6.284944941058395\n",
      "periods [6.28582759 3.14818946 3.137638  ]\n",
      "eps iter 9 0.010999999999999992                \n",
      "t1,t2 1.0148196525195732 6.316058266866594                              \n",
      "t1,t2 4.143318240777516 6.316058266866594\n",
      "periods [6.28564951 3.14764241 3.13800838]\n",
      "eps iter 10 0.009999999999999992                \n",
      "t1,t2 1.0142456348343951 6.290841161596822                              \n",
      "t1,t2 4.146999231004558 6.290841161596822\n",
      "periods [6.28546329 3.14709248 3.13836886]\n",
      "eps iter 11 0.00899999999999999                \n",
      "t1,t2 1.0136707532183769 6.291574061456484                              \n",
      "t1,t2 4.150526943300225 6.291574061456484\n",
      "periods [6.2852675  3.14654224 3.13872617]\n",
      "eps iter 12 0.00799999999999999                \n",
      "t1,t2 1.0130997228808332 6.284741255009803                              \n",
      "t1,t2 4.146884237443753 6.284741255009803\n",
      "periods [6.28506269 3.14599589 3.1390704 ]\n",
      "eps iter 13 0.006999999999999989                \n",
      "t1,t2 1.0125572530780054 6.295103025468611                              \n",
      "t1,t2 4.145959374948557 6.295103025468611\n",
      "periods [6.28485539 3.14544168 3.13941373]\n",
      "eps iter 14 0.005999999999999988                \n",
      "t1,t2 1.0120334436105674 6.318830030802285                              \n",
      "t1,t2 4.1415388313523165 6.318830030802285\n",
      "periods [6.28463813 3.14489732 3.13974081]\n",
      "eps iter 15 0.004999999999999987                \n",
      "t1,t2 1.0115379161196962 6.294997652438374                              \n",
      "t1,t2 4.148193118001451 6.294997652438374\n",
      "periods [6.2844154  3.14434318 3.14007015]\n",
      "eps iter 16 0.003999999999999986                \n",
      "t1,t2 1.0110546235614348 6.301059972722856                              \n",
      "t1,t2 4.145163414811493 6.301059972722856\n",
      "periods [6.28418104 3.14379473 3.14038625]\n",
      "eps iter 17 0.0029999999999999853                \n",
      "t1,t2 1.0105578093715235 6.296544969238473                              \n",
      "t1,t2 4.140642867227109 6.296544969238473\n",
      "periods [6.2839428  3.14324627 3.14069652]\n",
      "eps iter 18 0.0019999999999999844                \n",
      "eps iter 19 0.0009999999999999835                                        \n",
      "t1,t2 1.0023061970022094 6.295124526371886                               \n",
      "t1,t2 4.1437444222263 6.295124526371886\n",
      "periods [6.28344312 3.14214499 3.14129763]\n",
      "fname1 td_branch_init=0_nm=12_del=0.0002_ei=0.02_ef=0.057_de=0.005.txt\n",
      "fname2 ts_branch_init=0_nm=12_del=0.0002_ei=0.02_ef=0.057_de=0.005.txt\n",
      "init [3.84623502e-01 5.18862355e-01 1.35684083e+00 1.26039179e-01 1.24058465e-02 5.94764187e-02 2.12096693e+00 3.48291118e-03 6.28712083e+00]\n",
      "eps iter 0 0.02                \n",
      "t1,t2 1.021033594519388 6.292286674012333                               \n",
      "t1,t2 4.154377691940247 6.292286674012333\n",
      "periods [6.28696474 3.15258206 3.13438251]\n",
      "eps iter 1 0.025                \n",
      "t1,t2 1.0243552848692306 6.290959716566102                              \n",
      "t1,t2 4.153072455341525 6.290959716566102\n",
      "periods [6.28738918 3.15532453 3.13206197]\n",
      "eps iter 2 0.030000000000000002                \n",
      "t1,t2 1.0263591722827083 6.270451409072462                              \n",
      "t1,t2 4.157031273450826 6.270451409072462\n",
      "periods [6.28756626 3.15808372 3.12948272]\n",
      "eps iter 3 0.035                \n",
      "t1,t2 1.0246089509140794 6.257572744162564                              \n",
      "t1,t2 4.154299588227863 6.257572744162564\n",
      "periods [6.28746551 3.16085428 3.12661126]\n",
      "eps iter 4 0.04000000000000001                \n",
      "t1,t2 1.0453316814536042 6.232188959898569                              \n",
      "t1,t2 4.161042881257877 6.232188959898569\n",
      "periods [6.28705526 3.16365875 3.12339651]\n",
      "eps iter 5 0.045000000000000005                \n",
      "t1,t2 1.0516298520041378 6.220742686500172                              \n",
      "t1,t2 4.1616249359484545 6.220742686500172\n",
      "periods [6.28627214 3.16652433 3.11974777]\n",
      "eps iter 6 0.05                \n",
      "t1,t2 1.0609971830045521 6.1942769609347685                             \n",
      "t1,t2 4.172283493505508 6.1942769609347685\n",
      "periods [6.28499781 3.16951685 3.11547845]\n",
      "eps iter 7 0.05500000000000001                \n",
      "t1,t2 1.0669054352950096 6.160632595190668                              \n",
      "t1,t2 4.182769886814485 6.160632595190668\n",
      "periods [6.28280403 3.17289963 3.10990279]\n"
     ]
    }
   ],
   "source": [
    "for i in range(len(in_dicts_p0002)):\n",
    "    in1 = in_dicts_p0002[i]\n",
    "    dat = follow_phase_diffs(max_iter=50,max_time=5000,**in1,**kw_p0002)\n",
    "    data_p0002_list.append(dat)"
   ]
  },
  {
   "cell_type": "code",
   "execution_count": 29,
   "id": "db9f06c3-fef6-44e5-b717-4335b3f666ff",
   "metadata": {},
   "outputs": [],
   "source": [
    "# save hyperparameters\n",
    "fname = kw_p0002['bifdir']+'hyper_gw2_12_p0002.txt'\n",
    "hyp_inputs = np.zeros([len(in_dicts_p0002),4])\n",
    "for i in range(len(in_dicts_p0002)):\n",
    "    hyp_inputs[i,0] = in_dicts_p0002[i]['init']\n",
    "    hyp_inputs[i,1] = in_dicts_p0002[i]['eps_init']\n",
    "    hyp_inputs[i,2] = in_dicts_p0002[i]['eps_final']\n",
    "    hyp_inputs[i,3] = in_dicts_p0002[i]['deps']\n",
    "np.savetxt(fname,hyp_inputs)"
   ]
  },
  {
   "cell_type": "markdown",
   "id": "70536b34-f652-4e87-9385-0b82e6f5e8b0",
   "metadata": {},
   "source": [
    "## Get Branches 3D"
   ]
  },
  {
   "cell_type": "code",
   "execution_count": 30,
   "id": "8f9e1224-953f-4655-ae36-c5a16e930787",
   "metadata": {},
   "outputs": [],
   "source": [
    "data_r3d_p0002_list = []"
   ]
  },
  {
   "cell_type": "code",
   "execution_count": 31,
   "id": "24431eca-6a80-4f3e-b9ca-9be85401e394",
   "metadata": {
    "scrolled": true
   },
   "outputs": [
    {
     "name": "stdout",
     "output_type": "stream",
     "text": [
      "[ 1.2008 -0.0984 -0.0893]\n"
     ]
    }
   ],
   "source": [
    "# find init for this branch\n",
    "_,init = load_phase_lock_r3d([1.5,0,0],a12_p0002,.05,_redu_3dc,\n",
    "                            bifdir='gw2_bif1d')\n",
    "print(init)"
   ]
  },
  {
   "cell_type": "code",
   "execution_count": 32,
   "id": "775e7dd9-a8ff-4c11-acb8-5293b5c8f49b",
   "metadata": {
    "scrolled": true
   },
   "outputs": [],
   "source": [
    "# bot 1f\n",
    "dat = follow_locking_3d(init,a12_p0002,(.05,.11,.01),\n",
    "                        rhs=_redu_3dc,recompute=False)\n",
    "data_r3d_p0002_list.append(dat)"
   ]
  },
  {
   "cell_type": "code",
   "execution_count": 33,
   "id": "ee365184-2364-4e86-be53-295a21de4bd5",
   "metadata": {
    "scrolled": true
   },
   "outputs": [],
   "source": [
    "# bot 1b\n",
    "dat = follow_locking_3d(init,a12_p0002,(.05,.001,-.005),\n",
    "                        rhs=_redu_3dc,recompute=False)\n",
    "data_r3d_p0002_list.append(dat)"
   ]
  },
  {
   "cell_type": "code",
   "execution_count": 34,
   "id": "a8b75374-cf24-4c41-89d2-d9742c4d04fa",
   "metadata": {},
   "outputs": [],
   "source": [
    "# find init for this branch\n",
    "_,init = load_phase_lock_r3d([4,.1,.1],a12_p0002,.05,_redu_3dc,\n",
    "                            bifdir='gw2_bif1d')"
   ]
  },
  {
   "cell_type": "code",
   "execution_count": 35,
   "id": "f3ccd96b-eb13-4d8d-9322-aafc48ee1cfa",
   "metadata": {
    "scrolled": true
   },
   "outputs": [],
   "source": [
    "# top 1f\n",
    "dat = follow_locking_3d(init,a12_p0002,(.05,.11,.01),\n",
    "                        rhs=_redu_3dc,recompute=False)\n",
    "data_r3d_p0002_list.append(dat)"
   ]
  },
  {
   "cell_type": "code",
   "execution_count": 36,
   "id": "d179239d-c08c-4d6d-9ec1-dde5589e2f75",
   "metadata": {
    "scrolled": true
   },
   "outputs": [],
   "source": [
    "# top 1b\n",
    "dat = follow_locking_3d(init,a12_p0002,(.05,.001,-.002),\n",
    "                        rhs=_redu_3dc,recompute=False)\n",
    "data_r3d_p0002_list.append(dat)"
   ]
  },
  {
   "cell_type": "markdown",
   "id": "6b2557f6-18ae-4f36-8e67-a7d60bafd852",
   "metadata": {},
   "source": [
    "## Plot"
   ]
  },
  {
   "cell_type": "code",
   "execution_count": 37,
   "id": "d5e8084b-34d8-42b6-98c9-3e52daa92082",
   "metadata": {},
   "outputs": [
    {
     "name": "stdout",
     "output_type": "stream",
     "text": [
      "eps_min 0.02\n"
     ]
    },
    {
     "data": {
      "image/png": "[encoded data removed]",
      "text/plain": [
       "<Figure size 300x200 with 1 Axes>"
      ]
     },
     "metadata": {},
     "output_type": "display_data"
    },
    {
     "data": {
      "image/png": "[encoded data removed]",
      "text/plain": [
       "<Figure size 300x400 with 2 Axes>"
      ]
     },
     "metadata": {},
     "output_type": "display_data"
    }
   ],
   "source": [
    "quick_plot_combined(a12_p0002,\n",
    "                    kw_f={'data_list':data_p0002_list},\n",
    "                    kw_r3d={'data_list':data_r3d_p0002_list},\n",
    "                    kw_r={'etup':etup12})"
   ]
  },
  {
   "cell_type": "markdown",
   "id": "4f101755-b1db-462b-ba31-c7b02bc6eba3",
   "metadata": {},
   "source": [
    "# del=0.0003"
   ]
  },
  {
   "cell_type": "code",
   "execution_count": 38,
   "id": "5d89adf8-9daa-4923-9a24-4ded97f40c86",
   "metadata": {},
   "outputs": [
    {
     "name": "stdout",
     "output_type": "stream",
     "text": [
      "pfactor 4\n",
      "* Loading p symbolic...\n",
      "* Loading p symbolic...\n",
      "p order=0\n",
      "p order=0\n",
      "p order=1\n",
      "p order=1\n",
      "p order=2\n",
      "p order=2\n",
      "p order=3\n",
      "p order=3\n",
      "* Loading H symbolic...\n",
      "* Loading H symbolic...\n",
      "* Computing H gw0, order=0...\n",
      "* Computing H gw1, order=0...\n",
      "* Computing H gw0, order=1...\n",
      "* Computing H gw1, order=1...\n",
      "* Computing H gw0, order=2...\n",
      "* Computing H gw1, order=2...\n",
      "* Computing H gw0, order=3...\n",
      "* Computing H gw1, order=3...\n"
     ]
    },
    {
     "name": "stdout",
     "output_type": "stream",
     "text": [
      "* Loading H symbolic...\n",
      "* Loading H symbolic...\n",
      "* Loading H gw0, order=0...\n",
      "* Loading H gw1, order=0...\n",
      "* Loading H gw0, order=1...\n",
      "* Loading H gw1, order=1...\n",
      "* Loading H gw0, order=2...\n",
      "* Loading H gw1, order=2...\n",
      "* Loading H gw0, order=3...\n",
      "* Loading H gw1, order=3...\n"
     ]
    }
   ],
   "source": [
    "del12_p0003 = .0003\n",
    "a12_p0003 = nm.nmCoupling(**kw_nm, del1=del12_p0003)"
   ]
  },
  {
   "cell_type": "markdown",
   "id": "837e71a5-16b3-4424-81c5-fdb45c971600",
   "metadata": {},
   "source": [
    "## Get Branches Full"
   ]
  },
  {
   "cell_type": "code",
   "execution_count": 39,
   "id": "4ac9b606-684c-4dd4-b7d2-b23434d0147d",
   "metadata": {},
   "outputs": [],
   "source": [
    "kw_p0003 = {'a':a12_p0003,'del1':del12_p0003,'bifdir':'bif1d_gw2/',\n",
    "            '_full_rhs':_full}"
   ]
  },
  {
   "cell_type": "code",
   "execution_count": 40,
   "id": "6fee59f2-5907-4444-940b-65c56b936d00",
   "metadata": {},
   "outputs": [],
   "source": [
    "data_p0003_list = []"
   ]
  },
  {
   "cell_type": "code",
   "execution_count": 41,
   "id": "38a2070c-16a2-4913-9f2d-ef8fbfdafcde",
   "metadata": {},
   "outputs": [],
   "source": [
    "in_dicts_p0003 = [dict(init=2,eps_init=0.02,eps_final=0.0005,deps=-.0005),\n",
    "                  dict(init=2,eps_init=0.02,eps_final=0.11,deps=.01),\n",
    "                  dict(init=0,eps_init=0.02,eps_final=0.0005,deps=-.001),\n",
    "                  dict(init=0,eps_init=0.02,eps_final=0.045,deps=.001)]"
   ]
  },
  {
   "cell_type": "code",
   "execution_count": 42,
   "id": "5311c965-badd-4142-bd3c-af225e8f0358",
   "metadata": {},
   "outputs": [
    {
     "name": "stdout",
     "output_type": "stream",
     "text": [
      "fname1 td_branch_init=2_nm=12_del=0.0003_ei=0.02_ef=0.0005_de=-0.0005.txt\n",
      "fname2 ts_branch_init=2_nm=12_del=0.0003_ei=0.02_ef=0.0005_de=-0.0005.txt\n",
      "fname1 td_branch_init=2_nm=12_del=0.0003_ei=0.02_ef=0.11_de=0.01.txt\n",
      "fname2 ts_branch_init=2_nm=12_del=0.0003_ei=0.02_ef=0.11_de=0.01.txt\n",
      "fname1 td_branch_init=0_nm=12_del=0.0003_ei=0.02_ef=0.0005_de=-0.001.txt\n",
      "fname2 ts_branch_init=0_nm=12_del=0.0003_ei=0.02_ef=0.0005_de=-0.001.txt\n",
      "fname1 td_branch_init=0_nm=12_del=0.0003_ei=0.02_ef=0.045_de=0.001.txt\n",
      "fname2 ts_branch_init=0_nm=12_del=0.0003_ei=0.02_ef=0.045_de=0.001.txt\n"
     ]
    }
   ],
   "source": [
    "for i in range(len(in_dicts_p0003)):\n",
    "    in1 = in_dicts_p0003[i]\n",
    "    dat = follow_phase_diffs(**in1,**kw_p0003)\n",
    "    data_p0003_list.append(dat)"
   ]
  },
  {
   "cell_type": "code",
   "execution_count": 43,
   "id": "0b958524-9f73-4945-8735-b11307bfe1f8",
   "metadata": {},
   "outputs": [],
   "source": [
    "# save hyperparameters\n",
    "fname = kw_p0003['bifdir']+'hyper_gw2_12_p0003.txt'\n",
    "hyp_inputs = np.zeros([len(in_dicts_p0003),4])\n",
    "for i in range(len(in_dicts_p0003)):\n",
    "    hyp_inputs[i,0] = in_dicts_p0003[i]['init']\n",
    "    hyp_inputs[i,1] = in_dicts_p0003[i]['eps_init']\n",
    "    hyp_inputs[i,2] = in_dicts_p0003[i]['eps_final']\n",
    "    hyp_inputs[i,3] = in_dicts_p0003[i]['deps']\n",
    "np.savetxt(fname,hyp_inputs)"
   ]
  },
  {
   "cell_type": "markdown",
   "id": "9d48dbbe-b24a-4934-b9ec-341d0d58eb6c",
   "metadata": {},
   "source": [
    "## Get Branches 3D"
   ]
  },
  {
   "cell_type": "code",
   "execution_count": 44,
   "id": "142b5015-7341-4513-abbf-ca2bfe6128e1",
   "metadata": {},
   "outputs": [],
   "source": [
    "data_r3d_p0003_list = []"
   ]
  },
  {
   "cell_type": "code",
   "execution_count": 45,
   "id": "b4c04077-d3d1-47bc-99b6-55922bc56d80",
   "metadata": {
    "scrolled": true
   },
   "outputs": [
    {
     "name": "stdout",
     "output_type": "stream",
     "text": [
      "t_diff 1.23676401827389282, Y=[ 1.23676402 -0.09958746 -0.09215801]                                              \n",
      "[ 1.2368 -0.0996 -0.0922]\n"
     ]
    },
    {
     "name": "stdout",
     "output_type": "stream",
     "text": [
      "iter=5, rel. err =2.39e-06, Y=[ 1.23676402 -0.09958746 -0.09215801]                                              \r"
     ]
    },
    {
     "name": "stdout",
     "output_type": "stream",
     "text": [
      "iter=6, rel. err =9.05e-12, Y=[ 1.23676402 -0.09958746 -0.09215801]                                              \r",
      "t_diff 1.2367640182738928\n",
      "[ 1.2368 -0.0996 -0.0922]\n"
     ]
    }
   ],
   "source": [
    "# find init for this branch\n",
    "_,init = phase_lock_r3d([1.5,0,0],a12_p0003,.05,_redu_3dc)\n",
    "print(init)"
   ]
  },
  {
   "cell_type": "code",
   "execution_count": 46,
   "id": "c2f0a195-2eb6-427c-8bf4-5f27b4af29fe",
   "metadata": {
    "scrolled": true
   },
   "outputs": [
    {
     "name": "stdout",
     "output_type": "stream",
     "text": [
      "eps iter 0 0.05                \n",
      "t_diff 1.23676401827388489, Y=[ 1.23676402 -0.09958746 -0.09215801]                                              \n",
      "eps iter 1 0.060000000000000005                \n",
      "t_diff 1.27566279293920710, Y=[ 1.27566279 -0.12021455 -0.11333771]                                              \n",
      "eps iter 2 0.07                \n",
      "t_diff 1.30870614624357561, Y=[ 1.30870615 -0.1408221  -0.1347435 ]                                              \n",
      "eps iter 3 0.08000000000000002                \n",
      "t_diff 1.33680300336052161, Y=[ 1.336803   -0.1614336  -0.15627171]                                              \n",
      "eps iter 4 0.09000000000000001                \n",
      "t_diff 1.36110353910692622, Y=[ 1.36110354 -0.18207519 -0.17789398]                                              \n",
      "eps iter 5 0.1                \n",
      "t_diff 1.38259589644980573, Y=[ 1.3825959  -0.20275976 -0.19960879]                                              \n"
     ]
    },
    {
     "name": "stdout",
     "output_type": "stream",
     "text": [
      "iter=2, rel. err =9.42e-06, Y=[ 1.27566279 -0.12021455 -0.11333771]                                              \r",
      "iter=3, rel. err =2.15e-10, Y=[ 1.27566279 -0.12021455 -0.11333771]                                              \r",
      "t_diff 1.275662792939207\n",
      "eps iter 2 0.07                \n",
      "iter=0, rel. err =4.65e-02, Y=[ 1.31120256 -0.1409296  -0.1350571 ]                                              \r",
      "iter=1, rel. err =2.52e-03, Y=[ 1.30870007 -0.14082324 -0.13474395]                                              \r"
     ]
    },
    {
     "name": "stdout",
     "output_type": "stream",
     "text": [
      "iter=2, rel. err =6.20e-06, Y=[ 1.30870615 -0.1408221  -0.1347435 ]                                              \r"
     ]
    },
    {
     "name": "stdout",
     "output_type": "stream",
     "text": [
      "iter=3, rel. err =8.98e-11, Y=[ 1.30870615 -0.1408221  -0.1347435 ]                                              \r",
      "t_diff 1.3087061462435756\n",
      "eps iter 3 0.08000000000000002                \n",
      "iter=0, rel. err =4.25e-02, Y=[ 1.33878455 -0.16150076 -0.15653163]                                              \r",
      "iter=1, rel. err =2.00e-03, Y=[ 1.33680021 -0.16143445 -0.15627217]                                              \r",
      "iter=2, rel. err =2.96e-06, Y=[ 1.336803   -0.1614336  -0.15627171]                                              \r"
     ]
    },
    {
     "name": "stdout",
     "output_type": "stream",
     "text": [
      "iter=3, rel. err =1.93e-11, Y=[ 1.336803   -0.1614336  -0.15627171]                                              \r",
      "t_diff 1.3368030033605216\n",
      "eps iter 4 0.09000000000000001                \n",
      "iter=0, rel. err =3.96e-02, Y=[ 1.36256835 -0.18211754 -0.17809817]                                              \r"
     ]
    },
    {
     "name": "stdout",
     "output_type": "stream",
     "text": [
      "iter=1, rel. err =1.48e-03, Y=[ 1.36110249 -0.18207573 -0.17789434]                                              \r",
      "iter=2, rel. err =1.23e-06, Y=[ 1.36110354 -0.18207519 -0.17789398]                                              \r",
      "iter=3, rel. err =2.55e-12, Y=[ 1.36110354 -0.18207519 -0.17789398]                                              \r",
      "t_diff 1.3611035391069262\n",
      "eps iter 5 0.1                \n"
     ]
    },
    {
     "name": "stdout",
     "output_type": "stream",
     "text": [
      "iter=0, rel. err =3.76e-02, Y=[ 1.38366372 -0.20279145 -0.19977073]                                              \r",
      "iter=1, rel. err =1.08e-03, Y=[ 1.38259557 -0.20276007 -0.19960904]                                              \r",
      "iter=2, rel. err =5.18e-07, Y=[ 1.3825959  -0.20275976 -0.19960879]                                              \r"
     ]
    },
    {
     "name": "stdout",
     "output_type": "stream",
     "text": [
      "iter=3, rel. err =1.31e-13, Y=[ 1.3825959  -0.20275976 -0.19960879]                                              \r",
      "t_diff 1.3825958964498057\n"
     ]
    }
   ],
   "source": [
    "# bot 1f\n",
    "dat = follow_locking_3d(init,a12_p0003,(.05,.11,.01),\n",
    "                        rhs=_redu_3dc,recompute=True)\n",
    "data_r3d_p0003_list.append(dat)"
   ]
  },
  {
   "cell_type": "code",
   "execution_count": 47,
   "id": "e067ba50-5ca3-4c6d-8db4-be96ee7c8d02",
   "metadata": {
    "scrolled": true
   },
   "outputs": [
    {
     "name": "stdout",
     "output_type": "stream",
     "text": [
      "eps iter 0 0.05                \n",
      "t_diff 1.23676401827388489, Y=[ 1.23676402 -0.09958746 -0.09215801]                                              \n",
      "eps iter 1 0.04                \n",
      "t_diff 1.19213081371775460, Y=[ 1.19213081 -0.07896587 -0.07144389]                                              \n",
      "eps iter 2 0.03                \n",
      "t_diff 1.14347676507899411, Y=[ 1.14347677 -0.05847816 -0.05156769]                                              \n",
      "eps iter 3 0.019999999999999997                \n",
      "t_diff 1.09350191103358333, Y=[ 1.09350191 -0.03834684 -0.03290725]                                              \n",
      "eps iter 4 0.009999999999999995                \n",
      "t_diff 1.04459061573465873, Y=[ 1.04459062 -0.01880095 -0.01569826]                                              \n"
     ]
    },
    {
     "name": "stdout",
     "output_type": "stream",
     "text": [
      "iter=1, rel. err =2.46e-03, Y=[ 1.19211832 -0.07896624 -0.07144356]                                              \r",
      "iter=2, rel. err =1.25e-05, Y=[ 1.19213081 -0.07896587 -0.07144389]                                              \r"
     ]
    },
    {
     "name": "stdout",
     "output_type": "stream",
     "text": [
      "iter=3, rel. err =4.10e-10, Y=[ 1.19213081 -0.07896587 -0.07144389]                                              \r",
      "t_diff 1.1921308137177546\n",
      "eps iter 2 0.03                \n",
      "iter=0, rel. err =5.50e-02, Y=[ 1.14498391 -0.05859419 -0.051716  ]                                              \r"
     ]
    },
    {
     "name": "stdout",
     "output_type": "stream",
     "text": [
      "iter=1, rel. err =1.52e-03, Y=[ 1.14347187 -0.05847823 -0.05156756]                                              \r",
      "iter=2, rel. err =4.90e-06, Y=[ 1.14347677 -0.05847816 -0.05156769]                                              \r",
      "iter=3, rel. err =5.54e-11, Y=[ 1.14347677 -0.05847816 -0.05156769]                                              \r",
      "t_diff 1.143476765078994\n",
      "eps iter 3 0.019999999999999997                \n"
     ]
    },
    {
     "name": "stdout",
     "output_type": "stream",
     "text": [
      "iter=0, rel. err =5.66e-02, Y=[ 1.0939119  -0.03841953 -0.03297264]                                              \r",
      "iter=1, rel. err =4.22e-04, Y=[ 1.09350166 -0.03834685 -0.03290724]                                              \r"
     ]
    },
    {
     "name": "stdout",
     "output_type": "stream",
     "text": [
      "iter=2, rel. err =2.55e-07, Y=[ 1.09350191 -0.03834684 -0.03290725]                                              \r",
      "iter=3, rel. err =5.53e-13, Y=[ 1.09350191 -0.03834684 -0.03290725]                                              \r",
      "t_diff 1.0935019110335833\n",
      "eps iter 4 0.009999999999999995                \n",
      "iter=0, rel. err =5.57e-02, Y=[ 1.04422177 -0.01882927 -0.01571405]                                              \r",
      "iter=1, rel. err =3.70e-04, Y=[ 1.04459018 -0.01880095 -0.01569825]                                              \r"
     ]
    },
    {
     "name": "stdout",
     "output_type": "stream",
     "text": [
      "iter=2, rel. err =4.31e-07, Y=[ 1.04459062 -0.01880095 -0.01569826]                                              \r"
     ]
    },
    {
     "name": "stdout",
     "output_type": "stream",
     "text": [
      "iter=3, rel. err =6.69e-13, Y=[ 1.04459062 -0.01880095 -0.01569826]                                              \r",
      "t_diff 1.0445906157346587\n"
     ]
    }
   ],
   "source": [
    "# bot 1b\n",
    "dat = follow_locking_3d(init,a12_p0003,(.05,.001,-.01),\n",
    "                        rhs=_redu_3dc,recompute=True)\n",
    "data_r3d_p0003_list.append(dat)"
   ]
  },
  {
   "cell_type": "code",
   "execution_count": 48,
   "id": "4aee77df-5a63-4896-a251-ba12b1de55df",
   "metadata": {},
   "outputs": [],
   "source": [
    "# # find init for this branch\n",
    "# _,init = phase_lock_r3d([2.25,0,0],a12_p0003,.02,_redu_3dc)"
   ]
  },
  {
   "cell_type": "code",
   "execution_count": 49,
   "id": "2619c71e-36b4-4ebf-88fe-3af13cb51304",
   "metadata": {
    "scrolled": true
   },
   "outputs": [],
   "source": [
    "# # top 1f\n",
    "# dat = follow_locking_3d(init,a12_p0003,(.02,.1,.01),\n",
    "#                         rhs=_redu_3dc,recompute=True)\n",
    "# data_r3d_p0003_list.append(dat)"
   ]
  },
  {
   "cell_type": "code",
   "execution_count": 50,
   "id": "2e3b0ed5-add4-46fb-a590-fd205c0a4dc7",
   "metadata": {
    "scrolled": true
   },
   "outputs": [],
   "source": [
    "# # top 1b\n",
    "# dat = follow_locking_3d(init,a12_p0003,(.02,.001,-.005),\n",
    "#                         rhs=_redu_3dc,recompute=True)\n",
    "# data_r3d_p0003_list.append(dat)"
   ]
  },
  {
   "cell_type": "markdown",
   "id": "1e4efa4c-1318-4099-b87e-904cbd0186aa",
   "metadata": {},
   "source": [
    "## Plot"
   ]
  },
  {
   "cell_type": "code",
   "execution_count": 51,
   "id": "800c4a8f-8898-4272-80f5-5d4675fb3f23",
   "metadata": {},
   "outputs": [
    {
     "name": "stdout",
     "output_type": "stream",
     "text": [
      "eps_min 0.012999999999999994\n"
     ]
    },
    {
     "data": {
      "image/png": "[encoded data removed]",
      "text/plain": [
       "<Figure size 300x200 with 1 Axes>"
      ]
     },
     "metadata": {},
     "output_type": "display_data"
    },
    {
     "data": {
      "image/png": "[encoded data removed]",
      "text/plain": [
       "<Figure size 300x400 with 2 Axes>"
      ]
     },
     "metadata": {},
     "output_type": "display_data"
    }
   ],
   "source": [
    "quick_plot_combined(a12_p0003,\n",
    "                    kw_f={'data_list':data_p0003_list},\n",
    "                    kw_r3d={'data_list':data_r3d_p0003_list},\n",
    "                    kw_r={'etup':etup12})"
   ]
  },
  {
   "cell_type": "markdown",
   "id": "66229515-5570-46c9-8279-04a6f8c17206",
   "metadata": {},
   "source": [
    "# del=0.0004"
   ]
  },
  {
   "cell_type": "code",
   "execution_count": 52,
   "id": "a8f5ae64-7ff2-4ced-9d73-be73952cbfb3",
   "metadata": {},
   "outputs": [
    {
     "name": "stdout",
     "output_type": "stream",
     "text": [
      "pfactor 4\n",
      "* Loading p symbolic...\n",
      "* Loading p symbolic...\n",
      "p order=0\n",
      "p order=0\n",
      "p order=1\n",
      "p order=1\n",
      "p order=2\n",
      "p order=2\n",
      "p order=3\n",
      "p order=3\n",
      "* Loading H symbolic...\n",
      "* Loading H symbolic...\n",
      "* Computing H gw0, order=0...\n",
      "* Computing H gw1, order=0...\n",
      "* Computing H gw0, order=1...\n",
      "* Computing H gw1, order=1...\n",
      "* Computing H gw0, order=2...\n",
      "* Computing H gw1, order=2...\n",
      "* Computing H gw0, order=3...\n",
      "* Computing H gw1, order=3...\n"
     ]
    },
    {
     "name": "stdout",
     "output_type": "stream",
     "text": [
      "* Loading H symbolic...\n",
      "* Loading H symbolic...\n",
      "* Loading H gw0, order=0...\n",
      "* Loading H gw1, order=0...\n",
      "* Loading H gw0, order=1...\n",
      "* Loading H gw1, order=1...\n",
      "* Loading H gw0, order=2...\n",
      "* Loading H gw1, order=2...\n",
      "* Loading H gw0, order=3...\n",
      "* Loading H gw1, order=3...\n"
     ]
    }
   ],
   "source": [
    "del12_p0004 = .0004\n",
    "a12_p0004 = nm.nmCoupling(**kw_nm, del1=del12_p0004)"
   ]
  },
  {
   "cell_type": "markdown",
   "id": "d745c8c1-292e-4351-9170-09cbdb77ebcf",
   "metadata": {},
   "source": [
    "## Get Branches Full"
   ]
  },
  {
   "cell_type": "code",
   "execution_count": 53,
   "id": "b8ae3114-1a5c-4a18-b534-5326b2fb8ade",
   "metadata": {},
   "outputs": [],
   "source": [
    "kw_p0004 = {'a':a12_p0004,'del1':del12_p0004,'bifdir':'bif1d_gw2/',\n",
    "            '_full_rhs':_full}"
   ]
  },
  {
   "cell_type": "code",
   "execution_count": 54,
   "id": "48711054-e1a5-4ce6-b4cd-798c1022e0a9",
   "metadata": {},
   "outputs": [],
   "source": [
    "data_p0004_list = []"
   ]
  },
  {
   "cell_type": "code",
   "execution_count": 55,
   "id": "8f417d7a-a25a-4a4d-88c9-351daa3854be",
   "metadata": {},
   "outputs": [],
   "source": [
    "in_dicts = [dict(init=2,eps_init=0.02,eps_final=0.0005,deps=-.001),\n",
    "              dict(init=2,eps_init=0.02,eps_final=0.11,deps=.01),\n",
    "              dict(init=0,eps_init=0.02,eps_final=0.0005,deps=-.001),\n",
    "              dict(init=0,eps_init=0.02,eps_final=0.04,deps=.002)]"
   ]
  },
  {
   "cell_type": "code",
   "execution_count": 56,
   "id": "1cf1b0ea-137b-44d5-8e84-7ab7bfb78b9d",
   "metadata": {
    "scrolled": true
   },
   "outputs": [
    {
     "name": "stdout",
     "output_type": "stream",
     "text": [
      "fname1 td_branch_init=2_nm=12_del=0.0004_ei=0.02_ef=0.0005_de=-0.001.txt\n",
      "fname2 ts_branch_init=2_nm=12_del=0.0004_ei=0.02_ef=0.0005_de=-0.001.txt\n",
      "init [0.38616119 0.51981697 1.35620943 0.12650421 0.02116865 0.32584319 3.11836355 0.01187601 6.29422919]\n",
      "eps iter 0 0.02                \n",
      "t1,t2 1.851004958342362 6.319522784577234                               \n",
      "t1,t2 4.977915752224454 6.319522784577234\n",
      "periods [6.29017371 3.1610182  3.12915548]\n",
      "eps iter 1 0.019                \n",
      "t1,t2 1.8466273525250467 6.324808162214683                              \n",
      "t1,t2 4.971934703751556 6.324808162214683\n",
      "periods [6.28965593 3.15995427 3.12969841]\n",
      "eps iter 2 0.018                \n",
      "t1,t2 1.8432666595081029 6.346581553460639                              \n",
      "t1,t2 4.964338895285238 6.346581553460639\n",
      "periods [6.28914856 3.1589022  3.13024729]\n",
      "eps iter 3 0.016999999999999998                \n",
      "t1,t2 1.8376185959279372 6.3470559082571665                             \n",
      "t1,t2 4.965355972232292 6.3470559082571665\n",
      "periods [6.28866345 3.15785349 3.13080965]\n",
      "eps iter 4 0.015999999999999997                \n",
      "t1,t2 1.8312055228089437 6.3391917912187745                             \n",
      "t1,t2 4.964297043988668 6.3391917912187745\n",
      "periods [6.28818786 3.15681121 3.13137737]\n",
      "eps iter 5 0.014999999999999996                \n",
      "t1,t2 1.8275041610453757 6.32679095140694                               \n",
      "t1,t2 4.961507066025022 6.32679095140694\n",
      "periods [6.28773468 3.15578416 3.13194926]\n",
      "eps iter 6 0.013999999999999995                \n",
      "t1,t2 1.8203555338561155 6.332557707105854                              \n",
      "t1,t2 4.955047053174369 6.332557707105854\n",
      "periods [6.28729421 3.15476737 3.1325302 ]\n",
      "eps iter 7 0.012999999999999994                \n",
      "t1,t2 1.8141212980729027 6.352306494644987                              \n",
      "t1,t2 4.947051939797264 6.352306494644987\n",
      "periods [6.28687019 3.1537545  3.13311839]\n",
      "eps iter 8 0.011999999999999993                \n",
      "t1,t2 1.8063615867430756 6.345737292378243                              \n",
      "t1,t2 4.946779343518255 6.345737292378243\n",
      "periods [6.28646647 3.15274739 3.13371407]\n",
      "eps iter 9 0.010999999999999992                \n",
      "t1,t2 1.8100976352704659 6.344318529825472                              \n",
      "t1,t2 4.944115202665021 6.344318529825472\n",
      "periods [6.28607917 3.15175516 3.13432417]\n",
      "eps iter 10 0.009999999999999992                \n",
      "t1,t2 1.8030124690255038 6.364065549790126                              \n",
      "t1,t2 4.939451975667152 6.364065549790126\n",
      "periods [6.2857072  3.15077235 3.1349335 ]\n",
      "eps iter 11 0.00899999999999999                \n",
      "t1,t2 1.7985580860162391 6.359212791588354                              \n",
      "t1,t2 4.935865641100487 6.359212791588354\n",
      "periods [6.28535086 3.14979271 3.13555805]\n",
      "eps iter 12 0.00799999999999999                \n",
      "t1,t2 1.7938067793286065 6.349102761534242                              \n",
      "t1,t2 4.930537298576211 6.349102761534242\n",
      "periods [6.28501421 3.14882825 3.13618951]\n",
      "eps iter 13 0.006999999999999989                \n",
      "t1,t2 1.7802405053548147 6.348099182428148                              \n",
      "t1,t2 4.929588908056585 6.348099182428148\n",
      "periods [6.28470204 3.1478712  3.13682334]\n",
      "eps iter 14 0.005999999999999988                \n",
      "t1,t2 1.7818455739207617 6.371539740018967                              \n",
      "t1,t2 4.924542843996838 6.371539740018967\n",
      "periods [6.28440154 3.14692845 3.13747477]\n",
      "eps iter 15 0.004999999999999987                \n",
      "t1,t2 1.7755813542614807 6.36246949315628                               \n",
      "t1,t2 4.916490035820247 6.36246949315628\n",
      "periods [6.28412583 3.14599667 3.138129  ]\n",
      "eps iter 16 0.003999999999999986                \n",
      "t1,t2 1.7717679412374545 6.386667314429686                              \n",
      "t1,t2 4.912706910766304 6.386667314429686\n",
      "periods [6.28387012 3.14507172 3.13879838]\n",
      "eps iter 17 0.0029999999999999853                \n",
      "t1,t2 1.7642809962938233 6.378542696379639                              \n",
      "t1,t2 4.905769023901012 6.378542696379639\n",
      "periods [6.2836379  3.14416403 3.13947561]\n",
      "eps iter 18 0.0019999999999999844                \n",
      "t1,t2 1.7500303907744874 6.391166930271104                               \n",
      "t1,t2 4.887647365960915 6.391166930271104\n",
      "periods [6.2834301  3.14327149 3.14015687]\n",
      "eps iter 19 0.0009999999999999835                \n",
      "fname1 td_branch_init=2_nm=12_del=0.0004_ei=0.02_ef=0.11_de=0.01.txt     \n",
      "fname2 ts_branch_init=2_nm=12_del=0.0004_ei=0.02_ef=0.11_de=0.01.txt\n",
      "fname1 td_branch_init=0_nm=12_del=0.0004_ei=0.02_ef=0.0005_de=-0.001.txt\n",
      "fname2 ts_branch_init=0_nm=12_del=0.0004_ei=0.02_ef=0.0005_de=-0.001.txt\n",
      "init [0.3851277  0.51927951 1.35666201 0.12619195 0.03217247 0.05157299 1.72750525 0.00750818 6.29537787]\n",
      "eps iter 0 0.02                \n",
      "t1,t2 0.8518341114347163 6.041787258001785                               \n",
      "t1,t2 3.983287047376828 6.041787258001785\n",
      "periods [6.28525176 3.13254754 3.15270259]\n",
      "eps iter 1 0.019                \n",
      "t1,t2 0.85089115264524 6.044860976264511                                \n",
      "t1,t2 3.9797859152316435 6.044860976264511\n",
      "periods [6.2852452  3.1331017  3.15214339]\n",
      "eps iter 2 0.018                \n",
      "t1,t2 0.8499794934630961 6.04550640276841                               \n",
      "t1,t2 3.978599365463667 6.04550640276841\n",
      "periods [6.28522785 3.13364704 3.15158075]\n",
      "eps iter 3 0.016999999999999998                \n",
      "t1,t2 0.8367123879037335 6.046588036346803                              \n",
      "t1,t2 3.9799856485580376 6.046588036346803\n",
      "periods [6.2852004  3.13417879 3.15102042]\n",
      "eps iter 4 0.015999999999999997                \n",
      "t1,t2 0.8361511586580975 6.047372229228961                              \n",
      "t1,t2 3.9795850464877356 6.047372229228961\n",
      "periods [6.28515849 3.13469544 3.15046287]\n",
      "eps iter 5 0.014999999999999996                \n",
      "t1,t2 0.8355434663465187 6.074860408172296                              \n",
      "t1,t2 3.9786787318209718 6.074860408172296\n",
      "periods [6.28510577 3.13520363 3.1499036 ]\n",
      "eps iter 6 0.013999999999999995                \n",
      "t1,t2 0.8365830118707482 6.067032071756985                              \n",
      "t1,t2 3.97830441205948 6.067032071756985\n",
      "periods [6.28504109 3.13569533 3.14935107]\n",
      "eps iter 7 0.012999999999999994                \n",
      "t1,t2 0.8358999761204967 6.069672998113038                              \n",
      "t1,t2 3.974240626559148 6.069672998113038\n",
      "periods [6.28497484 3.13617977 3.14878936]\n",
      "eps iter 8 0.011999999999999993                \n",
      "t1,t2 0.8352493495595907 6.060629116292133                              \n",
      "t1,t2 3.9770656250741334 6.060629116292133\n",
      "periods [6.28489232 3.13665178 3.14823849]\n",
      "eps iter 9 0.010999999999999992                \n",
      "t1,t2 0.834628435813168 6.063182511456658                               \n",
      "t1,t2 3.9757009708670235 6.063182511456658\n",
      "periods [6.28479821 3.13712204 3.14767613]\n",
      "eps iter 10 0.009999999999999992                \n",
      "t1,t2 0.8340344165427225 6.062812277587638                              \n",
      "t1,t2 3.9752151904941675 6.062812277587638\n",
      "periods [6.28469618 3.13757027 3.14712589]\n",
      "eps iter 11 0.00899999999999999                \n",
      "t1,t2 0.8334682607454296 6.063245985761596                              \n",
      "t1,t2 3.974544928922116 6.063245985761596\n",
      "periods [6.28458828 3.1380115  3.14657178]\n",
      "eps iter 12 0.00799999999999999                \n",
      "t1,t2 0.8329273436359806 6.075893934705635                              \n",
      "t1,t2 3.973820880281128 6.075893934705635\n",
      "periods [6.28446375 3.13844697 3.14601663]\n",
      "eps iter 13 0.006999999999999989                \n",
      "t1,t2 0.832410015376282 6.075255602640414                               \n",
      "t1,t2 3.9731997218662154 6.075255602640414\n",
      "periods [6.28433389 3.13887054 3.1454632 ]\n",
      "eps iter 14 0.005999999999999988                \n",
      "t1,t2 0.831915853577417 6.077380508641828                               \n",
      "t1,t2 3.972118544456997 6.077380508641828\n",
      "periods [6.284197   3.13928413 3.14490908]\n",
      "eps iter 15 0.004999999999999987                \n",
      "t1,t2 0.8363900607887537 6.090198999197473                              \n",
      "t1,t2 3.971205573261186 6.090198999197473\n",
      "periods [6.28404751 3.13969121 3.14435627]\n",
      "eps iter 16 0.003999999999999986                \n",
      "eps iter 17 0.0029999999999999853                                        \n",
      "t1,t2 0.81823194941654 6.094735881588289                                 \n",
      "t1,t2 3.971500928037823 6.094735881588289\n",
      "periods [6.28372659 3.14047734 3.1432492 ]\n",
      "eps iter 18 0.0019999999999999844                \n",
      "t1,t2 0.8175409377708481 6.08702486455091                               \n",
      "t1,t2 3.9682413824494587 6.08702486455091\n",
      "periods [6.28354925 3.14085835 3.14269599]\n",
      "eps iter 19 0.0009999999999999835                \n",
      "t1,t2 0.8170387142040906 6.100445375068227                              \n",
      "t1,t2 3.9712613479230474 6.100445375068227\n",
      "periods [6.28337292 3.14122652 3.14214632]\n",
      "fname1 td_branch_init=0_nm=12_del=0.0004_ei=0.02_ef=0.04_de=0.002.txt\n",
      "fname2 ts_branch_init=0_nm=12_del=0.0004_ei=0.02_ef=0.04_de=0.002.txt\n",
      "init [0.3851277  0.51927951 1.35666201 0.12619195 0.03217247 0.05157299 1.72750525 0.00750818 6.29537787]\n",
      "eps iter 0 0.02                \n",
      "t1,t2 0.8518341114347163 6.041787258001785                               \n",
      "t1,t2 3.983287047376828 6.041787258001785\n",
      "periods [6.28525176 3.13254754 3.15270259]\n",
      "eps iter 1 0.022                \n",
      "t1,t2 0.8391009778851218 6.052018438264797                              \n",
      "t1,t2 3.9834268100152044 6.052018438264797\n",
      "periods [6.28522282 3.1313888  3.15383412]\n",
      "eps iter 2 0.023999999999999997                \n",
      "t1,t2 0.8601098212147973 6.034376767827485                              \n",
      "t1,t2 3.980451562617235 6.034376767827485\n",
      "periods [6.2851415  3.13017461 3.15496685]\n",
      "eps iter 3 0.025999999999999995                \n",
      "t1,t2 0.8603085687998253 6.030633802953062                              \n",
      "t1,t2 3.9832921558921384 6.030633802953062\n",
      "periods [6.28499959 3.1288813  3.1561185 ]\n",
      "eps iter 4 0.027999999999999994                \n",
      "t1,t2 0.859727158906868 6.020202456419306                               \n",
      "t1,t2 3.993023751227031 6.020202456419306\n",
      "periods [6.28479176 3.12751046 3.15728078]\n",
      "eps iter 5 0.029999999999999992                \n",
      "t1,t2 0.8594288106596296 6.026359808500691                              \n",
      "t1,t2 3.9967212742413336 6.026359808500691\n",
      "periods [6.28450725 3.12604336 3.15846168]\n",
      "eps iter 6 0.03199999999999999                \n",
      "t1,t2 0.8767148573733667 6.015202493047197                              \n",
      "t1,t2 3.993308633465425 6.015202493047197\n",
      "periods [6.28412045 3.12444505 3.15967575]\n",
      "eps iter 7 0.03399999999999999                \n",
      "t1,t2 0.882150251735293 6.005197251853306                               \n",
      "t1,t2 4.004456904195103 6.005197251853306\n",
      "periods [6.2835961  3.12265519 3.16094568]\n",
      "eps iter 8 0.03599999999999999                \n",
      "t1,t2 0.8876562308092175 5.978378407036527                              \n",
      "t1,t2 4.014360894319521 5.978378407036527\n",
      "periods [6.28279538 3.12043868 3.16235728]\n",
      "eps iter 9 0.037999999999999985                \n",
      "iter=20, rel. err =2.42e-01                                              \r"
     ]
    }
   ],
   "source": [
    "for i in range(len(in_dicts)):\n",
    "    in1 = in_dicts[i]\n",
    "    dat = follow_phase_diffs(**in1,**kw_p0004)\n",
    "    data_p0004_list.append(dat)\n",
    "fname = kw_p0004['bifdir']+'hyper_gw2_12_p0004.txt'"
   ]
  },
  {
   "cell_type": "code",
   "execution_count": 57,
   "id": "4e43a869-fd33-42de-aac5-e9a90ae6dbd4",
   "metadata": {},
   "outputs": [],
   "source": [
    "# save hyperparameters\n",
    "hyp_inputs = np.zeros([len(in_dicts),4])\n",
    "for i in range(len(in_dicts)):\n",
    "    hyp_inputs[i,0] = in_dicts[i]['init']\n",
    "    hyp_inputs[i,1] = in_dicts[i]['eps_init']\n",
    "    hyp_inputs[i,2] = in_dicts[i]['eps_final']\n",
    "    hyp_inputs[i,3] = in_dicts[i]['deps']\n",
    "np.savetxt(fname,hyp_inputs)"
   ]
  },
  {
   "cell_type": "markdown",
   "id": "410a9616-09ff-4b91-a8ca-d92124004414",
   "metadata": {},
   "source": [
    "## Plot"
   ]
  },
  {
   "cell_type": "code",
   "execution_count": 58,
   "id": "56ff2a1b-fe82-460f-9340-8e90ba3d2a8a",
   "metadata": {},
   "outputs": [
    {
     "name": "stdout",
     "output_type": "stream",
     "text": [
      "eps_min 0.012999999999999994\n"
     ]
    },
    {
     "data": {
      "image/png": "[encoded data removed]",
      "text/plain": [
       "<Figure size 300x200 with 1 Axes>"
      ]
     },
     "metadata": {},
     "output_type": "display_data"
    },
    {
     "data": {
      "image/png": "[encoded data removed]",
      "text/plain": [
       "<Figure size 300x400 with 2 Axes>"
      ]
     },
     "metadata": {},
     "output_type": "display_data"
    }
   ],
   "source": [
    "quick_plot_combined(a12_p0004,\n",
    "                    kw_f={'data_list':data_p0004_list},\n",
    "                    #kw_r3d={'data_list':data_r3d_p0004_list},\n",
    "                    kw_r={'etup':etup12})"
   ]
  },
  {
   "cell_type": "markdown",
   "id": "57684ced-9075-41fd-89f0-aa80b34cbaed",
   "metadata": {},
   "source": [
    "# del=0.0005"
   ]
  },
  {
   "cell_type": "code",
   "execution_count": 59,
   "id": "f5790f91-62e9-419f-b428-0c4a49b6c3d8",
   "metadata": {},
   "outputs": [
    {
     "name": "stdout",
     "output_type": "stream",
     "text": [
      "pfactor 4\n",
      "* Loading p symbolic...\n",
      "* Loading p symbolic...\n",
      "p order=0\n",
      "p order=0\n",
      "p order=1\n",
      "p order=1\n",
      "p order=2\n",
      "p order=2\n",
      "p order=3\n",
      "p order=3\n",
      "* Loading H symbolic...\n",
      "* Loading H symbolic...\n",
      "* Computing H gw0, order=0...\n",
      "* Computing H gw1, order=0...\n",
      "* Computing H gw0, order=1...\n",
      "* Computing H gw1, order=1...\n",
      "* Computing H gw0, order=2...\n",
      "* Computing H gw1, order=2...\n",
      "* Computing H gw0, order=3...\n",
      "* Computing H gw1, order=3...\n"
     ]
    },
    {
     "name": "stdout",
     "output_type": "stream",
     "text": [
      "* Loading H symbolic...\n",
      "* Loading H symbolic...\n",
      "* Loading H gw0, order=0...\n",
      "* Loading H gw1, order=0...\n",
      "* Loading H gw0, order=1...\n",
      "* Loading H gw1, order=1...\n",
      "* Loading H gw0, order=2...\n",
      "* Loading H gw1, order=2...\n",
      "* Loading H gw0, order=3...\n",
      "* Loading H gw1, order=3...\n"
     ]
    }
   ],
   "source": [
    "del12_p0005 = .0005\n",
    "a12_p0005 = nm.nmCoupling(**kw_nm, del1=del12_p0005)"
   ]
  },
  {
   "cell_type": "markdown",
   "id": "e8664c8b-926f-4b0c-8858-e18d48a94404",
   "metadata": {},
   "source": [
    "## Get Branches Full"
   ]
  },
  {
   "cell_type": "code",
   "execution_count": 60,
   "id": "b8087cea-c978-4a80-852c-c9c0b3db9a77",
   "metadata": {},
   "outputs": [],
   "source": [
    "kw_p0005 = {'a':a12_p0005,'del1':del12_p0005,'bifdir':'bif1d_gw2/',\n",
    "            '_full_rhs':_full}"
   ]
  },
  {
   "cell_type": "code",
   "execution_count": 61,
   "id": "46900f3f-1153-4d29-aa44-b13cff24e920",
   "metadata": {},
   "outputs": [],
   "source": [
    "data_p0005_list = []"
   ]
  },
  {
   "cell_type": "code",
   "execution_count": 62,
   "id": "3642e189-3094-4a5f-b213-ba108009b330",
   "metadata": {},
   "outputs": [],
   "source": [
    "in_dicts = [dict(init=2,eps_init=0.02,eps_final=0.0005,deps=-.002),\n",
    "            dict(init=2,eps_init=0.02,eps_final=0.11,deps=.01),\n",
    "            dict(init=0,eps_init=0.025,eps_final=0.0005,deps=-.002)]"
   ]
  },
  {
   "cell_type": "code",
   "execution_count": 63,
   "id": "e782ff94-0e06-4f96-b1e8-0eed2de3a9d3",
   "metadata": {},
   "outputs": [
    {
     "name": "stdout",
     "output_type": "stream",
     "text": [
      "fname1 td_branch_init=2_nm=12_del=0.0005_ei=0.02_ef=0.0005_de=-0.002.txt\n",
      "fname2 ts_branch_init=2_nm=12_del=0.0005_ei=0.02_ef=0.0005_de=-0.002.txt\n",
      "fname1 td_branch_init=2_nm=12_del=0.0005_ei=0.02_ef=0.11_de=0.01.txt\n",
      "fname2 ts_branch_init=2_nm=12_del=0.0005_ei=0.02_ef=0.11_de=0.01.txt\n",
      "fname1 td_branch_init=0_nm=12_del=0.0005_ei=0.025_ef=0.0005_de=-0.002.txt\n",
      "fname2 ts_branch_init=0_nm=12_del=0.0005_ei=0.025_ef=0.0005_de=-0.002.txt\n"
     ]
    }
   ],
   "source": [
    "for i in range(len(in_dicts)):\n",
    "    in1 = in_dicts[i]\n",
    "    dat = follow_phase_diffs(**in1,**kw_p0005)\n",
    "    data_p0005_list.append(dat)\n",
    "fname = kw_p0005['bifdir']+'hyper_gw2_12_p0005.txt'"
   ]
  },
  {
   "cell_type": "code",
   "execution_count": 64,
   "id": "b6de9bcc-fbe5-4df8-b2fb-6e704d91333e",
   "metadata": {},
   "outputs": [],
   "source": [
    "# save hyperparameters\n",
    "hyp_inputs = np.zeros([len(in_dicts),4])\n",
    "for i in range(len(in_dicts)):\n",
    "    hyp_inputs[i,0] = in_dicts[i]['init']\n",
    "    hyp_inputs[i,1] = in_dicts[i]['eps_init']\n",
    "    hyp_inputs[i,2] = in_dicts[i]['eps_final']\n",
    "    hyp_inputs[i,3] = in_dicts[i]['deps']\n",
    "np.savetxt(fname,hyp_inputs)"
   ]
  },
  {
   "cell_type": "markdown",
   "id": "4da74d5f-9b67-419f-8706-f0f3423bfb89",
   "metadata": {},
   "source": [
    "## Get Branches 3D"
   ]
  },
  {
   "cell_type": "code",
   "execution_count": 65,
   "id": "975a23d9-8cf8-405f-842d-ca0bad19e766",
   "metadata": {},
   "outputs": [],
   "source": [
    "data_r3d_p0005_list = []"
   ]
  },
  {
   "cell_type": "code",
   "execution_count": 66,
   "id": "5d7475ce-0adf-4fd5-aab6-fe0df7bbacab",
   "metadata": {
    "scrolled": true
   },
   "outputs": [
    {
     "name": "stdout",
     "output_type": "stream",
     "text": [
      "t_diff 1.32934444970619813, Y=[ 1.32934445 -0.10084999 -0.09816996]                                              \n",
      "[ 1.3293 -0.1008 -0.0982]\n"
     ]
    },
    {
     "name": "stdout",
     "output_type": "stream",
     "text": [
      "iter=5, rel. err =3.98e-07, Y=[ 1.32934445 -0.10084999 -0.09816996]                                              \r"
     ]
    },
    {
     "name": "stdout",
     "output_type": "stream",
     "text": [
      "iter=6, rel. err =6.37e-13, Y=[ 1.32934445 -0.10084999 -0.09816996]                                              \r",
      "t_diff 1.329344449706198\n",
      "[ 1.3293 -0.1008 -0.0982]\n"
     ]
    }
   ],
   "source": [
    "# find init for this branch\n",
    "_,init = phase_lock_r3d([1.5,0,0],a12_p0005,.05,_redu_3dc)\n",
    "print(init)"
   ]
  },
  {
   "cell_type": "code",
   "execution_count": 67,
   "id": "bc1f1547-1f30-4820-8c7f-ca8ca4539aba",
   "metadata": {
    "scrolled": true
   },
   "outputs": [
    {
     "name": "stdout",
     "output_type": "stream",
     "text": [
      "eps iter 0 0.05                \n",
      "t_diff 1.32934444970619150, Y=[ 1.32934445 -0.10084999 -0.09816996]                                              \n",
      "eps iter 1 0.060000000000000005                \n",
      "t_diff 1.36003469724829629, Y=[ 1.3600347  -0.12114445 -0.1194483 ]                                              \n",
      "eps iter 2 0.07                \n",
      "t_diff 1.38377258222697511, Y=[ 1.38377258 -0.14154053 -0.1407471 ]                                              \n",
      "eps iter 3 0.08000000000000002                \n",
      "t_diff 1.40342782729701112, Y=[ 1.40342783 -0.16206342 -0.16211859]                                              \n",
      "eps iter 4 0.09000000000000001                \n",
      "t_diff 1.42063072167859943, Y=[ 1.42063072 -0.18270981 -0.18359455]                                              \n"
     ]
    },
    {
     "name": "stdout",
     "output_type": "stream",
     "text": [
      "iter=2, rel. err =2.27e-05, Y=[ 1.3600347  -0.12114445 -0.1194483 ]                                              \r",
      "iter=3, rel. err =1.47e-09, Y=[ 1.3600347  -0.12114445 -0.1194483 ]                                              \r",
      "t_diff 1.3600346972482962\n",
      "eps iter 2 0.07                \n",
      "iter=0, rel. err =3.96e-02, Y=[ 1.386199   -0.1415174  -0.14094271]                                              \r",
      "iter=1, rel. err =2.44e-03, Y=[ 1.38376677 -0.14154182 -0.14074781]                                              \r"
     ]
    },
    {
     "name": "stdout",
     "output_type": "stream",
     "text": [
      "iter=2, rel. err =5.99e-06, Y=[ 1.38377258 -0.14154053 -0.1407471 ]                                              \r"
     ]
    },
    {
     "name": "stdout",
     "output_type": "stream",
     "text": [
      "iter=3, rel. err =9.22e-11, Y=[ 1.38377258 -0.14154053 -0.1407471 ]                                              \r",
      "t_diff 1.383772582226975\n",
      "eps iter 3 0.08000000000000002                \n",
      "iter=0, rel. err =3.65e-02, Y=[ 1.4048495  -0.16204265 -0.16224315]                                              \r",
      "iter=1, rel. err =1.43e-03, Y=[ 1.40342641 -0.16206392 -0.16211893]                                              \r",
      "iter=2, rel. err =1.54e-06, Y=[ 1.40342783 -0.16206342 -0.16211859]                                              \r",
      "iter=3, rel. err =4.46e-12, Y=[ 1.40342783 -0.16206342 -0.16211859]                                              \r",
      "t_diff 1.403427827297011\n",
      "eps iter 4 0.09000000000000001                \n"
     ]
    },
    {
     "name": "stdout",
     "output_type": "stream",
     "text": [
      "iter=0, rel. err =3.49e-02, Y=[ 1.42150691 -0.18269902 -0.18368188]                                              \r",
      "iter=1, rel. err =8.81e-04, Y=[ 1.42063037 -0.18271002 -0.18359471]                                              \r",
      "iter=2, rel. err =4.42e-07, Y=[ 1.42063072 -0.18270981 -0.18359455]                                              \r",
      "iter=3, rel. err =1.56e-13, Y=[ 1.42063072 -0.18270981 -0.18359455]                                              \r",
      "t_diff 1.4206307216785994\n"
     ]
    }
   ],
   "source": [
    "# bot 1f\n",
    "dat = follow_locking_3d(init,a12_p0005,(.05,.1,.01),\n",
    "                        rhs=_redu_3dc,recompute=True)\n",
    "data_r3d_p0005_list.append(dat)"
   ]
  },
  {
   "cell_type": "code",
   "execution_count": 68,
   "id": "3a073dde-383a-4184-9fcb-2743e8721927",
   "metadata": {
    "scrolled": true
   },
   "outputs": [
    {
     "name": "stdout",
     "output_type": "stream",
     "text": [
      "eps iter 0 0.05                \n",
      "t_diff 1.32934444970619150, Y=[ 1.32934445 -0.10084999 -0.09816996]                                              \n",
      "eps iter 1 0.048                \n",
      "t_diff 1.32201232287463708, Y=[ 1.32201232 -0.09679705 -0.09391228]                                              \n",
      "eps iter 2 0.046                \n",
      "t_diff 1.31419640331788883, Y=[ 1.3141964  -0.0927438  -0.08965385]                                              \n",
      "eps iter 3 0.044                \n",
      "t_diff 1.30586411404894153, Y=[ 1.30586411 -0.08868899 -0.08539536]                                              \n",
      "eps iter 4 0.041999999999999996                \n",
      "t_diff 1.29698969350391053, Y=[ 1.29698969 -0.08463127 -0.08113811]                                              \n",
      "eps iter 5 0.039999999999999994                \n",
      "t_diff 1.28755763881343093, Y=[ 1.28755764 -0.08056931 -0.07688416]                                              \n",
      "eps iter 6 0.03799999999999999                \n",
      "t_diff 1.27756612574880313, Y=[ 1.27756613 -0.07650193 -0.07263649]                                              \n",
      "eps iter 7 0.03599999999999999                \n",
      "t_diff 1.26702977457324843, Y=[ 1.26702977 -0.07242824 -0.06839912]                                              \n",
      "eps iter 8 0.03399999999999999                \n",
      "t_diff 1.25598105641505623, Y=[ 1.25598106 -0.06834785 -0.06417704]                                              \n",
      "eps iter 9 0.03199999999999999                \n",
      "t_diff 1.24446978574790418, Y=[ 1.24446979 -0.06426095 -0.05997616]                                              \n",
      "eps iter 10 0.029999999999999985                \n",
      "t_diff 1.23256053610575888, Y=[ 1.23256054 -0.0601685  -0.05580302]                                              \n",
      "eps iter 11 0.027999999999999983                \n",
      "t_diff 1.22032833590866038, Y=[ 1.22032834 -0.05607217 -0.05166453]                                              \n",
      "eps iter 12 0.02599999999999998                \n",
      "t_diff 1.20785342953919-08, Y=[ 1.20785343 -0.05197435 -0.04756754]                                              \n",
      "eps iter 13 0.02399999999999998                \n",
      "t_diff 1.19521605210618459, Y=[ 1.19521605 -0.04787797 -0.04351858]                                              \n",
      "eps iter 14 0.021999999999999978                \n",
      "t_diff 1.18249202098956440, Y=[ 1.18249202 -0.04378634 -0.03952352]                                              \n",
      "eps iter 15 0.019999999999999976                \n",
      "t_diff 1.16974960467292839, Y=[ 1.1697496  -0.03970301 -0.03558743]                                              \n",
      "eps iter 16 0.017999999999999974                \n",
      "t_diff 1.15704775914443019, Y=[ 1.15704776 -0.03563152 -0.03171449]                                              \n",
      "eps iter 17 0.015999999999999973                \n",
      "t_diff 1.14443555024734308, Y=[ 1.14443555 -0.03157532 -0.02790797]                                              \n",
      "eps iter 18 0.01399999999999997                \n",
      "t_diff 1.1319524491583e-08, Y=[ 1.13195245 -0.02753764 -0.0241703 ]                                              \n",
      "eps iter 19 0.011999999999999969                \n",
      "t_diff 1.11962917393044078, Y=[ 1.11962917 -0.02352143 -0.0205031 ]                                              \n",
      "eps iter 20 0.009999999999999967                \n",
      "t_diff 1.10748880356270068, Y=[ 1.1074888  -0.01952932 -0.01690736]                                              \n",
      "eps iter 21 0.007999999999999965                \n",
      "t_diff 1.09554796810001338, Y=[ 1.09554797 -0.01556361 -0.01338348]                                              \n",
      "eps iter 22 0.005999999999999964                \n",
      "t_diff 1.08381799134322908, Y=[ 1.08381799 -0.0116263  -0.0099314 ]                                              \n",
      "eps iter 23 0.003999999999999962                \n",
      "t_diff 1.07230591982835208, Y=[ 1.07230592 -0.00771904 -0.00655066]                                              \n",
      "eps iter 24 0.00199999999999996                \n",
      "t_diff 1.06101541097918748, Y=[ 1.06101541 -0.00384323 -0.00324052]                                              \n"
     ]
    },
    {
     "name": "stdout",
     "output_type": "stream",
     "text": [
      "iter=0, rel. err =9.59e-03, Y=[ 1.31440833 -0.09274534 -0.08966754]                                              \r"
     ]
    },
    {
     "name": "stdout",
     "output_type": "stream",
     "text": [
      "iter=1, rel. err =2.12e-04, Y=[ 1.31419629 -0.09274381 -0.08965385]                                              \r",
      "iter=2, rel. err =1.09e-07, Y=[ 1.3141964  -0.0927438  -0.08965385]                                              \r",
      "iter=3, rel. err =3.12e-13, Y=[ 1.3141964  -0.0927438  -0.08965385]                                              \r",
      "t_diff 1.3141964033178888\n",
      "eps iter 3 0.044                \n",
      "iter=0, rel. err =1.00e-02, Y=[ 1.30609001 -0.08869137 -0.08541003]                                              \r"
     ]
    },
    {
     "name": "stdout",
     "output_type": "stream",
     "text": [
      "iter=1, rel. err =2.27e-04, Y=[ 1.30586398 -0.088689   -0.08539536]                                              \r"
     ]
    },
    {
     "name": "stdout",
     "output_type": "stream",
     "text": [
      "iter=2, rel. err =1.32e-07, Y=[ 1.30586411 -0.08868899 -0.08539536]                                              \r",
      "iter=3, rel. err =3.79e-13, Y=[ 1.30586411 -0.08868899 -0.08539536]                                              \r",
      "t_diff 1.3058641140489415\n",
      "eps iter 4 0.041999999999999996                \n",
      "iter=0, rel. err =1.05e-02, Y=[ 1.29722409 -0.08463443 -0.08115334]                                              \r",
      "iter=1, rel. err =2.35e-04, Y=[ 1.29698954 -0.08463127 -0.08113811]                                              \r"
     ]
    },
    {
     "name": "stdout",
     "output_type": "stream",
     "text": [
      "iter=2, rel. err =1.51e-07, Y=[ 1.29698969 -0.08463127 -0.08113811]                                              \r"
     ]
    },
    {
     "name": "stdout",
     "output_type": "stream",
     "text": [
      "iter=3, rel. err =4.53e-13, Y=[ 1.29698969 -0.08463127 -0.08113811]                                              \r",
      "t_diff 1.2969896935039105\n",
      "eps iter 5 0.039999999999999994                \n",
      "iter=0, rel. err =1.09e-02, Y=[ 1.28779074 -0.08057339 -0.07689953]                                              \r",
      "iter=1, rel. err =2.34e-04, Y=[ 1.28755748 -0.08056931 -0.07688415]                                              \r",
      "iter=2, rel. err =1.57e-07, Y=[ 1.28755764 -0.08056931 -0.07688416]                                              \r"
     ]
    },
    {
     "name": "stdout",
     "output_type": "stream",
     "text": [
      "iter=3, rel. err =4.79e-13, Y=[ 1.28755764 -0.08056931 -0.07688416]                                              \r"
     ]
    },
    {
     "name": "stdout",
     "output_type": "stream",
     "text": [
      "t_diff 1.2875576388134309\n",
      "eps iter 6 0.03799999999999999                \n",
      "iter=0, rel. err =1.14e-02, Y=[ 1.27780167 -0.07650687 -0.07265213]                                              \r",
      "iter=1, rel. err =2.36e-04, Y=[ 1.27756596 -0.07650193 -0.07263649]                                              \r",
      "iter=2, rel. err =1.68e-07, Y=[ 1.27756613 -0.07650193 -0.07263649]                                              \r",
      "iter=3, rel. err =5.37e-13, Y=[ 1.27756613 -0.07650193 -0.07263649]                                              \r",
      "t_diff 1.277566125748803\n",
      "eps iter 7 0.03599999999999999                \n"
     ]
    },
    {
     "name": "stdout",
     "output_type": "stream",
     "text": [
      "iter=0, rel. err =1.19e-02, Y=[ 1.26724907 -0.07243404 -0.06841416]                                              \r",
      "iter=1, rel. err =2.20e-04, Y=[ 1.26702962 -0.07242825 -0.06839912]                                              \r",
      "iter=2, rel. err =1.50e-07, Y=[ 1.26702977 -0.07242824 -0.06839912]                                              \r",
      "iter=3, rel. err =5.08e-13, Y=[ 1.26702977 -0.07242824 -0.06839912]                                              \r",
      "t_diff 1.2670297745732484\n",
      "eps iter 8 0.03399999999999999                \n",
      "iter=0, rel. err =1.23e-02, Y=[ 1.25618209 -0.06835432 -0.06419129]                                              \r"
     ]
    },
    {
     "name": "stdout",
     "output_type": "stream",
     "text": [
      "iter=1, rel. err =2.02e-04, Y=[ 1.25598093 -0.06834785 -0.06417704]                                              \r",
      "iter=2, rel. err =1.30e-07, Y=[ 1.25598106 -0.06834785 -0.06417704]                                              \r",
      "iter=3, rel. err =4.66e-13, Y=[ 1.25598106 -0.06834785 -0.06417704]                                              \r",
      "t_diff 1.2559810564150562\n",
      "eps iter 9 0.03199999999999999                \n",
      "iter=0, rel. err =1.28e-02, Y=[ 1.24464341 -0.06426803 -0.05998929]                                              \r",
      "iter=1, rel. err =1.74e-04, Y=[ 1.24446969 -0.06426095 -0.05997616]                                              \r"
     ]
    },
    {
     "name": "stdout",
     "output_type": "stream",
     "text": [
      "iter=2, rel. err =9.72e-08, Y=[ 1.24446979 -0.06426095 -0.05997616]                                              \r",
      "t_diff 1.2444697857479041\n",
      "eps iter 10 0.029999999999999985                \n",
      "iter=0, rel. err =1.32e-02, Y=[ 1.2327099  -0.06017572 -0.05581489]                                              \r",
      "iter=1, rel. err =1.50e-04, Y=[ 1.23256046 -0.0601685  -0.05580302]                                              \r",
      "iter=2, rel. err =7.21e-08, Y=[ 1.23256054 -0.0601685  -0.05580302]                                              \r",
      "t_diff 1.2325605361057588\n",
      "eps iter 11 0.027999999999999983                \n",
      "iter=0, rel. err =1.35e-02, Y=[ 1.22044057 -0.05607938 -0.05167466]                                              \r"
     ]
    },
    {
     "name": "stdout",
     "output_type": "stream",
     "text": [
      "iter=1, rel. err =1.13e-04, Y=[ 1.2203283  -0.05607217 -0.05166453]                                              \r",
      "iter=2, rel. err =3.91e-08, Y=[ 1.22032834 -0.05607217 -0.05166453]                                              \r",
      "t_diff 1.2203283359086603\n",
      "eps iter 12 0.02599999999999998                \n",
      "iter=0, rel. err =1.37e-02, Y=[ 1.20793481 -0.05198125 -0.04757607]                                              \r",
      "iter=1, rel. err =8.21e-05, Y=[ 1.20785341 -0.05197435 -0.04756754]                                              \r",
      "iter=2, rel. err =1.92e-08, Y=[ 1.20785343 -0.05197435 -0.04756754]                                              \r",
      "t_diff 1.20785342953919\n",
      "eps iter 13 0.02399999999999998                \n"
     ]
    },
    {
     "name": "stdout",
     "output_type": "stream",
     "text": [
      "iter=0, rel. err =1.39e-02, Y=[ 1.19526044 -0.04788447 -0.04352541]                                              \r",
      "iter=1, rel. err =4.54e-05, Y=[ 1.19521605 -0.04787797 -0.04351858]                                              \r",
      "iter=2, rel. err =4.26e-09, Y=[ 1.19521605 -0.04787797 -0.04351858]                                              \r",
      "t_diff 1.1952160521061845\n",
      "eps iter 14 0.021999999999999978                \n",
      "iter=0, rel. err =1.39e-02, Y=[ 1.18250585 -0.04379213 -0.03952874]                                              \r",
      "iter=1, rel. err =1.59e-05, Y=[ 1.18249202 -0.04378634 -0.03952352]                                              \r"
     ]
    },
    {
     "name": "stdout",
     "output_type": "stream",
     "text": [
      "iter=2, rel. err =1.47e-10, Y=[ 1.18249202 -0.04378634 -0.03952352]                                              \r",
      "t_diff 1.1824920209895644\n",
      "eps iter 15 0.019999999999999976                \n",
      "iter=0, rel. err =1.40e-02, Y=[ 1.16973534 -0.03970811 -0.0355913 ]                                              \r",
      "iter=1, rel. err =1.56e-05, Y=[ 1.1697496  -0.03970301 -0.03558743]                                              \r",
      "iter=2, rel. err =1.87e-09, Y=[ 1.1697496  -0.03970301 -0.03558743]                                              \r",
      "t_diff 1.1697496046729283\n",
      "eps iter 16 0.017999999999999974                \n",
      "iter=0, rel. err =1.39e-02, Y=[ 1.15701515 -0.03563588 -0.03171733]                                              \r"
     ]
    },
    {
     "name": "stdout",
     "output_type": "stream",
     "text": [
      "iter=1, rel. err =3.30e-05, Y=[ 1.15704775 -0.03563152 -0.03171449]                                              \r",
      "iter=2, rel. err =6.10e-09, Y=[ 1.15704776 -0.03563152 -0.03171449]                                              \r",
      "t_diff 1.1570477591444301\n",
      "eps iter 17 0.015999999999999973                \n",
      "iter=0, rel. err =1.38e-02, Y=[ 1.1443824  -0.03157894 -0.02790985]                                              \r",
      "iter=1, rel. err =5.33e-05, Y=[ 1.14443554 -0.03157532 -0.02790797]                                              \r",
      "iter=2, rel. err =1.35e-08, Y=[ 1.14443555 -0.03157532 -0.02790797]                                              \r",
      "t_diff 1.144435550247343\n",
      "eps iter 18 0.01399999999999997                \n"
     ]
    },
    {
     "name": "stdout",
     "output_type": "stream",
     "text": [
      "iter=0, rel. err =1.37e-02, Y=[ 1.13189187 -0.02754058 -0.0241716 ]                                              \r",
      "iter=1, rel. err =6.06e-05, Y=[ 1.13195243 -0.02753764 -0.0241703 ]                                              \r",
      "iter=2, rel. err =1.63e-08, Y=[ 1.13195245 -0.02753764 -0.0241703 ]                                              \r",
      "t_diff 1.131952449158\n",
      "eps iter 19 0.011999999999999969                \n",
      "iter=0, rel. err =1.36e-02, Y=[ 1.11955128 -0.02352379 -0.02050381]                                              \r",
      "iter=1, rel. err =7.79e-05, Y=[ 1.11962915 -0.02352143 -0.0205031 ]                                              \r"
     ]
    },
    {
     "name": "stdout",
     "output_type": "stream",
     "text": [
      "iter=2, rel. err =2.52e-08, Y=[ 1.11962917 -0.02352143 -0.0205031 ]                                              \r",
      "t_diff 1.1196291739304407\n",
      "eps iter 20 0.009999999999999967                \n",
      "iter=0, rel. err =1.33e-02, Y=[ 1.10740945 -0.01953109 -0.01690776]                                              \r",
      "iter=1, rel. err =7.94e-05, Y=[ 1.10748878 -0.01952932 -0.01690736]                                              \r",
      "iter=2, rel. err =2.49e-08, Y=[ 1.1074888  -0.01952932 -0.01690736]                                              \r",
      "t_diff 1.1074888035627006\n",
      "eps iter 21 0.007999999999999965                \n",
      "iter=0, rel. err =1.31e-02, Y=[ 1.09546262 -0.0155649  -0.01338363]                                              \r"
     ]
    },
    {
     "name": "stdout",
     "output_type": "stream",
     "text": [
      "iter=1, rel. err =8.53e-05, Y=[ 1.09554794 -0.01556361 -0.01338348]                                              \r",
      "iter=2, rel. err =2.76e-08, Y=[ 1.09554797 -0.01556361 -0.01338348]                                              \r",
      "t_diff 1.0955479681000133\n",
      "eps iter 22 0.005999999999999964                \n",
      "iter=0, rel. err =1.29e-02, Y=[ 1.08373974 -0.01162717 -0.00993148]                                              \r",
      "iter=1, rel. err =7.82e-05, Y=[ 1.08381797 -0.0116263  -0.0099314 ]                                              \r",
      "iter=2, rel. err =2.24e-08, Y=[ 1.08381799 -0.0116263  -0.0099314 ]                                              \r",
      "t_diff 1.083817991343229\n",
      "eps iter 23 0.003999999999999962                \n"
     ]
    },
    {
     "name": "stdout",
     "output_type": "stream",
     "text": [
      "iter=0, rel. err =1.27e-02, Y=[ 1.07222045 -0.00771956 -0.00655062]                                              \r",
      "iter=1, rel. err =8.54e-05, Y=[ 1.07230589 -0.00771904 -0.00655066]                                              \r",
      "iter=2, rel. err =2.57e-08, Y=[ 1.07230592 -0.00771904 -0.00655066]                                              \r",
      "t_diff 1.072305919828352\n",
      "eps iter 24 0.00199999999999996                \n",
      "iter=0, rel. err =1.25e-02, Y=[ 1.06093289 -0.00384347 -0.00324049]                                              \r",
      "iter=1, rel. err =8.25e-05, Y=[ 1.06101539 -0.00384323 -0.00324052]                                              \r"
     ]
    },
    {
     "name": "stdout",
     "output_type": "stream",
     "text": [
      "iter=2, rel. err =2.32e-08, Y=[ 1.06101541 -0.00384323 -0.00324052]                                              \r",
      "t_diff 1.0610154109791874\n"
     ]
    }
   ],
   "source": [
    "# bot 1b\n",
    "dat = follow_locking_3d(init,a12_p0005,(.05,.001,-.002),\n",
    "                        rhs=_redu_3dc,recompute=True)\n",
    "data_r3d_p0005_list.append(dat)"
   ]
  },
  {
   "cell_type": "code",
   "execution_count": 69,
   "id": "f2f37a9f-b70c-4b00-bac3-7c28ebeae048",
   "metadata": {},
   "outputs": [
    {
     "name": "stdout",
     "output_type": "stream",
     "text": [
      "t_diff 2.85417418478798851, Y=[2.85417418 0.00499587 0.0064883 ]                                                 \n"
     ]
    },
    {
     "name": "stdout",
     "output_type": "stream",
     "text": [
      "iter=5, rel. err =1.17e-05, Y=[2.85417418 0.00499587 0.0064883 ]                                              \r",
      "iter=6, rel. err =5.62e-11, Y=[2.85417418 0.00499587 0.0064883 ]                                              \r",
      "t_diff 2.8541741847879885\n"
     ]
    }
   ],
   "source": [
    "# find init for this branch\n",
    "_,init = phase_lock_r3d([1.7,0,0], a12_p0005, .02, \n",
    "                        _redu_3dc,maxiter=1000)"
   ]
  },
  {
   "cell_type": "code",
   "execution_count": 70,
   "id": "2fc14892-c1e2-4cfa-91d6-20cc17d76cbd",
   "metadata": {
    "scrolled": true
   },
   "outputs": [
    {
     "name": "stdout",
     "output_type": "stream",
     "text": [
      "eps iter 0 0.02                \n",
      "t_diff 2.85417418478798811, Y=[2.85417418 0.00499587 0.0064883 ]                                              \n",
      "eps iter 1 0.022                \n",
      "t_diff 2.85402475877803108, Y=[2.85402476 0.00549965 0.00714176]                                              \n",
      "eps iter 2 0.023999999999999997                \n",
      "t_diff 2.85387502910684188, Y=[2.85387503 0.0060042  0.00779609]                                              \n",
      "eps iter 3 0.025999999999999995                \n",
      "t_diff 2.85372499512930848, Y=[2.853725   0.00650953 0.00845126]                                              \n",
      "eps iter 4 0.027999999999999994                \n",
      "t_diff 2.85357465619210838, Y=[2.85357466 0.00701562 0.00910729]                                              \n",
      "eps iter 5 0.029999999999999992                \n",
      "t_diff 2.85342401163363458, Y=[2.85342401 0.00752249 0.00976418]                                              \n",
      "eps iter 6 0.03199999999999999                \n",
      "t_diff 2.85327306078344308, Y=[2.85327306 0.00803014 0.01042192]                                              \n",
      "eps iter 7 0.03399999999999999                \n",
      "t_diff 2.85312180296259138, Y=[2.8531218  0.00853856 0.01108053]                                              \n",
      "eps iter 8 0.03599999999999999                \n",
      "t_diff 2.85297023748330248, Y=[2.85297024 0.00904777 0.01174   ]                                              \n",
      "eps iter 9 0.037999999999999985                \n",
      "t_diff 2.85281836364851308, Y=[2.85281836 0.00955775 0.01240033]                                              \n",
      "eps iter 10 0.03999999999999998                \n",
      "t_diff 2.85266618075181068, Y=[2.85266618 0.01006852 0.01306153]                                              \n",
      "eps iter 11 0.04199999999999998                \n",
      "t_diff 2.85251368807699408, Y=[2.85251369 0.01058008 0.0137236 ]                                              \n",
      "eps iter 12 0.043999999999999984                \n",
      "t_diff 2.85236088489753-08, Y=[2.85236088 0.01109242 0.01438655]                                              \n",
      "eps iter 13 0.04599999999999998                \n",
      "t_diff 2.85220777047680908, Y=[2.85220777 0.01160555 0.01505036]                                              \n",
      "eps iter 14 0.04799999999999997                \n",
      "t_diff 2.85205434406756548, Y=[2.85205434 0.01211948 0.01571505]                                              \n",
      "eps iter 15 0.049999999999999975                \n",
      "t_diff 2.85190060491177408, Y=[2.8519006  0.01263419 0.01638062]                                              \n",
      "eps iter 16 0.05199999999999998                \n",
      "t_diff 2.85174655224025748, Y=[2.85174655 0.01314971 0.01704706]                                              \n",
      "eps iter 17 0.05399999999999998                \n",
      "t_diff 2.85159218527247978, Y=[2.85159219 0.01366601 0.01771439]                                              \n",
      "eps iter 18 0.055999999999999966                \n",
      "t_diff 2.85143750321613258, Y=[2.8514375  0.01418312 0.0183826 ]                                              \n",
      "eps iter 19 0.05799999999999997                \n",
      "t_diff 2.85128250526684608, Y=[2.85128251 0.01470103 0.0190517 ]                                              \n",
      "eps iter 20 0.05999999999999997                \n",
      "t_diff 2.85112719060900378, Y=[2.85112719 0.01521974 0.01972168]                                              \n",
      "eps iter 21 0.06199999999999997                \n",
      "t_diff 2.85097155841408078, Y=[2.85097156 0.01573925 0.02039255]                                              \n",
      "eps iter 22 0.06399999999999996                \n",
      "t_diff 2.85081560784114358, Y=[2.85081561 0.01625957 0.02106432]                                              \n",
      "eps iter 23 0.06599999999999996                \n",
      "t_diff 2.85065933803628378, Y=[2.85065934 0.01678069 0.02173697]                                              \n",
      "eps iter 24 0.06799999999999996                \n",
      "t_diff 2.85050274812948258, Y=[2.85050275 0.01730263 0.02241053]                                              \n",
      "eps iter 25 0.06999999999999997                \n",
      "t_diff 2.85034583723753088, Y=[2.85034584 0.01782538 0.02308498]                                              \n",
      "eps iter 26 0.07199999999999995                \n",
      "t_diff 2.85018860446248078, Y=[2.8501886  0.01834894 0.02376033]                                              \n",
      "eps iter 27 0.07399999999999995                \n",
      "t_diff 2.85003104889123408, Y=[2.85003105 0.01887332 0.02443658]                                              \n",
      "eps iter 28 0.07599999999999996                \n",
      "t_diff 2.84987316959917978, Y=[2.84987317 0.01939851 0.02511374]                                              \n",
      "eps iter 29 0.07799999999999996                \n",
      "t_diff 2.84971496564550858, Y=[2.84971497 0.01992453 0.0257918 ]                                              \n",
      "eps iter 30 0.07999999999999995                \n",
      "t_diff 2.84955643607419308, Y=[2.84955644 0.02045136 0.02647077]                                              \n",
      "eps iter 31 0.08199999999999995                \n",
      "t_diff 2.84939757991373549, Y=[2.84939758 0.02097902 0.02715065]                                              \n",
      "eps iter 32 0.08399999999999995                \n",
      "t_diff 2.84923839617422348, Y=[2.8492384  0.02150751 0.02783145]                                              \n",
      "eps iter 33 0.08599999999999995                \n",
      "t_diff 2.84907888384983908, Y=[2.84907888 0.02203682 0.02851315]                                              \n",
      "eps iter 34 0.08799999999999995                \n",
      "t_diff 2.84891904191761658, Y=[2.84891904 0.02256696 0.02919578]                                              \n",
      "eps iter 35 0.08999999999999994                \n",
      "t_diff 2.84875886933695108, Y=[2.84875887 0.02309793 0.02987932]                                              \n",
      "eps iter 36 0.09199999999999994                \n",
      "t_diff 2.84859836504943-08, Y=[2.84859837 0.02362974 0.03056379]                                              \n",
      "eps iter 37 0.09399999999999994                \n",
      "t_diff 2.84843752797826178, Y=[2.84843753 0.02416238 0.03124918]                                              \n",
      "eps iter 38 0.09599999999999993                \n",
      "t_diff 2.84827635702738528, Y=[2.84827636 0.02469585 0.0319355 ]                                              \n",
      "eps iter 39 0.09799999999999993                \n",
      "t_diff 2.84811485108225908, Y=[2.84811485 0.02523017 0.03262274]                                              \n"
     ]
    },
    {
     "name": "stdout",
     "output_type": "stream",
     "text": [
      "iter=1, rel. err =2.15e-08, Y=[2.85402476 0.00549965 0.00714176]                                              \r",
      "t_diff 2.854024758778031\n",
      "eps iter 2 0.023999999999999997                \n"
     ]
    },
    {
     "name": "stdout",
     "output_type": "stream",
     "text": [
      "iter=0, rel. err =8.69e-04, Y=[2.85387497 0.0060042  0.00779609]                                              \r",
      "iter=1, rel. err =5.69e-08, Y=[2.85387503 0.0060042  0.00779609]                                              \r",
      "t_diff 2.8538750291068418\n",
      "eps iter 3 0.025999999999999995                \n",
      "iter=0, rel. err =8.45e-04, Y=[2.85372497 0.00650953 0.00845126]                                              \r"
     ]
    },
    {
     "name": "stdout",
     "output_type": "stream",
     "text": [
      "iter=1, rel. err =2.37e-08, Y=[2.853725   0.00650953 0.00845126]                                              \r",
      "t_diff 2.8537249951293084\n",
      "eps iter 4 0.027999999999999994                \n",
      "iter=0, rel. err =8.06e-04, Y=[2.85357462 0.00701562 0.00910729]                                              \r"
     ]
    },
    {
     "name": "stdout",
     "output_type": "stream",
     "text": [
      "iter=1, rel. err =3.48e-08, Y=[2.85357466 0.00701562 0.00910729]                                              \r",
      "t_diff 2.8535746561921083\n",
      "eps iter 5 0.029999999999999992                \n"
     ]
    },
    {
     "name": "stdout",
     "output_type": "stream",
     "text": [
      "iter=0, rel. err =8.63e-04, Y=[2.85342399 0.00752249 0.00976417]                                              \r",
      "iter=1, rel. err =2.60e-08, Y=[2.85342401 0.00752249 0.00976418]                                              \r",
      "t_diff 2.8534240116336345\n",
      "eps iter 6 0.03199999999999999                \n"
     ]
    },
    {
     "name": "stdout",
     "output_type": "stream",
     "text": [
      "iter=0, rel. err =8.27e-04, Y=[2.85327302 0.00803014 0.01042192]                                              \r",
      "iter=1, rel. err =3.72e-08, Y=[2.85327306 0.00803014 0.01042192]                                              \r",
      "t_diff 2.853273060783443\n",
      "eps iter 7 0.03399999999999999                \n"
     ]
    },
    {
     "name": "stdout",
     "output_type": "stream",
     "text": [
      "iter=0, rel. err =8.86e-04, Y=[2.85312177 0.00853856 0.01108053]                                              \r"
     ]
    },
    {
     "name": "stdout",
     "output_type": "stream",
     "text": [
      "iter=1, rel. err =2.85e-08, Y=[2.8531218  0.00853856 0.01108053]                                              \r",
      "t_diff 2.8531218029625913\n",
      "eps iter 8 0.03599999999999999                \n",
      "iter=0, rel. err =8.52e-04, Y=[2.8529702  0.00904777 0.01174   ]                                              \r"
     ]
    },
    {
     "name": "stdout",
     "output_type": "stream",
     "text": [
      "iter=1, rel. err =3.98e-08, Y=[2.85297024 0.00904777 0.01174   ]                                              \r",
      "t_diff 2.8529702374833024\n",
      "eps iter 9 0.037999999999999985                \n",
      "iter=0, rel. err =9.14e-04, Y=[2.85281833 0.00955775 0.01240033]                                              \r"
     ]
    },
    {
     "name": "stdout",
     "output_type": "stream",
     "text": [
      "iter=1, rel. err =3.13e-08, Y=[2.85281836 0.00955775 0.01240033]                                              \r",
      "t_diff 2.852818363648513\n",
      "eps iter 10 0.03999999999999998                \n"
     ]
    },
    {
     "name": "stdout",
     "output_type": "stream",
     "text": [
      "iter=0, rel. err =8.22e-04, Y=[2.85266614 0.01006852 0.01306153]                                              \r",
      "iter=1, rel. err =4.48e-08, Y=[2.85266618 0.01006852 0.01306153]                                              \r",
      "t_diff 2.8526661807518106\n",
      "eps iter 11 0.04199999999999998                \n"
     ]
    },
    {
     "name": "stdout",
     "output_type": "stream",
     "text": [
      "iter=0, rel. err =8.09e-04, Y=[2.85251368 0.01058008 0.0137236 ]                                              \r",
      "iter=1, rel. err =1.31e-08, Y=[2.85251369 0.01058008 0.0137236 ]                                              \r",
      "t_diff 2.852513688076994\n",
      "eps iter 12 0.043999999999999984                \n"
     ]
    },
    {
     "name": "stdout",
     "output_type": "stream",
     "text": [
      "iter=0, rel. err =8.56e-04, Y=[2.85236084 0.01109242 0.01438654]                                              \r"
     ]
    },
    {
     "name": "stdout",
     "output_type": "stream",
     "text": [
      "iter=1, rel. err =4.88e-08, Y=[2.85236088 0.01109242 0.01438655]                                              \r",
      "t_diff 2.85236088489753\n",
      "eps iter 13 0.04599999999999998                \n",
      "iter=0, rel. err =8.46e-04, Y=[2.85220775 0.01160555 0.01505036]                                              \r"
     ]
    },
    {
     "name": "stdout",
     "output_type": "stream",
     "text": [
      "iter=1, rel. err =1.55e-08, Y=[2.85220777 0.01160555 0.01505036]                                              \r",
      "t_diff 2.852207770476809\n",
      "eps iter 14 0.04799999999999997                \n",
      "iter=0, rel. err =8.18e-04, Y=[2.85205431 0.01211948 0.01571505]                                              \r"
     ]
    },
    {
     "name": "stdout",
     "output_type": "stream",
     "text": [
      "iter=1, rel. err =2.94e-08, Y=[2.85205434 0.01211948 0.01571505]                                              \r",
      "t_diff 2.8520543440675654\n",
      "eps iter 15 0.049999999999999975                \n"
     ]
    },
    {
     "name": "stdout",
     "output_type": "stream",
     "text": [
      "iter=0, rel. err =8.88e-04, Y=[2.85190059 0.01263419 0.01638062]                                              \r",
      "iter=1, rel. err =1.81e-08, Y=[2.8519006  0.01263419 0.01638062]                                              \r",
      "t_diff 2.851900604911774\n",
      "eps iter 16 0.05199999999999998                \n"
     ]
    },
    {
     "name": "stdout",
     "output_type": "stream",
     "text": [
      "iter=0, rel. err =8.63e-04, Y=[2.85174652 0.01314971 0.01704706]                                              \r",
      "iter=1, rel. err =3.24e-08, Y=[2.85174655 0.01314971 0.01704706]                                              \r",
      "t_diff 2.8517465522402574\n",
      "eps iter 17 0.05399999999999998                \n"
     ]
    },
    {
     "name": "stdout",
     "output_type": "stream",
     "text": [
      "iter=0, rel. err =9.18e-04, Y=[2.85159211 0.01366602 0.01771439]                                              \r"
     ]
    },
    {
     "name": "stdout",
     "output_type": "stream",
     "text": [
      "iter=1, rel. err =7.21e-08, Y=[2.85159219 0.01366601 0.01771439]                                              \r",
      "t_diff 2.8515921852724797\n",
      "eps iter 18 0.055999999999999966                \n",
      "iter=0, rel. err =8.52e-04, Y=[2.85143747 0.01418312 0.0183826 ]                                              \r"
     ]
    },
    {
     "name": "stdout",
     "output_type": "stream",
     "text": [
      "iter=1, rel. err =3.56e-08, Y=[2.8514375  0.01418312 0.0183826 ]                                              \r",
      "t_diff 2.8514375032161325\n",
      "eps iter 19 0.05799999999999997                \n",
      "iter=0, rel. err =8.30e-04, Y=[2.85128245 0.01470103 0.0190517 ]                                              \r"
     ]
    },
    {
     "name": "stdout",
     "output_type": "stream",
     "text": [
      "iter=1, rel. err =5.23e-08, Y=[2.85128251 0.01470103 0.0190517 ]                                              \r",
      "t_diff 2.851282505266846\n",
      "eps iter 20 0.05999999999999997                \n",
      "iter=0, rel. err =8.29e-04, Y=[2.85112717 0.01521974 0.01972168]                                              \r"
     ]
    },
    {
     "name": "stdout",
     "output_type": "stream",
     "text": [
      "iter=1, rel. err =1.93e-08, Y=[2.85112719 0.01521974 0.01972168]                                              \r",
      "t_diff 2.8511271906090037\n",
      "eps iter 21 0.06199999999999997                \n",
      "iter=0, rel. err =8.87e-04, Y=[2.8509715  0.01573925 0.02039255]                                              \r"
     ]
    },
    {
     "name": "stdout",
     "output_type": "stream",
     "text": [
      "iter=1, rel. err =5.74e-08, Y=[2.85097156 0.01573925 0.02039255]                                              \r",
      "t_diff 2.8509715584140807\n",
      "eps iter 22 0.06399999999999996                \n"
     ]
    },
    {
     "name": "stdout",
     "output_type": "stream",
     "text": [
      "iter=0, rel. err =8.88e-04, Y=[2.85081559 0.01625957 0.02106431]                                              \r",
      "iter=1, rel. err =2.20e-08, Y=[2.85081561 0.01625957 0.02106432]                                              \r",
      "t_diff 2.8508156078411435\n",
      "eps iter 23 0.06599999999999996                \n"
     ]
    },
    {
     "name": "stdout",
     "output_type": "stream",
     "text": [
      "iter=0, rel. err =8.10e-04, Y=[2.8506593  0.01678069 0.02173697]                                              \r",
      "iter=1, rel. err =3.82e-08, Y=[2.85065934 0.01678069 0.02173697]                                              \r",
      "t_diff 2.8506593380362837\n",
      "eps iter 24 0.06799999999999996                \n"
     ]
    },
    {
     "name": "stdout",
     "output_type": "stream",
     "text": [
      "iter=0, rel. err =8.92e-04, Y=[2.85050273 0.01730263 0.02241052]                                              \r"
     ]
    },
    {
     "name": "stdout",
     "output_type": "stream",
     "text": [
      "iter=1, rel. err =2.23e-08, Y=[2.85050275 0.01730263 0.02241053]                                              \r",
      "t_diff 2.8505027481294825\n",
      "eps iter 25 0.06999999999999997                \n",
      "iter=0, rel. err =8.77e-04, Y=[2.85034579 0.01782538 0.02308497]                                              \r",
      "iter=1, rel. err =4.29e-08, Y=[2.85034584 0.01782538 0.02308498]                                              \r",
      "t_diff 2.8503458372375308\n",
      "eps iter 26 0.07199999999999995                \n"
     ]
    },
    {
     "name": "stdout",
     "output_type": "stream",
     "text": [
      "iter=0, rel. err =8.66e-04, Y=[2.85018855 0.01834894 0.02376033]                                              \r"
     ]
    },
    {
     "name": "stdout",
     "output_type": "stream",
     "text": [
      "iter=1, rel. err =5.59e-08, Y=[2.8501886  0.01834894 0.02376033]                                              \r",
      "t_diff 2.8501886044624807\n",
      "eps iter 27 0.07399999999999995                \n"
     ]
    },
    {
     "name": "stdout",
     "output_type": "stream",
     "text": [
      "iter=0, rel. err =8.73e-04, Y=[2.85003103 0.01887332 0.02443658]                                              \r",
      "iter=1, rel. err =2.07e-08, Y=[2.85003105 0.01887332 0.02443658]                                              \r",
      "t_diff 2.850031048891234\n",
      "eps iter 28 0.07599999999999996                \n",
      "iter=0, rel. err =8.80e-04, Y=[2.84987311 0.01939851 0.02511373]                                              \r"
     ]
    },
    {
     "name": "stdout",
     "output_type": "stream",
     "text": [
      "iter=1, rel. err =6.31e-08, Y=[2.84987317 0.01939851 0.02511374]                                              \r",
      "t_diff 2.8498731695991797\n",
      "eps iter 29 0.07799999999999996                \n"
     ]
    },
    {
     "name": "stdout",
     "output_type": "stream",
     "text": [
      "iter=0, rel. err =8.88e-04, Y=[2.84971494 0.01992453 0.0257918 ]                                              \r"
     ]
    },
    {
     "name": "stdout",
     "output_type": "stream",
     "text": [
      "iter=1, rel. err =2.78e-08, Y=[2.84971497 0.01992453 0.0257918 ]                                              \r",
      "t_diff 2.8497149656455085\n",
      "eps iter 30 0.07999999999999995                \n",
      "iter=0, rel. err =8.80e-04, Y=[2.84955639 0.02045136 0.02647077]                                              \r"
     ]
    },
    {
     "name": "stdout",
     "output_type": "stream",
     "text": [
      "iter=1, rel. err =4.43e-08, Y=[2.84955644 0.02045136 0.02647077]                                              \r",
      "t_diff 2.849556436074193\n",
      "eps iter 31 0.08199999999999995                \n",
      "iter=0, rel. err =8.33e-04, Y=[2.84939757 0.02097902 0.02715065]                                              \r"
     ]
    },
    {
     "name": "stdout",
     "output_type": "stream",
     "text": [
      "iter=1, rel. err =8.21e-09, Y=[2.84939758 0.02097902 0.02715065]                                              \r",
      "t_diff 2.8493975799137354\n",
      "eps iter 32 0.08399999999999995                \n"
     ]
    },
    {
     "name": "stdout",
     "output_type": "stream",
     "text": [
      "iter=0, rel. err =8.26e-04, Y=[2.84923837 0.02150751 0.02783144]                                              \r",
      "iter=1, rel. err =2.72e-08, Y=[2.8492384  0.02150751 0.02783145]                                              \r",
      "t_diff 2.8492383961742234\n",
      "eps iter 33 0.08599999999999995                \n"
     ]
    },
    {
     "name": "stdout",
     "output_type": "stream",
     "text": [
      "iter=0, rel. err =9.01e-04, Y=[2.84907882 0.02203682 0.02851315]                                              \r",
      "iter=1, rel. err =6.80e-08, Y=[2.84907888 0.02203682 0.02851315]                                              \r",
      "t_diff 2.849078883849839\n",
      "eps iter 34 0.08799999999999995                \n"
     ]
    },
    {
     "name": "stdout",
     "output_type": "stream",
     "text": [
      "iter=0, rel. err =9.16e-04, Y=[2.84891901 0.02256696 0.02919578]                                              \r"
     ]
    },
    {
     "name": "stdout",
     "output_type": "stream",
     "text": [
      "iter=1, rel. err =3.12e-08, Y=[2.84891904 0.02256696 0.02919578]                                              \r",
      "t_diff 2.8489190419176165\n",
      "eps iter 35 0.08999999999999994                \n",
      "iter=0, rel. err =8.54e-04, Y=[2.84875882 0.02309793 0.02987932]                                              \r"
     ]
    },
    {
     "name": "stdout",
     "output_type": "stream",
     "text": [
      "iter=1, rel. err =4.81e-08, Y=[2.84875887 0.02309793 0.02987932]                                              \r",
      "t_diff 2.848758869336951\n",
      "eps iter 36 0.09199999999999994                \n",
      "iter=0, rel. err =8.73e-04, Y=[2.84859835 0.02362973 0.03056379]                                              \r"
     ]
    },
    {
     "name": "stdout",
     "output_type": "stream",
     "text": [
      "iter=1, rel. err =1.30e-08, Y=[2.84859837 0.02362974 0.03056379]                                              \r",
      "t_diff 2.84859836504943\n",
      "eps iter 37 0.09399999999999994                \n"
     ]
    },
    {
     "name": "stdout",
     "output_type": "stream",
     "text": [
      "iter=0, rel. err =8.74e-04, Y=[2.8484375  0.02416238 0.03124918]                                              \r",
      "iter=1, rel. err =2.83e-08, Y=[2.84843753 0.02416238 0.03124918]                                              \r",
      "t_diff 2.8484375279782617\n",
      "eps iter 38 0.09599999999999993                \n"
     ]
    },
    {
     "name": "stdout",
     "output_type": "stream",
     "text": [
      "iter=0, rel. err =8.96e-04, Y=[2.84827629 0.02469585 0.03193549]                                              \r",
      "iter=1, rel. err =7.02e-08, Y=[2.84827636 0.02469585 0.0319355 ]                                              \r",
      "t_diff 2.8482763570273852\n",
      "eps iter 39 0.09799999999999993                \n"
     ]
    },
    {
     "name": "stdout",
     "output_type": "stream",
     "text": [
      "iter=0, rel. err =9.15e-04, Y=[2.84811482 0.02523017 0.03262274]                                              \r"
     ]
    },
    {
     "name": "stdout",
     "output_type": "stream",
     "text": [
      "iter=1, rel. err =3.38e-08, Y=[2.84811485 0.02523017 0.03262274]                                              \r",
      "t_diff 2.848114851082259\n"
     ]
    }
   ],
   "source": [
    "# top 1f\n",
    "dat = follow_locking_3d(init,a12_p0005,(.02,.1,.002),\n",
    "                        rhs=_redu_3dc,recompute=True)\n",
    "data_r3d_p0005_list.append(dat)"
   ]
  },
  {
   "cell_type": "code",
   "execution_count": 71,
   "id": "2edab4c2-d998-49b2-9b63-a777abded381",
   "metadata": {
    "scrolled": true
   },
   "outputs": [
    {
     "name": "stdout",
     "output_type": "stream",
     "text": [
      "eps iter 0 0.02                \n",
      "t_diff 2.85417418478798811, Y=[2.85417418 0.00499587 0.0064883 ]                                              \n",
      "eps iter 1 0.018000000000000002                \n",
      "t_diff 2.85432330777373188, Y=[2.85432331 0.00449286 0.00583568]                                              \n",
      "eps iter 2 0.016000000000000004                \n",
      "t_diff 2.85447212836488708, Y=[2.85447213 0.00399061 0.0051839 ]                                              \n",
      "eps iter 3 0.014000000000000005                \n",
      "t_diff 2.85462064718354908, Y=[2.85462065 0.00348913 0.00453298]                                              \n",
      "eps iter 4 0.012000000000000007                \n",
      "t_diff 2.85476886484471408, Y=[2.85476886 0.00298841 0.00388289]                                              \n",
      "eps iter 5 0.010000000000000009                \n",
      "t_diff 2.85491678195632308, Y=[2.85491678e+00 2.48844804e-03 3.23364981e-03]                                              \n",
      "eps iter 6 0.00800000000000001                \n",
      "t_diff 2.85506439911957258, Y=[2.85506440e+00 1.98924726e-03 2.58524776e-03]                                              \n",
      "eps iter 7 0.006000000000000012                \n",
      "t_diff 2.85521171692892448, Y=[2.85521172e+00 1.49080379e-03 1.93768363e-03]                                              \n",
      "eps iter 8 0.004000000000000014                \n",
      "t_diff 2.85535873597251578, Y=[2.85535874e+00 9.93115892e-04 1.29095555e-03]                                              \n",
      "eps iter 9 0.0020000000000000157                \n",
      "t_diff 2.85550545683213478, Y=[2.85550546e+00 4.96181867e-04 6.45061628e-04]                                              \n"
     ]
    },
    {
     "name": "stdout",
     "output_type": "stream",
     "text": [
      "iter=1, rel. err =4.90e-08, Y=[2.85432331 0.00449286 0.00583568]                                              \r",
      "t_diff 2.8543233077737318\n",
      "eps iter 2 0.016000000000000004                \n"
     ]
    },
    {
     "name": "stdout",
     "output_type": "stream",
     "text": [
      "iter=0, rel. err =8.18e-04, Y=[2.85447211 0.00399061 0.0051839 ]                                              \r",
      "iter=1, rel. err =1.67e-08, Y=[2.85447213 0.00399061 0.0051839 ]                                              \r",
      "t_diff 2.854472128364887\n",
      "eps iter 3 0.014000000000000005                \n"
     ]
    },
    {
     "name": "stdout",
     "output_type": "stream",
     "text": [
      "iter=0, rel. err =8.49e-04, Y=[2.8546206  0.00348913 0.00453297]                                              \r",
      "iter=1, rel. err =5.04e-08, Y=[2.85462065 0.00348913 0.00453298]                                              \r",
      "t_diff 2.854620647183549\n",
      "eps iter 4 0.012000000000000007                \n"
     ]
    },
    {
     "name": "stdout",
     "output_type": "stream",
     "text": [
      "iter=0, rel. err =8.19e-04, Y=[2.85476885 0.00298841 0.00388289]                                              \r"
     ]
    },
    {
     "name": "stdout",
     "output_type": "stream",
     "text": [
      "iter=1, rel. err =1.80e-08, Y=[2.85476886 0.00298841 0.00388289]                                              \r",
      "t_diff 2.854768864844714\n",
      "eps iter 5 0.010000000000000009                \n",
      "iter=0, rel. err =8.48e-04, Y=[2.85491673e+00 2.48844819e-03 3.23364962e-03]                                              \r"
     ]
    },
    {
     "name": "stdout",
     "output_type": "stream",
     "text": [
      "iter=1, rel. err =5.15e-08, Y=[2.85491678e+00 2.48844804e-03 3.23364981e-03]                                              \r",
      "t_diff 2.854916781956323\n",
      "eps iter 6 0.00800000000000001                \n",
      "iter=0, rel. err =8.16e-04, Y=[2.85506438e+00 1.98924728e-03 2.58524766e-03]                                              \r"
     ]
    },
    {
     "name": "stdout",
     "output_type": "stream",
     "text": [
      "iter=1, rel. err =1.93e-08, Y=[2.85506440e+00 1.98924726e-03 2.58524776e-03]                                              \r",
      "t_diff 2.8550643991195725\n",
      "eps iter 7 0.006000000000000012                \n"
     ]
    },
    {
     "name": "stdout",
     "output_type": "stream",
     "text": [
      "iter=0, rel. err =8.43e-04, Y=[2.85521166e+00 1.49080388e-03 1.93768353e-03]                                              \r",
      "iter=1, rel. err =5.23e-08, Y=[2.85521172e+00 1.49080379e-03 1.93768363e-03]                                              \r",
      "t_diff 2.8552117169289244\n",
      "eps iter 8 0.004000000000000014                \n"
     ]
    },
    {
     "name": "stdout",
     "output_type": "stream",
     "text": [
      "iter=0, rel. err =8.08e-04, Y=[2.85535872e+00 9.93115907e-04 1.29095550e-03]                                              \r",
      "iter=1, rel. err =2.03e-08, Y=[2.85535874e+00 9.93115892e-04 1.29095555e-03]                                              \r",
      "t_diff 2.8553587359725157\n",
      "eps iter 9 0.0020000000000000157                \n"
     ]
    },
    {
     "name": "stdout",
     "output_type": "stream",
     "text": [
      "iter=0, rel. err =8.33e-04, Y=[2.85550540e+00 4.96181902e-04 6.45061596e-04]                                              \r"
     ]
    },
    {
     "name": "stdout",
     "output_type": "stream",
     "text": [
      "iter=1, rel. err =5.28e-08, Y=[2.85550546e+00 4.96181867e-04 6.45061628e-04]                                              \r",
      "t_diff 2.8555054568321347\n"
     ]
    }
   ],
   "source": [
    "# top 1b\n",
    "dat = follow_locking_3d(init,a12_p0005,(.02,.001,-.002),\n",
    "                        rhs=_redu_3dc,recompute=True)\n",
    "data_r3d_p0005_list.append(dat)"
   ]
  },
  {
   "cell_type": "markdown",
   "id": "cca0c3cb-e7c6-4c87-ba3b-1020257e6514",
   "metadata": {},
   "source": [
    "## Plot"
   ]
  },
  {
   "cell_type": "code",
   "execution_count": 72,
   "id": "c0db2cfb-e591-45f4-8fd1-79ebc0cd3989",
   "metadata": {},
   "outputs": [
    {
     "name": "stdout",
     "output_type": "stream",
     "text": [
      "eps_min 0.014000000000000005\n"
     ]
    },
    {
     "data": {
      "image/png": "[encoded data removed]",
      "text/plain": [
       "<Figure size 300x200 with 1 Axes>"
      ]
     },
     "metadata": {},
     "output_type": "display_data"
    },
    {
     "data": {
      "image/png": "[encoded data removed]",
      "text/plain": [
       "<Figure size 300x400 with 2 Axes>"
      ]
     },
     "metadata": {},
     "output_type": "display_data"
    }
   ],
   "source": [
    "quick_plot_combined(a12_p0005,\n",
    "                    kw_f={'data_list':data_p0005_list},\n",
    "                    kw_r3d={'data_list':data_r3d_p0005_list},\n",
    "                    kw_r={'etup':etup12})"
   ]
  },
  {
   "cell_type": "markdown",
   "id": "91d704c9-12f7-493f-9bb4-ecc8a7b9d321",
   "metadata": {},
   "source": [
    "# del=0.00055"
   ]
  },
  {
   "cell_type": "code",
   "execution_count": 73,
   "id": "17f64f71-1184-4006-98f4-cb460d5fe38d",
   "metadata": {},
   "outputs": [
    {
     "name": "stdout",
     "output_type": "stream",
     "text": [
      "pfactor 4\n",
      "* Loading p symbolic...\n",
      "* Loading p symbolic...\n",
      "p order=0\n",
      "p order=0\n",
      "p order=1\n",
      "p order=1\n",
      "p order=2\n",
      "p order=2\n",
      "p order=3\n",
      "p order=3\n",
      "* Loading H symbolic...\n",
      "* Loading H symbolic...\n",
      "* Computing H gw0, order=0...\n",
      "* Computing H gw1, order=0...\n",
      "* Computing H gw0, order=1...\n",
      "* Computing H gw1, order=1...\n",
      "* Computing H gw0, order=2...\n",
      "* Computing H gw1, order=2...\n",
      "* Computing H gw0, order=3...\n",
      "* Computing H gw1, order=3...\n"
     ]
    },
    {
     "name": "stdout",
     "output_type": "stream",
     "text": [
      "* Loading H symbolic...\n",
      "* Loading H symbolic...\n",
      "* Loading H gw0, order=0...\n",
      "* Loading H gw1, order=0...\n",
      "* Loading H gw0, order=1...\n",
      "* Loading H gw1, order=1...\n",
      "* Loading H gw0, order=2...\n",
      "* Loading H gw1, order=2...\n",
      "* Loading H gw0, order=3...\n",
      "* Loading H gw1, order=3...\n"
     ]
    }
   ],
   "source": [
    "del12_p00055 = .00055\n",
    "a12_p00055 = nm.nmCoupling(**kw_nm, del1=del12_p00055)"
   ]
  },
  {
   "cell_type": "markdown",
   "id": "e8d12382-f1bc-43d5-a666-0566552edadb",
   "metadata": {},
   "source": [
    "## Get Branches Full"
   ]
  },
  {
   "cell_type": "code",
   "execution_count": 74,
   "id": "003d9883-6a3d-426a-be34-9ecf93c0ab29",
   "metadata": {},
   "outputs": [],
   "source": [
    "kw_p00055 = {'a':a12_p00055,'del1':del12_p00055,'bifdir':'bif1d_gw2/',\n",
    "             '_full_rhs':_full}"
   ]
  },
  {
   "cell_type": "code",
   "execution_count": 75,
   "id": "7018877a-4f54-4212-9615-7e04f1e9db9d",
   "metadata": {},
   "outputs": [],
   "source": [
    "data_p00055_list = []"
   ]
  },
  {
   "cell_type": "code",
   "execution_count": 76,
   "id": "eba4bef5-ceff-469c-bd36-d5f17a022bc7",
   "metadata": {},
   "outputs": [],
   "source": [
    "in_dicts = [dict(init=2,eps_init=0.02,eps_final=0.0005,deps=-.001),\n",
    "            dict(init=2,eps_init=0.02,eps_final=0.11,deps=.01),\n",
    "            dict(init=0,eps_init=0.025,eps_final=0.0005,deps=-.002)]"
   ]
  },
  {
   "cell_type": "code",
   "execution_count": 77,
   "id": "15c22452-4c2c-4586-bd8f-4b3b0180f79e",
   "metadata": {},
   "outputs": [
    {
     "name": "stdout",
     "output_type": "stream",
     "text": [
      "fname1 td_branch_init=2_nm=12_del=0.00055_ei=0.02_ef=0.0005_de=-0.001.txt\n",
      "fname2 ts_branch_init=2_nm=12_del=0.00055_ei=0.02_ef=0.0005_de=-0.001.txt\n",
      "init [0.38621595 0.51984701 1.35618987 0.12651926 0.02232379 0.33699299 3.12388767 0.0125725  6.29487155]\n",
      "eps iter 0 0.02                \n",
      "t1,t2 1.8762441548681097 6.313767444868709                              \n",
      "t1,t2 5.015238866257828 6.313767444868709\n",
      "periods [6.29183939 3.16191042 3.12993176]\n",
      "eps iter 1 0.019                \n",
      "t1,t2 1.8820018052942151 6.307916334346759                              \n",
      "t1,t2 5.010368336456543 6.307916334346759\n",
      "periods [6.29125954 3.16081794 3.1304425 ]\n",
      "eps iter 2 0.018                \n",
      "t1,t2 1.8774014604803102 6.322468279785044                              \n",
      "t1,t2 5.0030725085160395 6.322468279785044\n",
      "periods [6.29069053 3.15973344 3.13095754]\n",
      "eps iter 3 0.016999999999999998                \n",
      "t1,t2 1.8747477739551637 6.314624036585068                              \n",
      "t1,t2 5.007347899141385 6.314624036585068\n",
      "periods [6.29013839 3.15865848 3.13147959]\n",
      "eps iter 4 0.015999999999999997                \n",
      "t1,t2 1.8678196224698573 6.3121306998644915                             \n",
      "t1,t2 5.000704021703874 6.3121306998644915\n",
      "periods [6.28960073 3.15758443 3.13201904]\n",
      "eps iter 5 0.014999999999999996                \n",
      "t1,t2 1.8694800987256643 6.315125985612334                              \n",
      "t1,t2 4.994108183700273 6.315125985612334\n",
      "periods [6.28908008 3.15651983 3.13255798]\n",
      "eps iter 6 0.013999999999999995                \n",
      "t1,t2 1.864850839688624 6.327070971615516                               \n",
      "t1,t2 4.995320289246846 6.327070971615516\n",
      "periods [6.2885729  3.15546655 3.13310587]\n",
      "eps iter 7 0.012999999999999994                \n",
      "t1,t2 1.8619569252548456 6.324535213623423                              \n",
      "t1,t2 4.99229199427473 6.324535213623423\n",
      "periods [6.28808227 3.15442096 3.13366112]\n",
      "eps iter 8 0.011999999999999993                \n",
      "t1,t2 1.8545825238114961 6.330795881253219                              \n",
      "t1,t2 4.992838717223873 6.330795881253219\n",
      "periods [6.28760276 3.15338246 3.13422478]\n",
      "eps iter 9 0.010999999999999992                \n",
      "t1,t2 1.8560315338294398 6.337021079718686                              \n",
      "t1,t2 4.988953947442146 6.337021079718686\n",
      "periods [6.28714518 3.15235064 3.1347927 ]\n",
      "eps iter 10 0.009999999999999992                \n",
      "t1,t2 1.854188287252797 6.317731397853503                               \n",
      "t1,t2 4.987112242633113 6.317731397853503\n",
      "periods [6.28670473 3.15133066 3.1353739 ]\n",
      "eps iter 11 0.00899999999999999                \n",
      "t1,t2 1.8507818183128304 6.342771797099453                              \n",
      "t1,t2 4.981732523025006 6.342771797099453\n",
      "periods [6.28627778 3.15031729 3.13596147]\n",
      "eps iter 12 0.00799999999999999                \n",
      "t1,t2 1.8466363400843093 6.320988888368224                              \n",
      "t1,t2 4.980366119344911 6.320988888368224\n",
      "periods [6.28586564 3.14930907 3.13655639]\n",
      "eps iter 13 0.006999999999999989                \n",
      "t1,t2 1.8423395796235995 6.325330008147022                              \n",
      "t1,t2 4.970038634821606 6.325330008147022\n",
      "periods [6.28547192 3.14831277 3.1371574 ]\n",
      "eps iter 14 0.005999999999999988                \n",
      "t1,t2 1.8284480331419877 6.346655992873612                              \n",
      "t1,t2 4.97400108894856 6.346655992873612\n",
      "periods [6.28509074 3.14732452 3.13776611]\n",
      "eps iter 15 0.004999999999999987                \n",
      "t1,t2 1.8251439366742825 6.342488399926579                              \n",
      "t1,t2 4.970651404488011 6.342488399926579\n",
      "periods [6.28472988 3.14634484 3.13838421]\n",
      "eps iter 16 0.003999999999999986                \n",
      "t1,t2 1.8199956963468182 6.3340156010309325                             \n",
      "t1,t2 4.967937671202079 6.3340156010309325\n",
      "periods [6.28438146 3.14537496 3.13900955]\n",
      "eps iter 17 0.0029999999999999853                \n",
      "t1,t2 1.8204192179163532 6.35946460303402                               \n",
      "t1,t2 4.965195503376046 6.35946460303402\n",
      "periods [6.28405647 3.14441119 3.13964561]\n",
      "eps iter 18 0.0019999999999999844                \n",
      "t1,t2 1.8172329084739336 6.3493669558967545                             \n",
      "t1,t2 4.954778068849624 6.3493669558967545\n",
      "periods [6.28374867 3.14346543 3.14028318]\n",
      "eps iter 19 0.0009999999999999835                \n",
      "t1,t2 1.8130936093474064 6.355251240801542                              \n",
      "t1,t2 4.95822676863153 6.355251240801542\n",
      "periods [6.28345939 3.14252489 3.14093459]\n",
      "fname1 td_branch_init=2_nm=12_del=0.00055_ei=0.02_ef=0.11_de=0.01.txt\n",
      "fname2 ts_branch_init=2_nm=12_del=0.00055_ei=0.02_ef=0.11_de=0.01.txt\n",
      "fname1 td_branch_init=0_nm=12_del=0.00055_ei=0.025_ef=0.0005_de=-0.002.txt\n",
      "fname2 ts_branch_init=0_nm=12_del=0.00055_ei=0.025_ef=0.0005_de=-0.002.txt\n"
     ]
    }
   ],
   "source": [
    "for i in range(len(in_dicts)):\n",
    "    in1 = in_dicts[i]\n",
    "    dat = follow_phase_diffs(**in1,**kw_p00055)\n",
    "    data_p00055_list.append(dat)\n",
    "fname = kw_p00055['bifdir']+'hyper_gw2_12_p00055.txt'"
   ]
  },
  {
   "cell_type": "code",
   "execution_count": 78,
   "id": "37955ddd-f5ef-45a3-a08f-7d672acd6d4c",
   "metadata": {},
   "outputs": [],
   "source": [
    "# save hyperparameters\n",
    "hyp_inputs = np.zeros([len(in_dicts),4])\n",
    "for i in range(len(in_dicts)):\n",
    "    hyp_inputs[i,0] = in_dicts[i]['init']\n",
    "    hyp_inputs[i,1] = in_dicts[i]['eps_init']\n",
    "    hyp_inputs[i,2] = in_dicts[i]['eps_final']\n",
    "    hyp_inputs[i,3] = in_dicts[i]['deps']\n",
    "np.savetxt(fname,hyp_inputs)"
   ]
  },
  {
   "cell_type": "markdown",
   "id": "f4e6f112-4068-47c2-9508-171089d1081a",
   "metadata": {},
   "source": [
    "## Plot"
   ]
  },
  {
   "cell_type": "code",
   "execution_count": 79,
   "id": "168066fd-b1fd-47ef-9c31-911a0b6b01ea",
   "metadata": {},
   "outputs": [
    {
     "name": "stdout",
     "output_type": "stream",
     "text": [
      "eps_min 0.012999999999999994\n"
     ]
    },
    {
     "data": {
      "image/png": "[encoded data removed]",
      "text/plain": [
       "<Figure size 300x200 with 1 Axes>"
      ]
     },
     "metadata": {},
     "output_type": "display_data"
    },
    {
     "data": {
      "image/png": "[encoded data removed]",
      "text/plain": [
       "<Figure size 300x400 with 2 Axes>"
      ]
     },
     "metadata": {},
     "output_type": "display_data"
    }
   ],
   "source": [
    "quick_plot_combined(a12_p00055,\n",
    "                    kw_f={'data_list':data_p00055_list},\n",
    "                    #kw_r3d={'data_list':data_r3d_p00055_list},\n",
    "                    kw_r={'etup':etup12})"
   ]
  },
  {
   "cell_type": "markdown",
   "id": "dd2f8d1f-4b86-4985-b6bc-713a80c51d00",
   "metadata": {},
   "source": [
    "# del=0.0006"
   ]
  },
  {
   "cell_type": "code",
   "execution_count": 80,
   "id": "70ca2240-886b-40a7-aae1-40c0125391b6",
   "metadata": {},
   "outputs": [
    {
     "name": "stdout",
     "output_type": "stream",
     "text": [
      "pfactor 4\n",
      "* Loading p symbolic...\n",
      "* Loading p symbolic...\n",
      "p order=0\n",
      "p order=0\n",
      "p order=1\n",
      "p order=1\n",
      "p order=2\n",
      "p order=2\n",
      "p order=3\n",
      "p order=3\n",
      "* Loading H symbolic...\n",
      "* Loading H symbolic...\n",
      "* Computing H gw0, order=0...\n",
      "* Computing H gw1, order=0...\n",
      "* Computing H gw0, order=1...\n",
      "* Computing H gw1, order=1...\n",
      "* Computing H gw0, order=2...\n",
      "* Computing H gw1, order=2...\n",
      "* Computing H gw0, order=3...\n",
      "* Computing H gw1, order=3...\n"
     ]
    },
    {
     "name": "stdout",
     "output_type": "stream",
     "text": [
      "* Loading H symbolic...\n",
      "* Loading H symbolic...\n",
      "* Loading H gw0, order=0...\n",
      "* Loading H gw1, order=0...\n",
      "* Loading H gw0, order=1...\n",
      "* Loading H gw1, order=1...\n",
      "* Loading H gw0, order=2...\n",
      "* Loading H gw1, order=2...\n",
      "* Loading H gw0, order=3...\n",
      "* Loading H gw1, order=3...\n"
     ]
    }
   ],
   "source": [
    "del12_p0006 = .0006\n",
    "a12_p0006 = nm.nmCoupling(**kw_nm, del1=del12_p0006)"
   ]
  },
  {
   "cell_type": "markdown",
   "id": "3664a0ae-a1a6-4257-8221-0b9f3b573434",
   "metadata": {},
   "source": [
    "## Get Branches Full"
   ]
  },
  {
   "cell_type": "code",
   "execution_count": 81,
   "id": "c7eee472-9e6a-4c65-aaf5-93265ac44488",
   "metadata": {},
   "outputs": [],
   "source": [
    "kw_p0006 = {'a':a12_p0006,'del1':del12_p0006,'bifdir':'bif1d_gw2/',\n",
    "            '_full_rhs':_full}"
   ]
  },
  {
   "cell_type": "code",
   "execution_count": 82,
   "id": "b4b7604d-09fa-4745-bd50-510b7a82dea2",
   "metadata": {},
   "outputs": [],
   "source": [
    "data_p0006_list = []"
   ]
  },
  {
   "cell_type": "code",
   "execution_count": 83,
   "id": "12f609f5-1acb-460d-a982-e61151fc9aa4",
   "metadata": {},
   "outputs": [],
   "source": [
    "in_dicts = [dict(init=2,eps_init=0.02,eps_final=0.0005,deps=-.001),\n",
    "            dict(init=2,eps_init=0.02,eps_final=0.11,deps=.01),\n",
    "            dict(init=1,eps_init=0.01,eps_final=0.0005,deps=-.001)]"
   ]
  },
  {
   "cell_type": "code",
   "execution_count": 84,
   "id": "2abb80fc-76df-4e75-9b82-1422db58c944",
   "metadata": {},
   "outputs": [
    {
     "name": "stdout",
     "output_type": "stream",
     "text": [
      "fname1 td_branch_init=2_nm=12_del=0.0006_ei=0.02_ef=0.0005_de=-0.001.txt\n",
      "fname2 ts_branch_init=2_nm=12_del=0.0006_ei=0.02_ef=0.0005_de=-0.001.txt\n",
      "init [0.38623412 0.51986572 1.35619286 0.12652557 0.02271951 0.34070407 3.12544419 0.01281081 6.29511842]\n",
      "eps iter 0 0.02                \n",
      "t1,t2 1.8997340716766897 6.326422806186744                              \n",
      "t1,t2 5.027601769535487 6.326422806186744\n",
      "periods [6.29233395 3.1621679  3.13016725]\n",
      "eps iter 1 0.019                \n",
      "t1,t2 1.8958271940293057 6.326569883571398                              \n",
      "t1,t2 5.017512808821341 6.326569883571398\n",
      "periods [6.29172971 3.16106532 3.13066793]\n",
      "eps iter 2 0.018                \n",
      "t1,t2 1.8919578944532025 6.325913977220194                              \n",
      "t1,t2 5.014625266271065 6.325913977220194\n",
      "periods [6.29114358 3.15996871 3.13117401]\n",
      "eps iter 3 0.016999999999999998                \n",
      "t1,t2 1.8881241286063315 6.316360732272168                              \n",
      "t1,t2 5.017769723509946 6.316360732272168\n",
      "periods [6.29056801 3.15888258 3.13168541]\n",
      "eps iter 4 0.015999999999999997                \n",
      "t1,t2 1.8776438656687577 6.313036179638087                              \n",
      "t1,t2 5.015595537667709 6.313036179638087\n",
      "periods [6.29000894 3.15780335 3.13220551]\n",
      "eps iter 5 0.014999999999999996                \n",
      "t1,t2 1.879142799646025 6.320211227506212                               \n",
      "t1,t2 5.013312110923827 6.320211227506212\n",
      "periods [6.28946681 3.1567286  3.13273803]\n",
      "eps iter 6 0.013999999999999995                \n",
      "t1,t2 1.8756223469715736 6.334796756166346                              \n",
      "t1,t2 5.009826264169308 6.334796756166346\n",
      "periods [6.28893634 3.15565906 3.1332773 ]\n",
      "eps iter 7 0.012999999999999994                \n",
      "t1,t2 1.8715467058822848 6.318215009526674                              \n",
      "t1,t2 5.007144183228163 6.318215009526674\n",
      "periods [6.2884231  3.15460234 3.13382072]\n",
      "eps iter 8 0.011999999999999993                \n",
      "t1,t2 1.864974979289945 6.314704580452255                               \n",
      "t1,t2 4.997519516103356 6.314704580452255\n",
      "periods [6.287925   3.15355254 3.13436967]\n",
      "eps iter 9 0.010999999999999992                \n",
      "t1,t2 1.853353737278612 6.331244035191644                               \n",
      "t1,t2 4.998272382062473 6.331244035191644\n",
      "periods [6.28744415 3.15251284 3.1349329 ]\n",
      "eps iter 10 0.009999999999999992                \n",
      "t1,t2 1.8619288122965354 6.312253690892691                              \n",
      "t1,t2 4.998421406260808 6.312253690892691\n",
      "periods [6.28697594 3.15147847 3.13549594]\n",
      "eps iter 11 0.00899999999999999                \n",
      "t1,t2 1.8586091352460845 6.3367732639243375                             \n",
      "t1,t2 4.9958354220121235 6.3367732639243375\n",
      "periods [6.28652329 3.15045024 3.13607539]\n",
      "eps iter 12 0.00799999999999999                \n",
      "t1,t2 1.855206455384459 6.327499896255271                               \n",
      "t1,t2 4.993276476046024 6.327499896255271\n",
      "periods [6.2860885  3.14943436 3.13665407]\n",
      "eps iter 13 0.006999999999999989                \n",
      "t1,t2 1.8518559240937074 6.317648485392647                              \n",
      "t1,t2 4.988017140811583 6.317648485392647\n",
      "periods [6.28566663 3.14842116 3.13724596]\n",
      "eps iter 14 0.005999999999999988                \n",
      "t1,t2 1.8524393485288067 6.347514332821385                              \n",
      "t1,t2 4.9849204632755395 6.347514332821385\n",
      "periods [6.28526369 3.14742136 3.13784732]\n",
      "eps iter 15 0.004999999999999987                \n",
      "t1,t2 1.8471581856937325 6.330721198642585                              \n",
      "t1,t2 4.976763424350001 6.330721198642585\n",
      "periods [6.28487737 3.14642895 3.13844741]\n",
      "eps iter 16 0.003999999999999986                \n",
      "t1,t2 1.8362446114115512 6.321765078639058                              \n",
      "t1,t2 4.980357892875156 6.321765078639058\n",
      "periods [6.28450615 3.14543961 3.13906318]\n",
      "eps iter 17 0.0029999999999999853                \n",
      "t1,t2 1.8323400785123198 6.345982001003115                              \n",
      "t1,t2 4.97797552465826 6.345982001003115\n",
      "periods [6.28414896 3.14446896 3.13968009]\n",
      "eps iter 18 0.0019999999999999844                \n",
      "t1,t2 1.8281518542028108 6.346459025134607                              \n",
      "t1,t2 4.974692072762869 6.346459025134607\n",
      "periods [6.28381064 3.14349783 3.1403128 ]\n",
      "eps iter 19 0.0009999999999999835                \n",
      "t1,t2 1.827743962933868 6.331245752228727                               \n",
      "t1,t2 4.9652146488363895 6.331245752228727\n",
      "periods [6.28348897 3.14253925 3.14094594]\n",
      "fname1 td_branch_init=2_nm=12_del=0.0006_ei=0.02_ef=0.11_de=0.01.txt\n",
      "fname2 ts_branch_init=2_nm=12_del=0.0006_ei=0.02_ef=0.11_de=0.01.txt\n",
      "fname1 td_branch_init=1_nm=12_del=0.0006_ei=0.01_ef=0.0005_de=-0.001.txt\n",
      "fname2 ts_branch_init=1_nm=12_del=0.0006_ei=0.01_ef=0.0005_de=-0.001.txt\n",
      "init [3.86390985e-01 5.19783694e-01 1.35525959e+00 1.26530506e-01 1.11016758e-02 6.09574321e-02 2.15495289e+00 3.18055745e-03 6.28465850e+00]\n",
      "eps iter 0 0.01                \n",
      "t1,t2 1.0631937758951795 6.22708345915652                               \n",
      "t1,t2 4.194412881437595 6.22708345915652\n",
      "periods [6.2837528  3.14723816 3.13651446]\n",
      "eps iter 1 0.009000000000000001                \n",
      "t1,t2 1.0612316341143813 6.220393384479728                              \n",
      "t1,t2 4.192701245040598 6.220393384479728\n",
      "periods [6.28375822 3.14666731 3.13708582]\n",
      "eps iter 2 0.008000000000000002                \n",
      "t1,t2 1.0592150970432057 6.239310742599941                              \n",
      "t1,t2 4.1947931990866145 6.239310742599941\n",
      "periods [6.28373907 3.14609662 3.13764248]\n",
      "eps iter 3 0.007000000000000003                \n",
      "t1,t2 1.0577337083942835 6.23893360390784                               \n",
      "t1,t2 4.193609167233462 6.23893360390784\n",
      "periods [6.28371177 3.14552712 3.1381861 ]\n",
      "eps iter 4 0.006000000000000004                \n",
      "t1,t2 1.0562749877753341 6.238731304102199                              \n",
      "t1,t2 4.192393585212237 6.238731304102199\n",
      "periods [6.28367124 3.14496296 3.13870773]\n",
      "eps iter 5 0.0050000000000000044                \n",
      "t1,t2 1.0548399577162546 6.239488868072595                              \n",
      "t1,t2 4.191852433848183 6.239488868072595\n",
      "periods [6.28361763 3.14439762 3.13921994]\n",
      "eps iter 6 0.004000000000000005                \n",
      "t1,t2 1.0545208355062459 6.24462494013076                               \n",
      "t1,t2 4.188882983346018 6.24462494013076\n",
      "periods [6.28355262 3.14383544 3.13971709]\n",
      "eps iter 7 0.003000000000000006                \n",
      "t1,t2 1.0437511144412213 6.245376517040324                              \n",
      "t1,t2 4.19003089288637 6.245376517040324\n",
      "periods [6.28347696 3.14327125 3.14020557]\n",
      "eps iter 8 0.002000000000000007                \n",
      "t1,t2 1.0431851885340524 6.244762890588049                              \n",
      "t1,t2 4.189955742140679 6.244762890588049\n",
      "periods [6.2833896  3.1427135  3.14067914]\n",
      "eps iter 9 0.0010000000000000078                \n",
      "t1,t2 1.0386637017917661 6.24606333608876                               \n",
      "t1,t2 4.189159418108017 6.24606333608876\n",
      "periods [6.28329227 3.14215404 3.14113825]\n"
     ]
    }
   ],
   "source": [
    "for i in range(len(in_dicts)):\n",
    "    in1 = in_dicts[i]\n",
    "    dat = follow_phase_diffs(**in1,**kw_p0006)\n",
    "    data_p0006_list.append(dat)\n",
    "fname = kw_p0006['bifdir']+'hyper_gw2_12_p0006.txt'"
   ]
  },
  {
   "cell_type": "code",
   "execution_count": 85,
   "id": "28e9d3c6-df2d-464c-bbf2-d48c4acb8106",
   "metadata": {},
   "outputs": [],
   "source": [
    "# save hyperparameters\n",
    "hyp_inputs = np.zeros([len(in_dicts),4])\n",
    "for i in range(len(in_dicts)):\n",
    "    hyp_inputs[i,0] = in_dicts[i]['init']\n",
    "    hyp_inputs[i,1] = in_dicts[i]['eps_init']\n",
    "    hyp_inputs[i,2] = in_dicts[i]['eps_final']\n",
    "    hyp_inputs[i,3] = in_dicts[i]['deps']\n",
    "np.savetxt(fname,hyp_inputs)"
   ]
  },
  {
   "cell_type": "markdown",
   "id": "c6f1602d-9f48-4fe0-8469-9a4b20a735ac",
   "metadata": {},
   "source": [
    "## Plot"
   ]
  },
  {
   "cell_type": "code",
   "execution_count": 86,
   "id": "7abd05cd-9703-47e8-aee5-6237fbfb1e00",
   "metadata": {},
   "outputs": [
    {
     "name": "stdout",
     "output_type": "stream",
     "text": [
      "eps_min 0.012999999999999994\n"
     ]
    },
    {
     "data": {
      "image/png": "[encoded data removed]",
      "text/plain": [
       "<Figure size 300x200 with 1 Axes>"
      ]
     },
     "metadata": {},
     "output_type": "display_data"
    },
    {
     "data": {
      "image/png": "[encoded data removed]",
      "text/plain": [
       "<Figure size 300x400 with 2 Axes>"
      ]
     },
     "metadata": {},
     "output_type": "display_data"
    }
   ],
   "source": [
    "quick_plot_combined(a12_p0006,\n",
    "                    kw_f={'data_list':data_p0006_list},\n",
    "                    #kw_r3d={'data_list':data_r3d_p0006_list},\n",
    "                    kw_r={'etup':etup12})"
   ]
  },
  {
   "cell_type": "markdown",
   "id": "d4eb9abf-b345-45a4-a028-67cb1126dcad",
   "metadata": {},
   "source": [
    "# del=0.0007"
   ]
  },
  {
   "cell_type": "code",
   "execution_count": 87,
   "id": "3a2f1075-4716-41dd-8bb0-e15612e532ba",
   "metadata": {},
   "outputs": [
    {
     "name": "stdout",
     "output_type": "stream",
     "text": [
      "pfactor 4\n",
      "* Loading p symbolic...\n",
      "* Loading p symbolic...\n",
      "* Loading H symbolic...\n",
      "* Loading H symbolic...\n",
      "* Loading H gw0, order=0...\n",
      "* Loading H gw1, order=0...\n",
      "* Loading H gw0, order=1...\n",
      "* Loading H gw1, order=1...\n",
      "* Loading H gw0, order=2...\n",
      "* Loading H gw1, order=2...\n",
      "* Loading H gw0, order=3...\n",
      "* Loading H gw1, order=3...\n"
     ]
    },
    {
     "name": "stdout",
     "output_type": "stream",
     "text": [
      "* Loading H symbolic...\n",
      "* Loading H symbolic...\n",
      "* Loading H gw0, order=0...\n",
      "* Loading H gw1, order=0...\n",
      "* Loading H gw0, order=1...\n",
      "* Loading H gw1, order=1...\n",
      "* Loading H gw0, order=2...\n",
      "* Loading H gw1, order=2...\n",
      "* Loading H gw0, order=3...\n",
      "* Loading H gw1, order=3...\n"
     ]
    }
   ],
   "source": [
    "del12_p0007 = .0007\n",
    "a12_p0007 = nm.nmCoupling(**kw_nm, del1=del12_p0007)"
   ]
  },
  {
   "cell_type": "markdown",
   "id": "36c0736c-baf9-46f9-9a0b-d480909b89e4",
   "metadata": {},
   "source": [
    "## Get Branches Full"
   ]
  },
  {
   "cell_type": "code",
   "execution_count": 88,
   "id": "eb6e4875-9beb-4c06-8e29-176501be0d19",
   "metadata": {},
   "outputs": [],
   "source": [
    "kw_p0007 = {'a':a12_p0007,'del1':del12_p0007,'bifdir':'bif1d_gw2/',\n",
    "            '_full_rhs':_full}"
   ]
  },
  {
   "cell_type": "code",
   "execution_count": 89,
   "id": "18657a6a-835f-4b5a-bf19-7c4563aad882",
   "metadata": {},
   "outputs": [],
   "source": [
    "data_p0007_list = []"
   ]
  },
  {
   "cell_type": "code",
   "execution_count": 90,
   "id": "21e65139-9064-401a-bca3-ea967acaf50b",
   "metadata": {},
   "outputs": [],
   "source": [
    "in_dicts = [dict(init=2,eps_init=0.02,eps_final=0.0005,deps=-.001),\n",
    "            dict(init=2,eps_init=0.02,eps_final=0.11,deps=.01),\n",
    "            dict(init=1,eps_init=0.005,eps_final=0.0005,deps=-.001)]"
   ]
  },
  {
   "cell_type": "code",
   "execution_count": 91,
   "id": "31f128a7-2dd7-42e0-ab01-64b5137df85d",
   "metadata": {},
   "outputs": [
    {
     "name": "stdout",
     "output_type": "stream",
     "text": [
      "fname1 td_branch_init=2_nm=12_del=0.0007_ei=0.02_ef=0.0005_de=-0.001.txt\n",
      "fname2 ts_branch_init=2_nm=12_del=0.0007_ei=0.02_ef=0.0005_de=-0.001.txt\n",
      "fname1 td_branch_init=2_nm=12_del=0.0007_ei=0.02_ef=0.11_de=0.01.txt\n",
      "fname2 ts_branch_init=2_nm=12_del=0.0007_ei=0.02_ef=0.11_de=0.01.txt\n",
      "fname1 td_branch_init=1_nm=12_del=0.0007_ei=0.005_ef=0.0005_de=-0.001.txt\n",
      "fname2 ts_branch_init=1_nm=12_del=0.0007_ei=0.005_ef=0.0005_de=-0.001.txt\n"
     ]
    }
   ],
   "source": [
    "for i in range(len(in_dicts)):\n",
    "    in1 = in_dicts[i]\n",
    "    dat = follow_phase_diffs(**in1,**kw_p0007)\n",
    "    data_p0007_list.append(dat)\n",
    "fname = kw_p0007['bifdir']+'hyper_gw2_12_p0007.txt'"
   ]
  },
  {
   "cell_type": "code",
   "execution_count": 92,
   "id": "a4d7285b-0064-49d1-925d-e39e96f19630",
   "metadata": {},
   "outputs": [],
   "source": [
    "# save hyperparameters\n",
    "hyp_inputs = np.zeros([len(in_dicts),4])\n",
    "for i in range(len(in_dicts)):\n",
    "    hyp_inputs[i,0] = in_dicts[i]['init']\n",
    "    hyp_inputs[i,1] = in_dicts[i]['eps_init']\n",
    "    hyp_inputs[i,2] = in_dicts[i]['eps_final']\n",
    "    hyp_inputs[i,3] = in_dicts[i]['deps']\n",
    "np.savetxt(fname,hyp_inputs)"
   ]
  },
  {
   "cell_type": "markdown",
   "id": "6fb6b765-25e4-4e57-b0e6-0ff25a2e1407",
   "metadata": {},
   "source": [
    "## Get Branches 3D"
   ]
  },
  {
   "cell_type": "code",
   "execution_count": 93,
   "id": "7e00818a-a748-4ff3-9117-0a69b0e1ebdb",
   "metadata": {},
   "outputs": [],
   "source": [
    "data_r3d_p0007_list = []"
   ]
  },
  {
   "cell_type": "code",
   "execution_count": 94,
   "id": "eb2044b5-96b6-4614-8816-974db02b5f8a",
   "metadata": {
    "scrolled": true
   },
   "outputs": [
    {
     "name": "stdout",
     "output_type": "stream",
     "text": [
      "t_diff 1.47875681729214110, Y=[ 1.47875682 -0.09741839 -0.10321932]                                              \n",
      "[ 1.4788 -0.0974 -0.1032]\n"
     ]
    }
   ],
   "source": [
    "# find init for this branch\n",
    "_,init = phase_lock_r3d([1,0,0],a12_p0007,.05,_redu_3dc)\n",
    "print(init)"
   ]
  },
  {
   "cell_type": "code",
   "execution_count": 95,
   "id": "dae67b54-78b7-4790-85a2-d53d56cffd27",
   "metadata": {
    "scrolled": true
   },
   "outputs": [
    {
     "name": "stdout",
     "output_type": "stream",
     "text": [
      "eps iter 0 0.05                \n",
      "t_diff 1.47875681729214978, Y=[ 1.47875682 -0.09741839 -0.10321932]                                              \n",
      "eps iter 1 0.060000000000000005                \n",
      "t_diff 1.47055863382646-08, Y=[ 1.47055863 -0.1184887  -0.1240846 ]                                              \n",
      "eps iter 2 0.07                \n",
      "t_diff 1.47168920599069310, Y=[ 1.47168921 -0.13940856 -0.14513806]                                              \n",
      "eps iter 3 0.08000000000000002                \n",
      "t_diff 1.47666018143861312, Y=[ 1.47666018 -0.16035689 -0.16637377]                                              \n",
      "eps iter 4 0.09000000000000001                \n",
      "t_diff 1.48362185148469813, Y=[ 1.48362185 -0.18137752 -0.18777925]                                              \n"
     ]
    },
    {
     "name": "stdout",
     "output_type": "stream",
     "text": [
      "iter=0, rel. err =2.98e-02, Y=[ 1.46908712 -0.13961077 -0.14509624]                                              \r"
     ]
    },
    {
     "name": "stdout",
     "output_type": "stream",
     "text": [
      "iter=1, rel. err =2.60e-03, Y=[ 1.47168345 -0.13941022 -0.14513931]                                              \r",
      "iter=2, rel. err =6.12e-06, Y=[ 1.47168921 -0.13940856 -0.14513806]                                              \r",
      "iter=3, rel. err =1.00e-10, Y=[ 1.47168921 -0.13940856 -0.14513806]                                              \r",
      "t_diff 1.471689205990693\n",
      "eps iter 3 0.08000000000000002                \n"
     ]
    },
    {
     "name": "stdout",
     "output_type": "stream",
     "text": [
      "iter=0, rel. err =3.02e-02, Y=[ 1.47547138 -0.16046636 -0.16634827]                                              \r",
      "iter=1, rel. err =1.19e-03, Y=[ 1.4766591  -0.16035729 -0.16637408]                                              \r",
      "iter=2, rel. err =1.20e-06, Y=[ 1.47666018 -0.16035689 -0.16637377]                                              \r",
      "iter=3, rel. err =2.21e-12, Y=[ 1.47666018 -0.16035689 -0.16637377]                                              \r",
      "t_diff 1.476660181438613\n",
      "eps iter 4 0.09000000000000001                \n"
     ]
    },
    {
     "name": "stdout",
     "output_type": "stream",
     "text": [
      "iter=0, rel. err =3.06e-02, Y=[ 1.48297632 -0.18145315 -0.18776607]                                              \r"
     ]
    },
    {
     "name": "stdout",
     "output_type": "stream",
     "text": [
      "iter=1, rel. err =6.50e-04, Y=[ 1.48362154 -0.18137766 -0.18777935]                                              \r",
      "iter=2, rel. err =3.59e-07, Y=[ 1.48362185 -0.18137752 -0.18777925]                                              \r",
      "iter=3, rel. err =1.91e-13, Y=[ 1.48362185 -0.18137752 -0.18777925]                                              \r",
      "t_diff 1.483621851484698\n"
     ]
    }
   ],
   "source": [
    "# bot 1f\n",
    "dat = follow_locking_3d(init,a12_p0007,(.05,.1,.01),\n",
    "                        rhs=_redu_3dc,recompute=True)\n",
    "data_r3d_p0007_list.append(dat)"
   ]
  },
  {
   "cell_type": "code",
   "execution_count": 96,
   "id": "62201594-c4f6-47f3-8f7a-8d6a47c38531",
   "metadata": {
    "scrolled": true
   },
   "outputs": [
    {
     "name": "stdout",
     "output_type": "stream",
     "text": [
      "eps iter 0 0.05                \n",
      "t_diff 1.47875681729214978, Y=[ 1.47875682 -0.09741839 -0.10321932]                                              \n",
      "eps iter 1 0.048                \n",
      "t_diff 1.48283597094684553, Y=[ 1.48283597 -0.09313766 -0.09906522]                                              \n",
      "eps iter 2 0.046                \n",
      "t_diff 1.48839614051263113, Y=[ 1.48839614 -0.08880821 -0.09491296]                                              \n",
      "eps iter 3 0.044                \n",
      "t_diff 1.49598792035782112, Y=[ 1.49598792 -0.0844069  -0.09075634]                                              \n",
      "eps iter 4 0.041999999999999996                \n",
      "t_diff 1.50637918012531321, Y=[ 1.50637918 -0.07990025 -0.08658303]                                              \n",
      "eps iter 5 0.039999999999999994                \n",
      "t_diff 1.52050164179818410, Y=[ 1.52050164 -0.0752461  -0.08236982]                                              \n",
      "eps iter 6 0.03799999999999999                \n",
      "t_diff 1.53902693548226520, Y=[ 1.53902694 -0.07041381 -0.07808051]                                              \n",
      "eps iter 7 0.03599999999999999                \n",
      "t_diff 1.56142643240562410, Y=[ 1.56142643 -0.06543429 -0.07368124]                                              \n",
      "eps iter 8 0.03399999999999999                \n",
      "t_diff 1.58561615927393428, Y=[ 1.58561616 -0.06042639 -0.06917556]                                              \n",
      "eps iter 9 0.03199999999999999                \n",
      "t_diff 1.60931987425136811, Y=[ 1.60931987 -0.05552835 -0.06461095]                                              \n",
      "eps iter 10 0.029999999999999985                \n",
      "t_diff 1.63131131967193820, Y=[ 1.63131132 -0.05082277 -0.06004384]                                              \n",
      "eps iter 11 0.027999999999999983                \n",
      "t_diff 1.65129057387104860, Y=[ 1.65129057 -0.04633567 -0.05551506]                                              \n",
      "eps iter 12 0.02599999999999998                \n",
      "t_diff 1.66937450119632371, Y=[ 1.6693745  -0.04206377 -0.05104846]                                              \n",
      "eps iter 13 0.02399999999999998                \n",
      "t_diff 1.68579814531399121, Y=[ 1.68579815 -0.037993   -0.04665641]                                              \n",
      "eps iter 14 0.021999999999999978                \n",
      "t_diff 1.70080004720730811, Y=[ 1.70080005 -0.03410677 -0.04234464]                                              \n",
      "eps iter 15 0.019999999999999976                \n",
      "t_diff 1.71458870420912282, Y=[ 1.7145887  -0.03038908 -0.03811512]                                              \n",
      "eps iter 16 0.017999999999999974                \n",
      "t_diff 1.72733770730783462, Y=[ 1.72733771 -0.02682543 -0.03396769]                                              \n",
      "eps iter 17 0.015999999999999973                \n",
      "t_diff 1.73918949068620312, Y=[ 1.73918949 -0.02340302 -0.02990104]                                              \n",
      "eps iter 18 0.01399999999999997                \n",
      "t_diff 1.75026082110555312, Y=[ 1.75026082 -0.02011057 -0.02591319]                                              \n",
      "eps iter 19 0.011999999999999969                \n",
      "t_diff 1.76064790252288413, Y=[ 1.7606479  -0.01693821 -0.02200181]                                              \n",
      "eps iter 20 0.009999999999999967                \n",
      "t_diff 1.77043058959143513, Y=[ 1.77043059 -0.01387723 -0.01816443]                                              \n",
      "eps iter 21 0.007999999999999965                \n",
      "t_diff 1.77967571884207828, Y=[ 1.77967572 -0.0109199  -0.01439851]                                              \n",
      "eps iter 22 0.005999999999999964                \n",
      "t_diff 1.78843970267007988, Y=[ 1.7884397  -0.00805936 -0.01070153]                                              \n",
      "eps iter 23 0.003999999999999962                \n",
      "t_diff 1.79677054360923-08, Y=[ 1.79677054 -0.00528946 -0.00707104]                                              \n",
      "eps iter 24 0.00199999999999996                \n",
      "t_diff 1.80470940333856678, Y=[ 1.8047094  -0.00260467 -0.00350463]                                              \n"
     ]
    },
    {
     "name": "stdout",
     "output_type": "stream",
     "text": [
      "iter=3, rel. err =2.62e-13, Y=[ 1.48283597 -0.09313766 -0.09906522]                                              \r",
      "t_diff 1.4828359709468455\n",
      "eps iter 2 0.046                \n",
      "iter=0, rel. err =7.70e-03, Y=[ 1.48766707 -0.08885011 -0.09491412]                                              \r"
     ]
    },
    {
     "name": "stdout",
     "output_type": "stream",
     "text": [
      "iter=1, rel. err =7.30e-04, Y=[ 1.48839595 -0.08880828 -0.09491303]                                              \r",
      "iter=2, rel. err =2.16e-07, Y=[ 1.48839614 -0.08880821 -0.09491296]                                              \r",
      "iter=3, rel. err =3.64e-13, Y=[ 1.48839614 -0.08880821 -0.09491296]                                              \r",
      "t_diff 1.488396140512631\n",
      "eps iter 3 0.044                \n",
      "iter=0, rel. err =8.90e-03, Y=[ 1.4949766  -0.08446513 -0.09076137]                                              \r",
      "iter=1, rel. err =1.01e-03, Y=[ 1.49598792 -0.08440701 -0.09075647]                                              \r"
     ]
    },
    {
     "name": "stdout",
     "output_type": "stream",
     "text": [
      "iter=2, rel. err =1.69e-07, Y=[ 1.49598792 -0.0844069  -0.09075634]                                              \r",
      "iter=3, rel. err =1.22e-12, Y=[ 1.49598792 -0.0844069  -0.09075634]                                              \r",
      "t_diff 1.495987920357821\n",
      "eps iter 4 0.041999999999999996                \n"
     ]
    },
    {
     "name": "stdout",
     "output_type": "stream",
     "text": [
      "iter=0, rel. err =1.09e-02, Y=[ 1.50498204 -0.07998174 -0.08659586]                                              \r"
     ]
    },
    {
     "name": "stdout",
     "output_type": "stream",
     "text": [
      "iter=1, rel. err =1.40e-03, Y=[ 1.50638031 -0.07990038 -0.08658326]                                              \r",
      "iter=2, rel. err =1.16e-06, Y=[ 1.50637918 -0.07990025 -0.08658303]                                              \r",
      "iter=3, rel. err =1.17e-11, Y=[ 1.50637918 -0.07990025 -0.08658303]                                              \r",
      "t_diff 1.5063791801253132\n",
      "eps iter 5 0.039999999999999994                \n",
      "iter=0, rel. err =1.37e-02, Y=[ 1.51867593 -0.07535648 -0.08239753]                                              \r",
      "iter=1, rel. err =1.83e-03, Y=[ 1.52050652 -0.07524616 -0.08237019]                                              \r"
     ]
    },
    {
     "name": "stdout",
     "output_type": "stream",
     "text": [
      "iter=2, rel. err =4.90e-06, Y=[ 1.52050164 -0.0752461  -0.08236982]                                              \r",
      "iter=3, rel. err =1.13e-10, Y=[ 1.52050164 -0.0752461  -0.08236982]                                              \r",
      "t_diff 1.520501641798184\n",
      "eps iter 6 0.03799999999999999                \n"
     ]
    },
    {
     "name": "stdout",
     "output_type": "stream",
     "text": [
      "iter=0, rel. err =1.77e-02, Y=[ 1.53704211 -0.07054396 -0.07813043]                                              \r"
     ]
    },
    {
     "name": "stdout",
     "output_type": "stream",
     "text": [
      "iter=1, rel. err =2.00e-03, Y=[ 1.53903712 -0.07041363 -0.07808087]                                              \r",
      "iter=2, rel. err =1.02e-05, Y=[ 1.53902694 -0.07041381 -0.07808051]                                              \r",
      "iter=3, rel. err =4.96e-10, Y=[ 1.53902694 -0.07041381 -0.07808051]                                              \r",
      "t_diff 1.5390269354822652\n",
      "eps iter 7 0.03599999999999999                \n",
      "iter=0, rel. err =2.20e-02, Y=[ 1.55998117 -0.06555002 -0.07375033]                                              \r",
      "iter=1, rel. err =1.46e-03, Y=[ 1.56143353 -0.06543408 -0.07368137]                                              \r"
     ]
    },
    {
     "name": "stdout",
     "output_type": "stream",
     "text": [
      "iter=2, rel. err =7.10e-06, Y=[ 1.56142643 -0.06543429 -0.07368124]                                              \r",
      "iter=3, rel. err =2.96e-10, Y=[ 1.56142643 -0.06543429 -0.07368124]                                              \r",
      "t_diff 1.561426432405624\n",
      "eps iter 8 0.03399999999999999                \n"
     ]
    },
    {
     "name": "stdout",
     "output_type": "stream",
     "text": [
      "iter=0, rel. err =2.48e-02, Y=[ 1.58534679 -0.06048704 -0.06924211]                                              \r",
      "iter=1, rel. err =2.84e-04, Y=[ 1.58561613 -0.0604264  -0.06917557]                                              \r",
      "iter=2, rel. err =3.47e-08, Y=[ 1.58561616 -0.06042639 -0.06917556]                                              \r",
      "t_diff 1.5856161592739342\n",
      "eps iter 9 0.03199999999999999                \n",
      "iter=0, rel. err =2.52e-02, Y=[ 1.60994077 -0.05553823 -0.06465815]                                              \r",
      "iter=1, rel. err =6.20e-04, Y=[ 1.60932255 -0.05552824 -0.06461094]                                              \r",
      "iter=2, rel. err =2.68e-06, Y=[ 1.60931987 -0.05552835 -0.06461095]                                              \r"
     ]
    },
    {
     "name": "stdout",
     "output_type": "stream",
     "text": [
      "iter=3, rel. err =5.43e-11, Y=[ 1.60931987 -0.05552835 -0.06461095]                                              \r",
      "t_diff 1.6093198742513681\n",
      "eps iter 10 0.029999999999999985                \n",
      "iter=0, rel. err =2.39e-02, Y=[ 1.63225971 -0.05080728 -0.06007166]                                              \r"
     ]
    },
    {
     "name": "stdout",
     "output_type": "stream",
     "text": [
      "iter=1, rel. err =9.44e-04, Y=[ 1.63131664 -0.05082254 -0.06004379]                                              \r",
      "iter=2, rel. err =5.32e-06, Y=[ 1.63131132 -0.05082277 -0.06004384]                                              \r",
      "iter=3, rel. err =1.82e-10, Y=[ 1.63131132 -0.05082277 -0.06004384]                                              \r",
      "t_diff 1.6313113196719382\n",
      "eps iter 11 0.027999999999999983                \n",
      "iter=0, rel. err =2.19e-02, Y=[ 1.65222611 -0.04631345 -0.05553023]                                              \r",
      "iter=1, rel. err =9.31e-04, Y=[ 1.65129532 -0.04633548 -0.05551502]                                              \r",
      "iter=2, rel. err =4.75e-06, Y=[ 1.65129057 -0.04633567 -0.05551506]                                              \r"
     ]
    },
    {
     "name": "stdout",
     "output_type": "stream",
     "text": [
      "iter=3, rel. err =1.41e-10, Y=[ 1.65129057 -0.04633567 -0.05551506]                                              \r",
      "t_diff 1.6512905738710486\n",
      "eps iter 12 0.02599999999999998                \n",
      "iter=0, rel. err =1.99e-02, Y=[ 1.67018239 -0.04204264 -0.05105638]                                              \r"
     ]
    },
    {
     "name": "stdout",
     "output_type": "stream",
     "text": [
      "iter=1, rel. err =8.05e-04, Y=[ 1.66937779 -0.04206364 -0.05104842]                                              \r",
      "iter=2, rel. err =3.29e-06, Y=[ 1.6693745  -0.04206377 -0.05104846]                                              \r",
      "iter=3, rel. err =6.86e-11, Y=[ 1.6693745  -0.04206377 -0.05104846]                                              \r",
      "t_diff 1.6693745011963237\n",
      "eps iter 13 0.02399999999999998                \n",
      "iter=0, rel. err =1.81e-02, Y=[ 1.68646436 -0.03797549 -0.04666075]                                              \r",
      "iter=1, rel. err =6.64e-04, Y=[ 1.68580024 -0.03799292 -0.04665638]                                              \r",
      "iter=2, rel. err =2.09e-06, Y=[ 1.68579815 -0.037993   -0.04665641]                                              \r"
     ]
    },
    {
     "name": "stdout",
     "output_type": "stream",
     "text": [
      "iter=3, rel. err =2.95e-11, Y=[ 1.68579815 -0.037993   -0.04665641]                                              \r",
      "t_diff 1.6857981453139912\n",
      "eps iter 14 0.021999999999999978                \n",
      "iter=0, rel. err =1.66e-02, Y=[ 1.70134984 -0.03409254 -0.0423467 ]                                              \r"
     ]
    },
    {
     "name": "stdout",
     "output_type": "stream",
     "text": [
      "iter=1, rel. err =5.49e-04, Y=[ 1.70080138 -0.03410672 -0.04234462]                                              \r",
      "iter=2, rel. err =1.34e-06, Y=[ 1.70080005 -0.03410677 -0.04234464]                                              \r",
      "iter=3, rel. err =1.33e-11, Y=[ 1.70080005 -0.03410677 -0.04234464]                                              \r",
      "t_diff 1.700800047207308\n",
      "eps iter 15 0.019999999999999976                \n",
      "iter=0, rel. err =1.53e-02, Y=[ 1.71505136 -0.03037755 -0.03811588]                                              \r",
      "iter=1, rel. err =4.62e-04, Y=[ 1.71458959 -0.03038905 -0.0381151 ]                                              \r",
      "iter=2, rel. err =8.90e-07, Y=[ 1.7145887  -0.03038908 -0.03811512]                                              \r"
     ]
    },
    {
     "name": "stdout",
     "output_type": "stream",
     "text": [
      "iter=3, rel. err =6.77e-12, Y=[ 1.7145887  -0.03038908 -0.03811512]                                              \r",
      "t_diff 1.7145887042091228\n",
      "eps iter 16 0.017999999999999974                \n",
      "iter=0, rel. err =1.42e-02, Y=[ 1.72772085 -0.02681651 -0.0339679 ]                                              \r"
     ]
    },
    {
     "name": "stdout",
     "output_type": "stream",
     "text": [
      "iter=1, rel. err =3.83e-04, Y=[ 1.72733828 -0.02682542 -0.03396768]                                              \r",
      "iter=2, rel. err =5.76e-07, Y=[ 1.72733771 -0.02682543 -0.03396769]                                              \r",
      "iter=3, rel. err =3.45e-12, Y=[ 1.72733771 -0.02682543 -0.03396769]                                              \r",
      "t_diff 1.7273377073078346\n",
      "eps iter 17 0.015999999999999973                \n",
      "iter=0, rel. err =1.33e-02, Y=[ 1.73951598 -0.02339597 -0.02990083]                                              \r",
      "iter=1, rel. err =3.26e-04, Y=[ 1.73918989 -0.023403   -0.02990104]                                              \r",
      "iter=2, rel. err =3.96e-07, Y=[ 1.73918949 -0.02340302 -0.02990104]                                              \r"
     ]
    },
    {
     "name": "stdout",
     "output_type": "stream",
     "text": [
      "iter=3, rel. err =2.00e-12, Y=[ 1.73918949 -0.02340302 -0.02990104]                                              \r",
      "t_diff 1.739189490686203\n",
      "eps iter 18 0.01399999999999997                \n",
      "iter=0, rel. err =1.25e-02, Y=[ 1.75053573 -0.02010525 -0.02591289]                                              \r"
     ]
    },
    {
     "name": "stdout",
     "output_type": "stream",
     "text": [
      "iter=1, rel. err =2.75e-04, Y=[ 1.75026109 -0.02011056 -0.02591318]                                              \r",
      "iter=2, rel. err =2.67e-07, Y=[ 1.75026082 -0.02011057 -0.02591319]                                              \r",
      "iter=3, rel. err =1.16e-12, Y=[ 1.75026082 -0.02011057 -0.02591319]                                              \r",
      "t_diff 1.750260821105553\n",
      "eps iter 19 0.011999999999999969                \n",
      "iter=0, rel. err =1.17e-02, Y=[ 1.76088258 -0.01693422 -0.02200147]                                              \r",
      "iter=1, rel. err =2.35e-04, Y=[ 1.76064809 -0.01693821 -0.02200181]                                              \r",
      "iter=2, rel. err =1.85e-07, Y=[ 1.7606479  -0.01693821 -0.02200181]                                              \r"
     ]
    },
    {
     "name": "stdout",
     "output_type": "stream",
     "text": [
      "iter=3, rel. err =7.15e-13, Y=[ 1.7606479  -0.01693821 -0.02200181]                                              \r",
      "t_diff 1.760647902522884\n",
      "eps iter 20 0.009999999999999967                \n",
      "iter=0, rel. err =1.12e-02, Y=[ 1.77063896 -0.01387418 -0.01816405]                                              \r"
     ]
    },
    {
     "name": "stdout",
     "output_type": "stream",
     "text": [
      "iter=1, rel. err =2.08e-04, Y=[ 1.77043073 -0.01387723 -0.01816443]                                              \r",
      "iter=2, rel. err =1.39e-07, Y=[ 1.77043059 -0.01387723 -0.01816443]                                              \r",
      "iter=3, rel. err =4.90e-13, Y=[ 1.77043059 -0.01387723 -0.01816443]                                              \r",
      "t_diff 1.770430589591435\n",
      "eps iter 21 0.007999999999999965                \n",
      "iter=0, rel. err =1.06e-02, Y=[ 1.77985481 -0.01091778 -0.01439823]                                              \r",
      "iter=1, rel. err =1.79e-04, Y=[ 1.77967582 -0.0109199  -0.01439851]                                              \r",
      "iter=2, rel. err =9.83e-08, Y=[ 1.77967572 -0.0109199  -0.01439851]                                              \r",
      "t_diff 1.7796757188420782\n",
      "eps iter 22 0.005999999999999964                \n"
     ]
    },
    {
     "name": "stdout",
     "output_type": "stream",
     "text": [
      "iter=0, rel. err =1.00e-02, Y=[ 1.78859564 -0.00805794 -0.01070131]                                              \r",
      "iter=1, rel. err =1.56e-04, Y=[ 1.78843977 -0.00805936 -0.01070153]                                              \r"
     ]
    },
    {
     "name": "stdout",
     "output_type": "stream",
     "text": [
      "iter=2, rel. err =7.14e-08, Y=[ 1.7884397  -0.00805936 -0.01070153]                                              \r",
      "t_diff 1.7884397026700798\n",
      "eps iter 23 0.003999999999999962                \n",
      "iter=0, rel. err =9.67e-03, Y=[ 1.79691058 -0.0052886  -0.00707089]                                              \r",
      "iter=1, rel. err =1.40e-04, Y=[ 1.7967706  -0.00528946 -0.00707104]                                              \r",
      "iter=2, rel. err =5.52e-08, Y=[ 1.79677054 -0.00528946 -0.00707104]                                              \r",
      "t_diff 1.79677054360923\n",
      "eps iter 24 0.00199999999999996                \n",
      "iter=0, rel. err =9.20e-03, Y=[ 1.80483094 -0.00260429 -0.00350455]                                              \r",
      "iter=1, rel. err =1.22e-04, Y=[ 1.80470944 -0.00260467 -0.00350463]                                              \r"
     ]
    },
    {
     "name": "stdout",
     "output_type": "stream",
     "text": [
      "iter=2, rel. err =4.00e-08, Y=[ 1.8047094  -0.00260467 -0.00350463]                                              \r",
      "t_diff 1.8047094033385667\n"
     ]
    }
   ],
   "source": [
    "# bot 1b\n",
    "dat = follow_locking_3d(init,a12_p0007,(.05,.001,-.002),\n",
    "                        rhs=_redu_3dc,recompute=True)\n",
    "data_r3d_p0007_list.append(dat)"
   ]
  },
  {
   "cell_type": "code",
   "execution_count": 97,
   "id": "c8d8c859-0b54-4778-8147-1b9160d72ceb",
   "metadata": {},
   "outputs": [
    {
     "name": "stdout",
     "output_type": "stream",
     "text": [
      "t_diff 4.97935372464916312, Y=[ 4.97935372 -0.00619541 -0.00854558]                                              \n"
     ]
    }
   ],
   "source": [
    "# find init for this branch\n",
    "_,init = phase_lock_r3d([5,0,0],a12_p0007,.005,_redu_3dc)"
   ]
  },
  {
   "cell_type": "code",
   "execution_count": 98,
   "id": "02ea1c47-1293-4607-a5ec-5f0dcc89d8d7",
   "metadata": {
    "scrolled": true
   },
   "outputs": [
    {
     "name": "stdout",
     "output_type": "stream",
     "text": [
      "eps iter 0 0.005                \n",
      "t_diff 4.97935372464916609, Y=[ 4.97935372 -0.00619541 -0.00854558]                                              \n",
      "eps iter 1 0.0055                \n",
      "t_diff 4.97772868389300511, Y=[ 4.97772868 -0.00683867 -0.00941952]                                              \n",
      "eps iter 2 0.005999999999999999                \n",
      "t_diff 4.97608881340422911, Y=[ 4.97608881 -0.00748646 -0.0102971 ]                                              \n",
      "eps iter 3 0.006499999999999999                \n",
      "t_diff 4.97443386651519-11, Y=[ 4.97443387 -0.00813882 -0.01117834]                                              \n",
      "eps iter 4 0.006999999999999998                \n",
      "t_diff 4.97276359126131911, Y=[ 4.97276359 -0.00879583 -0.01206327]                                              \n",
      "eps iter 5 0.007499999999999998                \n",
      "t_diff 4.97107773027645511, Y=[ 4.97107773 -0.00945753 -0.01295193]                                              \n",
      "eps iter 6 0.007999999999999997                \n",
      "t_diff 4.96937602068582311, Y=[ 4.96937602 -0.01012399 -0.01384434]                                              \n",
      "eps iter 7 0.008499999999999997                \n",
      "t_diff 4.96765819400341351, Y=[ 4.96765819 -0.01079526 -0.01474052]                                              \n"
     ]
    },
    {
     "name": "stdout",
     "output_type": "stream",
     "text": [
      "iter=0, rel. err =6.28e-03, Y=[ 1.19081805 -0.0110538  -0.01006928]                                              \r",
      "iter=1, rel. err =1.63e-04, Y=[ 1.19098074 -0.01105356 -0.01007014]                                              \r",
      "iter=2, rel. err =2.68e-07, Y=[ 1.19098101 -0.01105356 -0.01007015]                                              \r",
      "iter=3, rel. err =1.99e-12, Y=[ 1.19098101 -0.01105356 -0.01007015]                                              \r",
      "t_diff 1.190981008396195\n",
      "eps iter 2 0.005999999999999999                \n",
      "iter=0, rel. err =6.55e-03, Y=[ 1.1974115  -0.01206701 -0.01103536]                                              \r"
     ]
    },
    {
     "name": "stdout",
     "output_type": "stream",
     "text": [
      "iter=1, rel. err =2.17e-04, Y=[ 1.19762858 -0.0120667  -0.01103666]                                              \r",
      "iter=2, rel. err =5.15e-07, Y=[ 1.1976291  -0.0120667  -0.01103666]                                              \r"
     ]
    },
    {
     "name": "stdout",
     "output_type": "stream",
     "text": [
      "iter=3, rel. err =2.76e-12, Y=[ 1.1976291  -0.0120667  -0.01103666]                                              \r",
      "t_diff 1.1976290966828003\n",
      "eps iter 3 0.006499999999999999                \n",
      "iter=0, rel. err =7.02e-03, Y=[ 1.20447718 -0.01308086 -0.01201299]                                              \r"
     ]
    },
    {
     "name": "stdout",
     "output_type": "stream",
     "text": [
      "iter=1, rel. err =2.80e-04, Y=[ 1.20475684 -0.01308044 -0.01201481]                                              \r",
      "iter=2, rel. err =9.39e-07, Y=[ 1.20475778 -0.01308044 -0.01201481]                                              \r",
      "iter=3, rel. err =7.80e-13, Y=[ 1.20475778 -0.01308044 -0.01201481]                                              \r",
      "t_diff 1.2047577809790815\n",
      "eps iter 4 0.006999999999999998                \n"
     ]
    },
    {
     "name": "stdout",
     "output_type": "stream",
     "text": [
      "iter=0, rel. err =7.50e-03, Y=[ 1.21216209 -0.01409494 -0.0130039 ]                                              \r",
      "iter=1, rel. err =3.72e-04, Y=[ 1.21253374 -0.01409437 -0.01300652]                                              \r"
     ]
    },
    {
     "name": "stdout",
     "output_type": "stream",
     "text": [
      "iter=2, rel. err =1.86e-06, Y=[ 1.21253561 -0.01409437 -0.01300653]                                              \r",
      "iter=3, rel. err =2.14e-11, Y=[ 1.21253561 -0.01409437 -0.01300653]                                              \r",
      "t_diff 1.2125356063219048\n",
      "eps iter 5 0.007499999999999998                \n",
      "iter=0, rel. err =8.32e-03, Y=[ 1.22069367 -0.01510871 -0.01401078]                                              \r"
     ]
    },
    {
     "name": "stdout",
     "output_type": "stream",
     "text": [
      "iter=1, rel. err =5.70e-04, Y=[ 1.22126326 -0.01510783 -0.01401514]                                              \r",
      "iter=2, rel. err =5.13e-06, Y=[ 1.22126839 -0.01510783 -0.01401519]                                              \r",
      "iter=3, rel. err =3.34e-10, Y=[ 1.22126839 -0.01510783 -0.01401519]                                              \r",
      "t_diff 1.2212683913865034\n",
      "eps iter 6 0.007999999999999997                \n"
     ]
    },
    {
     "name": "stdout",
     "output_type": "stream",
     "text": [
      "iter=0, rel. err =9.44e-03, Y=[ 1.23062932 -0.0161211  -0.01503961]                                              \r",
      "iter=1, rel. err =9.90e-04, Y=[ 1.23161978 -0.01611958 -0.01504779]                                              \r"
     ]
    },
    {
     "name": "stdout",
     "output_type": "stream",
     "text": [
      "iter=2, rel. err =1.99e-05, Y=[ 1.23163965 -0.01611956 -0.01504796]                                              \r",
      "iter=3, rel. err =7.56e-09, Y=[ 1.23163966 -0.01611956 -0.01504796]                                              \r",
      "t_diff 1.2316396551953357\n",
      "eps iter 7 0.008499999999999997                \n",
      "iter=0, rel. err =1.17e-02, Y=[ 1.24325067 -0.01712983 -0.016104  ]                                              \r",
      "iter=1, rel. err =2.68e-03, Y=[ 1.24592571 -0.01712589 -0.01612779]                                              \r"
     ]
    },
    {
     "name": "stdout",
     "output_type": "stream",
     "text": [
      "iter=2, rel. err =2.56e-04, Y=[ 1.24618178 -0.01712558 -0.01613012]                                              \r",
      "iter=3, rel. err =2.36e-06, Y=[ 1.24618414 -0.01712558 -0.01613014]                                              \r"
     ]
    },
    {
     "name": "stdout",
     "output_type": "stream",
     "text": [
      "iter=4, rel. err =1.14e-10, Y=[ 1.24618414 -0.01712558 -0.01613014]                                              \r",
      "t_diff 1.246184136557396\n"
     ]
    }
   ],
   "source": [
    "# top 1f\n",
    "dat = follow_locking_3d(init,a12_p0007,(.005,.009,.0005),\n",
    "                        rhs=_redu_3dc,recompute=True)\n",
    "data_r3d_p0007_list.append(dat)"
   ]
  },
  {
   "cell_type": "code",
   "execution_count": 99,
   "id": "e7054867-d6f9-4592-8dee-be629245ab5c",
   "metadata": {
    "scrolled": true
   },
   "outputs": [
    {
     "name": "stdout",
     "output_type": "stream",
     "text": [
      "eps iter 0 0.005                \n",
      "t_diff 4.97935372464916609, Y=[ 4.97935372 -0.00619541 -0.00854558]                                              \n",
      "eps iter 1 0.004                \n",
      "t_diff 4.98256027779853610, Y=[ 4.98256028e+00 -4.92224800e-03 -6.80849795e-03]                                              \n",
      "eps iter 2 0.003                \n",
      "t_diff 4.98571034434219510, Y=[ 4.98571034e+00 -3.66653456e-03 -5.08561968e-03]                                              \n",
      "eps iter 3 0.002                \n",
      "t_diff 4.98880571786917850, Y=[ 4.98880572e+00 -2.42785513e-03 -3.37672368e-03]                                              \n"
     ]
    },
    {
     "name": "stdout",
     "output_type": "stream",
     "text": [
      "iter=3, rel. err =4.44e-11, Y=[ 1.17303064 -0.00802026 -0.00722954]                                              \r",
      "t_diff 1.1730306407149376\n",
      "eps iter 2 0.003                \n",
      "iter=0, rel. err =1.15e-02, Y=[ 1.16181902 -0.00600519 -0.0053773 ]                                              \r"
     ]
    },
    {
     "name": "stdout",
     "output_type": "stream",
     "text": [
      "iter=1, rel. err =4.14e-04, Y=[ 1.16223256 -0.00600485 -0.0053785 ]                                              \r",
      "iter=2, rel. err =1.34e-06, Y=[ 1.1622339  -0.00600485 -0.0053785 ]                                              \r"
     ]
    },
    {
     "name": "stdout",
     "output_type": "stream",
     "text": [
      "iter=3, rel. err =3.49e-12, Y=[ 1.1622339  -0.00600485 -0.0053785 ]                                              \r",
      "t_diff 1.1622339011474456\n",
      "eps iter 3 0.002                \n",
      "iter=0, rel. err =1.08e-02, Y=[ 1.15179594 -0.00399611 -0.00355729]                                              \r",
      "iter=1, rel. err =3.14e-04, Y=[ 1.15210968 -0.00399592 -0.00355789]                                              \r",
      "iter=2, rel. err =7.14e-07, Y=[ 1.15211039 -0.00399592 -0.00355789]                                              \r"
     ]
    },
    {
     "name": "stdout",
     "output_type": "stream",
     "text": [
      "iter=3, rel. err =1.50e-12, Y=[ 1.15211039 -0.00399592 -0.00355789]                                              \r",
      "t_diff 1.1521103909015558\n"
     ]
    }
   ],
   "source": [
    "# top 1b\n",
    "dat = follow_locking_3d(init,a12_p0007,(.005,.001,-.001),\n",
    "                        rhs=_redu_3dc,recompute=True)\n",
    "data_r3d_p0007_list.append(dat)"
   ]
  },
  {
   "cell_type": "markdown",
   "id": "0b9630da-84c7-491c-9a8c-f83f0fccd917",
   "metadata": {},
   "source": [
    "## Plot"
   ]
  },
  {
   "cell_type": "code",
   "execution_count": 100,
   "id": "ec73b414-5dd0-4fd3-876d-d3eb8b65769b",
   "metadata": {},
   "outputs": [
    {
     "name": "stdout",
     "output_type": "stream",
     "text": [
      "eps_min 0.012999999999999994\n"
     ]
    },
    {
     "data": {
      "image/png": "[encoded data removed]",
      "text/plain": [
       "<Figure size 300x200 with 1 Axes>"
      ]
     },
     "metadata": {},
     "output_type": "display_data"
    },
    {
     "data": {
      "image/png": "[encoded data removed]",
      "text/plain": [
       "<Figure size 300x400 with 2 Axes>"
      ]
     },
     "metadata": {},
     "output_type": "display_data"
    }
   ],
   "source": [
    "quick_plot_combined(a12_p0007,\n",
    "                    kw_f={'data_list':data_p0007_list},\n",
    "                    kw_r3d={'data_list':data_r3d_p0007_list},\n",
    "                    kw_r={'etup':etup12})"
   ]
  },
  {
   "cell_type": "code",
   "execution_count": null,
   "id": "893a6fd1-44fb-4a16-b82e-14f70dba6f5e",
   "metadata": {},
   "outputs": [],
   "source": []
  },
  {
   "cell_type": "code",
   "execution_count": null,
   "id": "fe39321a-fde5-4572-8214-2aa0c0d22963",
   "metadata": {},
   "outputs": [],
   "source": []
  }
 ],
 "metadata": {
  "jpcodetoc-autonumbering": false,
  "jpcodetoc-showcode": false,
  "jpcodetoc-showmarkdowntxt": false,
  "jpcodetoc-showtags": false,
  "kernelspec": {
   "display_name": "Python 3 (ipykernel)",
   "language": "python",
   "name": "python3"
  },
  "language_info": {
   "codemirror_mode": {
    "name": "ipython",
    "version": 3
   },
   "file_extension": ".py",
   "mimetype": "text/x-python",
   "name": "python",
   "nbconvert_exporter": "python",
   "pygments_lexer": "ipython3",
   "version": "3.10.14"
  }
 },
 "nbformat": 4,
 "nbformat_minor": 5
}
