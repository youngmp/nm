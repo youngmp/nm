{
 "cells": [
  {
   "cell_type": "markdown",
   "id": "9d90193c-1271-4ef8-b601-e417269e7b66",
   "metadata": {},
   "source": [
    "# gw2 1:2 Bifurcation Diagrams"
   ]
  },
  {
   "cell_type": "markdown",
   "id": "30f6bc4c-539d-45c0-8819-3eba2e803942",
   "metadata": {},
   "source": [
    "TODO:\n",
    "fix bifurcation code to use last non-nan initial condition, as opposed to reverting to the original initial condition."
   ]
  },
  {
   "cell_type": "markdown",
   "id": "5daea907-e8ff-472c-9bda-371eae4425de",
   "metadata": {},
   "source": [
    "SHOULD I BE USING THE TAYLOR EXPANSION IN PSI OF THE COUPLING TERM IN THE AVERAGED PSI EQUATION??????"
   ]
  },
  {
   "cell_type": "markdown",
   "id": "7d15ba2f-ca6b-40bb-9c1a-cc580d525eca",
   "metadata": {},
   "source": [
    "I'm trying to figure out why the 1d bifurcation diagram in the full model is \"flipped\" compared to the reduced model.\n",
    "\n",
    "It is unclear if it's in how I set up the model equations, or if there is a calculation error.\n",
    "\n",
    "The homogeneous case works well enough. but with even a tiny bit of heterogeneity, the solutions don't match for small epsilon."
   ]
  },
  {
   "cell_type": "markdown",
   "id": "7c75e70d-e9a1-49a4-8669-c57c246bf022",
   "metadata": {},
   "source": [
    "# Inits"
   ]
  },
  {
   "cell_type": "code",
   "execution_count": 1,
   "id": "e6e17701-2fca-4c3d-863d-e1012d4de539",
   "metadata": {},
   "outputs": [],
   "source": [
    "import sys; sys.path.insert(0, '..') # add parent folder to lib\n",
    "# user-defined\n",
    "import nmCoupling as nm\n",
    "# import nmCoupling_old as nm\n",
    "import response as rp\n",
    "\n",
    "import gw2\n",
    "\n",
    "from lib.util import (get_phase, freq_est, get_tongue_1d, pl_exist_1d, \n",
    "get_period, bif1d, follow_phase_diffs, phase_lock_r3d, follow_locking_3d,\n",
    "load_phase_lock_r3d)\n",
    "\n",
    "from lib.rhs import _redu_c,_full\n",
    "from lib.rhs import _redu_3dc_gw as _redu_3dc\n",
    "\n",
    "from lib.plot_util import add_diagram_1d_scatter, quick_plot_combined\n",
    "\n",
    "import numpy as np\n",
    "import scipy as sp\n",
    "import matplotlib.pyplot as plt\n",
    "from scipy.integrate import solve_ivp\n",
    "import sympy as sym\n",
    "\n",
    "from scipy.optimize import root,bisect\n",
    "from copy import deepcopy\n",
    "import os\n",
    "\n",
    "plt.rcParams.update({\n",
    "    \"text.usetex\": True,\n",
    "    \"font.family\": \"Helvetica\"\n",
    "})\n",
    "\n",
    "nmc = nm.nmCoupling\n",
    "rsp = rp.Response"
   ]
  },
  {
   "cell_type": "markdown",
   "id": "c05812af-0146-49db-a32c-c203f407ee3f",
   "metadata": {},
   "source": [
    "## Dicts"
   ]
  },
  {
   "cell_type": "code",
   "execution_count": 2,
   "id": "45128209-2f83-4e15-84e8-10ff70c37095",
   "metadata": {},
   "outputs": [],
   "source": [
    "kw_sim = {'rtol':1e-8,'atol':1e-8,'method':'LSODA'}"
   ]
  },
  {
   "cell_type": "code",
   "execution_count": 3,
   "id": "8d341e42-7484-4bb5-ac18-63ea04396ecb",
   "metadata": {},
   "outputs": [],
   "source": [
    "pd1 = {'v1':.84,'v2':.42,'v4':.35,'v6':.35,'v8':1,\n",
    "           'k1':1,'k2':1,'k3':.7,'k4':1,'k5':.7,\n",
    "           'k6':1,'k7':.35,'k8':1,'K':0.5,'kc':1,\n",
    "           'n':6,'L':0,'del':0,'om':1,'om_fix':1}"
   ]
  },
  {
   "cell_type": "code",
   "execution_count": 4,
   "id": "f157938f-9e3b-4a41-9f79-8ae003d1dd64",
   "metadata": {
    "editable": true,
    "slideshow": {
     "slide_type": ""
    },
    "tags": []
   },
   "outputs": [],
   "source": [
    "kws1 = {'var_names':['x','y','z','v'],\n",
    "        'pardict':pd1,\n",
    "        'rhs':gw2.rhs,\n",
    "        'coupling':gw2.coupling,\n",
    "        'init':np.array([.3882,.523,1.357,.4347,24.2]),\n",
    "        'TN':10000,\n",
    "        'trunc_order':5,\n",
    "        'z_forward':False,\n",
    "        'i_forward':[False,True,False,False,False,False,False,False],\n",
    "        'i_bad_dx':[False,True,False,False,False,False,False,False],\n",
    "        'max_iter':50,\n",
    "        'rtol':1e-12,\n",
    "        'atol':1e-12,\n",
    "        'rel_tol':1e-9,\n",
    "        'save_fig':False,\n",
    "        'lc_prominence':.05,\n",
    "        'factor':0.5}"
   ]
  },
  {
   "cell_type": "markdown",
   "id": "8b20fe1b-c0b1-4b41-ab7f-c548396099b8",
   "metadata": {},
   "source": [
    "## Defs"
   ]
  },
  {
   "cell_type": "code",
   "execution_count": 5,
   "id": "2edce639-1dd7-4df8-a6db-4caab272a554",
   "metadata": {},
   "outputs": [],
   "source": [
    "kw_bif = {'method':'LSODA','dense_output':True,'rtol':1e-9,'atol':1e-9}"
   ]
  },
  {
   "cell_type": "code",
   "execution_count": 6,
   "id": "a4500ca6-6d78-4bc8-a271-847195e63272",
   "metadata": {},
   "outputs": [],
   "source": [
    "eps_list12r = np.linspace(0.001,.1,50)\n",
    "etup12 = (.001,.1,50)"
   ]
  },
  {
   "cell_type": "code",
   "execution_count": 7,
   "id": "d6b2f10b-bb17-49e5-8be4-e1d230bdebfb",
   "metadata": {
    "editable": true,
    "slideshow": {
     "slide_type": ""
    },
    "tags": []
   },
   "outputs": [],
   "source": [
    "x_temp = np.linspace(-np.pi,3*np.pi,500)"
   ]
  },
  {
   "cell_type": "markdown",
   "id": "03ccb76d-97df-4272-b2fa-92dfdcd3c01c",
   "metadata": {},
   "source": [
    "## Initialize Response Functions"
   ]
  },
  {
   "cell_type": "code",
   "execution_count": 8,
   "id": "7e2a1153-f3a9-49da-89ac-70a3aef481a0",
   "metadata": {
    "editable": true,
    "slideshow": {
     "slide_type": ""
    },
    "tags": []
   },
   "outputs": [
    {
     "name": "stdout",
     "output_type": "stream",
     "text": [
      "mkdir ./data/gw0/\n",
      "* Loading LC data...\n",
      "self.T 6.283185307179586 omfix 3.8590183230656914\n",
      "* Loading monodromy...\n",
      "* Floquet Exponent kappa =-0.15846659975489297\n",
      "* Loading g symbolic...\n",
      "* Computing g...\n",
      "* Loading heterogeneous terms...\n",
      "* Computing z...\n",
      "* Computing i...\n",
      "mkdir ./data/gw1/\n",
      "* Loading LC data...\n",
      "self.T 6.283185307179586 omfix 3.8590183230656914\n",
      "* Loading monodromy...\n",
      "* Floquet Exponent kappa =-0.15846659975489297\n",
      "* Loading g symbolic...\n",
      "* Computing g...\n",
      "* Loading heterogeneous terms...\n",
      "* Computing z...\n",
      "* Computing i...\n"
     ]
    }
   ],
   "source": [
    "system1 = rsp(idx=0,model_name='gw0',**kws1)\n",
    "system2 = rsp(idx=1,model_name='gw1',**kws1)"
   ]
  },
  {
   "cell_type": "code",
   "execution_count": 9,
   "id": "61762641-879d-4f43-887e-a17a571b9b61",
   "metadata": {},
   "outputs": [],
   "source": [
    "kw_nm = {'system1':system1,'system2':system2,'_n':('om0',1),'_m':('om1',2),\n",
    "        'NH':2048,'save_fig':False}"
   ]
  },
  {
   "cell_type": "markdown",
   "id": "b094ecba-4594-43fc-a155-5eb3d12d38f8",
   "metadata": {},
   "source": [
    "# del=0.0"
   ]
  },
  {
   "cell_type": "code",
   "execution_count": 10,
   "id": "87d1a280-61db-4a50-a8dd-e623acace483",
   "metadata": {
    "editable": true,
    "slideshow": {
     "slide_type": ""
    },
    "tags": []
   },
   "outputs": [
    {
     "name": "stdout",
     "output_type": "stream",
     "text": [
      "pfactor 4\n",
      "* Loading p symbolic...\n",
      "* Loading p symbolic...\n",
      "p order=0\n",
      "p order=0\n",
      "p order=1\n",
      "p order=1\n",
      "p order=2\n",
      "p order=2\n",
      "p order=3\n",
      "p order=3\n",
      "p order=4\n",
      "p order=4\n",
      "p order=5\n",
      "p order=5\n",
      "* Loading H symbolic...\n",
      "* Loading H symbolic...\n",
      "* Computing H gw0, order=0...\n",
      "* Computing H gw1, order=0...\n",
      "* Computing H gw0, order=1...\n",
      "* Computing H gw1, order=1...\n",
      "* Computing H gw0, order=2...\n",
      "* Computing H gw1, order=2...\n",
      "* Computing H gw0, order=3...\n",
      "* Computing H gw1, order=3...\n",
      "* Computing H gw0, order=4...\n",
      "* Computing H gw1, order=4...\n",
      "* Computing H gw0, order=5...\n",
      "* Computing H gw1, order=5...\n"
     ]
    }
   ],
   "source": [
    "del12_p0 = 0\n",
    "a12_p0 = nm.nmCoupling(**kw_nm, del1=del12_p0)"
   ]
  },
  {
   "cell_type": "markdown",
   "id": "53c970af-b00b-4a4a-ac71-8f9c1b804e13",
   "metadata": {},
   "source": [
    "H functions"
   ]
  },
  {
   "cell_type": "code",
   "execution_count": 11,
   "id": "963b97d7-544c-45cd-a05c-62918a063993",
   "metadata": {},
   "outputs": [],
   "source": [
    "# x_temp2 = np.linspace(0,2*np.pi,100)\n",
    "# y = _redu_c(0,x_temp2,a12_p0,.01)\n",
    "# fig,axs = plt.subplots(figsize=(6,2))\n",
    "# axs.plot(x_temp2,y)"
   ]
  },
  {
   "cell_type": "markdown",
   "id": "988f9b34-f96f-42b2-902b-f0afe411d3e5",
   "metadata": {},
   "source": [
    "## Get Branches Full"
   ]
  },
  {
   "cell_type": "code",
   "execution_count": 12,
   "id": "db87b062-7695-4e19-aee5-f48cf400c423",
   "metadata": {},
   "outputs": [],
   "source": [
    "kw_p0 = {'a':a12_p0,'del1':del12_p0,'recompute':False,\n",
    "        'bifdir':'bif1d_gw2/','_full_rhs':_full}"
   ]
  },
  {
   "cell_type": "code",
   "execution_count": 13,
   "id": "8d29996e-414f-4d98-9ee1-513ecc2765aa",
   "metadata": {},
   "outputs": [],
   "source": [
    "data_p0_list = []"
   ]
  },
  {
   "cell_type": "code",
   "execution_count": 14,
   "id": "a376c76f-ccb9-4aa0-8e07-fbe4b8d5e482",
   "metadata": {},
   "outputs": [],
   "source": [
    "# bot\n",
    "dat = follow_phase_diffs(init=0,eps_init=0.005,eps_final=0.078,\n",
    "                         deps=.01,**kw_p0)\n",
    "data_p0_list.append(dat)"
   ]
  },
  {
   "cell_type": "code",
   "execution_count": 15,
   "id": "07662ea0-90fd-4110-9fb4-f12960e73b61",
   "metadata": {
    "scrolled": true
   },
   "outputs": [],
   "source": [
    "# mid 1f\n",
    "dat = follow_phase_diffs(init=2.5,eps_init=0.05,eps_final=0.1,\n",
    "                         deps=.01,**kw_p0)\n",
    "data_p0_list.append(dat)"
   ]
  },
  {
   "cell_type": "code",
   "execution_count": 16,
   "id": "8a917e60-cfbe-483a-a19c-86433e854142",
   "metadata": {},
   "outputs": [],
   "source": [
    "# mid 1b\n",
    "dat = follow_phase_diffs(init=2.5,eps_init=0.05,eps_final=0.035,\n",
    "                         deps=-.002,**kw_p0)\n",
    "data_p0_list.append(dat)"
   ]
  },
  {
   "cell_type": "markdown",
   "id": "e9da5948-4f88-408f-b912-030442f9f9b2",
   "metadata": {},
   "source": [
    "## Get Branches 3D"
   ]
  },
  {
   "cell_type": "code",
   "execution_count": 112,
   "id": "60acb738-c1a8-4314-a74c-4569d7beb944",
   "metadata": {},
   "outputs": [],
   "source": [
    "data_r3d_p0_list = []"
   ]
  },
  {
   "cell_type": "code",
   "execution_count": 113,
   "id": "7e6e6fe2-8c25-4541-9d3c-00d0c71056f5",
   "metadata": {
    "scrolled": true
   },
   "outputs": [
    {
     "name": "stdout",
     "output_type": "stream",
     "text": [
      "t_diff 1.14053070886120623, Y=[ 1.14053071 -0.09543142 -0.08393699]                                              \n",
      "[ 1.1405 -0.0954 -0.0839]\n"
     ]
    }
   ],
   "source": [
    "# find init for this branch\n",
    "_,init = phase_lock_r3d([1.5,0,0],a12_p0,.05,_redu_3dc)\n",
    "print(init)"
   ]
  },
  {
   "cell_type": "code",
   "execution_count": 114,
   "id": "5d40d438-ec49-4026-915c-0ee77f7960f8",
   "metadata": {
    "scrolled": true
   },
   "outputs": [],
   "source": [
    "# bot 1f\n",
    "dat = follow_locking_3d(init,a12_p0,(.05,.11,.01),\n",
    "                        rhs=_redu_3dc,recompute=False)\n",
    "data_r3d_p0_list.append(dat)"
   ]
  },
  {
   "cell_type": "code",
   "execution_count": 115,
   "id": "11fdde43-5991-4786-a6e2-4e00af1afde9",
   "metadata": {
    "scrolled": true
   },
   "outputs": [],
   "source": [
    "# bot 1b\n",
    "dat = follow_locking_3d(init,a12_p0,(.05,.001,-.005),\n",
    "                        rhs=_redu_3dc,recompute=False)\n",
    "data_r3d_p0_list.append(dat)"
   ]
  },
  {
   "cell_type": "code",
   "execution_count": 116,
   "id": "e704a003-f761-4e75-a06a-9e87f3512824",
   "metadata": {},
   "outputs": [
    {
     "name": "stdout",
     "output_type": "stream",
     "text": [
      "t_diff 4.32057789144822409, Y=[ 4.32057789 -0.09688371 -0.08764669]                                              \n"
     ]
    }
   ],
   "source": [
    "# find init for this branch\n",
    "_,init = phase_lock_r3d([4,0,0],a12_p0,.05,_redu_3dc)"
   ]
  },
  {
   "cell_type": "code",
   "execution_count": 117,
   "id": "0099f732-3df4-4f24-9330-aa0c2d3345ee",
   "metadata": {
    "scrolled": true
   },
   "outputs": [],
   "source": [
    "# top 1f\n",
    "dat = follow_locking_3d(init,a12_p0,(.05,.11,.01),\n",
    "                        rhs=_redu_3dc,recompute=False)\n",
    "data_r3d_p0_list.append(dat)"
   ]
  },
  {
   "cell_type": "code",
   "execution_count": 118,
   "id": "75674030-5f90-4fdf-b5a4-f25e50ef3e20",
   "metadata": {
    "scrolled": true
   },
   "outputs": [],
   "source": [
    "# top 1b\n",
    "dat = follow_locking_3d(init,a12_p0,(.05,.001,-.01),\n",
    "                        rhs=_redu_3dc,recompute=False)\n",
    "data_r3d_p0_list.append(dat)"
   ]
  },
  {
   "cell_type": "markdown",
   "id": "e2f763d1-3e6e-4e92-b693-0a3dd7788ab7",
   "metadata": {},
   "source": [
    "## Plot"
   ]
  },
  {
   "cell_type": "code",
   "execution_count": 119,
   "id": "bd4000d7-34c8-4f25-a5b3-e921cfc7c93e",
   "metadata": {},
   "outputs": [
    {
     "data": {
      "image/png": "[encoded data removed]",
      "text/plain": [
       "<Figure size 300x200 with 1 Axes>"
      ]
     },
     "metadata": {},
     "output_type": "display_data"
    }
   ],
   "source": [
    "quick_plot_combined(a12_p0,\n",
    "                    kw_f={'data_list':data_p0_list},\n",
    "                    kw_r3d={'data_list':data_r3d_p0_list},\n",
    "                    kw_r={'etup':etup12})"
   ]
  },
  {
   "cell_type": "markdown",
   "id": "1e9997d2-5346-4844-9cb5-2afc819fd585",
   "metadata": {},
   "source": [
    "# del=0.0002"
   ]
  },
  {
   "cell_type": "code",
   "execution_count": 25,
   "id": "070507fb-c93d-43c3-9fe2-44236aab4ac9",
   "metadata": {},
   "outputs": [
    {
     "name": "stdout",
     "output_type": "stream",
     "text": [
      "pfactor 4\n",
      "* Loading p symbolic...\n",
      "* Loading p symbolic...\n",
      "p order=0\n",
      "p order=0\n",
      "p order=1\n",
      "p order=1\n",
      "p order=2\n",
      "p order=2\n",
      "p order=3\n",
      "p order=3\n",
      "p order=4\n",
      "p order=4\n",
      "p order=5\n",
      "p order=5\n",
      "* Loading H symbolic...\n",
      "* Loading H symbolic...\n",
      "* Computing H gw0, order=0...\n",
      "* Computing H gw1, order=0...\n",
      "* Computing H gw0, order=1...\n",
      "* Computing H gw1, order=1...\n",
      "* Computing H gw0, order=2...\n",
      "* Computing H gw1, order=2...\n",
      "* Computing H gw0, order=3...\n",
      "* Computing H gw1, order=3...\n",
      "* Computing H gw0, order=4...\n",
      "* Computing H gw1, order=4...\n",
      "* Computing H gw0, order=5...\n",
      "* Computing H gw1, order=5...\n"
     ]
    }
   ],
   "source": [
    "del12_p0002 = .0002\n",
    "a12_p0002 = nm.nmCoupling(**kw_nm, del1=del12_p0002)"
   ]
  },
  {
   "cell_type": "markdown",
   "id": "5263c5ff-9235-40bc-9262-0df0d4c83e80",
   "metadata": {},
   "source": [
    "## Get Branches Full"
   ]
  },
  {
   "cell_type": "code",
   "execution_count": 26,
   "id": "7f44118a-6b61-4cc1-8165-b36c923953b8",
   "metadata": {},
   "outputs": [],
   "source": [
    "kw_p0002 = {'a':a12_p0002,'del1':del12_p0002,\n",
    "            'bifdir':'bif1d_gw2/','_full_rhs':_full}"
   ]
  },
  {
   "cell_type": "code",
   "execution_count": 27,
   "id": "68302cd1-84e6-465c-8854-3b95f2535278",
   "metadata": {},
   "outputs": [],
   "source": [
    "data_p0002_list = []"
   ]
  },
  {
   "cell_type": "code",
   "execution_count": 28,
   "id": "913e7b2d-0576-47fd-b909-d071d1140686",
   "metadata": {
    "scrolled": true
   },
   "outputs": [],
   "source": [
    "# top 1b\n",
    "dat = follow_phase_diffs(init=2,eps_init=0.02,eps_final=0.0005,\n",
    "                         deps=-.0005,**kw_p0002)\n",
    "data_p0002_list.append(dat)"
   ]
  },
  {
   "cell_type": "code",
   "execution_count": 29,
   "id": "83f4d9f1-cee7-4ed4-ba5b-9803e186261f",
   "metadata": {
    "scrolled": true
   },
   "outputs": [],
   "source": [
    "# top 1f\n",
    "dat = follow_phase_diffs(init=2,eps_init=0.02,eps_final=0.1,\n",
    "                         deps=.01,**kw_p0002)\n",
    "data_p0002_list.append(dat)"
   ]
  },
  {
   "cell_type": "code",
   "execution_count": 30,
   "id": "0a9889ba-3c36-4145-aadd-a94e1f637aeb",
   "metadata": {
    "scrolled": true
   },
   "outputs": [],
   "source": [
    "# bot 1b\n",
    "dat = follow_phase_diffs(init=0,eps_init=0.025,eps_final=0.0005,\n",
    "                         deps=-.005,**kw_p0002)\n",
    "data_p0002_list.append(dat)"
   ]
  },
  {
   "cell_type": "code",
   "execution_count": 31,
   "id": "24ee3df1-08a0-42da-8daf-555206133b0a",
   "metadata": {
    "scrolled": true
   },
   "outputs": [],
   "source": [
    "# top 1f\n",
    "dat = follow_phase_diffs(init=0,eps_init=0.025,eps_final=0.057,\n",
    "                         deps=.005,**kw_p0002)\n",
    "data_p0002_list.append(dat)"
   ]
  },
  {
   "cell_type": "markdown",
   "id": "70536b34-f652-4e87-9385-0b82e6f5e8b0",
   "metadata": {},
   "source": [
    "## Get Branches 3D"
   ]
  },
  {
   "cell_type": "code",
   "execution_count": 142,
   "id": "8f9e1224-953f-4655-ae36-c5a16e930787",
   "metadata": {},
   "outputs": [],
   "source": [
    "data_r3d_p0002_list = []"
   ]
  },
  {
   "cell_type": "code",
   "execution_count": 143,
   "id": "24431eca-6a80-4f3e-b9ca-9be85401e394",
   "metadata": {
    "scrolled": true
   },
   "outputs": [
    {
     "name": "stdout",
     "output_type": "stream",
     "text": [
      "[ 1.1861 -0.0982 -0.0882]\n"
     ]
    }
   ],
   "source": [
    "# find init for this branch\n",
    "_,init = load_phase_lock_r3d([1.5,0,0],a12_p0002,.05,_redu_3dc,\n",
    "                            bifdir='gw2_bif1d')\n",
    "print(init)"
   ]
  },
  {
   "cell_type": "code",
   "execution_count": 144,
   "id": "775e7dd9-a8ff-4c11-acb8-5293b5c8f49b",
   "metadata": {
    "scrolled": true
   },
   "outputs": [
    {
     "name": "stdout",
     "output_type": "stream",
     "text": [
      "eps iter 0 0.05                \n",
      "t_diff 1.20083350758781723, Y=[ 1.20083351 -0.09837706 -0.08930339]                                              \n",
      "eps iter 1 0.060000000000000005                \n",
      "t_diff 1.24021559489725171, Y=[ 1.24021559 -0.11906338 -0.1101789 ]                                              \n",
      "eps iter 2 0.07                \n",
      "t_diff 1.27474070875117551, Y=[ 1.27474071 -0.13977974 -0.13141727]                                              \n",
      "eps iter 3 0.08000000000000002                \n",
      "t_diff 1.30459980367907711, Y=[ 1.3045998  -0.16051954 -0.15285126]                                              \n",
      "eps iter 4 0.09000000000000001                \n",
      "t_diff 1.33048340630400272, Y=[ 1.33048341 -0.18130869 -0.17440454]                                              \n",
      "eps iter 5 0.1                \n",
      "t_diff 1.35318423744581312, Y=[ 1.35318424 -0.20217923 -0.19605271]                                              \n"
     ]
    }
   ],
   "source": [
    "# bot 1f\n",
    "dat = follow_locking_3d(init,a12_p0002,(.05,.11,.01),\n",
    "                        rhs=_redu_3dc,recompute=False)\n",
    "data_r3d_p0002_list.append(dat)"
   ]
  },
  {
   "cell_type": "code",
   "execution_count": 145,
   "id": "ee365184-2364-4e86-be53-295a21de4bd5",
   "metadata": {
    "scrolled": true
   },
   "outputs": [],
   "source": [
    "# bot 1b\n",
    "dat = follow_locking_3d(init,a12_p0002,(.05,.001,-.005),\n",
    "                        rhs=_redu_3dc,recompute=False)\n",
    "data_r3d_p0002_list.append(dat)"
   ]
  },
  {
   "cell_type": "code",
   "execution_count": 146,
   "id": "a8b75374-cf24-4c41-89d2-d9742c4d04fa",
   "metadata": {},
   "outputs": [],
   "source": [
    "# find init for this branch\n",
    "_,init = load_phase_lock_r3d([4,.1,.1],a12_p0002,.05,_redu_3dc,\n",
    "                            bifdir='gw2_bif1d')"
   ]
  },
  {
   "cell_type": "code",
   "execution_count": 147,
   "id": "f3ccd96b-eb13-4d8d-9322-aafc48ee1cfa",
   "metadata": {
    "scrolled": true
   },
   "outputs": [],
   "source": [
    "# top 1f\n",
    "dat = follow_locking_3d(init,a12_p0002,(.05,.11,.01),\n",
    "                        rhs=_redu_3dc,recompute=False)\n",
    "data_r3d_p0002_list.append(dat)"
   ]
  },
  {
   "cell_type": "code",
   "execution_count": 148,
   "id": "d179239d-c08c-4d6d-9ec1-dde5589e2f75",
   "metadata": {
    "scrolled": true
   },
   "outputs": [],
   "source": [
    "# top 1b\n",
    "dat = follow_locking_3d(init,a12_p0002,(.05,.001,-.002),\n",
    "                        rhs=_redu_3dc,recompute=False)\n",
    "data_r3d_p0002_list.append(dat)"
   ]
  },
  {
   "cell_type": "markdown",
   "id": "6b2557f6-18ae-4f36-8e67-a7d60bafd852",
   "metadata": {},
   "source": [
    "## Plot"
   ]
  },
  {
   "cell_type": "code",
   "execution_count": 149,
   "id": "d5e8084b-34d8-42b6-98c9-3e52daa92082",
   "metadata": {},
   "outputs": [
    {
     "data": {
      "image/png": "[encoded data removed]",
      "text/plain": [
       "<Figure size 300x200 with 1 Axes>"
      ]
     },
     "metadata": {},
     "output_type": "display_data"
    }
   ],
   "source": [
    "quick_plot_combined(a12_p0002,\n",
    "                    kw_f={'data_list':data_p0002_list},\n",
    "                    kw_r3d={'data_list':data_r3d_p0002_list},\n",
    "                    kw_r={'etup':etup12})"
   ]
  },
  {
   "cell_type": "markdown",
   "id": "4f101755-b1db-462b-ba31-c7b02bc6eba3",
   "metadata": {},
   "source": [
    "# del=0.0003"
   ]
  },
  {
   "cell_type": "code",
   "execution_count": 40,
   "id": "5d89adf8-9daa-4923-9a24-4ded97f40c86",
   "metadata": {},
   "outputs": [
    {
     "name": "stdout",
     "output_type": "stream",
     "text": [
      "pfactor 4\n",
      "* Loading p symbolic...\n",
      "* Loading p symbolic...\n",
      "p order=0\n",
      "p order=0\n",
      "p order=1\n",
      "p order=1\n",
      "p order=2\n",
      "p order=2\n",
      "p order=3\n",
      "p order=3\n",
      "p order=4\n",
      "p order=4\n",
      "p order=5\n",
      "p order=5\n",
      "* Loading H symbolic...\n",
      "* Loading H symbolic...\n",
      "* Computing H gw0, order=0...\n",
      "* Computing H gw1, order=0...\n",
      "* Computing H gw0, order=1...\n",
      "* Computing H gw1, order=1...\n",
      "* Computing H gw0, order=2...\n",
      "* Computing H gw1, order=2...\n",
      "* Computing H gw0, order=3...\n",
      "* Computing H gw1, order=3...\n",
      "* Computing H gw0, order=4...\n",
      "* Computing H gw1, order=4...\n",
      "* Computing H gw0, order=5...\n",
      "* Computing H gw1, order=5...\n"
     ]
    }
   ],
   "source": [
    "del12_p0003 = .0003\n",
    "a12_p0003 = nm.nmCoupling(**kw_nm, del1=del12_p0003)"
   ]
  },
  {
   "cell_type": "markdown",
   "id": "837e71a5-16b3-4424-81c5-fdb45c971600",
   "metadata": {},
   "source": [
    "## Get Branches Full"
   ]
  },
  {
   "cell_type": "code",
   "execution_count": 41,
   "id": "4ac9b606-684c-4dd4-b7d2-b23434d0147d",
   "metadata": {},
   "outputs": [],
   "source": [
    "kw_p0003 = {'a':a12_p0003,'del1':del12_p0003,'bifdir':'bif1d_gw2/',\n",
    "            '_full_rhs':_full}"
   ]
  },
  {
   "cell_type": "code",
   "execution_count": 42,
   "id": "6fee59f2-5907-4444-940b-65c56b936d00",
   "metadata": {},
   "outputs": [],
   "source": [
    "data_p0003_list = []"
   ]
  },
  {
   "cell_type": "code",
   "execution_count": 43,
   "id": "c64340bf-9a16-48e3-a6d7-9e049b95e809",
   "metadata": {
    "scrolled": true
   },
   "outputs": [],
   "source": [
    "# top 1b\n",
    "dat = follow_phase_diffs(init=2,eps_init=0.02,eps_final=0.01,\n",
    "                         deps=-.0005,**kw_p0003)\n",
    "data_p0003_list.append(dat)"
   ]
  },
  {
   "cell_type": "code",
   "execution_count": 44,
   "id": "d2248241-f6d8-4a93-a96c-cbcdc55e7a34",
   "metadata": {
    "scrolled": true
   },
   "outputs": [],
   "source": [
    "# top 1f\n",
    "dat = follow_phase_diffs(init=2,eps_init=0.02,eps_final=0.1,\n",
    "                         deps=.01,**kw_p0003)\n",
    "data_p0003_list.append(dat)"
   ]
  },
  {
   "cell_type": "code",
   "execution_count": 45,
   "id": "50de7662-ed23-47d5-862f-2770154b7ce2",
   "metadata": {
    "scrolled": true
   },
   "outputs": [],
   "source": [
    "# bot 1b\n",
    "dat = follow_phase_diffs(init=0,eps_init=0.025,eps_final=0.0005,\n",
    "                         deps=-.005,**kw_p0003)\n",
    "data_p0003_list.append(dat)"
   ]
  },
  {
   "cell_type": "code",
   "execution_count": 46,
   "id": "58cfaf37-e0b7-4249-9fdf-5afa3cd51a37",
   "metadata": {
    "scrolled": true
   },
   "outputs": [],
   "source": [
    "# bot 1f\n",
    "dat = follow_phase_diffs(init=0,eps_init=0.025,eps_final=0.045,\n",
    "                         deps=.002,**kw_p0003)\n",
    "data_p0003_list.append(dat)"
   ]
  },
  {
   "cell_type": "markdown",
   "id": "9d48dbbe-b24a-4934-b9ec-341d0d58eb6c",
   "metadata": {},
   "source": [
    "## Get Branches 3D"
   ]
  },
  {
   "cell_type": "code",
   "execution_count": 150,
   "id": "142b5015-7341-4513-abbf-ca2bfe6128e1",
   "metadata": {},
   "outputs": [],
   "source": [
    "data_r3d_p0003_list = []"
   ]
  },
  {
   "cell_type": "code",
   "execution_count": 151,
   "id": "b4c04077-d3d1-47bc-99b6-55922bc56d80",
   "metadata": {
    "scrolled": true
   },
   "outputs": [
    {
     "name": "stdout",
     "output_type": "stream",
     "text": [
      "t_diff 1.23660960067889512, Y=[ 1.2366096  -0.09959261 -0.09214653]                                              \n",
      "[ 1.2366 -0.0996 -0.0921]\n"
     ]
    }
   ],
   "source": [
    "# find init for this branch\n",
    "_,init = phase_lock_r3d([1.5,0,0],a12_p0003,.05,_redu_3dc)\n",
    "print(init)"
   ]
  },
  {
   "cell_type": "code",
   "execution_count": 152,
   "id": "c2f0a195-2eb6-427c-8bf4-5f27b4af29fe",
   "metadata": {
    "scrolled": true
   },
   "outputs": [
    {
     "name": "stdout",
     "output_type": "stream",
     "text": [
      "eps iter 0 0.05                \n",
      "t_diff 1.23660960067888519, Y=[ 1.2366096  -0.09959261 -0.09214653]                                              \n",
      "eps iter 1 0.060000000000000005                \n",
      "t_diff 1.27517952035160480, Y=[ 1.27517952 -0.1202319  -0.11330029]                                              \n",
      "eps iter 2 0.07                \n",
      "t_diff 1.30768390711825040, Y=[ 1.30768391 -0.1408715  -0.13466107]                                              \n",
      "eps iter 3 0.08000000000000002                \n",
      "t_diff 1.33504314484088811, Y=[ 1.33504314 -0.16154963 -0.15612587]                                              \n",
      "eps iter 4 0.09000000000000001                \n",
      "t_diff 1.35842919205337512, Y=[ 1.35842919 -0.18231014 -0.17767008]                                              \n",
      "eps iter 5 0.1                \n",
      "t_diff 1.37885461469474613, Y=[ 1.37885461 -0.20318692 -0.19929899]                                              \n"
     ]
    }
   ],
   "source": [
    "# bot 1f\n",
    "dat = follow_locking_3d(init,a12_p0003,(.05,.11,.01),\n",
    "                        rhs=_redu_3dc,recompute=True)\n",
    "data_r3d_p0003_list.append(dat)"
   ]
  },
  {
   "cell_type": "code",
   "execution_count": 153,
   "id": "e067ba50-5ca3-4c6d-8db4-be96ee7c8d02",
   "metadata": {
    "scrolled": true
   },
   "outputs": [
    {
     "name": "stdout",
     "output_type": "stream",
     "text": [
      "eps iter 0 0.05                \n",
      "t_diff 1.23660960067888519, Y=[ 1.2366096  -0.09959261 -0.09214653]                                              \n",
      "eps iter 1 0.04                \n",
      "t_diff 1.19211826328349060, Y=[ 1.19211826 -0.07896749 -0.07144269]                                              \n",
      "eps iter 2 0.03                \n",
      "t_diff 1.14349095766120051, Y=[ 1.14349096 -0.05847872 -0.05156824]                                              \n",
      "eps iter 3 0.019999999999999997                \n",
      "t_diff 1.09350773652882733, Y=[ 1.09350774 -0.03834696 -0.03290743]                                              \n",
      "eps iter 4 0.009999999999999995                \n",
      "t_diff 1.04459110252053713, Y=[ 1.0445911  -0.01880095 -0.01569827]                                              \n"
     ]
    }
   ],
   "source": [
    "# bot 1b\n",
    "dat = follow_locking_3d(init,a12_p0003,(.05,.001,-.01),\n",
    "                        rhs=_redu_3dc,recompute=True)\n",
    "data_r3d_p0003_list.append(dat)"
   ]
  },
  {
   "cell_type": "code",
   "execution_count": 51,
   "id": "4aee77df-5a63-4896-a251-ba12b1de55df",
   "metadata": {},
   "outputs": [],
   "source": [
    "# # find init for this branch\n",
    "# _,init = phase_lock_r3d([2.25,0,0],a12_p0003,.02,_redu_3dc)"
   ]
  },
  {
   "cell_type": "code",
   "execution_count": 52,
   "id": "2619c71e-36b4-4ebf-88fe-3af13cb51304",
   "metadata": {
    "scrolled": true
   },
   "outputs": [],
   "source": [
    "# # top 1f\n",
    "# dat = follow_locking_3d(init,a12_p0003,(.02,.1,.01),\n",
    "#                         rhs=_redu_3dc,recompute=True)\n",
    "# data_r3d_p0003_list.append(dat)"
   ]
  },
  {
   "cell_type": "code",
   "execution_count": 53,
   "id": "2e3b0ed5-add4-46fb-a590-fd205c0a4dc7",
   "metadata": {
    "scrolled": true
   },
   "outputs": [],
   "source": [
    "# # top 1b\n",
    "# dat = follow_locking_3d(init,a12_p0003,(.02,.001,-.005),\n",
    "#                         rhs=_redu_3dc,recompute=True)\n",
    "# data_r3d_p0003_list.append(dat)"
   ]
  },
  {
   "cell_type": "markdown",
   "id": "1e4efa4c-1318-4099-b87e-904cbd0186aa",
   "metadata": {},
   "source": [
    "## Plot"
   ]
  },
  {
   "cell_type": "code",
   "execution_count": 154,
   "id": "800c4a8f-8898-4272-80f5-5d4675fb3f23",
   "metadata": {},
   "outputs": [
    {
     "data": {
      "image/png": "[encoded data removed]",
      "text/plain": [
       "<Figure size 300x200 with 1 Axes>"
      ]
     },
     "metadata": {},
     "output_type": "display_data"
    }
   ],
   "source": [
    "quick_plot_combined(a12_p0003,\n",
    "                    kw_f={'data_list':data_p0003_list},\n",
    "                    kw_r3d={'data_list':data_r3d_p0003_list},\n",
    "                    kw_r={'etup':etup12})"
   ]
  },
  {
   "cell_type": "markdown",
   "id": "66229515-5570-46c9-8279-04a6f8c17206",
   "metadata": {},
   "source": [
    "# del=0.0004"
   ]
  },
  {
   "cell_type": "code",
   "execution_count": 55,
   "id": "a8f5ae64-7ff2-4ced-9d73-be73952cbfb3",
   "metadata": {},
   "outputs": [
    {
     "name": "stdout",
     "output_type": "stream",
     "text": [
      "pfactor 4\n",
      "* Loading p symbolic...\n",
      "* Loading p symbolic...\n",
      "p order=0\n",
      "p order=0\n",
      "p order=1\n",
      "p order=1\n",
      "p order=2\n",
      "p order=2\n",
      "p order=3\n",
      "p order=3\n",
      "p order=4\n",
      "p order=4\n",
      "p order=5\n",
      "p order=5\n",
      "* Loading H symbolic...\n",
      "* Loading H symbolic...\n",
      "* Computing H gw0, order=0...\n",
      "* Computing H gw1, order=0...\n",
      "* Computing H gw0, order=1...\n",
      "* Computing H gw1, order=1...\n",
      "* Computing H gw0, order=2...\n",
      "* Computing H gw1, order=2...\n",
      "* Computing H gw0, order=3...\n",
      "* Computing H gw1, order=3...\n",
      "* Computing H gw0, order=4...\n",
      "* Computing H gw1, order=4...\n",
      "* Computing H gw0, order=5...\n",
      "* Computing H gw1, order=5...\n"
     ]
    }
   ],
   "source": [
    "del12_p0004 = .0004\n",
    "a12_p0004 = nm.nmCoupling(**kw_nm, del1=del12_p0004)"
   ]
  },
  {
   "cell_type": "markdown",
   "id": "d745c8c1-292e-4351-9170-09cbdb77ebcf",
   "metadata": {},
   "source": [
    "## Get Branches"
   ]
  },
  {
   "cell_type": "code",
   "execution_count": 56,
   "id": "b8ae3114-1a5c-4a18-b534-5326b2fb8ade",
   "metadata": {},
   "outputs": [],
   "source": [
    "kw_p0004 = {'a':a12_p0004,'del1':del12_p0004,'bifdir':'bif1d_gw2/',\n",
    "            '_full_rhs':_full}"
   ]
  },
  {
   "cell_type": "code",
   "execution_count": 57,
   "id": "48711054-e1a5-4ce6-b4cd-798c1022e0a9",
   "metadata": {},
   "outputs": [],
   "source": [
    "data_p0004_list = []"
   ]
  },
  {
   "cell_type": "code",
   "execution_count": 58,
   "id": "c690d786-c506-474d-a0ce-d8834d783489",
   "metadata": {
    "scrolled": true
   },
   "outputs": [],
   "source": [
    "# top 1b\n",
    "dat = follow_phase_diffs(init=2,eps_init=0.02,eps_final=0.0005,\n",
    "                         deps=-.005,**kw_p0004)\n",
    "data_p0004_list.append(dat)"
   ]
  },
  {
   "cell_type": "code",
   "execution_count": 59,
   "id": "24fd56ee-999b-4316-a359-54a4d40acb67",
   "metadata": {
    "scrolled": true
   },
   "outputs": [],
   "source": [
    "# top 1f\n",
    "dat = follow_phase_diffs(init=2,eps_init=0.02,eps_final=0.1,\n",
    "                         deps=.005,**kw_p0004)\n",
    "data_p0004_list.append(dat)"
   ]
  },
  {
   "cell_type": "code",
   "execution_count": 60,
   "id": "59dffd76-be43-4867-be3f-056a784ee650",
   "metadata": {
    "scrolled": true
   },
   "outputs": [],
   "source": [
    "# bot 1b\n",
    "dat = follow_phase_diffs(init=0,eps_init=0.025,eps_final=0.0005,\n",
    "                         deps=-.005,**kw_p0004)\n",
    "data_p0004_list.append(dat)"
   ]
  },
  {
   "cell_type": "code",
   "execution_count": 61,
   "id": "cbfaf172-7423-4e89-82f3-0f298c6bba54",
   "metadata": {
    "scrolled": true
   },
   "outputs": [],
   "source": [
    "# bot 1f\n",
    "dat = follow_phase_diffs(init=0,eps_init=0.025,eps_final=0.04,\n",
    "                         deps=.002,**kw_p0004)\n",
    "data_p0004_list.append(dat)"
   ]
  },
  {
   "cell_type": "markdown",
   "id": "410a9616-09ff-4b91-a8ca-d92124004414",
   "metadata": {},
   "source": [
    "## Plot"
   ]
  },
  {
   "cell_type": "code",
   "execution_count": 62,
   "id": "56ff2a1b-fe82-460f-9340-8e90ba3d2a8a",
   "metadata": {},
   "outputs": [
    {
     "data": {
      "image/png": "[encoded data removed]",
      "text/plain": [
       "<Figure size 300x200 with 1 Axes>"
      ]
     },
     "metadata": {},
     "output_type": "display_data"
    }
   ],
   "source": [
    "quick_plot_combined(a12_p0004,\n",
    "                    kw_f={'data_list':data_p0004_list},\n",
    "                    #kw_r3d={'data_list':data_r3d_p0004_list},\n",
    "                    kw_r={'etup':etup12})"
   ]
  },
  {
   "cell_type": "markdown",
   "id": "57684ced-9075-41fd-89f0-aa80b34cbaed",
   "metadata": {},
   "source": [
    "# del=0.0005"
   ]
  },
  {
   "cell_type": "code",
   "execution_count": 63,
   "id": "f5790f91-62e9-419f-b428-0c4a49b6c3d8",
   "metadata": {},
   "outputs": [
    {
     "name": "stdout",
     "output_type": "stream",
     "text": [
      "pfactor 4\n",
      "* Loading p symbolic...\n",
      "* Loading p symbolic...\n",
      "p order=0\n",
      "p order=0\n",
      "p order=1\n",
      "p order=1\n",
      "p order=2\n",
      "p order=2\n",
      "p order=3\n",
      "p order=3\n",
      "p order=4\n",
      "p order=4\n",
      "p order=5\n",
      "p order=5\n",
      "* Loading H symbolic...\n",
      "* Loading H symbolic...\n",
      "* Computing H gw0, order=0...\n",
      "* Computing H gw1, order=0...\n",
      "* Computing H gw0, order=1...\n",
      "* Computing H gw1, order=1...\n",
      "* Computing H gw0, order=2...\n",
      "* Computing H gw1, order=2...\n",
      "* Computing H gw0, order=3...\n",
      "* Computing H gw1, order=3...\n",
      "* Computing H gw0, order=4...\n",
      "* Computing H gw1, order=4...\n",
      "* Computing H gw0, order=5...\n",
      "* Computing H gw1, order=5...\n"
     ]
    }
   ],
   "source": [
    "del12_p0005 = .0005\n",
    "a12_p0005 = nm.nmCoupling(**kw_nm, del1=del12_p0005)"
   ]
  },
  {
   "cell_type": "markdown",
   "id": "e8664c8b-926f-4b0c-8858-e18d48a94404",
   "metadata": {},
   "source": [
    "## Get Branches Full"
   ]
  },
  {
   "cell_type": "code",
   "execution_count": 64,
   "id": "b8087cea-c978-4a80-852c-c9c0b3db9a77",
   "metadata": {},
   "outputs": [],
   "source": [
    "kw_p0005 = {'a':a12_p0005,'del1':del12_p0005,'bifdir':'bif1d_gw2/',\n",
    "            '_full_rhs':_full}"
   ]
  },
  {
   "cell_type": "code",
   "execution_count": 65,
   "id": "46900f3f-1153-4d29-aa44-b13cff24e920",
   "metadata": {},
   "outputs": [],
   "source": [
    "data_p0005_list = []"
   ]
  },
  {
   "cell_type": "code",
   "execution_count": 66,
   "id": "54c5c8e2-221b-4f16-8b69-bd181d50bb42",
   "metadata": {
    "scrolled": true
   },
   "outputs": [],
   "source": [
    "# top 1b\n",
    "dat = follow_phase_diffs(init=2,eps_init=0.02,eps_final=0.0005,\n",
    "                         deps=-.005,**kw_p0005)\n",
    "data_p0005_list.append(dat)"
   ]
  },
  {
   "cell_type": "code",
   "execution_count": 67,
   "id": "4a57996e-81d2-4262-9194-a87fe9768690",
   "metadata": {
    "scrolled": true
   },
   "outputs": [],
   "source": [
    "# top 1f\n",
    "dat = follow_phase_diffs(init=2,eps_init=0.02,eps_final=0.1,\n",
    "                         deps=.01,**kw_p0005)\n",
    "data_p0005_list.append(dat)"
   ]
  },
  {
   "cell_type": "code",
   "execution_count": 68,
   "id": "0f05c991-90cb-4c4e-a410-6593188e98d5",
   "metadata": {
    "scrolled": true
   },
   "outputs": [],
   "source": [
    "# bot 1b\n",
    "dat = follow_phase_diffs(init=0,eps_init=0.025,eps_final=0.0005,\n",
    "                         deps=-.005,**kw_p0005)\n",
    "data_p0005_list.append(dat)"
   ]
  },
  {
   "cell_type": "markdown",
   "id": "ceb49e0a-38c1-4673-9244-2803cacb12e8",
   "metadata": {},
   "source": [
    "Integrate Reduced Check"
   ]
  },
  {
   "cell_type": "code",
   "execution_count": 69,
   "id": "76aba214-1da9-44e3-90a3-7475e3803c22",
   "metadata": {},
   "outputs": [],
   "source": [
    "# # multiple initial conditions\n",
    "# init_phases12_p0005 = np.linspace(0,2*np.pi,6,endpoint=False)\n",
    "# t3d_p0005 = np.arange(0,100000,.01)\n",
    "\n",
    "# sols_3d = []\n",
    "# sols_1d = []\n",
    "\n",
    "# for i in range(len(init_phases12_p0005)):\n",
    "#     sol3d_p0005 = solve_ivp(_redu_3dc,[0,t3d_p0005[-1]],\n",
    "#                            [init_phases12_p0005[i],0,0],\n",
    "#                            args=(a12_p0005,.02),t_eval=t3d_p0005)\n",
    "    \n",
    "#     sol1d_p0005 = solve_ivp(_redu_c,[0,t3d_p0005[-1]],\n",
    "#                            [init_phases12_p0005[i]],\n",
    "#                            args=(a12_p0005,.02),t_eval=t3d_p0005)\n",
    "    \n",
    "#     sols_3d.append(sol3d_p0005)\n",
    "#     sols_1d.append(sol1d_p0005)"
   ]
  },
  {
   "cell_type": "code",
   "execution_count": 70,
   "id": "ca00f5d3-f0f4-42ba-84ac-72e91ce66518",
   "metadata": {
    "scrolled": true
   },
   "outputs": [],
   "source": [
    "# fig,axs = plt.subplots(figsize=(6,2))\n",
    "# for i in range(len(init_phases12_p0005)):\n",
    "#     axs.plot(t3d_p0005,sols_3d[i].y[0],color='blue')\n",
    "#     axs.plot(t3d_p0005,sols_1d[i].y[0],color='red')\n",
    "#     print('phase',init_phases12_p0005[i],sols_3d[i].y.T[-1,:])"
   ]
  },
  {
   "cell_type": "markdown",
   "id": "4da74d5f-9b67-419f-8706-f0f3423bfb89",
   "metadata": {},
   "source": [
    "## Get Branches 3D"
   ]
  },
  {
   "cell_type": "code",
   "execution_count": 71,
   "id": "975a23d9-8cf8-405f-842d-ca0bad19e766",
   "metadata": {},
   "outputs": [],
   "source": [
    "data_r3d_p0005_list = []"
   ]
  },
  {
   "cell_type": "code",
   "execution_count": 72,
   "id": "5d7475ce-0adf-4fd5-aab6-fe0df7bbacab",
   "metadata": {
    "scrolled": true
   },
   "outputs": [
    {
     "name": "stdout",
     "output_type": "stream",
     "text": [
      "t_diff 1.32877340720148523, Y=[ 1.32877341 -0.10086644 -0.09814287]                                              \n",
      "[ 1.3288 -0.1009 -0.0981]\n"
     ]
    }
   ],
   "source": [
    "# find init for this branch\n",
    "_,init = phase_lock_r3d([1.5,0,0],a12_p0005,.05,_redu_3dc)\n",
    "print(init)"
   ]
  },
  {
   "cell_type": "code",
   "execution_count": 73,
   "id": "bc1f1547-1f30-4820-8c7f-ca8ca4539aba",
   "metadata": {
    "scrolled": true
   },
   "outputs": [
    {
     "name": "stdout",
     "output_type": "stream",
     "text": [
      "eps iter 0 0.05                \n",
      "t_diff 1.32877340720147459, Y=[ 1.32877341 -0.10086644 -0.09814287]                                              \n",
      "eps iter 1 0.060000000000000005                \n",
      "t_diff 1.35894837161113929, Y=[ 1.35894837 -0.12119236 -0.11939436]                                              \n",
      "eps iter 2 0.07                \n",
      "t_diff 1.38203504654524210, Y=[ 1.38203505 -0.14164845 -0.14065832]                                              \n",
      "eps iter 3 0.08000000000000002                \n",
      "t_diff 1.40090578817613552, Y=[ 1.40090579 -0.16227309 -0.16198894]                                              \n",
      "eps iter 4 0.09000000000000001                \n",
      "t_diff 1.41719596566885333, Y=[ 1.41719597 -0.18307985 -0.18342235]                                              \n"
     ]
    }
   ],
   "source": [
    "# bot 1f\n",
    "dat = follow_locking_3d(init,a12_p0005,(.05,.1,.01),\n",
    "                        rhs=_redu_3dc,recompute=True)\n",
    "data_r3d_p0005_list.append(dat)"
   ]
  },
  {
   "cell_type": "code",
   "execution_count": 74,
   "id": "3a073dde-383a-4184-9fcb-2743e8721927",
   "metadata": {
    "scrolled": true
   },
   "outputs": [
    {
     "name": "stdout",
     "output_type": "stream",
     "text": [
      "eps iter 0 0.05                \n",
      "t_diff 1.32877340720147459, Y=[ 1.32877341 -0.10086644 -0.09814287]                                              \n",
      "eps iter 1 0.048                \n",
      "t_diff 1.32152700817612288, Y=[ 1.32152701 -0.09680971 -0.0938895 ]                                              \n",
      "eps iter 2 0.046                \n",
      "t_diff 1.31379048876522963, Y=[ 1.31379049 -0.09275335 -0.08963502]                                              \n",
      "eps iter 3 0.044                \n",
      "t_diff 1.30553091262407353, Y=[ 1.30553091 -0.08869601 -0.0853801 ]                                              \n",
      "eps iter 4 0.041999999999999996                \n",
      "t_diff 1.29672212381458723, Y=[ 1.29672212 -0.0846363  -0.08112601]                                              \n",
      "eps iter 5 0.039999999999999994                \n",
      "t_diff 1.28734823657313913, Y=[ 1.28734824 -0.08057281 -0.07687482]                                              \n",
      "eps iter 6 0.03799999999999999                \n",
      "t_diff 1.27740712315243933, Y=[ 1.27740712 -0.07650429 -0.07262952]                                              \n",
      "eps iter 7 0.03599999999999999                \n",
      "t_diff 1.26691326093287533, Y=[ 1.26691326 -0.0724298  -0.06839409]                                              \n",
      "eps iter 8 0.03399999999999999                \n",
      "t_diff 1.25589921562656783, Y=[ 1.25589922 -0.06834885 -0.06417358]                                              \n",
      "eps iter 9 0.03199999999999999                \n",
      "t_diff 1.24441518297146653, Y=[ 1.24441518 -0.06426159 -0.05997389]                                              \n",
      "eps iter 10 0.029999999999999985                \n",
      "t_diff 1.23252640637727328, Y=[ 1.23252641 -0.0601689  -0.05580163]                                              \n",
      "eps iter 11 0.027999999999999983                \n",
      "t_diff 1.22030882125934-08, Y=[ 1.22030882 -0.05607243 -0.05166374]                                              \n",
      "eps iter 12 0.02599999999999998                \n",
      "t_diff 1.20784372314538168, Y=[ 1.20784372 -0.05197452 -0.04756715]                                              \n",
      "eps iter 13 0.02399999999999998                \n",
      "t_diff 1.19521243238251359, Y=[ 1.19521243 -0.04787809 -0.04351842]                                              \n",
      "eps iter 14 0.021999999999999978                \n",
      "t_diff 1.18249178520602-10, Y=[ 1.18249179 -0.04378643 -0.03952348]                                              \n",
      "eps iter 15 0.019999999999999976                \n",
      "t_diff 1.16975093019273859, Y=[ 1.16975093 -0.03970307 -0.03558745]                                              \n",
      "eps iter 16 0.017999999999999974                \n",
      "t_diff 1.15704952696517609, Y=[ 1.15704953 -0.03563156 -0.03171453]                                              \n",
      "eps iter 17 0.015999999999999973                \n",
      "t_diff 1.14443716204470508, Y=[ 1.14443716 -0.03157535 -0.02790801]                                              \n",
      "eps iter 18 0.01399999999999997                \n",
      "t_diff 1.13195366020631328, Y=[ 1.13195366 -0.02753765 -0.02417032]                                              \n",
      "eps iter 19 0.011999999999999969                \n",
      "t_diff 1.11962995451376208, Y=[ 1.11962995 -0.02352143 -0.02050312]                                              \n",
      "eps iter 20 0.009999999999999967                \n",
      "t_diff 1.10748923343317258, Y=[ 1.10748923 -0.01952932 -0.01690737]                                              \n",
      "eps iter 21 0.007999999999999965                \n",
      "t_diff 1.09554816308402188, Y=[ 1.09554816 -0.01556362 -0.01338349]                                              \n",
      "eps iter 22 0.005999999999999964                \n",
      "t_diff 1.08381805815254548, Y=[ 1.08381806 -0.0116263  -0.0099314 ]                                              \n",
      "eps iter 23 0.003999999999999962                \n",
      "t_diff 1.07230593387961208, Y=[ 1.07230593 -0.00771904 -0.00655066]                                              \n",
      "eps iter 24 0.00199999999999996                \n",
      "t_diff 1.06101541190199038, Y=[ 1.06101541 -0.00384323 -0.00324052]                                              \n"
     ]
    }
   ],
   "source": [
    "# bot 1b\n",
    "dat = follow_locking_3d(init,a12_p0005,(.05,.001,-.002),\n",
    "                        rhs=_redu_3dc,recompute=True)\n",
    "data_r3d_p0005_list.append(dat)"
   ]
  },
  {
   "cell_type": "code",
   "execution_count": 75,
   "id": "f2f37a9f-b70c-4b00-bac3-7c28ebeae048",
   "metadata": {},
   "outputs": [
    {
     "name": "stdout",
     "output_type": "stream",
     "text": [
      "t_diff 2.85417418768671731, Y=[2.85417419 0.00499587 0.0064883 ]                                                 \n"
     ]
    }
   ],
   "source": [
    "# find init for this branch\n",
    "_,init = phase_lock_r3d([1.7,0,0], a12_p0005, .02, \n",
    "                        _redu_3dc,maxiter=1000)"
   ]
  },
  {
   "cell_type": "code",
   "execution_count": 76,
   "id": "2fc14892-c1e2-4cfa-91d6-20cc17d76cbd",
   "metadata": {
    "scrolled": true
   },
   "outputs": [
    {
     "name": "stdout",
     "output_type": "stream",
     "text": [
      "eps iter 0 0.02                \n",
      "t_diff 2.85417418768671771, Y=[2.85417419 0.00499587 0.0064883 ]                                              \n",
      "eps iter 1 0.022                \n",
      "t_diff 2.85402476304979928, Y=[2.85402476 0.00549965 0.00714176]                                              \n",
      "eps iter 2 0.023999999999999997                \n",
      "t_diff 2.85387503519648-08, Y=[2.85387504 0.0060042  0.00779609]                                              \n",
      "eps iter 3 0.025999999999999995                \n",
      "t_diff 2.85372500357179108, Y=[2.853725   0.00650953 0.00845126]                                              \n",
      "eps iter 4 0.027999999999999994                \n",
      "t_diff 2.85357466762192678, Y=[2.85357467 0.00701562 0.00910729]                                              \n",
      "eps iter 5 0.029999999999999992                \n",
      "t_diff 2.85342402679447338, Y=[2.85342403 0.00752249 0.00976418]                                              \n",
      "eps iter 6 0.03199999999999999                \n",
      "t_diff 2.85327308053809908, Y=[2.85327308 0.00803014 0.01042192]                                              \n",
      "eps iter 7 0.03399999999999999                \n",
      "t_diff 2.85312182830319968, Y=[2.85312183 0.00853856 0.01108053]                                              \n",
      "eps iter 8 0.03599999999999999                \n",
      "t_diff 2.85297026954183158, Y=[2.85297027 0.00904776 0.01174   ]                                              \n",
      "eps iter 9 0.037999999999999985                \n",
      "t_diff 2.85281840370756308, Y=[2.8528184  0.00955775 0.01240033]                                              \n",
      "eps iter 10 0.03999999999999998                \n",
      "t_diff 2.85266623025570048, Y=[2.85266623 0.01006852 0.01306153]                                              \n",
      "eps iter 11 0.04199999999999998                \n",
      "t_diff 2.85251374864316048, Y=[2.85251375 0.01058008 0.0137236 ]                                              \n",
      "eps iter 12 0.043999999999999984                \n",
      "t_diff 2.85236095832822668, Y=[2.85236096 0.01109242 0.01438655]                                              \n",
      "eps iter 13 0.04599999999999998                \n",
      "t_diff 2.85220785877112808, Y=[2.85220786 0.01160555 0.01505036]                                              \n",
      "eps iter 14 0.04799999999999997                \n",
      "t_diff 2.85205444943377548, Y=[2.85205445 0.01211947 0.01571505]                                              \n",
      "eps iter 15 0.049999999999999975                \n",
      "t_diff 2.85190072977998108, Y=[2.85190073 0.01263419 0.01638062]                                              \n",
      "eps iter 16 0.05199999999999998                \n",
      "t_diff 2.85174669927540958, Y=[2.8517467  0.0131497  0.01704706]                                              \n",
      "eps iter 17 0.05399999999999998                \n",
      "t_diff 2.85159235738770138, Y=[2.85159236 0.01366601 0.01771439]                                              \n",
      "eps iter 18 0.055999999999999966                \n",
      "t_diff 2.85143770358641-08, Y=[2.8514377  0.01418311 0.0183826 ]                                              \n",
      "eps iter 19 0.05799999999999997                \n",
      "t_diff 2.85128273734305768, Y=[2.85128274 0.01470102 0.0190517 ]                                              \n",
      "eps iter 20 0.05999999999999997                \n",
      "t_diff 2.85112745813231508, Y=[2.85112746 0.01521972 0.01972168]                                              \n",
      "eps iter 21 0.06199999999999997                \n",
      "t_diff 2.85097186543070848, Y=[2.85097187 0.01573923 0.02039255]                                              \n",
      "eps iter 22 0.06399999999999996                \n",
      "t_diff 2.85081595871747778, Y=[2.85081596 0.01625955 0.02106432]                                              \n",
      "eps iter 23 0.06599999999999996                \n",
      "t_diff 2.85065973747440408, Y=[2.85065974 0.01678067 0.02173698]                                              \n",
      "eps iter 24 0.06799999999999996                \n",
      "t_diff 2.85050320118305678, Y=[2.8505032  0.01730261 0.02241053]                                              \n",
      "eps iter 25 0.06999999999999997                \n",
      "t_diff 2.85034634932809508, Y=[2.85034635 0.01782535 0.02308498]                                              \n",
      "eps iter 26 0.07199999999999995                \n",
      "t_diff 2.85018918139614648, Y=[2.85018918 0.01834891 0.02376033]                                              \n",
      "eps iter 27 0.07399999999999995                \n",
      "t_diff 2.85003169687575308, Y=[2.8500317  0.01887328 0.02443658]                                              \n",
      "eps iter 28 0.07599999999999996                \n",
      "t_diff 2.84987389526147668, Y=[2.8498739  0.01939847 0.02511374]                                              \n",
      "eps iter 29 0.07799999999999996                \n",
      "t_diff 2.84971577604961-08, Y=[2.84971578 0.01992448 0.02579181]                                              \n",
      "eps iter 30 0.07999999999999995                \n",
      "t_diff 2.84955733873959058, Y=[2.84955734 0.02045131 0.02647078]                                              \n",
      "eps iter 31 0.08199999999999995                \n",
      "t_diff 2.84939858283420088, Y=[2.84939858 0.02097896 0.02715066]                                              \n",
      "eps iter 32 0.08399999999999995                \n",
      "t_diff 2.84923950783705608, Y=[2.84923951 0.02150743 0.02783146]                                              \n",
      "eps iter 33 0.08599999999999995                \n",
      "t_diff 2.84908011325555778, Y=[2.84908011 0.02203674 0.02851317]                                              \n",
      "eps iter 34 0.08799999999999995                \n",
      "t_diff 2.84892039860014108, Y=[2.8489204  0.02256687 0.02919579]                                              \n",
      "eps iter 35 0.08999999999999994                \n",
      "t_diff 2.84876036338423478, Y=[2.84876036 0.02309783 0.02987934]                                              \n",
      "eps iter 36 0.09199999999999994                \n",
      "t_diff 2.84860000712458208, Y=[2.84860001 0.02362962 0.03056381]                                              \n",
      "eps iter 37 0.09399999999999994                \n",
      "t_diff 2.84843932934114608, Y=[2.84843933 0.02416225 0.0312492 ]                                              \n",
      "eps iter 38 0.09599999999999993                \n",
      "t_diff 2.84827832955675508, Y=[2.84827833 0.02469571 0.03193552]                                              \n",
      "eps iter 39 0.09799999999999993                \n",
      "t_diff 2.84811700729829108, Y=[2.84811701 0.02523001 0.03262277]                                              \n"
     ]
    }
   ],
   "source": [
    "# top 1f\n",
    "dat = follow_locking_3d(init,a12_p0005,(.02,.1,.002),\n",
    "                        rhs=_redu_3dc,recompute=True)\n",
    "data_r3d_p0005_list.append(dat)"
   ]
  },
  {
   "cell_type": "code",
   "execution_count": 77,
   "id": "2edab4c2-d998-49b2-9b63-a777abded381",
   "metadata": {
    "scrolled": true
   },
   "outputs": [
    {
     "name": "stdout",
     "output_type": "stream",
     "text": [
      "eps iter 0 0.02                \n",
      "t_diff 2.85417418768671771, Y=[2.85417419 0.00499587 0.0064883 ]                                              \n",
      "eps iter 1 0.018000000000000002                \n",
      "t_diff 2.85432330966324038, Y=[2.85432331 0.00449286 0.00583568]                                              \n",
      "eps iter 2 0.016000000000000004                \n",
      "t_diff 2.85447212953683908, Y=[2.85447213 0.00399061 0.0051839 ]                                              \n",
      "eps iter 3 0.014000000000000005                \n",
      "t_diff 2.85462064786606638, Y=[2.85462065 0.00348913 0.00453298]                                              \n",
      "eps iter 4 0.012000000000000007                \n",
      "t_diff 2.85476886521072938, Y=[2.85476887 0.00298841 0.00388289]                                              \n",
      "eps iter 5 0.010000000000000009                \n",
      "t_diff 2.85491678213168948, Y=[2.85491678e+00 2.48844804e-03 3.23364981e-03]                                              \n",
      "eps iter 6 0.00800000000000001                \n",
      "t_diff 2.85506439919093558, Y=[2.85506440e+00 1.98924726e-03 2.58524776e-03]                                              \n",
      "eps iter 7 0.006000000000000012                \n",
      "t_diff 2.85521171695135708, Y=[2.85521172e+00 1.49080379e-03 1.93768363e-03]                                              \n",
      "eps iter 8 0.004000000000000014                \n",
      "t_diff 2.85535873597691808, Y=[2.85535874e+00 9.93115892e-04 1.29095555e-03]                                              \n",
      "eps iter 9 0.0020000000000000157                \n",
      "t_diff 2.85550545683240888, Y=[2.85550546e+00 4.96181867e-04 6.45061628e-04]                                              \n"
     ]
    }
   ],
   "source": [
    "# top 1b\n",
    "dat = follow_locking_3d(init,a12_p0005,(.02,.001,-.002),\n",
    "                        rhs=_redu_3dc,recompute=True)\n",
    "data_r3d_p0005_list.append(dat)"
   ]
  },
  {
   "cell_type": "markdown",
   "id": "cca0c3cb-e7c6-4c87-ba3b-1020257e6514",
   "metadata": {},
   "source": [
    "## Plot"
   ]
  },
  {
   "cell_type": "code",
   "execution_count": 78,
   "id": "c0db2cfb-e591-45f4-8fd1-79ebc0cd3989",
   "metadata": {},
   "outputs": [
    {
     "data": {
      "image/png": "[encoded data removed]",
      "text/plain": [
       "<Figure size 300x200 with 1 Axes>"
      ]
     },
     "metadata": {},
     "output_type": "display_data"
    }
   ],
   "source": [
    "quick_plot_combined(a12_p0005,\n",
    "                    kw_f={'data_list':data_p0005_list},\n",
    "                    kw_r3d={'data_list':data_r3d_p0005_list},\n",
    "                    kw_r={'etup':etup12})"
   ]
  },
  {
   "cell_type": "markdown",
   "id": "91d704c9-12f7-493f-9bb4-ecc8a7b9d321",
   "metadata": {},
   "source": [
    "# del=0.00055"
   ]
  },
  {
   "cell_type": "code",
   "execution_count": 79,
   "id": "17f64f71-1184-4006-98f4-cb460d5fe38d",
   "metadata": {},
   "outputs": [
    {
     "name": "stdout",
     "output_type": "stream",
     "text": [
      "pfactor 4\n",
      "* Loading p symbolic...\n",
      "* Loading p symbolic...\n",
      "p order=0\n",
      "p order=0\n",
      "p order=1\n",
      "p order=1\n",
      "p order=2\n",
      "p order=2\n",
      "p order=3\n",
      "p order=3\n",
      "p order=4\n",
      "p order=4\n",
      "p order=5\n",
      "p order=5\n",
      "* Loading H symbolic...\n",
      "* Loading H symbolic...\n",
      "* Computing H gw0, order=0...\n",
      "* Computing H gw1, order=0...\n",
      "* Computing H gw0, order=1...\n",
      "* Computing H gw1, order=1...\n",
      "* Computing H gw0, order=2...\n",
      "* Computing H gw1, order=2...\n",
      "* Computing H gw0, order=3...\n",
      "* Computing H gw1, order=3...\n",
      "* Computing H gw0, order=4...\n",
      "* Computing H gw1, order=4...\n",
      "* Computing H gw0, order=5...\n",
      "* Computing H gw1, order=5...\n"
     ]
    }
   ],
   "source": [
    "del12_p00055 = .00055\n",
    "a12_p00055 = nm.nmCoupling(**kw_nm, del1=del12_p00055)"
   ]
  },
  {
   "cell_type": "markdown",
   "id": "e8d12382-f1bc-43d5-a666-0566552edadb",
   "metadata": {},
   "source": [
    "## Get Branches"
   ]
  },
  {
   "cell_type": "code",
   "execution_count": 80,
   "id": "003d9883-6a3d-426a-be34-9ecf93c0ab29",
   "metadata": {},
   "outputs": [],
   "source": [
    "kw_p00055 = {'a':a12_p00055,'del1':del12_p00055,'bifdir':'bif1d_gw2/',\n",
    "             '_full_rhs':_full}"
   ]
  },
  {
   "cell_type": "code",
   "execution_count": 81,
   "id": "7018877a-4f54-4212-9615-7e04f1e9db9d",
   "metadata": {},
   "outputs": [],
   "source": [
    "data_p00055_list = []"
   ]
  },
  {
   "cell_type": "code",
   "execution_count": 82,
   "id": "3bf486bb-fecc-4652-842b-288a42c12f19",
   "metadata": {
    "scrolled": true
   },
   "outputs": [],
   "source": [
    "# top 1b\n",
    "dat = follow_phase_diffs(init=2,eps_init=0.02,eps_final=0.0005,\n",
    "                         deps=-.005,**kw_p00055)\n",
    "data_p00055_list.append(dat)"
   ]
  },
  {
   "cell_type": "code",
   "execution_count": 83,
   "id": "ef0e9f03-d0af-4f4b-aea7-1c8dc76b44a4",
   "metadata": {
    "scrolled": true
   },
   "outputs": [],
   "source": [
    "# top 1f\n",
    "dat = follow_phase_diffs(init=2,eps_init=0.02,eps_final=0.1,\n",
    "                         deps=.01,**kw_p00055)\n",
    "data_p00055_list.append(dat)"
   ]
  },
  {
   "cell_type": "code",
   "execution_count": 84,
   "id": "f7787fa2-448b-492f-9d4a-01a206adab3b",
   "metadata": {
    "scrolled": true
   },
   "outputs": [],
   "source": [
    "# bot 1b\n",
    "dat = follow_phase_diffs(init=0,eps_init=0.025,eps_final=0.0005,\n",
    "                         deps=-.005,**kw_p00055)\n",
    "data_p00055_list.append(dat)"
   ]
  },
  {
   "cell_type": "markdown",
   "id": "f4e6f112-4068-47c2-9508-171089d1081a",
   "metadata": {},
   "source": [
    "## Plot"
   ]
  },
  {
   "cell_type": "code",
   "execution_count": 85,
   "id": "168066fd-b1fd-47ef-9c31-911a0b6b01ea",
   "metadata": {},
   "outputs": [
    {
     "data": {
      "image/png": "[encoded data removed]",
      "text/plain": [
       "<Figure size 300x200 with 1 Axes>"
      ]
     },
     "metadata": {},
     "output_type": "display_data"
    }
   ],
   "source": [
    "quick_plot_combined(a12_p00055,\n",
    "                    kw_f={'data_list':data_p00055_list},\n",
    "                    #kw_r3d={'data_list':data_r3d_p00055_list},\n",
    "                    kw_r={'etup':etup12})"
   ]
  },
  {
   "cell_type": "markdown",
   "id": "dd2f8d1f-4b86-4985-b6bc-713a80c51d00",
   "metadata": {},
   "source": [
    "# del=0.0006"
   ]
  },
  {
   "cell_type": "code",
   "execution_count": 86,
   "id": "70ca2240-886b-40a7-aae1-40c0125391b6",
   "metadata": {},
   "outputs": [
    {
     "name": "stdout",
     "output_type": "stream",
     "text": [
      "pfactor 4\n",
      "* Loading p symbolic...\n",
      "* Loading p symbolic...\n",
      "p order=0\n",
      "p order=0\n",
      "p order=1\n",
      "p order=1\n",
      "p order=2\n",
      "p order=2\n",
      "p order=3\n",
      "p order=3\n",
      "p order=4\n",
      "p order=4\n",
      "p order=5\n",
      "p order=5\n",
      "* Loading H symbolic...\n",
      "* Loading H symbolic...\n",
      "* Computing H gw0, order=0...\n",
      "* Computing H gw1, order=0...\n",
      "* Computing H gw0, order=1...\n",
      "* Computing H gw1, order=1...\n",
      "* Computing H gw0, order=2...\n",
      "* Computing H gw1, order=2...\n",
      "* Computing H gw0, order=3...\n",
      "* Computing H gw1, order=3...\n",
      "* Computing H gw0, order=4...\n",
      "* Computing H gw1, order=4...\n",
      "* Computing H gw0, order=5...\n",
      "* Computing H gw1, order=5...\n"
     ]
    }
   ],
   "source": [
    "del12_p0006 = .0006\n",
    "a12_p0006 = nm.nmCoupling(**kw_nm, del1=del12_p0006)"
   ]
  },
  {
   "cell_type": "markdown",
   "id": "3664a0ae-a1a6-4257-8221-0b9f3b573434",
   "metadata": {},
   "source": [
    "## Get Branches"
   ]
  },
  {
   "cell_type": "code",
   "execution_count": 87,
   "id": "c7eee472-9e6a-4c65-aaf5-93265ac44488",
   "metadata": {},
   "outputs": [],
   "source": [
    "kw_p0006 = {'a':a12_p0006,'del1':del12_p0006,'bifdir':'bif1d_gw2/',\n",
    "            '_full_rhs':_full}"
   ]
  },
  {
   "cell_type": "code",
   "execution_count": 88,
   "id": "b4b7604d-09fa-4745-bd50-510b7a82dea2",
   "metadata": {},
   "outputs": [],
   "source": [
    "data_p0006_list = []"
   ]
  },
  {
   "cell_type": "code",
   "execution_count": 89,
   "id": "d9c81d4a-f3d3-4731-9a1a-7a28564727f0",
   "metadata": {
    "scrolled": true
   },
   "outputs": [],
   "source": [
    "dat = follow_phase_diffs(init=2,eps_init=0.02,eps_final=0.0005,\n",
    "                         deps=-.005,**kw_p0006)\n",
    "data_p0006_list.append(dat)"
   ]
  },
  {
   "cell_type": "code",
   "execution_count": 90,
   "id": "48ba1805-f1a7-4b74-b72d-f469ec77e25e",
   "metadata": {
    "scrolled": true
   },
   "outputs": [],
   "source": [
    "dat = follow_phase_diffs(init=2,eps_init=0.02,eps_final=0.1,\n",
    "                         deps=.01,**kw_p0006)\n",
    "data_p0006_list.append(dat)"
   ]
  },
  {
   "cell_type": "code",
   "execution_count": 91,
   "id": "8c2ce0f2-f8d6-4b74-af8d-649b21f54031",
   "metadata": {
    "scrolled": true
   },
   "outputs": [],
   "source": [
    "dat = follow_phase_diffs(init=1,eps_init=0.01,eps_final=0.0005,\n",
    "                         deps=-.005,**kw_p0006)\n",
    "data_p0006_list.append(dat)"
   ]
  },
  {
   "cell_type": "markdown",
   "id": "c6f1602d-9f48-4fe0-8469-9a4b20a735ac",
   "metadata": {},
   "source": [
    "## Plot"
   ]
  },
  {
   "cell_type": "code",
   "execution_count": 92,
   "id": "7abd05cd-9703-47e8-aee5-6237fbfb1e00",
   "metadata": {},
   "outputs": [
    {
     "data": {
      "image/png": "[encoded data removed]",
      "text/plain": [
       "<Figure size 300x200 with 1 Axes>"
      ]
     },
     "metadata": {},
     "output_type": "display_data"
    }
   ],
   "source": [
    "quick_plot_combined(a12_p0006,\n",
    "                    kw_f={'data_list':data_p0006_list},\n",
    "                    #kw_r3d={'data_list':data_r3d_p0006_list},\n",
    "                    kw_r={'etup':etup12})"
   ]
  },
  {
   "cell_type": "markdown",
   "id": "d4eb9abf-b345-45a4-a028-67cb1126dcad",
   "metadata": {},
   "source": [
    "# del=0.0007"
   ]
  },
  {
   "cell_type": "code",
   "execution_count": 93,
   "id": "3a2f1075-4716-41dd-8bb0-e15612e532ba",
   "metadata": {},
   "outputs": [
    {
     "name": "stdout",
     "output_type": "stream",
     "text": [
      "pfactor 4\n",
      "* Loading p symbolic...\n",
      "* Loading p symbolic...\n",
      "p order=0\n",
      "p order=0\n",
      "p order=1\n",
      "p order=1\n",
      "p order=2\n",
      "p order=2\n",
      "p order=3\n",
      "p order=3\n",
      "p order=4\n",
      "p order=4\n",
      "p order=5\n",
      "p order=5\n",
      "* Loading H symbolic...\n",
      "* Loading H symbolic...\n",
      "* Computing H gw0, order=0...\n",
      "* Computing H gw1, order=0...\n",
      "* Computing H gw0, order=1...\n",
      "* Computing H gw1, order=1...\n",
      "* Computing H gw0, order=2...\n",
      "* Computing H gw1, order=2...\n",
      "* Computing H gw0, order=3...\n",
      "* Computing H gw1, order=3...\n",
      "* Computing H gw0, order=4...\n",
      "* Computing H gw1, order=4...\n",
      "* Computing H gw0, order=5...\n",
      "* Computing H gw1, order=5...\n"
     ]
    }
   ],
   "source": [
    "del12_p0007 = .0007\n",
    "a12_p0007 = nm.nmCoupling(**kw_nm, del1=del12_p0007)"
   ]
  },
  {
   "cell_type": "markdown",
   "id": "36c0736c-baf9-46f9-9a0b-d480909b89e4",
   "metadata": {},
   "source": [
    "## Get Branches Full"
   ]
  },
  {
   "cell_type": "code",
   "execution_count": 94,
   "id": "eb6e4875-9beb-4c06-8e29-176501be0d19",
   "metadata": {},
   "outputs": [],
   "source": [
    "kw_p0007 = {'a':a12_p0007,'del1':del12_p0007,'bifdir':'bif1d_gw2/',\n",
    "            '_full_rhs':_full}"
   ]
  },
  {
   "cell_type": "code",
   "execution_count": 95,
   "id": "18657a6a-835f-4b5a-bf19-7c4563aad882",
   "metadata": {},
   "outputs": [],
   "source": [
    "data_p0007_list = []"
   ]
  },
  {
   "cell_type": "code",
   "execution_count": 96,
   "id": "3566b89f-8740-41b9-90d9-5faccbcc74e4",
   "metadata": {
    "scrolled": true
   },
   "outputs": [],
   "source": [
    "dat = follow_phase_diffs(init=2,eps_init=0.02,eps_final=0.0005,\n",
    "                         deps=-.005,**kw_p0007)\n",
    "data_p0007_list.append(dat)"
   ]
  },
  {
   "cell_type": "code",
   "execution_count": 97,
   "id": "70fa08e7-1fc2-4bcc-b1e1-e35f5083ba4c",
   "metadata": {
    "scrolled": true
   },
   "outputs": [],
   "source": [
    "dat = follow_phase_diffs(init=2,eps_init=0.02,eps_final=0.1,\n",
    "                         deps=.005,**kw_p0007)\n",
    "data_p0007_list.append(dat)"
   ]
  },
  {
   "cell_type": "code",
   "execution_count": 98,
   "id": "2e7d2e80-26f6-45cd-8df7-9c8e0b7f4b97",
   "metadata": {
    "scrolled": true
   },
   "outputs": [],
   "source": [
    "dat = follow_phase_diffs(init=1,eps_init=0.005,eps_final=0.0005,\n",
    "                         deps=-.0005,**kw_p0007)\n",
    "data_p0007_list.append(dat)"
   ]
  },
  {
   "cell_type": "markdown",
   "id": "6fb6b765-25e4-4e57-b0e6-0ff25a2e1407",
   "metadata": {},
   "source": [
    "## Get Branches 3D"
   ]
  },
  {
   "cell_type": "code",
   "execution_count": 99,
   "id": "7e00818a-a748-4ff3-9117-0a69b0e1ebdb",
   "metadata": {},
   "outputs": [],
   "source": [
    "data_r3d_p0007_list = []"
   ]
  },
  {
   "cell_type": "code",
   "execution_count": 100,
   "id": "eb2044b5-96b6-4614-8816-974db02b5f8a",
   "metadata": {
    "scrolled": true
   },
   "outputs": [
    {
     "name": "stdout",
     "output_type": "stream",
     "text": [
      "t_diff 1.47744742337534960, Y=[ 1.47744742 -0.09749533 -0.10321009]                                              \n",
      "[ 1.4774 -0.0975 -0.1032]\n"
     ]
    }
   ],
   "source": [
    "# find init for this branch\n",
    "_,init = phase_lock_r3d([1,0,0],a12_p0007,.05,_redu_3dc)\n",
    "print(init)"
   ]
  },
  {
   "cell_type": "code",
   "execution_count": 101,
   "id": "dae67b54-78b7-4790-85a2-d53d56cffd27",
   "metadata": {
    "scrolled": true
   },
   "outputs": [
    {
     "name": "stdout",
     "output_type": "stream",
     "text": [
      "eps iter 0 0.05                \n",
      "t_diff 1.47744742337534960, Y=[ 1.47744742 -0.09749533 -0.10321009]                                              \n",
      "eps iter 1 0.060000000000000005                \n",
      "t_diff 1.46881793433278188, Y=[ 1.46881793 -0.11861306 -0.12406321]                                              \n",
      "eps iter 2 0.07                \n",
      "t_diff 1.46936035202086651, Y=[ 1.46936035 -0.13961419 -0.1451039 ]                                              \n",
      "eps iter 3 0.08000000000000002                \n",
      "t_diff 1.47360285828460882, Y=[ 1.47360286 -0.16069032 -0.16632871]                                              \n",
      "eps iter 4 0.09000000000000001                \n",
      "t_diff 1.47971159832239763, Y=[ 1.4797116  -0.18190188 -0.18773104]                                              \n"
     ]
    }
   ],
   "source": [
    "# bot 1f\n",
    "dat = follow_locking_3d(init,a12_p0007,(.05,.1,.01),\n",
    "                        rhs=_redu_3dc,recompute=True)\n",
    "data_r3d_p0007_list.append(dat)"
   ]
  },
  {
   "cell_type": "code",
   "execution_count": 102,
   "id": "62201594-c4f6-47f3-8f7a-8d6a47c38531",
   "metadata": {
    "scrolled": true
   },
   "outputs": [
    {
     "name": "stdout",
     "output_type": "stream",
     "text": [
      "eps iter 0 0.05                \n",
      "t_diff 1.47744742337534960, Y=[ 1.47744742 -0.09749533 -0.10321009]                                              \n",
      "eps iter 1 0.048                \n",
      "t_diff 1.48159310604595243, Y=[ 1.48159311 -0.09320835 -0.09905842]                                              \n",
      "eps iter 2 0.046                \n",
      "t_diff 1.48721473128372763, Y=[ 1.48721473 -0.08887354 -0.09490872]                                              \n",
      "eps iter 3 0.044                \n",
      "t_diff 1.49486654703396443, Y=[ 1.49486655 -0.08446756 -0.09075485]                                              \n",
      "eps iter 4 0.041999999999999996                \n",
      "t_diff 1.50532541045814131, Y=[ 1.50532541 -0.07995648 -0.08658454]                                              \n",
      "eps iter 5 0.039999999999999994                \n",
      "t_diff 1.51954158220322-10, Y=[ 1.51954158 -0.07529719 -0.08237447]                                              \n",
      "eps iter 6 0.03799999999999999                \n",
      "t_diff 1.53821123173251120, Y=[ 1.53821123 -0.07045757 -0.07808781]                                              \n",
      "eps iter 7 0.03599999999999999                \n",
      "t_diff 1.56080559397591130, Y=[ 1.56080559 -0.06546808 -0.07368962]                                              \n",
      "eps iter 8 0.03399999999999999                \n",
      "t_diff 1.58519233106583908, Y=[ 1.58519233 -0.06044973 -0.06918316]                                              \n",
      "eps iter 9 0.03199999999999999                \n",
      "t_diff 1.60904887396093741, Y=[ 1.60904887 -0.05554329 -0.06461683]                                              \n",
      "eps iter 10 0.029999999999999985                \n",
      "t_diff 1.63114239370485750, Y=[ 1.63114239 -0.05083197 -0.06004798]                                              \n",
      "eps iter 11 0.027999999999999983                \n",
      "t_diff 1.65118601508787390, Y=[ 1.65118602 -0.04634122 -0.05551783]                                              \n",
      "eps iter 12 0.02599999999999998                \n",
      "t_diff 1.66930999469132111, Y=[ 1.66930999 -0.04206707 -0.05105023]                                              \n",
      "eps iter 13 0.02399999999999998                \n",
      "t_diff 1.68575859339504271, Y=[ 1.68575859 -0.03799492 -0.04665751]                                              \n",
      "eps iter 14 0.021999999999999978                \n",
      "t_diff 1.70077608395718661, Y=[ 1.70077608 -0.03410786 -0.0423453 ]                                              \n",
      "eps iter 15 0.019999999999999976                \n",
      "t_diff 1.71457446369960632, Y=[ 1.71457446 -0.03038968 -0.03811549]                                              \n",
      "eps iter 16 0.017999999999999974                \n",
      "t_diff 1.72732948093531442, Y=[ 1.72732948 -0.02682575 -0.0339679 ]                                              \n",
      "eps iter 17 0.015999999999999973                \n",
      "t_diff 1.73918492264481062, Y=[ 1.73918492 -0.02340317 -0.02990115]                                              \n",
      "eps iter 18 0.01399999999999997                \n",
      "t_diff 1.75025841846726742, Y=[ 1.75025842 -0.02011065 -0.02591324]                                              \n",
      "eps iter 19 0.011999999999999969                \n",
      "t_diff 1.76064673004934713, Y=[ 1.76064673 -0.01693825 -0.02200183]                                              \n",
      "eps iter 20 0.009999999999999967                \n",
      "t_diff 1.77043007504391773, Y=[ 1.77043008 -0.01387724 -0.01816444]                                              \n",
      "eps iter 21 0.007999999999999965                \n",
      "t_diff 1.77967552594708988, Y=[ 1.77967553 -0.01091991 -0.01439851]                                              \n",
      "eps iter 22 0.005999999999999964                \n",
      "t_diff 1.78843964652768608, Y=[ 1.78843965 -0.00805936 -0.01070153]                                              \n",
      "eps iter 23 0.003999999999999962                \n",
      "t_diff 1.79677053336240508, Y=[ 1.79677053 -0.00528946 -0.00707104]                                              \n",
      "eps iter 24 0.00199999999999996                \n",
      "t_diff 1.80470940274446638, Y=[ 1.8047094  -0.00260467 -0.00350463]                                              \n"
     ]
    }
   ],
   "source": [
    "# bot 1b\n",
    "dat = follow_locking_3d(init,a12_p0007,(.05,.001,-.002),\n",
    "                        rhs=_redu_3dc,recompute=True)\n",
    "data_r3d_p0007_list.append(dat)"
   ]
  },
  {
   "cell_type": "code",
   "execution_count": 103,
   "id": "c8d8c859-0b54-4778-8147-1b9160d72ceb",
   "metadata": {},
   "outputs": [
    {
     "name": "stdout",
     "output_type": "stream",
     "text": [
      "t_diff 1.18470878907779528, Y=[ 1.18470879 -0.0100413  -0.009114  ]                                              \n"
     ]
    }
   ],
   "source": [
    "# find init for this branch\n",
    "_,init = phase_lock_r3d([.8,-.01,-.01],a12_p0007,.005,_redu_3dc)"
   ]
  },
  {
   "cell_type": "code",
   "execution_count": 104,
   "id": "02ea1c47-1293-4607-a5ec-5f0dcc89d8d7",
   "metadata": {
    "scrolled": true
   },
   "outputs": [
    {
     "name": "stdout",
     "output_type": "stream",
     "text": [
      "eps iter 0 0.005                \n",
      "t_diff 1.18470878907759428, Y=[ 1.18470879 -0.0100413  -0.009114  ]                                              \n",
      "eps iter 1 0.0055                \n",
      "t_diff 1.19098099007456672, Y=[ 1.19098099 -0.01105356 -0.01007014]                                              \n",
      "eps iter 2 0.005999999999999999                \n",
      "t_diff 1.19762904970444952, Y=[ 1.19762905 -0.0120667  -0.01103666]                                              \n",
      "eps iter 3 0.006499999999999999                \n",
      "t_diff 1.20475767816216523, Y=[ 1.20475768 -0.01308044 -0.01201481]                                              \n",
      "eps iter 4 0.006999999999999998                \n",
      "t_diff 1.21253539622906881, Y=[ 1.2125354  -0.01409437 -0.01300653]                                              \n",
      "eps iter 5 0.007499999999999998                \n",
      "t_diff 1.22126796763492560, Y=[ 1.22126797 -0.01510783 -0.01401518]                                              \n",
      "eps iter 6 0.007999999999999997                \n",
      "t_diff 1.23163874546273809, Y=[ 1.23163875 -0.01611956 -0.01504795]                                              \n",
      "eps iter 7 0.008499999999999997                \n",
      "t_diff 1.24618134124862360, Y=[ 1.24618134 -0.01712558 -0.01613012]                                              \n"
     ]
    }
   ],
   "source": [
    "# top 1f\n",
    "dat = follow_locking_3d(init,a12_p0007,(.005,.009,.0005),\n",
    "                        rhs=_redu_3dc,recompute=True)\n",
    "data_r3d_p0007_list.append(dat)"
   ]
  },
  {
   "cell_type": "code",
   "execution_count": 105,
   "id": "e7054867-d6f9-4592-8dee-be629245ab5c",
   "metadata": {
    "scrolled": true
   },
   "outputs": [
    {
     "name": "stdout",
     "output_type": "stream",
     "text": [
      "eps iter 0 0.005                \n",
      "t_diff 1.18470878907759428, Y=[ 1.18470879 -0.0100413  -0.009114  ]                                              \n",
      "eps iter 1 0.004                \n",
      "t_diff 1.17303064381558241, Y=[ 1.17303064 -0.00802026 -0.00722954]                                              \n",
      "eps iter 2 0.003                \n",
      "t_diff 1.16223390325198842, Y=[ 1.1622339  -0.00600485 -0.0053785 ]                                              \n",
      "eps iter 3 0.002                \n",
      "t_diff 1.15211039148526842, Y=[ 1.15211039 -0.00399592 -0.00355789]                                              \n"
     ]
    }
   ],
   "source": [
    "# top 1b\n",
    "dat = follow_locking_3d(init,a12_p0007,(.005,.001,-.001),\n",
    "                        rhs=_redu_3dc,recompute=True)\n",
    "data_r3d_p0007_list.append(dat)"
   ]
  },
  {
   "cell_type": "markdown",
   "id": "0b9630da-84c7-491c-9a8c-f83f0fccd917",
   "metadata": {},
   "source": [
    "## Plot"
   ]
  },
  {
   "cell_type": "code",
   "execution_count": 106,
   "id": "ec73b414-5dd0-4fd3-876d-d3eb8b65769b",
   "metadata": {},
   "outputs": [
    {
     "data": {
      "image/png": "[encoded data removed]",
      "text/plain": [
       "<Figure size 300x200 with 1 Axes>"
      ]
     },
     "metadata": {},
     "output_type": "display_data"
    }
   ],
   "source": [
    "quick_plot_combined(a12_p0007,\n",
    "                    kw_f={'data_list':data_p0007_list},\n",
    "                    kw_r3d={'data_list':data_r3d_p0007_list},\n",
    "                    kw_r={'etup':etup12})"
   ]
  },
  {
   "cell_type": "code",
   "execution_count": null,
   "id": "893a6fd1-44fb-4a16-b82e-14f70dba6f5e",
   "metadata": {},
   "outputs": [],
   "source": []
  },
  {
   "cell_type": "code",
   "execution_count": null,
   "id": "fe39321a-fde5-4572-8214-2aa0c0d22963",
   "metadata": {},
   "outputs": [],
   "source": []
  }
 ],
 "metadata": {
  "jpcodetoc-autonumbering": false,
  "jpcodetoc-showcode": false,
  "jpcodetoc-showmarkdowntxt": false,
  "jpcodetoc-showtags": false,
  "kernelspec": {
   "display_name": "Python 3 (ipykernel)",
   "language": "python",
   "name": "python3"
  },
  "language_info": {
   "codemirror_mode": {
    "name": "ipython",
    "version": 3
   },
   "file_extension": ".py",
   "mimetype": "text/x-python",
   "name": "python",
   "nbconvert_exporter": "python",
   "pygments_lexer": "ipython3",
   "version": "3.10.14"
  }
 },
 "nbformat": 4,
 "nbformat_minor": 5
}
