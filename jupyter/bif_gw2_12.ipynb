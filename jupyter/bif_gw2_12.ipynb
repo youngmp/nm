{
 "cells": [
  {
   "cell_type": "markdown",
   "id": "9d90193c-1271-4ef8-b601-e417269e7b66",
   "metadata": {},
   "source": [
    "# gw2 1:2 Bifurcation Diagrams"
   ]
  },
  {
   "cell_type": "markdown",
   "id": "30f6bc4c-539d-45c0-8819-3eba2e803942",
   "metadata": {},
   "source": [
    "TODO:\n",
    "fix bifurcation code to use last non-nan initial condition, as opposed to reverting to the original initial condition."
   ]
  },
  {
   "cell_type": "markdown",
   "id": "5daea907-e8ff-472c-9bda-371eae4425de",
   "metadata": {},
   "source": [
    "SHOULD I BE USING THE TAYLOR EXPANSION IN PSI OF THE COUPLING TERM IN THE AVERAGED PSI EQUATION??????"
   ]
  },
  {
   "cell_type": "markdown",
   "id": "7d15ba2f-ca6b-40bb-9c1a-cc580d525eca",
   "metadata": {},
   "source": [
    "I'm trying to figure out why the 1d bifurcation diagram in the full model is \"flipped\" compared to the reduced model.\n",
    "\n",
    "It is unclear if it's in how I set up the model equations, or if there is a calculation error.\n",
    "\n",
    "The homogeneous case works well enough. but with even a tiny bit of heterogeneity, the solutions don't match for small epsilon."
   ]
  },
  {
   "cell_type": "markdown",
   "id": "7c75e70d-e9a1-49a4-8669-c57c246bf022",
   "metadata": {},
   "source": [
    "# Inits"
   ]
  },
  {
   "cell_type": "code",
   "execution_count": 34,
   "id": "e6e17701-2fca-4c3d-863d-e1012d4de539",
   "metadata": {},
   "outputs": [],
   "source": [
    "import sys; sys.path.insert(0, '..') # add parent folder path where lib folder is\n",
    "# user-defined\n",
    "import nmCoupling as nm\n",
    "# import nmCoupling_old as nm\n",
    "import response as rp\n",
    "\n",
    "import gw2\n",
    "\n",
    "from lib.util import (get_phase, freq_est, get_tongue_1d, pl_exist_1d, \n",
    "get_period, bif1d, follow_phase_diffs, phase_lock_r3d, follow_locking_3d,\n",
    "load_phase_lock_r3d)\n",
    "\n",
    "from lib.rhs import _redu_c,_full\n",
    "from lib.rhs import _redu_3dc_gw as _redu_3dc\n",
    "\n",
    "from lib.plot_util import add_diagram_1d_scatter, quick_plot_combined\n",
    "\n",
    "import numpy as np\n",
    "import scipy as sp\n",
    "import matplotlib.pyplot as plt\n",
    "from scipy.integrate import solve_ivp\n",
    "import sympy as sym\n",
    "\n",
    "from scipy.optimize import root,bisect\n",
    "from copy import deepcopy\n",
    "import os\n",
    "\n",
    "plt.rcParams.update({\n",
    "    \"text.usetex\": True,\n",
    "    \"font.family\": \"Helvetica\"\n",
    "})\n",
    "\n",
    "nmc = nm.nmCoupling\n",
    "rsp = rp.Response"
   ]
  },
  {
   "cell_type": "markdown",
   "id": "c05812af-0146-49db-a32c-c203f407ee3f",
   "metadata": {},
   "source": [
    "## Dicts"
   ]
  },
  {
   "cell_type": "code",
   "execution_count": 2,
   "id": "45128209-2f83-4e15-84e8-10ff70c37095",
   "metadata": {},
   "outputs": [],
   "source": [
    "kw_sim = {'rtol':1e-8,'atol':1e-8,'method':'LSODA'}"
   ]
  },
  {
   "cell_type": "code",
   "execution_count": 3,
   "id": "8d341e42-7484-4bb5-ac18-63ea04396ecb",
   "metadata": {},
   "outputs": [],
   "source": [
    "pd1 = {'v1':.84,'v2':.42,'v4':.35,'v6':.35,'v8':1,\n",
    "           'k1':1,'k2':1,'k3':.7,'k4':1,'k5':.7,\n",
    "           'k6':1,'k7':.35,'k8':1,'K':0.5,'kc':1,\n",
    "           'n':6,'L':0,'del':0,'om':1,'om_fix':1}"
   ]
  },
  {
   "cell_type": "code",
   "execution_count": 4,
   "id": "f157938f-9e3b-4a41-9f79-8ae003d1dd64",
   "metadata": {
    "editable": true,
    "slideshow": {
     "slide_type": ""
    },
    "tags": []
   },
   "outputs": [],
   "source": [
    "kws1 = {'var_names':['x','y','z','v'],\n",
    "        'pardict':pd1,\n",
    "        'rhs':gw2.rhs,\n",
    "        'coupling':gw2.coupling,\n",
    "        'init':np.array([.3882,.523,1.357,.4347,24.2]),\n",
    "        'TN':2000,\n",
    "        'trunc_order':3,\n",
    "        'z_forward':False,\n",
    "        'i_forward':False,\n",
    "        'i_forward':[False,True,False,False,False],\n",
    "        'i_bad_dx':[False,True,False,False,False],\n",
    "        'max_iter':20,\n",
    "        'rtol':1e-12,\n",
    "        'atol':1e-12,\n",
    "        'rel_tol':1e-9,\n",
    "        'save_fig':False,\n",
    "        'lc_prominence':.05,\n",
    "        'factor':0.5}"
   ]
  },
  {
   "cell_type": "markdown",
   "id": "8b20fe1b-c0b1-4b41-ab7f-c548396099b8",
   "metadata": {},
   "source": [
    "## Defs"
   ]
  },
  {
   "cell_type": "code",
   "execution_count": 5,
   "id": "2edce639-1dd7-4df8-a6db-4caab272a554",
   "metadata": {},
   "outputs": [],
   "source": [
    "kw_bif = {'method':'LSODA','dense_output':True,'rtol':1e-9,'atol':1e-9}"
   ]
  },
  {
   "cell_type": "code",
   "execution_count": 6,
   "id": "a4500ca6-6d78-4bc8-a271-847195e63272",
   "metadata": {},
   "outputs": [],
   "source": [
    "eps_list12r = np.linspace(0.001,.1,50)\n",
    "etup12 = (.001,.1,50)"
   ]
  },
  {
   "cell_type": "code",
   "execution_count": 7,
   "id": "d6b2f10b-bb17-49e5-8be4-e1d230bdebfb",
   "metadata": {
    "editable": true,
    "slideshow": {
     "slide_type": ""
    },
    "tags": []
   },
   "outputs": [],
   "source": [
    "x_temp = np.linspace(-np.pi,3*np.pi,500)"
   ]
  },
  {
   "cell_type": "markdown",
   "id": "09c6af84-79c5-4d5c-8f15-793d69852bd0",
   "metadata": {},
   "source": [
    "rhs redu 4d"
   ]
  },
  {
   "cell_type": "code",
   "execution_count": 8,
   "id": "fe60ce48-43a0-4967-8473-5dfc562d329a",
   "metadata": {},
   "outputs": [],
   "source": [
    "def _redu_4dc(t,y,a,eps=.01,del1=0):\n",
    "    system1 = a.system1;system2 = a.system2\n",
    "    pdA = a.system1.pardict;pdB = a.system2.pardict\n",
    "\n",
    "    s,ds = np.linspace(0,2*np.pi*a._m[1],2000,retstep=True)\n",
    "    thA,psA,thB,psB = y\n",
    "\n",
    "    om = a._n[1]/a._m[1]\n",
    "    in1 = thA-om*thB+om*s;in2 = s\n",
    "\n",
    "    zA = a.th_lam(in1,psA);iA = a.ps_lam(in1,psA)\n",
    "    zB = a.th_lam(in2,psB);iB = a.ps_lam(in2,psB)\n",
    "\n",
    "    # coupling terms\n",
    "    v1 = system1.lc['lam_v0'](in1) + a.g_lam(in1,psA)\n",
    "    v2 = system2.lc['lam_v1'](in2) + a.g_lam(in2,psB)\n",
    "\n",
    "    GA = (pdA['K0']*(v1+v2)/2/pdA['kc0'])*pdA['om_fix0']\n",
    "    GB = (pdB['K1']*(v2+v1)/2/pdB['kc1'])*pdB['om_fix1']\n",
    "\n",
    "    dthA = eps*np.sum(zA*GA)*ds/(2*np.pi*a._m[1])\n",
    "    dpsA = a.system1.kappa_val*psA + eps*np.sum(iA*GA)*ds/(2*np.pi*a._m[1])\n",
    "\n",
    "    dthB = eps*np.sum(zB*GB)*ds/(2*np.pi*a._m[1])\n",
    "    dpsB = a.system2.kappa_val*psB + eps*np.sum(iB*GB)*ds/(2*np.pi*a._m[1])\n",
    "    \n",
    "    return np.array([om*dthA,om*dpsA,dthB,dpsB])"
   ]
  },
  {
   "cell_type": "markdown",
   "id": "03ccb76d-97df-4272-b2fa-92dfdcd3c01c",
   "metadata": {},
   "source": [
    "## Initialize Response Functions"
   ]
  },
  {
   "cell_type": "code",
   "execution_count": 9,
   "id": "7e2a1153-f3a9-49da-89ac-70a3aef481a0",
   "metadata": {
    "editable": true,
    "slideshow": {
     "slide_type": ""
    },
    "tags": []
   },
   "outputs": [
    {
     "name": "stdout",
     "output_type": "stream",
     "text": [
      "mkdir ./data/gw0/\n",
      "* Loading LC data...\n",
      "self.T 6.283185307179586 omfix 3.859018323065443\n",
      "* Loading monodromy...\n",
      "* Floquet Exponent kappa =-0.15846659975382527\n",
      "* Loading g symbolic...\n",
      "* Computing g...\n",
      "* Loading heterogeneous terms...\n",
      "* Computing z...\n",
      "* Computing i...\n",
      "mkdir ./data/gw1/\n",
      "* Loading LC data...\n",
      "self.T 6.283185307179586 omfix 3.859018323065443\n",
      "* Loading monodromy...\n",
      "* Floquet Exponent kappa =-0.15846659975382527\n",
      "* Loading g symbolic...\n",
      "* Computing g...\n",
      "* Loading heterogeneous terms...\n",
      "* Computing z...\n",
      "* Computing i...\n"
     ]
    }
   ],
   "source": [
    "system1 = rsp(idx=0,model_name='gw0',**kws1)\n",
    "system2 = rsp(idx=1,model_name='gw1',**kws1)"
   ]
  },
  {
   "cell_type": "markdown",
   "id": "b094ecba-4594-43fc-a155-5eb3d12d38f8",
   "metadata": {},
   "source": [
    "# del=0.0"
   ]
  },
  {
   "cell_type": "code",
   "execution_count": 10,
   "id": "87d1a280-61db-4a50-a8dd-e623acace483",
   "metadata": {
    "editable": true,
    "slideshow": {
     "slide_type": ""
    },
    "tags": []
   },
   "outputs": [
    {
     "name": "stdout",
     "output_type": "stream",
     "text": [
      "pfactor 4\n",
      "* Loading p symbolic...\n",
      "* Loading p symbolic...\n",
      "* Loading H symbolic...\n",
      "* Loading H symbolic...\n",
      "* Loading H gw0, order=0...\n",
      "* Loading H gw1, order=0...\n",
      "* Loading H gw0, order=1...\n",
      "* Loading H gw1, order=1...\n",
      "* Loading H gw0, order=2...\n",
      "* Loading H gw1, order=2...\n",
      "* Loading H gw0, order=3...\n",
      "* Loading H gw1, order=3...\n"
     ]
    }
   ],
   "source": [
    "del12_p0 = 0\n",
    "a12_p0 = nm.nmCoupling(system1,system2,\n",
    "                    #recompute_list=['p_data_gw0','p_data_gw1','h_data_gw0','h_data_gw1'],\n",
    "                    #recompute_list=['h_data_gw0','h_data_gw1'],\n",
    "                    #recompute_list=recompute_list,\n",
    "                    _n=('om0',1),_m=('om1',2),\n",
    "                    NH=1000,\n",
    "                    save_fig=False,\n",
    "                    del1=del12_p0)"
   ]
  },
  {
   "cell_type": "markdown",
   "id": "53c970af-b00b-4a4a-ac71-8f9c1b804e13",
   "metadata": {},
   "source": [
    "H functions"
   ]
  },
  {
   "cell_type": "code",
   "execution_count": 11,
   "id": "963b97d7-544c-45cd-a05c-62918a063993",
   "metadata": {},
   "outputs": [],
   "source": [
    "# x_temp2 = np.linspace(0,2*np.pi,100)\n",
    "# y = _redu_c(0,x_temp2,a12_p0,.01)\n",
    "# fig,axs = plt.subplots(figsize=(6,2))\n",
    "# axs.plot(x_temp2,y)"
   ]
  },
  {
   "cell_type": "markdown",
   "id": "988f9b34-f96f-42b2-902b-f0afe411d3e5",
   "metadata": {},
   "source": [
    "## Get Branches Full"
   ]
  },
  {
   "cell_type": "code",
   "execution_count": 12,
   "id": "db87b062-7695-4e19-aee5-f48cf400c423",
   "metadata": {},
   "outputs": [],
   "source": [
    "kw_p0 = {'a':a12_p0,'del1':del12_p0,'recompute':False,\n",
    "        'bifdir':'bif1d_gw2/','_full_rhs':_full}"
   ]
  },
  {
   "cell_type": "code",
   "execution_count": 13,
   "id": "8d29996e-414f-4d98-9ee1-513ecc2765aa",
   "metadata": {},
   "outputs": [],
   "source": [
    "data_p0_list = []"
   ]
  },
  {
   "cell_type": "code",
   "execution_count": 14,
   "id": "a376c76f-ccb9-4aa0-8e07-fbe4b8d5e482",
   "metadata": {},
   "outputs": [],
   "source": [
    "# bot\n",
    "dat = follow_phase_diffs(init=0,eps_init=0.005,eps_final=0.078,\n",
    "                         deps=.01,**kw_p0)\n",
    "data_p0_list.append(dat)"
   ]
  },
  {
   "cell_type": "code",
   "execution_count": 15,
   "id": "07662ea0-90fd-4110-9fb4-f12960e73b61",
   "metadata": {
    "scrolled": true
   },
   "outputs": [],
   "source": [
    "# mid 1f\n",
    "dat = follow_phase_diffs(init=2.5,eps_init=0.05,eps_final=0.1,\n",
    "                         deps=.01,**kw_p0)\n",
    "data_p0_list.append(dat)"
   ]
  },
  {
   "cell_type": "code",
   "execution_count": 16,
   "id": "8a917e60-cfbe-483a-a19c-86433e854142",
   "metadata": {},
   "outputs": [],
   "source": [
    "# mid 1b\n",
    "dat = follow_phase_diffs(init=2.5,eps_init=0.05,eps_final=0.035,\n",
    "                         deps=-.002,**kw_p0)\n",
    "data_p0_list.append(dat)"
   ]
  },
  {
   "cell_type": "markdown",
   "id": "e9da5948-4f88-408f-b912-030442f9f9b2",
   "metadata": {},
   "source": [
    "## Get Branches 3D"
   ]
  },
  {
   "cell_type": "code",
   "execution_count": 17,
   "id": "60acb738-c1a8-4314-a74c-4569d7beb944",
   "metadata": {},
   "outputs": [],
   "source": [
    "data_r3d_p0_list = []"
   ]
  },
  {
   "cell_type": "code",
   "execution_count": 18,
   "id": "7e6e6fe2-8c25-4541-9d3c-00d0c71056f5",
   "metadata": {
    "scrolled": true
   },
   "outputs": [
    {
     "name": "stdout",
     "output_type": "stream",
     "text": [
      "t_diff 1.12791765776687950, Y=[ 1.12791766 -0.09509141 -0.08287027]                                              \n",
      "[ 1.1279 -0.0951 -0.0829]\n"
     ]
    }
   ],
   "source": [
    "# find init for this branch\n",
    "_,init = phase_lock_r3d([1.5,0,0],a12_p0,.05,_redu_3dc)\n",
    "print(init)"
   ]
  },
  {
   "cell_type": "code",
   "execution_count": 19,
   "id": "5d40d438-ec49-4026-915c-0ee77f7960f8",
   "metadata": {
    "scrolled": true
   },
   "outputs": [],
   "source": [
    "# bot 1f\n",
    "dat = follow_locking_3d(init,a12_p0,(.05,.11,.01),\n",
    "                        rhs=_redu_3dc,recompute=False)\n",
    "data_r3d_p0_list.append(dat)"
   ]
  },
  {
   "cell_type": "code",
   "execution_count": 20,
   "id": "11fdde43-5991-4786-a6e2-4e00af1afde9",
   "metadata": {
    "scrolled": true
   },
   "outputs": [],
   "source": [
    "# bot 1b\n",
    "dat = follow_locking_3d(init,a12_p0,(.05,.001,-.005),\n",
    "                        rhs=_redu_3dc,recompute=False)\n",
    "data_r3d_p0_list.append(dat)"
   ]
  },
  {
   "cell_type": "code",
   "execution_count": 21,
   "id": "e704a003-f761-4e75-a06a-9e87f3512824",
   "metadata": {},
   "outputs": [
    {
     "name": "stdout",
     "output_type": "stream",
     "text": [
      "t_diff 1.12791765776688370, Y=[ 7.41110296 -0.09509141 -0.08287027]                                              \n"
     ]
    }
   ],
   "source": [
    "# find init for this branch\n",
    "_,init = phase_lock_r3d([2.4,0,0],a12_p0,.05,_redu_3dc)"
   ]
  },
  {
   "cell_type": "code",
   "execution_count": 22,
   "id": "0099f732-3df4-4f24-9330-aa0c2d3345ee",
   "metadata": {
    "scrolled": true
   },
   "outputs": [],
   "source": [
    "# top 1f\n",
    "dat = follow_locking_3d(init,a12_p0,(.05,.09,.01),\n",
    "                        rhs=_redu_3dc,recompute=False)\n",
    "data_r3d_p0_list.append(dat)"
   ]
  },
  {
   "cell_type": "code",
   "execution_count": 23,
   "id": "75674030-5f90-4fdf-b5a4-f25e50ef3e20",
   "metadata": {
    "scrolled": true
   },
   "outputs": [],
   "source": [
    "# top 1b\n",
    "dat = follow_locking_3d(init,a12_p0,(.05,.001,-.01),\n",
    "                        rhs=_redu_3dc,recompute=False)\n",
    "data_r3d_p0_list.append(dat)"
   ]
  },
  {
   "cell_type": "markdown",
   "id": "e2f763d1-3e6e-4e92-b693-0a3dd7788ab7",
   "metadata": {},
   "source": [
    "## Plot"
   ]
  },
  {
   "cell_type": "code",
   "execution_count": 24,
   "id": "bd4000d7-34c8-4f25-a5b3-e921cfc7c93e",
   "metadata": {},
   "outputs": [
    {
     "data": {
      "image/png": "[encoded data removed]",
      "text/plain": [
       "<Figure size 300x200 with 1 Axes>"
      ]
     },
     "metadata": {},
     "output_type": "display_data"
    }
   ],
   "source": [
    "quick_plot_combined(a12_p0,\n",
    "                    kw_f={'data_list':data_p0_list},\n",
    "                    kw_r3d={'data_list':data_r3d_p0_list},\n",
    "                    kw_r={'etup':etup12})"
   ]
  },
  {
   "cell_type": "markdown",
   "id": "1e9997d2-5346-4844-9cb5-2afc819fd585",
   "metadata": {},
   "source": [
    "# del=0.0002"
   ]
  },
  {
   "cell_type": "code",
   "execution_count": 25,
   "id": "070507fb-c93d-43c3-9fe2-44236aab4ac9",
   "metadata": {},
   "outputs": [
    {
     "name": "stdout",
     "output_type": "stream",
     "text": [
      "pfactor 4\n",
      "* Loading p symbolic...\n",
      "* Loading p symbolic...\n",
      "p order=0\n",
      "p order=0\n",
      "p order=1\n",
      "p order=1\n",
      "p order=2\n",
      "p order=2\n",
      "p order=3\n",
      "p order=3\n",
      "* Loading H symbolic...\n",
      "* Loading H symbolic...\n",
      "* Computing H gw0, order=0...\n",
      "* Computing H gw1, order=0...\n",
      "* Computing H gw0, order=1...\n",
      "* Computing H gw1, order=1...\n",
      "* Computing H gw0, order=2...\n",
      "* Computing H gw1, order=2...\n",
      "* Computing H gw0, order=3...\n",
      "* Computing H gw1, order=3...\n"
     ]
    }
   ],
   "source": [
    "del12_p0002 = .0002\n",
    "a12_p0002 = nm.nmCoupling(system1,system2,\n",
    "                    #recompute_list=['p_data_gw0','p_data_gw1','h_data_gw0','h_data_gw1'],\n",
    "                    #recompute_list=['h_data_gw0','h_data_gw1'],\n",
    "                    #recompute_list=recompute_list,\n",
    "                    _n=('om0',1),_m=('om1',2),\n",
    "                    NH=1000,\n",
    "                    save_fig=False,\n",
    "                    del1=1*del12_p0002)"
   ]
  },
  {
   "cell_type": "markdown",
   "id": "5263c5ff-9235-40bc-9262-0df0d4c83e80",
   "metadata": {},
   "source": [
    "## Get Branches Full"
   ]
  },
  {
   "cell_type": "code",
   "execution_count": 26,
   "id": "7f44118a-6b61-4cc1-8165-b36c923953b8",
   "metadata": {},
   "outputs": [],
   "source": [
    "kw_p0002 = {'a':a12_p0002,'del1':del12_p0002,'bifdir':'bif1d_gw2/','_full_rhs':_full}"
   ]
  },
  {
   "cell_type": "code",
   "execution_count": 27,
   "id": "68302cd1-84e6-465c-8854-3b95f2535278",
   "metadata": {},
   "outputs": [],
   "source": [
    "data_p0002_list = []"
   ]
  },
  {
   "cell_type": "code",
   "execution_count": 28,
   "id": "913e7b2d-0576-47fd-b909-d071d1140686",
   "metadata": {
    "scrolled": true
   },
   "outputs": [],
   "source": [
    "# top 1b\n",
    "dat = follow_phase_diffs(init=2,eps_init=0.02,eps_final=0.0005,\n",
    "                         deps=-.0005,**kw_p0002)\n",
    "data_p0002_list.append(dat)"
   ]
  },
  {
   "cell_type": "code",
   "execution_count": 29,
   "id": "83f4d9f1-cee7-4ed4-ba5b-9803e186261f",
   "metadata": {
    "scrolled": true
   },
   "outputs": [],
   "source": [
    "# top 1f\n",
    "dat = follow_phase_diffs(init=2,eps_init=0.02,eps_final=0.1,\n",
    "                         deps=.01,**kw_p0002)\n",
    "data_p0002_list.append(dat)"
   ]
  },
  {
   "cell_type": "code",
   "execution_count": 30,
   "id": "0a9889ba-3c36-4145-aadd-a94e1f637aeb",
   "metadata": {
    "scrolled": true
   },
   "outputs": [],
   "source": [
    "# bot 1b\n",
    "dat = follow_phase_diffs(init=0,eps_init=0.025,eps_final=0.0005,\n",
    "                         deps=-.005,**kw_p0002)\n",
    "data_p0002_list.append(dat)"
   ]
  },
  {
   "cell_type": "code",
   "execution_count": 31,
   "id": "24ee3df1-08a0-42da-8daf-555206133b0a",
   "metadata": {
    "scrolled": true
   },
   "outputs": [],
   "source": [
    "# top 1f\n",
    "dat = follow_phase_diffs(init=0,eps_init=0.025,eps_final=0.057,\n",
    "                         deps=.005,**kw_p0002)\n",
    "data_p0002_list.append(dat)"
   ]
  },
  {
   "cell_type": "markdown",
   "id": "70536b34-f652-4e87-9385-0b82e6f5e8b0",
   "metadata": {},
   "source": [
    "## Get Branches 3D"
   ]
  },
  {
   "cell_type": "code",
   "execution_count": 35,
   "id": "8f9e1224-953f-4655-ae36-c5a16e930787",
   "metadata": {},
   "outputs": [],
   "source": [
    "data_r3d_p0002_list = []"
   ]
  },
  {
   "cell_type": "code",
   "execution_count": 36,
   "id": "24431eca-6a80-4f3e-b9ca-9be85401e394",
   "metadata": {
    "scrolled": true
   },
   "outputs": [
    {
     "name": "stdout",
     "output_type": "stream",
     "text": [
      "t_diff 1.18608002472052320, Y=[ 1.18608002 -0.09817262 -0.08820751]                                              \n",
      "[ 1.1861 -0.0982 -0.0882]\n"
     ]
    }
   ],
   "source": [
    "# find init for this branch\n",
    "_,init = load_phase_lock_r3d([1.5,0,0],a12_p0002,.05,_redu_3dc,\n",
    "                            bifdir='gw2_bif1d')\n",
    "print(init)"
   ]
  },
  {
   "cell_type": "code",
   "execution_count": 37,
   "id": "775e7dd9-a8ff-4c11-acb8-5293b5c8f49b",
   "metadata": {
    "scrolled": true
   },
   "outputs": [],
   "source": [
    "# bot 1f\n",
    "dat = follow_locking_3d(init,a12_p0002,(.05,.07,.01),\n",
    "                        rhs=_redu_3dc,recompute=False)\n",
    "data_r3d_p0002_list.append(dat)"
   ]
  },
  {
   "cell_type": "code",
   "execution_count": 38,
   "id": "ee365184-2364-4e86-be53-295a21de4bd5",
   "metadata": {
    "scrolled": true
   },
   "outputs": [],
   "source": [
    "# bot 1b\n",
    "dat = follow_locking_3d(init,a12_p0002,(.05,.001,-.005),\n",
    "                        rhs=_redu_3dc,recompute=False)\n",
    "data_r3d_p0002_list.append(dat)"
   ]
  },
  {
   "cell_type": "code",
   "execution_count": 39,
   "id": "a8b75374-cf24-4c41-89d2-d9742c4d04fa",
   "metadata": {},
   "outputs": [
    {
     "name": "stdout",
     "output_type": "stream",
     "text": [
      "t_diff 4.26134071454067808, Y=[-14.58821521  -1.43124976  -1.35721309]                                              \n"
     ]
    }
   ],
   "source": [
    "# find init for this branch\n",
    "_,init = load_phase_lock_r3d([2.4,.1,.1],a12_p0002,.05,_redu_3dc,\n",
    "                            bifdir='gw2_bif1d')"
   ]
  },
  {
   "cell_type": "code",
   "execution_count": 40,
   "id": "f3ccd96b-eb13-4d8d-9322-aafc48ee1cfa",
   "metadata": {
    "scrolled": true
   },
   "outputs": [
    {
     "name": "stdout",
     "output_type": "stream",
     "text": [
      "eps iter 0 0.05                \n",
      "t_diff 4.26134071454055208, Y=[ 4.26134071 -1.43124976 -1.35721309]                                              \n",
      "eps iter 1 0.060000000000000005                \n",
      "t_diff 1.220692263191571510, Y=[ 1.22069226 -0.11889116 -0.10855998]                                              \n",
      "eps iter 2 0.07                \n",
      "t_diff 1.25123693065309-11, Y=[ 1.25123693 -0.1397285  -0.1293024 ]                                              \n",
      "eps iter 3 0.08000000000000002                \n",
      "t_diff 1.27810986768500511, Y=[ 1.27810987 -0.1606648  -0.15031542]                                              \n",
      "eps iter 4 0.09000000000000001                \n",
      "t_diff 1.30195758216819462, Y=[ 1.30195758 -0.18169864 -0.17154321]                                              \n"
     ]
    }
   ],
   "source": [
    "# top 1f\n",
    "dat = follow_locking_3d(init,a12_p0002,(.05,.1,.01),\n",
    "                        rhs=_redu_3dc,recompute=False)\n",
    "data_r3d_p0002_list.append(dat)"
   ]
  },
  {
   "cell_type": "code",
   "execution_count": 41,
   "id": "d179239d-c08c-4d6d-9ec1-dde5589e2f75",
   "metadata": {
    "scrolled": true
   },
   "outputs": [
    {
     "name": "stdout",
     "output_type": "stream",
     "text": [
      "eps iter 0 0.05                \n",
      "t_diff 4.26134071454055208, Y=[ 4.26134071 -1.43124976 -1.35721309]                                              \n",
      "eps iter 1 0.04                \n",
      "t_diff 4.39863193368517210, Y=[ 4.39863193 -1.48234343 -1.44369571]                                              \n",
      "eps iter 2 0.03                \n",
      "t_diff 4.46332840015071110, Y=[ 4.4633284  -1.55786288 -1.53640561]                                              \n",
      "eps iter 3 0.019999999999999997                \n",
      "t_diff 4.49745325769444113, Y=[ 4.49745326 -1.67617742 -1.66450531]                                              \n",
      "eps iter 4 0.009999999999999995                \n",
      "t_diff 4.51744212015281508, Y=[ 4.51744212 -1.90472577 -1.90064421]                                              \n"
     ]
    }
   ],
   "source": [
    "# top 1b\n",
    "dat = follow_locking_3d(init,a12_p0002,(.05,.001,-.01),\n",
    "                        rhs=_redu_3dc,recompute=False)\n",
    "data_r3d_p0002_list.append(dat)"
   ]
  },
  {
   "cell_type": "markdown",
   "id": "6b2557f6-18ae-4f36-8e67-a7d60bafd852",
   "metadata": {},
   "source": [
    "## Plot"
   ]
  },
  {
   "cell_type": "code",
   "execution_count": 42,
   "id": "d5e8084b-34d8-42b6-98c9-3e52daa92082",
   "metadata": {},
   "outputs": [
    {
     "data": {
      "image/png": "[encoded data removed]",
      "text/plain": [
       "<Figure size 300x200 with 1 Axes>"
      ]
     },
     "metadata": {},
     "output_type": "display_data"
    }
   ],
   "source": [
    "quick_plot_combined(a12_p0002,\n",
    "                    kw_f={'data_list':data_p0002_list},\n",
    "                    kw_r3d={'data_list':data_r3d_p0002_list},\n",
    "                    kw_r={'etup':etup12})"
   ]
  },
  {
   "cell_type": "markdown",
   "id": "4f101755-b1db-462b-ba31-c7b02bc6eba3",
   "metadata": {},
   "source": [
    "# del=0.0003"
   ]
  },
  {
   "cell_type": "code",
   "execution_count": 43,
   "id": "5d89adf8-9daa-4923-9a24-4ded97f40c86",
   "metadata": {},
   "outputs": [
    {
     "name": "stdout",
     "output_type": "stream",
     "text": [
      "pfactor 4\n",
      "* Loading p symbolic...\n",
      "* Loading p symbolic...\n",
      "p order=0\n",
      "p order=0\n",
      "p order=1\n",
      "p order=1\n",
      "p order=2\n",
      "p order=2\n",
      "p order=3\n",
      "p order=3\n",
      "* Loading H symbolic...\n",
      "* Loading H symbolic...\n",
      "* Computing H gw0, order=0...\n",
      "* Computing H gw1, order=0...\n",
      "* Computing H gw0, order=1...\n",
      "* Computing H gw1, order=1...\n",
      "* Computing H gw0, order=2...\n",
      "* Computing H gw1, order=2...\n",
      "* Computing H gw0, order=3...\n",
      "* Computing H gw1, order=3...\n"
     ]
    }
   ],
   "source": [
    "del12_p0003 = .0003\n",
    "a12_p0003 = nm.nmCoupling(system1,system2,\n",
    "                    #recompute_list=['p_data_gw0','p_data_gw1','h_data_gw0','h_data_gw1'],\n",
    "                    #recompute_list=['h_data_gw0','h_data_gw1'],\n",
    "                    #recompute_list=recompute_list,\n",
    "                    _n=('om0',1),_m=('om1',2),\n",
    "                    NH=1000,\n",
    "                    save_fig=False,\n",
    "                    del1=1*del12_p0003)"
   ]
  },
  {
   "cell_type": "markdown",
   "id": "837e71a5-16b3-4424-81c5-fdb45c971600",
   "metadata": {},
   "source": [
    "## Get Branches Full"
   ]
  },
  {
   "cell_type": "code",
   "execution_count": 44,
   "id": "4ac9b606-684c-4dd4-b7d2-b23434d0147d",
   "metadata": {},
   "outputs": [],
   "source": [
    "kw_p0003 = {'a':a12_p0003,'del1':del12_p0003,'bifdir':'bif1d_gw2/','_full_rhs':_full}"
   ]
  },
  {
   "cell_type": "code",
   "execution_count": 45,
   "id": "6fee59f2-5907-4444-940b-65c56b936d00",
   "metadata": {},
   "outputs": [],
   "source": [
    "data_p0003_list = []"
   ]
  },
  {
   "cell_type": "code",
   "execution_count": 46,
   "id": "c64340bf-9a16-48e3-a6d7-9e049b95e809",
   "metadata": {
    "scrolled": true
   },
   "outputs": [],
   "source": [
    "# top 1b\n",
    "data_p0003_list.append(follow_phase_diffs(init=2,eps_init=0.02,eps_final=0.01,deps=-.0005,**kw_p0003))"
   ]
  },
  {
   "cell_type": "code",
   "execution_count": 47,
   "id": "d2248241-f6d8-4a93-a96c-cbcdc55e7a34",
   "metadata": {
    "scrolled": true
   },
   "outputs": [],
   "source": [
    "# top 1f\n",
    "data_p0003_list.append(follow_phase_diffs(init=2,eps_init=0.02,eps_final=0.1,deps=.01,**kw_p0003))"
   ]
  },
  {
   "cell_type": "code",
   "execution_count": 48,
   "id": "50de7662-ed23-47d5-862f-2770154b7ce2",
   "metadata": {
    "scrolled": true
   },
   "outputs": [],
   "source": [
    "# bot 1b\n",
    "data_p0003_list.append(follow_phase_diffs(init=0,eps_init=0.025,eps_final=0.0005,deps=-.005,**kw_p0003))"
   ]
  },
  {
   "cell_type": "code",
   "execution_count": 49,
   "id": "58cfaf37-e0b7-4249-9fdf-5afa3cd51a37",
   "metadata": {
    "scrolled": true
   },
   "outputs": [],
   "source": [
    "# bot 1f\n",
    "data_p0003_list.append(follow_phase_diffs(init=0,eps_init=0.025,eps_final=0.045,deps=.002,**kw_p0003))"
   ]
  },
  {
   "cell_type": "markdown",
   "id": "9d48dbbe-b24a-4934-b9ec-341d0d58eb6c",
   "metadata": {},
   "source": [
    "## Get Branches 3D"
   ]
  },
  {
   "cell_type": "code",
   "execution_count": 50,
   "id": "142b5015-7341-4513-abbf-ca2bfe6128e1",
   "metadata": {},
   "outputs": [],
   "source": [
    "data_r3d_p0003_list = []"
   ]
  },
  {
   "cell_type": "code",
   "execution_count": 51,
   "id": "b4c04077-d3d1-47bc-99b6-55922bc56d80",
   "metadata": {
    "scrolled": true
   },
   "outputs": [
    {
     "name": "stdout",
     "output_type": "stream",
     "text": [
      "t_diff 1.22065122082395811, Y=[ 1.22065122 -0.09950144 -0.09106974]                                              \n",
      "[ 1.2207 -0.0995 -0.0911]\n"
     ]
    }
   ],
   "source": [
    "# find init for this branch\n",
    "_,init = phase_lock_r3d([1.5,0,0],a12_p0003,.05,_redu_3dc)\n",
    "print(init)"
   ]
  },
  {
   "cell_type": "code",
   "execution_count": 52,
   "id": "c2f0a195-2eb6-427c-8bf4-5f27b4af29fe",
   "metadata": {
    "scrolled": true
   },
   "outputs": [
    {
     "name": "stdout",
     "output_type": "stream",
     "text": [
      "eps iter 0 0.05                \n",
      "t_diff 1.22065122082397559, Y=[ 1.22065122 -0.09950144 -0.09106974]                                              \n",
      "eps iter 1 0.060000000000000005                \n",
      "t_diff 1.25503854386009480, Y=[ 1.25503854 -0.12025838 -0.11180611]                                              \n",
      "eps iter 2 0.07                \n",
      "t_diff 1.28450591448014780, Y=[ 1.28450591 -0.14109595 -0.13282012]                                              \n"
     ]
    }
   ],
   "source": [
    "# bot 1f\n",
    "dat = follow_locking_3d(init,a12_p0003,(.05,.07,.01),\n",
    "                        rhs=_redu_3dc,recompute=True)\n",
    "data_r3d_p0003_list.append(dat)"
   ]
  },
  {
   "cell_type": "code",
   "execution_count": 53,
   "id": "e067ba50-5ca3-4c6d-8db4-be96ee7c8d02",
   "metadata": {
    "scrolled": true
   },
   "outputs": [
    {
     "name": "stdout",
     "output_type": "stream",
     "text": [
      "eps iter 0 0.05                \n",
      "t_diff 1.22065122082397559, Y=[ 1.22065122 -0.09950144 -0.09106974]                                              \n",
      "eps iter 1 0.04                \n",
      "t_diff 1.18109884575027710, Y=[ 1.18109885 -0.07885004 -0.07079425]                                              \n",
      "eps iter 2 0.03                \n",
      "t_diff 1.13720016773833740, Y=[ 1.13720017 -0.05839835 -0.05126734]                                              \n",
      "eps iter 3 0.019999999999999997                \n",
      "t_diff 1.09076057947417531, Y=[ 1.09076058 -0.03831504 -0.03281341]                                              \n",
      "eps iter 4 0.009999999999999995                \n",
      "t_diff 1.04385919845709663, Y=[ 1.0438592  -0.01879567 -0.01568498]                                              \n"
     ]
    }
   ],
   "source": [
    "# bot 1b\n",
    "dat = follow_locking_3d(init,a12_p0003,(.05,.001,-.01),\n",
    "                        rhs=_redu_3dc,recompute=True)\n",
    "data_r3d_p0003_list.append(dat)"
   ]
  },
  {
   "cell_type": "code",
   "execution_count": 54,
   "id": "4aee77df-5a63-4896-a251-ba12b1de55df",
   "metadata": {},
   "outputs": [],
   "source": [
    "# # find init for this branch\n",
    "# _,init = phase_lock_r3d([2.25,0,0],a12_p0003,.02,_redu_3dc)"
   ]
  },
  {
   "cell_type": "code",
   "execution_count": 55,
   "id": "2619c71e-36b4-4ebf-88fe-3af13cb51304",
   "metadata": {
    "scrolled": true
   },
   "outputs": [],
   "source": [
    "# # top 1f\n",
    "# dat = follow_locking_3d(init,a12_p0003,(.02,.1,.01),\n",
    "#                         rhs=_redu_3dc,recompute=True)\n",
    "# data_r3d_p0003_list.append(dat)"
   ]
  },
  {
   "cell_type": "code",
   "execution_count": 56,
   "id": "2e3b0ed5-add4-46fb-a590-fd205c0a4dc7",
   "metadata": {
    "scrolled": true
   },
   "outputs": [],
   "source": [
    "# # top 1b\n",
    "# dat = follow_locking_3d(init,a12_p0003,(.02,.001,-.005),\n",
    "#                         rhs=_redu_3dc,recompute=True)\n",
    "# data_r3d_p0003_list.append(dat)"
   ]
  },
  {
   "cell_type": "markdown",
   "id": "1e4efa4c-1318-4099-b87e-904cbd0186aa",
   "metadata": {},
   "source": [
    "## Plot"
   ]
  },
  {
   "cell_type": "code",
   "execution_count": 57,
   "id": "800c4a8f-8898-4272-80f5-5d4675fb3f23",
   "metadata": {},
   "outputs": [
    {
     "data": {
      "image/png": "[encoded data removed]",
      "text/plain": [
       "<Figure size 300x200 with 1 Axes>"
      ]
     },
     "metadata": {},
     "output_type": "display_data"
    }
   ],
   "source": [
    "quick_plot_combined(a12_p0003,\n",
    "                    kw_f={'data_list':data_p0003_list},\n",
    "                    kw_r3d={'data_list':data_r3d_p0003_list},\n",
    "                    kw_r={'etup':etup12})"
   ]
  },
  {
   "cell_type": "markdown",
   "id": "66229515-5570-46c9-8279-04a6f8c17206",
   "metadata": {},
   "source": [
    "# del=0.0004"
   ]
  },
  {
   "cell_type": "code",
   "execution_count": 58,
   "id": "a8f5ae64-7ff2-4ced-9d73-be73952cbfb3",
   "metadata": {},
   "outputs": [
    {
     "name": "stdout",
     "output_type": "stream",
     "text": [
      "pfactor 4\n",
      "* Loading p symbolic...\n",
      "* Loading p symbolic...\n",
      "p order=0\n",
      "p order=0\n",
      "p order=1\n",
      "p order=1\n",
      "p order=2\n",
      "p order=2\n",
      "p order=3\n",
      "p order=3\n",
      "* Loading H symbolic...\n",
      "* Loading H symbolic...\n",
      "* Computing H gw0, order=0...\n",
      "* Computing H gw1, order=0...\n",
      "* Computing H gw0, order=1...\n",
      "* Computing H gw1, order=1...\n",
      "* Computing H gw0, order=2...\n",
      "* Computing H gw1, order=2...\n",
      "* Computing H gw0, order=3...\n",
      "* Computing H gw1, order=3...\n"
     ]
    }
   ],
   "source": [
    "del12_p0004 = .0004\n",
    "a12_p0004 = nm.nmCoupling(system1,system2,\n",
    "                    #recompute_list=['p_data_gw0','p_data_gw1','h_data_gw0','h_data_gw1'],\n",
    "                    #recompute_list=['h_data_gw0','h_data_gw1'],\n",
    "                    #recompute_list=recompute_list,\n",
    "                    _n=('om0',1),_m=('om1',2),\n",
    "                    NH=1000,\n",
    "                    save_fig=False,\n",
    "                    del1=1*del12_p0004)"
   ]
  },
  {
   "cell_type": "markdown",
   "id": "d745c8c1-292e-4351-9170-09cbdb77ebcf",
   "metadata": {},
   "source": [
    "## Get Branches"
   ]
  },
  {
   "cell_type": "code",
   "execution_count": 59,
   "id": "b8ae3114-1a5c-4a18-b534-5326b2fb8ade",
   "metadata": {},
   "outputs": [],
   "source": [
    "kw_p0004 = {'a':a12_p0004,'del1':del12_p0004,'bifdir':'bif1d_gw2/','_full_rhs':_full}"
   ]
  },
  {
   "cell_type": "code",
   "execution_count": 60,
   "id": "48711054-e1a5-4ce6-b4cd-798c1022e0a9",
   "metadata": {},
   "outputs": [],
   "source": [
    "data_p0004_list = []"
   ]
  },
  {
   "cell_type": "code",
   "execution_count": 61,
   "id": "c690d786-c506-474d-a0ce-d8834d783489",
   "metadata": {
    "scrolled": true
   },
   "outputs": [],
   "source": [
    "# top 1b\n",
    "dat = follow_phase_diffs(init=2,eps_init=0.02,eps_final=0.0005,\n",
    "                         deps=-.005,**kw_p0004)\n",
    "data_p0004_list.append(dat)"
   ]
  },
  {
   "cell_type": "code",
   "execution_count": 62,
   "id": "24fd56ee-999b-4316-a359-54a4d40acb67",
   "metadata": {
    "scrolled": true
   },
   "outputs": [],
   "source": [
    "# top 1f\n",
    "dat = follow_phase_diffs(init=2,eps_init=0.02,eps_final=0.1,\n",
    "                         deps=.005,**kw_p0004)\n",
    "data_p0004_list.append(dat)"
   ]
  },
  {
   "cell_type": "code",
   "execution_count": 63,
   "id": "59dffd76-be43-4867-be3f-056a784ee650",
   "metadata": {
    "scrolled": true
   },
   "outputs": [],
   "source": [
    "# bot 1b\n",
    "dat = follow_phase_diffs(init=0,eps_init=0.025,eps_final=0.0005,\n",
    "                         deps=-.005,**kw_p0004)\n",
    "data_p0004_list.append(dat)"
   ]
  },
  {
   "cell_type": "code",
   "execution_count": 64,
   "id": "cbfaf172-7423-4e89-82f3-0f298c6bba54",
   "metadata": {
    "scrolled": true
   },
   "outputs": [],
   "source": [
    "# bot 1f\n",
    "dat = follow_phase_diffs(init=0,eps_init=0.025,eps_final=0.04,\n",
    "                         deps=.002,**kw_p0004)\n",
    "data_p0004_list.append(dat)"
   ]
  },
  {
   "cell_type": "markdown",
   "id": "410a9616-09ff-4b91-a8ca-d92124004414",
   "metadata": {},
   "source": [
    "## Plot"
   ]
  },
  {
   "cell_type": "code",
   "execution_count": 66,
   "id": "56ff2a1b-fe82-460f-9340-8e90ba3d2a8a",
   "metadata": {},
   "outputs": [
    {
     "data": {
      "image/png": "[encoded data removed]",
      "text/plain": [
       "<Figure size 300x200 with 1 Axes>"
      ]
     },
     "metadata": {},
     "output_type": "display_data"
    }
   ],
   "source": [
    "quick_plot_combined(a12_p0004,\n",
    "                    kw_f={'data_list':data_p0004_list},\n",
    "                    #kw_r3d={'data_list':data_r3d_p0004_list},\n",
    "                    kw_r={'etup':etup12})"
   ]
  },
  {
   "cell_type": "markdown",
   "id": "57684ced-9075-41fd-89f0-aa80b34cbaed",
   "metadata": {},
   "source": [
    "# del=0.0005"
   ]
  },
  {
   "cell_type": "code",
   "execution_count": 67,
   "id": "f5790f91-62e9-419f-b428-0c4a49b6c3d8",
   "metadata": {},
   "outputs": [
    {
     "name": "stdout",
     "output_type": "stream",
     "text": [
      "pfactor 4\n",
      "* Loading p symbolic...\n",
      "* Loading p symbolic...\n",
      "p order=0\n",
      "p order=0\n",
      "p order=1\n",
      "p order=1\n",
      "p order=2\n",
      "p order=2\n",
      "p order=3\n",
      "p order=3\n",
      "* Loading H symbolic...\n",
      "* Loading H symbolic...\n",
      "* Computing H gw0, order=0...\n",
      "* Computing H gw1, order=0...\n",
      "* Computing H gw0, order=1...\n",
      "* Computing H gw1, order=1...\n",
      "* Computing H gw0, order=2...\n",
      "* Computing H gw1, order=2...\n",
      "* Computing H gw0, order=3...\n",
      "* Computing H gw1, order=3...\n"
     ]
    }
   ],
   "source": [
    "del12_p0005 = .0005\n",
    "a12_p0005 = nm.nmCoupling(system1,system2,\n",
    "                    #recompute_list=['p_data_gw0','p_data_gw1','h_data_gw0','h_data_gw1'],\n",
    "                    #recompute_list=['h_data_gw0','h_data_gw1'],\n",
    "                    #recompute_list=recompute_list,\n",
    "                    _n=('om0',1),_m=('om1',2),\n",
    "                    NH=1000,\n",
    "                    save_fig=False,\n",
    "                    del1=1*del12_p0005)"
   ]
  },
  {
   "cell_type": "markdown",
   "id": "e8664c8b-926f-4b0c-8858-e18d48a94404",
   "metadata": {},
   "source": [
    "## Get Branches Full"
   ]
  },
  {
   "cell_type": "code",
   "execution_count": 68,
   "id": "b8087cea-c978-4a80-852c-c9c0b3db9a77",
   "metadata": {},
   "outputs": [],
   "source": [
    "kw_p0005 = {'a':a12_p0005,'del1':del12_p0005,'bifdir':'bif1d_gw2/','_full_rhs':_full}"
   ]
  },
  {
   "cell_type": "code",
   "execution_count": 69,
   "id": "46900f3f-1153-4d29-aa44-b13cff24e920",
   "metadata": {},
   "outputs": [],
   "source": [
    "data_p0005_list = []"
   ]
  },
  {
   "cell_type": "code",
   "execution_count": 70,
   "id": "54c5c8e2-221b-4f16-8b69-bd181d50bb42",
   "metadata": {
    "scrolled": true
   },
   "outputs": [],
   "source": [
    "# top 1b\n",
    "dat = follow_phase_diffs(init=2,eps_init=0.02,eps_final=0.0005,\n",
    "                         deps=-.005,**kw_p0005)\n",
    "data_p0005_list.append(dat)"
   ]
  },
  {
   "cell_type": "code",
   "execution_count": 71,
   "id": "4a57996e-81d2-4262-9194-a87fe9768690",
   "metadata": {
    "scrolled": true
   },
   "outputs": [],
   "source": [
    "# top 1f\n",
    "dat = follow_phase_diffs(init=2,eps_init=0.02,eps_final=0.1,\n",
    "                         deps=.01,**kw_p0005)\n",
    "data_p0005_list.append(dat)"
   ]
  },
  {
   "cell_type": "code",
   "execution_count": 72,
   "id": "0f05c991-90cb-4c4e-a410-6593188e98d5",
   "metadata": {
    "scrolled": true
   },
   "outputs": [],
   "source": [
    "# bot 1b\n",
    "dat = follow_phase_diffs(init=0,eps_init=0.025,eps_final=0.0005,\n",
    "                         deps=-.005,**kw_p0005)\n",
    "data_p0005_list.append(dat)"
   ]
  },
  {
   "cell_type": "markdown",
   "id": "ceb49e0a-38c1-4673-9244-2803cacb12e8",
   "metadata": {},
   "source": [
    "Integrate Reduced Check"
   ]
  },
  {
   "cell_type": "code",
   "execution_count": 74,
   "id": "76aba214-1da9-44e3-90a3-7475e3803c22",
   "metadata": {},
   "outputs": [],
   "source": [
    "# # multiple initial conditions\n",
    "# init_phases12_p0005 = np.linspace(0,2*np.pi,6,endpoint=False)\n",
    "# t3d_p0005 = np.arange(0,100000,.01)\n",
    "\n",
    "# sols_3d = []\n",
    "# sols_1d = []\n",
    "\n",
    "# for i in range(len(init_phases12_p0005)):\n",
    "#     sol3d_p0005 = solve_ivp(_redu_3dc,[0,t3d_p0005[-1]],\n",
    "#                            [init_phases12_p0005[i],0,0],\n",
    "#                            args=(a12_p0005,.02),t_eval=t3d_p0005)\n",
    "    \n",
    "#     sol1d_p0005 = solve_ivp(_redu_c,[0,t3d_p0005[-1]],\n",
    "#                            [init_phases12_p0005[i]],\n",
    "#                            args=(a12_p0005,.02),t_eval=t3d_p0005)\n",
    "    \n",
    "#     sols_3d.append(sol3d_p0005)\n",
    "#     sols_1d.append(sol1d_p0005)"
   ]
  },
  {
   "cell_type": "code",
   "execution_count": 75,
   "id": "ca00f5d3-f0f4-42ba-84ac-72e91ce66518",
   "metadata": {
    "scrolled": true
   },
   "outputs": [],
   "source": [
    "# fig,axs = plt.subplots(figsize=(6,2))\n",
    "# for i in range(len(init_phases12_p0005)):\n",
    "#     axs.plot(t3d_p0005,sols_3d[i].y[0],color='blue')\n",
    "#     axs.plot(t3d_p0005,sols_1d[i].y[0],color='red')\n",
    "#     print('phase',init_phases12_p0005[i],sols_3d[i].y.T[-1,:])"
   ]
  },
  {
   "cell_type": "markdown",
   "id": "4da74d5f-9b67-419f-8706-f0f3423bfb89",
   "metadata": {},
   "source": [
    "## Get Branches 3D"
   ]
  },
  {
   "cell_type": "code",
   "execution_count": 76,
   "id": "975a23d9-8cf8-405f-842d-ca0bad19e766",
   "metadata": {},
   "outputs": [],
   "source": [
    "data_r3d_p0005_list = []"
   ]
  },
  {
   "cell_type": "code",
   "execution_count": 77,
   "id": "5d7475ce-0adf-4fd5-aab6-fe0df7bbacab",
   "metadata": {
    "scrolled": true
   },
   "outputs": [
    {
     "name": "stdout",
     "output_type": "stream",
     "text": [
      "t_diff 1.31080367408150911, Y=[ 1.31080367 -0.10116297 -0.0972928 ]                                              \n",
      "[ 1.3108 -0.1012 -0.0973]\n"
     ]
    }
   ],
   "source": [
    "# find init for this branch\n",
    "_,init = phase_lock_r3d([1.5,0,0],a12_p0005,.05,_redu_3dc)\n",
    "print(init)"
   ]
  },
  {
   "cell_type": "code",
   "execution_count": 78,
   "id": "bc1f1547-1f30-4820-8c7f-ca8ca4539aba",
   "metadata": {
    "scrolled": true
   },
   "outputs": [
    {
     "name": "stdout",
     "output_type": "stream",
     "text": [
      "eps iter 0 0.05                \n",
      "t_diff 1.31080367408151929, Y=[ 1.31080367 -0.10116297 -0.0972928 ]                                              \n",
      "eps iter 1 0.060000000000000005                \n",
      "t_diff 1.33974129154659879, Y=[ 1.33974129 -0.1217189  -0.11843967]                                              \n",
      "eps iter 2 0.07                \n",
      "t_diff 1.36245875113170970, Y=[ 1.36245875 -0.14240861 -0.13965692]                                              \n",
      "eps iter 3 0.08000000000000002                \n",
      "t_diff 1.38139870238306071, Y=[ 1.3813987  -0.16325911 -0.16098522]                                              \n",
      "eps iter 4 0.09000000000000001                \n",
      "t_diff 1.39808072675054213, Y=[ 1.39808073 -0.18427013 -0.18246172]                                              \n"
     ]
    }
   ],
   "source": [
    "# bot 1f\n",
    "dat = follow_locking_3d(init,a12_p0005,(.05,.1,.01),\n",
    "                        rhs=_redu_3dc,recompute=True)\n",
    "data_r3d_p0005_list.append(dat)"
   ]
  },
  {
   "cell_type": "code",
   "execution_count": 79,
   "id": "3a073dde-383a-4184-9fcb-2743e8721927",
   "metadata": {
    "scrolled": true
   },
   "outputs": [
    {
     "name": "stdout",
     "output_type": "stream",
     "text": [
      "eps iter 0 0.05                \n",
      "t_diff 1.31080367408151929, Y=[ 1.31080367 -0.10116297 -0.0972928 ]                                              \n",
      "eps iter 1 0.048                \n",
      "t_diff 1.30398613097675358, Y=[ 1.30398613 -0.09706241 -0.09307019]                                              \n",
      "eps iter 2 0.046                \n",
      "t_diff 1.29676146181366053, Y=[ 1.29676146 -0.09296367 -0.08885057]                                              \n",
      "eps iter 3 0.044                \n",
      "t_diff 1.28910606342716453, Y=[ 1.28910606 -0.0888659  -0.0846349 ]                                              \n",
      "eps iter 4 0.041999999999999996                \n",
      "t_diff 1.28100105196679-13, Y=[ 1.28100105 -0.08476823 -0.08042461]                                              \n",
      "eps iter 5 0.039999999999999994                \n",
      "t_diff 1.27243419704413353, Y=[ 1.2724342  -0.08066987 -0.07622171]                                              \n",
      "eps iter 6 0.03799999999999999                \n",
      "t_diff 1.26340180515116093, Y=[ 1.26340181 -0.07657019 -0.07202885]                                              \n",
      "eps iter 7 0.03599999999999999                \n",
      "t_diff 1.25391028212599553, Y=[ 1.25391028 -0.07246878 -0.06784936]                                              \n",
      "eps iter 8 0.03399999999999999                \n",
      "t_diff 1.24397707433758583, Y=[ 1.24397707 -0.06836557 -0.06368725]                                              \n",
      "eps iter 9 0.03199999999999999                \n",
      "t_diff 1.23363074118992633, Y=[ 1.23363074 -0.06426089 -0.05954714]                                              \n",
      "eps iter 10 0.029999999999999985                \n",
      "t_diff 1.22291004197531908, Y=[ 1.22291004 -0.06015555 -0.05543411]                                              \n",
      "eps iter 11 0.027999999999999983                \n",
      "t_diff 1.21186210402071388, Y=[ 1.2118621  -0.05605087 -0.05135355]                                              \n",
      "eps iter 12 0.02599999999999998                \n",
      "t_diff 1.20053991784933268, Y=[ 1.20053992 -0.05194862 -0.04731096]                                              \n",
      "eps iter 13 0.02399999999999998                \n",
      "t_diff 1.18899952379749358, Y=[ 1.18899952 -0.047851   -0.0433117 ]                                              \n",
      "eps iter 14 0.021999999999999978                \n",
      "t_diff 1.17729727056409258, Y=[ 1.17729727 -0.04376053 -0.03936086]                                              \n",
      "eps iter 15 0.019999999999999976                \n",
      "t_diff 1.16548745569289079, Y=[ 1.16548746 -0.03967996 -0.03546304]                                              \n",
      "eps iter 16 0.017999999999999974                \n",
      "t_diff 1.15362053213458209, Y=[ 1.15362053 -0.03561214 -0.03162231]                                              \n",
      "eps iter 17 0.015999999999999973                \n",
      "t_diff 1.14174193606821441, Y=[ 1.14174194 -0.03155994 -0.02784212]                                              \n",
      "eps iter 18 0.01399999999999997                \n",
      "t_diff 1.12989148518846470, Y=[ 1.12989149 -0.02752614 -0.02412526]                                              \n",
      "eps iter 19 0.011999999999999969                \n",
      "t_diff 1.11810324309735859, Y=[ 1.11810324 -0.02351339 -0.02047395]                                              \n",
      "eps iter 20 0.009999999999999967                \n",
      "t_diff 1.10640571836281029, Y=[ 1.10640572 -0.01952414 -0.01688979]                                              \n",
      "eps iter 21 0.007999999999999965                \n",
      "t_diff 1.09482228037844099, Y=[ 1.09482228 -0.01556063 -0.0133739 ]                                              \n",
      "eps iter 22 0.005999999999999964                \n",
      "t_diff 1.08337169046340599, Y=[ 1.08337169 -0.01162483 -0.0099269 ]                                              \n",
      "eps iter 23 0.003999999999999962                \n",
      "t_diff 1.07206867605323238, Y=[ 1.07206868 -0.00771849 -0.00654904]                                              \n",
      "eps iter 24 0.00199999999999996                \n",
      "t_diff 1.06092449916276298, Y=[ 1.0609245  -0.00384312 -0.00324021]                                              \n"
     ]
    }
   ],
   "source": [
    "# bot 1b\n",
    "dat = follow_locking_3d(init,a12_p0005,(.05,.001,-.002),\n",
    "                        rhs=_redu_3dc,recompute=True)\n",
    "data_r3d_p0005_list.append(dat)"
   ]
  },
  {
   "cell_type": "code",
   "execution_count": 80,
   "id": "f2f37a9f-b70c-4b00-bac3-7c28ebeae048",
   "metadata": {},
   "outputs": [
    {
     "name": "stdout",
     "output_type": "stream",
     "text": [
      "t_diff 2.85417905586359913, Y=[2.85417906 0.00499567 0.0064882 ]                                                 \n"
     ]
    }
   ],
   "source": [
    "# find init for this branch\n",
    "_,init = phase_lock_r3d([1.7,0,0], a12_p0005, .02, \n",
    "                        _redu_3dc,maxiter=1000)"
   ]
  },
  {
   "cell_type": "code",
   "execution_count": 81,
   "id": "2fc14892-c1e2-4cfa-91d6-20cc17d76cbd",
   "metadata": {
    "scrolled": true
   },
   "outputs": [
    {
     "name": "stdout",
     "output_type": "stream",
     "text": [
      "eps iter 0 0.02                \n",
      "t_diff 2.85417905586359841, Y=[2.85417906 0.00499567 0.0064882 ]                                              \n",
      "eps iter 1 0.022                \n",
      "t_diff 2.85402949888397168, Y=[2.8540295  0.00549942 0.00714165]                                              \n",
      "eps iter 2 0.023999999999999997                \n",
      "t_diff 2.85387952104983538, Y=[2.85387952 0.00600395 0.00779596]                                              \n",
      "eps iter 3 0.025999999999999995                \n",
      "t_diff 2.85372912047212408, Y=[2.85372912 0.00650926 0.00845111]                                              \n",
      "eps iter 4 0.027999999999999994                \n",
      "t_diff 2.85357829522441189, Y=[2.8535783  0.00701534 0.00910713]                                              \n",
      "eps iter 5 0.029999999999999992                \n",
      "t_diff 2.85342704337092908, Y=[2.85342704 0.0075222  0.00976399]                                              \n",
      "eps iter 6 0.03199999999999999                \n",
      "t_diff 2.85327536296566609, Y=[2.85327536 0.00802985 0.01042172]                                              \n",
      "eps iter 7 0.03399999999999999                \n",
      "t_diff 2.85312325205002408, Y=[2.85312325 0.00853828 0.01108031]                                              \n",
      "eps iter 8 0.03599999999999999                \n",
      "t_diff 2.85297070865189309, Y=[2.85297071 0.0090475  0.01173977]                                              \n",
      "eps iter 9 0.037999999999999985                \n",
      "t_diff 2.85281773078542108, Y=[2.85281773 0.00955751 0.01240009]                                              \n",
      "eps iter 10 0.03999999999999998                \n",
      "t_diff 2.85266431645057638, Y=[2.85266432 0.01006831 0.01306127]                                              \n",
      "eps iter 11 0.04199999999999998                \n",
      "t_diff 2.85251046363293758, Y=[2.85251046 0.01057992 0.01372333]                                              \n",
      "eps iter 12 0.043999999999999984                \n",
      "t_diff 2.85235617030317808, Y=[2.85235617 0.01109232 0.01438626]                                              \n",
      "eps iter 13 0.04599999999999998                \n",
      "t_diff 2.85220143441713038, Y=[2.85220143 0.01160552 0.01505007]                                              \n",
      "eps iter 14 0.04799999999999997                \n",
      "t_diff 2.85204625391562708, Y=[2.85204625 0.01211953 0.01571475]                                              \n",
      "eps iter 15 0.049999999999999975                \n",
      "t_diff 2.85189062672427349, Y=[2.85189063 0.01263435 0.01638031]                                              \n",
      "eps iter 16 0.05199999999999998                \n",
      "t_diff 2.85173455075296378, Y=[2.85173455 0.01314997 0.01704675]                                              \n",
      "eps iter 17 0.05399999999999998                \n",
      "t_diff 2.85157802389561-09, Y=[2.85157802 0.01366642 0.01771408]                                              \n",
      "eps iter 18 0.055999999999999966                \n",
      "t_diff 2.85142104403069668, Y=[2.85142104 0.01418367 0.01838229]                                              \n",
      "eps iter 19 0.05799999999999997                \n",
      "t_diff 2.85126360902226768, Y=[2.85126361 0.01470175 0.01905139]                                              \n",
      "eps iter 20 0.05999999999999997                \n",
      "t_diff 2.85110571670970638, Y=[2.85110572 0.01522065 0.01972137]                                              \n",
      "eps iter 21 0.06199999999999997                \n",
      "t_diff 2.85094736488579408, Y=[2.85094736 0.01574037 0.02039226]                                              \n",
      "eps iter 22 0.06399999999999996                \n",
      "t_diff 2.85078855136975669, Y=[2.85078855 0.01626093 0.02106403]                                              \n",
      "eps iter 23 0.06599999999999996                \n",
      "t_diff 2.85062927399026608, Y=[2.85062927 0.01678231 0.02173671]                                              \n",
      "eps iter 24 0.06799999999999996                \n",
      "t_diff 2.85046953051554-08, Y=[2.85046953 0.01730452 0.02241028]                                              \n",
      "eps iter 25 0.06999999999999997                \n",
      "t_diff 2.85030931869377708, Y=[2.85030932 0.01782758 0.02308475]                                              \n",
      "eps iter 26 0.07199999999999995                \n",
      "t_diff 2.85014863625903258, Y=[2.85014864 0.01835147 0.02376013]                                              \n",
      "eps iter 27 0.07399999999999995                \n",
      "t_diff 2.84998748092741049, Y=[2.84998748 0.0188762  0.02443641]                                              \n",
      "eps iter 28 0.07599999999999996                \n",
      "t_diff 2.84982585039566778, Y=[2.84982585 0.01940178 0.02511361]                                              \n",
      "eps iter 29 0.07799999999999996                \n",
      "t_diff 2.84966374234059808, Y=[2.84966374 0.01992821 0.02579171]                                              \n",
      "eps iter 30 0.07999999999999995                \n",
      "t_diff 2.84950115441871408, Y=[2.84950115 0.02045549 0.02647073]                                              \n",
      "eps iter 31 0.08199999999999995                \n",
      "t_diff 2.84933808426556308, Y=[2.84933808 0.02098362 0.02715066]                                              \n",
      "eps iter 32 0.08399999999999995                \n",
      "t_diff 2.84917452949534509, Y=[2.84917453 0.02151261 0.02783151]                                              \n",
      "eps iter 33 0.08599999999999995                \n",
      "t_diff 2.84901048770084538, Y=[2.84901049 0.02204246 0.02851328]                                              \n",
      "eps iter 34 0.08799999999999995                \n",
      "t_diff 2.84884595645319838, Y=[2.84884596 0.02257317 0.02919597]                                              \n",
      "eps iter 35 0.08999999999999994                \n",
      "t_diff 2.84868093330143879, Y=[2.84868093 0.02310475 0.02987959]                                              \n",
      "eps iter 36 0.09199999999999994                \n",
      "t_diff 2.84851541577190848, Y=[2.84851542 0.02363719 0.03056413]                                              \n",
      "eps iter 37 0.09399999999999994                \n",
      "t_diff 2.84834940136815948, Y=[2.8483494  0.02417051 0.0312496 ]                                              \n",
      "eps iter 38 0.09599999999999993                \n",
      "t_diff 2.84818288757246809, Y=[2.84818289 0.02470471 0.03193601]                                              \n",
      "eps iter 39 0.09799999999999993                \n",
      "t_diff 2.84801587184217908, Y=[2.84801587 0.02523978 0.03262335]                                              \n"
     ]
    }
   ],
   "source": [
    "# top 1f\n",
    "dat = follow_locking_3d(init,a12_p0005,(.02,.1,.002),\n",
    "                        rhs=_redu_3dc,recompute=True)\n",
    "data_r3d_p0005_list.append(dat)"
   ]
  },
  {
   "cell_type": "code",
   "execution_count": 82,
   "id": "2edab4c2-d998-49b2-9b63-a777abded381",
   "metadata": {
    "scrolled": true
   },
   "outputs": [
    {
     "name": "stdout",
     "output_type": "stream",
     "text": [
      "eps iter 0 0.02                \n",
      "t_diff 2.85417905586359841, Y=[2.85417906 0.00499567 0.0064882 ]                                              \n",
      "eps iter 1 0.018000000000000002                \n",
      "t_diff 2.85432819385336-08, Y=[2.85432819 0.00449268 0.00583559]                                              \n",
      "eps iter 2 0.016000000000000004                \n",
      "t_diff 2.85447691475820438, Y=[2.85447691 0.00399046 0.00518384]                                              \n",
      "eps iter 3 0.014000000000000005                \n",
      "t_diff 2.85462522046375808, Y=[2.85462522 0.00348901 0.00453292]                                              \n",
      "eps iter 4 0.012000000000000007                \n",
      "t_diff 2.85477311282647738, Y=[2.85477311 0.00298831 0.00388285]                                              \n",
      "eps iter 5 0.010000000000000009                \n",
      "t_diff 2.85492059369118408, Y=[2.85492059e+00 2.48837840e-03 3.23362187e-03]                                              \n",
      "eps iter 6 0.00800000000000001                \n",
      "t_diff 2.85506766489284-08, Y=[2.85506766e+00 1.98920030e-03 2.58522937e-03]                                              \n",
      "eps iter 7 0.006000000000000012                \n",
      "t_diff 2.85521432825553279, Y=[2.85521433e+00 1.49077602e-03 1.93767300e-03]                                              \n",
      "eps iter 8 0.004000000000000014                \n",
      "t_diff 2.85536058559251308, Y=[2.85536059e+00 9.93102954e-04 1.29095069e-03]                                              \n",
      "eps iter 9 0.0020000000000000157                \n",
      "t_diff 2.85550643870622669, Y=[2.85550644e+00 4.96178479e-04 6.45060377e-04]                                              \n"
     ]
    }
   ],
   "source": [
    "# top 1b\n",
    "dat = follow_locking_3d(init,a12_p0005,(.02,.001,-.002),\n",
    "                        rhs=_redu_3dc,recompute=True)\n",
    "data_r3d_p0005_list.append(dat)"
   ]
  },
  {
   "cell_type": "markdown",
   "id": "cca0c3cb-e7c6-4c87-ba3b-1020257e6514",
   "metadata": {},
   "source": [
    "## Plot"
   ]
  },
  {
   "cell_type": "code",
   "execution_count": 83,
   "id": "c0db2cfb-e591-45f4-8fd1-79ebc0cd3989",
   "metadata": {},
   "outputs": [
    {
     "data": {
      "image/png": "[encoded data removed]",
      "text/plain": [
       "<Figure size 300x200 with 1 Axes>"
      ]
     },
     "metadata": {},
     "output_type": "display_data"
    }
   ],
   "source": [
    "quick_plot_combined(a12_p0005,\n",
    "                    kw_f={'data_list':data_p0005_list},\n",
    "                    kw_r3d={'data_list':data_r3d_p0005_list},\n",
    "                    kw_r={'etup':etup12})"
   ]
  },
  {
   "cell_type": "markdown",
   "id": "91d704c9-12f7-493f-9bb4-ecc8a7b9d321",
   "metadata": {},
   "source": [
    "# del=0.00055"
   ]
  },
  {
   "cell_type": "code",
   "execution_count": 84,
   "id": "17f64f71-1184-4006-98f4-cb460d5fe38d",
   "metadata": {},
   "outputs": [
    {
     "name": "stdout",
     "output_type": "stream",
     "text": [
      "pfactor 4\n",
      "* Loading p symbolic...\n",
      "* Loading p symbolic...\n",
      "p order=0\n",
      "p order=0\n",
      "p order=1\n",
      "p order=1\n",
      "p order=2\n",
      "p order=2\n",
      "p order=3\n",
      "p order=3\n",
      "* Loading H symbolic...\n",
      "* Loading H symbolic...\n",
      "* Computing H gw0, order=0...\n",
      "* Computing H gw1, order=0...\n",
      "* Computing H gw0, order=1...\n",
      "* Computing H gw1, order=1...\n",
      "* Computing H gw0, order=2...\n",
      "* Computing H gw1, order=2...\n",
      "* Computing H gw0, order=3...\n",
      "* Computing H gw1, order=3...\n"
     ]
    }
   ],
   "source": [
    "del12_p00055 = .00055\n",
    "a12_p00055 = nm.nmCoupling(system1,system2,\n",
    "                    #recompute_list=['p_data_gw0','p_data_gw1','h_data_gw0','h_data_gw1'],\n",
    "                    #recompute_list=['h_data_gw0','h_data_gw1'],\n",
    "                    #recompute_list=recompute_list,\n",
    "                    _n=('om0',1),_m=('om1',2),\n",
    "                    NH=1000,\n",
    "                    save_fig=False,\n",
    "                    del1=1*del12_p00055)"
   ]
  },
  {
   "cell_type": "markdown",
   "id": "e8d12382-f1bc-43d5-a666-0566552edadb",
   "metadata": {},
   "source": [
    "## Get Branches"
   ]
  },
  {
   "cell_type": "code",
   "execution_count": 85,
   "id": "003d9883-6a3d-426a-be34-9ecf93c0ab29",
   "metadata": {},
   "outputs": [],
   "source": [
    "kw_p00055 = {'a':a12_p00055,'del1':del12_p00055,'bifdir':'bif1d_gw2/','_full_rhs':_full}"
   ]
  },
  {
   "cell_type": "code",
   "execution_count": 86,
   "id": "7018877a-4f54-4212-9615-7e04f1e9db9d",
   "metadata": {},
   "outputs": [],
   "source": [
    "data_p00055_list = []"
   ]
  },
  {
   "cell_type": "code",
   "execution_count": 87,
   "id": "3bf486bb-fecc-4652-842b-288a42c12f19",
   "metadata": {
    "scrolled": true
   },
   "outputs": [],
   "source": [
    "# top 1b\n",
    "dat = follow_phase_diffs(init=2,eps_init=0.02,eps_final=0.0005,\n",
    "                         deps=-.005,**kw_p00055)\n",
    "data_p00055_list.append(dat)"
   ]
  },
  {
   "cell_type": "code",
   "execution_count": 88,
   "id": "ef0e9f03-d0af-4f4b-aea7-1c8dc76b44a4",
   "metadata": {
    "scrolled": true
   },
   "outputs": [],
   "source": [
    "# top 1f\n",
    "dat = follow_phase_diffs(init=2,eps_init=0.02,eps_final=0.1,\n",
    "                         deps=.01,**kw_p00055)\n",
    "data_p00055_list.append(dat)"
   ]
  },
  {
   "cell_type": "code",
   "execution_count": 89,
   "id": "f7787fa2-448b-492f-9d4a-01a206adab3b",
   "metadata": {
    "scrolled": true
   },
   "outputs": [],
   "source": [
    "# bot 1b\n",
    "dat = follow_phase_diffs(init=0,eps_init=0.025,eps_final=0.0005,\n",
    "                         deps=-.005,**kw_p00055)\n",
    "data_p00055_list.append(dat)"
   ]
  },
  {
   "cell_type": "markdown",
   "id": "f4e6f112-4068-47c2-9508-171089d1081a",
   "metadata": {},
   "source": [
    "## Plot"
   ]
  },
  {
   "cell_type": "code",
   "execution_count": 90,
   "id": "168066fd-b1fd-47ef-9c31-911a0b6b01ea",
   "metadata": {},
   "outputs": [
    {
     "data": {
      "image/png": "[encoded data removed]",
      "text/plain": [
       "<Figure size 300x200 with 1 Axes>"
      ]
     },
     "metadata": {},
     "output_type": "display_data"
    }
   ],
   "source": [
    "quick_plot_combined(a12_p00055,\n",
    "                    kw_f={'data_list':data_p00055_list},\n",
    "                    #kw_r3d={'data_list':data_r3d_p00055_list},\n",
    "                    kw_r={'etup':etup12})"
   ]
  },
  {
   "cell_type": "markdown",
   "id": "dd2f8d1f-4b86-4985-b6bc-713a80c51d00",
   "metadata": {},
   "source": [
    "# del=0.0006"
   ]
  },
  {
   "cell_type": "code",
   "execution_count": 91,
   "id": "70ca2240-886b-40a7-aae1-40c0125391b6",
   "metadata": {},
   "outputs": [
    {
     "name": "stdout",
     "output_type": "stream",
     "text": [
      "pfactor 4\n",
      "* Loading p symbolic...\n",
      "* Loading p symbolic...\n",
      "p order=0\n",
      "p order=0\n",
      "p order=1\n",
      "p order=1\n",
      "p order=2\n",
      "p order=2\n",
      "p order=3\n",
      "p order=3\n",
      "* Loading H symbolic...\n",
      "* Loading H symbolic...\n",
      "* Computing H gw0, order=0...\n",
      "* Computing H gw1, order=0...\n",
      "* Computing H gw0, order=1...\n",
      "* Computing H gw1, order=1...\n",
      "* Computing H gw0, order=2...\n",
      "* Computing H gw1, order=2...\n",
      "* Computing H gw0, order=3...\n",
      "* Computing H gw1, order=3...\n"
     ]
    }
   ],
   "source": [
    "del12_p0006 = .0006\n",
    "a12_p0006 = nm.nmCoupling(system1,system2,\n",
    "                    #recompute_list=['p_data_gw0','p_data_gw1','h_data_gw0','h_data_gw1'],\n",
    "                    #recompute_list=['h_data_gw0','h_data_gw1'],\n",
    "                    #recompute_list=recompute_list,\n",
    "                    _n=('om0',1),_m=('om1',2),\n",
    "                    NH=1000,\n",
    "                    save_fig=False,\n",
    "                    del1=1*del12_p0006)"
   ]
  },
  {
   "cell_type": "markdown",
   "id": "3664a0ae-a1a6-4257-8221-0b9f3b573434",
   "metadata": {},
   "source": [
    "## Get Branches"
   ]
  },
  {
   "cell_type": "code",
   "execution_count": 92,
   "id": "c7eee472-9e6a-4c65-aaf5-93265ac44488",
   "metadata": {},
   "outputs": [],
   "source": [
    "kw_p0006 = {'a':a12_p0006,'del1':del12_p0006,'bifdir':'bif1d_gw2/','_full_rhs':_full}"
   ]
  },
  {
   "cell_type": "code",
   "execution_count": 93,
   "id": "b4b7604d-09fa-4745-bd50-510b7a82dea2",
   "metadata": {},
   "outputs": [],
   "source": [
    "data_p0006_list = []"
   ]
  },
  {
   "cell_type": "code",
   "execution_count": 94,
   "id": "d9c81d4a-f3d3-4731-9a1a-7a28564727f0",
   "metadata": {
    "scrolled": true
   },
   "outputs": [],
   "source": [
    "dat = follow_phase_diffs(init=2,eps_init=0.02,eps_final=0.0005,\n",
    "                         deps=-.005,**kw_p0006)\n",
    "data_p0006_list.append(dat)"
   ]
  },
  {
   "cell_type": "code",
   "execution_count": 95,
   "id": "48ba1805-f1a7-4b74-b72d-f469ec77e25e",
   "metadata": {
    "scrolled": true
   },
   "outputs": [],
   "source": [
    "dat = follow_phase_diffs(init=2,eps_init=0.02,eps_final=0.1,\n",
    "                         deps=.01,**kw_p0006)\n",
    "data_p0006_list.append(dat)"
   ]
  },
  {
   "cell_type": "code",
   "execution_count": 96,
   "id": "8c2ce0f2-f8d6-4b74-af8d-649b21f54031",
   "metadata": {
    "scrolled": true
   },
   "outputs": [],
   "source": [
    "dat = follow_phase_diffs(init=1,eps_init=0.01,eps_final=0.0005,\n",
    "                         deps=-.005,**kw_p0006)\n",
    "data_p0006_list.append(dat)"
   ]
  },
  {
   "cell_type": "markdown",
   "id": "c6f1602d-9f48-4fe0-8469-9a4b20a735ac",
   "metadata": {},
   "source": [
    "## Plot"
   ]
  },
  {
   "cell_type": "code",
   "execution_count": 97,
   "id": "7abd05cd-9703-47e8-aee5-6237fbfb1e00",
   "metadata": {},
   "outputs": [
    {
     "data": {
      "image/png": "[encoded data removed]",
      "text/plain": [
       "<Figure size 300x200 with 1 Axes>"
      ]
     },
     "metadata": {},
     "output_type": "display_data"
    }
   ],
   "source": [
    "quick_plot_combined(a12_p0006,\n",
    "                    kw_f={'data_list':data_p0006_list},\n",
    "                    #kw_r3d={'data_list':data_r3d_p0006_list},\n",
    "                    kw_r={'etup':etup12})"
   ]
  },
  {
   "cell_type": "markdown",
   "id": "d4eb9abf-b345-45a4-a028-67cb1126dcad",
   "metadata": {},
   "source": [
    "# del=0.0007"
   ]
  },
  {
   "cell_type": "code",
   "execution_count": 98,
   "id": "3a2f1075-4716-41dd-8bb0-e15612e532ba",
   "metadata": {},
   "outputs": [
    {
     "name": "stdout",
     "output_type": "stream",
     "text": [
      "pfactor 4\n",
      "* Loading p symbolic...\n",
      "* Loading p symbolic...\n",
      "p order=0\n",
      "p order=0\n",
      "p order=1\n",
      "p order=1\n",
      "p order=2\n",
      "p order=2\n",
      "p order=3\n",
      "p order=3\n",
      "* Loading H symbolic...\n",
      "* Loading H symbolic...\n",
      "* Computing H gw0, order=0...\n",
      "* Computing H gw1, order=0...\n",
      "* Computing H gw0, order=1...\n",
      "* Computing H gw1, order=1...\n",
      "* Computing H gw0, order=2...\n",
      "* Computing H gw1, order=2...\n",
      "* Computing H gw0, order=3...\n",
      "* Computing H gw1, order=3...\n"
     ]
    }
   ],
   "source": [
    "del12_p0007 = .0007\n",
    "a12_p0007 = nm.nmCoupling(system1,system2,\n",
    "                    #recompute_list=['p_data_gw0','p_data_gw1','h_data_gw0','h_data_gw1'],\n",
    "                    #recompute_list=['h_data_gw0','h_data_gw1'],\n",
    "                    #recompute_list=recompute_list,\n",
    "                    _n=('om0',1),_m=('om1',2),\n",
    "                    NH=1000,\n",
    "                    save_fig=False,\n",
    "                    del1=1*del12_p0007)"
   ]
  },
  {
   "cell_type": "markdown",
   "id": "36c0736c-baf9-46f9-9a0b-d480909b89e4",
   "metadata": {},
   "source": [
    "## Get Branches Full"
   ]
  },
  {
   "cell_type": "code",
   "execution_count": 99,
   "id": "eb6e4875-9beb-4c06-8e29-176501be0d19",
   "metadata": {},
   "outputs": [],
   "source": [
    "kw_p0007 = {'a':a12_p0007,'del1':del12_p0007,'bifdir':'bif1d_gw2/','_full_rhs':_full}"
   ]
  },
  {
   "cell_type": "code",
   "execution_count": 100,
   "id": "18657a6a-835f-4b5a-bf19-7c4563aad882",
   "metadata": {},
   "outputs": [],
   "source": [
    "data_p0007_list = []"
   ]
  },
  {
   "cell_type": "code",
   "execution_count": 101,
   "id": "3566b89f-8740-41b9-90d9-5faccbcc74e4",
   "metadata": {
    "scrolled": true
   },
   "outputs": [],
   "source": [
    "dat = follow_phase_diffs(init=2,eps_init=0.02,eps_final=0.0005,\n",
    "                         deps=-.005,**kw_p0007)\n",
    "data_p0007_list.append(dat)"
   ]
  },
  {
   "cell_type": "code",
   "execution_count": 102,
   "id": "70fa08e7-1fc2-4bcc-b1e1-e35f5083ba4c",
   "metadata": {
    "scrolled": true
   },
   "outputs": [],
   "source": [
    "dat = follow_phase_diffs(init=2,eps_init=0.02,eps_final=0.1,\n",
    "                         deps=.005,**kw_p0007)\n",
    "data_p0007_list.append(dat)"
   ]
  },
  {
   "cell_type": "code",
   "execution_count": 103,
   "id": "2e7d2e80-26f6-45cd-8df7-9c8e0b7f4b97",
   "metadata": {
    "scrolled": true
   },
   "outputs": [],
   "source": [
    "dat = follow_phase_diffs(init=1,eps_init=0.005,eps_final=0.0005,\n",
    "                         deps=-.0005,**kw_p0007)\n",
    "data_p0007_list.append(dat)"
   ]
  },
  {
   "cell_type": "markdown",
   "id": "6fb6b765-25e4-4e57-b0e6-0ff25a2e1407",
   "metadata": {},
   "source": [
    "## Get Branches 3D"
   ]
  },
  {
   "cell_type": "code",
   "execution_count": 104,
   "id": "7e00818a-a748-4ff3-9117-0a69b0e1ebdb",
   "metadata": {},
   "outputs": [],
   "source": [
    "data_r3d_p0007_list = []"
   ]
  },
  {
   "cell_type": "code",
   "execution_count": 105,
   "id": "eb2044b5-96b6-4614-8816-974db02b5f8a",
   "metadata": {
    "scrolled": true
   },
   "outputs": [
    {
     "name": "stdout",
     "output_type": "stream",
     "text": [
      "t_diff 1.47071488850344330, Y=[ 1.47071489 -0.0979121  -0.10323117]                                              \n",
      "[ 1.4707 -0.0979 -0.1032]\n"
     ]
    }
   ],
   "source": [
    "# find init for this branch\n",
    "_,init = phase_lock_r3d([1,0,0],a12_p0007,.05,_redu_3dc)\n",
    "print(init)"
   ]
  },
  {
   "cell_type": "code",
   "execution_count": 106,
   "id": "dae67b54-78b7-4790-85a2-d53d56cffd27",
   "metadata": {
    "scrolled": true
   },
   "outputs": [
    {
     "name": "stdout",
     "output_type": "stream",
     "text": [
      "eps iter 0 0.05                \n",
      "t_diff 1.47071488850345070, Y=[ 1.47071489 -0.0979121  -0.10323117]                                              \n",
      "eps iter 1 0.060000000000000005                \n",
      "t_diff 1.46064068665088128, Y=[ 1.46064069 -0.11919486 -0.12406088]                                              \n",
      "eps iter 2 0.07                \n",
      "t_diff 1.46076280990189210, Y=[ 1.46076281 -0.14033464 -0.14511757]                                              \n",
      "eps iter 3 0.08000000000000002                \n",
      "t_diff 1.46501840951410082, Y=[ 1.46501841 -0.16153299 -0.16639482]                                              \n",
      "eps iter 4 0.09000000000000001                \n",
      "t_diff 1.47149418475038843, Y=[ 1.47149418 -0.18283396 -0.1878879 ]                                              \n"
     ]
    }
   ],
   "source": [
    "# bot 1f\n",
    "dat = follow_locking_3d(init,a12_p0007,(.05,.1,.01),\n",
    "                        rhs=_redu_3dc,recompute=True)\n",
    "data_r3d_p0007_list.append(dat)"
   ]
  },
  {
   "cell_type": "code",
   "execution_count": 107,
   "id": "62201594-c4f6-47f3-8f7a-8d6a47c38531",
   "metadata": {
    "scrolled": true
   },
   "outputs": [
    {
     "name": "stdout",
     "output_type": "stream",
     "text": [
      "eps iter 0 0.05                \n",
      "t_diff 1.47071488850345070, Y=[ 1.47071489 -0.0979121  -0.10323117]                                              \n",
      "eps iter 1 0.048                \n",
      "t_diff 1.47550369217039214, Y=[ 1.47550369 -0.09357987 -0.09908964]                                              \n",
      "eps iter 2 0.046                \n",
      "t_diff 1.48205039346304073, Y=[ 1.48205039 -0.0891883  -0.09495141]                                              \n",
      "eps iter 3 0.044                \n",
      "t_diff 1.49107494010444962, Y=[ 1.49107494 -0.08470589 -0.09080857]                                              \n",
      "eps iter 4 0.041999999999999996                \n",
      "t_diff 1.50358427446880371, Y=[ 1.50358427 -0.08008636 -0.08664385]                                              \n",
      "eps iter 5 0.039999999999999994                \n",
      "t_diff 1.52067562463325110, Y=[ 1.52067562 -0.07527618 -0.08242327]                                              \n",
      "eps iter 6 0.03799999999999999                \n",
      "t_diff 1.54260713076261619, Y=[ 1.54260713 -0.07026054 -0.07809815]                                              \n",
      "eps iter 7 0.03599999999999999                \n",
      "t_diff 1.56758799204026931, Y=[ 1.56758799 -0.06513459 -0.07364169]                                              \n",
      "eps iter 8 0.03399999999999999                \n",
      "t_diff 1.59269981504623841, Y=[ 1.59269982 -0.06006833 -0.06908704]                                              \n",
      "eps iter 9 0.03199999999999999                \n",
      "t_diff 1.61607681672141480, Y=[ 1.61607682 -0.05518427 -0.06449876]                                              \n",
      "eps iter 10 0.029999999999999985                \n",
      "t_diff 1.63720854630185420, Y=[ 1.63720855 -0.05052627 -0.05992949]                                              \n",
      "eps iter 11 0.027999999999999983                \n",
      "t_diff 1.65621819486555610, Y=[ 1.65621819 -0.04609486 -0.05541084]                                              \n",
      "eps iter 12 0.02599999999999998                \n",
      "t_diff 1.67339530250355951, Y=[ 1.6733953  -0.04187529 -0.05095961]                                              \n",
      "eps iter 13 0.02399999999999998                \n",
      "t_diff 1.68902813615615711, Y=[ 1.68902814 -0.03784949 -0.04658413]                                              \n",
      "eps iter 14 0.021999999999999978                \n",
      "t_diff 1.70336146245532212, Y=[ 1.70336146 -0.03400016 -0.04228801]                                              \n",
      "eps iter 15 0.019999999999999976                \n",
      "t_diff 1.71659374966088122, Y=[ 1.71659375 -0.03031183 -0.03807224]                                              \n",
      "eps iter 16 0.017999999999999974                \n",
      "t_diff 1.72888426070511382, Y=[ 1.72888426 -0.02677099 -0.03393634]                                              \n",
      "eps iter 17 0.015999999999999973                \n",
      "t_diff 1.74036119223437312, Y=[ 1.74036119 -0.02336588 -0.02987898]                                              \n",
      "eps iter 18 0.01399999999999997                \n",
      "t_diff 1.75112859359514753, Y=[ 1.75112859 -0.02008625 -0.02589834]                                              \n",
      "eps iter 19 0.011999999999999969                \n",
      "t_diff 1.76127177684524573, Y=[ 1.76127178 -0.01692309 -0.02199236]                                              \n",
      "eps iter 20 0.009999999999999967                \n",
      "t_diff 1.77086142972714213, Y=[ 1.77086143 -0.01386846 -0.01815884]                                              \n",
      "eps iter 21 0.007999999999999965                \n",
      "t_diff 1.77995672139400108, Y=[ 1.77995672 -0.0109153  -0.01439552]                                              \n",
      "eps iter 22 0.005999999999999964                \n",
      "t_diff 1.78860765576666618, Y=[ 1.78860766 -0.00805729 -0.01070017]                                              \n",
      "eps iter 23 0.003999999999999962                \n",
      "t_diff 1.79685686965665508, Y=[ 1.79685687 -0.00528874 -0.00707056]                                              \n",
      "eps iter 24 0.00199999999999996                \n",
      "t_diff 1.80474101600869808, Y=[ 1.80474102 -0.00260454 -0.00350454]                                              \n"
     ]
    }
   ],
   "source": [
    "# bot 1b\n",
    "dat = follow_locking_3d(init,a12_p0007,(.05,.001,-.002),\n",
    "                        rhs=_redu_3dc,recompute=True)\n",
    "data_r3d_p0007_list.append(dat)"
   ]
  },
  {
   "cell_type": "code",
   "execution_count": 108,
   "id": "c8d8c859-0b54-4778-8147-1b9160d72ceb",
   "metadata": {},
   "outputs": [
    {
     "name": "stdout",
     "output_type": "stream",
     "text": [
      "t_diff 1.18372544255194268, Y=[ 1.18372544 -0.01004056 -0.00910742]                                              \n"
     ]
    }
   ],
   "source": [
    "# find init for this branch\n",
    "_,init = phase_lock_r3d([.8,-.01,-.01],a12_p0007,.005,_redu_3dc)"
   ]
  },
  {
   "cell_type": "code",
   "execution_count": 109,
   "id": "02ea1c47-1293-4607-a5ec-5f0dcc89d8d7",
   "metadata": {
    "scrolled": true
   },
   "outputs": [
    {
     "name": "stdout",
     "output_type": "stream",
     "text": [
      "eps iter 0 0.005                \n",
      "t_diff 1.18372544255152458, Y=[ 1.18372544 -0.01004056 -0.00910742]                                              \n",
      "eps iter 1 0.0055                \n",
      "t_diff 1.18976488175782112, Y=[ 1.18976488 -0.0110527  -0.01006132]                                              \n",
      "eps iter 2 0.005999999999999999                \n",
      "t_diff 1.19612419543762382, Y=[ 1.1961242  -0.01206576 -0.01102494]                                              \n",
      "eps iter 3 0.006499999999999999                \n",
      "t_diff 1.20288368326623512, Y=[ 1.20288368 -0.01307949 -0.01199928]                                              \n",
      "eps iter 4 0.006999999999999998                \n",
      "t_diff 1.21016664100763372, Y=[ 1.21016664 -0.01409355 -0.01298581]                                              \n",
      "eps iter 5 0.007499999999999998                \n",
      "t_diff 1.21818094582851751, Y=[ 1.21818095 -0.01510744 -0.01398692]                                              \n",
      "eps iter 6 0.007999999999999997                \n",
      "t_diff 1.22733341313790609, Y=[ 1.22733341 -0.01612031 -0.0150071 ]                                              \n",
      "eps iter 7 0.008499999999999997                \n",
      "t_diff 1.23868422502232228, Y=[ 1.23868423 -0.01713022 -0.01605754]                                              \n"
     ]
    }
   ],
   "source": [
    "# top 1f\n",
    "dat = follow_locking_3d(init,a12_p0007,(.005,.009,.0005),\n",
    "                        rhs=_redu_3dc,recompute=True)\n",
    "data_r3d_p0007_list.append(dat)"
   ]
  },
  {
   "cell_type": "code",
   "execution_count": 110,
   "id": "e7054867-d6f9-4592-8dee-be629245ab5c",
   "metadata": {
    "scrolled": true
   },
   "outputs": [
    {
     "name": "stdout",
     "output_type": "stream",
     "text": [
      "eps iter 0 0.005                \n",
      "t_diff 1.18372544255152458, Y=[ 1.18372544 -0.01004056 -0.00910742]                                              \n",
      "eps iter 1 0.004                \n",
      "t_diff 1.17239815226454241, Y=[ 1.17239815 -0.00801977 -0.00722606]                                              \n",
      "eps iter 2 0.003                \n",
      "t_diff 1.16184845883014452, Y=[ 1.16184846 -0.00600458 -0.00537688]                                              \n",
      "eps iter 3 0.002                \n",
      "t_diff 1.15190125325752242, Y=[ 1.15190125 -0.00399581 -0.00355729]                                              \n"
     ]
    }
   ],
   "source": [
    "# top 1b\n",
    "dat = follow_locking_3d(init,a12_p0007,(.005,.001,-.001),\n",
    "                        rhs=_redu_3dc,recompute=True)\n",
    "data_r3d_p0007_list.append(dat)"
   ]
  },
  {
   "cell_type": "markdown",
   "id": "0b9630da-84c7-491c-9a8c-f83f0fccd917",
   "metadata": {},
   "source": [
    "## Plot"
   ]
  },
  {
   "cell_type": "code",
   "execution_count": 111,
   "id": "ec73b414-5dd0-4fd3-876d-d3eb8b65769b",
   "metadata": {},
   "outputs": [
    {
     "data": {
      "image/png": "[encoded data removed]",
      "text/plain": [
       "<Figure size 300x200 with 1 Axes>"
      ]
     },
     "metadata": {},
     "output_type": "display_data"
    }
   ],
   "source": [
    "quick_plot_combined(a12_p0007,\n",
    "                    kw_f={'data_list':data_p0007_list},\n",
    "                    kw_r3d={'data_list':data_r3d_p0007_list},\n",
    "                    kw_r={'etup':etup12})"
   ]
  },
  {
   "cell_type": "code",
   "execution_count": null,
   "id": "893a6fd1-44fb-4a16-b82e-14f70dba6f5e",
   "metadata": {},
   "outputs": [],
   "source": []
  },
  {
   "cell_type": "code",
   "execution_count": null,
   "id": "fe39321a-fde5-4572-8214-2aa0c0d22963",
   "metadata": {},
   "outputs": [],
   "source": []
  }
 ],
 "metadata": {
  "jpcodetoc-autonumbering": false,
  "jpcodetoc-showcode": false,
  "jpcodetoc-showmarkdowntxt": false,
  "jpcodetoc-showtags": false,
  "kernelspec": {
   "display_name": "Python 3 (ipykernel)",
   "language": "python",
   "name": "python3"
  },
  "language_info": {
   "codemirror_mode": {
    "name": "ipython",
    "version": 3
   },
   "file_extension": ".py",
   "mimetype": "text/x-python",
   "name": "python",
   "nbconvert_exporter": "python",
   "pygments_lexer": "ipython3",
   "version": "3.10.14"
  }
 },
 "nbformat": 4,
 "nbformat_minor": 5
}
