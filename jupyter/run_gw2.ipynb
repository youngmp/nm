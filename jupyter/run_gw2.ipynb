{
 "cells": [
  {
   "cell_type": "markdown",
   "id": "919b8af7-1374-4884-a8d4-c68c3a42922f",
   "metadata": {},
   "source": [
    "# A pair of Goodwin oscillators"
   ]
  },
  {
   "cell_type": "markdown",
   "id": "47124ba1-eec1-442a-bc27-f733563e3ecc",
   "metadata": {},
   "source": [
    "Trying this instead of the thalamic model so that debugging isn't so goddamn slow."
   ]
  },
  {
   "cell_type": "code",
   "execution_count": 8,
   "id": "27887512-3a04-4833-89ec-60cbe9f359ee",
   "metadata": {},
   "outputs": [],
   "source": [
    "import sys; sys.path.insert(0, '..') # add parent folder path where lib folder is\n",
    "# user-defined\n",
    "import nmCoupling as nm\n",
    "import response as rp\n",
    "\n",
    "import gw2\n",
    "\n",
    "import importlib\n",
    "import lib\n",
    "\n",
    "import lib.util\n",
    "import lib.rhs\n",
    "\n",
    "importlib.reload(sys.modules['lib.util'])\n",
    "importlib.reload(sys.modules['lib.rhs'])\n",
    "from lib.util import (get_phase, freq_est, get_tongue_1d,\n",
    "                      pl_exist_1d)\n",
    "from lib.rhs import (rhs_avg_2d, _redu, _redu_moving, \n",
    "                     _redu_moving_avg, rhs_avg_1d)\n",
    "\n",
    "\n",
    "from importlib import reload\n",
    "import numpy as np\n",
    "import scipy as sp\n",
    "import matplotlib.pyplot as plt\n",
    "from scipy.integrate import solve_ivp\n",
    "\n",
    "from scipy.optimize import root,bisect\n",
    "from copy import deepcopy\n",
    "\n",
    "plt.rcParams.update({\n",
    "    \"text.usetex\": True,\n",
    "    \"font.family\": \"Helvetica\"\n",
    "})\n",
    "\n",
    "reload(gw2)\n",
    "reload(nm)\n",
    "reload(rp)\n",
    "\n",
    "nmc = nm.nmCoupling\n",
    "rsp = rp.Response"
   ]
  },
  {
   "cell_type": "code",
   "execution_count": 3,
   "id": "4da950e6-add4-4837-8255-5fda086f2ae2",
   "metadata": {},
   "outputs": [],
   "source": [
    "pd1 = {'v1':.84,'v2':.42,'v4':.35,'v6':.35,'v8':1,\n",
    "           'k1':1,'k2':1,'k3':.7,'k4':1,'k5':.7,\n",
    "           'k6':1,'k7':.35,'k8':1,'K':0.5,'kc':1,\n",
    "           'n':6,'L':0,'eps':0,'om':1,'om_fix':1}"
   ]
  },
  {
   "cell_type": "code",
   "execution_count": 9,
   "id": "ad48dbfd-03a5-4a3e-b05b-1c0a4dabbb7d",
   "metadata": {},
   "outputs": [],
   "source": [
    "kws1 = {'var_names':['x','y','z','v'],\n",
    "        'pardict':pd1,\n",
    "        'rhs':gw2.rhs,\n",
    "        'coupling':gw2.coupling,\n",
    "        'init':np.array([.3882,.523,1.357,.4347,24.2]),\n",
    "        'TN':2000,\n",
    "        'trunc_order':2,\n",
    "        'z_forward':False,\n",
    "        'i_forward':False,\n",
    "        'i_bad_dx':[False,True,False,False],\n",
    "        'max_iter':20,\n",
    "        'rtol':1e-12,\n",
    "        'atol':1e-12,\n",
    "        'rel_tol':1e-9,\n",
    "        'save_fig':True}"
   ]
  },
  {
   "cell_type": "code",
   "execution_count": 11,
   "id": "f6494f49-b5f6-4102-866d-c29cb696426f",
   "metadata": {},
   "outputs": [],
   "source": [
    "def _full(t,y,a,eps,del1):\n",
    "    pd1 = a.system1.pardict;pd2 = a.system2.pardict\n",
    "    y1 = y[:4];y2 = y[4:]\n",
    "    out1 = t2.rhs(t,y1,pd1,'val',0) + eps*(del1 + t2.coupling(y,pd1,'val',0))\n",
    "    out2 = t2.rhs(t,y2,pd2,'val',1) + eps*t2.coupling(list(y2)+list(y1),pd2,'val',1)\n",
    "    return np.array(list(out1)+list(out2))"
   ]
  },
  {
   "cell_type": "code",
   "execution_count": 12,
   "id": "c314dc5a-d49c-4d26-b40e-bff451af4350",
   "metadata": {},
   "outputs": [],
   "source": [
    "def _redu(t,y,a,eps,del1):\n",
    "    system1 = a.system1; system2 = a.system2\n",
    "    h = 0\n",
    "    for i in range(system1.miter):\n",
    "        h += eps**(i+1)*(4*del1*np.mean(system1.z['dat'][i]) + system1.h['lam'][i](y) - system2.h['lam'][i](y))\n",
    "    #h -= /a._m[1]\n",
    "    return h*a._n[1]"
   ]
  },
  {
   "cell_type": "code",
   "execution_count": 10,
   "id": "8333e5b2-b893-42e6-9709-d0126f063b8b",
   "metadata": {},
   "outputs": [
    {
     "name": "stdout",
     "output_type": "stream",
     "text": [
      "* Computing LC data...\n",
      "t init 24.246927361055896\n",
      "self.T 6.283185307179586 omfix 3.8590183230656914\n",
      "LC0 ini[0.38828611 0.52077984 1.35359717 0.12705671]\n",
      "LC0 fin[0.38828611 0.52077984 1.35359717 0.12705671]\n",
      "* Computing monodromy...\n",
      "mon eval time 1.3319828510284424\n",
      "* Floquet Exponent kappa =-0.15846659975461394\n",
      "* Computing g symbolic...\n",
      "* Computing g...\n",
      "g0 ini[0. 0. 0. 0.]\n",
      "g0 fin[0. 0. 0. 0.]\n",
      "g1 ini[0.07152111 0.71700844 0.68236181 0.12315027]\n",
      "g1 fin[0.07152111 0.71700844 0.68236181 0.12315027]\n",
      "dx=3.21e-13, al=1.00e+00                   \n",
      "g2 ini[-0.67118414  0.2564847   1.36449776 -0.08886141]\n",
      "g2 fin[-0.67118414  0.2564847   1.36449776 -0.08886141]\n",
      "* Computing heterogeneous terms...\n",
      "* Computing z...\n",
      "z0 ini[-11.84636438  -2.87882702   4.26666381  -0.        ]\n",
      "z0 fin[-11.84636438  -2.87882702   4.26666381  -0.        ]\n",
      "dx=6.02e-10, al=9.09e-01                   \n",
      "z1 ini[ -1.07870625 -14.68206209 -22.66367644   0.        ]\n",
      "z1 fin[ -1.07870625 -14.68206209 -22.66367644   0.        ]\n",
      "dx=2.25e-11, al=1.00e+00                   \n",
      "z2 ini[22.33981644 25.81615603 17.5260036   0.        ]\n",
      "z2 fin[22.33981644 25.81615603 17.5260036   0.        ]\n",
      "* Computing i...\n",
      "i0 ini[10.14449997  3.35018922 -3.1180817   0.        ]\n",
      "i0 fin[10.14449997  3.35018922 -3.1180817   0.        ]\n",
      "dx=1.06e-11, al=1.00e+00                   \n",
      "i1 ini[-8.10473611e+00  9.06529550e+00  2.12322957e+01 -2.97158264e-30]\n",
      "i1 fin[-8.10473611e+00  9.06529550e+00  2.12322957e+01 -1.59415507e-20]\n",
      "dx=6.53e-10, al=8.26e-01                   \n",
      "i2 ini[-1.80870278e+01 -3.00309010e+01 -2.96473368e+01  3.73257147e-26]\n",
      "i2 fin[-1.80870278e+01 -3.00309010e+01 -2.96473368e+01  3.46431422e-27]\n",
      "* Computing LC data...\n",
      "t init 24.246927361055896\n",
      "self.T 6.283185307179586 omfix 3.8590183230656914\n",
      "LC0 ini[0.38828611 0.52077984 1.35359717 0.12705671]\n",
      "LC0 fin[0.38828611 0.52077984 1.35359717 0.12705671]\n",
      "* Computing monodromy...\n",
      "mon eval time 0.05586123466491699\n",
      "* Floquet Exponent kappa =-0.15846659975461394\n",
      "* Computing g symbolic...\n",
      "* Computing g...\n",
      "g0 ini[0. 0. 0. 0.]\n",
      "g0 fin[0. 0. 0. 0.]\n",
      "g1 ini[0.07152111 0.71700844 0.68236181 0.12315027]\n",
      "g1 fin[0.07152111 0.71700844 0.68236181 0.12315027]\n",
      "dx=3.21e-13, al=1.00e+00                   \n",
      "g2 ini[-0.67118414  0.2564847   1.36449776 -0.08886141]\n",
      "g2 fin[-0.67118414  0.2564847   1.36449776 -0.08886141]\n",
      "* Computing heterogeneous terms...\n",
      "* Computing z...\n",
      "z0 ini[-11.84636438  -2.87882702   4.26666381  -0.        ]\n",
      "z0 fin[-11.84636438  -2.87882702   4.26666381  -0.        ]\n",
      "dx=6.02e-10, al=9.09e-01                   \n",
      "z1 ini[ -1.07870625 -14.68206209 -22.66367644   0.        ]\n",
      "z1 fin[ -1.07870625 -14.68206209 -22.66367644   0.        ]\n",
      "dx=2.25e-11, al=1.00e+00                   \n",
      "z2 ini[22.33981644 25.81615603 17.5260036   0.        ]\n",
      "z2 fin[22.33981644 25.81615603 17.5260036   0.        ]\n",
      "* Computing i...\n",
      "i0 ini[10.14449997  3.35018922 -3.1180817   0.        ]\n",
      "i0 fin[10.14449997  3.35018922 -3.1180817   0.        ]\n",
      "dx=1.06e-11, al=1.00e+00                   \n",
      "i1 ini[-8.10473611e+00  9.06529550e+00  2.12322957e+01 -2.97158264e-30]\n",
      "i1 fin[-8.10473611e+00  9.06529550e+00  2.12322957e+01 -1.59415507e-20]\n",
      "dx=6.53e-10, al=8.26e-01                   \n",
      "i2 ini[-1.80870278e+01 -3.00309010e+01 -2.96473368e+01  3.73257147e-26]\n",
      "i2 fin[-1.80870278e+01 -3.00309010e+01 -2.96473368e+01  3.46431422e-27]\n"
     ]
    },
    {
     "data": {
      "image/png": "[encoded data removed]",
      "text/plain": [
       "<Figure size 640x480 with 1 Axes>"
      ]
     },
     "metadata": {},
     "output_type": "display_data"
    },
    {
     "data": {
      "image/png": "[encoded data removed]",
      "text/plain": [
       "<Figure size 640x480 with 1 Axes>"
      ]
     },
     "metadata": {},
     "output_type": "display_data"
    }
   ],
   "source": [
    "system1 = rsp(idx=0,model_name='gw0',**kws1)\n",
    "system2 = rsp(idx=1,model_name='gw1',**kws1)"
   ]
  },
  {
   "cell_type": "code",
   "execution_count": null,
   "id": "80f6780a-a748-4854-a1eb-a0ca601a8344",
   "metadata": {},
   "outputs": [],
   "source": []
  }
 ],
 "metadata": {
  "kernelspec": {
   "display_name": "Python 3 (ipykernel)",
   "language": "python",
   "name": "python3"
  },
  "language_info": {
   "codemirror_mode": {
    "name": "ipython",
    "version": 3
   },
   "file_extension": ".py",
   "mimetype": "text/x-python",
   "name": "python",
   "nbconvert_exporter": "python",
   "pygments_lexer": "ipython3",
   "version": "3.10.14"
  }
 },
 "nbformat": 4,
 "nbformat_minor": 5
}
