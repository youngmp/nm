{
 "cells": [
  {
   "cell_type": "markdown",
   "id": "919b8af7-1374-4884-a8d4-c68c3a42922f",
   "metadata": {},
   "source": [
    "# A pair of Goodwin oscillators"
   ]
  },
  {
   "cell_type": "markdown",
   "id": "47124ba1-eec1-442a-bc27-f733563e3ecc",
   "metadata": {},
   "source": [
    "Trying this instead of the thalamic model so that debugging isn't so goddamn slow."
   ]
  },
  {
   "cell_type": "markdown",
   "id": "c1958f8b-01de-4aa5-a50d-f5f3caa76761",
   "metadata": {},
   "source": [
    "# Imports"
   ]
  },
  {
   "cell_type": "code",
   "execution_count": 1,
   "id": "27887512-3a04-4833-89ec-60cbe9f359ee",
   "metadata": {
    "editable": true,
    "slideshow": {
     "slide_type": ""
    },
    "tags": []
   },
   "outputs": [],
   "source": [
    "import sys; sys.path.insert(0, '..') # add parent folder path where lib folder is\n",
    "# user-defined\n",
    "import nmCoupling as nm\n",
    "import response as rp\n",
    "\n",
    "import gw2\n",
    "\n",
    "#from generate_figures import bif1d\n",
    "\n",
    "import importlib\n",
    "import lib\n",
    "\n",
    "import lib.util\n",
    "import lib.rhs\n",
    "\n",
    "importlib.reload(sys.modules['lib.util'])\n",
    "importlib.reload(sys.modules['lib.rhs'])\n",
    "from lib.util import (get_phase, freq_est, get_tongue_1d,\n",
    "                      pl_exist_1d)\n",
    "from lib.rhs import (rhs_avg_2d, _redu_moving, \n",
    "                     _redu_moving_avg, rhs_avg_1d, rhs_avg_1dc)\n",
    "\n",
    "\n",
    "from importlib import reload\n",
    "import numpy as np\n",
    "import scipy as sp\n",
    "import matplotlib.pyplot as plt\n",
    "from scipy.integrate import solve_ivp\n",
    "import sympy as sym\n",
    "\n",
    "from scipy.optimize import root,bisect\n",
    "from copy import deepcopy\n",
    "\n",
    "plt.rcParams.update({\n",
    "    \"text.usetex\": True,\n",
    "    \"font.family\": \"Helvetica\"\n",
    "})\n",
    "\n",
    "reload(gw2)\n",
    "reload(nm)\n",
    "reload(rp)\n",
    "\n",
    "nmc = nm.nmCoupling\n",
    "rsp = rp.Response"
   ]
  },
  {
   "cell_type": "markdown",
   "id": "67c6b0bd-d8a1-4a78-b1c4-9c9199d7d253",
   "metadata": {},
   "source": [
    "# Dicts"
   ]
  },
  {
   "cell_type": "code",
   "execution_count": 2,
   "id": "04f4b95a-f4d7-4329-b1d2-012ecf2b0b8b",
   "metadata": {},
   "outputs": [],
   "source": [
    "kw_sim = {'rtol':1e-7,'atol':1e-7,'method':'LSODA'}"
   ]
  },
  {
   "cell_type": "code",
   "execution_count": 3,
   "id": "4da950e6-add4-4837-8255-5fda086f2ae2",
   "metadata": {},
   "outputs": [],
   "source": [
    "pd1 = {'v1':.84,'v2':.42,'v4':.35,'v6':.35,'v8':1,\n",
    "           'k1':1,'k2':1,'k3':.7,'k4':1,'k5':.7,\n",
    "           'k6':1,'k7':.35,'k8':1,'K':0.5,'kc':1,\n",
    "           'n':6,'L':0,'eps':0,'om':1,'om_fix':1}"
   ]
  },
  {
   "cell_type": "code",
   "execution_count": 4,
   "id": "ad48dbfd-03a5-4a3e-b05b-1c0a4dabbb7d",
   "metadata": {
    "editable": true,
    "slideshow": {
     "slide_type": ""
    },
    "tags": []
   },
   "outputs": [],
   "source": [
    "kws1 = {'var_names':['x','y','z','v'],\n",
    "        'pardict':pd1,\n",
    "        'rhs':gw2.rhs,\n",
    "        'coupling':gw2.coupling,\n",
    "        'init':np.array([.3882,.523,1.357,.4347,24.2]),\n",
    "        'TN':2000,\n",
    "        'trunc_order':2,\n",
    "        'z_forward':False,\n",
    "        'i_forward':False,\n",
    "        'i_bad_dx':[False,True,False,False],\n",
    "        'max_iter':20,\n",
    "        'rtol':1e-12,\n",
    "        'atol':1e-12,\n",
    "        'rel_tol':1e-9,\n",
    "        'save_fig':False}"
   ]
  },
  {
   "cell_type": "markdown",
   "id": "2db59fc2-b029-4fdb-a6ae-aa10b6b6650b",
   "metadata": {},
   "source": [
    "# Defs"
   ]
  },
  {
   "cell_type": "code",
   "execution_count": 5,
   "id": "262642ed-0044-4f73-96cd-8d3658b22b32",
   "metadata": {
    "editable": true,
    "slideshow": {
     "slide_type": ""
    },
    "tags": []
   },
   "outputs": [],
   "source": [
    "x_temp = np.linspace(-np.pi,3*np.pi,500)"
   ]
  },
  {
   "cell_type": "code",
   "execution_count": 6,
   "id": "ede13f51-f98a-4f27-9a5b-749651eff587",
   "metadata": {},
   "outputs": [],
   "source": [
    "def bif1d(a,eps,del1):\n",
    "    \"\"\"\n",
    "    for coupling only\n",
    "    \"\"\"\n",
    "\n",
    "    y = rhs_avg_1dc(0,x_temp,a,eps,del1)\n",
    "\n",
    "    #fig,axs = plt.subplots()\n",
    "    #axs.plot(y)\n",
    "    #plt.show()\n",
    "    #plt.close()\n",
    "    \n",
    "    # get all zeros\n",
    "    z1 = x_temp[1:][(y[1:]>0)*(y[:-1]<=0)]\n",
    "    z2 = x_temp[1:][(y[1:]<0)*(y[:-1]>=0)]\n",
    "\n",
    "    return z1,z2"
   ]
  },
  {
   "cell_type": "code",
   "execution_count": 7,
   "id": "f6494f49-b5f6-4102-866d-c29cb696426f",
   "metadata": {},
   "outputs": [],
   "source": [
    "def _full(t,y,a,eps,del1):\n",
    "    pd1 = a.system1.pardict;pd2 = a.system2.pardict\n",
    "    y1 = y[:4];y2 = y[4:]\n",
    "    out1 = gw2.rhs(t,y1,pd1,'val',0) + eps*(del1 + gw2.coupling(y,pd1,'val',0))\n",
    "    out2 = gw2.rhs(t,y2,pd2,'val',1) + eps*gw2.coupling(list(y2)+list(y1),pd2,'val',1)\n",
    "    return np.array(list(out1)+list(out2))"
   ]
  },
  {
   "cell_type": "code",
   "execution_count": 8,
   "id": "c314dc5a-d49c-4d26-b40e-bff451af4350",
   "metadata": {},
   "outputs": [],
   "source": [
    "def _redu(t,y,a,eps,del1):\n",
    "    n = a._n[1];m = a._m[1]\n",
    "    system1 = a.system1; system2 = a.system2\n",
    "    h = 0\n",
    "    for i in range(system1.miter):\n",
    "        h += eps**(i+1)*(4*del1*np.mean(system1.z['dat'][i]) + system1.h['lam'][i](-y) - system2.h['lam'][i](-y))\n",
    "    return h*n"
   ]
  },
  {
   "cell_type": "code",
   "execution_count": 9,
   "id": "c8111057-636b-43b3-bfc4-283fe1a96440",
   "metadata": {},
   "outputs": [],
   "source": [
    "# def _redu2(t,y,a,eps,del1):\n",
    "#     n = a._n[1];m = a._m[1]\n",
    "#     system1 = a.system1; system2 = a.system2\n",
    "#     h = 0\n",
    "#     for i in range(system1.miter):\n",
    "#         h += eps**(i+1)*(4*del1*np.mean(system1.z['dat'][i]) + system1.h['lam'][i](y) - system2.h['lam'][i](y))\n",
    "#     return h*n/m"
   ]
  },
  {
   "cell_type": "code",
   "execution_count": 10,
   "id": "26f32cf9-ab5c-4764-a2b7-ffc1f0c6d185",
   "metadata": {
    "editable": true,
    "slideshow": {
     "slide_type": ""
    },
    "tags": []
   },
   "outputs": [],
   "source": [
    "def add_diagram(axs,a,del1,eps_list):\n",
    "    zu_list = []\n",
    "    zs_list = []\n",
    "\n",
    "    zu = []\n",
    "    zs = []\n",
    "\n",
    "    for eps in eps_list:\n",
    "        z1,z2 = bif1d(a,eps,del1)\n",
    "\n",
    "        zu.append(np.mod(z1,2*np.pi))\n",
    "        zs.append(np.mod(z2,2*np.pi))\n",
    "\n",
    "    for xe, ye in zip(eps_list, zu):\n",
    "        axs.scatter([xe] * len(ye), ye,s=2,c='red')\n",
    "\n",
    "    for xe, ye in zip(eps_list, zs):\n",
    "        axs.scatter([xe] * len(ye), ye,s=2,c='k')\n",
    "\n",
    "    axs.set_ylim(-.1,2*np.pi+.1)\n",
    "    axs.set_xlim(eps_list[0],eps_list[-1])\n",
    "    "
   ]
  },
  {
   "cell_type": "markdown",
   "id": "6f321db2-31a4-4be2-9953-247fc5c68c30",
   "metadata": {},
   "source": [
    "# Initialize"
   ]
  },
  {
   "cell_type": "code",
   "execution_count": 11,
   "id": "8333e5b2-b893-42e6-9709-d0126f063b8b",
   "metadata": {
    "editable": true,
    "slideshow": {
     "slide_type": ""
    },
    "tags": []
   },
   "outputs": [
    {
     "name": "stdout",
     "output_type": "stream",
     "text": [
      "* Loading LC data...\n",
      "self.T 6.283185307179586 omfix 3.8590183230656914\n",
      "* Loading monodromy...\n",
      "* Floquet Exponent kappa =-0.15846659975461394\n",
      "* Loading g symbolic...\n",
      "* Computing g...\n",
      "* Loading heterogeneous terms...\n",
      "* Computing z...\n",
      "* Computing i...\n",
      "* Loading LC data...\n",
      "self.T 6.283185307179586 omfix 3.8590183230656914\n",
      "* Loading monodromy...\n",
      "* Floquet Exponent kappa =-0.15846659975461394\n",
      "* Loading g symbolic...\n",
      "* Computing g...\n",
      "* Loading heterogeneous terms...\n",
      "* Computing z...\n",
      "* Computing i...\n"
     ]
    }
   ],
   "source": [
    "system1 = rsp(idx=0,model_name='gw0',**kws1)\n",
    "system2 = rsp(idx=1,model_name='gw1',**kws1)"
   ]
  },
  {
   "cell_type": "markdown",
   "id": "71438ca3-8bc3-4c2d-8dfe-3fc5ab1befd4",
   "metadata": {},
   "source": [
    "# 1:1"
   ]
  },
  {
   "cell_type": "code",
   "execution_count": null,
   "id": "80f6780a-a748-4854-a1eb-a0ca601a8344",
   "metadata": {},
   "outputs": [
    {
     "name": "stdout",
     "output_type": "stream",
     "text": [
      "* Loading p symbolic...\n",
      "* Loading p symbolic...\n",
      "p order=0\n",
      "p order=0\n",
      "p order=1\n",
      "p order=1\n",
      "p order=2\n"
     ]
    }
   ],
   "source": [
    "a11 = nm.nmCoupling(system1,system2,\n",
    "                    recompute_list=['p_data_gw0','p_data_gw1','h_data_gw0','h_data_gw1'],\n",
    "                    #recompute_list=['h_data_gw0','h_data_gw1'],\n",
    "                    #recompute_list=recompute_list,\n",
    "                    _n=('om0',1),_m=('om1',1),\n",
    "                    NP=500,\n",
    "                    NH=500,\n",
    "                    save_fig=True)"
   ]
  },
  {
   "cell_type": "code",
   "execution_count": null,
   "id": "31348911-363f-4e6b-b373-ba919a39aac4",
   "metadata": {},
   "outputs": [],
   "source": [
    "eps11 = .3\n",
    "del11 = -0.02\n",
    "th_init11 = 3"
   ]
  },
  {
   "cell_type": "markdown",
   "id": "08a378cd-569d-4c7b-bc85-70c1897a49c1",
   "metadata": {},
   "source": [
    "## phase plane"
   ]
  },
  {
   "cell_type": "code",
   "execution_count": null,
   "id": "01b8e171-fe10-42f6-8552-71cc13d8ad0d",
   "metadata": {},
   "outputs": [],
   "source": [
    "x_temp2 = np.linspace(0,2*np.pi,200)\n",
    "\n",
    "rhs = _redu(0,x_temp2,a11,eps11,del11)\n",
    "\n",
    "fig,axs = plt.subplots(figsize=(6,2))\n",
    "axs.plot(x_temp2,rhs)\n",
    "axs.axhline(0,0,2*np.pi,ls='--',color='gray')"
   ]
  },
  {
   "cell_type": "markdown",
   "id": "6b00fc8b-beee-4754-b63e-d150da7dec2c",
   "metadata": {
    "editable": true,
    "slideshow": {
     "slide_type": ""
    },
    "tags": []
   },
   "source": [
    "## Integrate"
   ]
  },
  {
   "cell_type": "code",
   "execution_count": null,
   "id": "0e1d0d18-8491-4398-9a8c-cf3e54faa460",
   "metadata": {},
   "outputs": [],
   "source": [
    "dt = .01;T=200\n",
    "t11 = np.arange(0,T,dt)\n",
    "args11 = {'args':(a11,eps11,del11),'t_eval':t11,**kw_sim}"
   ]
  },
  {
   "cell_type": "code",
   "execution_count": null,
   "id": "0ac96893-1380-4202-9a9e-8184402b4102",
   "metadata": {
    "tags": []
   },
   "outputs": [],
   "source": [
    "y0a = a11.system1.lc['dat'][int((th_init11/(2*np.pi))*a11.system1.TN),:]\n",
    "y0b = a11.system2.lc['dat'][int((0/(2*np.pi))*a11.system2.TN),:]\n",
    "\n",
    "y0 = np.array([y0a,y0b]).flatten()\n",
    "\n",
    "solf11 = solve_ivp(_full,[0,t11[-1]],y0,**args11)"
   ]
  },
  {
   "cell_type": "code",
   "execution_count": null,
   "id": "55cff1ac-6470-4a73-b3ba-07a49e28b725",
   "metadata": {
    "tags": []
   },
   "outputs": [],
   "source": [
    "solr11 = solve_ivp(_redu2,[0,t11[-1]],[th_init11],**args11)"
   ]
  },
  {
   "cell_type": "code",
   "execution_count": null,
   "id": "6e7145a2-8d25-4979-a9a3-93e7680a9928",
   "metadata": {
    "tags": []
   },
   "outputs": [],
   "source": [
    "fig,axs = plt.subplots(figsize=(10,4))\n",
    "axs.plot(solf11.t,solf11.y.T[:,0])\n",
    "axs.plot(solf11.t,solf11.y.T[:,4])\n",
    "#axs.set_xlim(sol_full.t[-1]-200,sol_full.t[-1])\n",
    "axs.set_xlim(t11[-1]-400,t11[-1])"
   ]
  },
  {
   "cell_type": "code",
   "execution_count": null,
   "id": "72198261-383a-4e6f-a72e-b082102768c9",
   "metadata": {
    "tags": []
   },
   "outputs": [],
   "source": [
    "tp11a, phase11a = get_phase(t11,solf11.y.T[:,:4],skipn=20,system1=a11.system1)\n",
    "tp11b, phase11b = get_phase(t11,solf11.y.T[:,4:],skipn=20,system1=a11.system2)"
   ]
  },
  {
   "cell_type": "markdown",
   "id": "93578b4e-2619-4645-b5db-07cd1d85a937",
   "metadata": {},
   "source": [
    "## Full vs phase"
   ]
  },
  {
   "cell_type": "code",
   "execution_count": null,
   "id": "751ea646-17a8-49dd-89f4-7526c45a6b11",
   "metadata": {
    "scrolled": true,
    "tags": []
   },
   "outputs": [],
   "source": [
    "fig,axs = plt.subplots()\n",
    "y = np.mod(phase11a - a11.om*phase11b,2*np.pi)\n",
    "axs.scatter(tp11a,y,s=1,alpha=.5)\n",
    "axs.plot(t11,np.mod(solr11.y.T,2*np.pi),color='tab:red')\n",
    "#axs.scatter(sol_full.t[::skipn],np.mod(phase2,1),s=1)\n",
    "axs.set_ylim(0,2*np.pi)"
   ]
  },
  {
   "cell_type": "markdown",
   "id": "2266396a-50fa-4356-8fa3-459ceae07c46",
   "metadata": {
    "editable": true,
    "slideshow": {
     "slide_type": ""
    },
    "tags": []
   },
   "source": [
    "## Bifurcations"
   ]
  },
  {
   "cell_type": "code",
   "execution_count": null,
   "id": "370c8fdc-c895-41ad-acc1-9b20d5e7e6c4",
   "metadata": {},
   "outputs": [],
   "source": [
    "fig,axs=plt.subplots(1,3,figsize=(10,2))\n",
    "\n",
    "del_list11 = np.linspace(-.02,.02,len(axs))\n",
    "eps_list11 = np.linspace(.001,.4,30)\n",
    "\n",
    "for k in range(len(del_list11)):\n",
    "    add_diagram(axs[k],a11,del_list11[k],eps_list11)"
   ]
  },
  {
   "cell_type": "markdown",
   "id": "daab35dc-3b84-49ea-af82-43114996c147",
   "metadata": {},
   "source": [
    "# 1:2"
   ]
  },
  {
   "cell_type": "code",
   "execution_count": null,
   "id": "34b23800-20a6-42aa-a43d-5d686123cab9",
   "metadata": {
    "editable": true,
    "slideshow": {
     "slide_type": ""
    },
    "tags": []
   },
   "outputs": [],
   "source": [
    "a12 = nm.nmCoupling(system1,system2,\n",
    "                    #recompute_list=['p_data_gw0','p_data_gw1','h_data_gw0','h_data_gw1'],\n",
    "                    #recompute_list=['h_data_gw0','h_data_gw1'],\n",
    "                    #recompute_list=recompute_list,\n",
    "                    _n=('om0',1),_m=('om1',2),\n",
    "                    NP=700,\n",
    "                    NH=700,\n",
    "                    save_fig=True)"
   ]
  },
  {
   "cell_type": "code",
   "execution_count": null,
   "id": "0c76e3a5-c611-46d8-83d7-77a645999bf1",
   "metadata": {},
   "outputs": [],
   "source": [
    "eps12 = .12\n",
    "del12 = 0.0\n",
    "th_init12 = 1.75"
   ]
  },
  {
   "cell_type": "markdown",
   "id": "713be9c1-7867-4b67-bc93-882503368f91",
   "metadata": {},
   "source": [
    "First order starts losing accuracy around eps = 0.025 as eps increases (the reduced model reaches the same fixed point as the full model). Even at eps=0.02, the reduced and full models don't coincide in transients despite the long-term convergence.\n",
    "\n",
    "Using order eps^2 at eps = 0.025 results in WORSE performance... So clearly if not p then there is something wrong with calculating h functions..."
   ]
  },
  {
   "cell_type": "markdown",
   "id": "4e153b08-41c7-49ce-9233-0e56d8e0b742",
   "metadata": {},
   "source": [
    "## Phase plane"
   ]
  },
  {
   "cell_type": "code",
   "execution_count": null,
   "id": "0affccec-0a6e-4816-a995-15e427ffcf22",
   "metadata": {},
   "outputs": [],
   "source": [
    "x_temp2 = np.linspace(0,2*np.pi,200)\n",
    "\n",
    "# def _redu(t,y,a,eps,del1):\n",
    "#     n = a._n[1];m = a._m[1]\n",
    "#     system1 = a.system1; system2 = a.system2\n",
    "#     h = 0\n",
    "#     for i in range(system1.miter):\n",
    "#         h += eps**(i+1)*(4*del1*np.mean(system1.z['dat'][i]) + system1.h['lam'][i](-y+np.pi/4) - system2.h['lam'][i](-y+np.pi/4))\n",
    "#     return h*n/m\n",
    "\n",
    "rhs = _redu(0,x_temp2,a12,eps12,del12)\n",
    "\n",
    "fig,axs = plt.subplots()\n",
    "axs.plot(x_temp2,rhs)\n",
    "axs.axhline(0,0,2*np.pi,ls='--',color='gray')"
   ]
  },
  {
   "cell_type": "markdown",
   "id": "aa7f1f7f-dcb6-41c0-9141-3ea5dba88c93",
   "metadata": {},
   "source": [
    "## Integrate"
   ]
  },
  {
   "cell_type": "code",
   "execution_count": null,
   "id": "6417624a-bff6-471b-8cb6-b903793869b9",
   "metadata": {},
   "outputs": [],
   "source": [
    "dt = .01;T=1000\n",
    "t12 = np.arange(0,T,dt)\n",
    "args12 = {'args':(a12,eps12,del12),'t_eval':t12,**kw_sim}"
   ]
  },
  {
   "cell_type": "code",
   "execution_count": null,
   "id": "8d2fbea7-132c-4698-aaf9-4ccb2e82e49d",
   "metadata": {
    "tags": []
   },
   "outputs": [],
   "source": [
    "y0a = a12.system1.lc['dat'][int((th_init12/(2*np.pi))*a12.system1.TN),:]\n",
    "y0b = a12.system2.lc['dat'][int((0/(2*np.pi))*a12.system2.TN),:]\n",
    "\n",
    "y0 = np.array([y0a,y0b]).flatten()\n",
    "\n",
    "solf12 = solve_ivp(_full,[0,t12[-1]],y0,**args12)"
   ]
  },
  {
   "cell_type": "code",
   "execution_count": null,
   "id": "b0194a5f-5f2d-45d4-a941-ca58a8763a75",
   "metadata": {
    "tags": []
   },
   "outputs": [],
   "source": [
    "solr12 = solve_ivp(_redu,[0,t12[-1]],[th_init12],**args12)"
   ]
  },
  {
   "cell_type": "code",
   "execution_count": null,
   "id": "87de3b25-0895-4a0f-8a35-3c34cc2aed36",
   "metadata": {
    "tags": []
   },
   "outputs": [],
   "source": [
    "fig,axs = plt.subplots(2,1,figsize=(10,4))\n",
    "axs[0].plot(solf12.t,solf12.y.T[:,0])\n",
    "axs[0].plot(solf12.t,solf12.y.T[:,4])\n",
    "\n",
    "axs[1].plot(solf12.t,solf12.y.T[:,0])\n",
    "axs[1].plot(solf12.t,solf12.y.T[:,4])\n",
    "\n",
    "axs[0].set_xlim(0,200)\n",
    "axs[1].set_xlim(t12[-1]-200,t12[-1])"
   ]
  },
  {
   "cell_type": "code",
   "execution_count": null,
   "id": "a3d6ea42-908d-491b-af7a-44e5d9f293d3",
   "metadata": {
    "tags": []
   },
   "outputs": [],
   "source": [
    "tp12a, phase12a = get_phase(t12,solf12.y.T[:,:4],skipn=50,system1=a12.system1)\n",
    "tp12b, phase12b = get_phase(t12,solf12.y.T[:,4:],skipn=50,system1=a12.system2)"
   ]
  },
  {
   "cell_type": "markdown",
   "id": "91dfb32d-dff9-44ad-b2ee-f1c0306ab81b",
   "metadata": {},
   "source": [
    "## Full vs phase"
   ]
  },
  {
   "cell_type": "code",
   "execution_count": null,
   "id": "936fa694-1ca3-4bab-abbf-d2c797dc7177",
   "metadata": {
    "tags": []
   },
   "outputs": [],
   "source": [
    "fig,axs = plt.subplots()\n",
    "y = np.mod(phase12a - a12.om*phase12b,2*np.pi)\n",
    "axs.scatter(tp12a,y,s=1,alpha=.5)\n",
    "axs.plot(t12,np.mod(solr12.y.T,2*np.pi),color='tab:red')\n",
    "#axs.scatter(sol_full.t[::skipn],np.mod(phase2,1),s=1)\n",
    "axs.set_ylim(0,2*np.pi)"
   ]
  },
  {
   "cell_type": "markdown",
   "id": "68125084-042d-4f76-a259-c601669c19f6",
   "metadata": {},
   "source": [
    "### Multiple Initial Conditions"
   ]
  },
  {
   "cell_type": "code",
   "execution_count": null,
   "id": "08c35e24-9f5b-4b82-b391-d32de399bc80",
   "metadata": {
    "editable": true,
    "slideshow": {
     "slide_type": ""
    },
    "tags": []
   },
   "outputs": [],
   "source": [
    "init_phases12 = np.linspace(0,2*np.pi,10,endpoint=False)\n",
    "dt = .01;T=1000\n",
    "t12b = np.arange(0,T,dt)\n",
    "\n",
    "y0b = a12.system2.lc['dat'][int((0/(2*np.pi))*a12.system2.TN),:]\n",
    "\n",
    "full_1 = []\n",
    "full_2 = []\n",
    "\n",
    "args12b = {'args':(a12,eps12,del12),'t_eval':t12b,**kw_sim}\n",
    "\n",
    "for i in range(len(init_phases12)):\n",
    "    y0a = a12.system1.lc['dat'][int((init_phases12[i]/(2*np.pi))*a12.system1.TN),:]\n",
    "    y0 = np.array([y0a,y0b]).flatten()\n",
    "\n",
    "    solf12 = solve_ivp(_full,[0,t12b[-1]],y0,**args12b)\n",
    "    tp12a, phase12a = get_phase(t12b,solf12.y.T[:,:4],skipn=50,system1=a12.system1)\n",
    "    tp12b, phase12b = get_phase(t12b,solf12.y.T[:,4:],skipn=50,system1=a12.system2)\n",
    "\n",
    "    full_1.append([tp12a,phase12a])\n",
    "    full_2.append([tp12b,phase12b])"
   ]
  },
  {
   "cell_type": "code",
   "execution_count": null,
   "id": "c40d62b4-aaf5-46f9-a145-f1874db0cb5b",
   "metadata": {},
   "outputs": [],
   "source": [
    "redu_1 = []\n",
    "\n",
    "for i in range(len(init_phases12)):\n",
    "    solf12 = solve_ivp(_redu,[0,t12b[-1]],[init_phases12[i]],**args12b)\n",
    "    redu_1.append(solf12)"
   ]
  },
  {
   "cell_type": "code",
   "execution_count": null,
   "id": "e4223bee-8642-4730-af44-57def9f78e68",
   "metadata": {},
   "outputs": [],
   "source": [
    "fig,axs = plt.subplots(2,1)\n",
    "axs[0].plot(x_temp2,rhs)\n",
    "axs[0].axhline(0,0,2*np.pi,ls='--',color='gray')\n",
    "\n",
    "for i in range(len(init_phases12)):\n",
    "    y = np.mod(full_1[i][1] - a12.om*full_2[i][1],2*np.pi)\n",
    "    axs[1].scatter(y,full_1[i][0],s=1,alpha=.5,color='k')\n",
    "    axs[1].scatter(np.mod(redu_1[i].y[0],2*np.pi),redu_1[i].t,color='r',s=1,zorder=10)\n",
    "    \n",
    "axs[0].set_xlim(0,2*np.pi)\n",
    "axs[1].set_xlim(0,2*np.pi)"
   ]
  },
  {
   "cell_type": "markdown",
   "id": "713ac758-a7ab-4dce-b682-22107df84245",
   "metadata": {},
   "source": [
    "## Bifurcations"
   ]
  },
  {
   "cell_type": "code",
   "execution_count": null,
   "id": "537241c4-c066-4dea-b780-4ae99b3b96b3",
   "metadata": {
    "editable": true,
    "slideshow": {
     "slide_type": ""
    },
    "tags": []
   },
   "outputs": [],
   "source": [
    "fig,axs=plt.subplots(1,3,figsize=(10,2))\n",
    "\n",
    "del_list12 = np.linspace(-.002,.002,3)\n",
    "eps_list12 = np.linspace(0.001,.25,50)\n",
    "\n",
    "for k in range(len(del_list12)):\n",
    "    add_diagram(axs[k],a12,del_list12[k],eps_list12)"
   ]
  },
  {
   "cell_type": "markdown",
   "id": "ba2ae3fb-bfd0-4f58-9472-db67cb6a0393",
   "metadata": {},
   "source": [
    "## Unaveraged"
   ]
  },
  {
   "cell_type": "markdown",
   "id": "db2a559e-76df-4881-9ff6-b76a38c10823",
   "metadata": {},
   "source": [
    "Compare simulations between full and reduced using non-averaged, original phase-isostable coordinates."
   ]
  },
  {
   "cell_type": "markdown",
   "id": "c8241bd2-2cc3-4f7b-9d1f-a3f037d6cad3",
   "metadata": {},
   "source": [
    "### Z,I functions and rhs"
   ]
  },
  {
   "cell_type": "markdown",
   "id": "afd2bdda-4f8a-4f29-a8e2-f09767b86fa0",
   "metadata": {},
   "source": [
    "The psi/theta equations aren't implemented in the coupling case, so I'll do it here first.\n",
    "\n",
    "I can't use `system1.K['sym']` or `system1.G['sym']` because they are both in terms of epsilon. I need to fall back to `system1.z['vec_psi']` and use `system1.z_og` to define a substitution rule. `a12.z_og` contains indexed variables used to define the $\\psi$ expansion. \n",
    "\n",
    "`system1.z_og` is in the order: `zx0[0], zx0[1], zy0[0], zy0[1]`, i.e., variable 1, all orders, then next variable all orders, etc."
   ]
  },
  {
   "cell_type": "code",
   "execution_count": null,
   "id": "850e7171-fa71-4ad9-8d74-09586cfc8fe7",
   "metadata": {},
   "outputs": [],
   "source": [
    "print(a12.system1.z_og)"
   ]
  },
  {
   "cell_type": "code",
   "execution_count": null,
   "id": "126a4f0f-4655-48d4-8d3d-4a0f582a48b0",
   "metadata": {},
   "outputs": [],
   "source": [
    "print(a12.system1.i['vec_psi'])\n",
    "print(a12.system1.z['vec_psi'])"
   ]
  },
  {
   "cell_type": "code",
   "execution_count": null,
   "id": "1f8e7492-7c41-4912-8d6a-c54b7453f285",
   "metadata": {},
   "outputs": [],
   "source": [
    "rule_var2imp = {}\n",
    "\n",
    "# system 1\n",
    "count = 0\n",
    "for vname in a12.system1.var_names:\n",
    "    for k in range(a12.system1.miter):\n",
    "        rule_var2imp[a12.system1.z_og[count]] = a12.system1.z['imp_'+vname][k](a12.ths[0])\n",
    "        rule_var2imp[a12.system1.i_og[count]] = a12.system1.i['imp_'+vname][k](a12.ths[0])\n",
    "        rule_var2imp[a12.system1.g_og[count]] = a12.system1.g['imp_'+vname][k](a12.ths[0])\n",
    "        count += 1\n",
    "        \n",
    "    #rule_var2imp[a12.system1.lc_og] = a12.system1.lc['imp_'+vname](a12.ths[0])\n",
    "\n",
    "# system 2\n",
    "count = 0\n",
    "for vname in a12.system2.var_names:\n",
    "    for k in range(a12.system2.miter):\n",
    "        rule_var2imp[a12.system2.z_og[count]] = a12.system2.z['imp_'+vname][k](a12.ths[1])\n",
    "        rule_var2imp[a12.system2.i_og[count]] = a12.system2.i['imp_'+vname][k](a12.ths[1])\n",
    "        rule_var2imp[a12.system2.g_og[count]] = a12.system2.g['imp_'+vname][k](a12.ths[1])\n",
    "        count += 1\n",
    "        \n",
    "    #rule_var2imp[a12.system2.lc_og] = a12.system2.lc['imp_'+vname](a12.ths[1])\n",
    "\n",
    "\n",
    "print(rule_var2imp)"
   ]
  },
  {
   "cell_type": "markdown",
   "id": "66019efe-4b8f-483d-a71d-225be497690f",
   "metadata": {},
   "source": [
    "Now that I have the implemented functions, it's time to substitute out the symbols like `zx[0]` with the corresponding implemented function, then lambdify."
   ]
  },
  {
   "cell_type": "code",
   "execution_count": null,
   "id": "87b52bba-8d2c-45c2-84af-12aeea2d3076",
   "metadata": {},
   "outputs": [],
   "source": [
    "print(a12.system1.i['vec_psi'].subs(rule_var2imp))\n",
    "print(a12.system2.z['vec_psi'].subs(rule_var2imp))"
   ]
  },
  {
   "cell_type": "code",
   "execution_count": null,
   "id": "1de237d1-8f6c-4ba7-ab23-c733231ef8f8",
   "metadata": {},
   "outputs": [],
   "source": [
    "i_lam0 = sym.lambdify([a12.ths[0],a12.system1.psi],a12.system1.i['vec_psi'].subs(rule_var2imp).T)\n",
    "z_lam0 = sym.lambdify([a12.ths[0],a12.system1.psi],a12.system1.z['vec_psi'].subs(rule_var2imp).T)\n",
    "\n",
    "i_lam1 = sym.lambdify([a12.ths[1],a12.system2.psi],a12.system2.i['vec_psi'].subs(rule_var2imp).T)\n",
    "z_lam1 = sym.lambdify([a12.ths[1],a12.system2.psi],a12.system2.z['vec_psi'].subs(rule_var2imp).T)"
   ]
  },
  {
   "cell_type": "code",
   "execution_count": null,
   "id": "24ea73ae-294d-4c50-81f7-e3aedd8dd562",
   "metadata": {},
   "outputs": [],
   "source": [
    "print(a12.system1.var_names)"
   ]
  },
  {
   "cell_type": "markdown",
   "id": "ad7b5ea0-c881-42f1-9f94-8ee737c66242",
   "metadata": {},
   "source": [
    "Define lambidfied functions for use in unaveraged rhs"
   ]
  },
  {
   "cell_type": "code",
   "execution_count": null,
   "id": "20e6a47d-8c89-4b09-8b18-f3e6069e5f86",
   "metadata": {},
   "outputs": [],
   "source": [
    "psi_sym = a12.system1.psi\n",
    "imp = a12.system1.lc['imp_x0'](a12.ths[0])+psi_sym*a12.system1.g['imp_x0'][1](a12.ths[0])+psi_sym**2*a12.system1.g['imp_x0'][2](a12.ths[0])\n",
    "x0_lam = sym.lambdify([a12.ths[0],psi_sym],imp)\n",
    "\n",
    "imp = a12.system1.lc['imp_y0'](a12.ths[0])+psi_sym*a12.system1.g['imp_y0'][1](a12.ths[0])+psi_sym**2*a12.system1.g['imp_y0'][2](a12.ths[0])\n",
    "y0_lam = sym.lambdify([a12.ths[0],psi_sym],imp)\n",
    "\n",
    "imp = a12.system1.lc['imp_z0'](a12.ths[0])+psi_sym*a12.system1.g['imp_z0'][1](a12.ths[0])+psi_sym**2*a12.system1.g['imp_z0'][2](a12.ths[0])\n",
    "z0_lam = sym.lambdify([a12.ths[0],psi_sym],imp)\n",
    "\n",
    "imp = a12.system1.lc['imp_v0'](a12.ths[0])+psi_sym*a12.system1.g['imp_v0'][1](a12.ths[0])+psi_sym**2*a12.system1.g['imp_v0'][2](a12.ths[0])\n",
    "v0_lam = sym.lambdify([a12.ths[0],psi_sym],imp)"
   ]
  },
  {
   "cell_type": "markdown",
   "id": "0cc5a745-5077-44a0-8c63-951d2872df7e",
   "metadata": {},
   "source": [
    "Unaveraged RHS"
   ]
  },
  {
   "cell_type": "code",
   "execution_count": null,
   "id": "4b4ec299-72a7-4747-a40d-5809057a839f",
   "metadata": {},
   "outputs": [],
   "source": [
    "pd1 = a12.system1.pardict;pd2 = a12.system2.pardict\n",
    "def _redu_c(t,y,eps=0,del1=0):\n",
    "    \"\"\"full reduced model\"\"\"\n",
    "    th0,ps0,th1,ps1 = y\n",
    "    \n",
    "    x0 = x0_lam(th0,ps0);y0 = y0_lam(th0,ps0);z0 = z0_lam(th0,ps0);v0 = v0_lam(th0,ps0)\n",
    "    x1 = x0_lam(th1,ps1);y1 = y0_lam(th1,ps1);z1 = z0_lam(th1,ps1);v1 = v0_lam(th1,ps1)\n",
    "\n",
    "    yin0 = [x0,y0,z0,v0,x1,y1,z1,v1]\n",
    "    c0a = z_lam0(th0,ps0)[0,0]*gw2.coupling(yin0,pd1,'val',0)[0]\n",
    "    c0b = i_lam0(th0,ps0)[0,0]*gw2.coupling(yin0,pd1,'val',0)[0]\n",
    "    \n",
    "    dth0 = 1 + eps*(del1 + c0a)\n",
    "    dps0 = a12.system1.kappa_val*ps0 + eps*c0b\n",
    "\n",
    "    yin1 = [x1,y1,z1,v1,x0,y0,z0,v0]\n",
    "    c1a = z_lam1(th1,ps1)[0,0]*gw2.coupling(yin1,pd1,'val',0)[0]\n",
    "    c1b = i_lam1(th1,ps1)[0,0]*gw2.coupling(yin1,pd1,'val',0)[0]\n",
    "    \n",
    "    dth1 = 1 + eps*c1a\n",
    "    dps1 = a12.system2.kappa_val*ps1 + eps*c1b\n",
    "\n",
    "    return np.array([dth0,dps0,dth1*a12._m[1],dps1*a12._m[1]])"
   ]
  },
  {
   "cell_type": "markdown",
   "id": "3860a976-473d-4882-8245-98280564946b",
   "metadata": {},
   "source": [
    "### Integrate"
   ]
  },
  {
   "cell_type": "code",
   "execution_count": null,
   "id": "56a21470-d2e3-4c10-a4ef-f40a68f8b521",
   "metadata": {
    "scrolled": true
   },
   "outputs": [],
   "source": [
    "t = np.arange(0,1000,.01)\n",
    "init = [2.5,.0,0,.0]\n",
    "out = solve_ivp(_redu_c,[t[0],t[-1]],init,args=(eps12,del12),t_eval=t,**kw_sim)"
   ]
  },
  {
   "cell_type": "code",
   "execution_count": null,
   "id": "3ade400a-4d6d-4281-b8a6-b8bea8ad3813",
   "metadata": {},
   "outputs": [],
   "source": [
    "fig,axs = plt.subplots()\n",
    "axs.plot(t,out.y[0]-a12.om*out.y[2],alpha=.75)\n",
    "#axs.plot(t,out.y[1])\n",
    "y = np.mod(phase12a - a12.om*phase12b,2*np.pi)\n",
    "axs.scatter(tp12a,y,s=1,alpha=.5,color='k')\n",
    "#axs.plot(t12,np.mod(solr12.y.T,2*np.pi),color='tab:red')\n",
    "#axs.plot(t,out.y[3])\n",
    "#axs.plot(t,np.mod(out.y[0],2*np.pi))\n",
    "#axs.plot(t,np.mod(out.y[2],2*np.pi))\n",
    "axs.set_ylim(-.1,2*np.pi+.1)\n",
    "#axs.set_xlim(0,10)"
   ]
  },
  {
   "cell_type": "markdown",
   "id": "fba4ec3b-cf8b-4be7-ace2-1a2c38972a03",
   "metadata": {},
   "source": [
    "### Multiple Initial Conditions"
   ]
  },
  {
   "cell_type": "code",
   "execution_count": null,
   "id": "ff8f8426-c76a-4a70-ade9-236f3fc844f2",
   "metadata": {},
   "outputs": [],
   "source": [
    "init_phases12b = np.linspace(0,2*np.pi,5,endpoint=False)"
   ]
  },
  {
   "cell_type": "code",
   "execution_count": null,
   "id": "8232e163-1243-4eb5-b9a7-d77cf8002d27",
   "metadata": {},
   "outputs": [],
   "source": [
    "phase_iso = []\n",
    "t = np.arange(0,1000,.01)\n",
    "for i in range(len(init_phases12b)):\n",
    "    init = [init_phases12b[i],.0,0,.0]\n",
    "    solr12 = solve_ivp(_redu_c,[0,t12b[-1]],init,args=(eps12,del12),t_eval=t,**kw_sim)\n",
    "    phase_iso.append(solr12)"
   ]
  },
  {
   "cell_type": "code",
   "execution_count": null,
   "id": "815d33ae-2202-4ed4-a2c5-f7017a42bd35",
   "metadata": {
    "editable": true,
    "slideshow": {
     "slide_type": ""
    },
    "tags": []
   },
   "outputs": [],
   "source": [
    "fig,axs = plt.subplots(2,1)\n",
    "axs[0].plot(x_temp2,rhs)\n",
    "axs[0].axhline(0,0,2*np.pi,ls='--',color='gray')\n",
    "\n",
    "skipn = 1\n",
    "for i in range(len(init_phases12)):\n",
    "    y = np.mod(full_1[i][1] - a12.om*full_2[i][1],2*np.pi)\n",
    "    axs[1].scatter(y[::skipn],full_1[i][0][::skipn],s=1,alpha=.5,color='k')\n",
    "    axs[1].scatter(np.mod(redu_1[i].y[0]+np.pi/4,2*np.pi),redu_1[i].t,color='r',s=1,zorder=10)\n",
    "\n",
    "skipn = 100\n",
    "for i in range(len(init_phases12b)):\n",
    "    y2 = np.mod(phase_iso[i].y[0] - a12.om*phase_iso[i].y[2],2*np.pi)\n",
    "    axs[1].scatter(y2[::skipn],phase_iso[i].t[::skipn],color='b',s=1,zorder=20,alpha=.5)\n",
    "    \n",
    "#axs[0].set_xlim(0,2*np.pi)\n",
    "#axs[1].set_xlim(0,2*np.pi)\n",
    "plt.savefig('unave_blue_vs_full_black_vs_1d_red.png')"
   ]
  },
  {
   "cell_type": "markdown",
   "id": "7aeef062-e875-4e08-ae8c-03f87f6eec2c",
   "metadata": {},
   "source": [
    "## Check phase indexing"
   ]
  },
  {
   "cell_type": "code",
   "execution_count": null,
   "id": "54dcb612-3e24-4d19-a622-278cd6a8ab23",
   "metadata": {},
   "outputs": [],
   "source": [
    "# check indexing for phase\n",
    "sol_arr = solf12.y.T[:2000,:4]\n",
    "\n",
    "fig,axs = plt.subplots()\n",
    "axs.plot(sol_arr[:,0])\n",
    "\n",
    "phase_value = []\n",
    "\n",
    "\n",
    "for i in range(len(sol_arr)):\n",
    "    d1 = np.linalg.norm(sol_arr[i,:]-a12.system1.lc['dat'],axis=1)\n",
    "    phase_value.append(np.argmin(d1)/len(system1.lc['dat']))\n",
    "\n",
    "axs.plot(phase_value)"
   ]
  },
  {
   "cell_type": "markdown",
   "id": "04957c0c-2abc-4175-9fa2-a8286bc58c77",
   "metadata": {},
   "source": [
    "# 2:1"
   ]
  },
  {
   "cell_type": "code",
   "execution_count": null,
   "id": "cab2fb9f-86f1-4508-9cd7-52dbbe2503a8",
   "metadata": {},
   "outputs": [],
   "source": [
    "a21 = nm.nmCoupling(system1,system2,\n",
    "                    recompute_list=['p_data_gw0','p_data_gw1','h_data_gw0','h_data_gw1'],\n",
    "                    #recompute_list=recompute_list,\n",
    "                    _n=('om0',2),_m=('om1',1),\n",
    "                    NP=700,\n",
    "                    NH=700,\n",
    "                    save_fig=True)"
   ]
  },
  {
   "cell_type": "code",
   "execution_count": null,
   "id": "f7a1f904-d5ed-45e9-b0ee-70115b642856",
   "metadata": {},
   "outputs": [],
   "source": [
    "eps21 = .05\n",
    "del21 = 0.0\n",
    "th_init21 = 0"
   ]
  },
  {
   "cell_type": "markdown",
   "id": "b092227d-18f7-43fc-b6bd-da75a07397d2",
   "metadata": {},
   "source": [
    "First order starts losing accuracy around eps = 0.025 as eps increases (the reduced model reaches the same fixed point as the full model). Even at eps=0.02, the reduced and full models don't coincide in transients despite the long-term convergence.\n",
    "\n",
    "Using order eps^2 at eps = 0.025 results in WORSE performance... So clearly if not p then there is something wrong with calculating h functions..."
   ]
  },
  {
   "cell_type": "markdown",
   "id": "38dad637-8f19-444d-82e6-1fe6e9cb5ad2",
   "metadata": {},
   "source": [
    "## Phase plane"
   ]
  },
  {
   "cell_type": "code",
   "execution_count": null,
   "id": "bcd662c7-d4b5-4c6e-b614-922814bfa7d1",
   "metadata": {},
   "outputs": [],
   "source": [
    "x_temp2 = np.linspace(0,4*np.pi,200)\n",
    "\n",
    "rhs = _redu(0,x_temp2,a21,eps21,del21)\n",
    "\n",
    "fig,axs = plt.subplots()\n",
    "axs.plot(x_temp2,rhs)\n",
    "axs.axhline(0,0,2*np.pi,ls='--',color='gray')"
   ]
  },
  {
   "cell_type": "markdown",
   "id": "28d27ffb-16dc-4f22-a043-eaff9d8ed920",
   "metadata": {},
   "source": [
    "## Integrate"
   ]
  },
  {
   "cell_type": "code",
   "execution_count": null,
   "id": "a7f68743-02ba-4e50-a794-d20305e5864b",
   "metadata": {},
   "outputs": [],
   "source": [
    "dt = .01;T=4000\n",
    "t21 = np.arange(0,T,dt)\n",
    "args21 = {'args':(a21,eps21,del21),'t_eval':t21,**kw_sim}"
   ]
  },
  {
   "cell_type": "code",
   "execution_count": null,
   "id": "d7fdb04c-5c09-4f44-9ae2-b1f099a67d75",
   "metadata": {
    "tags": []
   },
   "outputs": [],
   "source": [
    "y0a = a21.system1.lc['dat'][int((th_init21/(2*np.pi))*a21.system1.TN),:]\n",
    "y0b = a21.system2.lc['dat'][int((0/(2*np.pi))*a21.system2.TN),:]\n",
    "\n",
    "y0 = np.array([y0a,y0b]).flatten()\n",
    "\n",
    "solf21 = solve_ivp(_full,[0,t21[-1]],y0,**args21)"
   ]
  },
  {
   "cell_type": "code",
   "execution_count": null,
   "id": "9ea410e2-aba2-45c6-b435-df7f6951bf16",
   "metadata": {
    "tags": []
   },
   "outputs": [],
   "source": [
    "solr21 = solve_ivp(_redu,[0,t21[-1]],[th_init21],**args21)"
   ]
  },
  {
   "cell_type": "code",
   "execution_count": null,
   "id": "30b3a536-dfda-4cb2-8b8a-ec73abe4fcf6",
   "metadata": {
    "tags": []
   },
   "outputs": [],
   "source": [
    "fig,axs = plt.subplots(figsize=(10,4))\n",
    "axs.plot(solf21.t,solf21.y.T[:,0])\n",
    "axs.plot(solf21.t,solf21.y.T[:,4])\n",
    "#axs.set_xlim(sol_full.t[-1]-200,sol_full.t[-1])\n",
    "axs.set_xlim(t21[-1]-200,t21[-1])"
   ]
  },
  {
   "cell_type": "code",
   "execution_count": null,
   "id": "bd93ef1b-cae8-4057-b3e8-a332fa5b523a",
   "metadata": {
    "tags": []
   },
   "outputs": [],
   "source": [
    "tp21a, phase21a = get_phase(t21,solf21.y.T[:,:4],skipn=50,system1=a21.system1)\n",
    "tp21b, phase21b = get_phase(t21,solf21.y.T[:,4:],skipn=50,system1=a21.system2)"
   ]
  },
  {
   "cell_type": "markdown",
   "id": "0c655c4d-7c26-421d-816b-9a0cddd1abd3",
   "metadata": {},
   "source": [
    "## Full vs phase"
   ]
  },
  {
   "cell_type": "code",
   "execution_count": null,
   "id": "be7f520d-8857-4c39-8f22-31fefb762557",
   "metadata": {
    "tags": []
   },
   "outputs": [],
   "source": [
    "fig,axs = plt.subplots()\n",
    "y = np.mod(phase21a - a21.om*phase21b,2*np.pi)\n",
    "axs.scatter(tp21a,y,s=1,alpha=.5)\n",
    "axs.plot(t21,np.mod(solr21.y.T,2*np.pi),color='tab:red')\n",
    "#axs.scatter(sol_full.t[::skipn],np.mod(phase2,1),s=1)\n",
    "axs.set_ylim(0,2*np.pi)"
   ]
  },
  {
   "cell_type": "markdown",
   "id": "29ec40d7-7b70-4c8a-a2ff-fc994ee8a72a",
   "metadata": {},
   "source": [
    "## Bifurcations"
   ]
  },
  {
   "cell_type": "code",
   "execution_count": null,
   "id": "42517108-12d4-44ae-91ab-b1b66e21d8b2",
   "metadata": {
    "editable": true,
    "slideshow": {
     "slide_type": ""
    },
    "tags": []
   },
   "outputs": [],
   "source": [
    "fig,axs=plt.subplots(1,3,figsize=(10,2))\n",
    "\n",
    "del_list21 = np.linspace(-.002,.002,3)\n",
    "eps_list21 = np.linspace(0.001,.25,50)\n",
    "\n",
    "for k in range(len(del_list21)):\n",
    "    add_diagram(axs[k],a21,del_list21[k],eps_list21)"
   ]
  },
  {
   "cell_type": "code",
   "execution_count": null,
   "id": "edab4e0a-c595-4ab8-b288-4a608e7640aa",
   "metadata": {},
   "outputs": [],
   "source": []
  }
 ],
 "metadata": {
  "kernelspec": {
   "display_name": "Python 3 (ipykernel)",
   "language": "python",
   "name": "python3"
  },
  "language_info": {
   "codemirror_mode": {
    "name": "ipython",
    "version": 3
   },
   "file_extension": ".py",
   "mimetype": "text/x-python",
   "name": "python",
   "nbconvert_exporter": "python",
   "pygments_lexer": "ipython3",
   "version": "3.10.14"
  }
 },
 "nbformat": 4,
 "nbformat_minor": 5
}
