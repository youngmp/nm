{
 "cells": [
  {
   "cell_type": "markdown",
   "id": "6d182aff-1c9c-495a-b927-bc7ee576d694",
   "metadata": {
    "deletable": true,
    "editable": true,
    "frozen": false
   },
   "source": [
    "# Imports"
   ]
  },
  {
   "cell_type": "code",
   "execution_count": 3,
   "id": "a04bfa73-e672-4fe2-bc19-4775c0b2e33c",
   "metadata": {
    "deletable": true,
    "editable": true,
    "frozen": false,
    "tags": []
   },
   "outputs": [],
   "source": [
    "import sys; sys.path.insert(0, '..') # add parent folder path where lib folder is\n",
    "# user-defined\n",
    "import nmCoupling as nm\n",
    "import response as rp\n",
    "#import cgl_thalamic as ct\n",
    "import cgl1 as c1\n",
    "\n",
    "import importlib\n",
    "import lib\n",
    "\n",
    "import lib.util\n",
    "import lib.rhs\n",
    "import lib.functions\n",
    "\n",
    "importlib.reload(sys.modules['lib.util'])\n",
    "importlib.reload(sys.modules['lib.rhs'])\n",
    "importlib.reload(sys.modules['lib.functions'])\n",
    "from lib.util import (get_phase, freq_est, get_tongue_1d,\n",
    "                      pl_exist_ld,get_tongue_2d,\n",
    "                      intersection,cluster,contour_points,clusterlists)\n",
    "from lib.rhs import (rhs_avg_2d, _redu, _redu_moving, \n",
    "                     _redu_moving_avg, rhs_avg_1d)\n",
    "\n",
    "from lib.functions import g1\n",
    "\n",
    "from importlib import reload\n",
    "\n",
    "import numpy as np\n",
    "import matplotlib.pyplot as plt\n",
    "import sympy as sym\n",
    "from scipy.integrate import solve_ivp\n",
    "\n",
    "import scipy as sp\n",
    "from scipy.optimize import root,bisect\n",
    "\n",
    "import copy\n",
    "\n",
    "plt.rcParams.update({\n",
    "    \"text.usetex\": True,\n",
    "    \"font.family\": \"Helvetica\"\n",
    "})"
   ]
  },
  {
   "cell_type": "code",
   "execution_count": 4,
   "id": "de9eb439-3c94-44c5-8817-79627ebe3f6c",
   "metadata": {
    "deletable": true,
    "editable": true,
    "frozen": false,
    "tags": []
   },
   "outputs": [],
   "source": [
    "reload(c1);reload(nm);reload(rp);reload(lib)\n",
    "nmc = nm.nmCoupling;rsp = rp.Response"
   ]
  },
  {
   "cell_type": "markdown",
   "id": "04d67aff-c04c-4fd7-aa3a-20822b217ef3",
   "metadata": {
    "deletable": false,
    "editable": true,
    "frozen": false
   },
   "source": [
    "# Definitions"
   ]
  },
  {
   "cell_type": "markdown",
   "id": "fbefcee4-491b-42d5-b650-0fc2c3f93603",
   "metadata": {
    "deletable": true,
    "editable": true,
    "frozen": false
   },
   "source": [
    "## Forcing"
   ]
  },
  {
   "cell_type": "code",
   "execution_count": 5,
   "id": "950f8221-fe52-41ff-8839-8df23b23ce2e",
   "metadata": {
    "deletable": true,
    "editable": true,
    "frozen": false,
    "tags": []
   },
   "outputs": [],
   "source": [
    "def ff(x):\n",
    "    return np.sin(x)\n",
    "    #return np.mod(om*x,2*np.pi) # works for 1:2\n",
    "    #return np.sin(om*x/4)**100 # works for 1:2\n",
    "    #return 5*(np.sin(om*x)+np.cos(om*x)+np.sqrt(2)*np.sin(om*x*4))\n",
    "\n",
    "def ff2(x,om):\n",
    "    return 25*np.sin(om*x/1.6)\n",
    "\n",
    "def ff3(x):\n",
    "    return np.mod(x,2*np.pi) # works for 1:2\n",
    "\n",
    "def ff4(x):\n",
    "    y = np.mod(x,2*np.pi)\n",
    "    return np.heaviside(y,0)*np.heaviside(np.pi-y,0)\n",
    "\n",
    "def ff5_raw(x,s=1):\n",
    "    x = np.mod(x,2*np.pi)\n",
    "    tot = 0\n",
    "    for i in range(-10,10+1):\n",
    "        #tot += 1/(np.sqrt(np.pi)*s)*np.exp(-(((x+i*2*np.pi))/s)**2)\n",
    "        tot -= np.exp(-(((x+i*2*np.pi))/s)**2)\n",
    "    return tot\n",
    "\n",
    "x_temp,dx_temp = np.linspace(-np.pi,np.pi,1000,retstep=True)\n",
    "ff5_mean = np.sum(ff5_raw(x_temp))*dx_temp/(2*np.pi)\n",
    "\n",
    "def ff5(x,s=1):\n",
    "    x = np.mod(x,2*np.pi)\n",
    "    tot = 0\n",
    "    for i in range(-10,10+1):\n",
    "        #tot += 1/(np.sqrt(np.pi)*s)*np.exp(-(((x+i*2*np.pi))/s)**2)\n",
    "        tot -= np.exp(-(((x+i*2*np.pi))/s)**2)\n",
    "    return tot - ff5_mean"
   ]
  },
  {
   "cell_type": "markdown",
   "id": "3d4ae667-b50d-4400-a5c5-ed73b6a12778",
   "metadata": {},
   "source": [
    "## Dicts"
   ]
  },
  {
   "cell_type": "code",
   "execution_count": 6,
   "id": "7d8f95cc-ec94-4334-a855-ea59cf49a28b",
   "metadata": {
    "deletable": true,
    "editable": true,
    "frozen": false
   },
   "outputs": [],
   "source": [
    "pd1 = {'sig':.08,'rho':.12,'mu':1,'om':1,'om_fix':1}"
   ]
  },
  {
   "cell_type": "code",
   "execution_count": 7,
   "id": "02b18df2-218a-408c-84c0-385b6ab1dcc5",
   "metadata": {
    "deletable": true,
    "editable": true,
    "frozen": false
   },
   "outputs": [],
   "source": [
    "trunc_order = 6\n",
    "i_f_list = np.ones(trunc_order+2).astype(bool)\n",
    "i_f_list[0] = False#;i_f_list[1]=True\n",
    "i_f_list = list(i_f_list)\n",
    "\n",
    "kws1 = {'var_names':['x','y'],\n",
    "        'rhs':c1.rhs,\n",
    "        'init':np.array([1,0,2*np.pi]),\n",
    "        'TN':2000,\n",
    "        'idx':0,\n",
    "        'model_name':'cglf0',\n",
    "        'trunc_order':trunc_order,\n",
    "        'recompute_list':[],\n",
    "        'g_forward':False,\n",
    "        'z_forward':False,\n",
    "        'i_forward':i_f_list,\n",
    "        'i_bad_dx':True,\n",
    "        'max_iter':20,\n",
    "        'rtol':1e-12,\n",
    "        'atol':1e-12,\n",
    "        'rel_tol':1e-9,\n",
    "        'forcing_fn':ff5}"
   ]
  },
  {
   "cell_type": "code",
   "execution_count": 8,
   "id": "78464432-bb30-4e7b-99ca-0897fc4047ee",
   "metadata": {},
   "outputs": [],
   "source": [
    "def conv(y,s=5000):\n",
    "    z_temp = np.linspace(-5,5,s)\n",
    "    ker = np.exp(-z_temp**2)\n",
    "    ker /= np.sum(ker)\n",
    "    return np.convolve(y,ker,mode='same')"
   ]
  },
  {
   "cell_type": "code",
   "execution_count": 9,
   "id": "654aafcf-44cc-49cc-b738-01b6d73e0f50",
   "metadata": {
    "deletable": true,
    "editable": true,
    "frozen": false
   },
   "outputs": [
    {
     "data": {
      "text/plain": [
       "[<matplotlib.lines.Line2D at 0x7f736405ffa0>]"
      ]
     },
     "execution_count": 9,
     "metadata": {},
     "output_type": "execute_result"
    },
    {
     "data": {
      "image/png": "[encoded data removed]",
      "text/plain": [
       "<Figure size 432x288 with 1 Axes>"
      ]
     },
     "metadata": {
      "needs_background": "light"
     },
     "output_type": "display_data"
    }
   ],
   "source": [
    "fig,axs = plt.subplots()\n",
    "t_temp = np.linspace(0,4*np.pi,10000)\n",
    "axs.plot(t_temp,ff5(2*t_temp))"
   ]
  },
  {
   "cell_type": "code",
   "execution_count": 10,
   "id": "a18947f6-96bb-4ae6-87f8-6411c938fa65",
   "metadata": {
    "deletable": true,
    "editable": true,
    "frozen": false
   },
   "outputs": [],
   "source": [
    "kw_sim = {'rtol':1e-9,'atol':1e-9,'method':'LSODA'}"
   ]
  },
  {
   "cell_type": "markdown",
   "id": "5f1f4480-696b-45ac-9f83-dccac28ce0d4",
   "metadata": {},
   "source": [
    "## PL exist reduced"
   ]
  },
  {
   "cell_type": "code",
   "execution_count": 11,
   "id": "8578e815-255e-4e42-8e51-6a6f5ad515c5",
   "metadata": {
    "deletable": true,
    "editable": true,
    "frozen": false
   },
   "outputs": [],
   "source": [
    "def pl_exist(eps,del1,a,th_init=0,return_data=False):\n",
    "\n",
    "    system1 = a.system1\n",
    "    \n",
    "    if eps == 0:\n",
    "        return -1\n",
    "    # every intersection point must be within eps of a point on the other\n",
    "    # contour path\n",
    "    err = 1\n",
    "    \n",
    "    # cluster together intersection points so that the original points in each flat\n",
    "    # cluster have a cophenetic_distance < cluster_size\n",
    "    cluster_size = 100\n",
    "    \n",
    "    th_temp = np.linspace(0, 2*np.pi, 200)\n",
    "    ps_temp = np.linspace(-.25, .25, 200)\n",
    "    \n",
    "    TH,PS = np.meshgrid(th_temp,ps_temp)\n",
    "\n",
    "    Z1,Z2 = rhs_avg_2d(0,[TH,PS],a,eps,del1)\n",
    "    # Z1 = 0\n",
    "    # Z2 = system1.kappa_val*PS\n",
    "    \n",
    "    # for i in range(len(a.hz_lam)):\n",
    "    #     Z1 += eps*PS**i*a.hz_lam[i](TH)*a._n[1]\n",
    "    #     Z2 += eps*PS**i*a.hi_lam[i](TH)*a._n[1]\n",
    "    # Z1 -= del1\n",
    "\n",
    "    #fig,axs = plt.subplots(1,1,figsize=(4,3))\n",
    "    contour1 = plt.contour(TH,PS,Z1,levels=[0],linewidths=.5,colors='k')\n",
    "    contour2 = plt.contour(TH,PS,Z2,levels=[0],linewidths=.5,colors='b')\n",
    "    #print('eps,del',eps,del1)\n",
    "    #plt.show()\n",
    "\n",
    "    if return_data:\n",
    "        return plt\n",
    "\n",
    "    plt.close()\n",
    "    \n",
    "    #contour1 = plt.contour(Z1, colors='k')\n",
    "    #contour2 = plt.contour(Z2, colors='r')\n",
    "\n",
    "    #print(intersection_points)\n",
    "\n",
    "    points1 = contour_points(contour1)\n",
    "    points2 = contour_points(contour2)\n",
    "    \n",
    "    if isinstance(points1, int) or isinstance(points2, int):\n",
    "        \n",
    "        return -1\n",
    "        \n",
    "    else:\n",
    "        intersection_points = intersection(points1, points2, err)\n",
    "\n",
    "        if len(intersection_points) == 0:\n",
    "            return -1\n",
    "        else:\n",
    "            return 1\n",
    "            print('intersection_points',intersection_points)\n",
    "            intersection_points = cluster(intersection_points, cluster_size)\n",
    "            #plt.close()"
   ]
  },
  {
   "cell_type": "markdown",
   "id": "fb28d3a6-5fa9-4212-9596-105e0faafe7e",
   "metadata": {},
   "source": [
    "## PL exist full"
   ]
  },
  {
   "cell_type": "code",
   "execution_count": 12,
   "id": "bfdb5442-21c0-4ea1-bbc9-2b6ed2a36736",
   "metadata": {
    "deletable": true,
    "editable": true,
    "frozen": false
   },
   "outputs": [],
   "source": [
    "def pl_exist_full(eps,del1,a,T=1000,th_init=3,plot=False):\n",
    "    dt = .02;#max(250,1/eps11)\n",
    "    t = np.arange(0,T,dt)\n",
    "\n",
    "    y0 = system1.lc['dat'][int((th_init/(2*np.pi))*system1.TN),:]\n",
    "\n",
    "    pd2 = copy.deepcopy(system2.pardict)\n",
    "    pd2['om1'] += del1\n",
    "    \n",
    "    sol_full = solve_ivp(_full,[0,t[-1]],y0,method='LSODA',\n",
    "                         t_eval=t,args=(eps,system1.pardict,\n",
    "                                        system2.pardict,del1,system2),rtol=5e-6,atol=5e-6)\n",
    "\n",
    "    # estimate phase for each model and compare phase difference\n",
    "    tp, phase1 = get_phase(sol_full,skipn=30,system1=system1)\n",
    "    forcing_phase = np.mod((a._m[1]+del1)*np.linspace(0,tp[-1],len(tp)),2*np.pi*a._m[1])\n",
    "    y = np.mod(phase1*2*np.pi-a.om*forcing_phase+np.pi,2*np.pi)\n",
    "\n",
    "    if plot:\n",
    "        fig,axs = plt.subplots()\n",
    "        axs.plot(y)\n",
    "        plt.show()\n",
    "    \n",
    "    TN = len(forcing_phase)\n",
    "    jumps = len(np.where(np.abs(np.diff(y[int(TN/2):]))>np.pi)[0])\n",
    "    #print('eps,jumps,del1',eps,jumps,del1)\n",
    "    if jumps > 0:\n",
    "        return 1\n",
    "    elif jumps <= 0:\n",
    "        return -1"
   ]
  },
  {
   "cell_type": "markdown",
   "id": "dad38c73-74e3-40ed-a084-90eb988e42db",
   "metadata": {
    "deletable": true,
    "editable": true,
    "frozen": false,
    "tags": []
   },
   "source": [
    "## RHS Full"
   ]
  },
  {
   "cell_type": "code",
   "execution_count": 13,
   "id": "cb498f66-93c8-49a3-a0de-ec56a715a2b7",
   "metadata": {
    "deletable": true,
    "editable": true,
    "frozen": false,
    "tags": []
   },
   "outputs": [],
   "source": [
    "def _full(t,y,a,eps=0,del1=0):\n",
    "    pd1 = a.system1.pardict\n",
    "    omf = a._m[1]\n",
    "    omx = a._n[1]\n",
    "    ofix = a.system1.pardict['om_fix0']\n",
    "\n",
    "    u = a.system1.forcing_fn(t*(del1+omf))\n",
    "    \n",
    "    out1 = c1.rhs(t,y,pd1,'val',0) + eps*ofix*omx*np.array([u,0])\n",
    "    return np.array(list(out1))"
   ]
  },
  {
   "cell_type": "markdown",
   "id": "c72e25df-616e-4ccf-b15c-35782fbbf2e8",
   "metadata": {},
   "source": [
    "# Initialize response"
   ]
  },
  {
   "cell_type": "code",
   "execution_count": 14,
   "id": "88ab4b62-289b-479e-92f7-7852057da95a",
   "metadata": {
    "deletable": true,
    "editable": true,
    "frozen": false
   },
   "outputs": [
    {
     "name": "stdout",
     "output_type": "stream",
     "text": [
      "* Loading LC data...\n",
      "self.T 6.283185307179586 omfix 1.0000000000000262\n",
      "* Loading monodromy...\n",
      "* Floquet Exponent kappa =-0.16000000000008133\n",
      "* Loading g symbolic...\n",
      "* Computing g...\n",
      "* Loading heterogeneous terms...\n",
      "* Computing z...\n",
      "* Computing i...\n"
     ]
    }
   ],
   "source": [
    "system1 = rsp(pardict=copy.deepcopy(pd1),**copy.deepcopy(kws1))"
   ]
  },
  {
   "cell_type": "markdown",
   "id": "69f46602-01fb-4ed3-9ad5-6ad459eb7a06",
   "metadata": {
    "deletable": true,
    "editable": true,
    "frozen": false
   },
   "source": [
    "# Fourier modes response"
   ]
  },
  {
   "cell_type": "code",
   "execution_count": null,
   "id": "5310a3c1-0c3e-4d39-acc8-69a8d820c9a5",
   "metadata": {
    "deletable": true,
    "editable": true,
    "frozen": false
   },
   "outputs": [],
   "source": [
    "fig,axs = plt.subplots(1,3,figsize=(10,2))\n",
    "for k in range(system1.miter):\n",
    "    axs[0].plot(np.fft.fft(system1.g['dat'][k][:,0]).real)\n",
    "    axs[0].plot(np.fft.fft(system1.g['dat'][k][:,0]).imag)\n",
    "    axs[1].plot(np.fft.fft(system1.z['dat'][k][:,0]).real)\n",
    "    axs[1].plot(np.fft.fft(system1.z['dat'][k][:,0]).imag)\n",
    "    axs[2].plot(np.fft.fft(system1.i['dat'][k][:,0]).real)\n",
    "    axs[2].plot(np.fft.fft(system1.i['dat'][k][:,0]).imag)\n",
    "axs[0].set_xlim(0,4)\n",
    "axs[1].set_xlim(0,4)\n",
    "axs[2].set_xlim(0,4)\n",
    "\n",
    "plt.suptitle('Only single frequency Fourier components exist for CGL',fontsize=15)"
   ]
  },
  {
   "cell_type": "markdown",
   "id": "bafc82a5-c36e-44d3-8b02-94326cc68595",
   "metadata": {
    "deletable": true,
    "editable": true,
    "frozen": false
   },
   "source": [
    "# 1:1"
   ]
  },
  {
   "cell_type": "code",
   "execution_count": 16,
   "id": "49495e0b-2e2a-4b5b-887c-e4bef1bcc241",
   "metadata": {
    "deletable": true,
    "editable": true,
    "frozen": false
   },
   "outputs": [
    {
     "name": "stdout",
     "output_type": "stream",
     "text": [
      "e1,e2\n",
      "psi**6*zx0_6(t) + psi**5*zx0_5(t) + psi**4*zx0_4(t) + psi**3*zx0_3(t) + psi**2*zx0_2(t) + psi*zx0_1(t) + zx0_0(t)\n",
      "psi**6*ix0_6(t) + psi**5*ix0_5(t) + psi**4*ix0_4(t) + psi**3*ix0_3(t) + psi**2*ix0_2(t) + psi*ix0_1(t) + ix0_0(t)\n",
      "\n",
      "0 imp0 for z zx0_0(th0)\n",
      "0 imp0 for i ix0_0(th0)\n",
      "1 imp0 for z zx0_1(th0)\n",
      "1 imp0 for i ix0_1(th0)\n",
      "2 imp0 for z zx0_2(th0)\n",
      "2 imp0 for i ix0_2(th0)\n",
      "3 imp0 for z zx0_3(th0)\n",
      "3 imp0 for i ix0_3(th0)\n",
      "4 imp0 for z zx0_4(th0)\n",
      "4 imp0 for i ix0_4(th0)\n",
      "5 imp0 for z zx0_5(th0)\n",
      "5 imp0 for i ix0_5(th0)\n",
      "6 imp0 for z zx0_6(th0)\n",
      "6 imp0 for i ix0_6(th0)\n",
      "\n",
      "hz0,hi0,imp\n",
      "0 uf(t)*zx0_0(t + th0)\n",
      "1 uf(t)*zx0_1(t + th0)\n",
      "2 uf(t)*zx0_2(t + th0)\n",
      "3 uf(t)*zx0_3(t + th0)\n",
      "4 uf(t)*zx0_4(t + th0)\n",
      "5 uf(t)*zx0_5(t + th0)\n",
      "6 uf(t)*zx0_6(t + th0)\n",
      "\n",
      "0 ix0_0(t + th0)*uf(t)\n",
      "1 ix0_1(t + th0)*uf(t)\n",
      "2 ix0_2(t + th0)*uf(t)\n",
      "3 ix0_3(t + th0)*uf(t)\n",
      "4 ix0_4(t + th0)*uf(t)\n",
      "5 ix0_5(t + th0)*uf(t)\n",
      "6 ix0_6(t + th0)*uf(t)\n",
      "\n",
      "* Computing p...\n",
      "* Computing H cglf0, order=0...\n",
      "* Computing p...\n",
      "* Computing H cglf0, order=1...\n",
      "* Computing p...\n",
      "* Computing H cglf0, order=2...\n",
      "* Computing p...\n",
      "* Computing H cglf0, order=3...\n",
      "* Computing p...\n",
      "* Computing H cglf0, order=4...\n",
      "* Computing p...\n",
      "* Computing H cglf0, order=5...\n",
      "* Computing p...\n",
      "* Computing H cglf0, order=6...\n"
     ]
    }
   ],
   "source": [
    "a11 = nmc(system1,None,\n",
    "          recompute_list=['p_data_cglf0','h_data_cglf0'],\n",
    "          _n=('om0',1),_m=('om1',1),\n",
    "          NP=300,NH=300)"
   ]
  },
  {
   "cell_type": "markdown",
   "id": "9ad00462-7ca9-40e3-a2fc-9b2a0a0ee235",
   "metadata": {
    "deletable": true,
    "editable": true,
    "frozen": false
   },
   "source": [
    "## Tongue"
   ]
  },
  {
   "cell_type": "code",
   "execution_count": 17,
   "id": "b3e78d1a-ea39-4dbe-a6d9-d775ec1d9c4b",
   "metadata": {
    "deletable": true,
    "editable": true,
    "frozen": false
   },
   "outputs": [
    {
     "name": "stdout",
     "output_type": "stream",
     "text": [
      "1.0     \n",
      "1.0     \n"
     ]
    }
   ],
   "source": [
    "d1 = np.linspace(-15,-1,10,endpoint=False)\n",
    "d11a,v11a = get_tongue_2d(2**d1,a11,deps=.01,max_eps=.4)\n",
    "d11b,v11b = get_tongue_2d(-2**d1,a11,deps=.01,max_eps=.4)"
   ]
  },
  {
   "cell_type": "code",
   "execution_count": 18,
   "id": "41ff198c-d0dc-4332-b6fc-0a5216d467c4",
   "metadata": {},
   "outputs": [
    {
     "name": "stdout",
     "output_type": "stream",
     "text": [
      "1.0      \n",
      "1.0      \n"
     ]
    }
   ],
   "source": [
    "d1 = np.linspace(-10,-1,50,endpoint=False)\n",
    "d11a_ld,v11a_ld = get_tongue_1d(2**d1,a11,deps=.01,max_eps=.4)\n",
    "d11b_ld,v11b_ld = get_tongue_1d(-2**d1,a11,deps=.01,max_eps=.4)"
   ]
  },
  {
   "cell_type": "code",
   "execution_count": 19,
   "id": "c0044e58-acc8-4293-a0f2-f14dcdfb4823",
   "metadata": {
    "deletable": true,
    "editable": true,
    "frozen": false
   },
   "outputs": [
    {
     "data": {
      "text/plain": [
       "[<matplotlib.lines.Line2D at 0x7ff8fd4a9070>]"
      ]
     },
     "execution_count": 19,
     "metadata": {},
     "output_type": "execute_result"
    },
    {
     "data": {
      "image/png": "[encoded data removed]",
      "text/plain": [
       "<Figure size 432x288 with 1 Axes>"
      ]
     },
     "metadata": {
      "needs_background": "light"
     },
     "output_type": "display_data"
    }
   ],
   "source": [
    "fig,axs = plt.subplots()\n",
    "axs.plot(d11a,v11a,color='tab:blue')\n",
    "axs.plot(d11b,v11b,color='tab:blue')\n",
    "\n",
    "axs.plot(d11a_ld,v11a_ld,color='tab:red')\n",
    "axs.plot(d11b_ld,v11b_ld,color='tab:red')\n",
    "\n",
    "# axs.plot(del_list\n",
    "#axs.scatter([-.1],[.1])"
   ]
  },
  {
   "cell_type": "markdown",
   "id": "69dd3f7e-69c8-425d-8e5c-07b9f77ff075",
   "metadata": {
    "deletable": true,
    "editable": true,
    "frozen": false
   },
   "source": [
    "## Frequency ratio"
   ]
  },
  {
   "cell_type": "markdown",
   "id": "5a970062-36e8-4e95-9320-3e48f9b1bc96",
   "metadata": {
    "deletable": true,
    "editable": true,
    "frozen": false
   },
   "source": [
    "Note that a better match between full and reduced can be obtained by extending the simulation time (as opposed to reducing the time step)"
   ]
  },
  {
   "cell_type": "code",
   "execution_count": 20,
   "id": "76919ab2-d64f-4157-a588-e2912492fcce",
   "metadata": {
    "deletable": true,
    "editable": true,
    "frozen": false
   },
   "outputs": [
    {
     "name": "stdout",
     "output_type": "stream",
     "text": [
      "1.2484928508028492 1.2482165688892977 1.2459856860121936\n",
      "1.1810248513951473 1.1808350484900838 1.1770245654402385\n",
      "1.1184221584043073 1.1182860503997147 1.115525688272274\n",
      "1.0562847480942283 1.0556264679906775 1.0546088127826367\n",
      "1.0000000000000002 1.0 1.0\n",
      "1.0 1.0 1.0\n",
      "0.944933016318619 0.9453121268567607 0.9489862360555316\n",
      "0.902825418755776 0.903281796858916 0.9068390350666752\n",
      "0.8677460473347508 0.8677460473347508 0.8697842472596452\n",
      "0.8351720239056696 0.8352732119058196 0.8371665654725762\n"
     ]
    }
   ],
   "source": [
    "# fix eps.\n",
    "# x-axis, deviation from baseline freq. this is delta\n",
    "# y-axis, ratio of oscillator vs forcing fn frequency\n",
    "eps_val11 = .1\n",
    "\n",
    "del_range11 = np.linspace(-.2,.2,10)\n",
    "\n",
    "th_init = 3\n",
    "\n",
    "dt = .01;T=1000\n",
    "t = np.arange(0,T,dt)\n",
    "\n",
    "y0 = system1.lc['dat'][int((th_init/(2*np.pi))*system1.TN),:]\n",
    "\n",
    "fr_full11 = []\n",
    "fr_redu11 = []\n",
    "fr_redu11c = []\n",
    "\n",
    "\n",
    "for i in range(len(del_range11)):\n",
    "    \n",
    "    args11 = [a11,eps_val11,del_range11[i]]\n",
    "    \n",
    "    solf11 = solve_ivp(_full,[0,t[-1]],y0,t_eval=t,args=(*args11,),**kw_sim)\n",
    "    solr11a = solve_ivp(rhs_avg_2d,[0,t[-1]],[th_init,0],t_eval=t,args=(*args11,),**kw_sim)\n",
    "    #solr11b = solve_ivp(_redu,[0,t[-1]],[th_init,0,0],t_eval=t,args=(*args11,),**kw_sim)\n",
    "    solr11c = solve_ivp(rhs_avg_1d,[0,t[-1]],[th_init],t_eval=t,args=(*args11,),**kw_sim)\n",
    "    #solr11_0 = solve_ivp(rhs_avg_2d,[0,t[-1]],[th_init,0],t_eval=t,args=(*args11,1),**kw_sim)\n",
    "\n",
    "    timef = t*(a11._m[1]+del_range11[i])\n",
    "    timer = t*a11._n[1]*(1+del_range11[i])\n",
    "    freq_force = freq_est(t,a11.system1.forcing_fn(timef))\n",
    "    freq_full = freq_est(t,solf11.y.T[:,0])\n",
    "    freq_redu = freq_est(t,np.mod(solr11a.y.T[:,0]+timer,2*np.pi))\n",
    "    freq_reduc = freq_est(t,np.mod(solr11c.y.T[:,0]+timer,2*np.pi))\n",
    "    \n",
    "    print(freq_full/freq_force,freq_redu/freq_force,freq_reduc/freq_force)\n",
    "\n",
    "    # fig,axs = plt.subplots()\n",
    "    # axs.plot(t,solf11.y.T[:,0])\n",
    "    # axs.plot(t,np.mod(solr11a.y.T[:,0]+timer,2*np.pi))\n",
    "    # axs.set_xlim(t[-1]-50,t[-1])\n",
    "    # # axs.scatter(t[peak_idxs_full],solf11.y.T[peak_idxs_full,0])\n",
    "    # plt.show()\n",
    "\n",
    "    fr_full11.append(freq_full/freq_force)\n",
    "    fr_redu11.append(freq_redu/freq_force)\n",
    "    fr_redu11c.append(freq_reduc/freq_force)\n",
    "\n",
    "fr_full11 = np.asarray(fr_full11)\n",
    "fr_redu11 = np.asarray(fr_redu11)\n",
    "fr_redu11c = np.asarray(fr_redu11c)"
   ]
  },
  {
   "cell_type": "code",
   "execution_count": 21,
   "id": "f9cac1e9-f478-4ca1-b7f7-e1451432ad28",
   "metadata": {
    "deletable": true,
    "editable": true,
    "frozen": false
   },
   "outputs": [
    {
     "data": {
      "text/plain": [
       "[<matplotlib.lines.Line2D at 0x7ff8fd469b80>]"
      ]
     },
     "execution_count": 21,
     "metadata": {},
     "output_type": "execute_result"
    },
    {
     "data": {
      "image/png": "[encoded data removed]",
      "text/plain": [
       "<Figure size 432x288 with 1 Axes>"
      ]
     },
     "metadata": {
      "needs_background": "light"
     },
     "output_type": "display_data"
    }
   ],
   "source": [
    "fig,axs = plt.subplots()\n",
    "axs.plot(del_range11,fr_full11)\n",
    "axs.plot(del_range11,fr_redu11)\n",
    "axs.plot(del_range11,fr_redu11c)"
   ]
  },
  {
   "cell_type": "markdown",
   "id": "a68d2c2d-f3fd-423a-8828-0ee995473b10",
   "metadata": {
    "deletable": true,
    "editable": true,
    "frozen": false
   },
   "source": [
    "## Verify"
   ]
  },
  {
   "cell_type": "code",
   "execution_count": 75,
   "id": "1d17173c-54ff-442b-9349-b7742a53eaf6",
   "metadata": {
    "deletable": true,
    "editable": true,
    "frozen": false
   },
   "outputs": [],
   "source": [
    "eps11 = .1\n",
    "del11 = 0.02\n",
    "th_init = 3\n",
    "    # solr21b = solve_ivp(_redu,[0,t[-1]],[th_init,0,0],t_eval=t,args=(*args21,),**kw_sim)"
   ]
  },
  {
   "cell_type": "markdown",
   "id": "4961ef94-02a9-4a38-97ba-7b47baf84917",
   "metadata": {},
   "source": [
    "### Phase plane"
   ]
  },
  {
   "cell_type": "code",
   "execution_count": 76,
   "id": "327eb5e4-66b7-442c-9ccb-852d10fe75a3",
   "metadata": {
    "deletable": true,
    "editable": true,
    "frozen": false
   },
   "outputs": [
    {
     "data": {
      "image/png": "[encoded data removed]",
      "text/plain": [
       "<Figure size 432x288 with 1 Axes>"
      ]
     },
     "metadata": {
      "needs_background": "light"
     },
     "output_type": "display_data"
    }
   ],
   "source": [
    "t0 = np.arange(0,10000,.02)\n",
    "\n",
    "plt = pl_exist(eps11,del11,a11,return_data=True)\n",
    "\n",
    "out1 = solve_ivp(rhs_avg_2d,[t0[0],t0[-1]],[3,.2],t_eval=t0,args=(a11,eps11,del11))\n",
    "plt.plot(np.mod(out1.y.T[:,0],2*np.pi),out1.y.T[:,1],lw=2)\n",
    "\n",
    "plt.xlim(-1,7)\n",
    "\n",
    "plt.show()"
   ]
  },
  {
   "cell_type": "code",
   "execution_count": 77,
   "id": "c5410de9-2448-426e-8fff-524951f4a84b",
   "metadata": {},
   "outputs": [
    {
     "data": {
      "text/plain": [
       "<matplotlib.lines.Line2D at 0x7ff8fc7ee370>"
      ]
     },
     "execution_count": 77,
     "metadata": {},
     "output_type": "execute_result"
    },
    {
     "data": {
      "image/png": "[encoded data removed]",
      "text/plain": [
       "<Figure size 432x288 with 1 Axes>"
      ]
     },
     "metadata": {
      "needs_background": "light"
     },
     "output_type": "display_data"
    }
   ],
   "source": [
    "x_temp2 = np.linspace(0,2*np.pi,200)\n",
    "\n",
    "rhs = rhs_avg_1d(0,x_temp2,a11,eps11,del11)\n",
    "\n",
    "fig,axs = plt.subplots()\n",
    "axs.plot(x_temp2,rhs)\n",
    "axs.axhline(0,0,2*np.pi,ls='--',color='gray')"
   ]
  },
  {
   "cell_type": "markdown",
   "id": "184f4edf-39b7-4a6d-b755-84dafcdbb99f",
   "metadata": {},
   "source": [
    "### Integration"
   ]
  },
  {
   "cell_type": "code",
   "execution_count": 25,
   "id": "8bb46aa1-ab3e-4455-88f7-6c9355e3565c",
   "metadata": {
    "deletable": true,
    "editable": true,
    "frozen": false
   },
   "outputs": [],
   "source": [
    "dt = .02;T=500\n",
    "t = np.arange(0,T,dt)\n",
    "\n",
    "y0 = system1.lc['dat'][int((th_init/(2*np.pi))*system1.TN),:]\n",
    "\n",
    "args11 = [a11,eps11,del11]\n",
    "\n",
    "sol_full = solve_ivp(_full,[0,t[-1]],y0,t_eval=t,args=(*args11,),\n",
    "                     **kw_sim)"
   ]
  },
  {
   "cell_type": "code",
   "execution_count": 26,
   "id": "459220f5-f7cf-46eb-9806-3c2cac918ebb",
   "metadata": {},
   "outputs": [],
   "source": [
    "solr11 = solve_ivp(rhs_avg_2d,[0,t[-1]],[th_init,0],t_eval=t,args=(*args11,),**kw_sim)\n",
    "# solr11_0 = solve_ivp(rhs_avg_2d,[0,t[-1]],[th_init,0],t_eval=t,args=(*args11,1),**kw_sim)"
   ]
  },
  {
   "cell_type": "code",
   "execution_count": 27,
   "id": "b1972a51-ae35-4376-b6e7-f7fefe493cf7",
   "metadata": {},
   "outputs": [],
   "source": [
    "solr11c = solve_ivp(rhs_avg_1d,[0,t[-1]],[th_init],t_eval=t,args=(*args11,),**kw_sim)\n",
    "# solr11c_0 = solve_ivp(rhs_avg_2d,[0,t[-1]],[th_init,0],t_eval=t,args=(*args11,1),**kw_sim)"
   ]
  },
  {
   "cell_type": "code",
   "execution_count": 28,
   "id": "0ad9e099-e565-4e04-8c5c-741697384562",
   "metadata": {
    "deletable": true,
    "editable": true,
    "frozen": false
   },
   "outputs": [],
   "source": [
    "# fig,axs = plt.subplots(figsize=(15,2))\n",
    "# axs.plot(t,sol_full.y.T[:,0],label='sol')\n",
    "# axs.plot(t,a11.system1.forcing_fn(t*(1+del11)),label='forcing')\n",
    "# #axs.set_xlim(t[-1]-100,t[-1])\n",
    "# axs.legend()"
   ]
  },
  {
   "cell_type": "code",
   "execution_count": 29,
   "id": "37bd63e9-c43e-4645-8aab-4ea0b4e0b25b",
   "metadata": {
    "deletable": true,
    "editable": true,
    "frozen": false,
    "tags": []
   },
   "outputs": [],
   "source": [
    "# estimate phase for each model and compare phase difference\n",
    "tp, phase1 = get_phase(t,sol_full.y.T,skipn=1,system1=system1)\n",
    "#phase1 = np.arctan2(sol_full.y.T[:,1],sol_full.y.T[:,0])"
   ]
  },
  {
   "cell_type": "code",
   "execution_count": 30,
   "id": "44630872-246d-40e7-81f1-856fc432fb4b",
   "metadata": {
    "deletable": true,
    "editable": true,
    "frozen": false,
    "scrolled": true
   },
   "outputs": [
    {
     "data": {
      "image/png": "[encoded data removed]",
      "text/plain": [
       "<Figure size 360x216 with 1 Axes>"
      ]
     },
     "metadata": {
      "needs_background": "light"
     },
     "output_type": "display_data"
    }
   ],
   "source": [
    "fig,axs = plt.subplots(figsize=(5,3)); axs = np.asarray([axs])\n",
    "#forcing_phase = np.mod((a._m[1]+del11)*np.linspace(0,t[-1],len(phase1)),2*np.pi)\n",
    "forcing_phase = np.mod((1+del11)*np.linspace(0,tp[-1],len(tp)),2*np.pi*1)\n",
    "y = np.mod(phase1-forcing_phase,2*np.pi)\n",
    "\n",
    "axs[0].scatter(tp,y,s=1,alpha=.25)\n",
    "axs[0].plot(solr11.t,np.mod(solr11.y.T[:,0],2*np.pi),color='r')\n",
    "axs[0].plot(solr11c.t,np.mod(solr11c.y.T[:,0],2*np.pi),color='tab:green')\n",
    "# axs[0].plot(solr11_0.t,np.mod(solr11_0.y.T[:,0],2*np.pi),color='g')\n",
    "# axs[0].plot(solq11.t,np.mod(solq11.y.T[:,0] - solq11.y.T[:,2],2*np.pi),color='orange')\n",
    "\n",
    "axs[0].set_ylim(0,2*np.pi)\n",
    "\n",
    "#axs[0].set_xlim(0,100)\n",
    "\n",
    "x2 = np.linspace(0,2*np.pi,1000)\n",
    "#axs[1].axhline(0,0,2*np.pi,color='gray')\n",
    "#axs[1].plot(x2,ct_redu(0,x2,eps11,system11a,del11,a))\n",
    "\n",
    "# axs[1].plot(sol_full.y.T[:,0],sol_full.y.T[:,1])\n",
    "# axs[2].plot(t,np.abs(system11b(t,del11)-sol_full.y.T[:,0]))\n",
    "# axs[2].set_xlim(t[-1]-50,t[-1])"
   ]
  },
  {
   "cell_type": "markdown",
   "id": "8709c9c2-b907-4fe8-b255-409c8938c6d5",
   "metadata": {
    "deletable": true,
    "editable": true,
    "frozen": false
   },
   "source": [
    "# 2:1"
   ]
  },
  {
   "cell_type": "code",
   "execution_count": 31,
   "id": "a6c3bde6-cc02-4d3f-8796-af13218d24a8",
   "metadata": {
    "deletable": true,
    "editable": true,
    "frozen": false
   },
   "outputs": [
    {
     "name": "stdout",
     "output_type": "stream",
     "text": [
      "e1,e2\n",
      "psi**6*zx0_6(t) + psi**5*zx0_5(t) + psi**4*zx0_4(t) + psi**3*zx0_3(t) + psi**2*zx0_2(t) + psi*zx0_1(t) + zx0_0(t)\n",
      "psi**6*ix0_6(t) + psi**5*ix0_5(t) + psi**4*ix0_4(t) + psi**3*ix0_3(t) + psi**2*ix0_2(t) + psi*ix0_1(t) + ix0_0(t)\n",
      "\n",
      "0 imp0 for z zx0_0(th0)\n",
      "0 imp0 for i ix0_0(th0)\n",
      "1 imp0 for z zx0_1(th0)\n",
      "1 imp0 for i ix0_1(th0)\n",
      "2 imp0 for z zx0_2(th0)\n",
      "2 imp0 for i ix0_2(th0)\n",
      "3 imp0 for z zx0_3(th0)\n",
      "3 imp0 for i ix0_3(th0)\n",
      "4 imp0 for z zx0_4(th0)\n",
      "4 imp0 for i ix0_4(th0)\n",
      "5 imp0 for z zx0_5(th0)\n",
      "5 imp0 for i ix0_5(th0)\n",
      "6 imp0 for z zx0_6(th0)\n",
      "6 imp0 for i ix0_6(th0)\n",
      "\n",
      "hz0,hi0,imp\n",
      "0 uf(t)*zx0_0(2*t + th0)\n",
      "1 uf(t)*zx0_1(2*t + th0)\n",
      "2 uf(t)*zx0_2(2*t + th0)\n",
      "3 uf(t)*zx0_3(2*t + th0)\n",
      "4 uf(t)*zx0_4(2*t + th0)\n",
      "5 uf(t)*zx0_5(2*t + th0)\n",
      "6 uf(t)*zx0_6(2*t + th0)\n",
      "\n",
      "0 ix0_0(2*t + th0)*uf(t)\n",
      "1 ix0_1(2*t + th0)*uf(t)\n",
      "2 ix0_2(2*t + th0)*uf(t)\n",
      "3 ix0_3(2*t + th0)*uf(t)\n",
      "4 ix0_4(2*t + th0)*uf(t)\n",
      "5 ix0_5(2*t + th0)*uf(t)\n",
      "6 ix0_6(2*t + th0)*uf(t)\n",
      "\n",
      "* Computing p...\n",
      "* Computing H cglf0, order=0...\n",
      "* Computing p...\n",
      "* Computing H cglf0, order=1...\n",
      "* Computing p...\n",
      "* Computing H cglf0, order=2...\n",
      "* Computing p...\n",
      "* Computing H cglf0, order=3...\n",
      "* Computing p...\n",
      "* Computing H cglf0, order=4...\n",
      "* Computing p...\n",
      "* Computing H cglf0, order=5...\n",
      "* Computing p...\n",
      "* Computing H cglf0, order=6...\n"
     ]
    }
   ],
   "source": [
    "a21 = nmc(system1,None,\n",
    "          recompute_list=['p_data_cglf0','h_data_cglf0'],\n",
    "          _n=('om0',2),_m=('om1',1),\n",
    "          NP=200,NH=200)"
   ]
  },
  {
   "cell_type": "markdown",
   "id": "05a0c273-fa0c-4aac-82c9-393449514829",
   "metadata": {},
   "source": [
    "## Tongue"
   ]
  },
  {
   "cell_type": "code",
   "execution_count": 32,
   "id": "09d64424-4b0f-4511-a825-81f2baa4896e",
   "metadata": {
    "deletable": true,
    "editable": true,
    "frozen": false
   },
   "outputs": [
    {
     "name": "stdout",
     "output_type": "stream",
     "text": [
      "1.0     \n",
      "1.0     \n"
     ]
    }
   ],
   "source": [
    "d1 = np.linspace(-15,0,10,endpoint=False)\n",
    "#dtemp = np.linspace(-1e-3,1e-3,31)\n",
    "\n",
    "del_list_21a,ve_list_21a = get_tongue_2d(2**d1,a21,deps=.01,max_eps=.3)\n",
    "del_list_21b,ve_list_21b = get_tongue_2d(-2**d1,a21,deps=.01,max_eps=.3)"
   ]
  },
  {
   "cell_type": "code",
   "execution_count": 33,
   "id": "92d768ce-01f8-4de8-8d48-e1181e620584",
   "metadata": {},
   "outputs": [
    {
     "name": "stdout",
     "output_type": "stream",
     "text": [
      "1.0      \n",
      "1.0      \n"
     ]
    }
   ],
   "source": [
    "d1 = np.linspace(-10,-1,50,endpoint=False)\n",
    "d21a_ld,v21a_ld = get_tongue_1d(2**d1,a21,deps=.01,max_eps=.4)\n",
    "d21b_ld,v21b_ld = get_tongue_1d(-2**d1,a21,deps=.01,max_eps=.4)"
   ]
  },
  {
   "cell_type": "code",
   "execution_count": 34,
   "id": "47541a04-4895-449f-b076-89c47c02377b",
   "metadata": {
    "deletable": true,
    "editable": true,
    "frozen": false
   },
   "outputs": [
    {
     "data": {
      "text/plain": [
       "[<matplotlib.lines.Line2D at 0x7ff9069e0370>]"
      ]
     },
     "execution_count": 34,
     "metadata": {},
     "output_type": "execute_result"
    },
    {
     "data": {
      "image/png": "[encoded data removed]",
      "text/plain": [
       "<Figure size 432x288 with 1 Axes>"
      ]
     },
     "metadata": {
      "needs_background": "light"
     },
     "output_type": "display_data"
    }
   ],
   "source": [
    "fig,axs = plt.subplots()\n",
    "axs.plot(del_list_21a,ve_list_21a,color='tab:blue')\n",
    "axs.plot(del_list_21b,ve_list_21b,color='tab:blue')\n",
    "\n",
    "axs.plot(d21a_ld,v21a_ld,color='tab:red')\n",
    "axs.plot(d21b_ld,v21b_ld,color='tab:red')"
   ]
  },
  {
   "cell_type": "markdown",
   "id": "56042485-6efd-4ea1-801f-ab90ce3d9e0f",
   "metadata": {},
   "source": [
    "## Frequency ratio"
   ]
  },
  {
   "cell_type": "code",
   "execution_count": 35,
   "id": "cf9eba4e-d4d3-4f97-aa23-4fb073464f94",
   "metadata": {
    "deletable": true,
    "editable": true,
    "frozen": false
   },
   "outputs": [
    {
     "name": "stdout",
     "output_type": "stream",
     "text": [
      "-0.03 2.049511285771866 2.0494699824671008\n",
      "-0.02333333333333333 2.0239719542331223 2.024380218873411\n",
      "-0.016666666666666666 1.9999989577036126 1.9999989577036126\n",
      "-0.010000000000000002 1.99997323806083 2.000013381238166\n",
      "-0.003333333333333334 2.0000401582234 2.0000401582234004\n",
      "0.003333333333333334 2.0000045766415844 1.9999644046137721\n",
      "0.009999999999999995 2.0 2.0000000000000004\n",
      "0.016666666666666663 2.0000809061488667 2.000000502502462\n",
      "0.02333333333333333 1.966963660026028 1.973919508127549\n",
      "0.03 1.9540650306409717 1.9569035796615741\n"
     ]
    }
   ],
   "source": [
    "# fix eps.\n",
    "# x-axis, deviation from baseline freq. this is delta\n",
    "# y-axis, ratio of oscillator vs forcing fn frequency\n",
    "eps_val21 = .1\n",
    "\n",
    "del_range21 = np.linspace(-.03,.03,10)\n",
    "# del_range21 = [-.015]\n",
    "\n",
    "th_init = 3\n",
    "\n",
    "dt = .01;T=1000\n",
    "t = np.arange(0,T,dt)\n",
    "\n",
    "y0 = system1.lc['dat'][int((th_init/(2*np.pi))*system1.TN),:]\n",
    "\n",
    "fr_full21 = []\n",
    "fr_redu21 = []\n",
    "fr_redu21b = []\n",
    "fr_redu21c = []\n",
    "\n",
    "for i in range(len(del_range21)):\n",
    "    \n",
    "    args21 = [a21,eps_val21,del_range21[i]]\n",
    "    \n",
    "    solf21 = solve_ivp(_full,[0,t[-1]],y0,t_eval=t,args=(*args21,),**kw_sim)    \n",
    "    solr21a = solve_ivp(rhs_avg_2d,[0,t[-1]],[th_init,0],t_eval=t,args=(*args21,),**kw_sim)\n",
    "    solr21c = solve_ivp(rhs_avg_1d,[0,t[-1]],[th_init],t_eval=t,args=(*args21,),**kw_sim)\n",
    "    # solr21c = solve_ivp(_redu_moving,[0,t[-1]],[th_init,0,0],t_eval=t,args=(*args21,),**kw_sim)\n",
    "    #solr21_0 = solve_ivp(rhs_avg_2d,[0,t[-1]],[th_init,0],t_eval=t,args=(*args21,1),**kw_sim)\n",
    "\n",
    "    timef = t*(a21._m[1]+del_range21[i])\n",
    "    timer = t*a21._n[1]*(1+del_range21[i]/a21._m[1])\n",
    "    freq_force = freq_est(t,a21.system1.forcing_fn(timef))\n",
    "    freq_full = freq_est(t,solf21.y.T[:,0])\n",
    "    freq_redu = freq_est(t,np.mod(solr21a.y.T[:,0]+timer,2*np.pi))\n",
    "    # freq_redub = freq_est(t,np.mod(solr21b.y.T[:,0],2*np.pi))\n",
    "    freq_reduc = freq_est(t,np.mod(solr21c.y.T[:,0]+timer,2*np.pi))\n",
    "\n",
    "    print(del_range21[i],freq_full/freq_force,freq_redu/freq_force)\n",
    "\n",
    "    # fig,axs = plt.subplots()\n",
    "    # axs.plot(t,solf21.y.T[:,0])\n",
    "    # axs.plot(t,np.mod(solr21a.y.T[:,0]+timer,2*np.pi))\n",
    "    # axs.plot(t,np.mod(solr21b.y.T[:,0],2*np.pi))\n",
    "    # axs.plot(t,a21.system2(timef))\n",
    "    # axs.set_xlim(t[-1]-50,t[-1])\n",
    "    # #axs.scatter(t[peak_idxs_full],solf21.y.T[peak_idxs_full,0])\n",
    "    # #axs.scatter(t[peak_idxs_full],np.mod(solr21a.y.T[peak_idxs_full,0],2*np.pi))\n",
    "    # plt.show()\n",
    "\n",
    "    fr_full21.append(freq_full/freq_force)\n",
    "    fr_redu21.append(freq_redu/freq_force)\n",
    "    # fr_redu21b.append(freq_redub/freq_force)\n",
    "    fr_redu21c.append(freq_reduc/freq_force)\n",
    "\n",
    "fr_full21 = np.asarray(fr_full21)\n",
    "fr_redu21 = np.asarray(fr_redu21)\n",
    "# fr_redu21b = np.asarray(fr_redu21b)\n",
    "fr_redu21c = np.asarray(fr_redu21c)"
   ]
  },
  {
   "cell_type": "code",
   "execution_count": 36,
   "id": "794854c4-f1eb-4a4d-98af-b306885548b0",
   "metadata": {
    "deletable": true,
    "editable": true,
    "frozen": false
   },
   "outputs": [
    {
     "data": {
      "text/plain": [
       "<matplotlib.legend.Legend at 0x7ff9069a4850>"
      ]
     },
     "execution_count": 36,
     "metadata": {},
     "output_type": "execute_result"
    },
    {
     "data": {
      "image/png": "[encoded data removed]",
      "text/plain": [
       "<Figure size 432x288 with 1 Axes>"
      ]
     },
     "metadata": {
      "needs_background": "light"
     },
     "output_type": "display_data"
    }
   ],
   "source": [
    "fig,axs = plt.subplots()\n",
    "axs.plot(del_range21,fr_full21,label='f')\n",
    "axs.plot(del_range21,fr_redu21,label='avg')\n",
    "# axs.plot(del_range21,fr_redu21b,label='r')\n",
    "axs.plot(del_range21,fr_redu21c,label='r1')\n",
    "axs.axhline(2,0,1,color='gray',ls='--')\n",
    "axs.legend()"
   ]
  },
  {
   "cell_type": "code",
   "execution_count": 37,
   "id": "8269ce6b-be0e-4c67-a4bd-a9f7f86b03e8",
   "metadata": {},
   "outputs": [
    {
     "data": {
      "text/plain": [
       "[<matplotlib.lines.Line2D at 0x7ff9069489a0>]"
      ]
     },
     "execution_count": 37,
     "metadata": {},
     "output_type": "execute_result"
    },
    {
     "data": {
      "image/png": "[encoded data removed]",
      "text/plain": [
       "<Figure size 432x288 with 1 Axes>"
      ]
     },
     "metadata": {
      "needs_background": "light"
     },
     "output_type": "display_data"
    }
   ],
   "source": [
    "fig,axs = plt.subplots()\n",
    "axs.plot(del_range21,fr_full21-2+eps_val21)\n",
    "axs.plot(del_range21,fr_redu21-2+eps_val21)\n",
    "\n",
    "axs.plot(del_list_21a,ve_list_21a,color='tab:blue')\n",
    "axs.plot(del_list_21b,ve_list_21b,color='tab:blue')"
   ]
  },
  {
   "cell_type": "markdown",
   "id": "0a85dacf-b839-4861-b70c-513269b85ca5",
   "metadata": {},
   "source": [
    "* Okay when the full freq ratio appears to be shifted relative to the reduced freq, it might be because the om_fix term is messing things up somewhere. So far this is the most plausible explanation for all the shifts. Note that the response requires om_fix to exist in the rhs, but the response functions, when using them in the integration of the reduced models, do not require om_fix. Also, the forcing function needs to be multiplied by both omx and om_fix, but I can do this explicitly for now."
   ]
  },
  {
   "cell_type": "code",
   "execution_count": 38,
   "id": "0fe35b20-e057-490c-812c-9914d2ba0947",
   "metadata": {},
   "outputs": [],
   "source": [
    "etemp = .05\n",
    "dtemp = -.02\n",
    "args21 = [a21,etemp,dtemp]\n",
    "\n",
    "solf21 = solve_ivp(_full,[0,t[-1]],y0,t_eval=t,args=(*args21,),**kw_sim)    \n",
    "solr21a = solve_ivp(rhs_avg_2d,[0,t[-1]],[th_init,0],t_eval=t,args=(*args21,),**kw_sim)\n",
    "solr21c = solve_ivp(rhs_avg_1d,[0,t[-1]],[th_init],t_eval=t,args=(*args21,),**kw_sim)\n",
    "\n",
    "tp21_temp, phase21_temp = get_phase(solf21.t,solf21.y.T,skipn=20,system1=system1)"
   ]
  },
  {
   "cell_type": "code",
   "execution_count": 39,
   "id": "d199efb4-33ba-4221-883b-c2d72e261732",
   "metadata": {},
   "outputs": [
    {
     "data": {
      "text/plain": [
       "[<matplotlib.lines.Line2D at 0x7ff906488b80>]"
      ]
     },
     "execution_count": 39,
     "metadata": {},
     "output_type": "execute_result"
    },
    {
     "data": {
      "image/png": "[encoded data removed]",
      "text/plain": [
       "<Figure size 432x288 with 1 Axes>"
      ]
     },
     "metadata": {
      "needs_background": "light"
     },
     "output_type": "display_data"
    }
   ],
   "source": [
    "fig,axs = plt.subplots()\n",
    "axs.plot(tp21_temp,np.mod(phase21_temp-tp21_temp*a21._n[1]*(1+dtemp),2*np.pi),alpha=.5)\n",
    "axs.plot(t,np.mod(solr21a.y.T[:,0],2*np.pi))\n",
    "axs.plot(t,np.mod(solr21c.y.T[:,0],2*np.pi))\n",
    "# axs.plot(t,np.mod(solr21b.y.T[:,0]-t*a21._n[1]*(1+dtemp),2*np.pi))\n",
    "\n",
    "# axs.set_xlim(t[-1]-50,t[-1])\n",
    "#axs.set_xlim(0,50)"
   ]
  },
  {
   "cell_type": "markdown",
   "id": "612ac8fc-758d-4b3b-9c45-134e51a39127",
   "metadata": {
    "deletable": true,
    "editable": true,
    "frozen": false
   },
   "source": [
    "## Verify"
   ]
  },
  {
   "cell_type": "code",
   "execution_count": 40,
   "id": "41227729-57aa-4d78-a6f4-8a88eb7be5dd",
   "metadata": {
    "deletable": true,
    "editable": true,
    "frozen": false
   },
   "outputs": [],
   "source": [
    "eps21 = .05\n",
    "del21 = 0.018\n",
    "th_init21 = 3\n",
    "ps_init21 = 0"
   ]
  },
  {
   "cell_type": "markdown",
   "id": "0ff72871-f266-40a3-8da5-7d324f0b2cb2",
   "metadata": {},
   "source": [
    "### Phase plane"
   ]
  },
  {
   "cell_type": "code",
   "execution_count": 41,
   "id": "dac2d0ad-5e25-46ca-b982-d6cf1f0383ef",
   "metadata": {
    "editable": true,
    "frozen": false
   },
   "outputs": [
    {
     "data": {
      "image/png": "[encoded data removed]",
      "text/plain": [
       "<Figure size 432x288 with 1 Axes>"
      ]
     },
     "metadata": {
      "needs_background": "light"
     },
     "output_type": "display_data"
    }
   ],
   "source": [
    "t0 = np.arange(0,10000,.02)\n",
    "\n",
    "plt = pl_exist(eps21,del21,a21,return_data=True)\n",
    "\n",
    "out1 = solve_ivp(rhs_avg_2d,[t0[0],t0[-1]],[th_init21,ps_init21],t_eval=t0,args=(a21,eps21,del21))\n",
    "plt.plot(np.mod(out1.y.T[:,0],2*np.pi),out1.y.T[:,1],lw=2)\n",
    "\n",
    "plt.xlim(-1,7)\n",
    "\n",
    "plt.show()"
   ]
  },
  {
   "cell_type": "code",
   "execution_count": 42,
   "id": "b9d05477-f332-4c12-b509-4cd9caee2c28",
   "metadata": {},
   "outputs": [
    {
     "data": {
      "text/plain": [
       "<matplotlib.lines.Line2D at 0x7ff90689d430>"
      ]
     },
     "execution_count": 42,
     "metadata": {},
     "output_type": "execute_result"
    },
    {
     "data": {
      "image/png": "[encoded data removed]",
      "text/plain": [
       "<Figure size 432x288 with 1 Axes>"
      ]
     },
     "metadata": {
      "needs_background": "light"
     },
     "output_type": "display_data"
    }
   ],
   "source": [
    "x_temp2 = np.linspace(0,2*np.pi,200)\n",
    "\n",
    "rhs = rhs_avg_1d(0,x_temp2,a21,eps21,del21)\n",
    "\n",
    "fig,axs = plt.subplots()\n",
    "axs.plot(x_temp2,rhs)\n",
    "axs.axhline(0,0,2*np.pi,ls='--',color='gray')"
   ]
  },
  {
   "cell_type": "markdown",
   "id": "2ad4c7d2-2746-4c97-99fe-f0c38f60e307",
   "metadata": {},
   "source": [
    "### Integration"
   ]
  },
  {
   "cell_type": "code",
   "execution_count": 43,
   "id": "0c570d0b-40df-4923-988e-10d14922f847",
   "metadata": {
    "deletable": true,
    "editable": true,
    "frozen": false
   },
   "outputs": [],
   "source": [
    "dt = .01;T=500\n",
    "t = np.arange(0,T,dt)\n",
    "\n",
    "init21 = system1.lc['dat'][int((th_init/(2*np.pi))*system1.TN),:]\n",
    "\n",
    "args21 = [a21,eps21,del21]\n",
    "\n",
    "solf21 = solve_ivp(_full,[0,t[-1]],init21,t_eval=t,args=(*args21,),**kw_sim)"
   ]
  },
  {
   "cell_type": "code",
   "execution_count": 44,
   "id": "17ca2387-38f4-4f12-9836-14f83e545d79",
   "metadata": {
    "deletable": true,
    "editable": true,
    "frozen": false
   },
   "outputs": [],
   "source": [
    "solr21 = solve_ivp(rhs_avg_2d,[0,t[-1]],[th_init21,ps_init21],t_eval=t,args=(*args21,),**kw_sim)"
   ]
  },
  {
   "cell_type": "code",
   "execution_count": 45,
   "id": "e7c1d789-9b20-473c-b9e6-4e5ccaf4d3c8",
   "metadata": {},
   "outputs": [],
   "source": [
    "solr21c = solve_ivp(rhs_avg_1d,[0,t[-1]],[th_init21],t_eval=t,args=(*args21,),**kw_sim)"
   ]
  },
  {
   "cell_type": "code",
   "execution_count": 46,
   "id": "f9313944-2ad8-4094-a3cd-d4ffbd0db425",
   "metadata": {
    "deletable": true,
    "editable": true,
    "frozen": false
   },
   "outputs": [],
   "source": [
    "# solq21 = solve_ivp(_redu,[0,t[-1]],[th_init21,ps_init21,0],t_eval=t,args=(*args21,),**kw_sim)"
   ]
  },
  {
   "cell_type": "code",
   "execution_count": 47,
   "id": "d652ae58-e363-413b-800c-2696cffd4a4f",
   "metadata": {
    "deletable": true,
    "editable": true,
    "frozen": false
   },
   "outputs": [],
   "source": [
    "# solw21 = solve_ivp(_redu_moving,[0,t[-1]],[th_init21,ps_init21,0],t_eval=t,args=(*args21,),**kw_sim)"
   ]
  },
  {
   "cell_type": "code",
   "execution_count": 48,
   "id": "1f22c943-4f5a-4385-b729-08ab901eded6",
   "metadata": {
    "deletable": true,
    "editable": true,
    "frozen": false
   },
   "outputs": [],
   "source": [
    "# solx21 = solve_ivp(_redu_moving_avg,[0,t[-1]],[th_init21,ps_init21,0],t_eval=t,args=(*args21,),**kw_sim)"
   ]
  },
  {
   "cell_type": "code",
   "execution_count": 49,
   "id": "4842940c-7424-4bfe-84e1-dc7dffdb1750",
   "metadata": {
    "deletable": true,
    "editable": true,
    "frozen": false
   },
   "outputs": [],
   "source": [
    "# soly21 = solve_ivp(_redu_moving_avg2,[0,t[-1]],[th_init21,ps_init21,0],t_eval=t,args=(*args21,),**kw_sim)"
   ]
  },
  {
   "cell_type": "code",
   "execution_count": 50,
   "id": "e29cd710-76dd-4b73-980e-09ea9e6ef5e4",
   "metadata": {
    "deletable": true,
    "editable": true,
    "frozen": false
   },
   "outputs": [
    {
     "data": {
      "text/plain": [
       "(399.99, 499.99)"
      ]
     },
     "execution_count": 50,
     "metadata": {},
     "output_type": "execute_result"
    },
    {
     "data": {
      "image/png": "[encoded data removed]",
      "text/plain": [
       "<Figure size 1080x144 with 1 Axes>"
      ]
     },
     "metadata": {
      "needs_background": "light"
     },
     "output_type": "display_data"
    }
   ],
   "source": [
    "fig,axs = plt.subplots(figsize=(15,2))\n",
    "axs.plot(t,solf21.y.T[:,0])\n",
    "axs.plot(t,a21.system1.forcing_fn(t*(a21._m[1]+del21)))\n",
    "axs.set_xlim(t[-1]-100,t[-1])"
   ]
  },
  {
   "cell_type": "code",
   "execution_count": 51,
   "id": "b350aeab-66ef-4c0e-9bca-5877d1ec5e6f",
   "metadata": {
    "deletable": true,
    "editable": true,
    "frozen": false,
    "tags": []
   },
   "outputs": [],
   "source": [
    "# estimate phase for each model and compare phase difference\n",
    "tp21, phase21 = get_phase(solf21.t,solf21.y.T,skipn=20,system1=system1)\n",
    "#phase1 = np.arctan2(sol_full.y.T[:,1],sol_full.y.T[:,0])"
   ]
  },
  {
   "cell_type": "code",
   "execution_count": 52,
   "id": "8a04f08c-df6b-425b-988a-eb91cc702e21",
   "metadata": {
    "deletable": true,
    "editable": true,
    "frozen": false
   },
   "outputs": [
    {
     "data": {
      "text/plain": [
       "(0.0, 6.283185307179586)"
      ]
     },
     "execution_count": 52,
     "metadata": {},
     "output_type": "execute_result"
    },
    {
     "data": {
      "image/png": "[encoded data removed]",
      "text/plain": [
       "<Figure size 360x216 with 1 Axes>"
      ]
     },
     "metadata": {
      "needs_background": "light"
     },
     "output_type": "display_data"
    }
   ],
   "source": [
    "fig,axs = plt.subplots(figsize=(5,3));axs = np.asarray([axs])\n",
    "#forcing_phase = np.mod((a._m[1]+del11)*np.linspace(0,t[-1],len(phase1)),2*np.pi)\n",
    "forcing_phase21 = np.mod((a21._m[1]+del21)*np.linspace(0,tp21[-1],len(tp21)),2*np.pi*a21._m[1])\n",
    "y21 = phase21-a21.om*forcing_phase21\n",
    "\n",
    "#axs[0].scatter(tp12,np.mod(y12,np.pi),s=1,alpha=.5,label='full')\n",
    "\n",
    "axs[0].scatter(tp21,np.mod(y21,2*np.pi/a21._m[1]),s=1)\n",
    "axs[0].plot(solr21.t,np.mod(solr21.y.T[:,0],2*np.pi),color='r')\n",
    "axs[0].plot(solr21c.t,np.mod(solr21c.y.T[:,0],2*np.pi),color='orange')\n",
    "# axs.plot(solr21_0.t,np.mod(solr21_0.y.T[:,0],2*np.pi),color='g')\n",
    "\n",
    "# axs[0].scatter(solq21.t[::50],np.mod(solq21.y.T[::50,0]-a21._n[1]*solq21.y.T[::50,2],a21._n[1]*2*np.pi),color='orange',alpha=.5,s=1,label='redu')\n",
    "# axs[0].plot(solw21.t,np.mod(conv(solw21.y.T[:,0]),a21._n[1]*2*np.pi),color='gray',alpha=.75,label='r no move')\n",
    "# axs[0].plot(solx21.t,np.mod(solx21.y.T[:,0],a21._n[1]*2*np.pi),color='b',alpha=.75,label='redu avg') #redu avg\n",
    "# axs[0].plot(soly21.t,np.mod(soly21.y.T[:,0],a21._n[1]*2*np.pi),color='purple',alpha=.75,label='redu avg2') #redu avg 2\n",
    "\n",
    "# axs[1].plot(solq21.t,conv(solq21.y.T[:,1]),color='orange',alpha=.5,label='redu')\n",
    "# axs[1].plot(solw21.t,conv(solw21.y.T[:,1]),label='r no move',alpha=.5,color='gray')\n",
    "# axs[1].plot(solx21.t,solx21.y.T[:,1],label='r avg',color='b') #redu avg\n",
    "# axs[1].plot(soly21.t,soly21.y.T[:,1],label='r avg2',color='purple') #redu avg 2\n",
    "\n",
    "\n",
    "axs[0].set_ylim(0,2*np.pi)\n",
    "\n",
    "# axs[0].legend()\n",
    "# axs[1].legend()"
   ]
  },
  {
   "cell_type": "markdown",
   "id": "2da0d669-dbd4-412a-b489-c91cfcfae454",
   "metadata": {
    "deletable": true,
    "editable": true,
    "frozen": false
   },
   "source": [
    "# 3:1"
   ]
  },
  {
   "cell_type": "code",
   "execution_count": 53,
   "id": "62b0853c-f513-40cd-9d6b-edb88712e009",
   "metadata": {
    "deletable": true,
    "editable": true,
    "frozen": false
   },
   "outputs": [
    {
     "name": "stdout",
     "output_type": "stream",
     "text": [
      "e1,e2\n",
      "psi**6*zx0_6(t) + psi**5*zx0_5(t) + psi**4*zx0_4(t) + psi**3*zx0_3(t) + psi**2*zx0_2(t) + psi*zx0_1(t) + zx0_0(t)\n",
      "psi**6*ix0_6(t) + psi**5*ix0_5(t) + psi**4*ix0_4(t) + psi**3*ix0_3(t) + psi**2*ix0_2(t) + psi*ix0_1(t) + ix0_0(t)\n",
      "\n",
      "0 imp0 for z zx0_0(th0)\n",
      "0 imp0 for i ix0_0(th0)\n",
      "1 imp0 for z zx0_1(th0)\n",
      "1 imp0 for i ix0_1(th0)\n",
      "2 imp0 for z zx0_2(th0)\n",
      "2 imp0 for i ix0_2(th0)\n",
      "3 imp0 for z zx0_3(th0)\n",
      "3 imp0 for i ix0_3(th0)\n",
      "4 imp0 for z zx0_4(th0)\n",
      "4 imp0 for i ix0_4(th0)\n",
      "5 imp0 for z zx0_5(th0)\n",
      "5 imp0 for i ix0_5(th0)\n",
      "6 imp0 for z zx0_6(th0)\n",
      "6 imp0 for i ix0_6(th0)\n",
      "\n",
      "hz0,hi0,imp\n",
      "0 uf(t)*zx0_0(3*t + th0)\n",
      "1 uf(t)*zx0_1(3*t + th0)\n",
      "2 uf(t)*zx0_2(3*t + th0)\n",
      "3 uf(t)*zx0_3(3*t + th0)\n",
      "4 uf(t)*zx0_4(3*t + th0)\n",
      "5 uf(t)*zx0_5(3*t + th0)\n",
      "6 uf(t)*zx0_6(3*t + th0)\n",
      "\n",
      "0 ix0_0(3*t + th0)*uf(t)\n",
      "1 ix0_1(3*t + th0)*uf(t)\n",
      "2 ix0_2(3*t + th0)*uf(t)\n",
      "3 ix0_3(3*t + th0)*uf(t)\n",
      "4 ix0_4(3*t + th0)*uf(t)\n",
      "5 ix0_5(3*t + th0)*uf(t)\n",
      "6 ix0_6(3*t + th0)*uf(t)\n",
      "\n",
      "* Computing p...\n",
      "* Computing H cglf0, order=0...\n",
      "* Computing p...\n",
      "* Computing H cglf0, order=1...\n",
      "* Computing p...\n",
      "* Computing H cglf0, order=2...\n",
      "* Computing p...\n",
      "* Computing H cglf0, order=3...\n",
      "* Computing p...\n",
      "* Computing H cglf0, order=4...\n",
      "* Computing p...\n",
      "* Computing H cglf0, order=5...\n",
      "* Computing p...\n",
      "* Computing H cglf0, order=6...\n"
     ]
    }
   ],
   "source": [
    "a31 = nmc(system1,None,\n",
    "        _n=('om0',3),_m=('om1',1),\n",
    "        NP=500,NH=500)"
   ]
  },
  {
   "cell_type": "markdown",
   "id": "4eedbbd6-3a8a-44e9-a0af-3714024a1750",
   "metadata": {},
   "source": [
    "## Tongue"
   ]
  },
  {
   "cell_type": "code",
   "execution_count": 54,
   "id": "c9c30331-c30f-465a-ad56-736f77c2853e",
   "metadata": {
    "deletable": true,
    "editable": true,
    "frozen": false
   },
   "outputs": [
    {
     "name": "stdout",
     "output_type": "stream",
     "text": [
      "1.0     \n",
      "1.0     \n"
     ]
    }
   ],
   "source": [
    "d1 = np.linspace(-15,0,10,endpoint=False)\n",
    "#dtemp = np.linspace(-1e-3,1e-3,31)\n",
    "\n",
    "del_list_31a,ve_list_31a = get_tongue_2d(2**d1,a31,deps=.01,max_eps=.3)\n",
    "del_list_31b,ve_list_31b = get_tongue_2d(-2**d1,a31,deps=.01,max_eps=.3)"
   ]
  },
  {
   "cell_type": "code",
   "execution_count": 55,
   "id": "ff7812b1-9d26-48ed-9022-12aa7e3878d0",
   "metadata": {},
   "outputs": [
    {
     "name": "stdout",
     "output_type": "stream",
     "text": [
      "1.0      \n",
      "1.0      \n"
     ]
    }
   ],
   "source": [
    "d1 = np.linspace(-15,0,100,endpoint=False)\n",
    "d31a_ld,v31a_ld = get_tongue_1d(2**d1,a31,deps=.001,max_eps=.4)\n",
    "d31b_ld,v31b_ld = get_tongue_1d(-2**d1,a31,deps=.001,max_eps=.4)"
   ]
  },
  {
   "cell_type": "code",
   "execution_count": 56,
   "id": "8d9cd563-74a6-475f-9556-ff9e85e7552d",
   "metadata": {
    "deletable": true,
    "editable": true,
    "frozen": false
   },
   "outputs": [
    {
     "data": {
      "text/plain": [
       "[<matplotlib.lines.Line2D at 0x7ff8fde23d60>]"
      ]
     },
     "execution_count": 56,
     "metadata": {},
     "output_type": "execute_result"
    },
    {
     "data": {
      "image/png": "[encoded data removed]",
      "text/plain": [
       "<Figure size 432x288 with 1 Axes>"
      ]
     },
     "metadata": {
      "needs_background": "light"
     },
     "output_type": "display_data"
    }
   ],
   "source": [
    "fig,axs = plt.subplots()\n",
    "axs.plot(del_list_31a,ve_list_31a,color='tab:blue')\n",
    "axs.plot(del_list_31b,ve_list_31b,color='tab:blue')\n",
    "\n",
    "axs.plot(d31a_ld,v31a_ld,color='tab:red')\n",
    "axs.plot(d31b_ld,v31b_ld,color='tab:red')"
   ]
  },
  {
   "cell_type": "markdown",
   "id": "d0d8af7e-a766-4b88-ac51-08dcb276f639",
   "metadata": {},
   "source": [
    "## Frequency ratio"
   ]
  },
  {
   "cell_type": "code",
   "execution_count": 57,
   "id": "523fa3e0-865a-4845-8788-c2a28b714661",
   "metadata": {
    "deletable": true,
    "editable": true,
    "frozen": false
   },
   "outputs": [
    {
     "name": "stdout",
     "output_type": "stream",
     "text": [
      "-0.015 3.0447180002512244 3.0448411684551178\n",
      "-0.012857142857142857 3.0322373603894857 3.032604666861309\n",
      "-0.010714285714285714 3.0278413140404092 3.0279636461204884\n",
      "-0.00857142857142857 3.021728769587182 3.021728769587182\n",
      "-0.006428571428571428 3.0028726203374085 3.0025101442636553\n",
      "-0.004285714285714285 3.0004039827950857 3.0002830865108248\n",
      "-0.002142857142857141 3.000228817551651 3.000107674499986\n",
      "1.734723475976807e-18 2.9999845678536046 2.9999845678536046\n",
      "0.0021428571428571443 3.0002412642245355 3.0001206272617607\n",
      "0.0042857142857142885 3.0000113652448746 3.0001322554514043\n",
      "0.006428571428571429 2.980646555049764 2.984118548546569\n",
      "0.008571428571428574 2.981218028630262 2.9856604397079636\n",
      "0.010714285714285718 2.9730471942022003 2.9737642534603586\n",
      "0.012857142857142859 2.961276023907898 2.962107776261937\n",
      "0.015 2.9605327144120244 2.9608897061779\n"
     ]
    }
   ],
   "source": [
    "# fix eps.\n",
    "# x-axis, deviation from baseline freq. this is delta\n",
    "# y-axis, ratio of oscillator vs forcing fn frequency\n",
    "eps_val31 = .1\n",
    "\n",
    "del_range31 = np.linspace(-.015,.015,15)\n",
    "\n",
    "th_init = 3\n",
    "\n",
    "dt = .01;T=500\n",
    "t = np.arange(0,T,dt)\n",
    "\n",
    "y0 = system1.lc['dat'][int((th_init/(2*np.pi))*system1.TN),:]\n",
    "\n",
    "fr_full31 = []\n",
    "fr_redu31 = []\n",
    "fr_redu31c = []\n",
    "\n",
    "for i in range(len(del_range31)):\n",
    "    \n",
    "    args31 = [a31,eps_val31,del_range31[i]]\n",
    "    \n",
    "    solf31 = solve_ivp(_full,[0,t[-1]],y0,t_eval=t,args=(*args31,),**kw_sim)\n",
    "    solr31a = solve_ivp(rhs_avg_2d,[0,t[-1]],[th_init,0],t_eval=t,args=(*args31,),**kw_sim)\n",
    "    solr31c = solve_ivp(rhs_avg_1d,[0,t[-1]],[th_init],t_eval=t,args=(*args31,),**kw_sim)\n",
    "    #solr31_0 = solve_ivp(rhs_avg_2d,[0,t[-1]],[th_init,0],t_eval=t,args=(*args31,1),**kw_sim)\n",
    "\n",
    "    timef = t*(a31._m[1]+del_range31[i])\n",
    "    timer = a31._n[1]*t*(1+del_range31[i])\n",
    "    freq_force = freq_est(t,a31.system1.forcing_fn(timef))\n",
    "    freq_full = freq_est(t,solf31.y.T[:,0])\n",
    "    freq_redu = freq_est(t,np.mod(solr31a.y.T[:,0]+timer,2*np.pi))\n",
    "    freq_reduc = freq_est(t,np.mod(solr31c.y.T[:,0]+timer,2*np.pi))\n",
    "    \n",
    "    print(del_range31[i],freq_full/freq_force,freq_redu/freq_force)\n",
    "\n",
    "    # fig,axs = plt.subplots()\n",
    "    # axs.plot(t,solf31.y.T[:,0])\n",
    "    # axs.plot(t,np.mod(solr31a.y.T[:,0],2*np.pi))\n",
    "    # axs.plot(t,a31.system2(t*(a31._m[1]+del_range[i])))\n",
    "    # axs.set_xlim(t[-1]-50,t[-1])\n",
    "    # axs.scatter(t[peak_idxs_full],solf31.y.T[peak_idxs_full,0])\n",
    "    # axs.scatter(t[peak_idxs_full],np.mod(solr31a.y.T[peak_idxs_full,0],2*np.pi))\n",
    "    # plt.show()\n",
    "\n",
    "    fr_full31.append(freq_full/freq_force)\n",
    "    fr_redu31.append(freq_redu/freq_force)\n",
    "    fr_redu31c.append(freq_reduc/freq_force)\n",
    "\n",
    "fr_full31 = np.asarray(fr_full31)\n",
    "fr_redu31 = np.asarray(fr_redu31)\n",
    "fr_redu31c = np.asarray(fr_redu31c)"
   ]
  },
  {
   "cell_type": "code",
   "execution_count": 58,
   "id": "9a9bad66-46bd-4d52-b0d5-1621e98859c3",
   "metadata": {
    "deletable": true,
    "editable": true,
    "frozen": false
   },
   "outputs": [
    {
     "data": {
      "text/plain": [
       "[<matplotlib.lines.Line2D at 0x7ff8fdde4580>]"
      ]
     },
     "execution_count": 58,
     "metadata": {},
     "output_type": "execute_result"
    },
    {
     "data": {
      "image/png": "[encoded data removed]",
      "text/plain": [
       "<Figure size 432x288 with 1 Axes>"
      ]
     },
     "metadata": {
      "needs_background": "light"
     },
     "output_type": "display_data"
    }
   ],
   "source": [
    "fig,axs = plt.subplots()\n",
    "axs.plot(del_range31,fr_full31)\n",
    "axs.plot(del_range31,fr_redu31)\n",
    "axs.plot(del_range31,fr_redu31c)"
   ]
  },
  {
   "cell_type": "markdown",
   "id": "82b99996-1619-40b7-8c07-eb8cd7813e53",
   "metadata": {
    "deletable": true,
    "editable": true,
    "frozen": false
   },
   "source": [
    "## Verify"
   ]
  },
  {
   "cell_type": "code",
   "execution_count": 59,
   "id": "41a8f335-a240-47ce-ae9c-67e105409eab",
   "metadata": {
    "deletable": true,
    "editable": true,
    "frozen": false
   },
   "outputs": [],
   "source": [
    "eps31 = .1\n",
    "del31 = 0\n",
    "th_init31 = 3\n",
    "ps_init31 = 0"
   ]
  },
  {
   "cell_type": "markdown",
   "id": "9a2733a8-2038-406c-9a1d-7a613a60e036",
   "metadata": {},
   "source": [
    "### Phase plane"
   ]
  },
  {
   "cell_type": "code",
   "execution_count": 60,
   "id": "b8f02b01-7b59-4fb9-9a54-c1e4ed8bbc3c",
   "metadata": {
    "editable": true,
    "frozen": false
   },
   "outputs": [
    {
     "data": {
      "image/png": "[encoded data removed]",
      "text/plain": [
       "<Figure size 432x288 with 1 Axes>"
      ]
     },
     "metadata": {
      "needs_background": "light"
     },
     "output_type": "display_data"
    }
   ],
   "source": [
    "t0 = np.arange(0,1000,.02)\n",
    "\n",
    "plt = pl_exist(eps31,del31,a31,return_data=True)\n",
    "\n",
    "out1 = solve_ivp(rhs_avg_2d,[t0[0],t0[-1]],[th_init31,ps_init31],t_eval=t0,args=(a31,eps31,del31))\n",
    "plt.plot(np.mod(out1.y.T[:,0],2*np.pi),out1.y.T[:,1],lw=2)\n",
    "\n",
    "plt.xlim(-1,7)\n",
    "\n",
    "plt.show()"
   ]
  },
  {
   "cell_type": "code",
   "execution_count": 61,
   "id": "f02c6f10-f779-4804-95f2-b07517447307",
   "metadata": {},
   "outputs": [
    {
     "data": {
      "text/plain": [
       "<matplotlib.lines.Line2D at 0x7ff8fdcee8b0>"
      ]
     },
     "execution_count": 61,
     "metadata": {},
     "output_type": "execute_result"
    },
    {
     "data": {
      "image/png": "[encoded data removed]",
      "text/plain": [
       "<Figure size 432x288 with 1 Axes>"
      ]
     },
     "metadata": {
      "needs_background": "light"
     },
     "output_type": "display_data"
    }
   ],
   "source": [
    "x_temp2 = np.linspace(0,2*np.pi,200)\n",
    "\n",
    "rhs = rhs_avg_1d(0,x_temp2,a31,eps31,del31)\n",
    "\n",
    "fig,axs = plt.subplots()\n",
    "axs.plot(x_temp2,rhs)\n",
    "axs.axhline(0,0,2*np.pi,ls='--',color='gray')"
   ]
  },
  {
   "cell_type": "markdown",
   "id": "d8a5f8aa-2f76-4e7a-b3a0-5360b6ceb287",
   "metadata": {},
   "source": [
    "### Integration"
   ]
  },
  {
   "cell_type": "code",
   "execution_count": 62,
   "id": "ea944e08-6246-49ab-b03b-861851452cf1",
   "metadata": {
    "deletable": true,
    "editable": true,
    "frozen": false
   },
   "outputs": [],
   "source": [
    "dt = .01;T=500\n",
    "t = np.arange(0,T,dt)\n",
    "\n",
    "init31 = system1.lc['dat'][int((th_init/(2*np.pi))*system1.TN),:]\n",
    "\n",
    "args31 = [a31,eps31,del31]\n",
    "\n",
    "solf31 = solve_ivp(_full,[0,t[-1]],init31,t_eval=t,args=(*args31,),**kw_sim)"
   ]
  },
  {
   "cell_type": "code",
   "execution_count": 63,
   "id": "4afffaa4-605f-4989-aad1-7c458253fa76",
   "metadata": {
    "deletable": true,
    "editable": true,
    "frozen": false
   },
   "outputs": [],
   "source": [
    "solr31 = solve_ivp(rhs_avg_2d,[0,t[-1]],[th_init31,ps_init31],t_eval=t,args=(*args31,),**kw_sim)"
   ]
  },
  {
   "cell_type": "code",
   "execution_count": 64,
   "id": "95a92fee-f8d2-4dae-8010-24d844bf35e9",
   "metadata": {},
   "outputs": [],
   "source": [
    "solr31c = solve_ivp(rhs_avg_1d,[0,t[-1]],[th_init31],t_eval=t,args=(*args31,),**kw_sim)"
   ]
  },
  {
   "cell_type": "code",
   "execution_count": 65,
   "id": "dbdb9377-1b09-4744-ba1f-b77a85299c67",
   "metadata": {
    "deletable": true,
    "editable": true,
    "frozen": false
   },
   "outputs": [],
   "source": [
    "# solw31 = solve_ivp(_redu_moving,[0,t[-1]],[th_init31,ps_init31,0],t_eval=t,args=(*args31,),**kw_sim)"
   ]
  },
  {
   "cell_type": "code",
   "execution_count": 66,
   "id": "70aec54d-4399-419c-b7cb-5f5cdc1cdddd",
   "metadata": {
    "deletable": true,
    "editable": true,
    "frozen": false
   },
   "outputs": [],
   "source": [
    "# solx31 = solve_ivp(_redu_moving_avg,[0,t[-1]],[th_init31,ps_init31,0],t_eval=t,args=(*args31,),**kw_sim)"
   ]
  },
  {
   "cell_type": "code",
   "execution_count": 67,
   "id": "775aecb9-cd0e-40e2-b869-50e3f6674bd2",
   "metadata": {
    "deletable": true,
    "editable": true,
    "frozen": false
   },
   "outputs": [],
   "source": [
    "# soly31 = solve_ivp(_redu_moving_avg2,[0,t[-1]],[th_init31,ps_init31,0],t_eval=t,args=(*args31,),**kw_sim)"
   ]
  },
  {
   "cell_type": "code",
   "execution_count": 68,
   "id": "d4922ff4-01cf-48a9-ab82-ea9d2952e5c6",
   "metadata": {
    "deletable": true,
    "editable": true,
    "frozen": false
   },
   "outputs": [],
   "source": [
    "# fig,axs = plt.subplots(figsize=(15,2))\n",
    "# axs.plot(t,solf31.y.T[:,0])\n",
    "# axs.plot(t,a31.system1.forcing_fn(t*(a31._m[1]+del31)))\n",
    "# #axs.set_xlim(t[-1]-300,t[-1])"
   ]
  },
  {
   "cell_type": "code",
   "execution_count": 69,
   "id": "bb0a7981-695e-4de8-b7d1-c1c42687a72e",
   "metadata": {
    "deletable": true,
    "editable": true,
    "frozen": false,
    "tags": []
   },
   "outputs": [],
   "source": [
    "# estimate phase for each model and compare phase difference\n",
    "tp31, phase31 = get_phase(solf31.t,solf31.y.T,skipn=20,system1=system1)\n",
    "#phase1 = np.arctan2(sol_full.y.T[:,1],sol_full.y.T[:,0])"
   ]
  },
  {
   "cell_type": "code",
   "execution_count": 70,
   "id": "ebe79d67-9b3b-4daa-844a-212754aef114",
   "metadata": {
    "deletable": true,
    "editable": true,
    "frozen": false
   },
   "outputs": [
    {
     "data": {
      "text/plain": [
       "(0.0, 6.283185307179586)"
      ]
     },
     "execution_count": 70,
     "metadata": {},
     "output_type": "execute_result"
    },
    {
     "data": {
      "image/png": "[encoded data removed]",
      "text/plain": [
       "<Figure size 360x216 with 1 Axes>"
      ]
     },
     "metadata": {
      "needs_background": "light"
     },
     "output_type": "display_data"
    }
   ],
   "source": [
    "fig,axs = plt.subplots(figsize=(5,3));axs = np.asarray([axs])\n",
    "#forcing_phase = np.mod((a._m[1]+del11)*np.linspace(0,t[-1],len(phase1)),2*np.pi)\n",
    "forcing_phase31 = np.mod((a31._m[1]+del31)*np.linspace(0,tp31[-1],len(tp31)),2*np.pi*a31._m[1])\n",
    "y31 = np.mod(phase31-a31.om*forcing_phase31,2*np.pi)\n",
    "\n",
    "#axs[0].scatter(tp12,np.mod(y12,np.pi),s=1,alpha=.5,label='full')\n",
    "\n",
    "axs[0].scatter(tp31,y31,s=1)\n",
    "axs[0].plot(solr31.t,np.mod(solr31.y.T[:,0],2*np.pi),color='r')\n",
    "axs[0].plot(solr31c.t,np.mod(solr31c.y.T[:,0],2*np.pi),color='orange')\n",
    "# axs.plot(solr31_0.t,np.mod(solr31_0.y.T[:,0],2*np.pi),color='g')\n",
    "\n",
    "# axs[0].scatter(solq31.t[::50],np.mod(solq31.y.T[::50,0]-a31._n[1]*solq31.y.T[::50,2],a31._n[1]*2*np.pi),color='orange',alpha=.5,s=1,label='redu')\n",
    "# axs[0].plot(solw31.t,np.mod(conv(solw31.y.T[:,0]),a31._n[1]*2*np.pi),color='gray',alpha=.75,label='r no move')\n",
    "# axs[0].plot(solx31.t,np.mod(solx31.y.T[:,0],a31._n[1]*2*np.pi),color='b',alpha=.75,label='redu avg') #redu avg\n",
    "# axs[0].plot(soly31.t,np.mod(soly31.y.T[:,0],a31._n[1]*2*np.pi),color='purple',alpha=.75,label='redu avg2') #redu avg 2\n",
    "\n",
    "# axs[1].plot(solq31.t,conv(solq31.y.T[:,1]),color='orange',alpha=.5,label='redu')\n",
    "# axs[1].plot(solw31.t,conv(solw31.y.T[:,1]),label='r no move',alpha=.5,color='gray')\n",
    "# axs[1].plot(solx31.t,solx31.y.T[:,1],label='r avg',color='b') #redu avg\n",
    "# axs[1].plot(soly31.t,soly31.y.T[:,1],label='r avg2',color='purple') #redu avg 2\n",
    "\n",
    "\n",
    "axs[0].set_ylim(0,2*np.pi)\n",
    "\n",
    "# axs[0].legend()\n",
    "# axs[1].legend()"
   ]
  },
  {
   "cell_type": "markdown",
   "id": "51d99fbf-22a8-4de3-8e88-7d26625fb9f4",
   "metadata": {
    "editable": true,
    "frozen": false
   },
   "source": [
    "# 4:1"
   ]
  },
  {
   "cell_type": "code",
   "execution_count": 15,
   "id": "575eeea9-9d42-49d7-ba78-5f18d145063e",
   "metadata": {
    "editable": true,
    "frozen": false
   },
   "outputs": [
    {
     "name": "stdout",
     "output_type": "stream",
     "text": [
      "* Loading p...\n",
      "* Computing H cglf0, order=0...\n",
      "* Computing H cglf0, order=1...\n",
      "* Computing H cglf0, order=2...\n",
      "* Computing H cglf0, order=3...\n",
      "* Computing H cglf0, order=4...\n",
      "* Computing H cglf0, order=5...\n",
      "* Computing H cglf0, order=6...\n"
     ]
    }
   ],
   "source": [
    "a41 = nmc(system1,None,\n",
    "        _n=('om0',4),_m=('om1',1),\n",
    "        NP=500,NH=500)"
   ]
  },
  {
   "cell_type": "markdown",
   "id": "ad9507cd-c0dc-4541-9257-f602e5394927",
   "metadata": {},
   "source": [
    "## Tongue"
   ]
  },
  {
   "cell_type": "code",
   "execution_count": 16,
   "id": "eb602382-03a0-46f8-b45d-4bc6ec632567",
   "metadata": {
    "editable": true,
    "frozen": false
   },
   "outputs": [
    {
     "name": "stdout",
     "output_type": "stream",
     "text": [
      "1.0     \n",
      "1.0     \n"
     ]
    }
   ],
   "source": [
    "d1 = np.linspace(-15,0,10,endpoint=False)\n",
    "#dtemp = np.linspace(-1e-3,1e-3,41)\n",
    "\n",
    "del_list_41a,ve_list_41a = get_tongue_2d(2**d1,a41,deps=.01,max_eps=.3)\n",
    "del_list_41b,ve_list_41b = get_tongue_2d(-2**d1,a41,deps=.01,max_eps=.3)"
   ]
  },
  {
   "cell_type": "code",
   "execution_count": 17,
   "id": "7f41fb40-860b-4df5-9470-15c3eb87c915",
   "metadata": {},
   "outputs": [
    {
     "name": "stdout",
     "output_type": "stream",
     "text": [
      "1.0           \n",
      "1.0      \n"
     ]
    }
   ],
   "source": [
    "d1 = np.linspace(-15,0,100,endpoint=False)\n",
    "d41a_ld,v41a_ld = get_tongue_1d(2**d1,a41,deps=.001,max_eps=.4)\n",
    "d41b_ld,v41b_ld = get_tongue_1d(-2**d1,a41,deps=.001,max_eps=.4)"
   ]
  },
  {
   "cell_type": "code",
   "execution_count": 18,
   "id": "67575bc0-5aba-4be5-b445-89b8a2d0eca0",
   "metadata": {
    "editable": true,
    "frozen": false
   },
   "outputs": [
    {
     "data": {
      "text/plain": [
       "[<matplotlib.lines.Line2D at 0x7f73509fcc40>]"
      ]
     },
     "execution_count": 18,
     "metadata": {},
     "output_type": "execute_result"
    },
    {
     "data": {
      "image/png": "[encoded data removed]",
      "text/plain": [
       "<Figure size 432x288 with 1 Axes>"
      ]
     },
     "metadata": {
      "needs_background": "light"
     },
     "output_type": "display_data"
    }
   ],
   "source": [
    "fig,axs = plt.subplots()\n",
    "axs.plot(del_list_41a,ve_list_41a,color='tab:blue')\n",
    "axs.plot(del_list_41b,ve_list_41b,color='tab:blue')\n",
    "\n",
    "axs.plot(d41a_ld,v41a_ld,color='tab:red')\n",
    "axs.plot(d41b_ld,v41b_ld,color='tab:red')"
   ]
  },
  {
   "cell_type": "markdown",
   "id": "19acf976-bb67-4684-b8b3-32cc95c41106",
   "metadata": {},
   "source": [
    "## Frequency ratio"
   ]
  },
  {
   "cell_type": "code",
   "execution_count": 20,
   "id": "8b3b9498-5074-4917-bade-0b6cf4e9e49a",
   "metadata": {
    "editable": true,
    "frozen": false
   },
   "outputs": [
    {
     "name": "stdout",
     "output_type": "stream",
     "text": [
      "-0.001 4.0031379888775955 4.0028154932690505\n",
      "-0.0008571428571428571 4.002646429025191 4.002485188031434\n",
      "-0.0007142857142857143 4.002640550424595 4.00247929017922\n",
      "-0.0005714285714285715 4.0021488913063905 4.002148891306391\n",
      "-0.00042857142857142855 4.001820432233842 4.001820432233841\n",
      "-0.00028571428571428563 4.00165119318857 4.001489940319727\n",
      "-0.00014285714285714281 4.00115939513054 4.00115939513054\n",
      "0.0 4.00099207579459 4.0011533345941475\n",
      "0.00014285714285714292 4.000663477427815 4.000824729482529\n",
      "0.00028571428571428584 4.000332798994576 4.000655315445496\n",
      "0.00042857142857142877 4.000004134315647 4.000326637269312\n",
      "0.0005714285714285715 3.9995142179115106 3.999997932592168\n",
      "0.0007142857142857144 3.9988609960393267 3.999344631717137\n",
      "0.0008571428571428573 3.9983710796351897 3.9990158741972968\n",
      "0.001 3.99755671794045 3.9983625469837363\n"
     ]
    }
   ],
   "source": [
    "# fix eps.\n",
    "# x-axis, deviation from baseline freq. this is delta\n",
    "# y-axis, ratio of oscillator vs forcing fn frequency\n",
    "eps_val41 = .05\n",
    "\n",
    "del_range41 = np.linspace(-.001,.001,15)\n",
    "\n",
    "th_init = 3\n",
    "\n",
    "dt = .01;T=500\n",
    "t = np.arange(0,T,dt)\n",
    "\n",
    "y0 = system1.lc['dat'][int((th_init/(2*np.pi))*system1.TN),:]\n",
    "\n",
    "fr_full41 = []\n",
    "fr_redu41 = []\n",
    "fr_redu41c = []\n",
    "\n",
    "for i in range(len(del_range41)):\n",
    "    \n",
    "    args41 = [a41,eps_val41,del_range41[i]]\n",
    "    \n",
    "    solf41 = solve_ivp(_full,[0,t[-1]],y0,t_eval=t,args=(*args41,),**kw_sim)\n",
    "    solr41a = solve_ivp(rhs_avg_2d,[0,t[-1]],[th_init,0],t_eval=t,args=(*args41,),**kw_sim)\n",
    "    solr41c = solve_ivp(rhs_avg_1d,[0,t[-1]],[th_init],t_eval=t,args=(*args41,),**kw_sim)\n",
    "    #solr41_0 = solve_ivp(rhs_avg_2d,[0,t[-1]],[th_init,0],t_eval=t,args=(*args41,1),**kw_sim)\n",
    "\n",
    "    timef = t*(a41._m[1]+del_range41[i])\n",
    "    timer = a41._n[1]*t*(1+del_range41[i])\n",
    "    freq_force = freq_est(t,a41.system1.forcing_fn(timef))\n",
    "    freq_full = freq_est(t,solf41.y.T[:,0])\n",
    "    freq_redu = freq_est(t,np.mod(solr41a.y.T[:,0]+timer,2*np.pi))\n",
    "    freq_reduc = freq_est(t,np.mod(solr41c.y.T[:,0]+timer,2*np.pi))\n",
    "    \n",
    "    print(del_range41[i],freq_full/freq_force,freq_redu/freq_force)\n",
    "\n",
    "    # fig,axs = plt.subplots()\n",
    "    # axs.plot(t,solf41.y.T[:,0])\n",
    "    # axs.plot(t,np.mod(solr41a.y.T[:,0],2*np.pi))\n",
    "    # axs.plot(t,a41.system2(t*(a41._m[1]+del_range[i])))\n",
    "    # axs.set_xlim(t[-1]-50,t[-1])\n",
    "    # axs.scatter(t[peak_idxs_full],solf41.y.T[peak_idxs_full,0])\n",
    "    # axs.scatter(t[peak_idxs_full],np.mod(solr41a.y.T[peak_idxs_full,0],2*np.pi))\n",
    "    # plt.show()\n",
    "\n",
    "    fr_full41.append(freq_full/freq_force)\n",
    "    fr_redu41.append(freq_redu/freq_force)\n",
    "    fr_redu41c.append(freq_reduc/freq_force)\n",
    "\n",
    "fr_full41 = np.asarray(fr_full41)\n",
    "fr_redu41 = np.asarray(fr_redu41)\n",
    "fr_redu41c = np.asarray(fr_redu41c)"
   ]
  },
  {
   "cell_type": "code",
   "execution_count": 21,
   "id": "673d950c-2ddf-48b1-a47a-6159407ce19e",
   "metadata": {
    "editable": true,
    "frozen": false
   },
   "outputs": [
    {
     "data": {
      "text/plain": [
       "[<matplotlib.lines.Line2D at 0x7f7350966640>]"
      ]
     },
     "execution_count": 21,
     "metadata": {},
     "output_type": "execute_result"
    },
    {
     "data": {
      "image/png": "[encoded data removed]",
      "text/plain": [
       "<Figure size 432x288 with 1 Axes>"
      ]
     },
     "metadata": {
      "needs_background": "light"
     },
     "output_type": "display_data"
    }
   ],
   "source": [
    "fig,axs = plt.subplots()\n",
    "axs.plot(del_range41,fr_full41)\n",
    "axs.plot(del_range41,fr_redu41)\n",
    "axs.plot(del_range41,fr_redu41c)"
   ]
  },
  {
   "cell_type": "markdown",
   "id": "df39742e-16a6-4a4c-ac5c-7e71d2c9ea64",
   "metadata": {
    "deletable": true,
    "editable": true,
    "frozen": false
   },
   "source": [
    "# All tongues"
   ]
  },
  {
   "cell_type": "code",
   "execution_count": 71,
   "id": "6318f6b0-cb16-4e95-87d4-224ea0f8a8dc",
   "metadata": {
    "deletable": true,
    "editable": true,
    "frozen": false
   },
   "outputs": [
    {
     "data": {
      "text/plain": [
       "[Text(1.0, 0, '$1{:}1$'), Text(2.0, 0, '$2{:}1$'), Text(3.0, 0, '$3{:}1$')]"
      ]
     },
     "execution_count": 71,
     "metadata": {},
     "output_type": "execute_result"
    },
    {
     "data": {
      "image/png": "[encoded data removed]",
      "text/plain": [
       "<Figure size 576x216 with 1 Axes>"
      ]
     },
     "metadata": {
      "needs_background": "light"
     },
     "output_type": "display_data"
    }
   ],
   "source": [
    "#fig,axs = plt.subplots()\n",
    "import matplotlib\n",
    "cmap = matplotlib.colormaps['viridis']\n",
    "fsize = 12\n",
    "\n",
    "fig,axs = plt.subplots(figsize=(8,3))\n",
    "\n",
    "axs.plot(2/(del_list_21a+1),ve_list_21a,color=cmap(.2),label='2:1',ls='--')\n",
    "axs.plot(2/(del_list_21b+1),ve_list_21b,color=cmap(.2),ls='--')\n",
    "\n",
    "axs.plot(3/(del_list_31a+1),ve_list_21a,color=cmap(.4),label='3:1',ls='--')\n",
    "axs.plot(3/(del_list_31b+1),ve_list_21b,color=cmap(.4),ls='--')\n",
    "\n",
    "#axs.plot((del_list_13a+3)/1,ve_list_13a,color=cmap(0),label='1:3',ls='-.')\n",
    "#axs.plot((del_list_13b+3)/1,ve_list_13b,color=cmap(0),ls='-.')\n",
    "\n",
    "#axs.plot((del_list_12a+2)/1,ve_list_12a,color=cmap(.2),label='1:2',ls='--')\n",
    "#axs.plot((del_list_12b+2)/1,ve_list_12b,color=cmap(.2),ls='--')\n",
    "\n",
    "#axs.plot((del_list_23a+3)/2,ve_list_23a,color=cmap(.4),label='2:3',ls=':')\n",
    "#axs.plot((del_list_23b+3)/2,ve_list_23b,color=cmap(.4),ls=':')\n",
    "\n",
    "axs.plot(1/(d11a+1),v11a,label='1:1',color=cmap(.6))\n",
    "axs.plot(1/(d11b+1),v11b,label='1:1',color=cmap(.6))\n",
    "\n",
    "axs.set_xlim(0,4)\n",
    "axs.set_ylim(0,.25)\n",
    "\n",
    "#axs.set_yscale('log')\n",
    "axs.set_xlabel(r'$\\omega_X/(\\omega_f+\\delta)$',fontsize=fsize)\n",
    "axs.set_ylabel(r'$\\varepsilon$',fontsize=fsize)\n",
    "\n",
    "axs.set_xticks([1/1,2/1,3/1])\n",
    "axs.set_xticklabels(['$1{:}1$','$2{:}1$','$3{:}1$'],fontsize=fsize)\n",
    "\n",
    "#plt.savefig('../')"
   ]
  },
  {
   "cell_type": "code",
   "execution_count": null,
   "id": "8feb5913-7cdc-4a9a-a34f-9606c7b70ee1",
   "metadata": {},
   "outputs": [],
   "source": []
  }
 ],
 "metadata": {
  "kernelspec": {
   "display_name": "Python 3 (ipykernel)",
   "language": "python",
   "name": "python3"
  },
  "language_info": {
   "codemirror_mode": {
    "name": "ipython",
    "version": 3
   },
   "file_extension": ".py",
   "mimetype": "text/x-python",
   "name": "python",
   "nbconvert_exporter": "python",
   "pygments_lexer": "ipython3",
   "version": "3.8.10"
  }
 },
 "nbformat": 4,
 "nbformat_minor": 5
}
